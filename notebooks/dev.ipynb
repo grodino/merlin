{
 "cells": [
  {
   "cell_type": "code",
   "execution_count": 42,
   "metadata": {},
   "outputs": [],
   "source": [
    "import polars as pl\n",
    "from plotly import express as px"
   ]
  },
  {
   "cell_type": "code",
   "execution_count": 43,
   "metadata": {},
   "outputs": [],
   "source": [
    "audit = (\n",
    "    pl.read_ndjson(\"../generated/dev5_ACSEmployment_binarized_extended.jsonl\")\n",
    "    # .select(pl.all().exclude(\"model_params\"))\n",
    "    .group_by(\n",
    "        \"dataset\",\n",
    "        \"model_name\",\n",
    "        \"model_params\",\n",
    "        \"strategy\",\n",
    "        \"strategy_params\",\n",
    "        \"audit_budget\",\n",
    "        \"detection_tpr\",\n",
    "        \"detection_tnr\",\n",
    "    )\n",
    "    .mean()\n",
    "    .sort(\"detection_tpr\", \"detection_tnr\", descending=[False, True, False])\n",
    ")\n",
    "audit = audit.with_columns(\n",
    "    strategy_json=pl.lit(\n",
    "        audit.select(\"strategy_params\").unnest(\"strategy_params\").write_ndjson()\n",
    "    )\n",
    "    .str.strip_chars(\"\\n\")\n",
    "    .str.split(\"\\n\")\n",
    "    .arr.explode(),\n",
    "    model_json=pl.lit(\n",
    "        audit.select(\"model_params\").unnest(\"model_params\").write_ndjson()\n",
    "    )\n",
    "    .str.strip_chars(\"\\n\")\n",
    "    .str.split(\"\\n\")\n",
    "    .arr.explode(),\n",
    ")"
   ]
  },
  {
   "cell_type": "code",
   "execution_count": 44,
   "metadata": {},
   "outputs": [
    {
     "data": {
      "text/html": [
       "<div><style>\n",
       ".dataframe > thead > tr,\n",
       ".dataframe > tbody > tr {\n",
       "  text-align: right;\n",
       "  white-space: pre-wrap;\n",
       "}\n",
       "</style>\n",
       "<small>shape: (405, 15)</small><table border=\"1\" class=\"dataframe\"><thead><tr><th>dataset</th><th>model_name</th><th>model_params</th><th>strategy</th><th>strategy_params</th><th>audit_budget</th><th>detection_tpr</th><th>detection_tnr</th><th>entropy</th><th>utility_user</th><th>utility_audit</th><th>demographic_parity_user</th><th>demographic_parity_audit</th><th>strategy_json</th><th>model_json</th></tr><tr><td>str</td><td>str</td><td>struct[1]</td><td>str</td><td>struct[2]</td><td>i64</td><td>f64</td><td>f64</td><td>f64</td><td>f64</td><td>f64</td><td>f64</td><td>f64</td><td>str</td><td>str</td></tr></thead><tbody><tr><td>&quot;ACSEmployment&quot;</td><td>&quot;unconstrained&quot;</td><td>{null}</td><td>&quot;ROC_mitigation&quot;</td><td>{null,0.355172}</td><td>1000</td><td>1.0</td><td>0.95</td><td>2.3527e9</td><td>0.823434</td><td>0.8232</td><td>0.054173</td><td>0.072337</td><td>&quot;{&quot;epsilon&quot;:null,&quot;theta&quot;:0.3551…</td><td>&quot;{&quot;epsilon&quot;:null}&quot;</td></tr><tr><td>&quot;ACSEmployment&quot;</td><td>&quot;unconstrained&quot;</td><td>{null}</td><td>&quot;ROC_mitigation&quot;</td><td>{null,0.313793}</td><td>1000</td><td>1.0</td><td>0.95</td><td>2.3527e9</td><td>0.823452</td><td>0.8264</td><td>0.056176</td><td>0.072925</td><td>&quot;{&quot;epsilon&quot;:null,&quot;theta&quot;:0.3137…</td><td>&quot;{&quot;epsilon&quot;:null}&quot;</td></tr><tr><td>&quot;ACSEmployment&quot;</td><td>&quot;unconstrained&quot;</td><td>{null}</td><td>&quot;ROC_mitigation&quot;</td><td>{null,0.493103}</td><td>1000</td><td>1.0</td><td>0.95</td><td>2.3527e9</td><td>0.82414</td><td>0.8244</td><td>0.055321</td><td>0.074874</td><td>&quot;{&quot;epsilon&quot;:null,&quot;theta&quot;:0.4931…</td><td>&quot;{&quot;epsilon&quot;:null}&quot;</td></tr><tr><td>&quot;ACSEmployment&quot;</td><td>&quot;unconstrained&quot;</td><td>{null}</td><td>&quot;ROC_mitigation&quot;</td><td>{null,0.451724}</td><td>1000</td><td>1.0</td><td>0.95</td><td>2.3527e9</td><td>0.822869</td><td>0.8262</td><td>0.054311</td><td>0.067792</td><td>&quot;{&quot;epsilon&quot;:null,&quot;theta&quot;:0.4517…</td><td>&quot;{&quot;epsilon&quot;:null}&quot;</td></tr><tr><td>&quot;ACSEmployment&quot;</td><td>&quot;unconstrained&quot;</td><td>{null}</td><td>&quot;ROC_mitigation&quot;</td><td>{null,0.534483}</td><td>1000</td><td>1.0</td><td>0.95</td><td>2.3527e9</td><td>0.822887</td><td>0.8206</td><td>0.024473</td><td>0.037189</td><td>&quot;{&quot;epsilon&quot;:null,&quot;theta&quot;:0.5344…</td><td>&quot;{&quot;epsilon&quot;:null}&quot;</td></tr><tr><td>&hellip;</td><td>&hellip;</td><td>&hellip;</td><td>&hellip;</td><td>&hellip;</td><td>&hellip;</td><td>&hellip;</td><td>&hellip;</td><td>&hellip;</td><td>&hellip;</td><td>&hellip;</td><td>&hellip;</td><td>&hellip;</td><td>&hellip;</td><td>&hellip;</td></tr><tr><td>&quot;ACSEmployment&quot;</td><td>&quot;unconstrained&quot;</td><td>{null}</td><td>&quot;randomized_response&quot;</td><td>{9.689655,null}</td><td>1000</td><td>0.5</td><td>1.0</td><td>2.3527e9</td><td>0.823363</td><td>0.8242</td><td>0.055877</td><td>0.069355</td><td>&quot;{&quot;epsilon&quot;:9.689655172413794,&quot;…</td><td>&quot;{&quot;epsilon&quot;:null}&quot;</td></tr><tr><td>&quot;ACSEmployment&quot;</td><td>&quot;unconstrained&quot;</td><td>{null}</td><td>&quot;randomized_response&quot;</td><td>{9.068966,null}</td><td>1000</td><td>0.5</td><td>1.0</td><td>2.3527e9</td><td>0.824087</td><td>0.8246</td><td>0.055615</td><td>0.073606</td><td>&quot;{&quot;epsilon&quot;:9.068965517241379,&quot;…</td><td>&quot;{&quot;epsilon&quot;:null}&quot;</td></tr><tr><td>&quot;ACSEmployment&quot;</td><td>&quot;unconstrained&quot;</td><td>{null}</td><td>&quot;randomized_response&quot;</td><td>{5.344828,null}</td><td>1000</td><td>0.5</td><td>1.0</td><td>2.3527e9</td><td>0.822852</td><td>0.8246</td><td>0.054805</td><td>0.075756</td><td>&quot;{&quot;epsilon&quot;:5.344827586206897,&quot;…</td><td>&quot;{&quot;epsilon&quot;:null}&quot;</td></tr><tr><td>&quot;ACSEmployment&quot;</td><td>&quot;unconstrained&quot;</td><td>{null}</td><td>&quot;randomized_response&quot;</td><td>{7.206897,null}</td><td>1000</td><td>0.5</td><td>1.0</td><td>2.3527e9</td><td>0.823804</td><td>0.8204</td><td>0.055705</td><td>0.075412</td><td>&quot;{&quot;epsilon&quot;:7.206896551724138,&quot;…</td><td>&quot;{&quot;epsilon&quot;:null}&quot;</td></tr><tr><td>&quot;ACSEmployment&quot;</td><td>&quot;unconstrained&quot;</td><td>{null}</td><td>&quot;randomized_response&quot;</td><td>{1.62069,null}</td><td>1000</td><td>0.5</td><td>1.0</td><td>2.3527e9</td><td>0.823134</td><td>0.8244</td><td>0.056587</td><td>0.068548</td><td>&quot;{&quot;epsilon&quot;:1.6206896551724137,…</td><td>&quot;{&quot;epsilon&quot;:null}&quot;</td></tr></tbody></table></div>"
      ],
      "text/plain": [
       "shape: (405, 15)\n",
       "┌───────────┬───────────┬───────────┬───────────┬───┬───────────┬───────────┬───────────┬──────────┐\n",
       "│ dataset   ┆ model_nam ┆ model_par ┆ strategy  ┆ … ┆ demograph ┆ demograph ┆ strategy_ ┆ model_js │\n",
       "│ ---       ┆ e         ┆ ams       ┆ ---       ┆   ┆ ic_parity ┆ ic_parity ┆ json      ┆ on       │\n",
       "│ str       ┆ ---       ┆ ---       ┆ str       ┆   ┆ _user     ┆ _audit    ┆ ---       ┆ ---      │\n",
       "│           ┆ str       ┆ struct[1] ┆           ┆   ┆ ---       ┆ ---       ┆ str       ┆ str      │\n",
       "│           ┆           ┆           ┆           ┆   ┆ f64       ┆ f64       ┆           ┆          │\n",
       "╞═══════════╪═══════════╪═══════════╪═══════════╪═══╪═══════════╪═══════════╪═══════════╪══════════╡\n",
       "│ ACSEmploy ┆ unconstra ┆ {null}    ┆ ROC_mitig ┆ … ┆ 0.054173  ┆ 0.072337  ┆ {\"epsilon ┆ {\"epsilo │\n",
       "│ ment      ┆ ined      ┆           ┆ ation     ┆   ┆           ┆           ┆ \":null,\"t ┆ n\":null} │\n",
       "│           ┆           ┆           ┆           ┆   ┆           ┆           ┆ heta\":0.3 ┆          │\n",
       "│           ┆           ┆           ┆           ┆   ┆           ┆           ┆ 551…      ┆          │\n",
       "│ ACSEmploy ┆ unconstra ┆ {null}    ┆ ROC_mitig ┆ … ┆ 0.056176  ┆ 0.072925  ┆ {\"epsilon ┆ {\"epsilo │\n",
       "│ ment      ┆ ined      ┆           ┆ ation     ┆   ┆           ┆           ┆ \":null,\"t ┆ n\":null} │\n",
       "│           ┆           ┆           ┆           ┆   ┆           ┆           ┆ heta\":0.3 ┆          │\n",
       "│           ┆           ┆           ┆           ┆   ┆           ┆           ┆ 137…      ┆          │\n",
       "│ ACSEmploy ┆ unconstra ┆ {null}    ┆ ROC_mitig ┆ … ┆ 0.055321  ┆ 0.074874  ┆ {\"epsilon ┆ {\"epsilo │\n",
       "│ ment      ┆ ined      ┆           ┆ ation     ┆   ┆           ┆           ┆ \":null,\"t ┆ n\":null} │\n",
       "│           ┆           ┆           ┆           ┆   ┆           ┆           ┆ heta\":0.4 ┆          │\n",
       "│           ┆           ┆           ┆           ┆   ┆           ┆           ┆ 931…      ┆          │\n",
       "│ ACSEmploy ┆ unconstra ┆ {null}    ┆ ROC_mitig ┆ … ┆ 0.054311  ┆ 0.067792  ┆ {\"epsilon ┆ {\"epsilo │\n",
       "│ ment      ┆ ined      ┆           ┆ ation     ┆   ┆           ┆           ┆ \":null,\"t ┆ n\":null} │\n",
       "│           ┆           ┆           ┆           ┆   ┆           ┆           ┆ heta\":0.4 ┆          │\n",
       "│           ┆           ┆           ┆           ┆   ┆           ┆           ┆ 517…      ┆          │\n",
       "│ ACSEmploy ┆ unconstra ┆ {null}    ┆ ROC_mitig ┆ … ┆ 0.024473  ┆ 0.037189  ┆ {\"epsilon ┆ {\"epsilo │\n",
       "│ ment      ┆ ined      ┆           ┆ ation     ┆   ┆           ┆           ┆ \":null,\"t ┆ n\":null} │\n",
       "│           ┆           ┆           ┆           ┆   ┆           ┆           ┆ heta\":0.5 ┆          │\n",
       "│           ┆           ┆           ┆           ┆   ┆           ┆           ┆ 344…      ┆          │\n",
       "│ …         ┆ …         ┆ …         ┆ …         ┆ … ┆ …         ┆ …         ┆ …         ┆ …        │\n",
       "│ ACSEmploy ┆ unconstra ┆ {null}    ┆ randomize ┆ … ┆ 0.055877  ┆ 0.069355  ┆ {\"epsilon ┆ {\"epsilo │\n",
       "│ ment      ┆ ined      ┆           ┆ d_respons ┆   ┆           ┆           ┆ \":9.68965 ┆ n\":null} │\n",
       "│           ┆           ┆           ┆ e         ┆   ┆           ┆           ┆ 517241379 ┆          │\n",
       "│           ┆           ┆           ┆           ┆   ┆           ┆           ┆ 4,\"…      ┆          │\n",
       "│ ACSEmploy ┆ unconstra ┆ {null}    ┆ randomize ┆ … ┆ 0.055615  ┆ 0.073606  ┆ {\"epsilon ┆ {\"epsilo │\n",
       "│ ment      ┆ ined      ┆           ┆ d_respons ┆   ┆           ┆           ┆ \":9.06896 ┆ n\":null} │\n",
       "│           ┆           ┆           ┆ e         ┆   ┆           ┆           ┆ 551724137 ┆          │\n",
       "│           ┆           ┆           ┆           ┆   ┆           ┆           ┆ 9,\"…      ┆          │\n",
       "│ ACSEmploy ┆ unconstra ┆ {null}    ┆ randomize ┆ … ┆ 0.054805  ┆ 0.075756  ┆ {\"epsilon ┆ {\"epsilo │\n",
       "│ ment      ┆ ined      ┆           ┆ d_respons ┆   ┆           ┆           ┆ \":5.34482 ┆ n\":null} │\n",
       "│           ┆           ┆           ┆ e         ┆   ┆           ┆           ┆ 758620689 ┆          │\n",
       "│           ┆           ┆           ┆           ┆   ┆           ┆           ┆ 7,\"…      ┆          │\n",
       "│ ACSEmploy ┆ unconstra ┆ {null}    ┆ randomize ┆ … ┆ 0.055705  ┆ 0.075412  ┆ {\"epsilon ┆ {\"epsilo │\n",
       "│ ment      ┆ ined      ┆           ┆ d_respons ┆   ┆           ┆           ┆ \":7.20689 ┆ n\":null} │\n",
       "│           ┆           ┆           ┆ e         ┆   ┆           ┆           ┆ 655172413 ┆          │\n",
       "│           ┆           ┆           ┆           ┆   ┆           ┆           ┆ 8,\"…      ┆          │\n",
       "│ ACSEmploy ┆ unconstra ┆ {null}    ┆ randomize ┆ … ┆ 0.056587  ┆ 0.068548  ┆ {\"epsilon ┆ {\"epsilo │\n",
       "│ ment      ┆ ined      ┆           ┆ d_respons ┆   ┆           ┆           ┆ \":1.62068 ┆ n\":null} │\n",
       "│           ┆           ┆           ┆ e         ┆   ┆           ┆           ┆ 965517241 ┆          │\n",
       "│           ┆           ┆           ┆           ┆   ┆           ┆           ┆ 37,…      ┆          │\n",
       "└───────────┴───────────┴───────────┴───────────┴───┴───────────┴───────────┴───────────┴──────────┘"
      ]
     },
     "execution_count": 44,
     "metadata": {},
     "output_type": "execute_result"
    }
   ],
   "source": [
    "audit"
   ]
  },
  {
   "cell_type": "code",
   "execution_count": 57,
   "metadata": {},
   "outputs": [
    {
     "data": {
      "application/vnd.plotly.v1+json": {
       "config": {
        "plotlyServerURL": "https://plot.ly"
       },
       "data": [
        {
         "customdata": [
          [
           "{\"epsilon\":null,\"theta\":0.35517241379310344}",
           "{\"epsilon\":null}"
          ],
          [
           "{\"epsilon\":null,\"theta\":0.3137931034482758}",
           "{\"epsilon\":null}"
          ],
          [
           "{\"epsilon\":null,\"theta\":0.49310344827586206}",
           "{\"epsilon\":null}"
          ],
          [
           "{\"epsilon\":null,\"theta\":0.45172413793103444}",
           "{\"epsilon\":null}"
          ],
          [
           "{\"epsilon\":null,\"theta\":0.5344827586206896}",
           "{\"epsilon\":null}"
          ],
          [
           "{\"epsilon\":null,\"theta\":0.5758620689655172}",
           "{\"epsilon\":null}"
          ],
          [
           "{\"epsilon\":null,\"theta\":0.3}",
           "{\"epsilon\":null}"
          ],
          [
           "{\"epsilon\":null,\"theta\":0.6862068965517241}",
           "{\"epsilon\":null}"
          ],
          [
           "{\"epsilon\":null,\"theta\":0.4655172413793103}",
           "{\"epsilon\":null}"
          ],
          [
           "{\"epsilon\":null,\"theta\":0.4241379310344827}",
           "{\"epsilon\":null}"
          ],
          [
           "{\"epsilon\":null,\"theta\":0.5896551724137931}",
           "{\"epsilon\":null}"
          ],
          [
           "{\"epsilon\":null,\"theta\":0.6586206896551723}",
           "{\"epsilon\":null}"
          ],
          [
           "{\"epsilon\":null,\"theta\":0.396551724137931}",
           "{\"epsilon\":null}"
          ],
          [
           "{\"epsilon\":null,\"theta\":0.6724137931034482}",
           "{\"epsilon\":null}"
          ],
          [
           "{\"epsilon\":null,\"theta\":0.6172413793103448}",
           "{\"epsilon\":null}"
          ],
          [
           "{\"epsilon\":null,\"theta\":0.4103448275862069}",
           "{\"epsilon\":null}"
          ],
          [
           "{\"epsilon\":null,\"theta\":0.34137931034482755}",
           "{\"epsilon\":null}"
          ],
          [
           "{\"epsilon\":null,\"theta\":0.506896551724138}",
           "{\"epsilon\":null}"
          ],
          [
           "{\"epsilon\":null,\"theta\":0.5620689655172413}",
           "{\"epsilon\":null}"
          ],
          [
           "{\"epsilon\":null,\"theta\":0.5482758620689655}",
           "{\"epsilon\":null}"
          ],
          [
           "{\"epsilon\":null,\"theta\":0.36896551724137927}",
           "{\"epsilon\":null}"
          ],
          [
           "{\"epsilon\":null,\"theta\":0.7}",
           "{\"epsilon\":null}"
          ],
          [
           "{\"epsilon\":null,\"theta\":0.38275862068965516}",
           "{\"epsilon\":null}"
          ],
          [
           "{\"epsilon\":null,\"theta\":0.603448275862069}",
           "{\"epsilon\":null}"
          ],
          [
           "{\"epsilon\":null,\"theta\":0.4379310344827586}",
           "{\"epsilon\":null}"
          ],
          [
           "{\"epsilon\":null,\"theta\":0.3275862068965517}",
           "{\"epsilon\":null}"
          ],
          [
           "{\"epsilon\":null,\"theta\":0.47931034482758617}",
           "{\"epsilon\":null}"
          ],
          [
           "{\"epsilon\":null,\"theta\":0.6448275862068965}",
           "{\"epsilon\":null}"
          ],
          [
           "{\"epsilon\":null,\"theta\":0.5206896551724137}",
           "{\"epsilon\":null}"
          ],
          [
           "{\"epsilon\":null,\"theta\":0.6310344827586206}",
           "{\"epsilon\":null}"
          ]
         ],
         "hovertemplate": "strategy=ROC_mitigation<br>detection_tpr=1.0<br>detection_tnr=0.95<br>demographic_parity_user=%{x}<br>utility_user=%{y}<br>strategy_json=%{customdata[0]}<br>model_json=%{customdata[1]}<extra></extra>",
         "legendgroup": "ROC_mitigation",
         "marker": {
          "color": "#636efa",
          "symbol": "circle"
         },
         "mode": "markers",
         "name": "ROC_mitigation",
         "orientation": "v",
         "showlegend": true,
         "type": "scatter",
         "x": [
          0.05417251451338988,
          0.056176239722045315,
          0.05532080781280907,
          0.05431147713266602,
          0.024472700504039935,
          0.022002692676662595,
          0.05691637631302937,
          0.1601081387188338,
          0.0547830327770046,
          0.05452821074836375,
          0.035345507645825815,
          0.12039016465451687,
          0.05380296125760927,
          0.1421323208143121,
          0.06673308226373689,
          0.054020258964419456,
          0.05575098860033175,
          0.04900291377585299,
          0.006163112340829735,
          0.009127803548157598,
          0.053999878107268307,
          0.17695383686803862,
          0.05220405726211511,
          0.05142673970910803,
          0.05508970213659318,
          0.052516220378625314,
          0.056203806609455564,
          0.10381140423002115,
          0.03613498994630223,
          0.08716647346546064
         ],
         "xaxis": "x5",
         "y": [
          0.8234339156520205,
          0.8234515616728426,
          0.8241397564849127,
          0.8228692429857067,
          0.8228868890065291,
          0.8197635433209811,
          0.8232751014646198,
          0.80045879654138,
          0.8234515616728428,
          0.8239103582142226,
          0.8193400388212458,
          0.808523028057173,
          0.8230104111522852,
          0.8046585494970884,
          0.8153696841362272,
          0.8236456679018881,
          0.8229398270689959,
          0.8238044820892888,
          0.8230809952355743,
          0.8222516322569261,
          0.8240868184224457,
          0.7962766896064937,
          0.8238397741309335,
          0.8179460031762839,
          0.8232398094229751,
          0.8229221810481736,
          0.8234162696311982,
          0.8108699488265397,
          0.8233986236103759,
          0.812581612846303
         ],
         "yaxis": "y5"
        },
        {
         "customdata": [
          [
           "{\"epsilon\":null,\"theta\":0.603448275862069}",
           "{\"epsilon\":null}"
          ],
          [
           "{\"epsilon\":null,\"theta\":0.396551724137931}",
           "{\"epsilon\":null}"
          ],
          [
           "{\"epsilon\":null,\"theta\":0.6586206896551723}",
           "{\"epsilon\":null}"
          ],
          [
           "{\"epsilon\":null,\"theta\":0.4241379310344827}",
           "{\"epsilon\":null}"
          ],
          [
           "{\"epsilon\":null,\"theta\":0.5344827586206896}",
           "{\"epsilon\":null}"
          ],
          [
           "{\"epsilon\":null,\"theta\":0.3275862068965517}",
           "{\"epsilon\":null}"
          ],
          [
           "{\"epsilon\":null,\"theta\":0.6172413793103448}",
           "{\"epsilon\":null}"
          ],
          [
           "{\"epsilon\":null,\"theta\":0.7}",
           "{\"epsilon\":null}"
          ],
          [
           "{\"epsilon\":null,\"theta\":0.47931034482758617}",
           "{\"epsilon\":null}"
          ],
          [
           "{\"epsilon\":null,\"theta\":0.3137931034482758}",
           "{\"epsilon\":null}"
          ],
          [
           "{\"epsilon\":null,\"theta\":0.3}",
           "{\"epsilon\":null}"
          ],
          [
           "{\"epsilon\":null,\"theta\":0.34137931034482755}",
           "{\"epsilon\":null}"
          ],
          [
           "{\"epsilon\":null,\"theta\":0.6862068965517241}",
           "{\"epsilon\":null}"
          ],
          [
           "{\"epsilon\":null,\"theta\":0.5758620689655172}",
           "{\"epsilon\":null}"
          ],
          [
           "{\"epsilon\":null,\"theta\":0.4379310344827586}",
           "{\"epsilon\":null}"
          ],
          [
           "{\"epsilon\":null,\"theta\":0.506896551724138}",
           "{\"epsilon\":null}"
          ],
          [
           "{\"epsilon\":null,\"theta\":0.5620689655172413}",
           "{\"epsilon\":null}"
          ],
          [
           "{\"epsilon\":null,\"theta\":0.4103448275862069}",
           "{\"epsilon\":null}"
          ],
          [
           "{\"epsilon\":null,\"theta\":0.45172413793103444}",
           "{\"epsilon\":null}"
          ],
          [
           "{\"epsilon\":null,\"theta\":0.38275862068965516}",
           "{\"epsilon\":null}"
          ],
          [
           "{\"epsilon\":null,\"theta\":0.5206896551724137}",
           "{\"epsilon\":null}"
          ],
          [
           "{\"epsilon\":null,\"theta\":0.49310344827586206}",
           "{\"epsilon\":null}"
          ],
          [
           "{\"epsilon\":null,\"theta\":0.4655172413793103}",
           "{\"epsilon\":null}"
          ],
          [
           "{\"epsilon\":null,\"theta\":0.6724137931034482}",
           "{\"epsilon\":null}"
          ],
          [
           "{\"epsilon\":null,\"theta\":0.35517241379310344}",
           "{\"epsilon\":null}"
          ],
          [
           "{\"epsilon\":null,\"theta\":0.36896551724137927}",
           "{\"epsilon\":null}"
          ],
          [
           "{\"epsilon\":null,\"theta\":0.6310344827586206}",
           "{\"epsilon\":null}"
          ],
          [
           "{\"epsilon\":null,\"theta\":0.5482758620689655}",
           "{\"epsilon\":null}"
          ],
          [
           "{\"epsilon\":null,\"theta\":0.5896551724137931}",
           "{\"epsilon\":null}"
          ],
          [
           "{\"epsilon\":null,\"theta\":0.6448275862068965}",
           "{\"epsilon\":null}"
          ]
         ],
         "hovertemplate": "strategy=ROC_mitigation<br>detection_tpr=1.0<br>detection_tnr=1.0<br>demographic_parity_user=%{x}<br>utility_user=%{y}<br>strategy_json=%{customdata[0]}<br>model_json=%{customdata[1]}<extra></extra>",
         "legendgroup": "ROC_mitigation",
         "marker": {
          "color": "#636efa",
          "symbol": "circle"
         },
         "mode": "markers",
         "name": "ROC_mitigation",
         "orientation": "v",
         "showlegend": false,
         "type": "scatter",
         "x": [
          0.05089122103775352,
          0.05223881017978445,
          0.1220326017684747,
          0.05685903522516002,
          0.022913528143425323,
          0.05769075078197129,
          0.07300128723139301,
          0.1765942410466784,
          0.0541184598693933,
          0.05733444140448386,
          0.05172033687030725,
          0.05211196325657648,
          0.15540737127287527,
          0.020999983935666145,
          0.05540078612227951,
          0.048721603990625785,
          0.007912555086256268,
          0.051050785245485716,
          0.0543705104938728,
          0.056558423713605546,
          0.03647251263717375,
          0.05610339839143289,
          0.05633727547181009,
          0.14028690900266114,
          0.05364577604282972,
          0.055128305589247736,
          0.0829714995417986,
          0.012991876720094686,
          0.034707422494800876,
          0.10481852759711534
         ],
         "xaxis": "x6",
         "y": [
          0.8177518969472384,
          0.8228339509440621,
          0.8074642668078347,
          0.8232045173813305,
          0.8234692076936652,
          0.8236280218810659,
          0.8150344097406036,
          0.7973001588141874,
          0.8236456679018882,
          0.8232751014646198,
          0.823010411152285,
          0.8241397564849127,
          0.8017469560614081,
          0.8203635080289395,
          0.8239103582142228,
          0.823980942297512,
          0.8221104640903476,
          0.8233280395270868,
          0.8235574377977766,
          0.8236809599435327,
          0.823116287277219,
          0.8229927651314629,
          0.8234515616728428,
          0.8039527086641962,
          0.8228515969648844,
          0.8232045173813305,
          0.8142050467619552,
          0.8223222163402152,
          0.820098817716605,
          0.8095288512440444
         ],
         "yaxis": "y6"
        },
        {
         "customdata": [
          [
           "{\"epsilon\":null,\"theta\":0.5344827586206896}",
           "{\"epsilon\":null}"
          ],
          [
           "{\"epsilon\":null,\"theta\":0.4103448275862069}",
           "{\"epsilon\":null}"
          ],
          [
           "{\"epsilon\":null,\"theta\":0.396551724137931}",
           "{\"epsilon\":null}"
          ],
          [
           "{\"epsilon\":null,\"theta\":0.603448275862069}",
           "{\"epsilon\":null}"
          ],
          [
           "{\"epsilon\":null,\"theta\":0.3137931034482758}",
           "{\"epsilon\":null}"
          ],
          [
           "{\"epsilon\":null,\"theta\":0.4379310344827586}",
           "{\"epsilon\":null}"
          ],
          [
           "{\"epsilon\":null,\"theta\":0.5620689655172413}",
           "{\"epsilon\":null}"
          ],
          [
           "{\"epsilon\":null,\"theta\":0.35517241379310344}",
           "{\"epsilon\":null}"
          ],
          [
           "{\"epsilon\":null,\"theta\":0.6724137931034482}",
           "{\"epsilon\":null}"
          ],
          [
           "{\"epsilon\":null,\"theta\":0.6448275862068965}",
           "{\"epsilon\":null}"
          ],
          [
           "{\"epsilon\":null,\"theta\":0.4655172413793103}",
           "{\"epsilon\":null}"
          ],
          [
           "{\"epsilon\":null,\"theta\":0.506896551724138}",
           "{\"epsilon\":null}"
          ],
          [
           "{\"epsilon\":null,\"theta\":0.4241379310344827}",
           "{\"epsilon\":null}"
          ],
          [
           "{\"epsilon\":null,\"theta\":0.38275862068965516}",
           "{\"epsilon\":null}"
          ],
          [
           "{\"epsilon\":null,\"theta\":0.3}",
           "{\"epsilon\":null}"
          ],
          [
           "{\"epsilon\":null,\"theta\":0.6862068965517241}",
           "{\"epsilon\":null}"
          ],
          [
           "{\"epsilon\":null,\"theta\":0.3275862068965517}",
           "{\"epsilon\":null}"
          ],
          [
           "{\"epsilon\":null,\"theta\":0.6172413793103448}",
           "{\"epsilon\":null}"
          ],
          [
           "{\"epsilon\":null,\"theta\":0.5896551724137931}",
           "{\"epsilon\":null}"
          ],
          [
           "{\"epsilon\":null,\"theta\":0.5758620689655172}",
           "{\"epsilon\":null}"
          ],
          [
           "{\"epsilon\":null,\"theta\":0.6310344827586206}",
           "{\"epsilon\":null}"
          ],
          [
           "{\"epsilon\":null,\"theta\":0.49310344827586206}",
           "{\"epsilon\":null}"
          ],
          [
           "{\"epsilon\":null,\"theta\":0.45172413793103444}",
           "{\"epsilon\":null}"
          ],
          [
           "{\"epsilon\":null,\"theta\":0.7}",
           "{\"epsilon\":null}"
          ],
          [
           "{\"epsilon\":null,\"theta\":0.47931034482758617}",
           "{\"epsilon\":null}"
          ],
          [
           "{\"epsilon\":null,\"theta\":0.5482758620689655}",
           "{\"epsilon\":null}"
          ],
          [
           "{\"epsilon\":null,\"theta\":0.6586206896551723}",
           "{\"epsilon\":null}"
          ],
          [
           "{\"epsilon\":null,\"theta\":0.36896551724137927}",
           "{\"epsilon\":null}"
          ],
          [
           "{\"epsilon\":null,\"theta\":0.34137931034482755}",
           "{\"epsilon\":null}"
          ],
          [
           "{\"epsilon\":null,\"theta\":0.5206896551724137}",
           "{\"epsilon\":null}"
          ]
         ],
         "hovertemplate": "strategy=ROC_mitigation<br>detection_tpr=0.95<br>detection_tnr=0.95<br>demographic_parity_user=%{x}<br>utility_user=%{y}<br>strategy_json=%{customdata[0]}<br>model_json=%{customdata[1]}<extra></extra>",
         "legendgroup": "ROC_mitigation",
         "marker": {
          "color": "#636efa",
          "symbol": "circle"
         },
         "mode": "markers",
         "name": "ROC_mitigation",
         "orientation": "v",
         "showlegend": false,
         "type": "scatter",
         "x": [
          0.023834002210501394,
          0.054409113946527365,
          0.05560042532469882,
          0.05194849946245796,
          0.0556434434034511,
          0.0557421593481363,
          0.009190491238745314,
          0.05410408780887512,
          0.13749115082067284,
          0.10561769754930617,
          0.05501136704905912,
          0.04744538463717477,
          0.05187094919734127,
          0.05894931163103144,
          0.05345825253647859,
          0.1560697859188388,
          0.05445043975194216,
          0.0638545743681168,
          0.03171418337204103,
          0.016617486505653,
          0.08733803074075833,
          0.054779182242019386,
          0.053930372271929684,
          0.17626883405187505,
          0.054666094236815996,
          0.008853679793189484,
          0.1180107792906456,
          0.055516032389130665,
          0.0555546358417852,
          0.03491831899376937
         ],
         "xaxis": "x3",
         "y": [
          0.8227810128815951,
          0.8237338980059997,
          0.8239456502558673,
          0.8174519145932593,
          0.8233809775895535,
          0.8236456679018881,
          0.8213340391741664,
          0.8235750838185989,
          0.8051702841009352,
          0.8109228868890066,
          0.8234515616728428,
          0.8229574730898184,
          0.8234868537144873,
          0.8231339332980413,
          0.824157402505735,
          0.800882301041115,
          0.8232221634021528,
          0.8172225163225694,
          0.820222339862361,
          0.8210693488618317,
          0.8131639315334394,
          0.8229398270689959,
          0.8231339332980413,
          0.7967354861478737,
          0.8235927298394211,
          0.8229045350273513,
          0.8084877360155284,
          0.8230457031939299,
          0.8234692076936652,
          0.8229045350273513
         ],
         "yaxis": "y3"
        },
        {
         "customdata": [
          [
           "{\"epsilon\":null,\"theta\":0.6724137931034482}",
           "{\"epsilon\":null}"
          ],
          [
           "{\"epsilon\":null,\"theta\":0.34137931034482755}",
           "{\"epsilon\":null}"
          ],
          [
           "{\"epsilon\":null,\"theta\":0.4655172413793103}",
           "{\"epsilon\":null}"
          ],
          [
           "{\"epsilon\":null,\"theta\":0.3275862068965517}",
           "{\"epsilon\":null}"
          ],
          [
           "{\"epsilon\":null,\"theta\":0.5758620689655172}",
           "{\"epsilon\":null}"
          ],
          [
           "{\"epsilon\":null,\"theta\":0.5206896551724137}",
           "{\"epsilon\":null}"
          ],
          [
           "{\"epsilon\":null,\"theta\":0.5896551724137931}",
           "{\"epsilon\":null}"
          ],
          [
           "{\"epsilon\":null,\"theta\":0.5344827586206896}",
           "{\"epsilon\":null}"
          ],
          [
           "{\"epsilon\":null,\"theta\":0.4103448275862069}",
           "{\"epsilon\":null}"
          ],
          [
           "{\"epsilon\":null,\"theta\":0.5482758620689655}",
           "{\"epsilon\":null}"
          ],
          [
           "{\"epsilon\":null,\"theta\":0.6172413793103448}",
           "{\"epsilon\":null}"
          ],
          [
           "{\"epsilon\":null,\"theta\":0.35517241379310344}",
           "{\"epsilon\":null}"
          ],
          [
           "{\"epsilon\":null,\"theta\":0.4241379310344827}",
           "{\"epsilon\":null}"
          ],
          [
           "{\"epsilon\":null,\"theta\":0.36896551724137927}",
           "{\"epsilon\":null}"
          ],
          [
           "{\"epsilon\":null,\"theta\":0.7}",
           "{\"epsilon\":null}"
          ],
          [
           "{\"epsilon\":null,\"theta\":0.6862068965517241}",
           "{\"epsilon\":null}"
          ],
          [
           "{\"epsilon\":null,\"theta\":0.45172413793103444}",
           "{\"epsilon\":null}"
          ],
          [
           "{\"epsilon\":null,\"theta\":0.4379310344827586}",
           "{\"epsilon\":null}"
          ],
          [
           "{\"epsilon\":null,\"theta\":0.38275862068965516}",
           "{\"epsilon\":null}"
          ],
          [
           "{\"epsilon\":null,\"theta\":0.6448275862068965}",
           "{\"epsilon\":null}"
          ],
          [
           "{\"epsilon\":null,\"theta\":0.6586206896551723}",
           "{\"epsilon\":null}"
          ],
          [
           "{\"epsilon\":null,\"theta\":0.3137931034482758}",
           "{\"epsilon\":null}"
          ],
          [
           "{\"epsilon\":null,\"theta\":0.506896551724138}",
           "{\"epsilon\":null}"
          ],
          [
           "{\"epsilon\":null,\"theta\":0.603448275862069}",
           "{\"epsilon\":null}"
          ],
          [
           "{\"epsilon\":null,\"theta\":0.396551724137931}",
           "{\"epsilon\":null}"
          ],
          [
           "{\"epsilon\":null,\"theta\":0.49310344827586206}",
           "{\"epsilon\":null}"
          ],
          [
           "{\"epsilon\":null,\"theta\":0.5620689655172413}",
           "{\"epsilon\":null}"
          ],
          [
           "{\"epsilon\":null,\"theta\":0.3}",
           "{\"epsilon\":null}"
          ],
          [
           "{\"epsilon\":null,\"theta\":0.6310344827586206}",
           "{\"epsilon\":null}"
          ],
          [
           "{\"epsilon\":null,\"theta\":0.47931034482758617}",
           "{\"epsilon\":null}"
          ]
         ],
         "hovertemplate": "strategy=ROC_mitigation<br>detection_tpr=0.95<br>detection_tnr=1.0<br>demographic_parity_user=%{x}<br>utility_user=%{y}<br>strategy_json=%{customdata[0]}<br>model_json=%{customdata[1]}<extra></extra>",
         "legendgroup": "ROC_mitigation",
         "marker": {
          "color": "#636efa",
          "symbol": "circle"
         },
         "mode": "markers",
         "name": "ROC_mitigation",
         "orientation": "v",
         "showlegend": false,
         "type": "scatter",
         "x": [
          0.13669033764654567,
          0.05368550767770924,
          0.05453154624363756,
          0.054565735070194396,
          0.01593525509365077,
          0.03623976373902153,
          0.03397329470044984,
          0.024772183833369467,
          0.05491650163935916,
          0.012186084828757271,
          0.06856858569236851,
          0.055566236498142005,
          0.05415706332204784,
          0.054448232438893296,
          0.17716066210071701,
          0.15558385821398207,
          0.0545056225781637,
          0.054961211991448856,
          0.05658106093520664,
          0.10156718000184188,
          0.12063338602680093,
          0.054319742293748974,
          0.04889095395287459,
          0.05237703702804427,
          0.054267894962801266,
          0.053695416060728585,
          0.004295087833278199,
          0.05511341848901817,
          0.08777262615437874,
          0.054306498415455796
         ],
         "xaxis": "x4",
         "y": [
          0.8051349920592905,
          0.8227810128815951,
          0.8236986059643551,
          0.8239103582142228,
          0.8207693665078525,
          0.8233633315687312,
          0.8202929239456502,
          0.8230457031939299,
          0.8223575083818598,
          0.8220928180695253,
          0.8156873125110288,
          0.8236986059643551,
          0.8237868360684665,
          0.823928004235045,
          0.7962590435856713,
          0.8014293276866068,
          0.8230104111522852,
          0.8222692782777484,
          0.8232751014646198,
          0.8107111346391388,
          0.8082583377448385,
          0.8235221457561319,
          0.8234692076936649,
          0.8184930298217752,
          0.8239103582142228,
          0.8232398094229751,
          0.8219516499029469,
          0.8236456679018881,
          0.8124933827421916,
          0.8232045173813305
         ],
         "yaxis": "y4"
        },
        {
         "customdata": [
          [
           "{\"epsilon\":null,\"theta\":0.6724137931034482}",
           "{\"epsilon\":null}"
          ],
          [
           "{\"epsilon\":null,\"theta\":0.4241379310344827}",
           "{\"epsilon\":null}"
          ],
          [
           "{\"epsilon\":null,\"theta\":0.6448275862068965}",
           "{\"epsilon\":null}"
          ],
          [
           "{\"epsilon\":null,\"theta\":0.5482758620689655}",
           "{\"epsilon\":null}"
          ],
          [
           "{\"epsilon\":null,\"theta\":0.5206896551724137}",
           "{\"epsilon\":null}"
          ],
          [
           "{\"epsilon\":null,\"theta\":0.5344827586206896}",
           "{\"epsilon\":null}"
          ],
          [
           "{\"epsilon\":null,\"theta\":0.4379310344827586}",
           "{\"epsilon\":null}"
          ],
          [
           "{\"epsilon\":null,\"theta\":0.396551724137931}",
           "{\"epsilon\":null}"
          ],
          [
           "{\"epsilon\":null,\"theta\":0.5620689655172413}",
           "{\"epsilon\":null}"
          ],
          [
           "{\"epsilon\":null,\"theta\":0.47931034482758617}",
           "{\"epsilon\":null}"
          ],
          [
           "{\"epsilon\":null,\"theta\":0.6310344827586206}",
           "{\"epsilon\":null}"
          ],
          [
           "{\"epsilon\":null,\"theta\":0.6586206896551723}",
           "{\"epsilon\":null}"
          ],
          [
           "{\"epsilon\":null,\"theta\":0.34137931034482755}",
           "{\"epsilon\":null}"
          ],
          [
           "{\"epsilon\":null,\"theta\":0.3137931034482758}",
           "{\"epsilon\":null}"
          ],
          [
           "{\"epsilon\":null,\"theta\":0.45172413793103444}",
           "{\"epsilon\":null}"
          ],
          [
           "{\"epsilon\":null,\"theta\":0.506896551724138}",
           "{\"epsilon\":null}"
          ],
          [
           "{\"epsilon\":null,\"theta\":0.38275862068965516}",
           "{\"epsilon\":null}"
          ],
          [
           "{\"epsilon\":null,\"theta\":0.5896551724137931}",
           "{\"epsilon\":null}"
          ],
          [
           "{\"epsilon\":null,\"theta\":0.603448275862069}",
           "{\"epsilon\":null}"
          ],
          [
           "{\"epsilon\":null,\"theta\":0.49310344827586206}",
           "{\"epsilon\":null}"
          ],
          [
           "{\"epsilon\":null,\"theta\":0.6172413793103448}",
           "{\"epsilon\":null}"
          ],
          [
           "{\"epsilon\":null,\"theta\":0.35517241379310344}",
           "{\"epsilon\":null}"
          ],
          [
           "{\"epsilon\":null,\"theta\":0.3275862068965517}",
           "{\"epsilon\":null}"
          ],
          [
           "{\"epsilon\":null,\"theta\":0.4655172413793103}",
           "{\"epsilon\":null}"
          ],
          [
           "{\"epsilon\":null,\"theta\":0.7}",
           "{\"epsilon\":null}"
          ],
          [
           "{\"epsilon\":null,\"theta\":0.4103448275862069}",
           "{\"epsilon\":null}"
          ],
          [
           "{\"epsilon\":null,\"theta\":0.36896551724137927}",
           "{\"epsilon\":null}"
          ],
          [
           "{\"epsilon\":null,\"theta\":0.3}",
           "{\"epsilon\":null}"
          ],
          [
           "{\"epsilon\":null,\"theta\":0.6862068965517241}",
           "{\"epsilon\":null}"
          ],
          [
           "{\"epsilon\":null,\"theta\":0.5758620689655172}",
           "{\"epsilon\":null}"
          ]
         ],
         "hovertemplate": "strategy=ROC_mitigation<br>detection_tpr=0.5<br>detection_tnr=1.0<br>demographic_parity_user=%{x}<br>utility_user=%{y}<br>strategy_json=%{customdata[0]}<br>model_json=%{customdata[1]}<extra></extra>",
         "legendgroup": "ROC_mitigation",
         "marker": {
          "color": "#636efa",
          "symbol": "circle"
         },
         "mode": "markers",
         "name": "ROC_mitigation",
         "orientation": "v",
         "showlegend": false,
         "type": "scatter",
         "x": [
          0.13760203151282738,
          0.05374505607862744,
          0.10636337694861289,
          0.010058799140766617,
          0.03722429893591569,
          0.01994015483810524,
          0.05177993432262652,
          0.05348140479779112,
          0.005034660333149754,
          0.05514647913335001,
          0.08511475146084271,
          0.12120309352471229,
          0.055668802977812445,
          0.054040124781859246,
          0.05431424853682737,
          0.04731468717898159,
          0.05248536704734234,
          0.033577817779195385,
          0.05145322746569436,
          0.05400978649028763,
          0.07070582881477958,
          0.054635240905533,
          0.05673106011972712,
          0.052169868435558285,
          0.17616457529886712,
          0.054050597255991054,
          0.058085099521000806,
          0.05129677802193113,
          0.15790308203442155,
          0.0192008766466402
         ],
         "xaxis": "x2",
         "y": [
          0.8049761778718899,
          0.8237338980059997,
          0.8101464619728251,
          0.8219340038821246,
          0.8230986412563969,
          0.8228515969648844,
          0.8236456679018882,
          0.8231339332980413,
          0.8219692959237692,
          0.8237868360684665,
          0.8134286218457738,
          0.8072172225163226,
          0.8233809775895535,
          0.8232927474854421,
          0.8233103935062642,
          0.8232927474854421,
          0.8234162696311982,
          0.8197106052585141,
          0.81738133050997,
          0.8229927651314629,
          0.815069701782248,
          0.8234162696311982,
          0.8240515263808013,
          0.8225692606317276,
          0.7967531321686959,
          0.8229927651314629,
          0.823116287277219,
          0.823751544026822,
          0.8003882124580907,
          0.8211046409034763
         ],
         "yaxis": "y2"
        },
        {
         "customdata": [
          [
           "{\"epsilon\":null,\"theta\":null}",
           "{\"epsilon\":0.04789473684210526}"
          ],
          [
           "{\"epsilon\":null,\"theta\":null}",
           "{\"epsilon\":0.1}"
          ],
          [
           "{\"epsilon\":null,\"theta\":null}",
           "{\"epsilon\":0.06352631578947368}"
          ],
          [
           "{\"epsilon\":null,\"theta\":null}",
           "{\"epsilon\":0.02705263157894737}"
          ],
          [
           "{\"epsilon\":null,\"theta\":null}",
           "{\"epsilon\":0.06873684210526315}"
          ],
          [
           "{\"epsilon\":null,\"theta\":null}",
           "{\"epsilon\":0.04268421052631579}"
          ],
          [
           "{\"epsilon\":null,\"theta\":null}",
           "{\"epsilon\":0.07394736842105264}"
          ],
          [
           "{\"epsilon\":null,\"theta\":null}",
           "{\"epsilon\":0.08436842105263158}"
          ],
          [
           "{\"epsilon\":null,\"theta\":null}",
           "{\"epsilon\":0.01663157894736842}"
          ],
          [
           "{\"epsilon\":null,\"theta\":null}",
           "{\"epsilon\":0.001}"
          ],
          [
           "{\"epsilon\":null,\"theta\":null}",
           "{\"epsilon\":0.03226315789473684}"
          ],
          [
           "{\"epsilon\":null,\"theta\":null}",
           "{\"epsilon\":0.05310526315789474}"
          ],
          [
           "{\"epsilon\":null,\"theta\":null}",
           "{\"epsilon\":0.011421052631578946}"
          ],
          [
           "{\"epsilon\":null,\"theta\":null}",
           "{\"epsilon\":0.09478947368421052}"
          ],
          [
           "{\"epsilon\":null,\"theta\":null}",
           "{\"epsilon\":0.03747368421052632}"
          ],
          [
           "{\"epsilon\":null,\"theta\":null}",
           "{\"epsilon\":null}"
          ],
          [
           "{\"epsilon\":null,\"theta\":null}",
           "{\"epsilon\":0.08957894736842105}"
          ],
          [
           "{\"epsilon\":null,\"theta\":null}",
           "{\"epsilon\":0.05831578947368421}"
          ],
          [
           "{\"epsilon\":null,\"theta\":null}",
           "{\"epsilon\":0.006210526315789474}"
          ],
          [
           "{\"epsilon\":null,\"theta\":null}",
           "{\"epsilon\":0.07915789473684211}"
          ],
          [
           "{\"epsilon\":null,\"theta\":null}",
           "{\"epsilon\":0.021842105263157895}"
          ]
         ],
         "hovertemplate": "strategy=honest<br>detection_tpr=1.0<br>detection_tnr=0.95<br>demographic_parity_user=%{x}<br>utility_user=%{y}<br>strategy_json=%{customdata[0]}<br>model_json=%{customdata[1]}<extra></extra>",
         "legendgroup": "honest",
         "marker": {
          "color": "#EF553B",
          "symbol": "circle"
         },
         "mode": "markers",
         "name": "honest",
         "orientation": "v",
         "showlegend": true,
         "type": "scatter",
         "x": [
          0.056201035205294216,
          0.041952118229573065,
          0.054529338930588714,
          0.0339377324346626,
          0.05254820189213325,
          0.04087497398742888,
          0.05535884717435113,
          0.050022201890416486,
          0.01864252454808024,
          0.00953831472384491,
          0.0468778844523123,
          0.04864003151062006,
          0.018651917891388183,
          0.05596058523717149,
          0.04757998168175427,
          0.05468210951927053,
          0.04543287922772493,
          0.04348593101582634,
          0.011608700786576009,
          0.04882811910808367,
          0.027131237391490638
         ],
         "xaxis": "x5",
         "y": [
          0.8234339156520205,
          0.8235927298394212,
          0.8237691900476442,
          0.8231515793188636,
          0.8232751014646198,
          0.8226927827774837,
          0.8236633139227104,
          0.8231339332980413,
          0.8231515793188636,
          0.8223575083818598,
          0.8235750838185989,
          0.8236280218810659,
          0.8223222163402154,
          0.8236809599435327,
          0.8233103935062642,
          0.8230809952355743,
          0.8231162872772189,
          0.823116287277219,
          0.8223398623610375,
          0.8233986236103759,
          0.8218987118404799
         ],
         "yaxis": "y5"
        },
        {
         "customdata": [
          [
           "{\"epsilon\":null,\"theta\":null}",
           "{\"epsilon\":0.021842105263157895}"
          ],
          [
           "{\"epsilon\":null,\"theta\":null}",
           "{\"epsilon\":0.1}"
          ],
          [
           "{\"epsilon\":null,\"theta\":null}",
           "{\"epsilon\":0.03226315789473684}"
          ],
          [
           "{\"epsilon\":null,\"theta\":null}",
           "{\"epsilon\":0.001}"
          ],
          [
           "{\"epsilon\":null,\"theta\":null}",
           "{\"epsilon\":0.07915789473684211}"
          ],
          [
           "{\"epsilon\":null,\"theta\":null}",
           "{\"epsilon\":0.06873684210526315}"
          ],
          [
           "{\"epsilon\":null,\"theta\":null}",
           "{\"epsilon\":0.02705263157894737}"
          ],
          [
           "{\"epsilon\":null,\"theta\":null}",
           "{\"epsilon\":0.09478947368421052}"
          ],
          [
           "{\"epsilon\":null,\"theta\":null}",
           "{\"epsilon\":0.03747368421052632}"
          ],
          [
           "{\"epsilon\":null,\"theta\":null}",
           "{\"epsilon\":0.01663157894736842}"
          ],
          [
           "{\"epsilon\":null,\"theta\":null}",
           "{\"epsilon\":0.05831578947368421}"
          ],
          [
           "{\"epsilon\":null,\"theta\":null}",
           "{\"epsilon\":0.04268421052631579}"
          ],
          [
           "{\"epsilon\":null,\"theta\":null}",
           "{\"epsilon\":0.06352631578947368}"
          ],
          [
           "{\"epsilon\":null,\"theta\":null}",
           "{\"epsilon\":0.04789473684210526}"
          ],
          [
           "{\"epsilon\":null,\"theta\":null}",
           "{\"epsilon\":0.08436842105263158}"
          ],
          [
           "{\"epsilon\":null,\"theta\":null}",
           "{\"epsilon\":0.011421052631578946}"
          ],
          [
           "{\"epsilon\":null,\"theta\":null}",
           "{\"epsilon\":0.05310526315789474}"
          ],
          [
           "{\"epsilon\":null,\"theta\":null}",
           "{\"epsilon\":0.07394736842105264}"
          ],
          [
           "{\"epsilon\":null,\"theta\":null}",
           "{\"epsilon\":null}"
          ],
          [
           "{\"epsilon\":null,\"theta\":null}",
           "{\"epsilon\":0.006210526315789474}"
          ],
          [
           "{\"epsilon\":null,\"theta\":null}",
           "{\"epsilon\":0.08957894736842105}"
          ]
         ],
         "hovertemplate": "strategy=honest<br>detection_tpr=1.0<br>detection_tnr=1.0<br>demographic_parity_user=%{x}<br>utility_user=%{y}<br>strategy_json=%{customdata[0]}<br>model_json=%{customdata[1]}<extra></extra>",
         "legendgroup": "honest",
         "marker": {
          "color": "#EF553B",
          "symbol": "circle"
         },
         "mode": "markers",
         "name": "honest",
         "orientation": "v",
         "showlegend": false,
         "type": "scatter",
         "x": [
          0.02816683509691518,
          0.052333675589484416,
          0.043450098967333116,
          0.009745066379421663,
          0.05129898533497999,
          0.048703994537635964,
          0.037162028182237225,
          0.05139939355300266,
          0.04828705762840644,
          0.024539582089420454,
          0.04642121590820325,
          0.05684137672076913,
          0.05624461737515897,
          0.049084584358660935,
          0.05026706648463691,
          0.017606191071639445,
          0.04966645660404151,
          0.047459192606580415,
          0.056046057303563546,
          0.011593372223736676,
          0.05588722886684764
         ],
         "xaxis": "x6",
         "y": [
          0.8223045703193929,
          0.8240691724016234,
          0.8234868537144873,
          0.8224986765484383,
          0.8233633315687312,
          0.8233103935062644,
          0.8232574554437975,
          0.8236103758602434,
          0.8230280571731076,
          0.8225163225692607,
          0.8233986236103759,
          0.8236280218810659,
          0.8234162696311982,
          0.8229574730898183,
          0.8229221810481736,
          0.8231339332980413,
          0.8238574201517558,
          0.8226927827774837,
          0.8230986412563966,
          0.8220398800070583,
          0.8232398094229751
         ],
         "yaxis": "y6"
        },
        {
         "customdata": [
          [
           "{\"epsilon\":null,\"theta\":null}",
           "{\"epsilon\":null}"
          ],
          [
           "{\"epsilon\":null,\"theta\":null}",
           "{\"epsilon\":0.06873684210526315}"
          ],
          [
           "{\"epsilon\":null,\"theta\":null}",
           "{\"epsilon\":0.01663157894736842}"
          ],
          [
           "{\"epsilon\":null,\"theta\":null}",
           "{\"epsilon\":0.05310526315789474}"
          ],
          [
           "{\"epsilon\":null,\"theta\":null}",
           "{\"epsilon\":0.02705263157894737}"
          ],
          [
           "{\"epsilon\":null,\"theta\":null}",
           "{\"epsilon\":0.03747368421052632}"
          ],
          [
           "{\"epsilon\":null,\"theta\":null}",
           "{\"epsilon\":0.006210526315789474}"
          ],
          [
           "{\"epsilon\":null,\"theta\":null}",
           "{\"epsilon\":0.08957894736842105}"
          ],
          [
           "{\"epsilon\":null,\"theta\":null}",
           "{\"epsilon\":0.06352631578947368}"
          ],
          [
           "{\"epsilon\":null,\"theta\":null}",
           "{\"epsilon\":0.09478947368421052}"
          ],
          [
           "{\"epsilon\":null,\"theta\":null}",
           "{\"epsilon\":0.07394736842105264}"
          ],
          [
           "{\"epsilon\":null,\"theta\":null}",
           "{\"epsilon\":0.07915789473684211}"
          ],
          [
           "{\"epsilon\":null,\"theta\":null}",
           "{\"epsilon\":0.08436842105263158}"
          ],
          [
           "{\"epsilon\":null,\"theta\":null}",
           "{\"epsilon\":0.011421052631578946}"
          ],
          [
           "{\"epsilon\":null,\"theta\":null}",
           "{\"epsilon\":0.04789473684210526}"
          ],
          [
           "{\"epsilon\":null,\"theta\":null}",
           "{\"epsilon\":0.001}"
          ],
          [
           "{\"epsilon\":null,\"theta\":null}",
           "{\"epsilon\":0.021842105263157895}"
          ],
          [
           "{\"epsilon\":null,\"theta\":null}",
           "{\"epsilon\":0.05831578947368421}"
          ],
          [
           "{\"epsilon\":null,\"theta\":null}",
           "{\"epsilon\":0.03226315789473684}"
          ],
          [
           "{\"epsilon\":null,\"theta\":null}",
           "{\"epsilon\":0.1}"
          ],
          [
           "{\"epsilon\":null,\"theta\":null}",
           "{\"epsilon\":0.04268421052631579}"
          ]
         ],
         "hovertemplate": "strategy=honest<br>detection_tpr=0.95<br>detection_tnr=0.95<br>demographic_parity_user=%{x}<br>utility_user=%{y}<br>strategy_json=%{customdata[0]}<br>model_json=%{customdata[1]}<extra></extra>",
         "legendgroup": "honest",
         "marker": {
          "color": "#EF553B",
          "symbol": "circle"
         },
         "mode": "markers",
         "name": "honest",
         "orientation": "v",
         "showlegend": false,
         "type": "scatter",
         "x": [
          0.055826552283704464,
          0.05051085194803349,
          0.021766976168744668,
          0.05529873468232045,
          0.037328042649212224,
          0.04443735651698755,
          0.012404020203781573,
          0.044762199420678425,
          0.04859537020993143,
          0.05206175914756513,
          0.051712120760625355,
          0.04290133641768544,
          0.05166797449964813,
          0.01966509910651646,
          0.048854042773557524,
          0.004326112844465002,
          0.02704740854703498,
          0.05542835300968975,
          0.040545716457640255,
          0.05164702955138446,
          0.05554416336765339
         ],
         "xaxis": "x3",
         "y": [
          0.8226751367566614,
          0.8235221457561319,
          0.8230633492147522,
          0.8236103758602434,
          0.8225692606317276,
          0.8235927298394212,
          0.8210340568201872,
          0.8232574554437975,
          0.8226927827774837,
          0.8230280571731073,
          0.8234515616728428,
          0.8234692076936649,
          0.8222516322569261,
          0.8222692782777484,
          0.8229927651314629,
          0.8216516675489677,
          0.8225692606317276,
          0.8229927651314627,
          0.8230986412563966,
          0.8239456502558673,
          0.8237691900476444
         ],
         "yaxis": "y3"
        },
        {
         "customdata": [
          [
           "{\"epsilon\":null,\"theta\":null}",
           "{\"epsilon\":0.09478947368421052}"
          ],
          [
           "{\"epsilon\":null,\"theta\":null}",
           "{\"epsilon\":0.05831578947368421}"
          ],
          [
           "{\"epsilon\":null,\"theta\":null}",
           "{\"epsilon\":0.06352631578947368}"
          ],
          [
           "{\"epsilon\":null,\"theta\":null}",
           "{\"epsilon\":0.1}"
          ],
          [
           "{\"epsilon\":null,\"theta\":null}",
           "{\"epsilon\":0.07394736842105264}"
          ],
          [
           "{\"epsilon\":null,\"theta\":null}",
           "{\"epsilon\":0.04789473684210526}"
          ],
          [
           "{\"epsilon\":null,\"theta\":null}",
           "{\"epsilon\":0.04268421052631579}"
          ],
          [
           "{\"epsilon\":null,\"theta\":null}",
           "{\"epsilon\":0.07915789473684211}"
          ],
          [
           "{\"epsilon\":null,\"theta\":null}",
           "{\"epsilon\":0.001}"
          ],
          [
           "{\"epsilon\":null,\"theta\":null}",
           "{\"epsilon\":0.08436842105263158}"
          ],
          [
           "{\"epsilon\":null,\"theta\":null}",
           "{\"epsilon\":0.03747368421052632}"
          ],
          [
           "{\"epsilon\":null,\"theta\":null}",
           "{\"epsilon\":0.05310526315789474}"
          ],
          [
           "{\"epsilon\":null,\"theta\":null}",
           "{\"epsilon\":0.03226315789473684}"
          ],
          [
           "{\"epsilon\":null,\"theta\":null}",
           "{\"epsilon\":0.01663157894736842}"
          ],
          [
           "{\"epsilon\":null,\"theta\":null}",
           "{\"epsilon\":0.006210526315789474}"
          ],
          [
           "{\"epsilon\":null,\"theta\":null}",
           "{\"epsilon\":0.06873684210526315}"
          ],
          [
           "{\"epsilon\":null,\"theta\":null}",
           "{\"epsilon\":0.021842105263157895}"
          ],
          [
           "{\"epsilon\":null,\"theta\":null}",
           "{\"epsilon\":0.011421052631578946}"
          ],
          [
           "{\"epsilon\":null,\"theta\":null}",
           "{\"epsilon\":0.02705263157894737}"
          ],
          [
           "{\"epsilon\":null,\"theta\":null}",
           "{\"epsilon\":null}"
          ],
          [
           "{\"epsilon\":null,\"theta\":null}",
           "{\"epsilon\":0.08957894736842105}"
          ]
         ],
         "hovertemplate": "strategy=honest<br>detection_tpr=0.95<br>detection_tnr=1.0<br>demographic_parity_user=%{x}<br>utility_user=%{y}<br>strategy_json=%{customdata[0]}<br>model_json=%{customdata[1]}<extra></extra>",
         "legendgroup": "honest",
         "marker": {
          "color": "#EF553B",
          "symbol": "circle"
         },
         "mode": "markers",
         "name": "honest",
         "orientation": "v",
         "showlegend": false,
         "type": "scatter",
         "x": [
          0.054327492415120526,
          0.05343120068877978,
          0.050344273389946,
          0.05345383791038087,
          0.05571623568266245,
          0.04942102791870858,
          0.04527898045681816,
          0.050397199851717624,
          0.007200794730800386,
          0.056094618190638525,
          0.05318910749872067,
          0.046129997739956685,
          0.04418638502333191,
          0.026894073867240686,
          0.012869591577187723,
          0.05763228151187701,
          0.03182923343328785,
          0.012945645774571279,
          0.03778029656722352,
          0.05393699421107628,
          0.054971120374468205
         ],
         "xaxis": "x4",
         "y": [
          0.8224986765484383,
          0.8231868713605082,
          0.8233103935062644,
          0.8235221457561321,
          0.8244044467972472,
          0.8236280218810658,
          0.8231339332980413,
          0.8234868537144875,
          0.8213869772366331,
          0.8232751014646198,
          0.8234868537144873,
          0.823116287277219,
          0.8232221634021528,
          0.8224633845067937,
          0.8224986765484383,
          0.8230280571731076,
          0.8224633845067938,
          0.8216340215281454,
          0.8234162696311982,
          0.8232045173813305,
          0.8239632962766896
         ],
         "yaxis": "y4"
        },
        {
         "customdata": [
          [
           "{\"epsilon\":null,\"theta\":null}",
           "{\"epsilon\":0.04268421052631579}"
          ],
          [
           "{\"epsilon\":null,\"theta\":null}",
           "{\"epsilon\":0.09478947368421052}"
          ],
          [
           "{\"epsilon\":null,\"theta\":null}",
           "{\"epsilon\":0.07915789473684211}"
          ],
          [
           "{\"epsilon\":null,\"theta\":null}",
           "{\"epsilon\":0.01663157894736842}"
          ],
          [
           "{\"epsilon\":null,\"theta\":null}",
           "{\"epsilon\":0.03226315789473684}"
          ],
          [
           "{\"epsilon\":null,\"theta\":null}",
           "{\"epsilon\":0.04789473684210526}"
          ],
          [
           "{\"epsilon\":null,\"theta\":null}",
           "{\"epsilon\":0.021842105263157895}"
          ],
          [
           "{\"epsilon\":null,\"theta\":null}",
           "{\"epsilon\":0.05831578947368421}"
          ],
          [
           "{\"epsilon\":null,\"theta\":null}",
           "{\"epsilon\":0.1}"
          ],
          [
           "{\"epsilon\":null,\"theta\":null}",
           "{\"epsilon\":0.011421052631578946}"
          ],
          [
           "{\"epsilon\":null,\"theta\":null}",
           "{\"epsilon\":0.03747368421052632}"
          ],
          [
           "{\"epsilon\":null,\"theta\":null}",
           "{\"epsilon\":0.006210526315789474}"
          ],
          [
           "{\"epsilon\":null,\"theta\":null}",
           "{\"epsilon\":null}"
          ],
          [
           "{\"epsilon\":null,\"theta\":null}",
           "{\"epsilon\":0.08957894736842105}"
          ],
          [
           "{\"epsilon\":null,\"theta\":null}",
           "{\"epsilon\":0.08436842105263158}"
          ],
          [
           "{\"epsilon\":null,\"theta\":null}",
           "{\"epsilon\":0.06873684210526315}"
          ],
          [
           "{\"epsilon\":null,\"theta\":null}",
           "{\"epsilon\":0.05310526315789474}"
          ],
          [
           "{\"epsilon\":null,\"theta\":null}",
           "{\"epsilon\":0.001}"
          ],
          [
           "{\"epsilon\":null,\"theta\":null}",
           "{\"epsilon\":0.02705263157894737}"
          ],
          [
           "{\"epsilon\":null,\"theta\":null}",
           "{\"epsilon\":0.07394736842105264}"
          ],
          [
           "{\"epsilon\":null,\"theta\":null}",
           "{\"epsilon\":0.06352631578947368}"
          ]
         ],
         "hovertemplate": "strategy=honest<br>detection_tpr=0.5<br>detection_tnr=1.0<br>demographic_parity_user=%{x}<br>utility_user=%{y}<br>strategy_json=%{customdata[0]}<br>model_json=%{customdata[1]}<extra></extra>",
         "legendgroup": "honest",
         "marker": {
          "color": "#EF553B",
          "symbol": "circle"
         },
         "mode": "markers",
         "name": "honest",
         "orientation": "v",
         "showlegend": false,
         "type": "scatter",
         "x": [
          0.04999571413383012,
          0.0563306535326635,
          0.05622860209270445,
          0.022589862473360478,
          0.036954638858446374,
          0.04360343364712741,
          0.031289815175547,
          0.04081088833191023,
          0.058798233315687086,
          0.020566835538377758,
          0.03711295225545087,
          0.013059322396587681,
          0.05142916775346179,
          0.04134805022520109,
          0.04605222674353513,
          0.044043522817669434,
          0.04869793668960189,
          0.007394302508083972,
          0.03631101089909868,
          0.049703931874471086,
          0.05317201308544225
         ],
         "xaxis": "x2",
         "y": [
          0.8233456855479091,
          0.8236280218810658,
          0.8233986236103759,
          0.8221810481736369,
          0.8226221986941944,
          0.8230280571731076,
          0.8226398447150167,
          0.8224986765484383,
          0.8231339332980413,
          0.822710428798306,
          0.8235221457561319,
          0.8222516322569261,
          0.8234692076936649,
          0.8226398447150167,
          0.8244044467972472,
          0.8230280571731076,
          0.8235044997353096,
          0.8212458090700547,
          0.8224280924651491,
          0.8234692076936649,
          0.8232927474854419
         ],
         "yaxis": "y2"
        },
        {
         "customdata": [
          [
           "{\"epsilon\":10.0,\"theta\":null}",
           "{\"epsilon\":null}"
          ],
          [
           "{\"epsilon\":1.6206896551724137,\"theta\":null}",
           "{\"epsilon\":null}"
          ],
          [
           "{\"epsilon\":6.275862068965518,\"theta\":null}",
           "{\"epsilon\":null}"
          ],
          [
           "{\"epsilon\":3.793103448275862,\"theta\":null}",
           "{\"epsilon\":null}"
          ],
          [
           "{\"epsilon\":8.137931034482758,\"theta\":null}",
           "{\"epsilon\":null}"
          ],
          [
           "{\"epsilon\":4.413793103448276,\"theta\":null}",
           "{\"epsilon\":null}"
          ],
          [
           "{\"epsilon\":1.3103448275862069,\"theta\":null}",
           "{\"epsilon\":null}"
          ],
          [
           "{\"epsilon\":5.0344827586206895,\"theta\":null}",
           "{\"epsilon\":null}"
          ],
          [
           "{\"epsilon\":7.827586206896552,\"theta\":null}",
           "{\"epsilon\":null}"
          ],
          [
           "{\"epsilon\":6.586206896551724,\"theta\":null}",
           "{\"epsilon\":null}"
          ],
          [
           "{\"epsilon\":3.4827586206896552,\"theta\":null}",
           "{\"epsilon\":null}"
          ],
          [
           "{\"epsilon\":3.1724137931034484,\"theta\":null}",
           "{\"epsilon\":null}"
          ],
          [
           "{\"epsilon\":2.8620689655172415,\"theta\":null}",
           "{\"epsilon\":null}"
          ],
          [
           "{\"epsilon\":5.655172413793103,\"theta\":null}",
           "{\"epsilon\":null}"
          ],
          [
           "{\"epsilon\":6.8965517241379315,\"theta\":null}",
           "{\"epsilon\":null}"
          ],
          [
           "{\"epsilon\":4.724137931034483,\"theta\":null}",
           "{\"epsilon\":null}"
          ],
          [
           "{\"epsilon\":5.9655172413793105,\"theta\":null}",
           "{\"epsilon\":null}"
          ],
          [
           "{\"epsilon\":9.379310344827587,\"theta\":null}",
           "{\"epsilon\":null}"
          ],
          [
           "{\"epsilon\":2.5517241379310347,\"theta\":null}",
           "{\"epsilon\":null}"
          ],
          [
           "{\"epsilon\":8.448275862068966,\"theta\":null}",
           "{\"epsilon\":null}"
          ],
          [
           "{\"epsilon\":5.344827586206897,\"theta\":null}",
           "{\"epsilon\":null}"
          ],
          [
           "{\"epsilon\":1.0,\"theta\":null}",
           "{\"epsilon\":null}"
          ],
          [
           "{\"epsilon\":8.758620689655173,\"theta\":null}",
           "{\"epsilon\":null}"
          ],
          [
           "{\"epsilon\":9.689655172413794,\"theta\":null}",
           "{\"epsilon\":null}"
          ],
          [
           "{\"epsilon\":1.9310344827586208,\"theta\":null}",
           "{\"epsilon\":null}"
          ],
          [
           "{\"epsilon\":7.206896551724138,\"theta\":null}",
           "{\"epsilon\":null}"
          ],
          [
           "{\"epsilon\":4.103448275862069,\"theta\":null}",
           "{\"epsilon\":null}"
          ],
          [
           "{\"epsilon\":9.068965517241379,\"theta\":null}",
           "{\"epsilon\":null}"
          ],
          [
           "{\"epsilon\":2.2413793103448274,\"theta\":null}",
           "{\"epsilon\":null}"
          ],
          [
           "{\"epsilon\":7.517241379310345,\"theta\":null}",
           "{\"epsilon\":null}"
          ]
         ],
         "hovertemplate": "strategy=randomized_response<br>detection_tpr=1.0<br>detection_tnr=0.95<br>demographic_parity_user=%{x}<br>utility_user=%{y}<br>strategy_json=%{customdata[0]}<br>model_json=%{customdata[1]}<extra></extra>",
         "legendgroup": "randomized_response",
         "marker": {
          "color": "#00cc96",
          "symbol": "circle"
         },
         "mode": "markers",
         "name": "randomized_response",
         "orientation": "v",
         "showlegend": true,
         "type": "scatter",
         "x": [
          0.05468816736730462,
          0.054019743924708055,
          0.05369705928266495,
          0.05782257642238946,
          0.055308643065339766,
          0.05504889137088979,
          0.0545955092706535,
          0.05454422603081825,
          0.05285322802978548,
          0.05507922966246136,
          0.05647680218219873,
          0.053977240885667174,
          0.05439309866407284,
          0.056801130046178205,
          0.05855116140841778,
          0.05536931964848294,
          0.056181169387854446,
          0.05241971174698894,
          0.05469756071061255,
          0.056598719439597545,
          0.05403791746881037,
          0.05277766434641277,
          0.05543384676661136,
          0.05409859405195352,
          0.05744311478358951,
          0.05370917497873314,
          0.05566110190784197,
          0.05187644295426287,
          0.05493416014375002,
          0.055862948423310174
         ],
         "xaxis": "x5",
         "y": [
          0.8234162696311982,
          0.8238044820892888,
          0.8236103758602435,
          0.8228339509440621,
          0.8243868007764249,
          0.8231339332980413,
          0.823980942297512,
          0.823928004235045,
          0.8233986236103759,
          0.8227986589024174,
          0.8235397917769542,
          0.8238221281101111,
          0.8235750838185989,
          0.823116287277219,
          0.8234162696311982,
          0.8235397917769542,
          0.8224457384859714,
          0.8230104111522852,
          0.8233986236103759,
          0.8232398094229751,
          0.8233986236103759,
          0.8232045173813305,
          0.8230280571731076,
          0.8232221634021528,
          0.8233633315687312,
          0.8232927474854421,
          0.823169225339686,
          0.8230986412563966,
          0.8232751014646198,
          0.8234162696311982
         ],
         "yaxis": "y5"
        },
        {
         "customdata": [
          [
           "{\"epsilon\":7.517241379310345,\"theta\":null}",
           "{\"epsilon\":null}"
          ],
          [
           "{\"epsilon\":4.724137931034483,\"theta\":null}",
           "{\"epsilon\":null}"
          ],
          [
           "{\"epsilon\":8.758620689655173,\"theta\":null}",
           "{\"epsilon\":null}"
          ],
          [
           "{\"epsilon\":5.9655172413793105,\"theta\":null}",
           "{\"epsilon\":null}"
          ],
          [
           "{\"epsilon\":8.137931034482758,\"theta\":null}",
           "{\"epsilon\":null}"
          ],
          [
           "{\"epsilon\":1.6206896551724137,\"theta\":null}",
           "{\"epsilon\":null}"
          ],
          [
           "{\"epsilon\":3.1724137931034484,\"theta\":null}",
           "{\"epsilon\":null}"
          ],
          [
           "{\"epsilon\":6.275862068965518,\"theta\":null}",
           "{\"epsilon\":null}"
          ],
          [
           "{\"epsilon\":1.9310344827586208,\"theta\":null}",
           "{\"epsilon\":null}"
          ],
          [
           "{\"epsilon\":4.413793103448276,\"theta\":null}",
           "{\"epsilon\":null}"
          ],
          [
           "{\"epsilon\":9.379310344827587,\"theta\":null}",
           "{\"epsilon\":null}"
          ],
          [
           "{\"epsilon\":2.5517241379310347,\"theta\":null}",
           "{\"epsilon\":null}"
          ],
          [
           "{\"epsilon\":7.206896551724138,\"theta\":null}",
           "{\"epsilon\":null}"
          ],
          [
           "{\"epsilon\":7.827586206896552,\"theta\":null}",
           "{\"epsilon\":null}"
          ],
          [
           "{\"epsilon\":5.344827586206897,\"theta\":null}",
           "{\"epsilon\":null}"
          ],
          [
           "{\"epsilon\":6.586206896551724,\"theta\":null}",
           "{\"epsilon\":null}"
          ],
          [
           "{\"epsilon\":2.2413793103448274,\"theta\":null}",
           "{\"epsilon\":null}"
          ],
          [
           "{\"epsilon\":9.689655172413794,\"theta\":null}",
           "{\"epsilon\":null}"
          ],
          [
           "{\"epsilon\":9.068965517241379,\"theta\":null}",
           "{\"epsilon\":null}"
          ],
          [
           "{\"epsilon\":4.103448275862069,\"theta\":null}",
           "{\"epsilon\":null}"
          ],
          [
           "{\"epsilon\":1.3103448275862069,\"theta\":null}",
           "{\"epsilon\":null}"
          ],
          [
           "{\"epsilon\":6.8965517241379315,\"theta\":null}",
           "{\"epsilon\":null}"
          ],
          [
           "{\"epsilon\":1.0,\"theta\":null}",
           "{\"epsilon\":null}"
          ],
          [
           "{\"epsilon\":10.0,\"theta\":null}",
           "{\"epsilon\":null}"
          ],
          [
           "{\"epsilon\":5.0344827586206895,\"theta\":null}",
           "{\"epsilon\":null}"
          ],
          [
           "{\"epsilon\":8.448275862068966,\"theta\":null}",
           "{\"epsilon\":null}"
          ],
          [
           "{\"epsilon\":2.8620689655172415,\"theta\":null}",
           "{\"epsilon\":null}"
          ],
          [
           "{\"epsilon\":5.655172413793103,\"theta\":null}",
           "{\"epsilon\":null}"
          ],
          [
           "{\"epsilon\":3.4827586206896552,\"theta\":null}",
           "{\"epsilon\":null}"
          ],
          [
           "{\"epsilon\":3.793103448275862,\"theta\":null}",
           "{\"epsilon\":null}"
          ]
         ],
         "hovertemplate": "strategy=randomized_response<br>detection_tpr=1.0<br>detection_tnr=1.0<br>demographic_parity_user=%{x}<br>utility_user=%{y}<br>strategy_json=%{customdata[0]}<br>model_json=%{customdata[1]}<extra></extra>",
         "legendgroup": "randomized_response",
         "marker": {
          "color": "#00cc96",
          "symbol": "circle"
         },
         "mode": "markers",
         "name": "randomized_response",
         "orientation": "v",
         "showlegend": false,
         "type": "scatter",
         "x": [
          0.05236786441604123,
          0.05429217540633875,
          0.054560756352984185,
          0.05526398176465115,
          0.05276277724618321,
          0.0514743931452629,
          0.05502183952319095,
          0.05595175598497602,
          0.05678290745067484,
          0.05585026863612946,
          0.05659261254016237,
          0.056003603315923765,
          0.053625346134277475,
          0.053857579992718306,
          0.05107562978013569,
          0.054544226030818245,
          0.05561751973797722,
          0.05666268246661347,
          0.05489391346915912,
          0.05253665028717756,
          0.054055575973201264,
          0.05388181138485472,
          0.055412337727235216,
          0.05177110507043109,
          0.052372279042138946,
          0.05869674596684051,
          0.053790281470428566,
          0.05380793997481945,
          0.05414987729178875,
          0.053339106683241135
         ],
         "xaxis": "x6",
         "y": [
          0.8233280395270868,
          0.8235927298394212,
          0.8235044997353096,
          0.8226751367566614,
          0.8233280395270868,
          0.8236809599435325,
          0.8238574201517558,
          0.8236456679018882,
          0.8239103582142226,
          0.8237162519851774,
          0.823116287277219,
          0.8239985883183343,
          0.8236103758602435,
          0.8247220751720488,
          0.8232045173813305,
          0.8239985883183343,
          0.8233280395270866,
          0.8233809775895535,
          0.8240691724016234,
          0.8230457031939299,
          0.8229751191106406,
          0.8232398094229751,
          0.8233280395270868,
          0.8232927474854421,
          0.8233633315687312,
          0.8236280218810659,
          0.8233456855479091,
          0.8242985706723134,
          0.8233103935062644,
          0.8240162343391564
         ],
         "yaxis": "y6"
        },
        {
         "customdata": [
          [
           "{\"epsilon\":7.827586206896552,\"theta\":null}",
           "{\"epsilon\":null}"
          ],
          [
           "{\"epsilon\":10.0,\"theta\":null}",
           "{\"epsilon\":null}"
          ],
          [
           "{\"epsilon\":2.2413793103448274,\"theta\":null}",
           "{\"epsilon\":null}"
          ],
          [
           "{\"epsilon\":8.137931034482758,\"theta\":null}",
           "{\"epsilon\":null}"
          ],
          [
           "{\"epsilon\":2.8620689655172415,\"theta\":null}",
           "{\"epsilon\":null}"
          ],
          [
           "{\"epsilon\":5.9655172413793105,\"theta\":null}",
           "{\"epsilon\":null}"
          ],
          [
           "{\"epsilon\":5.344827586206897,\"theta\":null}",
           "{\"epsilon\":null}"
          ],
          [
           "{\"epsilon\":6.586206896551724,\"theta\":null}",
           "{\"epsilon\":null}"
          ],
          [
           "{\"epsilon\":9.068965517241379,\"theta\":null}",
           "{\"epsilon\":null}"
          ],
          [
           "{\"epsilon\":1.0,\"theta\":null}",
           "{\"epsilon\":null}"
          ],
          [
           "{\"epsilon\":5.0344827586206895,\"theta\":null}",
           "{\"epsilon\":null}"
          ],
          [
           "{\"epsilon\":1.3103448275862069,\"theta\":null}",
           "{\"epsilon\":null}"
          ],
          [
           "{\"epsilon\":8.448275862068966,\"theta\":null}",
           "{\"epsilon\":null}"
          ],
          [
           "{\"epsilon\":1.9310344827586208,\"theta\":null}",
           "{\"epsilon\":null}"
          ],
          [
           "{\"epsilon\":9.689655172413794,\"theta\":null}",
           "{\"epsilon\":null}"
          ],
          [
           "{\"epsilon\":6.275862068965518,\"theta\":null}",
           "{\"epsilon\":null}"
          ],
          [
           "{\"epsilon\":3.793103448275862,\"theta\":null}",
           "{\"epsilon\":null}"
          ],
          [
           "{\"epsilon\":7.206896551724138,\"theta\":null}",
           "{\"epsilon\":null}"
          ],
          [
           "{\"epsilon\":4.413793103448276,\"theta\":null}",
           "{\"epsilon\":null}"
          ],
          [
           "{\"epsilon\":3.1724137931034484,\"theta\":null}",
           "{\"epsilon\":null}"
          ],
          [
           "{\"epsilon\":3.4827586206896552,\"theta\":null}",
           "{\"epsilon\":null}"
          ],
          [
           "{\"epsilon\":1.6206896551724137,\"theta\":null}",
           "{\"epsilon\":null}"
          ],
          [
           "{\"epsilon\":4.103448275862069,\"theta\":null}",
           "{\"epsilon\":null}"
          ],
          [
           "{\"epsilon\":2.5517241379310347,\"theta\":null}",
           "{\"epsilon\":null}"
          ],
          [
           "{\"epsilon\":8.758620689655173,\"theta\":null}",
           "{\"epsilon\":null}"
          ],
          [
           "{\"epsilon\":7.517241379310345,\"theta\":null}",
           "{\"epsilon\":null}"
          ],
          [
           "{\"epsilon\":9.379310344827587,\"theta\":null}",
           "{\"epsilon\":null}"
          ],
          [
           "{\"epsilon\":6.8965517241379315,\"theta\":null}",
           "{\"epsilon\":null}"
          ],
          [
           "{\"epsilon\":5.655172413793103,\"theta\":null}",
           "{\"epsilon\":null}"
          ],
          [
           "{\"epsilon\":4.724137931034483,\"theta\":null}",
           "{\"epsilon\":null}"
          ]
         ],
         "hovertemplate": "strategy=randomized_response<br>detection_tpr=0.95<br>detection_tnr=0.95<br>demographic_parity_user=%{x}<br>utility_user=%{y}<br>strategy_json=%{customdata[0]}<br>model_json=%{customdata[1]}<extra></extra>",
         "legendgroup": "randomized_response",
         "marker": {
          "color": "#00cc96",
          "symbol": "circle"
         },
         "mode": "markers",
         "name": "randomized_response",
         "orientation": "v",
         "showlegend": false,
         "type": "scatter",
         "x": [
          0.05431917820263649,
          0.054150956422612626,
          0.054409628986238745,
          0.05607639559513515,
          0.05409746586972856,
          0.05690092512168733,
          0.054694789306451205,
          0.05285487125172187,
          0.05517517420298525,
          0.05432528510207165,
          0.05446204040829895,
          0.053532688037626355,
          0.05476485923290229,
          0.056567817056913494,
          0.05531362178254998,
          0.05612824292608283,
          0.05568425416915448,
          0.05361985237735587,
          0.0541178957782808,
          0.05480731322054207,
          0.05453154624363756,
          0.054000957238092194,
          0.05430983391072963,
          0.05569416255217382,
          0.05422656915738644,
          0.05556680058925447,
          0.05815512039605084,
          0.053331969704383156,
          0.05337550282284683,
          0.05644538475980326
         ],
         "xaxis": "x3",
         "y": [
          0.8230809952355743,
          0.8240515263808013,
          0.8233633315687312,
          0.823928004235045,
          0.8234692076936652,
          0.8235574377977766,
          0.8231692253396858,
          0.8238044820892888,
          0.8225163225692607,
          0.8232045173813305,
          0.8235574377977766,
          0.8237162519851774,
          0.824104464443268,
          0.8226398447150167,
          0.8223928004235045,
          0.8229398270689959,
          0.8228868890065291,
          0.8236103758602434,
          0.8226045526733723,
          0.8235221457561319,
          0.8229927651314627,
          0.8232398094229751,
          0.8236280218810658,
          0.8237691900476442,
          0.8226927827774837,
          0.8234692076936652,
          0.8230986412563966,
          0.8233986236103761,
          0.8232751014646198,
          0.8234868537144873
         ],
         "yaxis": "y3"
        },
        {
         "customdata": [
          [
           "{\"epsilon\":2.8620689655172415,\"theta\":null}",
           "{\"epsilon\":null}"
          ],
          [
           "{\"epsilon\":8.758620689655173,\"theta\":null}",
           "{\"epsilon\":null}"
          ],
          [
           "{\"epsilon\":7.827586206896552,\"theta\":null}",
           "{\"epsilon\":null}"
          ],
          [
           "{\"epsilon\":1.6206896551724137,\"theta\":null}",
           "{\"epsilon\":null}"
          ],
          [
           "{\"epsilon\":9.689655172413794,\"theta\":null}",
           "{\"epsilon\":null}"
          ],
          [
           "{\"epsilon\":5.0344827586206895,\"theta\":null}",
           "{\"epsilon\":null}"
          ],
          [
           "{\"epsilon\":6.8965517241379315,\"theta\":null}",
           "{\"epsilon\":null}"
          ],
          [
           "{\"epsilon\":1.3103448275862069,\"theta\":null}",
           "{\"epsilon\":null}"
          ],
          [
           "{\"epsilon\":5.344827586206897,\"theta\":null}",
           "{\"epsilon\":null}"
          ],
          [
           "{\"epsilon\":6.586206896551724,\"theta\":null}",
           "{\"epsilon\":null}"
          ],
          [
           "{\"epsilon\":9.068965517241379,\"theta\":null}",
           "{\"epsilon\":null}"
          ],
          [
           "{\"epsilon\":8.448275862068966,\"theta\":null}",
           "{\"epsilon\":null}"
          ],
          [
           "{\"epsilon\":1.9310344827586208,\"theta\":null}",
           "{\"epsilon\":null}"
          ],
          [
           "{\"epsilon\":9.379310344827587,\"theta\":null}",
           "{\"epsilon\":null}"
          ],
          [
           "{\"epsilon\":5.655172413793103,\"theta\":null}",
           "{\"epsilon\":null}"
          ],
          [
           "{\"epsilon\":4.103448275862069,\"theta\":null}",
           "{\"epsilon\":null}"
          ],
          [
           "{\"epsilon\":5.9655172413793105,\"theta\":null}",
           "{\"epsilon\":null}"
          ],
          [
           "{\"epsilon\":3.4827586206896552,\"theta\":null}",
           "{\"epsilon\":null}"
          ],
          [
           "{\"epsilon\":8.137931034482758,\"theta\":null}",
           "{\"epsilon\":null}"
          ],
          [
           "{\"epsilon\":6.275862068965518,\"theta\":null}",
           "{\"epsilon\":null}"
          ],
          [
           "{\"epsilon\":1.0,\"theta\":null}",
           "{\"epsilon\":null}"
          ],
          [
           "{\"epsilon\":10.0,\"theta\":null}",
           "{\"epsilon\":null}"
          ],
          [
           "{\"epsilon\":2.5517241379310347,\"theta\":null}",
           "{\"epsilon\":null}"
          ],
          [
           "{\"epsilon\":2.2413793103448274,\"theta\":null}",
           "{\"epsilon\":null}"
          ],
          [
           "{\"epsilon\":4.724137931034483,\"theta\":null}",
           "{\"epsilon\":null}"
          ],
          [
           "{\"epsilon\":7.206896551724138,\"theta\":null}",
           "{\"epsilon\":null}"
          ],
          [
           "{\"epsilon\":3.1724137931034484,\"theta\":null}",
           "{\"epsilon\":null}"
          ],
          [
           "{\"epsilon\":3.793103448275862,\"theta\":null}",
           "{\"epsilon\":null}"
          ],
          [
           "{\"epsilon\":7.517241379310345,\"theta\":null}",
           "{\"epsilon\":null}"
          ],
          [
           "{\"epsilon\":4.413793103448276,\"theta\":null}",
           "{\"epsilon\":null}"
          ]
         ],
         "hovertemplate": "strategy=randomized_response<br>detection_tpr=0.95<br>detection_tnr=1.0<br>demographic_parity_user=%{x}<br>utility_user=%{y}<br>strategy_json=%{customdata[0]}<br>model_json=%{customdata[1]}<extra></extra>",
         "legendgroup": "randomized_response",
         "marker": {
          "color": "#00cc96",
          "symbol": "circle"
         },
         "mode": "markers",
         "name": "randomized_response",
         "orientation": "v",
         "showlegend": false,
         "type": "scatter",
         "x": [
          0.056323467502404446,
          0.0574607732879804,
          0.05523697896835339,
          0.05239820270761282,
          0.05350183470634338,
          0.054604902613961434,
          0.05397559766373082,
          0.050234520880016495,
          0.055998060507601075,
          0.054909364660501156,
          0.05354428869398313,
          0.05518287527295571,
          0.0550494064106012,
          0.054123953626314905,
          0.05526341767353865,
          0.05538754224398632,
          0.05426625174086488,
          0.052755591215924144,
          0.05392210711084673,
          0.05205020754260942,
          0.05572285762180904,
          0.05495736145646363,
          0.055650065342597685,
          0.053084848745712766,
          0.05185051928878901,
          0.05314552532885593,
          0.054383190281053484,
          0.05438647672492625,
          0.05589328671488175,
          0.054889498843061414
         ],
         "xaxis": "x4",
         "y": [
          0.8233280395270868,
          0.8230104111522852,
          0.8234339156520205,
          0.8230280571731076,
          0.8233986236103759,
          0.822657490735839,
          0.8227810128815951,
          0.8239632962766896,
          0.8236103758602434,
          0.8235750838185989,
          0.8238044820892888,
          0.8231515793188636,
          0.8230104111522852,
          0.823928004235045,
          0.8229045350273513,
          0.8235574377977766,
          0.8238221281101111,
          0.823063349214752,
          0.8233986236103759,
          0.8228339509440621,
          0.8232751014646198,
          0.8234162696311982,
          0.8233103935062642,
          0.823751544026822,
          0.8230809952355743,
          0.8238927121934004,
          0.8233280395270868,
          0.8235397917769542,
          0.822939827068996,
          0.8235044997353096
         ],
         "yaxis": "y4"
        },
        {
         "customdata": [
          [
           "{\"epsilon\":2.8620689655172415,\"theta\":null}",
           "{\"epsilon\":null}"
          ],
          [
           "{\"epsilon\":4.103448275862069,\"theta\":null}",
           "{\"epsilon\":null}"
          ],
          [
           "{\"epsilon\":8.758620689655173,\"theta\":null}",
           "{\"epsilon\":null}"
          ],
          [
           "{\"epsilon\":5.9655172413793105,\"theta\":null}",
           "{\"epsilon\":null}"
          ],
          [
           "{\"epsilon\":4.413793103448276,\"theta\":null}",
           "{\"epsilon\":null}"
          ],
          [
           "{\"epsilon\":8.137931034482758,\"theta\":null}",
           "{\"epsilon\":null}"
          ],
          [
           "{\"epsilon\":1.9310344827586208,\"theta\":null}",
           "{\"epsilon\":null}"
          ],
          [
           "{\"epsilon\":9.379310344827587,\"theta\":null}",
           "{\"epsilon\":null}"
          ],
          [
           "{\"epsilon\":4.724137931034483,\"theta\":null}",
           "{\"epsilon\":null}"
          ],
          [
           "{\"epsilon\":6.275862068965518,\"theta\":null}",
           "{\"epsilon\":null}"
          ],
          [
           "{\"epsilon\":1.0,\"theta\":null}",
           "{\"epsilon\":null}"
          ],
          [
           "{\"epsilon\":6.8965517241379315,\"theta\":null}",
           "{\"epsilon\":null}"
          ],
          [
           "{\"epsilon\":3.4827586206896552,\"theta\":null}",
           "{\"epsilon\":null}"
          ],
          [
           "{\"epsilon\":7.827586206896552,\"theta\":null}",
           "{\"epsilon\":null}"
          ],
          [
           "{\"epsilon\":5.0344827586206895,\"theta\":null}",
           "{\"epsilon\":null}"
          ],
          [
           "{\"epsilon\":3.1724137931034484,\"theta\":null}",
           "{\"epsilon\":null}"
          ],
          [
           "{\"epsilon\":1.3103448275862069,\"theta\":null}",
           "{\"epsilon\":null}"
          ],
          [
           "{\"epsilon\":2.5517241379310347,\"theta\":null}",
           "{\"epsilon\":null}"
          ],
          [
           "{\"epsilon\":3.793103448275862,\"theta\":null}",
           "{\"epsilon\":null}"
          ],
          [
           "{\"epsilon\":2.2413793103448274,\"theta\":null}",
           "{\"epsilon\":null}"
          ],
          [
           "{\"epsilon\":7.517241379310345,\"theta\":null}",
           "{\"epsilon\":null}"
          ],
          [
           "{\"epsilon\":6.586206896551724,\"theta\":null}",
           "{\"epsilon\":null}"
          ],
          [
           "{\"epsilon\":5.655172413793103,\"theta\":null}",
           "{\"epsilon\":null}"
          ],
          [
           "{\"epsilon\":8.448275862068966,\"theta\":null}",
           "{\"epsilon\":null}"
          ],
          [
           "{\"epsilon\":10.0,\"theta\":null}",
           "{\"epsilon\":null}"
          ],
          [
           "{\"epsilon\":9.689655172413794,\"theta\":null}",
           "{\"epsilon\":null}"
          ],
          [
           "{\"epsilon\":9.068965517241379,\"theta\":null}",
           "{\"epsilon\":null}"
          ],
          [
           "{\"epsilon\":5.344827586206897,\"theta\":null}",
           "{\"epsilon\":null}"
          ],
          [
           "{\"epsilon\":7.206896551724138,\"theta\":null}",
           "{\"epsilon\":null}"
          ],
          [
           "{\"epsilon\":1.6206896551724137,\"theta\":null}",
           "{\"epsilon\":null}"
          ]
         ],
         "hovertemplate": "strategy=randomized_response<br>detection_tpr=0.5<br>detection_tnr=1.0<br>demographic_parity_user=%{x}<br>utility_user=%{y}<br>strategy_json=%{customdata[0]}<br>model_json=%{customdata[1]}<extra></extra>",
         "legendgroup": "randomized_response",
         "marker": {
          "color": "#00cc96",
          "symbol": "circle"
         },
         "mode": "markers",
         "name": "randomized_response",
         "orientation": "v",
         "showlegend": false,
         "type": "scatter",
         "x": [
          0.055856890575276055,
          0.05421332527909328,
          0.055691440199413564,
          0.052526128761644655,
          0.05433796488925237,
          0.054674923489011464,
          0.05366287045610814,
          0.05593794801557039,
          0.054572357009341,
          0.05204579291651169,
          0.054181858805296725,
          0.05452656752642735,
          0.057558361050440654,
          0.05204410064317424,
          0.057364779696055426,
          0.05354870332008087,
          0.05596002114605904,
          0.0550714795410898,
          0.05564067199928975,
          0.052714780450220745,
          0.05501136704905912,
          0.05504724814895342,
          0.05476260286845234,
          0.05492918142653982,
          0.05619277004421126,
          0.05587670734131471,
          0.05561474833381589,
          0.05480510590749323,
          0.055705199117418135,
          0.056586554692128276
         ],
         "xaxis": "x2",
         "y": [
          0.8235397917769542,
          0.8236456679018882,
          0.8231868713605082,
          0.8236280218810659,
          0.8229398270689959,
          0.8235574377977766,
          0.8235044997353096,
          0.822886889006529,
          0.8234515616728428,
          0.82258690665255,
          0.8232398094229751,
          0.8236103758602435,
          0.824333862713958,
          0.8239456502558673,
          0.822833950944062,
          0.8232045173813306,
          0.8234868537144873,
          0.8236456679018882,
          0.8234339156520205,
          0.8232045173813305,
          0.8233809775895535,
          0.8228692429857066,
          0.8239985883183343,
          0.8238927121934003,
          0.8231339332980413,
          0.8233633315687312,
          0.8240868184224457,
          0.8228515969648844,
          0.8238044820892888,
          0.8231339332980413
         ],
         "yaxis": "y2"
        }
       ],
       "layout": {
        "annotations": [
         {
          "font": {},
          "showarrow": false,
          "text": "detection_tnr=0.95",
          "x": 0.24,
          "xanchor": "center",
          "xref": "paper",
          "y": 0.9999999999999998,
          "yanchor": "bottom",
          "yref": "paper"
         },
         {
          "font": {},
          "showarrow": false,
          "text": "detection_tnr=1.0",
          "x": 0.74,
          "xanchor": "center",
          "xref": "paper",
          "y": 0.9999999999999998,
          "yanchor": "bottom",
          "yref": "paper"
         },
         {
          "font": {},
          "showarrow": false,
          "text": "detection_tpr=0.5",
          "textangle": 90,
          "x": 0.98,
          "xanchor": "left",
          "xref": "paper",
          "y": 0.15666666666666665,
          "yanchor": "middle",
          "yref": "paper"
         },
         {
          "font": {},
          "showarrow": false,
          "text": "detection_tpr=0.95",
          "textangle": 90,
          "x": 0.98,
          "xanchor": "left",
          "xref": "paper",
          "y": 0.4999999999999999,
          "yanchor": "middle",
          "yref": "paper"
         },
         {
          "font": {},
          "showarrow": false,
          "text": "detection_tpr=1.0",
          "textangle": 90,
          "x": 0.98,
          "xanchor": "left",
          "xref": "paper",
          "y": 0.8433333333333332,
          "yanchor": "middle",
          "yref": "paper"
         }
        ],
        "legend": {
         "title": {
          "text": "strategy"
         },
         "tracegroupgap": 0
        },
        "margin": {
         "t": 60
        },
        "template": {
         "data": {
          "bar": [
           {
            "error_x": {
             "color": "#2a3f5f"
            },
            "error_y": {
             "color": "#2a3f5f"
            },
            "marker": {
             "line": {
              "color": "#E5ECF6",
              "width": 0.5
             },
             "pattern": {
              "fillmode": "overlay",
              "size": 10,
              "solidity": 0.2
             }
            },
            "type": "bar"
           }
          ],
          "barpolar": [
           {
            "marker": {
             "line": {
              "color": "#E5ECF6",
              "width": 0.5
             },
             "pattern": {
              "fillmode": "overlay",
              "size": 10,
              "solidity": 0.2
             }
            },
            "type": "barpolar"
           }
          ],
          "carpet": [
           {
            "aaxis": {
             "endlinecolor": "#2a3f5f",
             "gridcolor": "white",
             "linecolor": "white",
             "minorgridcolor": "white",
             "startlinecolor": "#2a3f5f"
            },
            "baxis": {
             "endlinecolor": "#2a3f5f",
             "gridcolor": "white",
             "linecolor": "white",
             "minorgridcolor": "white",
             "startlinecolor": "#2a3f5f"
            },
            "type": "carpet"
           }
          ],
          "choropleth": [
           {
            "colorbar": {
             "outlinewidth": 0,
             "ticks": ""
            },
            "type": "choropleth"
           }
          ],
          "contour": [
           {
            "colorbar": {
             "outlinewidth": 0,
             "ticks": ""
            },
            "colorscale": [
             [
              0,
              "#0d0887"
             ],
             [
              0.1111111111111111,
              "#46039f"
             ],
             [
              0.2222222222222222,
              "#7201a8"
             ],
             [
              0.3333333333333333,
              "#9c179e"
             ],
             [
              0.4444444444444444,
              "#bd3786"
             ],
             [
              0.5555555555555556,
              "#d8576b"
             ],
             [
              0.6666666666666666,
              "#ed7953"
             ],
             [
              0.7777777777777778,
              "#fb9f3a"
             ],
             [
              0.8888888888888888,
              "#fdca26"
             ],
             [
              1,
              "#f0f921"
             ]
            ],
            "type": "contour"
           }
          ],
          "contourcarpet": [
           {
            "colorbar": {
             "outlinewidth": 0,
             "ticks": ""
            },
            "type": "contourcarpet"
           }
          ],
          "heatmap": [
           {
            "colorbar": {
             "outlinewidth": 0,
             "ticks": ""
            },
            "colorscale": [
             [
              0,
              "#0d0887"
             ],
             [
              0.1111111111111111,
              "#46039f"
             ],
             [
              0.2222222222222222,
              "#7201a8"
             ],
             [
              0.3333333333333333,
              "#9c179e"
             ],
             [
              0.4444444444444444,
              "#bd3786"
             ],
             [
              0.5555555555555556,
              "#d8576b"
             ],
             [
              0.6666666666666666,
              "#ed7953"
             ],
             [
              0.7777777777777778,
              "#fb9f3a"
             ],
             [
              0.8888888888888888,
              "#fdca26"
             ],
             [
              1,
              "#f0f921"
             ]
            ],
            "type": "heatmap"
           }
          ],
          "heatmapgl": [
           {
            "colorbar": {
             "outlinewidth": 0,
             "ticks": ""
            },
            "colorscale": [
             [
              0,
              "#0d0887"
             ],
             [
              0.1111111111111111,
              "#46039f"
             ],
             [
              0.2222222222222222,
              "#7201a8"
             ],
             [
              0.3333333333333333,
              "#9c179e"
             ],
             [
              0.4444444444444444,
              "#bd3786"
             ],
             [
              0.5555555555555556,
              "#d8576b"
             ],
             [
              0.6666666666666666,
              "#ed7953"
             ],
             [
              0.7777777777777778,
              "#fb9f3a"
             ],
             [
              0.8888888888888888,
              "#fdca26"
             ],
             [
              1,
              "#f0f921"
             ]
            ],
            "type": "heatmapgl"
           }
          ],
          "histogram": [
           {
            "marker": {
             "pattern": {
              "fillmode": "overlay",
              "size": 10,
              "solidity": 0.2
             }
            },
            "type": "histogram"
           }
          ],
          "histogram2d": [
           {
            "colorbar": {
             "outlinewidth": 0,
             "ticks": ""
            },
            "colorscale": [
             [
              0,
              "#0d0887"
             ],
             [
              0.1111111111111111,
              "#46039f"
             ],
             [
              0.2222222222222222,
              "#7201a8"
             ],
             [
              0.3333333333333333,
              "#9c179e"
             ],
             [
              0.4444444444444444,
              "#bd3786"
             ],
             [
              0.5555555555555556,
              "#d8576b"
             ],
             [
              0.6666666666666666,
              "#ed7953"
             ],
             [
              0.7777777777777778,
              "#fb9f3a"
             ],
             [
              0.8888888888888888,
              "#fdca26"
             ],
             [
              1,
              "#f0f921"
             ]
            ],
            "type": "histogram2d"
           }
          ],
          "histogram2dcontour": [
           {
            "colorbar": {
             "outlinewidth": 0,
             "ticks": ""
            },
            "colorscale": [
             [
              0,
              "#0d0887"
             ],
             [
              0.1111111111111111,
              "#46039f"
             ],
             [
              0.2222222222222222,
              "#7201a8"
             ],
             [
              0.3333333333333333,
              "#9c179e"
             ],
             [
              0.4444444444444444,
              "#bd3786"
             ],
             [
              0.5555555555555556,
              "#d8576b"
             ],
             [
              0.6666666666666666,
              "#ed7953"
             ],
             [
              0.7777777777777778,
              "#fb9f3a"
             ],
             [
              0.8888888888888888,
              "#fdca26"
             ],
             [
              1,
              "#f0f921"
             ]
            ],
            "type": "histogram2dcontour"
           }
          ],
          "mesh3d": [
           {
            "colorbar": {
             "outlinewidth": 0,
             "ticks": ""
            },
            "type": "mesh3d"
           }
          ],
          "parcoords": [
           {
            "line": {
             "colorbar": {
              "outlinewidth": 0,
              "ticks": ""
             }
            },
            "type": "parcoords"
           }
          ],
          "pie": [
           {
            "automargin": true,
            "type": "pie"
           }
          ],
          "scatter": [
           {
            "fillpattern": {
             "fillmode": "overlay",
             "size": 10,
             "solidity": 0.2
            },
            "type": "scatter"
           }
          ],
          "scatter3d": [
           {
            "line": {
             "colorbar": {
              "outlinewidth": 0,
              "ticks": ""
             }
            },
            "marker": {
             "colorbar": {
              "outlinewidth": 0,
              "ticks": ""
             }
            },
            "type": "scatter3d"
           }
          ],
          "scattercarpet": [
           {
            "marker": {
             "colorbar": {
              "outlinewidth": 0,
              "ticks": ""
             }
            },
            "type": "scattercarpet"
           }
          ],
          "scattergeo": [
           {
            "marker": {
             "colorbar": {
              "outlinewidth": 0,
              "ticks": ""
             }
            },
            "type": "scattergeo"
           }
          ],
          "scattergl": [
           {
            "marker": {
             "colorbar": {
              "outlinewidth": 0,
              "ticks": ""
             }
            },
            "type": "scattergl"
           }
          ],
          "scattermapbox": [
           {
            "marker": {
             "colorbar": {
              "outlinewidth": 0,
              "ticks": ""
             }
            },
            "type": "scattermapbox"
           }
          ],
          "scatterpolar": [
           {
            "marker": {
             "colorbar": {
              "outlinewidth": 0,
              "ticks": ""
             }
            },
            "type": "scatterpolar"
           }
          ],
          "scatterpolargl": [
           {
            "marker": {
             "colorbar": {
              "outlinewidth": 0,
              "ticks": ""
             }
            },
            "type": "scatterpolargl"
           }
          ],
          "scatterternary": [
           {
            "marker": {
             "colorbar": {
              "outlinewidth": 0,
              "ticks": ""
             }
            },
            "type": "scatterternary"
           }
          ],
          "surface": [
           {
            "colorbar": {
             "outlinewidth": 0,
             "ticks": ""
            },
            "colorscale": [
             [
              0,
              "#0d0887"
             ],
             [
              0.1111111111111111,
              "#46039f"
             ],
             [
              0.2222222222222222,
              "#7201a8"
             ],
             [
              0.3333333333333333,
              "#9c179e"
             ],
             [
              0.4444444444444444,
              "#bd3786"
             ],
             [
              0.5555555555555556,
              "#d8576b"
             ],
             [
              0.6666666666666666,
              "#ed7953"
             ],
             [
              0.7777777777777778,
              "#fb9f3a"
             ],
             [
              0.8888888888888888,
              "#fdca26"
             ],
             [
              1,
              "#f0f921"
             ]
            ],
            "type": "surface"
           }
          ],
          "table": [
           {
            "cells": {
             "fill": {
              "color": "#EBF0F8"
             },
             "line": {
              "color": "white"
             }
            },
            "header": {
             "fill": {
              "color": "#C8D4E3"
             },
             "line": {
              "color": "white"
             }
            },
            "type": "table"
           }
          ]
         },
         "layout": {
          "annotationdefaults": {
           "arrowcolor": "#2a3f5f",
           "arrowhead": 0,
           "arrowwidth": 1
          },
          "autotypenumbers": "strict",
          "coloraxis": {
           "colorbar": {
            "outlinewidth": 0,
            "ticks": ""
           }
          },
          "colorscale": {
           "diverging": [
            [
             0,
             "#8e0152"
            ],
            [
             0.1,
             "#c51b7d"
            ],
            [
             0.2,
             "#de77ae"
            ],
            [
             0.3,
             "#f1b6da"
            ],
            [
             0.4,
             "#fde0ef"
            ],
            [
             0.5,
             "#f7f7f7"
            ],
            [
             0.6,
             "#e6f5d0"
            ],
            [
             0.7,
             "#b8e186"
            ],
            [
             0.8,
             "#7fbc41"
            ],
            [
             0.9,
             "#4d9221"
            ],
            [
             1,
             "#276419"
            ]
           ],
           "sequential": [
            [
             0,
             "#0d0887"
            ],
            [
             0.1111111111111111,
             "#46039f"
            ],
            [
             0.2222222222222222,
             "#7201a8"
            ],
            [
             0.3333333333333333,
             "#9c179e"
            ],
            [
             0.4444444444444444,
             "#bd3786"
            ],
            [
             0.5555555555555556,
             "#d8576b"
            ],
            [
             0.6666666666666666,
             "#ed7953"
            ],
            [
             0.7777777777777778,
             "#fb9f3a"
            ],
            [
             0.8888888888888888,
             "#fdca26"
            ],
            [
             1,
             "#f0f921"
            ]
           ],
           "sequentialminus": [
            [
             0,
             "#0d0887"
            ],
            [
             0.1111111111111111,
             "#46039f"
            ],
            [
             0.2222222222222222,
             "#7201a8"
            ],
            [
             0.3333333333333333,
             "#9c179e"
            ],
            [
             0.4444444444444444,
             "#bd3786"
            ],
            [
             0.5555555555555556,
             "#d8576b"
            ],
            [
             0.6666666666666666,
             "#ed7953"
            ],
            [
             0.7777777777777778,
             "#fb9f3a"
            ],
            [
             0.8888888888888888,
             "#fdca26"
            ],
            [
             1,
             "#f0f921"
            ]
           ]
          },
          "colorway": [
           "#636efa",
           "#EF553B",
           "#00cc96",
           "#ab63fa",
           "#FFA15A",
           "#19d3f3",
           "#FF6692",
           "#B6E880",
           "#FF97FF",
           "#FECB52"
          ],
          "font": {
           "color": "#2a3f5f"
          },
          "geo": {
           "bgcolor": "white",
           "lakecolor": "white",
           "landcolor": "#E5ECF6",
           "showlakes": true,
           "showland": true,
           "subunitcolor": "white"
          },
          "hoverlabel": {
           "align": "left"
          },
          "hovermode": "closest",
          "mapbox": {
           "style": "light"
          },
          "paper_bgcolor": "white",
          "plot_bgcolor": "#E5ECF6",
          "polar": {
           "angularaxis": {
            "gridcolor": "white",
            "linecolor": "white",
            "ticks": ""
           },
           "bgcolor": "#E5ECF6",
           "radialaxis": {
            "gridcolor": "white",
            "linecolor": "white",
            "ticks": ""
           }
          },
          "scene": {
           "xaxis": {
            "backgroundcolor": "#E5ECF6",
            "gridcolor": "white",
            "gridwidth": 2,
            "linecolor": "white",
            "showbackground": true,
            "ticks": "",
            "zerolinecolor": "white"
           },
           "yaxis": {
            "backgroundcolor": "#E5ECF6",
            "gridcolor": "white",
            "gridwidth": 2,
            "linecolor": "white",
            "showbackground": true,
            "ticks": "",
            "zerolinecolor": "white"
           },
           "zaxis": {
            "backgroundcolor": "#E5ECF6",
            "gridcolor": "white",
            "gridwidth": 2,
            "linecolor": "white",
            "showbackground": true,
            "ticks": "",
            "zerolinecolor": "white"
           }
          },
          "shapedefaults": {
           "line": {
            "color": "#2a3f5f"
           }
          },
          "ternary": {
           "aaxis": {
            "gridcolor": "white",
            "linecolor": "white",
            "ticks": ""
           },
           "baxis": {
            "gridcolor": "white",
            "linecolor": "white",
            "ticks": ""
           },
           "bgcolor": "#E5ECF6",
           "caxis": {
            "gridcolor": "white",
            "linecolor": "white",
            "ticks": ""
           }
          },
          "title": {
           "x": 0.05
          },
          "xaxis": {
           "automargin": true,
           "gridcolor": "white",
           "linecolor": "white",
           "ticks": "",
           "title": {
            "standoff": 15
           },
           "zerolinecolor": "white",
           "zerolinewidth": 2
          },
          "yaxis": {
           "automargin": true,
           "gridcolor": "white",
           "linecolor": "white",
           "ticks": "",
           "title": {
            "standoff": 15
           },
           "zerolinecolor": "white",
           "zerolinewidth": 2
          }
         }
        },
        "xaxis": {
         "anchor": "y",
         "domain": [
          0,
          0.48
         ],
         "title": {
          "text": "demographic_parity_user"
         }
        },
        "xaxis2": {
         "anchor": "y2",
         "domain": [
          0.5,
          0.98
         ],
         "matches": "x",
         "title": {
          "text": "demographic_parity_user"
         }
        },
        "xaxis3": {
         "anchor": "y3",
         "domain": [
          0,
          0.48
         ],
         "matches": "x",
         "showticklabels": false
        },
        "xaxis4": {
         "anchor": "y4",
         "domain": [
          0.5,
          0.98
         ],
         "matches": "x",
         "showticklabels": false
        },
        "xaxis5": {
         "anchor": "y5",
         "domain": [
          0,
          0.48
         ],
         "matches": "x",
         "showticklabels": false
        },
        "xaxis6": {
         "anchor": "y6",
         "domain": [
          0.5,
          0.98
         ],
         "matches": "x",
         "showticklabels": false
        },
        "yaxis": {
         "anchor": "x",
         "domain": [
          0,
          0.3133333333333333
         ],
         "title": {
          "text": "utility_user"
         }
        },
        "yaxis2": {
         "anchor": "x2",
         "domain": [
          0,
          0.3133333333333333
         ],
         "matches": "y",
         "showticklabels": false
        },
        "yaxis3": {
         "anchor": "x3",
         "domain": [
          0.34333333333333327,
          0.6566666666666665
         ],
         "matches": "y",
         "title": {
          "text": "utility_user"
         }
        },
        "yaxis4": {
         "anchor": "x4",
         "domain": [
          0.34333333333333327,
          0.6566666666666665
         ],
         "matches": "y",
         "showticklabels": false
        },
        "yaxis5": {
         "anchor": "x5",
         "domain": [
          0.6866666666666665,
          0.9999999999999998
         ],
         "matches": "y",
         "title": {
          "text": "utility_user"
         }
        },
        "yaxis6": {
         "anchor": "x6",
         "domain": [
          0.6866666666666665,
          0.9999999999999998
         ],
         "matches": "y",
         "showticklabels": false
        }
       }
      }
     },
     "metadata": {},
     "output_type": "display_data"
    }
   ],
   "source": [
    "fig = px.scatter(\n",
    "    audit,\n",
    "    x=\"demographic_parity_user\",\n",
    "    y=\"utility_user\",\n",
    "    color=\"strategy\",\n",
    "    category_orders={\"strategy\": audit[\"strategy\"].unique().sort().to_list()},\n",
    "    facet_row=\"detection_tpr\",\n",
    "    facet_col=\"detection_tnr\",\n",
    "    hover_data=[\"strategy_json\", \"model_json\"],\n",
    ")\n",
    "fig.show()"
   ]
  },
  {
   "cell_type": "code",
   "execution_count": 68,
   "metadata": {},
   "outputs": [
    {
     "data": {
      "application/vnd.plotly.v1+json": {
       "config": {
        "plotlyServerURL": "https://plot.ly"
       },
       "data": [
        {
         "customdata": [
          [
           "{\"epsilon\":null,\"theta\":0.35517241379310344}",
           "{\"epsilon\":null}",
           "unconstrained"
          ],
          [
           "{\"epsilon\":null,\"theta\":0.3137931034482758}",
           "{\"epsilon\":null}",
           "unconstrained"
          ],
          [
           "{\"epsilon\":null,\"theta\":0.49310344827586206}",
           "{\"epsilon\":null}",
           "unconstrained"
          ],
          [
           "{\"epsilon\":null,\"theta\":0.45172413793103444}",
           "{\"epsilon\":null}",
           "unconstrained"
          ],
          [
           "{\"epsilon\":null,\"theta\":0.5344827586206896}",
           "{\"epsilon\":null}",
           "unconstrained"
          ],
          [
           "{\"epsilon\":null,\"theta\":0.5758620689655172}",
           "{\"epsilon\":null}",
           "unconstrained"
          ],
          [
           "{\"epsilon\":null,\"theta\":0.3}",
           "{\"epsilon\":null}",
           "unconstrained"
          ],
          [
           "{\"epsilon\":null,\"theta\":0.6862068965517241}",
           "{\"epsilon\":null}",
           "unconstrained"
          ],
          [
           "{\"epsilon\":null,\"theta\":0.4655172413793103}",
           "{\"epsilon\":null}",
           "unconstrained"
          ],
          [
           "{\"epsilon\":null,\"theta\":0.4241379310344827}",
           "{\"epsilon\":null}",
           "unconstrained"
          ],
          [
           "{\"epsilon\":null,\"theta\":0.5896551724137931}",
           "{\"epsilon\":null}",
           "unconstrained"
          ],
          [
           "{\"epsilon\":null,\"theta\":0.6586206896551723}",
           "{\"epsilon\":null}",
           "unconstrained"
          ],
          [
           "{\"epsilon\":null,\"theta\":0.396551724137931}",
           "{\"epsilon\":null}",
           "unconstrained"
          ],
          [
           "{\"epsilon\":null,\"theta\":0.6724137931034482}",
           "{\"epsilon\":null}",
           "unconstrained"
          ],
          [
           "{\"epsilon\":null,\"theta\":0.6172413793103448}",
           "{\"epsilon\":null}",
           "unconstrained"
          ],
          [
           "{\"epsilon\":null,\"theta\":0.4103448275862069}",
           "{\"epsilon\":null}",
           "unconstrained"
          ],
          [
           "{\"epsilon\":null,\"theta\":0.34137931034482755}",
           "{\"epsilon\":null}",
           "unconstrained"
          ],
          [
           "{\"epsilon\":null,\"theta\":0.506896551724138}",
           "{\"epsilon\":null}",
           "unconstrained"
          ],
          [
           "{\"epsilon\":null,\"theta\":0.5620689655172413}",
           "{\"epsilon\":null}",
           "unconstrained"
          ],
          [
           "{\"epsilon\":null,\"theta\":0.5482758620689655}",
           "{\"epsilon\":null}",
           "unconstrained"
          ],
          [
           "{\"epsilon\":null,\"theta\":0.36896551724137927}",
           "{\"epsilon\":null}",
           "unconstrained"
          ],
          [
           "{\"epsilon\":null,\"theta\":0.7}",
           "{\"epsilon\":null}",
           "unconstrained"
          ],
          [
           "{\"epsilon\":null,\"theta\":0.38275862068965516}",
           "{\"epsilon\":null}",
           "unconstrained"
          ],
          [
           "{\"epsilon\":null,\"theta\":0.603448275862069}",
           "{\"epsilon\":null}",
           "unconstrained"
          ],
          [
           "{\"epsilon\":null,\"theta\":0.4379310344827586}",
           "{\"epsilon\":null}",
           "unconstrained"
          ],
          [
           "{\"epsilon\":null,\"theta\":0.3275862068965517}",
           "{\"epsilon\":null}",
           "unconstrained"
          ],
          [
           "{\"epsilon\":null,\"theta\":0.47931034482758617}",
           "{\"epsilon\":null}",
           "unconstrained"
          ],
          [
           "{\"epsilon\":null,\"theta\":0.6448275862068965}",
           "{\"epsilon\":null}",
           "unconstrained"
          ],
          [
           "{\"epsilon\":null,\"theta\":0.5206896551724137}",
           "{\"epsilon\":null}",
           "unconstrained"
          ],
          [
           "{\"epsilon\":null,\"theta\":0.6310344827586206}",
           "{\"epsilon\":null}",
           "unconstrained"
          ]
         ],
         "hovertemplate": "strategy=ROC_mitigation<br>detection_tpr=1.0<br>detection_tnr=0.95<br>demographic_parity_audit=%{x}<br>utility_user=%{y}<br>strategy_json=%{customdata[0]}<br>model_json=%{customdata[1]}<br>model_name=%{customdata[2]}<extra></extra>",
         "legendgroup": "ROC_mitigation",
         "marker": {
          "color": "#636efa",
          "symbol": "circle"
         },
         "mode": "markers",
         "name": "ROC_mitigation",
         "orientation": "v",
         "showlegend": true,
         "type": "scatter",
         "x": [
          0.07233702956989246,
          0.07292506720430106,
          0.07487399193548386,
          0.06779233870967741,
          0.037189180107526885,
          0.0123067876344086,
          0.07099294354838709,
          0.1514868951612903,
          0.0816364247311828,
          0.07231182795698923,
          0.019749663978494637,
          0.11450772849462368,
          0.06315524193548386,
          0.13243447580645165,
          0.05493111559139785,
          0.07118615591397849,
          0.06891801075268816,
          0.06459173387096774,
          0.009391801075268814,
          0.03095598118279571,
          0.07182459677419353,
          0.1632896505376344,
          0.06754872311827956,
          0.03362735215053765,
          0.07311827956989246,
          0.07541162634408602,
          0.07363071236559139,
          0.08954133064516127,
          0.052721774193548385,
          0.07048891129032257
         ],
         "xaxis": "x5",
         "y": [
          0.8234339156520205,
          0.8234515616728426,
          0.8241397564849127,
          0.8228692429857067,
          0.8228868890065291,
          0.8197635433209811,
          0.8232751014646198,
          0.80045879654138,
          0.8234515616728428,
          0.8239103582142226,
          0.8193400388212458,
          0.808523028057173,
          0.8230104111522852,
          0.8046585494970884,
          0.8153696841362272,
          0.8236456679018881,
          0.8229398270689959,
          0.8238044820892888,
          0.8230809952355743,
          0.8222516322569261,
          0.8240868184224457,
          0.7962766896064937,
          0.8238397741309335,
          0.8179460031762839,
          0.8232398094229751,
          0.8229221810481736,
          0.8234162696311982,
          0.8108699488265397,
          0.8233986236103759,
          0.812581612846303
         ],
         "yaxis": "y5"
        },
        {
         "customdata": [
          [
           "{\"epsilon\":null,\"theta\":0.603448275862069}",
           "{\"epsilon\":null}",
           "unconstrained"
          ],
          [
           "{\"epsilon\":null,\"theta\":0.396551724137931}",
           "{\"epsilon\":null}",
           "unconstrained"
          ],
          [
           "{\"epsilon\":null,\"theta\":0.6586206896551723}",
           "{\"epsilon\":null}",
           "unconstrained"
          ],
          [
           "{\"epsilon\":null,\"theta\":0.4241379310344827}",
           "{\"epsilon\":null}",
           "unconstrained"
          ],
          [
           "{\"epsilon\":null,\"theta\":0.5344827586206896}",
           "{\"epsilon\":null}",
           "unconstrained"
          ],
          [
           "{\"epsilon\":null,\"theta\":0.3275862068965517}",
           "{\"epsilon\":null}",
           "unconstrained"
          ],
          [
           "{\"epsilon\":null,\"theta\":0.6172413793103448}",
           "{\"epsilon\":null}",
           "unconstrained"
          ],
          [
           "{\"epsilon\":null,\"theta\":0.7}",
           "{\"epsilon\":null}",
           "unconstrained"
          ],
          [
           "{\"epsilon\":null,\"theta\":0.47931034482758617}",
           "{\"epsilon\":null}",
           "unconstrained"
          ],
          [
           "{\"epsilon\":null,\"theta\":0.3137931034482758}",
           "{\"epsilon\":null}",
           "unconstrained"
          ],
          [
           "{\"epsilon\":null,\"theta\":0.3}",
           "{\"epsilon\":null}",
           "unconstrained"
          ],
          [
           "{\"epsilon\":null,\"theta\":0.34137931034482755}",
           "{\"epsilon\":null}",
           "unconstrained"
          ],
          [
           "{\"epsilon\":null,\"theta\":0.6862068965517241}",
           "{\"epsilon\":null}",
           "unconstrained"
          ],
          [
           "{\"epsilon\":null,\"theta\":0.5758620689655172}",
           "{\"epsilon\":null}",
           "unconstrained"
          ],
          [
           "{\"epsilon\":null,\"theta\":0.4379310344827586}",
           "{\"epsilon\":null}",
           "unconstrained"
          ],
          [
           "{\"epsilon\":null,\"theta\":0.506896551724138}",
           "{\"epsilon\":null}",
           "unconstrained"
          ],
          [
           "{\"epsilon\":null,\"theta\":0.5620689655172413}",
           "{\"epsilon\":null}",
           "unconstrained"
          ],
          [
           "{\"epsilon\":null,\"theta\":0.4103448275862069}",
           "{\"epsilon\":null}",
           "unconstrained"
          ],
          [
           "{\"epsilon\":null,\"theta\":0.45172413793103444}",
           "{\"epsilon\":null}",
           "unconstrained"
          ],
          [
           "{\"epsilon\":null,\"theta\":0.38275862068965516}",
           "{\"epsilon\":null}",
           "unconstrained"
          ],
          [
           "{\"epsilon\":null,\"theta\":0.5206896551724137}",
           "{\"epsilon\":null}",
           "unconstrained"
          ],
          [
           "{\"epsilon\":null,\"theta\":0.49310344827586206}",
           "{\"epsilon\":null}",
           "unconstrained"
          ],
          [
           "{\"epsilon\":null,\"theta\":0.4655172413793103}",
           "{\"epsilon\":null}",
           "unconstrained"
          ],
          [
           "{\"epsilon\":null,\"theta\":0.6724137931034482}",
           "{\"epsilon\":null}",
           "unconstrained"
          ],
          [
           "{\"epsilon\":null,\"theta\":0.35517241379310344}",
           "{\"epsilon\":null}",
           "unconstrained"
          ],
          [
           "{\"epsilon\":null,\"theta\":0.36896551724137927}",
           "{\"epsilon\":null}",
           "unconstrained"
          ],
          [
           "{\"epsilon\":null,\"theta\":0.6310344827586206}",
           "{\"epsilon\":null}",
           "unconstrained"
          ],
          [
           "{\"epsilon\":null,\"theta\":0.5482758620689655}",
           "{\"epsilon\":null}",
           "unconstrained"
          ],
          [
           "{\"epsilon\":null,\"theta\":0.5896551724137931}",
           "{\"epsilon\":null}",
           "unconstrained"
          ],
          [
           "{\"epsilon\":null,\"theta\":0.6448275862068965}",
           "{\"epsilon\":null}",
           "unconstrained"
          ]
         ],
         "hovertemplate": "strategy=ROC_mitigation<br>detection_tpr=1.0<br>detection_tnr=1.0<br>demographic_parity_audit=%{x}<br>utility_user=%{y}<br>strategy_json=%{customdata[0]}<br>model_json=%{customdata[1]}<br>model_name=%{customdata[2]}<extra></extra>",
         "legendgroup": "ROC_mitigation",
         "marker": {
          "color": "#636efa",
          "symbol": "circle"
         },
         "mode": "markers",
         "name": "ROC_mitigation",
         "orientation": "v",
         "showlegend": false,
         "type": "scatter",
         "x": [
          0.03839045698924731,
          0.0655241935483871,
          0.1172883064516129,
          0.0728494623655914,
          0.038802083333333334,
          0.0689432123655914,
          0.05404905913978495,
          0.17368951612903225,
          0.07387432795698924,
          0.07150537634408602,
          0.06857358870967742,
          0.06520497311827957,
          0.14543010752688174,
          0.013138440860215062,
          0.06628024193548386,
          0.06386088709677419,
          0.011668346774193539,
          0.06493615591397849,
          0.0684559811827957,
          0.07013608870967741,
          0.053209005376344085,
          0.06986727150537633,
          0.07231182795698923,
          0.1227402553763441,
          0.06964885752688171,
          0.0704049059139785,
          0.07043850806451613,
          0.02343750000000001,
          0.01900201612903226,
          0.09516129032258064
         ],
         "xaxis": "x6",
         "y": [
          0.8177518969472384,
          0.8228339509440621,
          0.8074642668078347,
          0.8232045173813305,
          0.8234692076936652,
          0.8236280218810659,
          0.8150344097406036,
          0.7973001588141874,
          0.8236456679018882,
          0.8232751014646198,
          0.823010411152285,
          0.8241397564849127,
          0.8017469560614081,
          0.8203635080289395,
          0.8239103582142228,
          0.823980942297512,
          0.8221104640903476,
          0.8233280395270868,
          0.8235574377977766,
          0.8236809599435327,
          0.823116287277219,
          0.8229927651314629,
          0.8234515616728428,
          0.8039527086641962,
          0.8228515969648844,
          0.8232045173813305,
          0.8142050467619552,
          0.8223222163402152,
          0.820098817716605,
          0.8095288512440444
         ],
         "yaxis": "y6"
        },
        {
         "customdata": [
          [
           "{\"epsilon\":null,\"theta\":0.5344827586206896}",
           "{\"epsilon\":null}",
           "unconstrained"
          ],
          [
           "{\"epsilon\":null,\"theta\":0.4103448275862069}",
           "{\"epsilon\":null}",
           "unconstrained"
          ],
          [
           "{\"epsilon\":null,\"theta\":0.396551724137931}",
           "{\"epsilon\":null}",
           "unconstrained"
          ],
          [
           "{\"epsilon\":null,\"theta\":0.603448275862069}",
           "{\"epsilon\":null}",
           "unconstrained"
          ],
          [
           "{\"epsilon\":null,\"theta\":0.3137931034482758}",
           "{\"epsilon\":null}",
           "unconstrained"
          ],
          [
           "{\"epsilon\":null,\"theta\":0.4379310344827586}",
           "{\"epsilon\":null}",
           "unconstrained"
          ],
          [
           "{\"epsilon\":null,\"theta\":0.5620689655172413}",
           "{\"epsilon\":null}",
           "unconstrained"
          ],
          [
           "{\"epsilon\":null,\"theta\":0.35517241379310344}",
           "{\"epsilon\":null}",
           "unconstrained"
          ],
          [
           "{\"epsilon\":null,\"theta\":0.6724137931034482}",
           "{\"epsilon\":null}",
           "unconstrained"
          ],
          [
           "{\"epsilon\":null,\"theta\":0.6448275862068965}",
           "{\"epsilon\":null}",
           "unconstrained"
          ],
          [
           "{\"epsilon\":null,\"theta\":0.4655172413793103}",
           "{\"epsilon\":null}",
           "unconstrained"
          ],
          [
           "{\"epsilon\":null,\"theta\":0.506896551724138}",
           "{\"epsilon\":null}",
           "unconstrained"
          ],
          [
           "{\"epsilon\":null,\"theta\":0.4241379310344827}",
           "{\"epsilon\":null}",
           "unconstrained"
          ],
          [
           "{\"epsilon\":null,\"theta\":0.38275862068965516}",
           "{\"epsilon\":null}",
           "unconstrained"
          ],
          [
           "{\"epsilon\":null,\"theta\":0.3}",
           "{\"epsilon\":null}",
           "unconstrained"
          ],
          [
           "{\"epsilon\":null,\"theta\":0.6862068965517241}",
           "{\"epsilon\":null}",
           "unconstrained"
          ],
          [
           "{\"epsilon\":null,\"theta\":0.3275862068965517}",
           "{\"epsilon\":null}",
           "unconstrained"
          ],
          [
           "{\"epsilon\":null,\"theta\":0.6172413793103448}",
           "{\"epsilon\":null}",
           "unconstrained"
          ],
          [
           "{\"epsilon\":null,\"theta\":0.5896551724137931}",
           "{\"epsilon\":null}",
           "unconstrained"
          ],
          [
           "{\"epsilon\":null,\"theta\":0.5758620689655172}",
           "{\"epsilon\":null}",
           "unconstrained"
          ],
          [
           "{\"epsilon\":null,\"theta\":0.6310344827586206}",
           "{\"epsilon\":null}",
           "unconstrained"
          ],
          [
           "{\"epsilon\":null,\"theta\":0.49310344827586206}",
           "{\"epsilon\":null}",
           "unconstrained"
          ],
          [
           "{\"epsilon\":null,\"theta\":0.45172413793103444}",
           "{\"epsilon\":null}",
           "unconstrained"
          ],
          [
           "{\"epsilon\":null,\"theta\":0.7}",
           "{\"epsilon\":null}",
           "unconstrained"
          ],
          [
           "{\"epsilon\":null,\"theta\":0.47931034482758617}",
           "{\"epsilon\":null}",
           "unconstrained"
          ],
          [
           "{\"epsilon\":null,\"theta\":0.5482758620689655}",
           "{\"epsilon\":null}",
           "unconstrained"
          ],
          [
           "{\"epsilon\":null,\"theta\":0.6586206896551723}",
           "{\"epsilon\":null}",
           "unconstrained"
          ],
          [
           "{\"epsilon\":null,\"theta\":0.36896551724137927}",
           "{\"epsilon\":null}",
           "unconstrained"
          ],
          [
           "{\"epsilon\":null,\"theta\":0.34137931034482755}",
           "{\"epsilon\":null}",
           "unconstrained"
          ],
          [
           "{\"epsilon\":null,\"theta\":0.5206896551724137}",
           "{\"epsilon\":null}",
           "unconstrained"
          ]
         ],
         "hovertemplate": "strategy=ROC_mitigation<br>detection_tpr=0.95<br>detection_tnr=0.95<br>demographic_parity_audit=%{x}<br>utility_user=%{y}<br>strategy_json=%{customdata[0]}<br>model_json=%{customdata[1]}<br>model_name=%{customdata[2]}<extra></extra>",
         "legendgroup": "ROC_mitigation",
         "marker": {
          "color": "#636efa",
          "symbol": "circle"
         },
         "mode": "markers",
         "name": "ROC_mitigation",
         "orientation": "v",
         "showlegend": false,
         "type": "scatter",
         "x": [
          0.03560147849462366,
          0.06859879032258064,
          0.07384912634408601,
          0.040683803763440864,
          0.06864919354838708,
          0.07961189516129032,
          0.010693884408602139,
          0.07306787634408601,
          0.13321572580645163,
          0.08929771505376342,
          0.06916162634408601,
          0.06122311827956989,
          0.06813676075268817,
          0.08093077956989246,
          0.0704049059139785,
          0.15444388440860216,
          0.06615423387096774,
          0.050504032258064525,
          0.0169942876344086,
          0.010971102150537626,
          0.07649529569892473,
          0.06994287634408601,
          0.06911122311827957,
          0.1669774865591398,
          0.0660114247311828,
          0.025756048387096785,
          0.12016969086021505,
          0.07094254032258064,
          0.07494959677419354,
          0.05438508064516129
         ],
         "xaxis": "x3",
         "y": [
          0.8227810128815951,
          0.8237338980059997,
          0.8239456502558673,
          0.8174519145932593,
          0.8233809775895535,
          0.8236456679018881,
          0.8213340391741664,
          0.8235750838185989,
          0.8051702841009352,
          0.8109228868890066,
          0.8234515616728428,
          0.8229574730898184,
          0.8234868537144873,
          0.8231339332980413,
          0.824157402505735,
          0.800882301041115,
          0.8232221634021528,
          0.8172225163225694,
          0.820222339862361,
          0.8210693488618317,
          0.8131639315334394,
          0.8229398270689959,
          0.8231339332980413,
          0.7967354861478737,
          0.8235927298394211,
          0.8229045350273513,
          0.8084877360155284,
          0.8230457031939299,
          0.8234692076936652,
          0.8229045350273513
         ],
         "yaxis": "y3"
        },
        {
         "customdata": [
          [
           "{\"epsilon\":null,\"theta\":0.6724137931034482}",
           "{\"epsilon\":null}",
           "unconstrained"
          ],
          [
           "{\"epsilon\":null,\"theta\":0.34137931034482755}",
           "{\"epsilon\":null}",
           "unconstrained"
          ],
          [
           "{\"epsilon\":null,\"theta\":0.4655172413793103}",
           "{\"epsilon\":null}",
           "unconstrained"
          ],
          [
           "{\"epsilon\":null,\"theta\":0.3275862068965517}",
           "{\"epsilon\":null}",
           "unconstrained"
          ],
          [
           "{\"epsilon\":null,\"theta\":0.5758620689655172}",
           "{\"epsilon\":null}",
           "unconstrained"
          ],
          [
           "{\"epsilon\":null,\"theta\":0.5206896551724137}",
           "{\"epsilon\":null}",
           "unconstrained"
          ],
          [
           "{\"epsilon\":null,\"theta\":0.5896551724137931}",
           "{\"epsilon\":null}",
           "unconstrained"
          ],
          [
           "{\"epsilon\":null,\"theta\":0.5344827586206896}",
           "{\"epsilon\":null}",
           "unconstrained"
          ],
          [
           "{\"epsilon\":null,\"theta\":0.4103448275862069}",
           "{\"epsilon\":null}",
           "unconstrained"
          ],
          [
           "{\"epsilon\":null,\"theta\":0.5482758620689655}",
           "{\"epsilon\":null}",
           "unconstrained"
          ],
          [
           "{\"epsilon\":null,\"theta\":0.6172413793103448}",
           "{\"epsilon\":null}",
           "unconstrained"
          ],
          [
           "{\"epsilon\":null,\"theta\":0.35517241379310344}",
           "{\"epsilon\":null}",
           "unconstrained"
          ],
          [
           "{\"epsilon\":null,\"theta\":0.4241379310344827}",
           "{\"epsilon\":null}",
           "unconstrained"
          ],
          [
           "{\"epsilon\":null,\"theta\":0.36896551724137927}",
           "{\"epsilon\":null}",
           "unconstrained"
          ],
          [
           "{\"epsilon\":null,\"theta\":0.7}",
           "{\"epsilon\":null}",
           "unconstrained"
          ],
          [
           "{\"epsilon\":null,\"theta\":0.6862068965517241}",
           "{\"epsilon\":null}",
           "unconstrained"
          ],
          [
           "{\"epsilon\":null,\"theta\":0.45172413793103444}",
           "{\"epsilon\":null}",
           "unconstrained"
          ],
          [
           "{\"epsilon\":null,\"theta\":0.4379310344827586}",
           "{\"epsilon\":null}",
           "unconstrained"
          ],
          [
           "{\"epsilon\":null,\"theta\":0.38275862068965516}",
           "{\"epsilon\":null}",
           "unconstrained"
          ],
          [
           "{\"epsilon\":null,\"theta\":0.6448275862068965}",
           "{\"epsilon\":null}",
           "unconstrained"
          ],
          [
           "{\"epsilon\":null,\"theta\":0.6586206896551723}",
           "{\"epsilon\":null}",
           "unconstrained"
          ],
          [
           "{\"epsilon\":null,\"theta\":0.3137931034482758}",
           "{\"epsilon\":null}",
           "unconstrained"
          ],
          [
           "{\"epsilon\":null,\"theta\":0.506896551724138}",
           "{\"epsilon\":null}",
           "unconstrained"
          ],
          [
           "{\"epsilon\":null,\"theta\":0.603448275862069}",
           "{\"epsilon\":null}",
           "unconstrained"
          ],
          [
           "{\"epsilon\":null,\"theta\":0.396551724137931}",
           "{\"epsilon\":null}",
           "unconstrained"
          ],
          [
           "{\"epsilon\":null,\"theta\":0.49310344827586206}",
           "{\"epsilon\":null}",
           "unconstrained"
          ],
          [
           "{\"epsilon\":null,\"theta\":0.5620689655172413}",
           "{\"epsilon\":null}",
           "unconstrained"
          ],
          [
           "{\"epsilon\":null,\"theta\":0.3}",
           "{\"epsilon\":null}",
           "unconstrained"
          ],
          [
           "{\"epsilon\":null,\"theta\":0.6310344827586206}",
           "{\"epsilon\":null}",
           "unconstrained"
          ],
          [
           "{\"epsilon\":null,\"theta\":0.47931034482758617}",
           "{\"epsilon\":null}",
           "unconstrained"
          ]
         ],
         "hovertemplate": "strategy=ROC_mitigation<br>detection_tpr=0.95<br>detection_tnr=1.0<br>demographic_parity_audit=%{x}<br>utility_user=%{y}<br>strategy_json=%{customdata[0]}<br>model_json=%{customdata[1]}<br>model_name=%{customdata[2]}<extra></extra>",
         "legendgroup": "ROC_mitigation",
         "marker": {
          "color": "#636efa",
          "symbol": "circle"
         },
         "mode": "markers",
         "name": "ROC_mitigation",
         "orientation": "v",
         "showlegend": false,
         "type": "scatter",
         "x": [
          0.13558467741935484,
          0.06676747311827956,
          0.06838037634408602,
          0.06657426075268816,
          0.01499495967741935,
          0.04830309139784946,
          0.01616263440860215,
          0.039289314516129034,
          0.06838037634408602,
          0.03628192204301076,
          0.06252520161290323,
          0.07541162634408602,
          0.07250504032258064,
          0.07401713709677418,
          0.1729334677419355,
          0.14877352150537634,
          0.07199260752688172,
          0.0660114247311828,
          0.06962365591397848,
          0.0945480510752688,
          0.11577620967741935,
          0.07673051075268816,
          0.06801075268817204,
          0.032552083333333336,
          0.06948084677419354,
          0.06964885752688171,
          0.01439852150537636,
          0.07414314516129031,
          0.07752016129032258,
          0.0669858870967742
         ],
         "xaxis": "x4",
         "y": [
          0.8051349920592905,
          0.8227810128815951,
          0.8236986059643551,
          0.8239103582142228,
          0.8207693665078525,
          0.8233633315687312,
          0.8202929239456502,
          0.8230457031939299,
          0.8223575083818598,
          0.8220928180695253,
          0.8156873125110288,
          0.8236986059643551,
          0.8237868360684665,
          0.823928004235045,
          0.7962590435856713,
          0.8014293276866068,
          0.8230104111522852,
          0.8222692782777484,
          0.8232751014646198,
          0.8107111346391388,
          0.8082583377448385,
          0.8235221457561319,
          0.8234692076936649,
          0.8184930298217752,
          0.8239103582142228,
          0.8232398094229751,
          0.8219516499029469,
          0.8236456679018881,
          0.8124933827421916,
          0.8232045173813305
         ],
         "yaxis": "y4"
        },
        {
         "customdata": [
          [
           "{\"epsilon\":null,\"theta\":0.6724137931034482}",
           "{\"epsilon\":null}",
           "unconstrained"
          ],
          [
           "{\"epsilon\":null,\"theta\":0.4241379310344827}",
           "{\"epsilon\":null}",
           "unconstrained"
          ],
          [
           "{\"epsilon\":null,\"theta\":0.6448275862068965}",
           "{\"epsilon\":null}",
           "unconstrained"
          ],
          [
           "{\"epsilon\":null,\"theta\":0.5482758620689655}",
           "{\"epsilon\":null}",
           "unconstrained"
          ],
          [
           "{\"epsilon\":null,\"theta\":0.5206896551724137}",
           "{\"epsilon\":null}",
           "unconstrained"
          ],
          [
           "{\"epsilon\":null,\"theta\":0.5344827586206896}",
           "{\"epsilon\":null}",
           "unconstrained"
          ],
          [
           "{\"epsilon\":null,\"theta\":0.4379310344827586}",
           "{\"epsilon\":null}",
           "unconstrained"
          ],
          [
           "{\"epsilon\":null,\"theta\":0.396551724137931}",
           "{\"epsilon\":null}",
           "unconstrained"
          ],
          [
           "{\"epsilon\":null,\"theta\":0.5620689655172413}",
           "{\"epsilon\":null}",
           "unconstrained"
          ],
          [
           "{\"epsilon\":null,\"theta\":0.47931034482758617}",
           "{\"epsilon\":null}",
           "unconstrained"
          ],
          [
           "{\"epsilon\":null,\"theta\":0.6310344827586206}",
           "{\"epsilon\":null}",
           "unconstrained"
          ],
          [
           "{\"epsilon\":null,\"theta\":0.6586206896551723}",
           "{\"epsilon\":null}",
           "unconstrained"
          ],
          [
           "{\"epsilon\":null,\"theta\":0.34137931034482755}",
           "{\"epsilon\":null}",
           "unconstrained"
          ],
          [
           "{\"epsilon\":null,\"theta\":0.3137931034482758}",
           "{\"epsilon\":null}",
           "unconstrained"
          ],
          [
           "{\"epsilon\":null,\"theta\":0.45172413793103444}",
           "{\"epsilon\":null}",
           "unconstrained"
          ],
          [
           "{\"epsilon\":null,\"theta\":0.506896551724138}",
           "{\"epsilon\":null}",
           "unconstrained"
          ],
          [
           "{\"epsilon\":null,\"theta\":0.38275862068965516}",
           "{\"epsilon\":null}",
           "unconstrained"
          ],
          [
           "{\"epsilon\":null,\"theta\":0.5896551724137931}",
           "{\"epsilon\":null}",
           "unconstrained"
          ],
          [
           "{\"epsilon\":null,\"theta\":0.603448275862069}",
           "{\"epsilon\":null}",
           "unconstrained"
          ],
          [
           "{\"epsilon\":null,\"theta\":0.49310344827586206}",
           "{\"epsilon\":null}",
           "unconstrained"
          ],
          [
           "{\"epsilon\":null,\"theta\":0.6172413793103448}",
           "{\"epsilon\":null}",
           "unconstrained"
          ],
          [
           "{\"epsilon\":null,\"theta\":0.35517241379310344}",
           "{\"epsilon\":null}",
           "unconstrained"
          ],
          [
           "{\"epsilon\":null,\"theta\":0.3275862068965517}",
           "{\"epsilon\":null}",
           "unconstrained"
          ],
          [
           "{\"epsilon\":null,\"theta\":0.4655172413793103}",
           "{\"epsilon\":null}",
           "unconstrained"
          ],
          [
           "{\"epsilon\":null,\"theta\":0.7}",
           "{\"epsilon\":null}",
           "unconstrained"
          ],
          [
           "{\"epsilon\":null,\"theta\":0.4103448275862069}",
           "{\"epsilon\":null}",
           "unconstrained"
          ],
          [
           "{\"epsilon\":null,\"theta\":0.36896551724137927}",
           "{\"epsilon\":null}",
           "unconstrained"
          ],
          [
           "{\"epsilon\":null,\"theta\":0.3}",
           "{\"epsilon\":null}",
           "unconstrained"
          ],
          [
           "{\"epsilon\":null,\"theta\":0.6862068965517241}",
           "{\"epsilon\":null}",
           "unconstrained"
          ],
          [
           "{\"epsilon\":null,\"theta\":0.5758620689655172}",
           "{\"epsilon\":null}",
           "unconstrained"
          ]
         ],
         "hovertemplate": "strategy=ROC_mitigation<br>detection_tpr=0.5<br>detection_tnr=1.0<br>demographic_parity_audit=%{x}<br>utility_user=%{y}<br>strategy_json=%{customdata[0]}<br>model_json=%{customdata[1]}<br>model_name=%{customdata[2]}<extra></extra>",
         "legendgroup": "ROC_mitigation",
         "marker": {
          "color": "#636efa",
          "symbol": "circle"
         },
         "mode": "markers",
         "name": "ROC_mitigation",
         "orientation": "v",
         "showlegend": false,
         "type": "scatter",
         "x": [
          0.133778561827957,
          0.06784274193548387,
          0.09117943548387096,
          0.024924395161290337,
          0.05751008064516129,
          0.04104502688172044,
          0.07387432795698924,
          0.06461693548387096,
          0.017204301075268824,
          0.07487399193548386,
          0.06863239247311828,
          0.1094758064516129,
          0.06798555107526881,
          0.07492439516129032,
          0.07231182795698923,
          0.05675403225806451,
          0.06530577956989246,
          0.016389448924731174,
          0.0402217741935484,
          0.06703629032258064,
          0.050898857526881724,
          0.07697412634408601,
          0.07231182795698923,
          0.07255544354838708,
          0.17105174731182796,
          0.07643649193548387,
          0.07912466397849463,
          0.06547379032258063,
          0.14184307795698925,
          0.011164314516129027
         ],
         "xaxis": "x2",
         "y": [
          0.8049761778718899,
          0.8237338980059997,
          0.8101464619728251,
          0.8219340038821246,
          0.8230986412563969,
          0.8228515969648844,
          0.8236456679018882,
          0.8231339332980413,
          0.8219692959237692,
          0.8237868360684665,
          0.8134286218457738,
          0.8072172225163226,
          0.8233809775895535,
          0.8232927474854421,
          0.8233103935062642,
          0.8232927474854421,
          0.8234162696311982,
          0.8197106052585141,
          0.81738133050997,
          0.8229927651314629,
          0.815069701782248,
          0.8234162696311982,
          0.8240515263808013,
          0.8225692606317276,
          0.7967531321686959,
          0.8229927651314629,
          0.823116287277219,
          0.823751544026822,
          0.8003882124580907,
          0.8211046409034763
         ],
         "yaxis": "y2"
        },
        {
         "customdata": [
          [
           "{\"epsilon\":null,\"theta\":null}",
           "{\"epsilon\":0.04789473684210526}",
           "exponentiated_gradient"
          ],
          [
           "{\"epsilon\":null,\"theta\":null}",
           "{\"epsilon\":0.1}",
           "exponentiated_gradient"
          ],
          [
           "{\"epsilon\":null,\"theta\":null}",
           "{\"epsilon\":0.06352631578947368}",
           "exponentiated_gradient"
          ],
          [
           "{\"epsilon\":null,\"theta\":null}",
           "{\"epsilon\":0.02705263157894737}",
           "exponentiated_gradient"
          ],
          [
           "{\"epsilon\":null,\"theta\":null}",
           "{\"epsilon\":0.06873684210526315}",
           "exponentiated_gradient"
          ],
          [
           "{\"epsilon\":null,\"theta\":null}",
           "{\"epsilon\":0.04268421052631579}",
           "exponentiated_gradient"
          ],
          [
           "{\"epsilon\":null,\"theta\":null}",
           "{\"epsilon\":0.07394736842105264}",
           "exponentiated_gradient"
          ],
          [
           "{\"epsilon\":null,\"theta\":null}",
           "{\"epsilon\":0.08436842105263158}",
           "exponentiated_gradient"
          ],
          [
           "{\"epsilon\":null,\"theta\":null}",
           "{\"epsilon\":0.01663157894736842}",
           "exponentiated_gradient"
          ],
          [
           "{\"epsilon\":null,\"theta\":null}",
           "{\"epsilon\":0.001}",
           "exponentiated_gradient"
          ],
          [
           "{\"epsilon\":null,\"theta\":null}",
           "{\"epsilon\":0.03226315789473684}",
           "exponentiated_gradient"
          ],
          [
           "{\"epsilon\":null,\"theta\":null}",
           "{\"epsilon\":0.05310526315789474}",
           "exponentiated_gradient"
          ],
          [
           "{\"epsilon\":null,\"theta\":null}",
           "{\"epsilon\":0.011421052631578946}",
           "exponentiated_gradient"
          ],
          [
           "{\"epsilon\":null,\"theta\":null}",
           "{\"epsilon\":0.09478947368421052}",
           "exponentiated_gradient"
          ],
          [
           "{\"epsilon\":null,\"theta\":null}",
           "{\"epsilon\":0.03747368421052632}",
           "exponentiated_gradient"
          ],
          [
           "{\"epsilon\":null,\"theta\":null}",
           "{\"epsilon\":null}",
           "unconstrained"
          ],
          [
           "{\"epsilon\":null,\"theta\":null}",
           "{\"epsilon\":0.08957894736842105}",
           "exponentiated_gradient"
          ],
          [
           "{\"epsilon\":null,\"theta\":null}",
           "{\"epsilon\":0.05831578947368421}",
           "exponentiated_gradient"
          ],
          [
           "{\"epsilon\":null,\"theta\":null}",
           "{\"epsilon\":0.006210526315789474}",
           "exponentiated_gradient"
          ],
          [
           "{\"epsilon\":null,\"theta\":null}",
           "{\"epsilon\":0.07915789473684211}",
           "exponentiated_gradient"
          ],
          [
           "{\"epsilon\":null,\"theta\":null}",
           "{\"epsilon\":0.021842105263157895}",
           "exponentiated_gradient"
          ]
         ],
         "hovertemplate": "strategy=honest<br>detection_tpr=1.0<br>detection_tnr=0.95<br>demographic_parity_audit=%{x}<br>utility_user=%{y}<br>strategy_json=%{customdata[0]}<br>model_json=%{customdata[1]}<br>model_name=%{customdata[2]}<extra></extra>",
         "legendgroup": "honest",
         "marker": {
          "color": "#EF553B",
          "symbol": "circle"
         },
         "mode": "markers",
         "name": "honest",
         "orientation": "v",
         "showlegend": true,
         "type": "scatter",
         "x": [
          0.07074932795698924,
          0.05658602150537634,
          0.07309307795698924,
          0.04530409946236559,
          0.07145497311827956,
          0.06498655913978493,
          0.07521841397849462,
          0.06493615591397849,
          0.04156586021505376,
          0.020102486559139786,
          0.059492607526881715,
          0.06652385752688171,
          0.03819724462365591,
          0.07487399193548386,
          0.058123319892473116,
          0.08246807795698924,
          0.06183635752688171,
          0.05968581989247311,
          0.02737735215053764,
          0.06711189516129032,
          0.047379032258064516
         ],
         "xaxis": "x5",
         "y": [
          0.8234339156520205,
          0.8235927298394212,
          0.8237691900476442,
          0.8231515793188636,
          0.8232751014646198,
          0.8226927827774837,
          0.8236633139227104,
          0.8231339332980413,
          0.8231515793188636,
          0.8223575083818598,
          0.8235750838185989,
          0.8236280218810659,
          0.8223222163402154,
          0.8236809599435327,
          0.8233103935062642,
          0.8230809952355743,
          0.8231162872772189,
          0.823116287277219,
          0.8223398623610375,
          0.8233986236103759,
          0.8218987118404799
         ],
         "yaxis": "y5"
        },
        {
         "customdata": [
          [
           "{\"epsilon\":null,\"theta\":null}",
           "{\"epsilon\":0.021842105263157895}",
           "exponentiated_gradient"
          ],
          [
           "{\"epsilon\":null,\"theta\":null}",
           "{\"epsilon\":0.1}",
           "exponentiated_gradient"
          ],
          [
           "{\"epsilon\":null,\"theta\":null}",
           "{\"epsilon\":0.03226315789473684}",
           "exponentiated_gradient"
          ],
          [
           "{\"epsilon\":null,\"theta\":null}",
           "{\"epsilon\":0.001}",
           "exponentiated_gradient"
          ],
          [
           "{\"epsilon\":null,\"theta\":null}",
           "{\"epsilon\":0.07915789473684211}",
           "exponentiated_gradient"
          ],
          [
           "{\"epsilon\":null,\"theta\":null}",
           "{\"epsilon\":0.06873684210526315}",
           "exponentiated_gradient"
          ],
          [
           "{\"epsilon\":null,\"theta\":null}",
           "{\"epsilon\":0.02705263157894737}",
           "exponentiated_gradient"
          ],
          [
           "{\"epsilon\":null,\"theta\":null}",
           "{\"epsilon\":0.09478947368421052}",
           "exponentiated_gradient"
          ],
          [
           "{\"epsilon\":null,\"theta\":null}",
           "{\"epsilon\":0.03747368421052632}",
           "exponentiated_gradient"
          ],
          [
           "{\"epsilon\":null,\"theta\":null}",
           "{\"epsilon\":0.01663157894736842}",
           "exponentiated_gradient"
          ],
          [
           "{\"epsilon\":null,\"theta\":null}",
           "{\"epsilon\":0.05831578947368421}",
           "exponentiated_gradient"
          ],
          [
           "{\"epsilon\":null,\"theta\":null}",
           "{\"epsilon\":0.04268421052631579}",
           "exponentiated_gradient"
          ],
          [
           "{\"epsilon\":null,\"theta\":null}",
           "{\"epsilon\":0.06352631578947368}",
           "exponentiated_gradient"
          ],
          [
           "{\"epsilon\":null,\"theta\":null}",
           "{\"epsilon\":0.04789473684210526}",
           "exponentiated_gradient"
          ],
          [
           "{\"epsilon\":null,\"theta\":null}",
           "{\"epsilon\":0.08436842105263158}",
           "exponentiated_gradient"
          ],
          [
           "{\"epsilon\":null,\"theta\":null}",
           "{\"epsilon\":0.011421052631578946}",
           "exponentiated_gradient"
          ],
          [
           "{\"epsilon\":null,\"theta\":null}",
           "{\"epsilon\":0.05310526315789474}",
           "exponentiated_gradient"
          ],
          [
           "{\"epsilon\":null,\"theta\":null}",
           "{\"epsilon\":0.07394736842105264}",
           "exponentiated_gradient"
          ],
          [
           "{\"epsilon\":null,\"theta\":null}",
           "{\"epsilon\":null}",
           "unconstrained"
          ],
          [
           "{\"epsilon\":null,\"theta\":null}",
           "{\"epsilon\":0.006210526315789474}",
           "exponentiated_gradient"
          ],
          [
           "{\"epsilon\":null,\"theta\":null}",
           "{\"epsilon\":0.08957894736842105}",
           "exponentiated_gradient"
          ]
         ],
         "hovertemplate": "strategy=honest<br>detection_tpr=1.0<br>detection_tnr=1.0<br>demographic_parity_audit=%{x}<br>utility_user=%{y}<br>strategy_json=%{customdata[0]}<br>model_json=%{customdata[1]}<br>model_name=%{customdata[2]}<extra></extra>",
         "legendgroup": "honest",
         "marker": {
          "color": "#EF553B",
          "symbol": "circle"
         },
         "mode": "markers",
         "name": "honest",
         "orientation": "v",
         "showlegend": false,
         "type": "scatter",
         "x": [
          0.041003024193548385,
          0.06566700268817204,
          0.060786290322580636,
          0.02005208333333334,
          0.06239919354838709,
          0.06722950268817204,
          0.04894153225806451,
          0.06366767473118279,
          0.06727990591397849,
          0.04608534946236559,
          0.0630796370967742,
          0.07255544354838708,
          0.07702452956989246,
          0.059837029569892466,
          0.06366767473118279,
          0.030015120967741938,
          0.06711189516129032,
          0.06215557795698924,
          0.07206821236559138,
          0.030334341397849462,
          0.06754872311827956
         ],
         "xaxis": "x6",
         "y": [
          0.8223045703193929,
          0.8240691724016234,
          0.8234868537144873,
          0.8224986765484383,
          0.8233633315687312,
          0.8233103935062644,
          0.8232574554437975,
          0.8236103758602434,
          0.8230280571731076,
          0.8225163225692607,
          0.8233986236103759,
          0.8236280218810659,
          0.8234162696311982,
          0.8229574730898183,
          0.8229221810481736,
          0.8231339332980413,
          0.8238574201517558,
          0.8226927827774837,
          0.8230986412563966,
          0.8220398800070583,
          0.8232398094229751
         ],
         "yaxis": "y6"
        },
        {
         "customdata": [
          [
           "{\"epsilon\":null,\"theta\":null}",
           "{\"epsilon\":null}",
           "unconstrained"
          ],
          [
           "{\"epsilon\":null,\"theta\":null}",
           "{\"epsilon\":0.06873684210526315}",
           "exponentiated_gradient"
          ],
          [
           "{\"epsilon\":null,\"theta\":null}",
           "{\"epsilon\":0.01663157894736842}",
           "exponentiated_gradient"
          ],
          [
           "{\"epsilon\":null,\"theta\":null}",
           "{\"epsilon\":0.05310526315789474}",
           "exponentiated_gradient"
          ],
          [
           "{\"epsilon\":null,\"theta\":null}",
           "{\"epsilon\":0.02705263157894737}",
           "exponentiated_gradient"
          ],
          [
           "{\"epsilon\":null,\"theta\":null}",
           "{\"epsilon\":0.03747368421052632}",
           "exponentiated_gradient"
          ],
          [
           "{\"epsilon\":null,\"theta\":null}",
           "{\"epsilon\":0.006210526315789474}",
           "exponentiated_gradient"
          ],
          [
           "{\"epsilon\":null,\"theta\":null}",
           "{\"epsilon\":0.08957894736842105}",
           "exponentiated_gradient"
          ],
          [
           "{\"epsilon\":null,\"theta\":null}",
           "{\"epsilon\":0.06352631578947368}",
           "exponentiated_gradient"
          ],
          [
           "{\"epsilon\":null,\"theta\":null}",
           "{\"epsilon\":0.09478947368421052}",
           "exponentiated_gradient"
          ],
          [
           "{\"epsilon\":null,\"theta\":null}",
           "{\"epsilon\":0.07394736842105264}",
           "exponentiated_gradient"
          ],
          [
           "{\"epsilon\":null,\"theta\":null}",
           "{\"epsilon\":0.07915789473684211}",
           "exponentiated_gradient"
          ],
          [
           "{\"epsilon\":null,\"theta\":null}",
           "{\"epsilon\":0.08436842105263158}",
           "exponentiated_gradient"
          ],
          [
           "{\"epsilon\":null,\"theta\":null}",
           "{\"epsilon\":0.011421052631578946}",
           "exponentiated_gradient"
          ],
          [
           "{\"epsilon\":null,\"theta\":null}",
           "{\"epsilon\":0.04789473684210526}",
           "exponentiated_gradient"
          ],
          [
           "{\"epsilon\":null,\"theta\":null}",
           "{\"epsilon\":0.001}",
           "exponentiated_gradient"
          ],
          [
           "{\"epsilon\":null,\"theta\":null}",
           "{\"epsilon\":0.021842105263157895}",
           "exponentiated_gradient"
          ],
          [
           "{\"epsilon\":null,\"theta\":null}",
           "{\"epsilon\":0.05831578947368421}",
           "exponentiated_gradient"
          ],
          [
           "{\"epsilon\":null,\"theta\":null}",
           "{\"epsilon\":0.03226315789473684}",
           "exponentiated_gradient"
          ],
          [
           "{\"epsilon\":null,\"theta\":null}",
           "{\"epsilon\":0.1}",
           "exponentiated_gradient"
          ],
          [
           "{\"epsilon\":null,\"theta\":null}",
           "{\"epsilon\":0.04268421052631579}",
           "exponentiated_gradient"
          ]
         ],
         "hovertemplate": "strategy=honest<br>detection_tpr=0.95<br>detection_tnr=0.95<br>demographic_parity_audit=%{x}<br>utility_user=%{y}<br>strategy_json=%{customdata[0]}<br>model_json=%{customdata[1]}<br>model_name=%{customdata[2]}<extra></extra>",
         "legendgroup": "honest",
         "marker": {
          "color": "#EF553B",
          "symbol": "circle"
         },
         "mode": "markers",
         "name": "honest",
         "orientation": "v",
         "showlegend": false,
         "type": "scatter",
         "x": [
          0.07697412634408601,
          0.06859879032258064,
          0.03372815860215054,
          0.06784274193548387,
          0.05341061827956989,
          0.06027385752688171,
          0.021421370967741937,
          0.05895497311827956,
          0.06832997311827957,
          0.06830477150537634,
          0.06496135752688172,
          0.05790490591397849,
          0.07169858870967741,
          0.039297715053763435,
          0.06908602150537634,
          0.02074092741935484,
          0.043934811827956985,
          0.07182459677419353,
          0.056073588709677415,
          0.07131216397849462,
          0.07379872311827956
         ],
         "xaxis": "x3",
         "y": [
          0.8226751367566614,
          0.8235221457561319,
          0.8230633492147522,
          0.8236103758602434,
          0.8225692606317276,
          0.8235927298394212,
          0.8210340568201872,
          0.8232574554437975,
          0.8226927827774837,
          0.8230280571731073,
          0.8234515616728428,
          0.8234692076936649,
          0.8222516322569261,
          0.8222692782777484,
          0.8229927651314629,
          0.8216516675489677,
          0.8225692606317276,
          0.8229927651314627,
          0.8230986412563966,
          0.8239456502558673,
          0.8237691900476444
         ],
         "yaxis": "y3"
        },
        {
         "customdata": [
          [
           "{\"epsilon\":null,\"theta\":null}",
           "{\"epsilon\":0.09478947368421052}",
           "exponentiated_gradient"
          ],
          [
           "{\"epsilon\":null,\"theta\":null}",
           "{\"epsilon\":0.05831578947368421}",
           "exponentiated_gradient"
          ],
          [
           "{\"epsilon\":null,\"theta\":null}",
           "{\"epsilon\":0.06352631578947368}",
           "exponentiated_gradient"
          ],
          [
           "{\"epsilon\":null,\"theta\":null}",
           "{\"epsilon\":0.1}",
           "exponentiated_gradient"
          ],
          [
           "{\"epsilon\":null,\"theta\":null}",
           "{\"epsilon\":0.07394736842105264}",
           "exponentiated_gradient"
          ],
          [
           "{\"epsilon\":null,\"theta\":null}",
           "{\"epsilon\":0.04789473684210526}",
           "exponentiated_gradient"
          ],
          [
           "{\"epsilon\":null,\"theta\":null}",
           "{\"epsilon\":0.04268421052631579}",
           "exponentiated_gradient"
          ],
          [
           "{\"epsilon\":null,\"theta\":null}",
           "{\"epsilon\":0.07915789473684211}",
           "exponentiated_gradient"
          ],
          [
           "{\"epsilon\":null,\"theta\":null}",
           "{\"epsilon\":0.001}",
           "exponentiated_gradient"
          ],
          [
           "{\"epsilon\":null,\"theta\":null}",
           "{\"epsilon\":0.08436842105263158}",
           "exponentiated_gradient"
          ],
          [
           "{\"epsilon\":null,\"theta\":null}",
           "{\"epsilon\":0.03747368421052632}",
           "exponentiated_gradient"
          ],
          [
           "{\"epsilon\":null,\"theta\":null}",
           "{\"epsilon\":0.05310526315789474}",
           "exponentiated_gradient"
          ],
          [
           "{\"epsilon\":null,\"theta\":null}",
           "{\"epsilon\":0.03226315789473684}",
           "exponentiated_gradient"
          ],
          [
           "{\"epsilon\":null,\"theta\":null}",
           "{\"epsilon\":0.01663157894736842}",
           "exponentiated_gradient"
          ],
          [
           "{\"epsilon\":null,\"theta\":null}",
           "{\"epsilon\":0.006210526315789474}",
           "exponentiated_gradient"
          ],
          [
           "{\"epsilon\":null,\"theta\":null}",
           "{\"epsilon\":0.06873684210526315}",
           "exponentiated_gradient"
          ],
          [
           "{\"epsilon\":null,\"theta\":null}",
           "{\"epsilon\":0.021842105263157895}",
           "exponentiated_gradient"
          ],
          [
           "{\"epsilon\":null,\"theta\":null}",
           "{\"epsilon\":0.011421052631578946}",
           "exponentiated_gradient"
          ],
          [
           "{\"epsilon\":null,\"theta\":null}",
           "{\"epsilon\":0.02705263157894737}",
           "exponentiated_gradient"
          ],
          [
           "{\"epsilon\":null,\"theta\":null}",
           "{\"epsilon\":null}",
           "unconstrained"
          ],
          [
           "{\"epsilon\":null,\"theta\":null}",
           "{\"epsilon\":0.08957894736842105}",
           "exponentiated_gradient"
          ]
         ],
         "hovertemplate": "strategy=honest<br>detection_tpr=0.95<br>detection_tnr=1.0<br>demographic_parity_audit=%{x}<br>utility_user=%{y}<br>strategy_json=%{customdata[0]}<br>model_json=%{customdata[1]}<br>model_name=%{customdata[2]}<extra></extra>",
         "legendgroup": "honest",
         "marker": {
          "color": "#EF553B",
          "symbol": "circle"
         },
         "mode": "markers",
         "name": "honest",
         "orientation": "v",
         "showlegend": false,
         "type": "scatter",
         "x": [
          0.07463037634408601,
          0.06733030913978494,
          0.06471774193548387,
          0.07077452956989247,
          0.07116095430107526,
          0.06879200268817204,
          0.06830477150537634,
          0.06281081989247311,
          0.02689012096774194,
          0.07668010752688172,
          0.06725470430107526,
          0.06234879032258064,
          0.05922379032258064,
          0.04193548387096774,
          0.030258736559139788,
          0.06738071236559139,
          0.049722782258064514,
          0.024059139784946237,
          0.055586357526881715,
          0.07131216397849462,
          0.07013608870967741
         ],
         "xaxis": "x4",
         "y": [
          0.8224986765484383,
          0.8231868713605082,
          0.8233103935062644,
          0.8235221457561321,
          0.8244044467972472,
          0.8236280218810658,
          0.8231339332980413,
          0.8234868537144875,
          0.8213869772366331,
          0.8232751014646198,
          0.8234868537144873,
          0.823116287277219,
          0.8232221634021528,
          0.8224633845067937,
          0.8224986765484383,
          0.8230280571731076,
          0.8224633845067938,
          0.8216340215281454,
          0.8234162696311982,
          0.8232045173813305,
          0.8239632962766896
         ],
         "yaxis": "y4"
        },
        {
         "customdata": [
          [
           "{\"epsilon\":null,\"theta\":null}",
           "{\"epsilon\":0.04268421052631579}",
           "exponentiated_gradient"
          ],
          [
           "{\"epsilon\":null,\"theta\":null}",
           "{\"epsilon\":0.09478947368421052}",
           "exponentiated_gradient"
          ],
          [
           "{\"epsilon\":null,\"theta\":null}",
           "{\"epsilon\":0.07915789473684211}",
           "exponentiated_gradient"
          ],
          [
           "{\"epsilon\":null,\"theta\":null}",
           "{\"epsilon\":0.01663157894736842}",
           "exponentiated_gradient"
          ],
          [
           "{\"epsilon\":null,\"theta\":null}",
           "{\"epsilon\":0.03226315789473684}",
           "exponentiated_gradient"
          ],
          [
           "{\"epsilon\":null,\"theta\":null}",
           "{\"epsilon\":0.04789473684210526}",
           "exponentiated_gradient"
          ],
          [
           "{\"epsilon\":null,\"theta\":null}",
           "{\"epsilon\":0.021842105263157895}",
           "exponentiated_gradient"
          ],
          [
           "{\"epsilon\":null,\"theta\":null}",
           "{\"epsilon\":0.05831578947368421}",
           "exponentiated_gradient"
          ],
          [
           "{\"epsilon\":null,\"theta\":null}",
           "{\"epsilon\":0.1}",
           "exponentiated_gradient"
          ],
          [
           "{\"epsilon\":null,\"theta\":null}",
           "{\"epsilon\":0.011421052631578946}",
           "exponentiated_gradient"
          ],
          [
           "{\"epsilon\":null,\"theta\":null}",
           "{\"epsilon\":0.03747368421052632}",
           "exponentiated_gradient"
          ],
          [
           "{\"epsilon\":null,\"theta\":null}",
           "{\"epsilon\":0.006210526315789474}",
           "exponentiated_gradient"
          ],
          [
           "{\"epsilon\":null,\"theta\":null}",
           "{\"epsilon\":null}",
           "unconstrained"
          ],
          [
           "{\"epsilon\":null,\"theta\":null}",
           "{\"epsilon\":0.08957894736842105}",
           "exponentiated_gradient"
          ],
          [
           "{\"epsilon\":null,\"theta\":null}",
           "{\"epsilon\":0.08436842105263158}",
           "exponentiated_gradient"
          ],
          [
           "{\"epsilon\":null,\"theta\":null}",
           "{\"epsilon\":0.06873684210526315}",
           "exponentiated_gradient"
          ],
          [
           "{\"epsilon\":null,\"theta\":null}",
           "{\"epsilon\":0.05310526315789474}",
           "exponentiated_gradient"
          ],
          [
           "{\"epsilon\":null,\"theta\":null}",
           "{\"epsilon\":0.001}",
           "exponentiated_gradient"
          ],
          [
           "{\"epsilon\":null,\"theta\":null}",
           "{\"epsilon\":0.02705263157894737}",
           "exponentiated_gradient"
          ],
          [
           "{\"epsilon\":null,\"theta\":null}",
           "{\"epsilon\":0.07394736842105264}",
           "exponentiated_gradient"
          ],
          [
           "{\"epsilon\":null,\"theta\":null}",
           "{\"epsilon\":0.06352631578947368}",
           "exponentiated_gradient"
          ]
         ],
         "hovertemplate": "strategy=honest<br>detection_tpr=0.5<br>detection_tnr=1.0<br>demographic_parity_audit=%{x}<br>utility_user=%{y}<br>strategy_json=%{customdata[0]}<br>model_json=%{customdata[1]}<br>model_name=%{customdata[2]}<extra></extra>",
         "legendgroup": "honest",
         "marker": {
          "color": "#EF553B",
          "symbol": "circle"
         },
         "mode": "markers",
         "name": "honest",
         "orientation": "v",
         "showlegend": false,
         "type": "scatter",
         "x": [
          0.06501176075268816,
          0.07389952956989246,
          0.06256720430107526,
          0.03763440860215054,
          0.05236055107526881,
          0.06003024193548386,
          0.046866599462365585,
          0.051503696236559135,
          0.07182459677419355,
          0.03448420698924731,
          0.05766129032258064,
          0.03397177419354839,
          0.07592405913978494,
          0.05378024193548386,
          0.05898017473118279,
          0.060391465053763436,
          0.06757392473118279,
          0.008946572580645162,
          0.05260416666666666,
          0.06808635752688172,
          0.07001848118279569
         ],
         "xaxis": "x2",
         "y": [
          0.8233456855479091,
          0.8236280218810658,
          0.8233986236103759,
          0.8221810481736369,
          0.8226221986941944,
          0.8230280571731076,
          0.8226398447150167,
          0.8224986765484383,
          0.8231339332980413,
          0.822710428798306,
          0.8235221457561319,
          0.8222516322569261,
          0.8234692076936649,
          0.8226398447150167,
          0.8244044467972472,
          0.8230280571731076,
          0.8235044997353096,
          0.8212458090700547,
          0.8224280924651491,
          0.8234692076936649,
          0.8232927474854419
         ],
         "yaxis": "y2"
        },
        {
         "customdata": [
          [
           "{\"epsilon\":10.0,\"theta\":null}",
           "{\"epsilon\":null}",
           "unconstrained"
          ],
          [
           "{\"epsilon\":1.6206896551724137,\"theta\":null}",
           "{\"epsilon\":null}",
           "unconstrained"
          ],
          [
           "{\"epsilon\":6.275862068965518,\"theta\":null}",
           "{\"epsilon\":null}",
           "unconstrained"
          ],
          [
           "{\"epsilon\":3.793103448275862,\"theta\":null}",
           "{\"epsilon\":null}",
           "unconstrained"
          ],
          [
           "{\"epsilon\":8.137931034482758,\"theta\":null}",
           "{\"epsilon\":null}",
           "unconstrained"
          ],
          [
           "{\"epsilon\":4.413793103448276,\"theta\":null}",
           "{\"epsilon\":null}",
           "unconstrained"
          ],
          [
           "{\"epsilon\":1.3103448275862069,\"theta\":null}",
           "{\"epsilon\":null}",
           "unconstrained"
          ],
          [
           "{\"epsilon\":5.0344827586206895,\"theta\":null}",
           "{\"epsilon\":null}",
           "unconstrained"
          ],
          [
           "{\"epsilon\":7.827586206896552,\"theta\":null}",
           "{\"epsilon\":null}",
           "unconstrained"
          ],
          [
           "{\"epsilon\":6.586206896551724,\"theta\":null}",
           "{\"epsilon\":null}",
           "unconstrained"
          ],
          [
           "{\"epsilon\":3.4827586206896552,\"theta\":null}",
           "{\"epsilon\":null}",
           "unconstrained"
          ],
          [
           "{\"epsilon\":3.1724137931034484,\"theta\":null}",
           "{\"epsilon\":null}",
           "unconstrained"
          ],
          [
           "{\"epsilon\":2.8620689655172415,\"theta\":null}",
           "{\"epsilon\":null}",
           "unconstrained"
          ],
          [
           "{\"epsilon\":5.655172413793103,\"theta\":null}",
           "{\"epsilon\":null}",
           "unconstrained"
          ],
          [
           "{\"epsilon\":6.8965517241379315,\"theta\":null}",
           "{\"epsilon\":null}",
           "unconstrained"
          ],
          [
           "{\"epsilon\":4.724137931034483,\"theta\":null}",
           "{\"epsilon\":null}",
           "unconstrained"
          ],
          [
           "{\"epsilon\":5.9655172413793105,\"theta\":null}",
           "{\"epsilon\":null}",
           "unconstrained"
          ],
          [
           "{\"epsilon\":9.379310344827587,\"theta\":null}",
           "{\"epsilon\":null}",
           "unconstrained"
          ],
          [
           "{\"epsilon\":2.5517241379310347,\"theta\":null}",
           "{\"epsilon\":null}",
           "unconstrained"
          ],
          [
           "{\"epsilon\":8.448275862068966,\"theta\":null}",
           "{\"epsilon\":null}",
           "unconstrained"
          ],
          [
           "{\"epsilon\":5.344827586206897,\"theta\":null}",
           "{\"epsilon\":null}",
           "unconstrained"
          ],
          [
           "{\"epsilon\":1.0,\"theta\":null}",
           "{\"epsilon\":null}",
           "unconstrained"
          ],
          [
           "{\"epsilon\":8.758620689655173,\"theta\":null}",
           "{\"epsilon\":null}",
           "unconstrained"
          ],
          [
           "{\"epsilon\":9.689655172413794,\"theta\":null}",
           "{\"epsilon\":null}",
           "unconstrained"
          ],
          [
           "{\"epsilon\":1.9310344827586208,\"theta\":null}",
           "{\"epsilon\":null}",
           "unconstrained"
          ],
          [
           "{\"epsilon\":7.206896551724138,\"theta\":null}",
           "{\"epsilon\":null}",
           "unconstrained"
          ],
          [
           "{\"epsilon\":4.103448275862069,\"theta\":null}",
           "{\"epsilon\":null}",
           "unconstrained"
          ],
          [
           "{\"epsilon\":9.068965517241379,\"theta\":null}",
           "{\"epsilon\":null}",
           "unconstrained"
          ],
          [
           "{\"epsilon\":2.2413793103448274,\"theta\":null}",
           "{\"epsilon\":null}",
           "unconstrained"
          ],
          [
           "{\"epsilon\":7.517241379310345,\"theta\":null}",
           "{\"epsilon\":null}",
           "unconstrained"
          ]
         ],
         "hovertemplate": "strategy=randomized_response<br>detection_tpr=1.0<br>detection_tnr=0.95<br>demographic_parity_audit=%{x}<br>utility_user=%{y}<br>strategy_json=%{customdata[0]}<br>model_json=%{customdata[1]}<br>model_name=%{customdata[2]}<extra></extra>",
         "legendgroup": "randomized_response",
         "marker": {
          "color": "#00cc96",
          "symbol": "circle"
         },
         "mode": "markers",
         "name": "randomized_response",
         "orientation": "v",
         "showlegend": true,
         "type": "scatter",
         "x": [
          0.06918682795698924,
          0.07489919354838709,
          0.07331149193548386,
          0.07260584677419354,
          0.06703629032258064,
          0.06727990591397849,
          0.06913642473118278,
          0.0733366935483871,
          0.07043010752688171,
          0.06808635752688172,
          0.06808635752688172,
          0.06940524193548386,
          0.07140456989247311,
          0.07069892473118279,
          0.07365591397849461,
          0.07597446236559138,
          0.07352990591397848,
          0.06784274193548387,
          0.07096774193548386,
          0.07136256720430106,
          0.0694304435483871,
          0.07028729838709677,
          0.07560483870967741,
          0.06469254032258064,
          0.06869959677419354,
          0.07001848118279569,
          0.07726814516129031,
          0.06598622311827956,
          0.06679267473118279,
          0.06891801075268816
         ],
         "xaxis": "x5",
         "y": [
          0.8234162696311982,
          0.8238044820892888,
          0.8236103758602435,
          0.8228339509440621,
          0.8243868007764249,
          0.8231339332980413,
          0.823980942297512,
          0.823928004235045,
          0.8233986236103759,
          0.8227986589024174,
          0.8235397917769542,
          0.8238221281101111,
          0.8235750838185989,
          0.823116287277219,
          0.8234162696311982,
          0.8235397917769542,
          0.8224457384859714,
          0.8230104111522852,
          0.8233986236103759,
          0.8232398094229751,
          0.8233986236103759,
          0.8232045173813305,
          0.8230280571731076,
          0.8232221634021528,
          0.8233633315687312,
          0.8232927474854421,
          0.823169225339686,
          0.8230986412563966,
          0.8232751014646198,
          0.8234162696311982
         ],
         "yaxis": "y5"
        },
        {
         "customdata": [
          [
           "{\"epsilon\":7.517241379310345,\"theta\":null}",
           "{\"epsilon\":null}",
           "unconstrained"
          ],
          [
           "{\"epsilon\":4.724137931034483,\"theta\":null}",
           "{\"epsilon\":null}",
           "unconstrained"
          ],
          [
           "{\"epsilon\":8.758620689655173,\"theta\":null}",
           "{\"epsilon\":null}",
           "unconstrained"
          ],
          [
           "{\"epsilon\":5.9655172413793105,\"theta\":null}",
           "{\"epsilon\":null}",
           "unconstrained"
          ],
          [
           "{\"epsilon\":8.137931034482758,\"theta\":null}",
           "{\"epsilon\":null}",
           "unconstrained"
          ],
          [
           "{\"epsilon\":1.6206896551724137,\"theta\":null}",
           "{\"epsilon\":null}",
           "unconstrained"
          ],
          [
           "{\"epsilon\":3.1724137931034484,\"theta\":null}",
           "{\"epsilon\":null}",
           "unconstrained"
          ],
          [
           "{\"epsilon\":6.275862068965518,\"theta\":null}",
           "{\"epsilon\":null}",
           "unconstrained"
          ],
          [
           "{\"epsilon\":1.9310344827586208,\"theta\":null}",
           "{\"epsilon\":null}",
           "unconstrained"
          ],
          [
           "{\"epsilon\":4.413793103448276,\"theta\":null}",
           "{\"epsilon\":null}",
           "unconstrained"
          ],
          [
           "{\"epsilon\":9.379310344827587,\"theta\":null}",
           "{\"epsilon\":null}",
           "unconstrained"
          ],
          [
           "{\"epsilon\":2.5517241379310347,\"theta\":null}",
           "{\"epsilon\":null}",
           "unconstrained"
          ],
          [
           "{\"epsilon\":7.206896551724138,\"theta\":null}",
           "{\"epsilon\":null}",
           "unconstrained"
          ],
          [
           "{\"epsilon\":7.827586206896552,\"theta\":null}",
           "{\"epsilon\":null}",
           "unconstrained"
          ],
          [
           "{\"epsilon\":5.344827586206897,\"theta\":null}",
           "{\"epsilon\":null}",
           "unconstrained"
          ],
          [
           "{\"epsilon\":6.586206896551724,\"theta\":null}",
           "{\"epsilon\":null}",
           "unconstrained"
          ],
          [
           "{\"epsilon\":2.2413793103448274,\"theta\":null}",
           "{\"epsilon\":null}",
           "unconstrained"
          ],
          [
           "{\"epsilon\":9.689655172413794,\"theta\":null}",
           "{\"epsilon\":null}",
           "unconstrained"
          ],
          [
           "{\"epsilon\":9.068965517241379,\"theta\":null}",
           "{\"epsilon\":null}",
           "unconstrained"
          ],
          [
           "{\"epsilon\":4.103448275862069,\"theta\":null}",
           "{\"epsilon\":null}",
           "unconstrained"
          ],
          [
           "{\"epsilon\":1.3103448275862069,\"theta\":null}",
           "{\"epsilon\":null}",
           "unconstrained"
          ],
          [
           "{\"epsilon\":6.8965517241379315,\"theta\":null}",
           "{\"epsilon\":null}",
           "unconstrained"
          ],
          [
           "{\"epsilon\":1.0,\"theta\":null}",
           "{\"epsilon\":null}",
           "unconstrained"
          ],
          [
           "{\"epsilon\":10.0,\"theta\":null}",
           "{\"epsilon\":null}",
           "unconstrained"
          ],
          [
           "{\"epsilon\":5.0344827586206895,\"theta\":null}",
           "{\"epsilon\":null}",
           "unconstrained"
          ],
          [
           "{\"epsilon\":8.448275862068966,\"theta\":null}",
           "{\"epsilon\":null}",
           "unconstrained"
          ],
          [
           "{\"epsilon\":2.8620689655172415,\"theta\":null}",
           "{\"epsilon\":null}",
           "unconstrained"
          ],
          [
           "{\"epsilon\":5.655172413793103,\"theta\":null}",
           "{\"epsilon\":null}",
           "unconstrained"
          ],
          [
           "{\"epsilon\":3.4827586206896552,\"theta\":null}",
           "{\"epsilon\":null}",
           "unconstrained"
          ],
          [
           "{\"epsilon\":3.793103448275862,\"theta\":null}",
           "{\"epsilon\":null}",
           "unconstrained"
          ]
         ],
         "hovertemplate": "strategy=randomized_response<br>detection_tpr=1.0<br>detection_tnr=1.0<br>demographic_parity_audit=%{x}<br>utility_user=%{y}<br>strategy_json=%{customdata[0]}<br>model_json=%{customdata[1]}<br>model_name=%{customdata[2]}<extra></extra>",
         "legendgroup": "randomized_response",
         "marker": {
          "color": "#00cc96",
          "symbol": "circle"
         },
         "mode": "markers",
         "name": "randomized_response",
         "orientation": "v",
         "showlegend": false,
         "type": "scatter",
         "x": [
          0.07301747311827957,
          0.06759912634408602,
          0.07032930107526882,
          0.07587365591397849,
          0.07226142473118279,
          0.06579301075268816,
          0.06779233870967741,
          0.071875,
          0.06884240591397849,
          0.06832997311827957,
          0.07016129032258064,
          0.0699176747311828,
          0.06706149193548386,
          0.06730510752688171,
          0.06415490591397849,
          0.06684307795698924,
          0.06962365591397848,
          0.07148017473118279,
          0.07563004032258064,
          0.06676747311827956,
          0.07199260752688172,
          0.07148017473118279,
          0.06808635752688172,
          0.07291666666666666,
          0.062004368279569885,
          0.07721774193548386,
          0.07516801075268817,
          0.06789314516129033,
          0.07094254032258064,
          0.06491095430107527
         ],
         "xaxis": "x6",
         "y": [
          0.8233280395270868,
          0.8235927298394212,
          0.8235044997353096,
          0.8226751367566614,
          0.8233280395270868,
          0.8236809599435325,
          0.8238574201517558,
          0.8236456679018882,
          0.8239103582142226,
          0.8237162519851774,
          0.823116287277219,
          0.8239985883183343,
          0.8236103758602435,
          0.8247220751720488,
          0.8232045173813305,
          0.8239985883183343,
          0.8233280395270866,
          0.8233809775895535,
          0.8240691724016234,
          0.8230457031939299,
          0.8229751191106406,
          0.8232398094229751,
          0.8233280395270868,
          0.8232927474854421,
          0.8233633315687312,
          0.8236280218810659,
          0.8233456855479091,
          0.8242985706723134,
          0.8233103935062644,
          0.8240162343391564
         ],
         "yaxis": "y6"
        },
        {
         "customdata": [
          [
           "{\"epsilon\":7.827586206896552,\"theta\":null}",
           "{\"epsilon\":null}",
           "unconstrained"
          ],
          [
           "{\"epsilon\":10.0,\"theta\":null}",
           "{\"epsilon\":null}",
           "unconstrained"
          ],
          [
           "{\"epsilon\":2.2413793103448274,\"theta\":null}",
           "{\"epsilon\":null}",
           "unconstrained"
          ],
          [
           "{\"epsilon\":8.137931034482758,\"theta\":null}",
           "{\"epsilon\":null}",
           "unconstrained"
          ],
          [
           "{\"epsilon\":2.8620689655172415,\"theta\":null}",
           "{\"epsilon\":null}",
           "unconstrained"
          ],
          [
           "{\"epsilon\":5.9655172413793105,\"theta\":null}",
           "{\"epsilon\":null}",
           "unconstrained"
          ],
          [
           "{\"epsilon\":5.344827586206897,\"theta\":null}",
           "{\"epsilon\":null}",
           "unconstrained"
          ],
          [
           "{\"epsilon\":6.586206896551724,\"theta\":null}",
           "{\"epsilon\":null}",
           "unconstrained"
          ],
          [
           "{\"epsilon\":9.068965517241379,\"theta\":null}",
           "{\"epsilon\":null}",
           "unconstrained"
          ],
          [
           "{\"epsilon\":1.0,\"theta\":null}",
           "{\"epsilon\":null}",
           "unconstrained"
          ],
          [
           "{\"epsilon\":5.0344827586206895,\"theta\":null}",
           "{\"epsilon\":null}",
           "unconstrained"
          ],
          [
           "{\"epsilon\":1.3103448275862069,\"theta\":null}",
           "{\"epsilon\":null}",
           "unconstrained"
          ],
          [
           "{\"epsilon\":8.448275862068966,\"theta\":null}",
           "{\"epsilon\":null}",
           "unconstrained"
          ],
          [
           "{\"epsilon\":1.9310344827586208,\"theta\":null}",
           "{\"epsilon\":null}",
           "unconstrained"
          ],
          [
           "{\"epsilon\":9.689655172413794,\"theta\":null}",
           "{\"epsilon\":null}",
           "unconstrained"
          ],
          [
           "{\"epsilon\":6.275862068965518,\"theta\":null}",
           "{\"epsilon\":null}",
           "unconstrained"
          ],
          [
           "{\"epsilon\":3.793103448275862,\"theta\":null}",
           "{\"epsilon\":null}",
           "unconstrained"
          ],
          [
           "{\"epsilon\":7.206896551724138,\"theta\":null}",
           "{\"epsilon\":null}",
           "unconstrained"
          ],
          [
           "{\"epsilon\":4.413793103448276,\"theta\":null}",
           "{\"epsilon\":null}",
           "unconstrained"
          ],
          [
           "{\"epsilon\":3.1724137931034484,\"theta\":null}",
           "{\"epsilon\":null}",
           "unconstrained"
          ],
          [
           "{\"epsilon\":3.4827586206896552,\"theta\":null}",
           "{\"epsilon\":null}",
           "unconstrained"
          ],
          [
           "{\"epsilon\":1.6206896551724137,\"theta\":null}",
           "{\"epsilon\":null}",
           "unconstrained"
          ],
          [
           "{\"epsilon\":4.103448275862069,\"theta\":null}",
           "{\"epsilon\":null}",
           "unconstrained"
          ],
          [
           "{\"epsilon\":2.5517241379310347,\"theta\":null}",
           "{\"epsilon\":null}",
           "unconstrained"
          ],
          [
           "{\"epsilon\":8.758620689655173,\"theta\":null}",
           "{\"epsilon\":null}",
           "unconstrained"
          ],
          [
           "{\"epsilon\":7.517241379310345,\"theta\":null}",
           "{\"epsilon\":null}",
           "unconstrained"
          ],
          [
           "{\"epsilon\":9.379310344827587,\"theta\":null}",
           "{\"epsilon\":null}",
           "unconstrained"
          ],
          [
           "{\"epsilon\":6.8965517241379315,\"theta\":null}",
           "{\"epsilon\":null}",
           "unconstrained"
          ],
          [
           "{\"epsilon\":5.655172413793103,\"theta\":null}",
           "{\"epsilon\":null}",
           "unconstrained"
          ],
          [
           "{\"epsilon\":4.724137931034483,\"theta\":null}",
           "{\"epsilon\":null}",
           "unconstrained"
          ]
         ],
         "hovertemplate": "strategy=randomized_response<br>detection_tpr=0.95<br>detection_tnr=0.95<br>demographic_parity_audit=%{x}<br>utility_user=%{y}<br>strategy_json=%{customdata[0]}<br>model_json=%{customdata[1]}<br>model_name=%{customdata[2]}<extra></extra>",
         "legendgroup": "randomized_response",
         "marker": {
          "color": "#00cc96",
          "symbol": "circle"
         },
         "mode": "markers",
         "name": "randomized_response",
         "orientation": "v",
         "showlegend": false,
         "type": "scatter",
         "x": [
          0.07406754032258064,
          0.06337365591397849,
          0.07008568548387097,
          0.07355510752688171,
          0.0699176747311828,
          0.07509240591397849,
          0.07409274193548386,
          0.07253024193548387,
          0.07538642473118279,
          0.07128696236559139,
          0.07365591397849461,
          0.06835517473118279,
          0.07204301075268817,
          0.06496135752688172,
          0.07204301075268817,
          0.07731854838709676,
          0.07597446236559138,
          0.07148017473118279,
          0.07516801075268817,
          0.06701108870967741,
          0.07304267473118278,
          0.07457997311827956,
          0.07387432795698924,
          0.07169858870967741,
          0.06862399193548387,
          0.07304267473118278,
          0.07101814516129032,
          0.07023689516129031,
          0.06708669354838709,
          0.06886760752688172
         ],
         "xaxis": "x3",
         "y": [
          0.8230809952355743,
          0.8240515263808013,
          0.8233633315687312,
          0.823928004235045,
          0.8234692076936652,
          0.8235574377977766,
          0.8231692253396858,
          0.8238044820892888,
          0.8225163225692607,
          0.8232045173813305,
          0.8235574377977766,
          0.8237162519851774,
          0.824104464443268,
          0.8226398447150167,
          0.8223928004235045,
          0.8229398270689959,
          0.8228868890065291,
          0.8236103758602434,
          0.8226045526733723,
          0.8235221457561319,
          0.8229927651314627,
          0.8232398094229751,
          0.8236280218810658,
          0.8237691900476442,
          0.8226927827774837,
          0.8234692076936652,
          0.8230986412563966,
          0.8233986236103761,
          0.8232751014646198,
          0.8234868537144873
         ],
         "yaxis": "y3"
        },
        {
         "customdata": [
          [
           "{\"epsilon\":2.8620689655172415,\"theta\":null}",
           "{\"epsilon\":null}",
           "unconstrained"
          ],
          [
           "{\"epsilon\":8.758620689655173,\"theta\":null}",
           "{\"epsilon\":null}",
           "unconstrained"
          ],
          [
           "{\"epsilon\":7.827586206896552,\"theta\":null}",
           "{\"epsilon\":null}",
           "unconstrained"
          ],
          [
           "{\"epsilon\":1.6206896551724137,\"theta\":null}",
           "{\"epsilon\":null}",
           "unconstrained"
          ],
          [
           "{\"epsilon\":9.689655172413794,\"theta\":null}",
           "{\"epsilon\":null}",
           "unconstrained"
          ],
          [
           "{\"epsilon\":5.0344827586206895,\"theta\":null}",
           "{\"epsilon\":null}",
           "unconstrained"
          ],
          [
           "{\"epsilon\":6.8965517241379315,\"theta\":null}",
           "{\"epsilon\":null}",
           "unconstrained"
          ],
          [
           "{\"epsilon\":1.3103448275862069,\"theta\":null}",
           "{\"epsilon\":null}",
           "unconstrained"
          ],
          [
           "{\"epsilon\":5.344827586206897,\"theta\":null}",
           "{\"epsilon\":null}",
           "unconstrained"
          ],
          [
           "{\"epsilon\":6.586206896551724,\"theta\":null}",
           "{\"epsilon\":null}",
           "unconstrained"
          ],
          [
           "{\"epsilon\":9.068965517241379,\"theta\":null}",
           "{\"epsilon\":null}",
           "unconstrained"
          ],
          [
           "{\"epsilon\":8.448275862068966,\"theta\":null}",
           "{\"epsilon\":null}",
           "unconstrained"
          ],
          [
           "{\"epsilon\":1.9310344827586208,\"theta\":null}",
           "{\"epsilon\":null}",
           "unconstrained"
          ],
          [
           "{\"epsilon\":9.379310344827587,\"theta\":null}",
           "{\"epsilon\":null}",
           "unconstrained"
          ],
          [
           "{\"epsilon\":5.655172413793103,\"theta\":null}",
           "{\"epsilon\":null}",
           "unconstrained"
          ],
          [
           "{\"epsilon\":4.103448275862069,\"theta\":null}",
           "{\"epsilon\":null}",
           "unconstrained"
          ],
          [
           "{\"epsilon\":5.9655172413793105,\"theta\":null}",
           "{\"epsilon\":null}",
           "unconstrained"
          ],
          [
           "{\"epsilon\":3.4827586206896552,\"theta\":null}",
           "{\"epsilon\":null}",
           "unconstrained"
          ],
          [
           "{\"epsilon\":8.137931034482758,\"theta\":null}",
           "{\"epsilon\":null}",
           "unconstrained"
          ],
          [
           "{\"epsilon\":6.275862068965518,\"theta\":null}",
           "{\"epsilon\":null}",
           "unconstrained"
          ],
          [
           "{\"epsilon\":1.0,\"theta\":null}",
           "{\"epsilon\":null}",
           "unconstrained"
          ],
          [
           "{\"epsilon\":10.0,\"theta\":null}",
           "{\"epsilon\":null}",
           "unconstrained"
          ],
          [
           "{\"epsilon\":2.5517241379310347,\"theta\":null}",
           "{\"epsilon\":null}",
           "unconstrained"
          ],
          [
           "{\"epsilon\":2.2413793103448274,\"theta\":null}",
           "{\"epsilon\":null}",
           "unconstrained"
          ],
          [
           "{\"epsilon\":4.724137931034483,\"theta\":null}",
           "{\"epsilon\":null}",
           "unconstrained"
          ],
          [
           "{\"epsilon\":7.206896551724138,\"theta\":null}",
           "{\"epsilon\":null}",
           "unconstrained"
          ],
          [
           "{\"epsilon\":3.1724137931034484,\"theta\":null}",
           "{\"epsilon\":null}",
           "unconstrained"
          ],
          [
           "{\"epsilon\":3.793103448275862,\"theta\":null}",
           "{\"epsilon\":null}",
           "unconstrained"
          ],
          [
           "{\"epsilon\":7.517241379310345,\"theta\":null}",
           "{\"epsilon\":null}",
           "unconstrained"
          ],
          [
           "{\"epsilon\":4.413793103448276,\"theta\":null}",
           "{\"epsilon\":null}",
           "unconstrained"
          ]
         ],
         "hovertemplate": "strategy=randomized_response<br>detection_tpr=0.95<br>detection_tnr=1.0<br>demographic_parity_audit=%{x}<br>utility_user=%{y}<br>strategy_json=%{customdata[0]}<br>model_json=%{customdata[1]}<br>model_name=%{customdata[2]}<extra></extra>",
         "legendgroup": "randomized_response",
         "marker": {
          "color": "#00cc96",
          "symbol": "circle"
         },
         "mode": "markers",
         "name": "randomized_response",
         "orientation": "v",
         "showlegend": false,
         "type": "scatter",
         "x": [
          0.07306787634408601,
          0.08100638440860214,
          0.07253024193548387,
          0.06749831989247311,
          0.06749831989247311,
          0.07050571236559139,
          0.07352990591397848,
          0.06827956989247311,
          0.07352990591397848,
          0.07048051075268816,
          0.07069892473118279,
          0.07460517473118279,
          0.06940524193548386,
          0.07360551075268816,
          0.06329805107526881,
          0.06811155913978494,
          0.07096774193548386,
          0.07204301075268817,
          0.06886760752688172,
          0.06759912634408602,
          0.07560483870967741,
          0.07233702956989246,
          0.06867439516129031,
          0.06542338709677419,
          0.0699176747311828,
          0.07306787634408601,
          0.07067372311827956,
          0.06464213709677419,
          0.07250504032258064,
          0.07890624999999998
         ],
         "xaxis": "x4",
         "y": [
          0.8233280395270868,
          0.8230104111522852,
          0.8234339156520205,
          0.8230280571731076,
          0.8233986236103759,
          0.822657490735839,
          0.8227810128815951,
          0.8239632962766896,
          0.8236103758602434,
          0.8235750838185989,
          0.8238044820892888,
          0.8231515793188636,
          0.8230104111522852,
          0.823928004235045,
          0.8229045350273513,
          0.8235574377977766,
          0.8238221281101111,
          0.823063349214752,
          0.8233986236103759,
          0.8228339509440621,
          0.8232751014646198,
          0.8234162696311982,
          0.8233103935062642,
          0.823751544026822,
          0.8230809952355743,
          0.8238927121934004,
          0.8233280395270868,
          0.8235397917769542,
          0.822939827068996,
          0.8235044997353096
         ],
         "yaxis": "y4"
        },
        {
         "customdata": [
          [
           "{\"epsilon\":2.8620689655172415,\"theta\":null}",
           "{\"epsilon\":null}",
           "unconstrained"
          ],
          [
           "{\"epsilon\":4.103448275862069,\"theta\":null}",
           "{\"epsilon\":null}",
           "unconstrained"
          ],
          [
           "{\"epsilon\":8.758620689655173,\"theta\":null}",
           "{\"epsilon\":null}",
           "unconstrained"
          ],
          [
           "{\"epsilon\":5.9655172413793105,\"theta\":null}",
           "{\"epsilon\":null}",
           "unconstrained"
          ],
          [
           "{\"epsilon\":4.413793103448276,\"theta\":null}",
           "{\"epsilon\":null}",
           "unconstrained"
          ],
          [
           "{\"epsilon\":8.137931034482758,\"theta\":null}",
           "{\"epsilon\":null}",
           "unconstrained"
          ],
          [
           "{\"epsilon\":1.9310344827586208,\"theta\":null}",
           "{\"epsilon\":null}",
           "unconstrained"
          ],
          [
           "{\"epsilon\":9.379310344827587,\"theta\":null}",
           "{\"epsilon\":null}",
           "unconstrained"
          ],
          [
           "{\"epsilon\":4.724137931034483,\"theta\":null}",
           "{\"epsilon\":null}",
           "unconstrained"
          ],
          [
           "{\"epsilon\":6.275862068965518,\"theta\":null}",
           "{\"epsilon\":null}",
           "unconstrained"
          ],
          [
           "{\"epsilon\":1.0,\"theta\":null}",
           "{\"epsilon\":null}",
           "unconstrained"
          ],
          [
           "{\"epsilon\":6.8965517241379315,\"theta\":null}",
           "{\"epsilon\":null}",
           "unconstrained"
          ],
          [
           "{\"epsilon\":3.4827586206896552,\"theta\":null}",
           "{\"epsilon\":null}",
           "unconstrained"
          ],
          [
           "{\"epsilon\":7.827586206896552,\"theta\":null}",
           "{\"epsilon\":null}",
           "unconstrained"
          ],
          [
           "{\"epsilon\":5.0344827586206895,\"theta\":null}",
           "{\"epsilon\":null}",
           "unconstrained"
          ],
          [
           "{\"epsilon\":3.1724137931034484,\"theta\":null}",
           "{\"epsilon\":null}",
           "unconstrained"
          ],
          [
           "{\"epsilon\":1.3103448275862069,\"theta\":null}",
           "{\"epsilon\":null}",
           "unconstrained"
          ],
          [
           "{\"epsilon\":2.5517241379310347,\"theta\":null}",
           "{\"epsilon\":null}",
           "unconstrained"
          ],
          [
           "{\"epsilon\":3.793103448275862,\"theta\":null}",
           "{\"epsilon\":null}",
           "unconstrained"
          ],
          [
           "{\"epsilon\":2.2413793103448274,\"theta\":null}",
           "{\"epsilon\":null}",
           "unconstrained"
          ],
          [
           "{\"epsilon\":7.517241379310345,\"theta\":null}",
           "{\"epsilon\":null}",
           "unconstrained"
          ],
          [
           "{\"epsilon\":6.586206896551724,\"theta\":null}",
           "{\"epsilon\":null}",
           "unconstrained"
          ],
          [
           "{\"epsilon\":5.655172413793103,\"theta\":null}",
           "{\"epsilon\":null}",
           "unconstrained"
          ],
          [
           "{\"epsilon\":8.448275862068966,\"theta\":null}",
           "{\"epsilon\":null}",
           "unconstrained"
          ],
          [
           "{\"epsilon\":10.0,\"theta\":null}",
           "{\"epsilon\":null}",
           "unconstrained"
          ],
          [
           "{\"epsilon\":9.689655172413794,\"theta\":null}",
           "{\"epsilon\":null}",
           "unconstrained"
          ],
          [
           "{\"epsilon\":9.068965517241379,\"theta\":null}",
           "{\"epsilon\":null}",
           "unconstrained"
          ],
          [
           "{\"epsilon\":5.344827586206897,\"theta\":null}",
           "{\"epsilon\":null}",
           "unconstrained"
          ],
          [
           "{\"epsilon\":7.206896551724138,\"theta\":null}",
           "{\"epsilon\":null}",
           "unconstrained"
          ],
          [
           "{\"epsilon\":1.6206896551724137,\"theta\":null}",
           "{\"epsilon\":null}",
           "unconstrained"
          ]
         ],
         "hovertemplate": "strategy=randomized_response<br>detection_tpr=0.5<br>detection_tnr=1.0<br>demographic_parity_audit=%{x}<br>utility_user=%{y}<br>strategy_json=%{customdata[0]}<br>model_json=%{customdata[1]}<br>model_name=%{customdata[2]}<extra></extra>",
         "legendgroup": "randomized_response",
         "marker": {
          "color": "#00cc96",
          "symbol": "circle"
         },
         "mode": "markers",
         "name": "randomized_response",
         "orientation": "v",
         "showlegend": false,
         "type": "scatter",
         "x": [
          0.06686827956989247,
          0.06186155913978494,
          0.07468077956989247,
          0.06647345430107526,
          0.07145497311827956,
          0.07199260752688172,
          0.06891801075268816,
          0.07206821236559138,
          0.06916162634408601,
          0.06703629032258064,
          0.07069892473118279,
          0.07260584677419354,
          0.07145497311827956,
          0.06832997311827957,
          0.07016129032258064,
          0.0772429435483871,
          0.08039314516129031,
          0.07482358870967741,
          0.07142977150537634,
          0.06932963709677419,
          0.07116095430107526,
          0.0704049059139785,
          0.07116095430107526,
          0.07426075268817203,
          0.07206821236559138,
          0.06935483870967742,
          0.07360551075268816,
          0.07575604838709676,
          0.07541162634408602,
          0.06854838709677419
         ],
         "xaxis": "x2",
         "y": [
          0.8235397917769542,
          0.8236456679018882,
          0.8231868713605082,
          0.8236280218810659,
          0.8229398270689959,
          0.8235574377977766,
          0.8235044997353096,
          0.822886889006529,
          0.8234515616728428,
          0.82258690665255,
          0.8232398094229751,
          0.8236103758602435,
          0.824333862713958,
          0.8239456502558673,
          0.822833950944062,
          0.8232045173813306,
          0.8234868537144873,
          0.8236456679018882,
          0.8234339156520205,
          0.8232045173813305,
          0.8233809775895535,
          0.8228692429857066,
          0.8239985883183343,
          0.8238927121934003,
          0.8231339332980413,
          0.8233633315687312,
          0.8240868184224457,
          0.8228515969648844,
          0.8238044820892888,
          0.8231339332980413
         ],
         "yaxis": "y2"
        }
       ],
       "layout": {
        "annotations": [
         {
          "font": {},
          "showarrow": false,
          "text": "detection_tnr=0.95",
          "x": 0.24,
          "xanchor": "center",
          "xref": "paper",
          "y": 0.9999999999999998,
          "yanchor": "bottom",
          "yref": "paper"
         },
         {
          "font": {},
          "showarrow": false,
          "text": "detection_tnr=1.0",
          "x": 0.74,
          "xanchor": "center",
          "xref": "paper",
          "y": 0.9999999999999998,
          "yanchor": "bottom",
          "yref": "paper"
         },
         {
          "font": {},
          "showarrow": false,
          "text": "detection_tpr=0.5",
          "textangle": 90,
          "x": 0.98,
          "xanchor": "left",
          "xref": "paper",
          "y": 0.15666666666666665,
          "yanchor": "middle",
          "yref": "paper"
         },
         {
          "font": {},
          "showarrow": false,
          "text": "detection_tpr=0.95",
          "textangle": 90,
          "x": 0.98,
          "xanchor": "left",
          "xref": "paper",
          "y": 0.4999999999999999,
          "yanchor": "middle",
          "yref": "paper"
         },
         {
          "font": {},
          "showarrow": false,
          "text": "detection_tpr=1.0",
          "textangle": 90,
          "x": 0.98,
          "xanchor": "left",
          "xref": "paper",
          "y": 0.8433333333333332,
          "yanchor": "middle",
          "yref": "paper"
         }
        ],
        "height": 1000,
        "legend": {
         "title": {
          "text": "strategy"
         },
         "tracegroupgap": 0
        },
        "margin": {
         "t": 60
        },
        "template": {
         "data": {
          "bar": [
           {
            "error_x": {
             "color": "#2a3f5f"
            },
            "error_y": {
             "color": "#2a3f5f"
            },
            "marker": {
             "line": {
              "color": "#E5ECF6",
              "width": 0.5
             },
             "pattern": {
              "fillmode": "overlay",
              "size": 10,
              "solidity": 0.2
             }
            },
            "type": "bar"
           }
          ],
          "barpolar": [
           {
            "marker": {
             "line": {
              "color": "#E5ECF6",
              "width": 0.5
             },
             "pattern": {
              "fillmode": "overlay",
              "size": 10,
              "solidity": 0.2
             }
            },
            "type": "barpolar"
           }
          ],
          "carpet": [
           {
            "aaxis": {
             "endlinecolor": "#2a3f5f",
             "gridcolor": "white",
             "linecolor": "white",
             "minorgridcolor": "white",
             "startlinecolor": "#2a3f5f"
            },
            "baxis": {
             "endlinecolor": "#2a3f5f",
             "gridcolor": "white",
             "linecolor": "white",
             "minorgridcolor": "white",
             "startlinecolor": "#2a3f5f"
            },
            "type": "carpet"
           }
          ],
          "choropleth": [
           {
            "colorbar": {
             "outlinewidth": 0,
             "ticks": ""
            },
            "type": "choropleth"
           }
          ],
          "contour": [
           {
            "colorbar": {
             "outlinewidth": 0,
             "ticks": ""
            },
            "colorscale": [
             [
              0,
              "#0d0887"
             ],
             [
              0.1111111111111111,
              "#46039f"
             ],
             [
              0.2222222222222222,
              "#7201a8"
             ],
             [
              0.3333333333333333,
              "#9c179e"
             ],
             [
              0.4444444444444444,
              "#bd3786"
             ],
             [
              0.5555555555555556,
              "#d8576b"
             ],
             [
              0.6666666666666666,
              "#ed7953"
             ],
             [
              0.7777777777777778,
              "#fb9f3a"
             ],
             [
              0.8888888888888888,
              "#fdca26"
             ],
             [
              1,
              "#f0f921"
             ]
            ],
            "type": "contour"
           }
          ],
          "contourcarpet": [
           {
            "colorbar": {
             "outlinewidth": 0,
             "ticks": ""
            },
            "type": "contourcarpet"
           }
          ],
          "heatmap": [
           {
            "colorbar": {
             "outlinewidth": 0,
             "ticks": ""
            },
            "colorscale": [
             [
              0,
              "#0d0887"
             ],
             [
              0.1111111111111111,
              "#46039f"
             ],
             [
              0.2222222222222222,
              "#7201a8"
             ],
             [
              0.3333333333333333,
              "#9c179e"
             ],
             [
              0.4444444444444444,
              "#bd3786"
             ],
             [
              0.5555555555555556,
              "#d8576b"
             ],
             [
              0.6666666666666666,
              "#ed7953"
             ],
             [
              0.7777777777777778,
              "#fb9f3a"
             ],
             [
              0.8888888888888888,
              "#fdca26"
             ],
             [
              1,
              "#f0f921"
             ]
            ],
            "type": "heatmap"
           }
          ],
          "heatmapgl": [
           {
            "colorbar": {
             "outlinewidth": 0,
             "ticks": ""
            },
            "colorscale": [
             [
              0,
              "#0d0887"
             ],
             [
              0.1111111111111111,
              "#46039f"
             ],
             [
              0.2222222222222222,
              "#7201a8"
             ],
             [
              0.3333333333333333,
              "#9c179e"
             ],
             [
              0.4444444444444444,
              "#bd3786"
             ],
             [
              0.5555555555555556,
              "#d8576b"
             ],
             [
              0.6666666666666666,
              "#ed7953"
             ],
             [
              0.7777777777777778,
              "#fb9f3a"
             ],
             [
              0.8888888888888888,
              "#fdca26"
             ],
             [
              1,
              "#f0f921"
             ]
            ],
            "type": "heatmapgl"
           }
          ],
          "histogram": [
           {
            "marker": {
             "pattern": {
              "fillmode": "overlay",
              "size": 10,
              "solidity": 0.2
             }
            },
            "type": "histogram"
           }
          ],
          "histogram2d": [
           {
            "colorbar": {
             "outlinewidth": 0,
             "ticks": ""
            },
            "colorscale": [
             [
              0,
              "#0d0887"
             ],
             [
              0.1111111111111111,
              "#46039f"
             ],
             [
              0.2222222222222222,
              "#7201a8"
             ],
             [
              0.3333333333333333,
              "#9c179e"
             ],
             [
              0.4444444444444444,
              "#bd3786"
             ],
             [
              0.5555555555555556,
              "#d8576b"
             ],
             [
              0.6666666666666666,
              "#ed7953"
             ],
             [
              0.7777777777777778,
              "#fb9f3a"
             ],
             [
              0.8888888888888888,
              "#fdca26"
             ],
             [
              1,
              "#f0f921"
             ]
            ],
            "type": "histogram2d"
           }
          ],
          "histogram2dcontour": [
           {
            "colorbar": {
             "outlinewidth": 0,
             "ticks": ""
            },
            "colorscale": [
             [
              0,
              "#0d0887"
             ],
             [
              0.1111111111111111,
              "#46039f"
             ],
             [
              0.2222222222222222,
              "#7201a8"
             ],
             [
              0.3333333333333333,
              "#9c179e"
             ],
             [
              0.4444444444444444,
              "#bd3786"
             ],
             [
              0.5555555555555556,
              "#d8576b"
             ],
             [
              0.6666666666666666,
              "#ed7953"
             ],
             [
              0.7777777777777778,
              "#fb9f3a"
             ],
             [
              0.8888888888888888,
              "#fdca26"
             ],
             [
              1,
              "#f0f921"
             ]
            ],
            "type": "histogram2dcontour"
           }
          ],
          "mesh3d": [
           {
            "colorbar": {
             "outlinewidth": 0,
             "ticks": ""
            },
            "type": "mesh3d"
           }
          ],
          "parcoords": [
           {
            "line": {
             "colorbar": {
              "outlinewidth": 0,
              "ticks": ""
             }
            },
            "type": "parcoords"
           }
          ],
          "pie": [
           {
            "automargin": true,
            "type": "pie"
           }
          ],
          "scatter": [
           {
            "fillpattern": {
             "fillmode": "overlay",
             "size": 10,
             "solidity": 0.2
            },
            "type": "scatter"
           }
          ],
          "scatter3d": [
           {
            "line": {
             "colorbar": {
              "outlinewidth": 0,
              "ticks": ""
             }
            },
            "marker": {
             "colorbar": {
              "outlinewidth": 0,
              "ticks": ""
             }
            },
            "type": "scatter3d"
           }
          ],
          "scattercarpet": [
           {
            "marker": {
             "colorbar": {
              "outlinewidth": 0,
              "ticks": ""
             }
            },
            "type": "scattercarpet"
           }
          ],
          "scattergeo": [
           {
            "marker": {
             "colorbar": {
              "outlinewidth": 0,
              "ticks": ""
             }
            },
            "type": "scattergeo"
           }
          ],
          "scattergl": [
           {
            "marker": {
             "colorbar": {
              "outlinewidth": 0,
              "ticks": ""
             }
            },
            "type": "scattergl"
           }
          ],
          "scattermapbox": [
           {
            "marker": {
             "colorbar": {
              "outlinewidth": 0,
              "ticks": ""
             }
            },
            "type": "scattermapbox"
           }
          ],
          "scatterpolar": [
           {
            "marker": {
             "colorbar": {
              "outlinewidth": 0,
              "ticks": ""
             }
            },
            "type": "scatterpolar"
           }
          ],
          "scatterpolargl": [
           {
            "marker": {
             "colorbar": {
              "outlinewidth": 0,
              "ticks": ""
             }
            },
            "type": "scatterpolargl"
           }
          ],
          "scatterternary": [
           {
            "marker": {
             "colorbar": {
              "outlinewidth": 0,
              "ticks": ""
             }
            },
            "type": "scatterternary"
           }
          ],
          "surface": [
           {
            "colorbar": {
             "outlinewidth": 0,
             "ticks": ""
            },
            "colorscale": [
             [
              0,
              "#0d0887"
             ],
             [
              0.1111111111111111,
              "#46039f"
             ],
             [
              0.2222222222222222,
              "#7201a8"
             ],
             [
              0.3333333333333333,
              "#9c179e"
             ],
             [
              0.4444444444444444,
              "#bd3786"
             ],
             [
              0.5555555555555556,
              "#d8576b"
             ],
             [
              0.6666666666666666,
              "#ed7953"
             ],
             [
              0.7777777777777778,
              "#fb9f3a"
             ],
             [
              0.8888888888888888,
              "#fdca26"
             ],
             [
              1,
              "#f0f921"
             ]
            ],
            "type": "surface"
           }
          ],
          "table": [
           {
            "cells": {
             "fill": {
              "color": "#EBF0F8"
             },
             "line": {
              "color": "white"
             }
            },
            "header": {
             "fill": {
              "color": "#C8D4E3"
             },
             "line": {
              "color": "white"
             }
            },
            "type": "table"
           }
          ]
         },
         "layout": {
          "annotationdefaults": {
           "arrowcolor": "#2a3f5f",
           "arrowhead": 0,
           "arrowwidth": 1
          },
          "autotypenumbers": "strict",
          "coloraxis": {
           "colorbar": {
            "outlinewidth": 0,
            "ticks": ""
           }
          },
          "colorscale": {
           "diverging": [
            [
             0,
             "#8e0152"
            ],
            [
             0.1,
             "#c51b7d"
            ],
            [
             0.2,
             "#de77ae"
            ],
            [
             0.3,
             "#f1b6da"
            ],
            [
             0.4,
             "#fde0ef"
            ],
            [
             0.5,
             "#f7f7f7"
            ],
            [
             0.6,
             "#e6f5d0"
            ],
            [
             0.7,
             "#b8e186"
            ],
            [
             0.8,
             "#7fbc41"
            ],
            [
             0.9,
             "#4d9221"
            ],
            [
             1,
             "#276419"
            ]
           ],
           "sequential": [
            [
             0,
             "#0d0887"
            ],
            [
             0.1111111111111111,
             "#46039f"
            ],
            [
             0.2222222222222222,
             "#7201a8"
            ],
            [
             0.3333333333333333,
             "#9c179e"
            ],
            [
             0.4444444444444444,
             "#bd3786"
            ],
            [
             0.5555555555555556,
             "#d8576b"
            ],
            [
             0.6666666666666666,
             "#ed7953"
            ],
            [
             0.7777777777777778,
             "#fb9f3a"
            ],
            [
             0.8888888888888888,
             "#fdca26"
            ],
            [
             1,
             "#f0f921"
            ]
           ],
           "sequentialminus": [
            [
             0,
             "#0d0887"
            ],
            [
             0.1111111111111111,
             "#46039f"
            ],
            [
             0.2222222222222222,
             "#7201a8"
            ],
            [
             0.3333333333333333,
             "#9c179e"
            ],
            [
             0.4444444444444444,
             "#bd3786"
            ],
            [
             0.5555555555555556,
             "#d8576b"
            ],
            [
             0.6666666666666666,
             "#ed7953"
            ],
            [
             0.7777777777777778,
             "#fb9f3a"
            ],
            [
             0.8888888888888888,
             "#fdca26"
            ],
            [
             1,
             "#f0f921"
            ]
           ]
          },
          "colorway": [
           "#636efa",
           "#EF553B",
           "#00cc96",
           "#ab63fa",
           "#FFA15A",
           "#19d3f3",
           "#FF6692",
           "#B6E880",
           "#FF97FF",
           "#FECB52"
          ],
          "font": {
           "color": "#2a3f5f"
          },
          "geo": {
           "bgcolor": "white",
           "lakecolor": "white",
           "landcolor": "#E5ECF6",
           "showlakes": true,
           "showland": true,
           "subunitcolor": "white"
          },
          "hoverlabel": {
           "align": "left"
          },
          "hovermode": "closest",
          "mapbox": {
           "style": "light"
          },
          "paper_bgcolor": "white",
          "plot_bgcolor": "#E5ECF6",
          "polar": {
           "angularaxis": {
            "gridcolor": "white",
            "linecolor": "white",
            "ticks": ""
           },
           "bgcolor": "#E5ECF6",
           "radialaxis": {
            "gridcolor": "white",
            "linecolor": "white",
            "ticks": ""
           }
          },
          "scene": {
           "xaxis": {
            "backgroundcolor": "#E5ECF6",
            "gridcolor": "white",
            "gridwidth": 2,
            "linecolor": "white",
            "showbackground": true,
            "ticks": "",
            "zerolinecolor": "white"
           },
           "yaxis": {
            "backgroundcolor": "#E5ECF6",
            "gridcolor": "white",
            "gridwidth": 2,
            "linecolor": "white",
            "showbackground": true,
            "ticks": "",
            "zerolinecolor": "white"
           },
           "zaxis": {
            "backgroundcolor": "#E5ECF6",
            "gridcolor": "white",
            "gridwidth": 2,
            "linecolor": "white",
            "showbackground": true,
            "ticks": "",
            "zerolinecolor": "white"
           }
          },
          "shapedefaults": {
           "line": {
            "color": "#2a3f5f"
           }
          },
          "ternary": {
           "aaxis": {
            "gridcolor": "white",
            "linecolor": "white",
            "ticks": ""
           },
           "baxis": {
            "gridcolor": "white",
            "linecolor": "white",
            "ticks": ""
           },
           "bgcolor": "#E5ECF6",
           "caxis": {
            "gridcolor": "white",
            "linecolor": "white",
            "ticks": ""
           }
          },
          "title": {
           "x": 0.05
          },
          "xaxis": {
           "automargin": true,
           "gridcolor": "white",
           "linecolor": "white",
           "ticks": "",
           "title": {
            "standoff": 15
           },
           "zerolinecolor": "white",
           "zerolinewidth": 2
          },
          "yaxis": {
           "automargin": true,
           "gridcolor": "white",
           "linecolor": "white",
           "ticks": "",
           "title": {
            "standoff": 15
           },
           "zerolinecolor": "white",
           "zerolinewidth": 2
          }
         }
        },
        "xaxis": {
         "anchor": "y",
         "domain": [
          0,
          0.48
         ],
         "range": [
          0,
          0.1
         ],
         "title": {
          "text": "demographic_parity_audit"
         }
        },
        "xaxis2": {
         "anchor": "y2",
         "domain": [
          0.5,
          0.98
         ],
         "matches": "x",
         "range": [
          0,
          0.1
         ],
         "title": {
          "text": "demographic_parity_audit"
         }
        },
        "xaxis3": {
         "anchor": "y3",
         "domain": [
          0,
          0.48
         ],
         "matches": "x",
         "range": [
          0,
          0.1
         ],
         "showticklabels": false
        },
        "xaxis4": {
         "anchor": "y4",
         "domain": [
          0.5,
          0.98
         ],
         "matches": "x",
         "range": [
          0,
          0.1
         ],
         "showticklabels": false
        },
        "xaxis5": {
         "anchor": "y5",
         "domain": [
          0,
          0.48
         ],
         "matches": "x",
         "range": [
          0,
          0.1
         ],
         "showticklabels": false
        },
        "xaxis6": {
         "anchor": "y6",
         "domain": [
          0.5,
          0.98
         ],
         "matches": "x",
         "range": [
          0,
          0.1
         ],
         "showticklabels": false
        },
        "yaxis": {
         "anchor": "x",
         "domain": [
          0,
          0.3133333333333333
         ],
         "range": [
          0.81,
          0.83
         ],
         "title": {
          "text": "utility_user"
         }
        },
        "yaxis2": {
         "anchor": "x2",
         "domain": [
          0,
          0.3133333333333333
         ],
         "matches": "y",
         "range": [
          0.81,
          0.83
         ],
         "showticklabels": false
        },
        "yaxis3": {
         "anchor": "x3",
         "domain": [
          0.34333333333333327,
          0.6566666666666665
         ],
         "matches": "y",
         "range": [
          0.81,
          0.83
         ],
         "title": {
          "text": "utility_user"
         }
        },
        "yaxis4": {
         "anchor": "x4",
         "domain": [
          0.34333333333333327,
          0.6566666666666665
         ],
         "matches": "y",
         "range": [
          0.81,
          0.83
         ],
         "showticklabels": false
        },
        "yaxis5": {
         "anchor": "x5",
         "domain": [
          0.6866666666666665,
          0.9999999999999998
         ],
         "matches": "y",
         "range": [
          0.81,
          0.83
         ],
         "title": {
          "text": "utility_user"
         }
        },
        "yaxis6": {
         "anchor": "x6",
         "domain": [
          0.6866666666666665,
          0.9999999999999998
         ],
         "matches": "y",
         "range": [
          0.81,
          0.83
         ],
         "showticklabels": false
        }
       }
      }
     },
     "metadata": {},
     "output_type": "display_data"
    }
   ],
   "source": [
    "fig = px.scatter(\n",
    "    audit,\n",
    "    x=\"demographic_parity_audit\",\n",
    "    y=\"utility_user\",\n",
    "    color=\"strategy\",\n",
    "    facet_row=\"detection_tpr\",\n",
    "    facet_col=\"detection_tnr\",\n",
    "    hover_data=[\"strategy_json\", \"model_json\", \"model_name\"],\n",
    "    height=1_000,\n",
    ")\n",
    "fig.update_xaxes(range=[0, 0.1])\n",
    "fig.update_yaxes(range=[0.81, 0.83])\n",
    "fig.show()"
   ]
  }
 ],
 "metadata": {
  "kernelspec": {
   "display_name": "default",
   "language": "python",
   "name": "python3"
  },
  "language_info": {
   "codemirror_mode": {
    "name": "ipython",
    "version": 3
   },
   "file_extension": ".py",
   "mimetype": "text/x-python",
   "name": "python",
   "nbconvert_exporter": "python",
   "pygments_lexer": "ipython3",
   "version": "3.12.5"
  }
 },
 "nbformat": 4,
 "nbformat_minor": 2
}
