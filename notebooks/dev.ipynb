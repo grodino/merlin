{
 "cells": [
  {
   "cell_type": "code",
   "execution_count": 59,
   "metadata": {},
   "outputs": [],
   "source": [
    "from math import sqrt\n",
    "import polars as pl\n",
    "from plotly import express as px"
   ]
  },
  {
   "cell_type": "code",
   "execution_count": 60,
   "metadata": {},
   "outputs": [],
   "source": [
    "audit = (\n",
    "    # pl.read_ndjson(\"../generated/dev5_ACSEmployment_binarized.jsonl\")\n",
    "    pl.read_ndjson(\"../generated/dev5_ACSEmployment_binarized_linear.jsonl\")\n",
    "    # .select(pl.all().exclude(\"model_params\"))\n",
    "    .group_by(\n",
    "        \"dataset\",\n",
    "        \"model_name\",\n",
    "        \"model_params\",\n",
    "        \"strategy\",\n",
    "        \"strategy_params\",\n",
    "        \"audit_budget\",\n",
    "        \"detection_tpr\",\n",
    "        \"detection_tnr\",\n",
    "    )\n",
    "    .mean()\n",
    "    .with_columns(\n",
    "        strategy_json=pl.col(\"strategy_params\").struct.json_encode(),\n",
    "        model_json=pl.col(\"model_params\").struct.json_encode(),\n",
    "    )\n",
    "    .sort(\"detection_tpr\", \"detection_tnr\", descending=[True, False])\n",
    ")"
   ]
  },
  {
   "cell_type": "code",
   "execution_count": 61,
   "metadata": {},
   "outputs": [
    {
     "data": {
      "application/vnd.plotly.v1+json": {
       "config": {
        "plotlyServerURL": "https://plot.ly"
       },
       "data": [
        {
         "hovertemplate": "model_name=exponentiated_gradient<br>demographic_parity_user=%{x}<br>utility_user=%{y}<extra></extra>",
         "legendgroup": "exponentiated_gradient",
         "marker": {
          "color": "#636efa",
          "symbol": "circle"
         },
         "mode": "markers",
         "name": "exponentiated_gradient",
         "orientation": "v",
         "showlegend": true,
         "type": "scatter",
         "x": [
          0.04704188670441769,
          0.047690038387308856,
          0.047690038387308856,
          0.026915547920510697,
          0.047690038387308856,
          0.00837333248499501,
          0.047690038387308856,
          0.047690038387308856,
          0.047690038387308856,
          0.047690038387308856
         ],
         "xaxis": "x",
         "y": [
          0.8223370950127411,
          0.8224535857298871,
          0.8224535857298871,
          0.8183472879504915,
          0.8224535857298871,
          0.815027302511831,
          0.8224535857298871,
          0.8224535857298871,
          0.8224535857298871,
          0.8224535857298871
         ],
         "yaxis": "y"
        },
        {
         "hovertemplate": "model_name=unconstrained<br>demographic_parity_user=%{x}<br>utility_user=%{y}<extra></extra>",
         "legendgroup": "unconstrained",
         "marker": {
          "color": "#EF553B",
          "symbol": "circle"
         },
         "mode": "markers",
         "name": "unconstrained",
         "orientation": "v",
         "showlegend": true,
         "type": "scatter",
         "x": [
          0.047690038387308856
         ],
         "xaxis": "x",
         "y": [
          0.8224535857298871
         ],
         "yaxis": "y"
        }
       ],
       "layout": {
        "height": 600,
        "legend": {
         "title": {
          "text": "model_name"
         },
         "tracegroupgap": 0
        },
        "template": {
         "data": {
          "bar": [
           {
            "error_x": {
             "color": "#2a3f5f"
            },
            "error_y": {
             "color": "#2a3f5f"
            },
            "marker": {
             "line": {
              "color": "#E5ECF6",
              "width": 0.5
             },
             "pattern": {
              "fillmode": "overlay",
              "size": 10,
              "solidity": 0.2
             }
            },
            "type": "bar"
           }
          ],
          "barpolar": [
           {
            "marker": {
             "line": {
              "color": "#E5ECF6",
              "width": 0.5
             },
             "pattern": {
              "fillmode": "overlay",
              "size": 10,
              "solidity": 0.2
             }
            },
            "type": "barpolar"
           }
          ],
          "carpet": [
           {
            "aaxis": {
             "endlinecolor": "#2a3f5f",
             "gridcolor": "white",
             "linecolor": "white",
             "minorgridcolor": "white",
             "startlinecolor": "#2a3f5f"
            },
            "baxis": {
             "endlinecolor": "#2a3f5f",
             "gridcolor": "white",
             "linecolor": "white",
             "minorgridcolor": "white",
             "startlinecolor": "#2a3f5f"
            },
            "type": "carpet"
           }
          ],
          "choropleth": [
           {
            "colorbar": {
             "outlinewidth": 0,
             "ticks": ""
            },
            "type": "choropleth"
           }
          ],
          "contour": [
           {
            "colorbar": {
             "outlinewidth": 0,
             "ticks": ""
            },
            "colorscale": [
             [
              0,
              "#0d0887"
             ],
             [
              0.1111111111111111,
              "#46039f"
             ],
             [
              0.2222222222222222,
              "#7201a8"
             ],
             [
              0.3333333333333333,
              "#9c179e"
             ],
             [
              0.4444444444444444,
              "#bd3786"
             ],
             [
              0.5555555555555556,
              "#d8576b"
             ],
             [
              0.6666666666666666,
              "#ed7953"
             ],
             [
              0.7777777777777778,
              "#fb9f3a"
             ],
             [
              0.8888888888888888,
              "#fdca26"
             ],
             [
              1,
              "#f0f921"
             ]
            ],
            "type": "contour"
           }
          ],
          "contourcarpet": [
           {
            "colorbar": {
             "outlinewidth": 0,
             "ticks": ""
            },
            "type": "contourcarpet"
           }
          ],
          "heatmap": [
           {
            "colorbar": {
             "outlinewidth": 0,
             "ticks": ""
            },
            "colorscale": [
             [
              0,
              "#0d0887"
             ],
             [
              0.1111111111111111,
              "#46039f"
             ],
             [
              0.2222222222222222,
              "#7201a8"
             ],
             [
              0.3333333333333333,
              "#9c179e"
             ],
             [
              0.4444444444444444,
              "#bd3786"
             ],
             [
              0.5555555555555556,
              "#d8576b"
             ],
             [
              0.6666666666666666,
              "#ed7953"
             ],
             [
              0.7777777777777778,
              "#fb9f3a"
             ],
             [
              0.8888888888888888,
              "#fdca26"
             ],
             [
              1,
              "#f0f921"
             ]
            ],
            "type": "heatmap"
           }
          ],
          "heatmapgl": [
           {
            "colorbar": {
             "outlinewidth": 0,
             "ticks": ""
            },
            "colorscale": [
             [
              0,
              "#0d0887"
             ],
             [
              0.1111111111111111,
              "#46039f"
             ],
             [
              0.2222222222222222,
              "#7201a8"
             ],
             [
              0.3333333333333333,
              "#9c179e"
             ],
             [
              0.4444444444444444,
              "#bd3786"
             ],
             [
              0.5555555555555556,
              "#d8576b"
             ],
             [
              0.6666666666666666,
              "#ed7953"
             ],
             [
              0.7777777777777778,
              "#fb9f3a"
             ],
             [
              0.8888888888888888,
              "#fdca26"
             ],
             [
              1,
              "#f0f921"
             ]
            ],
            "type": "heatmapgl"
           }
          ],
          "histogram": [
           {
            "marker": {
             "pattern": {
              "fillmode": "overlay",
              "size": 10,
              "solidity": 0.2
             }
            },
            "type": "histogram"
           }
          ],
          "histogram2d": [
           {
            "colorbar": {
             "outlinewidth": 0,
             "ticks": ""
            },
            "colorscale": [
             [
              0,
              "#0d0887"
             ],
             [
              0.1111111111111111,
              "#46039f"
             ],
             [
              0.2222222222222222,
              "#7201a8"
             ],
             [
              0.3333333333333333,
              "#9c179e"
             ],
             [
              0.4444444444444444,
              "#bd3786"
             ],
             [
              0.5555555555555556,
              "#d8576b"
             ],
             [
              0.6666666666666666,
              "#ed7953"
             ],
             [
              0.7777777777777778,
              "#fb9f3a"
             ],
             [
              0.8888888888888888,
              "#fdca26"
             ],
             [
              1,
              "#f0f921"
             ]
            ],
            "type": "histogram2d"
           }
          ],
          "histogram2dcontour": [
           {
            "colorbar": {
             "outlinewidth": 0,
             "ticks": ""
            },
            "colorscale": [
             [
              0,
              "#0d0887"
             ],
             [
              0.1111111111111111,
              "#46039f"
             ],
             [
              0.2222222222222222,
              "#7201a8"
             ],
             [
              0.3333333333333333,
              "#9c179e"
             ],
             [
              0.4444444444444444,
              "#bd3786"
             ],
             [
              0.5555555555555556,
              "#d8576b"
             ],
             [
              0.6666666666666666,
              "#ed7953"
             ],
             [
              0.7777777777777778,
              "#fb9f3a"
             ],
             [
              0.8888888888888888,
              "#fdca26"
             ],
             [
              1,
              "#f0f921"
             ]
            ],
            "type": "histogram2dcontour"
           }
          ],
          "mesh3d": [
           {
            "colorbar": {
             "outlinewidth": 0,
             "ticks": ""
            },
            "type": "mesh3d"
           }
          ],
          "parcoords": [
           {
            "line": {
             "colorbar": {
              "outlinewidth": 0,
              "ticks": ""
             }
            },
            "type": "parcoords"
           }
          ],
          "pie": [
           {
            "automargin": true,
            "type": "pie"
           }
          ],
          "scatter": [
           {
            "fillpattern": {
             "fillmode": "overlay",
             "size": 10,
             "solidity": 0.2
            },
            "type": "scatter"
           }
          ],
          "scatter3d": [
           {
            "line": {
             "colorbar": {
              "outlinewidth": 0,
              "ticks": ""
             }
            },
            "marker": {
             "colorbar": {
              "outlinewidth": 0,
              "ticks": ""
             }
            },
            "type": "scatter3d"
           }
          ],
          "scattercarpet": [
           {
            "marker": {
             "colorbar": {
              "outlinewidth": 0,
              "ticks": ""
             }
            },
            "type": "scattercarpet"
           }
          ],
          "scattergeo": [
           {
            "marker": {
             "colorbar": {
              "outlinewidth": 0,
              "ticks": ""
             }
            },
            "type": "scattergeo"
           }
          ],
          "scattergl": [
           {
            "marker": {
             "colorbar": {
              "outlinewidth": 0,
              "ticks": ""
             }
            },
            "type": "scattergl"
           }
          ],
          "scattermapbox": [
           {
            "marker": {
             "colorbar": {
              "outlinewidth": 0,
              "ticks": ""
             }
            },
            "type": "scattermapbox"
           }
          ],
          "scatterpolar": [
           {
            "marker": {
             "colorbar": {
              "outlinewidth": 0,
              "ticks": ""
             }
            },
            "type": "scatterpolar"
           }
          ],
          "scatterpolargl": [
           {
            "marker": {
             "colorbar": {
              "outlinewidth": 0,
              "ticks": ""
             }
            },
            "type": "scatterpolargl"
           }
          ],
          "scatterternary": [
           {
            "marker": {
             "colorbar": {
              "outlinewidth": 0,
              "ticks": ""
             }
            },
            "type": "scatterternary"
           }
          ],
          "surface": [
           {
            "colorbar": {
             "outlinewidth": 0,
             "ticks": ""
            },
            "colorscale": [
             [
              0,
              "#0d0887"
             ],
             [
              0.1111111111111111,
              "#46039f"
             ],
             [
              0.2222222222222222,
              "#7201a8"
             ],
             [
              0.3333333333333333,
              "#9c179e"
             ],
             [
              0.4444444444444444,
              "#bd3786"
             ],
             [
              0.5555555555555556,
              "#d8576b"
             ],
             [
              0.6666666666666666,
              "#ed7953"
             ],
             [
              0.7777777777777778,
              "#fb9f3a"
             ],
             [
              0.8888888888888888,
              "#fdca26"
             ],
             [
              1,
              "#f0f921"
             ]
            ],
            "type": "surface"
           }
          ],
          "table": [
           {
            "cells": {
             "fill": {
              "color": "#EBF0F8"
             },
             "line": {
              "color": "white"
             }
            },
            "header": {
             "fill": {
              "color": "#C8D4E3"
             },
             "line": {
              "color": "white"
             }
            },
            "type": "table"
           }
          ]
         },
         "layout": {
          "annotationdefaults": {
           "arrowcolor": "#2a3f5f",
           "arrowhead": 0,
           "arrowwidth": 1
          },
          "autotypenumbers": "strict",
          "coloraxis": {
           "colorbar": {
            "outlinewidth": 0,
            "ticks": ""
           }
          },
          "colorscale": {
           "diverging": [
            [
             0,
             "#8e0152"
            ],
            [
             0.1,
             "#c51b7d"
            ],
            [
             0.2,
             "#de77ae"
            ],
            [
             0.3,
             "#f1b6da"
            ],
            [
             0.4,
             "#fde0ef"
            ],
            [
             0.5,
             "#f7f7f7"
            ],
            [
             0.6,
             "#e6f5d0"
            ],
            [
             0.7,
             "#b8e186"
            ],
            [
             0.8,
             "#7fbc41"
            ],
            [
             0.9,
             "#4d9221"
            ],
            [
             1,
             "#276419"
            ]
           ],
           "sequential": [
            [
             0,
             "#0d0887"
            ],
            [
             0.1111111111111111,
             "#46039f"
            ],
            [
             0.2222222222222222,
             "#7201a8"
            ],
            [
             0.3333333333333333,
             "#9c179e"
            ],
            [
             0.4444444444444444,
             "#bd3786"
            ],
            [
             0.5555555555555556,
             "#d8576b"
            ],
            [
             0.6666666666666666,
             "#ed7953"
            ],
            [
             0.7777777777777778,
             "#fb9f3a"
            ],
            [
             0.8888888888888888,
             "#fdca26"
            ],
            [
             1,
             "#f0f921"
            ]
           ],
           "sequentialminus": [
            [
             0,
             "#0d0887"
            ],
            [
             0.1111111111111111,
             "#46039f"
            ],
            [
             0.2222222222222222,
             "#7201a8"
            ],
            [
             0.3333333333333333,
             "#9c179e"
            ],
            [
             0.4444444444444444,
             "#bd3786"
            ],
            [
             0.5555555555555556,
             "#d8576b"
            ],
            [
             0.6666666666666666,
             "#ed7953"
            ],
            [
             0.7777777777777778,
             "#fb9f3a"
            ],
            [
             0.8888888888888888,
             "#fdca26"
            ],
            [
             1,
             "#f0f921"
            ]
           ]
          },
          "colorway": [
           "#636efa",
           "#EF553B",
           "#00cc96",
           "#ab63fa",
           "#FFA15A",
           "#19d3f3",
           "#FF6692",
           "#B6E880",
           "#FF97FF",
           "#FECB52"
          ],
          "font": {
           "color": "#2a3f5f"
          },
          "geo": {
           "bgcolor": "white",
           "lakecolor": "white",
           "landcolor": "#E5ECF6",
           "showlakes": true,
           "showland": true,
           "subunitcolor": "white"
          },
          "hoverlabel": {
           "align": "left"
          },
          "hovermode": "closest",
          "mapbox": {
           "style": "light"
          },
          "paper_bgcolor": "white",
          "plot_bgcolor": "#E5ECF6",
          "polar": {
           "angularaxis": {
            "gridcolor": "white",
            "linecolor": "white",
            "ticks": ""
           },
           "bgcolor": "#E5ECF6",
           "radialaxis": {
            "gridcolor": "white",
            "linecolor": "white",
            "ticks": ""
           }
          },
          "scene": {
           "xaxis": {
            "backgroundcolor": "#E5ECF6",
            "gridcolor": "white",
            "gridwidth": 2,
            "linecolor": "white",
            "showbackground": true,
            "ticks": "",
            "zerolinecolor": "white"
           },
           "yaxis": {
            "backgroundcolor": "#E5ECF6",
            "gridcolor": "white",
            "gridwidth": 2,
            "linecolor": "white",
            "showbackground": true,
            "ticks": "",
            "zerolinecolor": "white"
           },
           "zaxis": {
            "backgroundcolor": "#E5ECF6",
            "gridcolor": "white",
            "gridwidth": 2,
            "linecolor": "white",
            "showbackground": true,
            "ticks": "",
            "zerolinecolor": "white"
           }
          },
          "shapedefaults": {
           "line": {
            "color": "#2a3f5f"
           }
          },
          "ternary": {
           "aaxis": {
            "gridcolor": "white",
            "linecolor": "white",
            "ticks": ""
           },
           "baxis": {
            "gridcolor": "white",
            "linecolor": "white",
            "ticks": ""
           },
           "bgcolor": "#E5ECF6",
           "caxis": {
            "gridcolor": "white",
            "linecolor": "white",
            "ticks": ""
           }
          },
          "title": {
           "x": 0.05
          },
          "xaxis": {
           "automargin": true,
           "gridcolor": "white",
           "linecolor": "white",
           "ticks": "",
           "title": {
            "standoff": 15
           },
           "zerolinecolor": "white",
           "zerolinewidth": 2
          },
          "yaxis": {
           "automargin": true,
           "gridcolor": "white",
           "linecolor": "white",
           "ticks": "",
           "title": {
            "standoff": 15
           },
           "zerolinecolor": "white",
           "zerolinewidth": 2
          }
         }
        },
        "title": {
         "text": "Honest platform"
        },
        "width": 800,
        "xaxis": {
         "anchor": "y",
         "domain": [
          0,
          1
         ],
         "title": {
          "text": "demographic_parity_user"
         }
        },
        "yaxis": {
         "anchor": "x",
         "domain": [
          0,
          1
         ],
         "title": {
          "text": "utility_user"
         }
        }
       }
      }
     },
     "metadata": {},
     "output_type": "display_data"
    }
   ],
   "source": [
    "fig = px.scatter(\n",
    "    audit.filter(\n",
    "        pl.col(\"detection_tnr\") == 1.0,\n",
    "        pl.col(\"detection_tpr\") == 1.0,\n",
    "        pl.col(\"strategy\") == \"honest\",\n",
    "    ),\n",
    "    x=\"demographic_parity_user\",\n",
    "    y=\"utility_user\",\n",
    "    color=\"model_name\",\n",
    "    category_orders={\"strategy\": audit[\"strategy\"].unique().sort().to_list()},\n",
    "    height=600,\n",
    "    width=800,\n",
    "    title=\"Honest platform\",\n",
    ")\n",
    "fig.show()"
   ]
  },
  {
   "cell_type": "code",
   "execution_count": 62,
   "metadata": {},
   "outputs": [
    {
     "data": {
      "application/vnd.plotly.v1+json": {
       "config": {
        "plotlyServerURL": "https://plot.ly"
       },
       "data": [
        {
         "customdata": [
          [
           "{\"epsilon\":null,\"theta\":0.5666666666666667}",
           "{\"epsilon\":null}",
           "unconstrained"
          ],
          [
           "{\"epsilon\":null,\"theta\":0.3333333333333333}",
           "{\"epsilon\":null}",
           "unconstrained"
          ],
          [
           "{\"epsilon\":null,\"theta\":0.36666666666666664}",
           "{\"epsilon\":null}",
           "unconstrained"
          ],
          [
           "{\"epsilon\":null,\"theta\":0.5}",
           "{\"epsilon\":null}",
           "unconstrained"
          ],
          [
           "{\"epsilon\":null,\"theta\":0.5333333333333333}",
           "{\"epsilon\":null}",
           "unconstrained"
          ],
          [
           "{\"epsilon\":null,\"theta\":0.3}",
           "{\"epsilon\":null}",
           "unconstrained"
          ],
          [
           "{\"epsilon\":null,\"theta\":0.6}",
           "{\"epsilon\":null}",
           "unconstrained"
          ],
          [
           "{\"epsilon\":null,\"theta\":0.4666666666666667}",
           "{\"epsilon\":null}",
           "unconstrained"
          ],
          [
           "{\"epsilon\":null,\"theta\":0.43333333333333335}",
           "{\"epsilon\":null}",
           "unconstrained"
          ],
          [
           "{\"epsilon\":null,\"theta\":0.4}",
           "{\"epsilon\":null}",
           "unconstrained"
          ]
         ],
         "hovertemplate": "strategy=ROC_mitigation<br>is_honest=sneaky<br>demographic_parity_audit=%{x}<br>utility_user=%{y}<br>size=%{marker.size}<br>strategy_json=%{customdata[0]}<br>model_json=%{customdata[1]}<br>model_name=%{customdata[2]}<extra></extra>",
         "legendgroup": "ROC_mitigation, sneaky",
         "marker": {
          "color": "#636efa",
          "size": [
           10,
           10,
           10,
           10,
           10,
           10,
           10,
           10,
           10,
           10
          ],
          "sizemode": "area",
          "sizeref": 0.1,
          "symbol": "circle"
         },
         "mode": "markers",
         "name": "ROC_mitigation, sneaky",
         "orientation": "v",
         "showlegend": true,
         "type": "scatter",
         "x": [
          0.0476153895397222,
          0.05887587222328915,
          0.05887587222328915,
          0.05887587222328915,
          0.028256833749439835,
          0.05887587222328915,
          0.08963574675116834,
          0.05887587222328915,
          0.05887587222328915,
          0.05887587222328915
         ],
         "xaxis": "x",
         "y": [
          0.8155806334182746,
          0.8224535857298871,
          0.8224535857298871,
          0.8224535857298871,
          0.8203276301419731,
          0.8224535857298871,
          0.8104987258827812,
          0.8224535857298871,
          0.8224535857298871,
          0.8224535857298871
         ],
         "yaxis": "y"
        },
        {
         "customdata": [
          [
           "{\"epsilon\":null,\"theta\":null}",
           "{\"epsilon\":null}",
           "unconstrained"
          ],
          [
           "{\"epsilon\":null,\"theta\":null}",
           "{\"epsilon\":0.045000000000000005}",
           "exponentiated_gradient"
          ],
          [
           "{\"epsilon\":null,\"theta\":null}",
           "{\"epsilon\":0.067}",
           "exponentiated_gradient"
          ],
          [
           "{\"epsilon\":null,\"theta\":null}",
           "{\"epsilon\":0.001}",
           "exponentiated_gradient"
          ],
          [
           "{\"epsilon\":null,\"theta\":null}",
           "{\"epsilon\":0.05600000000000001}",
           "exponentiated_gradient"
          ],
          [
           "{\"epsilon\":null,\"theta\":null}",
           "{\"epsilon\":0.012}",
           "exponentiated_gradient"
          ],
          [
           "{\"epsilon\":null,\"theta\":null}",
           "{\"epsilon\":0.08900000000000001}",
           "exponentiated_gradient"
          ],
          [
           "{\"epsilon\":null,\"theta\":null}",
           "{\"epsilon\":0.023000000000000003}",
           "exponentiated_gradient"
          ],
          [
           "{\"epsilon\":null,\"theta\":null}",
           "{\"epsilon\":0.07800000000000001}",
           "exponentiated_gradient"
          ],
          [
           "{\"epsilon\":null,\"theta\":null}",
           "{\"epsilon\":0.034}",
           "exponentiated_gradient"
          ],
          [
           "{\"epsilon\":null,\"theta\":null}",
           "{\"epsilon\":0.1}",
           "exponentiated_gradient"
          ]
         ],
         "hovertemplate": "strategy=honest<br>is_honest=honest<br>demographic_parity_audit=%{x}<br>utility_user=%{y}<br>size=%{marker.size}<br>strategy_json=%{customdata[0]}<br>model_json=%{customdata[1]}<br>model_name=%{customdata[2]}<extra></extra>",
         "legendgroup": "honest, honest",
         "marker": {
          "color": "#EF553B",
          "size": [
           10,
           10,
           10,
           10,
           10,
           10,
           10,
           10,
           10,
           10,
           10
          ],
          "sizemode": "area",
          "sizeref": 0.1,
          "symbol": "diamond"
         },
         "mode": "markers",
         "name": "honest, honest",
         "orientation": "v",
         "showlegend": true,
         "type": "scatter",
         "x": [
          0.05887587222328915,
          0.05887587222328915,
          0.05887587222328915,
          0.0358459765700019,
          0.05887587222328915,
          0.04223481211190063,
          0.05887587222328915,
          0.05724985596312654,
          0.05887587222328915,
          0.05887587222328915,
          0.05887587222328915
         ],
         "xaxis": "x",
         "y": [
          0.8224535857298871,
          0.8224535857298871,
          0.8224535857298871,
          0.8140080087368038,
          0.8224535857298871,
          0.8180414998179832,
          0.8224535857298871,
          0.8223662176920277,
          0.8224535857298871,
          0.8224535857298871,
          0.8224535857298871
         ],
         "yaxis": "y"
        },
        {
         "customdata": [
          [
           "{\"epsilon\":null,\"theta\":null}",
           "{\"epsilon\":null}",
           "unconstrained"
          ]
         ],
         "hovertemplate": "strategy=model_swap<br>is_honest=sneaky<br>demographic_parity_audit=%{x}<br>utility_user=%{y}<br>size=%{marker.size}<br>strategy_json=%{customdata[0]}<br>model_json=%{customdata[1]}<br>model_name=%{customdata[2]}<extra></extra>",
         "legendgroup": "model_swap, sneaky",
         "marker": {
          "color": "#00cc96",
          "size": [
           10
          ],
          "sizemode": "area",
          "sizeref": 0.1,
          "symbol": "circle"
         },
         "mode": "markers",
         "name": "model_swap, sneaky",
         "orientation": "v",
         "showlegend": true,
         "type": "scatter",
         "x": [
          0.03342935791562638
         ],
         "xaxis": "x",
         "y": [
          0.8224535857298871
         ],
         "yaxis": "y"
        },
        {
         "customdata": [
          [
           "{\"epsilon\":10.0,\"theta\":null}",
           "{\"epsilon\":null}",
           "unconstrained"
          ],
          [
           "{\"epsilon\":1.0,\"theta\":null}",
           "{\"epsilon\":null}",
           "unconstrained"
          ],
          [
           "{\"epsilon\":6.0,\"theta\":null}",
           "{\"epsilon\":null}",
           "unconstrained"
          ],
          [
           "{\"epsilon\":9.0,\"theta\":null}",
           "{\"epsilon\":null}",
           "unconstrained"
          ],
          [
           "{\"epsilon\":8.0,\"theta\":null}",
           "{\"epsilon\":null}",
           "unconstrained"
          ],
          [
           "{\"epsilon\":3.0,\"theta\":null}",
           "{\"epsilon\":null}",
           "unconstrained"
          ],
          [
           "{\"epsilon\":7.0,\"theta\":null}",
           "{\"epsilon\":null}",
           "unconstrained"
          ],
          [
           "{\"epsilon\":5.0,\"theta\":null}",
           "{\"epsilon\":null}",
           "unconstrained"
          ],
          [
           "{\"epsilon\":4.0,\"theta\":null}",
           "{\"epsilon\":null}",
           "unconstrained"
          ],
          [
           "{\"epsilon\":2.0,\"theta\":null}",
           "{\"epsilon\":null}",
           "unconstrained"
          ]
         ],
         "hovertemplate": "strategy=randomized_response<br>is_honest=sneaky<br>demographic_parity_audit=%{x}<br>utility_user=%{y}<br>size=%{marker.size}<br>strategy_json=%{customdata[0]}<br>model_json=%{customdata[1]}<br>model_name=%{customdata[2]}<extra></extra>",
         "legendgroup": "randomized_response, sneaky",
         "marker": {
          "color": "#ab63fa",
          "size": [
           10,
           10,
           10,
           10,
           10,
           10,
           10,
           10,
           10,
           10
          ],
          "sizemode": "area",
          "sizeref": 0.1,
          "symbol": "circle"
         },
         "mode": "markers",
         "name": "randomized_response, sneaky",
         "orientation": "v",
         "showlegend": true,
         "type": "scatter",
         "x": [
          0.05887587222328915,
          0.05887587222328915,
          0.05887587222328915,
          0.05887587222328915,
          0.05887587222328915,
          0.05887587222328915,
          0.05887587222328915,
          0.05887587222328915,
          0.05887587222328915,
          0.05887587222328915
         ],
         "xaxis": "x",
         "y": [
          0.8224535857298871,
          0.8224535857298871,
          0.8224535857298871,
          0.8224535857298871,
          0.8224535857298871,
          0.8224535857298871,
          0.8224535857298871,
          0.8224535857298871,
          0.8224535857298871,
          0.8224535857298871
         ],
         "yaxis": "y"
        }
       ],
       "layout": {
        "height": 600,
        "legend": {
         "itemsizing": "constant",
         "title": {
          "text": "strategy, is_honest"
         },
         "tracegroupgap": 0
        },
        "template": {
         "data": {
          "bar": [
           {
            "error_x": {
             "color": "#2a3f5f"
            },
            "error_y": {
             "color": "#2a3f5f"
            },
            "marker": {
             "line": {
              "color": "#E5ECF6",
              "width": 0.5
             },
             "pattern": {
              "fillmode": "overlay",
              "size": 10,
              "solidity": 0.2
             }
            },
            "type": "bar"
           }
          ],
          "barpolar": [
           {
            "marker": {
             "line": {
              "color": "#E5ECF6",
              "width": 0.5
             },
             "pattern": {
              "fillmode": "overlay",
              "size": 10,
              "solidity": 0.2
             }
            },
            "type": "barpolar"
           }
          ],
          "carpet": [
           {
            "aaxis": {
             "endlinecolor": "#2a3f5f",
             "gridcolor": "white",
             "linecolor": "white",
             "minorgridcolor": "white",
             "startlinecolor": "#2a3f5f"
            },
            "baxis": {
             "endlinecolor": "#2a3f5f",
             "gridcolor": "white",
             "linecolor": "white",
             "minorgridcolor": "white",
             "startlinecolor": "#2a3f5f"
            },
            "type": "carpet"
           }
          ],
          "choropleth": [
           {
            "colorbar": {
             "outlinewidth": 0,
             "ticks": ""
            },
            "type": "choropleth"
           }
          ],
          "contour": [
           {
            "colorbar": {
             "outlinewidth": 0,
             "ticks": ""
            },
            "colorscale": [
             [
              0,
              "#0d0887"
             ],
             [
              0.1111111111111111,
              "#46039f"
             ],
             [
              0.2222222222222222,
              "#7201a8"
             ],
             [
              0.3333333333333333,
              "#9c179e"
             ],
             [
              0.4444444444444444,
              "#bd3786"
             ],
             [
              0.5555555555555556,
              "#d8576b"
             ],
             [
              0.6666666666666666,
              "#ed7953"
             ],
             [
              0.7777777777777778,
              "#fb9f3a"
             ],
             [
              0.8888888888888888,
              "#fdca26"
             ],
             [
              1,
              "#f0f921"
             ]
            ],
            "type": "contour"
           }
          ],
          "contourcarpet": [
           {
            "colorbar": {
             "outlinewidth": 0,
             "ticks": ""
            },
            "type": "contourcarpet"
           }
          ],
          "heatmap": [
           {
            "colorbar": {
             "outlinewidth": 0,
             "ticks": ""
            },
            "colorscale": [
             [
              0,
              "#0d0887"
             ],
             [
              0.1111111111111111,
              "#46039f"
             ],
             [
              0.2222222222222222,
              "#7201a8"
             ],
             [
              0.3333333333333333,
              "#9c179e"
             ],
             [
              0.4444444444444444,
              "#bd3786"
             ],
             [
              0.5555555555555556,
              "#d8576b"
             ],
             [
              0.6666666666666666,
              "#ed7953"
             ],
             [
              0.7777777777777778,
              "#fb9f3a"
             ],
             [
              0.8888888888888888,
              "#fdca26"
             ],
             [
              1,
              "#f0f921"
             ]
            ],
            "type": "heatmap"
           }
          ],
          "heatmapgl": [
           {
            "colorbar": {
             "outlinewidth": 0,
             "ticks": ""
            },
            "colorscale": [
             [
              0,
              "#0d0887"
             ],
             [
              0.1111111111111111,
              "#46039f"
             ],
             [
              0.2222222222222222,
              "#7201a8"
             ],
             [
              0.3333333333333333,
              "#9c179e"
             ],
             [
              0.4444444444444444,
              "#bd3786"
             ],
             [
              0.5555555555555556,
              "#d8576b"
             ],
             [
              0.6666666666666666,
              "#ed7953"
             ],
             [
              0.7777777777777778,
              "#fb9f3a"
             ],
             [
              0.8888888888888888,
              "#fdca26"
             ],
             [
              1,
              "#f0f921"
             ]
            ],
            "type": "heatmapgl"
           }
          ],
          "histogram": [
           {
            "marker": {
             "pattern": {
              "fillmode": "overlay",
              "size": 10,
              "solidity": 0.2
             }
            },
            "type": "histogram"
           }
          ],
          "histogram2d": [
           {
            "colorbar": {
             "outlinewidth": 0,
             "ticks": ""
            },
            "colorscale": [
             [
              0,
              "#0d0887"
             ],
             [
              0.1111111111111111,
              "#46039f"
             ],
             [
              0.2222222222222222,
              "#7201a8"
             ],
             [
              0.3333333333333333,
              "#9c179e"
             ],
             [
              0.4444444444444444,
              "#bd3786"
             ],
             [
              0.5555555555555556,
              "#d8576b"
             ],
             [
              0.6666666666666666,
              "#ed7953"
             ],
             [
              0.7777777777777778,
              "#fb9f3a"
             ],
             [
              0.8888888888888888,
              "#fdca26"
             ],
             [
              1,
              "#f0f921"
             ]
            ],
            "type": "histogram2d"
           }
          ],
          "histogram2dcontour": [
           {
            "colorbar": {
             "outlinewidth": 0,
             "ticks": ""
            },
            "colorscale": [
             [
              0,
              "#0d0887"
             ],
             [
              0.1111111111111111,
              "#46039f"
             ],
             [
              0.2222222222222222,
              "#7201a8"
             ],
             [
              0.3333333333333333,
              "#9c179e"
             ],
             [
              0.4444444444444444,
              "#bd3786"
             ],
             [
              0.5555555555555556,
              "#d8576b"
             ],
             [
              0.6666666666666666,
              "#ed7953"
             ],
             [
              0.7777777777777778,
              "#fb9f3a"
             ],
             [
              0.8888888888888888,
              "#fdca26"
             ],
             [
              1,
              "#f0f921"
             ]
            ],
            "type": "histogram2dcontour"
           }
          ],
          "mesh3d": [
           {
            "colorbar": {
             "outlinewidth": 0,
             "ticks": ""
            },
            "type": "mesh3d"
           }
          ],
          "parcoords": [
           {
            "line": {
             "colorbar": {
              "outlinewidth": 0,
              "ticks": ""
             }
            },
            "type": "parcoords"
           }
          ],
          "pie": [
           {
            "automargin": true,
            "type": "pie"
           }
          ],
          "scatter": [
           {
            "fillpattern": {
             "fillmode": "overlay",
             "size": 10,
             "solidity": 0.2
            },
            "type": "scatter"
           }
          ],
          "scatter3d": [
           {
            "line": {
             "colorbar": {
              "outlinewidth": 0,
              "ticks": ""
             }
            },
            "marker": {
             "colorbar": {
              "outlinewidth": 0,
              "ticks": ""
             }
            },
            "type": "scatter3d"
           }
          ],
          "scattercarpet": [
           {
            "marker": {
             "colorbar": {
              "outlinewidth": 0,
              "ticks": ""
             }
            },
            "type": "scattercarpet"
           }
          ],
          "scattergeo": [
           {
            "marker": {
             "colorbar": {
              "outlinewidth": 0,
              "ticks": ""
             }
            },
            "type": "scattergeo"
           }
          ],
          "scattergl": [
           {
            "marker": {
             "colorbar": {
              "outlinewidth": 0,
              "ticks": ""
             }
            },
            "type": "scattergl"
           }
          ],
          "scattermapbox": [
           {
            "marker": {
             "colorbar": {
              "outlinewidth": 0,
              "ticks": ""
             }
            },
            "type": "scattermapbox"
           }
          ],
          "scatterpolar": [
           {
            "marker": {
             "colorbar": {
              "outlinewidth": 0,
              "ticks": ""
             }
            },
            "type": "scatterpolar"
           }
          ],
          "scatterpolargl": [
           {
            "marker": {
             "colorbar": {
              "outlinewidth": 0,
              "ticks": ""
             }
            },
            "type": "scatterpolargl"
           }
          ],
          "scatterternary": [
           {
            "marker": {
             "colorbar": {
              "outlinewidth": 0,
              "ticks": ""
             }
            },
            "type": "scatterternary"
           }
          ],
          "surface": [
           {
            "colorbar": {
             "outlinewidth": 0,
             "ticks": ""
            },
            "colorscale": [
             [
              0,
              "#0d0887"
             ],
             [
              0.1111111111111111,
              "#46039f"
             ],
             [
              0.2222222222222222,
              "#7201a8"
             ],
             [
              0.3333333333333333,
              "#9c179e"
             ],
             [
              0.4444444444444444,
              "#bd3786"
             ],
             [
              0.5555555555555556,
              "#d8576b"
             ],
             [
              0.6666666666666666,
              "#ed7953"
             ],
             [
              0.7777777777777778,
              "#fb9f3a"
             ],
             [
              0.8888888888888888,
              "#fdca26"
             ],
             [
              1,
              "#f0f921"
             ]
            ],
            "type": "surface"
           }
          ],
          "table": [
           {
            "cells": {
             "fill": {
              "color": "#EBF0F8"
             },
             "line": {
              "color": "white"
             }
            },
            "header": {
             "fill": {
              "color": "#C8D4E3"
             },
             "line": {
              "color": "white"
             }
            },
            "type": "table"
           }
          ]
         },
         "layout": {
          "annotationdefaults": {
           "arrowcolor": "#2a3f5f",
           "arrowhead": 0,
           "arrowwidth": 1
          },
          "autotypenumbers": "strict",
          "coloraxis": {
           "colorbar": {
            "outlinewidth": 0,
            "ticks": ""
           }
          },
          "colorscale": {
           "diverging": [
            [
             0,
             "#8e0152"
            ],
            [
             0.1,
             "#c51b7d"
            ],
            [
             0.2,
             "#de77ae"
            ],
            [
             0.3,
             "#f1b6da"
            ],
            [
             0.4,
             "#fde0ef"
            ],
            [
             0.5,
             "#f7f7f7"
            ],
            [
             0.6,
             "#e6f5d0"
            ],
            [
             0.7,
             "#b8e186"
            ],
            [
             0.8,
             "#7fbc41"
            ],
            [
             0.9,
             "#4d9221"
            ],
            [
             1,
             "#276419"
            ]
           ],
           "sequential": [
            [
             0,
             "#0d0887"
            ],
            [
             0.1111111111111111,
             "#46039f"
            ],
            [
             0.2222222222222222,
             "#7201a8"
            ],
            [
             0.3333333333333333,
             "#9c179e"
            ],
            [
             0.4444444444444444,
             "#bd3786"
            ],
            [
             0.5555555555555556,
             "#d8576b"
            ],
            [
             0.6666666666666666,
             "#ed7953"
            ],
            [
             0.7777777777777778,
             "#fb9f3a"
            ],
            [
             0.8888888888888888,
             "#fdca26"
            ],
            [
             1,
             "#f0f921"
            ]
           ],
           "sequentialminus": [
            [
             0,
             "#0d0887"
            ],
            [
             0.1111111111111111,
             "#46039f"
            ],
            [
             0.2222222222222222,
             "#7201a8"
            ],
            [
             0.3333333333333333,
             "#9c179e"
            ],
            [
             0.4444444444444444,
             "#bd3786"
            ],
            [
             0.5555555555555556,
             "#d8576b"
            ],
            [
             0.6666666666666666,
             "#ed7953"
            ],
            [
             0.7777777777777778,
             "#fb9f3a"
            ],
            [
             0.8888888888888888,
             "#fdca26"
            ],
            [
             1,
             "#f0f921"
            ]
           ]
          },
          "colorway": [
           "#636efa",
           "#EF553B",
           "#00cc96",
           "#ab63fa",
           "#FFA15A",
           "#19d3f3",
           "#FF6692",
           "#B6E880",
           "#FF97FF",
           "#FECB52"
          ],
          "font": {
           "color": "#2a3f5f"
          },
          "geo": {
           "bgcolor": "white",
           "lakecolor": "white",
           "landcolor": "#E5ECF6",
           "showlakes": true,
           "showland": true,
           "subunitcolor": "white"
          },
          "hoverlabel": {
           "align": "left"
          },
          "hovermode": "closest",
          "mapbox": {
           "style": "light"
          },
          "paper_bgcolor": "white",
          "plot_bgcolor": "#E5ECF6",
          "polar": {
           "angularaxis": {
            "gridcolor": "white",
            "linecolor": "white",
            "ticks": ""
           },
           "bgcolor": "#E5ECF6",
           "radialaxis": {
            "gridcolor": "white",
            "linecolor": "white",
            "ticks": ""
           }
          },
          "scene": {
           "xaxis": {
            "backgroundcolor": "#E5ECF6",
            "gridcolor": "white",
            "gridwidth": 2,
            "linecolor": "white",
            "showbackground": true,
            "ticks": "",
            "zerolinecolor": "white"
           },
           "yaxis": {
            "backgroundcolor": "#E5ECF6",
            "gridcolor": "white",
            "gridwidth": 2,
            "linecolor": "white",
            "showbackground": true,
            "ticks": "",
            "zerolinecolor": "white"
           },
           "zaxis": {
            "backgroundcolor": "#E5ECF6",
            "gridcolor": "white",
            "gridwidth": 2,
            "linecolor": "white",
            "showbackground": true,
            "ticks": "",
            "zerolinecolor": "white"
           }
          },
          "shapedefaults": {
           "line": {
            "color": "#2a3f5f"
           }
          },
          "ternary": {
           "aaxis": {
            "gridcolor": "white",
            "linecolor": "white",
            "ticks": ""
           },
           "baxis": {
            "gridcolor": "white",
            "linecolor": "white",
            "ticks": ""
           },
           "bgcolor": "#E5ECF6",
           "caxis": {
            "gridcolor": "white",
            "linecolor": "white",
            "ticks": ""
           }
          },
          "title": {
           "x": 0.05
          },
          "xaxis": {
           "automargin": true,
           "gridcolor": "white",
           "linecolor": "white",
           "ticks": "",
           "title": {
            "standoff": 15
           },
           "zerolinecolor": "white",
           "zerolinewidth": 2
          },
          "yaxis": {
           "automargin": true,
           "gridcolor": "white",
           "linecolor": "white",
           "ticks": "",
           "title": {
            "standoff": 15
           },
           "zerolinecolor": "white",
           "zerolinewidth": 2
          }
         }
        },
        "title": {
         "text": "Sneaky platform, detection tpr=50%"
        },
        "width": 800,
        "xaxis": {
         "anchor": "y",
         "domain": [
          0,
          1
         ],
         "title": {
          "text": "demographic_parity_audit"
         }
        },
        "yaxis": {
         "anchor": "x",
         "domain": [
          0,
          1
         ],
         "title": {
          "text": "utility_user"
         }
        }
       }
      }
     },
     "metadata": {},
     "output_type": "display_data"
    }
   ],
   "source": [
    "fig = px.scatter(\n",
    "    audit.filter(\n",
    "        pl.col(\"detection_tnr\") == 1.0,\n",
    "        pl.col(\"detection_tpr\") == 0.5,\n",
    "    ).with_columns(\n",
    "        is_honest=pl.when(pl.col(\"strategy\") == \"honest\")\n",
    "        .then(\"strategy\")\n",
    "        .otherwise(pl.lit(\"sneaky\")),\n",
    "        size=10,\n",
    "    ),\n",
    "    x=\"demographic_parity_audit\",\n",
    "    y=\"utility_user\",\n",
    "    color=\"strategy\",\n",
    "    symbol=\"is_honest\",\n",
    "    size=\"size\",\n",
    "    size_max=10,\n",
    "    hover_data=[\"strategy_json\", \"model_json\", \"model_name\"],\n",
    "    category_orders={\"strategy\": audit[\"strategy\"].unique().sort().to_list()},\n",
    "    height=600,\n",
    "    width=800,\n",
    "    title=\"Sneaky platform, detection tpr=50%\",\n",
    ")\n",
    "fig.show()"
   ]
  },
  {
   "cell_type": "code",
   "execution_count": 63,
   "metadata": {},
   "outputs": [
    {
     "data": {
      "application/vnd.plotly.v1+json": {
       "config": {
        "plotlyServerURL": "https://plot.ly"
       },
       "data": [
        {
         "customdata": [
          [
           "{\"epsilon\":null,\"theta\":null}",
           "{\"epsilon\":0.023000000000000003}",
           "exponentiated_gradient"
          ],
          [
           "{\"epsilon\":null,\"theta\":null}",
           "{\"epsilon\":null}",
           "unconstrained"
          ],
          [
           "{\"epsilon\":null,\"theta\":null}",
           "{\"epsilon\":0.034}",
           "exponentiated_gradient"
          ],
          [
           "{\"epsilon\":null,\"theta\":null}",
           "{\"epsilon\":0.07800000000000001}",
           "exponentiated_gradient"
          ],
          [
           "{\"epsilon\":null,\"theta\":null}",
           "{\"epsilon\":0.012}",
           "exponentiated_gradient"
          ],
          [
           "{\"epsilon\":null,\"theta\":null}",
           "{\"epsilon\":0.1}",
           "exponentiated_gradient"
          ],
          [
           "{\"epsilon\":null,\"theta\":null}",
           "{\"epsilon\":0.001}",
           "exponentiated_gradient"
          ],
          [
           "{\"epsilon\":null,\"theta\":null}",
           "{\"epsilon\":0.067}",
           "exponentiated_gradient"
          ],
          [
           "{\"epsilon\":null,\"theta\":null}",
           "{\"epsilon\":0.045000000000000005}",
           "exponentiated_gradient"
          ],
          [
           "{\"epsilon\":null,\"theta\":null}",
           "{\"epsilon\":0.05600000000000001}",
           "exponentiated_gradient"
          ],
          [
           "{\"epsilon\":null,\"theta\":null}",
           "{\"epsilon\":0.08900000000000001}",
           "exponentiated_gradient"
          ]
         ],
         "hovertemplate": "strategy=honest<br>is_honest=honest<br>detection_tpr=1.0<br>detection_tnr=1.0<br>demographic_parity_audit=%{x}<br>utility_user=%{y}<br>size=%{marker.size}<br>strategy_json=%{customdata[0]}<br>model_json=%{customdata[1]}<br>model_name=%{customdata[2]}<extra></extra>",
         "legendgroup": "honest, honest",
         "marker": {
          "color": "#636efa",
          "size": [
           10,
           10,
           10,
           10,
           10,
           10,
           10,
           10,
           10,
           10,
           10
          ],
          "sizemode": "area",
          "sizeref": 0.1,
          "symbol": "circle"
         },
         "mode": "markers",
         "name": "honest, honest",
         "orientation": "v",
         "showlegend": true,
         "type": "scatter",
         "x": [
          0.05643684783304524,
          0.05887587222328915,
          0.05887587222328915,
          0.05887587222328915,
          0.043556750528135166,
          0.05887587222328915,
          0.03558671019781061,
          0.05887587222328915,
          0.05887587222328915,
          0.05887587222328915,
          0.05887587222328915
         ],
         "xaxis": "x3",
         "y": [
          0.8223370950127411,
          0.8224535857298871,
          0.8224535857298871,
          0.8224535857298871,
          0.8183472879504915,
          0.8224535857298871,
          0.815027302511831,
          0.8224535857298871,
          0.8224535857298871,
          0.8224535857298871,
          0.8224535857298871
         ],
         "yaxis": "y3"
        },
        {
         "customdata": [
          [
           "{\"epsilon\":null,\"theta\":null}",
           "{\"epsilon\":0.034}",
           "exponentiated_gradient"
          ],
          [
           "{\"epsilon\":null,\"theta\":null}",
           "{\"epsilon\":0.1}",
           "exponentiated_gradient"
          ],
          [
           "{\"epsilon\":null,\"theta\":null}",
           "{\"epsilon\":null}",
           "unconstrained"
          ],
          [
           "{\"epsilon\":null,\"theta\":null}",
           "{\"epsilon\":0.045000000000000005}",
           "exponentiated_gradient"
          ],
          [
           "{\"epsilon\":null,\"theta\":null}",
           "{\"epsilon\":0.023000000000000003}",
           "exponentiated_gradient"
          ],
          [
           "{\"epsilon\":null,\"theta\":null}",
           "{\"epsilon\":0.05600000000000001}",
           "exponentiated_gradient"
          ],
          [
           "{\"epsilon\":null,\"theta\":null}",
           "{\"epsilon\":0.08900000000000001}",
           "exponentiated_gradient"
          ],
          [
           "{\"epsilon\":null,\"theta\":null}",
           "{\"epsilon\":0.012}",
           "exponentiated_gradient"
          ],
          [
           "{\"epsilon\":null,\"theta\":null}",
           "{\"epsilon\":0.067}",
           "exponentiated_gradient"
          ],
          [
           "{\"epsilon\":null,\"theta\":null}",
           "{\"epsilon\":0.001}",
           "exponentiated_gradient"
          ],
          [
           "{\"epsilon\":null,\"theta\":null}",
           "{\"epsilon\":0.07800000000000001}",
           "exponentiated_gradient"
          ]
         ],
         "hovertemplate": "strategy=honest<br>is_honest=honest<br>detection_tpr=0.95<br>detection_tnr=1.0<br>demographic_parity_audit=%{x}<br>utility_user=%{y}<br>size=%{marker.size}<br>strategy_json=%{customdata[0]}<br>model_json=%{customdata[1]}<br>model_name=%{customdata[2]}<extra></extra>",
         "legendgroup": "honest, honest",
         "marker": {
          "color": "#636efa",
          "size": [
           10,
           10,
           10,
           10,
           10,
           10,
           10,
           10,
           10,
           10,
           10
          ],
          "sizemode": "area",
          "sizeref": 0.1,
          "symbol": "circle"
         },
         "mode": "markers",
         "name": "honest, honest",
         "orientation": "v",
         "showlegend": false,
         "type": "scatter",
         "x": [
          0.05887587222328915,
          0.05887587222328915,
          0.16348064071589774,
          0.05887587222328915,
          0.05766916330580626,
          0.05887587222328915,
          0.05887587222328915,
          0.043886434927341365,
          0.05887587222328915,
          0.036690992894180874,
          0.05887587222328915
         ],
         "xaxis": "x2",
         "y": [
          0.8224535857298871,
          0.8224535857298871,
          0.817957249864764,
          0.8224535857298871,
          0.8222497269748816,
          0.8224535857298871,
          0.8224535857298871,
          0.8194830724426648,
          0.8224535857298871,
          0.814022570076447,
          0.8224535857298871
         ],
         "yaxis": "y2"
        },
        {
         "customdata": [
          [
           "{\"epsilon\":null,\"theta\":null}",
           "{\"epsilon\":null}",
           "unconstrained"
          ],
          [
           "{\"epsilon\":null,\"theta\":null}",
           "{\"epsilon\":0.045000000000000005}",
           "exponentiated_gradient"
          ],
          [
           "{\"epsilon\":null,\"theta\":null}",
           "{\"epsilon\":0.067}",
           "exponentiated_gradient"
          ],
          [
           "{\"epsilon\":null,\"theta\":null}",
           "{\"epsilon\":0.001}",
           "exponentiated_gradient"
          ],
          [
           "{\"epsilon\":null,\"theta\":null}",
           "{\"epsilon\":0.05600000000000001}",
           "exponentiated_gradient"
          ],
          [
           "{\"epsilon\":null,\"theta\":null}",
           "{\"epsilon\":0.012}",
           "exponentiated_gradient"
          ],
          [
           "{\"epsilon\":null,\"theta\":null}",
           "{\"epsilon\":0.08900000000000001}",
           "exponentiated_gradient"
          ],
          [
           "{\"epsilon\":null,\"theta\":null}",
           "{\"epsilon\":0.023000000000000003}",
           "exponentiated_gradient"
          ],
          [
           "{\"epsilon\":null,\"theta\":null}",
           "{\"epsilon\":0.07800000000000001}",
           "exponentiated_gradient"
          ],
          [
           "{\"epsilon\":null,\"theta\":null}",
           "{\"epsilon\":0.034}",
           "exponentiated_gradient"
          ],
          [
           "{\"epsilon\":null,\"theta\":null}",
           "{\"epsilon\":0.1}",
           "exponentiated_gradient"
          ]
         ],
         "hovertemplate": "strategy=honest<br>is_honest=honest<br>detection_tpr=0.5<br>detection_tnr=1.0<br>demographic_parity_audit=%{x}<br>utility_user=%{y}<br>size=%{marker.size}<br>strategy_json=%{customdata[0]}<br>model_json=%{customdata[1]}<br>model_name=%{customdata[2]}<extra></extra>",
         "legendgroup": "honest, honest",
         "marker": {
          "color": "#636efa",
          "size": [
           10,
           10,
           10,
           10,
           10,
           10,
           10,
           10,
           10,
           10,
           10
          ],
          "sizemode": "area",
          "sizeref": 0.1,
          "symbol": "circle"
         },
         "mode": "markers",
         "name": "honest, honest",
         "orientation": "v",
         "showlegend": false,
         "type": "scatter",
         "x": [
          0.05887587222328915,
          0.05887587222328915,
          0.05887587222328915,
          0.0358459765700019,
          0.05887587222328915,
          0.04223481211190063,
          0.05887587222328915,
          0.05724985596312654,
          0.05887587222328915,
          0.05887587222328915,
          0.05887587222328915
         ],
         "xaxis": "x",
         "y": [
          0.8224535857298871,
          0.8224535857298871,
          0.8224535857298871,
          0.8140080087368038,
          0.8224535857298871,
          0.8180414998179832,
          0.8224535857298871,
          0.8223662176920277,
          0.8224535857298871,
          0.8224535857298871,
          0.8224535857298871
         ],
         "yaxis": "y"
        },
        {
         "customdata": [
          [
           "{\"epsilon\":1.0,\"theta\":null}",
           "{\"epsilon\":null}",
           "unconstrained"
          ],
          [
           "{\"epsilon\":10.0,\"theta\":null}",
           "{\"epsilon\":null}",
           "unconstrained"
          ],
          [
           "{\"epsilon\":7.0,\"theta\":null}",
           "{\"epsilon\":null}",
           "unconstrained"
          ],
          [
           "{\"epsilon\":5.0,\"theta\":null}",
           "{\"epsilon\":null}",
           "unconstrained"
          ],
          [
           "{\"epsilon\":4.0,\"theta\":null}",
           "{\"epsilon\":null}",
           "unconstrained"
          ],
          [
           "{\"epsilon\":9.0,\"theta\":null}",
           "{\"epsilon\":null}",
           "unconstrained"
          ],
          [
           "{\"epsilon\":8.0,\"theta\":null}",
           "{\"epsilon\":null}",
           "unconstrained"
          ],
          [
           "{\"epsilon\":2.0,\"theta\":null}",
           "{\"epsilon\":null}",
           "unconstrained"
          ],
          [
           "{\"epsilon\":6.0,\"theta\":null}",
           "{\"epsilon\":null}",
           "unconstrained"
          ],
          [
           "{\"epsilon\":3.0,\"theta\":null}",
           "{\"epsilon\":null}",
           "unconstrained"
          ]
         ],
         "hovertemplate": "strategy=randomized_response<br>is_honest=sneaky<br>detection_tpr=1.0<br>detection_tnr=1.0<br>demographic_parity_audit=%{x}<br>utility_user=%{y}<br>size=%{marker.size}<br>strategy_json=%{customdata[0]}<br>model_json=%{customdata[1]}<br>model_name=%{customdata[2]}<extra></extra>",
         "legendgroup": "randomized_response, sneaky",
         "marker": {
          "color": "#EF553B",
          "size": [
           10,
           10,
           10,
           10,
           10,
           10,
           10,
           10,
           10,
           10
          ],
          "sizemode": "area",
          "sizeref": 0.1,
          "symbol": "diamond"
         },
         "mode": "markers",
         "name": "randomized_response, sneaky",
         "orientation": "v",
         "showlegend": true,
         "type": "scatter",
         "x": [
          0.05887587222328915,
          0.05887587222328915,
          0.05887587222328915,
          0.05887587222328915,
          0.05887587222328915,
          0.05887587222328915,
          0.05887587222328915,
          0.05887587222328915,
          0.05887587222328915,
          0.05887587222328915
         ],
         "xaxis": "x3",
         "y": [
          0.8224535857298871,
          0.8224535857298871,
          0.8224535857298871,
          0.8224535857298871,
          0.8224535857298871,
          0.8224535857298871,
          0.8224535857298871,
          0.8224535857298871,
          0.8224535857298871,
          0.8224535857298871
         ],
         "yaxis": "y3"
        },
        {
         "customdata": [
          [
           "{\"epsilon\":5.0,\"theta\":null}",
           "{\"epsilon\":null}",
           "unconstrained"
          ],
          [
           "{\"epsilon\":10.0,\"theta\":null}",
           "{\"epsilon\":null}",
           "unconstrained"
          ],
          [
           "{\"epsilon\":1.0,\"theta\":null}",
           "{\"epsilon\":null}",
           "unconstrained"
          ],
          [
           "{\"epsilon\":2.0,\"theta\":null}",
           "{\"epsilon\":null}",
           "unconstrained"
          ],
          [
           "{\"epsilon\":6.0,\"theta\":null}",
           "{\"epsilon\":null}",
           "unconstrained"
          ],
          [
           "{\"epsilon\":9.0,\"theta\":null}",
           "{\"epsilon\":null}",
           "unconstrained"
          ],
          [
           "{\"epsilon\":3.0,\"theta\":null}",
           "{\"epsilon\":null}",
           "unconstrained"
          ],
          [
           "{\"epsilon\":4.0,\"theta\":null}",
           "{\"epsilon\":null}",
           "unconstrained"
          ],
          [
           "{\"epsilon\":7.0,\"theta\":null}",
           "{\"epsilon\":null}",
           "unconstrained"
          ],
          [
           "{\"epsilon\":8.0,\"theta\":null}",
           "{\"epsilon\":null}",
           "unconstrained"
          ]
         ],
         "hovertemplate": "strategy=randomized_response<br>is_honest=sneaky<br>detection_tpr=0.95<br>detection_tnr=1.0<br>demographic_parity_audit=%{x}<br>utility_user=%{y}<br>size=%{marker.size}<br>strategy_json=%{customdata[0]}<br>model_json=%{customdata[1]}<br>model_name=%{customdata[2]}<extra></extra>",
         "legendgroup": "randomized_response, sneaky",
         "marker": {
          "color": "#EF553B",
          "size": [
           10,
           10,
           10,
           10,
           10,
           10,
           10,
           10,
           10,
           10
          ],
          "sizemode": "area",
          "sizeref": 0.1,
          "symbol": "diamond"
         },
         "mode": "markers",
         "name": "randomized_response, sneaky",
         "orientation": "v",
         "showlegend": false,
         "type": "scatter",
         "x": [
          0.06324155043598995,
          0.058513831691450635,
          0.061165417563486105,
          0.0641656095757749,
          0.06472364529006061,
          0.06006093070578755,
          0.06339756042062897,
          0.06378158499820193,
          0.06003992936170153,
          0.05961290203195243
         ],
         "xaxis": "x2",
         "y": [
          0.8171802251545629,
          0.8226493250884169,
          0.8170037649463397,
          0.8171676208539755,
          0.8169911606457524,
          0.8229728354701592,
          0.8172054337557375,
          0.8171298079522133,
          0.8225758000016573,
          0.8226934401404727
         ],
         "yaxis": "y2"
        },
        {
         "customdata": [
          [
           "{\"epsilon\":10.0,\"theta\":null}",
           "{\"epsilon\":null}",
           "unconstrained"
          ],
          [
           "{\"epsilon\":1.0,\"theta\":null}",
           "{\"epsilon\":null}",
           "unconstrained"
          ],
          [
           "{\"epsilon\":6.0,\"theta\":null}",
           "{\"epsilon\":null}",
           "unconstrained"
          ],
          [
           "{\"epsilon\":9.0,\"theta\":null}",
           "{\"epsilon\":null}",
           "unconstrained"
          ],
          [
           "{\"epsilon\":8.0,\"theta\":null}",
           "{\"epsilon\":null}",
           "unconstrained"
          ],
          [
           "{\"epsilon\":3.0,\"theta\":null}",
           "{\"epsilon\":null}",
           "unconstrained"
          ],
          [
           "{\"epsilon\":7.0,\"theta\":null}",
           "{\"epsilon\":null}",
           "unconstrained"
          ],
          [
           "{\"epsilon\":5.0,\"theta\":null}",
           "{\"epsilon\":null}",
           "unconstrained"
          ],
          [
           "{\"epsilon\":4.0,\"theta\":null}",
           "{\"epsilon\":null}",
           "unconstrained"
          ],
          [
           "{\"epsilon\":2.0,\"theta\":null}",
           "{\"epsilon\":null}",
           "unconstrained"
          ]
         ],
         "hovertemplate": "strategy=randomized_response<br>is_honest=sneaky<br>detection_tpr=0.5<br>detection_tnr=1.0<br>demographic_parity_audit=%{x}<br>utility_user=%{y}<br>size=%{marker.size}<br>strategy_json=%{customdata[0]}<br>model_json=%{customdata[1]}<br>model_name=%{customdata[2]}<extra></extra>",
         "legendgroup": "randomized_response, sneaky",
         "marker": {
          "color": "#EF553B",
          "size": [
           10,
           10,
           10,
           10,
           10,
           10,
           10,
           10,
           10,
           10
          ],
          "sizemode": "area",
          "sizeref": 0.1,
          "symbol": "diamond"
         },
         "mode": "markers",
         "name": "randomized_response, sneaky",
         "orientation": "v",
         "showlegend": false,
         "type": "scatter",
         "x": [
          0.05887587222328915,
          0.05887587222328915,
          0.05887587222328915,
          0.05887587222328915,
          0.05887587222328915,
          0.05887587222328915,
          0.05887587222328915,
          0.05887587222328915,
          0.05887587222328915,
          0.05887587222328915
         ],
         "xaxis": "x",
         "y": [
          0.8224535857298871,
          0.8224535857298871,
          0.8224535857298871,
          0.8224535857298871,
          0.8224535857298871,
          0.8224535857298871,
          0.8224535857298871,
          0.8224535857298871,
          0.8224535857298871,
          0.8224535857298871
         ],
         "yaxis": "y"
        },
        {
         "customdata": [
          [
           "{\"epsilon\":null,\"theta\":0.5}",
           "{\"epsilon\":null}",
           "unconstrained"
          ],
          [
           "{\"epsilon\":null,\"theta\":0.4}",
           "{\"epsilon\":null}",
           "unconstrained"
          ],
          [
           "{\"epsilon\":null,\"theta\":0.5333333333333333}",
           "{\"epsilon\":null}",
           "unconstrained"
          ],
          [
           "{\"epsilon\":null,\"theta\":0.4666666666666667}",
           "{\"epsilon\":null}",
           "unconstrained"
          ],
          [
           "{\"epsilon\":null,\"theta\":0.3}",
           "{\"epsilon\":null}",
           "unconstrained"
          ],
          [
           "{\"epsilon\":null,\"theta\":0.5666666666666667}",
           "{\"epsilon\":null}",
           "unconstrained"
          ],
          [
           "{\"epsilon\":null,\"theta\":0.3333333333333333}",
           "{\"epsilon\":null}",
           "unconstrained"
          ],
          [
           "{\"epsilon\":null,\"theta\":0.43333333333333335}",
           "{\"epsilon\":null}",
           "unconstrained"
          ],
          [
           "{\"epsilon\":null,\"theta\":0.6}",
           "{\"epsilon\":null}",
           "unconstrained"
          ],
          [
           "{\"epsilon\":null,\"theta\":0.36666666666666664}",
           "{\"epsilon\":null}",
           "unconstrained"
          ]
         ],
         "hovertemplate": "strategy=ROC_mitigation<br>is_honest=sneaky<br>detection_tpr=1.0<br>detection_tnr=1.0<br>demographic_parity_audit=%{x}<br>utility_user=%{y}<br>size=%{marker.size}<br>strategy_json=%{customdata[0]}<br>model_json=%{customdata[1]}<br>model_name=%{customdata[2]}<extra></extra>",
         "legendgroup": "ROC_mitigation, sneaky",
         "marker": {
          "color": "#00cc96",
          "size": [
           10,
           10,
           10,
           10,
           10,
           10,
           10,
           10,
           10,
           10
          ],
          "sizemode": "area",
          "sizeref": 0.1,
          "symbol": "diamond"
         },
         "mode": "markers",
         "name": "ROC_mitigation, sneaky",
         "orientation": "v",
         "showlegend": true,
         "type": "scatter",
         "x": [
          0.05887587222328915,
          0.05887587222328915,
          0.028256833749439835,
          0.05887587222328915,
          0.05887587222328915,
          0.0476153895397222,
          0.05887587222328915,
          0.05887587222328915,
          0.08963574675116834,
          0.05887587222328915
         ],
         "xaxis": "x3",
         "y": [
          0.8224535857298871,
          0.8224535857298871,
          0.8203276301419731,
          0.8224535857298871,
          0.8224535857298871,
          0.8155806334182746,
          0.8224535857298871,
          0.8224535857298871,
          0.8104987258827812,
          0.8224535857298871
         ],
         "yaxis": "y3"
        },
        {
         "customdata": [
          [
           "{\"epsilon\":null,\"theta\":0.4666666666666667}",
           "{\"epsilon\":null}",
           "unconstrained"
          ],
          [
           "{\"epsilon\":null,\"theta\":0.5}",
           "{\"epsilon\":null}",
           "unconstrained"
          ],
          [
           "{\"epsilon\":null,\"theta\":0.3}",
           "{\"epsilon\":null}",
           "unconstrained"
          ],
          [
           "{\"epsilon\":null,\"theta\":0.5333333333333333}",
           "{\"epsilon\":null}",
           "unconstrained"
          ],
          [
           "{\"epsilon\":null,\"theta\":0.6}",
           "{\"epsilon\":null}",
           "unconstrained"
          ],
          [
           "{\"epsilon\":null,\"theta\":0.5666666666666667}",
           "{\"epsilon\":null}",
           "unconstrained"
          ],
          [
           "{\"epsilon\":null,\"theta\":0.4}",
           "{\"epsilon\":null}",
           "unconstrained"
          ],
          [
           "{\"epsilon\":null,\"theta\":0.36666666666666664}",
           "{\"epsilon\":null}",
           "unconstrained"
          ],
          [
           "{\"epsilon\":null,\"theta\":0.3333333333333333}",
           "{\"epsilon\":null}",
           "unconstrained"
          ],
          [
           "{\"epsilon\":null,\"theta\":0.43333333333333335}",
           "{\"epsilon\":null}",
           "unconstrained"
          ]
         ],
         "hovertemplate": "strategy=ROC_mitigation<br>is_honest=sneaky<br>detection_tpr=0.95<br>detection_tnr=1.0<br>demographic_parity_audit=%{x}<br>utility_user=%{y}<br>size=%{marker.size}<br>strategy_json=%{customdata[0]}<br>model_json=%{customdata[1]}<br>model_name=%{customdata[2]}<extra></extra>",
         "legendgroup": "ROC_mitigation, sneaky",
         "marker": {
          "color": "#00cc96",
          "size": [
           10,
           10,
           10,
           10,
           10,
           10,
           10,
           10,
           10,
           10
          ],
          "sizemode": "area",
          "sizeref": 0.1,
          "symbol": "diamond"
         },
         "mode": "markers",
         "name": "ROC_mitigation, sneaky",
         "orientation": "v",
         "showlegend": false,
         "type": "scatter",
         "x": [
          0.0606909710283682,
          0.05786279002478397,
          0.05896186036528576,
          0.02664855993456904,
          0.08089885257937864,
          0.04098857506446384,
          0.06003992936170153,
          0.05983691636886999,
          0.0572117483581173,
          0.05808680436170153
         ],
         "xaxis": "x2",
         "y": [
          0.8228846053660477,
          0.8227375551925284,
          0.8225610949843055,
          0.8207894653277102,
          0.812716351917199,
          0.817054209984907,
          0.8228551953313438,
          0.8229287204181035,
          0.8227081451578245,
          0.8227816702445843
         ],
         "yaxis": "y2"
        },
        {
         "customdata": [
          [
           "{\"epsilon\":null,\"theta\":0.5666666666666667}",
           "{\"epsilon\":null}",
           "unconstrained"
          ],
          [
           "{\"epsilon\":null,\"theta\":0.3333333333333333}",
           "{\"epsilon\":null}",
           "unconstrained"
          ],
          [
           "{\"epsilon\":null,\"theta\":0.36666666666666664}",
           "{\"epsilon\":null}",
           "unconstrained"
          ],
          [
           "{\"epsilon\":null,\"theta\":0.5}",
           "{\"epsilon\":null}",
           "unconstrained"
          ],
          [
           "{\"epsilon\":null,\"theta\":0.5333333333333333}",
           "{\"epsilon\":null}",
           "unconstrained"
          ],
          [
           "{\"epsilon\":null,\"theta\":0.3}",
           "{\"epsilon\":null}",
           "unconstrained"
          ],
          [
           "{\"epsilon\":null,\"theta\":0.6}",
           "{\"epsilon\":null}",
           "unconstrained"
          ],
          [
           "{\"epsilon\":null,\"theta\":0.4666666666666667}",
           "{\"epsilon\":null}",
           "unconstrained"
          ],
          [
           "{\"epsilon\":null,\"theta\":0.43333333333333335}",
           "{\"epsilon\":null}",
           "unconstrained"
          ],
          [
           "{\"epsilon\":null,\"theta\":0.4}",
           "{\"epsilon\":null}",
           "unconstrained"
          ]
         ],
         "hovertemplate": "strategy=ROC_mitigation<br>is_honest=sneaky<br>detection_tpr=0.5<br>detection_tnr=1.0<br>demographic_parity_audit=%{x}<br>utility_user=%{y}<br>size=%{marker.size}<br>strategy_json=%{customdata[0]}<br>model_json=%{customdata[1]}<br>model_name=%{customdata[2]}<extra></extra>",
         "legendgroup": "ROC_mitigation, sneaky",
         "marker": {
          "color": "#00cc96",
          "size": [
           10,
           10,
           10,
           10,
           10,
           10,
           10,
           10,
           10,
           10
          ],
          "sizemode": "area",
          "sizeref": 0.1,
          "symbol": "diamond"
         },
         "mode": "markers",
         "name": "ROC_mitigation, sneaky",
         "orientation": "v",
         "showlegend": false,
         "type": "scatter",
         "x": [
          0.0476153895397222,
          0.05887587222328915,
          0.05887587222328915,
          0.05887587222328915,
          0.028256833749439835,
          0.05887587222328915,
          0.08963574675116834,
          0.05887587222328915,
          0.05887587222328915,
          0.05887587222328915
         ],
         "xaxis": "x",
         "y": [
          0.8155806334182746,
          0.8224535857298871,
          0.8224535857298871,
          0.8224535857298871,
          0.8203276301419731,
          0.8224535857298871,
          0.8104987258827812,
          0.8224535857298871,
          0.8224535857298871,
          0.8224535857298871
         ],
         "yaxis": "y"
        },
        {
         "customdata": [
          [
           "{\"epsilon\":null,\"theta\":null}",
           "{\"epsilon\":null}",
           "unconstrained"
          ]
         ],
         "hovertemplate": "strategy=model_swap<br>is_honest=sneaky<br>detection_tpr=1.0<br>detection_tnr=1.0<br>demographic_parity_audit=%{x}<br>utility_user=%{y}<br>size=%{marker.size}<br>strategy_json=%{customdata[0]}<br>model_json=%{customdata[1]}<br>model_name=%{customdata[2]}<extra></extra>",
         "legendgroup": "model_swap, sneaky",
         "marker": {
          "color": "#ab63fa",
          "size": [
           10
          ],
          "sizemode": "area",
          "sizeref": 0.1,
          "symbol": "diamond"
         },
         "mode": "markers",
         "name": "model_swap, sneaky",
         "orientation": "v",
         "showlegend": true,
         "type": "scatter",
         "x": [
          0.03058382946034186
         ],
         "xaxis": "x3",
         "y": [
          0.8224535857298871
         ],
         "yaxis": "y3"
        },
        {
         "customdata": [
          [
           "{\"epsilon\":null,\"theta\":null}",
           "{\"epsilon\":null}",
           "unconstrained"
          ]
         ],
         "hovertemplate": "strategy=model_swap<br>is_honest=sneaky<br>detection_tpr=0.95<br>detection_tnr=1.0<br>demographic_parity_audit=%{x}<br>utility_user=%{y}<br>size=%{marker.size}<br>strategy_json=%{customdata[0]}<br>model_json=%{customdata[1]}<br>model_name=%{customdata[2]}<extra></extra>",
         "legendgroup": "model_swap, sneaky",
         "marker": {
          "color": "#ab63fa",
          "size": [
           10
          ],
          "sizemode": "area",
          "sizeref": 0.1,
          "symbol": "diamond"
         },
         "mode": "markers",
         "name": "model_swap, sneaky",
         "orientation": "v",
         "showlegend": false,
         "type": "scatter",
         "x": [
          0.027399313763493964
         ],
         "xaxis": "x2",
         "y": [
          0.817079390749864
         ],
         "yaxis": "y2"
        },
        {
         "customdata": [
          [
           "{\"epsilon\":null,\"theta\":null}",
           "{\"epsilon\":null}",
           "unconstrained"
          ]
         ],
         "hovertemplate": "strategy=model_swap<br>is_honest=sneaky<br>detection_tpr=0.5<br>detection_tnr=1.0<br>demographic_parity_audit=%{x}<br>utility_user=%{y}<br>size=%{marker.size}<br>strategy_json=%{customdata[0]}<br>model_json=%{customdata[1]}<br>model_name=%{customdata[2]}<extra></extra>",
         "legendgroup": "model_swap, sneaky",
         "marker": {
          "color": "#ab63fa",
          "size": [
           10
          ],
          "sizemode": "area",
          "sizeref": 0.1,
          "symbol": "diamond"
         },
         "mode": "markers",
         "name": "model_swap, sneaky",
         "orientation": "v",
         "showlegend": false,
         "type": "scatter",
         "x": [
          0.03342935791562638
         ],
         "xaxis": "x",
         "y": [
          0.8224535857298871
         ],
         "yaxis": "y"
        }
       ],
       "layout": {
        "annotations": [
         {
          "font": {},
          "showarrow": false,
          "text": "detection_tnr=1.0",
          "x": 0.49,
          "xanchor": "center",
          "xref": "paper",
          "y": 0.9999999999999998,
          "yanchor": "bottom",
          "yref": "paper"
         },
         {
          "font": {},
          "showarrow": false,
          "text": "detection_tpr=0.5",
          "textangle": 90,
          "x": 0.98,
          "xanchor": "left",
          "xref": "paper",
          "y": 0.15666666666666665,
          "yanchor": "middle",
          "yref": "paper"
         },
         {
          "font": {},
          "showarrow": false,
          "text": "detection_tpr=0.95",
          "textangle": 90,
          "x": 0.98,
          "xanchor": "left",
          "xref": "paper",
          "y": 0.4999999999999999,
          "yanchor": "middle",
          "yref": "paper"
         },
         {
          "font": {},
          "showarrow": false,
          "text": "detection_tpr=1.0",
          "textangle": 90,
          "x": 0.98,
          "xanchor": "left",
          "xref": "paper",
          "y": 0.8433333333333332,
          "yanchor": "middle",
          "yref": "paper"
         }
        ],
        "height": 1000,
        "legend": {
         "itemsizing": "constant",
         "title": {
          "text": "strategy, is_honest"
         },
         "tracegroupgap": 0
        },
        "margin": {
         "t": 60
        },
        "template": {
         "data": {
          "bar": [
           {
            "error_x": {
             "color": "#2a3f5f"
            },
            "error_y": {
             "color": "#2a3f5f"
            },
            "marker": {
             "line": {
              "color": "#E5ECF6",
              "width": 0.5
             },
             "pattern": {
              "fillmode": "overlay",
              "size": 10,
              "solidity": 0.2
             }
            },
            "type": "bar"
           }
          ],
          "barpolar": [
           {
            "marker": {
             "line": {
              "color": "#E5ECF6",
              "width": 0.5
             },
             "pattern": {
              "fillmode": "overlay",
              "size": 10,
              "solidity": 0.2
             }
            },
            "type": "barpolar"
           }
          ],
          "carpet": [
           {
            "aaxis": {
             "endlinecolor": "#2a3f5f",
             "gridcolor": "white",
             "linecolor": "white",
             "minorgridcolor": "white",
             "startlinecolor": "#2a3f5f"
            },
            "baxis": {
             "endlinecolor": "#2a3f5f",
             "gridcolor": "white",
             "linecolor": "white",
             "minorgridcolor": "white",
             "startlinecolor": "#2a3f5f"
            },
            "type": "carpet"
           }
          ],
          "choropleth": [
           {
            "colorbar": {
             "outlinewidth": 0,
             "ticks": ""
            },
            "type": "choropleth"
           }
          ],
          "contour": [
           {
            "colorbar": {
             "outlinewidth": 0,
             "ticks": ""
            },
            "colorscale": [
             [
              0,
              "#0d0887"
             ],
             [
              0.1111111111111111,
              "#46039f"
             ],
             [
              0.2222222222222222,
              "#7201a8"
             ],
             [
              0.3333333333333333,
              "#9c179e"
             ],
             [
              0.4444444444444444,
              "#bd3786"
             ],
             [
              0.5555555555555556,
              "#d8576b"
             ],
             [
              0.6666666666666666,
              "#ed7953"
             ],
             [
              0.7777777777777778,
              "#fb9f3a"
             ],
             [
              0.8888888888888888,
              "#fdca26"
             ],
             [
              1,
              "#f0f921"
             ]
            ],
            "type": "contour"
           }
          ],
          "contourcarpet": [
           {
            "colorbar": {
             "outlinewidth": 0,
             "ticks": ""
            },
            "type": "contourcarpet"
           }
          ],
          "heatmap": [
           {
            "colorbar": {
             "outlinewidth": 0,
             "ticks": ""
            },
            "colorscale": [
             [
              0,
              "#0d0887"
             ],
             [
              0.1111111111111111,
              "#46039f"
             ],
             [
              0.2222222222222222,
              "#7201a8"
             ],
             [
              0.3333333333333333,
              "#9c179e"
             ],
             [
              0.4444444444444444,
              "#bd3786"
             ],
             [
              0.5555555555555556,
              "#d8576b"
             ],
             [
              0.6666666666666666,
              "#ed7953"
             ],
             [
              0.7777777777777778,
              "#fb9f3a"
             ],
             [
              0.8888888888888888,
              "#fdca26"
             ],
             [
              1,
              "#f0f921"
             ]
            ],
            "type": "heatmap"
           }
          ],
          "heatmapgl": [
           {
            "colorbar": {
             "outlinewidth": 0,
             "ticks": ""
            },
            "colorscale": [
             [
              0,
              "#0d0887"
             ],
             [
              0.1111111111111111,
              "#46039f"
             ],
             [
              0.2222222222222222,
              "#7201a8"
             ],
             [
              0.3333333333333333,
              "#9c179e"
             ],
             [
              0.4444444444444444,
              "#bd3786"
             ],
             [
              0.5555555555555556,
              "#d8576b"
             ],
             [
              0.6666666666666666,
              "#ed7953"
             ],
             [
              0.7777777777777778,
              "#fb9f3a"
             ],
             [
              0.8888888888888888,
              "#fdca26"
             ],
             [
              1,
              "#f0f921"
             ]
            ],
            "type": "heatmapgl"
           }
          ],
          "histogram": [
           {
            "marker": {
             "pattern": {
              "fillmode": "overlay",
              "size": 10,
              "solidity": 0.2
             }
            },
            "type": "histogram"
           }
          ],
          "histogram2d": [
           {
            "colorbar": {
             "outlinewidth": 0,
             "ticks": ""
            },
            "colorscale": [
             [
              0,
              "#0d0887"
             ],
             [
              0.1111111111111111,
              "#46039f"
             ],
             [
              0.2222222222222222,
              "#7201a8"
             ],
             [
              0.3333333333333333,
              "#9c179e"
             ],
             [
              0.4444444444444444,
              "#bd3786"
             ],
             [
              0.5555555555555556,
              "#d8576b"
             ],
             [
              0.6666666666666666,
              "#ed7953"
             ],
             [
              0.7777777777777778,
              "#fb9f3a"
             ],
             [
              0.8888888888888888,
              "#fdca26"
             ],
             [
              1,
              "#f0f921"
             ]
            ],
            "type": "histogram2d"
           }
          ],
          "histogram2dcontour": [
           {
            "colorbar": {
             "outlinewidth": 0,
             "ticks": ""
            },
            "colorscale": [
             [
              0,
              "#0d0887"
             ],
             [
              0.1111111111111111,
              "#46039f"
             ],
             [
              0.2222222222222222,
              "#7201a8"
             ],
             [
              0.3333333333333333,
              "#9c179e"
             ],
             [
              0.4444444444444444,
              "#bd3786"
             ],
             [
              0.5555555555555556,
              "#d8576b"
             ],
             [
              0.6666666666666666,
              "#ed7953"
             ],
             [
              0.7777777777777778,
              "#fb9f3a"
             ],
             [
              0.8888888888888888,
              "#fdca26"
             ],
             [
              1,
              "#f0f921"
             ]
            ],
            "type": "histogram2dcontour"
           }
          ],
          "mesh3d": [
           {
            "colorbar": {
             "outlinewidth": 0,
             "ticks": ""
            },
            "type": "mesh3d"
           }
          ],
          "parcoords": [
           {
            "line": {
             "colorbar": {
              "outlinewidth": 0,
              "ticks": ""
             }
            },
            "type": "parcoords"
           }
          ],
          "pie": [
           {
            "automargin": true,
            "type": "pie"
           }
          ],
          "scatter": [
           {
            "fillpattern": {
             "fillmode": "overlay",
             "size": 10,
             "solidity": 0.2
            },
            "type": "scatter"
           }
          ],
          "scatter3d": [
           {
            "line": {
             "colorbar": {
              "outlinewidth": 0,
              "ticks": ""
             }
            },
            "marker": {
             "colorbar": {
              "outlinewidth": 0,
              "ticks": ""
             }
            },
            "type": "scatter3d"
           }
          ],
          "scattercarpet": [
           {
            "marker": {
             "colorbar": {
              "outlinewidth": 0,
              "ticks": ""
             }
            },
            "type": "scattercarpet"
           }
          ],
          "scattergeo": [
           {
            "marker": {
             "colorbar": {
              "outlinewidth": 0,
              "ticks": ""
             }
            },
            "type": "scattergeo"
           }
          ],
          "scattergl": [
           {
            "marker": {
             "colorbar": {
              "outlinewidth": 0,
              "ticks": ""
             }
            },
            "type": "scattergl"
           }
          ],
          "scattermapbox": [
           {
            "marker": {
             "colorbar": {
              "outlinewidth": 0,
              "ticks": ""
             }
            },
            "type": "scattermapbox"
           }
          ],
          "scatterpolar": [
           {
            "marker": {
             "colorbar": {
              "outlinewidth": 0,
              "ticks": ""
             }
            },
            "type": "scatterpolar"
           }
          ],
          "scatterpolargl": [
           {
            "marker": {
             "colorbar": {
              "outlinewidth": 0,
              "ticks": ""
             }
            },
            "type": "scatterpolargl"
           }
          ],
          "scatterternary": [
           {
            "marker": {
             "colorbar": {
              "outlinewidth": 0,
              "ticks": ""
             }
            },
            "type": "scatterternary"
           }
          ],
          "surface": [
           {
            "colorbar": {
             "outlinewidth": 0,
             "ticks": ""
            },
            "colorscale": [
             [
              0,
              "#0d0887"
             ],
             [
              0.1111111111111111,
              "#46039f"
             ],
             [
              0.2222222222222222,
              "#7201a8"
             ],
             [
              0.3333333333333333,
              "#9c179e"
             ],
             [
              0.4444444444444444,
              "#bd3786"
             ],
             [
              0.5555555555555556,
              "#d8576b"
             ],
             [
              0.6666666666666666,
              "#ed7953"
             ],
             [
              0.7777777777777778,
              "#fb9f3a"
             ],
             [
              0.8888888888888888,
              "#fdca26"
             ],
             [
              1,
              "#f0f921"
             ]
            ],
            "type": "surface"
           }
          ],
          "table": [
           {
            "cells": {
             "fill": {
              "color": "#EBF0F8"
             },
             "line": {
              "color": "white"
             }
            },
            "header": {
             "fill": {
              "color": "#C8D4E3"
             },
             "line": {
              "color": "white"
             }
            },
            "type": "table"
           }
          ]
         },
         "layout": {
          "annotationdefaults": {
           "arrowcolor": "#2a3f5f",
           "arrowhead": 0,
           "arrowwidth": 1
          },
          "autotypenumbers": "strict",
          "coloraxis": {
           "colorbar": {
            "outlinewidth": 0,
            "ticks": ""
           }
          },
          "colorscale": {
           "diverging": [
            [
             0,
             "#8e0152"
            ],
            [
             0.1,
             "#c51b7d"
            ],
            [
             0.2,
             "#de77ae"
            ],
            [
             0.3,
             "#f1b6da"
            ],
            [
             0.4,
             "#fde0ef"
            ],
            [
             0.5,
             "#f7f7f7"
            ],
            [
             0.6,
             "#e6f5d0"
            ],
            [
             0.7,
             "#b8e186"
            ],
            [
             0.8,
             "#7fbc41"
            ],
            [
             0.9,
             "#4d9221"
            ],
            [
             1,
             "#276419"
            ]
           ],
           "sequential": [
            [
             0,
             "#0d0887"
            ],
            [
             0.1111111111111111,
             "#46039f"
            ],
            [
             0.2222222222222222,
             "#7201a8"
            ],
            [
             0.3333333333333333,
             "#9c179e"
            ],
            [
             0.4444444444444444,
             "#bd3786"
            ],
            [
             0.5555555555555556,
             "#d8576b"
            ],
            [
             0.6666666666666666,
             "#ed7953"
            ],
            [
             0.7777777777777778,
             "#fb9f3a"
            ],
            [
             0.8888888888888888,
             "#fdca26"
            ],
            [
             1,
             "#f0f921"
            ]
           ],
           "sequentialminus": [
            [
             0,
             "#0d0887"
            ],
            [
             0.1111111111111111,
             "#46039f"
            ],
            [
             0.2222222222222222,
             "#7201a8"
            ],
            [
             0.3333333333333333,
             "#9c179e"
            ],
            [
             0.4444444444444444,
             "#bd3786"
            ],
            [
             0.5555555555555556,
             "#d8576b"
            ],
            [
             0.6666666666666666,
             "#ed7953"
            ],
            [
             0.7777777777777778,
             "#fb9f3a"
            ],
            [
             0.8888888888888888,
             "#fdca26"
            ],
            [
             1,
             "#f0f921"
            ]
           ]
          },
          "colorway": [
           "#636efa",
           "#EF553B",
           "#00cc96",
           "#ab63fa",
           "#FFA15A",
           "#19d3f3",
           "#FF6692",
           "#B6E880",
           "#FF97FF",
           "#FECB52"
          ],
          "font": {
           "color": "#2a3f5f"
          },
          "geo": {
           "bgcolor": "white",
           "lakecolor": "white",
           "landcolor": "#E5ECF6",
           "showlakes": true,
           "showland": true,
           "subunitcolor": "white"
          },
          "hoverlabel": {
           "align": "left"
          },
          "hovermode": "closest",
          "mapbox": {
           "style": "light"
          },
          "paper_bgcolor": "white",
          "plot_bgcolor": "#E5ECF6",
          "polar": {
           "angularaxis": {
            "gridcolor": "white",
            "linecolor": "white",
            "ticks": ""
           },
           "bgcolor": "#E5ECF6",
           "radialaxis": {
            "gridcolor": "white",
            "linecolor": "white",
            "ticks": ""
           }
          },
          "scene": {
           "xaxis": {
            "backgroundcolor": "#E5ECF6",
            "gridcolor": "white",
            "gridwidth": 2,
            "linecolor": "white",
            "showbackground": true,
            "ticks": "",
            "zerolinecolor": "white"
           },
           "yaxis": {
            "backgroundcolor": "#E5ECF6",
            "gridcolor": "white",
            "gridwidth": 2,
            "linecolor": "white",
            "showbackground": true,
            "ticks": "",
            "zerolinecolor": "white"
           },
           "zaxis": {
            "backgroundcolor": "#E5ECF6",
            "gridcolor": "white",
            "gridwidth": 2,
            "linecolor": "white",
            "showbackground": true,
            "ticks": "",
            "zerolinecolor": "white"
           }
          },
          "shapedefaults": {
           "line": {
            "color": "#2a3f5f"
           }
          },
          "ternary": {
           "aaxis": {
            "gridcolor": "white",
            "linecolor": "white",
            "ticks": ""
           },
           "baxis": {
            "gridcolor": "white",
            "linecolor": "white",
            "ticks": ""
           },
           "bgcolor": "#E5ECF6",
           "caxis": {
            "gridcolor": "white",
            "linecolor": "white",
            "ticks": ""
           }
          },
          "title": {
           "x": 0.05
          },
          "xaxis": {
           "automargin": true,
           "gridcolor": "white",
           "linecolor": "white",
           "ticks": "",
           "title": {
            "standoff": 15
           },
           "zerolinecolor": "white",
           "zerolinewidth": 2
          },
          "yaxis": {
           "automargin": true,
           "gridcolor": "white",
           "linecolor": "white",
           "ticks": "",
           "title": {
            "standoff": 15
           },
           "zerolinecolor": "white",
           "zerolinewidth": 2
          }
         }
        },
        "width": 1300,
        "xaxis": {
         "anchor": "y",
         "domain": [
          0,
          0.98
         ],
         "title": {
          "text": "demographic_parity_audit"
         }
        },
        "xaxis2": {
         "anchor": "y2",
         "domain": [
          0,
          0.98
         ],
         "matches": "x",
         "showticklabels": false
        },
        "xaxis3": {
         "anchor": "y3",
         "domain": [
          0,
          0.98
         ],
         "matches": "x",
         "showticklabels": false
        },
        "yaxis": {
         "anchor": "x",
         "domain": [
          0,
          0.3133333333333333
         ],
         "title": {
          "text": "utility_user"
         }
        },
        "yaxis2": {
         "anchor": "x2",
         "domain": [
          0.34333333333333327,
          0.6566666666666665
         ],
         "matches": "y",
         "title": {
          "text": "utility_user"
         }
        },
        "yaxis3": {
         "anchor": "x3",
         "domain": [
          0.6866666666666665,
          0.9999999999999998
         ],
         "matches": "y",
         "title": {
          "text": "utility_user"
         }
        }
       }
      }
     },
     "metadata": {},
     "output_type": "display_data"
    }
   ],
   "source": [
    "fig = px.scatter(\n",
    "    audit.with_columns(\n",
    "        is_honest=pl.when(pl.col(\"strategy\") == \"honest\")\n",
    "        .then(\"strategy\")\n",
    "        .otherwise(pl.lit(\"sneaky\")),\n",
    "        size=10,\n",
    "    ),\n",
    "    x=\"demographic_parity_audit\",\n",
    "    y=\"utility_user\",\n",
    "    color=\"strategy\",\n",
    "    symbol=\"is_honest\",\n",
    "    size=\"size\",\n",
    "    size_max=10,\n",
    "    facet_row=\"detection_tpr\",\n",
    "    facet_col=\"detection_tnr\",\n",
    "    hover_data=[\"strategy_json\", \"model_json\", \"model_name\"],\n",
    "    height=1_000,\n",
    "    width=1_300,\n",
    ")\n",
    "\n",
    "# fig.update_xaxes(range=[0, 0.1])\n",
    "# fig.update_yaxes(range=[0.81, 0.83])\n",
    "fig.show()"
   ]
  },
  {
   "cell_type": "markdown",
   "metadata": {},
   "source": [
    "# What is the best lying strategy ?"
   ]
  },
  {
   "cell_type": "code",
   "execution_count": 64,
   "metadata": {},
   "outputs": [],
   "source": [
    "manipulation = (\n",
    "    pl.read_ndjson(\"../generated/manipulation5_ACSEmployment_binarized_skrub.jsonl\")\n",
    "    .with_columns(\n",
    "        min_conditional_accuracy=pl.col(\"conditional_accuracy_user\").list.min(),\n",
    "        strategy_instance=pl.concat_str(\n",
    "            pl.col(\"strategy\"), pl.col(\"strategy_params\").struct.json_encode()\n",
    "        ),\n",
    "        strategy_json=pl.col(\"strategy_params\").struct.json_encode(),\n",
    "    )\n",
    "    .group_by(\n",
    "        \"dataset\",\n",
    "        \"model_name\",\n",
    "        # \"model_params\",\n",
    "        \"strategy\",\n",
    "        \"strategy_params\",\n",
    "        \"strategy_json\",\n",
    "        \"audit_budget\",\n",
    "        \"detection_tpr\",\n",
    "        \"detection_tnr\",\n",
    "    )\n",
    "    .agg(pl.col(\"*\").mean(), pl.col(\"*\").std().name.suffix(\"_std\"))\n",
    "    .sort(\"detection_tpr\", \"detection_tnr\", descending=[True, False])\n",
    ")"
   ]
  },
  {
   "cell_type": "code",
   "execution_count": 65,
   "metadata": {},
   "outputs": [
    {
     "data": {
      "text/html": [
       "<div><style>\n",
       ".dataframe > thead > tr,\n",
       ".dataframe > tbody > tr {\n",
       "  text-align: right;\n",
       "  white-space: pre-wrap;\n",
       "}\n",
       "</style>\n",
       "<small>shape: (858, 26)</small><table border=\"1\" class=\"dataframe\"><thead><tr><th>dataset</th><th>model_name</th><th>strategy</th><th>strategy_params</th><th>strategy_json</th><th>audit_budget</th><th>detection_tpr</th><th>detection_tnr</th><th>model_params</th><th>entropy</th><th>utility_user</th><th>utility_audit</th><th>conditional_accuracy_user</th><th>demographic_parity_user</th><th>demographic_parity_audit</th><th>min_conditional_accuracy</th><th>strategy_instance</th><th>model_params_std</th><th>entropy_std</th><th>utility_user_std</th><th>utility_audit_std</th><th>conditional_accuracy_user_std</th><th>demographic_parity_user_std</th><th>demographic_parity_audit_std</th><th>min_conditional_accuracy_std</th><th>strategy_instance_std</th></tr><tr><td>str</td><td>str</td><td>str</td><td>struct[2]</td><td>str</td><td>i64</td><td>f64</td><td>f64</td><td>struct[1]</td><td>f64</td><td>f64</td><td>f64</td><td>list[f64]</td><td>f64</td><td>f64</td><td>f64</td><td>str</td><td>struct[1]</td><td>f64</td><td>f64</td><td>f64</td><td>list[f64]</td><td>f64</td><td>f64</td><td>f64</td><td>str</td></tr></thead><tbody><tr><td>&quot;ACSEmployment&quot;</td><td>&quot;unconstrained&quot;</td><td>&quot;model_swap&quot;</td><td>{null,null}</td><td>&quot;{&quot;epsilon&quot;:null,&quot;theta&quot;:null}&quot;</td><td>1000</td><td>1.0</td><td>1.0</td><td>null</td><td>2.3527e9</td><td>0.851482</td><td>0.8545</td><td>null</td><td>0.023558</td><td>0.027746</td><td>0.812805</td><td>null</td><td>null</td><td>8.5239e8</td><td>0.00124</td><td>0.011806</td><td>null</td><td>0.004163</td><td>0.014977</td><td>0.015728</td><td>null</td></tr><tr><td>&quot;ACSEmployment&quot;</td><td>&quot;unconstrained&quot;</td><td>&quot;randomized_response&quot;</td><td>{9.0,null}</td><td>&quot;{&quot;epsilon&quot;:9.0,&quot;theta&quot;:null}&quot;</td><td>1000</td><td>1.0</td><td>1.0</td><td>null</td><td>2.3527e9</td><td>0.851984</td><td>0.8553</td><td>null</td><td>0.0239</td><td>0.040479</td><td>0.811789</td><td>null</td><td>null</td><td>8.5239e8</td><td>0.001123</td><td>0.009866</td><td>null</td><td>0.005535</td><td>0.025826</td><td>0.01485</td><td>null</td></tr><tr><td>&quot;ACSEmployment&quot;</td><td>&quot;unconstrained&quot;</td><td>&quot;ROC_mitigation&quot;</td><td>{null,0.3}</td><td>&quot;{&quot;epsilon&quot;:null,&quot;theta&quot;:0.3}&quot;</td><td>1000</td><td>1.0</td><td>1.0</td><td>null</td><td>2.3527e9</td><td>0.852282</td><td>0.8552</td><td>null</td><td>0.024969</td><td>0.043064</td><td>0.813008</td><td>null</td><td>null</td><td>8.5239e8</td><td>0.001359</td><td>0.010612</td><td>null</td><td>0.003237</td><td>0.020636</td><td>0.014308</td><td>null</td></tr><tr><td>&quot;ACSEmployment&quot;</td><td>&quot;unconstrained&quot;</td><td>&quot;ROC_mitigation&quot;</td><td>{null,0.533333}</td><td>&quot;{&quot;epsilon&quot;:null,&quot;theta&quot;:0.5333…</td><td>1000</td><td>1.0</td><td>1.0</td><td>null</td><td>2.3527e9</td><td>0.851656</td><td>0.8543</td><td>null</td><td>0.005146</td><td>0.029324</td><td>0.812398</td><td>null</td><td>null</td><td>8.5239e8</td><td>0.001227</td><td>0.011461</td><td>null</td><td>0.004478</td><td>0.015206</td><td>0.01469</td><td>null</td></tr><tr><td>&quot;ACSEmployment&quot;</td><td>&quot;unconstrained&quot;</td><td>&quot;ROC_mitigation&quot;</td><td>{null,0.566667}</td><td>&quot;{&quot;epsilon&quot;:null,&quot;theta&quot;:0.5666…</td><td>1000</td><td>1.0</td><td>1.0</td><td>null</td><td>2.3527e9</td><td>0.850331</td><td>0.8523</td><td>null</td><td>0.030046</td><td>0.024786</td><td>0.808943</td><td>null</td><td>null</td><td>8.5239e8</td><td>0.001451</td><td>0.013384</td><td>null</td><td>0.006512</td><td>0.026654</td><td>0.017511</td><td>null</td></tr><tr><td>&hellip;</td><td>&hellip;</td><td>&hellip;</td><td>&hellip;</td><td>&hellip;</td><td>&hellip;</td><td>&hellip;</td><td>&hellip;</td><td>&hellip;</td><td>&hellip;</td><td>&hellip;</td><td>&hellip;</td><td>&hellip;</td><td>&hellip;</td><td>&hellip;</td><td>&hellip;</td><td>&hellip;</td><td>&hellip;</td><td>&hellip;</td><td>&hellip;</td><td>&hellip;</td><td>&hellip;</td><td>&hellip;</td><td>&hellip;</td><td>&hellip;</td><td>&hellip;</td></tr><tr><td>&quot;ACSEmployment&quot;</td><td>&quot;unconstrained&quot;</td><td>&quot;ROC_mitigation&quot;</td><td>{null,0.566667}</td><td>&quot;{&quot;epsilon&quot;:null,&quot;theta&quot;:0.5666…</td><td>1000</td><td>0.0</td><td>1.0</td><td>null</td><td>2.3527e9</td><td>0.849843</td><td>0.8508</td><td>null</td><td>0.033356</td><td>0.025856</td><td>0.807317</td><td>null</td><td>null</td><td>9.0409e8</td><td>0.001416</td><td>0.015073</td><td>null</td><td>0.004329</td><td>0.031852</td><td>0.020698</td><td>null</td></tr><tr><td>&quot;ACSEmployment&quot;</td><td>&quot;unconstrained&quot;</td><td>&quot;randomized_response&quot;</td><td>{3.0,null}</td><td>&quot;{&quot;epsilon&quot;:3.0,&quot;theta&quot;:null}&quot;</td><td>1000</td><td>0.0</td><td>1.0</td><td>null</td><td>2.3527e9</td><td>0.851766</td><td>0.8546</td><td>null</td><td>0.024316</td><td>0.04187</td><td>0.812195</td><td>null</td><td>null</td><td>9.0409e8</td><td>0.000948</td><td>0.011327</td><td>null</td><td>0.004618</td><td>0.019096</td><td>0.011371</td><td>null</td></tr><tr><td>&quot;ACSEmployment&quot;</td><td>&quot;unconstrained&quot;</td><td>&quot;randomized_response&quot;</td><td>{6.0,null}</td><td>&quot;{&quot;epsilon&quot;:6.0,&quot;theta&quot;:null}&quot;</td><td>1000</td><td>0.0</td><td>1.0</td><td>null</td><td>2.3527e9</td><td>0.851867</td><td>0.8534</td><td>null</td><td>0.021968</td><td>0.041121</td><td>0.813415</td><td>null</td><td>null</td><td>9.0409e8</td><td>0.00166</td><td>0.01226</td><td>null</td><td>0.003881</td><td>0.021818</td><td>0.013436</td><td>null</td></tr><tr><td>&quot;ACSEmployment&quot;</td><td>&quot;unconstrained&quot;</td><td>&quot;randomized_response&quot;</td><td>{1.0,null}</td><td>&quot;{&quot;epsilon&quot;:1.0,&quot;theta&quot;:null}&quot;</td><td>1000</td><td>0.0</td><td>1.0</td><td>null</td><td>2.3527e9</td><td>0.852945</td><td>0.8562</td><td>null</td><td>0.02371</td><td>0.042683</td><td>0.81626</td><td>null</td><td>null</td><td>9.0409e8</td><td>0.000983</td><td>0.012377</td><td>null</td><td>0.004176</td><td>0.026491</td><td>0.013062</td><td>null</td></tr><tr><td>&quot;ACSEmployment&quot;</td><td>&quot;unconstrained&quot;</td><td>&quot;randomized_response&quot;</td><td>{2.0,null}</td><td>&quot;{&quot;epsilon&quot;:2.0,&quot;theta&quot;:null}&quot;</td><td>1000</td><td>0.0</td><td>1.0</td><td>null</td><td>2.3527e9</td><td>0.851591</td><td>0.8538</td><td>null</td><td>0.024503</td><td>0.04027</td><td>0.813008</td><td>null</td><td>null</td><td>9.0409e8</td><td>0.001458</td><td>0.012029</td><td>null</td><td>0.002762</td><td>0.024031</td><td>0.015142</td><td>null</td></tr></tbody></table></div>"
      ],
      "text/plain": [
       "shape: (858, 26)\n",
       "┌───────────┬───────────┬───────────┬───────────┬───┬───────────┬───────────┬───────────┬──────────┐\n",
       "│ dataset   ┆ model_nam ┆ strategy  ┆ strategy_ ┆ … ┆ demograph ┆ demograph ┆ min_condi ┆ strategy │\n",
       "│ ---       ┆ e         ┆ ---       ┆ params    ┆   ┆ ic_parity ┆ ic_parity ┆ tional_ac ┆ _instanc │\n",
       "│ str       ┆ ---       ┆ str       ┆ ---       ┆   ┆ _user_std ┆ _audit_st ┆ curacy_st ┆ e_std    │\n",
       "│           ┆ str       ┆           ┆ struct[2] ┆   ┆ ---       ┆ d         ┆ d         ┆ ---      │\n",
       "│           ┆           ┆           ┆           ┆   ┆ f64       ┆ ---       ┆ ---       ┆ str      │\n",
       "│           ┆           ┆           ┆           ┆   ┆           ┆ f64       ┆ f64       ┆          │\n",
       "╞═══════════╪═══════════╪═══════════╪═══════════╪═══╪═══════════╪═══════════╪═══════════╪══════════╡\n",
       "│ ACSEmploy ┆ unconstra ┆ model_swa ┆ {null,nul ┆ … ┆ 0.004163  ┆ 0.014977  ┆ 0.015728  ┆ null     │\n",
       "│ ment      ┆ ined      ┆ p         ┆ l}        ┆   ┆           ┆           ┆           ┆          │\n",
       "│ ACSEmploy ┆ unconstra ┆ randomize ┆ {9.0,null ┆ … ┆ 0.005535  ┆ 0.025826  ┆ 0.01485   ┆ null     │\n",
       "│ ment      ┆ ined      ┆ d_respons ┆ }         ┆   ┆           ┆           ┆           ┆          │\n",
       "│           ┆           ┆ e         ┆           ┆   ┆           ┆           ┆           ┆          │\n",
       "│ ACSEmploy ┆ unconstra ┆ ROC_mitig ┆ {null,0.3 ┆ … ┆ 0.003237  ┆ 0.020636  ┆ 0.014308  ┆ null     │\n",
       "│ ment      ┆ ined      ┆ ation     ┆ }         ┆   ┆           ┆           ┆           ┆          │\n",
       "│ ACSEmploy ┆ unconstra ┆ ROC_mitig ┆ {null,0.5 ┆ … ┆ 0.004478  ┆ 0.015206  ┆ 0.01469   ┆ null     │\n",
       "│ ment      ┆ ined      ┆ ation     ┆ 33333}    ┆   ┆           ┆           ┆           ┆          │\n",
       "│ ACSEmploy ┆ unconstra ┆ ROC_mitig ┆ {null,0.5 ┆ … ┆ 0.006512  ┆ 0.026654  ┆ 0.017511  ┆ null     │\n",
       "│ ment      ┆ ined      ┆ ation     ┆ 66667}    ┆   ┆           ┆           ┆           ┆          │\n",
       "│ …         ┆ …         ┆ …         ┆ …         ┆ … ┆ …         ┆ …         ┆ …         ┆ …        │\n",
       "│ ACSEmploy ┆ unconstra ┆ ROC_mitig ┆ {null,0.5 ┆ … ┆ 0.004329  ┆ 0.031852  ┆ 0.020698  ┆ null     │\n",
       "│ ment      ┆ ined      ┆ ation     ┆ 66667}    ┆   ┆           ┆           ┆           ┆          │\n",
       "│ ACSEmploy ┆ unconstra ┆ randomize ┆ {3.0,null ┆ … ┆ 0.004618  ┆ 0.019096  ┆ 0.011371  ┆ null     │\n",
       "│ ment      ┆ ined      ┆ d_respons ┆ }         ┆   ┆           ┆           ┆           ┆          │\n",
       "│           ┆           ┆ e         ┆           ┆   ┆           ┆           ┆           ┆          │\n",
       "│ ACSEmploy ┆ unconstra ┆ randomize ┆ {6.0,null ┆ … ┆ 0.003881  ┆ 0.021818  ┆ 0.013436  ┆ null     │\n",
       "│ ment      ┆ ined      ┆ d_respons ┆ }         ┆   ┆           ┆           ┆           ┆          │\n",
       "│           ┆           ┆ e         ┆           ┆   ┆           ┆           ┆           ┆          │\n",
       "│ ACSEmploy ┆ unconstra ┆ randomize ┆ {1.0,null ┆ … ┆ 0.004176  ┆ 0.026491  ┆ 0.013062  ┆ null     │\n",
       "│ ment      ┆ ined      ┆ d_respons ┆ }         ┆   ┆           ┆           ┆           ┆          │\n",
       "│           ┆           ┆ e         ┆           ┆   ┆           ┆           ┆           ┆          │\n",
       "│ ACSEmploy ┆ unconstra ┆ randomize ┆ {2.0,null ┆ … ┆ 0.002762  ┆ 0.024031  ┆ 0.015142  ┆ null     │\n",
       "│ ment      ┆ ined      ┆ d_respons ┆ }         ┆   ┆           ┆           ┆           ┆          │\n",
       "│           ┆           ┆ e         ┆           ┆   ┆           ┆           ┆           ┆          │\n",
       "└───────────┴───────────┴───────────┴───────────┴───┴───────────┴───────────┴───────────┴──────────┘"
      ]
     },
     "execution_count": 65,
     "metadata": {},
     "output_type": "execute_result"
    }
   ],
   "source": [
    "manipulation"
   ]
  },
  {
   "cell_type": "code",
   "execution_count": 66,
   "metadata": {},
   "outputs": [
    {
     "data": {
      "application/vnd.plotly.v1+json": {
       "config": {
        "plotlyServerURL": "https://plot.ly"
       },
       "data": [
        {
         "error_y": {
          "array": [
           0.007311425101058901,
           0.007139905719613937,
           0.007723577235772368,
           0.00760499468856493,
           0.005581109844612212,
           0.007311425101058913,
           0.0072887890557077634,
           0.006277823256699382,
           0.0072032703848249335,
           0.007139905719613951,
           0.0068806141787848595,
           0.007534045932053114,
           0.006952289177433761,
           0.007254702559989746,
           0.0065986516588406015,
           0.007950246835612976,
           0.006198353935762965,
           0.005338994120554361,
           0.005566286153507767,
           0.007311425101058921,
           0.00783509563715301,
           0.006999664779562018,
           0.007271765780487103,
           0.006185009778334532,
           0.0068142498431870615,
           0.00675946713346175,
           0.007934642803228897,
           0.00762127368262302,
           0.00711672414634617,
           0.007116724146346182,
           0.00705843713584771,
           0.007539527232110332,
           0.00829606976908885,
           0.007467956532875545,
           0.007226174323020789,
           0.007856157760198263,
           0.008812798125479164,
           0.007615851217559026,
           0.0070336820424095284
          ]
         },
         "hovertemplate": "strategy_json={\"epsilon\":null,\"theta\":null}<br>strategy=model_swap<br>detection_tpr=%{x}<br>min_conditional_accuracy=%{y}<extra></extra>",
         "legendgroup": "{\"epsilon\":null,\"theta\":null}",
         "line": {
          "color": "#636efa",
          "dash": "solid"
         },
         "marker": {
          "symbol": "circle"
         },
         "mode": "lines",
         "name": "{\"epsilon\":null,\"theta\":null}",
         "orientation": "v",
         "showlegend": true,
         "type": "scatter",
         "x": [
          0,
          0.034482758620689655,
          0.06896551724137931,
          0.10344827586206896,
          0.13793103448275862,
          0.1724137931034483,
          0.20689655172413793,
          0.24137931034482757,
          0.27586206896551724,
          0.3103448275862069,
          0.3448275862068966,
          0.3793103448275862,
          0.41379310344827586,
          0.4482758620689655,
          0.48275862068965514,
          0.5,
          0.5172413793103449,
          0.5517241379310345,
          0.5555555555555556,
          0.5862068965517241,
          0.6111111111111112,
          0.6206896551724138,
          0.6551724137931034,
          0.6666666666666666,
          0.6896551724137931,
          0.7222222222222222,
          0.7241379310344828,
          0.7586206896551724,
          0.7777777777777778,
          0.7931034482758621,
          0.8275862068965517,
          0.8333333333333333,
          0.8620689655172413,
          0.8888888888888888,
          0.896551724137931,
          0.9310344827586207,
          0.9444444444444444,
          0.9655172413793103,
          1
         ],
         "xaxis": "x",
         "y": [
          0.8134146341463415,
          0.8126016260162601,
          0.8093495934959349,
          0.8109756097560975,
          0.8126016260162601,
          0.8134146341463415,
          0.8101626016260163,
          0.8113821138211381,
          0.8101626016260163,
          0.8105691056910569,
          0.8117886178861788,
          0.8126016260162601,
          0.8089430894308943,
          0.8113821138211381,
          0.8105691056910569,
          0.8109756097560975,
          0.8109756097560975,
          0.8109756097560975,
          0.8150406504065041,
          0.8113821138211381,
          0.8142276422764227,
          0.8101626016260163,
          0.8130081300813009,
          0.8158536585365853,
          0.8065040650406503,
          0.8117886178861788,
          0.8126016260162601,
          0.8081300813008129,
          0.813821138211382,
          0.8117886178861788,
          0.8117886178861788,
          0.8097560975609757,
          0.8142276422764227,
          0.8089430894308943,
          0.8134146341463415,
          0.8126016260162601,
          0.8130081300813009,
          0.8113821138211381,
          0.8128048780487805
         ],
         "yaxis": "y"
        },
        {
         "error_y": {
          "array": [
           0.0060157108077027325,
           0.005770353482348952,
           0.006698071972879691,
           0.006759467133461761,
           0.0067838696212514545,
           0.007260394755890943,
           0.007283119051694652,
           0.007145689362295502,
           0.00634328720907611,
           0.004526637693357727,
           0.007345248373818138,
           0.006598651658840619,
           0.0051659613931458875,
           0.008468563681300702,
           0.005625346545974808,
           0.006783869621251475,
           0.00628440033891881,
           0.006151522744073802,
           0.0067226973205452185,
           0.007254702559989758,
           0.007087640558602733,
           0.005654645424082744,
           0.006472228995158823,
           0.006629880662723594,
           0.005476501457442066,
           0.006874607530604775,
           0.004517502189205853,
           0.005661946454139903,
           0.00681424984318708,
           0.005869727267558383,
           0.00651041356831179,
           0.007081809508204993,
           0.006759467133461741,
           0.005551422879572221,
           0.005911804704166248,
           0.0062116694268033205,
           0.0069700927640171575,
           0.0052216392596199975,
           0.004498155195853067
          ]
         },
         "hovertemplate": "strategy_json={\"epsilon\":null,\"theta\":null}<br>strategy=honest<br>detection_tpr=%{x}<br>min_conditional_accuracy=%{y}<extra></extra>",
         "legendgroup": "{\"epsilon\":null,\"theta\":null}",
         "line": {
          "color": "#636efa",
          "dash": "solid"
         },
         "marker": {
          "symbol": "circle"
         },
         "mode": "lines",
         "name": "{\"epsilon\":null,\"theta\":null}",
         "orientation": "v",
         "showlegend": false,
         "type": "scatter",
         "x": [
          0,
          0.034482758620689655,
          0.06896551724137931,
          0.10344827586206896,
          0.13793103448275862,
          0.1724137931034483,
          0.20689655172413793,
          0.24137931034482757,
          0.27586206896551724,
          0.3103448275862069,
          0.3448275862068966,
          0.3793103448275862,
          0.41379310344827586,
          0.4482758620689655,
          0.48275862068965514,
          0.5,
          0.5172413793103449,
          0.5517241379310345,
          0.5555555555555556,
          0.5862068965517241,
          0.6111111111111112,
          0.6206896551724138,
          0.6551724137931034,
          0.6666666666666666,
          0.6896551724137931,
          0.7222222222222222,
          0.7241379310344828,
          0.7586206896551724,
          0.7777777777777778,
          0.7931034482758621,
          0.8275862068965517,
          0.8333333333333333,
          0.8620689655172413,
          0.8888888888888888,
          0.896551724137931,
          0.9310344827586207,
          0.9444444444444444,
          0.9655172413793103,
          1
         ],
         "xaxis": "x4",
         "y": [
          0.8117886178861788,
          0.8117886178861788,
          0.8101626016260163,
          0.813821138211382,
          0.8126016260162601,
          0.8117886178861788,
          0.8126016260162601,
          0.8097560975609757,
          0.8126016260162601,
          0.8142276422764227,
          0.8142276422764227,
          0.8105691056910569,
          0.8117886178861788,
          0.8117886178861788,
          0.8101626016260163,
          0.8154471544715447,
          0.8121951219512196,
          0.8121951219512195,
          0.8154471544715447,
          0.8146341463414635,
          0.811788617886179,
          0.8126016260162603,
          0.8134146341463415,
          0.8105691056910569,
          0.8142276422764227,
          0.8154471544715447,
          0.8126016260162601,
          0.8101626016260163,
          0.8126016260162601,
          0.8134146341463415,
          0.8142276422764226,
          0.8113821138211381,
          0.8117886178861788,
          0.813821138211382,
          0.8158536585365853,
          0.8113821138211381,
          0.811788617886179,
          0.8109756097560975,
          0.813821138211382
         ],
         "yaxis": "y4"
        },
        {
         "error_y": {
          "array": [
           0.005798919763287418,
           0.0070701329800512734,
           0.006244833941356607,
           0.006802114036862379,
           0.00688061417878486,
           0.007058437135847708,
           0.007856157760198261,
           0.006629880662723601,
           0.006063591012266804,
           0.006343287209076102,
           0.0068203096486026404,
           0.006211669426803301,
           0.005529053052331488,
           0.005939690730163602,
           0.005995073660062015,
           0.007939847554725446,
           0.005925764120777748,
           0.005245320284782089,
           0.0070701329800512535,
           0.005529053052331495,
           0.006598651658840592,
           0.007311425101058895,
           0.007373315913502868,
           0.006310640120430882,
           0.006284400338918822,
           0.007116724146346172,
           0.005036386867221045,
           0.006198353935762957,
           0.006660963255355254,
           0.004852575766794032,
           0.004679213184236305,
           0.006408082427005897,
           0.00600883963377823,
           0.006728839576116617,
           0.00601571080770275,
           0.00621166942680329,
           0.00593969073016357,
           0.006910569105691057,
           0.006161960434093266
          ]
         },
         "hovertemplate": "strategy_json={\"epsilon\":4.0,\"theta\":null}<br>strategy=randomized_response<br>detection_tpr=%{x}<br>min_conditional_accuracy=%{y}<extra></extra>",
         "legendgroup": "{\"epsilon\":4.0,\"theta\":null}",
         "line": {
          "color": "#EF553B",
          "dash": "solid"
         },
         "marker": {
          "symbol": "circle"
         },
         "mode": "lines",
         "name": "{\"epsilon\":4.0,\"theta\":null}",
         "orientation": "v",
         "showlegend": true,
         "type": "scatter",
         "x": [
          0,
          0.034482758620689655,
          0.06896551724137931,
          0.10344827586206896,
          0.13793103448275862,
          0.1724137931034483,
          0.20689655172413793,
          0.24137931034482757,
          0.27586206896551724,
          0.3103448275862069,
          0.3448275862068966,
          0.3793103448275862,
          0.41379310344827586,
          0.4482758620689655,
          0.48275862068965514,
          0.5,
          0.5172413793103449,
          0.5517241379310345,
          0.5555555555555556,
          0.5862068965517241,
          0.6111111111111112,
          0.6206896551724138,
          0.6551724137931034,
          0.6666666666666666,
          0.6896551724137931,
          0.7222222222222222,
          0.7241379310344828,
          0.7586206896551724,
          0.7777777777777778,
          0.7931034482758621,
          0.8275862068965517,
          0.8333333333333333,
          0.8620689655172413,
          0.8888888888888888,
          0.896551724137931,
          0.9310344827586207,
          0.9444444444444444,
          0.9655172413793103,
          1
         ],
         "xaxis": "x2",
         "y": [
          0.8146341463414635,
          0.8109756097560975,
          0.8134146341463413,
          0.8150406504065041,
          0.8162601626016259,
          0.8101626016260163,
          0.8105691056910569,
          0.8126016260162601,
          0.8109756097560975,
          0.8134146341463413,
          0.8138211382113821,
          0.8126016260162601,
          0.8109756097560975,
          0.8105691056910569,
          0.8130081300813007,
          0.8121951219512195,
          0.8130081300813007,
          0.8117886178861788,
          0.8130081300813009,
          0.8130081300813007,
          0.8134146341463415,
          0.8126016260162601,
          0.8121951219512195,
          0.8134146341463415,
          0.8101626016260163,
          0.8138211382113821,
          0.8126016260162603,
          0.8109756097560975,
          0.8134146341463415,
          0.8130081300813009,
          0.8130081300813009,
          0.8126016260162603,
          0.8134146341463415,
          0.8117886178861788,
          0.8097560975609757,
          0.8113821138211381,
          0.8126016260162601,
          0.8142276422764227,
          0.8146341463414632
         ],
         "yaxis": "y2"
        },
        {
         "error_y": {
          "array": [
           0.006999664779562028,
           0.006151522744073808,
           0.00569831128816104,
           0.006178326891695389,
           0.006573561637722015,
           0.004835519208687148,
           0.006814249843187075,
           0.00734524837381815,
           0.006667162384901102,
           0.006679543384209345,
           0.006297533896272236,
           0.005691056910569103,
           0.005261048416888138,
           0.00699966477956203,
           0.0074568846861154826,
           0.0067411072974702954,
           0.006598651658840617,
           0.0061515227440737865,
           0.007311425101058942,
           0.007803395861972528,
           0.00699966477956203,
           0.006636108828176629,
           0.005003468953289088,
           0.006491349358809481,
           0.006117852415972552,
           0.00775027478249498,
           0.006446646962257611,
           0.006218316479991179,
           0.005581109844612184,
           0.006940394747546302,
           0.007669903359395618,
           0.007052581940202247,
           0.008145310938826762,
           0.006504065040650383,
           0.007288789055707765,
           0.005323496281995462,
           0.007950246835612983,
           0.007110916944933307,
           0.006398763660226337
          ]
         },
         "hovertemplate": "strategy_json={\"epsilon\":null,\"theta\":0.3}<br>strategy=ROC_mitigation<br>detection_tpr=%{x}<br>min_conditional_accuracy=%{y}<extra></extra>",
         "legendgroup": "{\"epsilon\":null,\"theta\":0.3}",
         "line": {
          "color": "#00cc96",
          "dash": "solid"
         },
         "marker": {
          "symbol": "circle"
         },
         "mode": "lines",
         "name": "{\"epsilon\":null,\"theta\":0.3}",
         "orientation": "v",
         "showlegend": true,
         "type": "scatter",
         "x": [
          0,
          0.034482758620689655,
          0.06896551724137931,
          0.10344827586206896,
          0.13793103448275862,
          0.1724137931034483,
          0.20689655172413793,
          0.24137931034482757,
          0.27586206896551724,
          0.3103448275862069,
          0.3448275862068966,
          0.3793103448275862,
          0.41379310344827586,
          0.4482758620689655,
          0.48275862068965514,
          0.5,
          0.5172413793103449,
          0.5517241379310345,
          0.5555555555555556,
          0.5862068965517241,
          0.6111111111111112,
          0.6206896551724138,
          0.6551724137931034,
          0.6666666666666666,
          0.6896551724137931,
          0.7222222222222222,
          0.7241379310344828,
          0.7586206896551724,
          0.7777777777777778,
          0.7931034482758621,
          0.8275862068965517,
          0.8333333333333333,
          0.8620689655172413,
          0.8888888888888888,
          0.896551724137931,
          0.9310344827586207,
          0.9444444444444444,
          0.9655172413793103,
          1
         ],
         "xaxis": "x3",
         "y": [
          0.8138211382113821,
          0.8142276422764227,
          0.8138211382113821,
          0.8146341463414635,
          0.8097560975609757,
          0.8178861788617885,
          0.8154471544715447,
          0.8117886178861788,
          0.811788617886179,
          0.8130081300813007,
          0.8130081300813009,
          0.8154471544715447,
          0.8109756097560975,
          0.8117886178861788,
          0.8138211382113821,
          0.8130081300813007,
          0.8134146341463413,
          0.8142276422764227,
          0.8146341463414635,
          0.8126016260162603,
          0.8101626016260163,
          0.8121951219512195,
          0.8138211382113821,
          0.8130081300813007,
          0.8142276422764227,
          0.8134146341463413,
          0.8142276422764227,
          0.8158536585365853,
          0.8126016260162601,
          0.8101626016260163,
          0.8093495934959349,
          0.8093495934959349,
          0.8138211382113821,
          0.8134146341463415,
          0.8117886178861788,
          0.813821138211382,
          0.8130081300813007,
          0.8093495934959349,
          0.8130081300813007
         ],
         "yaxis": "y3"
        },
        {
         "error_y": {
          "array": [
           0.00726039475589094,
           0.007317073170731708,
           0.006814249843187082,
           0.006952289177433759,
           0.00618500977833453,
           0.006029429664305386,
           0.007856157760198261,
           0.005453824335365326,
           0.006722697320545225,
           0.006573561637722035,
           0.007081809508205023,
           0.0068746075306048,
           0.005911804704166242,
           0.005820252464746472,
           0.006567274155042072,
           0.007479011989013851,
           0.006510413568311754,
           0.005946641804198299,
           0.006049949620380987,
           0.006542063796516695,
           0.0073170731707317,
           0.006083995750851902,
           0.005661946454139903,
           0.006375767130633394,
           0.006523092087756601,
           0.006414525950430714,
           0.006648547656014653,
           0.006722697320545227,
           0.0071399057196139554,
           0.007829821253763518,
           0.006910569105691058,
           0.007231888973437884,
           0.006083995750851913,
           0.007456884686115484,
           0.006783869621251493,
           0.006284400338918822,
           0.006049949620380989,
           0.005770353482348952,
           0.005420901017858405
          ]
         },
         "hovertemplate": "strategy_json={\"epsilon\":5.0,\"theta\":null}<br>strategy=randomized_response<br>detection_tpr=%{x}<br>min_conditional_accuracy=%{y}<extra></extra>",
         "legendgroup": "{\"epsilon\":5.0,\"theta\":null}",
         "line": {
          "color": "#ab63fa",
          "dash": "solid"
         },
         "marker": {
          "symbol": "circle"
         },
         "mode": "lines",
         "name": "{\"epsilon\":5.0,\"theta\":null}",
         "orientation": "v",
         "showlegend": true,
         "type": "scatter",
         "x": [
          0,
          0.034482758620689655,
          0.06896551724137931,
          0.10344827586206896,
          0.13793103448275862,
          0.1724137931034483,
          0.20689655172413793,
          0.24137931034482757,
          0.27586206896551724,
          0.3103448275862069,
          0.3448275862068966,
          0.3793103448275862,
          0.41379310344827586,
          0.4482758620689655,
          0.48275862068965514,
          0.5,
          0.5172413793103449,
          0.5517241379310345,
          0.5555555555555556,
          0.5862068965517241,
          0.6111111111111112,
          0.6206896551724138,
          0.6551724137931034,
          0.6666666666666666,
          0.6896551724137931,
          0.7222222222222222,
          0.7241379310344828,
          0.7586206896551724,
          0.7777777777777778,
          0.7931034482758621,
          0.8275862068965517,
          0.8333333333333333,
          0.8620689655172413,
          0.8888888888888888,
          0.896551724137931,
          0.9310344827586207,
          0.9444444444444444,
          0.9655172413793103,
          1
         ],
         "xaxis": "x2",
         "y": [
          0.8138211382113821,
          0.8121951219512195,
          0.8134146341463415,
          0.8109756097560975,
          0.8138211382113821,
          0.8130081300813009,
          0.8154471544715447,
          0.8150406504065041,
          0.8134146341463415,
          0.8142276422764227,
          0.8154471544715447,
          0.8126016260162601,
          0.811788617886179,
          0.8089430894308943,
          0.8134146341463413,
          0.8126016260162601,
          0.8097560975609757,
          0.8142276422764226,
          0.8142276422764226,
          0.8121951219512196,
          0.8121951219512195,
          0.8138211382113821,
          0.8121951219512195,
          0.8113821138211381,
          0.8150406504065041,
          0.8121951219512196,
          0.8150406504065042,
          0.8085365853658537,
          0.8105691056910569,
          0.8126016260162601,
          0.8101626016260163,
          0.8162601626016259,
          0.8158536585365853,
          0.8142276422764227,
          0.8154471544715447,
          0.8162601626016259,
          0.8121951219512195,
          0.8121951219512195,
          0.8136178861788619
         ],
         "yaxis": "y2"
        },
        {
         "error_y": {
          "array": [
           0.006535746012525819,
           0.005588506945068094,
           0.007087640558602695,
           0.007197533012042981,
           0.007512080736819659,
           0.005784654256405563,
           0.006604909272061733,
           0.006802114036862424,
           0.006850528270875091,
           0.007029112384467707,
           0.005876761095447552,
           0.0062646483770010045,
           0.00689261177146878,
           0.006251445731394181,
           0.005117755411387878,
           0.006244833941356613,
           0.006472228995158798,
           0.005904812620460928,
           0.00644664696225759,
           0.0058556342645885665,
           0.005205792062953548,
           0.007311425101058933,
           0.006408082427005865,
           0.006264648377000989,
           0.00702323274112641,
           0.0070291123844677325,
           0.0069996647795620166,
           0.006185009778334541,
           0.004852575766794031,
           0.007384513058774367,
           0.006598651658840634,
           0.006598651658840627,
           0.006783869621251467,
           0.00580603937279906,
           0.007288789055707768,
           0.0061850097783345175,
           0.007254702559989734,
           0.006573561637722013,
           0.006858564083926177
          ]
         },
         "hovertemplate": "strategy_json={\"epsilon\":null,\"theta\":0.4}<br>strategy=ROC_mitigation<br>detection_tpr=%{x}<br>min_conditional_accuracy=%{y}<extra></extra>",
         "legendgroup": "{\"epsilon\":null,\"theta\":0.4}",
         "line": {
          "color": "#FFA15A",
          "dash": "solid"
         },
         "marker": {
          "symbol": "circle"
         },
         "mode": "lines",
         "name": "{\"epsilon\":null,\"theta\":0.4}",
         "orientation": "v",
         "showlegend": true,
         "type": "scatter",
         "x": [
          0,
          0.034482758620689655,
          0.06896551724137931,
          0.10344827586206896,
          0.13793103448275862,
          0.1724137931034483,
          0.20689655172413793,
          0.24137931034482757,
          0.27586206896551724,
          0.3103448275862069,
          0.3448275862068966,
          0.3793103448275862,
          0.41379310344827586,
          0.4482758620689655,
          0.48275862068965514,
          0.5,
          0.5172413793103449,
          0.5517241379310345,
          0.5555555555555556,
          0.5862068965517241,
          0.6111111111111112,
          0.6206896551724138,
          0.6551724137931034,
          0.6666666666666666,
          0.6896551724137931,
          0.7222222222222222,
          0.7241379310344828,
          0.7586206896551724,
          0.7777777777777778,
          0.7931034482758621,
          0.8275862068965517,
          0.8333333333333333,
          0.8620689655172413,
          0.8888888888888888,
          0.896551724137931,
          0.9310344827586207,
          0.9444444444444444,
          0.9655172413793103,
          1
         ],
         "xaxis": "x3",
         "y": [
          0.8113821138211381,
          0.8101626016260163,
          0.8142276422764227,
          0.8126016260162603,
          0.8142276422764227,
          0.8130081300813007,
          0.8121951219512195,
          0.8109756097560975,
          0.8097560975609757,
          0.811788617886179,
          0.8138211382113821,
          0.8130081300813007,
          0.8150406504065041,
          0.8117886178861788,
          0.8154471544715447,
          0.8146341463414635,
          0.8105691056910569,
          0.8105691056910569,
          0.8117886178861788,
          0.8109756097560975,
          0.8121951219512195,
          0.8134146341463415,
          0.8126016260162601,
          0.8150406504065041,
          0.8113821138211381,
          0.8097560975609757,
          0.8158536585365853,
          0.8117886178861788,
          0.8109756097560975,
          0.8089430894308943,
          0.8126016260162601,
          0.8134146341463415,
          0.8113821138211381,
          0.8101626016260163,
          0.8121951219512196,
          0.8138211382113821,
          0.8113821138211381,
          0.8121951219512195,
          0.8117886178861788
         ],
         "yaxis": "y3"
        },
        {
         "error_y": {
          "array": [
           0.007317073170731694,
           0.007197533012043003,
           0.008541423329044975,
           0.00728878905570776,
           0.006029429664305429,
           0.007642925071936257,
           0.007395693251487903,
           0.006904588516854855,
           0.005841507261463374,
           0.007659123447730402,
           0.0073956932514878905,
           0.006395175903476526,
           0.0072547025599897196,
           0.006698071972879699,
           0.008637613561331596,
           0.006244833941356611,
           0.006691901476891998,
           0.007632107055088836,
           0.007512080736819657,
           0.009066954480973768,
           0.007702152569713998,
           0.006598651658840616,
           0.007659123447730405,
           0.008155448230788172,
           0.006131342735365176,
           0.007099288291289841,
           0.007939847554725446,
           0.007345248373818146,
           0.005904812620460949,
           0.006874607530604778,
           0.0069105691056910576,
           0.008355611703696935,
           0.007168777271767645,
           0.008599266585896824,
           0.0068505282708750835,
           0.0071745376401312205,
           0.006395175903476543,
           0.00831596444938162,
           0.0065693706512343596
          ]
         },
         "hovertemplate": "strategy_json={\"epsilon\":null,\"theta\":0.5333333333333333}<br>strategy=ROC_mitigation<br>detection_tpr=%{x}<br>min_conditional_accuracy=%{y}<extra></extra>",
         "legendgroup": "{\"epsilon\":null,\"theta\":0.5333333333333333}",
         "line": {
          "color": "#19d3f3",
          "dash": "solid"
         },
         "marker": {
          "symbol": "circle"
         },
         "mode": "lines",
         "name": "{\"epsilon\":null,\"theta\":0.5333333333333333}",
         "orientation": "v",
         "showlegend": true,
         "type": "scatter",
         "x": [
          0,
          0.034482758620689655,
          0.06896551724137931,
          0.10344827586206896,
          0.13793103448275862,
          0.1724137931034483,
          0.20689655172413793,
          0.24137931034482757,
          0.27586206896551724,
          0.3103448275862069,
          0.3448275862068966,
          0.3793103448275862,
          0.41379310344827586,
          0.4482758620689655,
          0.48275862068965514,
          0.5,
          0.5172413793103449,
          0.5517241379310345,
          0.5555555555555556,
          0.5862068965517241,
          0.6111111111111112,
          0.6206896551724138,
          0.6551724137931034,
          0.6666666666666666,
          0.6896551724137931,
          0.7222222222222222,
          0.7241379310344828,
          0.7586206896551724,
          0.7777777777777778,
          0.7931034482758621,
          0.8275862068965517,
          0.8333333333333333,
          0.8620689655172413,
          0.8888888888888888,
          0.896551724137931,
          0.9310344827586207,
          0.9444444444444444,
          0.9655172413793103,
          1
         ],
         "xaxis": "x3",
         "y": [
          0.8097560975609757,
          0.8126016260162601,
          0.8138211382113821,
          0.8121951219512195,
          0.8109756097560975,
          0.8126016260162601,
          0.8134146341463415,
          0.8105691056910569,
          0.8121951219512195,
          0.8130081300813009,
          0.8134146341463415,
          0.8109756097560975,
          0.8073170731707316,
          0.8117886178861788,
          0.8117886178861788,
          0.8134146341463415,
          0.8093495934959349,
          0.8150406504065041,
          0.8081300813008131,
          0.8130081300813009,
          0.8117886178861788,
          0.8134146341463415,
          0.8150406504065041,
          0.8109756097560975,
          0.8109756097560975,
          0.8150406504065041,
          0.8138211382113821,
          0.8117886178861788,
          0.8126016260162603,
          0.8126016260162603,
          0.8101626016260163,
          0.8150406504065041,
          0.8113821138211381,
          0.8109756097560975,
          0.8101626016260163,
          0.8142276422764227,
          0.8109756097560977,
          0.8134146341463415,
          0.8123983739837399
         ],
         "yaxis": "y3"
        },
        {
         "error_y": {
          "array": [
           0.00611785241597253,
           0.006629880662723594,
           0.00745688468611552,
           0.006343287209076087,
           0.005468952864664103,
           0.006535746012525806,
           0.007288789055707754,
           0.0068142498431870814,
           0.0073733159135028585,
           0.007070132980051261,
           0.0065040650406504,
           0.005911804704166255,
           0.0076967870848623715,
           0.006343287209076124,
           0.005911804704166246,
           0.007174537640131211,
           0.007081809508205015,
           0.0068505282708750965,
           0.00562534654597481,
           0.006343287209076111,
           0.006542063796516678,
           0.006880614178784867,
           0.0061178524159725065,
           0.006151522744073812,
           0.006789956540036604,
           0.0061448034381426575,
           0.006722697320545233,
           0.006218316479991205,
           0.0070818095082050125,
           0.008439243695945805,
           0.007755603263552423,
           0.006667162384901087,
           0.0067716793694949885,
           0.005841507261463366,
           0.007819261813687533,
           0.0064913493588094765,
           0.0077021525697139725,
           0.0077502747824949505,
           0.006147044022880069
          ]
         },
         "hovertemplate": "strategy_json={\"epsilon\":8.0,\"theta\":null}<br>strategy=randomized_response<br>detection_tpr=%{x}<br>min_conditional_accuracy=%{y}<extra></extra>",
         "legendgroup": "{\"epsilon\":8.0,\"theta\":null}",
         "line": {
          "color": "#FF6692",
          "dash": "solid"
         },
         "marker": {
          "symbol": "circle"
         },
         "mode": "lines",
         "name": "{\"epsilon\":8.0,\"theta\":null}",
         "orientation": "v",
         "showlegend": true,
         "type": "scatter",
         "x": [
          0,
          0.034482758620689655,
          0.06896551724137931,
          0.10344827586206896,
          0.13793103448275862,
          0.1724137931034483,
          0.20689655172413793,
          0.24137931034482757,
          0.27586206896551724,
          0.3103448275862069,
          0.3448275862068966,
          0.3793103448275862,
          0.41379310344827586,
          0.4482758620689655,
          0.48275862068965514,
          0.5,
          0.5172413793103449,
          0.5517241379310345,
          0.5555555555555556,
          0.5862068965517241,
          0.6111111111111112,
          0.6206896551724138,
          0.6551724137931034,
          0.6666666666666666,
          0.6896551724137931,
          0.7222222222222222,
          0.7241379310344828,
          0.7586206896551724,
          0.7777777777777778,
          0.7931034482758621,
          0.8275862068965517,
          0.8333333333333333,
          0.8620689655172413,
          0.8888888888888888,
          0.896551724137931,
          0.9310344827586207,
          0.9444444444444444,
          0.9655172413793103,
          1
         ],
         "xaxis": "x2",
         "y": [
          0.8142276422764227,
          0.8105691056910569,
          0.8121951219512196,
          0.8113821138211381,
          0.8113821138211381,
          0.8105691056910569,
          0.8121951219512195,
          0.8146341463414635,
          0.8101626016260163,
          0.8130081300813009,
          0.8146341463414632,
          0.8117886178861788,
          0.8113821138211381,
          0.8154471544715447,
          0.8142276422764227,
          0.8081300813008131,
          0.8146341463414632,
          0.8142276422764227,
          0.8121951219512195,
          0.8134146341463413,
          0.8117886178861788,
          0.811788617886179,
          0.8138211382113821,
          0.8142276422764227,
          0.8158536585365855,
          0.8146341463414635,
          0.8134146341463413,
          0.8142276422764227,
          0.8126016260162601,
          0.8154471544715447,
          0.8121951219512195,
          0.8142276422764227,
          0.8130081300813007,
          0.8138211382113821,
          0.8109756097560975,
          0.8150406504065041,
          0.8142276422764227,
          0.8126016260162601,
          0.8126016260162601
         ],
         "yaxis": "y2"
        },
        {
         "error_y": {
          "array": [
           0.010134106392128393,
           0.00875164639902885,
           0.009389275985732597,
           0.010174789439661667,
           0.010990655150077838,
           0.009734902451079724,
           0.008892131241555827,
           0.008798723911346899,
           0.009717913079578802,
           0.011158518074236422,
           0.009327474719986831,
           0.009424409040137919,
           0.009393674803488898,
           0.0076967870848624045,
           0.009035004378411744,
           0.00986138981358388,
           0.010375812209837592,
           0.010011065330101427,
           0.0076429250719362634,
           0.010170728457883546,
           0.008938468872884534,
           0.009256339460760704,
           0.009865578129684223,
           0.01070889420513779,
           0.00725470255998972,
           0.011629853252780466,
           0.0105495441238707,
           0.009886493095134388,
           0.008216009321710465,
           0.009389275985732594,
           0.010804905577237421,
           0.007456884686115488,
           0.009683844918350877,
           0.010303895817590716,
           0.010243579811670055,
           0.008919962706297458,
           0.007116724146346184,
           0.00954635655757509,
           0.009170649220896658
          ]
         },
         "hovertemplate": "strategy_json={\"epsilon\":null,\"theta\":0.6}<br>strategy=ROC_mitigation<br>detection_tpr=%{x}<br>min_conditional_accuracy=%{y}<extra></extra>",
         "legendgroup": "{\"epsilon\":null,\"theta\":0.6}",
         "line": {
          "color": "#B6E880",
          "dash": "solid"
         },
         "marker": {
          "symbol": "circle"
         },
         "mode": "lines",
         "name": "{\"epsilon\":null,\"theta\":0.6}",
         "orientation": "v",
         "showlegend": true,
         "type": "scatter",
         "x": [
          0,
          0.034482758620689655,
          0.06896551724137931,
          0.10344827586206896,
          0.13793103448275862,
          0.1724137931034483,
          0.20689655172413793,
          0.24137931034482757,
          0.27586206896551724,
          0.3103448275862069,
          0.3448275862068966,
          0.3793103448275862,
          0.41379310344827586,
          0.4482758620689655,
          0.48275862068965514,
          0.5,
          0.5172413793103449,
          0.5517241379310345,
          0.5555555555555556,
          0.5862068965517241,
          0.6111111111111112,
          0.6206896551724138,
          0.6551724137931034,
          0.6666666666666666,
          0.6896551724137931,
          0.7222222222222222,
          0.7241379310344828,
          0.7586206896551724,
          0.7777777777777778,
          0.7931034482758621,
          0.8275862068965517,
          0.8333333333333333,
          0.8620689655172413,
          0.8888888888888888,
          0.896551724137931,
          0.9310344827586207,
          0.9444444444444444,
          0.9655172413793103,
          1
         ],
         "xaxis": "x3",
         "y": [
          0.8097560975609757,
          0.8093495934959349,
          0.8126016260162603,
          0.8081300813008131,
          0.8105691056910569,
          0.8093495934959349,
          0.8093495934959348,
          0.8093495934959349,
          0.8117886178861788,
          0.8093495934959349,
          0.8101626016260163,
          0.8109756097560975,
          0.8097560975609757,
          0.8146341463414635,
          0.8101626016260163,
          0.8093495934959349,
          0.8121951219512196,
          0.8117886178861788,
          0.8126016260162601,
          0.8105691056910569,
          0.8154471544715449,
          0.8134146341463415,
          0.8101626016260163,
          0.8121951219512196,
          0.8093495934959349,
          0.8126016260162603,
          0.8105691056910569,
          0.8121951219512196,
          0.8113821138211381,
          0.8126016260162603,
          0.8081300813008131,
          0.8097560975609757,
          0.8130081300813009,
          0.8130081300813009,
          0.8109756097560975,
          0.8117886178861788,
          0.8081300813008131,
          0.8101626016260163,
          0.8136178861788619
         ],
         "yaxis": "y3"
        },
        {
         "error_y": {
          "array": [
           0.0038241641711842926,
           0.005748835619402834,
           0.007412431922280701,
           0.006510413568311767,
           0.007243304748457479,
           0.004214723852302387,
           0.004572041414309728,
           0.007110916944933293,
           0.006478608719719197,
           0.007588680773412392,
           0.006648547656014696,
           0.006185009778334532,
           0.00711091694493328,
           0.005338994120554348,
           0.005181930399992667,
           0.0046080422962417305,
           0.005581109844612212,
           0.006343287209076087,
           0.007686044878532105,
           0.005691056910569099,
           0.005748835619402861,
           0.006940394747546306,
           0.007456884686115514,
           0.0046348594516224684,
           0.006993760379709457,
           0.0052610484168881385,
           0.00666096325535526,
           0.005581109844612182,
           0.00634979648447696,
           0.006063591012266786,
           0.005820252464746472,
           0.006904588516854908,
           0.007367710959508874,
           0.006648547656014678,
           0.006573561637722035,
           0.006964163292281223,
           0.0060157108077027385,
           0.0058202524647464815,
           0.006925829370007071
          ]
         },
         "hovertemplate": "strategy_json={\"epsilon\":null,\"theta\":0.43333333333333335}<br>strategy=ROC_mitigation<br>detection_tpr=%{x}<br>min_conditional_accuracy=%{y}<extra></extra>",
         "legendgroup": "{\"epsilon\":null,\"theta\":0.43333333333333335}",
         "line": {
          "color": "#FF97FF",
          "dash": "solid"
         },
         "marker": {
          "symbol": "circle"
         },
         "mode": "lines",
         "name": "{\"epsilon\":null,\"theta\":0.43333333333333335}",
         "orientation": "v",
         "showlegend": true,
         "type": "scatter",
         "x": [
          0,
          0.034482758620689655,
          0.06896551724137931,
          0.10344827586206896,
          0.13793103448275862,
          0.1724137931034483,
          0.20689655172413793,
          0.24137931034482757,
          0.27586206896551724,
          0.3103448275862069,
          0.3448275862068966,
          0.3793103448275862,
          0.41379310344827586,
          0.4482758620689655,
          0.48275862068965514,
          0.5,
          0.5172413793103449,
          0.5517241379310345,
          0.5555555555555556,
          0.5862068965517241,
          0.6111111111111112,
          0.6206896551724138,
          0.6551724137931034,
          0.6666666666666666,
          0.6896551724137931,
          0.7222222222222222,
          0.7241379310344828,
          0.7586206896551724,
          0.7777777777777778,
          0.7931034482758621,
          0.8275862068965517,
          0.8333333333333333,
          0.8620689655172413,
          0.8888888888888888,
          0.896551724137931,
          0.9310344827586207,
          0.9444444444444444,
          0.9655172413793103,
          1
         ],
         "xaxis": "x3",
         "y": [
          0.8134146341463415,
          0.8109756097560975,
          0.8130081300813009,
          0.8117886178861788,
          0.8130081300813009,
          0.8130081300813007,
          0.8138211382113821,
          0.8126016260162603,
          0.8158536585365853,
          0.8113821138211381,
          0.8150406504065041,
          0.8097560975609757,
          0.8126016260162603,
          0.8109756097560975,
          0.8150406504065041,
          0.8166666666666667,
          0.8126016260162601,
          0.8113821138211381,
          0.8130081300813009,
          0.8146341463414635,
          0.8130081300813009,
          0.8142276422764227,
          0.8101626016260163,
          0.8130081300813009,
          0.8126016260162601,
          0.8130081300813007,
          0.8146341463414635,
          0.8126016260162601,
          0.8121951219512195,
          0.8109756097560975,
          0.8109756097560975,
          0.8113821138211381,
          0.8134146341463415,
          0.8130081300813009,
          0.8142276422764227,
          0.8126016260162601,
          0.8158536585365853,
          0.8130081300813007,
          0.8119918699186991
         ],
         "yaxis": "y3"
        },
        {
         "error_y": {
          "array": [
           0.005734445520189377,
           0.006144803438142667,
           0.006510413568311762,
           0.0055662861535077665,
           0.0059396907301636015,
           0.007561412698267606,
           0.006164939385407761,
           0.006077201783628467,
           0.004661522333812897,
           0.008584842309732887,
           0.005995073660062029,
           0.006043117376958758,
           0.00562534654597483,
           0.007456884686115522,
           0.00742357006819091,
           0.006472228995158795,
           0.006523092087756579,
           0.00602942966430541,
           0.00628440033891882,
           0.00628440033891882,
           0.007052581940202247,
           0.005581109844612176,
           0.005661946454139883,
           0.006535746012525839,
           0.005581109844612202,
           0.007456884686115518,
           0.005834430932685924,
           0.006251445731394178,
           0.006218316479991189,
           0.005468952864664089,
           0.006185009778334531,
           0.005581109844612166,
           0.005911804704166243,
           0.005698311288161062,
           0.006008839633778244,
           0.006535746012525817,
           0.006667162384901089,
           0.0058556342645885795,
           0.006260250588900555
          ]
         },
         "hovertemplate": "strategy_json={\"epsilon\":10.0,\"theta\":null}<br>strategy=randomized_response<br>detection_tpr=%{x}<br>min_conditional_accuracy=%{y}<extra></extra>",
         "legendgroup": "{\"epsilon\":10.0,\"theta\":null}",
         "line": {
          "color": "#FECB52",
          "dash": "solid"
         },
         "marker": {
          "symbol": "circle"
         },
         "mode": "lines",
         "name": "{\"epsilon\":10.0,\"theta\":null}",
         "orientation": "v",
         "showlegend": true,
         "type": "scatter",
         "x": [
          0,
          0.034482758620689655,
          0.06896551724137931,
          0.10344827586206896,
          0.13793103448275862,
          0.1724137931034483,
          0.20689655172413793,
          0.24137931034482757,
          0.27586206896551724,
          0.3103448275862069,
          0.3448275862068966,
          0.3793103448275862,
          0.41379310344827586,
          0.4482758620689655,
          0.48275862068965514,
          0.5,
          0.5172413793103449,
          0.5517241379310345,
          0.5555555555555556,
          0.5862068965517241,
          0.6111111111111112,
          0.6206896551724138,
          0.6551724137931034,
          0.6666666666666666,
          0.6896551724137931,
          0.7222222222222222,
          0.7241379310344828,
          0.7586206896551724,
          0.7777777777777778,
          0.7931034482758621,
          0.8275862068965517,
          0.8333333333333333,
          0.8620689655172413,
          0.8888888888888888,
          0.896551724137931,
          0.9310344827586207,
          0.9444444444444444,
          0.9655172413793103,
          1
         ],
         "xaxis": "x2",
         "y": [
          0.8117886178861788,
          0.8126016260162601,
          0.8121951219512195,
          0.8150406504065041,
          0.8146341463414632,
          0.8134146341463413,
          0.8130081300813007,
          0.8146341463414635,
          0.8101626016260163,
          0.8126016260162601,
          0.8150406504065041,
          0.8146341463414632,
          0.8117886178861788,
          0.8101626016260163,
          0.8154471544715447,
          0.8154471544715447,
          0.8130081300813009,
          0.8170731707317074,
          0.813821138211382,
          0.813821138211382,
          0.8093495934959349,
          0.8105691056910569,
          0.8162601626016261,
          0.8134146341463415,
          0.8113821138211381,
          0.8121951219512195,
          0.8134146341463415,
          0.8117886178861788,
          0.8117886178861788,
          0.8134146341463415,
          0.811788617886179,
          0.8134146341463413,
          0.8142276422764227,
          0.8121951219512195,
          0.8134146341463415,
          0.8113821138211381,
          0.8142276422764227,
          0.8130081300813007,
          0.8128048780487805
         ],
         "yaxis": "y2"
        },
        {
         "error_y": {
          "array": [
           0.006783869621251461,
           0.0060839957508519605,
           0.005855634264588599,
           0.007345248373818172,
           0.006478608719719189,
           0.007808688094430314,
           0.005237438506798828,
           0.005841507261463391,
           0.006629880662723607,
           0.007345248373818152,
           0.0070291123844676996,
           0.006349796484476922,
           0.005362156893606872,
           0.006940394747546268,
           0.008079108501769001,
           0.007023232741126424,
           0.005392885837976254,
           0.0069344398818016045,
           0.006211669426803277,
           0.007243304748457467,
           0.005798919763287463,
           0.007271765780487114,
           0.006753352734079732,
           0.006964163292281223,
           0.005566286153507796,
           0.006535746012525818,
           0.006722697320545202,
           0.006049949620380973,
           0.007523071350943786,
           0.007739606814902359,
           0.0068444952197084345,
           0.005085364228941807,
           0.0057846542564055515,
           0.0068444952197084345,
           0.007110916944933293,
           0.005392885837976238,
           0.007523071350943793,
           0.005261048416888133,
           0.006280016382794828
          ]
         },
         "hovertemplate": "strategy_json={\"epsilon\":null,\"theta\":0.5}<br>strategy=ROC_mitigation<br>detection_tpr=%{x}<br>min_conditional_accuracy=%{y}<extra></extra>",
         "legendgroup": "{\"epsilon\":null,\"theta\":0.5}",
         "line": {
          "color": "#636efa",
          "dash": "solid"
         },
         "marker": {
          "symbol": "circle"
         },
         "mode": "lines",
         "name": "{\"epsilon\":null,\"theta\":0.5}",
         "orientation": "v",
         "showlegend": true,
         "type": "scatter",
         "x": [
          0,
          0.034482758620689655,
          0.06896551724137931,
          0.10344827586206896,
          0.13793103448275862,
          0.1724137931034483,
          0.20689655172413793,
          0.24137931034482757,
          0.27586206896551724,
          0.3103448275862069,
          0.3448275862068966,
          0.3793103448275862,
          0.41379310344827586,
          0.4482758620689655,
          0.48275862068965514,
          0.5,
          0.5172413793103449,
          0.5517241379310345,
          0.5555555555555556,
          0.5862068965517241,
          0.6111111111111112,
          0.6206896551724138,
          0.6551724137931034,
          0.6666666666666666,
          0.6896551724137931,
          0.7222222222222222,
          0.7241379310344828,
          0.7586206896551724,
          0.7777777777777778,
          0.7931034482758621,
          0.8275862068965517,
          0.8333333333333333,
          0.8620689655172413,
          0.8888888888888888,
          0.896551724137931,
          0.9310344827586207,
          0.9444444444444444,
          0.9655172413793103,
          1
         ],
         "xaxis": "x3",
         "y": [
          0.8134146341463415,
          0.811788617886179,
          0.8109756097560975,
          0.8097560975609757,
          0.8138211382113821,
          0.8117886178861788,
          0.8134146341463415,
          0.813821138211382,
          0.8126016260162601,
          0.8121951219512195,
          0.8117886178861788,
          0.8142276422764227,
          0.8121951219512195,
          0.8121951219512195,
          0.8130081300813009,
          0.8134146341463415,
          0.8146341463414632,
          0.8113821138211381,
          0.8146341463414635,
          0.8130081300813009,
          0.8113821138211381,
          0.8150406504065041,
          0.8105691056910569,
          0.8146341463414635,
          0.8130081300813009,
          0.8113821138211381,
          0.8146341463414635,
          0.8162601626016261,
          0.8089430894308943,
          0.8130081300813007,
          0.8105691056910569,
          0.8117886178861788,
          0.8130081300813007,
          0.8126016260162603,
          0.8134146341463415,
          0.8146341463414635,
          0.8150406504065041,
          0.8109756097560975,
          0.8134146341463413
         ],
         "yaxis": "y3"
        },
        {
         "error_y": {
          "array": [
           0.007835095637153,
           0.007412431922280686,
           0.005981276003887061,
           0.005960519633583405,
           0.007070132980051269,
           0.004740611296622172,
           0.005946641804198294,
           0.006880614178784872,
           0.0076483283423685955,
           0.006185009778334519,
           0.005165961393145832,
           0.006008839633778259,
           0.005506592351278074,
           0.007243304748457485,
           0.005763189788112962,
           0.0056765203429955235,
           0.007081809508205006,
           0.005085364228941776,
           0.007456884686115494,
           0.006111096088769463,
           0.005276729669002929,
           0.006789956540036613,
           0.008365494157421405,
           0.006151522744073804,
           0.006382243279718551,
           0.006427393618228414,
           0.006117852415972511,
           0.006151522744073798,
           0.006144803438142664,
           0.004920210746711467,
           0.0067594671334617416,
           0.006198353935762985,
           0.0047231504222041976,
           0.006478608719719184,
           0.0061515227440738195,
           0.0060499496203809565,
           0.007776880678743493,
           0.006862578461843153,
           0.005659513823972105
          ]
         },
         "hovertemplate": "strategy_json={\"epsilon\":null,\"theta\":0.3333333333333333}<br>strategy=ROC_mitigation<br>detection_tpr=%{x}<br>min_conditional_accuracy=%{y}<extra></extra>",
         "legendgroup": "{\"epsilon\":null,\"theta\":0.3333333333333333}",
         "line": {
          "color": "#EF553B",
          "dash": "solid"
         },
         "marker": {
          "symbol": "circle"
         },
         "mode": "lines",
         "name": "{\"epsilon\":null,\"theta\":0.3333333333333333}",
         "orientation": "v",
         "showlegend": true,
         "type": "scatter",
         "x": [
          0,
          0.034482758620689655,
          0.06896551724137931,
          0.10344827586206896,
          0.13793103448275862,
          0.1724137931034483,
          0.20689655172413793,
          0.24137931034482757,
          0.27586206896551724,
          0.3103448275862069,
          0.3448275862068966,
          0.3793103448275862,
          0.41379310344827586,
          0.4482758620689655,
          0.48275862068965514,
          0.5,
          0.5172413793103449,
          0.5517241379310345,
          0.5555555555555556,
          0.5862068965517241,
          0.6111111111111112,
          0.6206896551724138,
          0.6551724137931034,
          0.6666666666666666,
          0.6896551724137931,
          0.7222222222222222,
          0.7241379310344828,
          0.7586206896551724,
          0.7777777777777778,
          0.7931034482758621,
          0.8275862068965517,
          0.8333333333333333,
          0.8620689655172413,
          0.8888888888888888,
          0.896551724137931,
          0.9310344827586207,
          0.9444444444444444,
          0.9655172413793103,
          1
         ],
         "xaxis": "x3",
         "y": [
          0.8142276422764227,
          0.8170731707317074,
          0.8121951219512195,
          0.8150406504065041,
          0.8130081300813007,
          0.8126016260162603,
          0.8162601626016259,
          0.8121951219512195,
          0.8121951219512195,
          0.8138211382113821,
          0.8158536585365853,
          0.8134146341463413,
          0.8126016260162601,
          0.8150406504065041,
          0.8113821138211381,
          0.8130081300813009,
          0.8154471544715447,
          0.8142276422764227,
          0.8117886178861788,
          0.8126016260162601,
          0.8113821138211381,
          0.8121951219512195,
          0.8113821138211381,
          0.8117886178861788,
          0.8158536585365853,
          0.8130081300813009,
          0.8121951219512195,
          0.8162601626016259,
          0.8113821138211381,
          0.8138211382113821,
          0.8138211382113821,
          0.8150406504065039,
          0.8109756097560975,
          0.8158536585365855,
          0.8142276422764227,
          0.8117886178861788,
          0.8105691056910569,
          0.8109756097560975,
          0.813211382113821
         ],
         "yaxis": "y3"
        },
        {
         "error_y": {
          "array": [
           0.006151522744073793,
           0.007110916944933265,
           0.006573561637722056,
           0.00669190147689201,
           0.00604994962038096,
           0.00644664696225759,
           0.0048780487804878075,
           0.0074235700681909425,
           0.00580603937279905,
           0.007116724146346187,
           0.0073114251010589085,
           0.006185009778334549,
           0.004572041414309763,
           0.0063497964844769494,
           0.006251445731394182,
           0.006783869621251497,
           0.007243304748457487,
           0.007029112384467739,
           0.00543105252678348,
           0.006097560975609753,
           0.006277823256699379,
           0.0067103959427720185,
           0.006043117376958752,
           0.006244833941356563,
           0.0062116694268032945,
           0.005770353482348939,
           0.006144803438142668,
           0.007288789055707768,
           0.006185009778334537,
           0.00618500977833453,
           0.006185009778334544,
           0.005261048416888116,
           0.007702152569713993,
           0.006710395942772031,
           0.0058556342645886056,
           0.004869572581589834,
           0.006414525950430714,
           0.007157242626690661,
           0.006209452161186769
          ]
         },
         "hovertemplate": "strategy_json={\"epsilon\":null,\"theta\":0.4666666666666667}<br>strategy=ROC_mitigation<br>detection_tpr=%{x}<br>min_conditional_accuracy=%{y}<extra></extra>",
         "legendgroup": "{\"epsilon\":null,\"theta\":0.4666666666666667}",
         "line": {
          "color": "#00cc96",
          "dash": "solid"
         },
         "marker": {
          "symbol": "circle"
         },
         "mode": "lines",
         "name": "{\"epsilon\":null,\"theta\":0.4666666666666667}",
         "orientation": "v",
         "showlegend": true,
         "type": "scatter",
         "x": [
          0,
          0.034482758620689655,
          0.06896551724137931,
          0.10344827586206896,
          0.13793103448275862,
          0.1724137931034483,
          0.20689655172413793,
          0.24137931034482757,
          0.27586206896551724,
          0.3103448275862069,
          0.3448275862068966,
          0.3793103448275862,
          0.41379310344827586,
          0.4482758620689655,
          0.48275862068965514,
          0.5,
          0.5172413793103449,
          0.5517241379310345,
          0.5555555555555556,
          0.5862068965517241,
          0.6111111111111112,
          0.6206896551724138,
          0.6551724137931034,
          0.6666666666666666,
          0.6896551724137931,
          0.7222222222222222,
          0.7241379310344828,
          0.7586206896551724,
          0.7777777777777778,
          0.7931034482758621,
          0.8275862068965517,
          0.8333333333333333,
          0.8620689655172413,
          0.8888888888888888,
          0.896551724137931,
          0.9310344827586207,
          0.9444444444444444,
          0.9655172413793103,
          1
         ],
         "xaxis": "x3",
         "y": [
          0.8101626016260163,
          0.8134146341463415,
          0.8142276422764226,
          0.8154471544715447,
          0.8142276422764227,
          0.8117886178861788,
          0.8142276422764227,
          0.8126016260162601,
          0.8121951219512196,
          0.8142276422764227,
          0.8146341463414635,
          0.8158536585365853,
          0.8162601626016259,
          0.8142276422764226,
          0.8121951219512195,
          0.8105691056910569,
          0.8109756097560975,
          0.813821138211382,
          0.8126016260162603,
          0.8130081300813007,
          0.8126016260162603,
          0.8150406504065041,
          0.8134146341463415,
          0.8126016260162601,
          0.8126016260162601,
          0.8101626016260163,
          0.8126016260162601,
          0.8121951219512196,
          0.8101626016260163,
          0.8121951219512195,
          0.813821138211382,
          0.8130081300813009,
          0.8117886178861788,
          0.8130081300813007,
          0.8130081300813007,
          0.8113821138211381,
          0.8121951219512196,
          0.8130081300813007,
          0.8109756097560975
         ],
         "yaxis": "y3"
        },
        {
         "error_y": {
          "array": [
           0.0068021140368624,
           0.00696416329228124,
           0.006008839633778254,
           0.006446646962257582,
           0.006008839633778233,
           0.006264648377000988,
           0.00644664696225761,
           0.006008839633778219,
           0.0074235700681909225,
           0.006131342735365188,
           0.007203270384824952,
           0.006375767130633377,
           0.006783869621251462,
           0.005784654256405563,
           0.006008839633778233,
           0.005617997951660677,
           0.005841507261463357,
           0.005514089417175026,
           0.004705624757231808,
           0.0068021140368624,
           0.006459450643118169,
           0.006586118595942947,
           0.0061110960887694535,
           0.005727236912034726,
           0.006940394747546284,
           0.006970092764017163,
           0.005036386867221071,
           0.007139905719613922,
           0.006970092764017173,
           0.005946641804198304,
           0.00618500977833451,
           0.006083995750851955,
           0.007317073170731717,
           0.005727236912034719,
           0.00762127368262305,
           0.007099288291289816,
           0.005981276003887061,
           0.007128324356402488,
           0.006640948918614007
          ]
         },
         "hovertemplate": "strategy_json={\"epsilon\":9.0,\"theta\":null}<br>strategy=randomized_response<br>detection_tpr=%{x}<br>min_conditional_accuracy=%{y}<extra></extra>",
         "legendgroup": "{\"epsilon\":9.0,\"theta\":null}",
         "line": {
          "color": "#ab63fa",
          "dash": "solid"
         },
         "marker": {
          "symbol": "circle"
         },
         "mode": "lines",
         "name": "{\"epsilon\":9.0,\"theta\":null}",
         "orientation": "v",
         "showlegend": true,
         "type": "scatter",
         "x": [
          0,
          0.034482758620689655,
          0.06896551724137931,
          0.10344827586206896,
          0.13793103448275862,
          0.1724137931034483,
          0.20689655172413793,
          0.24137931034482757,
          0.27586206896551724,
          0.3103448275862069,
          0.3448275862068966,
          0.3793103448275862,
          0.41379310344827586,
          0.4482758620689655,
          0.48275862068965514,
          0.5,
          0.5172413793103449,
          0.5517241379310345,
          0.5555555555555556,
          0.5862068965517241,
          0.6111111111111112,
          0.6206896551724138,
          0.6551724137931034,
          0.6666666666666666,
          0.6896551724137931,
          0.7222222222222222,
          0.7241379310344828,
          0.7586206896551724,
          0.7777777777777778,
          0.7931034482758621,
          0.8275862068965517,
          0.8333333333333333,
          0.8620689655172413,
          0.8888888888888888,
          0.896551724137931,
          0.9310344827586207,
          0.9444444444444444,
          0.9655172413793103,
          1
         ],
         "xaxis": "x2",
         "y": [
          0.8150406504065041,
          0.8113821138211381,
          0.8154471544715447,
          0.8138211382113821,
          0.8093495934959349,
          0.8150406504065041,
          0.8142276422764227,
          0.8154471544715449,
          0.8113821138211381,
          0.8130081300813009,
          0.8121951219512195,
          0.8126016260162601,
          0.8146341463414635,
          0.8130081300813007,
          0.8146341463414635,
          0.8146341463414635,
          0.8138211382113821,
          0.8117886178861788,
          0.8121951219512195,
          0.8170731707317073,
          0.8150406504065041,
          0.8130081300813009,
          0.8146341463414635,
          0.8134146341463413,
          0.8121951219512195,
          0.8117886178861788,
          0.8126016260162601,
          0.8126016260162603,
          0.8142276422764227,
          0.8117886178861788,
          0.8117886178861788,
          0.813821138211382,
          0.8121951219512195,
          0.8134146341463415,
          0.8117886178861788,
          0.8089430894308943,
          0.811788617886179,
          0.8130081300813007,
          0.8117886178861788
         ],
         "yaxis": "y2"
        },
        {
         "error_y": {
          "array": [
           0.006617406746381999,
           0.0056546454240827574,
           0.0064722289951587835,
           0.006820309648602632,
           0.006446646962257587,
           0.005770353482348966,
           0.00690458851685488,
           0.00744024602346469,
           0.00694039474754628,
           0.005770353482348934,
           0.007451342593424122,
           0.006414525950430673,
           0.006317183035739851,
           0.003909630906843766,
           0.005476501457442059,
           0.006535746012525812,
           0.006264648377000978,
           0.006117852415972507,
           0.006660963255355258,
           0.006722697320545222,
           0.005117755411387865,
           0.00657356163772203,
           0.006317183035739851,
           0.007226174323020818,
           0.00716877727176765,
           0.006349796484476957,
           0.00578465425640558,
           0.007311425101058938,
           0.005727236912034686,
           0.005506592351278063,
           0.006504065040650413,
           0.00723188897343786,
           0.005400540754303407,
           0.006844495219708457,
           0.0058415072614633815,
           0.007081809508204992,
           0.006904588516854865,
           0.007950246835612991,
           0.006638875026224311
          ]
         },
         "hovertemplate": "strategy_json={\"epsilon\":null,\"theta\":0.36666666666666664}<br>strategy=ROC_mitigation<br>detection_tpr=%{x}<br>min_conditional_accuracy=%{y}<extra></extra>",
         "legendgroup": "{\"epsilon\":null,\"theta\":0.36666666666666664}",
         "line": {
          "color": "#FFA15A",
          "dash": "solid"
         },
         "marker": {
          "symbol": "circle"
         },
         "mode": "lines",
         "name": "{\"epsilon\":null,\"theta\":0.36666666666666664}",
         "orientation": "v",
         "showlegend": true,
         "type": "scatter",
         "x": [
          0,
          0.034482758620689655,
          0.06896551724137931,
          0.10344827586206896,
          0.13793103448275862,
          0.1724137931034483,
          0.20689655172413793,
          0.24137931034482757,
          0.27586206896551724,
          0.3103448275862069,
          0.3448275862068966,
          0.3793103448275862,
          0.41379310344827586,
          0.4482758620689655,
          0.48275862068965514,
          0.5,
          0.5172413793103449,
          0.5517241379310345,
          0.5555555555555556,
          0.5862068965517241,
          0.6111111111111112,
          0.6206896551724138,
          0.6551724137931034,
          0.6666666666666666,
          0.6896551724137931,
          0.7222222222222222,
          0.7241379310344828,
          0.7586206896551724,
          0.7777777777777778,
          0.7931034482758621,
          0.8275862068965517,
          0.8333333333333333,
          0.8620689655172413,
          0.8888888888888888,
          0.896551724137931,
          0.9310344827586207,
          0.9444444444444444,
          0.9655172413793103,
          1
         ],
         "xaxis": "x3",
         "y": [
          0.8130081300813007,
          0.8113821138211381,
          0.8113821138211381,
          0.8158536585365853,
          0.8117886178861788,
          0.8117886178861788,
          0.8126016260162603,
          0.8130081300813009,
          0.8121951219512195,
          0.8162601626016259,
          0.8113821138211381,
          0.8142276422764227,
          0.8117886178861788,
          0.8109756097560975,
          0.8142276422764226,
          0.8113821138211381,
          0.8130081300813007,
          0.8138211382113821,
          0.8134146341463413,
          0.8146341463414632,
          0.8134146341463415,
          0.8117886178861788,
          0.8117886178861788,
          0.8146341463414635,
          0.8126016260162601,
          0.811788617886179,
          0.8150406504065041,
          0.8126016260162601,
          0.8093495934959349,
          0.8134146341463415,
          0.8146341463414632,
          0.8138211382113821,
          0.8142276422764227,
          0.8113821138211381,
          0.8101626016260163,
          0.8113821138211381,
          0.8134146341463413,
          0.8109756097560975,
          0.8136178861788619
         ],
         "yaxis": "y3"
        },
        {
         "error_y": {
          "array": [
           0.005165961393145865,
           0.0058344309326858945,
           0.00606359101226681,
           0.005157958349776228,
           0.00689261177146876,
           0.00571279240754276,
           0.00841473233515628,
           0.006251445731394143,
           0.007512080736819632,
           0.005323496281995419,
           0.0063757671306333835,
           0.005876761095447553,
           0.008094434045422712,
           0.006218316479991181,
           0.0065735616377220136,
           0.006151522744073783,
           0.0052374385067988265,
           0.006459450643118186,
           0.007506579395373726,
           0.006251445731394182,
           0.006904588516854902,
           0.00659865165884061,
           0.007099288291289847,
           0.005323496281995449,
           0.0061448034381426575,
           0.006317183035739876,
           0.00604311737695875,
           0.005431052526783501,
           0.00624483394135659,
           0.00469683740174441,
           0.006375767130633377,
           0.006874607530604774,
           0.006636108828176623,
           0.005770353482348915,
           0.0065230920877565966,
           0.007456884686115494,
           0.00666096325535523,
           0.006310640120430922,
           0.006767611072720752
          ]
         },
         "hovertemplate": "strategy_json={\"epsilon\":7.0,\"theta\":null}<br>strategy=randomized_response<br>detection_tpr=%{x}<br>min_conditional_accuracy=%{y}<extra></extra>",
         "legendgroup": "{\"epsilon\":7.0,\"theta\":null}",
         "line": {
          "color": "#19d3f3",
          "dash": "solid"
         },
         "marker": {
          "symbol": "circle"
         },
         "mode": "lines",
         "name": "{\"epsilon\":7.0,\"theta\":null}",
         "orientation": "v",
         "showlegend": true,
         "type": "scatter",
         "x": [
          0,
          0.034482758620689655,
          0.06896551724137931,
          0.10344827586206896,
          0.13793103448275862,
          0.1724137931034483,
          0.20689655172413793,
          0.24137931034482757,
          0.27586206896551724,
          0.3103448275862069,
          0.3448275862068966,
          0.3793103448275862,
          0.41379310344827586,
          0.4482758620689655,
          0.48275862068965514,
          0.5,
          0.5172413793103449,
          0.5517241379310345,
          0.5555555555555556,
          0.5862068965517241,
          0.6111111111111112,
          0.6206896551724138,
          0.6551724137931034,
          0.6666666666666666,
          0.6896551724137931,
          0.7222222222222222,
          0.7241379310344828,
          0.7586206896551724,
          0.7777777777777778,
          0.7931034482758621,
          0.8275862068965517,
          0.8333333333333333,
          0.8620689655172413,
          0.8888888888888888,
          0.896551724137931,
          0.9310344827586207,
          0.9444444444444444,
          0.9655172413793103,
          1
         ],
         "xaxis": "x2",
         "y": [
          0.8142276422764226,
          0.8154471544715447,
          0.8130081300813009,
          0.8134146341463413,
          0.8150406504065041,
          0.8150406504065041,
          0.8146341463414635,
          0.8121951219512195,
          0.8121951219512195,
          0.8142276422764227,
          0.8134146341463413,
          0.8121951219512195,
          0.8121951219512195,
          0.8138211382113821,
          0.811788617886179,
          0.8101626016260163,
          0.8126016260162601,
          0.8109756097560975,
          0.8126016260162603,
          0.8158536585365853,
          0.8105691056910569,
          0.8146341463414635,
          0.8109756097560975,
          0.8121951219512195,
          0.8166666666666667,
          0.8117886178861788,
          0.8146341463414635,
          0.8105691056910569,
          0.8113821138211381,
          0.8126016260162603,
          0.8113821138211381,
          0.8146341463414635,
          0.8121951219512196,
          0.8142276422764227,
          0.8150406504065039,
          0.8117886178861788,
          0.8113821138211381,
          0.8113821138211381,
          0.8111788617886179
         ],
         "yaxis": "y2"
        },
        {
         "error_y": {
          "array": [
           0.009256339460760741,
           0.00638224327971854,
           0.009476864412093283,
           0.006970092764017176,
           0.008938468872884566,
           0.010569105691056905,
           0.007621273682623028,
           0.006922514782896901,
           0.009144082828619494,
           0.010502447709564067,
           0.007566874174384662,
           0.009089707225608902,
           0.008221035941527136,
           0.006598651658840614,
           0.009121465720453997,
           0.0077768806787434875,
           0.008812798125479191,
           0.010494577758882582,
           0.007203270384824949,
           0.009986275200437586,
           0.008892131241555844,
           0.00925633946076072,
           0.006934439881801622,
           0.006660963255355245,
           0.008370431008932491,
           0.008623253429104232,
           0.009489932951161599,
           0.008463684070592269,
           0.00851720603242153,
           0.010343911097560535,
           0.009125993626277895,
           0.007991708638755063,
           0.009089707225608904,
           0.006904588516854886,
           0.008779923197746025,
           0.008541423329045008,
           0.008751646399028834,
           0.008943089430894315,
           0.007830993645962006
          ]
         },
         "hovertemplate": "strategy_json={\"epsilon\":null,\"theta\":0.5666666666666667}<br>strategy=ROC_mitigation<br>detection_tpr=%{x}<br>min_conditional_accuracy=%{y}<extra></extra>",
         "legendgroup": "{\"epsilon\":null,\"theta\":0.5666666666666667}",
         "line": {
          "color": "#FF6692",
          "dash": "solid"
         },
         "marker": {
          "symbol": "circle"
         },
         "mode": "lines",
         "name": "{\"epsilon\":null,\"theta\":0.5666666666666667}",
         "orientation": "v",
         "showlegend": true,
         "type": "scatter",
         "x": [
          0,
          0.034482758620689655,
          0.06896551724137931,
          0.10344827586206896,
          0.13793103448275862,
          0.1724137931034483,
          0.20689655172413793,
          0.24137931034482757,
          0.27586206896551724,
          0.3103448275862069,
          0.3448275862068966,
          0.3793103448275862,
          0.41379310344827586,
          0.4482758620689655,
          0.48275862068965514,
          0.5,
          0.5172413793103449,
          0.5517241379310345,
          0.5555555555555556,
          0.5862068965517241,
          0.6111111111111112,
          0.6206896551724138,
          0.6551724137931034,
          0.6666666666666666,
          0.6896551724137931,
          0.7222222222222222,
          0.7241379310344828,
          0.7586206896551724,
          0.7777777777777778,
          0.7931034482758621,
          0.8275862068965517,
          0.8333333333333333,
          0.8620689655172413,
          0.8888888888888888,
          0.896551724137931,
          0.9310344827586207,
          0.9444444444444444,
          0.9655172413793103,
          1
         ],
         "xaxis": "x3",
         "y": [
          0.8073170731707316,
          0.8117886178861788,
          0.8105691056910569,
          0.8142276422764227,
          0.8126016260162601,
          0.8105691056910569,
          0.8101626016260163,
          0.8109756097560975,
          0.8126016260162601,
          0.8109756097560975,
          0.8142276422764227,
          0.8109756097560975,
          0.813821138211382,
          0.8134146341463415,
          0.8126016260162601,
          0.8134146341463415,
          0.8150406504065041,
          0.8077235772357725,
          0.8117886178861788,
          0.8085365853658537,
          0.8105691056910569,
          0.8105691056910569,
          0.8126016260162601,
          0.8146341463414635,
          0.8117886178861788,
          0.8130081300813007,
          0.8109756097560975,
          0.8126016260162603,
          0.8117886178861788,
          0.8109756097560975,
          0.8121951219512195,
          0.8077235772357725,
          0.8109756097560975,
          0.8113821138211381,
          0.8117886178861788,
          0.8121951219512195,
          0.8134146341463413,
          0.8097560975609757,
          0.8089430894308943
         ],
         "yaxis": "y3"
        },
        {
         "error_y": {
          "array": [
           0.005085364228941803,
           0.006049949620380972,
           0.0075395272321103395,
           0.007029112384467697,
           0.005974365226300421,
           0.007856157760198245,
           0.00655468109617767,
           0.007260394755890952,
           0.006636108828176622,
           0.006008839633778252,
           0.006510413568311775,
           0.007197533012042973,
           0.007803395861972552,
           0.005514089417174994,
           0.005946641804198293,
           0.006504065040650422,
           0.0067899565400366,
           0.004145544319994115,
           0.00653574601252581,
           0.0073114251010589085,
           0.006218316479991184,
           0.007254702559989733,
           0.007174537640131205,
           0.004835519208687149,
           0.006244833941356607,
           0.007052581940202184,
           0.006904588516854909,
           0.007328356250943071,
           0.00555142287957222,
           0.00600883963377826,
           0.004826968328064205,
           0.005237438506798828,
           0.005939690730163583,
           0.005476501457442066,
           0.00711672414634615,
           0.006874607530604778,
           0.005995073660062036,
           0.007451342593424128,
           0.005777508294126778
          ]
         },
         "hovertemplate": "strategy_json={\"epsilon\":3.0,\"theta\":null}<br>strategy=randomized_response<br>detection_tpr=%{x}<br>min_conditional_accuracy=%{y}<extra></extra>",
         "legendgroup": "{\"epsilon\":3.0,\"theta\":null}",
         "line": {
          "color": "#B6E880",
          "dash": "solid"
         },
         "marker": {
          "symbol": "circle"
         },
         "mode": "lines",
         "name": "{\"epsilon\":3.0,\"theta\":null}",
         "orientation": "v",
         "showlegend": true,
         "type": "scatter",
         "x": [
          0,
          0.034482758620689655,
          0.06896551724137931,
          0.10344827586206896,
          0.13793103448275862,
          0.1724137931034483,
          0.20689655172413793,
          0.24137931034482757,
          0.27586206896551724,
          0.3103448275862069,
          0.3448275862068966,
          0.3793103448275862,
          0.41379310344827586,
          0.4482758620689655,
          0.48275862068965514,
          0.5,
          0.5172413793103449,
          0.5517241379310345,
          0.5555555555555556,
          0.5862068965517241,
          0.6111111111111112,
          0.6206896551724138,
          0.6551724137931034,
          0.6666666666666666,
          0.6896551724137931,
          0.7222222222222222,
          0.7241379310344828,
          0.7586206896551724,
          0.7777777777777778,
          0.7931034482758621,
          0.8275862068965517,
          0.8333333333333333,
          0.8620689655172413,
          0.8888888888888888,
          0.896551724137931,
          0.9310344827586207,
          0.9444444444444444,
          0.9655172413793103,
          1
         ],
         "xaxis": "x2",
         "y": [
          0.8121951219512195,
          0.8142276422764227,
          0.8097560975609757,
          0.8117886178861788,
          0.8134146341463413,
          0.8113821138211383,
          0.8150406504065041,
          0.8121951219512195,
          0.8138211382113821,
          0.8146341463414632,
          0.8117886178861788,
          0.8146341463414635,
          0.8146341463414635,
          0.8158536585365853,
          0.8162601626016259,
          0.8126016260162601,
          0.8097560975609757,
          0.8138211382113821,
          0.8154471544715447,
          0.8113821138211381,
          0.8121951219512195,
          0.8105691056910569,
          0.8142276422764226,
          0.8117886178861788,
          0.8134146341463413,
          0.8134146341463415,
          0.8146341463414635,
          0.8109756097560975,
          0.8138211382113821,
          0.8146341463414635,
          0.8126016260162601,
          0.8126016260162601,
          0.8113821138211381,
          0.8142276422764227,
          0.8142276422764227,
          0.8126016260162603,
          0.8150406504065041,
          0.8105691056910569,
          0.8134146341463413
         ],
         "yaxis": "y2"
        },
        {
         "error_y": {
          "array": [
           0.0060088396337782315,
           0.005748835619402815,
           0.006952289177433754,
           0.006043117376958745,
           0.00669807197287972,
           0.007534045932053115,
           0.007594122639133892,
           0.006211669426803301,
           0.007539527232110325,
           0.005323496281995436,
           0.006131342735365188,
           0.006244833941356584,
           0.006728839576116617,
           0.006427393618228421,
           0.006698071972879731,
           0.005834430932685884,
           0.006874607530604769,
           0.006679543384209324,
           0.00654206379651669,
           0.005876761095447544,
           0.007456884686115494,
           0.0070992882912898,
           0.0056179979516606795,
           0.005400540754303446,
           0.0065546810961776844,
           0.006063591012266779,
           0.006510413568311785,
           0.006211669426803305,
           0.0060772017836284555,
           0.005876761095447537,
           0.005506592351278069,
           0.005543976299587754,
           0.006783869621251475,
           0.005085364228941808,
           0.006008839633778238,
           0.006636108828176623,
           0.007081809508204997,
           0.004679213184236323,
           0.005538177592868779
          ]
         },
         "hovertemplate": "strategy_json={\"epsilon\":6.0,\"theta\":null}<br>strategy=randomized_response<br>detection_tpr=%{x}<br>min_conditional_accuracy=%{y}<extra></extra>",
         "legendgroup": "{\"epsilon\":6.0,\"theta\":null}",
         "line": {
          "color": "#FF97FF",
          "dash": "solid"
         },
         "marker": {
          "symbol": "circle"
         },
         "mode": "lines",
         "name": "{\"epsilon\":6.0,\"theta\":null}",
         "orientation": "v",
         "showlegend": true,
         "type": "scatter",
         "x": [
          0,
          0.034482758620689655,
          0.06896551724137931,
          0.10344827586206896,
          0.13793103448275862,
          0.1724137931034483,
          0.20689655172413793,
          0.24137931034482757,
          0.27586206896551724,
          0.3103448275862069,
          0.3448275862068966,
          0.3793103448275862,
          0.41379310344827586,
          0.4482758620689655,
          0.48275862068965514,
          0.5,
          0.5172413793103449,
          0.5517241379310345,
          0.5555555555555556,
          0.5862068965517241,
          0.6111111111111112,
          0.6206896551724138,
          0.6551724137931034,
          0.6666666666666666,
          0.6896551724137931,
          0.7222222222222222,
          0.7241379310344828,
          0.7586206896551724,
          0.7777777777777778,
          0.7931034482758621,
          0.8275862068965517,
          0.8333333333333333,
          0.8620689655172413,
          0.8888888888888888,
          0.896551724137931,
          0.9310344827586207,
          0.9444444444444444,
          0.9655172413793103,
          1
         ],
         "xaxis": "x2",
         "y": [
          0.8134146341463415,
          0.8150406504065041,
          0.8130081300813007,
          0.8134146341463415,
          0.8121951219512195,
          0.8113821138211381,
          0.8138211382113821,
          0.8154471544715447,
          0.8142276422764227,
          0.8142276422764227,
          0.8130081300813009,
          0.8126016260162601,
          0.8142276422764227,
          0.8130081300813007,
          0.8101626016260163,
          0.8113821138211381,
          0.8134146341463415,
          0.8130081300813007,
          0.8158536585365853,
          0.813821138211382,
          0.8117886178861788,
          0.8109756097560975,
          0.8146341463414635,
          0.8121951219512195,
          0.8130081300813007,
          0.8130081300813007,
          0.8097560975609757,
          0.8154471544715447,
          0.8105691056910569,
          0.8121951219512196,
          0.8126016260162601,
          0.8134146341463413,
          0.8134146341463413,
          0.8097560975609757,
          0.8113821138211381,
          0.8121951219512196,
          0.8113821138211381,
          0.8150406504065041,
          0.8136178861788619
         ],
         "yaxis": "y2"
        },
        {
         "error_y": {
          "array": [
           0.005841507261463369,
           0.006820309648602623,
           0.005362156893606876,
           0.006542063796516695,
           0.006029429664305407,
           0.0051015855276468096,
           0.005734445520189388,
           0.006648547656014691,
           0.007588680773412376,
           0.0058697272675583756,
           0.0056253465459748155,
           0.008365494157421442,
           0.0057127924075427595,
           0.005117755411387848,
           0.006297533896272192,
           0.005727236912034712,
           0.0066361088281766045,
           0.007429132879063852,
           0.005995073660062031,
           0.006362795057926243,
           0.006710395942772007,
           0.005727236912034708,
           0.004766682682747378,
           0.007588680773412378,
           0.005974365226300441,
           0.00618500977833453,
           0.006741107297470318,
           0.004749317660791821,
           0.006523092087756577,
           0.006573561637722044,
           0.005491567514677363,
           0.006408082427005869,
           0.006077201783628458,
           0.00550659235127806,
           0.00543105252678348,
           0.006218316479991206,
           0.006970092764017181,
           0.005400540754303435,
           0.005928861749907646
          ]
         },
         "hovertemplate": "strategy_json={\"epsilon\":1.0,\"theta\":null}<br>strategy=randomized_response<br>detection_tpr=%{x}<br>min_conditional_accuracy=%{y}<extra></extra>",
         "legendgroup": "{\"epsilon\":1.0,\"theta\":null}",
         "line": {
          "color": "#FECB52",
          "dash": "solid"
         },
         "marker": {
          "symbol": "circle"
         },
         "mode": "lines",
         "name": "{\"epsilon\":1.0,\"theta\":null}",
         "orientation": "v",
         "showlegend": true,
         "type": "scatter",
         "x": [
          0,
          0.034482758620689655,
          0.06896551724137931,
          0.10344827586206896,
          0.13793103448275862,
          0.1724137931034483,
          0.20689655172413793,
          0.24137931034482757,
          0.27586206896551724,
          0.3103448275862069,
          0.3448275862068966,
          0.3793103448275862,
          0.41379310344827586,
          0.4482758620689655,
          0.48275862068965514,
          0.5,
          0.5172413793103449,
          0.5517241379310345,
          0.5555555555555556,
          0.5862068965517241,
          0.6111111111111112,
          0.6206896551724138,
          0.6551724137931034,
          0.6666666666666666,
          0.6896551724137931,
          0.7222222222222222,
          0.7241379310344828,
          0.7586206896551724,
          0.7777777777777778,
          0.7931034482758621,
          0.8275862068965517,
          0.8333333333333333,
          0.8620689655172413,
          0.8888888888888888,
          0.896551724137931,
          0.9310344827586207,
          0.9444444444444444,
          0.9655172413793103,
          1
         ],
         "xaxis": "x2",
         "y": [
          0.8162601626016259,
          0.8121951219512195,
          0.8142276422764227,
          0.8121951219512196,
          0.8150406504065041,
          0.8130081300813007,
          0.8142276422764226,
          0.8109756097560975,
          0.8113821138211383,
          0.8146341463414635,
          0.8097560975609757,
          0.8134146341463415,
          0.8150406504065041,
          0.8126016260162603,
          0.8130081300813007,
          0.8146341463414632,
          0.8121951219512195,
          0.8121951219512195,
          0.8150406504065041,
          0.8130081300813009,
          0.8109756097560975,
          0.8134146341463413,
          0.8130081300813009,
          0.8134146341463415,
          0.8134146341463413,
          0.8121951219512195,
          0.8130081300813009,
          0.8142276422764227,
          0.8150406504065041,
          0.8117886178861788,
          0.8130081300813007,
          0.8126016260162601,
          0.8154471544715447,
          0.8146341463414635,
          0.8134146341463415,
          0.8138211382113821,
          0.8097560975609757,
          0.8117886178861788,
          0.8132113821138212
         ],
         "yaxis": "y2"
        },
        {
         "error_y": {
          "array": [
           0.0067716793694949885,
           0.007423570068190926,
           0.006015710807702743,
           0.0070876405586027084,
           0.008068875301332998,
           0.005181930399992691,
           0.005855634264588598,
           0.005181930399992657,
           0.00686257846184314,
           0.006679543384209316,
           0.00804323534041031,
           0.005798919763287421,
           0.0077662492579442174,
           0.006802114036862412,
           0.006535746012525813,
           0.005491567514677366,
           0.007011458662870066,
           0.007157242626690647,
           0.006504065040650411,
           0.006832413135760831,
           0.005841507261463366,
           0.00556628615350777,
           0.0058344309326859075,
           0.005603271850443176,
           0.007197533012043,
           0.005841507261463394,
           0.006759467133461728,
           0.00756687417438468,
           0.006164939385407776,
           0.005205792062953498,
           0.007070132980051241,
           0.0073396219858812145,
           0.005085364228941783,
           0.006111096088769481,
           0.005117755411387876,
           0.006077201783628467,
           0.00699376037970944,
           0.00650406504065039,
           0.005875198750319466
          ]
         },
         "hovertemplate": "strategy_json={\"epsilon\":2.0,\"theta\":null}<br>strategy=randomized_response<br>detection_tpr=%{x}<br>min_conditional_accuracy=%{y}<extra></extra>",
         "legendgroup": "{\"epsilon\":2.0,\"theta\":null}",
         "line": {
          "color": "#636efa",
          "dash": "solid"
         },
         "marker": {
          "symbol": "circle"
         },
         "mode": "lines",
         "name": "{\"epsilon\":2.0,\"theta\":null}",
         "orientation": "v",
         "showlegend": true,
         "type": "scatter",
         "x": [
          0,
          0.034482758620689655,
          0.06896551724137931,
          0.10344827586206896,
          0.13793103448275862,
          0.1724137931034483,
          0.20689655172413793,
          0.24137931034482757,
          0.27586206896551724,
          0.3103448275862069,
          0.3448275862068966,
          0.3793103448275862,
          0.41379310344827586,
          0.4482758620689655,
          0.48275862068965514,
          0.5,
          0.5172413793103449,
          0.5517241379310345,
          0.5555555555555556,
          0.5862068965517241,
          0.6111111111111112,
          0.6206896551724138,
          0.6551724137931034,
          0.6666666666666666,
          0.6896551724137931,
          0.7222222222222222,
          0.7241379310344828,
          0.7586206896551724,
          0.7777777777777778,
          0.7931034482758621,
          0.8275862068965517,
          0.8333333333333333,
          0.8620689655172413,
          0.8888888888888888,
          0.896551724137931,
          0.9310344827586207,
          0.9444444444444444,
          0.9655172413793103,
          1
         ],
         "xaxis": "x2",
         "y": [
          0.8130081300813007,
          0.8126016260162601,
          0.8097560975609757,
          0.8142276422764227,
          0.8117886178861788,
          0.8109756097560975,
          0.8150406504065041,
          0.8130081300813007,
          0.8130081300813009,
          0.8130081300813009,
          0.8121951219512195,
          0.8113821138211381,
          0.8150406504065041,
          0.8130081300813009,
          0.8134146341463415,
          0.8130081300813007,
          0.8130081300813009,
          0.8130081300813007,
          0.8134146341463413,
          0.8109756097560975,
          0.8101626016260163,
          0.8170731707317074,
          0.8113821138211381,
          0.8130081300813009,
          0.8126016260162601,
          0.8121951219512195,
          0.8097560975609757,
          0.8138211382113821,
          0.8109756097560975,
          0.8142276422764227,
          0.8089430894308943,
          0.8134146341463415,
          0.8138211382113821,
          0.8105691056910569,
          0.8146341463414635,
          0.8146341463414635,
          0.8126016260162603,
          0.8126016260162601,
          0.8109756097560975
         ],
         "yaxis": "y2"
        }
       ],
       "layout": {
        "annotations": [
         {
          "font": {},
          "showarrow": false,
          "text": "strategy=model_swap",
          "x": 0.1175,
          "xanchor": "center",
          "xref": "paper",
          "y": 1,
          "yanchor": "bottom",
          "yref": "paper"
         },
         {
          "font": {},
          "showarrow": false,
          "text": "strategy=randomized_response",
          "x": 0.3725,
          "xanchor": "center",
          "xref": "paper",
          "y": 1,
          "yanchor": "bottom",
          "yref": "paper"
         },
         {
          "font": {},
          "showarrow": false,
          "text": "strategy=ROC_mitigation",
          "x": 0.6275,
          "xanchor": "center",
          "xref": "paper",
          "y": 1,
          "yanchor": "bottom",
          "yref": "paper"
         },
         {
          "font": {},
          "showarrow": false,
          "text": "strategy=honest",
          "x": 0.8824999999999998,
          "xanchor": "center",
          "xref": "paper",
          "y": 1,
          "yanchor": "bottom",
          "yref": "paper"
         }
        ],
        "legend": {
         "title": {
          "text": "strategy_json"
         },
         "tracegroupgap": 0
        },
        "margin": {
         "t": 60
        },
        "template": {
         "data": {
          "bar": [
           {
            "error_x": {
             "color": "#2a3f5f"
            },
            "error_y": {
             "color": "#2a3f5f"
            },
            "marker": {
             "line": {
              "color": "#E5ECF6",
              "width": 0.5
             },
             "pattern": {
              "fillmode": "overlay",
              "size": 10,
              "solidity": 0.2
             }
            },
            "type": "bar"
           }
          ],
          "barpolar": [
           {
            "marker": {
             "line": {
              "color": "#E5ECF6",
              "width": 0.5
             },
             "pattern": {
              "fillmode": "overlay",
              "size": 10,
              "solidity": 0.2
             }
            },
            "type": "barpolar"
           }
          ],
          "carpet": [
           {
            "aaxis": {
             "endlinecolor": "#2a3f5f",
             "gridcolor": "white",
             "linecolor": "white",
             "minorgridcolor": "white",
             "startlinecolor": "#2a3f5f"
            },
            "baxis": {
             "endlinecolor": "#2a3f5f",
             "gridcolor": "white",
             "linecolor": "white",
             "minorgridcolor": "white",
             "startlinecolor": "#2a3f5f"
            },
            "type": "carpet"
           }
          ],
          "choropleth": [
           {
            "colorbar": {
             "outlinewidth": 0,
             "ticks": ""
            },
            "type": "choropleth"
           }
          ],
          "contour": [
           {
            "colorbar": {
             "outlinewidth": 0,
             "ticks": ""
            },
            "colorscale": [
             [
              0,
              "#0d0887"
             ],
             [
              0.1111111111111111,
              "#46039f"
             ],
             [
              0.2222222222222222,
              "#7201a8"
             ],
             [
              0.3333333333333333,
              "#9c179e"
             ],
             [
              0.4444444444444444,
              "#bd3786"
             ],
             [
              0.5555555555555556,
              "#d8576b"
             ],
             [
              0.6666666666666666,
              "#ed7953"
             ],
             [
              0.7777777777777778,
              "#fb9f3a"
             ],
             [
              0.8888888888888888,
              "#fdca26"
             ],
             [
              1,
              "#f0f921"
             ]
            ],
            "type": "contour"
           }
          ],
          "contourcarpet": [
           {
            "colorbar": {
             "outlinewidth": 0,
             "ticks": ""
            },
            "type": "contourcarpet"
           }
          ],
          "heatmap": [
           {
            "colorbar": {
             "outlinewidth": 0,
             "ticks": ""
            },
            "colorscale": [
             [
              0,
              "#0d0887"
             ],
             [
              0.1111111111111111,
              "#46039f"
             ],
             [
              0.2222222222222222,
              "#7201a8"
             ],
             [
              0.3333333333333333,
              "#9c179e"
             ],
             [
              0.4444444444444444,
              "#bd3786"
             ],
             [
              0.5555555555555556,
              "#d8576b"
             ],
             [
              0.6666666666666666,
              "#ed7953"
             ],
             [
              0.7777777777777778,
              "#fb9f3a"
             ],
             [
              0.8888888888888888,
              "#fdca26"
             ],
             [
              1,
              "#f0f921"
             ]
            ],
            "type": "heatmap"
           }
          ],
          "heatmapgl": [
           {
            "colorbar": {
             "outlinewidth": 0,
             "ticks": ""
            },
            "colorscale": [
             [
              0,
              "#0d0887"
             ],
             [
              0.1111111111111111,
              "#46039f"
             ],
             [
              0.2222222222222222,
              "#7201a8"
             ],
             [
              0.3333333333333333,
              "#9c179e"
             ],
             [
              0.4444444444444444,
              "#bd3786"
             ],
             [
              0.5555555555555556,
              "#d8576b"
             ],
             [
              0.6666666666666666,
              "#ed7953"
             ],
             [
              0.7777777777777778,
              "#fb9f3a"
             ],
             [
              0.8888888888888888,
              "#fdca26"
             ],
             [
              1,
              "#f0f921"
             ]
            ],
            "type": "heatmapgl"
           }
          ],
          "histogram": [
           {
            "marker": {
             "pattern": {
              "fillmode": "overlay",
              "size": 10,
              "solidity": 0.2
             }
            },
            "type": "histogram"
           }
          ],
          "histogram2d": [
           {
            "colorbar": {
             "outlinewidth": 0,
             "ticks": ""
            },
            "colorscale": [
             [
              0,
              "#0d0887"
             ],
             [
              0.1111111111111111,
              "#46039f"
             ],
             [
              0.2222222222222222,
              "#7201a8"
             ],
             [
              0.3333333333333333,
              "#9c179e"
             ],
             [
              0.4444444444444444,
              "#bd3786"
             ],
             [
              0.5555555555555556,
              "#d8576b"
             ],
             [
              0.6666666666666666,
              "#ed7953"
             ],
             [
              0.7777777777777778,
              "#fb9f3a"
             ],
             [
              0.8888888888888888,
              "#fdca26"
             ],
             [
              1,
              "#f0f921"
             ]
            ],
            "type": "histogram2d"
           }
          ],
          "histogram2dcontour": [
           {
            "colorbar": {
             "outlinewidth": 0,
             "ticks": ""
            },
            "colorscale": [
             [
              0,
              "#0d0887"
             ],
             [
              0.1111111111111111,
              "#46039f"
             ],
             [
              0.2222222222222222,
              "#7201a8"
             ],
             [
              0.3333333333333333,
              "#9c179e"
             ],
             [
              0.4444444444444444,
              "#bd3786"
             ],
             [
              0.5555555555555556,
              "#d8576b"
             ],
             [
              0.6666666666666666,
              "#ed7953"
             ],
             [
              0.7777777777777778,
              "#fb9f3a"
             ],
             [
              0.8888888888888888,
              "#fdca26"
             ],
             [
              1,
              "#f0f921"
             ]
            ],
            "type": "histogram2dcontour"
           }
          ],
          "mesh3d": [
           {
            "colorbar": {
             "outlinewidth": 0,
             "ticks": ""
            },
            "type": "mesh3d"
           }
          ],
          "parcoords": [
           {
            "line": {
             "colorbar": {
              "outlinewidth": 0,
              "ticks": ""
             }
            },
            "type": "parcoords"
           }
          ],
          "pie": [
           {
            "automargin": true,
            "type": "pie"
           }
          ],
          "scatter": [
           {
            "fillpattern": {
             "fillmode": "overlay",
             "size": 10,
             "solidity": 0.2
            },
            "type": "scatter"
           }
          ],
          "scatter3d": [
           {
            "line": {
             "colorbar": {
              "outlinewidth": 0,
              "ticks": ""
             }
            },
            "marker": {
             "colorbar": {
              "outlinewidth": 0,
              "ticks": ""
             }
            },
            "type": "scatter3d"
           }
          ],
          "scattercarpet": [
           {
            "marker": {
             "colorbar": {
              "outlinewidth": 0,
              "ticks": ""
             }
            },
            "type": "scattercarpet"
           }
          ],
          "scattergeo": [
           {
            "marker": {
             "colorbar": {
              "outlinewidth": 0,
              "ticks": ""
             }
            },
            "type": "scattergeo"
           }
          ],
          "scattergl": [
           {
            "marker": {
             "colorbar": {
              "outlinewidth": 0,
              "ticks": ""
             }
            },
            "type": "scattergl"
           }
          ],
          "scattermapbox": [
           {
            "marker": {
             "colorbar": {
              "outlinewidth": 0,
              "ticks": ""
             }
            },
            "type": "scattermapbox"
           }
          ],
          "scatterpolar": [
           {
            "marker": {
             "colorbar": {
              "outlinewidth": 0,
              "ticks": ""
             }
            },
            "type": "scatterpolar"
           }
          ],
          "scatterpolargl": [
           {
            "marker": {
             "colorbar": {
              "outlinewidth": 0,
              "ticks": ""
             }
            },
            "type": "scatterpolargl"
           }
          ],
          "scatterternary": [
           {
            "marker": {
             "colorbar": {
              "outlinewidth": 0,
              "ticks": ""
             }
            },
            "type": "scatterternary"
           }
          ],
          "surface": [
           {
            "colorbar": {
             "outlinewidth": 0,
             "ticks": ""
            },
            "colorscale": [
             [
              0,
              "#0d0887"
             ],
             [
              0.1111111111111111,
              "#46039f"
             ],
             [
              0.2222222222222222,
              "#7201a8"
             ],
             [
              0.3333333333333333,
              "#9c179e"
             ],
             [
              0.4444444444444444,
              "#bd3786"
             ],
             [
              0.5555555555555556,
              "#d8576b"
             ],
             [
              0.6666666666666666,
              "#ed7953"
             ],
             [
              0.7777777777777778,
              "#fb9f3a"
             ],
             [
              0.8888888888888888,
              "#fdca26"
             ],
             [
              1,
              "#f0f921"
             ]
            ],
            "type": "surface"
           }
          ],
          "table": [
           {
            "cells": {
             "fill": {
              "color": "#EBF0F8"
             },
             "line": {
              "color": "white"
             }
            },
            "header": {
             "fill": {
              "color": "#C8D4E3"
             },
             "line": {
              "color": "white"
             }
            },
            "type": "table"
           }
          ]
         },
         "layout": {
          "annotationdefaults": {
           "arrowcolor": "#2a3f5f",
           "arrowhead": 0,
           "arrowwidth": 1
          },
          "autotypenumbers": "strict",
          "coloraxis": {
           "colorbar": {
            "outlinewidth": 0,
            "ticks": ""
           }
          },
          "colorscale": {
           "diverging": [
            [
             0,
             "#8e0152"
            ],
            [
             0.1,
             "#c51b7d"
            ],
            [
             0.2,
             "#de77ae"
            ],
            [
             0.3,
             "#f1b6da"
            ],
            [
             0.4,
             "#fde0ef"
            ],
            [
             0.5,
             "#f7f7f7"
            ],
            [
             0.6,
             "#e6f5d0"
            ],
            [
             0.7,
             "#b8e186"
            ],
            [
             0.8,
             "#7fbc41"
            ],
            [
             0.9,
             "#4d9221"
            ],
            [
             1,
             "#276419"
            ]
           ],
           "sequential": [
            [
             0,
             "#0d0887"
            ],
            [
             0.1111111111111111,
             "#46039f"
            ],
            [
             0.2222222222222222,
             "#7201a8"
            ],
            [
             0.3333333333333333,
             "#9c179e"
            ],
            [
             0.4444444444444444,
             "#bd3786"
            ],
            [
             0.5555555555555556,
             "#d8576b"
            ],
            [
             0.6666666666666666,
             "#ed7953"
            ],
            [
             0.7777777777777778,
             "#fb9f3a"
            ],
            [
             0.8888888888888888,
             "#fdca26"
            ],
            [
             1,
             "#f0f921"
            ]
           ],
           "sequentialminus": [
            [
             0,
             "#0d0887"
            ],
            [
             0.1111111111111111,
             "#46039f"
            ],
            [
             0.2222222222222222,
             "#7201a8"
            ],
            [
             0.3333333333333333,
             "#9c179e"
            ],
            [
             0.4444444444444444,
             "#bd3786"
            ],
            [
             0.5555555555555556,
             "#d8576b"
            ],
            [
             0.6666666666666666,
             "#ed7953"
            ],
            [
             0.7777777777777778,
             "#fb9f3a"
            ],
            [
             0.8888888888888888,
             "#fdca26"
            ],
            [
             1,
             "#f0f921"
            ]
           ]
          },
          "colorway": [
           "#636efa",
           "#EF553B",
           "#00cc96",
           "#ab63fa",
           "#FFA15A",
           "#19d3f3",
           "#FF6692",
           "#B6E880",
           "#FF97FF",
           "#FECB52"
          ],
          "font": {
           "color": "#2a3f5f"
          },
          "geo": {
           "bgcolor": "white",
           "lakecolor": "white",
           "landcolor": "#E5ECF6",
           "showlakes": true,
           "showland": true,
           "subunitcolor": "white"
          },
          "hoverlabel": {
           "align": "left"
          },
          "hovermode": "closest",
          "mapbox": {
           "style": "light"
          },
          "paper_bgcolor": "white",
          "plot_bgcolor": "#E5ECF6",
          "polar": {
           "angularaxis": {
            "gridcolor": "white",
            "linecolor": "white",
            "ticks": ""
           },
           "bgcolor": "#E5ECF6",
           "radialaxis": {
            "gridcolor": "white",
            "linecolor": "white",
            "ticks": ""
           }
          },
          "scene": {
           "xaxis": {
            "backgroundcolor": "#E5ECF6",
            "gridcolor": "white",
            "gridwidth": 2,
            "linecolor": "white",
            "showbackground": true,
            "ticks": "",
            "zerolinecolor": "white"
           },
           "yaxis": {
            "backgroundcolor": "#E5ECF6",
            "gridcolor": "white",
            "gridwidth": 2,
            "linecolor": "white",
            "showbackground": true,
            "ticks": "",
            "zerolinecolor": "white"
           },
           "zaxis": {
            "backgroundcolor": "#E5ECF6",
            "gridcolor": "white",
            "gridwidth": 2,
            "linecolor": "white",
            "showbackground": true,
            "ticks": "",
            "zerolinecolor": "white"
           }
          },
          "shapedefaults": {
           "line": {
            "color": "#2a3f5f"
           }
          },
          "ternary": {
           "aaxis": {
            "gridcolor": "white",
            "linecolor": "white",
            "ticks": ""
           },
           "baxis": {
            "gridcolor": "white",
            "linecolor": "white",
            "ticks": ""
           },
           "bgcolor": "#E5ECF6",
           "caxis": {
            "gridcolor": "white",
            "linecolor": "white",
            "ticks": ""
           }
          },
          "title": {
           "x": 0.05
          },
          "xaxis": {
           "automargin": true,
           "gridcolor": "white",
           "linecolor": "white",
           "ticks": "",
           "title": {
            "standoff": 15
           },
           "zerolinecolor": "white",
           "zerolinewidth": 2
          },
          "yaxis": {
           "automargin": true,
           "gridcolor": "white",
           "linecolor": "white",
           "ticks": "",
           "title": {
            "standoff": 15
           },
           "zerolinecolor": "white",
           "zerolinewidth": 2
          }
         }
        },
        "xaxis": {
         "anchor": "y",
         "domain": [
          0,
          0.235
         ],
         "title": {
          "text": "detection_tpr"
         }
        },
        "xaxis2": {
         "anchor": "y2",
         "domain": [
          0.255,
          0.49
         ],
         "matches": "x",
         "title": {
          "text": "detection_tpr"
         }
        },
        "xaxis3": {
         "anchor": "y3",
         "domain": [
          0.51,
          0.745
         ],
         "matches": "x",
         "title": {
          "text": "detection_tpr"
         }
        },
        "xaxis4": {
         "anchor": "y4",
         "domain": [
          0.7649999999999999,
          0.9999999999999999
         ],
         "matches": "x",
         "title": {
          "text": "detection_tpr"
         }
        },
        "yaxis": {
         "anchor": "x",
         "domain": [
          0,
          1
         ],
         "title": {
          "text": "min_conditional_accuracy"
         }
        },
        "yaxis2": {
         "anchor": "x2",
         "domain": [
          0,
          1
         ],
         "matches": "y",
         "showticklabels": false
        },
        "yaxis3": {
         "anchor": "x3",
         "domain": [
          0,
          1
         ],
         "matches": "y",
         "showticklabels": false
        },
        "yaxis4": {
         "anchor": "x4",
         "domain": [
          0,
          1
         ],
         "matches": "y",
         "showticklabels": false
        }
       }
      }
     },
     "metadata": {},
     "output_type": "display_data"
    }
   ],
   "source": [
    "px.line(\n",
    "    manipulation.sort(\"detection_tpr\").with_columns(\n",
    "        pl.col(\"min_conditional_accuracy_std\") / sqrt(5)\n",
    "    ),\n",
    "    x=\"detection_tpr\",\n",
    "    y=\"min_conditional_accuracy\",\n",
    "    error_y=\"min_conditional_accuracy_std\",\n",
    "    facet_col=\"strategy\",\n",
    "    color=\"strategy_json\",\n",
    ")"
   ]
  },
  {
   "cell_type": "code",
   "execution_count": 67,
   "metadata": {},
   "outputs": [
    {
     "data": {
      "application/vnd.plotly.v1+json": {
       "config": {
        "plotlyServerURL": "https://plot.ly"
       },
       "data": [
        {
         "error_y": {
          "array": [
           0.006834721235481777,
           0.00804424888031656,
           0.007214112631562226,
           0.007588375989148732,
           0.007512137335793533,
           0.007027831450424535,
           0.00669551172945106,
           0.007910490221033318,
           0.006836679772687616,
           0.006511695983354496,
           0.007661666905871556,
           0.007292309627144646,
           0.007368525087467506,
           0.008063277368250733,
           0.0076375149606519414,
           0.005027537246252269,
           0.007400881799671999,
           0.006153223381574343,
           0.005442015708634314,
           0.006467662142785903,
           0.006739379424824029,
           0.007643106035595269,
           0.007630303680059513,
           0.007379592059256644,
           0.007658950554205716,
           0.007241840651526133,
           0.006292523188615429,
           0.008066998430925553,
           0.006305318520090954,
           0.007031687394141791,
           0.006684000340568947,
           0.00725495746144169,
           0.007772026199753664,
           0.007263262631523465,
           0.00791257739829312,
           0.008938635642970925,
           0.007277263020568116,
           0.005765917473655975,
           0.006698106728273221
          ]
         },
         "hovertemplate": "strategy_json={\"epsilon\":null,\"theta\":null}<br>strategy=model_swap<br>detection_tpr=%{x}<br>demographic_parity_audit=%{y}<extra></extra>",
         "legendgroup": "{\"epsilon\":null,\"theta\":null}",
         "line": {
          "color": "#636efa",
          "dash": "solid"
         },
         "marker": {
          "symbol": "circle"
         },
         "mode": "lines",
         "name": "{\"epsilon\":null,\"theta\":null}",
         "orientation": "v",
         "showlegend": true,
         "type": "scatter",
         "x": [
          0,
          0.034482758620689655,
          0.06896551724137931,
          0.10344827586206896,
          0.13793103448275862,
          0.1724137931034483,
          0.20689655172413793,
          0.24137931034482757,
          0.27586206896551724,
          0.3103448275862069,
          0.3448275862068966,
          0.3793103448275862,
          0.41379310344827586,
          0.4482758620689655,
          0.48275862068965514,
          0.5,
          0.5172413793103449,
          0.5517241379310345,
          0.5555555555555556,
          0.5862068965517241,
          0.6111111111111112,
          0.6206896551724138,
          0.6551724137931034,
          0.6666666666666666,
          0.6896551724137931,
          0.7222222222222222,
          0.7241379310344828,
          0.7586206896551724,
          0.7777777777777778,
          0.7931034482758621,
          0.8275862068965517,
          0.8333333333333333,
          0.8620689655172413,
          0.8888888888888888,
          0.896551724137931,
          0.9310344827586207,
          0.9444444444444444,
          0.9655172413793103,
          1
         ],
         "xaxis": "x",
         "y": [
          0.022412137507201835,
          0.030311759810511464,
          0.029540362332757163,
          0.03008770245182766,
          0.029677997567377257,
          0.02472312912105501,
          0.027264579732411497,
          0.027174956788937978,
          0.02624671916010497,
          0.025523333973497243,
          0.029892452467831787,
          0.031038345816529,
          0.02802317393252677,
          0.031102362204724378,
          0.029751616413801963,
          0.02337878496895206,
          0.027847128864989423,
          0.026323538825939463,
          0.03203059983355736,
          0.028938608283720635,
          0.02746943217463672,
          0.02796555918315089,
          0.029562768068625567,
          0.030619038473849315,
          0.02862172716215352,
          0.027975161641380187,
          0.028583317329236312,
          0.02779911657384291,
          0.027482235452275815,
          0.027367005953524128,
          0.02350681774534282,
          0.024710325843415905,
          0.03121759170347609,
          0.03051341143332693,
          0.02973881313616287,
          0.03180014083605402,
          0.027584661673388376,
          0.027379809231163198,
          0.027746303053581705
         ],
         "yaxis": "y"
        },
        {
         "error_y": {
          "array": [
           0.008799611431418341,
           0.010754801562424667,
           0.008304386087395962,
           0.01246560547153637,
           0.008497557649853466,
           0.010369547137512303,
           0.009997206940597273,
           0.008828168635216073,
           0.01283660181334206,
           0.009309767173429673,
           0.011546795091381361,
           0.011161590026269272,
           0.01154246435091673,
           0.010414572668793023,
           0.011147042586023902,
           0.008203446313211193,
           0.010858435583088043,
           0.008637336597906461,
           0.010391554739354594,
           0.010467079564723597,
           0.010520754761984224,
           0.013037201503234149,
           0.01089314136575012,
           0.011168907665835087,
           0.011460763306553217,
           0.009844795646885262,
           0.011521378699191339,
           0.008880312206426934,
           0.011585326611608007,
           0.009227708387668048,
           0.010047370852647017,
           0.009554497676558272,
           0.009589725730540566,
           0.009248300898122898,
           0.008628812516216243,
           0.010017566875552211,
           0.01020144708045077,
           0.013382307282800458,
           0.009850075547318586
          ]
         },
         "hovertemplate": "strategy_json={\"epsilon\":null,\"theta\":null}<br>strategy=honest<br>detection_tpr=%{x}<br>demographic_parity_audit=%{y}<extra></extra>",
         "legendgroup": "{\"epsilon\":null,\"theta\":null}",
         "line": {
          "color": "#636efa",
          "dash": "solid"
         },
         "marker": {
          "symbol": "circle"
         },
         "mode": "lines",
         "name": "{\"epsilon\":null,\"theta\":null}",
         "orientation": "v",
         "showlegend": false,
         "type": "scatter",
         "x": [
          0,
          0.034482758620689655,
          0.06896551724137931,
          0.10344827586206896,
          0.13793103448275862,
          0.1724137931034483,
          0.20689655172413793,
          0.24137931034482757,
          0.27586206896551724,
          0.3103448275862069,
          0.3448275862068966,
          0.3793103448275862,
          0.41379310344827586,
          0.4482758620689655,
          0.48275862068965514,
          0.5,
          0.5172413793103449,
          0.5517241379310345,
          0.5555555555555556,
          0.5862068965517241,
          0.6111111111111112,
          0.6206896551724138,
          0.6551724137931034,
          0.6666666666666666,
          0.6896551724137931,
          0.7222222222222222,
          0.7241379310344828,
          0.7586206896551724,
          0.7777777777777778,
          0.7931034482758621,
          0.8275862068965517,
          0.8333333333333333,
          0.8620689655172413,
          0.8888888888888888,
          0.896551724137931,
          0.9310344827586207,
          0.9444444444444444,
          0.9655172413793103,
          1
         ],
         "xaxis": "x4",
         "y": [
          0.04109532040202292,
          0.0371070994174509,
          0.04390243902439026,
          0.04268292682926831,
          0.04705204532360283,
          0.04225081620894951,
          0.043876832469112094,
          0.04273413993982459,
          0.043483131681710516,
          0.037552013315408764,
          0.03469368158248511,
          0.0387715255105307,
          0.04390243902439025,
          0.04227642276422765,
          0.041882721976826055,
          0.04108251712438384,
          0.044308943089430876,
          0.039088406632097804,
          0.04394084885730748,
          0.04514755777479036,
          0.04106971384674477,
          0.03750080020485247,
          0.041514627744702645,
          0.0399014147621791,
          0.047471352666282565,
          0.041869918699187006,
          0.04109532040202292,
          0.04075283272517762,
          0.043089430894308965,
          0.04579412329556366,
          0.04109532040202292,
          0.040371935215415156,
          0.03553229626784456,
          0.04501952499839958,
          0.037500800204852455,
          0.04347032840407146,
          0.03902439024390245,
          0.04070161961462134,
          0.044124895973369195
         ],
         "yaxis": "y4"
        },
        {
         "error_y": {
          "array": [
           0.011657187643101124,
           0.009210423341643998,
           0.009977425688819918,
           0.0102388171806511,
           0.00907874833652841,
           0.010874421343980872,
           0.012878575950866306,
           0.00924399277790315,
           0.009165421604633631,
           0.008892822228533721,
           0.01143567667593307,
           0.009762710923832357,
           0.008668893025329505,
           0.008654521756497212,
           0.009674744191526408,
           0.00932569954590515,
           0.010332249764736725,
           0.013981756973526908,
           0.01131270132660955,
           0.009787990355328305,
           0.009989572772692565,
           0.010312866038853797,
           0.009981409555846593,
           0.00978391804510582,
           0.010046010743567129,
           0.009862008993474395,
           0.009529096079335135,
           0.009867569221802904,
           0.012629179687976924,
           0.008441666492889764,
           0.011588147057982726,
           0.011327866081127534,
           0.014220049015474865,
           0.009256054446237649,
           0.01157098385926118,
           0.011580812114776542,
           0.01039721854045334,
           0.009395387791386602,
           0.01044274482135677
          ]
         },
         "hovertemplate": "strategy_json={\"epsilon\":4.0,\"theta\":null}<br>strategy=randomized_response<br>detection_tpr=%{x}<br>demographic_parity_audit=%{y}<extra></extra>",
         "legendgroup": "{\"epsilon\":4.0,\"theta\":null}",
         "line": {
          "color": "#EF553B",
          "dash": "solid"
         },
         "marker": {
          "symbol": "circle"
         },
         "mode": "lines",
         "name": "{\"epsilon\":4.0,\"theta\":null}",
         "orientation": "v",
         "showlegend": true,
         "type": "scatter",
         "x": [
          0,
          0.034482758620689655,
          0.06896551724137931,
          0.10344827586206896,
          0.13793103448275862,
          0.1724137931034483,
          0.20689655172413793,
          0.24137931034482757,
          0.27586206896551724,
          0.3103448275862069,
          0.3448275862068966,
          0.3793103448275862,
          0.41379310344827586,
          0.4482758620689655,
          0.48275862068965514,
          0.5,
          0.5172413793103449,
          0.5517241379310345,
          0.5555555555555556,
          0.5862068965517241,
          0.6111111111111112,
          0.6206896551724138,
          0.6551724137931034,
          0.6666666666666666,
          0.6896551724137931,
          0.7222222222222222,
          0.7241379310344828,
          0.7586206896551724,
          0.7777777777777778,
          0.7931034482758621,
          0.8275862068965517,
          0.8333333333333333,
          0.8620689655172413,
          0.8888888888888888,
          0.896551724137931,
          0.9310344827586207,
          0.9444444444444444,
          0.9655172413793103,
          1
         ],
         "xaxis": "x2",
         "y": [
          0.04118494334549646,
          0.03587478394468986,
          0.04385122591383395,
          0.04269573010690738,
          0.03955892708533386,
          0.043457525126432375,
          0.03549388643492737,
          0.03784328788169772,
          0.047890660008962284,
          0.04072722616989951,
          0.03753921003776968,
          0.04319185711542153,
          0.03988861148454005,
          0.0399526278727354,
          0.043812816080916715,
          0.03987580820690099,
          0.04507073810895588,
          0.04550284872927467,
          0.04738172972280902,
          0.04347032840407143,
          0.04466423404391523,
          0.04159144741053712,
          0.04186991869918699,
          0.043876832469112094,
          0.04293579156264006,
          0.04630305358171692,
          0.04030791882721978,
          0.04146341463414634,
          0.04311503744958709,
          0.048665258306126356,
          0.037068689584533666,
          0.03713270597272902,
          0.04143780807886821,
          0.03981179181870562,
          0.04074002944753857,
          0.04260610716343384,
          0.048626848473209125,
          0.039914218039818185,
          0.04063760322642597
         ],
         "yaxis": "y2"
        },
        {
         "error_y": {
          "array": [
           0.009084823485800256,
           0.008954057025499479,
           0.010274239668336044,
           0.010523745402716538,
           0.006871692253327796,
           0.007851383942066806,
           0.011949289057638864,
           0.012081388238300786,
           0.008152778272114757,
           0.01082205633782955,
           0.010674400887347531,
           0.010159904010554463,
           0.010863042327955458,
           0.013231812108776423,
           0.011393817213575682,
           0.0113710462157391,
           0.008187375398885166,
           0.010637290661828192,
           0.008754690768814901,
           0.011358922283531865,
           0.011988105599115858,
           0.01183644559645433,
           0.008094508722250883,
           0.010704022994116208,
           0.012638514578136943,
           0.011679178837078062,
           0.008849784374392692,
           0.009923121721477794,
           0.011809699197916702,
           0.011669599580412887,
           0.01104704706397005,
           0.011367473213008482,
           0.011783945658552829,
           0.011592005573901252,
           0.012745006753061386,
           0.013198440179853633,
           0.009067020018090717,
           0.01131292026317607,
           0.009228846621463277
          ]
         },
         "hovertemplate": "strategy_json={\"epsilon\":null,\"theta\":0.3}<br>strategy=ROC_mitigation<br>detection_tpr=%{x}<br>demographic_parity_audit=%{y}<extra></extra>",
         "legendgroup": "{\"epsilon\":null,\"theta\":0.3}",
         "line": {
          "color": "#00cc96",
          "dash": "solid"
         },
         "marker": {
          "symbol": "circle"
         },
         "mode": "lines",
         "name": "{\"epsilon\":null,\"theta\":0.3}",
         "orientation": "v",
         "showlegend": true,
         "type": "scatter",
         "x": [
          0,
          0.034482758620689655,
          0.06896551724137931,
          0.10344827586206896,
          0.13793103448275862,
          0.1724137931034483,
          0.20689655172413793,
          0.24137931034482757,
          0.27586206896551724,
          0.3103448275862069,
          0.3448275862068966,
          0.3793103448275862,
          0.41379310344827586,
          0.4482758620689655,
          0.48275862068965514,
          0.5,
          0.5172413793103449,
          0.5517241379310345,
          0.5555555555555556,
          0.5862068965517241,
          0.6111111111111112,
          0.6206896551724138,
          0.6551724137931034,
          0.6666666666666666,
          0.6896551724137931,
          0.7222222222222222,
          0.7241379310344828,
          0.7586206896551724,
          0.7777777777777778,
          0.7931034482758621,
          0.8275862068965517,
          0.8333333333333333,
          0.8620689655172413,
          0.8888888888888888,
          0.896551724137931,
          0.9310344827586207,
          0.9444444444444444,
          0.9655172413793103,
          1
         ],
         "xaxis": "x3",
         "y": [
          0.04110812367966201,
          0.04348313168171051,
          0.04709045515652007,
          0.039088406632097804,
          0.04391524230202931,
          0.044651430766276166,
          0.041425004801229105,
          0.04587094296139811,
          0.042618910441072896,
          0.04428333653415274,
          0.03670059535241023,
          0.04032072210485883,
          0.04180590231099161,
          0.041540234299980786,
          0.04103130401382754,
          0.043393508738236976,
          0.03637091095320403,
          0.0399654311503745,
          0.044334549644709065,
          0.03946930414186032,
          0.037552013315408764,
          0.04945265988092949,
          0.038771525510530716,
          0.04231483259714486,
          0.039914218039818206,
          0.045451635618718386,
          0.041463414634146344,
          0.04350873823698868,
          0.04592215607195442,
          0.03907560335445874,
          0.038288201779655605,
          0.043089430894308944,
          0.04192113180974329,
          0.03875872223289162,
          0.049122975481723306,
          0.04354714806990591,
          0.03940528775366494,
          0.03708149286217275,
          0.04306382433903079
         ],
         "yaxis": "y3"
        },
        {
         "error_y": {
          "array": [
           0.010787669142208306,
           0.009940750577653456,
           0.008165749219378193,
           0.011987941084117347,
           0.011686745724204394,
           0.009473637921288396,
           0.008341523609041213,
           0.010151726378840091,
           0.00855171763840504,
           0.010854467084103765,
           0.01096077435388166,
           0.00894204257336821,
           0.011394928337603935,
           0.011315519782782337,
           0.007941713515554146,
           0.011111485184318409,
           0.01120793437157202,
           0.009051597259819686,
           0.007890123075700386,
           0.011319502909121286,
           0.009728325210286076,
           0.014098130178814745,
           0.010350233756624876,
           0.012641339736908255,
           0.010367002198352274,
           0.008790591759461973,
           0.009119662522850588,
           0.010216406359314357,
           0.01071751422901597,
           0.013142982132106022,
           0.0121634428895593,
           0.008567549971880951,
           0.01235663098235583,
           0.012765368426007303,
           0.009680481832197298,
           0.010683096694340134,
           0.00993869812195376,
           0.010942190404899434,
           0.009047431391379493
          ]
         },
         "hovertemplate": "strategy_json={\"epsilon\":5.0,\"theta\":null}<br>strategy=randomized_response<br>detection_tpr=%{x}<br>demographic_parity_audit=%{y}<extra></extra>",
         "legendgroup": "{\"epsilon\":5.0,\"theta\":null}",
         "line": {
          "color": "#ab63fa",
          "dash": "solid"
         },
         "marker": {
          "symbol": "circle"
         },
         "mode": "lines",
         "name": "{\"epsilon\":5.0,\"theta\":null}",
         "orientation": "v",
         "showlegend": true,
         "type": "scatter",
         "x": [
          0,
          0.034482758620689655,
          0.06896551724137931,
          0.10344827586206896,
          0.13793103448275862,
          0.1724137931034483,
          0.20689655172413793,
          0.24137931034482757,
          0.27586206896551724,
          0.3103448275862069,
          0.3448275862068966,
          0.3793103448275862,
          0.41379310344827586,
          0.4482758620689655,
          0.48275862068965514,
          0.5,
          0.5172413793103449,
          0.5517241379310345,
          0.5555555555555556,
          0.5862068965517241,
          0.6111111111111112,
          0.6206896551724138,
          0.6551724137931034,
          0.6666666666666666,
          0.6896551724137931,
          0.7222222222222222,
          0.7241379310344828,
          0.7586206896551724,
          0.7777777777777778,
          0.7931034482758621,
          0.8275862068965517,
          0.8333333333333333,
          0.8620689655172413,
          0.8888888888888888,
          0.896551724137931,
          0.9310344827586207,
          0.9444444444444444,
          0.9655172413793103,
          1
         ],
         "xaxis": "x2",
         "y": [
          0.04467703732155433,
          0.04399206196786378,
          0.03868190256705717,
          0.04781384034312784,
          0.044651430766276166,
          0.03869470584469623,
          0.03751360348249152,
          0.045057934831316815,
          0.043063824339030776,
          0.04143780807886819,
          0.04110812367966199,
          0.040701619614621334,
          0.0466839510914794,
          0.047090455156520064,
          0.043038217783752664,
          0.04148902118942451,
          0.040714422892260425,
          0.04390243902439025,
          0.04227642276422766,
          0.04388963574675118,
          0.04265732027399015,
          0.04383842263619488,
          0.03832661161257282,
          0.03549388643492736,
          0.04030791882721977,
          0.04305102106139173,
          0.04146341463414636,
          0.04030791882721977,
          0.03756481659304785,
          0.03708149286217273,
          0.041540234299980786,
          0.042366045707701194,
          0.04303821778375264,
          0.036739005185327425,
          0.04063760322642597,
          0.045070738108955885,
          0.041501824467063575,
          0.03908840663209784,
          0.045667690928877784
         ],
         "yaxis": "y2"
        },
        {
         "error_y": {
          "array": [
           0.011084558697477149,
           0.00906283994849171,
           0.009207538835916082,
           0.012044711083528913,
           0.009370810874119844,
           0.011631466148685205,
           0.012394601900987932,
           0.01314923689319168,
           0.008855841614256375,
           0.01230882106189339,
           0.012922607636054349,
           0.008415383387685833,
           0.01121200643304825,
           0.010904229655803727,
           0.009958404553405447,
           0.009669163143902568,
           0.012057231591514402,
           0.012783234824178364,
           0.006647654601095509,
           0.009157280296301355,
           0.012107695457550263,
           0.011958314004928737,
           0.009717624734125708,
           0.010999481427314032,
           0.013049494408739887,
           0.011406678760312908,
           0.010272280026847831,
           0.009267604341911342,
           0.01264102487097677,
           0.01047759596158535,
           0.01080240582471956,
           0.009664905081689034,
           0.0113821189968152,
           0.009731939952986239,
           0.010500216724649314,
           0.00989934713399766,
           0.011196324920379908,
           0.010744876392331407,
           0.010271436634342863
          ]
         },
         "hovertemplate": "strategy_json={\"epsilon\":null,\"theta\":0.4}<br>strategy=ROC_mitigation<br>detection_tpr=%{x}<br>demographic_parity_audit=%{y}<extra></extra>",
         "legendgroup": "{\"epsilon\":null,\"theta\":0.4}",
         "line": {
          "color": "#FFA15A",
          "dash": "solid"
         },
         "marker": {
          "symbol": "circle"
         },
         "mode": "lines",
         "name": "{\"epsilon\":null,\"theta\":0.4}",
         "orientation": "v",
         "showlegend": true,
         "type": "scatter",
         "x": [
          0,
          0.034482758620689655,
          0.06896551724137931,
          0.10344827586206896,
          0.13793103448275862,
          0.1724137931034483,
          0.20689655172413793,
          0.24137931034482757,
          0.27586206896551724,
          0.3103448275862069,
          0.3448275862068966,
          0.3793103448275862,
          0.41379310344827586,
          0.4482758620689655,
          0.48275862068965514,
          0.5,
          0.5172413793103449,
          0.5517241379310345,
          0.5555555555555556,
          0.5862068965517241,
          0.6111111111111112,
          0.6206896551724138,
          0.6551724137931034,
          0.6666666666666666,
          0.6896551724137931,
          0.7222222222222222,
          0.7241379310344828,
          0.7586206896551724,
          0.7777777777777778,
          0.7931034482758621,
          0.8275862068965517,
          0.8333333333333333,
          0.8620689655172413,
          0.8888888888888888,
          0.896551724137931,
          0.9310344827586207,
          0.9444444444444444,
          0.9655172413793103,
          1
         ],
         "xaxis": "x3",
         "y": [
          0.041869918699187006,
          0.04259330388579478,
          0.04267012355162921,
          0.042353242430062076,
          0.04188272197682609,
          0.041895525254465146,
          0.0442577299788746,
          0.039520517252416634,
          0.046226233915882445,
          0.03999103770565262,
          0.04186991869918699,
          0.0370942961398118,
          0.038733115677613485,
          0.0402310991613853,
          0.04034632866013699,
          0.037487996927213385,
          0.04189552525446514,
          0.04428333653415273,
          0.03986300492926189,
          0.04505793483131683,
          0.03911401318737599,
          0.043876832469112094,
          0.045109147941873096,
          0.044296139811791826,
          0.0338422636194866,
          0.04032072210485884,
          0.04424492670123551,
          0.03710709941745087,
          0.04030791882721977,
          0.04622623391588245,
          0.04505793483131683,
          0.042302029319505816,
          0.04305102106139171,
          0.041882721976826055,
          0.04947826643620765,
          0.03788169771461497,
          0.0418187055886307,
          0.040269508994302525,
          0.04180590231099162
         ],
         "yaxis": "y3"
        },
        {
         "error_y": {
          "array": [
           0.006293307913596838,
           0.004414611741337786,
           0.009042554182739193,
           0.007658262285582304,
           0.006662184012428809,
           0.007640958994259657,
           0.008011364847560723,
           0.0050597595080533984,
           0.006464770564325004,
           0.005182263038024487,
           0.008528357022581359,
           0.008139723721986377,
           0.0063382395289805155,
           0.0065066092889663665,
           0.008712675999675935,
           0.006890005602580561,
           0.008258272876019771,
           0.009214431668861532,
           0.006395268019369433,
           0.008622856893257083,
           0.007789303697301008,
           0.008930282711513268,
           0.007492209278950568,
           0.006137974958900177,
           0.008011970674576162,
           0.007696460624019598,
           0.007854841809287269,
           0.007769433486522,
           0.006720910218444318,
           0.00931963383197598,
           0.007077645046448406,
           0.006011770289942238,
           0.005568488442691252,
           0.007113630490676161,
           0.007535028366579493,
           0.009229393623165986,
           0.007198740698207833,
           0.00823532704562612,
           0.006800235271330904
          ]
         },
         "hovertemplate": "strategy_json={\"epsilon\":null,\"theta\":0.5333333333333333}<br>strategy=ROC_mitigation<br>detection_tpr=%{x}<br>demographic_parity_audit=%{y}<extra></extra>",
         "legendgroup": "{\"epsilon\":null,\"theta\":0.5333333333333333}",
         "line": {
          "color": "#19d3f3",
          "dash": "solid"
         },
         "marker": {
          "symbol": "circle"
         },
         "mode": "lines",
         "name": "{\"epsilon\":null,\"theta\":0.5333333333333333}",
         "orientation": "v",
         "showlegend": true,
         "type": "scatter",
         "x": [
          0,
          0.034482758620689655,
          0.06896551724137931,
          0.10344827586206896,
          0.13793103448275862,
          0.1724137931034483,
          0.20689655172413793,
          0.24137931034482757,
          0.27586206896551724,
          0.3103448275862069,
          0.3448275862068966,
          0.3793103448275862,
          0.41379310344827586,
          0.4482758620689655,
          0.48275862068965514,
          0.5,
          0.5172413793103449,
          0.5517241379310345,
          0.5555555555555556,
          0.5862068965517241,
          0.6111111111111112,
          0.6206896551724138,
          0.6551724137931034,
          0.6666666666666666,
          0.6896551724137931,
          0.7222222222222222,
          0.7241379310344828,
          0.7586206896551724,
          0.7777777777777778,
          0.7931034482758621,
          0.8275862068965517,
          0.8333333333333333,
          0.8620689655172413,
          0.8888888888888888,
          0.896551724137931,
          0.9310344827586207,
          0.9444444444444444,
          0.9655172413793103,
          1
         ],
         "xaxis": "x3",
         "y": [
          0.02950195249983998,
          0.03150886626976508,
          0.029655591831508822,
          0.029895653287241565,
          0.03108955892708537,
          0.02826643620766921,
          0.028752960757954048,
          0.030657448306766533,
          0.02713974777543049,
          0.028253632930030092,
          0.029130657448306795,
          0.030327763907560357,
          0.03637411177261378,
          0.029959669675436916,
          0.027152551053069594,
          0.02873695666090521,
          0.030020485244222517,
          0.02712694449779145,
          0.02829524358235711,
          0.027559055118110232,
          0.029565968888035355,
          0.030721464694961932,
          0.02555214134818513,
          0.03156007938032138,
          0.027101337942513293,
          0.03481211190064655,
          0.03550989053197621,
          0.028282440304718038,
          0.025536137251136282,
          0.02995966967543696,
          0.03150886626976508,
          0.025526534792907018,
          0.03189936623775689,
          0.0312175917034761,
          0.027136546956020746,
          0.028711350105627052,
          0.03001088278599321,
          0.02917226810063376,
          0.02932430702259779
         ],
         "yaxis": "y3"
        },
        {
         "error_y": {
          "array": [
           0.011328521320623055,
           0.012726930520049945,
           0.012925858960211315,
           0.010595655769137294,
           0.009357893204434274,
           0.010661955879165264,
           0.011582467000666398,
           0.012798631006563447,
           0.008396029058535596,
           0.010727647366313956,
           0.01001392734862279,
           0.009777537502736916,
           0.009928411678583209,
           0.008087713474224281,
           0.012029542757085643,
           0.008221415407703268,
           0.01135599731552361,
           0.011389626201678535,
           0.008940432951954853,
           0.011657136448349537,
           0.007943916300985983,
           0.011828559162223097,
           0.00833342200545613,
           0.012133815188980832,
           0.009854017702884865,
           0.010708785379473267,
           0.009088594684210862,
           0.010881615512995844,
           0.008492183789386017,
           0.011433148833202766,
           0.009840506085589062,
           0.010771673289512663,
           0.009098555929339863,
           0.010907074056178629,
           0.012485404273297349,
           0.011275949360860668,
           0.008148088965034236,
           0.010926880444753598,
           0.009371951374863923
          ]
         },
         "hovertemplate": "strategy_json={\"epsilon\":8.0,\"theta\":null}<br>strategy=randomized_response<br>detection_tpr=%{x}<br>demographic_parity_audit=%{y}<extra></extra>",
         "legendgroup": "{\"epsilon\":8.0,\"theta\":null}",
         "line": {
          "color": "#FF6692",
          "dash": "solid"
         },
         "marker": {
          "symbol": "circle"
         },
         "mode": "lines",
         "name": "{\"epsilon\":8.0,\"theta\":null}",
         "orientation": "v",
         "showlegend": true,
         "type": "scatter",
         "x": [
          0,
          0.034482758620689655,
          0.06896551724137931,
          0.10344827586206896,
          0.13793103448275862,
          0.1724137931034483,
          0.20689655172413793,
          0.24137931034482757,
          0.27586206896551724,
          0.3103448275862069,
          0.3448275862068966,
          0.3793103448275862,
          0.41379310344827586,
          0.4482758620689655,
          0.48275862068965514,
          0.5,
          0.5172413793103449,
          0.5517241379310345,
          0.5555555555555556,
          0.5862068965517241,
          0.6111111111111112,
          0.6206896551724138,
          0.6551724137931034,
          0.6666666666666666,
          0.6896551724137931,
          0.7222222222222222,
          0.7241379310344828,
          0.7586206896551724,
          0.7777777777777778,
          0.7931034482758621,
          0.8275862068965517,
          0.8333333333333333,
          0.8620689655172413,
          0.8888888888888888,
          0.896551724137931,
          0.9310344827586207,
          0.9444444444444444,
          0.9655172413793103,
          1
         ],
         "xaxis": "x2",
         "y": [
          0.04385122591383395,
          0.038745918955252534,
          0.03982459509634466,
          0.04352154151462776,
          0.03633250112028682,
          0.041869918699187006,
          0.039114013187375986,
          0.04383842263619484,
          0.03954612380769477,
          0.03662377568657579,
          0.044651430766276166,
          0.04665834453620127,
          0.04585813968375905,
          0.04583253312848089,
          0.04277254977274183,
          0.041946738365021455,
          0.0386690992894181,
          0.044270533256513665,
          0.039456500864221256,
          0.04705204532360284,
          0.03797132065808845,
          0.044270533256513665,
          0.039875808206900974,
          0.041882721976826076,
          0.04434735292234811,
          0.04189552525446516,
          0.041463414634146344,
          0.03986300492926189,
          0.04355995134754498,
          0.03864349273413996,
          0.03822418539146023,
          0.04355995134754498,
          0.03908840663209784,
          0.043076627616669874,
          0.04028231227194166,
          0.037868894436975865,
          0.03870750912233534,
          0.04308943089430893,
          0.041869918699187
         ],
         "yaxis": "y2"
        },
        {
         "error_y": {
          "array": [
           0.014462296913181037,
           0.01418773990082417,
           0.015596456431460699,
           0.01619127229578085,
           0.013816904705425724,
           0.01591780799669846,
           0.015028371215556283,
           0.016345107719283134,
           0.017259913458594563,
           0.014862982268118705,
           0.016573245443814263,
           0.013793700346512243,
           0.014010755660833723,
           0.015480152300099406,
           0.013447032056079061,
           0.014747183970440505,
           0.013417927546384465,
           0.014505541297843203,
           0.017022013596276177,
           0.018354014979132322,
           0.015096563543207904,
           0.014596194162392117,
           0.014396510741567371,
           0.016295296325601005,
           0.014261320474799178,
           0.017495536156344596,
           0.017015814887876082,
           0.016051030343564907,
           0.014660793650257794,
           0.014575631026308489,
           0.017021471442361703,
           0.01492023317546051,
           0.01608515466168659,
           0.015709243240604555,
           0.01757017547989507,
           0.015091516107052639,
           0.0157334890277923,
           0.015094360662409156,
           0.014688568622031007
          ]
         },
         "hovertemplate": "strategy_json={\"epsilon\":null,\"theta\":0.6}<br>strategy=ROC_mitigation<br>detection_tpr=%{x}<br>demographic_parity_audit=%{y}<extra></extra>",
         "legendgroup": "{\"epsilon\":null,\"theta\":0.6}",
         "line": {
          "color": "#B6E880",
          "dash": "solid"
         },
         "marker": {
          "symbol": "circle"
         },
         "mode": "lines",
         "name": "{\"epsilon\":null,\"theta\":0.6}",
         "orientation": "v",
         "showlegend": true,
         "type": "scatter",
         "x": [
          0,
          0.034482758620689655,
          0.06896551724137931,
          0.10344827586206896,
          0.13793103448275862,
          0.1724137931034483,
          0.20689655172413793,
          0.24137931034482757,
          0.27586206896551724,
          0.3103448275862069,
          0.3448275862068966,
          0.3793103448275862,
          0.41379310344827586,
          0.4482758620689655,
          0.48275862068965514,
          0.5,
          0.5172413793103449,
          0.5517241379310345,
          0.5555555555555556,
          0.5862068965517241,
          0.6111111111111112,
          0.6206896551724138,
          0.6551724137931034,
          0.6666666666666666,
          0.6896551724137931,
          0.7222222222222222,
          0.7241379310344828,
          0.7586206896551724,
          0.7777777777777778,
          0.7931034482758621,
          0.8275862068965517,
          0.8333333333333333,
          0.8620689655172413,
          0.8888888888888888,
          0.896551724137931,
          0.9310344827586207,
          0.9444444444444444,
          0.9655172413793103,
          1
         ],
         "xaxis": "x3",
         "y": [
          0.040522373727674275,
          0.04209077523846104,
          0.043342295627680674,
          0.04285897189680558,
          0.03847705012483197,
          0.04085845976570003,
          0.04849241405799885,
          0.04571090199090969,
          0.041328980218936065,
          0.042929389923820525,
          0.043614365277511044,
          0.04536841431406441,
          0.03608923884514433,
          0.04492990205492607,
          0.04491709877728699,
          0.03930926317137188,
          0.039715767236412514,
          0.03730875104026633,
          0.04049036553357662,
          0.04328468087830487,
          0.042465271109404026,
          0.04528519300941044,
          0.044504193073426776,
          0.04653031175981052,
          0.04494910697138469,
          0.04300620958965497,
          0.04160745150758592,
          0.041684271173420384,
          0.042103578516100124,
          0.0369406568081429,
          0.04257409896933616,
          0.037696050188848376,
          0.04653031175981052,
          0.04050316881121566,
          0.0425292874975994,
          0.03765123871711159,
          0.044593816016900344,
          0.043323090711222076,
          0.039867806158376554
         ],
         "yaxis": "y3"
        },
        {
         "error_y": {
          "array": [
           0.013754408715983603,
           0.011806097756870684,
           0.011129709132759132,
           0.007776656717905837,
           0.011046183139090726,
           0.010619993215986334,
           0.010189541014668336,
           0.010038837487654884,
           0.012168514572548209,
           0.009544674152720702,
           0.010256752733959769,
           0.011740938281812753,
           0.009114254723848981,
           0.010156544223286518,
           0.008765071529788452,
           0.007473882478733153,
           0.008746530561678373,
           0.00897337804719571,
           0.011616845893933844,
           0.011020595305296088,
           0.010443340324401707,
           0.009973585072047146,
           0.012536027300340834,
           0.010866961027439467,
           0.013098932941344133,
           0.00961589094175861,
           0.009122253893124575,
           0.013184448680458549,
           0.009267778178599917,
           0.010811746593303754,
           0.00841444742676037,
           0.01015966426067976,
           0.010966414866904771,
           0.009980587349411135,
           0.010368978520578423,
           0.011763587682017572,
           0.007735789193392091,
           0.0103057604733159,
           0.01078062988273364
          ]
         },
         "hovertemplate": "strategy_json={\"epsilon\":null,\"theta\":0.43333333333333335}<br>strategy=ROC_mitigation<br>detection_tpr=%{x}<br>demographic_parity_audit=%{y}<extra></extra>",
         "legendgroup": "{\"epsilon\":null,\"theta\":0.43333333333333335}",
         "line": {
          "color": "#FF97FF",
          "dash": "solid"
         },
         "marker": {
          "symbol": "circle"
         },
         "mode": "lines",
         "name": "{\"epsilon\":null,\"theta\":0.43333333333333335}",
         "orientation": "v",
         "showlegend": true,
         "type": "scatter",
         "x": [
          0,
          0.034482758620689655,
          0.06896551724137931,
          0.10344827586206896,
          0.13793103448275862,
          0.1724137931034483,
          0.20689655172413793,
          0.24137931034482757,
          0.27586206896551724,
          0.3103448275862069,
          0.3448275862068966,
          0.3793103448275862,
          0.41379310344827586,
          0.4482758620689655,
          0.48275862068965514,
          0.5,
          0.5172413793103449,
          0.5517241379310345,
          0.5555555555555556,
          0.5862068965517241,
          0.6111111111111112,
          0.6206896551724138,
          0.6551724137931034,
          0.6666666666666666,
          0.6896551724137931,
          0.7222222222222222,
          0.7241379310344828,
          0.7586206896551724,
          0.7777777777777778,
          0.7931034482758621,
          0.8275862068965517,
          0.8333333333333333,
          0.8620689655172413,
          0.8888888888888888,
          0.896551724137931,
          0.9310344827586207,
          0.9444444444444444,
          0.9655172413793103,
          1
         ],
         "xaxis": "x3",
         "y": [
          0.044270533256513665,
          0.045579668395109164,
          0.040295115549580686,
          0.04227642276422765,
          0.042263619486588556,
          0.03675180846296654,
          0.042682926829268275,
          0.03949491069713847,
          0.036319697842647734,
          0.046200627360604284,
          0.04232763587478394,
          0.04061199667114781,
          0.0438768324691121,
          0.04350873823698868,
          0.04237884898534026,
          0.04348313168171053,
          0.03915242302029318,
          0.04100569745854941,
          0.04108251712438384,
          0.043470328404071425,
          0.04152743102234173,
          0.04306382433903081,
          0.04468984059919336,
          0.045019524998399583,
          0.04106971384674475,
          0.04588374623903718,
          0.0462518404711606,
          0.04421932014595734,
          0.04260610716343386,
          0.04508354138659496,
          0.04193393508738237,
          0.040663209781704124,
          0.039863004929261904,
          0.041844312143908845,
          0.03710709941745087,
          0.04146341463414636,
          0.04663273798092312,
          0.04029511554958069,
          0.040656808142884596
         ],
         "yaxis": "y3"
        },
        {
         "error_y": {
          "array": [
           0.012775809750316934,
           0.007613640982860714,
           0.011328554782492475,
           0.009859575164024147,
           0.012106216674167001,
           0.012707953065575405,
           0.012370848796071953,
           0.007712966320696536,
           0.010333969020187463,
           0.009223600585786083,
           0.009088903267471025,
           0.008160279576048847,
           0.008612848944219008,
           0.012403851496582899,
           0.009303760722877781,
           0.010885287993248349,
           0.010687882303701464,
           0.011715400884370059,
           0.01086913912177699,
           0.011410764071771936,
           0.011208774175393052,
           0.010351686268939028,
           0.012224727199862475,
           0.011384410015429737,
           0.010079602922731048,
           0.011220796923829074,
           0.008856832146917768,
           0.009763823514592679,
           0.008532521866398858,
           0.011817229976324726,
           0.011027950993261874,
           0.009130891531734424,
           0.006889450567953762,
           0.011264162160386443,
           0.01035176371404248,
           0.008884955225000076,
           0.010030822374734042,
           0.012108274016769519,
           0.010069431254345415
          ]
         },
         "hovertemplate": "strategy_json={\"epsilon\":10.0,\"theta\":null}<br>strategy=randomized_response<br>detection_tpr=%{x}<br>demographic_parity_audit=%{y}<extra></extra>",
         "legendgroup": "{\"epsilon\":10.0,\"theta\":null}",
         "line": {
          "color": "#FECB52",
          "dash": "solid"
         },
         "marker": {
          "symbol": "circle"
         },
         "mode": "lines",
         "name": "{\"epsilon\":10.0,\"theta\":null}",
         "orientation": "v",
         "showlegend": true,
         "type": "scatter",
         "x": [
          0,
          0.034482758620689655,
          0.06896551724137931,
          0.10344827586206896,
          0.13793103448275862,
          0.1724137931034483,
          0.20689655172413793,
          0.24137931034482757,
          0.27586206896551724,
          0.3103448275862069,
          0.3448275862068966,
          0.3793103448275862,
          0.41379310344827586,
          0.4482758620689655,
          0.48275862068965514,
          0.5,
          0.5172413793103449,
          0.5517241379310345,
          0.5555555555555556,
          0.5862068965517241,
          0.6111111111111112,
          0.6206896551724138,
          0.6551724137931034,
          0.6666666666666666,
          0.6896551724137931,
          0.7222222222222222,
          0.7241379310344828,
          0.7586206896551724,
          0.7777777777777778,
          0.7931034482758621,
          0.8275862068965517,
          0.8333333333333333,
          0.8620689655172413,
          0.8888888888888888,
          0.896551724137931,
          0.9310344827586207,
          0.9444444444444444,
          0.9655172413793103,
          1
         ],
         "xaxis": "x2",
         "y": [
          0.040307918827219756,
          0.03986300492926189,
          0.03662377568657575,
          0.045502848729274695,
          0.043915242302029325,
          0.04345752512643235,
          0.041844312143908824,
          0.03822418539146022,
          0.04395365213494654,
          0.042670123551629226,
          0.040701619614621334,
          0.039456500864221256,
          0.042173996543115044,
          0.040650406504065026,
          0.03987580820690099,
          0.03992702131745727,
          0.039165226297932274,
          0.03950771397477755,
          0.03756481659304782,
          0.04231483259714488,
          0.03831380833493375,
          0.0406632097817041,
          0.03911401318737597,
          0.046367069969912286,
          0.03913961974265412,
          0.03832661161257282,
          0.04707765187888098,
          0.043876832469112094,
          0.04629025030407783,
          0.044664234043915244,
          0.042302029319505795,
          0.041617053965815276,
          0.0511170859740093,
          0.04150182446706359,
          0.04225081620894951,
          0.04021829588374628,
          0.039049996799180586,
          0.04231483259714488,
          0.04187632033800654
         ],
         "yaxis": "y2"
        },
        {
         "error_y": {
          "array": [
           0.010798249749082112,
           0.012295822882959098,
           0.012669609238146577,
           0.012389957045515633,
           0.011992570998546746,
           0.012121382450122328,
           0.01178023893850981,
           0.008843661007099471,
           0.01026168001460798,
           0.011526714668537903,
           0.011519029982887001,
           0.009129746696491265,
           0.009772488254424939,
           0.008374577134239261,
           0.009077100596717385,
           0.011405661526684398,
           0.007398507989316182,
           0.011489863471468405,
           0.009580424114945807,
           0.01083890395760933,
           0.011068583701001094,
           0.01287613643753123,
           0.009067199395277005,
           0.00923946392949935,
           0.011401180576741669,
           0.009905856586813208,
           0.012099756355664359,
           0.011936982336163856,
           0.011326830010903653,
           0.011599658253701099,
           0.00918620253771901,
           0.00973283263926129,
           0.011880123781722596,
           0.010536111050028581,
           0.009546384729294852,
           0.009833220685230694,
           0.007342861461654505,
           0.010222269184624239,
           0.00885417068083055
          ]
         },
         "hovertemplate": "strategy_json={\"epsilon\":null,\"theta\":0.5}<br>strategy=ROC_mitigation<br>detection_tpr=%{x}<br>demographic_parity_audit=%{y}<extra></extra>",
         "legendgroup": "{\"epsilon\":null,\"theta\":0.5}",
         "line": {
          "color": "#636efa",
          "dash": "solid"
         },
         "marker": {
          "symbol": "circle"
         },
         "mode": "lines",
         "name": "{\"epsilon\":null,\"theta\":0.5}",
         "orientation": "v",
         "showlegend": true,
         "type": "scatter",
         "x": [
          0,
          0.034482758620689655,
          0.06896551724137931,
          0.10344827586206896,
          0.13793103448275862,
          0.1724137931034483,
          0.20689655172413793,
          0.24137931034482757,
          0.27586206896551724,
          0.3103448275862069,
          0.3448275862068966,
          0.3793103448275862,
          0.41379310344827586,
          0.4482758620689655,
          0.48275862068965514,
          0.5,
          0.5172413793103449,
          0.5517241379310345,
          0.5555555555555556,
          0.5862068965517241,
          0.6111111111111112,
          0.6206896551724138,
          0.6551724137931034,
          0.6666666666666666,
          0.6896551724137931,
          0.7222222222222222,
          0.7241379310344828,
          0.7586206896551724,
          0.7777777777777778,
          0.7931034482758621,
          0.8275862068965517,
          0.8333333333333333,
          0.8620689655172413,
          0.8888888888888888,
          0.896551724137931,
          0.9310344827586207,
          0.9444444444444444,
          0.9655172413793103,
          1
         ],
         "xaxis": "x3",
         "y": [
          0.04621343063824338,
          0.0439792586902247,
          0.03986300492926189,
          0.03948210741949938,
          0.048271557518724785,
          0.03863068945650087,
          0.042302029319505816,
          0.04866525830612635,
          0.03907560335445874,
          0.03788169771461495,
          0.045477242173996554,
          0.0458709429613981,
          0.04110812367966199,
          0.04181870558863069,
          0.04152743102234173,
          0.039443697586582185,
          0.03906280007681967,
          0.04184431214390884,
          0.04068881633698225,
          0.0458837462390372,
          0.041895525254465125,
          0.04537481595288394,
          0.03953332053005569,
          0.04139939824595097,
          0.04622623391588245,
          0.04152743102234173,
          0.04467703732155433,
          0.037487996927213385,
          0.03948210741949937,
          0.04467703732155433,
          0.037881697714614936,
          0.04552845528455287,
          0.0394821074194994,
          0.04385122591383393,
          0.0391012099097369,
          0.04234043915242301,
          0.04498111516548238,
          0.04508354138659496,
          0.04269573010690739
         ],
         "yaxis": "y3"
        },
        {
         "error_y": {
          "array": [
           0.008631799617399558,
           0.01035036119984887,
           0.013610444751494297,
           0.012121354980414327,
           0.009271036253246195,
           0.008138075323680077,
           0.007917512303514009,
           0.009479874740694613,
           0.010325451739712919,
           0.009411213862193901,
           0.009984654095411117,
           0.00824268331087541,
           0.011824700074201867,
           0.010404776146599414,
           0.009150163865654811,
           0.01094141792470236,
           0.01086028450591579,
           0.011657411754817854,
           0.009161819297093142,
           0.010398182693250022,
           0.0113663283079371,
           0.00764697126753616,
           0.011015040669119928,
           0.010310142651914917,
           0.009046246453598182,
           0.011204986447700167,
           0.011735316244992695,
           0.01214935782734999,
           0.008964526926602,
           0.009934040193783715,
           0.00960723613074866,
           0.010176156247883445,
           0.006227660776145718,
           0.010803719072970605,
           0.009625082708412287,
           0.008368138791461989,
           0.012785797835061003,
           0.011218578200389288,
           0.010820618414795475
          ]
         },
         "hovertemplate": "strategy_json={\"epsilon\":null,\"theta\":0.3333333333333333}<br>strategy=ROC_mitigation<br>detection_tpr=%{x}<br>demographic_parity_audit=%{y}<extra></extra>",
         "legendgroup": "{\"epsilon\":null,\"theta\":0.3333333333333333}",
         "line": {
          "color": "#EF553B",
          "dash": "solid"
         },
         "marker": {
          "symbol": "circle"
         },
         "mode": "lines",
         "name": "{\"epsilon\":null,\"theta\":0.3333333333333333}",
         "orientation": "v",
         "showlegend": true,
         "type": "scatter",
         "x": [
          0,
          0.034482758620689655,
          0.06896551724137931,
          0.10344827586206896,
          0.13793103448275862,
          0.1724137931034483,
          0.20689655172413793,
          0.24137931034482757,
          0.27586206896551724,
          0.3103448275862069,
          0.3448275862068966,
          0.3793103448275862,
          0.41379310344827586,
          0.4482758620689655,
          0.48275862068965514,
          0.5,
          0.5172413793103449,
          0.5517241379310345,
          0.5555555555555556,
          0.5862068965517241,
          0.6111111111111112,
          0.6206896551724138,
          0.6551724137931034,
          0.6666666666666666,
          0.6896551724137931,
          0.7222222222222222,
          0.7241379310344828,
          0.7586206896551724,
          0.7777777777777778,
          0.7931034482758621,
          0.8275862068965517,
          0.8333333333333333,
          0.8620689655172413,
          0.8888888888888888,
          0.896551724137931,
          0.9310344827586207,
          0.9444444444444444,
          0.9655172413793103,
          1
         ],
         "xaxis": "x3",
         "y": [
          0.04180590231099161,
          0.04150182446706356,
          0.0427341399398246,
          0.04195954164266054,
          0.04110812367966201,
          0.04392804557966841,
          0.03830100505729467,
          0.04192113180974331,
          0.04061199667114782,
          0.04546443889635746,
          0.03907560335445874,
          0.04311503744958709,
          0.043089430894308944,
          0.03902439024390246,
          0.04231483259714486,
          0.043444721848793263,
          0.043470328404071445,
          0.040307918827219756,
          0.044715447154471545,
          0.04230202931950579,
          0.04186991869918701,
          0.03824979194673839,
          0.04549004545163561,
          0.041489021189424505,
          0.041120926957301095,
          0.0458325331284809,
          0.041108123679662024,
          0.04270853338454646,
          0.03507457909224763,
          0.039927021317457276,
          0.03832661161257282,
          0.04783944689840601,
          0.046315856859356,
          0.040701619614621355,
          0.04188272197682609,
          0.04070161961462136,
          0.036306894565008616,
          0.043012611228474495,
          0.04090487164714167
         ],
         "yaxis": "y3"
        },
        {
         "error_y": {
          "array": [
           0.011488818378708592,
           0.010565656395543462,
           0.013622067874389587,
           0.009066604753349552,
           0.011725006727126236,
           0.01155598388191909,
           0.009926709910225403,
           0.01091597518823464,
           0.009945054076158488,
           0.009962129926911988,
           0.008988433501832776,
           0.012511437041457553,
           0.010136988753994332,
           0.008359869042873256,
           0.012230037769170357,
           0.012263665660038413,
           0.01015433485694358,
           0.009281291257507545,
           0.009583091078894565,
           0.00918894628965248,
           0.010353324369194757,
           0.012497815497293405,
           0.011511120331767691,
           0.013384141298649066,
           0.010633419562445767,
           0.010694827632324662,
           0.008607409586193252,
           0.010941180083454977,
           0.007123336402163275,
           0.01184269594161569,
           0.008643862152769553,
           0.009408858880360542,
           0.010697110692497522,
           0.009960609807475094,
           0.01007607273962132,
           0.008416471406532944,
           0.010002965999084791,
           0.008303664332811742,
           0.011349044153835485
          ]
         },
         "hovertemplate": "strategy_json={\"epsilon\":null,\"theta\":0.4666666666666667}<br>strategy=ROC_mitigation<br>detection_tpr=%{x}<br>demographic_parity_audit=%{y}<extra></extra>",
         "legendgroup": "{\"epsilon\":null,\"theta\":0.4666666666666667}",
         "line": {
          "color": "#00cc96",
          "dash": "solid"
         },
         "marker": {
          "symbol": "circle"
         },
         "mode": "lines",
         "name": "{\"epsilon\":null,\"theta\":0.4666666666666667}",
         "orientation": "v",
         "showlegend": true,
         "type": "scatter",
         "x": [
          0,
          0.034482758620689655,
          0.06896551724137931,
          0.10344827586206896,
          0.13793103448275862,
          0.1724137931034483,
          0.20689655172413793,
          0.24137931034482757,
          0.27586206896551724,
          0.3103448275862069,
          0.3448275862068966,
          0.3793103448275862,
          0.41379310344827586,
          0.4482758620689655,
          0.48275862068965514,
          0.5,
          0.5172413793103449,
          0.5517241379310345,
          0.5555555555555556,
          0.5862068965517241,
          0.6111111111111112,
          0.6206896551724138,
          0.6551724137931034,
          0.6666666666666666,
          0.6896551724137931,
          0.7222222222222222,
          0.7241379310344828,
          0.7586206896551724,
          0.7777777777777778,
          0.7931034482758621,
          0.8275862068965517,
          0.8333333333333333,
          0.8620689655172413,
          0.8888888888888888,
          0.896551724137931,
          0.9310344827586207,
          0.9444444444444444,
          0.9655172413793103,
          1
         ],
         "xaxis": "x3",
         "y": [
          0.040282312271941643,
          0.0391012099097369,
          0.04429613981179183,
          0.041869918699187006,
          0.04185711542154791,
          0.03870750912233532,
          0.04143780807886821,
          0.03944369758658219,
          0.043889635746751164,
          0.03802253376864476,
          0.040663209781704124,
          0.0482075411305294,
          0.04192113180974329,
          0.037894500992254034,
          0.039901414762179135,
          0.03913961974265413,
          0.04272133666218551,
          0.04024390243902436,
          0.040650406504065054,
          0.045096344664234025,
          0.04148902118942447,
          0.04311503744958707,
          0.04395365213494658,
          0.04508354138659498,
          0.048309967351642,
          0.04752256577683885,
          0.046367069969912286,
          0.03953332053005574,
          0.0391524230202932,
          0.043127840727226155,
          0.041869918699187006,
          0.043915242302029346,
          0.039837398373983736,
          0.04268292682926829,
          0.03667498879713209,
          0.04472825043211063,
          0.04068881633698227,
          0.04029511554958067,
          0.042670123551629205
         ],
         "yaxis": "y3"
        },
        {
         "error_y": {
          "array": [
           0.009423816553758827,
           0.008888461399608125,
           0.009842728386661392,
           0.011400028047786477,
           0.010246581109840001,
           0.011478734413378504,
           0.011592655384249743,
           0.010160182325079717,
           0.007662690136227485,
           0.011163868255796905,
           0.008570045881913901,
           0.012821294977362143,
           0.010286488680419249,
           0.010914938504828305,
           0.00810420990247672,
           0.008895129258011171,
           0.012253286254247438,
           0.01276537625117173,
           0.00979447732078848,
           0.007714536560659406,
           0.008962305207269332,
           0.012897798423700679,
           0.010076207971716438,
           0.011122622237934367,
           0.012439244118271348,
           0.010551071640451107,
           0.01087423998020748,
           0.014115312382970199,
           0.00904111458728947,
           0.00789775774861935,
           0.011594642592459894,
           0.010215372647450992,
           0.008910415811724172,
           0.011920408217305566,
           0.013386942649269363,
           0.010887194934917327,
           0.012689013234648945,
           0.011535352377321739,
           0.011549791689249177
          ]
         },
         "hovertemplate": "strategy_json={\"epsilon\":9.0,\"theta\":null}<br>strategy=randomized_response<br>detection_tpr=%{x}<br>demographic_parity_audit=%{y}<extra></extra>",
         "legendgroup": "{\"epsilon\":9.0,\"theta\":null}",
         "line": {
          "color": "#ab63fa",
          "dash": "solid"
         },
         "marker": {
          "symbol": "circle"
         },
         "mode": "lines",
         "name": "{\"epsilon\":9.0,\"theta\":null}",
         "orientation": "v",
         "showlegend": true,
         "type": "scatter",
         "x": [
          0,
          0.034482758620689655,
          0.06896551724137931,
          0.10344827586206896,
          0.13793103448275862,
          0.1724137931034483,
          0.20689655172413793,
          0.24137931034482757,
          0.27586206896551724,
          0.3103448275862069,
          0.3448275862068966,
          0.3793103448275862,
          0.41379310344827586,
          0.4482758620689655,
          0.48275862068965514,
          0.5,
          0.5172413793103449,
          0.5517241379310345,
          0.5555555555555556,
          0.5862068965517241,
          0.6111111111111112,
          0.6206896551724138,
          0.6551724137931034,
          0.6666666666666666,
          0.6896551724137931,
          0.7222222222222222,
          0.7241379310344828,
          0.7586206896551724,
          0.7777777777777778,
          0.7931034482758621,
          0.8275862068965517,
          0.8333333333333333,
          0.8620689655172413,
          0.8888888888888888,
          0.896551724137931,
          0.9310344827586207,
          0.9444444444444444,
          0.9655172413793103,
          1
         ],
         "xaxis": "x2",
         "y": [
          0.03708149286217273,
          0.03824979194673839,
          0.04470264387683248,
          0.04068881633698229,
          0.045451635618718386,
          0.03870750912233532,
          0.043012611228474475,
          0.04189552525446516,
          0.041844312143908824,
          0.04113373023494012,
          0.046696754369118486,
          0.0391012099097369,
          0.04150182446706353,
          0.03837782472312913,
          0.04354714806990591,
          0.048690864861404504,
          0.04509634466423403,
          0.04269573010690738,
          0.04551565200691378,
          0.041869918699187006,
          0.041044107291466625,
          0.040637603226425956,
          0.03911401318737597,
          0.03949491069713847,
          0.0463542666922732,
          0.04151462774470264,
          0.03792010754753215,
          0.043483131681710516,
          0.04259330388579476,
          0.040676013059343194,
          0.03988861148454005,
          0.04181870558863069,
          0.04310223417194801,
          0.04308943089430893,
          0.039914218039818206,
          0.04349593495934958,
          0.04235324243006213,
          0.04349593495934959,
          0.04047916266564241
         ],
         "yaxis": "y2"
        },
        {
         "error_y": {
          "array": [
           0.012371845466208127,
           0.009323801515443531,
           0.0064271553112882065,
           0.010074505999402619,
           0.013412853758559155,
           0.008881196187530995,
           0.00823033249435631,
           0.011465301392930533,
           0.008604909630898902,
           0.008702768986287806,
           0.011395465091058493,
           0.010136293888146596,
           0.009042928066141195,
           0.008611731010555077,
           0.008278282834728845,
           0.008826150844808645,
           0.01052668117776907,
           0.008461651405868936,
           0.010391616112712792,
           0.009464722867070313,
           0.0075677511511498255,
           0.008451643188061473,
           0.010650559569739326,
           0.010177327831451045,
           0.011145398424956486,
           0.009781748106473948,
           0.0084531928683486,
           0.011376398887759544,
           0.0088139062486414,
           0.00670985086301602,
           0.010920781644253799,
           0.013038204401815552,
           0.011573445965803928,
           0.013673199946712473,
           0.012209544413836577,
           0.01207345517350682,
           0.011562804062946483,
           0.01028724560534218,
           0.010442122466399485
          ]
         },
         "hovertemplate": "strategy_json={\"epsilon\":null,\"theta\":0.36666666666666664}<br>strategy=ROC_mitigation<br>detection_tpr=%{x}<br>demographic_parity_audit=%{y}<extra></extra>",
         "legendgroup": "{\"epsilon\":null,\"theta\":0.36666666666666664}",
         "line": {
          "color": "#FFA15A",
          "dash": "solid"
         },
         "marker": {
          "symbol": "circle"
         },
         "mode": "lines",
         "name": "{\"epsilon\":null,\"theta\":0.36666666666666664}",
         "orientation": "v",
         "showlegend": true,
         "type": "scatter",
         "x": [
          0,
          0.034482758620689655,
          0.06896551724137931,
          0.10344827586206896,
          0.13793103448275862,
          0.1724137931034483,
          0.20689655172413793,
          0.24137931034482757,
          0.27586206896551724,
          0.3103448275862069,
          0.3448275862068966,
          0.3793103448275862,
          0.41379310344827586,
          0.4482758620689655,
          0.48275862068965514,
          0.5,
          0.5172413793103449,
          0.5517241379310345,
          0.5555555555555556,
          0.5862068965517241,
          0.6111111111111112,
          0.6206896551724138,
          0.6551724137931034,
          0.6666666666666666,
          0.6896551724137931,
          0.7222222222222222,
          0.7241379310344828,
          0.7586206896551724,
          0.7777777777777778,
          0.7931034482758621,
          0.8275862068965517,
          0.8333333333333333,
          0.8620689655172413,
          0.8888888888888888,
          0.896551724137931,
          0.9310344827586207,
          0.9444444444444444,
          0.9655172413793103,
          1
         ],
         "xaxis": "x3",
         "y": [
          0.04556686511747006,
          0.044257729978874574,
          0.04063760322642597,
          0.042618910441072896,
          0.03435119390563983,
          0.043508738236988656,
          0.04185711542154791,
          0.045464438896357484,
          0.04226361948658858,
          0.04507073810895588,
          0.04549004545163564,
          0.03915242302029322,
          0.0370814928621727,
          0.04148902118942449,
          0.039469304141860326,
          0.04430894308943091,
          0.03672620190768838,
          0.03462966519428973,
          0.04306382433903079,
          0.04270853338454644,
          0.040624799948786885,
          0.04547724217399653,
          0.04432174636706997,
          0.044232123423596434,
          0.046683951091479416,
          0.04028231227194164,
          0.04786505345368414,
          0.037158312528007165,
          0.04148902118942451,
          0.03875872223289163,
          0.043102234171948015,
          0.04312784072722616,
          0.04195954164266051,
          0.0382241853914602,
          0.04385122591383396,
          0.03751360348249151,
          0.04345752512643235,
          0.042670123551629226,
          0.0394500992254017
         ],
         "yaxis": "y3"
        },
        {
         "error_y": {
          "array": [
           0.010724755617642294,
           0.008908821176289853,
           0.009474674702635313,
           0.00849277220635905,
           0.009366669849862251,
           0.007629661168791574,
           0.011167506401377095,
           0.01156392707923644,
           0.012108303208421626,
           0.008399169696768283,
           0.008935013854378055,
           0.010946197063517784,
           0.008410254870491105,
           0.009360426010409139,
           0.010768339306128706,
           0.009940750577653451,
           0.011076522166420402,
           0.012113429694153022,
           0.01106226689153218,
           0.009211055692793582,
           0.011368313397666798,
           0.010091388946278422,
           0.014304842432903099,
           0.007136398254761065,
           0.01188574563532774,
           0.010735180400237996,
           0.012199390433607548,
           0.009167936343185848,
           0.011350364009479112,
           0.009617918278185861,
           0.008795414642947499,
           0.010099492687687278,
           0.010841993706695209,
           0.011805029238813236,
           0.010960275202528593,
           0.010672953417175855,
           0.008417305509788373,
           0.008440344418990036,
           0.009215892549487532
          ]
         },
         "hovertemplate": "strategy_json={\"epsilon\":7.0,\"theta\":null}<br>strategy=randomized_response<br>detection_tpr=%{x}<br>demographic_parity_audit=%{y}<extra></extra>",
         "legendgroup": "{\"epsilon\":7.0,\"theta\":null}",
         "line": {
          "color": "#19d3f3",
          "dash": "solid"
         },
         "marker": {
          "symbol": "circle"
         },
         "mode": "lines",
         "name": "{\"epsilon\":7.0,\"theta\":null}",
         "orientation": "v",
         "showlegend": true,
         "type": "scatter",
         "x": [
          0,
          0.034482758620689655,
          0.06896551724137931,
          0.10344827586206896,
          0.13793103448275862,
          0.1724137931034483,
          0.20689655172413793,
          0.24137931034482757,
          0.27586206896551724,
          0.3103448275862069,
          0.3448275862068966,
          0.3793103448275862,
          0.41379310344827586,
          0.4482758620689655,
          0.48275862068965514,
          0.5,
          0.5172413793103449,
          0.5517241379310345,
          0.5555555555555556,
          0.5862068965517241,
          0.6111111111111112,
          0.6206896551724138,
          0.6551724137931034,
          0.6666666666666666,
          0.6896551724137931,
          0.7222222222222222,
          0.7241379310344828,
          0.7586206896551724,
          0.7777777777777778,
          0.7931034482758621,
          0.8275862068965517,
          0.8333333333333333,
          0.8620689655172413,
          0.8888888888888888,
          0.896551724137931,
          0.9310344827586207,
          0.9444444444444444,
          0.9655172413793103,
          1
         ],
         "xaxis": "x2",
         "y": [
          0.040384738493054226,
          0.03628128800973052,
          0.04189552525446516,
          0.04227642276422765,
          0.04314064400486527,
          0.04592215607195442,
          0.041501824467063575,
          0.04270853338454646,
          0.03913961974265414,
          0.04500672172076051,
          0.038656296011779036,
          0.04118494334549645,
          0.03990141476217911,
          0.04152743102234173,
          0.04579412329556363,
          0.04106971384674478,
          0.043851225913833926,
          0.04629025030407782,
          0.04106971384674479,
          0.04072722616989949,
          0.04383842263619488,
          0.046696754369118486,
          0.03715831252800718,
          0.04475385698738876,
          0.03986300492926189,
          0.03511298892516486,
          0.04066320978170411,
          0.04270853338454644,
          0.043102234171948015,
          0.039494910697138466,
          0.03746239037193522,
          0.04061199667114783,
          0.0463030535817169,
          0.04114653351257923,
          0.03703027975161642,
          0.04151462774470264,
          0.04394084885730749,
          0.04305102106139173,
          0.04286057230651047
         ],
         "yaxis": "y2"
        },
        {
         "error_y": {
          "array": [
           0.014244821996714079,
           0.012810604818736833,
           0.013385850498414379,
           0.011878043741723847,
           0.013569600480849915,
           0.0144677134691581,
           0.011861921483113805,
           0.01251645079892129,
           0.012569980935086001,
           0.01276256108951769,
           0.010936712576560823,
           0.013507755991724367,
           0.012579346927952265,
           0.013418971658991164,
           0.013165906981538343,
           0.013345708382428424,
           0.012214276749923385,
           0.011655951655493667,
           0.015032261157096681,
           0.011208949669304328,
           0.012081457351638934,
           0.014018647554956559,
           0.012408627178367696,
           0.011750723564828775,
           0.01265031558816997,
           0.012877119259967675,
           0.010184073076095524,
           0.01392869712250431,
           0.011676673657975704,
           0.013556600643349154,
           0.012752607828724269,
           0.01201822933989832,
           0.012393631033870492,
           0.011174196027335126,
           0.012255986840445229,
           0.01410592797685865,
           0.011809008191637356,
           0.011534020059558631,
           0.01191993344563298
          ]
         },
         "hovertemplate": "strategy_json={\"epsilon\":null,\"theta\":0.5666666666666667}<br>strategy=ROC_mitigation<br>detection_tpr=%{x}<br>demographic_parity_audit=%{y}<extra></extra>",
         "legendgroup": "{\"epsilon\":null,\"theta\":0.5666666666666667}",
         "line": {
          "color": "#FF6692",
          "dash": "solid"
         },
         "marker": {
          "symbol": "circle"
         },
         "mode": "lines",
         "name": "{\"epsilon\":null,\"theta\":0.5666666666666667}",
         "orientation": "v",
         "showlegend": true,
         "type": "scatter",
         "x": [
          0,
          0.034482758620689655,
          0.06896551724137931,
          0.10344827586206896,
          0.13793103448275862,
          0.1724137931034483,
          0.20689655172413793,
          0.24137931034482757,
          0.27586206896551724,
          0.3103448275862069,
          0.3448275862068966,
          0.3793103448275862,
          0.41379310344827586,
          0.4482758620689655,
          0.48275862068965514,
          0.5,
          0.5172413793103449,
          0.5517241379310345,
          0.5555555555555556,
          0.5862068965517241,
          0.6111111111111112,
          0.6206896551724138,
          0.6551724137931034,
          0.6666666666666666,
          0.6896551724137931,
          0.7222222222222222,
          0.7241379310344828,
          0.7586206896551724,
          0.7777777777777778,
          0.7931034482758621,
          0.8275862068965517,
          0.8333333333333333,
          0.8620689655172413,
          0.8888888888888888,
          0.896551724137931,
          0.9310344827586207,
          0.9444444444444444,
          0.9655172413793103,
          1
         ],
         "xaxis": "x3",
         "y": [
          0.025856219192113172,
          0.023890916074515066,
          0.030715063056142366,
          0.03038537865693619,
          0.021880801485180224,
          0.027815120670891747,
          0.024489469304141854,
          0.0238397029639588,
          0.02443825619358554,
          0.02555214134818512,
          0.026842071570322024,
          0.02846808783048459,
          0.019649830356571252,
          0.02266820305998335,
          0.02982203444081687,
          0.028810575507329895,
          0.028733755841495436,
          0.025056014339670963,
          0.023650854618782392,
          0.023471608731835382,
          0.025564944625824225,
          0.027642276422764234,
          0.024995198770885397,
          0.02442545291594648,
          0.02550092823762883,
          0.024956788937968145,
          0.02275142436463736,
          0.027939952627872754,
          0.02755265347929069,
          0.027101337942513293,
          0.02717175596952822,
          0.02305230138915565,
          0.02149350233659818,
          0.023183534984956143,
          0.021119006465655222,
          0.024758338134562463,
          0.026345944561807822,
          0.021618334293579167,
          0.024785545099545492
         ],
         "yaxis": "y3"
        },
        {
         "error_y": {
          "array": [
           0.008540067811937653,
           0.010384325922085783,
           0.009845134121013002,
           0.010052416052103158,
           0.00744398984259518,
           0.00873128152482226,
           0.00911688864876728,
           0.011229663328384184,
           0.010383077049634828,
           0.009302718659757575,
           0.014045414220510321,
           0.008066863490230605,
           0.00936982875276122,
           0.011048688242405609,
           0.007553676109570939,
           0.010339915795059523,
           0.0098321474683798,
           0.009750619292763288,
           0.009452774367082433,
           0.009704663810953194,
           0.010968214529340957,
           0.011178089738979819,
           0.008372204062991984,
           0.011293156561343772,
           0.011690769535757841,
           0.00881573218282501,
           0.006984575574965519,
           0.008824155233413062,
           0.013994715290328008,
           0.008642189585689002,
           0.007717945892587198,
           0.009542966221901974,
           0.007749412181552275,
           0.011235477291748092,
           0.00838425546914345,
           0.00902718325717934,
           0.0091884556971567,
           0.015501077167415897,
           0.008667613326398968
          ]
         },
         "hovertemplate": "strategy_json={\"epsilon\":3.0,\"theta\":null}<br>strategy=randomized_response<br>detection_tpr=%{x}<br>demographic_parity_audit=%{y}<extra></extra>",
         "legendgroup": "{\"epsilon\":3.0,\"theta\":null}",
         "line": {
          "color": "#B6E880",
          "dash": "solid"
         },
         "marker": {
          "symbol": "circle"
         },
         "mode": "lines",
         "name": "{\"epsilon\":3.0,\"theta\":null}",
         "orientation": "v",
         "showlegend": true,
         "type": "scatter",
         "x": [
          0,
          0.034482758620689655,
          0.06896551724137931,
          0.10344827586206896,
          0.13793103448275862,
          0.1724137931034483,
          0.20689655172413793,
          0.24137931034482757,
          0.27586206896551724,
          0.3103448275862069,
          0.3448275862068966,
          0.3793103448275862,
          0.41379310344827586,
          0.4482758620689655,
          0.48275862068965514,
          0.5,
          0.5172413793103449,
          0.5517241379310345,
          0.5555555555555556,
          0.5862068965517241,
          0.6111111111111112,
          0.6206896551724138,
          0.6551724137931034,
          0.6666666666666666,
          0.6896551724137931,
          0.7222222222222222,
          0.7241379310344828,
          0.7586206896551724,
          0.7777777777777778,
          0.7931034482758621,
          0.8275862068965517,
          0.8333333333333333,
          0.8620689655172413,
          0.8888888888888888,
          0.896551724137931,
          0.9310344827586207,
          0.9444444444444444,
          0.9655172413793103,
          1
         ],
         "xaxis": "x2",
         "y": [
          0.041869918699187006,
          0.042378848985340244,
          0.04270853338454646,
          0.03582357083413353,
          0.04424492670123553,
          0.04625184047116062,
          0.04303821778375264,
          0.0394821074194994,
          0.04507073810895586,
          0.04192113180974329,
          0.04463862748863706,
          0.03911401318737597,
          0.04103130401382754,
          0.04343191857115421,
          0.04305102106139171,
          0.0434575251264324,
          0.043076627616669874,
          0.040791242558094874,
          0.04549004545163563,
          0.038694705844696274,
          0.0446770373215543,
          0.03908840663209782,
          0.04587094296139813,
          0.03988861148454005,
          0.04461302093335896,
          0.04035913193777606,
          0.03985020165162282,
          0.04303821778375264,
          0.041869918699187006,
          0.042289226041866704,
          0.04629025030407783,
          0.047026438768324685,
          0.04832277062928107,
          0.04232763587478392,
          0.0465303117598105,
          0.04101850073618846,
          0.039126816465015056,
          0.04108251712438384,
          0.04444177709493629
         ],
         "yaxis": "y2"
        },
        {
         "error_y": {
          "array": [
           0.009757490206572355,
           0.009419889710482401,
           0.008670925551925905,
           0.010505176832521865,
           0.011158170317756113,
           0.012518358675701564,
           0.01189295604469355,
           0.01109514035908727,
           0.008845867065827556,
           0.008315323478137621,
           0.010384523981479717,
           0.011061338393859773,
           0.008433968429625665,
           0.010097791342530048,
           0.009873053680219141,
           0.013189066195568101,
           0.011530899613166383,
           0.012395074907670164,
           0.006784567691978832,
           0.00992750097467584,
           0.009785992494184707,
           0.011028183479379313,
           0.009441155292124232,
           0.011628748717279792,
           0.012314808362606946,
           0.009657662252988919,
           0.008242907971062946,
           0.011031384368367555,
           0.010393882236555898,
           0.01449747241623748,
           0.011319059855608764,
           0.00817935471779062,
           0.011059706040299978,
           0.0085139621279183,
           0.010482350774226901,
           0.010356336896438997,
           0.01330879540973003,
           0.00922792905112976,
           0.01091484059857324
          ]
         },
         "hovertemplate": "strategy_json={\"epsilon\":6.0,\"theta\":null}<br>strategy=randomized_response<br>detection_tpr=%{x}<br>demographic_parity_audit=%{y}<extra></extra>",
         "legendgroup": "{\"epsilon\":6.0,\"theta\":null}",
         "line": {
          "color": "#FF97FF",
          "dash": "solid"
         },
         "marker": {
          "symbol": "circle"
         },
         "mode": "lines",
         "name": "{\"epsilon\":6.0,\"theta\":null}",
         "orientation": "v",
         "showlegend": true,
         "type": "scatter",
         "x": [
          0,
          0.034482758620689655,
          0.06896551724137931,
          0.10344827586206896,
          0.13793103448275862,
          0.1724137931034483,
          0.20689655172413793,
          0.24137931034482757,
          0.27586206896551724,
          0.3103448275862069,
          0.3448275862068966,
          0.3793103448275862,
          0.41379310344827586,
          0.4482758620689655,
          0.48275862068965514,
          0.5,
          0.5172413793103449,
          0.5517241379310345,
          0.5555555555555556,
          0.5862068965517241,
          0.6111111111111112,
          0.6206896551724138,
          0.6551724137931034,
          0.6666666666666666,
          0.6896551724137931,
          0.7222222222222222,
          0.7241379310344828,
          0.7586206896551724,
          0.7777777777777778,
          0.7931034482758621,
          0.8275862068965517,
          0.8333333333333333,
          0.8620689655172413,
          0.8888888888888888,
          0.896551724137931,
          0.9310344827586207,
          0.9444444444444444,
          0.9655172413793103,
          1
         ],
         "xaxis": "x2",
         "y": [
          0.041120926957301074,
          0.043483131681710516,
          0.04105691056910571,
          0.03863068945650087,
          0.03913961974265412,
          0.04189552525446516,
          0.03953332053005572,
          0.039875808206900974,
          0.04705204532360283,
          0.04070161961462132,
          0.04425772997887456,
          0.04503232827603868,
          0.041437808078868196,
          0.044651430766276166,
          0.041463414634146344,
          0.041056910569105674,
          0.04183150886626976,
          0.037094296139811786,
          0.040701619614621355,
          0.04270853338454644,
          0.037843287881697704,
          0.043089430894308944,
          0.03872031239997442,
          0.04357275462518406,
          0.04113373023494016,
          0.03869470584469625,
          0.040320722104858875,
          0.04383842263619485,
          0.041399398245950944,
          0.04112412777671085,
          0.04988477050124831,
          0.04070161961462134,
          0.041540234299980806,
          0.046799180590231096,
          0.04344472184879329,
          0.04470264387683245,
          0.04061199667114781,
          0.04752256577683887,
          0.041114525318481546
         ],
         "yaxis": "y2"
        },
        {
         "error_y": {
          "array": [
           0.01184701486888972,
           0.010435696518629665,
           0.009238748966241515,
           0.01270168305525468,
           0.011640774028422788,
           0.010367992876958079,
           0.010423797306207254,
           0.010976782580454177,
           0.013848586632120984,
           0.009891630448837844,
           0.010076953495026091,
           0.011844390572547632,
           0.01146455857462897,
           0.009075363092269154,
           0.007994238875189678,
           0.010624540863818335,
           0.009857589212837834,
           0.007725376740907896,
           0.008833430884479037,
           0.008647269110778419,
           0.012678877191430247,
           0.010387232305173511,
           0.011126903690372095,
           0.01085517213478274,
           0.01098940596081595,
           0.010990277611578744,
           0.010992133717680064,
           0.008271902378089599,
           0.008957336564375381,
           0.008494628272635939,
           0.010354151856421998,
           0.01011470075518486,
           0.010156977717193308,
           0.011860784140145542,
           0.01012195259101711,
           0.010655477576848395,
           0.009903569312271574,
           0.011005788891534649,
           0.011238066488989222
          ]
         },
         "hovertemplate": "strategy_json={\"epsilon\":1.0,\"theta\":null}<br>strategy=randomized_response<br>detection_tpr=%{x}<br>demographic_parity_audit=%{y}<extra></extra>",
         "legendgroup": "{\"epsilon\":1.0,\"theta\":null}",
         "line": {
          "color": "#FECB52",
          "dash": "solid"
         },
         "marker": {
          "symbol": "circle"
         },
         "mode": "lines",
         "name": "{\"epsilon\":1.0,\"theta\":null}",
         "orientation": "v",
         "showlegend": true,
         "type": "scatter",
         "x": [
          0,
          0.034482758620689655,
          0.06896551724137931,
          0.10344827586206896,
          0.13793103448275862,
          0.1724137931034483,
          0.20689655172413793,
          0.24137931034482757,
          0.27586206896551724,
          0.3103448275862069,
          0.3448275862068966,
          0.3793103448275862,
          0.41379310344827586,
          0.4482758620689655,
          0.48275862068965514,
          0.5,
          0.5172413793103449,
          0.5517241379310345,
          0.5555555555555556,
          0.5862068965517241,
          0.6111111111111112,
          0.6206896551724138,
          0.6551724137931034,
          0.6666666666666666,
          0.6896551724137931,
          0.7222222222222222,
          0.7241379310344828,
          0.7586206896551724,
          0.7777777777777778,
          0.7931034482758621,
          0.8275862068965517,
          0.8333333333333333,
          0.8620689655172413,
          0.8888888888888888,
          0.896551724137931,
          0.9310344827586207,
          0.9444444444444444,
          0.9655172413793103,
          1
         ],
         "xaxis": "x2",
         "y": [
          0.04268292682926829,
          0.04423212342359647,
          0.040624799948786906,
          0.03722232891620255,
          0.043089430894308944,
          0.04388963574675116,
          0.04185711542154792,
          0.03821138211382112,
          0.04034632866013699,
          0.04263171371871201,
          0.04068881633698229,
          0.03587478394468985,
          0.040333525382497924,
          0.039914218039818185,
          0.04302541450611358,
          0.03908840663209784,
          0.04192113180974331,
          0.04305102106139171,
          0.04225081620894948,
          0.041767492478074375,
          0.038656296011779036,
          0.04028231227194164,
          0.04824595096344664,
          0.041514627744702645,
          0.03944369758658219,
          0.04388963574675118,
          0.0443089430894309,
          0.0462134306382434,
          0.05032968439920621,
          0.041412201523590056,
          0.04307662761666986,
          0.04421932014595734,
          0.04423212342359641,
          0.037145509250368094,
          0.041120926957301074,
          0.046722360924396654,
          0.04347032840407146,
          0.04109532040202292,
          0.043699186991869914
         ],
         "yaxis": "y2"
        },
        {
         "error_y": {
          "array": [
           0.010746835657206034,
           0.008611570401618652,
           0.008863936153047935,
           0.011374799813130698,
           0.009505341587565141,
           0.010963730004458518,
           0.012261184645529968,
           0.008862014369545892,
           0.010683535674219539,
           0.011580054145410098,
           0.008245636963569712,
           0.00897832611632727,
           0.0067411046377912264,
           0.011010794344720512,
           0.011099436796734218,
           0.008828376075296207,
           0.011954435312403918,
           0.012320106713323679,
           0.01070849955735145,
           0.011997998842214757,
           0.00860749915444944,
           0.007511040740006247,
           0.010902713325526562,
           0.009003836442942049,
           0.009149106267867389,
           0.0059577460519631845,
           0.01200720817309787,
           0.007646851356453035,
           0.013810637602953283,
           0.009906413779460449,
           0.010282684787405384,
           0.011541103115651206,
           0.011362336800160269,
           0.010207514973434691,
           0.00919500016364334,
           0.008984902198953076,
           0.011712997700767457,
           0.008891769452885064,
           0.008602995053715833
          ]
         },
         "hovertemplate": "strategy_json={\"epsilon\":2.0,\"theta\":null}<br>strategy=randomized_response<br>detection_tpr=%{x}<br>demographic_parity_audit=%{y}<extra></extra>",
         "legendgroup": "{\"epsilon\":2.0,\"theta\":null}",
         "line": {
          "color": "#636efa",
          "dash": "solid"
         },
         "marker": {
          "symbol": "circle"
         },
         "mode": "lines",
         "name": "{\"epsilon\":2.0,\"theta\":null}",
         "orientation": "v",
         "showlegend": true,
         "type": "scatter",
         "x": [
          0,
          0.034482758620689655,
          0.06896551724137931,
          0.10344827586206896,
          0.13793103448275862,
          0.1724137931034483,
          0.20689655172413793,
          0.24137931034482757,
          0.27586206896551724,
          0.3103448275862069,
          0.3448275862068966,
          0.3793103448275862,
          0.41379310344827586,
          0.4482758620689655,
          0.48275862068965514,
          0.5,
          0.5172413793103449,
          0.5517241379310345,
          0.5555555555555556,
          0.5862068965517241,
          0.6111111111111112,
          0.6206896551724138,
          0.6551724137931034,
          0.6666666666666666,
          0.6896551724137931,
          0.7222222222222222,
          0.7241379310344828,
          0.7586206896551724,
          0.7777777777777778,
          0.7931034482758621,
          0.8275862068965517,
          0.8333333333333333,
          0.8620689655172413,
          0.8888888888888888,
          0.896551724137931,
          0.9310344827586207,
          0.9444444444444444,
          0.9655172413793103,
          1
         ],
         "xaxis": "x2",
         "y": [
          0.04026950899430252,
          0.03988861148454006,
          0.0443089430894309,
          0.03991421803981819,
          0.039837398373983736,
          0.03631969784264773,
          0.03917802957557135,
          0.044677037321554314,
          0.04462582421099802,
          0.03714550925036808,
          0.04223801293131043,
          0.0394308943089431,
          0.041489021189424505,
          0.04268292682926831,
          0.03304205876704438,
          0.04383842263619485,
          0.03940528775366494,
          0.0459349593495935,
          0.040205492606107174,
          0.04269573010690737,
          0.04510914794187313,
          0.0443601561999872,
          0.0442065168683183,
          0.04470264387683247,
          0.04219960309839319,
          0.041895525254465146,
          0.041108123679662004,
          0.041501824467063575,
          0.044270533256513665,
          0.04513475449715128,
          0.04344472184879328,
          0.04345752512643234,
          0.04829716407400295,
          0.043076627616669874,
          0.04147621791178542,
          0.040295115549580686,
          0.03789450099225402,
          0.044270533256513665,
          0.04428333653415274
         ],
         "yaxis": "y2"
        }
       ],
       "layout": {
        "annotations": [
         {
          "font": {},
          "showarrow": false,
          "text": "strategy=model_swap",
          "x": 0.1175,
          "xanchor": "center",
          "xref": "paper",
          "y": 1,
          "yanchor": "bottom",
          "yref": "paper"
         },
         {
          "font": {},
          "showarrow": false,
          "text": "strategy=randomized_response",
          "x": 0.3725,
          "xanchor": "center",
          "xref": "paper",
          "y": 1,
          "yanchor": "bottom",
          "yref": "paper"
         },
         {
          "font": {},
          "showarrow": false,
          "text": "strategy=ROC_mitigation",
          "x": 0.6275,
          "xanchor": "center",
          "xref": "paper",
          "y": 1,
          "yanchor": "bottom",
          "yref": "paper"
         },
         {
          "font": {},
          "showarrow": false,
          "text": "strategy=honest",
          "x": 0.8824999999999998,
          "xanchor": "center",
          "xref": "paper",
          "y": 1,
          "yanchor": "bottom",
          "yref": "paper"
         }
        ],
        "legend": {
         "title": {
          "text": "strategy_json"
         },
         "tracegroupgap": 0
        },
        "margin": {
         "t": 60
        },
        "template": {
         "data": {
          "bar": [
           {
            "error_x": {
             "color": "#2a3f5f"
            },
            "error_y": {
             "color": "#2a3f5f"
            },
            "marker": {
             "line": {
              "color": "#E5ECF6",
              "width": 0.5
             },
             "pattern": {
              "fillmode": "overlay",
              "size": 10,
              "solidity": 0.2
             }
            },
            "type": "bar"
           }
          ],
          "barpolar": [
           {
            "marker": {
             "line": {
              "color": "#E5ECF6",
              "width": 0.5
             },
             "pattern": {
              "fillmode": "overlay",
              "size": 10,
              "solidity": 0.2
             }
            },
            "type": "barpolar"
           }
          ],
          "carpet": [
           {
            "aaxis": {
             "endlinecolor": "#2a3f5f",
             "gridcolor": "white",
             "linecolor": "white",
             "minorgridcolor": "white",
             "startlinecolor": "#2a3f5f"
            },
            "baxis": {
             "endlinecolor": "#2a3f5f",
             "gridcolor": "white",
             "linecolor": "white",
             "minorgridcolor": "white",
             "startlinecolor": "#2a3f5f"
            },
            "type": "carpet"
           }
          ],
          "choropleth": [
           {
            "colorbar": {
             "outlinewidth": 0,
             "ticks": ""
            },
            "type": "choropleth"
           }
          ],
          "contour": [
           {
            "colorbar": {
             "outlinewidth": 0,
             "ticks": ""
            },
            "colorscale": [
             [
              0,
              "#0d0887"
             ],
             [
              0.1111111111111111,
              "#46039f"
             ],
             [
              0.2222222222222222,
              "#7201a8"
             ],
             [
              0.3333333333333333,
              "#9c179e"
             ],
             [
              0.4444444444444444,
              "#bd3786"
             ],
             [
              0.5555555555555556,
              "#d8576b"
             ],
             [
              0.6666666666666666,
              "#ed7953"
             ],
             [
              0.7777777777777778,
              "#fb9f3a"
             ],
             [
              0.8888888888888888,
              "#fdca26"
             ],
             [
              1,
              "#f0f921"
             ]
            ],
            "type": "contour"
           }
          ],
          "contourcarpet": [
           {
            "colorbar": {
             "outlinewidth": 0,
             "ticks": ""
            },
            "type": "contourcarpet"
           }
          ],
          "heatmap": [
           {
            "colorbar": {
             "outlinewidth": 0,
             "ticks": ""
            },
            "colorscale": [
             [
              0,
              "#0d0887"
             ],
             [
              0.1111111111111111,
              "#46039f"
             ],
             [
              0.2222222222222222,
              "#7201a8"
             ],
             [
              0.3333333333333333,
              "#9c179e"
             ],
             [
              0.4444444444444444,
              "#bd3786"
             ],
             [
              0.5555555555555556,
              "#d8576b"
             ],
             [
              0.6666666666666666,
              "#ed7953"
             ],
             [
              0.7777777777777778,
              "#fb9f3a"
             ],
             [
              0.8888888888888888,
              "#fdca26"
             ],
             [
              1,
              "#f0f921"
             ]
            ],
            "type": "heatmap"
           }
          ],
          "heatmapgl": [
           {
            "colorbar": {
             "outlinewidth": 0,
             "ticks": ""
            },
            "colorscale": [
             [
              0,
              "#0d0887"
             ],
             [
              0.1111111111111111,
              "#46039f"
             ],
             [
              0.2222222222222222,
              "#7201a8"
             ],
             [
              0.3333333333333333,
              "#9c179e"
             ],
             [
              0.4444444444444444,
              "#bd3786"
             ],
             [
              0.5555555555555556,
              "#d8576b"
             ],
             [
              0.6666666666666666,
              "#ed7953"
             ],
             [
              0.7777777777777778,
              "#fb9f3a"
             ],
             [
              0.8888888888888888,
              "#fdca26"
             ],
             [
              1,
              "#f0f921"
             ]
            ],
            "type": "heatmapgl"
           }
          ],
          "histogram": [
           {
            "marker": {
             "pattern": {
              "fillmode": "overlay",
              "size": 10,
              "solidity": 0.2
             }
            },
            "type": "histogram"
           }
          ],
          "histogram2d": [
           {
            "colorbar": {
             "outlinewidth": 0,
             "ticks": ""
            },
            "colorscale": [
             [
              0,
              "#0d0887"
             ],
             [
              0.1111111111111111,
              "#46039f"
             ],
             [
              0.2222222222222222,
              "#7201a8"
             ],
             [
              0.3333333333333333,
              "#9c179e"
             ],
             [
              0.4444444444444444,
              "#bd3786"
             ],
             [
              0.5555555555555556,
              "#d8576b"
             ],
             [
              0.6666666666666666,
              "#ed7953"
             ],
             [
              0.7777777777777778,
              "#fb9f3a"
             ],
             [
              0.8888888888888888,
              "#fdca26"
             ],
             [
              1,
              "#f0f921"
             ]
            ],
            "type": "histogram2d"
           }
          ],
          "histogram2dcontour": [
           {
            "colorbar": {
             "outlinewidth": 0,
             "ticks": ""
            },
            "colorscale": [
             [
              0,
              "#0d0887"
             ],
             [
              0.1111111111111111,
              "#46039f"
             ],
             [
              0.2222222222222222,
              "#7201a8"
             ],
             [
              0.3333333333333333,
              "#9c179e"
             ],
             [
              0.4444444444444444,
              "#bd3786"
             ],
             [
              0.5555555555555556,
              "#d8576b"
             ],
             [
              0.6666666666666666,
              "#ed7953"
             ],
             [
              0.7777777777777778,
              "#fb9f3a"
             ],
             [
              0.8888888888888888,
              "#fdca26"
             ],
             [
              1,
              "#f0f921"
             ]
            ],
            "type": "histogram2dcontour"
           }
          ],
          "mesh3d": [
           {
            "colorbar": {
             "outlinewidth": 0,
             "ticks": ""
            },
            "type": "mesh3d"
           }
          ],
          "parcoords": [
           {
            "line": {
             "colorbar": {
              "outlinewidth": 0,
              "ticks": ""
             }
            },
            "type": "parcoords"
           }
          ],
          "pie": [
           {
            "automargin": true,
            "type": "pie"
           }
          ],
          "scatter": [
           {
            "fillpattern": {
             "fillmode": "overlay",
             "size": 10,
             "solidity": 0.2
            },
            "type": "scatter"
           }
          ],
          "scatter3d": [
           {
            "line": {
             "colorbar": {
              "outlinewidth": 0,
              "ticks": ""
             }
            },
            "marker": {
             "colorbar": {
              "outlinewidth": 0,
              "ticks": ""
             }
            },
            "type": "scatter3d"
           }
          ],
          "scattercarpet": [
           {
            "marker": {
             "colorbar": {
              "outlinewidth": 0,
              "ticks": ""
             }
            },
            "type": "scattercarpet"
           }
          ],
          "scattergeo": [
           {
            "marker": {
             "colorbar": {
              "outlinewidth": 0,
              "ticks": ""
             }
            },
            "type": "scattergeo"
           }
          ],
          "scattergl": [
           {
            "marker": {
             "colorbar": {
              "outlinewidth": 0,
              "ticks": ""
             }
            },
            "type": "scattergl"
           }
          ],
          "scattermapbox": [
           {
            "marker": {
             "colorbar": {
              "outlinewidth": 0,
              "ticks": ""
             }
            },
            "type": "scattermapbox"
           }
          ],
          "scatterpolar": [
           {
            "marker": {
             "colorbar": {
              "outlinewidth": 0,
              "ticks": ""
             }
            },
            "type": "scatterpolar"
           }
          ],
          "scatterpolargl": [
           {
            "marker": {
             "colorbar": {
              "outlinewidth": 0,
              "ticks": ""
             }
            },
            "type": "scatterpolargl"
           }
          ],
          "scatterternary": [
           {
            "marker": {
             "colorbar": {
              "outlinewidth": 0,
              "ticks": ""
             }
            },
            "type": "scatterternary"
           }
          ],
          "surface": [
           {
            "colorbar": {
             "outlinewidth": 0,
             "ticks": ""
            },
            "colorscale": [
             [
              0,
              "#0d0887"
             ],
             [
              0.1111111111111111,
              "#46039f"
             ],
             [
              0.2222222222222222,
              "#7201a8"
             ],
             [
              0.3333333333333333,
              "#9c179e"
             ],
             [
              0.4444444444444444,
              "#bd3786"
             ],
             [
              0.5555555555555556,
              "#d8576b"
             ],
             [
              0.6666666666666666,
              "#ed7953"
             ],
             [
              0.7777777777777778,
              "#fb9f3a"
             ],
             [
              0.8888888888888888,
              "#fdca26"
             ],
             [
              1,
              "#f0f921"
             ]
            ],
            "type": "surface"
           }
          ],
          "table": [
           {
            "cells": {
             "fill": {
              "color": "#EBF0F8"
             },
             "line": {
              "color": "white"
             }
            },
            "header": {
             "fill": {
              "color": "#C8D4E3"
             },
             "line": {
              "color": "white"
             }
            },
            "type": "table"
           }
          ]
         },
         "layout": {
          "annotationdefaults": {
           "arrowcolor": "#2a3f5f",
           "arrowhead": 0,
           "arrowwidth": 1
          },
          "autotypenumbers": "strict",
          "coloraxis": {
           "colorbar": {
            "outlinewidth": 0,
            "ticks": ""
           }
          },
          "colorscale": {
           "diverging": [
            [
             0,
             "#8e0152"
            ],
            [
             0.1,
             "#c51b7d"
            ],
            [
             0.2,
             "#de77ae"
            ],
            [
             0.3,
             "#f1b6da"
            ],
            [
             0.4,
             "#fde0ef"
            ],
            [
             0.5,
             "#f7f7f7"
            ],
            [
             0.6,
             "#e6f5d0"
            ],
            [
             0.7,
             "#b8e186"
            ],
            [
             0.8,
             "#7fbc41"
            ],
            [
             0.9,
             "#4d9221"
            ],
            [
             1,
             "#276419"
            ]
           ],
           "sequential": [
            [
             0,
             "#0d0887"
            ],
            [
             0.1111111111111111,
             "#46039f"
            ],
            [
             0.2222222222222222,
             "#7201a8"
            ],
            [
             0.3333333333333333,
             "#9c179e"
            ],
            [
             0.4444444444444444,
             "#bd3786"
            ],
            [
             0.5555555555555556,
             "#d8576b"
            ],
            [
             0.6666666666666666,
             "#ed7953"
            ],
            [
             0.7777777777777778,
             "#fb9f3a"
            ],
            [
             0.8888888888888888,
             "#fdca26"
            ],
            [
             1,
             "#f0f921"
            ]
           ],
           "sequentialminus": [
            [
             0,
             "#0d0887"
            ],
            [
             0.1111111111111111,
             "#46039f"
            ],
            [
             0.2222222222222222,
             "#7201a8"
            ],
            [
             0.3333333333333333,
             "#9c179e"
            ],
            [
             0.4444444444444444,
             "#bd3786"
            ],
            [
             0.5555555555555556,
             "#d8576b"
            ],
            [
             0.6666666666666666,
             "#ed7953"
            ],
            [
             0.7777777777777778,
             "#fb9f3a"
            ],
            [
             0.8888888888888888,
             "#fdca26"
            ],
            [
             1,
             "#f0f921"
            ]
           ]
          },
          "colorway": [
           "#636efa",
           "#EF553B",
           "#00cc96",
           "#ab63fa",
           "#FFA15A",
           "#19d3f3",
           "#FF6692",
           "#B6E880",
           "#FF97FF",
           "#FECB52"
          ],
          "font": {
           "color": "#2a3f5f"
          },
          "geo": {
           "bgcolor": "white",
           "lakecolor": "white",
           "landcolor": "#E5ECF6",
           "showlakes": true,
           "showland": true,
           "subunitcolor": "white"
          },
          "hoverlabel": {
           "align": "left"
          },
          "hovermode": "closest",
          "mapbox": {
           "style": "light"
          },
          "paper_bgcolor": "white",
          "plot_bgcolor": "#E5ECF6",
          "polar": {
           "angularaxis": {
            "gridcolor": "white",
            "linecolor": "white",
            "ticks": ""
           },
           "bgcolor": "#E5ECF6",
           "radialaxis": {
            "gridcolor": "white",
            "linecolor": "white",
            "ticks": ""
           }
          },
          "scene": {
           "xaxis": {
            "backgroundcolor": "#E5ECF6",
            "gridcolor": "white",
            "gridwidth": 2,
            "linecolor": "white",
            "showbackground": true,
            "ticks": "",
            "zerolinecolor": "white"
           },
           "yaxis": {
            "backgroundcolor": "#E5ECF6",
            "gridcolor": "white",
            "gridwidth": 2,
            "linecolor": "white",
            "showbackground": true,
            "ticks": "",
            "zerolinecolor": "white"
           },
           "zaxis": {
            "backgroundcolor": "#E5ECF6",
            "gridcolor": "white",
            "gridwidth": 2,
            "linecolor": "white",
            "showbackground": true,
            "ticks": "",
            "zerolinecolor": "white"
           }
          },
          "shapedefaults": {
           "line": {
            "color": "#2a3f5f"
           }
          },
          "ternary": {
           "aaxis": {
            "gridcolor": "white",
            "linecolor": "white",
            "ticks": ""
           },
           "baxis": {
            "gridcolor": "white",
            "linecolor": "white",
            "ticks": ""
           },
           "bgcolor": "#E5ECF6",
           "caxis": {
            "gridcolor": "white",
            "linecolor": "white",
            "ticks": ""
           }
          },
          "title": {
           "x": 0.05
          },
          "xaxis": {
           "automargin": true,
           "gridcolor": "white",
           "linecolor": "white",
           "ticks": "",
           "title": {
            "standoff": 15
           },
           "zerolinecolor": "white",
           "zerolinewidth": 2
          },
          "yaxis": {
           "automargin": true,
           "gridcolor": "white",
           "linecolor": "white",
           "ticks": "",
           "title": {
            "standoff": 15
           },
           "zerolinecolor": "white",
           "zerolinewidth": 2
          }
         }
        },
        "xaxis": {
         "anchor": "y",
         "domain": [
          0,
          0.235
         ],
         "title": {
          "text": "detection_tpr"
         }
        },
        "xaxis2": {
         "anchor": "y2",
         "domain": [
          0.255,
          0.49
         ],
         "matches": "x",
         "title": {
          "text": "detection_tpr"
         }
        },
        "xaxis3": {
         "anchor": "y3",
         "domain": [
          0.51,
          0.745
         ],
         "matches": "x",
         "title": {
          "text": "detection_tpr"
         }
        },
        "xaxis4": {
         "anchor": "y4",
         "domain": [
          0.7649999999999999,
          0.9999999999999999
         ],
         "matches": "x",
         "title": {
          "text": "detection_tpr"
         }
        },
        "yaxis": {
         "anchor": "x",
         "domain": [
          0,
          1
         ],
         "title": {
          "text": "demographic_parity_audit"
         }
        },
        "yaxis2": {
         "anchor": "x2",
         "domain": [
          0,
          1
         ],
         "matches": "y",
         "showticklabels": false
        },
        "yaxis3": {
         "anchor": "x3",
         "domain": [
          0,
          1
         ],
         "matches": "y",
         "showticklabels": false
        },
        "yaxis4": {
         "anchor": "x4",
         "domain": [
          0,
          1
         ],
         "matches": "y",
         "showticklabels": false
        }
       }
      }
     },
     "metadata": {},
     "output_type": "display_data"
    }
   ],
   "source": [
    "px.line(\n",
    "    manipulation.sort(\"detection_tpr\").with_columns(\n",
    "        pl.col(\"demographic_parity_audit_std\") / sqrt(5)\n",
    "    ),\n",
    "    x=\"detection_tpr\",\n",
    "    y=\"demographic_parity_audit\",\n",
    "    error_y=\"demographic_parity_audit_std\",\n",
    "    facet_col=\"strategy\",\n",
    "    color=\"strategy_json\",\n",
    ")"
   ]
  },
  {
   "cell_type": "markdown",
   "metadata": {},
   "source": [
    "# Finding datasets with the largest base rate difference"
   ]
  },
  {
   "cell_type": "code",
   "execution_count": 68,
   "metadata": {},
   "outputs": [],
   "source": [
    "base_rate = pl.read_ndjson(\"../generated/disparities.jsonl\")"
   ]
  },
  {
   "cell_type": "code",
   "execution_count": 69,
   "metadata": {},
   "outputs": [
    {
     "data": {
      "application/vnd.plotly.v1+json": {
       "config": {
        "plotlyServerURL": "https://plot.ly"
       },
       "data": [
        {
         "customdata": [
          [
           47793
          ],
          [
           47476
          ],
          [
           47659
          ],
          [
           47645
          ],
          [
           47777
          ],
          [
           48928
          ],
          [
           49647
          ],
          [
           51580
          ]
         ],
         "hovertemplate": "state=AL<br>group=SEX<br>year=%{x}<br>base_rate=%{y}<br>len=%{customdata[0]}<extra></extra>",
         "legendgroup": "AL",
         "line": {
          "color": "#636efa",
          "dash": "solid"
         },
         "marker": {
          "symbol": "circle"
         },
         "mode": "lines",
         "name": "AL",
         "showlegend": true,
         "type": "scattergl",
         "x": [
          2014,
          2015,
          2016,
          2017,
          2018,
          2019,
          2021,
          2022
         ],
         "xaxis": "x",
         "y": [
          0.06609529720683693,
          0.06524492383775216,
          0.05423545423592835,
          0.06300935407615921,
          0.07051463367952776,
          0.0652161339221346,
          0.058624471930481425,
          0.057314617758041475
         ],
         "yaxis": "y"
        },
        {
         "customdata": [
          [
           47793
          ],
          [
           47476
          ],
          [
           47659
          ],
          [
           47645
          ],
          [
           47777
          ],
          [
           48928
          ],
          [
           49647
          ],
          [
           51580
          ]
         ],
         "hovertemplate": "state=AL<br>group=RAC1P<br>year=%{x}<br>base_rate=%{y}<br>len=%{customdata[0]}<extra></extra>",
         "legendgroup": "AL",
         "line": {
          "color": "#636efa",
          "dash": "solid"
         },
         "marker": {
          "symbol": "circle"
         },
         "mode": "lines",
         "name": "AL",
         "showlegend": false,
         "type": "scattergl",
         "x": [
          2014,
          2015,
          2016,
          2017,
          2018,
          2019,
          2021,
          2022
         ],
         "xaxis": "x2",
         "y": [
          0.21330589849108367,
          0.19531425996846136,
          0.2559607293127629,
          0.22472594397076734,
          0.7692307692307692,
          0.2608695652173913,
          0.5625,
          0.2272019634059232
         ],
         "yaxis": "y2"
        },
        {
         "customdata": [
          [
           47793
          ],
          [
           47476
          ],
          [
           47659
          ],
          [
           47645
          ],
          [
           47777
          ],
          [
           48928
          ],
          [
           49647
          ],
          [
           51580
          ]
         ],
         "hovertemplate": "state=AL<br>group=AGEP<br>year=%{x}<br>base_rate=%{y}<br>len=%{customdata[0]}<extra></extra>",
         "legendgroup": "AL",
         "line": {
          "color": "#636efa",
          "dash": "solid"
         },
         "marker": {
          "symbol": "circle"
         },
         "mode": "lines",
         "name": "AL",
         "showlegend": false,
         "type": "scattergl",
         "x": [
          2014,
          2015,
          2016,
          2017,
          2018,
          2019,
          2021,
          2022
         ],
         "xaxis": "x3",
         "y": [
          0.7403314917127072,
          0.7236421725239617,
          0.79,
          0.7649325626204239,
          0.7548262548262549,
          0.7766990291262136,
          0.7560581583198708,
          0.8080438756855576
         ],
         "yaxis": "y3"
        },
        {
         "customdata": [
          [
           6787
          ],
          [
           6619
          ],
          [
           6815
          ],
          [
           6746
          ],
          [
           6711
          ],
          [
           6663
          ],
          [
           6411
          ],
          [
           6972
          ]
         ],
         "hovertemplate": "state=AK<br>group=SEX<br>year=%{x}<br>base_rate=%{y}<br>len=%{customdata[0]}<extra></extra>",
         "legendgroup": "AK",
         "line": {
          "color": "#EF553B",
          "dash": "solid"
         },
         "marker": {
          "symbol": "circle"
         },
         "mode": "lines",
         "name": "AK",
         "showlegend": true,
         "type": "scattergl",
         "x": [
          2014,
          2015,
          2016,
          2017,
          2018,
          2019,
          2021,
          2022
         ],
         "xaxis": "x",
         "y": [
          0.008411813151290082,
          0.011945988167284316,
          0.011906918315522541,
          0.001297383054219281,
          0.014967923970144237,
          0.03202625597589048,
          0.0034907653699663976,
          0.01221965148079418
         ],
         "yaxis": "y"
        },
        {
         "customdata": [
          [
           6787
          ],
          [
           6619
          ],
          [
           6815
          ],
          [
           6746
          ],
          [
           6711
          ],
          [
           6663
          ],
          [
           6411
          ],
          [
           6972
          ]
         ],
         "hovertemplate": "state=AK<br>group=RAC1P<br>year=%{x}<br>base_rate=%{y}<br>len=%{customdata[0]}<extra></extra>",
         "legendgroup": "AK",
         "line": {
          "color": "#EF553B",
          "dash": "solid"
         },
         "marker": {
          "symbol": "circle"
         },
         "mode": "lines",
         "name": "AK",
         "showlegend": false,
         "type": "scattergl",
         "x": [
          2014,
          2015,
          2016,
          2017,
          2018,
          2019,
          2021,
          2022
         ],
         "xaxis": "x2",
         "y": [
          0.3136727816940008,
          0.3086655526378611,
          0.364407421431276,
          0.3067552602436323,
          0.3891072431218417,
          0.3398755268058414,
          0.24812646370023422,
          0.3160377358490566
         ],
         "yaxis": "y2"
        },
        {
         "customdata": [
          [
           6787
          ],
          [
           6619
          ],
          [
           6815
          ],
          [
           6746
          ],
          [
           6711
          ],
          [
           6663
          ],
          [
           6411
          ],
          [
           6972
          ]
         ],
         "hovertemplate": "state=AK<br>group=AGEP<br>year=%{x}<br>base_rate=%{y}<br>len=%{customdata[0]}<extra></extra>",
         "legendgroup": "AK",
         "line": {
          "color": "#EF553B",
          "dash": "solid"
         },
         "marker": {
          "symbol": "circle"
         },
         "mode": "lines",
         "name": "AK",
         "showlegend": false,
         "type": "scattergl",
         "x": [
          2014,
          2015,
          2016,
          2017,
          2018,
          2019,
          2021,
          2022
         ],
         "xaxis": "x3",
         "y": [
          0.7808219178082192,
          0.8076923076923077,
          0.8072289156626506,
          0.8076923076923077,
          0.8846153846153846,
          0.8378378378378378,
          0.8245614035087719,
          0.7808219178082192
         ],
         "yaxis": "y3"
        },
        {
         "customdata": [
          [
           66177
          ],
          [
           67014
          ],
          [
           68398
          ],
          [
           68863
          ],
          [
           69990
          ],
          [
           70872
          ],
          [
           73025
          ],
          [
           74153
          ]
         ],
         "hovertemplate": "state=AZ<br>group=SEX<br>year=%{x}<br>base_rate=%{y}<br>len=%{customdata[0]}<extra></extra>",
         "legendgroup": "AZ",
         "line": {
          "color": "#00cc96",
          "dash": "solid"
         },
         "marker": {
          "symbol": "circle"
         },
         "mode": "lines",
         "name": "AZ",
         "showlegend": true,
         "type": "scattergl",
         "x": [
          2014,
          2015,
          2016,
          2017,
          2018,
          2019,
          2021,
          2022
         ],
         "xaxis": "x",
         "y": [
          0.05517079245282397,
          0.05134938044854637,
          0.0490898901738786,
          0.05493471714432674,
          0.0489853638788863,
          0.048046044615747074,
          0.05316512842413734,
          0.05599270946409113
         ],
         "yaxis": "y"
        },
        {
         "customdata": [
          [
           66177
          ],
          [
           67014
          ],
          [
           68398
          ],
          [
           68863
          ],
          [
           69990
          ],
          [
           70872
          ],
          [
           73025
          ],
          [
           74153
          ]
         ],
         "hovertemplate": "state=AZ<br>group=RAC1P<br>year=%{x}<br>base_rate=%{y}<br>len=%{customdata[0]}<extra></extra>",
         "legendgroup": "AZ",
         "line": {
          "color": "#00cc96",
          "dash": "solid"
         },
         "marker": {
          "symbol": "circle"
         },
         "mode": "lines",
         "name": "AZ",
         "showlegend": false,
         "type": "scattergl",
         "x": [
          2014,
          2015,
          2016,
          2017,
          2018,
          2019,
          2021,
          2022
         ],
         "xaxis": "x2",
         "y": [
          0.20829876667802938,
          0.2868398106626806,
          0.35459377372817014,
          0.28633651045054725,
          0.22320665492278724,
          0.27261369979532707,
          0.2738658777120315,
          0.33589688041594457
         ],
         "yaxis": "y2"
        },
        {
         "customdata": [
          [
           66177
          ],
          [
           67014
          ],
          [
           68398
          ],
          [
           68863
          ],
          [
           69990
          ],
          [
           70872
          ],
          [
           73025
          ],
          [
           74153
          ]
         ],
         "hovertemplate": "state=AZ<br>group=AGEP<br>year=%{x}<br>base_rate=%{y}<br>len=%{customdata[0]}<extra></extra>",
         "legendgroup": "AZ",
         "line": {
          "color": "#00cc96",
          "dash": "solid"
         },
         "marker": {
          "symbol": "circle"
         },
         "mode": "lines",
         "name": "AZ",
         "showlegend": false,
         "type": "scattergl",
         "x": [
          2014,
          2015,
          2016,
          2017,
          2018,
          2019,
          2021,
          2022
         ],
         "xaxis": "x3",
         "y": [
          0.7471910112359551,
          0.7512886597938144,
          0.7557436517533253,
          0.7523553162853297,
          0.7762982689747004,
          0.7779141104294478,
          0.7571265678449259,
          0.7736720554272517
         ],
         "yaxis": "y3"
        },
        {
         "customdata": [
          [
           29369
          ],
          [
           29605
          ],
          [
           29599
          ],
          [
           30021
          ],
          [
           30503
          ],
          [
           30403
          ],
          [
           30050
          ],
          [
           31288
          ]
         ],
         "hovertemplate": "state=AR<br>group=SEX<br>year=%{x}<br>base_rate=%{y}<br>len=%{customdata[0]}<extra></extra>",
         "legendgroup": "AR",
         "line": {
          "color": "#ab63fa",
          "dash": "solid"
         },
         "marker": {
          "symbol": "circle"
         },
         "mode": "lines",
         "name": "AR",
         "showlegend": true,
         "type": "scattergl",
         "x": [
          2014,
          2015,
          2016,
          2017,
          2018,
          2019,
          2021,
          2022
         ],
         "xaxis": "x",
         "y": [
          0.0648871264324497,
          0.0518633245071663,
          0.047762658732816266,
          0.04166889161373749,
          0.05568380429160352,
          0.04358986527497577,
          0.047000883967460494,
          0.04398193513354243
         ],
         "yaxis": "y"
        },
        {
         "customdata": [
          [
           29369
          ],
          [
           29605
          ],
          [
           29599
          ],
          [
           30021
          ],
          [
           30503
          ],
          [
           30403
          ],
          [
           30050
          ],
          [
           31288
          ]
         ],
         "hovertemplate": "state=AR<br>group=RAC1P<br>year=%{x}<br>base_rate=%{y}<br>len=%{customdata[0]}<extra></extra>",
         "legendgroup": "AR",
         "line": {
          "color": "#ab63fa",
          "dash": "solid"
         },
         "marker": {
          "symbol": "circle"
         },
         "mode": "lines",
         "name": "AR",
         "showlegend": false,
         "type": "scattergl",
         "x": [
          2014,
          2015,
          2016,
          2017,
          2018,
          2019,
          2021,
          2022
         ],
         "xaxis": "x2",
         "y": [
          0.19323835368611486,
          0.49710982658959535,
          0.4728434504792332,
          0.20527213301122638,
          0.24818169342665014,
          0.8378378378378378,
          0.7317073170731707,
          0.37053571428571425
         ],
         "yaxis": "y2"
        },
        {
         "customdata": [
          [
           29369
          ],
          [
           29605
          ],
          [
           29599
          ],
          [
           30021
          ],
          [
           30503
          ],
          [
           30403
          ],
          [
           30050
          ],
          [
           31288
          ]
         ],
         "hovertemplate": "state=AR<br>group=AGEP<br>year=%{x}<br>base_rate=%{y}<br>len=%{customdata[0]}<extra></extra>",
         "legendgroup": "AR",
         "line": {
          "color": "#ab63fa",
          "dash": "solid"
         },
         "marker": {
          "symbol": "circle"
         },
         "mode": "lines",
         "name": "AR",
         "showlegend": false,
         "type": "scattergl",
         "x": [
          2014,
          2015,
          2016,
          2017,
          2018,
          2019,
          2021,
          2022
         ],
         "xaxis": "x3",
         "y": [
          0.7755775577557755,
          0.7617728531855956,
          0.7728706624605678,
          0.760989010989011,
          0.7987616099071208,
          0.7801204819277109,
          0.7628205128205128,
          0.775
         ],
         "yaxis": "y3"
        },
        {
         "customdata": [
          [
           372553
          ],
          [
           374943
          ],
          [
           376035
          ],
          [
           377575
          ],
          [
           378817
          ],
          [
           380091
          ],
          [
           386061
          ],
          [
           391171
          ]
         ],
         "hovertemplate": "state=CA<br>group=SEX<br>year=%{x}<br>base_rate=%{y}<br>len=%{customdata[0]}<extra></extra>",
         "legendgroup": "CA",
         "line": {
          "color": "#FFA15A",
          "dash": "solid"
         },
         "marker": {
          "symbol": "circle"
         },
         "mode": "lines",
         "name": "CA",
         "showlegend": true,
         "type": "scattergl",
         "x": [
          2014,
          2015,
          2016,
          2017,
          2018,
          2019,
          2021,
          2022
         ],
         "xaxis": "x",
         "y": [
          0.07389911412493577,
          0.07191872341420652,
          0.07137077570502254,
          0.07058668402751828,
          0.06826366074613516,
          0.07037769542516437,
          0.06683018902538901,
          0.06265312710231852
         ],
         "yaxis": "y"
        },
        {
         "customdata": [
          [
           372553
          ],
          [
           374943
          ],
          [
           376035
          ],
          [
           377575
          ],
          [
           378817
          ],
          [
           380091
          ],
          [
           386061
          ],
          [
           391171
          ]
         ],
         "hovertemplate": "state=CA<br>group=RAC1P<br>year=%{x}<br>base_rate=%{y}<br>len=%{customdata[0]}<extra></extra>",
         "legendgroup": "CA",
         "line": {
          "color": "#FFA15A",
          "dash": "solid"
         },
         "marker": {
          "symbol": "circle"
         },
         "mode": "lines",
         "name": "CA",
         "showlegend": false,
         "type": "scattergl",
         "x": [
          2014,
          2015,
          2016,
          2017,
          2018,
          2019,
          2021,
          2022
         ],
         "xaxis": "x2",
         "y": [
          0.19095602172486698,
          0.13540775622660606,
          0.1262962463324055,
          0.1328177073461369,
          0.17397796671057358,
          0.1487516054397699,
          0.13494505494505493,
          0.2690646823870896
         ],
         "yaxis": "y2"
        },
        {
         "customdata": [
          [
           372553
          ],
          [
           374943
          ],
          [
           376035
          ],
          [
           377575
          ],
          [
           378817
          ],
          [
           380091
          ],
          [
           386061
          ],
          [
           391171
          ]
         ],
         "hovertemplate": "state=CA<br>group=AGEP<br>year=%{x}<br>base_rate=%{y}<br>len=%{customdata[0]}<extra></extra>",
         "legendgroup": "CA",
         "line": {
          "color": "#FFA15A",
          "dash": "solid"
         },
         "marker": {
          "symbol": "circle"
         },
         "mode": "lines",
         "name": "CA",
         "showlegend": false,
         "type": "scattergl",
         "x": [
          2014,
          2015,
          2016,
          2017,
          2018,
          2019,
          2021,
          2022
         ],
         "xaxis": "x3",
         "y": [
          0.7345431525638321,
          0.7435691318327974,
          0.7589732434196215,
          0.7659714599341383,
          0.7623235362184679,
          0.7838654012079379,
          0.7441453272050776,
          0.7623231890270039
         ],
         "yaxis": "y3"
        },
        {
         "customdata": [
          [
           52929
          ],
          [
           53570
          ],
          [
           54571
          ],
          [
           55600
          ],
          [
           55928
          ],
          [
           57142
          ],
          [
           58131
          ],
          [
           59841
          ]
         ],
         "hovertemplate": "state=CO<br>group=SEX<br>year=%{x}<br>base_rate=%{y}<br>len=%{customdata[0]}<extra></extra>",
         "legendgroup": "CO",
         "line": {
          "color": "#19d3f3",
          "dash": "solid"
         },
         "marker": {
          "symbol": "circle"
         },
         "mode": "lines",
         "name": "CO",
         "showlegend": true,
         "type": "scattergl",
         "x": [
          2014,
          2015,
          2016,
          2017,
          2018,
          2019,
          2021,
          2022
         ],
         "xaxis": "x",
         "y": [
          0.05568378360573101,
          0.0645251127995618,
          0.06224895759767357,
          0.06369267231201953,
          0.062208085033574556,
          0.05794887239482105,
          0.050927212827247215,
          0.045073254096568094
         ],
         "yaxis": "y"
        },
        {
         "customdata": [
          [
           52929
          ],
          [
           53570
          ],
          [
           54571
          ],
          [
           55600
          ],
          [
           55928
          ],
          [
           57142
          ],
          [
           58131
          ],
          [
           59841
          ]
         ],
         "hovertemplate": "state=CO<br>group=RAC1P<br>year=%{x}<br>base_rate=%{y}<br>len=%{customdata[0]}<extra></extra>",
         "legendgroup": "CO",
         "line": {
          "color": "#19d3f3",
          "dash": "solid"
         },
         "marker": {
          "symbol": "circle"
         },
         "mode": "lines",
         "name": "CO",
         "showlegend": false,
         "type": "scattergl",
         "x": [
          2014,
          2015,
          2016,
          2017,
          2018,
          2019,
          2021,
          2022
         ],
         "xaxis": "x2",
         "y": [
          0.5301974448315911,
          0.1509376890502117,
          0.26074600355239785,
          0.2637087491110117,
          0.1489656812237457,
          0.3136363636363636,
          0.1709319975713418,
          0.5463008329250367
         ],
         "yaxis": "y2"
        },
        {
         "customdata": [
          [
           52929
          ],
          [
           53570
          ],
          [
           54571
          ],
          [
           55600
          ],
          [
           55928
          ],
          [
           57142
          ],
          [
           58131
          ],
          [
           59841
          ]
         ],
         "hovertemplate": "state=CO<br>group=AGEP<br>year=%{x}<br>base_rate=%{y}<br>len=%{customdata[0]}<extra></extra>",
         "legendgroup": "CO",
         "line": {
          "color": "#19d3f3",
          "dash": "solid"
         },
         "marker": {
          "symbol": "circle"
         },
         "mode": "lines",
         "name": "CO",
         "showlegend": false,
         "type": "scattergl",
         "x": [
          2014,
          2015,
          2016,
          2017,
          2018,
          2019,
          2021,
          2022
         ],
         "xaxis": "x3",
         "y": [
          0.8269794721407625,
          0.8336025848142165,
          0.8286479250334672,
          0.8340026773761714,
          0.8358620689655173,
          0.8470948012232415,
          0.8067700987306065,
          0.8231780167264038
         ],
         "yaxis": "y3"
        },
        {
         "customdata": [
          [
           35985
          ],
          [
           35787
          ],
          [
           35657
          ],
          [
           35978
          ],
          [
           36287
          ],
          [
           35578
          ],
          [
           36665
          ],
          [
           37369
          ]
         ],
         "hovertemplate": "state=CT<br>group=SEX<br>year=%{x}<br>base_rate=%{y}<br>len=%{customdata[0]}<extra></extra>",
         "legendgroup": "CT",
         "line": {
          "color": "#FF6692",
          "dash": "solid"
         },
         "marker": {
          "symbol": "circle"
         },
         "mode": "lines",
         "name": "CT",
         "showlegend": true,
         "type": "scattergl",
         "x": [
          2014,
          2015,
          2016,
          2017,
          2018,
          2019,
          2021,
          2022
         ],
         "xaxis": "x",
         "y": [
          0.0524983064888811,
          0.05156245255654679,
          0.0547105729572,
          0.03783120817204533,
          0.05352360396961481,
          0.05292468385121407,
          0.04905661021711283,
          0.05207654035432768
         ],
         "yaxis": "y"
        },
        {
         "customdata": [
          [
           35985
          ],
          [
           35787
          ],
          [
           35657
          ],
          [
           35978
          ],
          [
           36287
          ],
          [
           35578
          ],
          [
           36665
          ],
          [
           37369
          ]
         ],
         "hovertemplate": "state=CT<br>group=RAC1P<br>year=%{x}<br>base_rate=%{y}<br>len=%{customdata[0]}<extra></extra>",
         "legendgroup": "CT",
         "line": {
          "color": "#FF6692",
          "dash": "solid"
         },
         "marker": {
          "symbol": "circle"
         },
         "mode": "lines",
         "name": "CT",
         "showlegend": false,
         "type": "scattergl",
         "x": [
          2014,
          2015,
          2016,
          2017,
          2018,
          2019,
          2021,
          2022
         ],
         "xaxis": "x2",
         "y": [
          0.3641304347826087,
          0.6907962771458118,
          0.3254901960784313,
          0.75,
          0.21769128704113228,
          0.26211180124223604,
          0.1822319315492445,
          0.27284011916583917
         ],
         "yaxis": "y2"
        },
        {
         "customdata": [
          [
           35985
          ],
          [
           35787
          ],
          [
           35657
          ],
          [
           35978
          ],
          [
           36287
          ],
          [
           35578
          ],
          [
           36665
          ],
          [
           37369
          ]
         ],
         "hovertemplate": "state=CT<br>group=AGEP<br>year=%{x}<br>base_rate=%{y}<br>len=%{customdata[0]}<extra></extra>",
         "legendgroup": "CT",
         "line": {
          "color": "#FF6692",
          "dash": "solid"
         },
         "marker": {
          "symbol": "circle"
         },
         "mode": "lines",
         "name": "CT",
         "showlegend": false,
         "type": "scattergl",
         "x": [
          2014,
          2015,
          2016,
          2017,
          2018,
          2019,
          2021,
          2022
         ],
         "xaxis": "x3",
         "y": [
          0.8243801652892562,
          0.846820809248555,
          0.8246575342465754,
          0.8266033254156769,
          0.8459657701711492,
          0.8673740053050398,
          0.8388746803069054,
          0.8592592592592593
         ],
         "yaxis": "y3"
        },
        {
         "customdata": [
          [
           9014
          ],
          [
           9017
          ],
          [
           8873
          ],
          [
           8943
          ],
          [
           9123
          ],
          [
           9261
          ],
          [
           9424
          ],
          [
           9641
          ]
         ],
         "hovertemplate": "state=DE<br>group=SEX<br>year=%{x}<br>base_rate=%{y}<br>len=%{customdata[0]}<extra></extra>",
         "legendgroup": "DE",
         "line": {
          "color": "#B6E880",
          "dash": "solid"
         },
         "marker": {
          "symbol": "circle"
         },
         "mode": "lines",
         "name": "DE",
         "showlegend": true,
         "type": "scattergl",
         "x": [
          2014,
          2015,
          2016,
          2017,
          2018,
          2019,
          2021,
          2022
         ],
         "xaxis": "x",
         "y": [
          0.035504528241802724,
          0.04197827914560487,
          0.048142426161168816,
          0.0313816471150124,
          0.04589158154004258,
          0.05562316154399588,
          0.044503000469940046,
          0.058290907184401164
         ],
         "yaxis": "y"
        },
        {
         "customdata": [
          [
           9014
          ],
          [
           9017
          ],
          [
           8873
          ],
          [
           8943
          ],
          [
           9123
          ],
          [
           9261
          ],
          [
           9424
          ],
          [
           9641
          ]
         ],
         "hovertemplate": "state=DE<br>group=RAC1P<br>year=%{x}<br>base_rate=%{y}<br>len=%{customdata[0]}<extra></extra>",
         "legendgroup": "DE",
         "line": {
          "color": "#B6E880",
          "dash": "solid"
         },
         "marker": {
          "symbol": "circle"
         },
         "mode": "lines",
         "name": "DE",
         "showlegend": false,
         "type": "scattergl",
         "x": [
          2014,
          2015,
          2016,
          2017,
          2018,
          2019,
          2021,
          2022
         ],
         "xaxis": "x2",
         "y": [
          0.4433656957928802,
          0.3142857142857143,
          0.39542483660130723,
          0.5555555555555556,
          0.3253205128205128,
          0.7142857142857143,
          0.25183150183150177,
          0.24725274725274726
         ],
         "yaxis": "y2"
        },
        {
         "customdata": [
          [
           9014
          ],
          [
           9017
          ],
          [
           8873
          ],
          [
           8943
          ],
          [
           9123
          ],
          [
           9261
          ],
          [
           9424
          ],
          [
           9641
          ]
         ],
         "hovertemplate": "state=DE<br>group=AGEP<br>year=%{x}<br>base_rate=%{y}<br>len=%{customdata[0]}<extra></extra>",
         "legendgroup": "DE",
         "line": {
          "color": "#B6E880",
          "dash": "solid"
         },
         "marker": {
          "symbol": "circle"
         },
         "mode": "lines",
         "name": "DE",
         "showlegend": false,
         "type": "scattergl",
         "x": [
          2014,
          2015,
          2016,
          2017,
          2018,
          2019,
          2021,
          2022
         ],
         "xaxis": "x3",
         "y": [
          0.8705882352941177,
          0.8305084745762712,
          0.8543689320388349,
          0.8640776699029126,
          0.8636363636363636,
          0.9024390243902439,
          0.8315789473684211,
          0.8518518518518519
         ],
         "yaxis": "y3"
        },
        {
         "customdata": [
          [
           192673
          ],
          [
           194548
          ],
          [
           196828
          ],
          [
           199644
          ],
          [
           202160
          ],
          [
           205294
          ],
          [
           202883
          ],
          [
           217799
          ]
         ],
         "hovertemplate": "state=FL<br>group=SEX<br>year=%{x}<br>base_rate=%{y}<br>len=%{customdata[0]}<extra></extra>",
         "legendgroup": "FL",
         "line": {
          "color": "#FF97FF",
          "dash": "solid"
         },
         "marker": {
          "symbol": "circle"
         },
         "mode": "lines",
         "name": "FL",
         "showlegend": true,
         "type": "scattergl",
         "x": [
          2014,
          2015,
          2016,
          2017,
          2018,
          2019,
          2021,
          2022
         ],
         "xaxis": "x",
         "y": [
          0.04682254226002147,
          0.04405678632965149,
          0.05139860658981882,
          0.05432866787091589,
          0.050039864383859434,
          0.049848761055589996,
          0.054290483432358594,
          0.04873411482048301
         ],
         "yaxis": "y"
        },
        {
         "customdata": [
          [
           192673
          ],
          [
           194548
          ],
          [
           196828
          ],
          [
           199644
          ],
          [
           202160
          ],
          [
           205294
          ],
          [
           202883
          ],
          [
           217799
          ]
         ],
         "hovertemplate": "state=FL<br>group=RAC1P<br>year=%{x}<br>base_rate=%{y}<br>len=%{customdata[0]}<extra></extra>",
         "legendgroup": "FL",
         "line": {
          "color": "#FF97FF",
          "dash": "solid"
         },
         "marker": {
          "symbol": "circle"
         },
         "mode": "lines",
         "name": "FL",
         "showlegend": false,
         "type": "scattergl",
         "x": [
          2014,
          2015,
          2016,
          2017,
          2018,
          2019,
          2021,
          2022
         ],
         "xaxis": "x2",
         "y": [
          0.2692307692307692,
          0.20570124530306305,
          0.24264705882352944,
          0.3198051948051948,
          0.18084166723916262,
          0.5036174342685724,
          0.14965592743196748,
          0.19656613577318427
         ],
         "yaxis": "y2"
        },
        {
         "customdata": [
          [
           192673
          ],
          [
           194548
          ],
          [
           196828
          ],
          [
           199644
          ],
          [
           202160
          ],
          [
           205294
          ],
          [
           202883
          ],
          [
           217799
          ]
         ],
         "hovertemplate": "state=FL<br>group=AGEP<br>year=%{x}<br>base_rate=%{y}<br>len=%{customdata[0]}<extra></extra>",
         "legendgroup": "FL",
         "line": {
          "color": "#FF97FF",
          "dash": "solid"
         },
         "marker": {
          "symbol": "circle"
         },
         "mode": "lines",
         "name": "FL",
         "showlegend": false,
         "type": "scattergl",
         "x": [
          2014,
          2015,
          2016,
          2017,
          2018,
          2019,
          2021,
          2022
         ],
         "xaxis": "x3",
         "y": [
          0.7590004235493435,
          0.7593488781346238,
          0.7789473684210526,
          0.7706175680859225,
          0.7905604719764012,
          0.7912240184757505,
          0.7698339483394834,
          0.7837384744341995
         ],
         "yaxis": "y3"
        },
        {
         "customdata": [
          [
           97519
          ],
          [
           97854
          ],
          [
           98064
          ],
          [
           99799
          ],
          [
           100855
          ],
          [
           101652
          ],
          [
           97104
          ],
          [
           109349
          ]
         ],
         "hovertemplate": "state=GA<br>group=SEX<br>year=%{x}<br>base_rate=%{y}<br>len=%{customdata[0]}<extra></extra>",
         "legendgroup": "GA",
         "line": {
          "color": "#FECB52",
          "dash": "solid"
         },
         "marker": {
          "symbol": "circle"
         },
         "mode": "lines",
         "name": "GA",
         "showlegend": true,
         "type": "scattergl",
         "x": [
          2014,
          2015,
          2016,
          2017,
          2018,
          2019,
          2021,
          2022
         ],
         "xaxis": "x",
         "y": [
          0.04995993154402739,
          0.05256633509444747,
          0.0571642789894356,
          0.05529861298734656,
          0.057391078341319124,
          0.05304515094843709,
          0.04330498056480342,
          0.04967074574957314
         ],
         "yaxis": "y"
        },
        {
         "customdata": [
          [
           97519
          ],
          [
           97854
          ],
          [
           98064
          ],
          [
           99799
          ],
          [
           100855
          ],
          [
           101652
          ],
          [
           97104
          ],
          [
           109349
          ]
         ],
         "hovertemplate": "state=GA<br>group=RAC1P<br>year=%{x}<br>base_rate=%{y}<br>len=%{customdata[0]}<extra></extra>",
         "legendgroup": "GA",
         "line": {
          "color": "#FECB52",
          "dash": "solid"
         },
         "marker": {
          "symbol": "circle"
         },
         "mode": "lines",
         "name": "GA",
         "showlegend": false,
         "type": "scattergl",
         "x": [
          2014,
          2015,
          2016,
          2017,
          2018,
          2019,
          2021,
          2022
         ],
         "xaxis": "x2",
         "y": [
          0.46706766917293235,
          0.6982002768804799,
          0.18810785765377697,
          0.48611111111111105,
          0.4883091311838543,
          0.4863974911799295,
          0.24659565121897647,
          0.5853658536585366
         ],
         "yaxis": "y2"
        },
        {
         "customdata": [
          [
           97519
          ],
          [
           97854
          ],
          [
           98064
          ],
          [
           99799
          ],
          [
           100855
          ],
          [
           101652
          ],
          [
           97104
          ],
          [
           109349
          ]
         ],
         "hovertemplate": "state=GA<br>group=AGEP<br>year=%{x}<br>base_rate=%{y}<br>len=%{customdata[0]}<extra></extra>",
         "legendgroup": "GA",
         "line": {
          "color": "#FECB52",
          "dash": "solid"
         },
         "marker": {
          "symbol": "circle"
         },
         "mode": "lines",
         "name": "GA",
         "showlegend": false,
         "type": "scattergl",
         "x": [
          2014,
          2015,
          2016,
          2017,
          2018,
          2019,
          2021,
          2022
         ],
         "xaxis": "x3",
         "y": [
          0.7548005908419497,
          0.7639639639639639,
          0.774074074074074,
          0.78839590443686,
          0.7873563218390804,
          0.7829457364341085,
          0.7627494456762749,
          0.7856573705179283
         ],
         "yaxis": "y3"
        },
        {
         "customdata": [
          [
           14322
          ],
          [
           14124
          ],
          [
           14247
          ],
          [
           14433
          ],
          [
           14400
          ],
          [
           14228
          ],
          [
           14959
          ],
          [
           14995
          ]
         ],
         "hovertemplate": "state=HI<br>group=SEX<br>year=%{x}<br>base_rate=%{y}<br>len=%{customdata[0]}<extra></extra>",
         "legendgroup": "HI",
         "line": {
          "color": "#636efa",
          "dash": "solid"
         },
         "marker": {
          "symbol": "circle"
         },
         "mode": "lines",
         "name": "HI",
         "showlegend": true,
         "type": "scattergl",
         "x": [
          2014,
          2015,
          2016,
          2017,
          2018,
          2019,
          2021,
          2022
         ],
         "xaxis": "x",
         "y": [
          0.02111004728142757,
          0.03552368902619302,
          0.01218417652904541,
          0.028644199887994215,
          0.0148352249101254,
          0.0064377662046918305,
          0.0035985844834807157,
          0.005587623985347179
         ],
         "yaxis": "y"
        },
        {
         "customdata": [
          [
           14322
          ],
          [
           14124
          ],
          [
           14247
          ],
          [
           14433
          ],
          [
           14400
          ],
          [
           14228
          ],
          [
           14959
          ],
          [
           14995
          ]
         ],
         "hovertemplate": "state=HI<br>group=RAC1P<br>year=%{x}<br>base_rate=%{y}<br>len=%{customdata[0]}<extra></extra>",
         "legendgroup": "HI",
         "line": {
          "color": "#636efa",
          "dash": "solid"
         },
         "marker": {
          "symbol": "circle"
         },
         "mode": "lines",
         "name": "HI",
         "showlegend": false,
         "type": "scattergl",
         "x": [
          2014,
          2015,
          2016,
          2017,
          2018,
          2019,
          2021,
          2022
         ],
         "xaxis": "x2",
         "y": [
          0.4920664903664526,
          0.1980186021147029,
          0.515906477577616,
          0.49500192233756246,
          0.33333333333333337,
          0.4172413793103449,
          0.22708370199964606,
          0.22444444444444445
         ],
         "yaxis": "y2"
        },
        {
         "customdata": [
          [
           14322
          ],
          [
           14124
          ],
          [
           14247
          ],
          [
           14433
          ],
          [
           14400
          ],
          [
           14228
          ],
          [
           14959
          ],
          [
           14995
          ]
         ],
         "hovertemplate": "state=HI<br>group=AGEP<br>year=%{x}<br>base_rate=%{y}<br>len=%{customdata[0]}<extra></extra>",
         "legendgroup": "HI",
         "line": {
          "color": "#636efa",
          "dash": "solid"
         },
         "marker": {
          "symbol": "circle"
         },
         "mode": "lines",
         "name": "HI",
         "showlegend": false,
         "type": "scattergl",
         "x": [
          2014,
          2015,
          2016,
          2017,
          2018,
          2019,
          2021,
          2022
         ],
         "xaxis": "x3",
         "y": [
          0.7857142857142857,
          0.8383838383838383,
          0.8395061728395061,
          0.8146067415730337,
          0.875,
          0.8353658536585366,
          0.8430232558139535,
          0.8502673796791443
         ],
         "yaxis": "y3"
        },
        {
         "customdata": [
          [
           15602
          ],
          [
           15725
          ],
          [
           15955
          ],
          [
           16536
          ],
          [
           16711
          ],
          [
           17360
          ],
          [
           17936
          ],
          [
           19884
          ]
         ],
         "hovertemplate": "state=ID<br>group=SEX<br>year=%{x}<br>base_rate=%{y}<br>len=%{customdata[0]}<extra></extra>",
         "legendgroup": "ID",
         "line": {
          "color": "#EF553B",
          "dash": "solid"
         },
         "marker": {
          "symbol": "circle"
         },
         "mode": "lines",
         "name": "ID",
         "showlegend": true,
         "type": "scattergl",
         "x": [
          2014,
          2015,
          2016,
          2017,
          2018,
          2019,
          2021,
          2022
         ],
         "xaxis": "x",
         "y": [
          0.0720371546414948,
          0.06263315404214015,
          0.08685302761232733,
          0.06778030338437868,
          0.08365887657551685,
          0.07272550769423364,
          0.05861672438441684,
          0.05859763115339228
         ],
         "yaxis": "y"
        },
        {
         "customdata": [
          [
           15602
          ],
          [
           15725
          ],
          [
           15955
          ],
          [
           16536
          ],
          [
           16711
          ],
          [
           17360
          ],
          [
           17936
          ],
          [
           19884
          ]
         ],
         "hovertemplate": "state=ID<br>group=RAC1P<br>year=%{x}<br>base_rate=%{y}<br>len=%{customdata[0]}<extra></extra>",
         "legendgroup": "ID",
         "line": {
          "color": "#EF553B",
          "dash": "solid"
         },
         "marker": {
          "symbol": "circle"
         },
         "mode": "lines",
         "name": "ID",
         "showlegend": false,
         "type": "scattergl",
         "x": [
          2014,
          2015,
          2016,
          2017,
          2018,
          2019,
          2021,
          2022
         ],
         "xaxis": "x2",
         "y": [
          0.4463087248322148,
          0.5514705882352942,
          0.18572093219980546,
          0.26708074534161486,
          0.18282485875706217,
          0.2722462722462723,
          0.3670886075949367,
          0.16296296296296303
         ],
         "yaxis": "y2"
        },
        {
         "customdata": [
          [
           15602
          ],
          [
           15725
          ],
          [
           15955
          ],
          [
           16536
          ],
          [
           16711
          ],
          [
           17360
          ],
          [
           17936
          ],
          [
           19884
          ]
         ],
         "hovertemplate": "state=ID<br>group=AGEP<br>year=%{x}<br>base_rate=%{y}<br>len=%{customdata[0]}<extra></extra>",
         "legendgroup": "ID",
         "line": {
          "color": "#EF553B",
          "dash": "solid"
         },
         "marker": {
          "symbol": "circle"
         },
         "mode": "lines",
         "name": "ID",
         "showlegend": false,
         "type": "scattergl",
         "x": [
          2014,
          2015,
          2016,
          2017,
          2018,
          2019,
          2021,
          2022
         ],
         "xaxis": "x3",
         "y": [
          0.8244274809160306,
          0.8113207547169812,
          0.8378378378378378,
          0.8591549295774648,
          0.8275862068965517,
          0.8571428571428571,
          0.8287292817679558,
          0.8189300411522634
         ],
         "yaxis": "y3"
        },
        {
         "customdata": [
          [
           126650
          ],
          [
           126642
          ],
          [
           126334
          ],
          [
           126482
          ],
          [
           126456
          ],
          [
           125007
          ],
          [
           126623
          ],
          [
           128046
          ]
         ],
         "hovertemplate": "state=IL<br>group=SEX<br>year=%{x}<br>base_rate=%{y}<br>len=%{customdata[0]}<extra></extra>",
         "legendgroup": "IL",
         "line": {
          "color": "#00cc96",
          "dash": "solid"
         },
         "marker": {
          "symbol": "circle"
         },
         "mode": "lines",
         "name": "IL",
         "showlegend": true,
         "type": "scattergl",
         "x": [
          2014,
          2015,
          2016,
          2017,
          2018,
          2019,
          2021,
          2022
         ],
         "xaxis": "x",
         "y": [
          0.05620552345081814,
          0.05756205299056877,
          0.05369305225464621,
          0.05840053851951493,
          0.055427389866144705,
          0.05163035625894691,
          0.05243989319392256,
          0.05321077613798175
         ],
         "yaxis": "y"
        },
        {
         "customdata": [
          [
           126650
          ],
          [
           126642
          ],
          [
           126334
          ],
          [
           126482
          ],
          [
           126456
          ],
          [
           125007
          ],
          [
           126623
          ],
          [
           128046
          ]
         ],
         "hovertemplate": "state=IL<br>group=RAC1P<br>year=%{x}<br>base_rate=%{y}<br>len=%{customdata[0]}<extra></extra>",
         "legendgroup": "IL",
         "line": {
          "color": "#00cc96",
          "dash": "solid"
         },
         "marker": {
          "symbol": "circle"
         },
         "mode": "lines",
         "name": "IL",
         "showlegend": false,
         "type": "scattergl",
         "x": [
          2014,
          2015,
          2016,
          2017,
          2018,
          2019,
          2021,
          2022
         ],
         "xaxis": "x2",
         "y": [
          0.2418069678279713,
          0.5909090909090909,
          0.23426130295478825,
          0.22349122100324625,
          0.4888888888888889,
          0.16834836824746613,
          0.1851092896174863,
          0.36538461538461536
         ],
         "yaxis": "y2"
        },
        {
         "customdata": [
          [
           126650
          ],
          [
           126642
          ],
          [
           126334
          ],
          [
           126482
          ],
          [
           126456
          ],
          [
           125007
          ],
          [
           126623
          ],
          [
           128046
          ]
         ],
         "hovertemplate": "state=IL<br>group=AGEP<br>year=%{x}<br>base_rate=%{y}<br>len=%{customdata[0]}<extra></extra>",
         "legendgroup": "IL",
         "line": {
          "color": "#00cc96",
          "dash": "solid"
         },
         "marker": {
          "symbol": "circle"
         },
         "mode": "lines",
         "name": "IL",
         "showlegend": false,
         "type": "scattergl",
         "x": [
          2014,
          2015,
          2016,
          2017,
          2018,
          2019,
          2021,
          2022
         ],
         "xaxis": "x3",
         "y": [
          0.7985125084516566,
          0.7864680322780881,
          0.8096430807764559,
          0.8031446540880504,
          0.8206850235057085,
          0.8192934782608695,
          0.7972465581977471,
          0.8184319119669876
         ],
         "yaxis": "y3"
        },
        {
         "customdata": [
          [
           66555
          ],
          [
           66045
          ],
          [
           66262
          ],
          [
           67004
          ],
          [
           67680
          ],
          [
           67445
          ],
          [
           68122
          ],
          [
           69843
          ]
         ],
         "hovertemplate": "state=IN<br>group=SEX<br>year=%{x}<br>base_rate=%{y}<br>len=%{customdata[0]}<extra></extra>",
         "legendgroup": "IN",
         "line": {
          "color": "#ab63fa",
          "dash": "solid"
         },
         "marker": {
          "symbol": "circle"
         },
         "mode": "lines",
         "name": "IN",
         "showlegend": true,
         "type": "scattergl",
         "x": [
          2014,
          2015,
          2016,
          2017,
          2018,
          2019,
          2021,
          2022
         ],
         "xaxis": "x",
         "y": [
          0.05927672806504547,
          0.06927652827899322,
          0.061267106464718446,
          0.056668620804840864,
          0.06366703500860832,
          0.05920952529039464,
          0.06569493844075786,
          0.05797458133616851
         ],
         "yaxis": "y"
        },
        {
         "customdata": [
          [
           66555
          ],
          [
           66045
          ],
          [
           66262
          ],
          [
           67004
          ],
          [
           67680
          ],
          [
           67445
          ],
          [
           68122
          ],
          [
           69843
          ]
         ],
         "hovertemplate": "state=IN<br>group=RAC1P<br>year=%{x}<br>base_rate=%{y}<br>len=%{customdata[0]}<extra></extra>",
         "legendgroup": "IN",
         "line": {
          "color": "#ab63fa",
          "dash": "solid"
         },
         "marker": {
          "symbol": "circle"
         },
         "mode": "lines",
         "name": "IN",
         "showlegend": false,
         "type": "scattergl",
         "x": [
          2014,
          2015,
          2016,
          2017,
          2018,
          2019,
          2021,
          2022
         ],
         "xaxis": "x2",
         "y": [
          0.7104642014162077,
          0.1779750474826134,
          0.7167414050822123,
          0.3708200212992545,
          0.262862437322869,
          0.25702380952380954,
          0.49194167306216424,
          0.22881094952951236
         ],
         "yaxis": "y2"
        },
        {
         "customdata": [
          [
           66555
          ],
          [
           66045
          ],
          [
           66262
          ],
          [
           67004
          ],
          [
           67680
          ],
          [
           67445
          ],
          [
           68122
          ],
          [
           69843
          ]
         ],
         "hovertemplate": "state=IN<br>group=AGEP<br>year=%{x}<br>base_rate=%{y}<br>len=%{customdata[0]}<extra></extra>",
         "legendgroup": "IN",
         "line": {
          "color": "#ab63fa",
          "dash": "solid"
         },
         "marker": {
          "symbol": "circle"
         },
         "mode": "lines",
         "name": "IN",
         "showlegend": false,
         "type": "scattergl",
         "x": [
          2014,
          2015,
          2016,
          2017,
          2018,
          2019,
          2021,
          2022
         ],
         "xaxis": "x3",
         "y": [
          0.7839335180055401,
          0.7888127853881278,
          0.7969151670951157,
          0.8119402985074626,
          0.8175675675675675,
          0.815365551425031,
          0.8068783068783069,
          0.8144458281444583
         ],
         "yaxis": "y3"
        },
        {
         "customdata": [
          [
           31819
          ],
          [
           31900
          ],
          [
           32106
          ],
          [
           32456
          ],
          [
           32362
          ],
          [
           32721
          ],
          [
           32572
          ],
          [
           33586
          ]
         ],
         "hovertemplate": "state=IA<br>group=SEX<br>year=%{x}<br>base_rate=%{y}<br>len=%{customdata[0]}<extra></extra>",
         "legendgroup": "IA",
         "line": {
          "color": "#FFA15A",
          "dash": "solid"
         },
         "marker": {
          "symbol": "circle"
         },
         "mode": "lines",
         "name": "IA",
         "showlegend": true,
         "type": "scattergl",
         "x": [
          2014,
          2015,
          2016,
          2017,
          2018,
          2019,
          2021,
          2022
         ],
         "xaxis": "x",
         "y": [
          0.04809808458264908,
          0.053436001115065246,
          0.04449612404845593,
          0.04877135458616405,
          0.056760489285571314,
          0.041240794055819985,
          0.05052057345913491,
          0.041563669344958754
         ],
         "yaxis": "y"
        },
        {
         "customdata": [
          [
           31819
          ],
          [
           31900
          ],
          [
           32106
          ],
          [
           32456
          ],
          [
           32362
          ],
          [
           32721
          ],
          [
           32572
          ],
          [
           33586
          ]
         ],
         "hovertemplate": "state=IA<br>group=RAC1P<br>year=%{x}<br>base_rate=%{y}<br>len=%{customdata[0]}<extra></extra>",
         "legendgroup": "IA",
         "line": {
          "color": "#FFA15A",
          "dash": "solid"
         },
         "marker": {
          "symbol": "circle"
         },
         "mode": "lines",
         "name": "IA",
         "showlegend": false,
         "type": "scattergl",
         "x": [
          2014,
          2015,
          2016,
          2017,
          2018,
          2019,
          2021,
          2022
         ],
         "xaxis": "x2",
         "y": [
          0.4234234234234234,
          0.24360144482611756,
          0.5,
          0.24325259515570935,
          0.3042542655201909,
          0.8,
          0.27459016393442626,
          0.25142857142857145
         ],
         "yaxis": "y2"
        },
        {
         "customdata": [
          [
           31819
          ],
          [
           31900
          ],
          [
           32106
          ],
          [
           32456
          ],
          [
           32362
          ],
          [
           32721
          ],
          [
           32572
          ],
          [
           33586
          ]
         ],
         "hovertemplate": "state=IA<br>group=AGEP<br>year=%{x}<br>base_rate=%{y}<br>len=%{customdata[0]}<extra></extra>",
         "legendgroup": "IA",
         "line": {
          "color": "#FFA15A",
          "dash": "solid"
         },
         "marker": {
          "symbol": "circle"
         },
         "mode": "lines",
         "name": "IA",
         "showlegend": false,
         "type": "scattergl",
         "x": [
          2014,
          2015,
          2016,
          2017,
          2018,
          2019,
          2021,
          2022
         ],
         "xaxis": "x3",
         "y": [
          0.8526011560693642,
          0.8854166666666666,
          0.8957654723127035,
          0.8895184135977338,
          0.8735632183908046,
          0.8712871287128713,
          0.8636363636363636,
          0.8957219251336899
         ],
         "yaxis": "y3"
        },
        {
         "customdata": [
          [
           28802
          ],
          [
           28774
          ],
          [
           28590
          ],
          [
           29374
          ],
          [
           29567
          ],
          [
           29697
          ],
          [
           28957
          ],
          [
           29940
          ]
         ],
         "hovertemplate": "state=KS<br>group=SEX<br>year=%{x}<br>base_rate=%{y}<br>len=%{customdata[0]}<extra></extra>",
         "legendgroup": "KS",
         "line": {
          "color": "#19d3f3",
          "dash": "solid"
         },
         "marker": {
          "symbol": "circle"
         },
         "mode": "lines",
         "name": "KS",
         "showlegend": true,
         "type": "scattergl",
         "x": [
          2014,
          2015,
          2016,
          2017,
          2018,
          2019,
          2021,
          2022
         ],
         "xaxis": "x",
         "y": [
          0.06039626005420129,
          0.05709631217894007,
          0.05313194763970269,
          0.06365567221865609,
          0.059791587335280005,
          0.060329154388640394,
          0.05002314370854671,
          0.048557837088263
         ],
         "yaxis": "y"
        },
        {
         "customdata": [
          [
           28802
          ],
          [
           28774
          ],
          [
           28590
          ],
          [
           29374
          ],
          [
           29567
          ],
          [
           29697
          ],
          [
           28957
          ],
          [
           29940
          ]
         ],
         "hovertemplate": "state=KS<br>group=RAC1P<br>year=%{x}<br>base_rate=%{y}<br>len=%{customdata[0]}<extra></extra>",
         "legendgroup": "KS",
         "line": {
          "color": "#19d3f3",
          "dash": "solid"
         },
         "marker": {
          "symbol": "circle"
         },
         "mode": "lines",
         "name": "KS",
         "showlegend": false,
         "type": "scattergl",
         "x": [
          2014,
          2015,
          2016,
          2017,
          2018,
          2019,
          2021,
          2022
         ],
         "xaxis": "x2",
         "y": [
          0.5833333333333334,
          0.1974169741697417,
          0.6678966789667897,
          0.18555194805194808,
          0.507223113964687,
          0.29047661951527165,
          0.3779940119760479,
          0.6201117318435754
         ],
         "yaxis": "y2"
        },
        {
         "customdata": [
          [
           28802
          ],
          [
           28774
          ],
          [
           28590
          ],
          [
           29374
          ],
          [
           29567
          ],
          [
           29697
          ],
          [
           28957
          ],
          [
           29940
          ]
         ],
         "hovertemplate": "state=KS<br>group=AGEP<br>year=%{x}<br>base_rate=%{y}<br>len=%{customdata[0]}<extra></extra>",
         "legendgroup": "KS",
         "line": {
          "color": "#19d3f3",
          "dash": "solid"
         },
         "marker": {
          "symbol": "circle"
         },
         "mode": "lines",
         "name": "KS",
         "showlegend": false,
         "type": "scattergl",
         "x": [
          2014,
          2015,
          2016,
          2017,
          2018,
          2019,
          2021,
          2022
         ],
         "xaxis": "x3",
         "y": [
          0.8208092485549133,
          0.8433333333333334,
          0.8434504792332268,
          0.84765625,
          0.830945558739255,
          0.8571428571428571,
          0.8436482084690554,
          0.8686131386861314
         ],
         "yaxis": "y3"
        },
        {
         "customdata": [
          [
           44868
          ],
          [
           44749
          ],
          [
           44739
          ],
          [
           45209
          ],
          [
           45475
          ],
          [
           45649
          ],
          [
           45892
          ],
          [
           46605
          ]
         ],
         "hovertemplate": "state=KY<br>group=SEX<br>year=%{x}<br>base_rate=%{y}<br>len=%{customdata[0]}<extra></extra>",
         "legendgroup": "KY",
         "line": {
          "color": "#FF6692",
          "dash": "solid"
         },
         "marker": {
          "symbol": "circle"
         },
         "mode": "lines",
         "name": "KY",
         "showlegend": true,
         "type": "scattergl",
         "x": [
          2014,
          2015,
          2016,
          2017,
          2018,
          2019,
          2021,
          2022
         ],
         "xaxis": "x",
         "y": [
          0.0506769770842358,
          0.05378980113057946,
          0.04708504775973238,
          0.05107864904954529,
          0.04950666360705297,
          0.04578271449848659,
          0.04723834564775775,
          0.05525771195289342
         ],
         "yaxis": "y"
        },
        {
         "customdata": [
          [
           44868
          ],
          [
           44749
          ],
          [
           44739
          ],
          [
           45209
          ],
          [
           45475
          ],
          [
           45649
          ],
          [
           45892
          ],
          [
           46605
          ]
         ],
         "hovertemplate": "state=KY<br>group=RAC1P<br>year=%{x}<br>base_rate=%{y}<br>len=%{customdata[0]}<extra></extra>",
         "legendgroup": "KY",
         "line": {
          "color": "#FF6692",
          "dash": "solid"
         },
         "marker": {
          "symbol": "circle"
         },
         "mode": "lines",
         "name": "KY",
         "showlegend": false,
         "type": "scattergl",
         "x": [
          2014,
          2015,
          2016,
          2017,
          2018,
          2019,
          2021,
          2022
         ],
         "xaxis": "x2",
         "y": [
          0.33128078817733986,
          0.45238095238095233,
          0.5,
          0.4144736842105263,
          0.2290748898678414,
          0.25112309074573225,
          0.4720965309200603,
          0.18556755057121888
         ],
         "yaxis": "y2"
        },
        {
         "customdata": [
          [
           44868
          ],
          [
           44749
          ],
          [
           44739
          ],
          [
           45209
          ],
          [
           45475
          ],
          [
           45649
          ],
          [
           45892
          ],
          [
           46605
          ]
         ],
         "hovertemplate": "state=KY<br>group=AGEP<br>year=%{x}<br>base_rate=%{y}<br>len=%{customdata[0]}<extra></extra>",
         "legendgroup": "KY",
         "line": {
          "color": "#FF6692",
          "dash": "solid"
         },
         "marker": {
          "symbol": "circle"
         },
         "mode": "lines",
         "name": "KY",
         "showlegend": false,
         "type": "scattergl",
         "x": [
          2014,
          2015,
          2016,
          2017,
          2018,
          2019,
          2021,
          2022
         ],
         "xaxis": "x3",
         "y": [
          0.7454873646209387,
          0.7427536231884058,
          0.760593220338983,
          0.7627450980392156,
          0.7673076923076924,
          0.7933884297520661,
          0.764344262295082,
          0.7798507462686567
         ],
         "yaxis": "y3"
        },
        {
         "customdata": [
          [
           43908
          ],
          [
           43892
          ],
          [
           43598
          ],
          [
           44024
          ],
          [
           43589
          ],
          [
           43896
          ],
          [
           43663
          ],
          [
           45040
          ]
         ],
         "hovertemplate": "state=LA<br>group=SEX<br>year=%{x}<br>base_rate=%{y}<br>len=%{customdata[0]}<extra></extra>",
         "legendgroup": "LA",
         "line": {
          "color": "#B6E880",
          "dash": "solid"
         },
         "marker": {
          "symbol": "circle"
         },
         "mode": "lines",
         "name": "LA",
         "showlegend": true,
         "type": "scattergl",
         "x": [
          2014,
          2015,
          2016,
          2017,
          2018,
          2019,
          2021,
          2022
         ],
         "xaxis": "x",
         "y": [
          0.049054181740023683,
          0.048318222818648005,
          0.03473990136242883,
          0.04238767804936289,
          0.0303694718729417,
          0.04128247901703075,
          0.03304035223996232,
          0.036573035172235646
         ],
         "yaxis": "y"
        },
        {
         "customdata": [
          [
           43908
          ],
          [
           43892
          ],
          [
           43598
          ],
          [
           44024
          ],
          [
           43589
          ],
          [
           43896
          ],
          [
           43663
          ],
          [
           45040
          ]
         ],
         "hovertemplate": "state=LA<br>group=RAC1P<br>year=%{x}<br>base_rate=%{y}<br>len=%{customdata[0]}<extra></extra>",
         "legendgroup": "LA",
         "line": {
          "color": "#B6E880",
          "dash": "solid"
         },
         "marker": {
          "symbol": "circle"
         },
         "mode": "lines",
         "name": "LA",
         "showlegend": false,
         "type": "scattergl",
         "x": [
          2014,
          2015,
          2016,
          2017,
          2018,
          2019,
          2021,
          2022
         ],
         "xaxis": "x2",
         "y": [
          0.48413793103448277,
          0.4702549575070821,
          0.3508667065152421,
          0.2362966374942423,
          0.6776447105788423,
          0.22754137115839246,
          0.4697674418604651,
          0.5028968713789108
         ],
         "yaxis": "y2"
        },
        {
         "customdata": [
          [
           43908
          ],
          [
           43892
          ],
          [
           43598
          ],
          [
           44024
          ],
          [
           43589
          ],
          [
           43896
          ],
          [
           43663
          ],
          [
           45040
          ]
         ],
         "hovertemplate": "state=LA<br>group=AGEP<br>year=%{x}<br>base_rate=%{y}<br>len=%{customdata[0]}<extra></extra>",
         "legendgroup": "LA",
         "line": {
          "color": "#B6E880",
          "dash": "solid"
         },
         "marker": {
          "symbol": "circle"
         },
         "mode": "lines",
         "name": "LA",
         "showlegend": false,
         "type": "scattergl",
         "x": [
          2014,
          2015,
          2016,
          2017,
          2018,
          2019,
          2021,
          2022
         ],
         "xaxis": "x3",
         "y": [
          0.743421052631579,
          0.7670588235294118,
          0.7573839662447257,
          0.7527675276752768,
          0.7468123861566485,
          0.7653631284916201,
          0.7658227848101266,
          0.7593984962406015
         ],
         "yaxis": "y3"
        },
        {
         "customdata": [
          [
           12962
          ],
          [
           13059
          ],
          [
           12460
          ],
          [
           12583
          ],
          [
           13275
          ],
          [
           13493
          ],
          [
           13883
          ],
          [
           14523
          ]
         ],
         "hovertemplate": "state=ME<br>group=SEX<br>year=%{x}<br>base_rate=%{y}<br>len=%{customdata[0]}<extra></extra>",
         "legendgroup": "ME",
         "line": {
          "color": "#FF97FF",
          "dash": "solid"
         },
         "marker": {
          "symbol": "circle"
         },
         "mode": "lines",
         "name": "ME",
         "showlegend": true,
         "type": "scattergl",
         "x": [
          2014,
          2015,
          2016,
          2017,
          2018,
          2019,
          2021,
          2022
         ],
         "xaxis": "x",
         "y": [
          0.029361387953904028,
          0.03481975862723374,
          0.036787288297738974,
          0.022079338301850937,
          0.02223203534467827,
          0.03495712244710936,
          0.011274777968378058,
          0.017649330088353454
         ],
         "yaxis": "y"
        },
        {
         "customdata": [
          [
           12962
          ],
          [
           13059
          ],
          [
           12460
          ],
          [
           12583
          ],
          [
           13275
          ],
          [
           13493
          ],
          [
           13883
          ],
          [
           14523
          ]
         ],
         "hovertemplate": "state=ME<br>group=RAC1P<br>year=%{x}<br>base_rate=%{y}<br>len=%{customdata[0]}<extra></extra>",
         "legendgroup": "ME",
         "line": {
          "color": "#FF97FF",
          "dash": "solid"
         },
         "marker": {
          "symbol": "circle"
         },
         "mode": "lines",
         "name": "ME",
         "showlegend": false,
         "type": "scattergl",
         "x": [
          2014,
          2015,
          2016,
          2017,
          2018,
          2019,
          2021,
          2022
         ],
         "xaxis": "x2",
         "y": [
          0.7625,
          0.2847222222222222,
          1,
          0.46511627906976744,
          0.2849326599326599,
          0.24997101449275366,
          0.6666666666666666,
          0.6818181818181819
         ],
         "yaxis": "y2"
        },
        {
         "customdata": [
          [
           12962
          ],
          [
           13059
          ],
          [
           12460
          ],
          [
           12583
          ],
          [
           13275
          ],
          [
           13493
          ],
          [
           13883
          ],
          [
           14523
          ]
         ],
         "hovertemplate": "state=ME<br>group=AGEP<br>year=%{x}<br>base_rate=%{y}<br>len=%{customdata[0]}<extra></extra>",
         "legendgroup": "ME",
         "line": {
          "color": "#FF97FF",
          "dash": "solid"
         },
         "marker": {
          "symbol": "circle"
         },
         "mode": "lines",
         "name": "ME",
         "showlegend": false,
         "type": "scattergl",
         "x": [
          2014,
          2015,
          2016,
          2017,
          2018,
          2019,
          2021,
          2022
         ],
         "xaxis": "x3",
         "y": [
          0.8248175182481752,
          0.8741258741258742,
          0.8271604938271605,
          0.831858407079646,
          0.8552631578947368,
          0.8496732026143791,
          0.8620689655172413,
          0.8333333333333334
         ],
         "yaxis": "y3"
        },
        {
         "customdata": [
          [
           58876
          ],
          [
           59332
          ],
          [
           59408
          ],
          [
           59463
          ],
          [
           59840
          ],
          [
           60237
          ],
          [
           62853
          ],
          [
           62442
          ]
         ],
         "hovertemplate": "state=MD<br>group=SEX<br>year=%{x}<br>base_rate=%{y}<br>len=%{customdata[0]}<extra></extra>",
         "legendgroup": "MD",
         "line": {
          "color": "#FECB52",
          "dash": "solid"
         },
         "marker": {
          "symbol": "circle"
         },
         "mode": "lines",
         "name": "MD",
         "showlegend": true,
         "type": "scattergl",
         "x": [
          2014,
          2015,
          2016,
          2017,
          2018,
          2019,
          2021,
          2022
         ],
         "xaxis": "x",
         "y": [
          0.04778073600462007,
          0.04538369417587629,
          0.03906318033893952,
          0.04898998876406996,
          0.04624984803942972,
          0.04162874692397839,
          0.03485825879875831,
          0.04563628519966578
         ],
         "yaxis": "y"
        },
        {
         "customdata": [
          [
           58876
          ],
          [
           59332
          ],
          [
           59408
          ],
          [
           59463
          ],
          [
           59840
          ],
          [
           60237
          ],
          [
           62853
          ],
          [
           62442
          ]
         ],
         "hovertemplate": "state=MD<br>group=RAC1P<br>year=%{x}<br>base_rate=%{y}<br>len=%{customdata[0]}<extra></extra>",
         "legendgroup": "MD",
         "line": {
          "color": "#FECB52",
          "dash": "solid"
         },
         "marker": {
          "symbol": "circle"
         },
         "mode": "lines",
         "name": "MD",
         "showlegend": false,
         "type": "scattergl",
         "x": [
          2014,
          2015,
          2016,
          2017,
          2018,
          2019,
          2021,
          2022
         ],
         "xaxis": "x2",
         "y": [
          0.21848739495798314,
          0.453119633657699,
          0.2781649245063879,
          0.2121212121212121,
          0.6474677259185699,
          0.16465061857976154,
          0.5819209039548022,
          0.6091954022988506
         ],
         "yaxis": "y2"
        },
        {
         "customdata": [
          [
           58876
          ],
          [
           59332
          ],
          [
           59408
          ],
          [
           59463
          ],
          [
           59840
          ],
          [
           60237
          ],
          [
           62853
          ],
          [
           62442
          ]
         ],
         "hovertemplate": "state=MD<br>group=AGEP<br>year=%{x}<br>base_rate=%{y}<br>len=%{customdata[0]}<extra></extra>",
         "legendgroup": "MD",
         "line": {
          "color": "#FECB52",
          "dash": "solid"
         },
         "marker": {
          "symbol": "circle"
         },
         "mode": "lines",
         "name": "MD",
         "showlegend": false,
         "type": "scattergl",
         "x": [
          2014,
          2015,
          2016,
          2017,
          2018,
          2019,
          2021,
          2022
         ],
         "xaxis": "x3",
         "y": [
          0.8193069306930693,
          0.8204182041820418,
          0.8421052631578947,
          0.8302354399008675,
          0.8529014844804319,
          0.8414634146341463,
          0.8156808803301238,
          0.8485237483953787
         ],
         "yaxis": "y3"
        },
        {
         "customdata": [
          [
           68544
          ],
          [
           68785
          ],
          [
           69126
          ],
          [
           69635
          ],
          [
           70131
          ],
          [
           70579
          ],
          [
           73108
          ],
          [
           73077
          ]
         ],
         "hovertemplate": "state=MA<br>group=SEX<br>year=%{x}<br>base_rate=%{y}<br>len=%{customdata[0]}<extra></extra>",
         "legendgroup": "MA",
         "line": {
          "color": "#636efa",
          "dash": "solid"
         },
         "marker": {
          "symbol": "circle"
         },
         "mode": "lines",
         "name": "MA",
         "showlegend": true,
         "type": "scattergl",
         "x": [
          2014,
          2015,
          2016,
          2017,
          2018,
          2019,
          2021,
          2022
         ],
         "xaxis": "x",
         "y": [
          0.0383351601510169,
          0.03685367046175775,
          0.03482795644730974,
          0.04420163048122927,
          0.036303707226641,
          0.043575604547748725,
          0.03908645844910441,
          0.03858510607690602
         ],
         "yaxis": "y"
        },
        {
         "customdata": [
          [
           68544
          ],
          [
           68785
          ],
          [
           69126
          ],
          [
           69635
          ],
          [
           70131
          ],
          [
           70579
          ],
          [
           73108
          ],
          [
           73077
          ]
         ],
         "hovertemplate": "state=MA<br>group=RAC1P<br>year=%{x}<br>base_rate=%{y}<br>len=%{customdata[0]}<extra></extra>",
         "legendgroup": "MA",
         "line": {
          "color": "#636efa",
          "dash": "solid"
         },
         "marker": {
          "symbol": "circle"
         },
         "mode": "lines",
         "name": "MA",
         "showlegend": false,
         "type": "scattergl",
         "x": [
          2014,
          2015,
          2016,
          2017,
          2018,
          2019,
          2021,
          2022
         ],
         "xaxis": "x2",
         "y": [
          0.2749590834697218,
          0.6491228070175439,
          0.2617242844998583,
          0.2238095238095238,
          0.6167846309403437,
          0.3287890938251804,
          0.478494623655914,
          0.174468085106383
         ],
         "yaxis": "y2"
        },
        {
         "customdata": [
          [
           68544
          ],
          [
           68785
          ],
          [
           69126
          ],
          [
           69635
          ],
          [
           70131
          ],
          [
           70579
          ],
          [
           73108
          ],
          [
           73077
          ]
         ],
         "hovertemplate": "state=MA<br>group=AGEP<br>year=%{x}<br>base_rate=%{y}<br>len=%{customdata[0]}<extra></extra>",
         "legendgroup": "MA",
         "line": {
          "color": "#636efa",
          "dash": "solid"
         },
         "marker": {
          "symbol": "circle"
         },
         "mode": "lines",
         "name": "MA",
         "showlegend": false,
         "type": "scattergl",
         "x": [
          2014,
          2015,
          2016,
          2017,
          2018,
          2019,
          2021,
          2022
         ],
         "xaxis": "x3",
         "y": [
          0.8083333333333333,
          0.8331053351573188,
          0.841248303934871,
          0.8344671201814059,
          0.862116991643454,
          0.8480565371024735,
          0.8220338983050848,
          0.8533916849015317
         ],
         "yaxis": "y3"
        },
        {
         "customdata": [
          [
           98180
          ],
          [
           98008
          ],
          [
           98145
          ],
          [
           99459
          ],
          [
           99419
          ],
          [
           100078
          ],
          [
           99040
          ],
          [
           101512
          ]
         ],
         "hovertemplate": "state=MI<br>group=SEX<br>year=%{x}<br>base_rate=%{y}<br>len=%{customdata[0]}<extra></extra>",
         "legendgroup": "MI",
         "line": {
          "color": "#EF553B",
          "dash": "solid"
         },
         "marker": {
          "symbol": "circle"
         },
         "mode": "lines",
         "name": "MI",
         "showlegend": true,
         "type": "scattergl",
         "x": [
          2014,
          2015,
          2016,
          2017,
          2018,
          2019,
          2021,
          2022
         ],
         "xaxis": "x",
         "y": [
          0.046231255251509784,
          0.05130551688413898,
          0.04415711603103767,
          0.04846007025430338,
          0.052683169485923054,
          0.05765325930478432,
          0.05465341772660043,
          0.05210540011849535
         ],
         "yaxis": "y"
        },
        {
         "customdata": [
          [
           98180
          ],
          [
           98008
          ],
          [
           98145
          ],
          [
           99459
          ],
          [
           99419
          ],
          [
           100078
          ],
          [
           99040
          ],
          [
           101512
          ]
         ],
         "hovertemplate": "state=MI<br>group=RAC1P<br>year=%{x}<br>base_rate=%{y}<br>len=%{customdata[0]}<extra></extra>",
         "legendgroup": "MI",
         "line": {
          "color": "#EF553B",
          "dash": "solid"
         },
         "marker": {
          "symbol": "circle"
         },
         "mode": "lines",
         "name": "MI",
         "showlegend": false,
         "type": "scattergl",
         "x": [
          2014,
          2015,
          2016,
          2017,
          2018,
          2019,
          2021,
          2022
         ],
         "xaxis": "x2",
         "y": [
          0.47152466367713003,
          0.19395932104457547,
          0.31999999999999995,
          0.6912193091968373,
          0.1607452191064231,
          0.2542804728903384,
          0.28940269749518305,
          0.6385356454720617
         ],
         "yaxis": "y2"
        },
        {
         "customdata": [
          [
           98180
          ],
          [
           98008
          ],
          [
           98145
          ],
          [
           99459
          ],
          [
           99419
          ],
          [
           100078
          ],
          [
           99040
          ],
          [
           101512
          ]
         ],
         "hovertemplate": "state=MI<br>group=AGEP<br>year=%{x}<br>base_rate=%{y}<br>len=%{customdata[0]}<extra></extra>",
         "legendgroup": "MI",
         "line": {
          "color": "#EF553B",
          "dash": "solid"
         },
         "marker": {
          "symbol": "circle"
         },
         "mode": "lines",
         "name": "MI",
         "showlegend": false,
         "type": "scattergl",
         "x": [
          2014,
          2015,
          2016,
          2017,
          2018,
          2019,
          2021,
          2022
         ],
         "xaxis": "x3",
         "y": [
          0.7768281101614435,
          0.7806244995996797,
          0.7922178988326848,
          0.8151340996168582,
          0.7838589981447124,
          0.8016997167138811,
          0.7813411078717201,
          0.7893789378937894
         ],
         "yaxis": "y3"
        },
        {
         "customdata": [
          [
           54297
          ],
          [
           54811
          ],
          [
           54115
          ],
          [
           55161
          ],
          [
           55783
          ],
          [
           56670
          ],
          [
           56636
          ],
          [
           58984
          ]
         ],
         "hovertemplate": "state=MN<br>group=SEX<br>year=%{x}<br>base_rate=%{y}<br>len=%{customdata[0]}<extra></extra>",
         "legendgroup": "MN",
         "line": {
          "color": "#00cc96",
          "dash": "solid"
         },
         "marker": {
          "symbol": "circle"
         },
         "mode": "lines",
         "name": "MN",
         "showlegend": true,
         "type": "scattergl",
         "x": [
          2014,
          2015,
          2016,
          2017,
          2018,
          2019,
          2021,
          2022
         ],
         "xaxis": "x",
         "y": [
          0.04030928915095633,
          0.03895757209084405,
          0.04501321547456061,
          0.04519210325834827,
          0.04257223491093037,
          0.04041514575711269,
          0.03958624967055707,
          0.03877221682660453
         ],
         "yaxis": "y"
        },
        {
         "customdata": [
          [
           54297
          ],
          [
           54811
          ],
          [
           54115
          ],
          [
           55161
          ],
          [
           55783
          ],
          [
           56670
          ],
          [
           56636
          ],
          [
           58984
          ]
         ],
         "hovertemplate": "state=MN<br>group=RAC1P<br>year=%{x}<br>base_rate=%{y}<br>len=%{customdata[0]}<extra></extra>",
         "legendgroup": "MN",
         "line": {
          "color": "#00cc96",
          "dash": "solid"
         },
         "marker": {
          "symbol": "circle"
         },
         "mode": "lines",
         "name": "MN",
         "showlegend": false,
         "type": "scattergl",
         "x": [
          2014,
          2015,
          2016,
          2017,
          2018,
          2019,
          2021,
          2022
         ],
         "xaxis": "x2",
         "y": [
          0.5073217295935983,
          0.22293225082259976,
          0.26781389134245903,
          0.22666363419222785,
          0.7777777777777778,
          0.2447330447330448,
          0.3076066790352505,
          0.5324751316559392
         ],
         "yaxis": "y2"
        },
        {
         "customdata": [
          [
           54297
          ],
          [
           54811
          ],
          [
           54115
          ],
          [
           55161
          ],
          [
           55783
          ],
          [
           56670
          ],
          [
           56636
          ],
          [
           58984
          ]
         ],
         "hovertemplate": "state=MN<br>group=AGEP<br>year=%{x}<br>base_rate=%{y}<br>len=%{customdata[0]}<extra></extra>",
         "legendgroup": "MN",
         "line": {
          "color": "#00cc96",
          "dash": "solid"
         },
         "marker": {
          "symbol": "circle"
         },
         "mode": "lines",
         "name": "MN",
         "showlegend": false,
         "type": "scattergl",
         "x": [
          2014,
          2015,
          2016,
          2017,
          2018,
          2019,
          2021,
          2022
         ],
         "xaxis": "x3",
         "y": [
          0.8592814371257484,
          0.874113475177305,
          0.8669527896995708,
          0.8756302521008403,
          0.8806509945750453,
          0.8778979907264297,
          0.8678955453149002,
          0.8705501618122977
         ],
         "yaxis": "y3"
        },
        {
         "customdata": [
          [
           29255
          ],
          [
           29600
          ],
          [
           28986
          ],
          [
           29096
          ],
          [
           29124
          ],
          [
           29217
          ],
          [
           28572
          ],
          [
           29796
          ]
         ],
         "hovertemplate": "state=MS<br>group=SEX<br>year=%{x}<br>base_rate=%{y}<br>len=%{customdata[0]}<extra></extra>",
         "legendgroup": "MS",
         "line": {
          "color": "#ab63fa",
          "dash": "solid"
         },
         "marker": {
          "symbol": "circle"
         },
         "mode": "lines",
         "name": "MS",
         "showlegend": true,
         "type": "scattergl",
         "x": [
          2014,
          2015,
          2016,
          2017,
          2018,
          2019,
          2021,
          2022
         ],
         "xaxis": "x",
         "y": [
          0.0414768892005119,
          0.04272514658409643,
          0.04049551216836844,
          0.037401463815281255,
          0.043712696761336656,
          0.03727461569249296,
          0.03278064776995948,
          0.028923981618843686
         ],
         "yaxis": "y"
        },
        {
         "customdata": [
          [
           29255
          ],
          [
           29600
          ],
          [
           28986
          ],
          [
           29096
          ],
          [
           29124
          ],
          [
           29217
          ],
          [
           28572
          ],
          [
           29796
          ]
         ],
         "hovertemplate": "state=MS<br>group=RAC1P<br>year=%{x}<br>base_rate=%{y}<br>len=%{customdata[0]}<extra></extra>",
         "legendgroup": "MS",
         "line": {
          "color": "#ab63fa",
          "dash": "solid"
         },
         "marker": {
          "symbol": "circle"
         },
         "mode": "lines",
         "name": "MS",
         "showlegend": false,
         "type": "scattergl",
         "x": [
          2014,
          2015,
          2016,
          2017,
          2018,
          2019,
          2021,
          2022
         ],
         "xaxis": "x2",
         "y": [
          0.35328614762386246,
          0.34777448071216616,
          0.48868778280542985,
          0.35555555555555557,
          0.20769787497493042,
          0.6666666666666666,
          0.49,
          0.49122807017543857
         ],
         "yaxis": "y2"
        },
        {
         "customdata": [
          [
           29255
          ],
          [
           29600
          ],
          [
           28986
          ],
          [
           29096
          ],
          [
           29124
          ],
          [
           29217
          ],
          [
           28572
          ],
          [
           29796
          ]
         ],
         "hovertemplate": "state=MS<br>group=AGEP<br>year=%{x}<br>base_rate=%{y}<br>len=%{customdata[0]}<extra></extra>",
         "legendgroup": "MS",
         "line": {
          "color": "#ab63fa",
          "dash": "solid"
         },
         "marker": {
          "symbol": "circle"
         },
         "mode": "lines",
         "name": "MS",
         "showlegend": false,
         "type": "scattergl",
         "x": [
          2014,
          2015,
          2016,
          2017,
          2018,
          2019,
          2021,
          2022
         ],
         "xaxis": "x3",
         "y": [
          0.74,
          0.7598784194528876,
          0.743421052631579,
          0.7596153846153846,
          0.7620578778135049,
          0.7727272727272727,
          0.7550335570469798,
          0.7597402597402597
         ],
         "yaxis": "y3"
        },
        {
         "customdata": [
          [
           61394
          ],
          [
           61586
          ],
          [
           61923
          ],
          [
           62073
          ],
          [
           62416
          ],
          [
           63174
          ],
          [
           62254
          ],
          [
           64551
          ]
         ],
         "hovertemplate": "state=MO<br>group=SEX<br>year=%{x}<br>base_rate=%{y}<br>len=%{customdata[0]}<extra></extra>",
         "legendgroup": "MO",
         "line": {
          "color": "#FFA15A",
          "dash": "solid"
         },
         "marker": {
          "symbol": "circle"
         },
         "mode": "lines",
         "name": "MO",
         "showlegend": true,
         "type": "scattergl",
         "x": [
          2014,
          2015,
          2016,
          2017,
          2018,
          2019,
          2021,
          2022
         ],
         "xaxis": "x",
         "y": [
          0.039646683002450556,
          0.04491590951675545,
          0.04887073558779187,
          0.044759537928009685,
          0.04880727826927839,
          0.04715886791463064,
          0.04122298765011018,
          0.04522197131502054
         ],
         "yaxis": "y"
        },
        {
         "customdata": [
          [
           61394
          ],
          [
           61586
          ],
          [
           61923
          ],
          [
           62073
          ],
          [
           62416
          ],
          [
           63174
          ],
          [
           62254
          ],
          [
           64551
          ]
         ],
         "hovertemplate": "state=MO<br>group=RAC1P<br>year=%{x}<br>base_rate=%{y}<br>len=%{customdata[0]}<extra></extra>",
         "legendgroup": "MO",
         "line": {
          "color": "#FFA15A",
          "dash": "solid"
         },
         "marker": {
          "symbol": "circle"
         },
         "mode": "lines",
         "name": "MO",
         "showlegend": false,
         "type": "scattergl",
         "x": [
          2014,
          2015,
          2016,
          2017,
          2018,
          2019,
          2021,
          2022
         ],
         "xaxis": "x2",
         "y": [
          0.4888888888888889,
          0.3166666666666667,
          0.2236579821647141,
          0.49530956848030017,
          0.2952029520295203,
          0.24793388429752067,
          0.25457648153893886,
          0.5163727959697733
         ],
         "yaxis": "y2"
        },
        {
         "customdata": [
          [
           61394
          ],
          [
           61586
          ],
          [
           61923
          ],
          [
           62073
          ],
          [
           62416
          ],
          [
           63174
          ],
          [
           62254
          ],
          [
           64551
          ]
         ],
         "hovertemplate": "state=MO<br>group=AGEP<br>year=%{x}<br>base_rate=%{y}<br>len=%{customdata[0]}<extra></extra>",
         "legendgroup": "MO",
         "line": {
          "color": "#FFA15A",
          "dash": "solid"
         },
         "marker": {
          "symbol": "circle"
         },
         "mode": "lines",
         "name": "MO",
         "showlegend": false,
         "type": "scattergl",
         "x": [
          2014,
          2015,
          2016,
          2017,
          2018,
          2019,
          2021,
          2022
         ],
         "xaxis": "x3",
         "y": [
          0.7967479674796748,
          0.796969696969697,
          0.8204334365325078,
          0.81089258698941,
          0.8128834355828221,
          0.8009188361408882,
          0.816923076923077,
          0.8185053380782918
         ],
         "yaxis": "y3"
        },
        {
         "customdata": [
          [
           9878
          ],
          [
           9841
          ],
          [
           10161
          ],
          [
           10221
          ],
          [
           10336
          ],
          [
           10649
          ],
          [
           10615
          ],
          [
           11116
          ]
         ],
         "hovertemplate": "state=MT<br>group=SEX<br>year=%{x}<br>base_rate=%{y}<br>len=%{customdata[0]}<extra></extra>",
         "legendgroup": "MT",
         "line": {
          "color": "#19d3f3",
          "dash": "solid"
         },
         "marker": {
          "symbol": "circle"
         },
         "mode": "lines",
         "name": "MT",
         "showlegend": true,
         "type": "scattergl",
         "x": [
          2014,
          2015,
          2016,
          2017,
          2018,
          2019,
          2021,
          2022
         ],
         "xaxis": "x",
         "y": [
          0.03687049062049064,
          0.05074682651091805,
          0.040151395972228554,
          0.042915192315482686,
          0.03834952043485895,
          0.046523124647748715,
          0.05498835507221217,
          0.044555830675878205
         ],
         "yaxis": "y"
        },
        {
         "customdata": [
          [
           9878
          ],
          [
           9841
          ],
          [
           10161
          ],
          [
           10221
          ],
          [
           10336
          ],
          [
           10649
          ],
          [
           10615
          ],
          [
           11116
          ]
         ],
         "hovertemplate": "state=MT<br>group=RAC1P<br>year=%{x}<br>base_rate=%{y}<br>len=%{customdata[0]}<extra></extra>",
         "legendgroup": "MT",
         "line": {
          "color": "#19d3f3",
          "dash": "solid"
         },
         "marker": {
          "symbol": "circle"
         },
         "mode": "lines",
         "name": "MT",
         "showlegend": false,
         "type": "scattergl",
         "x": [
          2014,
          2015,
          2016,
          2017,
          2018,
          2019,
          2021,
          2022
         ],
         "xaxis": "x2",
         "y": [
          1,
          0.5714285714285714,
          0.5652173913043478,
          0.4718381112984823,
          0.5,
          0.37228796844181455,
          0.35639599555061174,
          0.48863636363636365
         ],
         "yaxis": "y2"
        },
        {
         "customdata": [
          [
           9878
          ],
          [
           9841
          ],
          [
           10161
          ],
          [
           10221
          ],
          [
           10336
          ],
          [
           10649
          ],
          [
           10615
          ],
          [
           11116
          ]
         ],
         "hovertemplate": "state=MT<br>group=AGEP<br>year=%{x}<br>base_rate=%{y}<br>len=%{customdata[0]}<extra></extra>",
         "legendgroup": "MT",
         "line": {
          "color": "#19d3f3",
          "dash": "solid"
         },
         "marker": {
          "symbol": "circle"
         },
         "mode": "lines",
         "name": "MT",
         "showlegend": false,
         "type": "scattergl",
         "x": [
          2014,
          2015,
          2016,
          2017,
          2018,
          2019,
          2021,
          2022
         ],
         "xaxis": "x3",
         "y": [
          0.8333333333333334,
          0.8658536585365854,
          0.8404255319148937,
          0.8541666666666666,
          0.868421052631579,
          0.9010989010989011,
          0.8518518518518519,
          0.8514851485148515
         ],
         "yaxis": "y3"
        },
        {
         "customdata": [
          [
           19181
          ],
          [
           19089
          ],
          [
           19017
          ],
          [
           19545
          ],
          [
           19451
          ],
          [
           19766
          ],
          [
           19436
          ],
          [
           19989
          ]
         ],
         "hovertemplate": "state=NE<br>group=SEX<br>year=%{x}<br>base_rate=%{y}<br>len=%{customdata[0]}<extra></extra>",
         "legendgroup": "NE",
         "line": {
          "color": "#FF6692",
          "dash": "solid"
         },
         "marker": {
          "symbol": "circle"
         },
         "mode": "lines",
         "name": "NE",
         "showlegend": true,
         "type": "scattergl",
         "x": [
          2014,
          2015,
          2016,
          2017,
          2018,
          2019,
          2021,
          2022
         ],
         "xaxis": "x",
         "y": [
          0.0494775982239814,
          0.05782502113271348,
          0.05393972764053401,
          0.0545826765162335,
          0.057230571698289434,
          0.047900098997125495,
          0.05033178361365909,
          0.053414234449372766
         ],
         "yaxis": "y"
        },
        {
         "customdata": [
          [
           19181
          ],
          [
           19089
          ],
          [
           19017
          ],
          [
           19545
          ],
          [
           19451
          ],
          [
           19766
          ],
          [
           19436
          ],
          [
           19989
          ]
         ],
         "hovertemplate": "state=NE<br>group=RAC1P<br>year=%{x}<br>base_rate=%{y}<br>len=%{customdata[0]}<extra></extra>",
         "legendgroup": "NE",
         "line": {
          "color": "#FF6692",
          "dash": "solid"
         },
         "marker": {
          "symbol": "circle"
         },
         "mode": "lines",
         "name": "NE",
         "showlegend": false,
         "type": "scattergl",
         "x": [
          2014,
          2015,
          2016,
          2017,
          2018,
          2019,
          2021,
          2022
         ],
         "xaxis": "x2",
         "y": [
          0.22026891529825599,
          0.3714285714285714,
          0.5053475935828877,
          0.6937354988399071,
          0.2538875598086125,
          0.2525252525252526,
          0.5638888888888889,
          0.20197782439316747
         ],
         "yaxis": "y2"
        },
        {
         "customdata": [
          [
           19181
          ],
          [
           19089
          ],
          [
           19017
          ],
          [
           19545
          ],
          [
           19451
          ],
          [
           19766
          ],
          [
           19436
          ],
          [
           19989
          ]
         ],
         "hovertemplate": "state=NE<br>group=AGEP<br>year=%{x}<br>base_rate=%{y}<br>len=%{customdata[0]}<extra></extra>",
         "legendgroup": "NE",
         "line": {
          "color": "#FF6692",
          "dash": "solid"
         },
         "marker": {
          "symbol": "circle"
         },
         "mode": "lines",
         "name": "NE",
         "showlegend": false,
         "type": "scattergl",
         "x": [
          2014,
          2015,
          2016,
          2017,
          2018,
          2019,
          2021,
          2022
         ],
         "xaxis": "x3",
         "y": [
          0.8678414096916299,
          0.9033613445378151,
          0.8838174273858921,
          0.8646288209606987,
          0.8809523809523809,
          0.9054054054054054,
          0.8862559241706162,
          0.9128205128205128
         ],
         "yaxis": "y3"
        },
        {
         "customdata": [
          [
           26812
          ],
          [
           26988
          ],
          [
           27285
          ],
          [
           28413
          ],
          [
           28927
          ],
          [
           29347
          ],
          [
           30080
          ],
          [
           30749
          ]
         ],
         "hovertemplate": "state=NV<br>group=SEX<br>year=%{x}<br>base_rate=%{y}<br>len=%{customdata[0]}<extra></extra>",
         "legendgroup": "NV",
         "line": {
          "color": "#B6E880",
          "dash": "solid"
         },
         "marker": {
          "symbol": "circle"
         },
         "mode": "lines",
         "name": "NV",
         "showlegend": true,
         "type": "scattergl",
         "x": [
          2014,
          2015,
          2016,
          2017,
          2018,
          2019,
          2021,
          2022
         ],
         "xaxis": "x",
         "y": [
          0.06305286192587845,
          0.06372996028827771,
          0.0591188766440498,
          0.06684815996883336,
          0.057783118605479855,
          0.05825897153499099,
          0.04840873203129603,
          0.05748568680782007
         ],
         "yaxis": "y"
        },
        {
         "customdata": [
          [
           26812
          ],
          [
           26988
          ],
          [
           27285
          ],
          [
           28413
          ],
          [
           28927
          ],
          [
           29347
          ],
          [
           30080
          ],
          [
           30749
          ]
         ],
         "hovertemplate": "state=NV<br>group=RAC1P<br>year=%{x}<br>base_rate=%{y}<br>len=%{customdata[0]}<extra></extra>",
         "legendgroup": "NV",
         "line": {
          "color": "#B6E880",
          "dash": "solid"
         },
         "marker": {
          "symbol": "circle"
         },
         "mode": "lines",
         "name": "NV",
         "showlegend": false,
         "type": "scattergl",
         "x": [
          2014,
          2015,
          2016,
          2017,
          2018,
          2019,
          2021,
          2022
         ],
         "xaxis": "x2",
         "y": [
          0.203318335208099,
          0.4847202632816173,
          0.6431297709923665,
          0.1446608735313617,
          0.5309106098579783,
          0.1878274889157598,
          0.20622408762860217,
          0.25954134583193844
         ],
         "yaxis": "y2"
        },
        {
         "customdata": [
          [
           26812
          ],
          [
           26988
          ],
          [
           27285
          ],
          [
           28413
          ],
          [
           28927
          ],
          [
           29347
          ],
          [
           30080
          ],
          [
           30749
          ]
         ],
         "hovertemplate": "state=NV<br>group=AGEP<br>year=%{x}<br>base_rate=%{y}<br>len=%{customdata[0]}<extra></extra>",
         "legendgroup": "NV",
         "line": {
          "color": "#B6E880",
          "dash": "solid"
         },
         "marker": {
          "symbol": "circle"
         },
         "mode": "lines",
         "name": "NV",
         "showlegend": false,
         "type": "scattergl",
         "x": [
          2014,
          2015,
          2016,
          2017,
          2018,
          2019,
          2021,
          2022
         ],
         "xaxis": "x3",
         "y": [
          0.7855153203342619,
          0.7865168539325843,
          0.8095238095238095,
          0.7953795379537953,
          0.8017492711370262,
          0.8285714285714286,
          0.7657657657657657,
          0.800531914893617
         ],
         "yaxis": "y3"
        },
        {
         "customdata": [
          [
           13426
          ],
          [
           13378
          ],
          [
           13428
          ],
          [
           13708
          ],
          [
           13780
          ],
          [
           13896
          ],
          [
           13606
          ],
          [
           14077
          ]
         ],
         "hovertemplate": "state=NH<br>group=SEX<br>year=%{x}<br>base_rate=%{y}<br>len=%{customdata[0]}<extra></extra>",
         "legendgroup": "NH",
         "line": {
          "color": "#FF97FF",
          "dash": "solid"
         },
         "marker": {
          "symbol": "circle"
         },
         "mode": "lines",
         "name": "NH",
         "showlegend": true,
         "type": "scattergl",
         "x": [
          2014,
          2015,
          2016,
          2017,
          2018,
          2019,
          2021,
          2022
         ],
         "xaxis": "x",
         "y": [
          0.05083005961975662,
          0.059936691254931784,
          0.039510565253806695,
          0.036083392306933415,
          0.05536814494942649,
          0.047243081168572676,
          0.06122957556269998,
          0.056707921021954766
         ],
         "yaxis": "y"
        },
        {
         "customdata": [
          [
           13426
          ],
          [
           13378
          ],
          [
           13428
          ],
          [
           13708
          ],
          [
           13780
          ],
          [
           13896
          ],
          [
           13606
          ],
          [
           14077
          ]
         ],
         "hovertemplate": "state=NH<br>group=RAC1P<br>year=%{x}<br>base_rate=%{y}<br>len=%{customdata[0]}<extra></extra>",
         "legendgroup": "NH",
         "line": {
          "color": "#FF97FF",
          "dash": "solid"
         },
         "marker": {
          "symbol": "circle"
         },
         "mode": "lines",
         "name": "NH",
         "showlegend": false,
         "type": "scattergl",
         "x": [
          2014,
          2015,
          2016,
          2017,
          2018,
          2019,
          2021,
          2022
         ],
         "xaxis": "x2",
         "y": [
          0.2814542107685228,
          0.5454545454545454,
          0.667953667953668,
          0.5714285714285714,
          0.6666666666666667,
          0.4206827309236948,
          0.5255474452554745,
          0.3681818181818182
         ],
         "yaxis": "y2"
        },
        {
         "customdata": [
          [
           13426
          ],
          [
           13378
          ],
          [
           13428
          ],
          [
           13708
          ],
          [
           13780
          ],
          [
           13896
          ],
          [
           13606
          ],
          [
           14077
          ]
         ],
         "hovertemplate": "state=NH<br>group=AGEP<br>year=%{x}<br>base_rate=%{y}<br>len=%{customdata[0]}<extra></extra>",
         "legendgroup": "NH",
         "line": {
          "color": "#FF97FF",
          "dash": "solid"
         },
         "marker": {
          "symbol": "circle"
         },
         "mode": "lines",
         "name": "NH",
         "showlegend": false,
         "type": "scattergl",
         "x": [
          2014,
          2015,
          2016,
          2017,
          2018,
          2019,
          2021,
          2022
         ],
         "xaxis": "x3",
         "y": [
          0.852760736196319,
          0.8918918918918919,
          0.8808510638297873,
          0.8791208791208791,
          0.8670520231213873,
          0.896969696969697,
          0.8541666666666666,
          0.9030303030303031
         ],
         "yaxis": "y3"
        },
        {
         "customdata": [
          [
           88152
          ],
          [
           87815
          ],
          [
           87279
          ],
          [
           88114
          ],
          [
           88586
          ],
          [
           88459
          ],
          [
           93154
          ],
          [
           93166
          ]
         ],
         "hovertemplate": "state=NJ<br>group=SEX<br>year=%{x}<br>base_rate=%{y}<br>len=%{customdata[0]}<extra></extra>",
         "legendgroup": "NJ",
         "line": {
          "color": "#FECB52",
          "dash": "solid"
         },
         "marker": {
          "symbol": "circle"
         },
         "mode": "lines",
         "name": "NJ",
         "showlegend": true,
         "type": "scattergl",
         "x": [
          2014,
          2015,
          2016,
          2017,
          2018,
          2019,
          2021,
          2022
         ],
         "xaxis": "x",
         "y": [
          0.06240607901970946,
          0.06628318650400838,
          0.07111411879967378,
          0.06603451830177598,
          0.07135607328412852,
          0.06264796308384468,
          0.06657474287131065,
          0.06832579362189212
         ],
         "yaxis": "y"
        },
        {
         "customdata": [
          [
           88152
          ],
          [
           87815
          ],
          [
           87279
          ],
          [
           88114
          ],
          [
           88586
          ],
          [
           88459
          ],
          [
           93154
          ],
          [
           93166
          ]
         ],
         "hovertemplate": "state=NJ<br>group=RAC1P<br>year=%{x}<br>base_rate=%{y}<br>len=%{customdata[0]}<extra></extra>",
         "legendgroup": "NJ",
         "line": {
          "color": "#FECB52",
          "dash": "solid"
         },
         "marker": {
          "symbol": "circle"
         },
         "mode": "lines",
         "name": "NJ",
         "showlegend": false,
         "type": "scattergl",
         "x": [
          2014,
          2015,
          2016,
          2017,
          2018,
          2019,
          2021,
          2022
         ],
         "xaxis": "x2",
         "y": [
          0.2165567210987347,
          0.34324324324324323,
          0.16365403250671717,
          0.1333397540109973,
          0.5357142857142857,
          0.6538461538461539,
          0.10876678315075428,
          0.53220696937698
         ],
         "yaxis": "y2"
        },
        {
         "customdata": [
          [
           88152
          ],
          [
           87815
          ],
          [
           87279
          ],
          [
           88114
          ],
          [
           88586
          ],
          [
           88459
          ],
          [
           93154
          ],
          [
           93166
          ]
         ],
         "hovertemplate": "state=NJ<br>group=AGEP<br>year=%{x}<br>base_rate=%{y}<br>len=%{customdata[0]}<extra></extra>",
         "legendgroup": "NJ",
         "line": {
          "color": "#FECB52",
          "dash": "solid"
         },
         "marker": {
          "symbol": "circle"
         },
         "mode": "lines",
         "name": "NJ",
         "showlegend": false,
         "type": "scattergl",
         "x": [
          2014,
          2015,
          2016,
          2017,
          2018,
          2019,
          2021,
          2022
         ],
         "xaxis": "x3",
         "y": [
          0.7927241962774958,
          0.8008583690987124,
          0.8135593220338984,
          0.8141509433962264,
          0.8326771653543307,
          0.8255924170616113,
          0.8073148974130241,
          0.8287292817679558
         ],
         "yaxis": "y3"
        },
        {
         "customdata": [
          [
           19283
          ],
          [
           19072
          ],
          [
           19060
          ],
          [
           19021
          ],
          [
           19247
          ],
          [
           19281
          ],
          [
           19533
          ],
          [
           20243
          ]
         ],
         "hovertemplate": "state=NM<br>group=SEX<br>year=%{x}<br>base_rate=%{y}<br>len=%{customdata[0]}<extra></extra>",
         "legendgroup": "NM",
         "line": {
          "color": "#636efa",
          "dash": "solid"
         },
         "marker": {
          "symbol": "circle"
         },
         "mode": "lines",
         "name": "NM",
         "showlegend": true,
         "type": "scattergl",
         "x": [
          2014,
          2015,
          2016,
          2017,
          2018,
          2019,
          2021,
          2022
         ],
         "xaxis": "x",
         "y": [
          0.03767561843547218,
          0.036682940919530505,
          0.02108294241055425,
          0.022381001025315095,
          0.03187246197673266,
          0.04018801699052582,
          0.02835327947246552,
          0.013607099793980504
         ],
         "yaxis": "y"
        },
        {
         "customdata": [
          [
           19283
          ],
          [
           19072
          ],
          [
           19060
          ],
          [
           19021
          ],
          [
           19247
          ],
          [
           19281
          ],
          [
           19533
          ],
          [
           20243
          ]
         ],
         "hovertemplate": "state=NM<br>group=RAC1P<br>year=%{x}<br>base_rate=%{y}<br>len=%{customdata[0]}<extra></extra>",
         "legendgroup": "NM",
         "line": {
          "color": "#636efa",
          "dash": "solid"
         },
         "marker": {
          "symbol": "circle"
         },
         "mode": "lines",
         "name": "NM",
         "showlegend": false,
         "type": "scattergl",
         "x": [
          2014,
          2015,
          2016,
          2017,
          2018,
          2019,
          2021,
          2022
         ],
         "xaxis": "x2",
         "y": [
          0.698680146026397,
          0.6982456140350877,
          0.346031746031746,
          0.4444444444444444,
          0.6869565217391305,
          0.5229885057471264,
          0.2368421052631579,
          0.24528301886792453
         ],
         "yaxis": "y2"
        },
        {
         "customdata": [
          [
           19283
          ],
          [
           19072
          ],
          [
           19060
          ],
          [
           19021
          ],
          [
           19247
          ],
          [
           19281
          ],
          [
           19533
          ],
          [
           20243
          ]
         ],
         "hovertemplate": "state=NM<br>group=AGEP<br>year=%{x}<br>base_rate=%{y}<br>len=%{customdata[0]}<extra></extra>",
         "legendgroup": "NM",
         "line": {
          "color": "#636efa",
          "dash": "solid"
         },
         "marker": {
          "symbol": "circle"
         },
         "mode": "lines",
         "name": "NM",
         "showlegend": false,
         "type": "scattergl",
         "x": [
          2014,
          2015,
          2016,
          2017,
          2018,
          2019,
          2021,
          2022
         ],
         "xaxis": "x3",
         "y": [
          0.7318435754189944,
          0.7461928934010152,
          0.7489878542510121,
          0.7405660377358491,
          0.7488151658767772,
          0.8349056603773585,
          0.7736842105263158,
          0.7647058823529411
         ],
         "yaxis": "y3"
        },
        {
         "customdata": [
          [
           196276
          ],
          [
           195742
          ],
          [
           196104
          ],
          [
           196585
          ],
          [
           196967
          ],
          [
           198788
          ],
          [
           200067
          ],
          [
           203891
          ]
         ],
         "hovertemplate": "state=NY<br>group=SEX<br>year=%{x}<br>base_rate=%{y}<br>len=%{customdata[0]}<extra></extra>",
         "legendgroup": "NY",
         "line": {
          "color": "#EF553B",
          "dash": "solid"
         },
         "marker": {
          "symbol": "circle"
         },
         "mode": "lines",
         "name": "NY",
         "showlegend": true,
         "type": "scattergl",
         "x": [
          2014,
          2015,
          2016,
          2017,
          2018,
          2019,
          2021,
          2022
         ],
         "xaxis": "x",
         "y": [
          0.04651483280017327,
          0.04978572340850679,
          0.05184633815170492,
          0.044765494583386856,
          0.043751764643890356,
          0.04290554539353181,
          0.036968919774660214,
          0.0340339904790799
         ],
         "yaxis": "y"
        },
        {
         "customdata": [
          [
           196276
          ],
          [
           195742
          ],
          [
           196104
          ],
          [
           196585
          ],
          [
           196967
          ],
          [
           198788
          ],
          [
           200067
          ],
          [
           203891
          ]
         ],
         "hovertemplate": "state=NY<br>group=RAC1P<br>year=%{x}<br>base_rate=%{y}<br>len=%{customdata[0]}<extra></extra>",
         "legendgroup": "NY",
         "line": {
          "color": "#EF553B",
          "dash": "solid"
         },
         "marker": {
          "symbol": "circle"
         },
         "mode": "lines",
         "name": "NY",
         "showlegend": false,
         "type": "scattergl",
         "x": [
          2014,
          2015,
          2016,
          2017,
          2018,
          2019,
          2021,
          2022
         ],
         "xaxis": "x2",
         "y": [
          0.6658153241650295,
          0.4755417564313775,
          0.6493100275988961,
          0.37336465819052883,
          0.25573770491803277,
          0.11016376836062808,
          0.4131386861313869,
          0.3470679280217555
         ],
         "yaxis": "y2"
        },
        {
         "customdata": [
          [
           196276
          ],
          [
           195742
          ],
          [
           196104
          ],
          [
           196585
          ],
          [
           196967
          ],
          [
           198788
          ],
          [
           200067
          ],
          [
           203891
          ]
         ],
         "hovertemplate": "state=NY<br>group=AGEP<br>year=%{x}<br>base_rate=%{y}<br>len=%{customdata[0]}<extra></extra>",
         "legendgroup": "NY",
         "line": {
          "color": "#EF553B",
          "dash": "solid"
         },
         "marker": {
          "symbol": "circle"
         },
         "mode": "lines",
         "name": "NY",
         "showlegend": false,
         "type": "scattergl",
         "x": [
          2014,
          2015,
          2016,
          2017,
          2018,
          2019,
          2021,
          2022
         ],
         "xaxis": "x3",
         "y": [
          0.7641860465116279,
          0.7774925117672229,
          0.7944700460829494,
          0.781594011448701,
          0.7927170868347339,
          0.8047097036134795,
          0.7617135207496654,
          0.8025177025963808
         ],
         "yaxis": "y3"
        },
        {
         "customdata": [
          [
           97830
          ],
          [
           98184
          ],
          [
           99596
          ],
          [
           101233
          ],
          [
           102523
          ],
          [
           103516
          ],
          [
           104337
          ],
          [
           109230
          ]
         ],
         "hovertemplate": "state=NC<br>group=SEX<br>year=%{x}<br>base_rate=%{y}<br>len=%{customdata[0]}<extra></extra>",
         "legendgroup": "NC",
         "line": {
          "color": "#00cc96",
          "dash": "solid"
         },
         "marker": {
          "symbol": "circle"
         },
         "mode": "lines",
         "name": "NC",
         "showlegend": true,
         "type": "scattergl",
         "x": [
          2014,
          2015,
          2016,
          2017,
          2018,
          2019,
          2021,
          2022
         ],
         "xaxis": "x",
         "y": [
          0.05073485877923034,
          0.05459542255765537,
          0.050700186422648064,
          0.04974647827547868,
          0.04943741949463537,
          0.05149499790657602,
          0.049821858966500654,
          0.03847345394784302
         ],
         "yaxis": "y"
        },
        {
         "customdata": [
          [
           97830
          ],
          [
           98184
          ],
          [
           99596
          ],
          [
           101233
          ],
          [
           102523
          ],
          [
           103516
          ],
          [
           104337
          ],
          [
           109230
          ]
         ],
         "hovertemplate": "state=NC<br>group=RAC1P<br>year=%{x}<br>base_rate=%{y}<br>len=%{customdata[0]}<extra></extra>",
         "legendgroup": "NC",
         "line": {
          "color": "#00cc96",
          "dash": "solid"
         },
         "marker": {
          "symbol": "circle"
         },
         "mode": "lines",
         "name": "NC",
         "showlegend": false,
         "type": "scattergl",
         "x": [
          2014,
          2015,
          2016,
          2017,
          2018,
          2019,
          2021,
          2022
         ],
         "xaxis": "x2",
         "y": [
          0.31720430107526887,
          0.15772211957888294,
          0.1955009461698129,
          0.21918561995597946,
          0.16606475249010078,
          0.19054221341916316,
          0.1572720946416145,
          0.20823995823995822
         ],
         "yaxis": "y2"
        },
        {
         "customdata": [
          [
           97830
          ],
          [
           98184
          ],
          [
           99596
          ],
          [
           101233
          ],
          [
           102523
          ],
          [
           103516
          ],
          [
           104337
          ],
          [
           109230
          ]
         ],
         "hovertemplate": "state=NC<br>group=AGEP<br>year=%{x}<br>base_rate=%{y}<br>len=%{customdata[0]}<extra></extra>",
         "legendgroup": "NC",
         "line": {
          "color": "#00cc96",
          "dash": "solid"
         },
         "marker": {
          "symbol": "circle"
         },
         "mode": "lines",
         "name": "NC",
         "showlegend": false,
         "type": "scattergl",
         "x": [
          2014,
          2015,
          2016,
          2017,
          2018,
          2019,
          2021,
          2022
         ],
         "xaxis": "x3",
         "y": [
          0.7587382779198636,
          0.7848101265822784,
          0.7959558823529411,
          0.7870065789473685,
          0.799645390070922,
          0.7909300538047656,
          0.7585910652920962,
          0.7839453458582408
         ],
         "yaxis": "y3"
        },
        {
         "customdata": [
          [
           7625
          ],
          [
           7869
          ],
          [
           7864
          ],
          [
           7892
          ],
          [
           7876
          ],
          [
           7960
          ],
          [
           7691
          ],
          [
           8107
          ]
         ],
         "hovertemplate": "state=ND<br>group=SEX<br>year=%{x}<br>base_rate=%{y}<br>len=%{customdata[0]}<extra></extra>",
         "legendgroup": "ND",
         "line": {
          "color": "#ab63fa",
          "dash": "solid"
         },
         "marker": {
          "symbol": "circle"
         },
         "mode": "lines",
         "name": "ND",
         "showlegend": true,
         "type": "scattergl",
         "x": [
          2014,
          2015,
          2016,
          2017,
          2018,
          2019,
          2021,
          2022
         ],
         "xaxis": "x",
         "y": [
          0.07240347742395764,
          0.05676199938495019,
          0.04989380269210092,
          0.06942421268155835,
          0.06927252471568718,
          0.059493921082889145,
          0.051854128823414336,
          0.05043868622596859
         ],
         "yaxis": "y"
        },
        {
         "customdata": [
          [
           7625
          ],
          [
           7869
          ],
          [
           7864
          ],
          [
           7892
          ],
          [
           7876
          ],
          [
           7960
          ],
          [
           7691
          ],
          [
           8107
          ]
         ],
         "hovertemplate": "state=ND<br>group=RAC1P<br>year=%{x}<br>base_rate=%{y}<br>len=%{customdata[0]}<extra></extra>",
         "legendgroup": "ND",
         "line": {
          "color": "#ab63fa",
          "dash": "solid"
         },
         "marker": {
          "symbol": "circle"
         },
         "mode": "lines",
         "name": "ND",
         "showlegend": false,
         "type": "scattergl",
         "x": [
          2014,
          2015,
          2016,
          2017,
          2018,
          2019,
          2021,
          2022
         ],
         "xaxis": "x2",
         "y": [
          0.7878787878787878,
          0.3392774530007991,
          0.75,
          0.28558585555888527,
          0.5263157894736842,
          0.5873015873015873,
          0.5933544303797469,
          0.4809027777777778
         ],
         "yaxis": "y2"
        },
        {
         "customdata": [
          [
           7625
          ],
          [
           7869
          ],
          [
           7864
          ],
          [
           7892
          ],
          [
           7876
          ],
          [
           7960
          ],
          [
           7691
          ],
          [
           8107
          ]
         ],
         "hovertemplate": "state=ND<br>group=AGEP<br>year=%{x}<br>base_rate=%{y}<br>len=%{customdata[0]}<extra></extra>",
         "legendgroup": "ND",
         "line": {
          "color": "#ab63fa",
          "dash": "solid"
         },
         "marker": {
          "symbol": "circle"
         },
         "mode": "lines",
         "name": "ND",
         "showlegend": false,
         "type": "scattergl",
         "x": [
          2014,
          2015,
          2016,
          2017,
          2018,
          2019,
          2021,
          2022
         ],
         "xaxis": "x3",
         "y": [
          0.8676470588235294,
          0.8783783783783784,
          0.8947368421052632,
          0.8904109589041096,
          0.8840579710144928,
          0.935064935064935,
          0.8846153846153846,
          0.9333333333333333
         ],
         "yaxis": "y3"
        },
        {
         "customdata": [
          [
           117468
          ],
          [
           118123
          ],
          [
           117426
          ],
          [
           118842
          ],
          [
           119086
          ],
          [
           119589
          ],
          [
           119869
          ],
          [
           120666
          ]
         ],
         "hovertemplate": "state=OH<br>group=SEX<br>year=%{x}<br>base_rate=%{y}<br>len=%{customdata[0]}<extra></extra>",
         "legendgroup": "OH",
         "line": {
          "color": "#FFA15A",
          "dash": "solid"
         },
         "marker": {
          "symbol": "circle"
         },
         "mode": "lines",
         "name": "OH",
         "showlegend": true,
         "type": "scattergl",
         "x": [
          2014,
          2015,
          2016,
          2017,
          2018,
          2019,
          2021,
          2022
         ],
         "xaxis": "x",
         "y": [
          0.05751071771864846,
          0.05610483774064928,
          0.05319122397850745,
          0.050714963976026206,
          0.051646240932860854,
          0.05696530786339654,
          0.05022367385553106,
          0.05251399166493176
         ],
         "yaxis": "y"
        },
        {
         "customdata": [
          [
           117468
          ],
          [
           118123
          ],
          [
           117426
          ],
          [
           118842
          ],
          [
           119086
          ],
          [
           119589
          ],
          [
           119869
          ],
          [
           120666
          ]
         ],
         "hovertemplate": "state=OH<br>group=RAC1P<br>year=%{x}<br>base_rate=%{y}<br>len=%{customdata[0]}<extra></extra>",
         "legendgroup": "OH",
         "line": {
          "color": "#FFA15A",
          "dash": "solid"
         },
         "marker": {
          "symbol": "circle"
         },
         "mode": "lines",
         "name": "OH",
         "showlegend": false,
         "type": "scattergl",
         "x": [
          2014,
          2015,
          2016,
          2017,
          2018,
          2019,
          2021,
          2022
         ],
         "xaxis": "x2",
         "y": [
          0.47734294541709577,
          0.6,
          0.20736022646850671,
          0.6862044317369549,
          0.6296296296296297,
          0.19249098282531912,
          0.1898296645398858,
          0.19132255912224777
         ],
         "yaxis": "y2"
        },
        {
         "customdata": [
          [
           117468
          ],
          [
           118123
          ],
          [
           117426
          ],
          [
           118842
          ],
          [
           119086
          ],
          [
           119589
          ],
          [
           119869
          ],
          [
           120666
          ]
         ],
         "hovertemplate": "state=OH<br>group=AGEP<br>year=%{x}<br>base_rate=%{y}<br>len=%{customdata[0]}<extra></extra>",
         "legendgroup": "OH",
         "line": {
          "color": "#FFA15A",
          "dash": "solid"
         },
         "marker": {
          "symbol": "circle"
         },
         "mode": "lines",
         "name": "OH",
         "showlegend": false,
         "type": "scattergl",
         "x": [
          2014,
          2015,
          2016,
          2017,
          2018,
          2019,
          2021,
          2022
         ],
         "xaxis": "x3",
         "y": [
          0.7829949238578681,
          0.7818419333768779,
          0.7954545454545454,
          0.8129496402877698,
          0.8133524766690596,
          0.8248,
          0.7886309047237791,
          0.8076923076923077
         ],
         "yaxis": "y3"
        },
        {
         "customdata": [
          [
           37293
          ],
          [
           37251
          ],
          [
           37022
          ],
          [
           37105
          ],
          [
           37648
          ],
          [
           37792
          ],
          [
           37780
          ],
          [
           39445
          ]
         ],
         "hovertemplate": "state=OK<br>group=SEX<br>year=%{x}<br>base_rate=%{y}<br>len=%{customdata[0]}<extra></extra>",
         "legendgroup": "OK",
         "line": {
          "color": "#19d3f3",
          "dash": "solid"
         },
         "marker": {
          "symbol": "circle"
         },
         "mode": "lines",
         "name": "OK",
         "showlegend": true,
         "type": "scattergl",
         "x": [
          2014,
          2015,
          2016,
          2017,
          2018,
          2019,
          2021,
          2022
         ],
         "xaxis": "x",
         "y": [
          0.06658245610765146,
          0.07427177346503722,
          0.05695981531010086,
          0.05113307561000019,
          0.05683341198758529,
          0.058233032935716855,
          0.03951336024451624,
          0.05446516573819643
         ],
         "yaxis": "y"
        },
        {
         "customdata": [
          [
           37293
          ],
          [
           37251
          ],
          [
           37022
          ],
          [
           37105
          ],
          [
           37648
          ],
          [
           37792
          ],
          [
           37780
          ],
          [
           39445
          ]
         ],
         "hovertemplate": "state=OK<br>group=RAC1P<br>year=%{x}<br>base_rate=%{y}<br>len=%{customdata[0]}<extra></extra>",
         "legendgroup": "OK",
         "line": {
          "color": "#19d3f3",
          "dash": "solid"
         },
         "marker": {
          "symbol": "circle"
         },
         "mode": "lines",
         "name": "OK",
         "showlegend": false,
         "type": "scattergl",
         "x": [
          2014,
          2015,
          2016,
          2017,
          2018,
          2019,
          2021,
          2022
         ],
         "xaxis": "x2",
         "y": [
          0.6889952153110048,
          0.29409780775716693,
          0.24961597542242708,
          0.2322069377990431,
          0.2,
          0.2033018867924528,
          0.15477338476374158,
          0.16153846153846152
         ],
         "yaxis": "y2"
        },
        {
         "customdata": [
          [
           37293
          ],
          [
           37251
          ],
          [
           37022
          ],
          [
           37105
          ],
          [
           37648
          ],
          [
           37792
          ],
          [
           37780
          ],
          [
           39445
          ]
         ],
         "hovertemplate": "state=OK<br>group=AGEP<br>year=%{x}<br>base_rate=%{y}<br>len=%{customdata[0]}<extra></extra>",
         "legendgroup": "OK",
         "line": {
          "color": "#19d3f3",
          "dash": "solid"
         },
         "marker": {
          "symbol": "circle"
         },
         "mode": "lines",
         "name": "OK",
         "showlegend": false,
         "type": "scattergl",
         "x": [
          2014,
          2015,
          2016,
          2017,
          2018,
          2019,
          2021,
          2022
         ],
         "xaxis": "x3",
         "y": [
          0.7480916030534351,
          0.7703703703703704,
          0.745920745920746,
          0.755056179775281,
          0.7535211267605634,
          0.7414965986394558,
          0.7214912280701754,
          0.7544303797468355
         ],
         "yaxis": "y3"
        },
        {
         "customdata": [
          [
           39336
          ],
          [
           39992
          ],
          [
           40269
          ],
          [
           41219
          ],
          [
           42117
          ],
          [
           42080
          ],
          [
           42752
          ],
          [
           43708
          ]
         ],
         "hovertemplate": "state=OR<br>group=SEX<br>year=%{x}<br>base_rate=%{y}<br>len=%{customdata[0]}<extra></extra>",
         "legendgroup": "OR",
         "line": {
          "color": "#FF6692",
          "dash": "solid"
         },
         "marker": {
          "symbol": "circle"
         },
         "mode": "lines",
         "name": "OR",
         "showlegend": true,
         "type": "scattergl",
         "x": [
          2014,
          2015,
          2016,
          2017,
          2018,
          2019,
          2021,
          2022
         ],
         "xaxis": "x",
         "y": [
          0.05057831278937619,
          0.04742423099433751,
          0.056900274698095776,
          0.05021205762300668,
          0.05000917408475314,
          0.040966835046287786,
          0.04994300045599637,
          0.03519872222749021
         ],
         "yaxis": "y"
        },
        {
         "customdata": [
          [
           39336
          ],
          [
           39992
          ],
          [
           40269
          ],
          [
           41219
          ],
          [
           42117
          ],
          [
           42080
          ],
          [
           42752
          ],
          [
           43708
          ]
         ],
         "hovertemplate": "state=OR<br>group=RAC1P<br>year=%{x}<br>base_rate=%{y}<br>len=%{customdata[0]}<extra></extra>",
         "legendgroup": "OR",
         "line": {
          "color": "#FF6692",
          "dash": "solid"
         },
         "marker": {
          "symbol": "circle"
         },
         "mode": "lines",
         "name": "OR",
         "showlegend": false,
         "type": "scattergl",
         "x": [
          2014,
          2015,
          2016,
          2017,
          2018,
          2019,
          2021,
          2022
         ],
         "xaxis": "x2",
         "y": [
          0.24456793206793206,
          0.2309081527347781,
          0.20149253731343286,
          0.17559523809523814,
          0.2549813200498133,
          0.16000855588252277,
          0.13528382095523883,
          0.26441102756892226
         ],
         "yaxis": "y2"
        },
        {
         "customdata": [
          [
           39336
          ],
          [
           39992
          ],
          [
           40269
          ],
          [
           41219
          ],
          [
           42117
          ],
          [
           42080
          ],
          [
           42752
          ],
          [
           43708
          ]
         ],
         "hovertemplate": "state=OR<br>group=AGEP<br>year=%{x}<br>base_rate=%{y}<br>len=%{customdata[0]}<extra></extra>",
         "legendgroup": "OR",
         "line": {
          "color": "#FF6692",
          "dash": "solid"
         },
         "marker": {
          "symbol": "circle"
         },
         "mode": "lines",
         "name": "OR",
         "showlegend": false,
         "type": "scattergl",
         "x": [
          2014,
          2015,
          2016,
          2017,
          2018,
          2019,
          2021,
          2022
         ],
         "xaxis": "x3",
         "y": [
          0.7748344370860927,
          0.8008130081300813,
          0.7933333333333333,
          0.8180076628352491,
          0.8351063829787234,
          0.8224956063268892,
          0.7981481481481482,
          0.8072916666666666
         ],
         "yaxis": "y3"
        },
        {
         "customdata": [
          [
           127859
          ],
          [
           128145
          ],
          [
           127270
          ],
          [
           127433
          ],
          [
           129066
          ],
          [
           129194
          ],
          [
           129787
          ],
          [
           132605
          ]
         ],
         "hovertemplate": "state=PA<br>group=SEX<br>year=%{x}<br>base_rate=%{y}<br>len=%{customdata[0]}<extra></extra>",
         "legendgroup": "PA",
         "line": {
          "color": "#B6E880",
          "dash": "solid"
         },
         "marker": {
          "symbol": "circle"
         },
         "mode": "lines",
         "name": "PA",
         "showlegend": true,
         "type": "scattergl",
         "x": [
          2014,
          2015,
          2016,
          2017,
          2018,
          2019,
          2021,
          2022
         ],
         "xaxis": "x",
         "y": [
          0.057113258100389475,
          0.0533326363872359,
          0.05290768777066779,
          0.058486669849633355,
          0.051129898602672474,
          0.054090199075142564,
          0.04908773581469711,
          0.05246911922847103
         ],
         "yaxis": "y"
        },
        {
         "customdata": [
          [
           127859
          ],
          [
           128145
          ],
          [
           127270
          ],
          [
           127433
          ],
          [
           129066
          ],
          [
           129194
          ],
          [
           129787
          ],
          [
           132605
          ]
         ],
         "hovertemplate": "state=PA<br>group=RAC1P<br>year=%{x}<br>base_rate=%{y}<br>len=%{customdata[0]}<extra></extra>",
         "legendgroup": "PA",
         "line": {
          "color": "#B6E880",
          "dash": "solid"
         },
         "marker": {
          "symbol": "circle"
         },
         "mode": "lines",
         "name": "PA",
         "showlegend": false,
         "type": "scattergl",
         "x": [
          2014,
          2015,
          2016,
          2017,
          2018,
          2019,
          2021,
          2022
         ],
         "xaxis": "x2",
         "y": [
          0.46998112920680063,
          0.37664543524416133,
          0.5365853658536586,
          0.5151515151515151,
          0.3878787878787878,
          0.22459920482236756,
          0.5119516679800368,
          0.17324246771879476
         ],
         "yaxis": "y2"
        },
        {
         "customdata": [
          [
           127859
          ],
          [
           128145
          ],
          [
           127270
          ],
          [
           127433
          ],
          [
           129066
          ],
          [
           129194
          ],
          [
           129787
          ],
          [
           132605
          ]
         ],
         "hovertemplate": "state=PA<br>group=AGEP<br>year=%{x}<br>base_rate=%{y}<br>len=%{customdata[0]}<extra></extra>",
         "legendgroup": "PA",
         "line": {
          "color": "#B6E880",
          "dash": "solid"
         },
         "marker": {
          "symbol": "circle"
         },
         "mode": "lines",
         "name": "PA",
         "showlegend": false,
         "type": "scattergl",
         "x": [
          2014,
          2015,
          2016,
          2017,
          2018,
          2019,
          2021,
          2022
         ],
         "xaxis": "x3",
         "y": [
          0.7946484131922837,
          0.7874924104432302,
          0.7912167026637869,
          0.8075766686710764,
          0.8126944617299315,
          0.817925194071983,
          0.7990867579908676,
          0.8200743494423792
         ],
         "yaxis": "y3"
        },
        {
         "customdata": [
          [
           10803
          ],
          [
           10563
          ],
          [
           10338
          ],
          [
           10516
          ],
          [
           10489
          ],
          [
           10447
          ],
          [
           10957
          ],
          [
           10401
          ]
         ],
         "hovertemplate": "state=RI<br>group=SEX<br>year=%{x}<br>base_rate=%{y}<br>len=%{customdata[0]}<extra></extra>",
         "legendgroup": "RI",
         "line": {
          "color": "#FF97FF",
          "dash": "solid"
         },
         "marker": {
          "symbol": "circle"
         },
         "mode": "lines",
         "name": "RI",
         "showlegend": true,
         "type": "scattergl",
         "x": [
          2014,
          2015,
          2016,
          2017,
          2018,
          2019,
          2021,
          2022
         ],
         "xaxis": "x",
         "y": [
          0.0515738508274603,
          0.04889961749711047,
          0.06739763651215985,
          0.056257868823313795,
          0.03737297003110829,
          0.044863062702114875,
          0.05181222133122482,
          0.03636004503716067
         ],
         "yaxis": "y"
        },
        {
         "customdata": [
          [
           10803
          ],
          [
           10563
          ],
          [
           10338
          ],
          [
           10516
          ],
          [
           10489
          ],
          [
           10447
          ],
          [
           10957
          ],
          [
           10401
          ]
         ],
         "hovertemplate": "state=RI<br>group=RAC1P<br>year=%{x}<br>base_rate=%{y}<br>len=%{customdata[0]}<extra></extra>",
         "legendgroup": "RI",
         "line": {
          "color": "#FF97FF",
          "dash": "solid"
         },
         "marker": {
          "symbol": "circle"
         },
         "mode": "lines",
         "name": "RI",
         "showlegend": false,
         "type": "scattergl",
         "x": [
          2014,
          2015,
          2016,
          2017,
          2018,
          2019,
          2021,
          2022
         ],
         "xaxis": "x2",
         "y": [
          0.20588235294117646,
          0.5,
          0.393939393939394,
          0.5228571428571429,
          0.20508463708643243,
          0.7,
          0.5,
          0.6666666666666666
         ],
         "yaxis": "y2"
        },
        {
         "customdata": [
          [
           10803
          ],
          [
           10563
          ],
          [
           10338
          ],
          [
           10516
          ],
          [
           10489
          ],
          [
           10447
          ],
          [
           10957
          ],
          [
           10401
          ]
         ],
         "hovertemplate": "state=RI<br>group=AGEP<br>year=%{x}<br>base_rate=%{y}<br>len=%{customdata[0]}<extra></extra>",
         "legendgroup": "RI",
         "line": {
          "color": "#FF97FF",
          "dash": "solid"
         },
         "marker": {
          "symbol": "circle"
         },
         "mode": "lines",
         "name": "RI",
         "showlegend": false,
         "type": "scattergl",
         "x": [
          2014,
          2015,
          2016,
          2017,
          2018,
          2019,
          2021,
          2022
         ],
         "xaxis": "x3",
         "y": [
          0.8547008547008547,
          0.8367346938775511,
          0.8955223880597015,
          0.8739495798319328,
          0.8953488372093024,
          0.873015873015873,
          0.8411214953271028,
          0.8857142857142857
         ],
         "yaxis": "y3"
        },
        {
         "customdata": [
          [
           47361
          ],
          [
           48023
          ],
          [
           48405
          ],
          [
           49438
          ],
          [
           49818
          ],
          [
           50893
          ],
          [
           51580
          ],
          [
           54651
          ]
         ],
         "hovertemplate": "state=SC<br>group=SEX<br>year=%{x}<br>base_rate=%{y}<br>len=%{customdata[0]}<extra></extra>",
         "legendgroup": "SC",
         "line": {
          "color": "#FECB52",
          "dash": "solid"
         },
         "marker": {
          "symbol": "circle"
         },
         "mode": "lines",
         "name": "SC",
         "showlegend": true,
         "type": "scattergl",
         "x": [
          2014,
          2015,
          2016,
          2017,
          2018,
          2019,
          2021,
          2022
         ],
         "xaxis": "x",
         "y": [
          0.052134811521640456,
          0.045453495684735556,
          0.049077563196734175,
          0.04293219706021456,
          0.040806625518603645,
          0.049224023990186494,
          0.05344057082288939,
          0.041922449281136975
         ],
         "yaxis": "y"
        },
        {
         "customdata": [
          [
           47361
          ],
          [
           48023
          ],
          [
           48405
          ],
          [
           49438
          ],
          [
           49818
          ],
          [
           50893
          ],
          [
           51580
          ],
          [
           54651
          ]
         ],
         "hovertemplate": "state=SC<br>group=RAC1P<br>year=%{x}<br>base_rate=%{y}<br>len=%{customdata[0]}<extra></extra>",
         "legendgroup": "SC",
         "line": {
          "color": "#FECB52",
          "dash": "solid"
         },
         "marker": {
          "symbol": "circle"
         },
         "mode": "lines",
         "name": "SC",
         "showlegend": false,
         "type": "scattergl",
         "x": [
          2014,
          2015,
          2016,
          2017,
          2018,
          2019,
          2021,
          2022
         ],
         "xaxis": "x2",
         "y": [
          0.3382352941176471,
          0.25785610520682006,
          0.18033884088611085,
          0.2936725375081539,
          0.696588868940754,
          0.49236641221374045,
          0.42105263157894735,
          0.2050962627406569
         ],
         "yaxis": "y2"
        },
        {
         "customdata": [
          [
           47361
          ],
          [
           48023
          ],
          [
           48405
          ],
          [
           49438
          ],
          [
           49818
          ],
          [
           50893
          ],
          [
           51580
          ],
          [
           54651
          ]
         ],
         "hovertemplate": "state=SC<br>group=AGEP<br>year=%{x}<br>base_rate=%{y}<br>len=%{customdata[0]}<extra></extra>",
         "legendgroup": "SC",
         "line": {
          "color": "#FECB52",
          "dash": "solid"
         },
         "marker": {
          "symbol": "circle"
         },
         "mode": "lines",
         "name": "SC",
         "showlegend": false,
         "type": "scattergl",
         "x": [
          2014,
          2015,
          2016,
          2017,
          2018,
          2019,
          2021,
          2022
         ],
         "xaxis": "x3",
         "y": [
          0.7882562277580071,
          0.7835820895522388,
          0.7650273224043715,
          0.7810457516339869,
          0.8155339805825242,
          0.7965811965811965,
          0.770949720670391,
          0.7891373801916933
         ],
         "yaxis": "y3"
        },
        {
         "customdata": [
          [
           8626
          ],
          [
           8742
          ],
          [
           8725
          ],
          [
           8881
          ],
          [
           8986
          ],
          [
           9128
          ],
          [
           8823
          ],
          [
           9296
          ]
         ],
         "hovertemplate": "state=SD<br>group=SEX<br>year=%{x}<br>base_rate=%{y}<br>len=%{customdata[0]}<extra></extra>",
         "legendgroup": "SD",
         "line": {
          "color": "#636efa",
          "dash": "solid"
         },
         "marker": {
          "symbol": "circle"
         },
         "mode": "lines",
         "name": "SD",
         "showlegend": true,
         "type": "scattergl",
         "x": [
          2014,
          2015,
          2016,
          2017,
          2018,
          2019,
          2021,
          2022
         ],
         "xaxis": "x",
         "y": [
          0.05413060614363846,
          0.06897583971455695,
          0.041007057098572275,
          0.07483966442878137,
          0.026338354321614244,
          0.031086394159198893,
          0.03211807393626043,
          0.05185305338846907
         ],
         "yaxis": "y"
        },
        {
         "customdata": [
          [
           8626
          ],
          [
           8742
          ],
          [
           8725
          ],
          [
           8881
          ],
          [
           8986
          ],
          [
           9128
          ],
          [
           8823
          ],
          [
           9296
          ]
         ],
         "hovertemplate": "state=SD<br>group=RAC1P<br>year=%{x}<br>base_rate=%{y}<br>len=%{customdata[0]}<extra></extra>",
         "legendgroup": "SD",
         "line": {
          "color": "#636efa",
          "dash": "solid"
         },
         "marker": {
          "symbol": "circle"
         },
         "mode": "lines",
         "name": "SD",
         "showlegend": false,
         "type": "scattergl",
         "x": [
          2014,
          2015,
          2016,
          2017,
          2018,
          2019,
          2021,
          2022
         ],
         "xaxis": "x2",
         "y": [
          0.8095238095238095,
          0.5078645694481472,
          0.5869565217391305,
          0.5333333333333333,
          0.6323529411764706,
          0.3762289325842697,
          0.353014553014553,
          0.3132678132678133
         ],
         "yaxis": "y2"
        },
        {
         "customdata": [
          [
           8626
          ],
          [
           8742
          ],
          [
           8725
          ],
          [
           8881
          ],
          [
           8986
          ],
          [
           9128
          ],
          [
           8823
          ],
          [
           9296
          ]
         ],
         "hovertemplate": "state=SD<br>group=AGEP<br>year=%{x}<br>base_rate=%{y}<br>len=%{customdata[0]}<extra></extra>",
         "legendgroup": "SD",
         "line": {
          "color": "#636efa",
          "dash": "solid"
         },
         "marker": {
          "symbol": "circle"
         },
         "mode": "lines",
         "name": "SD",
         "showlegend": false,
         "type": "scattergl",
         "x": [
          2014,
          2015,
          2016,
          2017,
          2018,
          2019,
          2021,
          2022
         ],
         "xaxis": "x3",
         "y": [
          0.9078947368421053,
          0.8761904761904762,
          0.8877551020408163,
          0.9107142857142857,
          0.9,
          0.9523809523809523,
          0.9,
          0.8902439024390244
         ],
         "yaxis": "y3"
        },
        {
         "customdata": [
          [
           65554
          ],
          [
           65549
          ],
          [
           65757
          ],
          [
           66575
          ],
          [
           67950
          ],
          [
           68415
          ],
          [
           69853
          ],
          [
           72374
          ]
         ],
         "hovertemplate": "state=TN<br>group=SEX<br>year=%{x}<br>base_rate=%{y}<br>len=%{customdata[0]}<extra></extra>",
         "legendgroup": "TN",
         "line": {
          "color": "#EF553B",
          "dash": "solid"
         },
         "marker": {
          "symbol": "circle"
         },
         "mode": "lines",
         "name": "TN",
         "showlegend": true,
         "type": "scattergl",
         "x": [
          2014,
          2015,
          2016,
          2017,
          2018,
          2019,
          2021,
          2022
         ],
         "xaxis": "x",
         "y": [
          0.055351734884414416,
          0.06247789912753282,
          0.057643140276163185,
          0.06368392190358613,
          0.05932233982355434,
          0.06077368110777054,
          0.060543078460701505,
          0.06658831675152505
         ],
         "yaxis": "y"
        },
        {
         "customdata": [
          [
           65554
          ],
          [
           65549
          ],
          [
           65757
          ],
          [
           66575
          ],
          [
           67950
          ],
          [
           68415
          ],
          [
           69853
          ],
          [
           72374
          ]
         ],
         "hovertemplate": "state=TN<br>group=RAC1P<br>year=%{x}<br>base_rate=%{y}<br>len=%{customdata[0]}<extra></extra>",
         "legendgroup": "TN",
         "line": {
          "color": "#EF553B",
          "dash": "solid"
         },
         "marker": {
          "symbol": "circle"
         },
         "mode": "lines",
         "name": "TN",
         "showlegend": false,
         "type": "scattergl",
         "x": [
          2014,
          2015,
          2016,
          2017,
          2018,
          2019,
          2021,
          2022
         ],
         "xaxis": "x2",
         "y": [
          0.4782608695652174,
          0.2142857142857143,
          0.48,
          0.2523278420137113,
          0.696521095484826,
          0.5174311926605505,
          0.32121212121212117,
          0.20673886883273168
         ],
         "yaxis": "y2"
        },
        {
         "customdata": [
          [
           65554
          ],
          [
           65549
          ],
          [
           65757
          ],
          [
           66575
          ],
          [
           67950
          ],
          [
           68415
          ],
          [
           69853
          ],
          [
           72374
          ]
         ],
         "hovertemplate": "state=TN<br>group=AGEP<br>year=%{x}<br>base_rate=%{y}<br>len=%{customdata[0]}<extra></extra>",
         "legendgroup": "TN",
         "line": {
          "color": "#EF553B",
          "dash": "solid"
         },
         "marker": {
          "symbol": "circle"
         },
         "mode": "lines",
         "name": "TN",
         "showlegend": false,
         "type": "scattergl",
         "x": [
          2014,
          2015,
          2016,
          2017,
          2018,
          2019,
          2021,
          2022
         ],
         "xaxis": "x3",
         "y": [
          0.7613504074505238,
          0.767277856135402,
          0.7686781609195402,
          0.7727873183619551,
          0.7807551766138855,
          0.7943805874840357,
          0.7728426395939086,
          0.7972350230414746
         ],
         "yaxis": "y3"
        },
        {
         "customdata": [
          [
           254883
          ],
          [
           259224
          ],
          [
           261896
          ],
          [
           265842
          ],
          [
           268100
          ],
          [
           272776
          ],
          [
           261446
          ],
          [
           292919
          ]
         ],
         "hovertemplate": "state=TX<br>group=SEX<br>year=%{x}<br>base_rate=%{y}<br>len=%{customdata[0]}<extra></extra>",
         "legendgroup": "TX",
         "line": {
          "color": "#00cc96",
          "dash": "solid"
         },
         "marker": {
          "symbol": "circle"
         },
         "mode": "lines",
         "name": "TX",
         "showlegend": true,
         "type": "scattergl",
         "x": [
          2014,
          2015,
          2016,
          2017,
          2018,
          2019,
          2021,
          2022
         ],
         "xaxis": "x",
         "y": [
          0.08245431035931905,
          0.08203124424986374,
          0.07809857031450962,
          0.07935874504463314,
          0.07871245821668682,
          0.07609359463686471,
          0.06798574287414388,
          0.06843675645288899
         ],
         "yaxis": "y"
        },
        {
         "customdata": [
          [
           254883
          ],
          [
           259224
          ],
          [
           261896
          ],
          [
           265842
          ],
          [
           268100
          ],
          [
           272776
          ],
          [
           261446
          ],
          [
           292919
          ]
         ],
         "hovertemplate": "state=TX<br>group=RAC1P<br>year=%{x}<br>base_rate=%{y}<br>len=%{customdata[0]}<extra></extra>",
         "legendgroup": "TX",
         "line": {
          "color": "#00cc96",
          "dash": "solid"
         },
         "marker": {
          "symbol": "circle"
         },
         "mode": "lines",
         "name": "TX",
         "showlegend": false,
         "type": "scattergl",
         "x": [
          2014,
          2015,
          2016,
          2017,
          2018,
          2019,
          2021,
          2022
         ],
         "xaxis": "x2",
         "y": [
          0.15955411900086003,
          0.1563118623420131,
          0.15599627395249105,
          0.23287686787482403,
          0.14531671647854222,
          0.1807306652716017,
          0.19828347229033844,
          0.2813214643457882
         ],
         "yaxis": "y2"
        },
        {
         "customdata": [
          [
           254883
          ],
          [
           259224
          ],
          [
           261896
          ],
          [
           265842
          ],
          [
           268100
          ],
          [
           272776
          ],
          [
           261446
          ],
          [
           292919
          ]
         ],
         "hovertemplate": "state=TX<br>group=AGEP<br>year=%{x}<br>base_rate=%{y}<br>len=%{customdata[0]}<extra></extra>",
         "legendgroup": "TX",
         "line": {
          "color": "#00cc96",
          "dash": "solid"
         },
         "marker": {
          "symbol": "circle"
         },
         "mode": "lines",
         "name": "TX",
         "showlegend": false,
         "type": "scattergl",
         "x": [
          2014,
          2015,
          2016,
          2017,
          2018,
          2019,
          2021,
          2022
         ],
         "xaxis": "x3",
         "y": [
          0.7538265306122449,
          0.7610373572090151,
          0.7619788425637835,
          0.7773302646720368,
          0.7804950790337012,
          0.77875,
          0.7464561855670103,
          0.773510307822649
         ],
         "yaxis": "y3"
        },
        {
         "customdata": [
          [
           28666
          ],
          [
           29290
          ],
          [
           29828
          ],
          [
           30904
          ],
          [
           31603
          ],
          [
           32371
          ],
          [
           33731
          ],
          [
           35537
          ]
         ],
         "hovertemplate": "state=UT<br>group=SEX<br>year=%{x}<br>base_rate=%{y}<br>len=%{customdata[0]}<extra></extra>",
         "legendgroup": "UT",
         "line": {
          "color": "#ab63fa",
          "dash": "solid"
         },
         "marker": {
          "symbol": "circle"
         },
         "mode": "lines",
         "name": "UT",
         "showlegend": true,
         "type": "scattergl",
         "x": [
          2014,
          2015,
          2016,
          2017,
          2018,
          2019,
          2021,
          2022
         ],
         "xaxis": "x",
         "y": [
          0.11245302538642543,
          0.10870223123001377,
          0.09878659463058592,
          0.09395903901747893,
          0.09974372560242195,
          0.10205991647218243,
          0.09775912428020606,
          0.09516715476982396
         ],
         "yaxis": "y"
        },
        {
         "customdata": [
          [
           28666
          ],
          [
           29290
          ],
          [
           29828
          ],
          [
           30904
          ],
          [
           31603
          ],
          [
           32371
          ],
          [
           33731
          ],
          [
           35537
          ]
         ],
         "hovertemplate": "state=UT<br>group=RAC1P<br>year=%{x}<br>base_rate=%{y}<br>len=%{customdata[0]}<extra></extra>",
         "legendgroup": "UT",
         "line": {
          "color": "#ab63fa",
          "dash": "solid"
         },
         "marker": {
          "symbol": "circle"
         },
         "mode": "lines",
         "name": "UT",
         "showlegend": false,
         "type": "scattergl",
         "x": [
          2014,
          2015,
          2016,
          2017,
          2018,
          2019,
          2021,
          2022
         ],
         "xaxis": "x2",
         "y": [
          0.24322943522254753,
          0.6858407079646018,
          0.2040135457167942,
          0.22955523672883787,
          0.41889063317634745,
          0.2861098292570374,
          0.4538461538461539,
          0.5793939393939394
         ],
         "yaxis": "y2"
        },
        {
         "customdata": [
          [
           28666
          ],
          [
           29290
          ],
          [
           29828
          ],
          [
           30904
          ],
          [
           31603
          ],
          [
           32371
          ],
          [
           33731
          ],
          [
           35537
          ]
         ],
         "hovertemplate": "state=UT<br>group=AGEP<br>year=%{x}<br>base_rate=%{y}<br>len=%{customdata[0]}<extra></extra>",
         "legendgroup": "UT",
         "line": {
          "color": "#ab63fa",
          "dash": "solid"
         },
         "marker": {
          "symbol": "circle"
         },
         "mode": "lines",
         "name": "UT",
         "showlegend": false,
         "type": "scattergl",
         "x": [
          2014,
          2015,
          2016,
          2017,
          2018,
          2019,
          2021,
          2022
         ],
         "xaxis": "x3",
         "y": [
          0.8044280442804428,
          0.8482758620689655,
          0.8525641025641025,
          0.8328767123287671,
          0.8432601880877743,
          0.8547945205479452,
          0.8257425742574257,
          0.8359375
         ],
         "yaxis": "y3"
        },
        {
         "customdata": [
          [
           6370
          ],
          [
           6326
          ],
          [
           6411
          ],
          [
           6340
          ],
          [
           6436
          ],
          [
           6543
          ],
          [
           6678
          ],
          [
           6860
          ]
         ],
         "hovertemplate": "state=VT<br>group=SEX<br>year=%{x}<br>base_rate=%{y}<br>len=%{customdata[0]}<extra></extra>",
         "legendgroup": "VT",
         "line": {
          "color": "#FFA15A",
          "dash": "solid"
         },
         "marker": {
          "symbol": "circle"
         },
         "mode": "lines",
         "name": "VT",
         "showlegend": true,
         "type": "scattergl",
         "x": [
          2014,
          2015,
          2016,
          2017,
          2018,
          2019,
          2021,
          2022
         ],
         "xaxis": "x",
         "y": [
          0.03902139724659259,
          0.03450885099275358,
          0.02871291737974091,
          0.031044369008392025,
          0.025878532447589142,
          0.02217309444275739,
          0.02356152733770872,
          0.020360888096358998
         ],
         "yaxis": "y"
        },
        {
         "customdata": [
          [
           6370
          ],
          [
           6326
          ],
          [
           6411
          ],
          [
           6340
          ],
          [
           6436
          ],
          [
           6543
          ],
          [
           6678
          ],
          [
           6860
          ]
         ],
         "hovertemplate": "state=VT<br>group=RAC1P<br>year=%{x}<br>base_rate=%{y}<br>len=%{customdata[0]}<extra></extra>",
         "legendgroup": "VT",
         "line": {
          "color": "#FFA15A",
          "dash": "solid"
         },
         "marker": {
          "symbol": "circle"
         },
         "mode": "lines",
         "name": "VT",
         "showlegend": false,
         "type": "scattergl",
         "x": [
          2014,
          2015,
          2016,
          2017,
          2018,
          2019,
          2021,
          2022
         ],
         "xaxis": "x2",
         "y": [
          0.7604166666666666,
          0.30808047493403695,
          0.7058823529411764,
          0.3192371475953565,
          0.64,
          1,
          0.5721518987341772,
          0.48810289389067524
         ],
         "yaxis": "y2"
        },
        {
         "customdata": [
          [
           6370
          ],
          [
           6326
          ],
          [
           6411
          ],
          [
           6340
          ],
          [
           6436
          ],
          [
           6543
          ],
          [
           6678
          ],
          [
           6860
          ]
         ],
         "hovertemplate": "state=VT<br>group=AGEP<br>year=%{x}<br>base_rate=%{y}<br>len=%{customdata[0]}<extra></extra>",
         "legendgroup": "VT",
         "line": {
          "color": "#FFA15A",
          "dash": "solid"
         },
         "marker": {
          "symbol": "circle"
         },
         "mode": "lines",
         "name": "VT",
         "showlegend": false,
         "type": "scattergl",
         "x": [
          2014,
          2015,
          2016,
          2017,
          2018,
          2019,
          2021,
          2022
         ],
         "xaxis": "x3",
         "y": [
          0.8928571428571429,
          0.922077922077922,
          0.9397590361445783,
          0.9142857142857143,
          0.9130434782608695,
          0.9154929577464789,
          0.9,
          0.8783783783783784
         ],
         "yaxis": "y3"
        },
        {
         "customdata": [
          [
           83393
          ],
          [
           83472
          ],
          [
           83546
          ],
          [
           84422
          ],
          [
           84755
          ],
          [
           84938
          ],
          [
           87093
          ],
          [
           88761
          ]
         ],
         "hovertemplate": "state=VA<br>group=SEX<br>year=%{x}<br>base_rate=%{y}<br>len=%{customdata[0]}<extra></extra>",
         "legendgroup": "VA",
         "line": {
          "color": "#19d3f3",
          "dash": "solid"
         },
         "marker": {
          "symbol": "circle"
         },
         "mode": "lines",
         "name": "VA",
         "showlegend": true,
         "type": "scattergl",
         "x": [
          2014,
          2015,
          2016,
          2017,
          2018,
          2019,
          2021,
          2022
         ],
         "xaxis": "x",
         "y": [
          0.04552488982008723,
          0.046333990711244,
          0.044304879653745355,
          0.041009472204368125,
          0.048066286536412706,
          0.03573963359740889,
          0.048067913305485155,
          0.033878093130120135
         ],
         "yaxis": "y"
        },
        {
         "customdata": [
          [
           83393
          ],
          [
           83472
          ],
          [
           83546
          ],
          [
           84422
          ],
          [
           84755
          ],
          [
           84938
          ],
          [
           87093
          ],
          [
           88761
          ]
         ],
         "hovertemplate": "state=VA<br>group=RAC1P<br>year=%{x}<br>base_rate=%{y}<br>len=%{customdata[0]}<extra></extra>",
         "legendgroup": "VA",
         "line": {
          "color": "#19d3f3",
          "dash": "solid"
         },
         "marker": {
          "symbol": "circle"
         },
         "mode": "lines",
         "name": "VA",
         "showlegend": false,
         "type": "scattergl",
         "x": [
          2014,
          2015,
          2016,
          2017,
          2018,
          2019,
          2021,
          2022
         ],
         "xaxis": "x2",
         "y": [
          0.2606060606060606,
          0.36712928335964984,
          0.1874948123916706,
          0.1826672127879862,
          0.1845976512426084,
          0.17934931821220745,
          0.2741635687732342,
          0.13267478882527622
         ],
         "yaxis": "y2"
        },
        {
         "customdata": [
          [
           83393
          ],
          [
           83472
          ],
          [
           83546
          ],
          [
           84422
          ],
          [
           84755
          ],
          [
           84938
          ],
          [
           87093
          ],
          [
           88761
          ]
         ],
         "hovertemplate": "state=VA<br>group=AGEP<br>year=%{x}<br>base_rate=%{y}<br>len=%{customdata[0]}<extra></extra>",
         "legendgroup": "VA",
         "line": {
          "color": "#19d3f3",
          "dash": "solid"
         },
         "marker": {
          "symbol": "circle"
         },
         "mode": "lines",
         "name": "VA",
         "showlegend": false,
         "type": "scattergl",
         "x": [
          2014,
          2015,
          2016,
          2017,
          2018,
          2019,
          2021,
          2022
         ],
         "xaxis": "x3",
         "y": [
          0.7851662404092071,
          0.7857142857142857,
          0.7888888888888889,
          0.8126626192541196,
          0.811,
          0.8134765625,
          0.7953586497890295,
          0.8229475766567754
         ],
         "yaxis": "y3"
        },
        {
         "customdata": [
          [
           70600
          ],
          [
           71804
          ],
          [
           72383
          ],
          [
           74695
          ],
          [
           76225
          ],
          [
           77879
          ],
          [
           78528
          ],
          [
           80818
          ]
         ],
         "hovertemplate": "state=WA<br>group=SEX<br>year=%{x}<br>base_rate=%{y}<br>len=%{customdata[0]}<extra></extra>",
         "legendgroup": "WA",
         "line": {
          "color": "#FF6692",
          "dash": "solid"
         },
         "marker": {
          "symbol": "circle"
         },
         "mode": "lines",
         "name": "WA",
         "showlegend": true,
         "type": "scattergl",
         "x": [
          2014,
          2015,
          2016,
          2017,
          2018,
          2019,
          2021,
          2022
         ],
         "xaxis": "x",
         "y": [
          0.05859992173625117,
          0.06493937642303349,
          0.06705666926382003,
          0.06366032287903495,
          0.059066528331116364,
          0.0638737076450625,
          0.058633316947441116,
          0.05898862529154214
         ],
         "yaxis": "y"
        },
        {
         "customdata": [
          [
           70600
          ],
          [
           71804
          ],
          [
           72383
          ],
          [
           74695
          ],
          [
           76225
          ],
          [
           77879
          ],
          [
           78528
          ],
          [
           80818
          ]
         ],
         "hovertemplate": "state=WA<br>group=RAC1P<br>year=%{x}<br>base_rate=%{y}<br>len=%{customdata[0]}<extra></extra>",
         "legendgroup": "WA",
         "line": {
          "color": "#FF6692",
          "dash": "solid"
         },
         "marker": {
          "symbol": "circle"
         },
         "mode": "lines",
         "name": "WA",
         "showlegend": false,
         "type": "scattergl",
         "x": [
          2014,
          2015,
          2016,
          2017,
          2018,
          2019,
          2021,
          2022
         ],
         "xaxis": "x2",
         "y": [
          0.1681643254351456,
          0.2290084234102639,
          0.17730408388520974,
          0.2535532994923858,
          0.14222409794411978,
          0.18051690420248467,
          0.2172765261226205,
          0.20675605730487534
         ],
         "yaxis": "y2"
        },
        {
         "customdata": [
          [
           70600
          ],
          [
           71804
          ],
          [
           72383
          ],
          [
           74695
          ],
          [
           76225
          ],
          [
           77879
          ],
          [
           78528
          ],
          [
           80818
          ]
         ],
         "hovertemplate": "state=WA<br>group=AGEP<br>year=%{x}<br>base_rate=%{y}<br>len=%{customdata[0]}<extra></extra>",
         "legendgroup": "WA",
         "line": {
          "color": "#FF6692",
          "dash": "solid"
         },
         "marker": {
          "symbol": "circle"
         },
         "mode": "lines",
         "name": "WA",
         "showlegend": false,
         "type": "scattergl",
         "x": [
          2014,
          2015,
          2016,
          2017,
          2018,
          2019,
          2021,
          2022
         ],
         "xaxis": "x3",
         "y": [
          0.7838114754098361,
          0.7761377613776138,
          0.784,
          0.8266509433962265,
          0.7989528795811518,
          0.8263157894736842,
          0.7790339157245632,
          0.7989473684210526
         ],
         "yaxis": "y3"
        },
        {
         "customdata": [
          [
           18216
          ],
          [
           18051
          ],
          [
           17909
          ],
          [
           17758
          ],
          [
           18066
          ],
          [
           18130
          ],
          [
           17428
          ],
          [
           18135
          ]
         ],
         "hovertemplate": "state=WV<br>group=SEX<br>year=%{x}<br>base_rate=%{y}<br>len=%{customdata[0]}<extra></extra>",
         "legendgroup": "WV",
         "line": {
          "color": "#B6E880",
          "dash": "solid"
         },
         "marker": {
          "symbol": "circle"
         },
         "mode": "lines",
         "name": "WV",
         "showlegend": true,
         "type": "scattergl",
         "x": [
          2014,
          2015,
          2016,
          2017,
          2018,
          2019,
          2021,
          2022
         ],
         "xaxis": "x",
         "y": [
          0.06508917274694853,
          0.06375515999606235,
          0.04664463286389314,
          0.05053922053922055,
          0.04528490715883593,
          0.04717018447357402,
          0.046844956512238245,
          0.05482313528426441
         ],
         "yaxis": "y"
        },
        {
         "customdata": [
          [
           18216
          ],
          [
           18051
          ],
          [
           17909
          ],
          [
           17758
          ],
          [
           18066
          ],
          [
           18130
          ],
          [
           17428
          ],
          [
           18135
          ]
         ],
         "hovertemplate": "state=WV<br>group=RAC1P<br>year=%{x}<br>base_rate=%{y}<br>len=%{customdata[0]}<extra></extra>",
         "legendgroup": "WV",
         "line": {
          "color": "#B6E880",
          "dash": "solid"
         },
         "marker": {
          "symbol": "circle"
         },
         "mode": "lines",
         "name": "WV",
         "showlegend": false,
         "type": "scattergl",
         "x": [
          2014,
          2015,
          2016,
          2017,
          2018,
          2019,
          2021,
          2022
         ],
         "xaxis": "x2",
         "y": [
          0.339864158829676,
          0.2867647058823529,
          0.5,
          0.8,
          0.5050505050505051,
          0.44966442953020136,
          0.4024725274725275,
          0.6882453151618398
         ],
         "yaxis": "y2"
        },
        {
         "customdata": [
          [
           18216
          ],
          [
           18051
          ],
          [
           17909
          ],
          [
           17758
          ],
          [
           18066
          ],
          [
           18130
          ],
          [
           17428
          ],
          [
           18135
          ]
         ],
         "hovertemplate": "state=WV<br>group=AGEP<br>year=%{x}<br>base_rate=%{y}<br>len=%{customdata[0]}<extra></extra>",
         "legendgroup": "WV",
         "line": {
          "color": "#B6E880",
          "dash": "solid"
         },
         "marker": {
          "symbol": "circle"
         },
         "mode": "lines",
         "name": "WV",
         "showlegend": false,
         "type": "scattergl",
         "x": [
          2014,
          2015,
          2016,
          2017,
          2018,
          2019,
          2021,
          2022
         ],
         "xaxis": "x3",
         "y": [
          0.7614678899082569,
          0.7538461538461538,
          0.7981651376146789,
          0.7355769230769231,
          0.7635467980295566,
          0.8228571428571428,
          0.7777777777777778,
          0.7823834196891192
         ],
         "yaxis": "y3"
        },
        {
         "customdata": [
          [
           58549
          ],
          [
           58578
          ],
          [
           58569
          ],
          [
           59059
          ],
          [
           59833
          ],
          [
           59767
          ],
          [
           60281
          ],
          [
           61967
          ]
         ],
         "hovertemplate": "state=WI<br>group=SEX<br>year=%{x}<br>base_rate=%{y}<br>len=%{customdata[0]}<extra></extra>",
         "legendgroup": "WI",
         "line": {
          "color": "#FF97FF",
          "dash": "solid"
         },
         "marker": {
          "symbol": "circle"
         },
         "mode": "lines",
         "name": "WI",
         "showlegend": true,
         "type": "scattergl",
         "x": [
          2014,
          2015,
          2016,
          2017,
          2018,
          2019,
          2021,
          2022
         ],
         "xaxis": "x",
         "y": [
          0.037283698517311226,
          0.033733700369608655,
          0.04278707128636705,
          0.04295305501543162,
          0.03534463463542714,
          0.035834680982576195,
          0.04097937401674301,
          0.03365743020769818
         ],
         "yaxis": "y"
        },
        {
         "customdata": [
          [
           58549
          ],
          [
           58578
          ],
          [
           58569
          ],
          [
           59059
          ],
          [
           59833
          ],
          [
           59767
          ],
          [
           60281
          ],
          [
           61967
          ]
         ],
         "hovertemplate": "state=WI<br>group=RAC1P<br>year=%{x}<br>base_rate=%{y}<br>len=%{customdata[0]}<extra></extra>",
         "legendgroup": "WI",
         "line": {
          "color": "#FF97FF",
          "dash": "solid"
         },
         "marker": {
          "symbol": "circle"
         },
         "mode": "lines",
         "name": "WI",
         "showlegend": false,
         "type": "scattergl",
         "x": [
          2014,
          2015,
          2016,
          2017,
          2018,
          2019,
          2021,
          2022
         ],
         "xaxis": "x2",
         "y": [
          0.6207792207792208,
          0.5555555555555556,
          0.8541666666666666,
          0.7307692307692308,
          0.251925263119293,
          0.2997416020671835,
          0.34979423868312753,
          0.5304114490161002
         ],
         "yaxis": "y2"
        },
        {
         "customdata": [
          [
           58549
          ],
          [
           58578
          ],
          [
           58569
          ],
          [
           59059
          ],
          [
           59833
          ],
          [
           59767
          ],
          [
           60281
          ],
          [
           61967
          ]
         ],
         "hovertemplate": "state=WI<br>group=AGEP<br>year=%{x}<br>base_rate=%{y}<br>len=%{customdata[0]}<extra></extra>",
         "legendgroup": "WI",
         "line": {
          "color": "#FF97FF",
          "dash": "solid"
         },
         "marker": {
          "symbol": "circle"
         },
         "mode": "lines",
         "name": "WI",
         "showlegend": false,
         "type": "scattergl",
         "x": [
          2014,
          2015,
          2016,
          2017,
          2018,
          2019,
          2021,
          2022
         ],
         "xaxis": "x3",
         "y": [
          0.8364611260053619,
          0.8668555240793201,
          0.8528925619834711,
          0.8626817447495961,
          0.8686708860759493,
          0.8622222222222222,
          0.8666666666666667,
          0.8529862174578867
         ],
         "yaxis": "y3"
        },
        {
         "customdata": [
          [
           5820
          ],
          [
           5819
          ],
          [
           5800
          ],
          [
           5912
          ],
          [
           5740
          ],
          [
           5967
          ],
          [
           5861
          ],
          [
           5962
          ]
         ],
         "hovertemplate": "state=WY<br>group=SEX<br>year=%{x}<br>base_rate=%{y}<br>len=%{customdata[0]}<extra></extra>",
         "legendgroup": "WY",
         "line": {
          "color": "#FECB52",
          "dash": "solid"
         },
         "marker": {
          "symbol": "circle"
         },
         "mode": "lines",
         "name": "WY",
         "showlegend": true,
         "type": "scattergl",
         "x": [
          2014,
          2015,
          2016,
          2017,
          2018,
          2019,
          2021,
          2022
         ],
         "xaxis": "x",
         "y": [
          0.06377158096945806,
          0.06815161137652404,
          0.07713202035123445,
          0.05814768040897905,
          0.056782014587196894,
          0.04056377750430784,
          0.06384895374463445,
          0.050733456781162534
         ],
         "yaxis": "y"
        },
        {
         "customdata": [
          [
           5820
          ],
          [
           5819
          ],
          [
           5800
          ],
          [
           5912
          ],
          [
           5740
          ],
          [
           5967
          ],
          [
           5861
          ],
          [
           5962
          ]
         ],
         "hovertemplate": "state=WY<br>group=RAC1P<br>year=%{x}<br>base_rate=%{y}<br>len=%{customdata[0]}<extra></extra>",
         "legendgroup": "WY",
         "line": {
          "color": "#FECB52",
          "dash": "solid"
         },
         "marker": {
          "symbol": "circle"
         },
         "mode": "lines",
         "name": "WY",
         "showlegend": false,
         "type": "scattergl",
         "x": [
          2014,
          2015,
          2016,
          2017,
          2018,
          2019,
          2021,
          2022
         ],
         "xaxis": "x2",
         "y": [
          0.3755020080321285,
          0.18493150684931509,
          0.32868217054263565,
          0.49122807017543857,
          0.8333333333333334,
          0.35064935064935066,
          0.6652892561983471,
          0.736842105263158
         ],
         "yaxis": "y2"
        },
        {
         "customdata": [
          [
           5820
          ],
          [
           5819
          ],
          [
           5800
          ],
          [
           5912
          ],
          [
           5740
          ],
          [
           5967
          ],
          [
           5861
          ],
          [
           5962
          ]
         ],
         "hovertemplate": "state=WY<br>group=AGEP<br>year=%{x}<br>base_rate=%{y}<br>len=%{customdata[0]}<extra></extra>",
         "legendgroup": "WY",
         "line": {
          "color": "#FECB52",
          "dash": "solid"
         },
         "marker": {
          "symbol": "circle"
         },
         "mode": "lines",
         "name": "WY",
         "showlegend": false,
         "type": "scattergl",
         "x": [
          2014,
          2015,
          2016,
          2017,
          2018,
          2019,
          2021,
          2022
         ],
         "xaxis": "x3",
         "y": [
          0.896551724137931,
          0.9032258064516129,
          0.8985507246376812,
          0.8714285714285714,
          0.9069767441860465,
          0.875,
          0.8783783783783784,
          0.8857142857142857
         ],
         "yaxis": "y3"
        },
        {
         "customdata": [
          [
           31506
          ],
          [
           30767
          ],
          [
           30224
          ],
          [
           20972
          ],
          [
           28117
          ],
          [
           27820
          ],
          [
           25909
          ],
          [
           28944
          ]
         ],
         "hovertemplate": "state=PR<br>group=SEX<br>year=%{x}<br>base_rate=%{y}<br>len=%{customdata[0]}<extra></extra>",
         "legendgroup": "PR",
         "line": {
          "color": "#636efa",
          "dash": "solid"
         },
         "marker": {
          "symbol": "circle"
         },
         "mode": "lines",
         "name": "PR",
         "showlegend": true,
         "type": "scattergl",
         "x": [
          2014,
          2015,
          2016,
          2017,
          2018,
          2019,
          2021,
          2022
         ],
         "xaxis": "x",
         "y": [
          0.06216645409976582,
          0.05579352531819606,
          0.0598974999442104,
          0.0513080465536237,
          0.07120761595094155,
          0.06681369915446711,
          0.06619418614007438,
          0.060194230258840964
         ],
         "yaxis": "y"
        },
        {
         "customdata": [
          [
           31506
          ],
          [
           30767
          ],
          [
           30224
          ],
          [
           20972
          ],
          [
           28117
          ],
          [
           27820
          ],
          [
           25909
          ],
          [
           28944
          ]
         ],
         "hovertemplate": "state=PR<br>group=RAC1P<br>year=%{x}<br>base_rate=%{y}<br>len=%{customdata[0]}<extra></extra>",
         "legendgroup": "PR",
         "line": {
          "color": "#636efa",
          "dash": "solid"
         },
         "marker": {
          "symbol": "circle"
         },
         "mode": "lines",
         "name": "PR",
         "showlegend": false,
         "type": "scattergl",
         "x": [
          2014,
          2015,
          2016,
          2017,
          2018,
          2019,
          2021,
          2022
         ],
         "xaxis": "x2",
         "y": [
          0.40816326530612246,
          0.07985903838157615,
          0.7191304347826086,
          0.1752136752136752,
          0.3333333333333333,
          0.37037037037037035,
          0.18309207837739014,
          0.46774193548387094
         ],
         "yaxis": "y2"
        },
        {
         "customdata": [
          [
           31506
          ],
          [
           30767
          ],
          [
           30224
          ],
          [
           20972
          ],
          [
           28117
          ],
          [
           27820
          ],
          [
           25909
          ],
          [
           28944
          ]
         ],
         "hovertemplate": "state=PR<br>group=AGEP<br>year=%{x}<br>base_rate=%{y}<br>len=%{customdata[0]}<extra></extra>",
         "legendgroup": "PR",
         "line": {
          "color": "#636efa",
          "dash": "solid"
         },
         "marker": {
          "symbol": "circle"
         },
         "mode": "lines",
         "name": "PR",
         "showlegend": false,
         "type": "scattergl",
         "x": [
          2014,
          2015,
          2016,
          2017,
          2018,
          2019,
          2021,
          2022
         ],
         "xaxis": "x3",
         "y": [
          0.6133333333333333,
          0.639751552795031,
          0.6706586826347305,
          0.6877637130801688,
          0.6867924528301886,
          0.7024221453287197,
          0.7035573122529645,
          0.7114754098360656
         ],
         "yaxis": "y3"
        }
       ],
       "layout": {
        "annotations": [
         {
          "font": {},
          "showarrow": false,
          "text": "group=SEX",
          "x": 0.15999999999999998,
          "xanchor": "center",
          "xref": "paper",
          "y": 1,
          "yanchor": "bottom",
          "yref": "paper"
         },
         {
          "font": {},
          "showarrow": false,
          "text": "group=RAC1P",
          "x": 0.49999999999999994,
          "xanchor": "center",
          "xref": "paper",
          "y": 1,
          "yanchor": "bottom",
          "yref": "paper"
         },
         {
          "font": {},
          "showarrow": false,
          "text": "group=AGEP",
          "x": 0.8399999999999999,
          "xanchor": "center",
          "xref": "paper",
          "y": 1,
          "yanchor": "bottom",
          "yref": "paper"
         }
        ],
        "legend": {
         "title": {
          "text": "state"
         },
         "tracegroupgap": 0
        },
        "margin": {
         "t": 60
        },
        "template": {
         "data": {
          "bar": [
           {
            "error_x": {
             "color": "#2a3f5f"
            },
            "error_y": {
             "color": "#2a3f5f"
            },
            "marker": {
             "line": {
              "color": "#E5ECF6",
              "width": 0.5
             },
             "pattern": {
              "fillmode": "overlay",
              "size": 10,
              "solidity": 0.2
             }
            },
            "type": "bar"
           }
          ],
          "barpolar": [
           {
            "marker": {
             "line": {
              "color": "#E5ECF6",
              "width": 0.5
             },
             "pattern": {
              "fillmode": "overlay",
              "size": 10,
              "solidity": 0.2
             }
            },
            "type": "barpolar"
           }
          ],
          "carpet": [
           {
            "aaxis": {
             "endlinecolor": "#2a3f5f",
             "gridcolor": "white",
             "linecolor": "white",
             "minorgridcolor": "white",
             "startlinecolor": "#2a3f5f"
            },
            "baxis": {
             "endlinecolor": "#2a3f5f",
             "gridcolor": "white",
             "linecolor": "white",
             "minorgridcolor": "white",
             "startlinecolor": "#2a3f5f"
            },
            "type": "carpet"
           }
          ],
          "choropleth": [
           {
            "colorbar": {
             "outlinewidth": 0,
             "ticks": ""
            },
            "type": "choropleth"
           }
          ],
          "contour": [
           {
            "colorbar": {
             "outlinewidth": 0,
             "ticks": ""
            },
            "colorscale": [
             [
              0,
              "#0d0887"
             ],
             [
              0.1111111111111111,
              "#46039f"
             ],
             [
              0.2222222222222222,
              "#7201a8"
             ],
             [
              0.3333333333333333,
              "#9c179e"
             ],
             [
              0.4444444444444444,
              "#bd3786"
             ],
             [
              0.5555555555555556,
              "#d8576b"
             ],
             [
              0.6666666666666666,
              "#ed7953"
             ],
             [
              0.7777777777777778,
              "#fb9f3a"
             ],
             [
              0.8888888888888888,
              "#fdca26"
             ],
             [
              1,
              "#f0f921"
             ]
            ],
            "type": "contour"
           }
          ],
          "contourcarpet": [
           {
            "colorbar": {
             "outlinewidth": 0,
             "ticks": ""
            },
            "type": "contourcarpet"
           }
          ],
          "heatmap": [
           {
            "colorbar": {
             "outlinewidth": 0,
             "ticks": ""
            },
            "colorscale": [
             [
              0,
              "#0d0887"
             ],
             [
              0.1111111111111111,
              "#46039f"
             ],
             [
              0.2222222222222222,
              "#7201a8"
             ],
             [
              0.3333333333333333,
              "#9c179e"
             ],
             [
              0.4444444444444444,
              "#bd3786"
             ],
             [
              0.5555555555555556,
              "#d8576b"
             ],
             [
              0.6666666666666666,
              "#ed7953"
             ],
             [
              0.7777777777777778,
              "#fb9f3a"
             ],
             [
              0.8888888888888888,
              "#fdca26"
             ],
             [
              1,
              "#f0f921"
             ]
            ],
            "type": "heatmap"
           }
          ],
          "heatmapgl": [
           {
            "colorbar": {
             "outlinewidth": 0,
             "ticks": ""
            },
            "colorscale": [
             [
              0,
              "#0d0887"
             ],
             [
              0.1111111111111111,
              "#46039f"
             ],
             [
              0.2222222222222222,
              "#7201a8"
             ],
             [
              0.3333333333333333,
              "#9c179e"
             ],
             [
              0.4444444444444444,
              "#bd3786"
             ],
             [
              0.5555555555555556,
              "#d8576b"
             ],
             [
              0.6666666666666666,
              "#ed7953"
             ],
             [
              0.7777777777777778,
              "#fb9f3a"
             ],
             [
              0.8888888888888888,
              "#fdca26"
             ],
             [
              1,
              "#f0f921"
             ]
            ],
            "type": "heatmapgl"
           }
          ],
          "histogram": [
           {
            "marker": {
             "pattern": {
              "fillmode": "overlay",
              "size": 10,
              "solidity": 0.2
             }
            },
            "type": "histogram"
           }
          ],
          "histogram2d": [
           {
            "colorbar": {
             "outlinewidth": 0,
             "ticks": ""
            },
            "colorscale": [
             [
              0,
              "#0d0887"
             ],
             [
              0.1111111111111111,
              "#46039f"
             ],
             [
              0.2222222222222222,
              "#7201a8"
             ],
             [
              0.3333333333333333,
              "#9c179e"
             ],
             [
              0.4444444444444444,
              "#bd3786"
             ],
             [
              0.5555555555555556,
              "#d8576b"
             ],
             [
              0.6666666666666666,
              "#ed7953"
             ],
             [
              0.7777777777777778,
              "#fb9f3a"
             ],
             [
              0.8888888888888888,
              "#fdca26"
             ],
             [
              1,
              "#f0f921"
             ]
            ],
            "type": "histogram2d"
           }
          ],
          "histogram2dcontour": [
           {
            "colorbar": {
             "outlinewidth": 0,
             "ticks": ""
            },
            "colorscale": [
             [
              0,
              "#0d0887"
             ],
             [
              0.1111111111111111,
              "#46039f"
             ],
             [
              0.2222222222222222,
              "#7201a8"
             ],
             [
              0.3333333333333333,
              "#9c179e"
             ],
             [
              0.4444444444444444,
              "#bd3786"
             ],
             [
              0.5555555555555556,
              "#d8576b"
             ],
             [
              0.6666666666666666,
              "#ed7953"
             ],
             [
              0.7777777777777778,
              "#fb9f3a"
             ],
             [
              0.8888888888888888,
              "#fdca26"
             ],
             [
              1,
              "#f0f921"
             ]
            ],
            "type": "histogram2dcontour"
           }
          ],
          "mesh3d": [
           {
            "colorbar": {
             "outlinewidth": 0,
             "ticks": ""
            },
            "type": "mesh3d"
           }
          ],
          "parcoords": [
           {
            "line": {
             "colorbar": {
              "outlinewidth": 0,
              "ticks": ""
             }
            },
            "type": "parcoords"
           }
          ],
          "pie": [
           {
            "automargin": true,
            "type": "pie"
           }
          ],
          "scatter": [
           {
            "fillpattern": {
             "fillmode": "overlay",
             "size": 10,
             "solidity": 0.2
            },
            "type": "scatter"
           }
          ],
          "scatter3d": [
           {
            "line": {
             "colorbar": {
              "outlinewidth": 0,
              "ticks": ""
             }
            },
            "marker": {
             "colorbar": {
              "outlinewidth": 0,
              "ticks": ""
             }
            },
            "type": "scatter3d"
           }
          ],
          "scattercarpet": [
           {
            "marker": {
             "colorbar": {
              "outlinewidth": 0,
              "ticks": ""
             }
            },
            "type": "scattercarpet"
           }
          ],
          "scattergeo": [
           {
            "marker": {
             "colorbar": {
              "outlinewidth": 0,
              "ticks": ""
             }
            },
            "type": "scattergeo"
           }
          ],
          "scattergl": [
           {
            "marker": {
             "colorbar": {
              "outlinewidth": 0,
              "ticks": ""
             }
            },
            "type": "scattergl"
           }
          ],
          "scattermapbox": [
           {
            "marker": {
             "colorbar": {
              "outlinewidth": 0,
              "ticks": ""
             }
            },
            "type": "scattermapbox"
           }
          ],
          "scatterpolar": [
           {
            "marker": {
             "colorbar": {
              "outlinewidth": 0,
              "ticks": ""
             }
            },
            "type": "scatterpolar"
           }
          ],
          "scatterpolargl": [
           {
            "marker": {
             "colorbar": {
              "outlinewidth": 0,
              "ticks": ""
             }
            },
            "type": "scatterpolargl"
           }
          ],
          "scatterternary": [
           {
            "marker": {
             "colorbar": {
              "outlinewidth": 0,
              "ticks": ""
             }
            },
            "type": "scatterternary"
           }
          ],
          "surface": [
           {
            "colorbar": {
             "outlinewidth": 0,
             "ticks": ""
            },
            "colorscale": [
             [
              0,
              "#0d0887"
             ],
             [
              0.1111111111111111,
              "#46039f"
             ],
             [
              0.2222222222222222,
              "#7201a8"
             ],
             [
              0.3333333333333333,
              "#9c179e"
             ],
             [
              0.4444444444444444,
              "#bd3786"
             ],
             [
              0.5555555555555556,
              "#d8576b"
             ],
             [
              0.6666666666666666,
              "#ed7953"
             ],
             [
              0.7777777777777778,
              "#fb9f3a"
             ],
             [
              0.8888888888888888,
              "#fdca26"
             ],
             [
              1,
              "#f0f921"
             ]
            ],
            "type": "surface"
           }
          ],
          "table": [
           {
            "cells": {
             "fill": {
              "color": "#EBF0F8"
             },
             "line": {
              "color": "white"
             }
            },
            "header": {
             "fill": {
              "color": "#C8D4E3"
             },
             "line": {
              "color": "white"
             }
            },
            "type": "table"
           }
          ]
         },
         "layout": {
          "annotationdefaults": {
           "arrowcolor": "#2a3f5f",
           "arrowhead": 0,
           "arrowwidth": 1
          },
          "autotypenumbers": "strict",
          "coloraxis": {
           "colorbar": {
            "outlinewidth": 0,
            "ticks": ""
           }
          },
          "colorscale": {
           "diverging": [
            [
             0,
             "#8e0152"
            ],
            [
             0.1,
             "#c51b7d"
            ],
            [
             0.2,
             "#de77ae"
            ],
            [
             0.3,
             "#f1b6da"
            ],
            [
             0.4,
             "#fde0ef"
            ],
            [
             0.5,
             "#f7f7f7"
            ],
            [
             0.6,
             "#e6f5d0"
            ],
            [
             0.7,
             "#b8e186"
            ],
            [
             0.8,
             "#7fbc41"
            ],
            [
             0.9,
             "#4d9221"
            ],
            [
             1,
             "#276419"
            ]
           ],
           "sequential": [
            [
             0,
             "#0d0887"
            ],
            [
             0.1111111111111111,
             "#46039f"
            ],
            [
             0.2222222222222222,
             "#7201a8"
            ],
            [
             0.3333333333333333,
             "#9c179e"
            ],
            [
             0.4444444444444444,
             "#bd3786"
            ],
            [
             0.5555555555555556,
             "#d8576b"
            ],
            [
             0.6666666666666666,
             "#ed7953"
            ],
            [
             0.7777777777777778,
             "#fb9f3a"
            ],
            [
             0.8888888888888888,
             "#fdca26"
            ],
            [
             1,
             "#f0f921"
            ]
           ],
           "sequentialminus": [
            [
             0,
             "#0d0887"
            ],
            [
             0.1111111111111111,
             "#46039f"
            ],
            [
             0.2222222222222222,
             "#7201a8"
            ],
            [
             0.3333333333333333,
             "#9c179e"
            ],
            [
             0.4444444444444444,
             "#bd3786"
            ],
            [
             0.5555555555555556,
             "#d8576b"
            ],
            [
             0.6666666666666666,
             "#ed7953"
            ],
            [
             0.7777777777777778,
             "#fb9f3a"
            ],
            [
             0.8888888888888888,
             "#fdca26"
            ],
            [
             1,
             "#f0f921"
            ]
           ]
          },
          "colorway": [
           "#636efa",
           "#EF553B",
           "#00cc96",
           "#ab63fa",
           "#FFA15A",
           "#19d3f3",
           "#FF6692",
           "#B6E880",
           "#FF97FF",
           "#FECB52"
          ],
          "font": {
           "color": "#2a3f5f"
          },
          "geo": {
           "bgcolor": "white",
           "lakecolor": "white",
           "landcolor": "#E5ECF6",
           "showlakes": true,
           "showland": true,
           "subunitcolor": "white"
          },
          "hoverlabel": {
           "align": "left"
          },
          "hovermode": "closest",
          "mapbox": {
           "style": "light"
          },
          "paper_bgcolor": "white",
          "plot_bgcolor": "#E5ECF6",
          "polar": {
           "angularaxis": {
            "gridcolor": "white",
            "linecolor": "white",
            "ticks": ""
           },
           "bgcolor": "#E5ECF6",
           "radialaxis": {
            "gridcolor": "white",
            "linecolor": "white",
            "ticks": ""
           }
          },
          "scene": {
           "xaxis": {
            "backgroundcolor": "#E5ECF6",
            "gridcolor": "white",
            "gridwidth": 2,
            "linecolor": "white",
            "showbackground": true,
            "ticks": "",
            "zerolinecolor": "white"
           },
           "yaxis": {
            "backgroundcolor": "#E5ECF6",
            "gridcolor": "white",
            "gridwidth": 2,
            "linecolor": "white",
            "showbackground": true,
            "ticks": "",
            "zerolinecolor": "white"
           },
           "zaxis": {
            "backgroundcolor": "#E5ECF6",
            "gridcolor": "white",
            "gridwidth": 2,
            "linecolor": "white",
            "showbackground": true,
            "ticks": "",
            "zerolinecolor": "white"
           }
          },
          "shapedefaults": {
           "line": {
            "color": "#2a3f5f"
           }
          },
          "ternary": {
           "aaxis": {
            "gridcolor": "white",
            "linecolor": "white",
            "ticks": ""
           },
           "baxis": {
            "gridcolor": "white",
            "linecolor": "white",
            "ticks": ""
           },
           "bgcolor": "#E5ECF6",
           "caxis": {
            "gridcolor": "white",
            "linecolor": "white",
            "ticks": ""
           }
          },
          "title": {
           "x": 0.05
          },
          "xaxis": {
           "automargin": true,
           "gridcolor": "white",
           "linecolor": "white",
           "ticks": "",
           "title": {
            "standoff": 15
           },
           "zerolinecolor": "white",
           "zerolinewidth": 2
          },
          "yaxis": {
           "automargin": true,
           "gridcolor": "white",
           "linecolor": "white",
           "ticks": "",
           "title": {
            "standoff": 15
           },
           "zerolinecolor": "white",
           "zerolinewidth": 2
          }
         }
        },
        "xaxis": {
         "anchor": "y",
         "domain": [
          0,
          0.31999999999999995
         ],
         "title": {
          "text": "year"
         }
        },
        "xaxis2": {
         "anchor": "y2",
         "domain": [
          0.33999999999999997,
          0.6599999999999999
         ],
         "matches": "x",
         "title": {
          "text": "year"
         }
        },
        "xaxis3": {
         "anchor": "y3",
         "domain": [
          0.6799999999999999,
          0.9999999999999999
         ],
         "matches": "x",
         "title": {
          "text": "year"
         }
        },
        "yaxis": {
         "anchor": "x",
         "domain": [
          0,
          1
         ],
         "title": {
          "text": "base_rate"
         }
        },
        "yaxis2": {
         "anchor": "x2",
         "domain": [
          0,
          1
         ],
         "matches": "y",
         "showticklabels": false
        },
        "yaxis3": {
         "anchor": "x3",
         "domain": [
          0,
          1
         ],
         "matches": "y",
         "showticklabels": false
        }
       }
      }
     },
     "metadata": {},
     "output_type": "display_data"
    }
   ],
   "source": [
    "px.line(\n",
    "    base_rate,\n",
    "    x=\"year\",\n",
    "    y=\"base_rate\",\n",
    "    color=\"state\",\n",
    "    facet_col=\"group\",\n",
    "    hover_data=\"len\",\n",
    ")"
   ]
  }
 ],
 "metadata": {
  "kernelspec": {
   "display_name": "default",
   "language": "python",
   "name": "python3"
  },
  "language_info": {
   "codemirror_mode": {
    "name": "ipython",
    "version": 3
   },
   "file_extension": ".py",
   "mimetype": "text/x-python",
   "name": "python",
   "nbconvert_exporter": "python",
   "pygments_lexer": "ipython3",
   "version": "3.12.6"
  }
 },
 "nbformat": 4,
 "nbformat_minor": 2
}
