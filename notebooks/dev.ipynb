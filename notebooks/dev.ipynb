{
 "cells": [
  {
   "cell_type": "code",
   "execution_count": 1,
   "metadata": {},
   "outputs": [],
   "source": [
    "import polars as pl\n",
    "from plotly import express as px"
   ]
  },
  {
   "cell_type": "code",
   "execution_count": 2,
   "metadata": {},
   "outputs": [],
   "source": [
    "audit = (\n",
    "    pl.read_ndjson(\"../generated/dev5_ACSEmployment_binarized.jsonl\")\n",
    "    # .select(pl.all().exclude(\"model_params\"))\n",
    "    .group_by(\n",
    "        \"dataset\",\n",
    "        \"model_name\",\n",
    "        \"model_params\",\n",
    "        \"strategy\",\n",
    "        \"strategy_params\",\n",
    "        \"audit_budget\",\n",
    "        \"detection_tpr\",\n",
    "        \"detection_tnr\",\n",
    "    )\n",
    "    .mean()\n",
    "    .sort(\"detection_tpr\", \"detection_tnr\", descending=[True, False])\n",
    ")\n",
    "audit = audit.with_columns(\n",
    "    strategy_json=pl.lit(\n",
    "        audit.select(\"strategy_params\").unnest(\"strategy_params\").write_ndjson()\n",
    "    )\n",
    "    .str.strip_chars(\"\\n\")\n",
    "    .str.split(\"\\n\")\n",
    "    .arr.explode(),\n",
    "    model_json=pl.lit(\n",
    "        audit.select(\"model_params\").unnest(\"model_params\").write_ndjson()\n",
    "    )\n",
    "    .str.strip_chars(\"\\n\")\n",
    "    .str.split(\"\\n\")\n",
    "    .arr.explode(),\n",
    ")"
   ]
  },
  {
   "cell_type": "code",
   "execution_count": 3,
   "metadata": {},
   "outputs": [
    {
     "data": {
      "text/html": [
       "<div><style>\n",
       ".dataframe > thead > tr,\n",
       ".dataframe > tbody > tr {\n",
       "  text-align: right;\n",
       "  white-space: pre-wrap;\n",
       "}\n",
       "</style>\n",
       "<small>shape: (160, 15)</small><table border=\"1\" class=\"dataframe\"><thead><tr><th>dataset</th><th>model_name</th><th>model_params</th><th>strategy</th><th>strategy_params</th><th>audit_budget</th><th>detection_tpr</th><th>detection_tnr</th><th>entropy</th><th>utility_user</th><th>utility_audit</th><th>demographic_parity_user</th><th>demographic_parity_audit</th><th>strategy_json</th><th>model_json</th></tr><tr><td>str</td><td>str</td><td>struct[1]</td><td>str</td><td>struct[2]</td><td>i64</td><td>f64</td><td>f64</td><td>f64</td><td>f64</td><td>f64</td><td>f64</td><td>f64</td><td>str</td><td>str</td></tr></thead><tbody><tr><td>&quot;ACSEmployment&quot;</td><td>&quot;unconstrained&quot;</td><td>{null}</td><td>&quot;ROC_mitigation&quot;</td><td>{null,0.366667}</td><td>1000</td><td>1.0</td><td>0.95</td><td>2.3527e9</td><td>0.823293</td><td>0.8244</td><td>0.055893</td><td>0.070724</td><td>&quot;{&quot;epsilon&quot;:null,&quot;theta&quot;:0.3666…</td><td>&quot;{&quot;epsilon&quot;:null}&quot;</td></tr><tr><td>&quot;ACSEmployment&quot;</td><td>&quot;exponentiated_gradient&quot;</td><td>{0.056}</td><td>&quot;honest&quot;</td><td>{null,null}</td><td>1000</td><td>1.0</td><td>0.95</td><td>2.3527e9</td><td>0.823593</td><td>0.8262</td><td>0.058005</td><td>0.072043</td><td>&quot;{&quot;epsilon&quot;:null,&quot;theta&quot;:null}&quot;</td><td>&quot;{&quot;epsilon&quot;:0.05600000000000001…</td></tr><tr><td>&quot;ACSEmployment&quot;</td><td>&quot;exponentiated_gradient&quot;</td><td>{0.012}</td><td>&quot;honest&quot;</td><td>{null,null}</td><td>1000</td><td>1.0</td><td>0.95</td><td>2.3527e9</td><td>0.823063</td><td>0.825</td><td>0.018154</td><td>0.033753</td><td>&quot;{&quot;epsilon&quot;:null,&quot;theta&quot;:null}&quot;</td><td>&quot;{&quot;epsilon&quot;:0.012}&quot;</td></tr><tr><td>&quot;ACSEmployment&quot;</td><td>&quot;exponentiated_gradient&quot;</td><td>{0.1}</td><td>&quot;honest&quot;</td><td>{null,null}</td><td>1000</td><td>1.0</td><td>0.95</td><td>2.3527e9</td><td>0.823822</td><td>0.825</td><td>0.054049</td><td>0.071043</td><td>&quot;{&quot;epsilon&quot;:null,&quot;theta&quot;:null}&quot;</td><td>&quot;{&quot;epsilon&quot;:0.1}&quot;</td></tr><tr><td>&quot;ACSEmployment&quot;</td><td>&quot;exponentiated_gradient&quot;</td><td>{0.078}</td><td>&quot;honest&quot;</td><td>{null,null}</td><td>1000</td><td>1.0</td><td>0.95</td><td>2.3527e9</td><td>0.823681</td><td>0.824</td><td>0.055743</td><td>0.069187</td><td>&quot;{&quot;epsilon&quot;:null,&quot;theta&quot;:null}&quot;</td><td>&quot;{&quot;epsilon&quot;:0.07800000000000001…</td></tr><tr><td>&hellip;</td><td>&hellip;</td><td>&hellip;</td><td>&hellip;</td><td>&hellip;</td><td>&hellip;</td><td>&hellip;</td><td>&hellip;</td><td>&hellip;</td><td>&hellip;</td><td>&hellip;</td><td>&hellip;</td><td>&hellip;</td><td>&hellip;</td><td>&hellip;</td></tr><tr><td>&quot;ACSEmployment&quot;</td><td>&quot;unconstrained&quot;</td><td>{null}</td><td>&quot;ROC_mitigation&quot;</td><td>{null,0.566667}</td><td>1000</td><td>0.5</td><td>1.0</td><td>2.3527e9</td><td>0.822181</td><td>0.8202</td><td>0.010708</td><td>0.012156</td><td>&quot;{&quot;epsilon&quot;:null,&quot;theta&quot;:0.5666…</td><td>&quot;{&quot;epsilon&quot;:null}&quot;</td></tr><tr><td>&quot;ACSEmployment&quot;</td><td>&quot;unconstrained&quot;</td><td>{null}</td><td>&quot;ROC_mitigation&quot;</td><td>{null,0.433333}</td><td>1000</td><td>0.5</td><td>1.0</td><td>2.3527e9</td><td>0.823787</td><td>0.8238</td><td>0.056853</td><td>0.068481</td><td>&quot;{&quot;epsilon&quot;:null,&quot;theta&quot;:0.4333…</td><td>&quot;{&quot;epsilon&quot;:null}&quot;</td></tr><tr><td>&quot;ACSEmployment&quot;</td><td>&quot;unconstrained&quot;</td><td>{null}</td><td>&quot;randomized_response&quot;</td><td>{6.0,null}</td><td>1000</td><td>0.5</td><td>1.0</td><td>2.3527e9</td><td>0.823346</td><td>0.8242</td><td>0.055549</td><td>0.070455</td><td>&quot;{&quot;epsilon&quot;:6.0,&quot;theta&quot;:null}&quot;</td><td>&quot;{&quot;epsilon&quot;:null}&quot;</td></tr><tr><td>&quot;ACSEmployment&quot;</td><td>&quot;unconstrained&quot;</td><td>{null}</td><td>&quot;ROC_mitigation&quot;</td><td>{null,0.333333}</td><td>1000</td><td>0.5</td><td>1.0</td><td>2.3527e9</td><td>0.823663</td><td>0.823</td><td>0.054364</td><td>0.06518</td><td>&quot;{&quot;epsilon&quot;:null,&quot;theta&quot;:0.3333…</td><td>&quot;{&quot;epsilon&quot;:null}&quot;</td></tr><tr><td>&quot;ACSEmployment&quot;</td><td>&quot;unconstrained&quot;</td><td>{null}</td><td>&quot;model_swap&quot;</td><td>{null,null}</td><td>1000</td><td>0.5</td><td>1.0</td><td>2.3527e9</td><td>0.823857</td><td>0.8238</td><td>0.055351</td><td>0.020355</td><td>&quot;{&quot;epsilon&quot;:null,&quot;theta&quot;:null}&quot;</td><td>&quot;{&quot;epsilon&quot;:null}&quot;</td></tr></tbody></table></div>"
      ],
      "text/plain": [
       "shape: (160, 15)\n",
       "┌───────────┬───────────┬───────────┬───────────┬───┬───────────┬───────────┬───────────┬──────────┐\n",
       "│ dataset   ┆ model_nam ┆ model_par ┆ strategy  ┆ … ┆ demograph ┆ demograph ┆ strategy_ ┆ model_js │\n",
       "│ ---       ┆ e         ┆ ams       ┆ ---       ┆   ┆ ic_parity ┆ ic_parity ┆ json      ┆ on       │\n",
       "│ str       ┆ ---       ┆ ---       ┆ str       ┆   ┆ _user     ┆ _audit    ┆ ---       ┆ ---      │\n",
       "│           ┆ str       ┆ struct[1] ┆           ┆   ┆ ---       ┆ ---       ┆ str       ┆ str      │\n",
       "│           ┆           ┆           ┆           ┆   ┆ f64       ┆ f64       ┆           ┆          │\n",
       "╞═══════════╪═══════════╪═══════════╪═══════════╪═══╪═══════════╪═══════════╪═══════════╪══════════╡\n",
       "│ ACSEmploy ┆ unconstra ┆ {null}    ┆ ROC_mitig ┆ … ┆ 0.055893  ┆ 0.070724  ┆ {\"epsilon ┆ {\"epsilo │\n",
       "│ ment      ┆ ined      ┆           ┆ ation     ┆   ┆           ┆           ┆ \":null,\"t ┆ n\":null} │\n",
       "│           ┆           ┆           ┆           ┆   ┆           ┆           ┆ heta\":0.3 ┆          │\n",
       "│           ┆           ┆           ┆           ┆   ┆           ┆           ┆ 666…      ┆          │\n",
       "│ ACSEmploy ┆ exponenti ┆ {0.056}   ┆ honest    ┆ … ┆ 0.058005  ┆ 0.072043  ┆ {\"epsilon ┆ {\"epsilo │\n",
       "│ ment      ┆ ated_grad ┆           ┆           ┆   ┆           ┆           ┆ \":null,\"t ┆ n\":0.056 │\n",
       "│           ┆ ient      ┆           ┆           ┆   ┆           ┆           ┆ heta\":nul ┆ 00000000 │\n",
       "│           ┆           ┆           ┆           ┆   ┆           ┆           ┆ l}        ┆ 000001…  │\n",
       "│ ACSEmploy ┆ exponenti ┆ {0.012}   ┆ honest    ┆ … ┆ 0.018154  ┆ 0.033753  ┆ {\"epsilon ┆ {\"epsilo │\n",
       "│ ment      ┆ ated_grad ┆           ┆           ┆   ┆           ┆           ┆ \":null,\"t ┆ n\":0.012 │\n",
       "│           ┆ ient      ┆           ┆           ┆   ┆           ┆           ┆ heta\":nul ┆ }        │\n",
       "│           ┆           ┆           ┆           ┆   ┆           ┆           ┆ l}        ┆          │\n",
       "│ ACSEmploy ┆ exponenti ┆ {0.1}     ┆ honest    ┆ … ┆ 0.054049  ┆ 0.071043  ┆ {\"epsilon ┆ {\"epsilo │\n",
       "│ ment      ┆ ated_grad ┆           ┆           ┆   ┆           ┆           ┆ \":null,\"t ┆ n\":0.1}  │\n",
       "│           ┆ ient      ┆           ┆           ┆   ┆           ┆           ┆ heta\":nul ┆          │\n",
       "│           ┆           ┆           ┆           ┆   ┆           ┆           ┆ l}        ┆          │\n",
       "│ ACSEmploy ┆ exponenti ┆ {0.078}   ┆ honest    ┆ … ┆ 0.055743  ┆ 0.069187  ┆ {\"epsilon ┆ {\"epsilo │\n",
       "│ ment      ┆ ated_grad ┆           ┆           ┆   ┆           ┆           ┆ \":null,\"t ┆ n\":0.078 │\n",
       "│           ┆ ient      ┆           ┆           ┆   ┆           ┆           ┆ heta\":nul ┆ 00000000 │\n",
       "│           ┆           ┆           ┆           ┆   ┆           ┆           ┆ l}        ┆ 000001…  │\n",
       "│ …         ┆ …         ┆ …         ┆ …         ┆ … ┆ …         ┆ …         ┆ …         ┆ …        │\n",
       "│ ACSEmploy ┆ unconstra ┆ {null}    ┆ ROC_mitig ┆ … ┆ 0.010708  ┆ 0.012156  ┆ {\"epsilon ┆ {\"epsilo │\n",
       "│ ment      ┆ ined      ┆           ┆ ation     ┆   ┆           ┆           ┆ \":null,\"t ┆ n\":null} │\n",
       "│           ┆           ┆           ┆           ┆   ┆           ┆           ┆ heta\":0.5 ┆          │\n",
       "│           ┆           ┆           ┆           ┆   ┆           ┆           ┆ 666…      ┆          │\n",
       "│ ACSEmploy ┆ unconstra ┆ {null}    ┆ ROC_mitig ┆ … ┆ 0.056853  ┆ 0.068481  ┆ {\"epsilon ┆ {\"epsilo │\n",
       "│ ment      ┆ ined      ┆           ┆ ation     ┆   ┆           ┆           ┆ \":null,\"t ┆ n\":null} │\n",
       "│           ┆           ┆           ┆           ┆   ┆           ┆           ┆ heta\":0.4 ┆          │\n",
       "│           ┆           ┆           ┆           ┆   ┆           ┆           ┆ 333…      ┆          │\n",
       "│ ACSEmploy ┆ unconstra ┆ {null}    ┆ randomize ┆ … ┆ 0.055549  ┆ 0.070455  ┆ {\"epsilon ┆ {\"epsilo │\n",
       "│ ment      ┆ ined      ┆           ┆ d_respons ┆   ┆           ┆           ┆ \":6.0,\"th ┆ n\":null} │\n",
       "│           ┆           ┆           ┆ e         ┆   ┆           ┆           ┆ eta\":null ┆          │\n",
       "│           ┆           ┆           ┆           ┆   ┆           ┆           ┆ }         ┆          │\n",
       "│ ACSEmploy ┆ unconstra ┆ {null}    ┆ ROC_mitig ┆ … ┆ 0.054364  ┆ 0.06518   ┆ {\"epsilon ┆ {\"epsilo │\n",
       "│ ment      ┆ ined      ┆           ┆ ation     ┆   ┆           ┆           ┆ \":null,\"t ┆ n\":null} │\n",
       "│           ┆           ┆           ┆           ┆   ┆           ┆           ┆ heta\":0.3 ┆          │\n",
       "│           ┆           ┆           ┆           ┆   ┆           ┆           ┆ 333…      ┆          │\n",
       "│ ACSEmploy ┆ unconstra ┆ {null}    ┆ model_swa ┆ … ┆ 0.055351  ┆ 0.020355  ┆ {\"epsilon ┆ {\"epsilo │\n",
       "│ ment      ┆ ined      ┆           ┆ p         ┆   ┆           ┆           ┆ \":null,\"t ┆ n\":null} │\n",
       "│           ┆           ┆           ┆           ┆   ┆           ┆           ┆ heta\":nul ┆          │\n",
       "│           ┆           ┆           ┆           ┆   ┆           ┆           ┆ l}        ┆          │\n",
       "└───────────┴───────────┴───────────┴───────────┴───┴───────────┴───────────┴───────────┴──────────┘"
      ]
     },
     "execution_count": 3,
     "metadata": {},
     "output_type": "execute_result"
    }
   ],
   "source": [
    "audit"
   ]
  },
  {
   "cell_type": "code",
   "execution_count": 19,
   "metadata": {},
   "outputs": [
    {
     "data": {
      "application/vnd.plotly.v1+json": {
       "config": {
        "plotlyServerURL": "https://plot.ly"
       },
       "data": [
        {
         "hovertemplate": "model_name=exponentiated_gradient<br>demographic_parity_user=%{x}<br>utility_user=%{y}<extra></extra>",
         "legendgroup": "exponentiated_gradient",
         "marker": {
          "color": "#636efa",
          "symbol": "circle"
         },
         "mode": "markers",
         "name": "exponentiated_gradient",
         "orientation": "v",
         "showlegend": true,
         "type": "scatter",
         "x": [
          0.04454048708777049,
          0.04334584021432518,
          0.0537478274827888,
          0.053722982948138806,
          0.05317863502458885,
          0.017467228452363304,
          0.006064739755952109,
          0.05015787806581986,
          0.02790227636515873,
          0.05559986123358631
         ],
         "xaxis": "x",
         "y": [
          0.8226221986941944,
          0.823116287277219,
          0.8235397917769542,
          0.8234868537144873,
          0.8233280395270868,
          0.8216516675489677,
          0.8213340391741661,
          0.8238397741309335,
          0.8224986765484383,
          0.823116287277219
         ],
         "yaxis": "y"
        },
        {
         "hovertemplate": "model_name=unconstrained<br>demographic_parity_user=%{x}<br>utility_user=%{y}<extra></extra>",
         "legendgroup": "unconstrained",
         "marker": {
          "color": "#EF553B",
          "symbol": "circle"
         },
         "mode": "markers",
         "name": "unconstrained",
         "orientation": "v",
         "showlegend": true,
         "type": "scatter",
         "x": [
          0.055659973725617005
         ],
         "xaxis": "x",
         "y": [
          0.8232751014646198
         ],
         "yaxis": "y"
        }
       ],
       "layout": {
        "height": 600,
        "legend": {
         "title": {
          "text": "model_name"
         },
         "tracegroupgap": 0
        },
        "template": {
         "data": {
          "bar": [
           {
            "error_x": {
             "color": "#2a3f5f"
            },
            "error_y": {
             "color": "#2a3f5f"
            },
            "marker": {
             "line": {
              "color": "#E5ECF6",
              "width": 0.5
             },
             "pattern": {
              "fillmode": "overlay",
              "size": 10,
              "solidity": 0.2
             }
            },
            "type": "bar"
           }
          ],
          "barpolar": [
           {
            "marker": {
             "line": {
              "color": "#E5ECF6",
              "width": 0.5
             },
             "pattern": {
              "fillmode": "overlay",
              "size": 10,
              "solidity": 0.2
             }
            },
            "type": "barpolar"
           }
          ],
          "carpet": [
           {
            "aaxis": {
             "endlinecolor": "#2a3f5f",
             "gridcolor": "white",
             "linecolor": "white",
             "minorgridcolor": "white",
             "startlinecolor": "#2a3f5f"
            },
            "baxis": {
             "endlinecolor": "#2a3f5f",
             "gridcolor": "white",
             "linecolor": "white",
             "minorgridcolor": "white",
             "startlinecolor": "#2a3f5f"
            },
            "type": "carpet"
           }
          ],
          "choropleth": [
           {
            "colorbar": {
             "outlinewidth": 0,
             "ticks": ""
            },
            "type": "choropleth"
           }
          ],
          "contour": [
           {
            "colorbar": {
             "outlinewidth": 0,
             "ticks": ""
            },
            "colorscale": [
             [
              0,
              "#0d0887"
             ],
             [
              0.1111111111111111,
              "#46039f"
             ],
             [
              0.2222222222222222,
              "#7201a8"
             ],
             [
              0.3333333333333333,
              "#9c179e"
             ],
             [
              0.4444444444444444,
              "#bd3786"
             ],
             [
              0.5555555555555556,
              "#d8576b"
             ],
             [
              0.6666666666666666,
              "#ed7953"
             ],
             [
              0.7777777777777778,
              "#fb9f3a"
             ],
             [
              0.8888888888888888,
              "#fdca26"
             ],
             [
              1,
              "#f0f921"
             ]
            ],
            "type": "contour"
           }
          ],
          "contourcarpet": [
           {
            "colorbar": {
             "outlinewidth": 0,
             "ticks": ""
            },
            "type": "contourcarpet"
           }
          ],
          "heatmap": [
           {
            "colorbar": {
             "outlinewidth": 0,
             "ticks": ""
            },
            "colorscale": [
             [
              0,
              "#0d0887"
             ],
             [
              0.1111111111111111,
              "#46039f"
             ],
             [
              0.2222222222222222,
              "#7201a8"
             ],
             [
              0.3333333333333333,
              "#9c179e"
             ],
             [
              0.4444444444444444,
              "#bd3786"
             ],
             [
              0.5555555555555556,
              "#d8576b"
             ],
             [
              0.6666666666666666,
              "#ed7953"
             ],
             [
              0.7777777777777778,
              "#fb9f3a"
             ],
             [
              0.8888888888888888,
              "#fdca26"
             ],
             [
              1,
              "#f0f921"
             ]
            ],
            "type": "heatmap"
           }
          ],
          "heatmapgl": [
           {
            "colorbar": {
             "outlinewidth": 0,
             "ticks": ""
            },
            "colorscale": [
             [
              0,
              "#0d0887"
             ],
             [
              0.1111111111111111,
              "#46039f"
             ],
             [
              0.2222222222222222,
              "#7201a8"
             ],
             [
              0.3333333333333333,
              "#9c179e"
             ],
             [
              0.4444444444444444,
              "#bd3786"
             ],
             [
              0.5555555555555556,
              "#d8576b"
             ],
             [
              0.6666666666666666,
              "#ed7953"
             ],
             [
              0.7777777777777778,
              "#fb9f3a"
             ],
             [
              0.8888888888888888,
              "#fdca26"
             ],
             [
              1,
              "#f0f921"
             ]
            ],
            "type": "heatmapgl"
           }
          ],
          "histogram": [
           {
            "marker": {
             "pattern": {
              "fillmode": "overlay",
              "size": 10,
              "solidity": 0.2
             }
            },
            "type": "histogram"
           }
          ],
          "histogram2d": [
           {
            "colorbar": {
             "outlinewidth": 0,
             "ticks": ""
            },
            "colorscale": [
             [
              0,
              "#0d0887"
             ],
             [
              0.1111111111111111,
              "#46039f"
             ],
             [
              0.2222222222222222,
              "#7201a8"
             ],
             [
              0.3333333333333333,
              "#9c179e"
             ],
             [
              0.4444444444444444,
              "#bd3786"
             ],
             [
              0.5555555555555556,
              "#d8576b"
             ],
             [
              0.6666666666666666,
              "#ed7953"
             ],
             [
              0.7777777777777778,
              "#fb9f3a"
             ],
             [
              0.8888888888888888,
              "#fdca26"
             ],
             [
              1,
              "#f0f921"
             ]
            ],
            "type": "histogram2d"
           }
          ],
          "histogram2dcontour": [
           {
            "colorbar": {
             "outlinewidth": 0,
             "ticks": ""
            },
            "colorscale": [
             [
              0,
              "#0d0887"
             ],
             [
              0.1111111111111111,
              "#46039f"
             ],
             [
              0.2222222222222222,
              "#7201a8"
             ],
             [
              0.3333333333333333,
              "#9c179e"
             ],
             [
              0.4444444444444444,
              "#bd3786"
             ],
             [
              0.5555555555555556,
              "#d8576b"
             ],
             [
              0.6666666666666666,
              "#ed7953"
             ],
             [
              0.7777777777777778,
              "#fb9f3a"
             ],
             [
              0.8888888888888888,
              "#fdca26"
             ],
             [
              1,
              "#f0f921"
             ]
            ],
            "type": "histogram2dcontour"
           }
          ],
          "mesh3d": [
           {
            "colorbar": {
             "outlinewidth": 0,
             "ticks": ""
            },
            "type": "mesh3d"
           }
          ],
          "parcoords": [
           {
            "line": {
             "colorbar": {
              "outlinewidth": 0,
              "ticks": ""
             }
            },
            "type": "parcoords"
           }
          ],
          "pie": [
           {
            "automargin": true,
            "type": "pie"
           }
          ],
          "scatter": [
           {
            "fillpattern": {
             "fillmode": "overlay",
             "size": 10,
             "solidity": 0.2
            },
            "type": "scatter"
           }
          ],
          "scatter3d": [
           {
            "line": {
             "colorbar": {
              "outlinewidth": 0,
              "ticks": ""
             }
            },
            "marker": {
             "colorbar": {
              "outlinewidth": 0,
              "ticks": ""
             }
            },
            "type": "scatter3d"
           }
          ],
          "scattercarpet": [
           {
            "marker": {
             "colorbar": {
              "outlinewidth": 0,
              "ticks": ""
             }
            },
            "type": "scattercarpet"
           }
          ],
          "scattergeo": [
           {
            "marker": {
             "colorbar": {
              "outlinewidth": 0,
              "ticks": ""
             }
            },
            "type": "scattergeo"
           }
          ],
          "scattergl": [
           {
            "marker": {
             "colorbar": {
              "outlinewidth": 0,
              "ticks": ""
             }
            },
            "type": "scattergl"
           }
          ],
          "scattermapbox": [
           {
            "marker": {
             "colorbar": {
              "outlinewidth": 0,
              "ticks": ""
             }
            },
            "type": "scattermapbox"
           }
          ],
          "scatterpolar": [
           {
            "marker": {
             "colorbar": {
              "outlinewidth": 0,
              "ticks": ""
             }
            },
            "type": "scatterpolar"
           }
          ],
          "scatterpolargl": [
           {
            "marker": {
             "colorbar": {
              "outlinewidth": 0,
              "ticks": ""
             }
            },
            "type": "scatterpolargl"
           }
          ],
          "scatterternary": [
           {
            "marker": {
             "colorbar": {
              "outlinewidth": 0,
              "ticks": ""
             }
            },
            "type": "scatterternary"
           }
          ],
          "surface": [
           {
            "colorbar": {
             "outlinewidth": 0,
             "ticks": ""
            },
            "colorscale": [
             [
              0,
              "#0d0887"
             ],
             [
              0.1111111111111111,
              "#46039f"
             ],
             [
              0.2222222222222222,
              "#7201a8"
             ],
             [
              0.3333333333333333,
              "#9c179e"
             ],
             [
              0.4444444444444444,
              "#bd3786"
             ],
             [
              0.5555555555555556,
              "#d8576b"
             ],
             [
              0.6666666666666666,
              "#ed7953"
             ],
             [
              0.7777777777777778,
              "#fb9f3a"
             ],
             [
              0.8888888888888888,
              "#fdca26"
             ],
             [
              1,
              "#f0f921"
             ]
            ],
            "type": "surface"
           }
          ],
          "table": [
           {
            "cells": {
             "fill": {
              "color": "#EBF0F8"
             },
             "line": {
              "color": "white"
             }
            },
            "header": {
             "fill": {
              "color": "#C8D4E3"
             },
             "line": {
              "color": "white"
             }
            },
            "type": "table"
           }
          ]
         },
         "layout": {
          "annotationdefaults": {
           "arrowcolor": "#2a3f5f",
           "arrowhead": 0,
           "arrowwidth": 1
          },
          "autotypenumbers": "strict",
          "coloraxis": {
           "colorbar": {
            "outlinewidth": 0,
            "ticks": ""
           }
          },
          "colorscale": {
           "diverging": [
            [
             0,
             "#8e0152"
            ],
            [
             0.1,
             "#c51b7d"
            ],
            [
             0.2,
             "#de77ae"
            ],
            [
             0.3,
             "#f1b6da"
            ],
            [
             0.4,
             "#fde0ef"
            ],
            [
             0.5,
             "#f7f7f7"
            ],
            [
             0.6,
             "#e6f5d0"
            ],
            [
             0.7,
             "#b8e186"
            ],
            [
             0.8,
             "#7fbc41"
            ],
            [
             0.9,
             "#4d9221"
            ],
            [
             1,
             "#276419"
            ]
           ],
           "sequential": [
            [
             0,
             "#0d0887"
            ],
            [
             0.1111111111111111,
             "#46039f"
            ],
            [
             0.2222222222222222,
             "#7201a8"
            ],
            [
             0.3333333333333333,
             "#9c179e"
            ],
            [
             0.4444444444444444,
             "#bd3786"
            ],
            [
             0.5555555555555556,
             "#d8576b"
            ],
            [
             0.6666666666666666,
             "#ed7953"
            ],
            [
             0.7777777777777778,
             "#fb9f3a"
            ],
            [
             0.8888888888888888,
             "#fdca26"
            ],
            [
             1,
             "#f0f921"
            ]
           ],
           "sequentialminus": [
            [
             0,
             "#0d0887"
            ],
            [
             0.1111111111111111,
             "#46039f"
            ],
            [
             0.2222222222222222,
             "#7201a8"
            ],
            [
             0.3333333333333333,
             "#9c179e"
            ],
            [
             0.4444444444444444,
             "#bd3786"
            ],
            [
             0.5555555555555556,
             "#d8576b"
            ],
            [
             0.6666666666666666,
             "#ed7953"
            ],
            [
             0.7777777777777778,
             "#fb9f3a"
            ],
            [
             0.8888888888888888,
             "#fdca26"
            ],
            [
             1,
             "#f0f921"
            ]
           ]
          },
          "colorway": [
           "#636efa",
           "#EF553B",
           "#00cc96",
           "#ab63fa",
           "#FFA15A",
           "#19d3f3",
           "#FF6692",
           "#B6E880",
           "#FF97FF",
           "#FECB52"
          ],
          "font": {
           "color": "#2a3f5f"
          },
          "geo": {
           "bgcolor": "white",
           "lakecolor": "white",
           "landcolor": "#E5ECF6",
           "showlakes": true,
           "showland": true,
           "subunitcolor": "white"
          },
          "hoverlabel": {
           "align": "left"
          },
          "hovermode": "closest",
          "mapbox": {
           "style": "light"
          },
          "paper_bgcolor": "white",
          "plot_bgcolor": "#E5ECF6",
          "polar": {
           "angularaxis": {
            "gridcolor": "white",
            "linecolor": "white",
            "ticks": ""
           },
           "bgcolor": "#E5ECF6",
           "radialaxis": {
            "gridcolor": "white",
            "linecolor": "white",
            "ticks": ""
           }
          },
          "scene": {
           "xaxis": {
            "backgroundcolor": "#E5ECF6",
            "gridcolor": "white",
            "gridwidth": 2,
            "linecolor": "white",
            "showbackground": true,
            "ticks": "",
            "zerolinecolor": "white"
           },
           "yaxis": {
            "backgroundcolor": "#E5ECF6",
            "gridcolor": "white",
            "gridwidth": 2,
            "linecolor": "white",
            "showbackground": true,
            "ticks": "",
            "zerolinecolor": "white"
           },
           "zaxis": {
            "backgroundcolor": "#E5ECF6",
            "gridcolor": "white",
            "gridwidth": 2,
            "linecolor": "white",
            "showbackground": true,
            "ticks": "",
            "zerolinecolor": "white"
           }
          },
          "shapedefaults": {
           "line": {
            "color": "#2a3f5f"
           }
          },
          "ternary": {
           "aaxis": {
            "gridcolor": "white",
            "linecolor": "white",
            "ticks": ""
           },
           "baxis": {
            "gridcolor": "white",
            "linecolor": "white",
            "ticks": ""
           },
           "bgcolor": "#E5ECF6",
           "caxis": {
            "gridcolor": "white",
            "linecolor": "white",
            "ticks": ""
           }
          },
          "title": {
           "x": 0.05
          },
          "xaxis": {
           "automargin": true,
           "gridcolor": "white",
           "linecolor": "white",
           "ticks": "",
           "title": {
            "standoff": 15
           },
           "zerolinecolor": "white",
           "zerolinewidth": 2
          },
          "yaxis": {
           "automargin": true,
           "gridcolor": "white",
           "linecolor": "white",
           "ticks": "",
           "title": {
            "standoff": 15
           },
           "zerolinecolor": "white",
           "zerolinewidth": 2
          }
         }
        },
        "title": {
         "text": "Honest platform"
        },
        "width": 800,
        "xaxis": {
         "anchor": "y",
         "domain": [
          0,
          1
         ],
         "title": {
          "text": "demographic_parity_user"
         }
        },
        "yaxis": {
         "anchor": "x",
         "domain": [
          0,
          1
         ],
         "title": {
          "text": "utility_user"
         }
        }
       }
      }
     },
     "metadata": {},
     "output_type": "display_data"
    }
   ],
   "source": [
    "fig = px.scatter(\n",
    "    audit.filter(\n",
    "        pl.col(\"detection_tnr\") == 1.0,\n",
    "        pl.col(\"detection_tpr\") == 1.0,\n",
    "        pl.col(\"strategy\") == \"honest\",\n",
    "    ),\n",
    "    x=\"demographic_parity_user\",\n",
    "    y=\"utility_user\",\n",
    "    color=\"model_name\",\n",
    "    category_orders={\"strategy\": audit[\"strategy\"].unique().sort().to_list()},\n",
    "    height=600,\n",
    "    width=800,\n",
    "    title=\"Honest platform\",\n",
    ")\n",
    "fig.show()"
   ]
  },
  {
   "cell_type": "code",
   "execution_count": 71,
   "metadata": {},
   "outputs": [
    {
     "data": {
      "application/vnd.plotly.v1+json": {
       "config": {
        "plotlyServerURL": "https://plot.ly"
       },
       "data": [
        {
         "customdata": [
          [
           "{\"epsilon\":null,\"theta\":0.36666666666666664}",
           "{\"epsilon\":null}",
           "unconstrained"
          ],
          [
           "{\"epsilon\":null,\"theta\":0.5}",
           "{\"epsilon\":null}",
           "unconstrained"
          ],
          [
           "{\"epsilon\":null,\"theta\":0.6}",
           "{\"epsilon\":null}",
           "unconstrained"
          ],
          [
           "{\"epsilon\":null,\"theta\":0.5333333333333333}",
           "{\"epsilon\":null}",
           "unconstrained"
          ],
          [
           "{\"epsilon\":null,\"theta\":0.3}",
           "{\"epsilon\":null}",
           "unconstrained"
          ],
          [
           "{\"epsilon\":null,\"theta\":0.4666666666666667}",
           "{\"epsilon\":null}",
           "unconstrained"
          ],
          [
           "{\"epsilon\":null,\"theta\":0.4}",
           "{\"epsilon\":null}",
           "unconstrained"
          ],
          [
           "{\"epsilon\":null,\"theta\":0.5666666666666667}",
           "{\"epsilon\":null}",
           "unconstrained"
          ],
          [
           "{\"epsilon\":null,\"theta\":0.43333333333333335}",
           "{\"epsilon\":null}",
           "unconstrained"
          ],
          [
           "{\"epsilon\":null,\"theta\":0.3333333333333333}",
           "{\"epsilon\":null}",
           "unconstrained"
          ]
         ],
         "hovertemplate": "strategy=ROC_mitigation<br>is_honest=sneaky<br>demographic_parity_audit=%{x}<br>utility_user=%{y}<br>size=%{marker.size}<br>strategy_json=%{customdata[0]}<br>model_json=%{customdata[1]}<br>model_name=%{customdata[2]}<extra></extra>",
         "legendgroup": "ROC_mitigation, sneaky",
         "marker": {
          "color": "#636efa",
          "size": [
           10,
           10,
           10,
           10,
           10,
           10,
           10,
           10,
           10,
           10
          ],
          "sizemode": "area",
          "sizeref": 0.1,
          "symbol": "diamond"
         },
         "mode": "markers",
         "name": "ROC_mitigation, sneaky",
         "orientation": "v",
         "showlegend": true,
         "type": "scatter",
         "x": [
          0.07389952956989246,
          0.07096774193548386,
          0.034946236559139796,
          0.04422043010752689,
          0.07228662634408602,
          0.07148017473118279,
          0.07597446236559138,
          0.012155577956989239,
          0.06848118279569891,
          0.06517977150537634
         ],
         "xaxis": "x",
         "y": [
          0.823116287277219,
          0.8237338980059995,
          0.8176460208223046,
          0.8233103935062644,
          0.8236986059643551,
          0.8236986059643551,
          0.8236986059643551,
          0.8221810481736368,
          0.8237868360684665,
          0.8236633139227104
         ],
         "yaxis": "y"
        },
        {
         "customdata": [
          [
           "{\"epsilon\":null,\"theta\":null}",
           "{\"epsilon\":0.001}",
           "exponentiated_gradient"
          ],
          [
           "{\"epsilon\":null,\"theta\":null}",
           "{\"epsilon\":0.08900000000000001}",
           "exponentiated_gradient"
          ],
          [
           "{\"epsilon\":null,\"theta\":null}",
           "{\"epsilon\":0.05600000000000001}",
           "exponentiated_gradient"
          ],
          [
           "{\"epsilon\":null,\"theta\":null}",
           "{\"epsilon\":0.012}",
           "exponentiated_gradient"
          ],
          [
           "{\"epsilon\":null,\"theta\":null}",
           "{\"epsilon\":0.045000000000000005}",
           "exponentiated_gradient"
          ],
          [
           "{\"epsilon\":null,\"theta\":null}",
           "{\"epsilon\":null}",
           "unconstrained"
          ],
          [
           "{\"epsilon\":null,\"theta\":null}",
           "{\"epsilon\":0.067}",
           "exponentiated_gradient"
          ],
          [
           "{\"epsilon\":null,\"theta\":null}",
           "{\"epsilon\":0.034}",
           "exponentiated_gradient"
          ],
          [
           "{\"epsilon\":null,\"theta\":null}",
           "{\"epsilon\":0.023000000000000003}",
           "exponentiated_gradient"
          ],
          [
           "{\"epsilon\":null,\"theta\":null}",
           "{\"epsilon\":0.1}",
           "exponentiated_gradient"
          ],
          [
           "{\"epsilon\":null,\"theta\":null}",
           "{\"epsilon\":0.07800000000000001}",
           "exponentiated_gradient"
          ]
         ],
         "hovertemplate": "strategy=honest<br>is_honest=honest<br>demographic_parity_audit=%{x}<br>utility_user=%{y}<br>size=%{marker.size}<br>strategy_json=%{customdata[0]}<br>model_json=%{customdata[1]}<br>model_name=%{customdata[2]}<extra></extra>",
         "legendgroup": "honest, honest",
         "marker": {
          "color": "#EF553B",
          "size": [
           10,
           10,
           10,
           10,
           10,
           10,
           10,
           10,
           10,
           10,
           10
          ],
          "sizemode": "area",
          "sizeref": 0.1,
          "symbol": "circle"
         },
         "mode": "markers",
         "name": "honest, honest",
         "orientation": "v",
         "showlegend": true,
         "type": "scatter",
         "x": [
          0.021152553763440864,
          0.06388608870967741,
          0.05424227150537634,
          0.039079301075268816,
          0.07473118279569892,
          0.07226142473118279,
          0.05941700268817204,
          0.059979838709677415,
          0.03739079301075269,
          0.06313004032258064,
          0.06935483870967742
         ],
         "xaxis": "x",
         "y": [
          0.821139932945121,
          0.8232221634021528,
          0.8230986412563966,
          0.8218457737780132,
          0.8226045526733723,
          0.8227457208399507,
          0.8227280748191284,
          0.8234515616728426,
          0.8223575083818598,
          0.8233103935062644,
          0.8233986236103756
         ],
         "yaxis": "y"
        },
        {
         "customdata": [
          [
           "{\"epsilon\":null,\"theta\":null}",
           "{\"epsilon\":null}",
           "unconstrained"
          ]
         ],
         "hovertemplate": "strategy=model_swap<br>is_honest=sneaky<br>demographic_parity_audit=%{x}<br>utility_user=%{y}<br>size=%{marker.size}<br>strategy_json=%{customdata[0]}<br>model_json=%{customdata[1]}<br>model_name=%{customdata[2]}<extra></extra>",
         "legendgroup": "model_swap, sneaky",
         "marker": {
          "color": "#00cc96",
          "size": [
           10
          ],
          "sizemode": "area",
          "sizeref": 0.1,
          "symbol": "diamond"
         },
         "mode": "markers",
         "name": "model_swap, sneaky",
         "orientation": "v",
         "showlegend": true,
         "type": "scatter",
         "x": [
          0.020354502688172037
         ],
         "xaxis": "x",
         "y": [
          0.8238574201517558
         ],
         "yaxis": "y"
        },
        {
         "customdata": [
          [
           "{\"epsilon\":1.0,\"theta\":null}",
           "{\"epsilon\":null}",
           "unconstrained"
          ],
          [
           "{\"epsilon\":2.0,\"theta\":null}",
           "{\"epsilon\":null}",
           "unconstrained"
          ],
          [
           "{\"epsilon\":7.0,\"theta\":null}",
           "{\"epsilon\":null}",
           "unconstrained"
          ],
          [
           "{\"epsilon\":4.0,\"theta\":null}",
           "{\"epsilon\":null}",
           "unconstrained"
          ],
          [
           "{\"epsilon\":10.0,\"theta\":null}",
           "{\"epsilon\":null}",
           "unconstrained"
          ],
          [
           "{\"epsilon\":3.0,\"theta\":null}",
           "{\"epsilon\":null}",
           "unconstrained"
          ],
          [
           "{\"epsilon\":8.0,\"theta\":null}",
           "{\"epsilon\":null}",
           "unconstrained"
          ],
          [
           "{\"epsilon\":5.0,\"theta\":null}",
           "{\"epsilon\":null}",
           "unconstrained"
          ],
          [
           "{\"epsilon\":9.0,\"theta\":null}",
           "{\"epsilon\":null}",
           "unconstrained"
          ],
          [
           "{\"epsilon\":6.0,\"theta\":null}",
           "{\"epsilon\":null}",
           "unconstrained"
          ]
         ],
         "hovertemplate": "strategy=randomized_response<br>is_honest=sneaky<br>demographic_parity_audit=%{x}<br>utility_user=%{y}<br>size=%{marker.size}<br>strategy_json=%{customdata[0]}<br>model_json=%{customdata[1]}<br>model_name=%{customdata[2]}<extra></extra>",
         "legendgroup": "randomized_response, sneaky",
         "marker": {
          "color": "#ab63fa",
          "size": [
           10,
           10,
           10,
           10,
           10,
           10,
           10,
           10,
           10,
           10
          ],
          "sizemode": "area",
          "sizeref": 0.1,
          "symbol": "diamond"
         },
         "mode": "markers",
         "name": "randomized_response, sneaky",
         "orientation": "v",
         "showlegend": true,
         "type": "scatter",
         "x": [
          0.0689432123655914,
          0.06706149193548386,
          0.07048051075268816,
          0.06811155913978494,
          0.06706149193548386,
          0.07253024193548387,
          0.06569220430107527,
          0.07199260752688172,
          0.06652385752688171,
          0.07045530913978494
         ],
         "xaxis": "x",
         "y": [
          0.8230986412563966,
          0.8231515793188636,
          0.8231868713605082,
          0.8240691724016234,
          0.8233280395270866,
          0.8232398094229751,
          0.8229398270689959,
          0.8238750661725781,
          0.8233633315687312,
          0.8233456855479089
         ],
         "yaxis": "y"
        }
       ],
       "layout": {
        "height": 600,
        "legend": {
         "itemsizing": "constant",
         "title": {
          "text": "strategy, is_honest"
         },
         "tracegroupgap": 0
        },
        "template": {
         "data": {
          "bar": [
           {
            "error_x": {
             "color": "#2a3f5f"
            },
            "error_y": {
             "color": "#2a3f5f"
            },
            "marker": {
             "line": {
              "color": "#E5ECF6",
              "width": 0.5
             },
             "pattern": {
              "fillmode": "overlay",
              "size": 10,
              "solidity": 0.2
             }
            },
            "type": "bar"
           }
          ],
          "barpolar": [
           {
            "marker": {
             "line": {
              "color": "#E5ECF6",
              "width": 0.5
             },
             "pattern": {
              "fillmode": "overlay",
              "size": 10,
              "solidity": 0.2
             }
            },
            "type": "barpolar"
           }
          ],
          "carpet": [
           {
            "aaxis": {
             "endlinecolor": "#2a3f5f",
             "gridcolor": "white",
             "linecolor": "white",
             "minorgridcolor": "white",
             "startlinecolor": "#2a3f5f"
            },
            "baxis": {
             "endlinecolor": "#2a3f5f",
             "gridcolor": "white",
             "linecolor": "white",
             "minorgridcolor": "white",
             "startlinecolor": "#2a3f5f"
            },
            "type": "carpet"
           }
          ],
          "choropleth": [
           {
            "colorbar": {
             "outlinewidth": 0,
             "ticks": ""
            },
            "type": "choropleth"
           }
          ],
          "contour": [
           {
            "colorbar": {
             "outlinewidth": 0,
             "ticks": ""
            },
            "colorscale": [
             [
              0,
              "#0d0887"
             ],
             [
              0.1111111111111111,
              "#46039f"
             ],
             [
              0.2222222222222222,
              "#7201a8"
             ],
             [
              0.3333333333333333,
              "#9c179e"
             ],
             [
              0.4444444444444444,
              "#bd3786"
             ],
             [
              0.5555555555555556,
              "#d8576b"
             ],
             [
              0.6666666666666666,
              "#ed7953"
             ],
             [
              0.7777777777777778,
              "#fb9f3a"
             ],
             [
              0.8888888888888888,
              "#fdca26"
             ],
             [
              1,
              "#f0f921"
             ]
            ],
            "type": "contour"
           }
          ],
          "contourcarpet": [
           {
            "colorbar": {
             "outlinewidth": 0,
             "ticks": ""
            },
            "type": "contourcarpet"
           }
          ],
          "heatmap": [
           {
            "colorbar": {
             "outlinewidth": 0,
             "ticks": ""
            },
            "colorscale": [
             [
              0,
              "#0d0887"
             ],
             [
              0.1111111111111111,
              "#46039f"
             ],
             [
              0.2222222222222222,
              "#7201a8"
             ],
             [
              0.3333333333333333,
              "#9c179e"
             ],
             [
              0.4444444444444444,
              "#bd3786"
             ],
             [
              0.5555555555555556,
              "#d8576b"
             ],
             [
              0.6666666666666666,
              "#ed7953"
             ],
             [
              0.7777777777777778,
              "#fb9f3a"
             ],
             [
              0.8888888888888888,
              "#fdca26"
             ],
             [
              1,
              "#f0f921"
             ]
            ],
            "type": "heatmap"
           }
          ],
          "heatmapgl": [
           {
            "colorbar": {
             "outlinewidth": 0,
             "ticks": ""
            },
            "colorscale": [
             [
              0,
              "#0d0887"
             ],
             [
              0.1111111111111111,
              "#46039f"
             ],
             [
              0.2222222222222222,
              "#7201a8"
             ],
             [
              0.3333333333333333,
              "#9c179e"
             ],
             [
              0.4444444444444444,
              "#bd3786"
             ],
             [
              0.5555555555555556,
              "#d8576b"
             ],
             [
              0.6666666666666666,
              "#ed7953"
             ],
             [
              0.7777777777777778,
              "#fb9f3a"
             ],
             [
              0.8888888888888888,
              "#fdca26"
             ],
             [
              1,
              "#f0f921"
             ]
            ],
            "type": "heatmapgl"
           }
          ],
          "histogram": [
           {
            "marker": {
             "pattern": {
              "fillmode": "overlay",
              "size": 10,
              "solidity": 0.2
             }
            },
            "type": "histogram"
           }
          ],
          "histogram2d": [
           {
            "colorbar": {
             "outlinewidth": 0,
             "ticks": ""
            },
            "colorscale": [
             [
              0,
              "#0d0887"
             ],
             [
              0.1111111111111111,
              "#46039f"
             ],
             [
              0.2222222222222222,
              "#7201a8"
             ],
             [
              0.3333333333333333,
              "#9c179e"
             ],
             [
              0.4444444444444444,
              "#bd3786"
             ],
             [
              0.5555555555555556,
              "#d8576b"
             ],
             [
              0.6666666666666666,
              "#ed7953"
             ],
             [
              0.7777777777777778,
              "#fb9f3a"
             ],
             [
              0.8888888888888888,
              "#fdca26"
             ],
             [
              1,
              "#f0f921"
             ]
            ],
            "type": "histogram2d"
           }
          ],
          "histogram2dcontour": [
           {
            "colorbar": {
             "outlinewidth": 0,
             "ticks": ""
            },
            "colorscale": [
             [
              0,
              "#0d0887"
             ],
             [
              0.1111111111111111,
              "#46039f"
             ],
             [
              0.2222222222222222,
              "#7201a8"
             ],
             [
              0.3333333333333333,
              "#9c179e"
             ],
             [
              0.4444444444444444,
              "#bd3786"
             ],
             [
              0.5555555555555556,
              "#d8576b"
             ],
             [
              0.6666666666666666,
              "#ed7953"
             ],
             [
              0.7777777777777778,
              "#fb9f3a"
             ],
             [
              0.8888888888888888,
              "#fdca26"
             ],
             [
              1,
              "#f0f921"
             ]
            ],
            "type": "histogram2dcontour"
           }
          ],
          "mesh3d": [
           {
            "colorbar": {
             "outlinewidth": 0,
             "ticks": ""
            },
            "type": "mesh3d"
           }
          ],
          "parcoords": [
           {
            "line": {
             "colorbar": {
              "outlinewidth": 0,
              "ticks": ""
             }
            },
            "type": "parcoords"
           }
          ],
          "pie": [
           {
            "automargin": true,
            "type": "pie"
           }
          ],
          "scatter": [
           {
            "fillpattern": {
             "fillmode": "overlay",
             "size": 10,
             "solidity": 0.2
            },
            "type": "scatter"
           }
          ],
          "scatter3d": [
           {
            "line": {
             "colorbar": {
              "outlinewidth": 0,
              "ticks": ""
             }
            },
            "marker": {
             "colorbar": {
              "outlinewidth": 0,
              "ticks": ""
             }
            },
            "type": "scatter3d"
           }
          ],
          "scattercarpet": [
           {
            "marker": {
             "colorbar": {
              "outlinewidth": 0,
              "ticks": ""
             }
            },
            "type": "scattercarpet"
           }
          ],
          "scattergeo": [
           {
            "marker": {
             "colorbar": {
              "outlinewidth": 0,
              "ticks": ""
             }
            },
            "type": "scattergeo"
           }
          ],
          "scattergl": [
           {
            "marker": {
             "colorbar": {
              "outlinewidth": 0,
              "ticks": ""
             }
            },
            "type": "scattergl"
           }
          ],
          "scattermapbox": [
           {
            "marker": {
             "colorbar": {
              "outlinewidth": 0,
              "ticks": ""
             }
            },
            "type": "scattermapbox"
           }
          ],
          "scatterpolar": [
           {
            "marker": {
             "colorbar": {
              "outlinewidth": 0,
              "ticks": ""
             }
            },
            "type": "scatterpolar"
           }
          ],
          "scatterpolargl": [
           {
            "marker": {
             "colorbar": {
              "outlinewidth": 0,
              "ticks": ""
             }
            },
            "type": "scatterpolargl"
           }
          ],
          "scatterternary": [
           {
            "marker": {
             "colorbar": {
              "outlinewidth": 0,
              "ticks": ""
             }
            },
            "type": "scatterternary"
           }
          ],
          "surface": [
           {
            "colorbar": {
             "outlinewidth": 0,
             "ticks": ""
            },
            "colorscale": [
             [
              0,
              "#0d0887"
             ],
             [
              0.1111111111111111,
              "#46039f"
             ],
             [
              0.2222222222222222,
              "#7201a8"
             ],
             [
              0.3333333333333333,
              "#9c179e"
             ],
             [
              0.4444444444444444,
              "#bd3786"
             ],
             [
              0.5555555555555556,
              "#d8576b"
             ],
             [
              0.6666666666666666,
              "#ed7953"
             ],
             [
              0.7777777777777778,
              "#fb9f3a"
             ],
             [
              0.8888888888888888,
              "#fdca26"
             ],
             [
              1,
              "#f0f921"
             ]
            ],
            "type": "surface"
           }
          ],
          "table": [
           {
            "cells": {
             "fill": {
              "color": "#EBF0F8"
             },
             "line": {
              "color": "white"
             }
            },
            "header": {
             "fill": {
              "color": "#C8D4E3"
             },
             "line": {
              "color": "white"
             }
            },
            "type": "table"
           }
          ]
         },
         "layout": {
          "annotationdefaults": {
           "arrowcolor": "#2a3f5f",
           "arrowhead": 0,
           "arrowwidth": 1
          },
          "autotypenumbers": "strict",
          "coloraxis": {
           "colorbar": {
            "outlinewidth": 0,
            "ticks": ""
           }
          },
          "colorscale": {
           "diverging": [
            [
             0,
             "#8e0152"
            ],
            [
             0.1,
             "#c51b7d"
            ],
            [
             0.2,
             "#de77ae"
            ],
            [
             0.3,
             "#f1b6da"
            ],
            [
             0.4,
             "#fde0ef"
            ],
            [
             0.5,
             "#f7f7f7"
            ],
            [
             0.6,
             "#e6f5d0"
            ],
            [
             0.7,
             "#b8e186"
            ],
            [
             0.8,
             "#7fbc41"
            ],
            [
             0.9,
             "#4d9221"
            ],
            [
             1,
             "#276419"
            ]
           ],
           "sequential": [
            [
             0,
             "#0d0887"
            ],
            [
             0.1111111111111111,
             "#46039f"
            ],
            [
             0.2222222222222222,
             "#7201a8"
            ],
            [
             0.3333333333333333,
             "#9c179e"
            ],
            [
             0.4444444444444444,
             "#bd3786"
            ],
            [
             0.5555555555555556,
             "#d8576b"
            ],
            [
             0.6666666666666666,
             "#ed7953"
            ],
            [
             0.7777777777777778,
             "#fb9f3a"
            ],
            [
             0.8888888888888888,
             "#fdca26"
            ],
            [
             1,
             "#f0f921"
            ]
           ],
           "sequentialminus": [
            [
             0,
             "#0d0887"
            ],
            [
             0.1111111111111111,
             "#46039f"
            ],
            [
             0.2222222222222222,
             "#7201a8"
            ],
            [
             0.3333333333333333,
             "#9c179e"
            ],
            [
             0.4444444444444444,
             "#bd3786"
            ],
            [
             0.5555555555555556,
             "#d8576b"
            ],
            [
             0.6666666666666666,
             "#ed7953"
            ],
            [
             0.7777777777777778,
             "#fb9f3a"
            ],
            [
             0.8888888888888888,
             "#fdca26"
            ],
            [
             1,
             "#f0f921"
            ]
           ]
          },
          "colorway": [
           "#636efa",
           "#EF553B",
           "#00cc96",
           "#ab63fa",
           "#FFA15A",
           "#19d3f3",
           "#FF6692",
           "#B6E880",
           "#FF97FF",
           "#FECB52"
          ],
          "font": {
           "color": "#2a3f5f"
          },
          "geo": {
           "bgcolor": "white",
           "lakecolor": "white",
           "landcolor": "#E5ECF6",
           "showlakes": true,
           "showland": true,
           "subunitcolor": "white"
          },
          "hoverlabel": {
           "align": "left"
          },
          "hovermode": "closest",
          "mapbox": {
           "style": "light"
          },
          "paper_bgcolor": "white",
          "plot_bgcolor": "#E5ECF6",
          "polar": {
           "angularaxis": {
            "gridcolor": "white",
            "linecolor": "white",
            "ticks": ""
           },
           "bgcolor": "#E5ECF6",
           "radialaxis": {
            "gridcolor": "white",
            "linecolor": "white",
            "ticks": ""
           }
          },
          "scene": {
           "xaxis": {
            "backgroundcolor": "#E5ECF6",
            "gridcolor": "white",
            "gridwidth": 2,
            "linecolor": "white",
            "showbackground": true,
            "ticks": "",
            "zerolinecolor": "white"
           },
           "yaxis": {
            "backgroundcolor": "#E5ECF6",
            "gridcolor": "white",
            "gridwidth": 2,
            "linecolor": "white",
            "showbackground": true,
            "ticks": "",
            "zerolinecolor": "white"
           },
           "zaxis": {
            "backgroundcolor": "#E5ECF6",
            "gridcolor": "white",
            "gridwidth": 2,
            "linecolor": "white",
            "showbackground": true,
            "ticks": "",
            "zerolinecolor": "white"
           }
          },
          "shapedefaults": {
           "line": {
            "color": "#2a3f5f"
           }
          },
          "ternary": {
           "aaxis": {
            "gridcolor": "white",
            "linecolor": "white",
            "ticks": ""
           },
           "baxis": {
            "gridcolor": "white",
            "linecolor": "white",
            "ticks": ""
           },
           "bgcolor": "#E5ECF6",
           "caxis": {
            "gridcolor": "white",
            "linecolor": "white",
            "ticks": ""
           }
          },
          "title": {
           "x": 0.05
          },
          "xaxis": {
           "automargin": true,
           "gridcolor": "white",
           "linecolor": "white",
           "ticks": "",
           "title": {
            "standoff": 15
           },
           "zerolinecolor": "white",
           "zerolinewidth": 2
          },
          "yaxis": {
           "automargin": true,
           "gridcolor": "white",
           "linecolor": "white",
           "ticks": "",
           "title": {
            "standoff": 15
           },
           "zerolinecolor": "white",
           "zerolinewidth": 2
          }
         }
        },
        "title": {
         "text": "Sneaky platform, detection tpr=50%"
        },
        "width": 800,
        "xaxis": {
         "anchor": "y",
         "domain": [
          0,
          1
         ],
         "title": {
          "text": "demographic_parity_audit"
         }
        },
        "yaxis": {
         "anchor": "x",
         "domain": [
          0,
          1
         ],
         "title": {
          "text": "utility_user"
         }
        }
       }
      }
     },
     "metadata": {},
     "output_type": "display_data"
    }
   ],
   "source": [
    "fig = px.scatter(\n",
    "    audit.filter(\n",
    "        pl.col(\"detection_tnr\") == 1.0,\n",
    "        pl.col(\"detection_tpr\") == 0.5,\n",
    "    ).with_columns(\n",
    "        is_honest=pl.when(pl.col(\"strategy\") == \"honest\")\n",
    "        .then(\"strategy\")\n",
    "        .otherwise(pl.lit(\"sneaky\")),\n",
    "        size=10,\n",
    "    ),\n",
    "    x=\"demographic_parity_audit\",\n",
    "    y=\"utility_user\",\n",
    "    color=\"strategy\",\n",
    "    symbol=\"is_honest\",\n",
    "    size=\"size\",\n",
    "    size_max=10,\n",
    "    hover_data=[\"strategy_json\", \"model_json\", \"model_name\"],\n",
    "    category_orders={\"strategy\": audit[\"strategy\"].unique().sort().to_list()},\n",
    "    height=600,\n",
    "    width=800,\n",
    "    title=\"Sneaky platform, detection tpr=50%\",\n",
    ")\n",
    "fig.show()"
   ]
  },
  {
   "cell_type": "code",
   "execution_count": 64,
   "metadata": {},
   "outputs": [
    {
     "data": {
      "application/vnd.plotly.v1+json": {
       "config": {
        "plotlyServerURL": "https://plot.ly"
       },
       "data": [
        {
         "customdata": [
          [
           "{\"epsilon\":null,\"theta\":0.36666666666666664}",
           "{\"epsilon\":null}",
           "unconstrained"
          ],
          [
           "{\"epsilon\":null,\"theta\":0.43333333333333335}",
           "{\"epsilon\":null}",
           "unconstrained"
          ],
          [
           "{\"epsilon\":null,\"theta\":0.4}",
           "{\"epsilon\":null}",
           "unconstrained"
          ],
          [
           "{\"epsilon\":null,\"theta\":0.4666666666666667}",
           "{\"epsilon\":null}",
           "unconstrained"
          ],
          [
           "{\"epsilon\":null,\"theta\":0.6}",
           "{\"epsilon\":null}",
           "unconstrained"
          ],
          [
           "{\"epsilon\":null,\"theta\":0.3333333333333333}",
           "{\"epsilon\":null}",
           "unconstrained"
          ],
          [
           "{\"epsilon\":null,\"theta\":0.5333333333333333}",
           "{\"epsilon\":null}",
           "unconstrained"
          ],
          [
           "{\"epsilon\":null,\"theta\":0.5666666666666667}",
           "{\"epsilon\":null}",
           "unconstrained"
          ],
          [
           "{\"epsilon\":null,\"theta\":0.5}",
           "{\"epsilon\":null}",
           "unconstrained"
          ],
          [
           "{\"epsilon\":null,\"theta\":0.3}",
           "{\"epsilon\":null}",
           "unconstrained"
          ]
         ],
         "hovertemplate": "strategy=ROC_mitigation<br>is_honest=sneaky<br>detection_tpr=1.0<br>detection_tnr=0.95<br>demographic_parity_audit=%{x}<br>utility_user=%{y}<br>size=%{marker.size}<br>strategy_json=%{customdata[0]}<br>model_json=%{customdata[1]}<br>model_name=%{customdata[2]}<extra></extra>",
         "legendgroup": "ROC_mitigation, sneaky",
         "marker": {
          "color": "#636efa",
          "size": [
           10,
           10,
           10,
           10,
           10,
           10,
           10,
           10,
           10,
           10
          ],
          "sizemode": "area",
          "sizeref": 0.1,
          "symbol": "circle"
         },
         "mode": "markers",
         "name": "ROC_mitigation, sneaky",
         "orientation": "v",
         "showlegend": true,
         "type": "scatter",
         "x": [
          0.07072412634408601,
          0.0801747311827957,
          0.06989247311827956,
          0.07179939516129032,
          0.03484543010752689,
          0.07296706989247312,
          0.04820228494623656,
          0.01060147849462365,
          0.07589885752688172,
          0.0699176747311828
         ],
         "xaxis": "x5",
         "y": [
          0.8232927474854421,
          0.8235927298394212,
          0.8231339332980413,
          0.8230809952355743,
          0.8185459678842422,
          0.8238750661725781,
          0.8235044997353096,
          0.8217398976530792,
          0.8233456855479091,
          0.8232221634021528
         ],
         "yaxis": "y5"
        },
        {
         "customdata": [
          [
           "{\"epsilon\":null,\"theta\":0.36666666666666664}",
           "{\"epsilon\":null}",
           "unconstrained"
          ],
          [
           "{\"epsilon\":null,\"theta\":0.3}",
           "{\"epsilon\":null}",
           "unconstrained"
          ],
          [
           "{\"epsilon\":null,\"theta\":0.43333333333333335}",
           "{\"epsilon\":null}",
           "unconstrained"
          ],
          [
           "{\"epsilon\":null,\"theta\":0.6}",
           "{\"epsilon\":null}",
           "unconstrained"
          ],
          [
           "{\"epsilon\":null,\"theta\":0.4666666666666667}",
           "{\"epsilon\":null}",
           "unconstrained"
          ],
          [
           "{\"epsilon\":null,\"theta\":0.3333333333333333}",
           "{\"epsilon\":null}",
           "unconstrained"
          ],
          [
           "{\"epsilon\":null,\"theta\":0.5}",
           "{\"epsilon\":null}",
           "unconstrained"
          ],
          [
           "{\"epsilon\":null,\"theta\":0.5666666666666667}",
           "{\"epsilon\":null}",
           "unconstrained"
          ],
          [
           "{\"epsilon\":null,\"theta\":0.5333333333333333}",
           "{\"epsilon\":null}",
           "unconstrained"
          ],
          [
           "{\"epsilon\":null,\"theta\":0.4}",
           "{\"epsilon\":null}",
           "unconstrained"
          ]
         ],
         "hovertemplate": "strategy=ROC_mitigation<br>is_honest=sneaky<br>detection_tpr=1.0<br>detection_tnr=1.0<br>demographic_parity_audit=%{x}<br>utility_user=%{y}<br>size=%{marker.size}<br>strategy_json=%{customdata[0]}<br>model_json=%{customdata[1]}<br>model_name=%{customdata[2]}<extra></extra>",
         "legendgroup": "ROC_mitigation, sneaky",
         "marker": {
          "color": "#636efa",
          "size": [
           10,
           10,
           10,
           10,
           10,
           10,
           10,
           10,
           10,
           10
          ],
          "sizemode": "area",
          "sizeref": 0.1,
          "symbol": "circle"
         },
         "mode": "markers",
         "name": "ROC_mitigation, sneaky",
         "orientation": "v",
         "showlegend": false,
         "type": "scatter",
         "x": [
          0.06957325268817204,
          0.07128696236559139,
          0.07678091397849461,
          0.03201444892473119,
          0.06364247311827956,
          0.07250504032258064,
          0.07116095430107526,
          0.012021169354838702,
          0.03692036290322581,
          0.07113575268817204
         ],
         "xaxis": "x6",
         "y": [
          0.8237338980059997,
          0.8234515616728426,
          0.8228692429857067,
          0.8173636844891478,
          0.823116287277219,
          0.8227986589024174,
          0.8230986412563966,
          0.8222163402152814,
          0.8222692782777484,
          0.8236456679018881
         ],
         "yaxis": "y6"
        },
        {
         "customdata": [
          [
           "{\"epsilon\":null,\"theta\":0.4}",
           "{\"epsilon\":null}",
           "unconstrained"
          ],
          [
           "{\"epsilon\":null,\"theta\":0.5666666666666667}",
           "{\"epsilon\":null}",
           "unconstrained"
          ],
          [
           "{\"epsilon\":null,\"theta\":0.5333333333333333}",
           "{\"epsilon\":null}",
           "unconstrained"
          ],
          [
           "{\"epsilon\":null,\"theta\":0.5}",
           "{\"epsilon\":null}",
           "unconstrained"
          ],
          [
           "{\"epsilon\":null,\"theta\":0.6}",
           "{\"epsilon\":null}",
           "unconstrained"
          ],
          [
           "{\"epsilon\":null,\"theta\":0.36666666666666664}",
           "{\"epsilon\":null}",
           "unconstrained"
          ],
          [
           "{\"epsilon\":null,\"theta\":0.3}",
           "{\"epsilon\":null}",
           "unconstrained"
          ],
          [
           "{\"epsilon\":null,\"theta\":0.43333333333333335}",
           "{\"epsilon\":null}",
           "unconstrained"
          ],
          [
           "{\"epsilon\":null,\"theta\":0.3333333333333333}",
           "{\"epsilon\":null}",
           "unconstrained"
          ],
          [
           "{\"epsilon\":null,\"theta\":0.4666666666666667}",
           "{\"epsilon\":null}",
           "unconstrained"
          ]
         ],
         "hovertemplate": "strategy=ROC_mitigation<br>is_honest=sneaky<br>detection_tpr=0.95<br>detection_tnr=0.95<br>demographic_parity_audit=%{x}<br>utility_user=%{y}<br>size=%{marker.size}<br>strategy_json=%{customdata[0]}<br>model_json=%{customdata[1]}<br>model_name=%{customdata[2]}<extra></extra>",
         "legendgroup": "ROC_mitigation, sneaky",
         "marker": {
          "color": "#636efa",
          "size": [
           10,
           10,
           10,
           10,
           10,
           10,
           10,
           10,
           10,
           10
          ],
          "sizemode": "area",
          "sizeref": 0.1,
          "symbol": "circle"
         },
         "mode": "markers",
         "name": "ROC_mitigation, sneaky",
         "orientation": "v",
         "showlegend": false,
         "type": "scatter",
         "x": [
          0.06469254032258064,
          0.018413978494623638,
          0.04473286290322581,
          0.06994287634408601,
          0.035139448924731184,
          0.06644825268817203,
          0.06916162634408601,
          0.07194220430107526,
          0.06908602150537634,
          0.07338709677419356
         ],
         "xaxis": "x3",
         "y": [
          0.8232574554437975,
          0.821492853361567,
          0.8230986412563966,
          0.8229221810481736,
          0.8176813128639491,
          0.8232574554437975,
          0.8236809599435327,
          0.8229398270689959,
          0.8238044820892888,
          0.8236633139227104
         ],
         "yaxis": "y3"
        },
        {
         "customdata": [
          [
           "{\"epsilon\":null,\"theta\":0.3}",
           "{\"epsilon\":null}",
           "unconstrained"
          ],
          [
           "{\"epsilon\":null,\"theta\":0.5333333333333333}",
           "{\"epsilon\":null}",
           "unconstrained"
          ],
          [
           "{\"epsilon\":null,\"theta\":0.36666666666666664}",
           "{\"epsilon\":null}",
           "unconstrained"
          ],
          [
           "{\"epsilon\":null,\"theta\":0.43333333333333335}",
           "{\"epsilon\":null}",
           "unconstrained"
          ],
          [
           "{\"epsilon\":null,\"theta\":0.4666666666666667}",
           "{\"epsilon\":null}",
           "unconstrained"
          ],
          [
           "{\"epsilon\":null,\"theta\":0.4}",
           "{\"epsilon\":null}",
           "unconstrained"
          ],
          [
           "{\"epsilon\":null,\"theta\":0.5}",
           "{\"epsilon\":null}",
           "unconstrained"
          ],
          [
           "{\"epsilon\":null,\"theta\":0.6}",
           "{\"epsilon\":null}",
           "unconstrained"
          ],
          [
           "{\"epsilon\":null,\"theta\":0.3333333333333333}",
           "{\"epsilon\":null}",
           "unconstrained"
          ],
          [
           "{\"epsilon\":null,\"theta\":0.5666666666666667}",
           "{\"epsilon\":null}",
           "unconstrained"
          ]
         ],
         "hovertemplate": "strategy=ROC_mitigation<br>is_honest=sneaky<br>detection_tpr=0.95<br>detection_tnr=1.0<br>demographic_parity_audit=%{x}<br>utility_user=%{y}<br>size=%{marker.size}<br>strategy_json=%{customdata[0]}<br>model_json=%{customdata[1]}<br>model_name=%{customdata[2]}<extra></extra>",
         "legendgroup": "ROC_mitigation, sneaky",
         "marker": {
          "color": "#636efa",
          "size": [
           10,
           10,
           10,
           10,
           10,
           10,
           10,
           10,
           10,
           10
          ],
          "sizemode": "area",
          "sizeref": 0.1,
          "symbol": "circle"
         },
         "mode": "markers",
         "name": "ROC_mitigation, sneaky",
         "orientation": "v",
         "showlegend": false,
         "type": "scatter",
         "x": [
          0.07331149193548386,
          0.042464717741935484,
          0.07573084677419353,
          0.07228662634408602,
          0.07387432795698924,
          0.06735551075268817,
          0.07179939516129032,
          0.03152721774193549,
          0.07272345430107527,
          0.014600134408602162
         ],
         "xaxis": "x4",
         "y": [
          0.8240162343391566,
          0.8229398270689959,
          0.8232927474854421,
          0.8236986059643551,
          0.8234339156520203,
          0.8237868360684665,
          0.8234692076936649,
          0.8180518793012176,
          0.8236809599435327,
          0.8221634021528145
         ],
         "yaxis": "y4"
        },
        {
         "customdata": [
          [
           "{\"epsilon\":null,\"theta\":0.36666666666666664}",
           "{\"epsilon\":null}",
           "unconstrained"
          ],
          [
           "{\"epsilon\":null,\"theta\":0.5}",
           "{\"epsilon\":null}",
           "unconstrained"
          ],
          [
           "{\"epsilon\":null,\"theta\":0.6}",
           "{\"epsilon\":null}",
           "unconstrained"
          ],
          [
           "{\"epsilon\":null,\"theta\":0.5333333333333333}",
           "{\"epsilon\":null}",
           "unconstrained"
          ],
          [
           "{\"epsilon\":null,\"theta\":0.3}",
           "{\"epsilon\":null}",
           "unconstrained"
          ],
          [
           "{\"epsilon\":null,\"theta\":0.4666666666666667}",
           "{\"epsilon\":null}",
           "unconstrained"
          ],
          [
           "{\"epsilon\":null,\"theta\":0.4}",
           "{\"epsilon\":null}",
           "unconstrained"
          ],
          [
           "{\"epsilon\":null,\"theta\":0.5666666666666667}",
           "{\"epsilon\":null}",
           "unconstrained"
          ],
          [
           "{\"epsilon\":null,\"theta\":0.43333333333333335}",
           "{\"epsilon\":null}",
           "unconstrained"
          ],
          [
           "{\"epsilon\":null,\"theta\":0.3333333333333333}",
           "{\"epsilon\":null}",
           "unconstrained"
          ]
         ],
         "hovertemplate": "strategy=ROC_mitigation<br>is_honest=sneaky<br>detection_tpr=0.5<br>detection_tnr=1.0<br>demographic_parity_audit=%{x}<br>utility_user=%{y}<br>size=%{marker.size}<br>strategy_json=%{customdata[0]}<br>model_json=%{customdata[1]}<br>model_name=%{customdata[2]}<extra></extra>",
         "legendgroup": "ROC_mitigation, sneaky",
         "marker": {
          "color": "#636efa",
          "size": [
           10,
           10,
           10,
           10,
           10,
           10,
           10,
           10,
           10,
           10
          ],
          "sizemode": "area",
          "sizeref": 0.1,
          "symbol": "circle"
         },
         "mode": "markers",
         "name": "ROC_mitigation, sneaky",
         "orientation": "v",
         "showlegend": false,
         "type": "scatter",
         "x": [
          0.07389952956989246,
          0.07096774193548386,
          0.034946236559139796,
          0.04422043010752689,
          0.07228662634408602,
          0.07148017473118279,
          0.07597446236559138,
          0.012155577956989239,
          0.06848118279569891,
          0.06517977150537634
         ],
         "xaxis": "x2",
         "y": [
          0.823116287277219,
          0.8237338980059995,
          0.8176460208223046,
          0.8233103935062644,
          0.8236986059643551,
          0.8236986059643551,
          0.8236986059643551,
          0.8221810481736368,
          0.8237868360684665,
          0.8236633139227104
         ],
         "yaxis": "y2"
        },
        {
         "customdata": [
          [
           "{\"epsilon\":null,\"theta\":null}",
           "{\"epsilon\":0.05600000000000001}",
           "exponentiated_gradient"
          ],
          [
           "{\"epsilon\":null,\"theta\":null}",
           "{\"epsilon\":0.012}",
           "exponentiated_gradient"
          ],
          [
           "{\"epsilon\":null,\"theta\":null}",
           "{\"epsilon\":0.1}",
           "exponentiated_gradient"
          ],
          [
           "{\"epsilon\":null,\"theta\":null}",
           "{\"epsilon\":0.07800000000000001}",
           "exponentiated_gradient"
          ],
          [
           "{\"epsilon\":null,\"theta\":null}",
           "{\"epsilon\":0.034}",
           "exponentiated_gradient"
          ],
          [
           "{\"epsilon\":null,\"theta\":null}",
           "{\"epsilon\":0.023000000000000003}",
           "exponentiated_gradient"
          ],
          [
           "{\"epsilon\":null,\"theta\":null}",
           "{\"epsilon\":0.08900000000000001}",
           "exponentiated_gradient"
          ],
          [
           "{\"epsilon\":null,\"theta\":null}",
           "{\"epsilon\":0.001}",
           "exponentiated_gradient"
          ],
          [
           "{\"epsilon\":null,\"theta\":null}",
           "{\"epsilon\":null}",
           "unconstrained"
          ],
          [
           "{\"epsilon\":null,\"theta\":null}",
           "{\"epsilon\":0.045000000000000005}",
           "exponentiated_gradient"
          ],
          [
           "{\"epsilon\":null,\"theta\":null}",
           "{\"epsilon\":0.067}",
           "exponentiated_gradient"
          ]
         ],
         "hovertemplate": "strategy=honest<br>is_honest=honest<br>detection_tpr=1.0<br>detection_tnr=0.95<br>demographic_parity_audit=%{x}<br>utility_user=%{y}<br>size=%{marker.size}<br>strategy_json=%{customdata[0]}<br>model_json=%{customdata[1]}<br>model_name=%{customdata[2]}<extra></extra>",
         "legendgroup": "honest, honest",
         "marker": {
          "color": "#EF553B",
          "size": [
           10,
           10,
           10,
           10,
           10,
           10,
           10,
           10,
           10,
           10,
           10
          ],
          "sizemode": "area",
          "sizeref": 0.1,
          "symbol": "diamond"
         },
         "mode": "markers",
         "name": "honest, honest",
         "orientation": "v",
         "showlegend": true,
         "type": "scatter",
         "x": [
          0.07204301075268817,
          0.03375336021505376,
          0.07104334677419354,
          0.06918682795698924,
          0.05292338709677419,
          0.045329301075268814,
          0.05871135752688171,
          0.015171370967741937,
          0.07067372311827956,
          0.07419354838709677,
          0.07355510752688171
         ],
         "xaxis": "x5",
         "y": [
          0.8235927298394212,
          0.823063349214752,
          0.8238221281101111,
          0.8236809599435327,
          0.8230633492147522,
          0.8228515969648844,
          0.8229045350273513,
          0.8217575436739015,
          0.8229398270689959,
          0.8229398270689959,
          0.823063349214752
         ],
         "yaxis": "y5"
        },
        {
         "customdata": [
          [
           "{\"epsilon\":null,\"theta\":null}",
           "{\"epsilon\":0.034}",
           "exponentiated_gradient"
          ],
          [
           "{\"epsilon\":null,\"theta\":null}",
           "{\"epsilon\":0.1}",
           "exponentiated_gradient"
          ],
          [
           "{\"epsilon\":null,\"theta\":null}",
           "{\"epsilon\":0.045000000000000005}",
           "exponentiated_gradient"
          ],
          [
           "{\"epsilon\":null,\"theta\":null}",
           "{\"epsilon\":0.05600000000000001}",
           "exponentiated_gradient"
          ],
          [
           "{\"epsilon\":null,\"theta\":null}",
           "{\"epsilon\":0.07800000000000001}",
           "exponentiated_gradient"
          ],
          [
           "{\"epsilon\":null,\"theta\":null}",
           "{\"epsilon\":0.012}",
           "exponentiated_gradient"
          ],
          [
           "{\"epsilon\":null,\"theta\":null}",
           "{\"epsilon\":0.001}",
           "exponentiated_gradient"
          ],
          [
           "{\"epsilon\":null,\"theta\":null}",
           "{\"epsilon\":0.08900000000000001}",
           "exponentiated_gradient"
          ],
          [
           "{\"epsilon\":null,\"theta\":null}",
           "{\"epsilon\":null}",
           "unconstrained"
          ],
          [
           "{\"epsilon\":null,\"theta\":null}",
           "{\"epsilon\":0.023000000000000003}",
           "exponentiated_gradient"
          ],
          [
           "{\"epsilon\":null,\"theta\":null}",
           "{\"epsilon\":0.067}",
           "exponentiated_gradient"
          ]
         ],
         "hovertemplate": "strategy=honest<br>is_honest=honest<br>detection_tpr=1.0<br>detection_tnr=1.0<br>demographic_parity_audit=%{x}<br>utility_user=%{y}<br>size=%{marker.size}<br>strategy_json=%{customdata[0]}<br>model_json=%{customdata[1]}<br>model_name=%{customdata[2]}<extra></extra>",
         "legendgroup": "honest, honest",
         "marker": {
          "color": "#EF553B",
          "size": [
           10,
           10,
           10,
           10,
           10,
           10,
           10,
           10,
           10,
           10,
           10
          ],
          "sizemode": "area",
          "sizeref": 0.1,
          "symbol": "diamond"
         },
         "mode": "markers",
         "name": "honest, honest",
         "orientation": "v",
         "showlegend": false,
         "type": "scatter",
         "x": [
          0.05971102150537634,
          0.06083669354838709,
          0.07468077956989247,
          0.07436155913978494,
          0.07177419354838709,
          0.025453629032258063,
          0.02957829301075269,
          0.06862399193548387,
          0.0733366935483871,
          0.04293514784946236,
          0.07387432795698924
         ],
         "xaxis": "x6",
         "y": [
          0.8226221986941944,
          0.823116287277219,
          0.8235397917769542,
          0.8234868537144873,
          0.8233280395270868,
          0.8216516675489677,
          0.8213340391741661,
          0.8238397741309335,
          0.8232751014646198,
          0.8224986765484383,
          0.823116287277219
         ],
         "yaxis": "y6"
        },
        {
         "customdata": [
          [
           "{\"epsilon\":null,\"theta\":null}",
           "{\"epsilon\":0.023000000000000003}",
           "exponentiated_gradient"
          ],
          [
           "{\"epsilon\":null,\"theta\":null}",
           "{\"epsilon\":0.045000000000000005}",
           "exponentiated_gradient"
          ],
          [
           "{\"epsilon\":null,\"theta\":null}",
           "{\"epsilon\":null}",
           "unconstrained"
          ],
          [
           "{\"epsilon\":null,\"theta\":null}",
           "{\"epsilon\":0.08900000000000001}",
           "exponentiated_gradient"
          ],
          [
           "{\"epsilon\":null,\"theta\":null}",
           "{\"epsilon\":0.001}",
           "exponentiated_gradient"
          ],
          [
           "{\"epsilon\":null,\"theta\":null}",
           "{\"epsilon\":0.012}",
           "exponentiated_gradient"
          ],
          [
           "{\"epsilon\":null,\"theta\":null}",
           "{\"epsilon\":0.1}",
           "exponentiated_gradient"
          ],
          [
           "{\"epsilon\":null,\"theta\":null}",
           "{\"epsilon\":0.034}",
           "exponentiated_gradient"
          ],
          [
           "{\"epsilon\":null,\"theta\":null}",
           "{\"epsilon\":0.05600000000000001}",
           "exponentiated_gradient"
          ],
          [
           "{\"epsilon\":null,\"theta\":null}",
           "{\"epsilon\":0.07800000000000001}",
           "exponentiated_gradient"
          ],
          [
           "{\"epsilon\":null,\"theta\":null}",
           "{\"epsilon\":0.067}",
           "exponentiated_gradient"
          ]
         ],
         "hovertemplate": "strategy=honest<br>is_honest=honest<br>detection_tpr=0.95<br>detection_tnr=0.95<br>demographic_parity_audit=%{x}<br>utility_user=%{y}<br>size=%{marker.size}<br>strategy_json=%{customdata[0]}<br>model_json=%{customdata[1]}<br>model_name=%{customdata[2]}<extra></extra>",
         "legendgroup": "honest, honest",
         "marker": {
          "color": "#EF553B",
          "size": [
           10,
           10,
           10,
           10,
           10,
           10,
           10,
           10,
           10,
           10,
           10
          ],
          "sizemode": "area",
          "sizeref": 0.1,
          "symbol": "diamond"
         },
         "mode": "markers",
         "name": "honest, honest",
         "orientation": "v",
         "showlegend": false,
         "type": "scatter",
         "x": [
          0.04293514784946236,
          0.07384912634408601,
          0.0733366935483871,
          0.06315524193548386,
          0.018145161290322585,
          0.03545866935483871,
          0.06418010752688172,
          0.06442372311827957,
          0.06122311827956989,
          0.07260584677419354,
          0.06549899193548386
         ],
         "xaxis": "x3",
         "y": [
          0.8232221634021528,
          0.8232398094229751,
          0.8235574377977766,
          0.8229927651314629,
          0.8221281101111699,
          0.8220045879654139,
          0.823169225339686,
          0.8232751014646198,
          0.8237691900476444,
          0.8229221810481736,
          0.8224633845067937
         ],
         "yaxis": "y3"
        },
        {
         "customdata": [
          [
           "{\"epsilon\":null,\"theta\":null}",
           "{\"epsilon\":0.067}",
           "exponentiated_gradient"
          ],
          [
           "{\"epsilon\":null,\"theta\":null}",
           "{\"epsilon\":0.05600000000000001}",
           "exponentiated_gradient"
          ],
          [
           "{\"epsilon\":null,\"theta\":null}",
           "{\"epsilon\":0.012}",
           "exponentiated_gradient"
          ],
          [
           "{\"epsilon\":null,\"theta\":null}",
           "{\"epsilon\":0.08900000000000001}",
           "exponentiated_gradient"
          ],
          [
           "{\"epsilon\":null,\"theta\":null}",
           "{\"epsilon\":0.034}",
           "exponentiated_gradient"
          ],
          [
           "{\"epsilon\":null,\"theta\":null}",
           "{\"epsilon\":0.07800000000000001}",
           "exponentiated_gradient"
          ],
          [
           "{\"epsilon\":null,\"theta\":null}",
           "{\"epsilon\":0.023000000000000003}",
           "exponentiated_gradient"
          ],
          [
           "{\"epsilon\":null,\"theta\":null}",
           "{\"epsilon\":null}",
           "unconstrained"
          ],
          [
           "{\"epsilon\":null,\"theta\":null}",
           "{\"epsilon\":0.001}",
           "exponentiated_gradient"
          ],
          [
           "{\"epsilon\":null,\"theta\":null}",
           "{\"epsilon\":0.045000000000000005}",
           "exponentiated_gradient"
          ],
          [
           "{\"epsilon\":null,\"theta\":null}",
           "{\"epsilon\":0.1}",
           "exponentiated_gradient"
          ]
         ],
         "hovertemplate": "strategy=honest<br>is_honest=honest<br>detection_tpr=0.95<br>detection_tnr=1.0<br>demographic_parity_audit=%{x}<br>utility_user=%{y}<br>size=%{marker.size}<br>strategy_json=%{customdata[0]}<br>model_json=%{customdata[1]}<br>model_name=%{customdata[2]}<extra></extra>",
         "legendgroup": "honest, honest",
         "marker": {
          "color": "#EF553B",
          "size": [
           10,
           10,
           10,
           10,
           10,
           10,
           10,
           10,
           10,
           10,
           10
          ],
          "sizemode": "area",
          "sizeref": 0.1,
          "symbol": "diamond"
         },
         "mode": "markers",
         "name": "honest, honest",
         "orientation": "v",
         "showlegend": false,
         "type": "scatter",
         "x": [
          0.06674227150537634,
          0.06598622311827956,
          0.027184139784946236,
          0.06757392473118279,
          0.06000504032258064,
          0.06569220430107527,
          0.03919690860215054,
          0.06857358870967742,
          0.022689852150537638,
          0.06159274193548386,
          0.04632896505376344
         ],
         "xaxis": "x4",
         "y": [
          0.8227810128815951,
          0.8236280218810658,
          0.8217928357155462,
          0.8231339332980413,
          0.8227986589024174,
          0.8231339332980413,
          0.8226927827774837,
          0.8229221810481736,
          0.8211928710075878,
          0.8232574554437975,
          0.8223398623610375
         ],
         "yaxis": "y4"
        },
        {
         "customdata": [
          [
           "{\"epsilon\":null,\"theta\":null}",
           "{\"epsilon\":0.001}",
           "exponentiated_gradient"
          ],
          [
           "{\"epsilon\":null,\"theta\":null}",
           "{\"epsilon\":0.08900000000000001}",
           "exponentiated_gradient"
          ],
          [
           "{\"epsilon\":null,\"theta\":null}",
           "{\"epsilon\":0.05600000000000001}",
           "exponentiated_gradient"
          ],
          [
           "{\"epsilon\":null,\"theta\":null}",
           "{\"epsilon\":0.012}",
           "exponentiated_gradient"
          ],
          [
           "{\"epsilon\":null,\"theta\":null}",
           "{\"epsilon\":0.045000000000000005}",
           "exponentiated_gradient"
          ],
          [
           "{\"epsilon\":null,\"theta\":null}",
           "{\"epsilon\":null}",
           "unconstrained"
          ],
          [
           "{\"epsilon\":null,\"theta\":null}",
           "{\"epsilon\":0.067}",
           "exponentiated_gradient"
          ],
          [
           "{\"epsilon\":null,\"theta\":null}",
           "{\"epsilon\":0.034}",
           "exponentiated_gradient"
          ],
          [
           "{\"epsilon\":null,\"theta\":null}",
           "{\"epsilon\":0.023000000000000003}",
           "exponentiated_gradient"
          ],
          [
           "{\"epsilon\":null,\"theta\":null}",
           "{\"epsilon\":0.1}",
           "exponentiated_gradient"
          ],
          [
           "{\"epsilon\":null,\"theta\":null}",
           "{\"epsilon\":0.07800000000000001}",
           "exponentiated_gradient"
          ]
         ],
         "hovertemplate": "strategy=honest<br>is_honest=honest<br>detection_tpr=0.5<br>detection_tnr=1.0<br>demographic_parity_audit=%{x}<br>utility_user=%{y}<br>size=%{marker.size}<br>strategy_json=%{customdata[0]}<br>model_json=%{customdata[1]}<br>model_name=%{customdata[2]}<extra></extra>",
         "legendgroup": "honest, honest",
         "marker": {
          "color": "#EF553B",
          "size": [
           10,
           10,
           10,
           10,
           10,
           10,
           10,
           10,
           10,
           10,
           10
          ],
          "sizemode": "area",
          "sizeref": 0.1,
          "symbol": "diamond"
         },
         "mode": "markers",
         "name": "honest, honest",
         "orientation": "v",
         "showlegend": false,
         "type": "scatter",
         "x": [
          0.021152553763440864,
          0.06388608870967741,
          0.05424227150537634,
          0.039079301075268816,
          0.07473118279569892,
          0.07226142473118279,
          0.05941700268817204,
          0.059979838709677415,
          0.03739079301075269,
          0.06313004032258064,
          0.06935483870967742
         ],
         "xaxis": "x2",
         "y": [
          0.821139932945121,
          0.8232221634021528,
          0.8230986412563966,
          0.8218457737780132,
          0.8226045526733723,
          0.8227457208399507,
          0.8227280748191284,
          0.8234515616728426,
          0.8223575083818598,
          0.8233103935062644,
          0.8233986236103756
         ],
         "yaxis": "y2"
        },
        {
         "customdata": [
          [
           "{\"epsilon\":9.0,\"theta\":null}",
           "{\"epsilon\":null}",
           "unconstrained"
          ],
          [
           "{\"epsilon\":7.0,\"theta\":null}",
           "{\"epsilon\":null}",
           "unconstrained"
          ],
          [
           "{\"epsilon\":10.0,\"theta\":null}",
           "{\"epsilon\":null}",
           "unconstrained"
          ],
          [
           "{\"epsilon\":3.0,\"theta\":null}",
           "{\"epsilon\":null}",
           "unconstrained"
          ],
          [
           "{\"epsilon\":6.0,\"theta\":null}",
           "{\"epsilon\":null}",
           "unconstrained"
          ],
          [
           "{\"epsilon\":1.0,\"theta\":null}",
           "{\"epsilon\":null}",
           "unconstrained"
          ],
          [
           "{\"epsilon\":4.0,\"theta\":null}",
           "{\"epsilon\":null}",
           "unconstrained"
          ],
          [
           "{\"epsilon\":5.0,\"theta\":null}",
           "{\"epsilon\":null}",
           "unconstrained"
          ],
          [
           "{\"epsilon\":2.0,\"theta\":null}",
           "{\"epsilon\":null}",
           "unconstrained"
          ],
          [
           "{\"epsilon\":8.0,\"theta\":null}",
           "{\"epsilon\":null}",
           "unconstrained"
          ]
         ],
         "hovertemplate": "strategy=randomized_response<br>is_honest=sneaky<br>detection_tpr=1.0<br>detection_tnr=0.95<br>demographic_parity_audit=%{x}<br>utility_user=%{y}<br>size=%{marker.size}<br>strategy_json=%{customdata[0]}<br>model_json=%{customdata[1]}<br>model_name=%{customdata[2]}<extra></extra>",
         "legendgroup": "randomized_response, sneaky",
         "marker": {
          "color": "#00cc96",
          "size": [
           10,
           10,
           10,
           10,
           10,
           10,
           10,
           10,
           10,
           10
          ],
          "sizemode": "area",
          "sizeref": 0.1,
          "symbol": "circle"
         },
         "mode": "markers",
         "name": "randomized_response, sneaky",
         "orientation": "v",
         "showlegend": true,
         "type": "scatter",
         "x": [
          0.06310483870967741,
          0.07101814516129032,
          0.07460517473118279,
          0.06564180107526882,
          0.07678091397849461,
          0.07592405913978494,
          0.07619287634408602,
          0.06727990591397849,
          0.0684559811827957,
          0.07511760752688171
         ],
         "xaxis": "x5",
         "y": [
          0.8231515793188636,
          0.8234339156520205,
          0.8237162519851774,
          0.8233456855479091,
          0.8235397917769542,
          0.8236456679018881,
          0.8235044997353096,
          0.8233809775895535,
          0.8230809952355743,
          0.8232045173813305
         ],
         "yaxis": "y5"
        },
        {
         "customdata": [
          [
           "{\"epsilon\":7.0,\"theta\":null}",
           "{\"epsilon\":null}",
           "unconstrained"
          ],
          [
           "{\"epsilon\":1.0,\"theta\":null}",
           "{\"epsilon\":null}",
           "unconstrained"
          ],
          [
           "{\"epsilon\":10.0,\"theta\":null}",
           "{\"epsilon\":null}",
           "unconstrained"
          ],
          [
           "{\"epsilon\":8.0,\"theta\":null}",
           "{\"epsilon\":null}",
           "unconstrained"
          ],
          [
           "{\"epsilon\":3.0,\"theta\":null}",
           "{\"epsilon\":null}",
           "unconstrained"
          ],
          [
           "{\"epsilon\":6.0,\"theta\":null}",
           "{\"epsilon\":null}",
           "unconstrained"
          ],
          [
           "{\"epsilon\":2.0,\"theta\":null}",
           "{\"epsilon\":null}",
           "unconstrained"
          ],
          [
           "{\"epsilon\":5.0,\"theta\":null}",
           "{\"epsilon\":null}",
           "unconstrained"
          ],
          [
           "{\"epsilon\":4.0,\"theta\":null}",
           "{\"epsilon\":null}",
           "unconstrained"
          ],
          [
           "{\"epsilon\":9.0,\"theta\":null}",
           "{\"epsilon\":null}",
           "unconstrained"
          ]
         ],
         "hovertemplate": "strategy=randomized_response<br>is_honest=sneaky<br>detection_tpr=1.0<br>detection_tnr=1.0<br>demographic_parity_audit=%{x}<br>utility_user=%{y}<br>size=%{marker.size}<br>strategy_json=%{customdata[0]}<br>model_json=%{customdata[1]}<br>model_name=%{customdata[2]}<extra></extra>",
         "legendgroup": "randomized_response, sneaky",
         "marker": {
          "color": "#00cc96",
          "size": [
           10,
           10,
           10,
           10,
           10,
           10,
           10,
           10,
           10,
           10
          ],
          "sizemode": "area",
          "sizeref": 0.1,
          "symbol": "circle"
         },
         "mode": "markers",
         "name": "randomized_response, sneaky",
         "orientation": "v",
         "showlegend": false,
         "type": "scatter",
         "x": [
          0.07121135752688171,
          0.06364247311827956,
          0.06674227150537634,
          0.07856182795698924,
          0.07484879032258064,
          0.06703629032258064,
          0.07306787634408601,
          0.07379872311827956,
          0.07118615591397849,
          0.07341229838709676
         ],
         "xaxis": "x6",
         "y": [
          0.8236103758602435,
          0.8237338980059995,
          0.8233456855479089,
          0.8234339156520205,
          0.8237691900476444,
          0.8236809599435327,
          0.823116287277219,
          0.8230986412563966,
          0.8229398270689959,
          0.8231868713605083
         ],
         "yaxis": "y6"
        },
        {
         "customdata": [
          [
           "{\"epsilon\":3.0,\"theta\":null}",
           "{\"epsilon\":null}",
           "unconstrained"
          ],
          [
           "{\"epsilon\":10.0,\"theta\":null}",
           "{\"epsilon\":null}",
           "unconstrained"
          ],
          [
           "{\"epsilon\":6.0,\"theta\":null}",
           "{\"epsilon\":null}",
           "unconstrained"
          ],
          [
           "{\"epsilon\":2.0,\"theta\":null}",
           "{\"epsilon\":null}",
           "unconstrained"
          ],
          [
           "{\"epsilon\":4.0,\"theta\":null}",
           "{\"epsilon\":null}",
           "unconstrained"
          ],
          [
           "{\"epsilon\":7.0,\"theta\":null}",
           "{\"epsilon\":null}",
           "unconstrained"
          ],
          [
           "{\"epsilon\":5.0,\"theta\":null}",
           "{\"epsilon\":null}",
           "unconstrained"
          ],
          [
           "{\"epsilon\":1.0,\"theta\":null}",
           "{\"epsilon\":null}",
           "unconstrained"
          ],
          [
           "{\"epsilon\":9.0,\"theta\":null}",
           "{\"epsilon\":null}",
           "unconstrained"
          ],
          [
           "{\"epsilon\":8.0,\"theta\":null}",
           "{\"epsilon\":null}",
           "unconstrained"
          ]
         ],
         "hovertemplate": "strategy=randomized_response<br>is_honest=sneaky<br>detection_tpr=0.95<br>detection_tnr=0.95<br>demographic_parity_audit=%{x}<br>utility_user=%{y}<br>size=%{marker.size}<br>strategy_json=%{customdata[0]}<br>model_json=%{customdata[1]}<br>model_name=%{customdata[2]}<extra></extra>",
         "legendgroup": "randomized_response, sneaky",
         "marker": {
          "color": "#00cc96",
          "size": [
           10,
           10,
           10,
           10,
           10,
           10,
           10,
           10,
           10,
           10
          ],
          "sizemode": "area",
          "sizeref": 0.1,
          "symbol": "circle"
         },
         "mode": "markers",
         "name": "randomized_response, sneaky",
         "orientation": "v",
         "showlegend": false,
         "type": "scatter",
         "x": [
          0.07328629032258063,
          0.07358030913978494,
          0.0699176747311828,
          0.0704049059139785,
          0.06967405913978494,
          0.07074932795698924,
          0.07384912634408601,
          0.06916162634408601,
          0.07309307795698924,
          0.07516801075268817
         ],
         "xaxis": "x3",
         "y": [
          0.8237691900476442,
          0.8235927298394212,
          0.8240691724016234,
          0.8229221810481736,
          0.8230457031939297,
          0.8240515263808013,
          0.8237691900476444,
          0.8229398270689959,
          0.8240338803599787,
          0.8234162696311982
         ],
         "yaxis": "y3"
        },
        {
         "customdata": [
          [
           "{\"epsilon\":9.0,\"theta\":null}",
           "{\"epsilon\":null}",
           "unconstrained"
          ],
          [
           "{\"epsilon\":6.0,\"theta\":null}",
           "{\"epsilon\":null}",
           "unconstrained"
          ],
          [
           "{\"epsilon\":2.0,\"theta\":null}",
           "{\"epsilon\":null}",
           "unconstrained"
          ],
          [
           "{\"epsilon\":7.0,\"theta\":null}",
           "{\"epsilon\":null}",
           "unconstrained"
          ],
          [
           "{\"epsilon\":10.0,\"theta\":null}",
           "{\"epsilon\":null}",
           "unconstrained"
          ],
          [
           "{\"epsilon\":1.0,\"theta\":null}",
           "{\"epsilon\":null}",
           "unconstrained"
          ],
          [
           "{\"epsilon\":4.0,\"theta\":null}",
           "{\"epsilon\":null}",
           "unconstrained"
          ],
          [
           "{\"epsilon\":3.0,\"theta\":null}",
           "{\"epsilon\":null}",
           "unconstrained"
          ],
          [
           "{\"epsilon\":8.0,\"theta\":null}",
           "{\"epsilon\":null}",
           "unconstrained"
          ],
          [
           "{\"epsilon\":5.0,\"theta\":null}",
           "{\"epsilon\":null}",
           "unconstrained"
          ]
         ],
         "hovertemplate": "strategy=randomized_response<br>is_honest=sneaky<br>detection_tpr=0.95<br>detection_tnr=1.0<br>demographic_parity_audit=%{x}<br>utility_user=%{y}<br>size=%{marker.size}<br>strategy_json=%{customdata[0]}<br>model_json=%{customdata[1]}<br>model_name=%{customdata[2]}<extra></extra>",
         "legendgroup": "randomized_response, sneaky",
         "marker": {
          "color": "#00cc96",
          "size": [
           10,
           10,
           10,
           10,
           10,
           10,
           10,
           10,
           10,
           10
          ],
          "sizemode": "area",
          "sizeref": 0.1,
          "symbol": "circle"
         },
         "mode": "markers",
         "name": "randomized_response, sneaky",
         "orientation": "v",
         "showlegend": false,
         "type": "scatter",
         "x": [
          0.06964885752688171,
          0.0738239247311828,
          0.06911122311827957,
          0.0738239247311828,
          0.06838037634408602,
          0.07126176075268817,
          0.07433635752688171,
          0.07985551075268817,
          0.06916162634408601,
          0.07282426075268816
         ],
         "xaxis": "x4",
         "y": [
          0.8237338980059997,
          0.8229045350273513,
          0.8233633315687314,
          0.8238221281101111,
          0.8237162519851774,
          0.8237338980059995,
          0.8228868890065291,
          0.8233103935062644,
          0.8232045173813305,
          0.8236633139227104
         ],
         "yaxis": "y4"
        },
        {
         "customdata": [
          [
           "{\"epsilon\":1.0,\"theta\":null}",
           "{\"epsilon\":null}",
           "unconstrained"
          ],
          [
           "{\"epsilon\":2.0,\"theta\":null}",
           "{\"epsilon\":null}",
           "unconstrained"
          ],
          [
           "{\"epsilon\":7.0,\"theta\":null}",
           "{\"epsilon\":null}",
           "unconstrained"
          ],
          [
           "{\"epsilon\":4.0,\"theta\":null}",
           "{\"epsilon\":null}",
           "unconstrained"
          ],
          [
           "{\"epsilon\":10.0,\"theta\":null}",
           "{\"epsilon\":null}",
           "unconstrained"
          ],
          [
           "{\"epsilon\":3.0,\"theta\":null}",
           "{\"epsilon\":null}",
           "unconstrained"
          ],
          [
           "{\"epsilon\":8.0,\"theta\":null}",
           "{\"epsilon\":null}",
           "unconstrained"
          ],
          [
           "{\"epsilon\":5.0,\"theta\":null}",
           "{\"epsilon\":null}",
           "unconstrained"
          ],
          [
           "{\"epsilon\":9.0,\"theta\":null}",
           "{\"epsilon\":null}",
           "unconstrained"
          ],
          [
           "{\"epsilon\":6.0,\"theta\":null}",
           "{\"epsilon\":null}",
           "unconstrained"
          ]
         ],
         "hovertemplate": "strategy=randomized_response<br>is_honest=sneaky<br>detection_tpr=0.5<br>detection_tnr=1.0<br>demographic_parity_audit=%{x}<br>utility_user=%{y}<br>size=%{marker.size}<br>strategy_json=%{customdata[0]}<br>model_json=%{customdata[1]}<br>model_name=%{customdata[2]}<extra></extra>",
         "legendgroup": "randomized_response, sneaky",
         "marker": {
          "color": "#00cc96",
          "size": [
           10,
           10,
           10,
           10,
           10,
           10,
           10,
           10,
           10,
           10
          ],
          "sizemode": "area",
          "sizeref": 0.1,
          "symbol": "circle"
         },
         "mode": "markers",
         "name": "randomized_response, sneaky",
         "orientation": "v",
         "showlegend": false,
         "type": "scatter",
         "x": [
          0.0689432123655914,
          0.06706149193548386,
          0.07048051075268816,
          0.06811155913978494,
          0.06706149193548386,
          0.07253024193548387,
          0.06569220430107527,
          0.07199260752688172,
          0.06652385752688171,
          0.07045530913978494
         ],
         "xaxis": "x2",
         "y": [
          0.8230986412563966,
          0.8231515793188636,
          0.8231868713605082,
          0.8240691724016234,
          0.8233280395270866,
          0.8232398094229751,
          0.8229398270689959,
          0.8238750661725781,
          0.8233633315687312,
          0.8233456855479089
         ],
         "yaxis": "y2"
        },
        {
         "customdata": [
          [
           "{\"epsilon\":null,\"theta\":null}",
           "{\"epsilon\":null}",
           "unconstrained"
          ]
         ],
         "hovertemplate": "strategy=model_swap<br>is_honest=sneaky<br>detection_tpr=1.0<br>detection_tnr=0.95<br>demographic_parity_audit=%{x}<br>utility_user=%{y}<br>size=%{marker.size}<br>strategy_json=%{customdata[0]}<br>model_json=%{customdata[1]}<br>model_name=%{customdata[2]}<extra></extra>",
         "legendgroup": "model_swap, sneaky",
         "marker": {
          "color": "#ab63fa",
          "size": [
           10
          ],
          "sizemode": "area",
          "sizeref": 0.1,
          "symbol": "circle"
         },
         "mode": "markers",
         "name": "model_swap, sneaky",
         "orientation": "v",
         "showlegend": true,
         "type": "scatter",
         "x": [
          0.017389112903225812
         ],
         "xaxis": "x5",
         "y": [
          0.8235927298394212
         ],
         "yaxis": "y5"
        },
        {
         "customdata": [
          [
           "{\"epsilon\":null,\"theta\":null}",
           "{\"epsilon\":null}",
           "unconstrained"
          ]
         ],
         "hovertemplate": "strategy=model_swap<br>is_honest=sneaky<br>detection_tpr=1.0<br>detection_tnr=1.0<br>demographic_parity_audit=%{x}<br>utility_user=%{y}<br>size=%{marker.size}<br>strategy_json=%{customdata[0]}<br>model_json=%{customdata[1]}<br>model_name=%{customdata[2]}<extra></extra>",
         "legendgroup": "model_swap, sneaky",
         "marker": {
          "color": "#ab63fa",
          "size": [
           10
          ],
          "sizemode": "area",
          "sizeref": 0.1,
          "symbol": "circle"
         },
         "mode": "markers",
         "name": "model_swap, sneaky",
         "orientation": "v",
         "showlegend": false,
         "type": "scatter",
         "x": [
          0.024008736559139786
         ],
         "xaxis": "x6",
         "y": [
          0.8234162696311982
         ],
         "yaxis": "y6"
        },
        {
         "customdata": [
          [
           "{\"epsilon\":null,\"theta\":null}",
           "{\"epsilon\":null}",
           "unconstrained"
          ]
         ],
         "hovertemplate": "strategy=model_swap<br>is_honest=sneaky<br>detection_tpr=0.95<br>detection_tnr=0.95<br>demographic_parity_audit=%{x}<br>utility_user=%{y}<br>size=%{marker.size}<br>strategy_json=%{customdata[0]}<br>model_json=%{customdata[1]}<br>model_name=%{customdata[2]}<extra></extra>",
         "legendgroup": "model_swap, sneaky",
         "marker": {
          "color": "#ab63fa",
          "size": [
           10
          ],
          "sizemode": "area",
          "sizeref": 0.1,
          "symbol": "circle"
         },
         "mode": "markers",
         "name": "model_swap, sneaky",
         "orientation": "v",
         "showlegend": false,
         "type": "scatter",
         "x": [
          0.025478830645161286
         ],
         "xaxis": "x3",
         "y": [
          0.8234692076936652
         ],
         "yaxis": "y3"
        },
        {
         "customdata": [
          [
           "{\"epsilon\":null,\"theta\":null}",
           "{\"epsilon\":null}",
           "unconstrained"
          ]
         ],
         "hovertemplate": "strategy=model_swap<br>is_honest=sneaky<br>detection_tpr=0.95<br>detection_tnr=1.0<br>demographic_parity_audit=%{x}<br>utility_user=%{y}<br>size=%{marker.size}<br>strategy_json=%{customdata[0]}<br>model_json=%{customdata[1]}<br>model_name=%{customdata[2]}<extra></extra>",
         "legendgroup": "model_swap, sneaky",
         "marker": {
          "color": "#ab63fa",
          "size": [
           10
          ],
          "sizemode": "area",
          "sizeref": 0.1,
          "symbol": "circle"
         },
         "mode": "markers",
         "name": "model_swap, sneaky",
         "orientation": "v",
         "showlegend": false,
         "type": "scatter",
         "x": [
          0.01856518817204301
         ],
         "xaxis": "x4",
         "y": [
          0.8241750485265573
         ],
         "yaxis": "y4"
        },
        {
         "customdata": [
          [
           "{\"epsilon\":null,\"theta\":null}",
           "{\"epsilon\":null}",
           "unconstrained"
          ]
         ],
         "hovertemplate": "strategy=model_swap<br>is_honest=sneaky<br>detection_tpr=0.5<br>detection_tnr=1.0<br>demographic_parity_audit=%{x}<br>utility_user=%{y}<br>size=%{marker.size}<br>strategy_json=%{customdata[0]}<br>model_json=%{customdata[1]}<br>model_name=%{customdata[2]}<extra></extra>",
         "legendgroup": "model_swap, sneaky",
         "marker": {
          "color": "#ab63fa",
          "size": [
           10
          ],
          "sizemode": "area",
          "sizeref": 0.1,
          "symbol": "circle"
         },
         "mode": "markers",
         "name": "model_swap, sneaky",
         "orientation": "v",
         "showlegend": false,
         "type": "scatter",
         "x": [
          0.020354502688172037
         ],
         "xaxis": "x2",
         "y": [
          0.8238574201517558
         ],
         "yaxis": "y2"
        }
       ],
       "layout": {
        "annotations": [
         {
          "font": {},
          "showarrow": false,
          "text": "detection_tnr=0.95",
          "x": 0.24,
          "xanchor": "center",
          "xref": "paper",
          "y": 0.9999999999999998,
          "yanchor": "bottom",
          "yref": "paper"
         },
         {
          "font": {},
          "showarrow": false,
          "text": "detection_tnr=1.0",
          "x": 0.74,
          "xanchor": "center",
          "xref": "paper",
          "y": 0.9999999999999998,
          "yanchor": "bottom",
          "yref": "paper"
         },
         {
          "font": {},
          "showarrow": false,
          "text": "detection_tpr=0.5",
          "textangle": 90,
          "x": 0.98,
          "xanchor": "left",
          "xref": "paper",
          "y": 0.15666666666666665,
          "yanchor": "middle",
          "yref": "paper"
         },
         {
          "font": {},
          "showarrow": false,
          "text": "detection_tpr=0.95",
          "textangle": 90,
          "x": 0.98,
          "xanchor": "left",
          "xref": "paper",
          "y": 0.4999999999999999,
          "yanchor": "middle",
          "yref": "paper"
         },
         {
          "font": {},
          "showarrow": false,
          "text": "detection_tpr=1.0",
          "textangle": 90,
          "x": 0.98,
          "xanchor": "left",
          "xref": "paper",
          "y": 0.8433333333333332,
          "yanchor": "middle",
          "yref": "paper"
         }
        ],
        "height": 1000,
        "legend": {
         "itemsizing": "constant",
         "title": {
          "text": "strategy, is_honest"
         },
         "tracegroupgap": 0
        },
        "margin": {
         "t": 60
        },
        "template": {
         "data": {
          "bar": [
           {
            "error_x": {
             "color": "#2a3f5f"
            },
            "error_y": {
             "color": "#2a3f5f"
            },
            "marker": {
             "line": {
              "color": "#E5ECF6",
              "width": 0.5
             },
             "pattern": {
              "fillmode": "overlay",
              "size": 10,
              "solidity": 0.2
             }
            },
            "type": "bar"
           }
          ],
          "barpolar": [
           {
            "marker": {
             "line": {
              "color": "#E5ECF6",
              "width": 0.5
             },
             "pattern": {
              "fillmode": "overlay",
              "size": 10,
              "solidity": 0.2
             }
            },
            "type": "barpolar"
           }
          ],
          "carpet": [
           {
            "aaxis": {
             "endlinecolor": "#2a3f5f",
             "gridcolor": "white",
             "linecolor": "white",
             "minorgridcolor": "white",
             "startlinecolor": "#2a3f5f"
            },
            "baxis": {
             "endlinecolor": "#2a3f5f",
             "gridcolor": "white",
             "linecolor": "white",
             "minorgridcolor": "white",
             "startlinecolor": "#2a3f5f"
            },
            "type": "carpet"
           }
          ],
          "choropleth": [
           {
            "colorbar": {
             "outlinewidth": 0,
             "ticks": ""
            },
            "type": "choropleth"
           }
          ],
          "contour": [
           {
            "colorbar": {
             "outlinewidth": 0,
             "ticks": ""
            },
            "colorscale": [
             [
              0,
              "#0d0887"
             ],
             [
              0.1111111111111111,
              "#46039f"
             ],
             [
              0.2222222222222222,
              "#7201a8"
             ],
             [
              0.3333333333333333,
              "#9c179e"
             ],
             [
              0.4444444444444444,
              "#bd3786"
             ],
             [
              0.5555555555555556,
              "#d8576b"
             ],
             [
              0.6666666666666666,
              "#ed7953"
             ],
             [
              0.7777777777777778,
              "#fb9f3a"
             ],
             [
              0.8888888888888888,
              "#fdca26"
             ],
             [
              1,
              "#f0f921"
             ]
            ],
            "type": "contour"
           }
          ],
          "contourcarpet": [
           {
            "colorbar": {
             "outlinewidth": 0,
             "ticks": ""
            },
            "type": "contourcarpet"
           }
          ],
          "heatmap": [
           {
            "colorbar": {
             "outlinewidth": 0,
             "ticks": ""
            },
            "colorscale": [
             [
              0,
              "#0d0887"
             ],
             [
              0.1111111111111111,
              "#46039f"
             ],
             [
              0.2222222222222222,
              "#7201a8"
             ],
             [
              0.3333333333333333,
              "#9c179e"
             ],
             [
              0.4444444444444444,
              "#bd3786"
             ],
             [
              0.5555555555555556,
              "#d8576b"
             ],
             [
              0.6666666666666666,
              "#ed7953"
             ],
             [
              0.7777777777777778,
              "#fb9f3a"
             ],
             [
              0.8888888888888888,
              "#fdca26"
             ],
             [
              1,
              "#f0f921"
             ]
            ],
            "type": "heatmap"
           }
          ],
          "heatmapgl": [
           {
            "colorbar": {
             "outlinewidth": 0,
             "ticks": ""
            },
            "colorscale": [
             [
              0,
              "#0d0887"
             ],
             [
              0.1111111111111111,
              "#46039f"
             ],
             [
              0.2222222222222222,
              "#7201a8"
             ],
             [
              0.3333333333333333,
              "#9c179e"
             ],
             [
              0.4444444444444444,
              "#bd3786"
             ],
             [
              0.5555555555555556,
              "#d8576b"
             ],
             [
              0.6666666666666666,
              "#ed7953"
             ],
             [
              0.7777777777777778,
              "#fb9f3a"
             ],
             [
              0.8888888888888888,
              "#fdca26"
             ],
             [
              1,
              "#f0f921"
             ]
            ],
            "type": "heatmapgl"
           }
          ],
          "histogram": [
           {
            "marker": {
             "pattern": {
              "fillmode": "overlay",
              "size": 10,
              "solidity": 0.2
             }
            },
            "type": "histogram"
           }
          ],
          "histogram2d": [
           {
            "colorbar": {
             "outlinewidth": 0,
             "ticks": ""
            },
            "colorscale": [
             [
              0,
              "#0d0887"
             ],
             [
              0.1111111111111111,
              "#46039f"
             ],
             [
              0.2222222222222222,
              "#7201a8"
             ],
             [
              0.3333333333333333,
              "#9c179e"
             ],
             [
              0.4444444444444444,
              "#bd3786"
             ],
             [
              0.5555555555555556,
              "#d8576b"
             ],
             [
              0.6666666666666666,
              "#ed7953"
             ],
             [
              0.7777777777777778,
              "#fb9f3a"
             ],
             [
              0.8888888888888888,
              "#fdca26"
             ],
             [
              1,
              "#f0f921"
             ]
            ],
            "type": "histogram2d"
           }
          ],
          "histogram2dcontour": [
           {
            "colorbar": {
             "outlinewidth": 0,
             "ticks": ""
            },
            "colorscale": [
             [
              0,
              "#0d0887"
             ],
             [
              0.1111111111111111,
              "#46039f"
             ],
             [
              0.2222222222222222,
              "#7201a8"
             ],
             [
              0.3333333333333333,
              "#9c179e"
             ],
             [
              0.4444444444444444,
              "#bd3786"
             ],
             [
              0.5555555555555556,
              "#d8576b"
             ],
             [
              0.6666666666666666,
              "#ed7953"
             ],
             [
              0.7777777777777778,
              "#fb9f3a"
             ],
             [
              0.8888888888888888,
              "#fdca26"
             ],
             [
              1,
              "#f0f921"
             ]
            ],
            "type": "histogram2dcontour"
           }
          ],
          "mesh3d": [
           {
            "colorbar": {
             "outlinewidth": 0,
             "ticks": ""
            },
            "type": "mesh3d"
           }
          ],
          "parcoords": [
           {
            "line": {
             "colorbar": {
              "outlinewidth": 0,
              "ticks": ""
             }
            },
            "type": "parcoords"
           }
          ],
          "pie": [
           {
            "automargin": true,
            "type": "pie"
           }
          ],
          "scatter": [
           {
            "fillpattern": {
             "fillmode": "overlay",
             "size": 10,
             "solidity": 0.2
            },
            "type": "scatter"
           }
          ],
          "scatter3d": [
           {
            "line": {
             "colorbar": {
              "outlinewidth": 0,
              "ticks": ""
             }
            },
            "marker": {
             "colorbar": {
              "outlinewidth": 0,
              "ticks": ""
             }
            },
            "type": "scatter3d"
           }
          ],
          "scattercarpet": [
           {
            "marker": {
             "colorbar": {
              "outlinewidth": 0,
              "ticks": ""
             }
            },
            "type": "scattercarpet"
           }
          ],
          "scattergeo": [
           {
            "marker": {
             "colorbar": {
              "outlinewidth": 0,
              "ticks": ""
             }
            },
            "type": "scattergeo"
           }
          ],
          "scattergl": [
           {
            "marker": {
             "colorbar": {
              "outlinewidth": 0,
              "ticks": ""
             }
            },
            "type": "scattergl"
           }
          ],
          "scattermapbox": [
           {
            "marker": {
             "colorbar": {
              "outlinewidth": 0,
              "ticks": ""
             }
            },
            "type": "scattermapbox"
           }
          ],
          "scatterpolar": [
           {
            "marker": {
             "colorbar": {
              "outlinewidth": 0,
              "ticks": ""
             }
            },
            "type": "scatterpolar"
           }
          ],
          "scatterpolargl": [
           {
            "marker": {
             "colorbar": {
              "outlinewidth": 0,
              "ticks": ""
             }
            },
            "type": "scatterpolargl"
           }
          ],
          "scatterternary": [
           {
            "marker": {
             "colorbar": {
              "outlinewidth": 0,
              "ticks": ""
             }
            },
            "type": "scatterternary"
           }
          ],
          "surface": [
           {
            "colorbar": {
             "outlinewidth": 0,
             "ticks": ""
            },
            "colorscale": [
             [
              0,
              "#0d0887"
             ],
             [
              0.1111111111111111,
              "#46039f"
             ],
             [
              0.2222222222222222,
              "#7201a8"
             ],
             [
              0.3333333333333333,
              "#9c179e"
             ],
             [
              0.4444444444444444,
              "#bd3786"
             ],
             [
              0.5555555555555556,
              "#d8576b"
             ],
             [
              0.6666666666666666,
              "#ed7953"
             ],
             [
              0.7777777777777778,
              "#fb9f3a"
             ],
             [
              0.8888888888888888,
              "#fdca26"
             ],
             [
              1,
              "#f0f921"
             ]
            ],
            "type": "surface"
           }
          ],
          "table": [
           {
            "cells": {
             "fill": {
              "color": "#EBF0F8"
             },
             "line": {
              "color": "white"
             }
            },
            "header": {
             "fill": {
              "color": "#C8D4E3"
             },
             "line": {
              "color": "white"
             }
            },
            "type": "table"
           }
          ]
         },
         "layout": {
          "annotationdefaults": {
           "arrowcolor": "#2a3f5f",
           "arrowhead": 0,
           "arrowwidth": 1
          },
          "autotypenumbers": "strict",
          "coloraxis": {
           "colorbar": {
            "outlinewidth": 0,
            "ticks": ""
           }
          },
          "colorscale": {
           "diverging": [
            [
             0,
             "#8e0152"
            ],
            [
             0.1,
             "#c51b7d"
            ],
            [
             0.2,
             "#de77ae"
            ],
            [
             0.3,
             "#f1b6da"
            ],
            [
             0.4,
             "#fde0ef"
            ],
            [
             0.5,
             "#f7f7f7"
            ],
            [
             0.6,
             "#e6f5d0"
            ],
            [
             0.7,
             "#b8e186"
            ],
            [
             0.8,
             "#7fbc41"
            ],
            [
             0.9,
             "#4d9221"
            ],
            [
             1,
             "#276419"
            ]
           ],
           "sequential": [
            [
             0,
             "#0d0887"
            ],
            [
             0.1111111111111111,
             "#46039f"
            ],
            [
             0.2222222222222222,
             "#7201a8"
            ],
            [
             0.3333333333333333,
             "#9c179e"
            ],
            [
             0.4444444444444444,
             "#bd3786"
            ],
            [
             0.5555555555555556,
             "#d8576b"
            ],
            [
             0.6666666666666666,
             "#ed7953"
            ],
            [
             0.7777777777777778,
             "#fb9f3a"
            ],
            [
             0.8888888888888888,
             "#fdca26"
            ],
            [
             1,
             "#f0f921"
            ]
           ],
           "sequentialminus": [
            [
             0,
             "#0d0887"
            ],
            [
             0.1111111111111111,
             "#46039f"
            ],
            [
             0.2222222222222222,
             "#7201a8"
            ],
            [
             0.3333333333333333,
             "#9c179e"
            ],
            [
             0.4444444444444444,
             "#bd3786"
            ],
            [
             0.5555555555555556,
             "#d8576b"
            ],
            [
             0.6666666666666666,
             "#ed7953"
            ],
            [
             0.7777777777777778,
             "#fb9f3a"
            ],
            [
             0.8888888888888888,
             "#fdca26"
            ],
            [
             1,
             "#f0f921"
            ]
           ]
          },
          "colorway": [
           "#636efa",
           "#EF553B",
           "#00cc96",
           "#ab63fa",
           "#FFA15A",
           "#19d3f3",
           "#FF6692",
           "#B6E880",
           "#FF97FF",
           "#FECB52"
          ],
          "font": {
           "color": "#2a3f5f"
          },
          "geo": {
           "bgcolor": "white",
           "lakecolor": "white",
           "landcolor": "#E5ECF6",
           "showlakes": true,
           "showland": true,
           "subunitcolor": "white"
          },
          "hoverlabel": {
           "align": "left"
          },
          "hovermode": "closest",
          "mapbox": {
           "style": "light"
          },
          "paper_bgcolor": "white",
          "plot_bgcolor": "#E5ECF6",
          "polar": {
           "angularaxis": {
            "gridcolor": "white",
            "linecolor": "white",
            "ticks": ""
           },
           "bgcolor": "#E5ECF6",
           "radialaxis": {
            "gridcolor": "white",
            "linecolor": "white",
            "ticks": ""
           }
          },
          "scene": {
           "xaxis": {
            "backgroundcolor": "#E5ECF6",
            "gridcolor": "white",
            "gridwidth": 2,
            "linecolor": "white",
            "showbackground": true,
            "ticks": "",
            "zerolinecolor": "white"
           },
           "yaxis": {
            "backgroundcolor": "#E5ECF6",
            "gridcolor": "white",
            "gridwidth": 2,
            "linecolor": "white",
            "showbackground": true,
            "ticks": "",
            "zerolinecolor": "white"
           },
           "zaxis": {
            "backgroundcolor": "#E5ECF6",
            "gridcolor": "white",
            "gridwidth": 2,
            "linecolor": "white",
            "showbackground": true,
            "ticks": "",
            "zerolinecolor": "white"
           }
          },
          "shapedefaults": {
           "line": {
            "color": "#2a3f5f"
           }
          },
          "ternary": {
           "aaxis": {
            "gridcolor": "white",
            "linecolor": "white",
            "ticks": ""
           },
           "baxis": {
            "gridcolor": "white",
            "linecolor": "white",
            "ticks": ""
           },
           "bgcolor": "#E5ECF6",
           "caxis": {
            "gridcolor": "white",
            "linecolor": "white",
            "ticks": ""
           }
          },
          "title": {
           "x": 0.05
          },
          "xaxis": {
           "automargin": true,
           "gridcolor": "white",
           "linecolor": "white",
           "ticks": "",
           "title": {
            "standoff": 15
           },
           "zerolinecolor": "white",
           "zerolinewidth": 2
          },
          "yaxis": {
           "automargin": true,
           "gridcolor": "white",
           "linecolor": "white",
           "ticks": "",
           "title": {
            "standoff": 15
           },
           "zerolinecolor": "white",
           "zerolinewidth": 2
          }
         }
        },
        "width": 1300,
        "xaxis": {
         "anchor": "y",
         "domain": [
          0,
          0.48
         ],
         "title": {
          "text": "demographic_parity_audit"
         }
        },
        "xaxis2": {
         "anchor": "y2",
         "domain": [
          0.5,
          0.98
         ],
         "matches": "x",
         "title": {
          "text": "demographic_parity_audit"
         }
        },
        "xaxis3": {
         "anchor": "y3",
         "domain": [
          0,
          0.48
         ],
         "matches": "x",
         "showticklabels": false
        },
        "xaxis4": {
         "anchor": "y4",
         "domain": [
          0.5,
          0.98
         ],
         "matches": "x",
         "showticklabels": false
        },
        "xaxis5": {
         "anchor": "y5",
         "domain": [
          0,
          0.48
         ],
         "matches": "x",
         "showticklabels": false
        },
        "xaxis6": {
         "anchor": "y6",
         "domain": [
          0.5,
          0.98
         ],
         "matches": "x",
         "showticklabels": false
        },
        "yaxis": {
         "anchor": "x",
         "domain": [
          0,
          0.3133333333333333
         ],
         "title": {
          "text": "utility_user"
         }
        },
        "yaxis2": {
         "anchor": "x2",
         "domain": [
          0,
          0.3133333333333333
         ],
         "matches": "y",
         "showticklabels": false
        },
        "yaxis3": {
         "anchor": "x3",
         "domain": [
          0.34333333333333327,
          0.6566666666666665
         ],
         "matches": "y",
         "title": {
          "text": "utility_user"
         }
        },
        "yaxis4": {
         "anchor": "x4",
         "domain": [
          0.34333333333333327,
          0.6566666666666665
         ],
         "matches": "y",
         "showticklabels": false
        },
        "yaxis5": {
         "anchor": "x5",
         "domain": [
          0.6866666666666665,
          0.9999999999999998
         ],
         "matches": "y",
         "title": {
          "text": "utility_user"
         }
        },
        "yaxis6": {
         "anchor": "x6",
         "domain": [
          0.6866666666666665,
          0.9999999999999998
         ],
         "matches": "y",
         "showticklabels": false
        }
       }
      }
     },
     "metadata": {},
     "output_type": "display_data"
    }
   ],
   "source": [
    "fig = px.scatter(\n",
    "    audit.with_columns(\n",
    "        is_honest=pl.when(pl.col(\"strategy\") == \"honest\")\n",
    "        .then(\"strategy\")\n",
    "        .otherwise(pl.lit(\"sneaky\")),\n",
    "        size=10,\n",
    "    ),\n",
    "    x=\"demographic_parity_audit\",\n",
    "    y=\"utility_user\",\n",
    "    color=\"strategy\",\n",
    "    symbol=\"is_honest\",\n",
    "    size=\"size\",\n",
    "    size_max=10,\n",
    "    facet_row=\"detection_tpr\",\n",
    "    facet_col=\"detection_tnr\",\n",
    "    hover_data=[\"strategy_json\", \"model_json\", \"model_name\"],\n",
    "    height=1_000,\n",
    "    width=1_300,\n",
    ")\n",
    "\n",
    "# fig.update_xaxes(range=[0, 0.1])\n",
    "# fig.update_yaxes(range=[0.81, 0.83])\n",
    "fig.show()"
   ]
  }
 ],
 "metadata": {
  "kernelspec": {
   "display_name": "default",
   "language": "python",
   "name": "python3"
  },
  "language_info": {
   "codemirror_mode": {
    "name": "ipython",
    "version": 3
   },
   "file_extension": ".py",
   "mimetype": "text/x-python",
   "name": "python",
   "nbconvert_exporter": "python",
   "pygments_lexer": "ipython3",
   "version": "3.12.5"
  }
 },
 "nbformat": 4,
 "nbformat_minor": 2
}
