{
 "cells": [
  {
   "cell_type": "code",
   "execution_count": 44,
   "metadata": {},
   "outputs": [],
   "source": [
    "from math import sqrt\n",
    "import polars as pl\n",
    "from plotly import express as px"
   ]
  },
  {
   "cell_type": "code",
   "execution_count": 45,
   "metadata": {},
   "outputs": [],
   "source": [
    "audit = (\n",
    "    # pl.read_ndjson(\"../generated/dev5_ACSEmployment_binarized.jsonl\")\n",
    "    pl.read_ndjson(\"../generated_srv/dev5_ACSEmployment_binarized_linear.jsonl\")\n",
    "    # .select(pl.all().exclude(\"model_params\"))\n",
    "    .group_by(\n",
    "        \"dataset\",\n",
    "        \"model_name\",\n",
    "        \"model_params\",\n",
    "        \"strategy\",\n",
    "        \"strategy_params\",\n",
    "        \"audit_budget\",\n",
    "        \"detection_tpr\",\n",
    "        \"detection_tnr\",\n",
    "    )\n",
    "    .mean()\n",
    "    .with_columns(\n",
    "        strategy_json=pl.col(\"strategy_params\").struct.json_encode(),\n",
    "        model_json=pl.col(\"model_params\").struct.json_encode(),\n",
    "    )\n",
    "    .sort(\"detection_tpr\", \"detection_tnr\", descending=[True, False])\n",
    ")"
   ]
  },
  {
   "cell_type": "code",
   "execution_count": 46,
   "metadata": {},
   "outputs": [
    {
     "data": {
      "application/vnd.plotly.v1+json": {
       "config": {
        "plotlyServerURL": "https://plot.ly"
       },
       "data": [
        {
         "hovertemplate": "model_name=exponentiated_gradient<br>demographic_parity_user=%{x}<br>utility_user=%{y}<extra></extra>",
         "legendgroup": "exponentiated_gradient",
         "marker": {
          "color": "#636efa",
          "symbol": "circle"
         },
         "mode": "markers",
         "name": "exponentiated_gradient",
         "orientation": "v",
         "showlegend": true,
         "type": "scatter",
         "x": [
          0.06054130712002427,
          0.048771108175647504,
          0.01862866194323882,
          0.05764348984691753,
          0.030170924042019088,
          0.04363069198789982,
          0.027532952485518104,
          0.019131827097379282,
          0.04636078754295975,
          0.008830293984777526
         ],
         "xaxis": "x",
         "y": [
          0.8197306152165998,
          0.8199344739716053,
          0.8203858755005461,
          0.8197306152165998,
          0.8203567528212595,
          0.8201237713869677,
          0.820444120859119,
          0.8203567528212595,
          0.8198616672733892,
          0.8205606115762649
         ],
         "yaxis": "y"
        },
        {
         "hovertemplate": "model_name=unconstrained<br>demographic_parity_user=%{x}<br>utility_user=%{y}<extra></extra>",
         "legendgroup": "unconstrained",
         "marker": {
          "color": "#EF553B",
          "symbol": "circle"
         },
         "mode": "markers",
         "name": "unconstrained",
         "orientation": "v",
         "showlegend": true,
         "type": "scatter",
         "x": [
          0.0880987345101874
         ],
         "xaxis": "x",
         "y": [
          0.8202548234437568
         ],
         "yaxis": "y"
        }
       ],
       "layout": {
        "height": 600,
        "legend": {
         "title": {
          "text": "model_name"
         },
         "tracegroupgap": 0
        },
        "template": {
         "data": {
          "bar": [
           {
            "error_x": {
             "color": "#2a3f5f"
            },
            "error_y": {
             "color": "#2a3f5f"
            },
            "marker": {
             "line": {
              "color": "#E5ECF6",
              "width": 0.5
             },
             "pattern": {
              "fillmode": "overlay",
              "size": 10,
              "solidity": 0.2
             }
            },
            "type": "bar"
           }
          ],
          "barpolar": [
           {
            "marker": {
             "line": {
              "color": "#E5ECF6",
              "width": 0.5
             },
             "pattern": {
              "fillmode": "overlay",
              "size": 10,
              "solidity": 0.2
             }
            },
            "type": "barpolar"
           }
          ],
          "carpet": [
           {
            "aaxis": {
             "endlinecolor": "#2a3f5f",
             "gridcolor": "white",
             "linecolor": "white",
             "minorgridcolor": "white",
             "startlinecolor": "#2a3f5f"
            },
            "baxis": {
             "endlinecolor": "#2a3f5f",
             "gridcolor": "white",
             "linecolor": "white",
             "minorgridcolor": "white",
             "startlinecolor": "#2a3f5f"
            },
            "type": "carpet"
           }
          ],
          "choropleth": [
           {
            "colorbar": {
             "outlinewidth": 0,
             "ticks": ""
            },
            "type": "choropleth"
           }
          ],
          "contour": [
           {
            "colorbar": {
             "outlinewidth": 0,
             "ticks": ""
            },
            "colorscale": [
             [
              0,
              "#0d0887"
             ],
             [
              0.1111111111111111,
              "#46039f"
             ],
             [
              0.2222222222222222,
              "#7201a8"
             ],
             [
              0.3333333333333333,
              "#9c179e"
             ],
             [
              0.4444444444444444,
              "#bd3786"
             ],
             [
              0.5555555555555556,
              "#d8576b"
             ],
             [
              0.6666666666666666,
              "#ed7953"
             ],
             [
              0.7777777777777778,
              "#fb9f3a"
             ],
             [
              0.8888888888888888,
              "#fdca26"
             ],
             [
              1,
              "#f0f921"
             ]
            ],
            "type": "contour"
           }
          ],
          "contourcarpet": [
           {
            "colorbar": {
             "outlinewidth": 0,
             "ticks": ""
            },
            "type": "contourcarpet"
           }
          ],
          "heatmap": [
           {
            "colorbar": {
             "outlinewidth": 0,
             "ticks": ""
            },
            "colorscale": [
             [
              0,
              "#0d0887"
             ],
             [
              0.1111111111111111,
              "#46039f"
             ],
             [
              0.2222222222222222,
              "#7201a8"
             ],
             [
              0.3333333333333333,
              "#9c179e"
             ],
             [
              0.4444444444444444,
              "#bd3786"
             ],
             [
              0.5555555555555556,
              "#d8576b"
             ],
             [
              0.6666666666666666,
              "#ed7953"
             ],
             [
              0.7777777777777778,
              "#fb9f3a"
             ],
             [
              0.8888888888888888,
              "#fdca26"
             ],
             [
              1,
              "#f0f921"
             ]
            ],
            "type": "heatmap"
           }
          ],
          "heatmapgl": [
           {
            "colorbar": {
             "outlinewidth": 0,
             "ticks": ""
            },
            "colorscale": [
             [
              0,
              "#0d0887"
             ],
             [
              0.1111111111111111,
              "#46039f"
             ],
             [
              0.2222222222222222,
              "#7201a8"
             ],
             [
              0.3333333333333333,
              "#9c179e"
             ],
             [
              0.4444444444444444,
              "#bd3786"
             ],
             [
              0.5555555555555556,
              "#d8576b"
             ],
             [
              0.6666666666666666,
              "#ed7953"
             ],
             [
              0.7777777777777778,
              "#fb9f3a"
             ],
             [
              0.8888888888888888,
              "#fdca26"
             ],
             [
              1,
              "#f0f921"
             ]
            ],
            "type": "heatmapgl"
           }
          ],
          "histogram": [
           {
            "marker": {
             "pattern": {
              "fillmode": "overlay",
              "size": 10,
              "solidity": 0.2
             }
            },
            "type": "histogram"
           }
          ],
          "histogram2d": [
           {
            "colorbar": {
             "outlinewidth": 0,
             "ticks": ""
            },
            "colorscale": [
             [
              0,
              "#0d0887"
             ],
             [
              0.1111111111111111,
              "#46039f"
             ],
             [
              0.2222222222222222,
              "#7201a8"
             ],
             [
              0.3333333333333333,
              "#9c179e"
             ],
             [
              0.4444444444444444,
              "#bd3786"
             ],
             [
              0.5555555555555556,
              "#d8576b"
             ],
             [
              0.6666666666666666,
              "#ed7953"
             ],
             [
              0.7777777777777778,
              "#fb9f3a"
             ],
             [
              0.8888888888888888,
              "#fdca26"
             ],
             [
              1,
              "#f0f921"
             ]
            ],
            "type": "histogram2d"
           }
          ],
          "histogram2dcontour": [
           {
            "colorbar": {
             "outlinewidth": 0,
             "ticks": ""
            },
            "colorscale": [
             [
              0,
              "#0d0887"
             ],
             [
              0.1111111111111111,
              "#46039f"
             ],
             [
              0.2222222222222222,
              "#7201a8"
             ],
             [
              0.3333333333333333,
              "#9c179e"
             ],
             [
              0.4444444444444444,
              "#bd3786"
             ],
             [
              0.5555555555555556,
              "#d8576b"
             ],
             [
              0.6666666666666666,
              "#ed7953"
             ],
             [
              0.7777777777777778,
              "#fb9f3a"
             ],
             [
              0.8888888888888888,
              "#fdca26"
             ],
             [
              1,
              "#f0f921"
             ]
            ],
            "type": "histogram2dcontour"
           }
          ],
          "mesh3d": [
           {
            "colorbar": {
             "outlinewidth": 0,
             "ticks": ""
            },
            "type": "mesh3d"
           }
          ],
          "parcoords": [
           {
            "line": {
             "colorbar": {
              "outlinewidth": 0,
              "ticks": ""
             }
            },
            "type": "parcoords"
           }
          ],
          "pie": [
           {
            "automargin": true,
            "type": "pie"
           }
          ],
          "scatter": [
           {
            "fillpattern": {
             "fillmode": "overlay",
             "size": 10,
             "solidity": 0.2
            },
            "type": "scatter"
           }
          ],
          "scatter3d": [
           {
            "line": {
             "colorbar": {
              "outlinewidth": 0,
              "ticks": ""
             }
            },
            "marker": {
             "colorbar": {
              "outlinewidth": 0,
              "ticks": ""
             }
            },
            "type": "scatter3d"
           }
          ],
          "scattercarpet": [
           {
            "marker": {
             "colorbar": {
              "outlinewidth": 0,
              "ticks": ""
             }
            },
            "type": "scattercarpet"
           }
          ],
          "scattergeo": [
           {
            "marker": {
             "colorbar": {
              "outlinewidth": 0,
              "ticks": ""
             }
            },
            "type": "scattergeo"
           }
          ],
          "scattergl": [
           {
            "marker": {
             "colorbar": {
              "outlinewidth": 0,
              "ticks": ""
             }
            },
            "type": "scattergl"
           }
          ],
          "scattermapbox": [
           {
            "marker": {
             "colorbar": {
              "outlinewidth": 0,
              "ticks": ""
             }
            },
            "type": "scattermapbox"
           }
          ],
          "scatterpolar": [
           {
            "marker": {
             "colorbar": {
              "outlinewidth": 0,
              "ticks": ""
             }
            },
            "type": "scatterpolar"
           }
          ],
          "scatterpolargl": [
           {
            "marker": {
             "colorbar": {
              "outlinewidth": 0,
              "ticks": ""
             }
            },
            "type": "scatterpolargl"
           }
          ],
          "scatterternary": [
           {
            "marker": {
             "colorbar": {
              "outlinewidth": 0,
              "ticks": ""
             }
            },
            "type": "scatterternary"
           }
          ],
          "surface": [
           {
            "colorbar": {
             "outlinewidth": 0,
             "ticks": ""
            },
            "colorscale": [
             [
              0,
              "#0d0887"
             ],
             [
              0.1111111111111111,
              "#46039f"
             ],
             [
              0.2222222222222222,
              "#7201a8"
             ],
             [
              0.3333333333333333,
              "#9c179e"
             ],
             [
              0.4444444444444444,
              "#bd3786"
             ],
             [
              0.5555555555555556,
              "#d8576b"
             ],
             [
              0.6666666666666666,
              "#ed7953"
             ],
             [
              0.7777777777777778,
              "#fb9f3a"
             ],
             [
              0.8888888888888888,
              "#fdca26"
             ],
             [
              1,
              "#f0f921"
             ]
            ],
            "type": "surface"
           }
          ],
          "table": [
           {
            "cells": {
             "fill": {
              "color": "#EBF0F8"
             },
             "line": {
              "color": "white"
             }
            },
            "header": {
             "fill": {
              "color": "#C8D4E3"
             },
             "line": {
              "color": "white"
             }
            },
            "type": "table"
           }
          ]
         },
         "layout": {
          "annotationdefaults": {
           "arrowcolor": "#2a3f5f",
           "arrowhead": 0,
           "arrowwidth": 1
          },
          "autotypenumbers": "strict",
          "coloraxis": {
           "colorbar": {
            "outlinewidth": 0,
            "ticks": ""
           }
          },
          "colorscale": {
           "diverging": [
            [
             0,
             "#8e0152"
            ],
            [
             0.1,
             "#c51b7d"
            ],
            [
             0.2,
             "#de77ae"
            ],
            [
             0.3,
             "#f1b6da"
            ],
            [
             0.4,
             "#fde0ef"
            ],
            [
             0.5,
             "#f7f7f7"
            ],
            [
             0.6,
             "#e6f5d0"
            ],
            [
             0.7,
             "#b8e186"
            ],
            [
             0.8,
             "#7fbc41"
            ],
            [
             0.9,
             "#4d9221"
            ],
            [
             1,
             "#276419"
            ]
           ],
           "sequential": [
            [
             0,
             "#0d0887"
            ],
            [
             0.1111111111111111,
             "#46039f"
            ],
            [
             0.2222222222222222,
             "#7201a8"
            ],
            [
             0.3333333333333333,
             "#9c179e"
            ],
            [
             0.4444444444444444,
             "#bd3786"
            ],
            [
             0.5555555555555556,
             "#d8576b"
            ],
            [
             0.6666666666666666,
             "#ed7953"
            ],
            [
             0.7777777777777778,
             "#fb9f3a"
            ],
            [
             0.8888888888888888,
             "#fdca26"
            ],
            [
             1,
             "#f0f921"
            ]
           ],
           "sequentialminus": [
            [
             0,
             "#0d0887"
            ],
            [
             0.1111111111111111,
             "#46039f"
            ],
            [
             0.2222222222222222,
             "#7201a8"
            ],
            [
             0.3333333333333333,
             "#9c179e"
            ],
            [
             0.4444444444444444,
             "#bd3786"
            ],
            [
             0.5555555555555556,
             "#d8576b"
            ],
            [
             0.6666666666666666,
             "#ed7953"
            ],
            [
             0.7777777777777778,
             "#fb9f3a"
            ],
            [
             0.8888888888888888,
             "#fdca26"
            ],
            [
             1,
             "#f0f921"
            ]
           ]
          },
          "colorway": [
           "#636efa",
           "#EF553B",
           "#00cc96",
           "#ab63fa",
           "#FFA15A",
           "#19d3f3",
           "#FF6692",
           "#B6E880",
           "#FF97FF",
           "#FECB52"
          ],
          "font": {
           "color": "#2a3f5f"
          },
          "geo": {
           "bgcolor": "white",
           "lakecolor": "white",
           "landcolor": "#E5ECF6",
           "showlakes": true,
           "showland": true,
           "subunitcolor": "white"
          },
          "hoverlabel": {
           "align": "left"
          },
          "hovermode": "closest",
          "mapbox": {
           "style": "light"
          },
          "paper_bgcolor": "white",
          "plot_bgcolor": "#E5ECF6",
          "polar": {
           "angularaxis": {
            "gridcolor": "white",
            "linecolor": "white",
            "ticks": ""
           },
           "bgcolor": "#E5ECF6",
           "radialaxis": {
            "gridcolor": "white",
            "linecolor": "white",
            "ticks": ""
           }
          },
          "scene": {
           "xaxis": {
            "backgroundcolor": "#E5ECF6",
            "gridcolor": "white",
            "gridwidth": 2,
            "linecolor": "white",
            "showbackground": true,
            "ticks": "",
            "zerolinecolor": "white"
           },
           "yaxis": {
            "backgroundcolor": "#E5ECF6",
            "gridcolor": "white",
            "gridwidth": 2,
            "linecolor": "white",
            "showbackground": true,
            "ticks": "",
            "zerolinecolor": "white"
           },
           "zaxis": {
            "backgroundcolor": "#E5ECF6",
            "gridcolor": "white",
            "gridwidth": 2,
            "linecolor": "white",
            "showbackground": true,
            "ticks": "",
            "zerolinecolor": "white"
           }
          },
          "shapedefaults": {
           "line": {
            "color": "#2a3f5f"
           }
          },
          "ternary": {
           "aaxis": {
            "gridcolor": "white",
            "linecolor": "white",
            "ticks": ""
           },
           "baxis": {
            "gridcolor": "white",
            "linecolor": "white",
            "ticks": ""
           },
           "bgcolor": "#E5ECF6",
           "caxis": {
            "gridcolor": "white",
            "linecolor": "white",
            "ticks": ""
           }
          },
          "title": {
           "x": 0.05
          },
          "xaxis": {
           "automargin": true,
           "gridcolor": "white",
           "linecolor": "white",
           "ticks": "",
           "title": {
            "standoff": 15
           },
           "zerolinecolor": "white",
           "zerolinewidth": 2
          },
          "yaxis": {
           "automargin": true,
           "gridcolor": "white",
           "linecolor": "white",
           "ticks": "",
           "title": {
            "standoff": 15
           },
           "zerolinecolor": "white",
           "zerolinewidth": 2
          }
         }
        },
        "title": {
         "text": "Honest platform"
        },
        "width": 800,
        "xaxis": {
         "anchor": "y",
         "domain": [
          0,
          1
         ],
         "title": {
          "text": "demographic_parity_user"
         }
        },
        "yaxis": {
         "anchor": "x",
         "domain": [
          0,
          1
         ],
         "title": {
          "text": "utility_user"
         }
        }
       }
      }
     },
     "metadata": {},
     "output_type": "display_data"
    }
   ],
   "source": [
    "fig = px.scatter(\n",
    "    audit.filter(\n",
    "        pl.col(\"detection_tnr\") == 1.0,\n",
    "        pl.col(\"detection_tpr\") == 1.0,\n",
    "        pl.col(\"strategy\") == \"honest\",\n",
    "    ),\n",
    "    x=\"demographic_parity_user\",\n",
    "    y=\"utility_user\",\n",
    "    color=\"model_name\",\n",
    "    category_orders={\"strategy\": audit[\"strategy\"].unique().sort().to_list()},\n",
    "    height=600,\n",
    "    width=800,\n",
    "    title=\"Honest platform\",\n",
    ")\n",
    "fig.show()"
   ]
  },
  {
   "cell_type": "code",
   "execution_count": 47,
   "metadata": {},
   "outputs": [
    {
     "data": {
      "application/vnd.plotly.v1+json": {
       "config": {
        "plotlyServerURL": "https://plot.ly"
       },
       "data": [
        {
         "customdata": [
          [
           "{\"epsilon\":null,\"theta\":0.5}",
           "{\"epsilon\":null}",
           "unconstrained"
          ],
          [
           "{\"epsilon\":null,\"theta\":0.6}",
           "{\"epsilon\":null}",
           "unconstrained"
          ],
          [
           "{\"epsilon\":null,\"theta\":0.4666666666666667}",
           "{\"epsilon\":null}",
           "unconstrained"
          ],
          [
           "{\"epsilon\":null,\"theta\":0.4}",
           "{\"epsilon\":null}",
           "unconstrained"
          ],
          [
           "{\"epsilon\":null,\"theta\":0.36666666666666664}",
           "{\"epsilon\":null}",
           "unconstrained"
          ],
          [
           "{\"epsilon\":null,\"theta\":0.43333333333333335}",
           "{\"epsilon\":null}",
           "unconstrained"
          ],
          [
           "{\"epsilon\":null,\"theta\":0.3}",
           "{\"epsilon\":null}",
           "unconstrained"
          ],
          [
           "{\"epsilon\":null,\"theta\":0.5333333333333333}",
           "{\"epsilon\":null}",
           "unconstrained"
          ],
          [
           "{\"epsilon\":null,\"theta\":0.5666666666666667}",
           "{\"epsilon\":null}",
           "unconstrained"
          ],
          [
           "{\"epsilon\":null,\"theta\":0.3333333333333333}",
           "{\"epsilon\":null}",
           "unconstrained"
          ]
         ],
         "hovertemplate": "strategy=ROC_mitigation<br>is_honest=sneaky<br>demographic_parity_audit=%{x}<br>utility_user=%{y}<br>size=%{marker.size}<br>strategy_json=%{customdata[0]}<br>model_json=%{customdata[1]}<br>model_name=%{customdata[2]}<extra></extra>",
         "legendgroup": "ROC_mitigation, sneaky",
         "marker": {
          "color": "#636efa",
          "size": [
           10,
           10,
           10,
           10,
           10,
           10,
           10,
           10,
           10,
           10
          ],
          "sizemode": "area",
          "sizeref": 0.1,
          "symbol": "circle"
         },
         "mode": "markers",
         "name": "ROC_mitigation, sneaky",
         "orientation": "v",
         "showlegend": true,
         "type": "scatter",
         "x": [
          0.06548256864846143,
          0.02820188113560842,
          0.06548256864846143,
          0.06548256864846143,
          0.06548256864846143,
          0.06548256864846143,
          0.06548256864846143,
          0.05216958361745192,
          0.030877466419889376,
          0.06548256864846143
         ],
         "xaxis": "x",
         "y": [
          0.8202548234437568,
          0.8202548234437568,
          0.8202548234437568,
          0.8202548234437568,
          0.8202548234437568,
          0.8202548234437568,
          0.8202548234437568,
          0.8202548234437568,
          0.8202548234437568,
          0.8202548234437568
         ],
         "yaxis": "y"
        },
        {
         "customdata": [
          [
           "{\"epsilon\":null,\"theta\":null}",
           "{\"epsilon\":null}",
           "unconstrained"
          ]
         ],
         "hovertemplate": "strategy=always_no<br>is_honest=sneaky<br>demographic_parity_audit=%{x}<br>utility_user=%{y}<br>size=%{marker.size}<br>strategy_json=%{customdata[0]}<br>model_json=%{customdata[1]}<br>model_name=%{customdata[2]}<extra></extra>",
         "legendgroup": "always_no, sneaky",
         "marker": {
          "color": "#EF553B",
          "size": [
           10
          ],
          "sizemode": "area",
          "sizeref": 0.1,
          "symbol": "circle"
         },
         "mode": "markers",
         "name": "always_no, sneaky",
         "orientation": "v",
         "showlegend": true,
         "type": "scatter",
         "x": [
          0.04785747529521275
         ],
         "xaxis": "x",
         "y": [
          0.8202548234437568
         ],
         "yaxis": "y"
        },
        {
         "customdata": [
          [
           "{\"epsilon\":null,\"theta\":null}",
           "{\"epsilon\":null}",
           "unconstrained"
          ]
         ],
         "hovertemplate": "strategy=always_yes<br>is_honest=sneaky<br>demographic_parity_audit=%{x}<br>utility_user=%{y}<br>size=%{marker.size}<br>strategy_json=%{customdata[0]}<br>model_json=%{customdata[1]}<br>model_name=%{customdata[2]}<extra></extra>",
         "legendgroup": "always_yes, sneaky",
         "marker": {
          "color": "#00cc96",
          "size": [
           10
          ],
          "sizemode": "area",
          "sizeref": 0.1,
          "symbol": "circle"
         },
         "mode": "markers",
         "name": "always_yes, sneaky",
         "orientation": "v",
         "showlegend": true,
         "type": "scatter",
         "x": [
          0.06898507430377414
         ],
         "xaxis": "x",
         "y": [
          0.8202548234437568
         ],
         "yaxis": "y"
        },
        {
         "customdata": [
          [
           "{\"epsilon\":null,\"theta\":null}",
           "{\"epsilon\":0.001}",
           "exponentiated_gradient"
          ],
          [
           "{\"epsilon\":null,\"theta\":null}",
           "{\"epsilon\":0.08900000000000001}",
           "exponentiated_gradient"
          ],
          [
           "{\"epsilon\":null,\"theta\":null}",
           "{\"epsilon\":0.012}",
           "exponentiated_gradient"
          ],
          [
           "{\"epsilon\":null,\"theta\":null}",
           "{\"epsilon\":0.1}",
           "exponentiated_gradient"
          ],
          [
           "{\"epsilon\":null,\"theta\":null}",
           "{\"epsilon\":0.045000000000000005}",
           "exponentiated_gradient"
          ],
          [
           "{\"epsilon\":null,\"theta\":null}",
           "{\"epsilon\":0.07800000000000001}",
           "exponentiated_gradient"
          ],
          [
           "{\"epsilon\":null,\"theta\":null}",
           "{\"epsilon\":null}",
           "unconstrained"
          ],
          [
           "{\"epsilon\":null,\"theta\":null}",
           "{\"epsilon\":0.067}",
           "exponentiated_gradient"
          ],
          [
           "{\"epsilon\":null,\"theta\":null}",
           "{\"epsilon\":0.034}",
           "exponentiated_gradient"
          ],
          [
           "{\"epsilon\":null,\"theta\":null}",
           "{\"epsilon\":0.023000000000000003}",
           "exponentiated_gradient"
          ],
          [
           "{\"epsilon\":null,\"theta\":null}",
           "{\"epsilon\":0.05600000000000001}",
           "exponentiated_gradient"
          ]
         ],
         "hovertemplate": "strategy=honest<br>is_honest=honest<br>demographic_parity_audit=%{x}<br>utility_user=%{y}<br>size=%{marker.size}<br>strategy_json=%{customdata[0]}<br>model_json=%{customdata[1]}<br>model_name=%{customdata[2]}<extra></extra>",
         "legendgroup": "honest, honest",
         "marker": {
          "color": "#ab63fa",
          "size": [
           10,
           10,
           10,
           10,
           10,
           10,
           10,
           10,
           10,
           10,
           10
          ],
          "sizemode": "area",
          "sizeref": 0.1,
          "symbol": "diamond"
         },
         "mode": "markers",
         "name": "honest, honest",
         "orientation": "v",
         "showlegend": true,
         "type": "scatter",
         "x": [
          0.03290363780021861,
          0.07159788291067308,
          0.04116201794547085,
          0.06682252600361505,
          0.04638330573324241,
          0.06704549144397179,
          0.06548256864846143,
          0.06465781299044275,
          0.04577935080256732,
          0.04011213213408229,
          0.05727181218949895
         ],
         "xaxis": "x",
         "y": [
          0.8205460502366216,
          0.8197306152165998,
          0.8202548234437568,
          0.8197306152165998,
          0.8200946487076812,
          0.8199344739716053,
          0.8202548234437568,
          0.819919912631962,
          0.8201237713869676,
          0.8200946487076812,
          0.8200218420094648
         ],
         "yaxis": "y"
        },
        {
         "customdata": [
          [
           "{\"epsilon\":null,\"theta\":null}",
           "{\"epsilon\":null}",
           "unconstrained"
          ]
         ],
         "hovertemplate": "strategy=model_swap<br>is_honest=sneaky<br>demographic_parity_audit=%{x}<br>utility_user=%{y}<br>size=%{marker.size}<br>strategy_json=%{customdata[0]}<br>model_json=%{customdata[1]}<br>model_name=%{customdata[2]}<extra></extra>",
         "legendgroup": "model_swap, sneaky",
         "marker": {
          "color": "#FFA15A",
          "size": [
           10
          ],
          "sizemode": "area",
          "sizeref": 0.1,
          "symbol": "circle"
         },
         "mode": "markers",
         "name": "model_swap, sneaky",
         "orientation": "v",
         "showlegend": true,
         "type": "scatter",
         "x": [
          0.035048868396272345
         ],
         "xaxis": "x",
         "y": [
          0.8202548234437568
         ],
         "yaxis": "y"
        },
        {
         "customdata": [
          [
           "{\"epsilon\":8.0,\"theta\":null}",
           "{\"epsilon\":null}",
           "unconstrained"
          ],
          [
           "{\"epsilon\":9.0,\"theta\":null}",
           "{\"epsilon\":null}",
           "unconstrained"
          ],
          [
           "{\"epsilon\":3.0,\"theta\":null}",
           "{\"epsilon\":null}",
           "unconstrained"
          ],
          [
           "{\"epsilon\":4.0,\"theta\":null}",
           "{\"epsilon\":null}",
           "unconstrained"
          ],
          [
           "{\"epsilon\":7.0,\"theta\":null}",
           "{\"epsilon\":null}",
           "unconstrained"
          ],
          [
           "{\"epsilon\":6.0,\"theta\":null}",
           "{\"epsilon\":null}",
           "unconstrained"
          ],
          [
           "{\"epsilon\":10.0,\"theta\":null}",
           "{\"epsilon\":null}",
           "unconstrained"
          ],
          [
           "{\"epsilon\":2.0,\"theta\":null}",
           "{\"epsilon\":null}",
           "unconstrained"
          ],
          [
           "{\"epsilon\":1.0,\"theta\":null}",
           "{\"epsilon\":null}",
           "unconstrained"
          ],
          [
           "{\"epsilon\":5.0,\"theta\":null}",
           "{\"epsilon\":null}",
           "unconstrained"
          ]
         ],
         "hovertemplate": "strategy=randomized_response<br>is_honest=sneaky<br>demographic_parity_audit=%{x}<br>utility_user=%{y}<br>size=%{marker.size}<br>strategy_json=%{customdata[0]}<br>model_json=%{customdata[1]}<br>model_name=%{customdata[2]}<extra></extra>",
         "legendgroup": "randomized_response, sneaky",
         "marker": {
          "color": "#19d3f3",
          "size": [
           10,
           10,
           10,
           10,
           10,
           10,
           10,
           10,
           10,
           10
          ],
          "sizemode": "area",
          "sizeref": 0.1,
          "symbol": "circle"
         },
         "mode": "markers",
         "name": "randomized_response, sneaky",
         "orientation": "v",
         "showlegend": true,
         "type": "scatter",
         "x": [
          0.06548256864846143,
          0.06548256864846143,
          0.06548256864846143,
          0.06548256864846143,
          0.06548256864846143,
          0.06548256864846143,
          0.06548256864846143,
          0.06548256864846143,
          0.06548256864846143,
          0.06548256864846143
         ],
         "xaxis": "x",
         "y": [
          0.8202548234437568,
          0.8202548234437568,
          0.8202548234437568,
          0.8202548234437568,
          0.8202548234437568,
          0.8202548234437568,
          0.8202548234437568,
          0.8202548234437568,
          0.8202548234437568,
          0.8202548234437568
         ],
         "yaxis": "y"
        }
       ],
       "layout": {
        "height": 600,
        "legend": {
         "itemsizing": "constant",
         "title": {
          "text": "strategy, is_honest"
         },
         "tracegroupgap": 0
        },
        "template": {
         "data": {
          "bar": [
           {
            "error_x": {
             "color": "#2a3f5f"
            },
            "error_y": {
             "color": "#2a3f5f"
            },
            "marker": {
             "line": {
              "color": "#E5ECF6",
              "width": 0.5
             },
             "pattern": {
              "fillmode": "overlay",
              "size": 10,
              "solidity": 0.2
             }
            },
            "type": "bar"
           }
          ],
          "barpolar": [
           {
            "marker": {
             "line": {
              "color": "#E5ECF6",
              "width": 0.5
             },
             "pattern": {
              "fillmode": "overlay",
              "size": 10,
              "solidity": 0.2
             }
            },
            "type": "barpolar"
           }
          ],
          "carpet": [
           {
            "aaxis": {
             "endlinecolor": "#2a3f5f",
             "gridcolor": "white",
             "linecolor": "white",
             "minorgridcolor": "white",
             "startlinecolor": "#2a3f5f"
            },
            "baxis": {
             "endlinecolor": "#2a3f5f",
             "gridcolor": "white",
             "linecolor": "white",
             "minorgridcolor": "white",
             "startlinecolor": "#2a3f5f"
            },
            "type": "carpet"
           }
          ],
          "choropleth": [
           {
            "colorbar": {
             "outlinewidth": 0,
             "ticks": ""
            },
            "type": "choropleth"
           }
          ],
          "contour": [
           {
            "colorbar": {
             "outlinewidth": 0,
             "ticks": ""
            },
            "colorscale": [
             [
              0,
              "#0d0887"
             ],
             [
              0.1111111111111111,
              "#46039f"
             ],
             [
              0.2222222222222222,
              "#7201a8"
             ],
             [
              0.3333333333333333,
              "#9c179e"
             ],
             [
              0.4444444444444444,
              "#bd3786"
             ],
             [
              0.5555555555555556,
              "#d8576b"
             ],
             [
              0.6666666666666666,
              "#ed7953"
             ],
             [
              0.7777777777777778,
              "#fb9f3a"
             ],
             [
              0.8888888888888888,
              "#fdca26"
             ],
             [
              1,
              "#f0f921"
             ]
            ],
            "type": "contour"
           }
          ],
          "contourcarpet": [
           {
            "colorbar": {
             "outlinewidth": 0,
             "ticks": ""
            },
            "type": "contourcarpet"
           }
          ],
          "heatmap": [
           {
            "colorbar": {
             "outlinewidth": 0,
             "ticks": ""
            },
            "colorscale": [
             [
              0,
              "#0d0887"
             ],
             [
              0.1111111111111111,
              "#46039f"
             ],
             [
              0.2222222222222222,
              "#7201a8"
             ],
             [
              0.3333333333333333,
              "#9c179e"
             ],
             [
              0.4444444444444444,
              "#bd3786"
             ],
             [
              0.5555555555555556,
              "#d8576b"
             ],
             [
              0.6666666666666666,
              "#ed7953"
             ],
             [
              0.7777777777777778,
              "#fb9f3a"
             ],
             [
              0.8888888888888888,
              "#fdca26"
             ],
             [
              1,
              "#f0f921"
             ]
            ],
            "type": "heatmap"
           }
          ],
          "heatmapgl": [
           {
            "colorbar": {
             "outlinewidth": 0,
             "ticks": ""
            },
            "colorscale": [
             [
              0,
              "#0d0887"
             ],
             [
              0.1111111111111111,
              "#46039f"
             ],
             [
              0.2222222222222222,
              "#7201a8"
             ],
             [
              0.3333333333333333,
              "#9c179e"
             ],
             [
              0.4444444444444444,
              "#bd3786"
             ],
             [
              0.5555555555555556,
              "#d8576b"
             ],
             [
              0.6666666666666666,
              "#ed7953"
             ],
             [
              0.7777777777777778,
              "#fb9f3a"
             ],
             [
              0.8888888888888888,
              "#fdca26"
             ],
             [
              1,
              "#f0f921"
             ]
            ],
            "type": "heatmapgl"
           }
          ],
          "histogram": [
           {
            "marker": {
             "pattern": {
              "fillmode": "overlay",
              "size": 10,
              "solidity": 0.2
             }
            },
            "type": "histogram"
           }
          ],
          "histogram2d": [
           {
            "colorbar": {
             "outlinewidth": 0,
             "ticks": ""
            },
            "colorscale": [
             [
              0,
              "#0d0887"
             ],
             [
              0.1111111111111111,
              "#46039f"
             ],
             [
              0.2222222222222222,
              "#7201a8"
             ],
             [
              0.3333333333333333,
              "#9c179e"
             ],
             [
              0.4444444444444444,
              "#bd3786"
             ],
             [
              0.5555555555555556,
              "#d8576b"
             ],
             [
              0.6666666666666666,
              "#ed7953"
             ],
             [
              0.7777777777777778,
              "#fb9f3a"
             ],
             [
              0.8888888888888888,
              "#fdca26"
             ],
             [
              1,
              "#f0f921"
             ]
            ],
            "type": "histogram2d"
           }
          ],
          "histogram2dcontour": [
           {
            "colorbar": {
             "outlinewidth": 0,
             "ticks": ""
            },
            "colorscale": [
             [
              0,
              "#0d0887"
             ],
             [
              0.1111111111111111,
              "#46039f"
             ],
             [
              0.2222222222222222,
              "#7201a8"
             ],
             [
              0.3333333333333333,
              "#9c179e"
             ],
             [
              0.4444444444444444,
              "#bd3786"
             ],
             [
              0.5555555555555556,
              "#d8576b"
             ],
             [
              0.6666666666666666,
              "#ed7953"
             ],
             [
              0.7777777777777778,
              "#fb9f3a"
             ],
             [
              0.8888888888888888,
              "#fdca26"
             ],
             [
              1,
              "#f0f921"
             ]
            ],
            "type": "histogram2dcontour"
           }
          ],
          "mesh3d": [
           {
            "colorbar": {
             "outlinewidth": 0,
             "ticks": ""
            },
            "type": "mesh3d"
           }
          ],
          "parcoords": [
           {
            "line": {
             "colorbar": {
              "outlinewidth": 0,
              "ticks": ""
             }
            },
            "type": "parcoords"
           }
          ],
          "pie": [
           {
            "automargin": true,
            "type": "pie"
           }
          ],
          "scatter": [
           {
            "fillpattern": {
             "fillmode": "overlay",
             "size": 10,
             "solidity": 0.2
            },
            "type": "scatter"
           }
          ],
          "scatter3d": [
           {
            "line": {
             "colorbar": {
              "outlinewidth": 0,
              "ticks": ""
             }
            },
            "marker": {
             "colorbar": {
              "outlinewidth": 0,
              "ticks": ""
             }
            },
            "type": "scatter3d"
           }
          ],
          "scattercarpet": [
           {
            "marker": {
             "colorbar": {
              "outlinewidth": 0,
              "ticks": ""
             }
            },
            "type": "scattercarpet"
           }
          ],
          "scattergeo": [
           {
            "marker": {
             "colorbar": {
              "outlinewidth": 0,
              "ticks": ""
             }
            },
            "type": "scattergeo"
           }
          ],
          "scattergl": [
           {
            "marker": {
             "colorbar": {
              "outlinewidth": 0,
              "ticks": ""
             }
            },
            "type": "scattergl"
           }
          ],
          "scattermapbox": [
           {
            "marker": {
             "colorbar": {
              "outlinewidth": 0,
              "ticks": ""
             }
            },
            "type": "scattermapbox"
           }
          ],
          "scatterpolar": [
           {
            "marker": {
             "colorbar": {
              "outlinewidth": 0,
              "ticks": ""
             }
            },
            "type": "scatterpolar"
           }
          ],
          "scatterpolargl": [
           {
            "marker": {
             "colorbar": {
              "outlinewidth": 0,
              "ticks": ""
             }
            },
            "type": "scatterpolargl"
           }
          ],
          "scatterternary": [
           {
            "marker": {
             "colorbar": {
              "outlinewidth": 0,
              "ticks": ""
             }
            },
            "type": "scatterternary"
           }
          ],
          "surface": [
           {
            "colorbar": {
             "outlinewidth": 0,
             "ticks": ""
            },
            "colorscale": [
             [
              0,
              "#0d0887"
             ],
             [
              0.1111111111111111,
              "#46039f"
             ],
             [
              0.2222222222222222,
              "#7201a8"
             ],
             [
              0.3333333333333333,
              "#9c179e"
             ],
             [
              0.4444444444444444,
              "#bd3786"
             ],
             [
              0.5555555555555556,
              "#d8576b"
             ],
             [
              0.6666666666666666,
              "#ed7953"
             ],
             [
              0.7777777777777778,
              "#fb9f3a"
             ],
             [
              0.8888888888888888,
              "#fdca26"
             ],
             [
              1,
              "#f0f921"
             ]
            ],
            "type": "surface"
           }
          ],
          "table": [
           {
            "cells": {
             "fill": {
              "color": "#EBF0F8"
             },
             "line": {
              "color": "white"
             }
            },
            "header": {
             "fill": {
              "color": "#C8D4E3"
             },
             "line": {
              "color": "white"
             }
            },
            "type": "table"
           }
          ]
         },
         "layout": {
          "annotationdefaults": {
           "arrowcolor": "#2a3f5f",
           "arrowhead": 0,
           "arrowwidth": 1
          },
          "autotypenumbers": "strict",
          "coloraxis": {
           "colorbar": {
            "outlinewidth": 0,
            "ticks": ""
           }
          },
          "colorscale": {
           "diverging": [
            [
             0,
             "#8e0152"
            ],
            [
             0.1,
             "#c51b7d"
            ],
            [
             0.2,
             "#de77ae"
            ],
            [
             0.3,
             "#f1b6da"
            ],
            [
             0.4,
             "#fde0ef"
            ],
            [
             0.5,
             "#f7f7f7"
            ],
            [
             0.6,
             "#e6f5d0"
            ],
            [
             0.7,
             "#b8e186"
            ],
            [
             0.8,
             "#7fbc41"
            ],
            [
             0.9,
             "#4d9221"
            ],
            [
             1,
             "#276419"
            ]
           ],
           "sequential": [
            [
             0,
             "#0d0887"
            ],
            [
             0.1111111111111111,
             "#46039f"
            ],
            [
             0.2222222222222222,
             "#7201a8"
            ],
            [
             0.3333333333333333,
             "#9c179e"
            ],
            [
             0.4444444444444444,
             "#bd3786"
            ],
            [
             0.5555555555555556,
             "#d8576b"
            ],
            [
             0.6666666666666666,
             "#ed7953"
            ],
            [
             0.7777777777777778,
             "#fb9f3a"
            ],
            [
             0.8888888888888888,
             "#fdca26"
            ],
            [
             1,
             "#f0f921"
            ]
           ],
           "sequentialminus": [
            [
             0,
             "#0d0887"
            ],
            [
             0.1111111111111111,
             "#46039f"
            ],
            [
             0.2222222222222222,
             "#7201a8"
            ],
            [
             0.3333333333333333,
             "#9c179e"
            ],
            [
             0.4444444444444444,
             "#bd3786"
            ],
            [
             0.5555555555555556,
             "#d8576b"
            ],
            [
             0.6666666666666666,
             "#ed7953"
            ],
            [
             0.7777777777777778,
             "#fb9f3a"
            ],
            [
             0.8888888888888888,
             "#fdca26"
            ],
            [
             1,
             "#f0f921"
            ]
           ]
          },
          "colorway": [
           "#636efa",
           "#EF553B",
           "#00cc96",
           "#ab63fa",
           "#FFA15A",
           "#19d3f3",
           "#FF6692",
           "#B6E880",
           "#FF97FF",
           "#FECB52"
          ],
          "font": {
           "color": "#2a3f5f"
          },
          "geo": {
           "bgcolor": "white",
           "lakecolor": "white",
           "landcolor": "#E5ECF6",
           "showlakes": true,
           "showland": true,
           "subunitcolor": "white"
          },
          "hoverlabel": {
           "align": "left"
          },
          "hovermode": "closest",
          "mapbox": {
           "style": "light"
          },
          "paper_bgcolor": "white",
          "plot_bgcolor": "#E5ECF6",
          "polar": {
           "angularaxis": {
            "gridcolor": "white",
            "linecolor": "white",
            "ticks": ""
           },
           "bgcolor": "#E5ECF6",
           "radialaxis": {
            "gridcolor": "white",
            "linecolor": "white",
            "ticks": ""
           }
          },
          "scene": {
           "xaxis": {
            "backgroundcolor": "#E5ECF6",
            "gridcolor": "white",
            "gridwidth": 2,
            "linecolor": "white",
            "showbackground": true,
            "ticks": "",
            "zerolinecolor": "white"
           },
           "yaxis": {
            "backgroundcolor": "#E5ECF6",
            "gridcolor": "white",
            "gridwidth": 2,
            "linecolor": "white",
            "showbackground": true,
            "ticks": "",
            "zerolinecolor": "white"
           },
           "zaxis": {
            "backgroundcolor": "#E5ECF6",
            "gridcolor": "white",
            "gridwidth": 2,
            "linecolor": "white",
            "showbackground": true,
            "ticks": "",
            "zerolinecolor": "white"
           }
          },
          "shapedefaults": {
           "line": {
            "color": "#2a3f5f"
           }
          },
          "ternary": {
           "aaxis": {
            "gridcolor": "white",
            "linecolor": "white",
            "ticks": ""
           },
           "baxis": {
            "gridcolor": "white",
            "linecolor": "white",
            "ticks": ""
           },
           "bgcolor": "#E5ECF6",
           "caxis": {
            "gridcolor": "white",
            "linecolor": "white",
            "ticks": ""
           }
          },
          "title": {
           "x": 0.05
          },
          "xaxis": {
           "automargin": true,
           "gridcolor": "white",
           "linecolor": "white",
           "ticks": "",
           "title": {
            "standoff": 15
           },
           "zerolinecolor": "white",
           "zerolinewidth": 2
          },
          "yaxis": {
           "automargin": true,
           "gridcolor": "white",
           "linecolor": "white",
           "ticks": "",
           "title": {
            "standoff": 15
           },
           "zerolinecolor": "white",
           "zerolinewidth": 2
          }
         }
        },
        "title": {
         "text": "Sneaky platform, detection tpr=50%"
        },
        "width": 800,
        "xaxis": {
         "anchor": "y",
         "domain": [
          0,
          1
         ],
         "title": {
          "text": "demographic_parity_audit"
         }
        },
        "yaxis": {
         "anchor": "x",
         "domain": [
          0,
          1
         ],
         "title": {
          "text": "utility_user"
         }
        }
       }
      }
     },
     "metadata": {},
     "output_type": "display_data"
    }
   ],
   "source": [
    "fig = px.scatter(\n",
    "    audit.filter(\n",
    "        pl.col(\"detection_tnr\") == 1.0,\n",
    "        pl.col(\"detection_tpr\") == 0.5,\n",
    "    ).with_columns(\n",
    "        is_honest=pl.when(pl.col(\"strategy\") == \"honest\")\n",
    "        .then(\"strategy\")\n",
    "        .otherwise(pl.lit(\"sneaky\")),\n",
    "        size=10,\n",
    "    ),\n",
    "    x=\"demographic_parity_audit\",\n",
    "    y=\"utility_user\",\n",
    "    color=\"strategy\",\n",
    "    symbol=\"is_honest\",\n",
    "    size=\"size\",\n",
    "    size_max=10,\n",
    "    hover_data=[\"strategy_json\", \"model_json\", \"model_name\"],\n",
    "    category_orders={\"strategy\": audit[\"strategy\"].unique().sort().to_list()},\n",
    "    height=600,\n",
    "    width=800,\n",
    "    title=\"Sneaky platform, detection tpr=50%\",\n",
    ")\n",
    "fig.show()"
   ]
  },
  {
   "cell_type": "code",
   "execution_count": 48,
   "metadata": {},
   "outputs": [
    {
     "data": {
      "application/vnd.plotly.v1+json": {
       "config": {
        "plotlyServerURL": "https://plot.ly"
       },
       "data": [
        {
         "customdata": [
          [
           "{\"epsilon\":8.0,\"theta\":null}",
           "{\"epsilon\":null}",
           "unconstrained"
          ],
          [
           "{\"epsilon\":6.0,\"theta\":null}",
           "{\"epsilon\":null}",
           "unconstrained"
          ],
          [
           "{\"epsilon\":4.0,\"theta\":null}",
           "{\"epsilon\":null}",
           "unconstrained"
          ],
          [
           "{\"epsilon\":3.0,\"theta\":null}",
           "{\"epsilon\":null}",
           "unconstrained"
          ],
          [
           "{\"epsilon\":7.0,\"theta\":null}",
           "{\"epsilon\":null}",
           "unconstrained"
          ],
          [
           "{\"epsilon\":9.0,\"theta\":null}",
           "{\"epsilon\":null}",
           "unconstrained"
          ],
          [
           "{\"epsilon\":1.0,\"theta\":null}",
           "{\"epsilon\":null}",
           "unconstrained"
          ],
          [
           "{\"epsilon\":5.0,\"theta\":null}",
           "{\"epsilon\":null}",
           "unconstrained"
          ],
          [
           "{\"epsilon\":2.0,\"theta\":null}",
           "{\"epsilon\":null}",
           "unconstrained"
          ],
          [
           "{\"epsilon\":10.0,\"theta\":null}",
           "{\"epsilon\":null}",
           "unconstrained"
          ]
         ],
         "hovertemplate": "strategy=randomized_response<br>is_honest=sneaky<br>detection_tpr=1.0<br>detection_tnr=0.95<br>demographic_parity_audit=%{x}<br>utility_user=%{y}<br>size=%{marker.size}<br>strategy_json=%{customdata[0]}<br>model_json=%{customdata[1]}<br>model_name=%{customdata[2]}<extra></extra>",
         "legendgroup": "randomized_response, sneaky",
         "marker": {
          "color": "#636efa",
          "size": [
           10,
           10,
           10,
           10,
           10,
           10,
           10,
           10,
           10,
           10
          ],
          "sizemode": "area",
          "sizeref": 0.1,
          "symbol": "circle"
         },
         "mode": "markers",
         "name": "randomized_response, sneaky",
         "orientation": "v",
         "showlegend": true,
         "type": "scatter",
         "x": [
          0.06548256864846143,
          0.06548256864846143,
          0.06548256864846143,
          0.06548256864846143,
          0.06548256864846143,
          0.06548256864846143,
          0.06548256864846143,
          0.06548256864846143,
          0.06548256864846143,
          0.06548256864846143
         ],
         "xaxis": "x5",
         "y": [
          0.8202548234437568,
          0.8202548234437568,
          0.8202548234437568,
          0.8202548234437568,
          0.8202548234437568,
          0.8202548234437568,
          0.8202548234437568,
          0.8202548234437568,
          0.8202548234437568,
          0.8202548234437568
         ],
         "yaxis": "y5"
        },
        {
         "customdata": [
          [
           "{\"epsilon\":3.0,\"theta\":null}",
           "{\"epsilon\":null}",
           "unconstrained"
          ],
          [
           "{\"epsilon\":9.0,\"theta\":null}",
           "{\"epsilon\":null}",
           "unconstrained"
          ],
          [
           "{\"epsilon\":6.0,\"theta\":null}",
           "{\"epsilon\":null}",
           "unconstrained"
          ],
          [
           "{\"epsilon\":5.0,\"theta\":null}",
           "{\"epsilon\":null}",
           "unconstrained"
          ],
          [
           "{\"epsilon\":2.0,\"theta\":null}",
           "{\"epsilon\":null}",
           "unconstrained"
          ],
          [
           "{\"epsilon\":4.0,\"theta\":null}",
           "{\"epsilon\":null}",
           "unconstrained"
          ],
          [
           "{\"epsilon\":8.0,\"theta\":null}",
           "{\"epsilon\":null}",
           "unconstrained"
          ],
          [
           "{\"epsilon\":7.0,\"theta\":null}",
           "{\"epsilon\":null}",
           "unconstrained"
          ],
          [
           "{\"epsilon\":10.0,\"theta\":null}",
           "{\"epsilon\":null}",
           "unconstrained"
          ],
          [
           "{\"epsilon\":1.0,\"theta\":null}",
           "{\"epsilon\":null}",
           "unconstrained"
          ]
         ],
         "hovertemplate": "strategy=randomized_response<br>is_honest=sneaky<br>detection_tpr=1.0<br>detection_tnr=1.0<br>demographic_parity_audit=%{x}<br>utility_user=%{y}<br>size=%{marker.size}<br>strategy_json=%{customdata[0]}<br>model_json=%{customdata[1]}<br>model_name=%{customdata[2]}<extra></extra>",
         "legendgroup": "randomized_response, sneaky",
         "marker": {
          "color": "#636efa",
          "size": [
           10,
           10,
           10,
           10,
           10,
           10,
           10,
           10,
           10,
           10
          ],
          "sizemode": "area",
          "sizeref": 0.1,
          "symbol": "circle"
         },
         "mode": "markers",
         "name": "randomized_response, sneaky",
         "orientation": "v",
         "showlegend": false,
         "type": "scatter",
         "x": [
          0.06548256864846143,
          0.06548256864846143,
          0.06548256864846143,
          0.06548256864846143,
          0.06548256864846143,
          0.06548256864846143,
          0.06548256864846143,
          0.06548256864846143,
          0.06548256864846143,
          0.06548256864846143
         ],
         "xaxis": "x6",
         "y": [
          0.8202548234437568,
          0.8202548234437568,
          0.8202548234437568,
          0.8202548234437568,
          0.8202548234437568,
          0.8202548234437568,
          0.8202548234437568,
          0.8202548234437568,
          0.8202548234437568,
          0.8202548234437568
         ],
         "yaxis": "y6"
        },
        {
         "customdata": [
          [
           "{\"epsilon\":2.0,\"theta\":null}",
           "{\"epsilon\":null}",
           "unconstrained"
          ],
          [
           "{\"epsilon\":6.0,\"theta\":null}",
           "{\"epsilon\":null}",
           "unconstrained"
          ],
          [
           "{\"epsilon\":10.0,\"theta\":null}",
           "{\"epsilon\":null}",
           "unconstrained"
          ],
          [
           "{\"epsilon\":7.0,\"theta\":null}",
           "{\"epsilon\":null}",
           "unconstrained"
          ],
          [
           "{\"epsilon\":3.0,\"theta\":null}",
           "{\"epsilon\":null}",
           "unconstrained"
          ],
          [
           "{\"epsilon\":8.0,\"theta\":null}",
           "{\"epsilon\":null}",
           "unconstrained"
          ],
          [
           "{\"epsilon\":1.0,\"theta\":null}",
           "{\"epsilon\":null}",
           "unconstrained"
          ],
          [
           "{\"epsilon\":4.0,\"theta\":null}",
           "{\"epsilon\":null}",
           "unconstrained"
          ],
          [
           "{\"epsilon\":5.0,\"theta\":null}",
           "{\"epsilon\":null}",
           "unconstrained"
          ],
          [
           "{\"epsilon\":9.0,\"theta\":null}",
           "{\"epsilon\":null}",
           "unconstrained"
          ]
         ],
         "hovertemplate": "strategy=randomized_response<br>is_honest=sneaky<br>detection_tpr=0.95<br>detection_tnr=0.95<br>demographic_parity_audit=%{x}<br>utility_user=%{y}<br>size=%{marker.size}<br>strategy_json=%{customdata[0]}<br>model_json=%{customdata[1]}<br>model_name=%{customdata[2]}<extra></extra>",
         "legendgroup": "randomized_response, sneaky",
         "marker": {
          "color": "#636efa",
          "size": [
           10,
           10,
           10,
           10,
           10,
           10,
           10,
           10,
           10,
           10
          ],
          "sizemode": "area",
          "sizeref": 0.1,
          "symbol": "circle"
         },
         "mode": "markers",
         "name": "randomized_response, sneaky",
         "orientation": "v",
         "showlegend": false,
         "type": "scatter",
         "x": [
          0.06548256864846143,
          0.06548256864846143,
          0.06548256864846143,
          0.06548256864846143,
          0.06548256864846143,
          0.06548256864846143,
          0.06548256864846143,
          0.06548256864846143,
          0.06548256864846143,
          0.06548256864846143
         ],
         "xaxis": "x3",
         "y": [
          0.8202548234437568,
          0.8202548234437568,
          0.8202548234437568,
          0.8202548234437568,
          0.8202548234437568,
          0.8202548234437568,
          0.8202548234437568,
          0.8202548234437568,
          0.8202548234437568,
          0.8202548234437568
         ],
         "yaxis": "y3"
        },
        {
         "customdata": [
          [
           "{\"epsilon\":4.0,\"theta\":null}",
           "{\"epsilon\":null}",
           "unconstrained"
          ],
          [
           "{\"epsilon\":8.0,\"theta\":null}",
           "{\"epsilon\":null}",
           "unconstrained"
          ],
          [
           "{\"epsilon\":3.0,\"theta\":null}",
           "{\"epsilon\":null}",
           "unconstrained"
          ],
          [
           "{\"epsilon\":7.0,\"theta\":null}",
           "{\"epsilon\":null}",
           "unconstrained"
          ],
          [
           "{\"epsilon\":5.0,\"theta\":null}",
           "{\"epsilon\":null}",
           "unconstrained"
          ],
          [
           "{\"epsilon\":9.0,\"theta\":null}",
           "{\"epsilon\":null}",
           "unconstrained"
          ],
          [
           "{\"epsilon\":6.0,\"theta\":null}",
           "{\"epsilon\":null}",
           "unconstrained"
          ],
          [
           "{\"epsilon\":2.0,\"theta\":null}",
           "{\"epsilon\":null}",
           "unconstrained"
          ],
          [
           "{\"epsilon\":1.0,\"theta\":null}",
           "{\"epsilon\":null}",
           "unconstrained"
          ],
          [
           "{\"epsilon\":10.0,\"theta\":null}",
           "{\"epsilon\":null}",
           "unconstrained"
          ]
         ],
         "hovertemplate": "strategy=randomized_response<br>is_honest=sneaky<br>detection_tpr=0.95<br>detection_tnr=1.0<br>demographic_parity_audit=%{x}<br>utility_user=%{y}<br>size=%{marker.size}<br>strategy_json=%{customdata[0]}<br>model_json=%{customdata[1]}<br>model_name=%{customdata[2]}<extra></extra>",
         "legendgroup": "randomized_response, sneaky",
         "marker": {
          "color": "#636efa",
          "size": [
           10,
           10,
           10,
           10,
           10,
           10,
           10,
           10,
           10,
           10
          ],
          "sizemode": "area",
          "sizeref": 0.1,
          "symbol": "circle"
         },
         "mode": "markers",
         "name": "randomized_response, sneaky",
         "orientation": "v",
         "showlegend": false,
         "type": "scatter",
         "x": [
          0.06548256864846143,
          0.06548256864846143,
          0.06548256864846143,
          0.06548256864846143,
          0.06548256864846143,
          0.06548256864846143,
          0.06548256864846143,
          0.06548256864846143,
          0.06548256864846143,
          0.06548256864846143
         ],
         "xaxis": "x4",
         "y": [
          0.8202548234437568,
          0.8202548234437568,
          0.8202548234437568,
          0.8202548234437568,
          0.8202548234437568,
          0.8202548234437568,
          0.8202548234437568,
          0.8202548234437568,
          0.8202548234437568,
          0.8202548234437568
         ],
         "yaxis": "y4"
        },
        {
         "customdata": [
          [
           "{\"epsilon\":8.0,\"theta\":null}",
           "{\"epsilon\":null}",
           "unconstrained"
          ],
          [
           "{\"epsilon\":9.0,\"theta\":null}",
           "{\"epsilon\":null}",
           "unconstrained"
          ],
          [
           "{\"epsilon\":3.0,\"theta\":null}",
           "{\"epsilon\":null}",
           "unconstrained"
          ],
          [
           "{\"epsilon\":4.0,\"theta\":null}",
           "{\"epsilon\":null}",
           "unconstrained"
          ],
          [
           "{\"epsilon\":7.0,\"theta\":null}",
           "{\"epsilon\":null}",
           "unconstrained"
          ],
          [
           "{\"epsilon\":6.0,\"theta\":null}",
           "{\"epsilon\":null}",
           "unconstrained"
          ],
          [
           "{\"epsilon\":10.0,\"theta\":null}",
           "{\"epsilon\":null}",
           "unconstrained"
          ],
          [
           "{\"epsilon\":2.0,\"theta\":null}",
           "{\"epsilon\":null}",
           "unconstrained"
          ],
          [
           "{\"epsilon\":1.0,\"theta\":null}",
           "{\"epsilon\":null}",
           "unconstrained"
          ],
          [
           "{\"epsilon\":5.0,\"theta\":null}",
           "{\"epsilon\":null}",
           "unconstrained"
          ]
         ],
         "hovertemplate": "strategy=randomized_response<br>is_honest=sneaky<br>detection_tpr=0.5<br>detection_tnr=1.0<br>demographic_parity_audit=%{x}<br>utility_user=%{y}<br>size=%{marker.size}<br>strategy_json=%{customdata[0]}<br>model_json=%{customdata[1]}<br>model_name=%{customdata[2]}<extra></extra>",
         "legendgroup": "randomized_response, sneaky",
         "marker": {
          "color": "#636efa",
          "size": [
           10,
           10,
           10,
           10,
           10,
           10,
           10,
           10,
           10,
           10
          ],
          "sizemode": "area",
          "sizeref": 0.1,
          "symbol": "circle"
         },
         "mode": "markers",
         "name": "randomized_response, sneaky",
         "orientation": "v",
         "showlegend": false,
         "type": "scatter",
         "x": [
          0.06548256864846143,
          0.06548256864846143,
          0.06548256864846143,
          0.06548256864846143,
          0.06548256864846143,
          0.06548256864846143,
          0.06548256864846143,
          0.06548256864846143,
          0.06548256864846143,
          0.06548256864846143
         ],
         "xaxis": "x2",
         "y": [
          0.8202548234437568,
          0.8202548234437568,
          0.8202548234437568,
          0.8202548234437568,
          0.8202548234437568,
          0.8202548234437568,
          0.8202548234437568,
          0.8202548234437568,
          0.8202548234437568,
          0.8202548234437568
         ],
         "yaxis": "y2"
        },
        {
         "customdata": [
          [
           "{\"epsilon\":null,\"theta\":0.6}",
           "{\"epsilon\":null}",
           "unconstrained"
          ],
          [
           "{\"epsilon\":null,\"theta\":0.3333333333333333}",
           "{\"epsilon\":null}",
           "unconstrained"
          ],
          [
           "{\"epsilon\":null,\"theta\":0.5666666666666667}",
           "{\"epsilon\":null}",
           "unconstrained"
          ],
          [
           "{\"epsilon\":null,\"theta\":0.5333333333333333}",
           "{\"epsilon\":null}",
           "unconstrained"
          ],
          [
           "{\"epsilon\":null,\"theta\":0.5}",
           "{\"epsilon\":null}",
           "unconstrained"
          ],
          [
           "{\"epsilon\":null,\"theta\":0.3}",
           "{\"epsilon\":null}",
           "unconstrained"
          ],
          [
           "{\"epsilon\":null,\"theta\":0.43333333333333335}",
           "{\"epsilon\":null}",
           "unconstrained"
          ],
          [
           "{\"epsilon\":null,\"theta\":0.4666666666666667}",
           "{\"epsilon\":null}",
           "unconstrained"
          ],
          [
           "{\"epsilon\":null,\"theta\":0.4}",
           "{\"epsilon\":null}",
           "unconstrained"
          ],
          [
           "{\"epsilon\":null,\"theta\":0.36666666666666664}",
           "{\"epsilon\":null}",
           "unconstrained"
          ]
         ],
         "hovertemplate": "strategy=ROC_mitigation<br>is_honest=sneaky<br>detection_tpr=1.0<br>detection_tnr=0.95<br>demographic_parity_audit=%{x}<br>utility_user=%{y}<br>size=%{marker.size}<br>strategy_json=%{customdata[0]}<br>model_json=%{customdata[1]}<br>model_name=%{customdata[2]}<extra></extra>",
         "legendgroup": "ROC_mitigation, sneaky",
         "marker": {
          "color": "#EF553B",
          "size": [
           10,
           10,
           10,
           10,
           10,
           10,
           10,
           10,
           10,
           10
          ],
          "sizemode": "area",
          "sizeref": 0.1,
          "symbol": "circle"
         },
         "mode": "markers",
         "name": "ROC_mitigation, sneaky",
         "orientation": "v",
         "showlegend": true,
         "type": "scatter",
         "x": [
          0.058525181024125704,
          0.06548256864846143,
          0.03208537628123949,
          0.03684990962323169,
          0.06548256864846143,
          0.06548256864846143,
          0.06548256864846143,
          0.06548256864846143,
          0.06548256864846143,
          0.06548256864846143
         ],
         "xaxis": "x5",
         "y": [
          0.8196578085183838,
          0.8202548234437568,
          0.8201092100473243,
          0.8203130688023297,
          0.8202548234437568,
          0.8202548234437568,
          0.8202548234437568,
          0.8202548234437568,
          0.8202548234437568,
          0.8202548234437568
         ],
         "yaxis": "y5"
        },
        {
         "customdata": [
          [
           "{\"epsilon\":null,\"theta\":0.4666666666666667}",
           "{\"epsilon\":null}",
           "unconstrained"
          ],
          [
           "{\"epsilon\":null,\"theta\":0.5333333333333333}",
           "{\"epsilon\":null}",
           "unconstrained"
          ],
          [
           "{\"epsilon\":null,\"theta\":0.3}",
           "{\"epsilon\":null}",
           "unconstrained"
          ],
          [
           "{\"epsilon\":null,\"theta\":0.5666666666666667}",
           "{\"epsilon\":null}",
           "unconstrained"
          ],
          [
           "{\"epsilon\":null,\"theta\":0.36666666666666664}",
           "{\"epsilon\":null}",
           "unconstrained"
          ],
          [
           "{\"epsilon\":null,\"theta\":0.4}",
           "{\"epsilon\":null}",
           "unconstrained"
          ],
          [
           "{\"epsilon\":null,\"theta\":0.43333333333333335}",
           "{\"epsilon\":null}",
           "unconstrained"
          ],
          [
           "{\"epsilon\":null,\"theta\":0.3333333333333333}",
           "{\"epsilon\":null}",
           "unconstrained"
          ],
          [
           "{\"epsilon\":null,\"theta\":0.5}",
           "{\"epsilon\":null}",
           "unconstrained"
          ],
          [
           "{\"epsilon\":null,\"theta\":0.6}",
           "{\"epsilon\":null}",
           "unconstrained"
          ]
         ],
         "hovertemplate": "strategy=ROC_mitigation<br>is_honest=sneaky<br>detection_tpr=1.0<br>detection_tnr=1.0<br>demographic_parity_audit=%{x}<br>utility_user=%{y}<br>size=%{marker.size}<br>strategy_json=%{customdata[0]}<br>model_json=%{customdata[1]}<br>model_name=%{customdata[2]}<extra></extra>",
         "legendgroup": "ROC_mitigation, sneaky",
         "marker": {
          "color": "#EF553B",
          "size": [
           10,
           10,
           10,
           10,
           10,
           10,
           10,
           10,
           10,
           10
          ],
          "sizemode": "area",
          "sizeref": 0.1,
          "symbol": "circle"
         },
         "mode": "markers",
         "name": "ROC_mitigation, sneaky",
         "orientation": "v",
         "showlegend": false,
         "type": "scatter",
         "x": [
          0.06548256864846143,
          0.03684990962323169,
          0.06548256864846143,
          0.03208537628123949,
          0.06548256864846143,
          0.06548256864846143,
          0.06548256864846143,
          0.06548256864846143,
          0.06548256864846143,
          0.058525181024125704
         ],
         "xaxis": "x6",
         "y": [
          0.8202548234437568,
          0.8202548234437568,
          0.8202548234437568,
          0.8202548234437568,
          0.8202548234437568,
          0.8202548234437568,
          0.8202548234437568,
          0.8202548234437568,
          0.8202548234437568,
          0.8202548234437568
         ],
         "yaxis": "y6"
        },
        {
         "customdata": [
          [
           "{\"epsilon\":null,\"theta\":0.5333333333333333}",
           "{\"epsilon\":null}",
           "unconstrained"
          ],
          [
           "{\"epsilon\":null,\"theta\":0.36666666666666664}",
           "{\"epsilon\":null}",
           "unconstrained"
          ],
          [
           "{\"epsilon\":null,\"theta\":0.3333333333333333}",
           "{\"epsilon\":null}",
           "unconstrained"
          ],
          [
           "{\"epsilon\":null,\"theta\":0.5}",
           "{\"epsilon\":null}",
           "unconstrained"
          ],
          [
           "{\"epsilon\":null,\"theta\":0.5666666666666667}",
           "{\"epsilon\":null}",
           "unconstrained"
          ],
          [
           "{\"epsilon\":null,\"theta\":0.6}",
           "{\"epsilon\":null}",
           "unconstrained"
          ],
          [
           "{\"epsilon\":null,\"theta\":0.3}",
           "{\"epsilon\":null}",
           "unconstrained"
          ],
          [
           "{\"epsilon\":null,\"theta\":0.4}",
           "{\"epsilon\":null}",
           "unconstrained"
          ],
          [
           "{\"epsilon\":null,\"theta\":0.4666666666666667}",
           "{\"epsilon\":null}",
           "unconstrained"
          ],
          [
           "{\"epsilon\":null,\"theta\":0.43333333333333335}",
           "{\"epsilon\":null}",
           "unconstrained"
          ]
         ],
         "hovertemplate": "strategy=ROC_mitigation<br>is_honest=sneaky<br>detection_tpr=0.95<br>detection_tnr=0.95<br>demographic_parity_audit=%{x}<br>utility_user=%{y}<br>size=%{marker.size}<br>strategy_json=%{customdata[0]}<br>model_json=%{customdata[1]}<br>model_name=%{customdata[2]}<extra></extra>",
         "legendgroup": "ROC_mitigation, sneaky",
         "marker": {
          "color": "#EF553B",
          "size": [
           10,
           10,
           10,
           10,
           10,
           10,
           10,
           10,
           10,
           10
          ],
          "sizemode": "area",
          "sizeref": 0.1,
          "symbol": "circle"
         },
         "mode": "markers",
         "name": "ROC_mitigation, sneaky",
         "orientation": "v",
         "showlegend": false,
         "type": "scatter",
         "x": [
          0.03796473682501542,
          0.06548256864846143,
          0.06548256864846143,
          0.06548256864846143,
          0.028359905185570022,
          0.05323895184595902,
          0.06548256864846143,
          0.06548256864846143,
          0.06548256864846143,
          0.06548256864846143
         ],
         "xaxis": "x3",
         "y": [
          0.8203130688023297,
          0.8202548234437568,
          0.8202548234437568,
          0.8202548234437568,
          0.8201092100473243,
          0.8196578085183838,
          0.8202548234437568,
          0.8202548234437568,
          0.8202548234437568,
          0.8202548234437568
         ],
         "yaxis": "y3"
        },
        {
         "customdata": [
          [
           "{\"epsilon\":null,\"theta\":0.36666666666666664}",
           "{\"epsilon\":null}",
           "unconstrained"
          ],
          [
           "{\"epsilon\":null,\"theta\":0.3333333333333333}",
           "{\"epsilon\":null}",
           "unconstrained"
          ],
          [
           "{\"epsilon\":null,\"theta\":0.4}",
           "{\"epsilon\":null}",
           "unconstrained"
          ],
          [
           "{\"epsilon\":null,\"theta\":0.5}",
           "{\"epsilon\":null}",
           "unconstrained"
          ],
          [
           "{\"epsilon\":null,\"theta\":0.5666666666666667}",
           "{\"epsilon\":null}",
           "unconstrained"
          ],
          [
           "{\"epsilon\":null,\"theta\":0.6}",
           "{\"epsilon\":null}",
           "unconstrained"
          ],
          [
           "{\"epsilon\":null,\"theta\":0.43333333333333335}",
           "{\"epsilon\":null}",
           "unconstrained"
          ],
          [
           "{\"epsilon\":null,\"theta\":0.3}",
           "{\"epsilon\":null}",
           "unconstrained"
          ],
          [
           "{\"epsilon\":null,\"theta\":0.5333333333333333}",
           "{\"epsilon\":null}",
           "unconstrained"
          ],
          [
           "{\"epsilon\":null,\"theta\":0.4666666666666667}",
           "{\"epsilon\":null}",
           "unconstrained"
          ]
         ],
         "hovertemplate": "strategy=ROC_mitigation<br>is_honest=sneaky<br>detection_tpr=0.95<br>detection_tnr=1.0<br>demographic_parity_audit=%{x}<br>utility_user=%{y}<br>size=%{marker.size}<br>strategy_json=%{customdata[0]}<br>model_json=%{customdata[1]}<br>model_name=%{customdata[2]}<extra></extra>",
         "legendgroup": "ROC_mitigation, sneaky",
         "marker": {
          "color": "#EF553B",
          "size": [
           10,
           10,
           10,
           10,
           10,
           10,
           10,
           10,
           10,
           10
          ],
          "sizemode": "area",
          "sizeref": 0.1,
          "symbol": "circle"
         },
         "mode": "markers",
         "name": "ROC_mitigation, sneaky",
         "orientation": "v",
         "showlegend": false,
         "type": "scatter",
         "x": [
          0.06548256864846143,
          0.06548256864846143,
          0.06548256864846143,
          0.06548256864846143,
          0.028359905185570022,
          0.05323895184595902,
          0.06548256864846143,
          0.06548256864846143,
          0.03796473682501542,
          0.06548256864846143
         ],
         "xaxis": "x4",
         "y": [
          0.8202548234437568,
          0.8202548234437568,
          0.8202548234437568,
          0.8202548234437568,
          0.8202548234437568,
          0.8202548234437568,
          0.8202548234437568,
          0.8202548234437568,
          0.8202548234437568,
          0.8202548234437568
         ],
         "yaxis": "y4"
        },
        {
         "customdata": [
          [
           "{\"epsilon\":null,\"theta\":0.5}",
           "{\"epsilon\":null}",
           "unconstrained"
          ],
          [
           "{\"epsilon\":null,\"theta\":0.6}",
           "{\"epsilon\":null}",
           "unconstrained"
          ],
          [
           "{\"epsilon\":null,\"theta\":0.4666666666666667}",
           "{\"epsilon\":null}",
           "unconstrained"
          ],
          [
           "{\"epsilon\":null,\"theta\":0.4}",
           "{\"epsilon\":null}",
           "unconstrained"
          ],
          [
           "{\"epsilon\":null,\"theta\":0.36666666666666664}",
           "{\"epsilon\":null}",
           "unconstrained"
          ],
          [
           "{\"epsilon\":null,\"theta\":0.43333333333333335}",
           "{\"epsilon\":null}",
           "unconstrained"
          ],
          [
           "{\"epsilon\":null,\"theta\":0.3}",
           "{\"epsilon\":null}",
           "unconstrained"
          ],
          [
           "{\"epsilon\":null,\"theta\":0.5333333333333333}",
           "{\"epsilon\":null}",
           "unconstrained"
          ],
          [
           "{\"epsilon\":null,\"theta\":0.5666666666666667}",
           "{\"epsilon\":null}",
           "unconstrained"
          ],
          [
           "{\"epsilon\":null,\"theta\":0.3333333333333333}",
           "{\"epsilon\":null}",
           "unconstrained"
          ]
         ],
         "hovertemplate": "strategy=ROC_mitigation<br>is_honest=sneaky<br>detection_tpr=0.5<br>detection_tnr=1.0<br>demographic_parity_audit=%{x}<br>utility_user=%{y}<br>size=%{marker.size}<br>strategy_json=%{customdata[0]}<br>model_json=%{customdata[1]}<br>model_name=%{customdata[2]}<extra></extra>",
         "legendgroup": "ROC_mitigation, sneaky",
         "marker": {
          "color": "#EF553B",
          "size": [
           10,
           10,
           10,
           10,
           10,
           10,
           10,
           10,
           10,
           10
          ],
          "sizemode": "area",
          "sizeref": 0.1,
          "symbol": "circle"
         },
         "mode": "markers",
         "name": "ROC_mitigation, sneaky",
         "orientation": "v",
         "showlegend": false,
         "type": "scatter",
         "x": [
          0.06548256864846143,
          0.02820188113560842,
          0.06548256864846143,
          0.06548256864846143,
          0.06548256864846143,
          0.06548256864846143,
          0.06548256864846143,
          0.05216958361745192,
          0.030877466419889376,
          0.06548256864846143
         ],
         "xaxis": "x2",
         "y": [
          0.8202548234437568,
          0.8202548234437568,
          0.8202548234437568,
          0.8202548234437568,
          0.8202548234437568,
          0.8202548234437568,
          0.8202548234437568,
          0.8202548234437568,
          0.8202548234437568,
          0.8202548234437568
         ],
         "yaxis": "y2"
        },
        {
         "customdata": [
          [
           "{\"epsilon\":null,\"theta\":null}",
           "{\"epsilon\":0.023000000000000003}",
           "exponentiated_gradient"
          ],
          [
           "{\"epsilon\":null,\"theta\":null}",
           "{\"epsilon\":0.1}",
           "exponentiated_gradient"
          ],
          [
           "{\"epsilon\":null,\"theta\":null}",
           "{\"epsilon\":0.07800000000000001}",
           "exponentiated_gradient"
          ],
          [
           "{\"epsilon\":null,\"theta\":null}",
           "{\"epsilon\":null}",
           "unconstrained"
          ],
          [
           "{\"epsilon\":null,\"theta\":null}",
           "{\"epsilon\":0.067}",
           "exponentiated_gradient"
          ],
          [
           "{\"epsilon\":null,\"theta\":null}",
           "{\"epsilon\":0.05600000000000001}",
           "exponentiated_gradient"
          ],
          [
           "{\"epsilon\":null,\"theta\":null}",
           "{\"epsilon\":0.034}",
           "exponentiated_gradient"
          ],
          [
           "{\"epsilon\":null,\"theta\":null}",
           "{\"epsilon\":0.001}",
           "exponentiated_gradient"
          ],
          [
           "{\"epsilon\":null,\"theta\":null}",
           "{\"epsilon\":0.012}",
           "exponentiated_gradient"
          ],
          [
           "{\"epsilon\":null,\"theta\":null}",
           "{\"epsilon\":0.045000000000000005}",
           "exponentiated_gradient"
          ],
          [
           "{\"epsilon\":null,\"theta\":null}",
           "{\"epsilon\":0.08900000000000001}",
           "exponentiated_gradient"
          ]
         ],
         "hovertemplate": "strategy=honest<br>is_honest=honest<br>detection_tpr=1.0<br>detection_tnr=0.95<br>demographic_parity_audit=%{x}<br>utility_user=%{y}<br>size=%{marker.size}<br>strategy_json=%{customdata[0]}<br>model_json=%{customdata[1]}<br>model_name=%{customdata[2]}<extra></extra>",
         "legendgroup": "honest, honest",
         "marker": {
          "color": "#00cc96",
          "size": [
           10,
           10,
           10,
           10,
           10,
           10,
           10,
           10,
           10,
           10,
           10
          ],
          "sizemode": "area",
          "sizeref": 0.1,
          "symbol": "diamond"
         },
         "mode": "markers",
         "name": "honest, honest",
         "orientation": "v",
         "showlegend": true,
         "type": "scatter",
         "x": [
          0.04488748904114035,
          0.06682252600361505,
          0.06704549144397179,
          0.06548256864846143,
          0.06271606541762723,
          0.05294238616315441,
          0.04988581138855517,
          0.03290363780021861,
          0.030403394270004623,
          0.04899394962712818,
          0.07159788291067308
         ],
         "xaxis": "x5",
         "y": [
          0.8202548234437568,
          0.8197306152165998,
          0.8199344739716053,
          0.8202548234437568,
          0.8199781579905352,
          0.8202693847834001,
          0.8204149981798325,
          0.8203713141609029,
          0.8200218420094648,
          0.8200800873680378,
          0.8197306152165998
         ],
         "yaxis": "y5"
        },
        {
         "customdata": [
          [
           "{\"epsilon\":null,\"theta\":null}",
           "{\"epsilon\":0.1}",
           "exponentiated_gradient"
          ],
          [
           "{\"epsilon\":null,\"theta\":null}",
           "{\"epsilon\":0.07800000000000001}",
           "exponentiated_gradient"
          ],
          [
           "{\"epsilon\":null,\"theta\":null}",
           "{\"epsilon\":0.012}",
           "exponentiated_gradient"
          ],
          [
           "{\"epsilon\":null,\"theta\":null}",
           "{\"epsilon\":0.08900000000000001}",
           "exponentiated_gradient"
          ],
          [
           "{\"epsilon\":null,\"theta\":null}",
           "{\"epsilon\":0.045000000000000005}",
           "exponentiated_gradient"
          ],
          [
           "{\"epsilon\":null,\"theta\":null}",
           "{\"epsilon\":0.05600000000000001}",
           "exponentiated_gradient"
          ],
          [
           "{\"epsilon\":null,\"theta\":null}",
           "{\"epsilon\":0.034}",
           "exponentiated_gradient"
          ],
          [
           "{\"epsilon\":null,\"theta\":null}",
           "{\"epsilon\":0.023000000000000003}",
           "exponentiated_gradient"
          ],
          [
           "{\"epsilon\":null,\"theta\":null}",
           "{\"epsilon\":0.067}",
           "exponentiated_gradient"
          ],
          [
           "{\"epsilon\":null,\"theta\":null}",
           "{\"epsilon\":null}",
           "unconstrained"
          ],
          [
           "{\"epsilon\":null,\"theta\":null}",
           "{\"epsilon\":0.001}",
           "exponentiated_gradient"
          ]
         ],
         "hovertemplate": "strategy=honest<br>is_honest=honest<br>detection_tpr=1.0<br>detection_tnr=1.0<br>demographic_parity_audit=%{x}<br>utility_user=%{y}<br>size=%{marker.size}<br>strategy_json=%{customdata[0]}<br>model_json=%{customdata[1]}<br>model_name=%{customdata[2]}<extra></extra>",
         "legendgroup": "honest, honest",
         "marker": {
          "color": "#00cc96",
          "size": [
           10,
           10,
           10,
           10,
           10,
           10,
           10,
           10,
           10,
           10,
           10
          ],
          "sizemode": "area",
          "sizeref": 0.1,
          "symbol": "diamond"
         },
         "mode": "markers",
         "name": "honest, honest",
         "orientation": "v",
         "showlegend": false,
         "type": "scatter",
         "x": [
          0.06682252600361505,
          0.06704549144397179,
          0.03401846500200234,
          0.07159788291067308,
          0.04899394962712818,
          0.0592135597623145,
          0.05526512322628825,
          0.04943988050784165,
          0.06465781299044275,
          0.06548256864846143,
          0.03640614345553135
         ],
         "xaxis": "x6",
         "y": [
          0.8197306152165998,
          0.8199344739716053,
          0.8203858755005461,
          0.8197306152165998,
          0.8203567528212595,
          0.8201237713869677,
          0.820444120859119,
          0.8203567528212595,
          0.8198616672733892,
          0.8202548234437568,
          0.8205606115762649
         ],
         "yaxis": "y6"
        },
        {
         "customdata": [
          [
           "{\"epsilon\":null,\"theta\":null}",
           "{\"epsilon\":0.05600000000000001}",
           "exponentiated_gradient"
          ],
          [
           "{\"epsilon\":null,\"theta\":null}",
           "{\"epsilon\":0.08900000000000001}",
           "exponentiated_gradient"
          ],
          [
           "{\"epsilon\":null,\"theta\":null}",
           "{\"epsilon\":0.045000000000000005}",
           "exponentiated_gradient"
          ],
          [
           "{\"epsilon\":null,\"theta\":null}",
           "{\"epsilon\":0.1}",
           "exponentiated_gradient"
          ],
          [
           "{\"epsilon\":null,\"theta\":null}",
           "{\"epsilon\":0.001}",
           "exponentiated_gradient"
          ],
          [
           "{\"epsilon\":null,\"theta\":null}",
           "{\"epsilon\":0.012}",
           "exponentiated_gradient"
          ],
          [
           "{\"epsilon\":null,\"theta\":null}",
           "{\"epsilon\":0.067}",
           "exponentiated_gradient"
          ],
          [
           "{\"epsilon\":null,\"theta\":null}",
           "{\"epsilon\":0.023000000000000003}",
           "exponentiated_gradient"
          ],
          [
           "{\"epsilon\":null,\"theta\":null}",
           "{\"epsilon\":null}",
           "unconstrained"
          ],
          [
           "{\"epsilon\":null,\"theta\":null}",
           "{\"epsilon\":0.034}",
           "exponentiated_gradient"
          ],
          [
           "{\"epsilon\":null,\"theta\":null}",
           "{\"epsilon\":0.07800000000000001}",
           "exponentiated_gradient"
          ]
         ],
         "hovertemplate": "strategy=honest<br>is_honest=honest<br>detection_tpr=0.95<br>detection_tnr=0.95<br>demographic_parity_audit=%{x}<br>utility_user=%{y}<br>size=%{marker.size}<br>strategy_json=%{customdata[0]}<br>model_json=%{customdata[1]}<br>model_name=%{customdata[2]}<extra></extra>",
         "legendgroup": "honest, honest",
         "marker": {
          "color": "#00cc96",
          "size": [
           10,
           10,
           10,
           10,
           10,
           10,
           10,
           10,
           10,
           10,
           10
          ],
          "sizemode": "area",
          "sizeref": 0.1,
          "symbol": "diamond"
         },
         "mode": "markers",
         "name": "honest, honest",
         "orientation": "v",
         "showlegend": false,
         "type": "scatter",
         "x": [
          0.05637995042807198,
          0.07159788291067308,
          0.0468292366139559,
          0.06682252600361505,
          0.03901678734941712,
          0.0342414304423591,
          0.06077431784481169,
          0.04444155816042685,
          0.06548256864846143,
          0.04921691506748491,
          0.06704549144397179
         ],
         "xaxis": "x3",
         "y": [
          0.820138332726611,
          0.8197306152165998,
          0.820196578085184,
          0.8197306152165998,
          0.8205897342555515,
          0.8204441208591191,
          0.8200800873680378,
          0.8205314888969786,
          0.8202548234437568,
          0.8203276301419731,
          0.8199344739716053
         ],
         "yaxis": "y3"
        },
        {
         "customdata": [
          [
           "{\"epsilon\":null,\"theta\":null}",
           "{\"epsilon\":0.1}",
           "exponentiated_gradient"
          ],
          [
           "{\"epsilon\":null,\"theta\":null}",
           "{\"epsilon\":0.07800000000000001}",
           "exponentiated_gradient"
          ],
          [
           "{\"epsilon\":null,\"theta\":null}",
           "{\"epsilon\":0.034}",
           "exponentiated_gradient"
          ],
          [
           "{\"epsilon\":null,\"theta\":null}",
           "{\"epsilon\":0.012}",
           "exponentiated_gradient"
          ],
          [
           "{\"epsilon\":null,\"theta\":null}",
           "{\"epsilon\":null}",
           "unconstrained"
          ],
          [
           "{\"epsilon\":null,\"theta\":null}",
           "{\"epsilon\":0.001}",
           "exponentiated_gradient"
          ],
          [
           "{\"epsilon\":null,\"theta\":null}",
           "{\"epsilon\":0.023000000000000003}",
           "exponentiated_gradient"
          ],
          [
           "{\"epsilon\":null,\"theta\":null}",
           "{\"epsilon\":0.045000000000000005}",
           "exponentiated_gradient"
          ],
          [
           "{\"epsilon\":null,\"theta\":null}",
           "{\"epsilon\":0.05600000000000001}",
           "exponentiated_gradient"
          ],
          [
           "{\"epsilon\":null,\"theta\":null}",
           "{\"epsilon\":0.067}",
           "exponentiated_gradient"
          ],
          [
           "{\"epsilon\":null,\"theta\":null}",
           "{\"epsilon\":0.08900000000000001}",
           "exponentiated_gradient"
          ]
         ],
         "hovertemplate": "strategy=honest<br>is_honest=honest<br>detection_tpr=0.95<br>detection_tnr=1.0<br>demographic_parity_audit=%{x}<br>utility_user=%{y}<br>size=%{marker.size}<br>strategy_json=%{customdata[0]}<br>model_json=%{customdata[1]}<br>model_name=%{customdata[2]}<extra></extra>",
         "legendgroup": "honest, honest",
         "marker": {
          "color": "#00cc96",
          "size": [
           10,
           10,
           10,
           10,
           10,
           10,
           10,
           10,
           10,
           10,
           10
          ],
          "sizemode": "area",
          "sizeref": 0.1,
          "symbol": "diamond"
         },
         "mode": "markers",
         "name": "honest, honest",
         "orientation": "v",
         "showlegend": false,
         "type": "scatter",
         "x": [
          0.06682252600361505,
          0.06704549144397179,
          0.045556385362210586,
          0.03228020045242499,
          0.06548256864846143,
          0.032299682869543545,
          0.04959790455780322,
          0.04727516749466938,
          0.057048846749142214,
          0.06465781299044275,
          0.07159788291067308
         ],
         "xaxis": "x4",
         "y": [
          0.8197306152165998,
          0.8199344739716053,
          0.8204149981798323,
          0.8205169275573352,
          0.8202548234437568,
          0.820502366217692,
          0.8202985074626866,
          0.8202257007644704,
          0.8198907899526757,
          0.8199053512923189,
          0.8197306152165998
         ],
         "yaxis": "y4"
        },
        {
         "customdata": [
          [
           "{\"epsilon\":null,\"theta\":null}",
           "{\"epsilon\":0.001}",
           "exponentiated_gradient"
          ],
          [
           "{\"epsilon\":null,\"theta\":null}",
           "{\"epsilon\":0.08900000000000001}",
           "exponentiated_gradient"
          ],
          [
           "{\"epsilon\":null,\"theta\":null}",
           "{\"epsilon\":0.012}",
           "exponentiated_gradient"
          ],
          [
           "{\"epsilon\":null,\"theta\":null}",
           "{\"epsilon\":0.1}",
           "exponentiated_gradient"
          ],
          [
           "{\"epsilon\":null,\"theta\":null}",
           "{\"epsilon\":0.045000000000000005}",
           "exponentiated_gradient"
          ],
          [
           "{\"epsilon\":null,\"theta\":null}",
           "{\"epsilon\":0.07800000000000001}",
           "exponentiated_gradient"
          ],
          [
           "{\"epsilon\":null,\"theta\":null}",
           "{\"epsilon\":null}",
           "unconstrained"
          ],
          [
           "{\"epsilon\":null,\"theta\":null}",
           "{\"epsilon\":0.067}",
           "exponentiated_gradient"
          ],
          [
           "{\"epsilon\":null,\"theta\":null}",
           "{\"epsilon\":0.034}",
           "exponentiated_gradient"
          ],
          [
           "{\"epsilon\":null,\"theta\":null}",
           "{\"epsilon\":0.023000000000000003}",
           "exponentiated_gradient"
          ],
          [
           "{\"epsilon\":null,\"theta\":null}",
           "{\"epsilon\":0.05600000000000001}",
           "exponentiated_gradient"
          ]
         ],
         "hovertemplate": "strategy=honest<br>is_honest=honest<br>detection_tpr=0.5<br>detection_tnr=1.0<br>demographic_parity_audit=%{x}<br>utility_user=%{y}<br>size=%{marker.size}<br>strategy_json=%{customdata[0]}<br>model_json=%{customdata[1]}<br>model_name=%{customdata[2]}<extra></extra>",
         "legendgroup": "honest, honest",
         "marker": {
          "color": "#00cc96",
          "size": [
           10,
           10,
           10,
           10,
           10,
           10,
           10,
           10,
           10,
           10,
           10
          ],
          "sizemode": "area",
          "sizeref": 0.1,
          "symbol": "diamond"
         },
         "mode": "markers",
         "name": "honest, honest",
         "orientation": "v",
         "showlegend": false,
         "type": "scatter",
         "x": [
          0.03290363780021861,
          0.07159788291067308,
          0.04116201794547085,
          0.06682252600361505,
          0.04638330573324241,
          0.06704549144397179,
          0.06548256864846143,
          0.06465781299044275,
          0.04577935080256732,
          0.04011213213408229,
          0.05727181218949895
         ],
         "xaxis": "x2",
         "y": [
          0.8205460502366216,
          0.8197306152165998,
          0.8202548234437568,
          0.8197306152165998,
          0.8200946487076812,
          0.8199344739716053,
          0.8202548234437568,
          0.819919912631962,
          0.8201237713869676,
          0.8200946487076812,
          0.8200218420094648
         ],
         "yaxis": "y2"
        },
        {
         "customdata": [
          [
           "{\"epsilon\":null,\"theta\":null}",
           "{\"epsilon\":null}",
           "unconstrained"
          ]
         ],
         "hovertemplate": "strategy=model_swap<br>is_honest=sneaky<br>detection_tpr=1.0<br>detection_tnr=0.95<br>demographic_parity_audit=%{x}<br>utility_user=%{y}<br>size=%{marker.size}<br>strategy_json=%{customdata[0]}<br>model_json=%{customdata[1]}<br>model_name=%{customdata[2]}<extra></extra>",
         "legendgroup": "model_swap, sneaky",
         "marker": {
          "color": "#ab63fa",
          "size": [
           10
          ],
          "sizemode": "area",
          "sizeref": 0.1,
          "symbol": "circle"
         },
         "mode": "markers",
         "name": "model_swap, sneaky",
         "orientation": "v",
         "showlegend": true,
         "type": "scatter",
         "x": [
          0.029753980366052944
         ],
         "xaxis": "x5",
         "y": [
          0.8202548234437568
         ],
         "yaxis": "y5"
        },
        {
         "customdata": [
          [
           "{\"epsilon\":null,\"theta\":null}",
           "{\"epsilon\":null}",
           "unconstrained"
          ]
         ],
         "hovertemplate": "strategy=model_swap<br>is_honest=sneaky<br>detection_tpr=1.0<br>detection_tnr=1.0<br>demographic_parity_audit=%{x}<br>utility_user=%{y}<br>size=%{marker.size}<br>strategy_json=%{customdata[0]}<br>model_json=%{customdata[1]}<br>model_name=%{customdata[2]}<extra></extra>",
         "legendgroup": "model_swap, sneaky",
         "marker": {
          "color": "#ab63fa",
          "size": [
           10
          ],
          "sizemode": "area",
          "sizeref": 0.1,
          "symbol": "circle"
         },
         "mode": "markers",
         "name": "model_swap, sneaky",
         "orientation": "v",
         "showlegend": false,
         "type": "scatter",
         "x": [
          0.03408340639239751
         ],
         "xaxis": "x6",
         "y": [
          0.8202548234437568
         ],
         "yaxis": "y6"
        },
        {
         "customdata": [
          [
           "{\"epsilon\":null,\"theta\":null}",
           "{\"epsilon\":null}",
           "unconstrained"
          ]
         ],
         "hovertemplate": "strategy=model_swap<br>is_honest=sneaky<br>detection_tpr=0.95<br>detection_tnr=0.95<br>demographic_parity_audit=%{x}<br>utility_user=%{y}<br>size=%{marker.size}<br>strategy_json=%{customdata[0]}<br>model_json=%{customdata[1]}<br>model_name=%{customdata[2]}<extra></extra>",
         "legendgroup": "model_swap, sneaky",
         "marker": {
          "color": "#ab63fa",
          "size": [
           10
          ],
          "sizemode": "area",
          "sizeref": 0.1,
          "symbol": "circle"
         },
         "mode": "markers",
         "name": "model_swap, sneaky",
         "orientation": "v",
         "showlegend": false,
         "type": "scatter",
         "x": [
          0.03281055514065221
         ],
         "xaxis": "x3",
         "y": [
          0.8202839461230432
         ],
         "yaxis": "y3"
        },
        {
         "customdata": [
          [
           "{\"epsilon\":null,\"theta\":null}",
           "{\"epsilon\":null}",
           "unconstrained"
          ]
         ],
         "hovertemplate": "strategy=model_swap<br>is_honest=sneaky<br>detection_tpr=0.95<br>detection_tnr=1.0<br>demographic_parity_audit=%{x}<br>utility_user=%{y}<br>size=%{marker.size}<br>strategy_json=%{customdata[0]}<br>model_json=%{customdata[1]}<br>model_name=%{customdata[2]}<extra></extra>",
         "legendgroup": "model_swap, sneaky",
         "marker": {
          "color": "#ab63fa",
          "size": [
           10
          ],
          "sizemode": "area",
          "sizeref": 0.1,
          "symbol": "circle"
         },
         "mode": "markers",
         "name": "model_swap, sneaky",
         "orientation": "v",
         "showlegend": false,
         "type": "scatter",
         "x": [
          0.03236462425993871
         ],
         "xaxis": "x4",
         "y": [
          0.8202548234437568
         ],
         "yaxis": "y4"
        },
        {
         "customdata": [
          [
           "{\"epsilon\":null,\"theta\":null}",
           "{\"epsilon\":null}",
           "unconstrained"
          ]
         ],
         "hovertemplate": "strategy=model_swap<br>is_honest=sneaky<br>detection_tpr=0.5<br>detection_tnr=1.0<br>demographic_parity_audit=%{x}<br>utility_user=%{y}<br>size=%{marker.size}<br>strategy_json=%{customdata[0]}<br>model_json=%{customdata[1]}<br>model_name=%{customdata[2]}<extra></extra>",
         "legendgroup": "model_swap, sneaky",
         "marker": {
          "color": "#ab63fa",
          "size": [
           10
          ],
          "sizemode": "area",
          "sizeref": 0.1,
          "symbol": "circle"
         },
         "mode": "markers",
         "name": "model_swap, sneaky",
         "orientation": "v",
         "showlegend": false,
         "type": "scatter",
         "x": [
          0.035048868396272345
         ],
         "xaxis": "x2",
         "y": [
          0.8202548234437568
         ],
         "yaxis": "y2"
        },
        {
         "customdata": [
          [
           "{\"epsilon\":null,\"theta\":null}",
           "{\"epsilon\":null}",
           "unconstrained"
          ]
         ],
         "hovertemplate": "strategy=always_yes<br>is_honest=sneaky<br>detection_tpr=1.0<br>detection_tnr=0.95<br>demographic_parity_audit=%{x}<br>utility_user=%{y}<br>size=%{marker.size}<br>strategy_json=%{customdata[0]}<br>model_json=%{customdata[1]}<br>model_name=%{customdata[2]}<extra></extra>",
         "legendgroup": "always_yes, sneaky",
         "marker": {
          "color": "#FFA15A",
          "size": [
           10
          ],
          "sizemode": "area",
          "sizeref": 0.1,
          "symbol": "circle"
         },
         "mode": "markers",
         "name": "always_yes, sneaky",
         "orientation": "v",
         "showlegend": true,
         "type": "scatter",
         "x": [
          0
         ],
         "xaxis": "x5",
         "y": [
          0.8040771751001092
         ],
         "yaxis": "y5"
        },
        {
         "customdata": [
          [
           "{\"epsilon\":null,\"theta\":null}",
           "{\"epsilon\":null}",
           "unconstrained"
          ]
         ],
         "hovertemplate": "strategy=always_yes<br>is_honest=sneaky<br>detection_tpr=1.0<br>detection_tnr=1.0<br>demographic_parity_audit=%{x}<br>utility_user=%{y}<br>size=%{marker.size}<br>strategy_json=%{customdata[0]}<br>model_json=%{customdata[1]}<br>model_name=%{customdata[2]}<extra></extra>",
         "legendgroup": "always_yes, sneaky",
         "marker": {
          "color": "#FFA15A",
          "size": [
           10
          ],
          "sizemode": "area",
          "sizeref": 0.1,
          "symbol": "circle"
         },
         "mode": "markers",
         "name": "always_yes, sneaky",
         "orientation": "v",
         "showlegend": false,
         "type": "scatter",
         "x": [
          0
         ],
         "xaxis": "x6",
         "y": [
          0.8202548234437568
         ],
         "yaxis": "y6"
        },
        {
         "customdata": [
          [
           "{\"epsilon\":null,\"theta\":null}",
           "{\"epsilon\":null}",
           "unconstrained"
          ]
         ],
         "hovertemplate": "strategy=always_yes<br>is_honest=sneaky<br>detection_tpr=0.95<br>detection_tnr=0.95<br>demographic_parity_audit=%{x}<br>utility_user=%{y}<br>size=%{marker.size}<br>strategy_json=%{customdata[0]}<br>model_json=%{customdata[1]}<br>model_name=%{customdata[2]}<extra></extra>",
         "legendgroup": "always_yes, sneaky",
         "marker": {
          "color": "#FFA15A",
          "size": [
           10
          ],
          "sizemode": "area",
          "sizeref": 0.1,
          "symbol": "circle"
         },
         "mode": "markers",
         "name": "always_yes, sneaky",
         "orientation": "v",
         "showlegend": false,
         "type": "scatter",
         "x": [
          0.01158554404649803
         ],
         "xaxis": "x3",
         "y": [
          0.8040771751001092
         ],
         "yaxis": "y3"
        },
        {
         "customdata": [
          [
           "{\"epsilon\":null,\"theta\":null}",
           "{\"epsilon\":null}",
           "unconstrained"
          ]
         ],
         "hovertemplate": "strategy=always_yes<br>is_honest=sneaky<br>detection_tpr=0.95<br>detection_tnr=1.0<br>demographic_parity_audit=%{x}<br>utility_user=%{y}<br>size=%{marker.size}<br>strategy_json=%{customdata[0]}<br>model_json=%{customdata[1]}<br>model_name=%{customdata[2]}<extra></extra>",
         "legendgroup": "always_yes, sneaky",
         "marker": {
          "color": "#FFA15A",
          "size": [
           10
          ],
          "sizemode": "area",
          "sizeref": 0.1,
          "symbol": "circle"
         },
         "mode": "markers",
         "name": "always_yes, sneaky",
         "orientation": "v",
         "showlegend": false,
         "type": "scatter",
         "x": [
          0.01158554404649803
         ],
         "xaxis": "x4",
         "y": [
          0.8202548234437568
         ],
         "yaxis": "y4"
        },
        {
         "customdata": [
          [
           "{\"epsilon\":null,\"theta\":null}",
           "{\"epsilon\":null}",
           "unconstrained"
          ]
         ],
         "hovertemplate": "strategy=always_yes<br>is_honest=sneaky<br>detection_tpr=0.5<br>detection_tnr=1.0<br>demographic_parity_audit=%{x}<br>utility_user=%{y}<br>size=%{marker.size}<br>strategy_json=%{customdata[0]}<br>model_json=%{customdata[1]}<br>model_name=%{customdata[2]}<extra></extra>",
         "legendgroup": "always_yes, sneaky",
         "marker": {
          "color": "#FFA15A",
          "size": [
           10
          ],
          "sizemode": "area",
          "sizeref": 0.1,
          "symbol": "circle"
         },
         "mode": "markers",
         "name": "always_yes, sneaky",
         "orientation": "v",
         "showlegend": false,
         "type": "scatter",
         "x": [
          0.06898507430377414
         ],
         "xaxis": "x2",
         "y": [
          0.8202548234437568
         ],
         "yaxis": "y2"
        },
        {
         "customdata": [
          [
           "{\"epsilon\":null,\"theta\":null}",
           "{\"epsilon\":null}",
           "unconstrained"
          ]
         ],
         "hovertemplate": "strategy=always_no<br>is_honest=sneaky<br>detection_tpr=1.0<br>detection_tnr=0.95<br>demographic_parity_audit=%{x}<br>utility_user=%{y}<br>size=%{marker.size}<br>strategy_json=%{customdata[0]}<br>model_json=%{customdata[1]}<br>model_name=%{customdata[2]}<extra></extra>",
         "legendgroup": "always_no, sneaky",
         "marker": {
          "color": "#19d3f3",
          "size": [
           10
          ],
          "sizemode": "area",
          "sizeref": 0.1,
          "symbol": "circle"
         },
         "mode": "markers",
         "name": "always_no, sneaky",
         "orientation": "v",
         "showlegend": true,
         "type": "scatter",
         "x": [
          0
         ],
         "xaxis": "x5",
         "y": [
          0.8038005096468874
         ],
         "yaxis": "y5"
        },
        {
         "customdata": [
          [
           "{\"epsilon\":null,\"theta\":null}",
           "{\"epsilon\":null}",
           "unconstrained"
          ]
         ],
         "hovertemplate": "strategy=always_no<br>is_honest=sneaky<br>detection_tpr=1.0<br>detection_tnr=1.0<br>demographic_parity_audit=%{x}<br>utility_user=%{y}<br>size=%{marker.size}<br>strategy_json=%{customdata[0]}<br>model_json=%{customdata[1]}<br>model_name=%{customdata[2]}<extra></extra>",
         "legendgroup": "always_no, sneaky",
         "marker": {
          "color": "#19d3f3",
          "size": [
           10
          ],
          "sizemode": "area",
          "sizeref": 0.1,
          "symbol": "circle"
         },
         "mode": "markers",
         "name": "always_no, sneaky",
         "orientation": "v",
         "showlegend": false,
         "type": "scatter",
         "x": [
          0
         ],
         "xaxis": "x6",
         "y": [
          0.8202548234437568
         ],
         "yaxis": "y6"
        },
        {
         "customdata": [
          [
           "{\"epsilon\":null,\"theta\":null}",
           "{\"epsilon\":null}",
           "unconstrained"
          ]
         ],
         "hovertemplate": "strategy=always_no<br>is_honest=sneaky<br>detection_tpr=0.95<br>detection_tnr=0.95<br>demographic_parity_audit=%{x}<br>utility_user=%{y}<br>size=%{marker.size}<br>strategy_json=%{customdata[0]}<br>model_json=%{customdata[1]}<br>model_name=%{customdata[2]}<extra></extra>",
         "legendgroup": "always_no, sneaky",
         "marker": {
          "color": "#19d3f3",
          "size": [
           10
          ],
          "sizemode": "area",
          "sizeref": 0.1,
          "symbol": "circle"
         },
         "mode": "markers",
         "name": "always_no, sneaky",
         "orientation": "v",
         "showlegend": false,
         "type": "scatter",
         "x": [
          0.009457631154549685
         ],
         "xaxis": "x3",
         "y": [
          0.8038005096468874
         ],
         "yaxis": "y3"
        },
        {
         "customdata": [
          [
           "{\"epsilon\":null,\"theta\":null}",
           "{\"epsilon\":null}",
           "unconstrained"
          ]
         ],
         "hovertemplate": "strategy=always_no<br>is_honest=sneaky<br>detection_tpr=0.95<br>detection_tnr=1.0<br>demographic_parity_audit=%{x}<br>utility_user=%{y}<br>size=%{marker.size}<br>strategy_json=%{customdata[0]}<br>model_json=%{customdata[1]}<br>model_name=%{customdata[2]}<extra></extra>",
         "legendgroup": "always_no, sneaky",
         "marker": {
          "color": "#19d3f3",
          "size": [
           10
          ],
          "sizemode": "area",
          "sizeref": 0.1,
          "symbol": "circle"
         },
         "mode": "markers",
         "name": "always_no, sneaky",
         "orientation": "v",
         "showlegend": false,
         "type": "scatter",
         "x": [
          0.009457631154549685
         ],
         "xaxis": "x4",
         "y": [
          0.8202548234437568
         ],
         "yaxis": "y4"
        },
        {
         "customdata": [
          [
           "{\"epsilon\":null,\"theta\":null}",
           "{\"epsilon\":null}",
           "unconstrained"
          ]
         ],
         "hovertemplate": "strategy=always_no<br>is_honest=sneaky<br>detection_tpr=0.5<br>detection_tnr=1.0<br>demographic_parity_audit=%{x}<br>utility_user=%{y}<br>size=%{marker.size}<br>strategy_json=%{customdata[0]}<br>model_json=%{customdata[1]}<br>model_name=%{customdata[2]}<extra></extra>",
         "legendgroup": "always_no, sneaky",
         "marker": {
          "color": "#19d3f3",
          "size": [
           10
          ],
          "sizemode": "area",
          "sizeref": 0.1,
          "symbol": "circle"
         },
         "mode": "markers",
         "name": "always_no, sneaky",
         "orientation": "v",
         "showlegend": false,
         "type": "scatter",
         "x": [
          0.04785747529521275
         ],
         "xaxis": "x2",
         "y": [
          0.8202548234437568
         ],
         "yaxis": "y2"
        }
       ],
       "layout": {
        "annotations": [
         {
          "font": {},
          "showarrow": false,
          "text": "detection_tnr=0.95",
          "x": 0.24,
          "xanchor": "center",
          "xref": "paper",
          "y": 0.9999999999999998,
          "yanchor": "bottom",
          "yref": "paper"
         },
         {
          "font": {},
          "showarrow": false,
          "text": "detection_tnr=1.0",
          "x": 0.74,
          "xanchor": "center",
          "xref": "paper",
          "y": 0.9999999999999998,
          "yanchor": "bottom",
          "yref": "paper"
         },
         {
          "font": {},
          "showarrow": false,
          "text": "detection_tpr=0.5",
          "textangle": 90,
          "x": 0.98,
          "xanchor": "left",
          "xref": "paper",
          "y": 0.15666666666666665,
          "yanchor": "middle",
          "yref": "paper"
         },
         {
          "font": {},
          "showarrow": false,
          "text": "detection_tpr=0.95",
          "textangle": 90,
          "x": 0.98,
          "xanchor": "left",
          "xref": "paper",
          "y": 0.4999999999999999,
          "yanchor": "middle",
          "yref": "paper"
         },
         {
          "font": {},
          "showarrow": false,
          "text": "detection_tpr=1.0",
          "textangle": 90,
          "x": 0.98,
          "xanchor": "left",
          "xref": "paper",
          "y": 0.8433333333333332,
          "yanchor": "middle",
          "yref": "paper"
         }
        ],
        "height": 1000,
        "legend": {
         "itemsizing": "constant",
         "title": {
          "text": "strategy, is_honest"
         },
         "tracegroupgap": 0
        },
        "margin": {
         "t": 60
        },
        "template": {
         "data": {
          "bar": [
           {
            "error_x": {
             "color": "#2a3f5f"
            },
            "error_y": {
             "color": "#2a3f5f"
            },
            "marker": {
             "line": {
              "color": "#E5ECF6",
              "width": 0.5
             },
             "pattern": {
              "fillmode": "overlay",
              "size": 10,
              "solidity": 0.2
             }
            },
            "type": "bar"
           }
          ],
          "barpolar": [
           {
            "marker": {
             "line": {
              "color": "#E5ECF6",
              "width": 0.5
             },
             "pattern": {
              "fillmode": "overlay",
              "size": 10,
              "solidity": 0.2
             }
            },
            "type": "barpolar"
           }
          ],
          "carpet": [
           {
            "aaxis": {
             "endlinecolor": "#2a3f5f",
             "gridcolor": "white",
             "linecolor": "white",
             "minorgridcolor": "white",
             "startlinecolor": "#2a3f5f"
            },
            "baxis": {
             "endlinecolor": "#2a3f5f",
             "gridcolor": "white",
             "linecolor": "white",
             "minorgridcolor": "white",
             "startlinecolor": "#2a3f5f"
            },
            "type": "carpet"
           }
          ],
          "choropleth": [
           {
            "colorbar": {
             "outlinewidth": 0,
             "ticks": ""
            },
            "type": "choropleth"
           }
          ],
          "contour": [
           {
            "colorbar": {
             "outlinewidth": 0,
             "ticks": ""
            },
            "colorscale": [
             [
              0,
              "#0d0887"
             ],
             [
              0.1111111111111111,
              "#46039f"
             ],
             [
              0.2222222222222222,
              "#7201a8"
             ],
             [
              0.3333333333333333,
              "#9c179e"
             ],
             [
              0.4444444444444444,
              "#bd3786"
             ],
             [
              0.5555555555555556,
              "#d8576b"
             ],
             [
              0.6666666666666666,
              "#ed7953"
             ],
             [
              0.7777777777777778,
              "#fb9f3a"
             ],
             [
              0.8888888888888888,
              "#fdca26"
             ],
             [
              1,
              "#f0f921"
             ]
            ],
            "type": "contour"
           }
          ],
          "contourcarpet": [
           {
            "colorbar": {
             "outlinewidth": 0,
             "ticks": ""
            },
            "type": "contourcarpet"
           }
          ],
          "heatmap": [
           {
            "colorbar": {
             "outlinewidth": 0,
             "ticks": ""
            },
            "colorscale": [
             [
              0,
              "#0d0887"
             ],
             [
              0.1111111111111111,
              "#46039f"
             ],
             [
              0.2222222222222222,
              "#7201a8"
             ],
             [
              0.3333333333333333,
              "#9c179e"
             ],
             [
              0.4444444444444444,
              "#bd3786"
             ],
             [
              0.5555555555555556,
              "#d8576b"
             ],
             [
              0.6666666666666666,
              "#ed7953"
             ],
             [
              0.7777777777777778,
              "#fb9f3a"
             ],
             [
              0.8888888888888888,
              "#fdca26"
             ],
             [
              1,
              "#f0f921"
             ]
            ],
            "type": "heatmap"
           }
          ],
          "heatmapgl": [
           {
            "colorbar": {
             "outlinewidth": 0,
             "ticks": ""
            },
            "colorscale": [
             [
              0,
              "#0d0887"
             ],
             [
              0.1111111111111111,
              "#46039f"
             ],
             [
              0.2222222222222222,
              "#7201a8"
             ],
             [
              0.3333333333333333,
              "#9c179e"
             ],
             [
              0.4444444444444444,
              "#bd3786"
             ],
             [
              0.5555555555555556,
              "#d8576b"
             ],
             [
              0.6666666666666666,
              "#ed7953"
             ],
             [
              0.7777777777777778,
              "#fb9f3a"
             ],
             [
              0.8888888888888888,
              "#fdca26"
             ],
             [
              1,
              "#f0f921"
             ]
            ],
            "type": "heatmapgl"
           }
          ],
          "histogram": [
           {
            "marker": {
             "pattern": {
              "fillmode": "overlay",
              "size": 10,
              "solidity": 0.2
             }
            },
            "type": "histogram"
           }
          ],
          "histogram2d": [
           {
            "colorbar": {
             "outlinewidth": 0,
             "ticks": ""
            },
            "colorscale": [
             [
              0,
              "#0d0887"
             ],
             [
              0.1111111111111111,
              "#46039f"
             ],
             [
              0.2222222222222222,
              "#7201a8"
             ],
             [
              0.3333333333333333,
              "#9c179e"
             ],
             [
              0.4444444444444444,
              "#bd3786"
             ],
             [
              0.5555555555555556,
              "#d8576b"
             ],
             [
              0.6666666666666666,
              "#ed7953"
             ],
             [
              0.7777777777777778,
              "#fb9f3a"
             ],
             [
              0.8888888888888888,
              "#fdca26"
             ],
             [
              1,
              "#f0f921"
             ]
            ],
            "type": "histogram2d"
           }
          ],
          "histogram2dcontour": [
           {
            "colorbar": {
             "outlinewidth": 0,
             "ticks": ""
            },
            "colorscale": [
             [
              0,
              "#0d0887"
             ],
             [
              0.1111111111111111,
              "#46039f"
             ],
             [
              0.2222222222222222,
              "#7201a8"
             ],
             [
              0.3333333333333333,
              "#9c179e"
             ],
             [
              0.4444444444444444,
              "#bd3786"
             ],
             [
              0.5555555555555556,
              "#d8576b"
             ],
             [
              0.6666666666666666,
              "#ed7953"
             ],
             [
              0.7777777777777778,
              "#fb9f3a"
             ],
             [
              0.8888888888888888,
              "#fdca26"
             ],
             [
              1,
              "#f0f921"
             ]
            ],
            "type": "histogram2dcontour"
           }
          ],
          "mesh3d": [
           {
            "colorbar": {
             "outlinewidth": 0,
             "ticks": ""
            },
            "type": "mesh3d"
           }
          ],
          "parcoords": [
           {
            "line": {
             "colorbar": {
              "outlinewidth": 0,
              "ticks": ""
             }
            },
            "type": "parcoords"
           }
          ],
          "pie": [
           {
            "automargin": true,
            "type": "pie"
           }
          ],
          "scatter": [
           {
            "fillpattern": {
             "fillmode": "overlay",
             "size": 10,
             "solidity": 0.2
            },
            "type": "scatter"
           }
          ],
          "scatter3d": [
           {
            "line": {
             "colorbar": {
              "outlinewidth": 0,
              "ticks": ""
             }
            },
            "marker": {
             "colorbar": {
              "outlinewidth": 0,
              "ticks": ""
             }
            },
            "type": "scatter3d"
           }
          ],
          "scattercarpet": [
           {
            "marker": {
             "colorbar": {
              "outlinewidth": 0,
              "ticks": ""
             }
            },
            "type": "scattercarpet"
           }
          ],
          "scattergeo": [
           {
            "marker": {
             "colorbar": {
              "outlinewidth": 0,
              "ticks": ""
             }
            },
            "type": "scattergeo"
           }
          ],
          "scattergl": [
           {
            "marker": {
             "colorbar": {
              "outlinewidth": 0,
              "ticks": ""
             }
            },
            "type": "scattergl"
           }
          ],
          "scattermapbox": [
           {
            "marker": {
             "colorbar": {
              "outlinewidth": 0,
              "ticks": ""
             }
            },
            "type": "scattermapbox"
           }
          ],
          "scatterpolar": [
           {
            "marker": {
             "colorbar": {
              "outlinewidth": 0,
              "ticks": ""
             }
            },
            "type": "scatterpolar"
           }
          ],
          "scatterpolargl": [
           {
            "marker": {
             "colorbar": {
              "outlinewidth": 0,
              "ticks": ""
             }
            },
            "type": "scatterpolargl"
           }
          ],
          "scatterternary": [
           {
            "marker": {
             "colorbar": {
              "outlinewidth": 0,
              "ticks": ""
             }
            },
            "type": "scatterternary"
           }
          ],
          "surface": [
           {
            "colorbar": {
             "outlinewidth": 0,
             "ticks": ""
            },
            "colorscale": [
             [
              0,
              "#0d0887"
             ],
             [
              0.1111111111111111,
              "#46039f"
             ],
             [
              0.2222222222222222,
              "#7201a8"
             ],
             [
              0.3333333333333333,
              "#9c179e"
             ],
             [
              0.4444444444444444,
              "#bd3786"
             ],
             [
              0.5555555555555556,
              "#d8576b"
             ],
             [
              0.6666666666666666,
              "#ed7953"
             ],
             [
              0.7777777777777778,
              "#fb9f3a"
             ],
             [
              0.8888888888888888,
              "#fdca26"
             ],
             [
              1,
              "#f0f921"
             ]
            ],
            "type": "surface"
           }
          ],
          "table": [
           {
            "cells": {
             "fill": {
              "color": "#EBF0F8"
             },
             "line": {
              "color": "white"
             }
            },
            "header": {
             "fill": {
              "color": "#C8D4E3"
             },
             "line": {
              "color": "white"
             }
            },
            "type": "table"
           }
          ]
         },
         "layout": {
          "annotationdefaults": {
           "arrowcolor": "#2a3f5f",
           "arrowhead": 0,
           "arrowwidth": 1
          },
          "autotypenumbers": "strict",
          "coloraxis": {
           "colorbar": {
            "outlinewidth": 0,
            "ticks": ""
           }
          },
          "colorscale": {
           "diverging": [
            [
             0,
             "#8e0152"
            ],
            [
             0.1,
             "#c51b7d"
            ],
            [
             0.2,
             "#de77ae"
            ],
            [
             0.3,
             "#f1b6da"
            ],
            [
             0.4,
             "#fde0ef"
            ],
            [
             0.5,
             "#f7f7f7"
            ],
            [
             0.6,
             "#e6f5d0"
            ],
            [
             0.7,
             "#b8e186"
            ],
            [
             0.8,
             "#7fbc41"
            ],
            [
             0.9,
             "#4d9221"
            ],
            [
             1,
             "#276419"
            ]
           ],
           "sequential": [
            [
             0,
             "#0d0887"
            ],
            [
             0.1111111111111111,
             "#46039f"
            ],
            [
             0.2222222222222222,
             "#7201a8"
            ],
            [
             0.3333333333333333,
             "#9c179e"
            ],
            [
             0.4444444444444444,
             "#bd3786"
            ],
            [
             0.5555555555555556,
             "#d8576b"
            ],
            [
             0.6666666666666666,
             "#ed7953"
            ],
            [
             0.7777777777777778,
             "#fb9f3a"
            ],
            [
             0.8888888888888888,
             "#fdca26"
            ],
            [
             1,
             "#f0f921"
            ]
           ],
           "sequentialminus": [
            [
             0,
             "#0d0887"
            ],
            [
             0.1111111111111111,
             "#46039f"
            ],
            [
             0.2222222222222222,
             "#7201a8"
            ],
            [
             0.3333333333333333,
             "#9c179e"
            ],
            [
             0.4444444444444444,
             "#bd3786"
            ],
            [
             0.5555555555555556,
             "#d8576b"
            ],
            [
             0.6666666666666666,
             "#ed7953"
            ],
            [
             0.7777777777777778,
             "#fb9f3a"
            ],
            [
             0.8888888888888888,
             "#fdca26"
            ],
            [
             1,
             "#f0f921"
            ]
           ]
          },
          "colorway": [
           "#636efa",
           "#EF553B",
           "#00cc96",
           "#ab63fa",
           "#FFA15A",
           "#19d3f3",
           "#FF6692",
           "#B6E880",
           "#FF97FF",
           "#FECB52"
          ],
          "font": {
           "color": "#2a3f5f"
          },
          "geo": {
           "bgcolor": "white",
           "lakecolor": "white",
           "landcolor": "#E5ECF6",
           "showlakes": true,
           "showland": true,
           "subunitcolor": "white"
          },
          "hoverlabel": {
           "align": "left"
          },
          "hovermode": "closest",
          "mapbox": {
           "style": "light"
          },
          "paper_bgcolor": "white",
          "plot_bgcolor": "#E5ECF6",
          "polar": {
           "angularaxis": {
            "gridcolor": "white",
            "linecolor": "white",
            "ticks": ""
           },
           "bgcolor": "#E5ECF6",
           "radialaxis": {
            "gridcolor": "white",
            "linecolor": "white",
            "ticks": ""
           }
          },
          "scene": {
           "xaxis": {
            "backgroundcolor": "#E5ECF6",
            "gridcolor": "white",
            "gridwidth": 2,
            "linecolor": "white",
            "showbackground": true,
            "ticks": "",
            "zerolinecolor": "white"
           },
           "yaxis": {
            "backgroundcolor": "#E5ECF6",
            "gridcolor": "white",
            "gridwidth": 2,
            "linecolor": "white",
            "showbackground": true,
            "ticks": "",
            "zerolinecolor": "white"
           },
           "zaxis": {
            "backgroundcolor": "#E5ECF6",
            "gridcolor": "white",
            "gridwidth": 2,
            "linecolor": "white",
            "showbackground": true,
            "ticks": "",
            "zerolinecolor": "white"
           }
          },
          "shapedefaults": {
           "line": {
            "color": "#2a3f5f"
           }
          },
          "ternary": {
           "aaxis": {
            "gridcolor": "white",
            "linecolor": "white",
            "ticks": ""
           },
           "baxis": {
            "gridcolor": "white",
            "linecolor": "white",
            "ticks": ""
           },
           "bgcolor": "#E5ECF6",
           "caxis": {
            "gridcolor": "white",
            "linecolor": "white",
            "ticks": ""
           }
          },
          "title": {
           "x": 0.05
          },
          "xaxis": {
           "automargin": true,
           "gridcolor": "white",
           "linecolor": "white",
           "ticks": "",
           "title": {
            "standoff": 15
           },
           "zerolinecolor": "white",
           "zerolinewidth": 2
          },
          "yaxis": {
           "automargin": true,
           "gridcolor": "white",
           "linecolor": "white",
           "ticks": "",
           "title": {
            "standoff": 15
           },
           "zerolinecolor": "white",
           "zerolinewidth": 2
          }
         }
        },
        "width": 1300,
        "xaxis": {
         "anchor": "y",
         "domain": [
          0,
          0.48
         ],
         "title": {
          "text": "demographic_parity_audit"
         }
        },
        "xaxis2": {
         "anchor": "y2",
         "domain": [
          0.5,
          0.98
         ],
         "matches": "x",
         "title": {
          "text": "demographic_parity_audit"
         }
        },
        "xaxis3": {
         "anchor": "y3",
         "domain": [
          0,
          0.48
         ],
         "matches": "x",
         "showticklabels": false
        },
        "xaxis4": {
         "anchor": "y4",
         "domain": [
          0.5,
          0.98
         ],
         "matches": "x",
         "showticklabels": false
        },
        "xaxis5": {
         "anchor": "y5",
         "domain": [
          0,
          0.48
         ],
         "matches": "x",
         "showticklabels": false
        },
        "xaxis6": {
         "anchor": "y6",
         "domain": [
          0.5,
          0.98
         ],
         "matches": "x",
         "showticklabels": false
        },
        "yaxis": {
         "anchor": "x",
         "domain": [
          0,
          0.3133333333333333
         ],
         "title": {
          "text": "utility_user"
         }
        },
        "yaxis2": {
         "anchor": "x2",
         "domain": [
          0,
          0.3133333333333333
         ],
         "matches": "y",
         "showticklabels": false
        },
        "yaxis3": {
         "anchor": "x3",
         "domain": [
          0.34333333333333327,
          0.6566666666666665
         ],
         "matches": "y",
         "title": {
          "text": "utility_user"
         }
        },
        "yaxis4": {
         "anchor": "x4",
         "domain": [
          0.34333333333333327,
          0.6566666666666665
         ],
         "matches": "y",
         "showticklabels": false
        },
        "yaxis5": {
         "anchor": "x5",
         "domain": [
          0.6866666666666665,
          0.9999999999999998
         ],
         "matches": "y",
         "title": {
          "text": "utility_user"
         }
        },
        "yaxis6": {
         "anchor": "x6",
         "domain": [
          0.6866666666666665,
          0.9999999999999998
         ],
         "matches": "y",
         "showticklabels": false
        }
       }
      }
     },
     "metadata": {},
     "output_type": "display_data"
    }
   ],
   "source": [
    "fig = px.scatter(\n",
    "    audit.with_columns(\n",
    "        is_honest=pl.when(pl.col(\"strategy\") == \"honest\")\n",
    "        .then(\"strategy\")\n",
    "        .otherwise(pl.lit(\"sneaky\")),\n",
    "        size=10,\n",
    "    ),\n",
    "    x=\"demographic_parity_audit\",\n",
    "    y=\"utility_user\",\n",
    "    color=\"strategy\",\n",
    "    symbol=\"is_honest\",\n",
    "    size=\"size\",\n",
    "    size_max=10,\n",
    "    facet_row=\"detection_tpr\",\n",
    "    facet_col=\"detection_tnr\",\n",
    "    hover_data=[\"strategy_json\", \"model_json\", \"model_name\"],\n",
    "    height=1_000,\n",
    "    width=1_300,\n",
    ")\n",
    "\n",
    "# fig.update_xaxes(range=[0, 0.1])\n",
    "# fig.update_yaxes(range=[0.81, 0.83])\n",
    "fig.show()"
   ]
  },
  {
   "cell_type": "markdown",
   "metadata": {},
   "source": [
    "# What is the best lying strategy ?"
   ]
  },
  {
   "cell_type": "code",
   "execution_count": 49,
   "metadata": {},
   "outputs": [],
   "source": [
    "manipulation = (\n",
    "    pl.read_ndjson(\"../generated/manipulation5_ACSEmployment_binarized_skrub.jsonl\")\n",
    "    .with_columns(\n",
    "        min_conditional_accuracy=pl.col(\"conditional_accuracy_user\").list.min(),\n",
    "        strategy_instance=pl.concat_str(\n",
    "            pl.col(\"strategy\"), pl.col(\"strategy_params\").struct.json_encode()\n",
    "        ),\n",
    "        strategy_json=pl.col(\"strategy_params\").struct.json_encode(),\n",
    "    )\n",
    "    .group_by(\n",
    "        \"dataset\",\n",
    "        \"model_name\",\n",
    "        # \"model_params\",\n",
    "        \"strategy\",\n",
    "        \"strategy_params\",\n",
    "        \"strategy_json\",\n",
    "        \"audit_budget\",\n",
    "        \"detection_tpr\",\n",
    "        \"detection_tnr\",\n",
    "    )\n",
    "    .agg(pl.col(\"*\").mean(), pl.col(\"*\").std().name.suffix(\"_std\"))\n",
    "    .sort(\"detection_tpr\", \"detection_tnr\", descending=[True, False])\n",
    ")"
   ]
  },
  {
   "cell_type": "code",
   "execution_count": 50,
   "metadata": {},
   "outputs": [
    {
     "data": {
      "text/html": [
       "<div><style>\n",
       ".dataframe > thead > tr,\n",
       ".dataframe > tbody > tr {\n",
       "  text-align: right;\n",
       "  white-space: pre-wrap;\n",
       "}\n",
       "</style>\n",
       "<small>shape: (120, 30)</small><table border=\"1\" class=\"dataframe\"><thead><tr><th>dataset</th><th>model_name</th><th>strategy</th><th>strategy_params</th><th>strategy_json</th><th>audit_budget</th><th>detection_tpr</th><th>detection_tnr</th><th>model_params</th><th>entropy</th><th>fit_time</th><th>inference_time</th><th>utility_user</th><th>utility_audit</th><th>conditional_accuracy_user</th><th>demographic_parity_user</th><th>demographic_parity_audit</th><th>min_conditional_accuracy</th><th>strategy_instance</th><th>model_params_std</th><th>entropy_std</th><th>fit_time_std</th><th>inference_time_std</th><th>utility_user_std</th><th>utility_audit_std</th><th>conditional_accuracy_user_std</th><th>demographic_parity_user_std</th><th>demographic_parity_audit_std</th><th>min_conditional_accuracy_std</th><th>strategy_instance_std</th></tr><tr><td>str</td><td>str</td><td>str</td><td>struct[2]</td><td>str</td><td>i64</td><td>f64</td><td>f64</td><td>struct[1]</td><td>f64</td><td>f64</td><td>f64</td><td>f64</td><td>f64</td><td>list[f64]</td><td>f64</td><td>f64</td><td>f64</td><td>str</td><td>struct[1]</td><td>f64</td><td>f64</td><td>f64</td><td>f64</td><td>f64</td><td>list[f64]</td><td>f64</td><td>f64</td><td>f64</td><td>str</td></tr></thead><tbody><tr><td>&quot;ACSEmployment&quot;</td><td>&quot;unconstrained&quot;</td><td>&quot;randomized_response&quot;</td><td>{3.0,null}</td><td>&quot;{&quot;epsilon&quot;:3.0,&quot;theta&quot;:null}&quot;</td><td>1000</td><td>1.0</td><td>1.0</td><td>null</td><td>2.3527e9</td><td>0.306453</td><td>0.050667</td><td>0.850877</td><td>0.853</td><td>null</td><td>0.07169</td><td>0.084962</td><td>0.829821</td><td>null</td><td>null</td><td>8.5239e8</td><td>0.0405</td><td>0.006901</td><td>0.002836</td><td>0.011392</td><td>null</td><td>0.008227</td><td>0.052824</td><td>0.025599</td><td>null</td></tr><tr><td>&quot;ACSEmployment&quot;</td><td>&quot;unconstrained&quot;</td><td>&quot;ROC_mitigation&quot;</td><td>{null,0.566667}</td><td>&quot;{&quot;epsilon&quot;:null,&quot;theta&quot;:0.5666…</td><td>1000</td><td>1.0</td><td>1.0</td><td>null</td><td>2.3527e9</td><td>0.338705</td><td>0.054933</td><td>0.850877</td><td>0.8509</td><td>null</td><td>0.07169</td><td>0.047842</td><td>0.833411</td><td>null</td><td>null</td><td>8.5239e8</td><td>0.073323</td><td>0.011531</td><td>0.002836</td><td>0.009457</td><td>null</td><td>0.008227</td><td>0.040339</td><td>0.021775</td><td>null</td></tr><tr><td>&quot;ACSEmployment&quot;</td><td>&quot;unconstrained&quot;</td><td>&quot;randomized_response&quot;</td><td>{7.0,null}</td><td>&quot;{&quot;epsilon&quot;:7.0,&quot;theta&quot;:null}&quot;</td><td>1000</td><td>1.0</td><td>1.0</td><td>null</td><td>2.3527e9</td><td>0.322387</td><td>0.050837</td><td>0.850877</td><td>0.853</td><td>null</td><td>0.07169</td><td>0.084962</td><td>0.829821</td><td>null</td><td>null</td><td>8.5239e8</td><td>0.068567</td><td>0.009291</td><td>0.002836</td><td>0.011392</td><td>null</td><td>0.008227</td><td>0.052824</td><td>0.025599</td><td>null</td></tr><tr><td>&quot;ACSEmployment&quot;</td><td>&quot;unconstrained&quot;</td><td>&quot;ROC_mitigation&quot;</td><td>{null,0.333333}</td><td>&quot;{&quot;epsilon&quot;:null,&quot;theta&quot;:0.3333…</td><td>1000</td><td>1.0</td><td>1.0</td><td>null</td><td>2.3527e9</td><td>0.329613</td><td>0.055304</td><td>0.850877</td><td>0.853</td><td>null</td><td>0.07169</td><td>0.084962</td><td>0.829821</td><td>null</td><td>null</td><td>8.5239e8</td><td>0.059285</td><td>0.011079</td><td>0.002836</td><td>0.011392</td><td>null</td><td>0.008227</td><td>0.052824</td><td>0.025599</td><td>null</td></tr><tr><td>&quot;ACSEmployment&quot;</td><td>&quot;unconstrained&quot;</td><td>&quot;ROC_mitigation&quot;</td><td>{null,0.433333}</td><td>&quot;{&quot;epsilon&quot;:null,&quot;theta&quot;:0.4333…</td><td>1000</td><td>1.0</td><td>1.0</td><td>null</td><td>2.3527e9</td><td>0.344996</td><td>0.058376</td><td>0.850877</td><td>0.853</td><td>null</td><td>0.07169</td><td>0.084962</td><td>0.829821</td><td>null</td><td>null</td><td>8.5239e8</td><td>0.079822</td><td>0.016734</td><td>0.002836</td><td>0.011392</td><td>null</td><td>0.008227</td><td>0.052824</td><td>0.025599</td><td>null</td></tr><tr><td>&hellip;</td><td>&hellip;</td><td>&hellip;</td><td>&hellip;</td><td>&hellip;</td><td>&hellip;</td><td>&hellip;</td><td>&hellip;</td><td>&hellip;</td><td>&hellip;</td><td>&hellip;</td><td>&hellip;</td><td>&hellip;</td><td>&hellip;</td><td>&hellip;</td><td>&hellip;</td><td>&hellip;</td><td>&hellip;</td><td>&hellip;</td><td>&hellip;</td><td>&hellip;</td><td>&hellip;</td><td>&hellip;</td><td>&hellip;</td><td>&hellip;</td><td>&hellip;</td><td>&hellip;</td><td>&hellip;</td><td>&hellip;</td><td>&hellip;</td></tr><tr><td>&quot;ACSEmployment&quot;</td><td>&quot;unconstrained&quot;</td><td>&quot;randomized_response&quot;</td><td>{2.0,null}</td><td>&quot;{&quot;epsilon&quot;:2.0,&quot;theta&quot;:null}&quot;</td><td>1000</td><td>0.0</td><td>1.0</td><td>null</td><td>2.3527e9</td><td>0.318923</td><td>0.052718</td><td>0.850877</td><td>0.853</td><td>null</td><td>0.07169</td><td>0.084962</td><td>0.829821</td><td>null</td><td>null</td><td>8.5239e8</td><td>0.08329</td><td>0.012349</td><td>0.002836</td><td>0.011392</td><td>null</td><td>0.008227</td><td>0.052824</td><td>0.025599</td><td>null</td></tr><tr><td>&quot;ACSEmployment&quot;</td><td>&quot;unconstrained&quot;</td><td>&quot;ROC_mitigation&quot;</td><td>{null,0.6}</td><td>&quot;{&quot;epsilon&quot;:null,&quot;theta&quot;:0.6}&quot;</td><td>1000</td><td>0.0</td><td>1.0</td><td>null</td><td>2.3527e9</td><td>0.308863</td><td>0.049406</td><td>0.850877</td><td>0.853</td><td>null</td><td>0.07169</td><td>0.084962</td><td>0.829821</td><td>null</td><td>null</td><td>8.5239e8</td><td>0.055975</td><td>0.007926</td><td>0.002836</td><td>0.011392</td><td>null</td><td>0.008227</td><td>0.052824</td><td>0.025599</td><td>null</td></tr><tr><td>&quot;ACSEmployment&quot;</td><td>&quot;unconstrained&quot;</td><td>&quot;honest&quot;</td><td>{null,null}</td><td>&quot;{&quot;epsilon&quot;:null,&quot;theta&quot;:null}&quot;</td><td>1000</td><td>0.0</td><td>1.0</td><td>null</td><td>2.3527e9</td><td>0.327202</td><td>0.049787</td><td>0.850877</td><td>0.853</td><td>null</td><td>0.07169</td><td>0.084962</td><td>0.829821</td><td>null</td><td>null</td><td>8.5239e8</td><td>0.093703</td><td>0.0116</td><td>0.002836</td><td>0.011392</td><td>null</td><td>0.008227</td><td>0.052824</td><td>0.025599</td><td>null</td></tr><tr><td>&quot;ACSEmployment&quot;</td><td>&quot;unconstrained&quot;</td><td>&quot;ROC_mitigation&quot;</td><td>{null,0.3}</td><td>&quot;{&quot;epsilon&quot;:null,&quot;theta&quot;:0.3}&quot;</td><td>1000</td><td>0.0</td><td>1.0</td><td>null</td><td>2.3527e9</td><td>0.302862</td><td>0.049311</td><td>0.850877</td><td>0.853</td><td>null</td><td>0.07169</td><td>0.084962</td><td>0.829821</td><td>null</td><td>null</td><td>8.5239e8</td><td>0.057524</td><td>0.009521</td><td>0.002836</td><td>0.011392</td><td>null</td><td>0.008227</td><td>0.052824</td><td>0.025599</td><td>null</td></tr><tr><td>&quot;ACSEmployment&quot;</td><td>&quot;unconstrained&quot;</td><td>&quot;randomized_response&quot;</td><td>{8.0,null}</td><td>&quot;{&quot;epsilon&quot;:8.0,&quot;theta&quot;:null}&quot;</td><td>1000</td><td>0.0</td><td>1.0</td><td>null</td><td>2.3527e9</td><td>0.307452</td><td>0.048343</td><td>0.850877</td><td>0.853</td><td>null</td><td>0.07169</td><td>0.084962</td><td>0.829821</td><td>null</td><td>null</td><td>8.5239e8</td><td>0.050142</td><td>0.007269</td><td>0.002836</td><td>0.011392</td><td>null</td><td>0.008227</td><td>0.052824</td><td>0.025599</td><td>null</td></tr></tbody></table></div>"
      ],
      "text/plain": [
       "shape: (120, 30)\n",
       "┌───────────┬───────────┬───────────┬───────────┬───┬───────────┬───────────┬───────────┬──────────┐\n",
       "│ dataset   ┆ model_nam ┆ strategy  ┆ strategy_ ┆ … ┆ demograph ┆ demograph ┆ min_condi ┆ strategy │\n",
       "│ ---       ┆ e         ┆ ---       ┆ params    ┆   ┆ ic_parity ┆ ic_parity ┆ tional_ac ┆ _instanc │\n",
       "│ str       ┆ ---       ┆ str       ┆ ---       ┆   ┆ _user_std ┆ _audit_st ┆ curacy_st ┆ e_std    │\n",
       "│           ┆ str       ┆           ┆ struct[2] ┆   ┆ ---       ┆ d         ┆ d         ┆ ---      │\n",
       "│           ┆           ┆           ┆           ┆   ┆ f64       ┆ ---       ┆ ---       ┆ str      │\n",
       "│           ┆           ┆           ┆           ┆   ┆           ┆ f64       ┆ f64       ┆          │\n",
       "╞═══════════╪═══════════╪═══════════╪═══════════╪═══╪═══════════╪═══════════╪═══════════╪══════════╡\n",
       "│ ACSEmploy ┆ unconstra ┆ randomize ┆ {3.0,null ┆ … ┆ 0.008227  ┆ 0.052824  ┆ 0.025599  ┆ null     │\n",
       "│ ment      ┆ ined      ┆ d_respons ┆ }         ┆   ┆           ┆           ┆           ┆          │\n",
       "│           ┆           ┆ e         ┆           ┆   ┆           ┆           ┆           ┆          │\n",
       "│ ACSEmploy ┆ unconstra ┆ ROC_mitig ┆ {null,0.5 ┆ … ┆ 0.008227  ┆ 0.040339  ┆ 0.021775  ┆ null     │\n",
       "│ ment      ┆ ined      ┆ ation     ┆ 66667}    ┆   ┆           ┆           ┆           ┆          │\n",
       "│ ACSEmploy ┆ unconstra ┆ randomize ┆ {7.0,null ┆ … ┆ 0.008227  ┆ 0.052824  ┆ 0.025599  ┆ null     │\n",
       "│ ment      ┆ ined      ┆ d_respons ┆ }         ┆   ┆           ┆           ┆           ┆          │\n",
       "│           ┆           ┆ e         ┆           ┆   ┆           ┆           ┆           ┆          │\n",
       "│ ACSEmploy ┆ unconstra ┆ ROC_mitig ┆ {null,0.3 ┆ … ┆ 0.008227  ┆ 0.052824  ┆ 0.025599  ┆ null     │\n",
       "│ ment      ┆ ined      ┆ ation     ┆ 33333}    ┆   ┆           ┆           ┆           ┆          │\n",
       "│ ACSEmploy ┆ unconstra ┆ ROC_mitig ┆ {null,0.4 ┆ … ┆ 0.008227  ┆ 0.052824  ┆ 0.025599  ┆ null     │\n",
       "│ ment      ┆ ined      ┆ ation     ┆ 33333}    ┆   ┆           ┆           ┆           ┆          │\n",
       "│ …         ┆ …         ┆ …         ┆ …         ┆ … ┆ …         ┆ …         ┆ …         ┆ …        │\n",
       "│ ACSEmploy ┆ unconstra ┆ randomize ┆ {2.0,null ┆ … ┆ 0.008227  ┆ 0.052824  ┆ 0.025599  ┆ null     │\n",
       "│ ment      ┆ ined      ┆ d_respons ┆ }         ┆   ┆           ┆           ┆           ┆          │\n",
       "│           ┆           ┆ e         ┆           ┆   ┆           ┆           ┆           ┆          │\n",
       "│ ACSEmploy ┆ unconstra ┆ ROC_mitig ┆ {null,0.6 ┆ … ┆ 0.008227  ┆ 0.052824  ┆ 0.025599  ┆ null     │\n",
       "│ ment      ┆ ined      ┆ ation     ┆ }         ┆   ┆           ┆           ┆           ┆          │\n",
       "│ ACSEmploy ┆ unconstra ┆ honest    ┆ {null,nul ┆ … ┆ 0.008227  ┆ 0.052824  ┆ 0.025599  ┆ null     │\n",
       "│ ment      ┆ ined      ┆           ┆ l}        ┆   ┆           ┆           ┆           ┆          │\n",
       "│ ACSEmploy ┆ unconstra ┆ ROC_mitig ┆ {null,0.3 ┆ … ┆ 0.008227  ┆ 0.052824  ┆ 0.025599  ┆ null     │\n",
       "│ ment      ┆ ined      ┆ ation     ┆ }         ┆   ┆           ┆           ┆           ┆          │\n",
       "│ ACSEmploy ┆ unconstra ┆ randomize ┆ {8.0,null ┆ … ┆ 0.008227  ┆ 0.052824  ┆ 0.025599  ┆ null     │\n",
       "│ ment      ┆ ined      ┆ d_respons ┆ }         ┆   ┆           ┆           ┆           ┆          │\n",
       "│           ┆           ┆ e         ┆           ┆   ┆           ┆           ┆           ┆          │\n",
       "└───────────┴───────────┴───────────┴───────────┴───┴───────────┴───────────┴───────────┴──────────┘"
      ]
     },
     "execution_count": 50,
     "metadata": {},
     "output_type": "execute_result"
    }
   ],
   "source": [
    "manipulation"
   ]
  },
  {
   "cell_type": "code",
   "execution_count": 51,
   "metadata": {},
   "outputs": [
    {
     "data": {
      "application/vnd.plotly.v1+json": {
       "config": {
        "plotlyServerURL": "https://plot.ly"
       },
       "data": [
        {
         "error_y": {
          "array": [
           0.011448047242995687,
           0.017246995792239362,
           0.016668669295215256,
           0.018243932931333844,
           0.018358387836482637
          ]
         },
         "hovertemplate": "strategy_json={\"epsilon\":null,\"theta\":null}<br>strategy=always_yes<br>detection_tpr=%{x}<br>min_conditional_accuracy=%{y}<extra></extra>",
         "legendgroup": "{\"epsilon\":null,\"theta\":null}",
         "line": {
          "color": "#636efa",
          "dash": "solid"
         },
         "marker": {
          "symbol": "circle"
         },
         "mode": "lines",
         "name": "{\"epsilon\":null,\"theta\":null}",
         "orientation": "v",
         "showlegend": true,
         "type": "scatter",
         "x": [
          0,
          0.25,
          0.5,
          0.75,
          1
         ],
         "xaxis": "x",
         "y": [
          0.8298210864694612,
          0.7304802415819723,
          0.6369613923434101,
          0.525242718446602,
          0.4067961165048543
         ],
         "yaxis": "y"
        },
        {
         "error_y": {
          "array": [
           0.011448047242995687,
           0.012243285323145685,
           0.010934832097056963,
           0.008985490593274196,
           0.011402231174848948
          ]
         },
         "hovertemplate": "strategy_json={\"epsilon\":null,\"theta\":null}<br>strategy=model_swap<br>detection_tpr=%{x}<br>min_conditional_accuracy=%{y}<extra></extra>",
         "legendgroup": "{\"epsilon\":null,\"theta\":null}",
         "line": {
          "color": "#636efa",
          "dash": "solid"
         },
         "marker": {
          "symbol": "circle"
         },
         "mode": "lines",
         "name": "{\"epsilon\":null,\"theta\":null}",
         "orientation": "v",
         "showlegend": false,
         "type": "scatter",
         "x": [
          0,
          0.25,
          0.5,
          0.75,
          1
         ],
         "xaxis": "x4",
         "y": [
          0.8298210864694612,
          0.8262482276412205,
          0.8249429056942776,
          0.8291229665227131,
          0.8229632756437315
         ],
         "yaxis": "y4"
        },
        {
         "error_y": {
          "array": [
           0.011448047242995687,
           0.013790027879512579,
           0.012945677668725212,
           0.003922324185181778,
           0.003722031668687892
          ]
         },
         "hovertemplate": "strategy_json={\"epsilon\":null,\"theta\":null}<br>strategy=always_no<br>detection_tpr=%{x}<br>min_conditional_accuracy=%{y}<extra></extra>",
         "legendgroup": "{\"epsilon\":null,\"theta\":null}",
         "line": {
          "color": "#636efa",
          "dash": "solid"
         },
         "marker": {
          "symbol": "circle"
         },
         "mode": "lines",
         "name": "{\"epsilon\":null,\"theta\":null}",
         "orientation": "v",
         "showlegend": false,
         "type": "scatter",
         "x": [
          0,
          0.25,
          0.5,
          0.75,
          1
         ],
         "xaxis": "x5",
         "y": [
          0.8298210864694612,
          0.7429457414683248,
          0.6664447835828164,
          0.5878278187269323,
          0.496989966555184
         ],
         "yaxis": "y5"
        },
        {
         "error_y": {
          "array": [
           0.011448047242995687,
           0.011448047242995687,
           0.011448047242995687,
           0.011448047242995687,
           0.011448047242995687
          ]
         },
         "hovertemplate": "strategy_json={\"epsilon\":null,\"theta\":null}<br>strategy=honest<br>detection_tpr=%{x}<br>min_conditional_accuracy=%{y}<extra></extra>",
         "legendgroup": "{\"epsilon\":null,\"theta\":null}",
         "line": {
          "color": "#636efa",
          "dash": "solid"
         },
         "marker": {
          "symbol": "circle"
         },
         "mode": "lines",
         "name": "{\"epsilon\":null,\"theta\":null}",
         "orientation": "v",
         "showlegend": false,
         "type": "scatter",
         "x": [
          0,
          0.25,
          0.5,
          0.75,
          1
         ],
         "xaxis": "x6",
         "y": [
          0.8298210864694612,
          0.8298210864694612,
          0.8298210864694612,
          0.8298210864694612,
          0.8298210864694612
         ],
         "yaxis": "y6"
        },
        {
         "error_y": {
          "array": [
           0.011448047242995687,
           0.011801872497420767,
           0.011537531375435759,
           0.010047157113731154,
           0.009738127244360517
          ]
         },
         "hovertemplate": "strategy_json={\"epsilon\":null,\"theta\":0.5666666666666667}<br>strategy=ROC_mitigation<br>detection_tpr=%{x}<br>min_conditional_accuracy=%{y}<extra></extra>",
         "legendgroup": "{\"epsilon\":null,\"theta\":0.5666666666666667}",
         "line": {
          "color": "#EF553B",
          "dash": "solid"
         },
         "marker": {
          "symbol": "circle"
         },
         "mode": "lines",
         "name": "{\"epsilon\":null,\"theta\":0.5666666666666667}",
         "orientation": "v",
         "showlegend": true,
         "type": "scatter",
         "x": [
          0,
          0.25,
          0.5,
          0.75,
          1
         ],
         "xaxis": "x2",
         "y": [
          0.8298210864694612,
          0.829691203688671,
          0.8313223149440964,
          0.8325518719355781,
          0.8334112630018075
         ],
         "yaxis": "y2"
        },
        {
         "error_y": {
          "array": [
           0.011448047242995687,
           0.011448047242995687,
           0.011448047242995687,
           0.011448047242995687,
           0.011448047242995687
          ]
         },
         "hovertemplate": "strategy_json={\"epsilon\":10.0,\"theta\":null}<br>strategy=randomized_response<br>detection_tpr=%{x}<br>min_conditional_accuracy=%{y}<extra></extra>",
         "legendgroup": "{\"epsilon\":10.0,\"theta\":null}",
         "line": {
          "color": "#00cc96",
          "dash": "solid"
         },
         "marker": {
          "symbol": "circle"
         },
         "mode": "lines",
         "name": "{\"epsilon\":10.0,\"theta\":null}",
         "orientation": "v",
         "showlegend": true,
         "type": "scatter",
         "x": [
          0,
          0.25,
          0.5,
          0.75,
          1
         ],
         "xaxis": "x3",
         "y": [
          0.8298210864694612,
          0.8298210864694612,
          0.8298210864694612,
          0.8298210864694612,
          0.8298210864694612
         ],
         "yaxis": "y3"
        },
        {
         "error_y": {
          "array": [
           0.011448047242995687,
           0.011448047242995687,
           0.011448047242995687,
           0.011448047242995687,
           0.011448047242995687
          ]
         },
         "hovertemplate": "strategy_json={\"epsilon\":null,\"theta\":0.3333333333333333}<br>strategy=ROC_mitigation<br>detection_tpr=%{x}<br>min_conditional_accuracy=%{y}<extra></extra>",
         "legendgroup": "{\"epsilon\":null,\"theta\":0.3333333333333333}",
         "line": {
          "color": "#ab63fa",
          "dash": "solid"
         },
         "marker": {
          "symbol": "circle"
         },
         "mode": "lines",
         "name": "{\"epsilon\":null,\"theta\":0.3333333333333333}",
         "orientation": "v",
         "showlegend": true,
         "type": "scatter",
         "x": [
          0,
          0.25,
          0.5,
          0.75,
          1
         ],
         "xaxis": "x2",
         "y": [
          0.8298210864694612,
          0.8298210864694612,
          0.8298210864694612,
          0.8298210864694612,
          0.8298210864694612
         ],
         "yaxis": "y2"
        },
        {
         "error_y": {
          "array": [
           0.011448047242995687,
           0.011448047242995687,
           0.011448047242995687,
           0.011448047242995687,
           0.011448047242995687
          ]
         },
         "hovertemplate": "strategy_json={\"epsilon\":1.0,\"theta\":null}<br>strategy=randomized_response<br>detection_tpr=%{x}<br>min_conditional_accuracy=%{y}<extra></extra>",
         "legendgroup": "{\"epsilon\":1.0,\"theta\":null}",
         "line": {
          "color": "#FFA15A",
          "dash": "solid"
         },
         "marker": {
          "symbol": "circle"
         },
         "mode": "lines",
         "name": "{\"epsilon\":1.0,\"theta\":null}",
         "orientation": "v",
         "showlegend": true,
         "type": "scatter",
         "x": [
          0,
          0.25,
          0.5,
          0.75,
          1
         ],
         "xaxis": "x3",
         "y": [
          0.8298210864694612,
          0.8298210864694612,
          0.8298210864694612,
          0.8298210864694612,
          0.8298210864694612
         ],
         "yaxis": "y3"
        },
        {
         "error_y": {
          "array": [
           0.011448047242995687,
           0.011448047242995687,
           0.011448047242995687,
           0.011448047242995687,
           0.011448047242995687
          ]
         },
         "hovertemplate": "strategy_json={\"epsilon\":null,\"theta\":0.36666666666666664}<br>strategy=ROC_mitigation<br>detection_tpr=%{x}<br>min_conditional_accuracy=%{y}<extra></extra>",
         "legendgroup": "{\"epsilon\":null,\"theta\":0.36666666666666664}",
         "line": {
          "color": "#19d3f3",
          "dash": "solid"
         },
         "marker": {
          "symbol": "circle"
         },
         "mode": "lines",
         "name": "{\"epsilon\":null,\"theta\":0.36666666666666664}",
         "orientation": "v",
         "showlegend": true,
         "type": "scatter",
         "x": [
          0,
          0.25,
          0.5,
          0.75,
          1
         ],
         "xaxis": "x2",
         "y": [
          0.8298210864694612,
          0.8298210864694612,
          0.8298210864694612,
          0.8298210864694612,
          0.8298210864694612
         ],
         "yaxis": "y2"
        },
        {
         "error_y": {
          "array": [
           0.011448047242995687,
           0.011448047242995687,
           0.011448047242995687,
           0.011448047242995687,
           0.011448047242995687
          ]
         },
         "hovertemplate": "strategy_json={\"epsilon\":null,\"theta\":0.4}<br>strategy=ROC_mitigation<br>detection_tpr=%{x}<br>min_conditional_accuracy=%{y}<extra></extra>",
         "legendgroup": "{\"epsilon\":null,\"theta\":0.4}",
         "line": {
          "color": "#FF6692",
          "dash": "solid"
         },
         "marker": {
          "symbol": "circle"
         },
         "mode": "lines",
         "name": "{\"epsilon\":null,\"theta\":0.4}",
         "orientation": "v",
         "showlegend": true,
         "type": "scatter",
         "x": [
          0,
          0.25,
          0.5,
          0.75,
          1
         ],
         "xaxis": "x2",
         "y": [
          0.8298210864694612,
          0.8298210864694612,
          0.8298210864694612,
          0.8298210864694612,
          0.8298210864694612
         ],
         "yaxis": "y2"
        },
        {
         "error_y": {
          "array": [
           0.011448047242995687,
           0.011448047242995687,
           0.011448047242995687,
           0.011448047242995687,
           0.011448047242995687
          ]
         },
         "hovertemplate": "strategy_json={\"epsilon\":null,\"theta\":0.4666666666666667}<br>strategy=ROC_mitigation<br>detection_tpr=%{x}<br>min_conditional_accuracy=%{y}<extra></extra>",
         "legendgroup": "{\"epsilon\":null,\"theta\":0.4666666666666667}",
         "line": {
          "color": "#B6E880",
          "dash": "solid"
         },
         "marker": {
          "symbol": "circle"
         },
         "mode": "lines",
         "name": "{\"epsilon\":null,\"theta\":0.4666666666666667}",
         "orientation": "v",
         "showlegend": true,
         "type": "scatter",
         "x": [
          0,
          0.25,
          0.5,
          0.75,
          1
         ],
         "xaxis": "x2",
         "y": [
          0.8298210864694612,
          0.8298210864694612,
          0.8298210864694612,
          0.8298210864694612,
          0.8298210864694612
         ],
         "yaxis": "y2"
        },
        {
         "error_y": {
          "array": [
           0.011448047242995687,
           0.011448047242995687,
           0.011448047242995687,
           0.011448047242995687,
           0.011448047242995687
          ]
         },
         "hovertemplate": "strategy_json={\"epsilon\":3.0,\"theta\":null}<br>strategy=randomized_response<br>detection_tpr=%{x}<br>min_conditional_accuracy=%{y}<extra></extra>",
         "legendgroup": "{\"epsilon\":3.0,\"theta\":null}",
         "line": {
          "color": "#FF97FF",
          "dash": "solid"
         },
         "marker": {
          "symbol": "circle"
         },
         "mode": "lines",
         "name": "{\"epsilon\":3.0,\"theta\":null}",
         "orientation": "v",
         "showlegend": true,
         "type": "scatter",
         "x": [
          0,
          0.25,
          0.5,
          0.75,
          1
         ],
         "xaxis": "x3",
         "y": [
          0.8298210864694612,
          0.8298210864694612,
          0.8298210864694612,
          0.8298210864694612,
          0.8298210864694612
         ],
         "yaxis": "y3"
        },
        {
         "error_y": {
          "array": [
           0.011448047242995687,
           0.011448047242995687,
           0.011448047242995687,
           0.011448047242995687,
           0.011448047242995687
          ]
         },
         "hovertemplate": "strategy_json={\"epsilon\":9.0,\"theta\":null}<br>strategy=randomized_response<br>detection_tpr=%{x}<br>min_conditional_accuracy=%{y}<extra></extra>",
         "legendgroup": "{\"epsilon\":9.0,\"theta\":null}",
         "line": {
          "color": "#FECB52",
          "dash": "solid"
         },
         "marker": {
          "symbol": "circle"
         },
         "mode": "lines",
         "name": "{\"epsilon\":9.0,\"theta\":null}",
         "orientation": "v",
         "showlegend": true,
         "type": "scatter",
         "x": [
          0,
          0.25,
          0.5,
          0.75,
          1
         ],
         "xaxis": "x3",
         "y": [
          0.8298210864694612,
          0.8298210864694612,
          0.8298210864694612,
          0.8298210864694612,
          0.8298210864694612
         ],
         "yaxis": "y3"
        },
        {
         "error_y": {
          "array": [
           0.011448047242995687,
           0.011448047242995687,
           0.011448047242995687,
           0.011448047242995687,
           0.011448047242995687
          ]
         },
         "hovertemplate": "strategy_json={\"epsilon\":null,\"theta\":0.5}<br>strategy=ROC_mitigation<br>detection_tpr=%{x}<br>min_conditional_accuracy=%{y}<extra></extra>",
         "legendgroup": "{\"epsilon\":null,\"theta\":0.5}",
         "line": {
          "color": "#636efa",
          "dash": "solid"
         },
         "marker": {
          "symbol": "circle"
         },
         "mode": "lines",
         "name": "{\"epsilon\":null,\"theta\":0.5}",
         "orientation": "v",
         "showlegend": true,
         "type": "scatter",
         "x": [
          0,
          0.25,
          0.5,
          0.75,
          1
         ],
         "xaxis": "x2",
         "y": [
          0.8298210864694612,
          0.8298210864694612,
          0.8298210864694612,
          0.8298210864694612,
          0.8298210864694612
         ],
         "yaxis": "y2"
        },
        {
         "error_y": {
          "array": [
           0.011448047242995687,
           0.011448047242995687,
           0.011448047242995687,
           0.011448047242995687,
           0.011448047242995687
          ]
         },
         "hovertemplate": "strategy_json={\"epsilon\":6.0,\"theta\":null}<br>strategy=randomized_response<br>detection_tpr=%{x}<br>min_conditional_accuracy=%{y}<extra></extra>",
         "legendgroup": "{\"epsilon\":6.0,\"theta\":null}",
         "line": {
          "color": "#EF553B",
          "dash": "solid"
         },
         "marker": {
          "symbol": "circle"
         },
         "mode": "lines",
         "name": "{\"epsilon\":6.0,\"theta\":null}",
         "orientation": "v",
         "showlegend": true,
         "type": "scatter",
         "x": [
          0,
          0.25,
          0.5,
          0.75,
          1
         ],
         "xaxis": "x3",
         "y": [
          0.8298210864694612,
          0.8298210864694612,
          0.8298210864694612,
          0.8298210864694612,
          0.8298210864694612
         ],
         "yaxis": "y3"
        },
        {
         "error_y": {
          "array": [
           0.011448047242995687,
           0.012042833605556193,
           0.011612212031565348,
           0.010592428912681286,
           0.010067812223754921
          ]
         },
         "hovertemplate": "strategy_json={\"epsilon\":null,\"theta\":0.5333333333333333}<br>strategy=ROC_mitigation<br>detection_tpr=%{x}<br>min_conditional_accuracy=%{y}<extra></extra>",
         "legendgroup": "{\"epsilon\":null,\"theta\":0.5333333333333333}",
         "line": {
          "color": "#00cc96",
          "dash": "solid"
         },
         "marker": {
          "symbol": "circle"
         },
         "mode": "lines",
         "name": "{\"epsilon\":null,\"theta\":0.5333333333333333}",
         "orientation": "v",
         "showlegend": true,
         "type": "scatter",
         "x": [
          0,
          0.25,
          0.5,
          0.75,
          1
         ],
         "xaxis": "x2",
         "y": [
          0.8298210864694612,
          0.8277440443333223,
          0.8284042818023399,
          0.8289292247080343,
          0.8294628264657812
         ],
         "yaxis": "y2"
        },
        {
         "error_y": {
          "array": [
           0.011448047242995687,
           0.011448047242995687,
           0.011448047242995687,
           0.011448047242995687,
           0.011448047242995687
          ]
         },
         "hovertemplate": "strategy_json={\"epsilon\":5.0,\"theta\":null}<br>strategy=randomized_response<br>detection_tpr=%{x}<br>min_conditional_accuracy=%{y}<extra></extra>",
         "legendgroup": "{\"epsilon\":5.0,\"theta\":null}",
         "line": {
          "color": "#ab63fa",
          "dash": "solid"
         },
         "marker": {
          "symbol": "circle"
         },
         "mode": "lines",
         "name": "{\"epsilon\":5.0,\"theta\":null}",
         "orientation": "v",
         "showlegend": true,
         "type": "scatter",
         "x": [
          0,
          0.25,
          0.5,
          0.75,
          1
         ],
         "xaxis": "x3",
         "y": [
          0.8298210864694612,
          0.8298210864694612,
          0.8298210864694612,
          0.8298210864694612,
          0.8298210864694612
         ],
         "yaxis": "y3"
        },
        {
         "error_y": {
          "array": [
           0.011448047242995687,
           0.011448047242995687,
           0.011448047242995687,
           0.011448047242995687,
           0.011448047242995687
          ]
         },
         "hovertemplate": "strategy_json={\"epsilon\":null,\"theta\":0.43333333333333335}<br>strategy=ROC_mitigation<br>detection_tpr=%{x}<br>min_conditional_accuracy=%{y}<extra></extra>",
         "legendgroup": "{\"epsilon\":null,\"theta\":0.43333333333333335}",
         "line": {
          "color": "#FFA15A",
          "dash": "solid"
         },
         "marker": {
          "symbol": "circle"
         },
         "mode": "lines",
         "name": "{\"epsilon\":null,\"theta\":0.43333333333333335}",
         "orientation": "v",
         "showlegend": true,
         "type": "scatter",
         "x": [
          0,
          0.25,
          0.5,
          0.75,
          1
         ],
         "xaxis": "x2",
         "y": [
          0.8298210864694612,
          0.8298210864694612,
          0.8298210864694612,
          0.8298210864694612,
          0.8298210864694612
         ],
         "yaxis": "y2"
        },
        {
         "error_y": {
          "array": [
           0.011448047242995687,
           0.011448047242995687,
           0.011448047242995687,
           0.011448047242995687,
           0.011448047242995687
          ]
         },
         "hovertemplate": "strategy_json={\"epsilon\":4.0,\"theta\":null}<br>strategy=randomized_response<br>detection_tpr=%{x}<br>min_conditional_accuracy=%{y}<extra></extra>",
         "legendgroup": "{\"epsilon\":4.0,\"theta\":null}",
         "line": {
          "color": "#19d3f3",
          "dash": "solid"
         },
         "marker": {
          "symbol": "circle"
         },
         "mode": "lines",
         "name": "{\"epsilon\":4.0,\"theta\":null}",
         "orientation": "v",
         "showlegend": true,
         "type": "scatter",
         "x": [
          0,
          0.25,
          0.5,
          0.75,
          1
         ],
         "xaxis": "x3",
         "y": [
          0.8298210864694612,
          0.8298210864694612,
          0.8298210864694612,
          0.8298210864694612,
          0.8298210864694612
         ],
         "yaxis": "y3"
        },
        {
         "error_y": {
          "array": [
           0.011448047242995687,
           0.011448047242995687,
           0.011448047242995687,
           0.011448047242995687,
           0.011448047242995687
          ]
         },
         "hovertemplate": "strategy_json={\"epsilon\":7.0,\"theta\":null}<br>strategy=randomized_response<br>detection_tpr=%{x}<br>min_conditional_accuracy=%{y}<extra></extra>",
         "legendgroup": "{\"epsilon\":7.0,\"theta\":null}",
         "line": {
          "color": "#FF6692",
          "dash": "solid"
         },
         "marker": {
          "symbol": "circle"
         },
         "mode": "lines",
         "name": "{\"epsilon\":7.0,\"theta\":null}",
         "orientation": "v",
         "showlegend": true,
         "type": "scatter",
         "x": [
          0,
          0.25,
          0.5,
          0.75,
          1
         ],
         "xaxis": "x3",
         "y": [
          0.8298210864694612,
          0.8298210864694612,
          0.8298210864694612,
          0.8298210864694612,
          0.8298210864694612
         ],
         "yaxis": "y3"
        },
        {
         "error_y": {
          "array": [
           0.011448047242995687,
           0.011448047242995687,
           0.011448047242995687,
           0.011448047242995687,
           0.011448047242995687
          ]
         },
         "hovertemplate": "strategy_json={\"epsilon\":2.0,\"theta\":null}<br>strategy=randomized_response<br>detection_tpr=%{x}<br>min_conditional_accuracy=%{y}<extra></extra>",
         "legendgroup": "{\"epsilon\":2.0,\"theta\":null}",
         "line": {
          "color": "#B6E880",
          "dash": "solid"
         },
         "marker": {
          "symbol": "circle"
         },
         "mode": "lines",
         "name": "{\"epsilon\":2.0,\"theta\":null}",
         "orientation": "v",
         "showlegend": true,
         "type": "scatter",
         "x": [
          0,
          0.25,
          0.5,
          0.75,
          1
         ],
         "xaxis": "x3",
         "y": [
          0.8298210864694612,
          0.8298210864694612,
          0.8298210864694612,
          0.8298210864694612,
          0.8298210864694612
         ],
         "yaxis": "y3"
        },
        {
         "error_y": {
          "array": [
           0.011448047242995687,
           0.012337272776308134,
           0.010593569197015526,
           0.009204774133872877,
           0.009533542094307366
          ]
         },
         "hovertemplate": "strategy_json={\"epsilon\":null,\"theta\":0.6}<br>strategy=ROC_mitigation<br>detection_tpr=%{x}<br>min_conditional_accuracy=%{y}<extra></extra>",
         "legendgroup": "{\"epsilon\":null,\"theta\":0.6}",
         "line": {
          "color": "#FF97FF",
          "dash": "solid"
         },
         "marker": {
          "symbol": "circle"
         },
         "mode": "lines",
         "name": "{\"epsilon\":null,\"theta\":0.6}",
         "orientation": "v",
         "showlegend": true,
         "type": "scatter",
         "x": [
          0,
          0.25,
          0.5,
          0.75,
          1
         ],
         "xaxis": "x2",
         "y": [
          0.8298210864694612,
          0.8295743091859595,
          0.8279345390784816,
          0.8300613696139234,
          0.8306977952397961
         ],
         "yaxis": "y2"
        },
        {
         "error_y": {
          "array": [
           0.011448047242995687,
           0.011448047242995687,
           0.011448047242995687,
           0.011448047242995687,
           0.011448047242995687
          ]
         },
         "hovertemplate": "strategy_json={\"epsilon\":null,\"theta\":0.3}<br>strategy=ROC_mitigation<br>detection_tpr=%{x}<br>min_conditional_accuracy=%{y}<extra></extra>",
         "legendgroup": "{\"epsilon\":null,\"theta\":0.3}",
         "line": {
          "color": "#FECB52",
          "dash": "solid"
         },
         "marker": {
          "symbol": "circle"
         },
         "mode": "lines",
         "name": "{\"epsilon\":null,\"theta\":0.3}",
         "orientation": "v",
         "showlegend": true,
         "type": "scatter",
         "x": [
          0,
          0.25,
          0.5,
          0.75,
          1
         ],
         "xaxis": "x2",
         "y": [
          0.8298210864694612,
          0.8298210864694612,
          0.8298210864694612,
          0.8298210864694612,
          0.8298210864694612
         ],
         "yaxis": "y2"
        },
        {
         "error_y": {
          "array": [
           0.011448047242995687,
           0.011448047242995687,
           0.011448047242995687,
           0.011448047242995687,
           0.011448047242995687
          ]
         },
         "hovertemplate": "strategy_json={\"epsilon\":8.0,\"theta\":null}<br>strategy=randomized_response<br>detection_tpr=%{x}<br>min_conditional_accuracy=%{y}<extra></extra>",
         "legendgroup": "{\"epsilon\":8.0,\"theta\":null}",
         "line": {
          "color": "#636efa",
          "dash": "solid"
         },
         "marker": {
          "symbol": "circle"
         },
         "mode": "lines",
         "name": "{\"epsilon\":8.0,\"theta\":null}",
         "orientation": "v",
         "showlegend": true,
         "type": "scatter",
         "x": [
          0,
          0.25,
          0.5,
          0.75,
          1
         ],
         "xaxis": "x3",
         "y": [
          0.8298210864694612,
          0.8298210864694612,
          0.8298210864694612,
          0.8298210864694612,
          0.8298210864694612
         ],
         "yaxis": "y3"
        }
       ],
       "layout": {
        "annotations": [
         {
          "font": {},
          "showarrow": false,
          "text": "strategy=always_yes",
          "x": 0.075,
          "xanchor": "center",
          "xref": "paper",
          "y": 1,
          "yanchor": "bottom",
          "yref": "paper"
         },
         {
          "font": {},
          "showarrow": false,
          "text": "strategy=ROC_mitigation",
          "x": 0.24499999999999997,
          "xanchor": "center",
          "xref": "paper",
          "y": 1,
          "yanchor": "bottom",
          "yref": "paper"
         },
         {
          "font": {},
          "showarrow": false,
          "text": "strategy=randomized_response",
          "x": 0.415,
          "xanchor": "center",
          "xref": "paper",
          "y": 1,
          "yanchor": "bottom",
          "yref": "paper"
         },
         {
          "font": {},
          "showarrow": false,
          "text": "strategy=model_swap",
          "x": 0.585,
          "xanchor": "center",
          "xref": "paper",
          "y": 1,
          "yanchor": "bottom",
          "yref": "paper"
         },
         {
          "font": {},
          "showarrow": false,
          "text": "strategy=always_no",
          "x": 0.7549999999999999,
          "xanchor": "center",
          "xref": "paper",
          "y": 1,
          "yanchor": "bottom",
          "yref": "paper"
         },
         {
          "font": {},
          "showarrow": false,
          "text": "strategy=honest",
          "x": 0.925,
          "xanchor": "center",
          "xref": "paper",
          "y": 1,
          "yanchor": "bottom",
          "yref": "paper"
         }
        ],
        "legend": {
         "title": {
          "text": "strategy_json"
         },
         "tracegroupgap": 0
        },
        "margin": {
         "t": 60
        },
        "template": {
         "data": {
          "bar": [
           {
            "error_x": {
             "color": "#2a3f5f"
            },
            "error_y": {
             "color": "#2a3f5f"
            },
            "marker": {
             "line": {
              "color": "#E5ECF6",
              "width": 0.5
             },
             "pattern": {
              "fillmode": "overlay",
              "size": 10,
              "solidity": 0.2
             }
            },
            "type": "bar"
           }
          ],
          "barpolar": [
           {
            "marker": {
             "line": {
              "color": "#E5ECF6",
              "width": 0.5
             },
             "pattern": {
              "fillmode": "overlay",
              "size": 10,
              "solidity": 0.2
             }
            },
            "type": "barpolar"
           }
          ],
          "carpet": [
           {
            "aaxis": {
             "endlinecolor": "#2a3f5f",
             "gridcolor": "white",
             "linecolor": "white",
             "minorgridcolor": "white",
             "startlinecolor": "#2a3f5f"
            },
            "baxis": {
             "endlinecolor": "#2a3f5f",
             "gridcolor": "white",
             "linecolor": "white",
             "minorgridcolor": "white",
             "startlinecolor": "#2a3f5f"
            },
            "type": "carpet"
           }
          ],
          "choropleth": [
           {
            "colorbar": {
             "outlinewidth": 0,
             "ticks": ""
            },
            "type": "choropleth"
           }
          ],
          "contour": [
           {
            "colorbar": {
             "outlinewidth": 0,
             "ticks": ""
            },
            "colorscale": [
             [
              0,
              "#0d0887"
             ],
             [
              0.1111111111111111,
              "#46039f"
             ],
             [
              0.2222222222222222,
              "#7201a8"
             ],
             [
              0.3333333333333333,
              "#9c179e"
             ],
             [
              0.4444444444444444,
              "#bd3786"
             ],
             [
              0.5555555555555556,
              "#d8576b"
             ],
             [
              0.6666666666666666,
              "#ed7953"
             ],
             [
              0.7777777777777778,
              "#fb9f3a"
             ],
             [
              0.8888888888888888,
              "#fdca26"
             ],
             [
              1,
              "#f0f921"
             ]
            ],
            "type": "contour"
           }
          ],
          "contourcarpet": [
           {
            "colorbar": {
             "outlinewidth": 0,
             "ticks": ""
            },
            "type": "contourcarpet"
           }
          ],
          "heatmap": [
           {
            "colorbar": {
             "outlinewidth": 0,
             "ticks": ""
            },
            "colorscale": [
             [
              0,
              "#0d0887"
             ],
             [
              0.1111111111111111,
              "#46039f"
             ],
             [
              0.2222222222222222,
              "#7201a8"
             ],
             [
              0.3333333333333333,
              "#9c179e"
             ],
             [
              0.4444444444444444,
              "#bd3786"
             ],
             [
              0.5555555555555556,
              "#d8576b"
             ],
             [
              0.6666666666666666,
              "#ed7953"
             ],
             [
              0.7777777777777778,
              "#fb9f3a"
             ],
             [
              0.8888888888888888,
              "#fdca26"
             ],
             [
              1,
              "#f0f921"
             ]
            ],
            "type": "heatmap"
           }
          ],
          "heatmapgl": [
           {
            "colorbar": {
             "outlinewidth": 0,
             "ticks": ""
            },
            "colorscale": [
             [
              0,
              "#0d0887"
             ],
             [
              0.1111111111111111,
              "#46039f"
             ],
             [
              0.2222222222222222,
              "#7201a8"
             ],
             [
              0.3333333333333333,
              "#9c179e"
             ],
             [
              0.4444444444444444,
              "#bd3786"
             ],
             [
              0.5555555555555556,
              "#d8576b"
             ],
             [
              0.6666666666666666,
              "#ed7953"
             ],
             [
              0.7777777777777778,
              "#fb9f3a"
             ],
             [
              0.8888888888888888,
              "#fdca26"
             ],
             [
              1,
              "#f0f921"
             ]
            ],
            "type": "heatmapgl"
           }
          ],
          "histogram": [
           {
            "marker": {
             "pattern": {
              "fillmode": "overlay",
              "size": 10,
              "solidity": 0.2
             }
            },
            "type": "histogram"
           }
          ],
          "histogram2d": [
           {
            "colorbar": {
             "outlinewidth": 0,
             "ticks": ""
            },
            "colorscale": [
             [
              0,
              "#0d0887"
             ],
             [
              0.1111111111111111,
              "#46039f"
             ],
             [
              0.2222222222222222,
              "#7201a8"
             ],
             [
              0.3333333333333333,
              "#9c179e"
             ],
             [
              0.4444444444444444,
              "#bd3786"
             ],
             [
              0.5555555555555556,
              "#d8576b"
             ],
             [
              0.6666666666666666,
              "#ed7953"
             ],
             [
              0.7777777777777778,
              "#fb9f3a"
             ],
             [
              0.8888888888888888,
              "#fdca26"
             ],
             [
              1,
              "#f0f921"
             ]
            ],
            "type": "histogram2d"
           }
          ],
          "histogram2dcontour": [
           {
            "colorbar": {
             "outlinewidth": 0,
             "ticks": ""
            },
            "colorscale": [
             [
              0,
              "#0d0887"
             ],
             [
              0.1111111111111111,
              "#46039f"
             ],
             [
              0.2222222222222222,
              "#7201a8"
             ],
             [
              0.3333333333333333,
              "#9c179e"
             ],
             [
              0.4444444444444444,
              "#bd3786"
             ],
             [
              0.5555555555555556,
              "#d8576b"
             ],
             [
              0.6666666666666666,
              "#ed7953"
             ],
             [
              0.7777777777777778,
              "#fb9f3a"
             ],
             [
              0.8888888888888888,
              "#fdca26"
             ],
             [
              1,
              "#f0f921"
             ]
            ],
            "type": "histogram2dcontour"
           }
          ],
          "mesh3d": [
           {
            "colorbar": {
             "outlinewidth": 0,
             "ticks": ""
            },
            "type": "mesh3d"
           }
          ],
          "parcoords": [
           {
            "line": {
             "colorbar": {
              "outlinewidth": 0,
              "ticks": ""
             }
            },
            "type": "parcoords"
           }
          ],
          "pie": [
           {
            "automargin": true,
            "type": "pie"
           }
          ],
          "scatter": [
           {
            "fillpattern": {
             "fillmode": "overlay",
             "size": 10,
             "solidity": 0.2
            },
            "type": "scatter"
           }
          ],
          "scatter3d": [
           {
            "line": {
             "colorbar": {
              "outlinewidth": 0,
              "ticks": ""
             }
            },
            "marker": {
             "colorbar": {
              "outlinewidth": 0,
              "ticks": ""
             }
            },
            "type": "scatter3d"
           }
          ],
          "scattercarpet": [
           {
            "marker": {
             "colorbar": {
              "outlinewidth": 0,
              "ticks": ""
             }
            },
            "type": "scattercarpet"
           }
          ],
          "scattergeo": [
           {
            "marker": {
             "colorbar": {
              "outlinewidth": 0,
              "ticks": ""
             }
            },
            "type": "scattergeo"
           }
          ],
          "scattergl": [
           {
            "marker": {
             "colorbar": {
              "outlinewidth": 0,
              "ticks": ""
             }
            },
            "type": "scattergl"
           }
          ],
          "scattermapbox": [
           {
            "marker": {
             "colorbar": {
              "outlinewidth": 0,
              "ticks": ""
             }
            },
            "type": "scattermapbox"
           }
          ],
          "scatterpolar": [
           {
            "marker": {
             "colorbar": {
              "outlinewidth": 0,
              "ticks": ""
             }
            },
            "type": "scatterpolar"
           }
          ],
          "scatterpolargl": [
           {
            "marker": {
             "colorbar": {
              "outlinewidth": 0,
              "ticks": ""
             }
            },
            "type": "scatterpolargl"
           }
          ],
          "scatterternary": [
           {
            "marker": {
             "colorbar": {
              "outlinewidth": 0,
              "ticks": ""
             }
            },
            "type": "scatterternary"
           }
          ],
          "surface": [
           {
            "colorbar": {
             "outlinewidth": 0,
             "ticks": ""
            },
            "colorscale": [
             [
              0,
              "#0d0887"
             ],
             [
              0.1111111111111111,
              "#46039f"
             ],
             [
              0.2222222222222222,
              "#7201a8"
             ],
             [
              0.3333333333333333,
              "#9c179e"
             ],
             [
              0.4444444444444444,
              "#bd3786"
             ],
             [
              0.5555555555555556,
              "#d8576b"
             ],
             [
              0.6666666666666666,
              "#ed7953"
             ],
             [
              0.7777777777777778,
              "#fb9f3a"
             ],
             [
              0.8888888888888888,
              "#fdca26"
             ],
             [
              1,
              "#f0f921"
             ]
            ],
            "type": "surface"
           }
          ],
          "table": [
           {
            "cells": {
             "fill": {
              "color": "#EBF0F8"
             },
             "line": {
              "color": "white"
             }
            },
            "header": {
             "fill": {
              "color": "#C8D4E3"
             },
             "line": {
              "color": "white"
             }
            },
            "type": "table"
           }
          ]
         },
         "layout": {
          "annotationdefaults": {
           "arrowcolor": "#2a3f5f",
           "arrowhead": 0,
           "arrowwidth": 1
          },
          "autotypenumbers": "strict",
          "coloraxis": {
           "colorbar": {
            "outlinewidth": 0,
            "ticks": ""
           }
          },
          "colorscale": {
           "diverging": [
            [
             0,
             "#8e0152"
            ],
            [
             0.1,
             "#c51b7d"
            ],
            [
             0.2,
             "#de77ae"
            ],
            [
             0.3,
             "#f1b6da"
            ],
            [
             0.4,
             "#fde0ef"
            ],
            [
             0.5,
             "#f7f7f7"
            ],
            [
             0.6,
             "#e6f5d0"
            ],
            [
             0.7,
             "#b8e186"
            ],
            [
             0.8,
             "#7fbc41"
            ],
            [
             0.9,
             "#4d9221"
            ],
            [
             1,
             "#276419"
            ]
           ],
           "sequential": [
            [
             0,
             "#0d0887"
            ],
            [
             0.1111111111111111,
             "#46039f"
            ],
            [
             0.2222222222222222,
             "#7201a8"
            ],
            [
             0.3333333333333333,
             "#9c179e"
            ],
            [
             0.4444444444444444,
             "#bd3786"
            ],
            [
             0.5555555555555556,
             "#d8576b"
            ],
            [
             0.6666666666666666,
             "#ed7953"
            ],
            [
             0.7777777777777778,
             "#fb9f3a"
            ],
            [
             0.8888888888888888,
             "#fdca26"
            ],
            [
             1,
             "#f0f921"
            ]
           ],
           "sequentialminus": [
            [
             0,
             "#0d0887"
            ],
            [
             0.1111111111111111,
             "#46039f"
            ],
            [
             0.2222222222222222,
             "#7201a8"
            ],
            [
             0.3333333333333333,
             "#9c179e"
            ],
            [
             0.4444444444444444,
             "#bd3786"
            ],
            [
             0.5555555555555556,
             "#d8576b"
            ],
            [
             0.6666666666666666,
             "#ed7953"
            ],
            [
             0.7777777777777778,
             "#fb9f3a"
            ],
            [
             0.8888888888888888,
             "#fdca26"
            ],
            [
             1,
             "#f0f921"
            ]
           ]
          },
          "colorway": [
           "#636efa",
           "#EF553B",
           "#00cc96",
           "#ab63fa",
           "#FFA15A",
           "#19d3f3",
           "#FF6692",
           "#B6E880",
           "#FF97FF",
           "#FECB52"
          ],
          "font": {
           "color": "#2a3f5f"
          },
          "geo": {
           "bgcolor": "white",
           "lakecolor": "white",
           "landcolor": "#E5ECF6",
           "showlakes": true,
           "showland": true,
           "subunitcolor": "white"
          },
          "hoverlabel": {
           "align": "left"
          },
          "hovermode": "closest",
          "mapbox": {
           "style": "light"
          },
          "paper_bgcolor": "white",
          "plot_bgcolor": "#E5ECF6",
          "polar": {
           "angularaxis": {
            "gridcolor": "white",
            "linecolor": "white",
            "ticks": ""
           },
           "bgcolor": "#E5ECF6",
           "radialaxis": {
            "gridcolor": "white",
            "linecolor": "white",
            "ticks": ""
           }
          },
          "scene": {
           "xaxis": {
            "backgroundcolor": "#E5ECF6",
            "gridcolor": "white",
            "gridwidth": 2,
            "linecolor": "white",
            "showbackground": true,
            "ticks": "",
            "zerolinecolor": "white"
           },
           "yaxis": {
            "backgroundcolor": "#E5ECF6",
            "gridcolor": "white",
            "gridwidth": 2,
            "linecolor": "white",
            "showbackground": true,
            "ticks": "",
            "zerolinecolor": "white"
           },
           "zaxis": {
            "backgroundcolor": "#E5ECF6",
            "gridcolor": "white",
            "gridwidth": 2,
            "linecolor": "white",
            "showbackground": true,
            "ticks": "",
            "zerolinecolor": "white"
           }
          },
          "shapedefaults": {
           "line": {
            "color": "#2a3f5f"
           }
          },
          "ternary": {
           "aaxis": {
            "gridcolor": "white",
            "linecolor": "white",
            "ticks": ""
           },
           "baxis": {
            "gridcolor": "white",
            "linecolor": "white",
            "ticks": ""
           },
           "bgcolor": "#E5ECF6",
           "caxis": {
            "gridcolor": "white",
            "linecolor": "white",
            "ticks": ""
           }
          },
          "title": {
           "x": 0.05
          },
          "xaxis": {
           "automargin": true,
           "gridcolor": "white",
           "linecolor": "white",
           "ticks": "",
           "title": {
            "standoff": 15
           },
           "zerolinecolor": "white",
           "zerolinewidth": 2
          },
          "yaxis": {
           "automargin": true,
           "gridcolor": "white",
           "linecolor": "white",
           "ticks": "",
           "title": {
            "standoff": 15
           },
           "zerolinecolor": "white",
           "zerolinewidth": 2
          }
         }
        },
        "xaxis": {
         "anchor": "y",
         "domain": [
          0,
          0.15
         ],
         "title": {
          "text": "detection_tpr"
         }
        },
        "xaxis2": {
         "anchor": "y2",
         "domain": [
          0.16999999999999998,
          0.31999999999999995
         ],
         "matches": "x",
         "title": {
          "text": "detection_tpr"
         }
        },
        "xaxis3": {
         "anchor": "y3",
         "domain": [
          0.33999999999999997,
          0.49
         ],
         "matches": "x",
         "title": {
          "text": "detection_tpr"
         }
        },
        "xaxis4": {
         "anchor": "y4",
         "domain": [
          0.51,
          0.66
         ],
         "matches": "x",
         "title": {
          "text": "detection_tpr"
         }
        },
        "xaxis5": {
         "anchor": "y5",
         "domain": [
          0.6799999999999999,
          0.83
         ],
         "matches": "x",
         "title": {
          "text": "detection_tpr"
         }
        },
        "xaxis6": {
         "anchor": "y6",
         "domain": [
          0.85,
          1
         ],
         "matches": "x",
         "title": {
          "text": "detection_tpr"
         }
        },
        "yaxis": {
         "anchor": "x",
         "domain": [
          0,
          1
         ],
         "title": {
          "text": "min_conditional_accuracy"
         }
        },
        "yaxis2": {
         "anchor": "x2",
         "domain": [
          0,
          1
         ],
         "matches": "y",
         "showticklabels": false
        },
        "yaxis3": {
         "anchor": "x3",
         "domain": [
          0,
          1
         ],
         "matches": "y",
         "showticklabels": false
        },
        "yaxis4": {
         "anchor": "x4",
         "domain": [
          0,
          1
         ],
         "matches": "y",
         "showticklabels": false
        },
        "yaxis5": {
         "anchor": "x5",
         "domain": [
          0,
          1
         ],
         "matches": "y",
         "showticklabels": false
        },
        "yaxis6": {
         "anchor": "x6",
         "domain": [
          0,
          1
         ],
         "matches": "y",
         "showticklabels": false
        }
       }
      }
     },
     "metadata": {},
     "output_type": "display_data"
    }
   ],
   "source": [
    "px.line(\n",
    "    manipulation.sort(\"detection_tpr\").with_columns(\n",
    "        pl.col(\"min_conditional_accuracy_std\") / sqrt(5)\n",
    "    ),\n",
    "    x=\"detection_tpr\",\n",
    "    y=\"min_conditional_accuracy\",\n",
    "    error_y=\"min_conditional_accuracy_std\",\n",
    "    facet_col=\"strategy\",\n",
    "    color=\"strategy_json\",\n",
    ")"
   ]
  },
  {
   "cell_type": "code",
   "execution_count": 52,
   "metadata": {},
   "outputs": [
    {
     "data": {
      "application/vnd.plotly.v1+json": {
       "config": {
        "plotlyServerURL": "https://plot.ly"
       },
       "data": [
        {
         "error_y": {
          "array": [
           0.02362352776390448,
           0.02377163036699754,
           0.019206851651221716,
           0.00783145954499394,
           0
          ]
         },
         "hovertemplate": "strategy_json={\"epsilon\":null,\"theta\":null}<br>strategy=always_yes<br>detection_tpr=%{x}<br>demographic_parity_audit=%{y}<extra></extra>",
         "legendgroup": "{\"epsilon\":null,\"theta\":null}",
         "line": {
          "color": "#636efa",
          "dash": "solid"
         },
         "marker": {
          "symbol": "circle"
         },
         "mode": "lines",
         "name": "{\"epsilon\":null,\"theta\":null}",
         "orientation": "v",
         "showlegend": true,
         "type": "scatter",
         "x": [
          0,
          0.25,
          0.5,
          0.75,
          1
         ],
         "xaxis": "x",
         "y": [
          0.08496173869749217,
          0.06537433299780285,
          0.06739401023909254,
          0.04222813910445826,
          0
         ],
         "yaxis": "y"
        },
        {
         "error_y": {
          "array": [
           0.02362352776390448,
           0.0196367102053592,
           0.01734320131874041,
           0.01241650871113099,
           0.006447714871595774
          ]
         },
         "hovertemplate": "strategy_json={\"epsilon\":null,\"theta\":null}<br>strategy=model_swap<br>detection_tpr=%{x}<br>demographic_parity_audit=%{y}<extra></extra>",
         "legendgroup": "{\"epsilon\":null,\"theta\":null}",
         "line": {
          "color": "#636efa",
          "dash": "solid"
         },
         "marker": {
          "symbol": "circle"
         },
         "mode": "lines",
         "name": "{\"epsilon\":null,\"theta\":null}",
         "orientation": "v",
         "showlegend": false,
         "type": "scatter",
         "x": [
          0,
          0.25,
          0.5,
          0.75,
          1
         ],
         "xaxis": "x4",
         "y": [
          0.08496173869749217,
          0.058999253174010446,
          0.044794406381573955,
          0.04299228279810804,
          0.04135251269063002
         ],
         "yaxis": "y4"
        },
        {
         "error_y": {
          "array": [
           0.02362352776390448,
           0.019103139810704363,
           0.01393298080848866,
           0.011117172890400543,
           0
          ]
         },
         "hovertemplate": "strategy_json={\"epsilon\":null,\"theta\":null}<br>strategy=always_no<br>detection_tpr=%{x}<br>demographic_parity_audit=%{y}<extra></extra>",
         "legendgroup": "{\"epsilon\":null,\"theta\":null}",
         "line": {
          "color": "#636efa",
          "dash": "solid"
         },
         "marker": {
          "symbol": "circle"
         },
         "mode": "lines",
         "name": "{\"epsilon\":null,\"theta\":null}",
         "orientation": "v",
         "showlegend": false,
         "type": "scatter",
         "x": [
          0,
          0.25,
          0.5,
          0.75,
          1
         ],
         "xaxis": "x5",
         "y": [
          0.08496173869749217,
          0.06951759370501456,
          0.0572923769631241,
          0.0322812828089316,
          0
         ],
         "yaxis": "y5"
        },
        {
         "error_y": {
          "array": [
           0.02362352776390448,
           0.02362352776390448,
           0.02362352776390448,
           0.02362352776390448,
           0.02362352776390448
          ]
         },
         "hovertemplate": "strategy_json={\"epsilon\":null,\"theta\":null}<br>strategy=honest<br>detection_tpr=%{x}<br>demographic_parity_audit=%{y}<extra></extra>",
         "legendgroup": "{\"epsilon\":null,\"theta\":null}",
         "line": {
          "color": "#636efa",
          "dash": "solid"
         },
         "marker": {
          "symbol": "circle"
         },
         "mode": "lines",
         "name": "{\"epsilon\":null,\"theta\":null}",
         "orientation": "v",
         "showlegend": false,
         "type": "scatter",
         "x": [
          0,
          0.25,
          0.5,
          0.75,
          1
         ],
         "xaxis": "x6",
         "y": [
          0.08496173869749217,
          0.08496173869749217,
          0.08496173869749217,
          0.08496173869749217,
          0.08496173869749217
         ],
         "yaxis": "y6"
        },
        {
         "error_y": {
          "array": [
           0.02362352776390448,
           0.02355314678954691,
           0.024105595214738616,
           0.021234398211137245,
           0.018040244124738775
          ]
         },
         "hovertemplate": "strategy_json={\"epsilon\":null,\"theta\":0.5666666666666667}<br>strategy=ROC_mitigation<br>detection_tpr=%{x}<br>demographic_parity_audit=%{y}<extra></extra>",
         "legendgroup": "{\"epsilon\":null,\"theta\":0.5666666666666667}",
         "line": {
          "color": "#EF553B",
          "dash": "solid"
         },
         "marker": {
          "symbol": "circle"
         },
         "mode": "lines",
         "name": "{\"epsilon\":null,\"theta\":0.5666666666666667}",
         "orientation": "v",
         "showlegend": true,
         "type": "scatter",
         "x": [
          0,
          0.25,
          0.5,
          0.75,
          1
         ],
         "xaxis": "x2",
         "y": [
          0.08496173869749217,
          0.07028281975517096,
          0.05695576408957583,
          0.051920641620937104,
          0.04784232230412054
         ],
         "yaxis": "y2"
        },
        {
         "error_y": {
          "array": [
           0.02362352776390448,
           0.02362352776390448,
           0.02362352776390448,
           0.02362352776390448,
           0.02362352776390448
          ]
         },
         "hovertemplate": "strategy_json={\"epsilon\":10.0,\"theta\":null}<br>strategy=randomized_response<br>detection_tpr=%{x}<br>demographic_parity_audit=%{y}<extra></extra>",
         "legendgroup": "{\"epsilon\":10.0,\"theta\":null}",
         "line": {
          "color": "#00cc96",
          "dash": "solid"
         },
         "marker": {
          "symbol": "circle"
         },
         "mode": "lines",
         "name": "{\"epsilon\":10.0,\"theta\":null}",
         "orientation": "v",
         "showlegend": true,
         "type": "scatter",
         "x": [
          0,
          0.25,
          0.5,
          0.75,
          1
         ],
         "xaxis": "x3",
         "y": [
          0.08496173869749217,
          0.08496173869749217,
          0.08496173869749217,
          0.08496173869749217,
          0.08496173869749217
         ],
         "yaxis": "y3"
        },
        {
         "error_y": {
          "array": [
           0.02362352776390448,
           0.02362352776390448,
           0.02362352776390448,
           0.02362352776390448,
           0.02362352776390448
          ]
         },
         "hovertemplate": "strategy_json={\"epsilon\":null,\"theta\":0.3333333333333333}<br>strategy=ROC_mitigation<br>detection_tpr=%{x}<br>demographic_parity_audit=%{y}<extra></extra>",
         "legendgroup": "{\"epsilon\":null,\"theta\":0.3333333333333333}",
         "line": {
          "color": "#ab63fa",
          "dash": "solid"
         },
         "marker": {
          "symbol": "circle"
         },
         "mode": "lines",
         "name": "{\"epsilon\":null,\"theta\":0.3333333333333333}",
         "orientation": "v",
         "showlegend": true,
         "type": "scatter",
         "x": [
          0,
          0.25,
          0.5,
          0.75,
          1
         ],
         "xaxis": "x2",
         "y": [
          0.08496173869749217,
          0.08496173869749217,
          0.08496173869749217,
          0.08496173869749217,
          0.08496173869749217
         ],
         "yaxis": "y2"
        },
        {
         "error_y": {
          "array": [
           0.02362352776390448,
           0.02362352776390448,
           0.02362352776390448,
           0.02362352776390448,
           0.02362352776390448
          ]
         },
         "hovertemplate": "strategy_json={\"epsilon\":1.0,\"theta\":null}<br>strategy=randomized_response<br>detection_tpr=%{x}<br>demographic_parity_audit=%{y}<extra></extra>",
         "legendgroup": "{\"epsilon\":1.0,\"theta\":null}",
         "line": {
          "color": "#FFA15A",
          "dash": "solid"
         },
         "marker": {
          "symbol": "circle"
         },
         "mode": "lines",
         "name": "{\"epsilon\":1.0,\"theta\":null}",
         "orientation": "v",
         "showlegend": true,
         "type": "scatter",
         "x": [
          0,
          0.25,
          0.5,
          0.75,
          1
         ],
         "xaxis": "x3",
         "y": [
          0.08496173869749217,
          0.08496173869749217,
          0.08496173869749217,
          0.08496173869749217,
          0.08496173869749217
         ],
         "yaxis": "y3"
        },
        {
         "error_y": {
          "array": [
           0.02362352776390448,
           0.02362352776390448,
           0.02362352776390448,
           0.02362352776390448,
           0.02362352776390448
          ]
         },
         "hovertemplate": "strategy_json={\"epsilon\":null,\"theta\":0.36666666666666664}<br>strategy=ROC_mitigation<br>detection_tpr=%{x}<br>demographic_parity_audit=%{y}<extra></extra>",
         "legendgroup": "{\"epsilon\":null,\"theta\":0.36666666666666664}",
         "line": {
          "color": "#19d3f3",
          "dash": "solid"
         },
         "marker": {
          "symbol": "circle"
         },
         "mode": "lines",
         "name": "{\"epsilon\":null,\"theta\":0.36666666666666664}",
         "orientation": "v",
         "showlegend": true,
         "type": "scatter",
         "x": [
          0,
          0.25,
          0.5,
          0.75,
          1
         ],
         "xaxis": "x2",
         "y": [
          0.08496173869749217,
          0.08496173869749217,
          0.08496173869749217,
          0.08496173869749217,
          0.08496173869749217
         ],
         "yaxis": "y2"
        },
        {
         "error_y": {
          "array": [
           0.02362352776390448,
           0.02362352776390448,
           0.02362352776390448,
           0.02362352776390448,
           0.02362352776390448
          ]
         },
         "hovertemplate": "strategy_json={\"epsilon\":null,\"theta\":0.4}<br>strategy=ROC_mitigation<br>detection_tpr=%{x}<br>demographic_parity_audit=%{y}<extra></extra>",
         "legendgroup": "{\"epsilon\":null,\"theta\":0.4}",
         "line": {
          "color": "#FF6692",
          "dash": "solid"
         },
         "marker": {
          "symbol": "circle"
         },
         "mode": "lines",
         "name": "{\"epsilon\":null,\"theta\":0.4}",
         "orientation": "v",
         "showlegend": true,
         "type": "scatter",
         "x": [
          0,
          0.25,
          0.5,
          0.75,
          1
         ],
         "xaxis": "x2",
         "y": [
          0.08496173869749217,
          0.08496173869749217,
          0.08496173869749217,
          0.08496173869749217,
          0.08496173869749217
         ],
         "yaxis": "y2"
        },
        {
         "error_y": {
          "array": [
           0.02362352776390448,
           0.02362352776390448,
           0.02362352776390448,
           0.02362352776390448,
           0.02362352776390448
          ]
         },
         "hovertemplate": "strategy_json={\"epsilon\":null,\"theta\":0.4666666666666667}<br>strategy=ROC_mitigation<br>detection_tpr=%{x}<br>demographic_parity_audit=%{y}<extra></extra>",
         "legendgroup": "{\"epsilon\":null,\"theta\":0.4666666666666667}",
         "line": {
          "color": "#B6E880",
          "dash": "solid"
         },
         "marker": {
          "symbol": "circle"
         },
         "mode": "lines",
         "name": "{\"epsilon\":null,\"theta\":0.4666666666666667}",
         "orientation": "v",
         "showlegend": true,
         "type": "scatter",
         "x": [
          0,
          0.25,
          0.5,
          0.75,
          1
         ],
         "xaxis": "x2",
         "y": [
          0.08496173869749217,
          0.08496173869749217,
          0.08496173869749217,
          0.08496173869749217,
          0.08496173869749217
         ],
         "yaxis": "y2"
        },
        {
         "error_y": {
          "array": [
           0.02362352776390448,
           0.02362352776390448,
           0.02362352776390448,
           0.02362352776390448,
           0.02362352776390448
          ]
         },
         "hovertemplate": "strategy_json={\"epsilon\":3.0,\"theta\":null}<br>strategy=randomized_response<br>detection_tpr=%{x}<br>demographic_parity_audit=%{y}<extra></extra>",
         "legendgroup": "{\"epsilon\":3.0,\"theta\":null}",
         "line": {
          "color": "#FF97FF",
          "dash": "solid"
         },
         "marker": {
          "symbol": "circle"
         },
         "mode": "lines",
         "name": "{\"epsilon\":3.0,\"theta\":null}",
         "orientation": "v",
         "showlegend": true,
         "type": "scatter",
         "x": [
          0,
          0.25,
          0.5,
          0.75,
          1
         ],
         "xaxis": "x3",
         "y": [
          0.08496173869749217,
          0.08496173869749217,
          0.08496173869749217,
          0.08496173869749217,
          0.08496173869749217
         ],
         "yaxis": "y3"
        },
        {
         "error_y": {
          "array": [
           0.02362352776390448,
           0.02362352776390448,
           0.02362352776390448,
           0.02362352776390448,
           0.02362352776390448
          ]
         },
         "hovertemplate": "strategy_json={\"epsilon\":9.0,\"theta\":null}<br>strategy=randomized_response<br>detection_tpr=%{x}<br>demographic_parity_audit=%{y}<extra></extra>",
         "legendgroup": "{\"epsilon\":9.0,\"theta\":null}",
         "line": {
          "color": "#FECB52",
          "dash": "solid"
         },
         "marker": {
          "symbol": "circle"
         },
         "mode": "lines",
         "name": "{\"epsilon\":9.0,\"theta\":null}",
         "orientation": "v",
         "showlegend": true,
         "type": "scatter",
         "x": [
          0,
          0.25,
          0.5,
          0.75,
          1
         ],
         "xaxis": "x3",
         "y": [
          0.08496173869749217,
          0.08496173869749217,
          0.08496173869749217,
          0.08496173869749217,
          0.08496173869749217
         ],
         "yaxis": "y3"
        },
        {
         "error_y": {
          "array": [
           0.02362352776390448,
           0.02362352776390448,
           0.02362352776390448,
           0.02362352776390448,
           0.02362352776390448
          ]
         },
         "hovertemplate": "strategy_json={\"epsilon\":null,\"theta\":0.5}<br>strategy=ROC_mitigation<br>detection_tpr=%{x}<br>demographic_parity_audit=%{y}<extra></extra>",
         "legendgroup": "{\"epsilon\":null,\"theta\":0.5}",
         "line": {
          "color": "#636efa",
          "dash": "solid"
         },
         "marker": {
          "symbol": "circle"
         },
         "mode": "lines",
         "name": "{\"epsilon\":null,\"theta\":0.5}",
         "orientation": "v",
         "showlegend": true,
         "type": "scatter",
         "x": [
          0,
          0.25,
          0.5,
          0.75,
          1
         ],
         "xaxis": "x2",
         "y": [
          0.08496173869749217,
          0.08496173869749217,
          0.08496173869749217,
          0.08496173869749217,
          0.08496173869749217
         ],
         "yaxis": "y2"
        },
        {
         "error_y": {
          "array": [
           0.02362352776390448,
           0.02362352776390448,
           0.02362352776390448,
           0.02362352776390448,
           0.02362352776390448
          ]
         },
         "hovertemplate": "strategy_json={\"epsilon\":6.0,\"theta\":null}<br>strategy=randomized_response<br>detection_tpr=%{x}<br>demographic_parity_audit=%{y}<extra></extra>",
         "legendgroup": "{\"epsilon\":6.0,\"theta\":null}",
         "line": {
          "color": "#EF553B",
          "dash": "solid"
         },
         "marker": {
          "symbol": "circle"
         },
         "mode": "lines",
         "name": "{\"epsilon\":6.0,\"theta\":null}",
         "orientation": "v",
         "showlegend": true,
         "type": "scatter",
         "x": [
          0,
          0.25,
          0.5,
          0.75,
          1
         ],
         "xaxis": "x3",
         "y": [
          0.08496173869749217,
          0.08496173869749217,
          0.08496173869749217,
          0.08496173869749217,
          0.08496173869749217
         ],
         "yaxis": "y3"
        },
        {
         "error_y": {
          "array": [
           0.02362352776390448,
           0.023537691266901264,
           0.024039469771373976,
           0.024069371023978495,
           0.023414671588919297
          ]
         },
         "hovertemplate": "strategy_json={\"epsilon\":null,\"theta\":0.5333333333333333}<br>strategy=ROC_mitigation<br>detection_tpr=%{x}<br>demographic_parity_audit=%{y}<extra></extra>",
         "legendgroup": "{\"epsilon\":null,\"theta\":0.5333333333333333}",
         "line": {
          "color": "#00cc96",
          "dash": "solid"
         },
         "marker": {
          "symbol": "circle"
         },
         "mode": "lines",
         "name": "{\"epsilon\":null,\"theta\":0.5333333333333333}",
         "orientation": "v",
         "showlegend": true,
         "type": "scatter",
         "x": [
          0,
          0.25,
          0.5,
          0.75,
          1
         ],
         "xaxis": "x2",
         "y": [
          0.08496173869749217,
          0.07673041746490458,
          0.06864304964769297,
          0.06120184866491325,
          0.056807481248173516
         ],
         "yaxis": "y2"
        },
        {
         "error_y": {
          "array": [
           0.02362352776390448,
           0.02362352776390448,
           0.02362352776390448,
           0.02362352776390448,
           0.02362352776390448
          ]
         },
         "hovertemplate": "strategy_json={\"epsilon\":5.0,\"theta\":null}<br>strategy=randomized_response<br>detection_tpr=%{x}<br>demographic_parity_audit=%{y}<extra></extra>",
         "legendgroup": "{\"epsilon\":5.0,\"theta\":null}",
         "line": {
          "color": "#ab63fa",
          "dash": "solid"
         },
         "marker": {
          "symbol": "circle"
         },
         "mode": "lines",
         "name": "{\"epsilon\":5.0,\"theta\":null}",
         "orientation": "v",
         "showlegend": true,
         "type": "scatter",
         "x": [
          0,
          0.25,
          0.5,
          0.75,
          1
         ],
         "xaxis": "x3",
         "y": [
          0.08496173869749217,
          0.08496173869749217,
          0.08496173869749217,
          0.08496173869749217,
          0.08496173869749217
         ],
         "yaxis": "y3"
        },
        {
         "error_y": {
          "array": [
           0.02362352776390448,
           0.02362352776390448,
           0.02362352776390448,
           0.02362352776390448,
           0.02362352776390448
          ]
         },
         "hovertemplate": "strategy_json={\"epsilon\":null,\"theta\":0.43333333333333335}<br>strategy=ROC_mitigation<br>detection_tpr=%{x}<br>demographic_parity_audit=%{y}<extra></extra>",
         "legendgroup": "{\"epsilon\":null,\"theta\":0.43333333333333335}",
         "line": {
          "color": "#FFA15A",
          "dash": "solid"
         },
         "marker": {
          "symbol": "circle"
         },
         "mode": "lines",
         "name": "{\"epsilon\":null,\"theta\":0.43333333333333335}",
         "orientation": "v",
         "showlegend": true,
         "type": "scatter",
         "x": [
          0,
          0.25,
          0.5,
          0.75,
          1
         ],
         "xaxis": "x2",
         "y": [
          0.08496173869749217,
          0.08496173869749217,
          0.08496173869749217,
          0.08496173869749217,
          0.08496173869749217
         ],
         "yaxis": "y2"
        },
        {
         "error_y": {
          "array": [
           0.02362352776390448,
           0.02362352776390448,
           0.02362352776390448,
           0.02362352776390448,
           0.02362352776390448
          ]
         },
         "hovertemplate": "strategy_json={\"epsilon\":4.0,\"theta\":null}<br>strategy=randomized_response<br>detection_tpr=%{x}<br>demographic_parity_audit=%{y}<extra></extra>",
         "legendgroup": "{\"epsilon\":4.0,\"theta\":null}",
         "line": {
          "color": "#19d3f3",
          "dash": "solid"
         },
         "marker": {
          "symbol": "circle"
         },
         "mode": "lines",
         "name": "{\"epsilon\":4.0,\"theta\":null}",
         "orientation": "v",
         "showlegend": true,
         "type": "scatter",
         "x": [
          0,
          0.25,
          0.5,
          0.75,
          1
         ],
         "xaxis": "x3",
         "y": [
          0.08496173869749217,
          0.08496173869749217,
          0.08496173869749217,
          0.08496173869749217,
          0.08496173869749217
         ],
         "yaxis": "y3"
        },
        {
         "error_y": {
          "array": [
           0.02362352776390448,
           0.02362352776390448,
           0.02362352776390448,
           0.02362352776390448,
           0.02362352776390448
          ]
         },
         "hovertemplate": "strategy_json={\"epsilon\":7.0,\"theta\":null}<br>strategy=randomized_response<br>detection_tpr=%{x}<br>demographic_parity_audit=%{y}<extra></extra>",
         "legendgroup": "{\"epsilon\":7.0,\"theta\":null}",
         "line": {
          "color": "#FF6692",
          "dash": "solid"
         },
         "marker": {
          "symbol": "circle"
         },
         "mode": "lines",
         "name": "{\"epsilon\":7.0,\"theta\":null}",
         "orientation": "v",
         "showlegend": true,
         "type": "scatter",
         "x": [
          0,
          0.25,
          0.5,
          0.75,
          1
         ],
         "xaxis": "x3",
         "y": [
          0.08496173869749217,
          0.08496173869749217,
          0.08496173869749217,
          0.08496173869749217,
          0.08496173869749217
         ],
         "yaxis": "y3"
        },
        {
         "error_y": {
          "array": [
           0.02362352776390448,
           0.02362352776390448,
           0.02362352776390448,
           0.02362352776390448,
           0.02362352776390448
          ]
         },
         "hovertemplate": "strategy_json={\"epsilon\":2.0,\"theta\":null}<br>strategy=randomized_response<br>detection_tpr=%{x}<br>demographic_parity_audit=%{y}<extra></extra>",
         "legendgroup": "{\"epsilon\":2.0,\"theta\":null}",
         "line": {
          "color": "#B6E880",
          "dash": "solid"
         },
         "marker": {
          "symbol": "circle"
         },
         "mode": "lines",
         "name": "{\"epsilon\":2.0,\"theta\":null}",
         "orientation": "v",
         "showlegend": true,
         "type": "scatter",
         "x": [
          0,
          0.25,
          0.5,
          0.75,
          1
         ],
         "xaxis": "x3",
         "y": [
          0.08496173869749217,
          0.08496173869749217,
          0.08496173869749217,
          0.08496173869749217,
          0.08496173869749217
         ],
         "yaxis": "y3"
        },
        {
         "error_y": {
          "array": [
           0.02362352776390448,
           0.022744297177616533,
           0.018864242341498232,
           0.013509055213436661,
           0.006541443419262839
          ]
         },
         "hovertemplate": "strategy_json={\"epsilon\":null,\"theta\":0.6}<br>strategy=ROC_mitigation<br>detection_tpr=%{x}<br>demographic_parity_audit=%{y}<extra></extra>",
         "legendgroup": "{\"epsilon\":null,\"theta\":0.6}",
         "line": {
          "color": "#FF97FF",
          "dash": "solid"
         },
         "marker": {
          "symbol": "circle"
         },
         "mode": "lines",
         "name": "{\"epsilon\":null,\"theta\":0.6}",
         "orientation": "v",
         "showlegend": true,
         "type": "scatter",
         "x": [
          0,
          0.25,
          0.5,
          0.75,
          1
         ],
         "xaxis": "x2",
         "y": [
          0.08496173869749217,
          0.06545659209230337,
          0.054020413243714226,
          0.0511077918844909,
          0.04585403340152179
         ],
         "yaxis": "y2"
        },
        {
         "error_y": {
          "array": [
           0.02362352776390448,
           0.02362352776390448,
           0.02362352776390448,
           0.02362352776390448,
           0.02362352776390448
          ]
         },
         "hovertemplate": "strategy_json={\"epsilon\":null,\"theta\":0.3}<br>strategy=ROC_mitigation<br>detection_tpr=%{x}<br>demographic_parity_audit=%{y}<extra></extra>",
         "legendgroup": "{\"epsilon\":null,\"theta\":0.3}",
         "line": {
          "color": "#FECB52",
          "dash": "solid"
         },
         "marker": {
          "symbol": "circle"
         },
         "mode": "lines",
         "name": "{\"epsilon\":null,\"theta\":0.3}",
         "orientation": "v",
         "showlegend": true,
         "type": "scatter",
         "x": [
          0,
          0.25,
          0.5,
          0.75,
          1
         ],
         "xaxis": "x2",
         "y": [
          0.08496173869749217,
          0.08496173869749217,
          0.08496173869749217,
          0.08496173869749217,
          0.08496173869749217
         ],
         "yaxis": "y2"
        },
        {
         "error_y": {
          "array": [
           0.02362352776390448,
           0.02362352776390448,
           0.02362352776390448,
           0.02362352776390448,
           0.02362352776390448
          ]
         },
         "hovertemplate": "strategy_json={\"epsilon\":8.0,\"theta\":null}<br>strategy=randomized_response<br>detection_tpr=%{x}<br>demographic_parity_audit=%{y}<extra></extra>",
         "legendgroup": "{\"epsilon\":8.0,\"theta\":null}",
         "line": {
          "color": "#636efa",
          "dash": "solid"
         },
         "marker": {
          "symbol": "circle"
         },
         "mode": "lines",
         "name": "{\"epsilon\":8.0,\"theta\":null}",
         "orientation": "v",
         "showlegend": true,
         "type": "scatter",
         "x": [
          0,
          0.25,
          0.5,
          0.75,
          1
         ],
         "xaxis": "x3",
         "y": [
          0.08496173869749217,
          0.08496173869749217,
          0.08496173869749217,
          0.08496173869749217,
          0.08496173869749217
         ],
         "yaxis": "y3"
        }
       ],
       "layout": {
        "annotations": [
         {
          "font": {},
          "showarrow": false,
          "text": "strategy=always_yes",
          "x": 0.075,
          "xanchor": "center",
          "xref": "paper",
          "y": 1,
          "yanchor": "bottom",
          "yref": "paper"
         },
         {
          "font": {},
          "showarrow": false,
          "text": "strategy=ROC_mitigation",
          "x": 0.24499999999999997,
          "xanchor": "center",
          "xref": "paper",
          "y": 1,
          "yanchor": "bottom",
          "yref": "paper"
         },
         {
          "font": {},
          "showarrow": false,
          "text": "strategy=randomized_response",
          "x": 0.415,
          "xanchor": "center",
          "xref": "paper",
          "y": 1,
          "yanchor": "bottom",
          "yref": "paper"
         },
         {
          "font": {},
          "showarrow": false,
          "text": "strategy=model_swap",
          "x": 0.585,
          "xanchor": "center",
          "xref": "paper",
          "y": 1,
          "yanchor": "bottom",
          "yref": "paper"
         },
         {
          "font": {},
          "showarrow": false,
          "text": "strategy=always_no",
          "x": 0.7549999999999999,
          "xanchor": "center",
          "xref": "paper",
          "y": 1,
          "yanchor": "bottom",
          "yref": "paper"
         },
         {
          "font": {},
          "showarrow": false,
          "text": "strategy=honest",
          "x": 0.925,
          "xanchor": "center",
          "xref": "paper",
          "y": 1,
          "yanchor": "bottom",
          "yref": "paper"
         }
        ],
        "legend": {
         "title": {
          "text": "strategy_json"
         },
         "tracegroupgap": 0
        },
        "margin": {
         "t": 60
        },
        "template": {
         "data": {
          "bar": [
           {
            "error_x": {
             "color": "#2a3f5f"
            },
            "error_y": {
             "color": "#2a3f5f"
            },
            "marker": {
             "line": {
              "color": "#E5ECF6",
              "width": 0.5
             },
             "pattern": {
              "fillmode": "overlay",
              "size": 10,
              "solidity": 0.2
             }
            },
            "type": "bar"
           }
          ],
          "barpolar": [
           {
            "marker": {
             "line": {
              "color": "#E5ECF6",
              "width": 0.5
             },
             "pattern": {
              "fillmode": "overlay",
              "size": 10,
              "solidity": 0.2
             }
            },
            "type": "barpolar"
           }
          ],
          "carpet": [
           {
            "aaxis": {
             "endlinecolor": "#2a3f5f",
             "gridcolor": "white",
             "linecolor": "white",
             "minorgridcolor": "white",
             "startlinecolor": "#2a3f5f"
            },
            "baxis": {
             "endlinecolor": "#2a3f5f",
             "gridcolor": "white",
             "linecolor": "white",
             "minorgridcolor": "white",
             "startlinecolor": "#2a3f5f"
            },
            "type": "carpet"
           }
          ],
          "choropleth": [
           {
            "colorbar": {
             "outlinewidth": 0,
             "ticks": ""
            },
            "type": "choropleth"
           }
          ],
          "contour": [
           {
            "colorbar": {
             "outlinewidth": 0,
             "ticks": ""
            },
            "colorscale": [
             [
              0,
              "#0d0887"
             ],
             [
              0.1111111111111111,
              "#46039f"
             ],
             [
              0.2222222222222222,
              "#7201a8"
             ],
             [
              0.3333333333333333,
              "#9c179e"
             ],
             [
              0.4444444444444444,
              "#bd3786"
             ],
             [
              0.5555555555555556,
              "#d8576b"
             ],
             [
              0.6666666666666666,
              "#ed7953"
             ],
             [
              0.7777777777777778,
              "#fb9f3a"
             ],
             [
              0.8888888888888888,
              "#fdca26"
             ],
             [
              1,
              "#f0f921"
             ]
            ],
            "type": "contour"
           }
          ],
          "contourcarpet": [
           {
            "colorbar": {
             "outlinewidth": 0,
             "ticks": ""
            },
            "type": "contourcarpet"
           }
          ],
          "heatmap": [
           {
            "colorbar": {
             "outlinewidth": 0,
             "ticks": ""
            },
            "colorscale": [
             [
              0,
              "#0d0887"
             ],
             [
              0.1111111111111111,
              "#46039f"
             ],
             [
              0.2222222222222222,
              "#7201a8"
             ],
             [
              0.3333333333333333,
              "#9c179e"
             ],
             [
              0.4444444444444444,
              "#bd3786"
             ],
             [
              0.5555555555555556,
              "#d8576b"
             ],
             [
              0.6666666666666666,
              "#ed7953"
             ],
             [
              0.7777777777777778,
              "#fb9f3a"
             ],
             [
              0.8888888888888888,
              "#fdca26"
             ],
             [
              1,
              "#f0f921"
             ]
            ],
            "type": "heatmap"
           }
          ],
          "heatmapgl": [
           {
            "colorbar": {
             "outlinewidth": 0,
             "ticks": ""
            },
            "colorscale": [
             [
              0,
              "#0d0887"
             ],
             [
              0.1111111111111111,
              "#46039f"
             ],
             [
              0.2222222222222222,
              "#7201a8"
             ],
             [
              0.3333333333333333,
              "#9c179e"
             ],
             [
              0.4444444444444444,
              "#bd3786"
             ],
             [
              0.5555555555555556,
              "#d8576b"
             ],
             [
              0.6666666666666666,
              "#ed7953"
             ],
             [
              0.7777777777777778,
              "#fb9f3a"
             ],
             [
              0.8888888888888888,
              "#fdca26"
             ],
             [
              1,
              "#f0f921"
             ]
            ],
            "type": "heatmapgl"
           }
          ],
          "histogram": [
           {
            "marker": {
             "pattern": {
              "fillmode": "overlay",
              "size": 10,
              "solidity": 0.2
             }
            },
            "type": "histogram"
           }
          ],
          "histogram2d": [
           {
            "colorbar": {
             "outlinewidth": 0,
             "ticks": ""
            },
            "colorscale": [
             [
              0,
              "#0d0887"
             ],
             [
              0.1111111111111111,
              "#46039f"
             ],
             [
              0.2222222222222222,
              "#7201a8"
             ],
             [
              0.3333333333333333,
              "#9c179e"
             ],
             [
              0.4444444444444444,
              "#bd3786"
             ],
             [
              0.5555555555555556,
              "#d8576b"
             ],
             [
              0.6666666666666666,
              "#ed7953"
             ],
             [
              0.7777777777777778,
              "#fb9f3a"
             ],
             [
              0.8888888888888888,
              "#fdca26"
             ],
             [
              1,
              "#f0f921"
             ]
            ],
            "type": "histogram2d"
           }
          ],
          "histogram2dcontour": [
           {
            "colorbar": {
             "outlinewidth": 0,
             "ticks": ""
            },
            "colorscale": [
             [
              0,
              "#0d0887"
             ],
             [
              0.1111111111111111,
              "#46039f"
             ],
             [
              0.2222222222222222,
              "#7201a8"
             ],
             [
              0.3333333333333333,
              "#9c179e"
             ],
             [
              0.4444444444444444,
              "#bd3786"
             ],
             [
              0.5555555555555556,
              "#d8576b"
             ],
             [
              0.6666666666666666,
              "#ed7953"
             ],
             [
              0.7777777777777778,
              "#fb9f3a"
             ],
             [
              0.8888888888888888,
              "#fdca26"
             ],
             [
              1,
              "#f0f921"
             ]
            ],
            "type": "histogram2dcontour"
           }
          ],
          "mesh3d": [
           {
            "colorbar": {
             "outlinewidth": 0,
             "ticks": ""
            },
            "type": "mesh3d"
           }
          ],
          "parcoords": [
           {
            "line": {
             "colorbar": {
              "outlinewidth": 0,
              "ticks": ""
             }
            },
            "type": "parcoords"
           }
          ],
          "pie": [
           {
            "automargin": true,
            "type": "pie"
           }
          ],
          "scatter": [
           {
            "fillpattern": {
             "fillmode": "overlay",
             "size": 10,
             "solidity": 0.2
            },
            "type": "scatter"
           }
          ],
          "scatter3d": [
           {
            "line": {
             "colorbar": {
              "outlinewidth": 0,
              "ticks": ""
             }
            },
            "marker": {
             "colorbar": {
              "outlinewidth": 0,
              "ticks": ""
             }
            },
            "type": "scatter3d"
           }
          ],
          "scattercarpet": [
           {
            "marker": {
             "colorbar": {
              "outlinewidth": 0,
              "ticks": ""
             }
            },
            "type": "scattercarpet"
           }
          ],
          "scattergeo": [
           {
            "marker": {
             "colorbar": {
              "outlinewidth": 0,
              "ticks": ""
             }
            },
            "type": "scattergeo"
           }
          ],
          "scattergl": [
           {
            "marker": {
             "colorbar": {
              "outlinewidth": 0,
              "ticks": ""
             }
            },
            "type": "scattergl"
           }
          ],
          "scattermapbox": [
           {
            "marker": {
             "colorbar": {
              "outlinewidth": 0,
              "ticks": ""
             }
            },
            "type": "scattermapbox"
           }
          ],
          "scatterpolar": [
           {
            "marker": {
             "colorbar": {
              "outlinewidth": 0,
              "ticks": ""
             }
            },
            "type": "scatterpolar"
           }
          ],
          "scatterpolargl": [
           {
            "marker": {
             "colorbar": {
              "outlinewidth": 0,
              "ticks": ""
             }
            },
            "type": "scatterpolargl"
           }
          ],
          "scatterternary": [
           {
            "marker": {
             "colorbar": {
              "outlinewidth": 0,
              "ticks": ""
             }
            },
            "type": "scatterternary"
           }
          ],
          "surface": [
           {
            "colorbar": {
             "outlinewidth": 0,
             "ticks": ""
            },
            "colorscale": [
             [
              0,
              "#0d0887"
             ],
             [
              0.1111111111111111,
              "#46039f"
             ],
             [
              0.2222222222222222,
              "#7201a8"
             ],
             [
              0.3333333333333333,
              "#9c179e"
             ],
             [
              0.4444444444444444,
              "#bd3786"
             ],
             [
              0.5555555555555556,
              "#d8576b"
             ],
             [
              0.6666666666666666,
              "#ed7953"
             ],
             [
              0.7777777777777778,
              "#fb9f3a"
             ],
             [
              0.8888888888888888,
              "#fdca26"
             ],
             [
              1,
              "#f0f921"
             ]
            ],
            "type": "surface"
           }
          ],
          "table": [
           {
            "cells": {
             "fill": {
              "color": "#EBF0F8"
             },
             "line": {
              "color": "white"
             }
            },
            "header": {
             "fill": {
              "color": "#C8D4E3"
             },
             "line": {
              "color": "white"
             }
            },
            "type": "table"
           }
          ]
         },
         "layout": {
          "annotationdefaults": {
           "arrowcolor": "#2a3f5f",
           "arrowhead": 0,
           "arrowwidth": 1
          },
          "autotypenumbers": "strict",
          "coloraxis": {
           "colorbar": {
            "outlinewidth": 0,
            "ticks": ""
           }
          },
          "colorscale": {
           "diverging": [
            [
             0,
             "#8e0152"
            ],
            [
             0.1,
             "#c51b7d"
            ],
            [
             0.2,
             "#de77ae"
            ],
            [
             0.3,
             "#f1b6da"
            ],
            [
             0.4,
             "#fde0ef"
            ],
            [
             0.5,
             "#f7f7f7"
            ],
            [
             0.6,
             "#e6f5d0"
            ],
            [
             0.7,
             "#b8e186"
            ],
            [
             0.8,
             "#7fbc41"
            ],
            [
             0.9,
             "#4d9221"
            ],
            [
             1,
             "#276419"
            ]
           ],
           "sequential": [
            [
             0,
             "#0d0887"
            ],
            [
             0.1111111111111111,
             "#46039f"
            ],
            [
             0.2222222222222222,
             "#7201a8"
            ],
            [
             0.3333333333333333,
             "#9c179e"
            ],
            [
             0.4444444444444444,
             "#bd3786"
            ],
            [
             0.5555555555555556,
             "#d8576b"
            ],
            [
             0.6666666666666666,
             "#ed7953"
            ],
            [
             0.7777777777777778,
             "#fb9f3a"
            ],
            [
             0.8888888888888888,
             "#fdca26"
            ],
            [
             1,
             "#f0f921"
            ]
           ],
           "sequentialminus": [
            [
             0,
             "#0d0887"
            ],
            [
             0.1111111111111111,
             "#46039f"
            ],
            [
             0.2222222222222222,
             "#7201a8"
            ],
            [
             0.3333333333333333,
             "#9c179e"
            ],
            [
             0.4444444444444444,
             "#bd3786"
            ],
            [
             0.5555555555555556,
             "#d8576b"
            ],
            [
             0.6666666666666666,
             "#ed7953"
            ],
            [
             0.7777777777777778,
             "#fb9f3a"
            ],
            [
             0.8888888888888888,
             "#fdca26"
            ],
            [
             1,
             "#f0f921"
            ]
           ]
          },
          "colorway": [
           "#636efa",
           "#EF553B",
           "#00cc96",
           "#ab63fa",
           "#FFA15A",
           "#19d3f3",
           "#FF6692",
           "#B6E880",
           "#FF97FF",
           "#FECB52"
          ],
          "font": {
           "color": "#2a3f5f"
          },
          "geo": {
           "bgcolor": "white",
           "lakecolor": "white",
           "landcolor": "#E5ECF6",
           "showlakes": true,
           "showland": true,
           "subunitcolor": "white"
          },
          "hoverlabel": {
           "align": "left"
          },
          "hovermode": "closest",
          "mapbox": {
           "style": "light"
          },
          "paper_bgcolor": "white",
          "plot_bgcolor": "#E5ECF6",
          "polar": {
           "angularaxis": {
            "gridcolor": "white",
            "linecolor": "white",
            "ticks": ""
           },
           "bgcolor": "#E5ECF6",
           "radialaxis": {
            "gridcolor": "white",
            "linecolor": "white",
            "ticks": ""
           }
          },
          "scene": {
           "xaxis": {
            "backgroundcolor": "#E5ECF6",
            "gridcolor": "white",
            "gridwidth": 2,
            "linecolor": "white",
            "showbackground": true,
            "ticks": "",
            "zerolinecolor": "white"
           },
           "yaxis": {
            "backgroundcolor": "#E5ECF6",
            "gridcolor": "white",
            "gridwidth": 2,
            "linecolor": "white",
            "showbackground": true,
            "ticks": "",
            "zerolinecolor": "white"
           },
           "zaxis": {
            "backgroundcolor": "#E5ECF6",
            "gridcolor": "white",
            "gridwidth": 2,
            "linecolor": "white",
            "showbackground": true,
            "ticks": "",
            "zerolinecolor": "white"
           }
          },
          "shapedefaults": {
           "line": {
            "color": "#2a3f5f"
           }
          },
          "ternary": {
           "aaxis": {
            "gridcolor": "white",
            "linecolor": "white",
            "ticks": ""
           },
           "baxis": {
            "gridcolor": "white",
            "linecolor": "white",
            "ticks": ""
           },
           "bgcolor": "#E5ECF6",
           "caxis": {
            "gridcolor": "white",
            "linecolor": "white",
            "ticks": ""
           }
          },
          "title": {
           "x": 0.05
          },
          "xaxis": {
           "automargin": true,
           "gridcolor": "white",
           "linecolor": "white",
           "ticks": "",
           "title": {
            "standoff": 15
           },
           "zerolinecolor": "white",
           "zerolinewidth": 2
          },
          "yaxis": {
           "automargin": true,
           "gridcolor": "white",
           "linecolor": "white",
           "ticks": "",
           "title": {
            "standoff": 15
           },
           "zerolinecolor": "white",
           "zerolinewidth": 2
          }
         }
        },
        "xaxis": {
         "anchor": "y",
         "domain": [
          0,
          0.15
         ],
         "title": {
          "text": "detection_tpr"
         }
        },
        "xaxis2": {
         "anchor": "y2",
         "domain": [
          0.16999999999999998,
          0.31999999999999995
         ],
         "matches": "x",
         "title": {
          "text": "detection_tpr"
         }
        },
        "xaxis3": {
         "anchor": "y3",
         "domain": [
          0.33999999999999997,
          0.49
         ],
         "matches": "x",
         "title": {
          "text": "detection_tpr"
         }
        },
        "xaxis4": {
         "anchor": "y4",
         "domain": [
          0.51,
          0.66
         ],
         "matches": "x",
         "title": {
          "text": "detection_tpr"
         }
        },
        "xaxis5": {
         "anchor": "y5",
         "domain": [
          0.6799999999999999,
          0.83
         ],
         "matches": "x",
         "title": {
          "text": "detection_tpr"
         }
        },
        "xaxis6": {
         "anchor": "y6",
         "domain": [
          0.85,
          1
         ],
         "matches": "x",
         "title": {
          "text": "detection_tpr"
         }
        },
        "yaxis": {
         "anchor": "x",
         "domain": [
          0,
          1
         ],
         "title": {
          "text": "demographic_parity_audit"
         }
        },
        "yaxis2": {
         "anchor": "x2",
         "domain": [
          0,
          1
         ],
         "matches": "y",
         "showticklabels": false
        },
        "yaxis3": {
         "anchor": "x3",
         "domain": [
          0,
          1
         ],
         "matches": "y",
         "showticklabels": false
        },
        "yaxis4": {
         "anchor": "x4",
         "domain": [
          0,
          1
         ],
         "matches": "y",
         "showticklabels": false
        },
        "yaxis5": {
         "anchor": "x5",
         "domain": [
          0,
          1
         ],
         "matches": "y",
         "showticklabels": false
        },
        "yaxis6": {
         "anchor": "x6",
         "domain": [
          0,
          1
         ],
         "matches": "y",
         "showticklabels": false
        }
       }
      }
     },
     "metadata": {},
     "output_type": "display_data"
    }
   ],
   "source": [
    "px.line(\n",
    "    manipulation.sort(\"detection_tpr\").with_columns(\n",
    "        pl.col(\"demographic_parity_audit_std\") / sqrt(5)\n",
    "    ),\n",
    "    x=\"detection_tpr\",\n",
    "    y=\"demographic_parity_audit\",\n",
    "    error_y=\"demographic_parity_audit_std\",\n",
    "    facet_col=\"strategy\",\n",
    "    color=\"strategy_json\",\n",
    ")"
   ]
  },
  {
   "cell_type": "code",
   "execution_count": 53,
   "metadata": {},
   "outputs": [
    {
     "data": {
      "application/vnd.plotly.v1+json": {
       "config": {
        "plotlyServerURL": "https://plot.ly"
       },
       "data": [
        {
         "error_y": {
          "array": [
           0.003679285425219039,
           0.003679285425219039,
           0.003679285425219039,
           0.003679285425219039,
           0.003679285425219039
          ]
         },
         "hovertemplate": "strategy_json={\"epsilon\":null,\"theta\":null}<br>strategy=always_yes<br>detection_tpr=%{x}<br>demographic_parity_user=%{y}<extra></extra>",
         "legendgroup": "{\"epsilon\":null,\"theta\":null}",
         "line": {
          "color": "#636efa",
          "dash": "solid"
         },
         "marker": {
          "symbol": "circle"
         },
         "mode": "lines",
         "name": "{\"epsilon\":null,\"theta\":null}",
         "orientation": "v",
         "showlegend": true,
         "type": "scatter",
         "x": [
          0,
          0.25,
          0.5,
          0.75,
          1
         ],
         "xaxis": "x",
         "y": [
          0.07168982633110887,
          0.07168982633110887,
          0.07168982633110887,
          0.07168982633110887,
          0.07168982633110887
         ],
         "yaxis": "y"
        },
        {
         "error_y": {
          "array": [
           0.003679285425219039,
           0.003679285425219039,
           0.003679285425219039,
           0.003679285425219039,
           0.003679285425219039
          ]
         },
         "hovertemplate": "strategy_json={\"epsilon\":null,\"theta\":null}<br>strategy=model_swap<br>detection_tpr=%{x}<br>demographic_parity_user=%{y}<extra></extra>",
         "legendgroup": "{\"epsilon\":null,\"theta\":null}",
         "line": {
          "color": "#636efa",
          "dash": "solid"
         },
         "marker": {
          "symbol": "circle"
         },
         "mode": "lines",
         "name": "{\"epsilon\":null,\"theta\":null}",
         "orientation": "v",
         "showlegend": false,
         "type": "scatter",
         "x": [
          0,
          0.25,
          0.5,
          0.75,
          1
         ],
         "xaxis": "x4",
         "y": [
          0.07168982633110887,
          0.07168982633110887,
          0.07168982633110887,
          0.07168982633110887,
          0.07168982633110887
         ],
         "yaxis": "y4"
        },
        {
         "error_y": {
          "array": [
           0.003679285425219039,
           0.003679285425219039,
           0.003679285425219039,
           0.003679285425219039,
           0.003679285425219039
          ]
         },
         "hovertemplate": "strategy_json={\"epsilon\":null,\"theta\":null}<br>strategy=always_no<br>detection_tpr=%{x}<br>demographic_parity_user=%{y}<extra></extra>",
         "legendgroup": "{\"epsilon\":null,\"theta\":null}",
         "line": {
          "color": "#636efa",
          "dash": "solid"
         },
         "marker": {
          "symbol": "circle"
         },
         "mode": "lines",
         "name": "{\"epsilon\":null,\"theta\":null}",
         "orientation": "v",
         "showlegend": false,
         "type": "scatter",
         "x": [
          0,
          0.25,
          0.5,
          0.75,
          1
         ],
         "xaxis": "x5",
         "y": [
          0.07168982633110887,
          0.07168982633110887,
          0.07168982633110887,
          0.07168982633110887,
          0.07168982633110887
         ],
         "yaxis": "y5"
        },
        {
         "error_y": {
          "array": [
           0.003679285425219039,
           0.003679285425219039,
           0.003679285425219039,
           0.003679285425219039,
           0.003679285425219039
          ]
         },
         "hovertemplate": "strategy_json={\"epsilon\":null,\"theta\":null}<br>strategy=honest<br>detection_tpr=%{x}<br>demographic_parity_user=%{y}<extra></extra>",
         "legendgroup": "{\"epsilon\":null,\"theta\":null}",
         "line": {
          "color": "#636efa",
          "dash": "solid"
         },
         "marker": {
          "symbol": "circle"
         },
         "mode": "lines",
         "name": "{\"epsilon\":null,\"theta\":null}",
         "orientation": "v",
         "showlegend": false,
         "type": "scatter",
         "x": [
          0,
          0.25,
          0.5,
          0.75,
          1
         ],
         "xaxis": "x6",
         "y": [
          0.07168982633110887,
          0.07168982633110887,
          0.07168982633110887,
          0.07168982633110887,
          0.07168982633110887
         ],
         "yaxis": "y6"
        },
        {
         "error_y": {
          "array": [
           0.003679285425219039,
           0.003679285425219039,
           0.003679285425219039,
           0.003679285425219039,
           0.003679285425219039
          ]
         },
         "hovertemplate": "strategy_json={\"epsilon\":null,\"theta\":0.5666666666666667}<br>strategy=ROC_mitigation<br>detection_tpr=%{x}<br>demographic_parity_user=%{y}<extra></extra>",
         "legendgroup": "{\"epsilon\":null,\"theta\":0.5666666666666667}",
         "line": {
          "color": "#EF553B",
          "dash": "solid"
         },
         "marker": {
          "symbol": "circle"
         },
         "mode": "lines",
         "name": "{\"epsilon\":null,\"theta\":0.5666666666666667}",
         "orientation": "v",
         "showlegend": true,
         "type": "scatter",
         "x": [
          0,
          0.25,
          0.5,
          0.75,
          1
         ],
         "xaxis": "x2",
         "y": [
          0.07168982633110887,
          0.07168982633110887,
          0.07168982633110887,
          0.07168982633110887,
          0.07168982633110887
         ],
         "yaxis": "y2"
        },
        {
         "error_y": {
          "array": [
           0.003679285425219039,
           0.003679285425219039,
           0.003679285425219039,
           0.003679285425219039,
           0.003679285425219039
          ]
         },
         "hovertemplate": "strategy_json={\"epsilon\":10.0,\"theta\":null}<br>strategy=randomized_response<br>detection_tpr=%{x}<br>demographic_parity_user=%{y}<extra></extra>",
         "legendgroup": "{\"epsilon\":10.0,\"theta\":null}",
         "line": {
          "color": "#00cc96",
          "dash": "solid"
         },
         "marker": {
          "symbol": "circle"
         },
         "mode": "lines",
         "name": "{\"epsilon\":10.0,\"theta\":null}",
         "orientation": "v",
         "showlegend": true,
         "type": "scatter",
         "x": [
          0,
          0.25,
          0.5,
          0.75,
          1
         ],
         "xaxis": "x3",
         "y": [
          0.07168982633110887,
          0.07168982633110887,
          0.07168982633110887,
          0.07168982633110887,
          0.07168982633110887
         ],
         "yaxis": "y3"
        },
        {
         "error_y": {
          "array": [
           0.003679285425219039,
           0.003679285425219039,
           0.003679285425219039,
           0.003679285425219039,
           0.003679285425219039
          ]
         },
         "hovertemplate": "strategy_json={\"epsilon\":null,\"theta\":0.3333333333333333}<br>strategy=ROC_mitigation<br>detection_tpr=%{x}<br>demographic_parity_user=%{y}<extra></extra>",
         "legendgroup": "{\"epsilon\":null,\"theta\":0.3333333333333333}",
         "line": {
          "color": "#ab63fa",
          "dash": "solid"
         },
         "marker": {
          "symbol": "circle"
         },
         "mode": "lines",
         "name": "{\"epsilon\":null,\"theta\":0.3333333333333333}",
         "orientation": "v",
         "showlegend": true,
         "type": "scatter",
         "x": [
          0,
          0.25,
          0.5,
          0.75,
          1
         ],
         "xaxis": "x2",
         "y": [
          0.07168982633110887,
          0.07168982633110887,
          0.07168982633110887,
          0.07168982633110887,
          0.07168982633110887
         ],
         "yaxis": "y2"
        },
        {
         "error_y": {
          "array": [
           0.003679285425219039,
           0.003679285425219039,
           0.003679285425219039,
           0.003679285425219039,
           0.003679285425219039
          ]
         },
         "hovertemplate": "strategy_json={\"epsilon\":1.0,\"theta\":null}<br>strategy=randomized_response<br>detection_tpr=%{x}<br>demographic_parity_user=%{y}<extra></extra>",
         "legendgroup": "{\"epsilon\":1.0,\"theta\":null}",
         "line": {
          "color": "#FFA15A",
          "dash": "solid"
         },
         "marker": {
          "symbol": "circle"
         },
         "mode": "lines",
         "name": "{\"epsilon\":1.0,\"theta\":null}",
         "orientation": "v",
         "showlegend": true,
         "type": "scatter",
         "x": [
          0,
          0.25,
          0.5,
          0.75,
          1
         ],
         "xaxis": "x3",
         "y": [
          0.07168982633110887,
          0.07168982633110887,
          0.07168982633110887,
          0.07168982633110887,
          0.07168982633110887
         ],
         "yaxis": "y3"
        },
        {
         "error_y": {
          "array": [
           0.003679285425219039,
           0.003679285425219039,
           0.003679285425219039,
           0.003679285425219039,
           0.003679285425219039
          ]
         },
         "hovertemplate": "strategy_json={\"epsilon\":null,\"theta\":0.36666666666666664}<br>strategy=ROC_mitigation<br>detection_tpr=%{x}<br>demographic_parity_user=%{y}<extra></extra>",
         "legendgroup": "{\"epsilon\":null,\"theta\":0.36666666666666664}",
         "line": {
          "color": "#19d3f3",
          "dash": "solid"
         },
         "marker": {
          "symbol": "circle"
         },
         "mode": "lines",
         "name": "{\"epsilon\":null,\"theta\":0.36666666666666664}",
         "orientation": "v",
         "showlegend": true,
         "type": "scatter",
         "x": [
          0,
          0.25,
          0.5,
          0.75,
          1
         ],
         "xaxis": "x2",
         "y": [
          0.07168982633110887,
          0.07168982633110887,
          0.07168982633110887,
          0.07168982633110887,
          0.07168982633110887
         ],
         "yaxis": "y2"
        },
        {
         "error_y": {
          "array": [
           0.003679285425219039,
           0.003679285425219039,
           0.003679285425219039,
           0.003679285425219039,
           0.003679285425219039
          ]
         },
         "hovertemplate": "strategy_json={\"epsilon\":null,\"theta\":0.4}<br>strategy=ROC_mitigation<br>detection_tpr=%{x}<br>demographic_parity_user=%{y}<extra></extra>",
         "legendgroup": "{\"epsilon\":null,\"theta\":0.4}",
         "line": {
          "color": "#FF6692",
          "dash": "solid"
         },
         "marker": {
          "symbol": "circle"
         },
         "mode": "lines",
         "name": "{\"epsilon\":null,\"theta\":0.4}",
         "orientation": "v",
         "showlegend": true,
         "type": "scatter",
         "x": [
          0,
          0.25,
          0.5,
          0.75,
          1
         ],
         "xaxis": "x2",
         "y": [
          0.07168982633110887,
          0.07168982633110887,
          0.07168982633110887,
          0.07168982633110887,
          0.07168982633110887
         ],
         "yaxis": "y2"
        },
        {
         "error_y": {
          "array": [
           0.003679285425219039,
           0.003679285425219039,
           0.003679285425219039,
           0.003679285425219039,
           0.003679285425219039
          ]
         },
         "hovertemplate": "strategy_json={\"epsilon\":null,\"theta\":0.4666666666666667}<br>strategy=ROC_mitigation<br>detection_tpr=%{x}<br>demographic_parity_user=%{y}<extra></extra>",
         "legendgroup": "{\"epsilon\":null,\"theta\":0.4666666666666667}",
         "line": {
          "color": "#B6E880",
          "dash": "solid"
         },
         "marker": {
          "symbol": "circle"
         },
         "mode": "lines",
         "name": "{\"epsilon\":null,\"theta\":0.4666666666666667}",
         "orientation": "v",
         "showlegend": true,
         "type": "scatter",
         "x": [
          0,
          0.25,
          0.5,
          0.75,
          1
         ],
         "xaxis": "x2",
         "y": [
          0.07168982633110887,
          0.07168982633110887,
          0.07168982633110887,
          0.07168982633110887,
          0.07168982633110887
         ],
         "yaxis": "y2"
        },
        {
         "error_y": {
          "array": [
           0.003679285425219039,
           0.003679285425219039,
           0.003679285425219039,
           0.003679285425219039,
           0.003679285425219039
          ]
         },
         "hovertemplate": "strategy_json={\"epsilon\":3.0,\"theta\":null}<br>strategy=randomized_response<br>detection_tpr=%{x}<br>demographic_parity_user=%{y}<extra></extra>",
         "legendgroup": "{\"epsilon\":3.0,\"theta\":null}",
         "line": {
          "color": "#FF97FF",
          "dash": "solid"
         },
         "marker": {
          "symbol": "circle"
         },
         "mode": "lines",
         "name": "{\"epsilon\":3.0,\"theta\":null}",
         "orientation": "v",
         "showlegend": true,
         "type": "scatter",
         "x": [
          0,
          0.25,
          0.5,
          0.75,
          1
         ],
         "xaxis": "x3",
         "y": [
          0.07168982633110887,
          0.07168982633110887,
          0.07168982633110887,
          0.07168982633110887,
          0.07168982633110887
         ],
         "yaxis": "y3"
        },
        {
         "error_y": {
          "array": [
           0.003679285425219039,
           0.003679285425219039,
           0.003679285425219039,
           0.003679285425219039,
           0.003679285425219039
          ]
         },
         "hovertemplate": "strategy_json={\"epsilon\":9.0,\"theta\":null}<br>strategy=randomized_response<br>detection_tpr=%{x}<br>demographic_parity_user=%{y}<extra></extra>",
         "legendgroup": "{\"epsilon\":9.0,\"theta\":null}",
         "line": {
          "color": "#FECB52",
          "dash": "solid"
         },
         "marker": {
          "symbol": "circle"
         },
         "mode": "lines",
         "name": "{\"epsilon\":9.0,\"theta\":null}",
         "orientation": "v",
         "showlegend": true,
         "type": "scatter",
         "x": [
          0,
          0.25,
          0.5,
          0.75,
          1
         ],
         "xaxis": "x3",
         "y": [
          0.07168982633110887,
          0.07168982633110887,
          0.07168982633110887,
          0.07168982633110887,
          0.07168982633110887
         ],
         "yaxis": "y3"
        },
        {
         "error_y": {
          "array": [
           0.003679285425219039,
           0.003679285425219039,
           0.003679285425219039,
           0.003679285425219039,
           0.003679285425219039
          ]
         },
         "hovertemplate": "strategy_json={\"epsilon\":null,\"theta\":0.5}<br>strategy=ROC_mitigation<br>detection_tpr=%{x}<br>demographic_parity_user=%{y}<extra></extra>",
         "legendgroup": "{\"epsilon\":null,\"theta\":0.5}",
         "line": {
          "color": "#636efa",
          "dash": "solid"
         },
         "marker": {
          "symbol": "circle"
         },
         "mode": "lines",
         "name": "{\"epsilon\":null,\"theta\":0.5}",
         "orientation": "v",
         "showlegend": true,
         "type": "scatter",
         "x": [
          0,
          0.25,
          0.5,
          0.75,
          1
         ],
         "xaxis": "x2",
         "y": [
          0.07168982633110887,
          0.07168982633110887,
          0.07168982633110887,
          0.07168982633110887,
          0.07168982633110887
         ],
         "yaxis": "y2"
        },
        {
         "error_y": {
          "array": [
           0.003679285425219039,
           0.003679285425219039,
           0.003679285425219039,
           0.003679285425219039,
           0.003679285425219039
          ]
         },
         "hovertemplate": "strategy_json={\"epsilon\":6.0,\"theta\":null}<br>strategy=randomized_response<br>detection_tpr=%{x}<br>demographic_parity_user=%{y}<extra></extra>",
         "legendgroup": "{\"epsilon\":6.0,\"theta\":null}",
         "line": {
          "color": "#EF553B",
          "dash": "solid"
         },
         "marker": {
          "symbol": "circle"
         },
         "mode": "lines",
         "name": "{\"epsilon\":6.0,\"theta\":null}",
         "orientation": "v",
         "showlegend": true,
         "type": "scatter",
         "x": [
          0,
          0.25,
          0.5,
          0.75,
          1
         ],
         "xaxis": "x3",
         "y": [
          0.07168982633110887,
          0.07168982633110887,
          0.07168982633110887,
          0.07168982633110887,
          0.07168982633110887
         ],
         "yaxis": "y3"
        },
        {
         "error_y": {
          "array": [
           0.003679285425219039,
           0.003679285425219039,
           0.003679285425219039,
           0.003679285425219039,
           0.003679285425219039
          ]
         },
         "hovertemplate": "strategy_json={\"epsilon\":null,\"theta\":0.5333333333333333}<br>strategy=ROC_mitigation<br>detection_tpr=%{x}<br>demographic_parity_user=%{y}<extra></extra>",
         "legendgroup": "{\"epsilon\":null,\"theta\":0.5333333333333333}",
         "line": {
          "color": "#00cc96",
          "dash": "solid"
         },
         "marker": {
          "symbol": "circle"
         },
         "mode": "lines",
         "name": "{\"epsilon\":null,\"theta\":0.5333333333333333}",
         "orientation": "v",
         "showlegend": true,
         "type": "scatter",
         "x": [
          0,
          0.25,
          0.5,
          0.75,
          1
         ],
         "xaxis": "x2",
         "y": [
          0.07168982633110887,
          0.07168982633110887,
          0.07168982633110887,
          0.07168982633110887,
          0.07168982633110887
         ],
         "yaxis": "y2"
        },
        {
         "error_y": {
          "array": [
           0.003679285425219039,
           0.003679285425219039,
           0.003679285425219039,
           0.003679285425219039,
           0.003679285425219039
          ]
         },
         "hovertemplate": "strategy_json={\"epsilon\":5.0,\"theta\":null}<br>strategy=randomized_response<br>detection_tpr=%{x}<br>demographic_parity_user=%{y}<extra></extra>",
         "legendgroup": "{\"epsilon\":5.0,\"theta\":null}",
         "line": {
          "color": "#ab63fa",
          "dash": "solid"
         },
         "marker": {
          "symbol": "circle"
         },
         "mode": "lines",
         "name": "{\"epsilon\":5.0,\"theta\":null}",
         "orientation": "v",
         "showlegend": true,
         "type": "scatter",
         "x": [
          0,
          0.25,
          0.5,
          0.75,
          1
         ],
         "xaxis": "x3",
         "y": [
          0.07168982633110887,
          0.07168982633110887,
          0.07168982633110887,
          0.07168982633110887,
          0.07168982633110887
         ],
         "yaxis": "y3"
        },
        {
         "error_y": {
          "array": [
           0.003679285425219039,
           0.003679285425219039,
           0.003679285425219039,
           0.003679285425219039,
           0.003679285425219039
          ]
         },
         "hovertemplate": "strategy_json={\"epsilon\":null,\"theta\":0.43333333333333335}<br>strategy=ROC_mitigation<br>detection_tpr=%{x}<br>demographic_parity_user=%{y}<extra></extra>",
         "legendgroup": "{\"epsilon\":null,\"theta\":0.43333333333333335}",
         "line": {
          "color": "#FFA15A",
          "dash": "solid"
         },
         "marker": {
          "symbol": "circle"
         },
         "mode": "lines",
         "name": "{\"epsilon\":null,\"theta\":0.43333333333333335}",
         "orientation": "v",
         "showlegend": true,
         "type": "scatter",
         "x": [
          0,
          0.25,
          0.5,
          0.75,
          1
         ],
         "xaxis": "x2",
         "y": [
          0.07168982633110887,
          0.07168982633110887,
          0.07168982633110887,
          0.07168982633110887,
          0.07168982633110887
         ],
         "yaxis": "y2"
        },
        {
         "error_y": {
          "array": [
           0.003679285425219039,
           0.003679285425219039,
           0.003679285425219039,
           0.003679285425219039,
           0.003679285425219039
          ]
         },
         "hovertemplate": "strategy_json={\"epsilon\":4.0,\"theta\":null}<br>strategy=randomized_response<br>detection_tpr=%{x}<br>demographic_parity_user=%{y}<extra></extra>",
         "legendgroup": "{\"epsilon\":4.0,\"theta\":null}",
         "line": {
          "color": "#19d3f3",
          "dash": "solid"
         },
         "marker": {
          "symbol": "circle"
         },
         "mode": "lines",
         "name": "{\"epsilon\":4.0,\"theta\":null}",
         "orientation": "v",
         "showlegend": true,
         "type": "scatter",
         "x": [
          0,
          0.25,
          0.5,
          0.75,
          1
         ],
         "xaxis": "x3",
         "y": [
          0.07168982633110887,
          0.07168982633110887,
          0.07168982633110887,
          0.07168982633110887,
          0.07168982633110887
         ],
         "yaxis": "y3"
        },
        {
         "error_y": {
          "array": [
           0.003679285425219039,
           0.003679285425219039,
           0.003679285425219039,
           0.003679285425219039,
           0.003679285425219039
          ]
         },
         "hovertemplate": "strategy_json={\"epsilon\":7.0,\"theta\":null}<br>strategy=randomized_response<br>detection_tpr=%{x}<br>demographic_parity_user=%{y}<extra></extra>",
         "legendgroup": "{\"epsilon\":7.0,\"theta\":null}",
         "line": {
          "color": "#FF6692",
          "dash": "solid"
         },
         "marker": {
          "symbol": "circle"
         },
         "mode": "lines",
         "name": "{\"epsilon\":7.0,\"theta\":null}",
         "orientation": "v",
         "showlegend": true,
         "type": "scatter",
         "x": [
          0,
          0.25,
          0.5,
          0.75,
          1
         ],
         "xaxis": "x3",
         "y": [
          0.07168982633110887,
          0.07168982633110887,
          0.07168982633110887,
          0.07168982633110887,
          0.07168982633110887
         ],
         "yaxis": "y3"
        },
        {
         "error_y": {
          "array": [
           0.003679285425219039,
           0.003679285425219039,
           0.003679285425219039,
           0.003679285425219039,
           0.003679285425219039
          ]
         },
         "hovertemplate": "strategy_json={\"epsilon\":2.0,\"theta\":null}<br>strategy=randomized_response<br>detection_tpr=%{x}<br>demographic_parity_user=%{y}<extra></extra>",
         "legendgroup": "{\"epsilon\":2.0,\"theta\":null}",
         "line": {
          "color": "#B6E880",
          "dash": "solid"
         },
         "marker": {
          "symbol": "circle"
         },
         "mode": "lines",
         "name": "{\"epsilon\":2.0,\"theta\":null}",
         "orientation": "v",
         "showlegend": true,
         "type": "scatter",
         "x": [
          0,
          0.25,
          0.5,
          0.75,
          1
         ],
         "xaxis": "x3",
         "y": [
          0.07168982633110887,
          0.07168982633110887,
          0.07168982633110887,
          0.07168982633110887,
          0.07168982633110887
         ],
         "yaxis": "y3"
        },
        {
         "error_y": {
          "array": [
           0.003679285425219039,
           0.003679285425219039,
           0.003679285425219039,
           0.003679285425219039,
           0.003679285425219039
          ]
         },
         "hovertemplate": "strategy_json={\"epsilon\":null,\"theta\":0.6}<br>strategy=ROC_mitigation<br>detection_tpr=%{x}<br>demographic_parity_user=%{y}<extra></extra>",
         "legendgroup": "{\"epsilon\":null,\"theta\":0.6}",
         "line": {
          "color": "#FF97FF",
          "dash": "solid"
         },
         "marker": {
          "symbol": "circle"
         },
         "mode": "lines",
         "name": "{\"epsilon\":null,\"theta\":0.6}",
         "orientation": "v",
         "showlegend": true,
         "type": "scatter",
         "x": [
          0,
          0.25,
          0.5,
          0.75,
          1
         ],
         "xaxis": "x2",
         "y": [
          0.07168982633110887,
          0.07168982633110887,
          0.07168982633110887,
          0.07168982633110887,
          0.07168982633110887
         ],
         "yaxis": "y2"
        },
        {
         "error_y": {
          "array": [
           0.003679285425219039,
           0.003679285425219039,
           0.003679285425219039,
           0.003679285425219039,
           0.003679285425219039
          ]
         },
         "hovertemplate": "strategy_json={\"epsilon\":null,\"theta\":0.3}<br>strategy=ROC_mitigation<br>detection_tpr=%{x}<br>demographic_parity_user=%{y}<extra></extra>",
         "legendgroup": "{\"epsilon\":null,\"theta\":0.3}",
         "line": {
          "color": "#FECB52",
          "dash": "solid"
         },
         "marker": {
          "symbol": "circle"
         },
         "mode": "lines",
         "name": "{\"epsilon\":null,\"theta\":0.3}",
         "orientation": "v",
         "showlegend": true,
         "type": "scatter",
         "x": [
          0,
          0.25,
          0.5,
          0.75,
          1
         ],
         "xaxis": "x2",
         "y": [
          0.07168982633110887,
          0.07168982633110887,
          0.07168982633110887,
          0.07168982633110887,
          0.07168982633110887
         ],
         "yaxis": "y2"
        },
        {
         "error_y": {
          "array": [
           0.003679285425219039,
           0.003679285425219039,
           0.003679285425219039,
           0.003679285425219039,
           0.003679285425219039
          ]
         },
         "hovertemplate": "strategy_json={\"epsilon\":8.0,\"theta\":null}<br>strategy=randomized_response<br>detection_tpr=%{x}<br>demographic_parity_user=%{y}<extra></extra>",
         "legendgroup": "{\"epsilon\":8.0,\"theta\":null}",
         "line": {
          "color": "#636efa",
          "dash": "solid"
         },
         "marker": {
          "symbol": "circle"
         },
         "mode": "lines",
         "name": "{\"epsilon\":8.0,\"theta\":null}",
         "orientation": "v",
         "showlegend": true,
         "type": "scatter",
         "x": [
          0,
          0.25,
          0.5,
          0.75,
          1
         ],
         "xaxis": "x3",
         "y": [
          0.07168982633110887,
          0.07168982633110887,
          0.07168982633110887,
          0.07168982633110887,
          0.07168982633110887
         ],
         "yaxis": "y3"
        }
       ],
       "layout": {
        "annotations": [
         {
          "font": {},
          "showarrow": false,
          "text": "strategy=always_yes",
          "x": 0.075,
          "xanchor": "center",
          "xref": "paper",
          "y": 1,
          "yanchor": "bottom",
          "yref": "paper"
         },
         {
          "font": {},
          "showarrow": false,
          "text": "strategy=ROC_mitigation",
          "x": 0.24499999999999997,
          "xanchor": "center",
          "xref": "paper",
          "y": 1,
          "yanchor": "bottom",
          "yref": "paper"
         },
         {
          "font": {},
          "showarrow": false,
          "text": "strategy=randomized_response",
          "x": 0.415,
          "xanchor": "center",
          "xref": "paper",
          "y": 1,
          "yanchor": "bottom",
          "yref": "paper"
         },
         {
          "font": {},
          "showarrow": false,
          "text": "strategy=model_swap",
          "x": 0.585,
          "xanchor": "center",
          "xref": "paper",
          "y": 1,
          "yanchor": "bottom",
          "yref": "paper"
         },
         {
          "font": {},
          "showarrow": false,
          "text": "strategy=always_no",
          "x": 0.7549999999999999,
          "xanchor": "center",
          "xref": "paper",
          "y": 1,
          "yanchor": "bottom",
          "yref": "paper"
         },
         {
          "font": {},
          "showarrow": false,
          "text": "strategy=honest",
          "x": 0.925,
          "xanchor": "center",
          "xref": "paper",
          "y": 1,
          "yanchor": "bottom",
          "yref": "paper"
         }
        ],
        "legend": {
         "title": {
          "text": "strategy_json"
         },
         "tracegroupgap": 0
        },
        "margin": {
         "t": 60
        },
        "template": {
         "data": {
          "bar": [
           {
            "error_x": {
             "color": "#2a3f5f"
            },
            "error_y": {
             "color": "#2a3f5f"
            },
            "marker": {
             "line": {
              "color": "#E5ECF6",
              "width": 0.5
             },
             "pattern": {
              "fillmode": "overlay",
              "size": 10,
              "solidity": 0.2
             }
            },
            "type": "bar"
           }
          ],
          "barpolar": [
           {
            "marker": {
             "line": {
              "color": "#E5ECF6",
              "width": 0.5
             },
             "pattern": {
              "fillmode": "overlay",
              "size": 10,
              "solidity": 0.2
             }
            },
            "type": "barpolar"
           }
          ],
          "carpet": [
           {
            "aaxis": {
             "endlinecolor": "#2a3f5f",
             "gridcolor": "white",
             "linecolor": "white",
             "minorgridcolor": "white",
             "startlinecolor": "#2a3f5f"
            },
            "baxis": {
             "endlinecolor": "#2a3f5f",
             "gridcolor": "white",
             "linecolor": "white",
             "minorgridcolor": "white",
             "startlinecolor": "#2a3f5f"
            },
            "type": "carpet"
           }
          ],
          "choropleth": [
           {
            "colorbar": {
             "outlinewidth": 0,
             "ticks": ""
            },
            "type": "choropleth"
           }
          ],
          "contour": [
           {
            "colorbar": {
             "outlinewidth": 0,
             "ticks": ""
            },
            "colorscale": [
             [
              0,
              "#0d0887"
             ],
             [
              0.1111111111111111,
              "#46039f"
             ],
             [
              0.2222222222222222,
              "#7201a8"
             ],
             [
              0.3333333333333333,
              "#9c179e"
             ],
             [
              0.4444444444444444,
              "#bd3786"
             ],
             [
              0.5555555555555556,
              "#d8576b"
             ],
             [
              0.6666666666666666,
              "#ed7953"
             ],
             [
              0.7777777777777778,
              "#fb9f3a"
             ],
             [
              0.8888888888888888,
              "#fdca26"
             ],
             [
              1,
              "#f0f921"
             ]
            ],
            "type": "contour"
           }
          ],
          "contourcarpet": [
           {
            "colorbar": {
             "outlinewidth": 0,
             "ticks": ""
            },
            "type": "contourcarpet"
           }
          ],
          "heatmap": [
           {
            "colorbar": {
             "outlinewidth": 0,
             "ticks": ""
            },
            "colorscale": [
             [
              0,
              "#0d0887"
             ],
             [
              0.1111111111111111,
              "#46039f"
             ],
             [
              0.2222222222222222,
              "#7201a8"
             ],
             [
              0.3333333333333333,
              "#9c179e"
             ],
             [
              0.4444444444444444,
              "#bd3786"
             ],
             [
              0.5555555555555556,
              "#d8576b"
             ],
             [
              0.6666666666666666,
              "#ed7953"
             ],
             [
              0.7777777777777778,
              "#fb9f3a"
             ],
             [
              0.8888888888888888,
              "#fdca26"
             ],
             [
              1,
              "#f0f921"
             ]
            ],
            "type": "heatmap"
           }
          ],
          "heatmapgl": [
           {
            "colorbar": {
             "outlinewidth": 0,
             "ticks": ""
            },
            "colorscale": [
             [
              0,
              "#0d0887"
             ],
             [
              0.1111111111111111,
              "#46039f"
             ],
             [
              0.2222222222222222,
              "#7201a8"
             ],
             [
              0.3333333333333333,
              "#9c179e"
             ],
             [
              0.4444444444444444,
              "#bd3786"
             ],
             [
              0.5555555555555556,
              "#d8576b"
             ],
             [
              0.6666666666666666,
              "#ed7953"
             ],
             [
              0.7777777777777778,
              "#fb9f3a"
             ],
             [
              0.8888888888888888,
              "#fdca26"
             ],
             [
              1,
              "#f0f921"
             ]
            ],
            "type": "heatmapgl"
           }
          ],
          "histogram": [
           {
            "marker": {
             "pattern": {
              "fillmode": "overlay",
              "size": 10,
              "solidity": 0.2
             }
            },
            "type": "histogram"
           }
          ],
          "histogram2d": [
           {
            "colorbar": {
             "outlinewidth": 0,
             "ticks": ""
            },
            "colorscale": [
             [
              0,
              "#0d0887"
             ],
             [
              0.1111111111111111,
              "#46039f"
             ],
             [
              0.2222222222222222,
              "#7201a8"
             ],
             [
              0.3333333333333333,
              "#9c179e"
             ],
             [
              0.4444444444444444,
              "#bd3786"
             ],
             [
              0.5555555555555556,
              "#d8576b"
             ],
             [
              0.6666666666666666,
              "#ed7953"
             ],
             [
              0.7777777777777778,
              "#fb9f3a"
             ],
             [
              0.8888888888888888,
              "#fdca26"
             ],
             [
              1,
              "#f0f921"
             ]
            ],
            "type": "histogram2d"
           }
          ],
          "histogram2dcontour": [
           {
            "colorbar": {
             "outlinewidth": 0,
             "ticks": ""
            },
            "colorscale": [
             [
              0,
              "#0d0887"
             ],
             [
              0.1111111111111111,
              "#46039f"
             ],
             [
              0.2222222222222222,
              "#7201a8"
             ],
             [
              0.3333333333333333,
              "#9c179e"
             ],
             [
              0.4444444444444444,
              "#bd3786"
             ],
             [
              0.5555555555555556,
              "#d8576b"
             ],
             [
              0.6666666666666666,
              "#ed7953"
             ],
             [
              0.7777777777777778,
              "#fb9f3a"
             ],
             [
              0.8888888888888888,
              "#fdca26"
             ],
             [
              1,
              "#f0f921"
             ]
            ],
            "type": "histogram2dcontour"
           }
          ],
          "mesh3d": [
           {
            "colorbar": {
             "outlinewidth": 0,
             "ticks": ""
            },
            "type": "mesh3d"
           }
          ],
          "parcoords": [
           {
            "line": {
             "colorbar": {
              "outlinewidth": 0,
              "ticks": ""
             }
            },
            "type": "parcoords"
           }
          ],
          "pie": [
           {
            "automargin": true,
            "type": "pie"
           }
          ],
          "scatter": [
           {
            "fillpattern": {
             "fillmode": "overlay",
             "size": 10,
             "solidity": 0.2
            },
            "type": "scatter"
           }
          ],
          "scatter3d": [
           {
            "line": {
             "colorbar": {
              "outlinewidth": 0,
              "ticks": ""
             }
            },
            "marker": {
             "colorbar": {
              "outlinewidth": 0,
              "ticks": ""
             }
            },
            "type": "scatter3d"
           }
          ],
          "scattercarpet": [
           {
            "marker": {
             "colorbar": {
              "outlinewidth": 0,
              "ticks": ""
             }
            },
            "type": "scattercarpet"
           }
          ],
          "scattergeo": [
           {
            "marker": {
             "colorbar": {
              "outlinewidth": 0,
              "ticks": ""
             }
            },
            "type": "scattergeo"
           }
          ],
          "scattergl": [
           {
            "marker": {
             "colorbar": {
              "outlinewidth": 0,
              "ticks": ""
             }
            },
            "type": "scattergl"
           }
          ],
          "scattermapbox": [
           {
            "marker": {
             "colorbar": {
              "outlinewidth": 0,
              "ticks": ""
             }
            },
            "type": "scattermapbox"
           }
          ],
          "scatterpolar": [
           {
            "marker": {
             "colorbar": {
              "outlinewidth": 0,
              "ticks": ""
             }
            },
            "type": "scatterpolar"
           }
          ],
          "scatterpolargl": [
           {
            "marker": {
             "colorbar": {
              "outlinewidth": 0,
              "ticks": ""
             }
            },
            "type": "scatterpolargl"
           }
          ],
          "scatterternary": [
           {
            "marker": {
             "colorbar": {
              "outlinewidth": 0,
              "ticks": ""
             }
            },
            "type": "scatterternary"
           }
          ],
          "surface": [
           {
            "colorbar": {
             "outlinewidth": 0,
             "ticks": ""
            },
            "colorscale": [
             [
              0,
              "#0d0887"
             ],
             [
              0.1111111111111111,
              "#46039f"
             ],
             [
              0.2222222222222222,
              "#7201a8"
             ],
             [
              0.3333333333333333,
              "#9c179e"
             ],
             [
              0.4444444444444444,
              "#bd3786"
             ],
             [
              0.5555555555555556,
              "#d8576b"
             ],
             [
              0.6666666666666666,
              "#ed7953"
             ],
             [
              0.7777777777777778,
              "#fb9f3a"
             ],
             [
              0.8888888888888888,
              "#fdca26"
             ],
             [
              1,
              "#f0f921"
             ]
            ],
            "type": "surface"
           }
          ],
          "table": [
           {
            "cells": {
             "fill": {
              "color": "#EBF0F8"
             },
             "line": {
              "color": "white"
             }
            },
            "header": {
             "fill": {
              "color": "#C8D4E3"
             },
             "line": {
              "color": "white"
             }
            },
            "type": "table"
           }
          ]
         },
         "layout": {
          "annotationdefaults": {
           "arrowcolor": "#2a3f5f",
           "arrowhead": 0,
           "arrowwidth": 1
          },
          "autotypenumbers": "strict",
          "coloraxis": {
           "colorbar": {
            "outlinewidth": 0,
            "ticks": ""
           }
          },
          "colorscale": {
           "diverging": [
            [
             0,
             "#8e0152"
            ],
            [
             0.1,
             "#c51b7d"
            ],
            [
             0.2,
             "#de77ae"
            ],
            [
             0.3,
             "#f1b6da"
            ],
            [
             0.4,
             "#fde0ef"
            ],
            [
             0.5,
             "#f7f7f7"
            ],
            [
             0.6,
             "#e6f5d0"
            ],
            [
             0.7,
             "#b8e186"
            ],
            [
             0.8,
             "#7fbc41"
            ],
            [
             0.9,
             "#4d9221"
            ],
            [
             1,
             "#276419"
            ]
           ],
           "sequential": [
            [
             0,
             "#0d0887"
            ],
            [
             0.1111111111111111,
             "#46039f"
            ],
            [
             0.2222222222222222,
             "#7201a8"
            ],
            [
             0.3333333333333333,
             "#9c179e"
            ],
            [
             0.4444444444444444,
             "#bd3786"
            ],
            [
             0.5555555555555556,
             "#d8576b"
            ],
            [
             0.6666666666666666,
             "#ed7953"
            ],
            [
             0.7777777777777778,
             "#fb9f3a"
            ],
            [
             0.8888888888888888,
             "#fdca26"
            ],
            [
             1,
             "#f0f921"
            ]
           ],
           "sequentialminus": [
            [
             0,
             "#0d0887"
            ],
            [
             0.1111111111111111,
             "#46039f"
            ],
            [
             0.2222222222222222,
             "#7201a8"
            ],
            [
             0.3333333333333333,
             "#9c179e"
            ],
            [
             0.4444444444444444,
             "#bd3786"
            ],
            [
             0.5555555555555556,
             "#d8576b"
            ],
            [
             0.6666666666666666,
             "#ed7953"
            ],
            [
             0.7777777777777778,
             "#fb9f3a"
            ],
            [
             0.8888888888888888,
             "#fdca26"
            ],
            [
             1,
             "#f0f921"
            ]
           ]
          },
          "colorway": [
           "#636efa",
           "#EF553B",
           "#00cc96",
           "#ab63fa",
           "#FFA15A",
           "#19d3f3",
           "#FF6692",
           "#B6E880",
           "#FF97FF",
           "#FECB52"
          ],
          "font": {
           "color": "#2a3f5f"
          },
          "geo": {
           "bgcolor": "white",
           "lakecolor": "white",
           "landcolor": "#E5ECF6",
           "showlakes": true,
           "showland": true,
           "subunitcolor": "white"
          },
          "hoverlabel": {
           "align": "left"
          },
          "hovermode": "closest",
          "mapbox": {
           "style": "light"
          },
          "paper_bgcolor": "white",
          "plot_bgcolor": "#E5ECF6",
          "polar": {
           "angularaxis": {
            "gridcolor": "white",
            "linecolor": "white",
            "ticks": ""
           },
           "bgcolor": "#E5ECF6",
           "radialaxis": {
            "gridcolor": "white",
            "linecolor": "white",
            "ticks": ""
           }
          },
          "scene": {
           "xaxis": {
            "backgroundcolor": "#E5ECF6",
            "gridcolor": "white",
            "gridwidth": 2,
            "linecolor": "white",
            "showbackground": true,
            "ticks": "",
            "zerolinecolor": "white"
           },
           "yaxis": {
            "backgroundcolor": "#E5ECF6",
            "gridcolor": "white",
            "gridwidth": 2,
            "linecolor": "white",
            "showbackground": true,
            "ticks": "",
            "zerolinecolor": "white"
           },
           "zaxis": {
            "backgroundcolor": "#E5ECF6",
            "gridcolor": "white",
            "gridwidth": 2,
            "linecolor": "white",
            "showbackground": true,
            "ticks": "",
            "zerolinecolor": "white"
           }
          },
          "shapedefaults": {
           "line": {
            "color": "#2a3f5f"
           }
          },
          "ternary": {
           "aaxis": {
            "gridcolor": "white",
            "linecolor": "white",
            "ticks": ""
           },
           "baxis": {
            "gridcolor": "white",
            "linecolor": "white",
            "ticks": ""
           },
           "bgcolor": "#E5ECF6",
           "caxis": {
            "gridcolor": "white",
            "linecolor": "white",
            "ticks": ""
           }
          },
          "title": {
           "x": 0.05
          },
          "xaxis": {
           "automargin": true,
           "gridcolor": "white",
           "linecolor": "white",
           "ticks": "",
           "title": {
            "standoff": 15
           },
           "zerolinecolor": "white",
           "zerolinewidth": 2
          },
          "yaxis": {
           "automargin": true,
           "gridcolor": "white",
           "linecolor": "white",
           "ticks": "",
           "title": {
            "standoff": 15
           },
           "zerolinecolor": "white",
           "zerolinewidth": 2
          }
         }
        },
        "xaxis": {
         "anchor": "y",
         "domain": [
          0,
          0.15
         ],
         "title": {
          "text": "detection_tpr"
         }
        },
        "xaxis2": {
         "anchor": "y2",
         "domain": [
          0.16999999999999998,
          0.31999999999999995
         ],
         "matches": "x",
         "title": {
          "text": "detection_tpr"
         }
        },
        "xaxis3": {
         "anchor": "y3",
         "domain": [
          0.33999999999999997,
          0.49
         ],
         "matches": "x",
         "title": {
          "text": "detection_tpr"
         }
        },
        "xaxis4": {
         "anchor": "y4",
         "domain": [
          0.51,
          0.66
         ],
         "matches": "x",
         "title": {
          "text": "detection_tpr"
         }
        },
        "xaxis5": {
         "anchor": "y5",
         "domain": [
          0.6799999999999999,
          0.83
         ],
         "matches": "x",
         "title": {
          "text": "detection_tpr"
         }
        },
        "xaxis6": {
         "anchor": "y6",
         "domain": [
          0.85,
          1
         ],
         "matches": "x",
         "title": {
          "text": "detection_tpr"
         }
        },
        "yaxis": {
         "anchor": "x",
         "domain": [
          0,
          1
         ],
         "title": {
          "text": "demographic_parity_user"
         }
        },
        "yaxis2": {
         "anchor": "x2",
         "domain": [
          0,
          1
         ],
         "matches": "y",
         "showticklabels": false
        },
        "yaxis3": {
         "anchor": "x3",
         "domain": [
          0,
          1
         ],
         "matches": "y",
         "showticklabels": false
        },
        "yaxis4": {
         "anchor": "x4",
         "domain": [
          0,
          1
         ],
         "matches": "y",
         "showticklabels": false
        },
        "yaxis5": {
         "anchor": "x5",
         "domain": [
          0,
          1
         ],
         "matches": "y",
         "showticklabels": false
        },
        "yaxis6": {
         "anchor": "x6",
         "domain": [
          0,
          1
         ],
         "matches": "y",
         "showticklabels": false
        }
       }
      }
     },
     "metadata": {},
     "output_type": "display_data"
    }
   ],
   "source": [
    "px.line(\n",
    "    manipulation.sort(\"detection_tpr\").with_columns(\n",
    "        pl.col(\"demographic_parity_user_std\") / sqrt(5)\n",
    "    ),\n",
    "    x=\"detection_tpr\",\n",
    "    y=\"demographic_parity_user\",\n",
    "    error_y=\"demographic_parity_user_std\",\n",
    "    facet_col=\"strategy\",\n",
    "    color=\"strategy_json\",\n",
    ")"
   ]
  },
  {
   "cell_type": "code",
   "execution_count": 54,
   "metadata": {},
   "outputs": [
    {
     "data": {
      "application/vnd.plotly.v1+json": {
       "config": {
        "plotlyServerURL": "https://plot.ly"
       },
       "data": [
        {
         "error_y": {
          "array": [
           0.001268481303170827,
           0.001268481303170827,
           0.001268481303170827,
           0.001268481303170827,
           0.001268481303170827
          ]
         },
         "hovertemplate": "strategy_json={\"epsilon\":null,\"theta\":null}<br>strategy=always_yes<br>detection_tpr=%{x}<br>utility_user=%{y}<extra></extra>",
         "legendgroup": "{\"epsilon\":null,\"theta\":null}",
         "line": {
          "color": "#636efa",
          "dash": "solid"
         },
         "marker": {
          "symbol": "circle"
         },
         "mode": "lines",
         "name": "{\"epsilon\":null,\"theta\":null}",
         "orientation": "v",
         "showlegend": true,
         "type": "scatter",
         "x": [
          0,
          0.25,
          0.5,
          0.75,
          1
         ],
         "xaxis": "x",
         "y": [
          0.8508773207135057,
          0.8508773207135057,
          0.8508773207135057,
          0.8508773207135057,
          0.8508773207135057
         ],
         "yaxis": "y"
        },
        {
         "error_y": {
          "array": [
           0.001268481303170827,
           0.001268481303170827,
           0.001268481303170827,
           0.001268481303170827,
           0.001268481303170827
          ]
         },
         "hovertemplate": "strategy_json={\"epsilon\":null,\"theta\":null}<br>strategy=model_swap<br>detection_tpr=%{x}<br>utility_user=%{y}<extra></extra>",
         "legendgroup": "{\"epsilon\":null,\"theta\":null}",
         "line": {
          "color": "#636efa",
          "dash": "solid"
         },
         "marker": {
          "symbol": "circle"
         },
         "mode": "lines",
         "name": "{\"epsilon\":null,\"theta\":null}",
         "orientation": "v",
         "showlegend": false,
         "type": "scatter",
         "x": [
          0,
          0.25,
          0.5,
          0.75,
          1
         ],
         "xaxis": "x4",
         "y": [
          0.8508773207135057,
          0.8508773207135057,
          0.8508773207135057,
          0.8508773207135057,
          0.8508773207135057
         ],
         "yaxis": "y4"
        },
        {
         "error_y": {
          "array": [
           0.001268481303170827,
           0.001268481303170827,
           0.001268481303170827,
           0.001268481303170827,
           0.001268481303170827
          ]
         },
         "hovertemplate": "strategy_json={\"epsilon\":null,\"theta\":null}<br>strategy=always_no<br>detection_tpr=%{x}<br>utility_user=%{y}<extra></extra>",
         "legendgroup": "{\"epsilon\":null,\"theta\":null}",
         "line": {
          "color": "#636efa",
          "dash": "solid"
         },
         "marker": {
          "symbol": "circle"
         },
         "mode": "lines",
         "name": "{\"epsilon\":null,\"theta\":null}",
         "orientation": "v",
         "showlegend": false,
         "type": "scatter",
         "x": [
          0,
          0.25,
          0.5,
          0.75,
          1
         ],
         "xaxis": "x5",
         "y": [
          0.8508773207135057,
          0.8508773207135057,
          0.8508773207135057,
          0.8508773207135057,
          0.8508773207135057
         ],
         "yaxis": "y5"
        },
        {
         "error_y": {
          "array": [
           0.001268481303170827,
           0.001268481303170827,
           0.001268481303170827,
           0.001268481303170827,
           0.001268481303170827
          ]
         },
         "hovertemplate": "strategy_json={\"epsilon\":null,\"theta\":null}<br>strategy=honest<br>detection_tpr=%{x}<br>utility_user=%{y}<extra></extra>",
         "legendgroup": "{\"epsilon\":null,\"theta\":null}",
         "line": {
          "color": "#636efa",
          "dash": "solid"
         },
         "marker": {
          "symbol": "circle"
         },
         "mode": "lines",
         "name": "{\"epsilon\":null,\"theta\":null}",
         "orientation": "v",
         "showlegend": false,
         "type": "scatter",
         "x": [
          0,
          0.25,
          0.5,
          0.75,
          1
         ],
         "xaxis": "x6",
         "y": [
          0.8508773207135057,
          0.8508773207135057,
          0.8508773207135057,
          0.8508773207135057,
          0.8508773207135057
         ],
         "yaxis": "y6"
        },
        {
         "error_y": {
          "array": [
           0.001268481303170827,
           0.001268481303170827,
           0.001268481303170827,
           0.001268481303170827,
           0.001268481303170827
          ]
         },
         "hovertemplate": "strategy_json={\"epsilon\":null,\"theta\":0.5666666666666667}<br>strategy=ROC_mitigation<br>detection_tpr=%{x}<br>utility_user=%{y}<extra></extra>",
         "legendgroup": "{\"epsilon\":null,\"theta\":0.5666666666666667}",
         "line": {
          "color": "#EF553B",
          "dash": "solid"
         },
         "marker": {
          "symbol": "circle"
         },
         "mode": "lines",
         "name": "{\"epsilon\":null,\"theta\":0.5666666666666667}",
         "orientation": "v",
         "showlegend": true,
         "type": "scatter",
         "x": [
          0,
          0.25,
          0.5,
          0.75,
          1
         ],
         "xaxis": "x2",
         "y": [
          0.8508773207135057,
          0.8508773207135057,
          0.8508773207135057,
          0.8508773207135057,
          0.8508773207135057
         ],
         "yaxis": "y2"
        },
        {
         "error_y": {
          "array": [
           0.001268481303170827,
           0.001268481303170827,
           0.001268481303170827,
           0.001268481303170827,
           0.001268481303170827
          ]
         },
         "hovertemplate": "strategy_json={\"epsilon\":10.0,\"theta\":null}<br>strategy=randomized_response<br>detection_tpr=%{x}<br>utility_user=%{y}<extra></extra>",
         "legendgroup": "{\"epsilon\":10.0,\"theta\":null}",
         "line": {
          "color": "#00cc96",
          "dash": "solid"
         },
         "marker": {
          "symbol": "circle"
         },
         "mode": "lines",
         "name": "{\"epsilon\":10.0,\"theta\":null}",
         "orientation": "v",
         "showlegend": true,
         "type": "scatter",
         "x": [
          0,
          0.25,
          0.5,
          0.75,
          1
         ],
         "xaxis": "x3",
         "y": [
          0.8508773207135057,
          0.8508773207135057,
          0.8508773207135057,
          0.8508773207135057,
          0.8508773207135057
         ],
         "yaxis": "y3"
        },
        {
         "error_y": {
          "array": [
           0.001268481303170827,
           0.001268481303170827,
           0.001268481303170827,
           0.001268481303170827,
           0.001268481303170827
          ]
         },
         "hovertemplate": "strategy_json={\"epsilon\":null,\"theta\":0.3333333333333333}<br>strategy=ROC_mitigation<br>detection_tpr=%{x}<br>utility_user=%{y}<extra></extra>",
         "legendgroup": "{\"epsilon\":null,\"theta\":0.3333333333333333}",
         "line": {
          "color": "#ab63fa",
          "dash": "solid"
         },
         "marker": {
          "symbol": "circle"
         },
         "mode": "lines",
         "name": "{\"epsilon\":null,\"theta\":0.3333333333333333}",
         "orientation": "v",
         "showlegend": true,
         "type": "scatter",
         "x": [
          0,
          0.25,
          0.5,
          0.75,
          1
         ],
         "xaxis": "x2",
         "y": [
          0.8508773207135057,
          0.8508773207135057,
          0.8508773207135057,
          0.8508773207135057,
          0.8508773207135057
         ],
         "yaxis": "y2"
        },
        {
         "error_y": {
          "array": [
           0.001268481303170827,
           0.001268481303170827,
           0.001268481303170827,
           0.001268481303170827,
           0.001268481303170827
          ]
         },
         "hovertemplate": "strategy_json={\"epsilon\":1.0,\"theta\":null}<br>strategy=randomized_response<br>detection_tpr=%{x}<br>utility_user=%{y}<extra></extra>",
         "legendgroup": "{\"epsilon\":1.0,\"theta\":null}",
         "line": {
          "color": "#FFA15A",
          "dash": "solid"
         },
         "marker": {
          "symbol": "circle"
         },
         "mode": "lines",
         "name": "{\"epsilon\":1.0,\"theta\":null}",
         "orientation": "v",
         "showlegend": true,
         "type": "scatter",
         "x": [
          0,
          0.25,
          0.5,
          0.75,
          1
         ],
         "xaxis": "x3",
         "y": [
          0.8508773207135057,
          0.8508773207135057,
          0.8508773207135057,
          0.8508773207135057,
          0.8508773207135057
         ],
         "yaxis": "y3"
        },
        {
         "error_y": {
          "array": [
           0.001268481303170827,
           0.001268481303170827,
           0.001268481303170827,
           0.001268481303170827,
           0.001268481303170827
          ]
         },
         "hovertemplate": "strategy_json={\"epsilon\":null,\"theta\":0.36666666666666664}<br>strategy=ROC_mitigation<br>detection_tpr=%{x}<br>utility_user=%{y}<extra></extra>",
         "legendgroup": "{\"epsilon\":null,\"theta\":0.36666666666666664}",
         "line": {
          "color": "#19d3f3",
          "dash": "solid"
         },
         "marker": {
          "symbol": "circle"
         },
         "mode": "lines",
         "name": "{\"epsilon\":null,\"theta\":0.36666666666666664}",
         "orientation": "v",
         "showlegend": true,
         "type": "scatter",
         "x": [
          0,
          0.25,
          0.5,
          0.75,
          1
         ],
         "xaxis": "x2",
         "y": [
          0.8508773207135057,
          0.8508773207135057,
          0.8508773207135057,
          0.8508773207135057,
          0.8508773207135057
         ],
         "yaxis": "y2"
        },
        {
         "error_y": {
          "array": [
           0.001268481303170827,
           0.001268481303170827,
           0.001268481303170827,
           0.001268481303170827,
           0.001268481303170827
          ]
         },
         "hovertemplate": "strategy_json={\"epsilon\":null,\"theta\":0.4}<br>strategy=ROC_mitigation<br>detection_tpr=%{x}<br>utility_user=%{y}<extra></extra>",
         "legendgroup": "{\"epsilon\":null,\"theta\":0.4}",
         "line": {
          "color": "#FF6692",
          "dash": "solid"
         },
         "marker": {
          "symbol": "circle"
         },
         "mode": "lines",
         "name": "{\"epsilon\":null,\"theta\":0.4}",
         "orientation": "v",
         "showlegend": true,
         "type": "scatter",
         "x": [
          0,
          0.25,
          0.5,
          0.75,
          1
         ],
         "xaxis": "x2",
         "y": [
          0.8508773207135057,
          0.8508773207135057,
          0.8508773207135057,
          0.8508773207135057,
          0.8508773207135057
         ],
         "yaxis": "y2"
        },
        {
         "error_y": {
          "array": [
           0.001268481303170827,
           0.001268481303170827,
           0.001268481303170827,
           0.001268481303170827,
           0.001268481303170827
          ]
         },
         "hovertemplate": "strategy_json={\"epsilon\":null,\"theta\":0.4666666666666667}<br>strategy=ROC_mitigation<br>detection_tpr=%{x}<br>utility_user=%{y}<extra></extra>",
         "legendgroup": "{\"epsilon\":null,\"theta\":0.4666666666666667}",
         "line": {
          "color": "#B6E880",
          "dash": "solid"
         },
         "marker": {
          "symbol": "circle"
         },
         "mode": "lines",
         "name": "{\"epsilon\":null,\"theta\":0.4666666666666667}",
         "orientation": "v",
         "showlegend": true,
         "type": "scatter",
         "x": [
          0,
          0.25,
          0.5,
          0.75,
          1
         ],
         "xaxis": "x2",
         "y": [
          0.8508773207135057,
          0.8508773207135057,
          0.8508773207135057,
          0.8508773207135057,
          0.8508773207135057
         ],
         "yaxis": "y2"
        },
        {
         "error_y": {
          "array": [
           0.001268481303170827,
           0.001268481303170827,
           0.001268481303170827,
           0.001268481303170827,
           0.001268481303170827
          ]
         },
         "hovertemplate": "strategy_json={\"epsilon\":3.0,\"theta\":null}<br>strategy=randomized_response<br>detection_tpr=%{x}<br>utility_user=%{y}<extra></extra>",
         "legendgroup": "{\"epsilon\":3.0,\"theta\":null}",
         "line": {
          "color": "#FF97FF",
          "dash": "solid"
         },
         "marker": {
          "symbol": "circle"
         },
         "mode": "lines",
         "name": "{\"epsilon\":3.0,\"theta\":null}",
         "orientation": "v",
         "showlegend": true,
         "type": "scatter",
         "x": [
          0,
          0.25,
          0.5,
          0.75,
          1
         ],
         "xaxis": "x3",
         "y": [
          0.8508773207135057,
          0.8508773207135057,
          0.8508773207135057,
          0.8508773207135057,
          0.8508773207135057
         ],
         "yaxis": "y3"
        },
        {
         "error_y": {
          "array": [
           0.001268481303170827,
           0.001268481303170827,
           0.001268481303170827,
           0.001268481303170827,
           0.001268481303170827
          ]
         },
         "hovertemplate": "strategy_json={\"epsilon\":9.0,\"theta\":null}<br>strategy=randomized_response<br>detection_tpr=%{x}<br>utility_user=%{y}<extra></extra>",
         "legendgroup": "{\"epsilon\":9.0,\"theta\":null}",
         "line": {
          "color": "#FECB52",
          "dash": "solid"
         },
         "marker": {
          "symbol": "circle"
         },
         "mode": "lines",
         "name": "{\"epsilon\":9.0,\"theta\":null}",
         "orientation": "v",
         "showlegend": true,
         "type": "scatter",
         "x": [
          0,
          0.25,
          0.5,
          0.75,
          1
         ],
         "xaxis": "x3",
         "y": [
          0.8508773207135057,
          0.8508773207135057,
          0.8508773207135057,
          0.8508773207135057,
          0.8508773207135057
         ],
         "yaxis": "y3"
        },
        {
         "error_y": {
          "array": [
           0.001268481303170827,
           0.001268481303170827,
           0.001268481303170827,
           0.001268481303170827,
           0.001268481303170827
          ]
         },
         "hovertemplate": "strategy_json={\"epsilon\":null,\"theta\":0.5}<br>strategy=ROC_mitigation<br>detection_tpr=%{x}<br>utility_user=%{y}<extra></extra>",
         "legendgroup": "{\"epsilon\":null,\"theta\":0.5}",
         "line": {
          "color": "#636efa",
          "dash": "solid"
         },
         "marker": {
          "symbol": "circle"
         },
         "mode": "lines",
         "name": "{\"epsilon\":null,\"theta\":0.5}",
         "orientation": "v",
         "showlegend": true,
         "type": "scatter",
         "x": [
          0,
          0.25,
          0.5,
          0.75,
          1
         ],
         "xaxis": "x2",
         "y": [
          0.8508773207135057,
          0.8508773207135057,
          0.8508773207135057,
          0.8508773207135057,
          0.8508773207135057
         ],
         "yaxis": "y2"
        },
        {
         "error_y": {
          "array": [
           0.001268481303170827,
           0.001268481303170827,
           0.001268481303170827,
           0.001268481303170827,
           0.001268481303170827
          ]
         },
         "hovertemplate": "strategy_json={\"epsilon\":6.0,\"theta\":null}<br>strategy=randomized_response<br>detection_tpr=%{x}<br>utility_user=%{y}<extra></extra>",
         "legendgroup": "{\"epsilon\":6.0,\"theta\":null}",
         "line": {
          "color": "#EF553B",
          "dash": "solid"
         },
         "marker": {
          "symbol": "circle"
         },
         "mode": "lines",
         "name": "{\"epsilon\":6.0,\"theta\":null}",
         "orientation": "v",
         "showlegend": true,
         "type": "scatter",
         "x": [
          0,
          0.25,
          0.5,
          0.75,
          1
         ],
         "xaxis": "x3",
         "y": [
          0.8508773207135057,
          0.8508773207135057,
          0.8508773207135057,
          0.8508773207135057,
          0.8508773207135057
         ],
         "yaxis": "y3"
        },
        {
         "error_y": {
          "array": [
           0.001268481303170827,
           0.001268481303170827,
           0.001268481303170827,
           0.001268481303170827,
           0.001268481303170827
          ]
         },
         "hovertemplate": "strategy_json={\"epsilon\":null,\"theta\":0.5333333333333333}<br>strategy=ROC_mitigation<br>detection_tpr=%{x}<br>utility_user=%{y}<extra></extra>",
         "legendgroup": "{\"epsilon\":null,\"theta\":0.5333333333333333}",
         "line": {
          "color": "#00cc96",
          "dash": "solid"
         },
         "marker": {
          "symbol": "circle"
         },
         "mode": "lines",
         "name": "{\"epsilon\":null,\"theta\":0.5333333333333333}",
         "orientation": "v",
         "showlegend": true,
         "type": "scatter",
         "x": [
          0,
          0.25,
          0.5,
          0.75,
          1
         ],
         "xaxis": "x2",
         "y": [
          0.8508773207135057,
          0.8508773207135057,
          0.8508773207135057,
          0.8508773207135057,
          0.8508773207135057
         ],
         "yaxis": "y2"
        },
        {
         "error_y": {
          "array": [
           0.001268481303170827,
           0.001268481303170827,
           0.001268481303170827,
           0.001268481303170827,
           0.001268481303170827
          ]
         },
         "hovertemplate": "strategy_json={\"epsilon\":5.0,\"theta\":null}<br>strategy=randomized_response<br>detection_tpr=%{x}<br>utility_user=%{y}<extra></extra>",
         "legendgroup": "{\"epsilon\":5.0,\"theta\":null}",
         "line": {
          "color": "#ab63fa",
          "dash": "solid"
         },
         "marker": {
          "symbol": "circle"
         },
         "mode": "lines",
         "name": "{\"epsilon\":5.0,\"theta\":null}",
         "orientation": "v",
         "showlegend": true,
         "type": "scatter",
         "x": [
          0,
          0.25,
          0.5,
          0.75,
          1
         ],
         "xaxis": "x3",
         "y": [
          0.8508773207135057,
          0.8508773207135057,
          0.8508773207135057,
          0.8508773207135057,
          0.8508773207135057
         ],
         "yaxis": "y3"
        },
        {
         "error_y": {
          "array": [
           0.001268481303170827,
           0.001268481303170827,
           0.001268481303170827,
           0.001268481303170827,
           0.001268481303170827
          ]
         },
         "hovertemplate": "strategy_json={\"epsilon\":null,\"theta\":0.43333333333333335}<br>strategy=ROC_mitigation<br>detection_tpr=%{x}<br>utility_user=%{y}<extra></extra>",
         "legendgroup": "{\"epsilon\":null,\"theta\":0.43333333333333335}",
         "line": {
          "color": "#FFA15A",
          "dash": "solid"
         },
         "marker": {
          "symbol": "circle"
         },
         "mode": "lines",
         "name": "{\"epsilon\":null,\"theta\":0.43333333333333335}",
         "orientation": "v",
         "showlegend": true,
         "type": "scatter",
         "x": [
          0,
          0.25,
          0.5,
          0.75,
          1
         ],
         "xaxis": "x2",
         "y": [
          0.8508773207135057,
          0.8508773207135057,
          0.8508773207135057,
          0.8508773207135057,
          0.8508773207135057
         ],
         "yaxis": "y2"
        },
        {
         "error_y": {
          "array": [
           0.001268481303170827,
           0.001268481303170827,
           0.001268481303170827,
           0.001268481303170827,
           0.001268481303170827
          ]
         },
         "hovertemplate": "strategy_json={\"epsilon\":4.0,\"theta\":null}<br>strategy=randomized_response<br>detection_tpr=%{x}<br>utility_user=%{y}<extra></extra>",
         "legendgroup": "{\"epsilon\":4.0,\"theta\":null}",
         "line": {
          "color": "#19d3f3",
          "dash": "solid"
         },
         "marker": {
          "symbol": "circle"
         },
         "mode": "lines",
         "name": "{\"epsilon\":4.0,\"theta\":null}",
         "orientation": "v",
         "showlegend": true,
         "type": "scatter",
         "x": [
          0,
          0.25,
          0.5,
          0.75,
          1
         ],
         "xaxis": "x3",
         "y": [
          0.8508773207135057,
          0.8508773207135057,
          0.8508773207135057,
          0.8508773207135057,
          0.8508773207135057
         ],
         "yaxis": "y3"
        },
        {
         "error_y": {
          "array": [
           0.001268481303170827,
           0.001268481303170827,
           0.001268481303170827,
           0.001268481303170827,
           0.001268481303170827
          ]
         },
         "hovertemplate": "strategy_json={\"epsilon\":7.0,\"theta\":null}<br>strategy=randomized_response<br>detection_tpr=%{x}<br>utility_user=%{y}<extra></extra>",
         "legendgroup": "{\"epsilon\":7.0,\"theta\":null}",
         "line": {
          "color": "#FF6692",
          "dash": "solid"
         },
         "marker": {
          "symbol": "circle"
         },
         "mode": "lines",
         "name": "{\"epsilon\":7.0,\"theta\":null}",
         "orientation": "v",
         "showlegend": true,
         "type": "scatter",
         "x": [
          0,
          0.25,
          0.5,
          0.75,
          1
         ],
         "xaxis": "x3",
         "y": [
          0.8508773207135057,
          0.8508773207135057,
          0.8508773207135057,
          0.8508773207135057,
          0.8508773207135057
         ],
         "yaxis": "y3"
        },
        {
         "error_y": {
          "array": [
           0.001268481303170827,
           0.001268481303170827,
           0.001268481303170827,
           0.001268481303170827,
           0.001268481303170827
          ]
         },
         "hovertemplate": "strategy_json={\"epsilon\":2.0,\"theta\":null}<br>strategy=randomized_response<br>detection_tpr=%{x}<br>utility_user=%{y}<extra></extra>",
         "legendgroup": "{\"epsilon\":2.0,\"theta\":null}",
         "line": {
          "color": "#B6E880",
          "dash": "solid"
         },
         "marker": {
          "symbol": "circle"
         },
         "mode": "lines",
         "name": "{\"epsilon\":2.0,\"theta\":null}",
         "orientation": "v",
         "showlegend": true,
         "type": "scatter",
         "x": [
          0,
          0.25,
          0.5,
          0.75,
          1
         ],
         "xaxis": "x3",
         "y": [
          0.8508773207135057,
          0.8508773207135057,
          0.8508773207135057,
          0.8508773207135057,
          0.8508773207135057
         ],
         "yaxis": "y3"
        },
        {
         "error_y": {
          "array": [
           0.001268481303170827,
           0.001268481303170827,
           0.001268481303170827,
           0.001268481303170827,
           0.001268481303170827
          ]
         },
         "hovertemplate": "strategy_json={\"epsilon\":null,\"theta\":0.6}<br>strategy=ROC_mitigation<br>detection_tpr=%{x}<br>utility_user=%{y}<extra></extra>",
         "legendgroup": "{\"epsilon\":null,\"theta\":0.6}",
         "line": {
          "color": "#FF97FF",
          "dash": "solid"
         },
         "marker": {
          "symbol": "circle"
         },
         "mode": "lines",
         "name": "{\"epsilon\":null,\"theta\":0.6}",
         "orientation": "v",
         "showlegend": true,
         "type": "scatter",
         "x": [
          0,
          0.25,
          0.5,
          0.75,
          1
         ],
         "xaxis": "x2",
         "y": [
          0.8508773207135057,
          0.8508773207135057,
          0.8508773207135057,
          0.8508773207135057,
          0.8508773207135057
         ],
         "yaxis": "y2"
        },
        {
         "error_y": {
          "array": [
           0.001268481303170827,
           0.001268481303170827,
           0.001268481303170827,
           0.001268481303170827,
           0.001268481303170827
          ]
         },
         "hovertemplate": "strategy_json={\"epsilon\":null,\"theta\":0.3}<br>strategy=ROC_mitigation<br>detection_tpr=%{x}<br>utility_user=%{y}<extra></extra>",
         "legendgroup": "{\"epsilon\":null,\"theta\":0.3}",
         "line": {
          "color": "#FECB52",
          "dash": "solid"
         },
         "marker": {
          "symbol": "circle"
         },
         "mode": "lines",
         "name": "{\"epsilon\":null,\"theta\":0.3}",
         "orientation": "v",
         "showlegend": true,
         "type": "scatter",
         "x": [
          0,
          0.25,
          0.5,
          0.75,
          1
         ],
         "xaxis": "x2",
         "y": [
          0.8508773207135057,
          0.8508773207135057,
          0.8508773207135057,
          0.8508773207135057,
          0.8508773207135057
         ],
         "yaxis": "y2"
        },
        {
         "error_y": {
          "array": [
           0.001268481303170827,
           0.001268481303170827,
           0.001268481303170827,
           0.001268481303170827,
           0.001268481303170827
          ]
         },
         "hovertemplate": "strategy_json={\"epsilon\":8.0,\"theta\":null}<br>strategy=randomized_response<br>detection_tpr=%{x}<br>utility_user=%{y}<extra></extra>",
         "legendgroup": "{\"epsilon\":8.0,\"theta\":null}",
         "line": {
          "color": "#636efa",
          "dash": "solid"
         },
         "marker": {
          "symbol": "circle"
         },
         "mode": "lines",
         "name": "{\"epsilon\":8.0,\"theta\":null}",
         "orientation": "v",
         "showlegend": true,
         "type": "scatter",
         "x": [
          0,
          0.25,
          0.5,
          0.75,
          1
         ],
         "xaxis": "x3",
         "y": [
          0.8508773207135057,
          0.8508773207135057,
          0.8508773207135057,
          0.8508773207135057,
          0.8508773207135057
         ],
         "yaxis": "y3"
        }
       ],
       "layout": {
        "annotations": [
         {
          "font": {},
          "showarrow": false,
          "text": "strategy=always_yes",
          "x": 0.075,
          "xanchor": "center",
          "xref": "paper",
          "y": 1,
          "yanchor": "bottom",
          "yref": "paper"
         },
         {
          "font": {},
          "showarrow": false,
          "text": "strategy=ROC_mitigation",
          "x": 0.24499999999999997,
          "xanchor": "center",
          "xref": "paper",
          "y": 1,
          "yanchor": "bottom",
          "yref": "paper"
         },
         {
          "font": {},
          "showarrow": false,
          "text": "strategy=randomized_response",
          "x": 0.415,
          "xanchor": "center",
          "xref": "paper",
          "y": 1,
          "yanchor": "bottom",
          "yref": "paper"
         },
         {
          "font": {},
          "showarrow": false,
          "text": "strategy=model_swap",
          "x": 0.585,
          "xanchor": "center",
          "xref": "paper",
          "y": 1,
          "yanchor": "bottom",
          "yref": "paper"
         },
         {
          "font": {},
          "showarrow": false,
          "text": "strategy=always_no",
          "x": 0.7549999999999999,
          "xanchor": "center",
          "xref": "paper",
          "y": 1,
          "yanchor": "bottom",
          "yref": "paper"
         },
         {
          "font": {},
          "showarrow": false,
          "text": "strategy=honest",
          "x": 0.925,
          "xanchor": "center",
          "xref": "paper",
          "y": 1,
          "yanchor": "bottom",
          "yref": "paper"
         }
        ],
        "legend": {
         "title": {
          "text": "strategy_json"
         },
         "tracegroupgap": 0
        },
        "margin": {
         "t": 60
        },
        "template": {
         "data": {
          "bar": [
           {
            "error_x": {
             "color": "#2a3f5f"
            },
            "error_y": {
             "color": "#2a3f5f"
            },
            "marker": {
             "line": {
              "color": "#E5ECF6",
              "width": 0.5
             },
             "pattern": {
              "fillmode": "overlay",
              "size": 10,
              "solidity": 0.2
             }
            },
            "type": "bar"
           }
          ],
          "barpolar": [
           {
            "marker": {
             "line": {
              "color": "#E5ECF6",
              "width": 0.5
             },
             "pattern": {
              "fillmode": "overlay",
              "size": 10,
              "solidity": 0.2
             }
            },
            "type": "barpolar"
           }
          ],
          "carpet": [
           {
            "aaxis": {
             "endlinecolor": "#2a3f5f",
             "gridcolor": "white",
             "linecolor": "white",
             "minorgridcolor": "white",
             "startlinecolor": "#2a3f5f"
            },
            "baxis": {
             "endlinecolor": "#2a3f5f",
             "gridcolor": "white",
             "linecolor": "white",
             "minorgridcolor": "white",
             "startlinecolor": "#2a3f5f"
            },
            "type": "carpet"
           }
          ],
          "choropleth": [
           {
            "colorbar": {
             "outlinewidth": 0,
             "ticks": ""
            },
            "type": "choropleth"
           }
          ],
          "contour": [
           {
            "colorbar": {
             "outlinewidth": 0,
             "ticks": ""
            },
            "colorscale": [
             [
              0,
              "#0d0887"
             ],
             [
              0.1111111111111111,
              "#46039f"
             ],
             [
              0.2222222222222222,
              "#7201a8"
             ],
             [
              0.3333333333333333,
              "#9c179e"
             ],
             [
              0.4444444444444444,
              "#bd3786"
             ],
             [
              0.5555555555555556,
              "#d8576b"
             ],
             [
              0.6666666666666666,
              "#ed7953"
             ],
             [
              0.7777777777777778,
              "#fb9f3a"
             ],
             [
              0.8888888888888888,
              "#fdca26"
             ],
             [
              1,
              "#f0f921"
             ]
            ],
            "type": "contour"
           }
          ],
          "contourcarpet": [
           {
            "colorbar": {
             "outlinewidth": 0,
             "ticks": ""
            },
            "type": "contourcarpet"
           }
          ],
          "heatmap": [
           {
            "colorbar": {
             "outlinewidth": 0,
             "ticks": ""
            },
            "colorscale": [
             [
              0,
              "#0d0887"
             ],
             [
              0.1111111111111111,
              "#46039f"
             ],
             [
              0.2222222222222222,
              "#7201a8"
             ],
             [
              0.3333333333333333,
              "#9c179e"
             ],
             [
              0.4444444444444444,
              "#bd3786"
             ],
             [
              0.5555555555555556,
              "#d8576b"
             ],
             [
              0.6666666666666666,
              "#ed7953"
             ],
             [
              0.7777777777777778,
              "#fb9f3a"
             ],
             [
              0.8888888888888888,
              "#fdca26"
             ],
             [
              1,
              "#f0f921"
             ]
            ],
            "type": "heatmap"
           }
          ],
          "heatmapgl": [
           {
            "colorbar": {
             "outlinewidth": 0,
             "ticks": ""
            },
            "colorscale": [
             [
              0,
              "#0d0887"
             ],
             [
              0.1111111111111111,
              "#46039f"
             ],
             [
              0.2222222222222222,
              "#7201a8"
             ],
             [
              0.3333333333333333,
              "#9c179e"
             ],
             [
              0.4444444444444444,
              "#bd3786"
             ],
             [
              0.5555555555555556,
              "#d8576b"
             ],
             [
              0.6666666666666666,
              "#ed7953"
             ],
             [
              0.7777777777777778,
              "#fb9f3a"
             ],
             [
              0.8888888888888888,
              "#fdca26"
             ],
             [
              1,
              "#f0f921"
             ]
            ],
            "type": "heatmapgl"
           }
          ],
          "histogram": [
           {
            "marker": {
             "pattern": {
              "fillmode": "overlay",
              "size": 10,
              "solidity": 0.2
             }
            },
            "type": "histogram"
           }
          ],
          "histogram2d": [
           {
            "colorbar": {
             "outlinewidth": 0,
             "ticks": ""
            },
            "colorscale": [
             [
              0,
              "#0d0887"
             ],
             [
              0.1111111111111111,
              "#46039f"
             ],
             [
              0.2222222222222222,
              "#7201a8"
             ],
             [
              0.3333333333333333,
              "#9c179e"
             ],
             [
              0.4444444444444444,
              "#bd3786"
             ],
             [
              0.5555555555555556,
              "#d8576b"
             ],
             [
              0.6666666666666666,
              "#ed7953"
             ],
             [
              0.7777777777777778,
              "#fb9f3a"
             ],
             [
              0.8888888888888888,
              "#fdca26"
             ],
             [
              1,
              "#f0f921"
             ]
            ],
            "type": "histogram2d"
           }
          ],
          "histogram2dcontour": [
           {
            "colorbar": {
             "outlinewidth": 0,
             "ticks": ""
            },
            "colorscale": [
             [
              0,
              "#0d0887"
             ],
             [
              0.1111111111111111,
              "#46039f"
             ],
             [
              0.2222222222222222,
              "#7201a8"
             ],
             [
              0.3333333333333333,
              "#9c179e"
             ],
             [
              0.4444444444444444,
              "#bd3786"
             ],
             [
              0.5555555555555556,
              "#d8576b"
             ],
             [
              0.6666666666666666,
              "#ed7953"
             ],
             [
              0.7777777777777778,
              "#fb9f3a"
             ],
             [
              0.8888888888888888,
              "#fdca26"
             ],
             [
              1,
              "#f0f921"
             ]
            ],
            "type": "histogram2dcontour"
           }
          ],
          "mesh3d": [
           {
            "colorbar": {
             "outlinewidth": 0,
             "ticks": ""
            },
            "type": "mesh3d"
           }
          ],
          "parcoords": [
           {
            "line": {
             "colorbar": {
              "outlinewidth": 0,
              "ticks": ""
             }
            },
            "type": "parcoords"
           }
          ],
          "pie": [
           {
            "automargin": true,
            "type": "pie"
           }
          ],
          "scatter": [
           {
            "fillpattern": {
             "fillmode": "overlay",
             "size": 10,
             "solidity": 0.2
            },
            "type": "scatter"
           }
          ],
          "scatter3d": [
           {
            "line": {
             "colorbar": {
              "outlinewidth": 0,
              "ticks": ""
             }
            },
            "marker": {
             "colorbar": {
              "outlinewidth": 0,
              "ticks": ""
             }
            },
            "type": "scatter3d"
           }
          ],
          "scattercarpet": [
           {
            "marker": {
             "colorbar": {
              "outlinewidth": 0,
              "ticks": ""
             }
            },
            "type": "scattercarpet"
           }
          ],
          "scattergeo": [
           {
            "marker": {
             "colorbar": {
              "outlinewidth": 0,
              "ticks": ""
             }
            },
            "type": "scattergeo"
           }
          ],
          "scattergl": [
           {
            "marker": {
             "colorbar": {
              "outlinewidth": 0,
              "ticks": ""
             }
            },
            "type": "scattergl"
           }
          ],
          "scattermapbox": [
           {
            "marker": {
             "colorbar": {
              "outlinewidth": 0,
              "ticks": ""
             }
            },
            "type": "scattermapbox"
           }
          ],
          "scatterpolar": [
           {
            "marker": {
             "colorbar": {
              "outlinewidth": 0,
              "ticks": ""
             }
            },
            "type": "scatterpolar"
           }
          ],
          "scatterpolargl": [
           {
            "marker": {
             "colorbar": {
              "outlinewidth": 0,
              "ticks": ""
             }
            },
            "type": "scatterpolargl"
           }
          ],
          "scatterternary": [
           {
            "marker": {
             "colorbar": {
              "outlinewidth": 0,
              "ticks": ""
             }
            },
            "type": "scatterternary"
           }
          ],
          "surface": [
           {
            "colorbar": {
             "outlinewidth": 0,
             "ticks": ""
            },
            "colorscale": [
             [
              0,
              "#0d0887"
             ],
             [
              0.1111111111111111,
              "#46039f"
             ],
             [
              0.2222222222222222,
              "#7201a8"
             ],
             [
              0.3333333333333333,
              "#9c179e"
             ],
             [
              0.4444444444444444,
              "#bd3786"
             ],
             [
              0.5555555555555556,
              "#d8576b"
             ],
             [
              0.6666666666666666,
              "#ed7953"
             ],
             [
              0.7777777777777778,
              "#fb9f3a"
             ],
             [
              0.8888888888888888,
              "#fdca26"
             ],
             [
              1,
              "#f0f921"
             ]
            ],
            "type": "surface"
           }
          ],
          "table": [
           {
            "cells": {
             "fill": {
              "color": "#EBF0F8"
             },
             "line": {
              "color": "white"
             }
            },
            "header": {
             "fill": {
              "color": "#C8D4E3"
             },
             "line": {
              "color": "white"
             }
            },
            "type": "table"
           }
          ]
         },
         "layout": {
          "annotationdefaults": {
           "arrowcolor": "#2a3f5f",
           "arrowhead": 0,
           "arrowwidth": 1
          },
          "autotypenumbers": "strict",
          "coloraxis": {
           "colorbar": {
            "outlinewidth": 0,
            "ticks": ""
           }
          },
          "colorscale": {
           "diverging": [
            [
             0,
             "#8e0152"
            ],
            [
             0.1,
             "#c51b7d"
            ],
            [
             0.2,
             "#de77ae"
            ],
            [
             0.3,
             "#f1b6da"
            ],
            [
             0.4,
             "#fde0ef"
            ],
            [
             0.5,
             "#f7f7f7"
            ],
            [
             0.6,
             "#e6f5d0"
            ],
            [
             0.7,
             "#b8e186"
            ],
            [
             0.8,
             "#7fbc41"
            ],
            [
             0.9,
             "#4d9221"
            ],
            [
             1,
             "#276419"
            ]
           ],
           "sequential": [
            [
             0,
             "#0d0887"
            ],
            [
             0.1111111111111111,
             "#46039f"
            ],
            [
             0.2222222222222222,
             "#7201a8"
            ],
            [
             0.3333333333333333,
             "#9c179e"
            ],
            [
             0.4444444444444444,
             "#bd3786"
            ],
            [
             0.5555555555555556,
             "#d8576b"
            ],
            [
             0.6666666666666666,
             "#ed7953"
            ],
            [
             0.7777777777777778,
             "#fb9f3a"
            ],
            [
             0.8888888888888888,
             "#fdca26"
            ],
            [
             1,
             "#f0f921"
            ]
           ],
           "sequentialminus": [
            [
             0,
             "#0d0887"
            ],
            [
             0.1111111111111111,
             "#46039f"
            ],
            [
             0.2222222222222222,
             "#7201a8"
            ],
            [
             0.3333333333333333,
             "#9c179e"
            ],
            [
             0.4444444444444444,
             "#bd3786"
            ],
            [
             0.5555555555555556,
             "#d8576b"
            ],
            [
             0.6666666666666666,
             "#ed7953"
            ],
            [
             0.7777777777777778,
             "#fb9f3a"
            ],
            [
             0.8888888888888888,
             "#fdca26"
            ],
            [
             1,
             "#f0f921"
            ]
           ]
          },
          "colorway": [
           "#636efa",
           "#EF553B",
           "#00cc96",
           "#ab63fa",
           "#FFA15A",
           "#19d3f3",
           "#FF6692",
           "#B6E880",
           "#FF97FF",
           "#FECB52"
          ],
          "font": {
           "color": "#2a3f5f"
          },
          "geo": {
           "bgcolor": "white",
           "lakecolor": "white",
           "landcolor": "#E5ECF6",
           "showlakes": true,
           "showland": true,
           "subunitcolor": "white"
          },
          "hoverlabel": {
           "align": "left"
          },
          "hovermode": "closest",
          "mapbox": {
           "style": "light"
          },
          "paper_bgcolor": "white",
          "plot_bgcolor": "#E5ECF6",
          "polar": {
           "angularaxis": {
            "gridcolor": "white",
            "linecolor": "white",
            "ticks": ""
           },
           "bgcolor": "#E5ECF6",
           "radialaxis": {
            "gridcolor": "white",
            "linecolor": "white",
            "ticks": ""
           }
          },
          "scene": {
           "xaxis": {
            "backgroundcolor": "#E5ECF6",
            "gridcolor": "white",
            "gridwidth": 2,
            "linecolor": "white",
            "showbackground": true,
            "ticks": "",
            "zerolinecolor": "white"
           },
           "yaxis": {
            "backgroundcolor": "#E5ECF6",
            "gridcolor": "white",
            "gridwidth": 2,
            "linecolor": "white",
            "showbackground": true,
            "ticks": "",
            "zerolinecolor": "white"
           },
           "zaxis": {
            "backgroundcolor": "#E5ECF6",
            "gridcolor": "white",
            "gridwidth": 2,
            "linecolor": "white",
            "showbackground": true,
            "ticks": "",
            "zerolinecolor": "white"
           }
          },
          "shapedefaults": {
           "line": {
            "color": "#2a3f5f"
           }
          },
          "ternary": {
           "aaxis": {
            "gridcolor": "white",
            "linecolor": "white",
            "ticks": ""
           },
           "baxis": {
            "gridcolor": "white",
            "linecolor": "white",
            "ticks": ""
           },
           "bgcolor": "#E5ECF6",
           "caxis": {
            "gridcolor": "white",
            "linecolor": "white",
            "ticks": ""
           }
          },
          "title": {
           "x": 0.05
          },
          "xaxis": {
           "automargin": true,
           "gridcolor": "white",
           "linecolor": "white",
           "ticks": "",
           "title": {
            "standoff": 15
           },
           "zerolinecolor": "white",
           "zerolinewidth": 2
          },
          "yaxis": {
           "automargin": true,
           "gridcolor": "white",
           "linecolor": "white",
           "ticks": "",
           "title": {
            "standoff": 15
           },
           "zerolinecolor": "white",
           "zerolinewidth": 2
          }
         }
        },
        "xaxis": {
         "anchor": "y",
         "domain": [
          0,
          0.15
         ],
         "title": {
          "text": "detection_tpr"
         }
        },
        "xaxis2": {
         "anchor": "y2",
         "domain": [
          0.16999999999999998,
          0.31999999999999995
         ],
         "matches": "x",
         "title": {
          "text": "detection_tpr"
         }
        },
        "xaxis3": {
         "anchor": "y3",
         "domain": [
          0.33999999999999997,
          0.49
         ],
         "matches": "x",
         "title": {
          "text": "detection_tpr"
         }
        },
        "xaxis4": {
         "anchor": "y4",
         "domain": [
          0.51,
          0.66
         ],
         "matches": "x",
         "title": {
          "text": "detection_tpr"
         }
        },
        "xaxis5": {
         "anchor": "y5",
         "domain": [
          0.6799999999999999,
          0.83
         ],
         "matches": "x",
         "title": {
          "text": "detection_tpr"
         }
        },
        "xaxis6": {
         "anchor": "y6",
         "domain": [
          0.85,
          1
         ],
         "matches": "x",
         "title": {
          "text": "detection_tpr"
         }
        },
        "yaxis": {
         "anchor": "x",
         "domain": [
          0,
          1
         ],
         "title": {
          "text": "utility_user"
         }
        },
        "yaxis2": {
         "anchor": "x2",
         "domain": [
          0,
          1
         ],
         "matches": "y",
         "showticklabels": false
        },
        "yaxis3": {
         "anchor": "x3",
         "domain": [
          0,
          1
         ],
         "matches": "y",
         "showticklabels": false
        },
        "yaxis4": {
         "anchor": "x4",
         "domain": [
          0,
          1
         ],
         "matches": "y",
         "showticklabels": false
        },
        "yaxis5": {
         "anchor": "x5",
         "domain": [
          0,
          1
         ],
         "matches": "y",
         "showticklabels": false
        },
        "yaxis6": {
         "anchor": "x6",
         "domain": [
          0,
          1
         ],
         "matches": "y",
         "showticklabels": false
        }
       }
      }
     },
     "metadata": {},
     "output_type": "display_data"
    }
   ],
   "source": [
    "px.line(\n",
    "    manipulation.sort(\"detection_tpr\").with_columns(\n",
    "        pl.col(\"utility_user_std\") / sqrt(5)\n",
    "    ),\n",
    "    x=\"detection_tpr\",\n",
    "    y=\"utility_user\",\n",
    "    error_y=\"utility_user_std\",\n",
    "    facet_col=\"strategy\",\n",
    "    color=\"strategy_json\",\n",
    ")"
   ]
  },
  {
   "cell_type": "markdown",
   "metadata": {},
   "source": [
    "# Compute cost for the platform"
   ]
  },
  {
   "cell_type": "code",
   "execution_count": 55,
   "metadata": {},
   "outputs": [
    {
     "data": {
      "application/vnd.plotly.v1+json": {
       "config": {
        "plotlyServerURL": "https://plot.ly"
       },
       "data": [
        {
         "alignmentgroup": "True",
         "hovertemplate": "phase=fit_time<br>strategy=%{x}<br>time=%{y}<extra></extra>",
         "legendgroup": "",
         "marker": {
          "color": "#636efa",
          "pattern": {
           "shape": ""
          }
         },
         "name": "",
         "offsetgroup": "",
         "orientation": "v",
         "showlegend": false,
         "textposition": "auto",
         "type": "bar",
         "x": [
          "always_yes",
          "always_no",
          "randomized_response",
          "honest",
          "model_swap",
          "ROC_mitigation"
         ],
         "xaxis": "x",
         "y": [
          0.3168699183598437,
          0.3227284968200911,
          0.33134894801396875,
          0.32734851759996675,
          0.9217787852401307,
          0.33469338935596155
         ],
         "yaxis": "y"
        },
        {
         "alignmentgroup": "True",
         "hovertemplate": "phase=inference_time<br>strategy=%{x}<br>time=%{y}<extra></extra>",
         "legendgroup": "",
         "marker": {
          "color": "#636efa",
          "pattern": {
           "shape": ""
          }
         },
         "name": "",
         "offsetgroup": "",
         "orientation": "v",
         "showlegend": false,
         "textposition": "auto",
         "type": "bar",
         "x": [
          "always_yes",
          "always_no",
          "randomized_response",
          "honest",
          "model_swap",
          "ROC_mitigation"
         ],
         "xaxis": "x2",
         "y": [
          0.051554318380040064,
          0.051633138559955105,
          0.05396763288201692,
          0.051442233559937454,
          0.06778119258007792,
          0.05495269988802829
         ],
         "yaxis": "y2"
        }
       ],
       "layout": {
        "annotations": [
         {
          "font": {},
          "showarrow": false,
          "text": "phase=fit_time",
          "x": 0.245,
          "xanchor": "center",
          "xref": "paper",
          "y": 1,
          "yanchor": "bottom",
          "yref": "paper"
         },
         {
          "font": {},
          "showarrow": false,
          "text": "phase=inference_time",
          "x": 0.755,
          "xanchor": "center",
          "xref": "paper",
          "y": 1,
          "yanchor": "bottom",
          "yref": "paper"
         }
        ],
        "barmode": "relative",
        "legend": {
         "tracegroupgap": 0
        },
        "margin": {
         "t": 60
        },
        "template": {
         "data": {
          "bar": [
           {
            "error_x": {
             "color": "#2a3f5f"
            },
            "error_y": {
             "color": "#2a3f5f"
            },
            "marker": {
             "line": {
              "color": "#E5ECF6",
              "width": 0.5
             },
             "pattern": {
              "fillmode": "overlay",
              "size": 10,
              "solidity": 0.2
             }
            },
            "type": "bar"
           }
          ],
          "barpolar": [
           {
            "marker": {
             "line": {
              "color": "#E5ECF6",
              "width": 0.5
             },
             "pattern": {
              "fillmode": "overlay",
              "size": 10,
              "solidity": 0.2
             }
            },
            "type": "barpolar"
           }
          ],
          "carpet": [
           {
            "aaxis": {
             "endlinecolor": "#2a3f5f",
             "gridcolor": "white",
             "linecolor": "white",
             "minorgridcolor": "white",
             "startlinecolor": "#2a3f5f"
            },
            "baxis": {
             "endlinecolor": "#2a3f5f",
             "gridcolor": "white",
             "linecolor": "white",
             "minorgridcolor": "white",
             "startlinecolor": "#2a3f5f"
            },
            "type": "carpet"
           }
          ],
          "choropleth": [
           {
            "colorbar": {
             "outlinewidth": 0,
             "ticks": ""
            },
            "type": "choropleth"
           }
          ],
          "contour": [
           {
            "colorbar": {
             "outlinewidth": 0,
             "ticks": ""
            },
            "colorscale": [
             [
              0,
              "#0d0887"
             ],
             [
              0.1111111111111111,
              "#46039f"
             ],
             [
              0.2222222222222222,
              "#7201a8"
             ],
             [
              0.3333333333333333,
              "#9c179e"
             ],
             [
              0.4444444444444444,
              "#bd3786"
             ],
             [
              0.5555555555555556,
              "#d8576b"
             ],
             [
              0.6666666666666666,
              "#ed7953"
             ],
             [
              0.7777777777777778,
              "#fb9f3a"
             ],
             [
              0.8888888888888888,
              "#fdca26"
             ],
             [
              1,
              "#f0f921"
             ]
            ],
            "type": "contour"
           }
          ],
          "contourcarpet": [
           {
            "colorbar": {
             "outlinewidth": 0,
             "ticks": ""
            },
            "type": "contourcarpet"
           }
          ],
          "heatmap": [
           {
            "colorbar": {
             "outlinewidth": 0,
             "ticks": ""
            },
            "colorscale": [
             [
              0,
              "#0d0887"
             ],
             [
              0.1111111111111111,
              "#46039f"
             ],
             [
              0.2222222222222222,
              "#7201a8"
             ],
             [
              0.3333333333333333,
              "#9c179e"
             ],
             [
              0.4444444444444444,
              "#bd3786"
             ],
             [
              0.5555555555555556,
              "#d8576b"
             ],
             [
              0.6666666666666666,
              "#ed7953"
             ],
             [
              0.7777777777777778,
              "#fb9f3a"
             ],
             [
              0.8888888888888888,
              "#fdca26"
             ],
             [
              1,
              "#f0f921"
             ]
            ],
            "type": "heatmap"
           }
          ],
          "heatmapgl": [
           {
            "colorbar": {
             "outlinewidth": 0,
             "ticks": ""
            },
            "colorscale": [
             [
              0,
              "#0d0887"
             ],
             [
              0.1111111111111111,
              "#46039f"
             ],
             [
              0.2222222222222222,
              "#7201a8"
             ],
             [
              0.3333333333333333,
              "#9c179e"
             ],
             [
              0.4444444444444444,
              "#bd3786"
             ],
             [
              0.5555555555555556,
              "#d8576b"
             ],
             [
              0.6666666666666666,
              "#ed7953"
             ],
             [
              0.7777777777777778,
              "#fb9f3a"
             ],
             [
              0.8888888888888888,
              "#fdca26"
             ],
             [
              1,
              "#f0f921"
             ]
            ],
            "type": "heatmapgl"
           }
          ],
          "histogram": [
           {
            "marker": {
             "pattern": {
              "fillmode": "overlay",
              "size": 10,
              "solidity": 0.2
             }
            },
            "type": "histogram"
           }
          ],
          "histogram2d": [
           {
            "colorbar": {
             "outlinewidth": 0,
             "ticks": ""
            },
            "colorscale": [
             [
              0,
              "#0d0887"
             ],
             [
              0.1111111111111111,
              "#46039f"
             ],
             [
              0.2222222222222222,
              "#7201a8"
             ],
             [
              0.3333333333333333,
              "#9c179e"
             ],
             [
              0.4444444444444444,
              "#bd3786"
             ],
             [
              0.5555555555555556,
              "#d8576b"
             ],
             [
              0.6666666666666666,
              "#ed7953"
             ],
             [
              0.7777777777777778,
              "#fb9f3a"
             ],
             [
              0.8888888888888888,
              "#fdca26"
             ],
             [
              1,
              "#f0f921"
             ]
            ],
            "type": "histogram2d"
           }
          ],
          "histogram2dcontour": [
           {
            "colorbar": {
             "outlinewidth": 0,
             "ticks": ""
            },
            "colorscale": [
             [
              0,
              "#0d0887"
             ],
             [
              0.1111111111111111,
              "#46039f"
             ],
             [
              0.2222222222222222,
              "#7201a8"
             ],
             [
              0.3333333333333333,
              "#9c179e"
             ],
             [
              0.4444444444444444,
              "#bd3786"
             ],
             [
              0.5555555555555556,
              "#d8576b"
             ],
             [
              0.6666666666666666,
              "#ed7953"
             ],
             [
              0.7777777777777778,
              "#fb9f3a"
             ],
             [
              0.8888888888888888,
              "#fdca26"
             ],
             [
              1,
              "#f0f921"
             ]
            ],
            "type": "histogram2dcontour"
           }
          ],
          "mesh3d": [
           {
            "colorbar": {
             "outlinewidth": 0,
             "ticks": ""
            },
            "type": "mesh3d"
           }
          ],
          "parcoords": [
           {
            "line": {
             "colorbar": {
              "outlinewidth": 0,
              "ticks": ""
             }
            },
            "type": "parcoords"
           }
          ],
          "pie": [
           {
            "automargin": true,
            "type": "pie"
           }
          ],
          "scatter": [
           {
            "fillpattern": {
             "fillmode": "overlay",
             "size": 10,
             "solidity": 0.2
            },
            "type": "scatter"
           }
          ],
          "scatter3d": [
           {
            "line": {
             "colorbar": {
              "outlinewidth": 0,
              "ticks": ""
             }
            },
            "marker": {
             "colorbar": {
              "outlinewidth": 0,
              "ticks": ""
             }
            },
            "type": "scatter3d"
           }
          ],
          "scattercarpet": [
           {
            "marker": {
             "colorbar": {
              "outlinewidth": 0,
              "ticks": ""
             }
            },
            "type": "scattercarpet"
           }
          ],
          "scattergeo": [
           {
            "marker": {
             "colorbar": {
              "outlinewidth": 0,
              "ticks": ""
             }
            },
            "type": "scattergeo"
           }
          ],
          "scattergl": [
           {
            "marker": {
             "colorbar": {
              "outlinewidth": 0,
              "ticks": ""
             }
            },
            "type": "scattergl"
           }
          ],
          "scattermapbox": [
           {
            "marker": {
             "colorbar": {
              "outlinewidth": 0,
              "ticks": ""
             }
            },
            "type": "scattermapbox"
           }
          ],
          "scatterpolar": [
           {
            "marker": {
             "colorbar": {
              "outlinewidth": 0,
              "ticks": ""
             }
            },
            "type": "scatterpolar"
           }
          ],
          "scatterpolargl": [
           {
            "marker": {
             "colorbar": {
              "outlinewidth": 0,
              "ticks": ""
             }
            },
            "type": "scatterpolargl"
           }
          ],
          "scatterternary": [
           {
            "marker": {
             "colorbar": {
              "outlinewidth": 0,
              "ticks": ""
             }
            },
            "type": "scatterternary"
           }
          ],
          "surface": [
           {
            "colorbar": {
             "outlinewidth": 0,
             "ticks": ""
            },
            "colorscale": [
             [
              0,
              "#0d0887"
             ],
             [
              0.1111111111111111,
              "#46039f"
             ],
             [
              0.2222222222222222,
              "#7201a8"
             ],
             [
              0.3333333333333333,
              "#9c179e"
             ],
             [
              0.4444444444444444,
              "#bd3786"
             ],
             [
              0.5555555555555556,
              "#d8576b"
             ],
             [
              0.6666666666666666,
              "#ed7953"
             ],
             [
              0.7777777777777778,
              "#fb9f3a"
             ],
             [
              0.8888888888888888,
              "#fdca26"
             ],
             [
              1,
              "#f0f921"
             ]
            ],
            "type": "surface"
           }
          ],
          "table": [
           {
            "cells": {
             "fill": {
              "color": "#EBF0F8"
             },
             "line": {
              "color": "white"
             }
            },
            "header": {
             "fill": {
              "color": "#C8D4E3"
             },
             "line": {
              "color": "white"
             }
            },
            "type": "table"
           }
          ]
         },
         "layout": {
          "annotationdefaults": {
           "arrowcolor": "#2a3f5f",
           "arrowhead": 0,
           "arrowwidth": 1
          },
          "autotypenumbers": "strict",
          "coloraxis": {
           "colorbar": {
            "outlinewidth": 0,
            "ticks": ""
           }
          },
          "colorscale": {
           "diverging": [
            [
             0,
             "#8e0152"
            ],
            [
             0.1,
             "#c51b7d"
            ],
            [
             0.2,
             "#de77ae"
            ],
            [
             0.3,
             "#f1b6da"
            ],
            [
             0.4,
             "#fde0ef"
            ],
            [
             0.5,
             "#f7f7f7"
            ],
            [
             0.6,
             "#e6f5d0"
            ],
            [
             0.7,
             "#b8e186"
            ],
            [
             0.8,
             "#7fbc41"
            ],
            [
             0.9,
             "#4d9221"
            ],
            [
             1,
             "#276419"
            ]
           ],
           "sequential": [
            [
             0,
             "#0d0887"
            ],
            [
             0.1111111111111111,
             "#46039f"
            ],
            [
             0.2222222222222222,
             "#7201a8"
            ],
            [
             0.3333333333333333,
             "#9c179e"
            ],
            [
             0.4444444444444444,
             "#bd3786"
            ],
            [
             0.5555555555555556,
             "#d8576b"
            ],
            [
             0.6666666666666666,
             "#ed7953"
            ],
            [
             0.7777777777777778,
             "#fb9f3a"
            ],
            [
             0.8888888888888888,
             "#fdca26"
            ],
            [
             1,
             "#f0f921"
            ]
           ],
           "sequentialminus": [
            [
             0,
             "#0d0887"
            ],
            [
             0.1111111111111111,
             "#46039f"
            ],
            [
             0.2222222222222222,
             "#7201a8"
            ],
            [
             0.3333333333333333,
             "#9c179e"
            ],
            [
             0.4444444444444444,
             "#bd3786"
            ],
            [
             0.5555555555555556,
             "#d8576b"
            ],
            [
             0.6666666666666666,
             "#ed7953"
            ],
            [
             0.7777777777777778,
             "#fb9f3a"
            ],
            [
             0.8888888888888888,
             "#fdca26"
            ],
            [
             1,
             "#f0f921"
            ]
           ]
          },
          "colorway": [
           "#636efa",
           "#EF553B",
           "#00cc96",
           "#ab63fa",
           "#FFA15A",
           "#19d3f3",
           "#FF6692",
           "#B6E880",
           "#FF97FF",
           "#FECB52"
          ],
          "font": {
           "color": "#2a3f5f"
          },
          "geo": {
           "bgcolor": "white",
           "lakecolor": "white",
           "landcolor": "#E5ECF6",
           "showlakes": true,
           "showland": true,
           "subunitcolor": "white"
          },
          "hoverlabel": {
           "align": "left"
          },
          "hovermode": "closest",
          "mapbox": {
           "style": "light"
          },
          "paper_bgcolor": "white",
          "plot_bgcolor": "#E5ECF6",
          "polar": {
           "angularaxis": {
            "gridcolor": "white",
            "linecolor": "white",
            "ticks": ""
           },
           "bgcolor": "#E5ECF6",
           "radialaxis": {
            "gridcolor": "white",
            "linecolor": "white",
            "ticks": ""
           }
          },
          "scene": {
           "xaxis": {
            "backgroundcolor": "#E5ECF6",
            "gridcolor": "white",
            "gridwidth": 2,
            "linecolor": "white",
            "showbackground": true,
            "ticks": "",
            "zerolinecolor": "white"
           },
           "yaxis": {
            "backgroundcolor": "#E5ECF6",
            "gridcolor": "white",
            "gridwidth": 2,
            "linecolor": "white",
            "showbackground": true,
            "ticks": "",
            "zerolinecolor": "white"
           },
           "zaxis": {
            "backgroundcolor": "#E5ECF6",
            "gridcolor": "white",
            "gridwidth": 2,
            "linecolor": "white",
            "showbackground": true,
            "ticks": "",
            "zerolinecolor": "white"
           }
          },
          "shapedefaults": {
           "line": {
            "color": "#2a3f5f"
           }
          },
          "ternary": {
           "aaxis": {
            "gridcolor": "white",
            "linecolor": "white",
            "ticks": ""
           },
           "baxis": {
            "gridcolor": "white",
            "linecolor": "white",
            "ticks": ""
           },
           "bgcolor": "#E5ECF6",
           "caxis": {
            "gridcolor": "white",
            "linecolor": "white",
            "ticks": ""
           }
          },
          "title": {
           "x": 0.05
          },
          "xaxis": {
           "automargin": true,
           "gridcolor": "white",
           "linecolor": "white",
           "ticks": "",
           "title": {
            "standoff": 15
           },
           "zerolinecolor": "white",
           "zerolinewidth": 2
          },
          "yaxis": {
           "automargin": true,
           "gridcolor": "white",
           "linecolor": "white",
           "ticks": "",
           "title": {
            "standoff": 15
           },
           "zerolinecolor": "white",
           "zerolinewidth": 2
          }
         }
        },
        "xaxis": {
         "anchor": "y",
         "domain": [
          0,
          0.49
         ],
         "title": {
          "text": "strategy"
         }
        },
        "xaxis2": {
         "anchor": "y2",
         "domain": [
          0.51,
          1
         ],
         "matches": "x",
         "title": {
          "text": "strategy"
         }
        },
        "yaxis": {
         "anchor": "x",
         "domain": [
          0,
          1
         ],
         "title": {
          "text": "time"
         }
        },
        "yaxis2": {
         "anchor": "x2",
         "domain": [
          0,
          1
         ],
         "matches": "y",
         "showticklabels": false
        }
       }
      }
     },
     "metadata": {},
     "output_type": "display_data"
    }
   ],
   "source": [
    "px.bar(\n",
    "    manipulation.group_by(\"strategy\")\n",
    "    .mean()\n",
    "    .unpivot(\n",
    "        index=\"strategy\",\n",
    "        on=[\"fit_time\", \"inference_time\"],\n",
    "        value_name=\"time\",\n",
    "        variable_name=\"phase\",\n",
    "    ),\n",
    "    x=\"strategy\",\n",
    "    y=\"time\",\n",
    "    facet_col=\"phase\",\n",
    "    # color=\"strategy_json\",\n",
    "    # barmode=\"group\",\n",
    ")"
   ]
  },
  {
   "cell_type": "markdown",
   "metadata": {},
   "source": [
    "# Finding datasets with the largest base rate difference"
   ]
  },
  {
   "cell_type": "code",
   "execution_count": 56,
   "metadata": {},
   "outputs": [],
   "source": [
    "base_rate = pl.read_ndjson(\"../generated/disparities.jsonl\")"
   ]
  },
  {
   "cell_type": "code",
   "execution_count": 57,
   "metadata": {},
   "outputs": [
    {
     "data": {
      "application/vnd.plotly.v1+json": {
       "config": {
        "plotlyServerURL": "https://plot.ly"
       },
       "data": [
        {
         "customdata": [
          [
           47793
          ],
          [
           47476
          ],
          [
           47659
          ],
          [
           47645
          ],
          [
           47777
          ],
          [
           48928
          ],
          [
           49647
          ],
          [
           51580
          ]
         ],
         "hovertemplate": "state=AL<br>group=SEX<br>year=%{x}<br>base_rate=%{y}<br>len=%{customdata[0]}<extra></extra>",
         "legendgroup": "AL",
         "line": {
          "color": "#636efa",
          "dash": "solid"
         },
         "marker": {
          "symbol": "circle"
         },
         "mode": "lines",
         "name": "AL",
         "showlegend": true,
         "type": "scattergl",
         "x": [
          2014,
          2015,
          2016,
          2017,
          2018,
          2019,
          2021,
          2022
         ],
         "xaxis": "x",
         "y": [
          0.06609529720683693,
          0.06524492383775216,
          0.05423545423592835,
          0.06300935407615921,
          0.07051463367952776,
          0.0652161339221346,
          0.058624471930481425,
          0.057314617758041475
         ],
         "yaxis": "y"
        },
        {
         "customdata": [
          [
           47793
          ],
          [
           47476
          ],
          [
           47659
          ],
          [
           47645
          ],
          [
           47777
          ],
          [
           48928
          ],
          [
           49647
          ],
          [
           51580
          ]
         ],
         "hovertemplate": "state=AL<br>group=RAC1P<br>year=%{x}<br>base_rate=%{y}<br>len=%{customdata[0]}<extra></extra>",
         "legendgroup": "AL",
         "line": {
          "color": "#636efa",
          "dash": "solid"
         },
         "marker": {
          "symbol": "circle"
         },
         "mode": "lines",
         "name": "AL",
         "showlegend": false,
         "type": "scattergl",
         "x": [
          2014,
          2015,
          2016,
          2017,
          2018,
          2019,
          2021,
          2022
         ],
         "xaxis": "x2",
         "y": [
          0.21330589849108367,
          0.19531425996846136,
          0.2559607293127629,
          0.22472594397076734,
          0.7692307692307692,
          0.2608695652173913,
          0.5625,
          0.2272019634059232
         ],
         "yaxis": "y2"
        },
        {
         "customdata": [
          [
           47793
          ],
          [
           47476
          ],
          [
           47659
          ],
          [
           47645
          ],
          [
           47777
          ],
          [
           48928
          ],
          [
           49647
          ],
          [
           51580
          ]
         ],
         "hovertemplate": "state=AL<br>group=AGEP<br>year=%{x}<br>base_rate=%{y}<br>len=%{customdata[0]}<extra></extra>",
         "legendgroup": "AL",
         "line": {
          "color": "#636efa",
          "dash": "solid"
         },
         "marker": {
          "symbol": "circle"
         },
         "mode": "lines",
         "name": "AL",
         "showlegend": false,
         "type": "scattergl",
         "x": [
          2014,
          2015,
          2016,
          2017,
          2018,
          2019,
          2021,
          2022
         ],
         "xaxis": "x3",
         "y": [
          0.7403314917127072,
          0.7236421725239617,
          0.79,
          0.7649325626204239,
          0.7548262548262549,
          0.7766990291262136,
          0.7560581583198708,
          0.8080438756855576
         ],
         "yaxis": "y3"
        },
        {
         "customdata": [
          [
           6787
          ],
          [
           6619
          ],
          [
           6815
          ],
          [
           6746
          ],
          [
           6711
          ],
          [
           6663
          ],
          [
           6411
          ],
          [
           6972
          ]
         ],
         "hovertemplate": "state=AK<br>group=SEX<br>year=%{x}<br>base_rate=%{y}<br>len=%{customdata[0]}<extra></extra>",
         "legendgroup": "AK",
         "line": {
          "color": "#EF553B",
          "dash": "solid"
         },
         "marker": {
          "symbol": "circle"
         },
         "mode": "lines",
         "name": "AK",
         "showlegend": true,
         "type": "scattergl",
         "x": [
          2014,
          2015,
          2016,
          2017,
          2018,
          2019,
          2021,
          2022
         ],
         "xaxis": "x",
         "y": [
          0.008411813151290082,
          0.011945988167284316,
          0.011906918315522541,
          0.001297383054219281,
          0.014967923970144237,
          0.03202625597589048,
          0.0034907653699663976,
          0.01221965148079418
         ],
         "yaxis": "y"
        },
        {
         "customdata": [
          [
           6787
          ],
          [
           6619
          ],
          [
           6815
          ],
          [
           6746
          ],
          [
           6711
          ],
          [
           6663
          ],
          [
           6411
          ],
          [
           6972
          ]
         ],
         "hovertemplate": "state=AK<br>group=RAC1P<br>year=%{x}<br>base_rate=%{y}<br>len=%{customdata[0]}<extra></extra>",
         "legendgroup": "AK",
         "line": {
          "color": "#EF553B",
          "dash": "solid"
         },
         "marker": {
          "symbol": "circle"
         },
         "mode": "lines",
         "name": "AK",
         "showlegend": false,
         "type": "scattergl",
         "x": [
          2014,
          2015,
          2016,
          2017,
          2018,
          2019,
          2021,
          2022
         ],
         "xaxis": "x2",
         "y": [
          0.3136727816940008,
          0.3086655526378611,
          0.364407421431276,
          0.3067552602436323,
          0.3891072431218417,
          0.3398755268058414,
          0.24812646370023422,
          0.3160377358490566
         ],
         "yaxis": "y2"
        },
        {
         "customdata": [
          [
           6787
          ],
          [
           6619
          ],
          [
           6815
          ],
          [
           6746
          ],
          [
           6711
          ],
          [
           6663
          ],
          [
           6411
          ],
          [
           6972
          ]
         ],
         "hovertemplate": "state=AK<br>group=AGEP<br>year=%{x}<br>base_rate=%{y}<br>len=%{customdata[0]}<extra></extra>",
         "legendgroup": "AK",
         "line": {
          "color": "#EF553B",
          "dash": "solid"
         },
         "marker": {
          "symbol": "circle"
         },
         "mode": "lines",
         "name": "AK",
         "showlegend": false,
         "type": "scattergl",
         "x": [
          2014,
          2015,
          2016,
          2017,
          2018,
          2019,
          2021,
          2022
         ],
         "xaxis": "x3",
         "y": [
          0.7808219178082192,
          0.8076923076923077,
          0.8072289156626506,
          0.8076923076923077,
          0.8846153846153846,
          0.8378378378378378,
          0.8245614035087719,
          0.7808219178082192
         ],
         "yaxis": "y3"
        },
        {
         "customdata": [
          [
           66177
          ],
          [
           67014
          ],
          [
           68398
          ],
          [
           68863
          ],
          [
           69990
          ],
          [
           70872
          ],
          [
           73025
          ],
          [
           74153
          ]
         ],
         "hovertemplate": "state=AZ<br>group=SEX<br>year=%{x}<br>base_rate=%{y}<br>len=%{customdata[0]}<extra></extra>",
         "legendgroup": "AZ",
         "line": {
          "color": "#00cc96",
          "dash": "solid"
         },
         "marker": {
          "symbol": "circle"
         },
         "mode": "lines",
         "name": "AZ",
         "showlegend": true,
         "type": "scattergl",
         "x": [
          2014,
          2015,
          2016,
          2017,
          2018,
          2019,
          2021,
          2022
         ],
         "xaxis": "x",
         "y": [
          0.05517079245282397,
          0.05134938044854637,
          0.0490898901738786,
          0.05493471714432674,
          0.0489853638788863,
          0.048046044615747074,
          0.05316512842413734,
          0.05599270946409113
         ],
         "yaxis": "y"
        },
        {
         "customdata": [
          [
           66177
          ],
          [
           67014
          ],
          [
           68398
          ],
          [
           68863
          ],
          [
           69990
          ],
          [
           70872
          ],
          [
           73025
          ],
          [
           74153
          ]
         ],
         "hovertemplate": "state=AZ<br>group=RAC1P<br>year=%{x}<br>base_rate=%{y}<br>len=%{customdata[0]}<extra></extra>",
         "legendgroup": "AZ",
         "line": {
          "color": "#00cc96",
          "dash": "solid"
         },
         "marker": {
          "symbol": "circle"
         },
         "mode": "lines",
         "name": "AZ",
         "showlegend": false,
         "type": "scattergl",
         "x": [
          2014,
          2015,
          2016,
          2017,
          2018,
          2019,
          2021,
          2022
         ],
         "xaxis": "x2",
         "y": [
          0.20829876667802938,
          0.2868398106626806,
          0.35459377372817014,
          0.28633651045054725,
          0.22320665492278724,
          0.27261369979532707,
          0.2738658777120315,
          0.33589688041594457
         ],
         "yaxis": "y2"
        },
        {
         "customdata": [
          [
           66177
          ],
          [
           67014
          ],
          [
           68398
          ],
          [
           68863
          ],
          [
           69990
          ],
          [
           70872
          ],
          [
           73025
          ],
          [
           74153
          ]
         ],
         "hovertemplate": "state=AZ<br>group=AGEP<br>year=%{x}<br>base_rate=%{y}<br>len=%{customdata[0]}<extra></extra>",
         "legendgroup": "AZ",
         "line": {
          "color": "#00cc96",
          "dash": "solid"
         },
         "marker": {
          "symbol": "circle"
         },
         "mode": "lines",
         "name": "AZ",
         "showlegend": false,
         "type": "scattergl",
         "x": [
          2014,
          2015,
          2016,
          2017,
          2018,
          2019,
          2021,
          2022
         ],
         "xaxis": "x3",
         "y": [
          0.7471910112359551,
          0.7512886597938144,
          0.7557436517533253,
          0.7523553162853297,
          0.7762982689747004,
          0.7779141104294478,
          0.7571265678449259,
          0.7736720554272517
         ],
         "yaxis": "y3"
        },
        {
         "customdata": [
          [
           29369
          ],
          [
           29605
          ],
          [
           29599
          ],
          [
           30021
          ],
          [
           30503
          ],
          [
           30403
          ],
          [
           30050
          ],
          [
           31288
          ]
         ],
         "hovertemplate": "state=AR<br>group=SEX<br>year=%{x}<br>base_rate=%{y}<br>len=%{customdata[0]}<extra></extra>",
         "legendgroup": "AR",
         "line": {
          "color": "#ab63fa",
          "dash": "solid"
         },
         "marker": {
          "symbol": "circle"
         },
         "mode": "lines",
         "name": "AR",
         "showlegend": true,
         "type": "scattergl",
         "x": [
          2014,
          2015,
          2016,
          2017,
          2018,
          2019,
          2021,
          2022
         ],
         "xaxis": "x",
         "y": [
          0.0648871264324497,
          0.0518633245071663,
          0.047762658732816266,
          0.04166889161373749,
          0.05568380429160352,
          0.04358986527497577,
          0.047000883967460494,
          0.04398193513354243
         ],
         "yaxis": "y"
        },
        {
         "customdata": [
          [
           29369
          ],
          [
           29605
          ],
          [
           29599
          ],
          [
           30021
          ],
          [
           30503
          ],
          [
           30403
          ],
          [
           30050
          ],
          [
           31288
          ]
         ],
         "hovertemplate": "state=AR<br>group=RAC1P<br>year=%{x}<br>base_rate=%{y}<br>len=%{customdata[0]}<extra></extra>",
         "legendgroup": "AR",
         "line": {
          "color": "#ab63fa",
          "dash": "solid"
         },
         "marker": {
          "symbol": "circle"
         },
         "mode": "lines",
         "name": "AR",
         "showlegend": false,
         "type": "scattergl",
         "x": [
          2014,
          2015,
          2016,
          2017,
          2018,
          2019,
          2021,
          2022
         ],
         "xaxis": "x2",
         "y": [
          0.19323835368611486,
          0.49710982658959535,
          0.4728434504792332,
          0.20527213301122638,
          0.24818169342665014,
          0.8378378378378378,
          0.7317073170731707,
          0.37053571428571425
         ],
         "yaxis": "y2"
        },
        {
         "customdata": [
          [
           29369
          ],
          [
           29605
          ],
          [
           29599
          ],
          [
           30021
          ],
          [
           30503
          ],
          [
           30403
          ],
          [
           30050
          ],
          [
           31288
          ]
         ],
         "hovertemplate": "state=AR<br>group=AGEP<br>year=%{x}<br>base_rate=%{y}<br>len=%{customdata[0]}<extra></extra>",
         "legendgroup": "AR",
         "line": {
          "color": "#ab63fa",
          "dash": "solid"
         },
         "marker": {
          "symbol": "circle"
         },
         "mode": "lines",
         "name": "AR",
         "showlegend": false,
         "type": "scattergl",
         "x": [
          2014,
          2015,
          2016,
          2017,
          2018,
          2019,
          2021,
          2022
         ],
         "xaxis": "x3",
         "y": [
          0.7755775577557755,
          0.7617728531855956,
          0.7728706624605678,
          0.760989010989011,
          0.7987616099071208,
          0.7801204819277109,
          0.7628205128205128,
          0.775
         ],
         "yaxis": "y3"
        },
        {
         "customdata": [
          [
           372553
          ],
          [
           374943
          ],
          [
           376035
          ],
          [
           377575
          ],
          [
           378817
          ],
          [
           380091
          ],
          [
           386061
          ],
          [
           391171
          ]
         ],
         "hovertemplate": "state=CA<br>group=SEX<br>year=%{x}<br>base_rate=%{y}<br>len=%{customdata[0]}<extra></extra>",
         "legendgroup": "CA",
         "line": {
          "color": "#FFA15A",
          "dash": "solid"
         },
         "marker": {
          "symbol": "circle"
         },
         "mode": "lines",
         "name": "CA",
         "showlegend": true,
         "type": "scattergl",
         "x": [
          2014,
          2015,
          2016,
          2017,
          2018,
          2019,
          2021,
          2022
         ],
         "xaxis": "x",
         "y": [
          0.07389911412493577,
          0.07191872341420652,
          0.07137077570502254,
          0.07058668402751828,
          0.06826366074613516,
          0.07037769542516437,
          0.06683018902538901,
          0.06265312710231852
         ],
         "yaxis": "y"
        },
        {
         "customdata": [
          [
           372553
          ],
          [
           374943
          ],
          [
           376035
          ],
          [
           377575
          ],
          [
           378817
          ],
          [
           380091
          ],
          [
           386061
          ],
          [
           391171
          ]
         ],
         "hovertemplate": "state=CA<br>group=RAC1P<br>year=%{x}<br>base_rate=%{y}<br>len=%{customdata[0]}<extra></extra>",
         "legendgroup": "CA",
         "line": {
          "color": "#FFA15A",
          "dash": "solid"
         },
         "marker": {
          "symbol": "circle"
         },
         "mode": "lines",
         "name": "CA",
         "showlegend": false,
         "type": "scattergl",
         "x": [
          2014,
          2015,
          2016,
          2017,
          2018,
          2019,
          2021,
          2022
         ],
         "xaxis": "x2",
         "y": [
          0.19095602172486698,
          0.13540775622660606,
          0.1262962463324055,
          0.1328177073461369,
          0.17397796671057358,
          0.1487516054397699,
          0.13494505494505493,
          0.2690646823870896
         ],
         "yaxis": "y2"
        },
        {
         "customdata": [
          [
           372553
          ],
          [
           374943
          ],
          [
           376035
          ],
          [
           377575
          ],
          [
           378817
          ],
          [
           380091
          ],
          [
           386061
          ],
          [
           391171
          ]
         ],
         "hovertemplate": "state=CA<br>group=AGEP<br>year=%{x}<br>base_rate=%{y}<br>len=%{customdata[0]}<extra></extra>",
         "legendgroup": "CA",
         "line": {
          "color": "#FFA15A",
          "dash": "solid"
         },
         "marker": {
          "symbol": "circle"
         },
         "mode": "lines",
         "name": "CA",
         "showlegend": false,
         "type": "scattergl",
         "x": [
          2014,
          2015,
          2016,
          2017,
          2018,
          2019,
          2021,
          2022
         ],
         "xaxis": "x3",
         "y": [
          0.7345431525638321,
          0.7435691318327974,
          0.7589732434196215,
          0.7659714599341383,
          0.7623235362184679,
          0.7838654012079379,
          0.7441453272050776,
          0.7623231890270039
         ],
         "yaxis": "y3"
        },
        {
         "customdata": [
          [
           52929
          ],
          [
           53570
          ],
          [
           54571
          ],
          [
           55600
          ],
          [
           55928
          ],
          [
           57142
          ],
          [
           58131
          ],
          [
           59841
          ]
         ],
         "hovertemplate": "state=CO<br>group=SEX<br>year=%{x}<br>base_rate=%{y}<br>len=%{customdata[0]}<extra></extra>",
         "legendgroup": "CO",
         "line": {
          "color": "#19d3f3",
          "dash": "solid"
         },
         "marker": {
          "symbol": "circle"
         },
         "mode": "lines",
         "name": "CO",
         "showlegend": true,
         "type": "scattergl",
         "x": [
          2014,
          2015,
          2016,
          2017,
          2018,
          2019,
          2021,
          2022
         ],
         "xaxis": "x",
         "y": [
          0.05568378360573101,
          0.0645251127995618,
          0.06224895759767357,
          0.06369267231201953,
          0.062208085033574556,
          0.05794887239482105,
          0.050927212827247215,
          0.045073254096568094
         ],
         "yaxis": "y"
        },
        {
         "customdata": [
          [
           52929
          ],
          [
           53570
          ],
          [
           54571
          ],
          [
           55600
          ],
          [
           55928
          ],
          [
           57142
          ],
          [
           58131
          ],
          [
           59841
          ]
         ],
         "hovertemplate": "state=CO<br>group=RAC1P<br>year=%{x}<br>base_rate=%{y}<br>len=%{customdata[0]}<extra></extra>",
         "legendgroup": "CO",
         "line": {
          "color": "#19d3f3",
          "dash": "solid"
         },
         "marker": {
          "symbol": "circle"
         },
         "mode": "lines",
         "name": "CO",
         "showlegend": false,
         "type": "scattergl",
         "x": [
          2014,
          2015,
          2016,
          2017,
          2018,
          2019,
          2021,
          2022
         ],
         "xaxis": "x2",
         "y": [
          0.5301974448315911,
          0.1509376890502117,
          0.26074600355239785,
          0.2637087491110117,
          0.1489656812237457,
          0.3136363636363636,
          0.1709319975713418,
          0.5463008329250367
         ],
         "yaxis": "y2"
        },
        {
         "customdata": [
          [
           52929
          ],
          [
           53570
          ],
          [
           54571
          ],
          [
           55600
          ],
          [
           55928
          ],
          [
           57142
          ],
          [
           58131
          ],
          [
           59841
          ]
         ],
         "hovertemplate": "state=CO<br>group=AGEP<br>year=%{x}<br>base_rate=%{y}<br>len=%{customdata[0]}<extra></extra>",
         "legendgroup": "CO",
         "line": {
          "color": "#19d3f3",
          "dash": "solid"
         },
         "marker": {
          "symbol": "circle"
         },
         "mode": "lines",
         "name": "CO",
         "showlegend": false,
         "type": "scattergl",
         "x": [
          2014,
          2015,
          2016,
          2017,
          2018,
          2019,
          2021,
          2022
         ],
         "xaxis": "x3",
         "y": [
          0.8269794721407625,
          0.8336025848142165,
          0.8286479250334672,
          0.8340026773761714,
          0.8358620689655173,
          0.8470948012232415,
          0.8067700987306065,
          0.8231780167264038
         ],
         "yaxis": "y3"
        },
        {
         "customdata": [
          [
           35985
          ],
          [
           35787
          ],
          [
           35657
          ],
          [
           35978
          ],
          [
           36287
          ],
          [
           35578
          ],
          [
           36665
          ],
          [
           37369
          ]
         ],
         "hovertemplate": "state=CT<br>group=SEX<br>year=%{x}<br>base_rate=%{y}<br>len=%{customdata[0]}<extra></extra>",
         "legendgroup": "CT",
         "line": {
          "color": "#FF6692",
          "dash": "solid"
         },
         "marker": {
          "symbol": "circle"
         },
         "mode": "lines",
         "name": "CT",
         "showlegend": true,
         "type": "scattergl",
         "x": [
          2014,
          2015,
          2016,
          2017,
          2018,
          2019,
          2021,
          2022
         ],
         "xaxis": "x",
         "y": [
          0.0524983064888811,
          0.05156245255654679,
          0.0547105729572,
          0.03783120817204533,
          0.05352360396961481,
          0.05292468385121407,
          0.04905661021711283,
          0.05207654035432768
         ],
         "yaxis": "y"
        },
        {
         "customdata": [
          [
           35985
          ],
          [
           35787
          ],
          [
           35657
          ],
          [
           35978
          ],
          [
           36287
          ],
          [
           35578
          ],
          [
           36665
          ],
          [
           37369
          ]
         ],
         "hovertemplate": "state=CT<br>group=RAC1P<br>year=%{x}<br>base_rate=%{y}<br>len=%{customdata[0]}<extra></extra>",
         "legendgroup": "CT",
         "line": {
          "color": "#FF6692",
          "dash": "solid"
         },
         "marker": {
          "symbol": "circle"
         },
         "mode": "lines",
         "name": "CT",
         "showlegend": false,
         "type": "scattergl",
         "x": [
          2014,
          2015,
          2016,
          2017,
          2018,
          2019,
          2021,
          2022
         ],
         "xaxis": "x2",
         "y": [
          0.3641304347826087,
          0.6907962771458118,
          0.3254901960784313,
          0.75,
          0.21769128704113228,
          0.26211180124223604,
          0.1822319315492445,
          0.27284011916583917
         ],
         "yaxis": "y2"
        },
        {
         "customdata": [
          [
           35985
          ],
          [
           35787
          ],
          [
           35657
          ],
          [
           35978
          ],
          [
           36287
          ],
          [
           35578
          ],
          [
           36665
          ],
          [
           37369
          ]
         ],
         "hovertemplate": "state=CT<br>group=AGEP<br>year=%{x}<br>base_rate=%{y}<br>len=%{customdata[0]}<extra></extra>",
         "legendgroup": "CT",
         "line": {
          "color": "#FF6692",
          "dash": "solid"
         },
         "marker": {
          "symbol": "circle"
         },
         "mode": "lines",
         "name": "CT",
         "showlegend": false,
         "type": "scattergl",
         "x": [
          2014,
          2015,
          2016,
          2017,
          2018,
          2019,
          2021,
          2022
         ],
         "xaxis": "x3",
         "y": [
          0.8243801652892562,
          0.846820809248555,
          0.8246575342465754,
          0.8266033254156769,
          0.8459657701711492,
          0.8673740053050398,
          0.8388746803069054,
          0.8592592592592593
         ],
         "yaxis": "y3"
        },
        {
         "customdata": [
          [
           9014
          ],
          [
           9017
          ],
          [
           8873
          ],
          [
           8943
          ],
          [
           9123
          ],
          [
           9261
          ],
          [
           9424
          ],
          [
           9641
          ]
         ],
         "hovertemplate": "state=DE<br>group=SEX<br>year=%{x}<br>base_rate=%{y}<br>len=%{customdata[0]}<extra></extra>",
         "legendgroup": "DE",
         "line": {
          "color": "#B6E880",
          "dash": "solid"
         },
         "marker": {
          "symbol": "circle"
         },
         "mode": "lines",
         "name": "DE",
         "showlegend": true,
         "type": "scattergl",
         "x": [
          2014,
          2015,
          2016,
          2017,
          2018,
          2019,
          2021,
          2022
         ],
         "xaxis": "x",
         "y": [
          0.035504528241802724,
          0.04197827914560487,
          0.048142426161168816,
          0.0313816471150124,
          0.04589158154004258,
          0.05562316154399588,
          0.044503000469940046,
          0.058290907184401164
         ],
         "yaxis": "y"
        },
        {
         "customdata": [
          [
           9014
          ],
          [
           9017
          ],
          [
           8873
          ],
          [
           8943
          ],
          [
           9123
          ],
          [
           9261
          ],
          [
           9424
          ],
          [
           9641
          ]
         ],
         "hovertemplate": "state=DE<br>group=RAC1P<br>year=%{x}<br>base_rate=%{y}<br>len=%{customdata[0]}<extra></extra>",
         "legendgroup": "DE",
         "line": {
          "color": "#B6E880",
          "dash": "solid"
         },
         "marker": {
          "symbol": "circle"
         },
         "mode": "lines",
         "name": "DE",
         "showlegend": false,
         "type": "scattergl",
         "x": [
          2014,
          2015,
          2016,
          2017,
          2018,
          2019,
          2021,
          2022
         ],
         "xaxis": "x2",
         "y": [
          0.4433656957928802,
          0.3142857142857143,
          0.39542483660130723,
          0.5555555555555556,
          0.3253205128205128,
          0.7142857142857143,
          0.25183150183150177,
          0.24725274725274726
         ],
         "yaxis": "y2"
        },
        {
         "customdata": [
          [
           9014
          ],
          [
           9017
          ],
          [
           8873
          ],
          [
           8943
          ],
          [
           9123
          ],
          [
           9261
          ],
          [
           9424
          ],
          [
           9641
          ]
         ],
         "hovertemplate": "state=DE<br>group=AGEP<br>year=%{x}<br>base_rate=%{y}<br>len=%{customdata[0]}<extra></extra>",
         "legendgroup": "DE",
         "line": {
          "color": "#B6E880",
          "dash": "solid"
         },
         "marker": {
          "symbol": "circle"
         },
         "mode": "lines",
         "name": "DE",
         "showlegend": false,
         "type": "scattergl",
         "x": [
          2014,
          2015,
          2016,
          2017,
          2018,
          2019,
          2021,
          2022
         ],
         "xaxis": "x3",
         "y": [
          0.8705882352941177,
          0.8305084745762712,
          0.8543689320388349,
          0.8640776699029126,
          0.8636363636363636,
          0.9024390243902439,
          0.8315789473684211,
          0.8518518518518519
         ],
         "yaxis": "y3"
        },
        {
         "customdata": [
          [
           192673
          ],
          [
           194548
          ],
          [
           196828
          ],
          [
           199644
          ],
          [
           202160
          ],
          [
           205294
          ],
          [
           202883
          ],
          [
           217799
          ]
         ],
         "hovertemplate": "state=FL<br>group=SEX<br>year=%{x}<br>base_rate=%{y}<br>len=%{customdata[0]}<extra></extra>",
         "legendgroup": "FL",
         "line": {
          "color": "#FF97FF",
          "dash": "solid"
         },
         "marker": {
          "symbol": "circle"
         },
         "mode": "lines",
         "name": "FL",
         "showlegend": true,
         "type": "scattergl",
         "x": [
          2014,
          2015,
          2016,
          2017,
          2018,
          2019,
          2021,
          2022
         ],
         "xaxis": "x",
         "y": [
          0.04682254226002147,
          0.04405678632965149,
          0.05139860658981882,
          0.05432866787091589,
          0.050039864383859434,
          0.049848761055589996,
          0.054290483432358594,
          0.04873411482048301
         ],
         "yaxis": "y"
        },
        {
         "customdata": [
          [
           192673
          ],
          [
           194548
          ],
          [
           196828
          ],
          [
           199644
          ],
          [
           202160
          ],
          [
           205294
          ],
          [
           202883
          ],
          [
           217799
          ]
         ],
         "hovertemplate": "state=FL<br>group=RAC1P<br>year=%{x}<br>base_rate=%{y}<br>len=%{customdata[0]}<extra></extra>",
         "legendgroup": "FL",
         "line": {
          "color": "#FF97FF",
          "dash": "solid"
         },
         "marker": {
          "symbol": "circle"
         },
         "mode": "lines",
         "name": "FL",
         "showlegend": false,
         "type": "scattergl",
         "x": [
          2014,
          2015,
          2016,
          2017,
          2018,
          2019,
          2021,
          2022
         ],
         "xaxis": "x2",
         "y": [
          0.2692307692307692,
          0.20570124530306305,
          0.24264705882352944,
          0.3198051948051948,
          0.18084166723916262,
          0.5036174342685724,
          0.14965592743196748,
          0.19656613577318427
         ],
         "yaxis": "y2"
        },
        {
         "customdata": [
          [
           192673
          ],
          [
           194548
          ],
          [
           196828
          ],
          [
           199644
          ],
          [
           202160
          ],
          [
           205294
          ],
          [
           202883
          ],
          [
           217799
          ]
         ],
         "hovertemplate": "state=FL<br>group=AGEP<br>year=%{x}<br>base_rate=%{y}<br>len=%{customdata[0]}<extra></extra>",
         "legendgroup": "FL",
         "line": {
          "color": "#FF97FF",
          "dash": "solid"
         },
         "marker": {
          "symbol": "circle"
         },
         "mode": "lines",
         "name": "FL",
         "showlegend": false,
         "type": "scattergl",
         "x": [
          2014,
          2015,
          2016,
          2017,
          2018,
          2019,
          2021,
          2022
         ],
         "xaxis": "x3",
         "y": [
          0.7590004235493435,
          0.7593488781346238,
          0.7789473684210526,
          0.7706175680859225,
          0.7905604719764012,
          0.7912240184757505,
          0.7698339483394834,
          0.7837384744341995
         ],
         "yaxis": "y3"
        },
        {
         "customdata": [
          [
           97519
          ],
          [
           97854
          ],
          [
           98064
          ],
          [
           99799
          ],
          [
           100855
          ],
          [
           101652
          ],
          [
           97104
          ],
          [
           109349
          ]
         ],
         "hovertemplate": "state=GA<br>group=SEX<br>year=%{x}<br>base_rate=%{y}<br>len=%{customdata[0]}<extra></extra>",
         "legendgroup": "GA",
         "line": {
          "color": "#FECB52",
          "dash": "solid"
         },
         "marker": {
          "symbol": "circle"
         },
         "mode": "lines",
         "name": "GA",
         "showlegend": true,
         "type": "scattergl",
         "x": [
          2014,
          2015,
          2016,
          2017,
          2018,
          2019,
          2021,
          2022
         ],
         "xaxis": "x",
         "y": [
          0.04995993154402739,
          0.05256633509444747,
          0.0571642789894356,
          0.05529861298734656,
          0.057391078341319124,
          0.05304515094843709,
          0.04330498056480342,
          0.04967074574957314
         ],
         "yaxis": "y"
        },
        {
         "customdata": [
          [
           97519
          ],
          [
           97854
          ],
          [
           98064
          ],
          [
           99799
          ],
          [
           100855
          ],
          [
           101652
          ],
          [
           97104
          ],
          [
           109349
          ]
         ],
         "hovertemplate": "state=GA<br>group=RAC1P<br>year=%{x}<br>base_rate=%{y}<br>len=%{customdata[0]}<extra></extra>",
         "legendgroup": "GA",
         "line": {
          "color": "#FECB52",
          "dash": "solid"
         },
         "marker": {
          "symbol": "circle"
         },
         "mode": "lines",
         "name": "GA",
         "showlegend": false,
         "type": "scattergl",
         "x": [
          2014,
          2015,
          2016,
          2017,
          2018,
          2019,
          2021,
          2022
         ],
         "xaxis": "x2",
         "y": [
          0.46706766917293235,
          0.6982002768804799,
          0.18810785765377697,
          0.48611111111111105,
          0.4883091311838543,
          0.4863974911799295,
          0.24659565121897647,
          0.5853658536585366
         ],
         "yaxis": "y2"
        },
        {
         "customdata": [
          [
           97519
          ],
          [
           97854
          ],
          [
           98064
          ],
          [
           99799
          ],
          [
           100855
          ],
          [
           101652
          ],
          [
           97104
          ],
          [
           109349
          ]
         ],
         "hovertemplate": "state=GA<br>group=AGEP<br>year=%{x}<br>base_rate=%{y}<br>len=%{customdata[0]}<extra></extra>",
         "legendgroup": "GA",
         "line": {
          "color": "#FECB52",
          "dash": "solid"
         },
         "marker": {
          "symbol": "circle"
         },
         "mode": "lines",
         "name": "GA",
         "showlegend": false,
         "type": "scattergl",
         "x": [
          2014,
          2015,
          2016,
          2017,
          2018,
          2019,
          2021,
          2022
         ],
         "xaxis": "x3",
         "y": [
          0.7548005908419497,
          0.7639639639639639,
          0.774074074074074,
          0.78839590443686,
          0.7873563218390804,
          0.7829457364341085,
          0.7627494456762749,
          0.7856573705179283
         ],
         "yaxis": "y3"
        },
        {
         "customdata": [
          [
           14322
          ],
          [
           14124
          ],
          [
           14247
          ],
          [
           14433
          ],
          [
           14400
          ],
          [
           14228
          ],
          [
           14959
          ],
          [
           14995
          ]
         ],
         "hovertemplate": "state=HI<br>group=SEX<br>year=%{x}<br>base_rate=%{y}<br>len=%{customdata[0]}<extra></extra>",
         "legendgroup": "HI",
         "line": {
          "color": "#636efa",
          "dash": "solid"
         },
         "marker": {
          "symbol": "circle"
         },
         "mode": "lines",
         "name": "HI",
         "showlegend": true,
         "type": "scattergl",
         "x": [
          2014,
          2015,
          2016,
          2017,
          2018,
          2019,
          2021,
          2022
         ],
         "xaxis": "x",
         "y": [
          0.02111004728142757,
          0.03552368902619302,
          0.01218417652904541,
          0.028644199887994215,
          0.0148352249101254,
          0.0064377662046918305,
          0.0035985844834807157,
          0.005587623985347179
         ],
         "yaxis": "y"
        },
        {
         "customdata": [
          [
           14322
          ],
          [
           14124
          ],
          [
           14247
          ],
          [
           14433
          ],
          [
           14400
          ],
          [
           14228
          ],
          [
           14959
          ],
          [
           14995
          ]
         ],
         "hovertemplate": "state=HI<br>group=RAC1P<br>year=%{x}<br>base_rate=%{y}<br>len=%{customdata[0]}<extra></extra>",
         "legendgroup": "HI",
         "line": {
          "color": "#636efa",
          "dash": "solid"
         },
         "marker": {
          "symbol": "circle"
         },
         "mode": "lines",
         "name": "HI",
         "showlegend": false,
         "type": "scattergl",
         "x": [
          2014,
          2015,
          2016,
          2017,
          2018,
          2019,
          2021,
          2022
         ],
         "xaxis": "x2",
         "y": [
          0.4920664903664526,
          0.1980186021147029,
          0.515906477577616,
          0.49500192233756246,
          0.33333333333333337,
          0.4172413793103449,
          0.22708370199964606,
          0.22444444444444445
         ],
         "yaxis": "y2"
        },
        {
         "customdata": [
          [
           14322
          ],
          [
           14124
          ],
          [
           14247
          ],
          [
           14433
          ],
          [
           14400
          ],
          [
           14228
          ],
          [
           14959
          ],
          [
           14995
          ]
         ],
         "hovertemplate": "state=HI<br>group=AGEP<br>year=%{x}<br>base_rate=%{y}<br>len=%{customdata[0]}<extra></extra>",
         "legendgroup": "HI",
         "line": {
          "color": "#636efa",
          "dash": "solid"
         },
         "marker": {
          "symbol": "circle"
         },
         "mode": "lines",
         "name": "HI",
         "showlegend": false,
         "type": "scattergl",
         "x": [
          2014,
          2015,
          2016,
          2017,
          2018,
          2019,
          2021,
          2022
         ],
         "xaxis": "x3",
         "y": [
          0.7857142857142857,
          0.8383838383838383,
          0.8395061728395061,
          0.8146067415730337,
          0.875,
          0.8353658536585366,
          0.8430232558139535,
          0.8502673796791443
         ],
         "yaxis": "y3"
        },
        {
         "customdata": [
          [
           15602
          ],
          [
           15725
          ],
          [
           15955
          ],
          [
           16536
          ],
          [
           16711
          ],
          [
           17360
          ],
          [
           17936
          ],
          [
           19884
          ]
         ],
         "hovertemplate": "state=ID<br>group=SEX<br>year=%{x}<br>base_rate=%{y}<br>len=%{customdata[0]}<extra></extra>",
         "legendgroup": "ID",
         "line": {
          "color": "#EF553B",
          "dash": "solid"
         },
         "marker": {
          "symbol": "circle"
         },
         "mode": "lines",
         "name": "ID",
         "showlegend": true,
         "type": "scattergl",
         "x": [
          2014,
          2015,
          2016,
          2017,
          2018,
          2019,
          2021,
          2022
         ],
         "xaxis": "x",
         "y": [
          0.0720371546414948,
          0.06263315404214015,
          0.08685302761232733,
          0.06778030338437868,
          0.08365887657551685,
          0.07272550769423364,
          0.05861672438441684,
          0.05859763115339228
         ],
         "yaxis": "y"
        },
        {
         "customdata": [
          [
           15602
          ],
          [
           15725
          ],
          [
           15955
          ],
          [
           16536
          ],
          [
           16711
          ],
          [
           17360
          ],
          [
           17936
          ],
          [
           19884
          ]
         ],
         "hovertemplate": "state=ID<br>group=RAC1P<br>year=%{x}<br>base_rate=%{y}<br>len=%{customdata[0]}<extra></extra>",
         "legendgroup": "ID",
         "line": {
          "color": "#EF553B",
          "dash": "solid"
         },
         "marker": {
          "symbol": "circle"
         },
         "mode": "lines",
         "name": "ID",
         "showlegend": false,
         "type": "scattergl",
         "x": [
          2014,
          2015,
          2016,
          2017,
          2018,
          2019,
          2021,
          2022
         ],
         "xaxis": "x2",
         "y": [
          0.4463087248322148,
          0.5514705882352942,
          0.18572093219980546,
          0.26708074534161486,
          0.18282485875706217,
          0.2722462722462723,
          0.3670886075949367,
          0.16296296296296303
         ],
         "yaxis": "y2"
        },
        {
         "customdata": [
          [
           15602
          ],
          [
           15725
          ],
          [
           15955
          ],
          [
           16536
          ],
          [
           16711
          ],
          [
           17360
          ],
          [
           17936
          ],
          [
           19884
          ]
         ],
         "hovertemplate": "state=ID<br>group=AGEP<br>year=%{x}<br>base_rate=%{y}<br>len=%{customdata[0]}<extra></extra>",
         "legendgroup": "ID",
         "line": {
          "color": "#EF553B",
          "dash": "solid"
         },
         "marker": {
          "symbol": "circle"
         },
         "mode": "lines",
         "name": "ID",
         "showlegend": false,
         "type": "scattergl",
         "x": [
          2014,
          2015,
          2016,
          2017,
          2018,
          2019,
          2021,
          2022
         ],
         "xaxis": "x3",
         "y": [
          0.8244274809160306,
          0.8113207547169812,
          0.8378378378378378,
          0.8591549295774648,
          0.8275862068965517,
          0.8571428571428571,
          0.8287292817679558,
          0.8189300411522634
         ],
         "yaxis": "y3"
        },
        {
         "customdata": [
          [
           126650
          ],
          [
           126642
          ],
          [
           126334
          ],
          [
           126482
          ],
          [
           126456
          ],
          [
           125007
          ],
          [
           126623
          ],
          [
           128046
          ]
         ],
         "hovertemplate": "state=IL<br>group=SEX<br>year=%{x}<br>base_rate=%{y}<br>len=%{customdata[0]}<extra></extra>",
         "legendgroup": "IL",
         "line": {
          "color": "#00cc96",
          "dash": "solid"
         },
         "marker": {
          "symbol": "circle"
         },
         "mode": "lines",
         "name": "IL",
         "showlegend": true,
         "type": "scattergl",
         "x": [
          2014,
          2015,
          2016,
          2017,
          2018,
          2019,
          2021,
          2022
         ],
         "xaxis": "x",
         "y": [
          0.05620552345081814,
          0.05756205299056877,
          0.05369305225464621,
          0.05840053851951493,
          0.055427389866144705,
          0.05163035625894691,
          0.05243989319392256,
          0.05321077613798175
         ],
         "yaxis": "y"
        },
        {
         "customdata": [
          [
           126650
          ],
          [
           126642
          ],
          [
           126334
          ],
          [
           126482
          ],
          [
           126456
          ],
          [
           125007
          ],
          [
           126623
          ],
          [
           128046
          ]
         ],
         "hovertemplate": "state=IL<br>group=RAC1P<br>year=%{x}<br>base_rate=%{y}<br>len=%{customdata[0]}<extra></extra>",
         "legendgroup": "IL",
         "line": {
          "color": "#00cc96",
          "dash": "solid"
         },
         "marker": {
          "symbol": "circle"
         },
         "mode": "lines",
         "name": "IL",
         "showlegend": false,
         "type": "scattergl",
         "x": [
          2014,
          2015,
          2016,
          2017,
          2018,
          2019,
          2021,
          2022
         ],
         "xaxis": "x2",
         "y": [
          0.2418069678279713,
          0.5909090909090909,
          0.23426130295478825,
          0.22349122100324625,
          0.4888888888888889,
          0.16834836824746613,
          0.1851092896174863,
          0.36538461538461536
         ],
         "yaxis": "y2"
        },
        {
         "customdata": [
          [
           126650
          ],
          [
           126642
          ],
          [
           126334
          ],
          [
           126482
          ],
          [
           126456
          ],
          [
           125007
          ],
          [
           126623
          ],
          [
           128046
          ]
         ],
         "hovertemplate": "state=IL<br>group=AGEP<br>year=%{x}<br>base_rate=%{y}<br>len=%{customdata[0]}<extra></extra>",
         "legendgroup": "IL",
         "line": {
          "color": "#00cc96",
          "dash": "solid"
         },
         "marker": {
          "symbol": "circle"
         },
         "mode": "lines",
         "name": "IL",
         "showlegend": false,
         "type": "scattergl",
         "x": [
          2014,
          2015,
          2016,
          2017,
          2018,
          2019,
          2021,
          2022
         ],
         "xaxis": "x3",
         "y": [
          0.7985125084516566,
          0.7864680322780881,
          0.8096430807764559,
          0.8031446540880504,
          0.8206850235057085,
          0.8192934782608695,
          0.7972465581977471,
          0.8184319119669876
         ],
         "yaxis": "y3"
        },
        {
         "customdata": [
          [
           66555
          ],
          [
           66045
          ],
          [
           66262
          ],
          [
           67004
          ],
          [
           67680
          ],
          [
           67445
          ],
          [
           68122
          ],
          [
           69843
          ]
         ],
         "hovertemplate": "state=IN<br>group=SEX<br>year=%{x}<br>base_rate=%{y}<br>len=%{customdata[0]}<extra></extra>",
         "legendgroup": "IN",
         "line": {
          "color": "#ab63fa",
          "dash": "solid"
         },
         "marker": {
          "symbol": "circle"
         },
         "mode": "lines",
         "name": "IN",
         "showlegend": true,
         "type": "scattergl",
         "x": [
          2014,
          2015,
          2016,
          2017,
          2018,
          2019,
          2021,
          2022
         ],
         "xaxis": "x",
         "y": [
          0.05927672806504547,
          0.06927652827899322,
          0.061267106464718446,
          0.056668620804840864,
          0.06366703500860832,
          0.05920952529039464,
          0.06569493844075786,
          0.05797458133616851
         ],
         "yaxis": "y"
        },
        {
         "customdata": [
          [
           66555
          ],
          [
           66045
          ],
          [
           66262
          ],
          [
           67004
          ],
          [
           67680
          ],
          [
           67445
          ],
          [
           68122
          ],
          [
           69843
          ]
         ],
         "hovertemplate": "state=IN<br>group=RAC1P<br>year=%{x}<br>base_rate=%{y}<br>len=%{customdata[0]}<extra></extra>",
         "legendgroup": "IN",
         "line": {
          "color": "#ab63fa",
          "dash": "solid"
         },
         "marker": {
          "symbol": "circle"
         },
         "mode": "lines",
         "name": "IN",
         "showlegend": false,
         "type": "scattergl",
         "x": [
          2014,
          2015,
          2016,
          2017,
          2018,
          2019,
          2021,
          2022
         ],
         "xaxis": "x2",
         "y": [
          0.7104642014162077,
          0.1779750474826134,
          0.7167414050822123,
          0.3708200212992545,
          0.262862437322869,
          0.25702380952380954,
          0.49194167306216424,
          0.22881094952951236
         ],
         "yaxis": "y2"
        },
        {
         "customdata": [
          [
           66555
          ],
          [
           66045
          ],
          [
           66262
          ],
          [
           67004
          ],
          [
           67680
          ],
          [
           67445
          ],
          [
           68122
          ],
          [
           69843
          ]
         ],
         "hovertemplate": "state=IN<br>group=AGEP<br>year=%{x}<br>base_rate=%{y}<br>len=%{customdata[0]}<extra></extra>",
         "legendgroup": "IN",
         "line": {
          "color": "#ab63fa",
          "dash": "solid"
         },
         "marker": {
          "symbol": "circle"
         },
         "mode": "lines",
         "name": "IN",
         "showlegend": false,
         "type": "scattergl",
         "x": [
          2014,
          2015,
          2016,
          2017,
          2018,
          2019,
          2021,
          2022
         ],
         "xaxis": "x3",
         "y": [
          0.7839335180055401,
          0.7888127853881278,
          0.7969151670951157,
          0.8119402985074626,
          0.8175675675675675,
          0.815365551425031,
          0.8068783068783069,
          0.8144458281444583
         ],
         "yaxis": "y3"
        },
        {
         "customdata": [
          [
           31819
          ],
          [
           31900
          ],
          [
           32106
          ],
          [
           32456
          ],
          [
           32362
          ],
          [
           32721
          ],
          [
           32572
          ],
          [
           33586
          ]
         ],
         "hovertemplate": "state=IA<br>group=SEX<br>year=%{x}<br>base_rate=%{y}<br>len=%{customdata[0]}<extra></extra>",
         "legendgroup": "IA",
         "line": {
          "color": "#FFA15A",
          "dash": "solid"
         },
         "marker": {
          "symbol": "circle"
         },
         "mode": "lines",
         "name": "IA",
         "showlegend": true,
         "type": "scattergl",
         "x": [
          2014,
          2015,
          2016,
          2017,
          2018,
          2019,
          2021,
          2022
         ],
         "xaxis": "x",
         "y": [
          0.04809808458264908,
          0.053436001115065246,
          0.04449612404845593,
          0.04877135458616405,
          0.056760489285571314,
          0.041240794055819985,
          0.05052057345913491,
          0.041563669344958754
         ],
         "yaxis": "y"
        },
        {
         "customdata": [
          [
           31819
          ],
          [
           31900
          ],
          [
           32106
          ],
          [
           32456
          ],
          [
           32362
          ],
          [
           32721
          ],
          [
           32572
          ],
          [
           33586
          ]
         ],
         "hovertemplate": "state=IA<br>group=RAC1P<br>year=%{x}<br>base_rate=%{y}<br>len=%{customdata[0]}<extra></extra>",
         "legendgroup": "IA",
         "line": {
          "color": "#FFA15A",
          "dash": "solid"
         },
         "marker": {
          "symbol": "circle"
         },
         "mode": "lines",
         "name": "IA",
         "showlegend": false,
         "type": "scattergl",
         "x": [
          2014,
          2015,
          2016,
          2017,
          2018,
          2019,
          2021,
          2022
         ],
         "xaxis": "x2",
         "y": [
          0.4234234234234234,
          0.24360144482611756,
          0.5,
          0.24325259515570935,
          0.3042542655201909,
          0.8,
          0.27459016393442626,
          0.25142857142857145
         ],
         "yaxis": "y2"
        },
        {
         "customdata": [
          [
           31819
          ],
          [
           31900
          ],
          [
           32106
          ],
          [
           32456
          ],
          [
           32362
          ],
          [
           32721
          ],
          [
           32572
          ],
          [
           33586
          ]
         ],
         "hovertemplate": "state=IA<br>group=AGEP<br>year=%{x}<br>base_rate=%{y}<br>len=%{customdata[0]}<extra></extra>",
         "legendgroup": "IA",
         "line": {
          "color": "#FFA15A",
          "dash": "solid"
         },
         "marker": {
          "symbol": "circle"
         },
         "mode": "lines",
         "name": "IA",
         "showlegend": false,
         "type": "scattergl",
         "x": [
          2014,
          2015,
          2016,
          2017,
          2018,
          2019,
          2021,
          2022
         ],
         "xaxis": "x3",
         "y": [
          0.8526011560693642,
          0.8854166666666666,
          0.8957654723127035,
          0.8895184135977338,
          0.8735632183908046,
          0.8712871287128713,
          0.8636363636363636,
          0.8957219251336899
         ],
         "yaxis": "y3"
        },
        {
         "customdata": [
          [
           28802
          ],
          [
           28774
          ],
          [
           28590
          ],
          [
           29374
          ],
          [
           29567
          ],
          [
           29697
          ],
          [
           28957
          ],
          [
           29940
          ]
         ],
         "hovertemplate": "state=KS<br>group=SEX<br>year=%{x}<br>base_rate=%{y}<br>len=%{customdata[0]}<extra></extra>",
         "legendgroup": "KS",
         "line": {
          "color": "#19d3f3",
          "dash": "solid"
         },
         "marker": {
          "symbol": "circle"
         },
         "mode": "lines",
         "name": "KS",
         "showlegend": true,
         "type": "scattergl",
         "x": [
          2014,
          2015,
          2016,
          2017,
          2018,
          2019,
          2021,
          2022
         ],
         "xaxis": "x",
         "y": [
          0.06039626005420129,
          0.05709631217894007,
          0.05313194763970269,
          0.06365567221865609,
          0.059791587335280005,
          0.060329154388640394,
          0.05002314370854671,
          0.048557837088263
         ],
         "yaxis": "y"
        },
        {
         "customdata": [
          [
           28802
          ],
          [
           28774
          ],
          [
           28590
          ],
          [
           29374
          ],
          [
           29567
          ],
          [
           29697
          ],
          [
           28957
          ],
          [
           29940
          ]
         ],
         "hovertemplate": "state=KS<br>group=RAC1P<br>year=%{x}<br>base_rate=%{y}<br>len=%{customdata[0]}<extra></extra>",
         "legendgroup": "KS",
         "line": {
          "color": "#19d3f3",
          "dash": "solid"
         },
         "marker": {
          "symbol": "circle"
         },
         "mode": "lines",
         "name": "KS",
         "showlegend": false,
         "type": "scattergl",
         "x": [
          2014,
          2015,
          2016,
          2017,
          2018,
          2019,
          2021,
          2022
         ],
         "xaxis": "x2",
         "y": [
          0.5833333333333334,
          0.1974169741697417,
          0.6678966789667897,
          0.18555194805194808,
          0.507223113964687,
          0.29047661951527165,
          0.3779940119760479,
          0.6201117318435754
         ],
         "yaxis": "y2"
        },
        {
         "customdata": [
          [
           28802
          ],
          [
           28774
          ],
          [
           28590
          ],
          [
           29374
          ],
          [
           29567
          ],
          [
           29697
          ],
          [
           28957
          ],
          [
           29940
          ]
         ],
         "hovertemplate": "state=KS<br>group=AGEP<br>year=%{x}<br>base_rate=%{y}<br>len=%{customdata[0]}<extra></extra>",
         "legendgroup": "KS",
         "line": {
          "color": "#19d3f3",
          "dash": "solid"
         },
         "marker": {
          "symbol": "circle"
         },
         "mode": "lines",
         "name": "KS",
         "showlegend": false,
         "type": "scattergl",
         "x": [
          2014,
          2015,
          2016,
          2017,
          2018,
          2019,
          2021,
          2022
         ],
         "xaxis": "x3",
         "y": [
          0.8208092485549133,
          0.8433333333333334,
          0.8434504792332268,
          0.84765625,
          0.830945558739255,
          0.8571428571428571,
          0.8436482084690554,
          0.8686131386861314
         ],
         "yaxis": "y3"
        },
        {
         "customdata": [
          [
           44868
          ],
          [
           44749
          ],
          [
           44739
          ],
          [
           45209
          ],
          [
           45475
          ],
          [
           45649
          ],
          [
           45892
          ],
          [
           46605
          ]
         ],
         "hovertemplate": "state=KY<br>group=SEX<br>year=%{x}<br>base_rate=%{y}<br>len=%{customdata[0]}<extra></extra>",
         "legendgroup": "KY",
         "line": {
          "color": "#FF6692",
          "dash": "solid"
         },
         "marker": {
          "symbol": "circle"
         },
         "mode": "lines",
         "name": "KY",
         "showlegend": true,
         "type": "scattergl",
         "x": [
          2014,
          2015,
          2016,
          2017,
          2018,
          2019,
          2021,
          2022
         ],
         "xaxis": "x",
         "y": [
          0.0506769770842358,
          0.05378980113057946,
          0.04708504775973238,
          0.05107864904954529,
          0.04950666360705297,
          0.04578271449848659,
          0.04723834564775775,
          0.05525771195289342
         ],
         "yaxis": "y"
        },
        {
         "customdata": [
          [
           44868
          ],
          [
           44749
          ],
          [
           44739
          ],
          [
           45209
          ],
          [
           45475
          ],
          [
           45649
          ],
          [
           45892
          ],
          [
           46605
          ]
         ],
         "hovertemplate": "state=KY<br>group=RAC1P<br>year=%{x}<br>base_rate=%{y}<br>len=%{customdata[0]}<extra></extra>",
         "legendgroup": "KY",
         "line": {
          "color": "#FF6692",
          "dash": "solid"
         },
         "marker": {
          "symbol": "circle"
         },
         "mode": "lines",
         "name": "KY",
         "showlegend": false,
         "type": "scattergl",
         "x": [
          2014,
          2015,
          2016,
          2017,
          2018,
          2019,
          2021,
          2022
         ],
         "xaxis": "x2",
         "y": [
          0.33128078817733986,
          0.45238095238095233,
          0.5,
          0.4144736842105263,
          0.2290748898678414,
          0.25112309074573225,
          0.4720965309200603,
          0.18556755057121888
         ],
         "yaxis": "y2"
        },
        {
         "customdata": [
          [
           44868
          ],
          [
           44749
          ],
          [
           44739
          ],
          [
           45209
          ],
          [
           45475
          ],
          [
           45649
          ],
          [
           45892
          ],
          [
           46605
          ]
         ],
         "hovertemplate": "state=KY<br>group=AGEP<br>year=%{x}<br>base_rate=%{y}<br>len=%{customdata[0]}<extra></extra>",
         "legendgroup": "KY",
         "line": {
          "color": "#FF6692",
          "dash": "solid"
         },
         "marker": {
          "symbol": "circle"
         },
         "mode": "lines",
         "name": "KY",
         "showlegend": false,
         "type": "scattergl",
         "x": [
          2014,
          2015,
          2016,
          2017,
          2018,
          2019,
          2021,
          2022
         ],
         "xaxis": "x3",
         "y": [
          0.7454873646209387,
          0.7427536231884058,
          0.760593220338983,
          0.7627450980392156,
          0.7673076923076924,
          0.7933884297520661,
          0.764344262295082,
          0.7798507462686567
         ],
         "yaxis": "y3"
        },
        {
         "customdata": [
          [
           43908
          ],
          [
           43892
          ],
          [
           43598
          ],
          [
           44024
          ],
          [
           43589
          ],
          [
           43896
          ],
          [
           43663
          ],
          [
           45040
          ]
         ],
         "hovertemplate": "state=LA<br>group=SEX<br>year=%{x}<br>base_rate=%{y}<br>len=%{customdata[0]}<extra></extra>",
         "legendgroup": "LA",
         "line": {
          "color": "#B6E880",
          "dash": "solid"
         },
         "marker": {
          "symbol": "circle"
         },
         "mode": "lines",
         "name": "LA",
         "showlegend": true,
         "type": "scattergl",
         "x": [
          2014,
          2015,
          2016,
          2017,
          2018,
          2019,
          2021,
          2022
         ],
         "xaxis": "x",
         "y": [
          0.049054181740023683,
          0.048318222818648005,
          0.03473990136242883,
          0.04238767804936289,
          0.0303694718729417,
          0.04128247901703075,
          0.03304035223996232,
          0.036573035172235646
         ],
         "yaxis": "y"
        },
        {
         "customdata": [
          [
           43908
          ],
          [
           43892
          ],
          [
           43598
          ],
          [
           44024
          ],
          [
           43589
          ],
          [
           43896
          ],
          [
           43663
          ],
          [
           45040
          ]
         ],
         "hovertemplate": "state=LA<br>group=RAC1P<br>year=%{x}<br>base_rate=%{y}<br>len=%{customdata[0]}<extra></extra>",
         "legendgroup": "LA",
         "line": {
          "color": "#B6E880",
          "dash": "solid"
         },
         "marker": {
          "symbol": "circle"
         },
         "mode": "lines",
         "name": "LA",
         "showlegend": false,
         "type": "scattergl",
         "x": [
          2014,
          2015,
          2016,
          2017,
          2018,
          2019,
          2021,
          2022
         ],
         "xaxis": "x2",
         "y": [
          0.48413793103448277,
          0.4702549575070821,
          0.3508667065152421,
          0.2362966374942423,
          0.6776447105788423,
          0.22754137115839246,
          0.4697674418604651,
          0.5028968713789108
         ],
         "yaxis": "y2"
        },
        {
         "customdata": [
          [
           43908
          ],
          [
           43892
          ],
          [
           43598
          ],
          [
           44024
          ],
          [
           43589
          ],
          [
           43896
          ],
          [
           43663
          ],
          [
           45040
          ]
         ],
         "hovertemplate": "state=LA<br>group=AGEP<br>year=%{x}<br>base_rate=%{y}<br>len=%{customdata[0]}<extra></extra>",
         "legendgroup": "LA",
         "line": {
          "color": "#B6E880",
          "dash": "solid"
         },
         "marker": {
          "symbol": "circle"
         },
         "mode": "lines",
         "name": "LA",
         "showlegend": false,
         "type": "scattergl",
         "x": [
          2014,
          2015,
          2016,
          2017,
          2018,
          2019,
          2021,
          2022
         ],
         "xaxis": "x3",
         "y": [
          0.743421052631579,
          0.7670588235294118,
          0.7573839662447257,
          0.7527675276752768,
          0.7468123861566485,
          0.7653631284916201,
          0.7658227848101266,
          0.7593984962406015
         ],
         "yaxis": "y3"
        },
        {
         "customdata": [
          [
           12962
          ],
          [
           13059
          ],
          [
           12460
          ],
          [
           12583
          ],
          [
           13275
          ],
          [
           13493
          ],
          [
           13883
          ],
          [
           14523
          ]
         ],
         "hovertemplate": "state=ME<br>group=SEX<br>year=%{x}<br>base_rate=%{y}<br>len=%{customdata[0]}<extra></extra>",
         "legendgroup": "ME",
         "line": {
          "color": "#FF97FF",
          "dash": "solid"
         },
         "marker": {
          "symbol": "circle"
         },
         "mode": "lines",
         "name": "ME",
         "showlegend": true,
         "type": "scattergl",
         "x": [
          2014,
          2015,
          2016,
          2017,
          2018,
          2019,
          2021,
          2022
         ],
         "xaxis": "x",
         "y": [
          0.029361387953904028,
          0.03481975862723374,
          0.036787288297738974,
          0.022079338301850937,
          0.02223203534467827,
          0.03495712244710936,
          0.011274777968378058,
          0.017649330088353454
         ],
         "yaxis": "y"
        },
        {
         "customdata": [
          [
           12962
          ],
          [
           13059
          ],
          [
           12460
          ],
          [
           12583
          ],
          [
           13275
          ],
          [
           13493
          ],
          [
           13883
          ],
          [
           14523
          ]
         ],
         "hovertemplate": "state=ME<br>group=RAC1P<br>year=%{x}<br>base_rate=%{y}<br>len=%{customdata[0]}<extra></extra>",
         "legendgroup": "ME",
         "line": {
          "color": "#FF97FF",
          "dash": "solid"
         },
         "marker": {
          "symbol": "circle"
         },
         "mode": "lines",
         "name": "ME",
         "showlegend": false,
         "type": "scattergl",
         "x": [
          2014,
          2015,
          2016,
          2017,
          2018,
          2019,
          2021,
          2022
         ],
         "xaxis": "x2",
         "y": [
          0.7625,
          0.2847222222222222,
          1,
          0.46511627906976744,
          0.2849326599326599,
          0.24997101449275366,
          0.6666666666666666,
          0.6818181818181819
         ],
         "yaxis": "y2"
        },
        {
         "customdata": [
          [
           12962
          ],
          [
           13059
          ],
          [
           12460
          ],
          [
           12583
          ],
          [
           13275
          ],
          [
           13493
          ],
          [
           13883
          ],
          [
           14523
          ]
         ],
         "hovertemplate": "state=ME<br>group=AGEP<br>year=%{x}<br>base_rate=%{y}<br>len=%{customdata[0]}<extra></extra>",
         "legendgroup": "ME",
         "line": {
          "color": "#FF97FF",
          "dash": "solid"
         },
         "marker": {
          "symbol": "circle"
         },
         "mode": "lines",
         "name": "ME",
         "showlegend": false,
         "type": "scattergl",
         "x": [
          2014,
          2015,
          2016,
          2017,
          2018,
          2019,
          2021,
          2022
         ],
         "xaxis": "x3",
         "y": [
          0.8248175182481752,
          0.8741258741258742,
          0.8271604938271605,
          0.831858407079646,
          0.8552631578947368,
          0.8496732026143791,
          0.8620689655172413,
          0.8333333333333334
         ],
         "yaxis": "y3"
        },
        {
         "customdata": [
          [
           58876
          ],
          [
           59332
          ],
          [
           59408
          ],
          [
           59463
          ],
          [
           59840
          ],
          [
           60237
          ],
          [
           62853
          ],
          [
           62442
          ]
         ],
         "hovertemplate": "state=MD<br>group=SEX<br>year=%{x}<br>base_rate=%{y}<br>len=%{customdata[0]}<extra></extra>",
         "legendgroup": "MD",
         "line": {
          "color": "#FECB52",
          "dash": "solid"
         },
         "marker": {
          "symbol": "circle"
         },
         "mode": "lines",
         "name": "MD",
         "showlegend": true,
         "type": "scattergl",
         "x": [
          2014,
          2015,
          2016,
          2017,
          2018,
          2019,
          2021,
          2022
         ],
         "xaxis": "x",
         "y": [
          0.04778073600462007,
          0.04538369417587629,
          0.03906318033893952,
          0.04898998876406996,
          0.04624984803942972,
          0.04162874692397839,
          0.03485825879875831,
          0.04563628519966578
         ],
         "yaxis": "y"
        },
        {
         "customdata": [
          [
           58876
          ],
          [
           59332
          ],
          [
           59408
          ],
          [
           59463
          ],
          [
           59840
          ],
          [
           60237
          ],
          [
           62853
          ],
          [
           62442
          ]
         ],
         "hovertemplate": "state=MD<br>group=RAC1P<br>year=%{x}<br>base_rate=%{y}<br>len=%{customdata[0]}<extra></extra>",
         "legendgroup": "MD",
         "line": {
          "color": "#FECB52",
          "dash": "solid"
         },
         "marker": {
          "symbol": "circle"
         },
         "mode": "lines",
         "name": "MD",
         "showlegend": false,
         "type": "scattergl",
         "x": [
          2014,
          2015,
          2016,
          2017,
          2018,
          2019,
          2021,
          2022
         ],
         "xaxis": "x2",
         "y": [
          0.21848739495798314,
          0.453119633657699,
          0.2781649245063879,
          0.2121212121212121,
          0.6474677259185699,
          0.16465061857976154,
          0.5819209039548022,
          0.6091954022988506
         ],
         "yaxis": "y2"
        },
        {
         "customdata": [
          [
           58876
          ],
          [
           59332
          ],
          [
           59408
          ],
          [
           59463
          ],
          [
           59840
          ],
          [
           60237
          ],
          [
           62853
          ],
          [
           62442
          ]
         ],
         "hovertemplate": "state=MD<br>group=AGEP<br>year=%{x}<br>base_rate=%{y}<br>len=%{customdata[0]}<extra></extra>",
         "legendgroup": "MD",
         "line": {
          "color": "#FECB52",
          "dash": "solid"
         },
         "marker": {
          "symbol": "circle"
         },
         "mode": "lines",
         "name": "MD",
         "showlegend": false,
         "type": "scattergl",
         "x": [
          2014,
          2015,
          2016,
          2017,
          2018,
          2019,
          2021,
          2022
         ],
         "xaxis": "x3",
         "y": [
          0.8193069306930693,
          0.8204182041820418,
          0.8421052631578947,
          0.8302354399008675,
          0.8529014844804319,
          0.8414634146341463,
          0.8156808803301238,
          0.8485237483953787
         ],
         "yaxis": "y3"
        },
        {
         "customdata": [
          [
           68544
          ],
          [
           68785
          ],
          [
           69126
          ],
          [
           69635
          ],
          [
           70131
          ],
          [
           70579
          ],
          [
           73108
          ],
          [
           73077
          ]
         ],
         "hovertemplate": "state=MA<br>group=SEX<br>year=%{x}<br>base_rate=%{y}<br>len=%{customdata[0]}<extra></extra>",
         "legendgroup": "MA",
         "line": {
          "color": "#636efa",
          "dash": "solid"
         },
         "marker": {
          "symbol": "circle"
         },
         "mode": "lines",
         "name": "MA",
         "showlegend": true,
         "type": "scattergl",
         "x": [
          2014,
          2015,
          2016,
          2017,
          2018,
          2019,
          2021,
          2022
         ],
         "xaxis": "x",
         "y": [
          0.0383351601510169,
          0.03685367046175775,
          0.03482795644730974,
          0.04420163048122927,
          0.036303707226641,
          0.043575604547748725,
          0.03908645844910441,
          0.03858510607690602
         ],
         "yaxis": "y"
        },
        {
         "customdata": [
          [
           68544
          ],
          [
           68785
          ],
          [
           69126
          ],
          [
           69635
          ],
          [
           70131
          ],
          [
           70579
          ],
          [
           73108
          ],
          [
           73077
          ]
         ],
         "hovertemplate": "state=MA<br>group=RAC1P<br>year=%{x}<br>base_rate=%{y}<br>len=%{customdata[0]}<extra></extra>",
         "legendgroup": "MA",
         "line": {
          "color": "#636efa",
          "dash": "solid"
         },
         "marker": {
          "symbol": "circle"
         },
         "mode": "lines",
         "name": "MA",
         "showlegend": false,
         "type": "scattergl",
         "x": [
          2014,
          2015,
          2016,
          2017,
          2018,
          2019,
          2021,
          2022
         ],
         "xaxis": "x2",
         "y": [
          0.2749590834697218,
          0.6491228070175439,
          0.2617242844998583,
          0.2238095238095238,
          0.6167846309403437,
          0.3287890938251804,
          0.478494623655914,
          0.174468085106383
         ],
         "yaxis": "y2"
        },
        {
         "customdata": [
          [
           68544
          ],
          [
           68785
          ],
          [
           69126
          ],
          [
           69635
          ],
          [
           70131
          ],
          [
           70579
          ],
          [
           73108
          ],
          [
           73077
          ]
         ],
         "hovertemplate": "state=MA<br>group=AGEP<br>year=%{x}<br>base_rate=%{y}<br>len=%{customdata[0]}<extra></extra>",
         "legendgroup": "MA",
         "line": {
          "color": "#636efa",
          "dash": "solid"
         },
         "marker": {
          "symbol": "circle"
         },
         "mode": "lines",
         "name": "MA",
         "showlegend": false,
         "type": "scattergl",
         "x": [
          2014,
          2015,
          2016,
          2017,
          2018,
          2019,
          2021,
          2022
         ],
         "xaxis": "x3",
         "y": [
          0.8083333333333333,
          0.8331053351573188,
          0.841248303934871,
          0.8344671201814059,
          0.862116991643454,
          0.8480565371024735,
          0.8220338983050848,
          0.8533916849015317
         ],
         "yaxis": "y3"
        },
        {
         "customdata": [
          [
           98180
          ],
          [
           98008
          ],
          [
           98145
          ],
          [
           99459
          ],
          [
           99419
          ],
          [
           100078
          ],
          [
           99040
          ],
          [
           101512
          ]
         ],
         "hovertemplate": "state=MI<br>group=SEX<br>year=%{x}<br>base_rate=%{y}<br>len=%{customdata[0]}<extra></extra>",
         "legendgroup": "MI",
         "line": {
          "color": "#EF553B",
          "dash": "solid"
         },
         "marker": {
          "symbol": "circle"
         },
         "mode": "lines",
         "name": "MI",
         "showlegend": true,
         "type": "scattergl",
         "x": [
          2014,
          2015,
          2016,
          2017,
          2018,
          2019,
          2021,
          2022
         ],
         "xaxis": "x",
         "y": [
          0.046231255251509784,
          0.05130551688413898,
          0.04415711603103767,
          0.04846007025430338,
          0.052683169485923054,
          0.05765325930478432,
          0.05465341772660043,
          0.05210540011849535
         ],
         "yaxis": "y"
        },
        {
         "customdata": [
          [
           98180
          ],
          [
           98008
          ],
          [
           98145
          ],
          [
           99459
          ],
          [
           99419
          ],
          [
           100078
          ],
          [
           99040
          ],
          [
           101512
          ]
         ],
         "hovertemplate": "state=MI<br>group=RAC1P<br>year=%{x}<br>base_rate=%{y}<br>len=%{customdata[0]}<extra></extra>",
         "legendgroup": "MI",
         "line": {
          "color": "#EF553B",
          "dash": "solid"
         },
         "marker": {
          "symbol": "circle"
         },
         "mode": "lines",
         "name": "MI",
         "showlegend": false,
         "type": "scattergl",
         "x": [
          2014,
          2015,
          2016,
          2017,
          2018,
          2019,
          2021,
          2022
         ],
         "xaxis": "x2",
         "y": [
          0.47152466367713003,
          0.19395932104457547,
          0.31999999999999995,
          0.6912193091968373,
          0.1607452191064231,
          0.2542804728903384,
          0.28940269749518305,
          0.6385356454720617
         ],
         "yaxis": "y2"
        },
        {
         "customdata": [
          [
           98180
          ],
          [
           98008
          ],
          [
           98145
          ],
          [
           99459
          ],
          [
           99419
          ],
          [
           100078
          ],
          [
           99040
          ],
          [
           101512
          ]
         ],
         "hovertemplate": "state=MI<br>group=AGEP<br>year=%{x}<br>base_rate=%{y}<br>len=%{customdata[0]}<extra></extra>",
         "legendgroup": "MI",
         "line": {
          "color": "#EF553B",
          "dash": "solid"
         },
         "marker": {
          "symbol": "circle"
         },
         "mode": "lines",
         "name": "MI",
         "showlegend": false,
         "type": "scattergl",
         "x": [
          2014,
          2015,
          2016,
          2017,
          2018,
          2019,
          2021,
          2022
         ],
         "xaxis": "x3",
         "y": [
          0.7768281101614435,
          0.7806244995996797,
          0.7922178988326848,
          0.8151340996168582,
          0.7838589981447124,
          0.8016997167138811,
          0.7813411078717201,
          0.7893789378937894
         ],
         "yaxis": "y3"
        },
        {
         "customdata": [
          [
           54297
          ],
          [
           54811
          ],
          [
           54115
          ],
          [
           55161
          ],
          [
           55783
          ],
          [
           56670
          ],
          [
           56636
          ],
          [
           58984
          ]
         ],
         "hovertemplate": "state=MN<br>group=SEX<br>year=%{x}<br>base_rate=%{y}<br>len=%{customdata[0]}<extra></extra>",
         "legendgroup": "MN",
         "line": {
          "color": "#00cc96",
          "dash": "solid"
         },
         "marker": {
          "symbol": "circle"
         },
         "mode": "lines",
         "name": "MN",
         "showlegend": true,
         "type": "scattergl",
         "x": [
          2014,
          2015,
          2016,
          2017,
          2018,
          2019,
          2021,
          2022
         ],
         "xaxis": "x",
         "y": [
          0.04030928915095633,
          0.03895757209084405,
          0.04501321547456061,
          0.04519210325834827,
          0.04257223491093037,
          0.04041514575711269,
          0.03958624967055707,
          0.03877221682660453
         ],
         "yaxis": "y"
        },
        {
         "customdata": [
          [
           54297
          ],
          [
           54811
          ],
          [
           54115
          ],
          [
           55161
          ],
          [
           55783
          ],
          [
           56670
          ],
          [
           56636
          ],
          [
           58984
          ]
         ],
         "hovertemplate": "state=MN<br>group=RAC1P<br>year=%{x}<br>base_rate=%{y}<br>len=%{customdata[0]}<extra></extra>",
         "legendgroup": "MN",
         "line": {
          "color": "#00cc96",
          "dash": "solid"
         },
         "marker": {
          "symbol": "circle"
         },
         "mode": "lines",
         "name": "MN",
         "showlegend": false,
         "type": "scattergl",
         "x": [
          2014,
          2015,
          2016,
          2017,
          2018,
          2019,
          2021,
          2022
         ],
         "xaxis": "x2",
         "y": [
          0.5073217295935983,
          0.22293225082259976,
          0.26781389134245903,
          0.22666363419222785,
          0.7777777777777778,
          0.2447330447330448,
          0.3076066790352505,
          0.5324751316559392
         ],
         "yaxis": "y2"
        },
        {
         "customdata": [
          [
           54297
          ],
          [
           54811
          ],
          [
           54115
          ],
          [
           55161
          ],
          [
           55783
          ],
          [
           56670
          ],
          [
           56636
          ],
          [
           58984
          ]
         ],
         "hovertemplate": "state=MN<br>group=AGEP<br>year=%{x}<br>base_rate=%{y}<br>len=%{customdata[0]}<extra></extra>",
         "legendgroup": "MN",
         "line": {
          "color": "#00cc96",
          "dash": "solid"
         },
         "marker": {
          "symbol": "circle"
         },
         "mode": "lines",
         "name": "MN",
         "showlegend": false,
         "type": "scattergl",
         "x": [
          2014,
          2015,
          2016,
          2017,
          2018,
          2019,
          2021,
          2022
         ],
         "xaxis": "x3",
         "y": [
          0.8592814371257484,
          0.874113475177305,
          0.8669527896995708,
          0.8756302521008403,
          0.8806509945750453,
          0.8778979907264297,
          0.8678955453149002,
          0.8705501618122977
         ],
         "yaxis": "y3"
        },
        {
         "customdata": [
          [
           29255
          ],
          [
           29600
          ],
          [
           28986
          ],
          [
           29096
          ],
          [
           29124
          ],
          [
           29217
          ],
          [
           28572
          ],
          [
           29796
          ]
         ],
         "hovertemplate": "state=MS<br>group=SEX<br>year=%{x}<br>base_rate=%{y}<br>len=%{customdata[0]}<extra></extra>",
         "legendgroup": "MS",
         "line": {
          "color": "#ab63fa",
          "dash": "solid"
         },
         "marker": {
          "symbol": "circle"
         },
         "mode": "lines",
         "name": "MS",
         "showlegend": true,
         "type": "scattergl",
         "x": [
          2014,
          2015,
          2016,
          2017,
          2018,
          2019,
          2021,
          2022
         ],
         "xaxis": "x",
         "y": [
          0.0414768892005119,
          0.04272514658409643,
          0.04049551216836844,
          0.037401463815281255,
          0.043712696761336656,
          0.03727461569249296,
          0.03278064776995948,
          0.028923981618843686
         ],
         "yaxis": "y"
        },
        {
         "customdata": [
          [
           29255
          ],
          [
           29600
          ],
          [
           28986
          ],
          [
           29096
          ],
          [
           29124
          ],
          [
           29217
          ],
          [
           28572
          ],
          [
           29796
          ]
         ],
         "hovertemplate": "state=MS<br>group=RAC1P<br>year=%{x}<br>base_rate=%{y}<br>len=%{customdata[0]}<extra></extra>",
         "legendgroup": "MS",
         "line": {
          "color": "#ab63fa",
          "dash": "solid"
         },
         "marker": {
          "symbol": "circle"
         },
         "mode": "lines",
         "name": "MS",
         "showlegend": false,
         "type": "scattergl",
         "x": [
          2014,
          2015,
          2016,
          2017,
          2018,
          2019,
          2021,
          2022
         ],
         "xaxis": "x2",
         "y": [
          0.35328614762386246,
          0.34777448071216616,
          0.48868778280542985,
          0.35555555555555557,
          0.20769787497493042,
          0.6666666666666666,
          0.49,
          0.49122807017543857
         ],
         "yaxis": "y2"
        },
        {
         "customdata": [
          [
           29255
          ],
          [
           29600
          ],
          [
           28986
          ],
          [
           29096
          ],
          [
           29124
          ],
          [
           29217
          ],
          [
           28572
          ],
          [
           29796
          ]
         ],
         "hovertemplate": "state=MS<br>group=AGEP<br>year=%{x}<br>base_rate=%{y}<br>len=%{customdata[0]}<extra></extra>",
         "legendgroup": "MS",
         "line": {
          "color": "#ab63fa",
          "dash": "solid"
         },
         "marker": {
          "symbol": "circle"
         },
         "mode": "lines",
         "name": "MS",
         "showlegend": false,
         "type": "scattergl",
         "x": [
          2014,
          2015,
          2016,
          2017,
          2018,
          2019,
          2021,
          2022
         ],
         "xaxis": "x3",
         "y": [
          0.74,
          0.7598784194528876,
          0.743421052631579,
          0.7596153846153846,
          0.7620578778135049,
          0.7727272727272727,
          0.7550335570469798,
          0.7597402597402597
         ],
         "yaxis": "y3"
        },
        {
         "customdata": [
          [
           61394
          ],
          [
           61586
          ],
          [
           61923
          ],
          [
           62073
          ],
          [
           62416
          ],
          [
           63174
          ],
          [
           62254
          ],
          [
           64551
          ]
         ],
         "hovertemplate": "state=MO<br>group=SEX<br>year=%{x}<br>base_rate=%{y}<br>len=%{customdata[0]}<extra></extra>",
         "legendgroup": "MO",
         "line": {
          "color": "#FFA15A",
          "dash": "solid"
         },
         "marker": {
          "symbol": "circle"
         },
         "mode": "lines",
         "name": "MO",
         "showlegend": true,
         "type": "scattergl",
         "x": [
          2014,
          2015,
          2016,
          2017,
          2018,
          2019,
          2021,
          2022
         ],
         "xaxis": "x",
         "y": [
          0.039646683002450556,
          0.04491590951675545,
          0.04887073558779187,
          0.044759537928009685,
          0.04880727826927839,
          0.04715886791463064,
          0.04122298765011018,
          0.04522197131502054
         ],
         "yaxis": "y"
        },
        {
         "customdata": [
          [
           61394
          ],
          [
           61586
          ],
          [
           61923
          ],
          [
           62073
          ],
          [
           62416
          ],
          [
           63174
          ],
          [
           62254
          ],
          [
           64551
          ]
         ],
         "hovertemplate": "state=MO<br>group=RAC1P<br>year=%{x}<br>base_rate=%{y}<br>len=%{customdata[0]}<extra></extra>",
         "legendgroup": "MO",
         "line": {
          "color": "#FFA15A",
          "dash": "solid"
         },
         "marker": {
          "symbol": "circle"
         },
         "mode": "lines",
         "name": "MO",
         "showlegend": false,
         "type": "scattergl",
         "x": [
          2014,
          2015,
          2016,
          2017,
          2018,
          2019,
          2021,
          2022
         ],
         "xaxis": "x2",
         "y": [
          0.4888888888888889,
          0.3166666666666667,
          0.2236579821647141,
          0.49530956848030017,
          0.2952029520295203,
          0.24793388429752067,
          0.25457648153893886,
          0.5163727959697733
         ],
         "yaxis": "y2"
        },
        {
         "customdata": [
          [
           61394
          ],
          [
           61586
          ],
          [
           61923
          ],
          [
           62073
          ],
          [
           62416
          ],
          [
           63174
          ],
          [
           62254
          ],
          [
           64551
          ]
         ],
         "hovertemplate": "state=MO<br>group=AGEP<br>year=%{x}<br>base_rate=%{y}<br>len=%{customdata[0]}<extra></extra>",
         "legendgroup": "MO",
         "line": {
          "color": "#FFA15A",
          "dash": "solid"
         },
         "marker": {
          "symbol": "circle"
         },
         "mode": "lines",
         "name": "MO",
         "showlegend": false,
         "type": "scattergl",
         "x": [
          2014,
          2015,
          2016,
          2017,
          2018,
          2019,
          2021,
          2022
         ],
         "xaxis": "x3",
         "y": [
          0.7967479674796748,
          0.796969696969697,
          0.8204334365325078,
          0.81089258698941,
          0.8128834355828221,
          0.8009188361408882,
          0.816923076923077,
          0.8185053380782918
         ],
         "yaxis": "y3"
        },
        {
         "customdata": [
          [
           9878
          ],
          [
           9841
          ],
          [
           10161
          ],
          [
           10221
          ],
          [
           10336
          ],
          [
           10649
          ],
          [
           10615
          ],
          [
           11116
          ]
         ],
         "hovertemplate": "state=MT<br>group=SEX<br>year=%{x}<br>base_rate=%{y}<br>len=%{customdata[0]}<extra></extra>",
         "legendgroup": "MT",
         "line": {
          "color": "#19d3f3",
          "dash": "solid"
         },
         "marker": {
          "symbol": "circle"
         },
         "mode": "lines",
         "name": "MT",
         "showlegend": true,
         "type": "scattergl",
         "x": [
          2014,
          2015,
          2016,
          2017,
          2018,
          2019,
          2021,
          2022
         ],
         "xaxis": "x",
         "y": [
          0.03687049062049064,
          0.05074682651091805,
          0.040151395972228554,
          0.042915192315482686,
          0.03834952043485895,
          0.046523124647748715,
          0.05498835507221217,
          0.044555830675878205
         ],
         "yaxis": "y"
        },
        {
         "customdata": [
          [
           9878
          ],
          [
           9841
          ],
          [
           10161
          ],
          [
           10221
          ],
          [
           10336
          ],
          [
           10649
          ],
          [
           10615
          ],
          [
           11116
          ]
         ],
         "hovertemplate": "state=MT<br>group=RAC1P<br>year=%{x}<br>base_rate=%{y}<br>len=%{customdata[0]}<extra></extra>",
         "legendgroup": "MT",
         "line": {
          "color": "#19d3f3",
          "dash": "solid"
         },
         "marker": {
          "symbol": "circle"
         },
         "mode": "lines",
         "name": "MT",
         "showlegend": false,
         "type": "scattergl",
         "x": [
          2014,
          2015,
          2016,
          2017,
          2018,
          2019,
          2021,
          2022
         ],
         "xaxis": "x2",
         "y": [
          1,
          0.5714285714285714,
          0.5652173913043478,
          0.4718381112984823,
          0.5,
          0.37228796844181455,
          0.35639599555061174,
          0.48863636363636365
         ],
         "yaxis": "y2"
        },
        {
         "customdata": [
          [
           9878
          ],
          [
           9841
          ],
          [
           10161
          ],
          [
           10221
          ],
          [
           10336
          ],
          [
           10649
          ],
          [
           10615
          ],
          [
           11116
          ]
         ],
         "hovertemplate": "state=MT<br>group=AGEP<br>year=%{x}<br>base_rate=%{y}<br>len=%{customdata[0]}<extra></extra>",
         "legendgroup": "MT",
         "line": {
          "color": "#19d3f3",
          "dash": "solid"
         },
         "marker": {
          "symbol": "circle"
         },
         "mode": "lines",
         "name": "MT",
         "showlegend": false,
         "type": "scattergl",
         "x": [
          2014,
          2015,
          2016,
          2017,
          2018,
          2019,
          2021,
          2022
         ],
         "xaxis": "x3",
         "y": [
          0.8333333333333334,
          0.8658536585365854,
          0.8404255319148937,
          0.8541666666666666,
          0.868421052631579,
          0.9010989010989011,
          0.8518518518518519,
          0.8514851485148515
         ],
         "yaxis": "y3"
        },
        {
         "customdata": [
          [
           19181
          ],
          [
           19089
          ],
          [
           19017
          ],
          [
           19545
          ],
          [
           19451
          ],
          [
           19766
          ],
          [
           19436
          ],
          [
           19989
          ]
         ],
         "hovertemplate": "state=NE<br>group=SEX<br>year=%{x}<br>base_rate=%{y}<br>len=%{customdata[0]}<extra></extra>",
         "legendgroup": "NE",
         "line": {
          "color": "#FF6692",
          "dash": "solid"
         },
         "marker": {
          "symbol": "circle"
         },
         "mode": "lines",
         "name": "NE",
         "showlegend": true,
         "type": "scattergl",
         "x": [
          2014,
          2015,
          2016,
          2017,
          2018,
          2019,
          2021,
          2022
         ],
         "xaxis": "x",
         "y": [
          0.0494775982239814,
          0.05782502113271348,
          0.05393972764053401,
          0.0545826765162335,
          0.057230571698289434,
          0.047900098997125495,
          0.05033178361365909,
          0.053414234449372766
         ],
         "yaxis": "y"
        },
        {
         "customdata": [
          [
           19181
          ],
          [
           19089
          ],
          [
           19017
          ],
          [
           19545
          ],
          [
           19451
          ],
          [
           19766
          ],
          [
           19436
          ],
          [
           19989
          ]
         ],
         "hovertemplate": "state=NE<br>group=RAC1P<br>year=%{x}<br>base_rate=%{y}<br>len=%{customdata[0]}<extra></extra>",
         "legendgroup": "NE",
         "line": {
          "color": "#FF6692",
          "dash": "solid"
         },
         "marker": {
          "symbol": "circle"
         },
         "mode": "lines",
         "name": "NE",
         "showlegend": false,
         "type": "scattergl",
         "x": [
          2014,
          2015,
          2016,
          2017,
          2018,
          2019,
          2021,
          2022
         ],
         "xaxis": "x2",
         "y": [
          0.22026891529825599,
          0.3714285714285714,
          0.5053475935828877,
          0.6937354988399071,
          0.2538875598086125,
          0.2525252525252526,
          0.5638888888888889,
          0.20197782439316747
         ],
         "yaxis": "y2"
        },
        {
         "customdata": [
          [
           19181
          ],
          [
           19089
          ],
          [
           19017
          ],
          [
           19545
          ],
          [
           19451
          ],
          [
           19766
          ],
          [
           19436
          ],
          [
           19989
          ]
         ],
         "hovertemplate": "state=NE<br>group=AGEP<br>year=%{x}<br>base_rate=%{y}<br>len=%{customdata[0]}<extra></extra>",
         "legendgroup": "NE",
         "line": {
          "color": "#FF6692",
          "dash": "solid"
         },
         "marker": {
          "symbol": "circle"
         },
         "mode": "lines",
         "name": "NE",
         "showlegend": false,
         "type": "scattergl",
         "x": [
          2014,
          2015,
          2016,
          2017,
          2018,
          2019,
          2021,
          2022
         ],
         "xaxis": "x3",
         "y": [
          0.8678414096916299,
          0.9033613445378151,
          0.8838174273858921,
          0.8646288209606987,
          0.8809523809523809,
          0.9054054054054054,
          0.8862559241706162,
          0.9128205128205128
         ],
         "yaxis": "y3"
        },
        {
         "customdata": [
          [
           26812
          ],
          [
           26988
          ],
          [
           27285
          ],
          [
           28413
          ],
          [
           28927
          ],
          [
           29347
          ],
          [
           30080
          ],
          [
           30749
          ]
         ],
         "hovertemplate": "state=NV<br>group=SEX<br>year=%{x}<br>base_rate=%{y}<br>len=%{customdata[0]}<extra></extra>",
         "legendgroup": "NV",
         "line": {
          "color": "#B6E880",
          "dash": "solid"
         },
         "marker": {
          "symbol": "circle"
         },
         "mode": "lines",
         "name": "NV",
         "showlegend": true,
         "type": "scattergl",
         "x": [
          2014,
          2015,
          2016,
          2017,
          2018,
          2019,
          2021,
          2022
         ],
         "xaxis": "x",
         "y": [
          0.06305286192587845,
          0.06372996028827771,
          0.0591188766440498,
          0.06684815996883336,
          0.057783118605479855,
          0.05825897153499099,
          0.04840873203129603,
          0.05748568680782007
         ],
         "yaxis": "y"
        },
        {
         "customdata": [
          [
           26812
          ],
          [
           26988
          ],
          [
           27285
          ],
          [
           28413
          ],
          [
           28927
          ],
          [
           29347
          ],
          [
           30080
          ],
          [
           30749
          ]
         ],
         "hovertemplate": "state=NV<br>group=RAC1P<br>year=%{x}<br>base_rate=%{y}<br>len=%{customdata[0]}<extra></extra>",
         "legendgroup": "NV",
         "line": {
          "color": "#B6E880",
          "dash": "solid"
         },
         "marker": {
          "symbol": "circle"
         },
         "mode": "lines",
         "name": "NV",
         "showlegend": false,
         "type": "scattergl",
         "x": [
          2014,
          2015,
          2016,
          2017,
          2018,
          2019,
          2021,
          2022
         ],
         "xaxis": "x2",
         "y": [
          0.203318335208099,
          0.4847202632816173,
          0.6431297709923665,
          0.1446608735313617,
          0.5309106098579783,
          0.1878274889157598,
          0.20622408762860217,
          0.25954134583193844
         ],
         "yaxis": "y2"
        },
        {
         "customdata": [
          [
           26812
          ],
          [
           26988
          ],
          [
           27285
          ],
          [
           28413
          ],
          [
           28927
          ],
          [
           29347
          ],
          [
           30080
          ],
          [
           30749
          ]
         ],
         "hovertemplate": "state=NV<br>group=AGEP<br>year=%{x}<br>base_rate=%{y}<br>len=%{customdata[0]}<extra></extra>",
         "legendgroup": "NV",
         "line": {
          "color": "#B6E880",
          "dash": "solid"
         },
         "marker": {
          "symbol": "circle"
         },
         "mode": "lines",
         "name": "NV",
         "showlegend": false,
         "type": "scattergl",
         "x": [
          2014,
          2015,
          2016,
          2017,
          2018,
          2019,
          2021,
          2022
         ],
         "xaxis": "x3",
         "y": [
          0.7855153203342619,
          0.7865168539325843,
          0.8095238095238095,
          0.7953795379537953,
          0.8017492711370262,
          0.8285714285714286,
          0.7657657657657657,
          0.800531914893617
         ],
         "yaxis": "y3"
        },
        {
         "customdata": [
          [
           13426
          ],
          [
           13378
          ],
          [
           13428
          ],
          [
           13708
          ],
          [
           13780
          ],
          [
           13896
          ],
          [
           13606
          ],
          [
           14077
          ]
         ],
         "hovertemplate": "state=NH<br>group=SEX<br>year=%{x}<br>base_rate=%{y}<br>len=%{customdata[0]}<extra></extra>",
         "legendgroup": "NH",
         "line": {
          "color": "#FF97FF",
          "dash": "solid"
         },
         "marker": {
          "symbol": "circle"
         },
         "mode": "lines",
         "name": "NH",
         "showlegend": true,
         "type": "scattergl",
         "x": [
          2014,
          2015,
          2016,
          2017,
          2018,
          2019,
          2021,
          2022
         ],
         "xaxis": "x",
         "y": [
          0.05083005961975662,
          0.059936691254931784,
          0.039510565253806695,
          0.036083392306933415,
          0.05536814494942649,
          0.047243081168572676,
          0.06122957556269998,
          0.056707921021954766
         ],
         "yaxis": "y"
        },
        {
         "customdata": [
          [
           13426
          ],
          [
           13378
          ],
          [
           13428
          ],
          [
           13708
          ],
          [
           13780
          ],
          [
           13896
          ],
          [
           13606
          ],
          [
           14077
          ]
         ],
         "hovertemplate": "state=NH<br>group=RAC1P<br>year=%{x}<br>base_rate=%{y}<br>len=%{customdata[0]}<extra></extra>",
         "legendgroup": "NH",
         "line": {
          "color": "#FF97FF",
          "dash": "solid"
         },
         "marker": {
          "symbol": "circle"
         },
         "mode": "lines",
         "name": "NH",
         "showlegend": false,
         "type": "scattergl",
         "x": [
          2014,
          2015,
          2016,
          2017,
          2018,
          2019,
          2021,
          2022
         ],
         "xaxis": "x2",
         "y": [
          0.2814542107685228,
          0.5454545454545454,
          0.667953667953668,
          0.5714285714285714,
          0.6666666666666667,
          0.4206827309236948,
          0.5255474452554745,
          0.3681818181818182
         ],
         "yaxis": "y2"
        },
        {
         "customdata": [
          [
           13426
          ],
          [
           13378
          ],
          [
           13428
          ],
          [
           13708
          ],
          [
           13780
          ],
          [
           13896
          ],
          [
           13606
          ],
          [
           14077
          ]
         ],
         "hovertemplate": "state=NH<br>group=AGEP<br>year=%{x}<br>base_rate=%{y}<br>len=%{customdata[0]}<extra></extra>",
         "legendgroup": "NH",
         "line": {
          "color": "#FF97FF",
          "dash": "solid"
         },
         "marker": {
          "symbol": "circle"
         },
         "mode": "lines",
         "name": "NH",
         "showlegend": false,
         "type": "scattergl",
         "x": [
          2014,
          2015,
          2016,
          2017,
          2018,
          2019,
          2021,
          2022
         ],
         "xaxis": "x3",
         "y": [
          0.852760736196319,
          0.8918918918918919,
          0.8808510638297873,
          0.8791208791208791,
          0.8670520231213873,
          0.896969696969697,
          0.8541666666666666,
          0.9030303030303031
         ],
         "yaxis": "y3"
        },
        {
         "customdata": [
          [
           88152
          ],
          [
           87815
          ],
          [
           87279
          ],
          [
           88114
          ],
          [
           88586
          ],
          [
           88459
          ],
          [
           93154
          ],
          [
           93166
          ]
         ],
         "hovertemplate": "state=NJ<br>group=SEX<br>year=%{x}<br>base_rate=%{y}<br>len=%{customdata[0]}<extra></extra>",
         "legendgroup": "NJ",
         "line": {
          "color": "#FECB52",
          "dash": "solid"
         },
         "marker": {
          "symbol": "circle"
         },
         "mode": "lines",
         "name": "NJ",
         "showlegend": true,
         "type": "scattergl",
         "x": [
          2014,
          2015,
          2016,
          2017,
          2018,
          2019,
          2021,
          2022
         ],
         "xaxis": "x",
         "y": [
          0.06240607901970946,
          0.06628318650400838,
          0.07111411879967378,
          0.06603451830177598,
          0.07135607328412852,
          0.06264796308384468,
          0.06657474287131065,
          0.06832579362189212
         ],
         "yaxis": "y"
        },
        {
         "customdata": [
          [
           88152
          ],
          [
           87815
          ],
          [
           87279
          ],
          [
           88114
          ],
          [
           88586
          ],
          [
           88459
          ],
          [
           93154
          ],
          [
           93166
          ]
         ],
         "hovertemplate": "state=NJ<br>group=RAC1P<br>year=%{x}<br>base_rate=%{y}<br>len=%{customdata[0]}<extra></extra>",
         "legendgroup": "NJ",
         "line": {
          "color": "#FECB52",
          "dash": "solid"
         },
         "marker": {
          "symbol": "circle"
         },
         "mode": "lines",
         "name": "NJ",
         "showlegend": false,
         "type": "scattergl",
         "x": [
          2014,
          2015,
          2016,
          2017,
          2018,
          2019,
          2021,
          2022
         ],
         "xaxis": "x2",
         "y": [
          0.2165567210987347,
          0.34324324324324323,
          0.16365403250671717,
          0.1333397540109973,
          0.5357142857142857,
          0.6538461538461539,
          0.10876678315075428,
          0.53220696937698
         ],
         "yaxis": "y2"
        },
        {
         "customdata": [
          [
           88152
          ],
          [
           87815
          ],
          [
           87279
          ],
          [
           88114
          ],
          [
           88586
          ],
          [
           88459
          ],
          [
           93154
          ],
          [
           93166
          ]
         ],
         "hovertemplate": "state=NJ<br>group=AGEP<br>year=%{x}<br>base_rate=%{y}<br>len=%{customdata[0]}<extra></extra>",
         "legendgroup": "NJ",
         "line": {
          "color": "#FECB52",
          "dash": "solid"
         },
         "marker": {
          "symbol": "circle"
         },
         "mode": "lines",
         "name": "NJ",
         "showlegend": false,
         "type": "scattergl",
         "x": [
          2014,
          2015,
          2016,
          2017,
          2018,
          2019,
          2021,
          2022
         ],
         "xaxis": "x3",
         "y": [
          0.7927241962774958,
          0.8008583690987124,
          0.8135593220338984,
          0.8141509433962264,
          0.8326771653543307,
          0.8255924170616113,
          0.8073148974130241,
          0.8287292817679558
         ],
         "yaxis": "y3"
        },
        {
         "customdata": [
          [
           19283
          ],
          [
           19072
          ],
          [
           19060
          ],
          [
           19021
          ],
          [
           19247
          ],
          [
           19281
          ],
          [
           19533
          ],
          [
           20243
          ]
         ],
         "hovertemplate": "state=NM<br>group=SEX<br>year=%{x}<br>base_rate=%{y}<br>len=%{customdata[0]}<extra></extra>",
         "legendgroup": "NM",
         "line": {
          "color": "#636efa",
          "dash": "solid"
         },
         "marker": {
          "symbol": "circle"
         },
         "mode": "lines",
         "name": "NM",
         "showlegend": true,
         "type": "scattergl",
         "x": [
          2014,
          2015,
          2016,
          2017,
          2018,
          2019,
          2021,
          2022
         ],
         "xaxis": "x",
         "y": [
          0.03767561843547218,
          0.036682940919530505,
          0.02108294241055425,
          0.022381001025315095,
          0.03187246197673266,
          0.04018801699052582,
          0.02835327947246552,
          0.013607099793980504
         ],
         "yaxis": "y"
        },
        {
         "customdata": [
          [
           19283
          ],
          [
           19072
          ],
          [
           19060
          ],
          [
           19021
          ],
          [
           19247
          ],
          [
           19281
          ],
          [
           19533
          ],
          [
           20243
          ]
         ],
         "hovertemplate": "state=NM<br>group=RAC1P<br>year=%{x}<br>base_rate=%{y}<br>len=%{customdata[0]}<extra></extra>",
         "legendgroup": "NM",
         "line": {
          "color": "#636efa",
          "dash": "solid"
         },
         "marker": {
          "symbol": "circle"
         },
         "mode": "lines",
         "name": "NM",
         "showlegend": false,
         "type": "scattergl",
         "x": [
          2014,
          2015,
          2016,
          2017,
          2018,
          2019,
          2021,
          2022
         ],
         "xaxis": "x2",
         "y": [
          0.698680146026397,
          0.6982456140350877,
          0.346031746031746,
          0.4444444444444444,
          0.6869565217391305,
          0.5229885057471264,
          0.2368421052631579,
          0.24528301886792453
         ],
         "yaxis": "y2"
        },
        {
         "customdata": [
          [
           19283
          ],
          [
           19072
          ],
          [
           19060
          ],
          [
           19021
          ],
          [
           19247
          ],
          [
           19281
          ],
          [
           19533
          ],
          [
           20243
          ]
         ],
         "hovertemplate": "state=NM<br>group=AGEP<br>year=%{x}<br>base_rate=%{y}<br>len=%{customdata[0]}<extra></extra>",
         "legendgroup": "NM",
         "line": {
          "color": "#636efa",
          "dash": "solid"
         },
         "marker": {
          "symbol": "circle"
         },
         "mode": "lines",
         "name": "NM",
         "showlegend": false,
         "type": "scattergl",
         "x": [
          2014,
          2015,
          2016,
          2017,
          2018,
          2019,
          2021,
          2022
         ],
         "xaxis": "x3",
         "y": [
          0.7318435754189944,
          0.7461928934010152,
          0.7489878542510121,
          0.7405660377358491,
          0.7488151658767772,
          0.8349056603773585,
          0.7736842105263158,
          0.7647058823529411
         ],
         "yaxis": "y3"
        },
        {
         "customdata": [
          [
           196276
          ],
          [
           195742
          ],
          [
           196104
          ],
          [
           196585
          ],
          [
           196967
          ],
          [
           198788
          ],
          [
           200067
          ],
          [
           203891
          ]
         ],
         "hovertemplate": "state=NY<br>group=SEX<br>year=%{x}<br>base_rate=%{y}<br>len=%{customdata[0]}<extra></extra>",
         "legendgroup": "NY",
         "line": {
          "color": "#EF553B",
          "dash": "solid"
         },
         "marker": {
          "symbol": "circle"
         },
         "mode": "lines",
         "name": "NY",
         "showlegend": true,
         "type": "scattergl",
         "x": [
          2014,
          2015,
          2016,
          2017,
          2018,
          2019,
          2021,
          2022
         ],
         "xaxis": "x",
         "y": [
          0.04651483280017327,
          0.04978572340850679,
          0.05184633815170492,
          0.044765494583386856,
          0.043751764643890356,
          0.04290554539353181,
          0.036968919774660214,
          0.0340339904790799
         ],
         "yaxis": "y"
        },
        {
         "customdata": [
          [
           196276
          ],
          [
           195742
          ],
          [
           196104
          ],
          [
           196585
          ],
          [
           196967
          ],
          [
           198788
          ],
          [
           200067
          ],
          [
           203891
          ]
         ],
         "hovertemplate": "state=NY<br>group=RAC1P<br>year=%{x}<br>base_rate=%{y}<br>len=%{customdata[0]}<extra></extra>",
         "legendgroup": "NY",
         "line": {
          "color": "#EF553B",
          "dash": "solid"
         },
         "marker": {
          "symbol": "circle"
         },
         "mode": "lines",
         "name": "NY",
         "showlegend": false,
         "type": "scattergl",
         "x": [
          2014,
          2015,
          2016,
          2017,
          2018,
          2019,
          2021,
          2022
         ],
         "xaxis": "x2",
         "y": [
          0.6658153241650295,
          0.4755417564313775,
          0.6493100275988961,
          0.37336465819052883,
          0.25573770491803277,
          0.11016376836062808,
          0.4131386861313869,
          0.3470679280217555
         ],
         "yaxis": "y2"
        },
        {
         "customdata": [
          [
           196276
          ],
          [
           195742
          ],
          [
           196104
          ],
          [
           196585
          ],
          [
           196967
          ],
          [
           198788
          ],
          [
           200067
          ],
          [
           203891
          ]
         ],
         "hovertemplate": "state=NY<br>group=AGEP<br>year=%{x}<br>base_rate=%{y}<br>len=%{customdata[0]}<extra></extra>",
         "legendgroup": "NY",
         "line": {
          "color": "#EF553B",
          "dash": "solid"
         },
         "marker": {
          "symbol": "circle"
         },
         "mode": "lines",
         "name": "NY",
         "showlegend": false,
         "type": "scattergl",
         "x": [
          2014,
          2015,
          2016,
          2017,
          2018,
          2019,
          2021,
          2022
         ],
         "xaxis": "x3",
         "y": [
          0.7641860465116279,
          0.7774925117672229,
          0.7944700460829494,
          0.781594011448701,
          0.7927170868347339,
          0.8047097036134795,
          0.7617135207496654,
          0.8025177025963808
         ],
         "yaxis": "y3"
        },
        {
         "customdata": [
          [
           97830
          ],
          [
           98184
          ],
          [
           99596
          ],
          [
           101233
          ],
          [
           102523
          ],
          [
           103516
          ],
          [
           104337
          ],
          [
           109230
          ]
         ],
         "hovertemplate": "state=NC<br>group=SEX<br>year=%{x}<br>base_rate=%{y}<br>len=%{customdata[0]}<extra></extra>",
         "legendgroup": "NC",
         "line": {
          "color": "#00cc96",
          "dash": "solid"
         },
         "marker": {
          "symbol": "circle"
         },
         "mode": "lines",
         "name": "NC",
         "showlegend": true,
         "type": "scattergl",
         "x": [
          2014,
          2015,
          2016,
          2017,
          2018,
          2019,
          2021,
          2022
         ],
         "xaxis": "x",
         "y": [
          0.05073485877923034,
          0.05459542255765537,
          0.050700186422648064,
          0.04974647827547868,
          0.04943741949463537,
          0.05149499790657602,
          0.049821858966500654,
          0.03847345394784302
         ],
         "yaxis": "y"
        },
        {
         "customdata": [
          [
           97830
          ],
          [
           98184
          ],
          [
           99596
          ],
          [
           101233
          ],
          [
           102523
          ],
          [
           103516
          ],
          [
           104337
          ],
          [
           109230
          ]
         ],
         "hovertemplate": "state=NC<br>group=RAC1P<br>year=%{x}<br>base_rate=%{y}<br>len=%{customdata[0]}<extra></extra>",
         "legendgroup": "NC",
         "line": {
          "color": "#00cc96",
          "dash": "solid"
         },
         "marker": {
          "symbol": "circle"
         },
         "mode": "lines",
         "name": "NC",
         "showlegend": false,
         "type": "scattergl",
         "x": [
          2014,
          2015,
          2016,
          2017,
          2018,
          2019,
          2021,
          2022
         ],
         "xaxis": "x2",
         "y": [
          0.31720430107526887,
          0.15772211957888294,
          0.1955009461698129,
          0.21918561995597946,
          0.16606475249010078,
          0.19054221341916316,
          0.1572720946416145,
          0.20823995823995822
         ],
         "yaxis": "y2"
        },
        {
         "customdata": [
          [
           97830
          ],
          [
           98184
          ],
          [
           99596
          ],
          [
           101233
          ],
          [
           102523
          ],
          [
           103516
          ],
          [
           104337
          ],
          [
           109230
          ]
         ],
         "hovertemplate": "state=NC<br>group=AGEP<br>year=%{x}<br>base_rate=%{y}<br>len=%{customdata[0]}<extra></extra>",
         "legendgroup": "NC",
         "line": {
          "color": "#00cc96",
          "dash": "solid"
         },
         "marker": {
          "symbol": "circle"
         },
         "mode": "lines",
         "name": "NC",
         "showlegend": false,
         "type": "scattergl",
         "x": [
          2014,
          2015,
          2016,
          2017,
          2018,
          2019,
          2021,
          2022
         ],
         "xaxis": "x3",
         "y": [
          0.7587382779198636,
          0.7848101265822784,
          0.7959558823529411,
          0.7870065789473685,
          0.799645390070922,
          0.7909300538047656,
          0.7585910652920962,
          0.7839453458582408
         ],
         "yaxis": "y3"
        },
        {
         "customdata": [
          [
           7625
          ],
          [
           7869
          ],
          [
           7864
          ],
          [
           7892
          ],
          [
           7876
          ],
          [
           7960
          ],
          [
           7691
          ],
          [
           8107
          ]
         ],
         "hovertemplate": "state=ND<br>group=SEX<br>year=%{x}<br>base_rate=%{y}<br>len=%{customdata[0]}<extra></extra>",
         "legendgroup": "ND",
         "line": {
          "color": "#ab63fa",
          "dash": "solid"
         },
         "marker": {
          "symbol": "circle"
         },
         "mode": "lines",
         "name": "ND",
         "showlegend": true,
         "type": "scattergl",
         "x": [
          2014,
          2015,
          2016,
          2017,
          2018,
          2019,
          2021,
          2022
         ],
         "xaxis": "x",
         "y": [
          0.07240347742395764,
          0.05676199938495019,
          0.04989380269210092,
          0.06942421268155835,
          0.06927252471568718,
          0.059493921082889145,
          0.051854128823414336,
          0.05043868622596859
         ],
         "yaxis": "y"
        },
        {
         "customdata": [
          [
           7625
          ],
          [
           7869
          ],
          [
           7864
          ],
          [
           7892
          ],
          [
           7876
          ],
          [
           7960
          ],
          [
           7691
          ],
          [
           8107
          ]
         ],
         "hovertemplate": "state=ND<br>group=RAC1P<br>year=%{x}<br>base_rate=%{y}<br>len=%{customdata[0]}<extra></extra>",
         "legendgroup": "ND",
         "line": {
          "color": "#ab63fa",
          "dash": "solid"
         },
         "marker": {
          "symbol": "circle"
         },
         "mode": "lines",
         "name": "ND",
         "showlegend": false,
         "type": "scattergl",
         "x": [
          2014,
          2015,
          2016,
          2017,
          2018,
          2019,
          2021,
          2022
         ],
         "xaxis": "x2",
         "y": [
          0.7878787878787878,
          0.3392774530007991,
          0.75,
          0.28558585555888527,
          0.5263157894736842,
          0.5873015873015873,
          0.5933544303797469,
          0.4809027777777778
         ],
         "yaxis": "y2"
        },
        {
         "customdata": [
          [
           7625
          ],
          [
           7869
          ],
          [
           7864
          ],
          [
           7892
          ],
          [
           7876
          ],
          [
           7960
          ],
          [
           7691
          ],
          [
           8107
          ]
         ],
         "hovertemplate": "state=ND<br>group=AGEP<br>year=%{x}<br>base_rate=%{y}<br>len=%{customdata[0]}<extra></extra>",
         "legendgroup": "ND",
         "line": {
          "color": "#ab63fa",
          "dash": "solid"
         },
         "marker": {
          "symbol": "circle"
         },
         "mode": "lines",
         "name": "ND",
         "showlegend": false,
         "type": "scattergl",
         "x": [
          2014,
          2015,
          2016,
          2017,
          2018,
          2019,
          2021,
          2022
         ],
         "xaxis": "x3",
         "y": [
          0.8676470588235294,
          0.8783783783783784,
          0.8947368421052632,
          0.8904109589041096,
          0.8840579710144928,
          0.935064935064935,
          0.8846153846153846,
          0.9333333333333333
         ],
         "yaxis": "y3"
        },
        {
         "customdata": [
          [
           117468
          ],
          [
           118123
          ],
          [
           117426
          ],
          [
           118842
          ],
          [
           119086
          ],
          [
           119589
          ],
          [
           119869
          ],
          [
           120666
          ]
         ],
         "hovertemplate": "state=OH<br>group=SEX<br>year=%{x}<br>base_rate=%{y}<br>len=%{customdata[0]}<extra></extra>",
         "legendgroup": "OH",
         "line": {
          "color": "#FFA15A",
          "dash": "solid"
         },
         "marker": {
          "symbol": "circle"
         },
         "mode": "lines",
         "name": "OH",
         "showlegend": true,
         "type": "scattergl",
         "x": [
          2014,
          2015,
          2016,
          2017,
          2018,
          2019,
          2021,
          2022
         ],
         "xaxis": "x",
         "y": [
          0.05751071771864846,
          0.05610483774064928,
          0.05319122397850745,
          0.050714963976026206,
          0.051646240932860854,
          0.05696530786339654,
          0.05022367385553106,
          0.05251399166493176
         ],
         "yaxis": "y"
        },
        {
         "customdata": [
          [
           117468
          ],
          [
           118123
          ],
          [
           117426
          ],
          [
           118842
          ],
          [
           119086
          ],
          [
           119589
          ],
          [
           119869
          ],
          [
           120666
          ]
         ],
         "hovertemplate": "state=OH<br>group=RAC1P<br>year=%{x}<br>base_rate=%{y}<br>len=%{customdata[0]}<extra></extra>",
         "legendgroup": "OH",
         "line": {
          "color": "#FFA15A",
          "dash": "solid"
         },
         "marker": {
          "symbol": "circle"
         },
         "mode": "lines",
         "name": "OH",
         "showlegend": false,
         "type": "scattergl",
         "x": [
          2014,
          2015,
          2016,
          2017,
          2018,
          2019,
          2021,
          2022
         ],
         "xaxis": "x2",
         "y": [
          0.47734294541709577,
          0.6,
          0.20736022646850671,
          0.6862044317369549,
          0.6296296296296297,
          0.19249098282531912,
          0.1898296645398858,
          0.19132255912224777
         ],
         "yaxis": "y2"
        },
        {
         "customdata": [
          [
           117468
          ],
          [
           118123
          ],
          [
           117426
          ],
          [
           118842
          ],
          [
           119086
          ],
          [
           119589
          ],
          [
           119869
          ],
          [
           120666
          ]
         ],
         "hovertemplate": "state=OH<br>group=AGEP<br>year=%{x}<br>base_rate=%{y}<br>len=%{customdata[0]}<extra></extra>",
         "legendgroup": "OH",
         "line": {
          "color": "#FFA15A",
          "dash": "solid"
         },
         "marker": {
          "symbol": "circle"
         },
         "mode": "lines",
         "name": "OH",
         "showlegend": false,
         "type": "scattergl",
         "x": [
          2014,
          2015,
          2016,
          2017,
          2018,
          2019,
          2021,
          2022
         ],
         "xaxis": "x3",
         "y": [
          0.7829949238578681,
          0.7818419333768779,
          0.7954545454545454,
          0.8129496402877698,
          0.8133524766690596,
          0.8248,
          0.7886309047237791,
          0.8076923076923077
         ],
         "yaxis": "y3"
        },
        {
         "customdata": [
          [
           37293
          ],
          [
           37251
          ],
          [
           37022
          ],
          [
           37105
          ],
          [
           37648
          ],
          [
           37792
          ],
          [
           37780
          ],
          [
           39445
          ]
         ],
         "hovertemplate": "state=OK<br>group=SEX<br>year=%{x}<br>base_rate=%{y}<br>len=%{customdata[0]}<extra></extra>",
         "legendgroup": "OK",
         "line": {
          "color": "#19d3f3",
          "dash": "solid"
         },
         "marker": {
          "symbol": "circle"
         },
         "mode": "lines",
         "name": "OK",
         "showlegend": true,
         "type": "scattergl",
         "x": [
          2014,
          2015,
          2016,
          2017,
          2018,
          2019,
          2021,
          2022
         ],
         "xaxis": "x",
         "y": [
          0.06658245610765146,
          0.07427177346503722,
          0.05695981531010086,
          0.05113307561000019,
          0.05683341198758529,
          0.058233032935716855,
          0.03951336024451624,
          0.05446516573819643
         ],
         "yaxis": "y"
        },
        {
         "customdata": [
          [
           37293
          ],
          [
           37251
          ],
          [
           37022
          ],
          [
           37105
          ],
          [
           37648
          ],
          [
           37792
          ],
          [
           37780
          ],
          [
           39445
          ]
         ],
         "hovertemplate": "state=OK<br>group=RAC1P<br>year=%{x}<br>base_rate=%{y}<br>len=%{customdata[0]}<extra></extra>",
         "legendgroup": "OK",
         "line": {
          "color": "#19d3f3",
          "dash": "solid"
         },
         "marker": {
          "symbol": "circle"
         },
         "mode": "lines",
         "name": "OK",
         "showlegend": false,
         "type": "scattergl",
         "x": [
          2014,
          2015,
          2016,
          2017,
          2018,
          2019,
          2021,
          2022
         ],
         "xaxis": "x2",
         "y": [
          0.6889952153110048,
          0.29409780775716693,
          0.24961597542242708,
          0.2322069377990431,
          0.2,
          0.2033018867924528,
          0.15477338476374158,
          0.16153846153846152
         ],
         "yaxis": "y2"
        },
        {
         "customdata": [
          [
           37293
          ],
          [
           37251
          ],
          [
           37022
          ],
          [
           37105
          ],
          [
           37648
          ],
          [
           37792
          ],
          [
           37780
          ],
          [
           39445
          ]
         ],
         "hovertemplate": "state=OK<br>group=AGEP<br>year=%{x}<br>base_rate=%{y}<br>len=%{customdata[0]}<extra></extra>",
         "legendgroup": "OK",
         "line": {
          "color": "#19d3f3",
          "dash": "solid"
         },
         "marker": {
          "symbol": "circle"
         },
         "mode": "lines",
         "name": "OK",
         "showlegend": false,
         "type": "scattergl",
         "x": [
          2014,
          2015,
          2016,
          2017,
          2018,
          2019,
          2021,
          2022
         ],
         "xaxis": "x3",
         "y": [
          0.7480916030534351,
          0.7703703703703704,
          0.745920745920746,
          0.755056179775281,
          0.7535211267605634,
          0.7414965986394558,
          0.7214912280701754,
          0.7544303797468355
         ],
         "yaxis": "y3"
        },
        {
         "customdata": [
          [
           39336
          ],
          [
           39992
          ],
          [
           40269
          ],
          [
           41219
          ],
          [
           42117
          ],
          [
           42080
          ],
          [
           42752
          ],
          [
           43708
          ]
         ],
         "hovertemplate": "state=OR<br>group=SEX<br>year=%{x}<br>base_rate=%{y}<br>len=%{customdata[0]}<extra></extra>",
         "legendgroup": "OR",
         "line": {
          "color": "#FF6692",
          "dash": "solid"
         },
         "marker": {
          "symbol": "circle"
         },
         "mode": "lines",
         "name": "OR",
         "showlegend": true,
         "type": "scattergl",
         "x": [
          2014,
          2015,
          2016,
          2017,
          2018,
          2019,
          2021,
          2022
         ],
         "xaxis": "x",
         "y": [
          0.05057831278937619,
          0.04742423099433751,
          0.056900274698095776,
          0.05021205762300668,
          0.05000917408475314,
          0.040966835046287786,
          0.04994300045599637,
          0.03519872222749021
         ],
         "yaxis": "y"
        },
        {
         "customdata": [
          [
           39336
          ],
          [
           39992
          ],
          [
           40269
          ],
          [
           41219
          ],
          [
           42117
          ],
          [
           42080
          ],
          [
           42752
          ],
          [
           43708
          ]
         ],
         "hovertemplate": "state=OR<br>group=RAC1P<br>year=%{x}<br>base_rate=%{y}<br>len=%{customdata[0]}<extra></extra>",
         "legendgroup": "OR",
         "line": {
          "color": "#FF6692",
          "dash": "solid"
         },
         "marker": {
          "symbol": "circle"
         },
         "mode": "lines",
         "name": "OR",
         "showlegend": false,
         "type": "scattergl",
         "x": [
          2014,
          2015,
          2016,
          2017,
          2018,
          2019,
          2021,
          2022
         ],
         "xaxis": "x2",
         "y": [
          0.24456793206793206,
          0.2309081527347781,
          0.20149253731343286,
          0.17559523809523814,
          0.2549813200498133,
          0.16000855588252277,
          0.13528382095523883,
          0.26441102756892226
         ],
         "yaxis": "y2"
        },
        {
         "customdata": [
          [
           39336
          ],
          [
           39992
          ],
          [
           40269
          ],
          [
           41219
          ],
          [
           42117
          ],
          [
           42080
          ],
          [
           42752
          ],
          [
           43708
          ]
         ],
         "hovertemplate": "state=OR<br>group=AGEP<br>year=%{x}<br>base_rate=%{y}<br>len=%{customdata[0]}<extra></extra>",
         "legendgroup": "OR",
         "line": {
          "color": "#FF6692",
          "dash": "solid"
         },
         "marker": {
          "symbol": "circle"
         },
         "mode": "lines",
         "name": "OR",
         "showlegend": false,
         "type": "scattergl",
         "x": [
          2014,
          2015,
          2016,
          2017,
          2018,
          2019,
          2021,
          2022
         ],
         "xaxis": "x3",
         "y": [
          0.7748344370860927,
          0.8008130081300813,
          0.7933333333333333,
          0.8180076628352491,
          0.8351063829787234,
          0.8224956063268892,
          0.7981481481481482,
          0.8072916666666666
         ],
         "yaxis": "y3"
        },
        {
         "customdata": [
          [
           127859
          ],
          [
           128145
          ],
          [
           127270
          ],
          [
           127433
          ],
          [
           129066
          ],
          [
           129194
          ],
          [
           129787
          ],
          [
           132605
          ]
         ],
         "hovertemplate": "state=PA<br>group=SEX<br>year=%{x}<br>base_rate=%{y}<br>len=%{customdata[0]}<extra></extra>",
         "legendgroup": "PA",
         "line": {
          "color": "#B6E880",
          "dash": "solid"
         },
         "marker": {
          "symbol": "circle"
         },
         "mode": "lines",
         "name": "PA",
         "showlegend": true,
         "type": "scattergl",
         "x": [
          2014,
          2015,
          2016,
          2017,
          2018,
          2019,
          2021,
          2022
         ],
         "xaxis": "x",
         "y": [
          0.057113258100389475,
          0.0533326363872359,
          0.05290768777066779,
          0.058486669849633355,
          0.051129898602672474,
          0.054090199075142564,
          0.04908773581469711,
          0.05246911922847103
         ],
         "yaxis": "y"
        },
        {
         "customdata": [
          [
           127859
          ],
          [
           128145
          ],
          [
           127270
          ],
          [
           127433
          ],
          [
           129066
          ],
          [
           129194
          ],
          [
           129787
          ],
          [
           132605
          ]
         ],
         "hovertemplate": "state=PA<br>group=RAC1P<br>year=%{x}<br>base_rate=%{y}<br>len=%{customdata[0]}<extra></extra>",
         "legendgroup": "PA",
         "line": {
          "color": "#B6E880",
          "dash": "solid"
         },
         "marker": {
          "symbol": "circle"
         },
         "mode": "lines",
         "name": "PA",
         "showlegend": false,
         "type": "scattergl",
         "x": [
          2014,
          2015,
          2016,
          2017,
          2018,
          2019,
          2021,
          2022
         ],
         "xaxis": "x2",
         "y": [
          0.46998112920680063,
          0.37664543524416133,
          0.5365853658536586,
          0.5151515151515151,
          0.3878787878787878,
          0.22459920482236756,
          0.5119516679800368,
          0.17324246771879476
         ],
         "yaxis": "y2"
        },
        {
         "customdata": [
          [
           127859
          ],
          [
           128145
          ],
          [
           127270
          ],
          [
           127433
          ],
          [
           129066
          ],
          [
           129194
          ],
          [
           129787
          ],
          [
           132605
          ]
         ],
         "hovertemplate": "state=PA<br>group=AGEP<br>year=%{x}<br>base_rate=%{y}<br>len=%{customdata[0]}<extra></extra>",
         "legendgroup": "PA",
         "line": {
          "color": "#B6E880",
          "dash": "solid"
         },
         "marker": {
          "symbol": "circle"
         },
         "mode": "lines",
         "name": "PA",
         "showlegend": false,
         "type": "scattergl",
         "x": [
          2014,
          2015,
          2016,
          2017,
          2018,
          2019,
          2021,
          2022
         ],
         "xaxis": "x3",
         "y": [
          0.7946484131922837,
          0.7874924104432302,
          0.7912167026637869,
          0.8075766686710764,
          0.8126944617299315,
          0.817925194071983,
          0.7990867579908676,
          0.8200743494423792
         ],
         "yaxis": "y3"
        },
        {
         "customdata": [
          [
           10803
          ],
          [
           10563
          ],
          [
           10338
          ],
          [
           10516
          ],
          [
           10489
          ],
          [
           10447
          ],
          [
           10957
          ],
          [
           10401
          ]
         ],
         "hovertemplate": "state=RI<br>group=SEX<br>year=%{x}<br>base_rate=%{y}<br>len=%{customdata[0]}<extra></extra>",
         "legendgroup": "RI",
         "line": {
          "color": "#FF97FF",
          "dash": "solid"
         },
         "marker": {
          "symbol": "circle"
         },
         "mode": "lines",
         "name": "RI",
         "showlegend": true,
         "type": "scattergl",
         "x": [
          2014,
          2015,
          2016,
          2017,
          2018,
          2019,
          2021,
          2022
         ],
         "xaxis": "x",
         "y": [
          0.0515738508274603,
          0.04889961749711047,
          0.06739763651215985,
          0.056257868823313795,
          0.03737297003110829,
          0.044863062702114875,
          0.05181222133122482,
          0.03636004503716067
         ],
         "yaxis": "y"
        },
        {
         "customdata": [
          [
           10803
          ],
          [
           10563
          ],
          [
           10338
          ],
          [
           10516
          ],
          [
           10489
          ],
          [
           10447
          ],
          [
           10957
          ],
          [
           10401
          ]
         ],
         "hovertemplate": "state=RI<br>group=RAC1P<br>year=%{x}<br>base_rate=%{y}<br>len=%{customdata[0]}<extra></extra>",
         "legendgroup": "RI",
         "line": {
          "color": "#FF97FF",
          "dash": "solid"
         },
         "marker": {
          "symbol": "circle"
         },
         "mode": "lines",
         "name": "RI",
         "showlegend": false,
         "type": "scattergl",
         "x": [
          2014,
          2015,
          2016,
          2017,
          2018,
          2019,
          2021,
          2022
         ],
         "xaxis": "x2",
         "y": [
          0.20588235294117646,
          0.5,
          0.393939393939394,
          0.5228571428571429,
          0.20508463708643243,
          0.7,
          0.5,
          0.6666666666666666
         ],
         "yaxis": "y2"
        },
        {
         "customdata": [
          [
           10803
          ],
          [
           10563
          ],
          [
           10338
          ],
          [
           10516
          ],
          [
           10489
          ],
          [
           10447
          ],
          [
           10957
          ],
          [
           10401
          ]
         ],
         "hovertemplate": "state=RI<br>group=AGEP<br>year=%{x}<br>base_rate=%{y}<br>len=%{customdata[0]}<extra></extra>",
         "legendgroup": "RI",
         "line": {
          "color": "#FF97FF",
          "dash": "solid"
         },
         "marker": {
          "symbol": "circle"
         },
         "mode": "lines",
         "name": "RI",
         "showlegend": false,
         "type": "scattergl",
         "x": [
          2014,
          2015,
          2016,
          2017,
          2018,
          2019,
          2021,
          2022
         ],
         "xaxis": "x3",
         "y": [
          0.8547008547008547,
          0.8367346938775511,
          0.8955223880597015,
          0.8739495798319328,
          0.8953488372093024,
          0.873015873015873,
          0.8411214953271028,
          0.8857142857142857
         ],
         "yaxis": "y3"
        },
        {
         "customdata": [
          [
           47361
          ],
          [
           48023
          ],
          [
           48405
          ],
          [
           49438
          ],
          [
           49818
          ],
          [
           50893
          ],
          [
           51580
          ],
          [
           54651
          ]
         ],
         "hovertemplate": "state=SC<br>group=SEX<br>year=%{x}<br>base_rate=%{y}<br>len=%{customdata[0]}<extra></extra>",
         "legendgroup": "SC",
         "line": {
          "color": "#FECB52",
          "dash": "solid"
         },
         "marker": {
          "symbol": "circle"
         },
         "mode": "lines",
         "name": "SC",
         "showlegend": true,
         "type": "scattergl",
         "x": [
          2014,
          2015,
          2016,
          2017,
          2018,
          2019,
          2021,
          2022
         ],
         "xaxis": "x",
         "y": [
          0.052134811521640456,
          0.045453495684735556,
          0.049077563196734175,
          0.04293219706021456,
          0.040806625518603645,
          0.049224023990186494,
          0.05344057082288939,
          0.041922449281136975
         ],
         "yaxis": "y"
        },
        {
         "customdata": [
          [
           47361
          ],
          [
           48023
          ],
          [
           48405
          ],
          [
           49438
          ],
          [
           49818
          ],
          [
           50893
          ],
          [
           51580
          ],
          [
           54651
          ]
         ],
         "hovertemplate": "state=SC<br>group=RAC1P<br>year=%{x}<br>base_rate=%{y}<br>len=%{customdata[0]}<extra></extra>",
         "legendgroup": "SC",
         "line": {
          "color": "#FECB52",
          "dash": "solid"
         },
         "marker": {
          "symbol": "circle"
         },
         "mode": "lines",
         "name": "SC",
         "showlegend": false,
         "type": "scattergl",
         "x": [
          2014,
          2015,
          2016,
          2017,
          2018,
          2019,
          2021,
          2022
         ],
         "xaxis": "x2",
         "y": [
          0.3382352941176471,
          0.25785610520682006,
          0.18033884088611085,
          0.2936725375081539,
          0.696588868940754,
          0.49236641221374045,
          0.42105263157894735,
          0.2050962627406569
         ],
         "yaxis": "y2"
        },
        {
         "customdata": [
          [
           47361
          ],
          [
           48023
          ],
          [
           48405
          ],
          [
           49438
          ],
          [
           49818
          ],
          [
           50893
          ],
          [
           51580
          ],
          [
           54651
          ]
         ],
         "hovertemplate": "state=SC<br>group=AGEP<br>year=%{x}<br>base_rate=%{y}<br>len=%{customdata[0]}<extra></extra>",
         "legendgroup": "SC",
         "line": {
          "color": "#FECB52",
          "dash": "solid"
         },
         "marker": {
          "symbol": "circle"
         },
         "mode": "lines",
         "name": "SC",
         "showlegend": false,
         "type": "scattergl",
         "x": [
          2014,
          2015,
          2016,
          2017,
          2018,
          2019,
          2021,
          2022
         ],
         "xaxis": "x3",
         "y": [
          0.7882562277580071,
          0.7835820895522388,
          0.7650273224043715,
          0.7810457516339869,
          0.8155339805825242,
          0.7965811965811965,
          0.770949720670391,
          0.7891373801916933
         ],
         "yaxis": "y3"
        },
        {
         "customdata": [
          [
           8626
          ],
          [
           8742
          ],
          [
           8725
          ],
          [
           8881
          ],
          [
           8986
          ],
          [
           9128
          ],
          [
           8823
          ],
          [
           9296
          ]
         ],
         "hovertemplate": "state=SD<br>group=SEX<br>year=%{x}<br>base_rate=%{y}<br>len=%{customdata[0]}<extra></extra>",
         "legendgroup": "SD",
         "line": {
          "color": "#636efa",
          "dash": "solid"
         },
         "marker": {
          "symbol": "circle"
         },
         "mode": "lines",
         "name": "SD",
         "showlegend": true,
         "type": "scattergl",
         "x": [
          2014,
          2015,
          2016,
          2017,
          2018,
          2019,
          2021,
          2022
         ],
         "xaxis": "x",
         "y": [
          0.05413060614363846,
          0.06897583971455695,
          0.041007057098572275,
          0.07483966442878137,
          0.026338354321614244,
          0.031086394159198893,
          0.03211807393626043,
          0.05185305338846907
         ],
         "yaxis": "y"
        },
        {
         "customdata": [
          [
           8626
          ],
          [
           8742
          ],
          [
           8725
          ],
          [
           8881
          ],
          [
           8986
          ],
          [
           9128
          ],
          [
           8823
          ],
          [
           9296
          ]
         ],
         "hovertemplate": "state=SD<br>group=RAC1P<br>year=%{x}<br>base_rate=%{y}<br>len=%{customdata[0]}<extra></extra>",
         "legendgroup": "SD",
         "line": {
          "color": "#636efa",
          "dash": "solid"
         },
         "marker": {
          "symbol": "circle"
         },
         "mode": "lines",
         "name": "SD",
         "showlegend": false,
         "type": "scattergl",
         "x": [
          2014,
          2015,
          2016,
          2017,
          2018,
          2019,
          2021,
          2022
         ],
         "xaxis": "x2",
         "y": [
          0.8095238095238095,
          0.5078645694481472,
          0.5869565217391305,
          0.5333333333333333,
          0.6323529411764706,
          0.3762289325842697,
          0.353014553014553,
          0.3132678132678133
         ],
         "yaxis": "y2"
        },
        {
         "customdata": [
          [
           8626
          ],
          [
           8742
          ],
          [
           8725
          ],
          [
           8881
          ],
          [
           8986
          ],
          [
           9128
          ],
          [
           8823
          ],
          [
           9296
          ]
         ],
         "hovertemplate": "state=SD<br>group=AGEP<br>year=%{x}<br>base_rate=%{y}<br>len=%{customdata[0]}<extra></extra>",
         "legendgroup": "SD",
         "line": {
          "color": "#636efa",
          "dash": "solid"
         },
         "marker": {
          "symbol": "circle"
         },
         "mode": "lines",
         "name": "SD",
         "showlegend": false,
         "type": "scattergl",
         "x": [
          2014,
          2015,
          2016,
          2017,
          2018,
          2019,
          2021,
          2022
         ],
         "xaxis": "x3",
         "y": [
          0.9078947368421053,
          0.8761904761904762,
          0.8877551020408163,
          0.9107142857142857,
          0.9,
          0.9523809523809523,
          0.9,
          0.8902439024390244
         ],
         "yaxis": "y3"
        },
        {
         "customdata": [
          [
           65554
          ],
          [
           65549
          ],
          [
           65757
          ],
          [
           66575
          ],
          [
           67950
          ],
          [
           68415
          ],
          [
           69853
          ],
          [
           72374
          ]
         ],
         "hovertemplate": "state=TN<br>group=SEX<br>year=%{x}<br>base_rate=%{y}<br>len=%{customdata[0]}<extra></extra>",
         "legendgroup": "TN",
         "line": {
          "color": "#EF553B",
          "dash": "solid"
         },
         "marker": {
          "symbol": "circle"
         },
         "mode": "lines",
         "name": "TN",
         "showlegend": true,
         "type": "scattergl",
         "x": [
          2014,
          2015,
          2016,
          2017,
          2018,
          2019,
          2021,
          2022
         ],
         "xaxis": "x",
         "y": [
          0.055351734884414416,
          0.06247789912753282,
          0.057643140276163185,
          0.06368392190358613,
          0.05932233982355434,
          0.06077368110777054,
          0.060543078460701505,
          0.06658831675152505
         ],
         "yaxis": "y"
        },
        {
         "customdata": [
          [
           65554
          ],
          [
           65549
          ],
          [
           65757
          ],
          [
           66575
          ],
          [
           67950
          ],
          [
           68415
          ],
          [
           69853
          ],
          [
           72374
          ]
         ],
         "hovertemplate": "state=TN<br>group=RAC1P<br>year=%{x}<br>base_rate=%{y}<br>len=%{customdata[0]}<extra></extra>",
         "legendgroup": "TN",
         "line": {
          "color": "#EF553B",
          "dash": "solid"
         },
         "marker": {
          "symbol": "circle"
         },
         "mode": "lines",
         "name": "TN",
         "showlegend": false,
         "type": "scattergl",
         "x": [
          2014,
          2015,
          2016,
          2017,
          2018,
          2019,
          2021,
          2022
         ],
         "xaxis": "x2",
         "y": [
          0.4782608695652174,
          0.2142857142857143,
          0.48,
          0.2523278420137113,
          0.696521095484826,
          0.5174311926605505,
          0.32121212121212117,
          0.20673886883273168
         ],
         "yaxis": "y2"
        },
        {
         "customdata": [
          [
           65554
          ],
          [
           65549
          ],
          [
           65757
          ],
          [
           66575
          ],
          [
           67950
          ],
          [
           68415
          ],
          [
           69853
          ],
          [
           72374
          ]
         ],
         "hovertemplate": "state=TN<br>group=AGEP<br>year=%{x}<br>base_rate=%{y}<br>len=%{customdata[0]}<extra></extra>",
         "legendgroup": "TN",
         "line": {
          "color": "#EF553B",
          "dash": "solid"
         },
         "marker": {
          "symbol": "circle"
         },
         "mode": "lines",
         "name": "TN",
         "showlegend": false,
         "type": "scattergl",
         "x": [
          2014,
          2015,
          2016,
          2017,
          2018,
          2019,
          2021,
          2022
         ],
         "xaxis": "x3",
         "y": [
          0.7613504074505238,
          0.767277856135402,
          0.7686781609195402,
          0.7727873183619551,
          0.7807551766138855,
          0.7943805874840357,
          0.7728426395939086,
          0.7972350230414746
         ],
         "yaxis": "y3"
        },
        {
         "customdata": [
          [
           254883
          ],
          [
           259224
          ],
          [
           261896
          ],
          [
           265842
          ],
          [
           268100
          ],
          [
           272776
          ],
          [
           261446
          ],
          [
           292919
          ]
         ],
         "hovertemplate": "state=TX<br>group=SEX<br>year=%{x}<br>base_rate=%{y}<br>len=%{customdata[0]}<extra></extra>",
         "legendgroup": "TX",
         "line": {
          "color": "#00cc96",
          "dash": "solid"
         },
         "marker": {
          "symbol": "circle"
         },
         "mode": "lines",
         "name": "TX",
         "showlegend": true,
         "type": "scattergl",
         "x": [
          2014,
          2015,
          2016,
          2017,
          2018,
          2019,
          2021,
          2022
         ],
         "xaxis": "x",
         "y": [
          0.08245431035931905,
          0.08203124424986374,
          0.07809857031450962,
          0.07935874504463314,
          0.07871245821668682,
          0.07609359463686471,
          0.06798574287414388,
          0.06843675645288899
         ],
         "yaxis": "y"
        },
        {
         "customdata": [
          [
           254883
          ],
          [
           259224
          ],
          [
           261896
          ],
          [
           265842
          ],
          [
           268100
          ],
          [
           272776
          ],
          [
           261446
          ],
          [
           292919
          ]
         ],
         "hovertemplate": "state=TX<br>group=RAC1P<br>year=%{x}<br>base_rate=%{y}<br>len=%{customdata[0]}<extra></extra>",
         "legendgroup": "TX",
         "line": {
          "color": "#00cc96",
          "dash": "solid"
         },
         "marker": {
          "symbol": "circle"
         },
         "mode": "lines",
         "name": "TX",
         "showlegend": false,
         "type": "scattergl",
         "x": [
          2014,
          2015,
          2016,
          2017,
          2018,
          2019,
          2021,
          2022
         ],
         "xaxis": "x2",
         "y": [
          0.15955411900086003,
          0.1563118623420131,
          0.15599627395249105,
          0.23287686787482403,
          0.14531671647854222,
          0.1807306652716017,
          0.19828347229033844,
          0.2813214643457882
         ],
         "yaxis": "y2"
        },
        {
         "customdata": [
          [
           254883
          ],
          [
           259224
          ],
          [
           261896
          ],
          [
           265842
          ],
          [
           268100
          ],
          [
           272776
          ],
          [
           261446
          ],
          [
           292919
          ]
         ],
         "hovertemplate": "state=TX<br>group=AGEP<br>year=%{x}<br>base_rate=%{y}<br>len=%{customdata[0]}<extra></extra>",
         "legendgroup": "TX",
         "line": {
          "color": "#00cc96",
          "dash": "solid"
         },
         "marker": {
          "symbol": "circle"
         },
         "mode": "lines",
         "name": "TX",
         "showlegend": false,
         "type": "scattergl",
         "x": [
          2014,
          2015,
          2016,
          2017,
          2018,
          2019,
          2021,
          2022
         ],
         "xaxis": "x3",
         "y": [
          0.7538265306122449,
          0.7610373572090151,
          0.7619788425637835,
          0.7773302646720368,
          0.7804950790337012,
          0.77875,
          0.7464561855670103,
          0.773510307822649
         ],
         "yaxis": "y3"
        },
        {
         "customdata": [
          [
           28666
          ],
          [
           29290
          ],
          [
           29828
          ],
          [
           30904
          ],
          [
           31603
          ],
          [
           32371
          ],
          [
           33731
          ],
          [
           35537
          ]
         ],
         "hovertemplate": "state=UT<br>group=SEX<br>year=%{x}<br>base_rate=%{y}<br>len=%{customdata[0]}<extra></extra>",
         "legendgroup": "UT",
         "line": {
          "color": "#ab63fa",
          "dash": "solid"
         },
         "marker": {
          "symbol": "circle"
         },
         "mode": "lines",
         "name": "UT",
         "showlegend": true,
         "type": "scattergl",
         "x": [
          2014,
          2015,
          2016,
          2017,
          2018,
          2019,
          2021,
          2022
         ],
         "xaxis": "x",
         "y": [
          0.11245302538642543,
          0.10870223123001377,
          0.09878659463058592,
          0.09395903901747893,
          0.09974372560242195,
          0.10205991647218243,
          0.09775912428020606,
          0.09516715476982396
         ],
         "yaxis": "y"
        },
        {
         "customdata": [
          [
           28666
          ],
          [
           29290
          ],
          [
           29828
          ],
          [
           30904
          ],
          [
           31603
          ],
          [
           32371
          ],
          [
           33731
          ],
          [
           35537
          ]
         ],
         "hovertemplate": "state=UT<br>group=RAC1P<br>year=%{x}<br>base_rate=%{y}<br>len=%{customdata[0]}<extra></extra>",
         "legendgroup": "UT",
         "line": {
          "color": "#ab63fa",
          "dash": "solid"
         },
         "marker": {
          "symbol": "circle"
         },
         "mode": "lines",
         "name": "UT",
         "showlegend": false,
         "type": "scattergl",
         "x": [
          2014,
          2015,
          2016,
          2017,
          2018,
          2019,
          2021,
          2022
         ],
         "xaxis": "x2",
         "y": [
          0.24322943522254753,
          0.6858407079646018,
          0.2040135457167942,
          0.22955523672883787,
          0.41889063317634745,
          0.2861098292570374,
          0.4538461538461539,
          0.5793939393939394
         ],
         "yaxis": "y2"
        },
        {
         "customdata": [
          [
           28666
          ],
          [
           29290
          ],
          [
           29828
          ],
          [
           30904
          ],
          [
           31603
          ],
          [
           32371
          ],
          [
           33731
          ],
          [
           35537
          ]
         ],
         "hovertemplate": "state=UT<br>group=AGEP<br>year=%{x}<br>base_rate=%{y}<br>len=%{customdata[0]}<extra></extra>",
         "legendgroup": "UT",
         "line": {
          "color": "#ab63fa",
          "dash": "solid"
         },
         "marker": {
          "symbol": "circle"
         },
         "mode": "lines",
         "name": "UT",
         "showlegend": false,
         "type": "scattergl",
         "x": [
          2014,
          2015,
          2016,
          2017,
          2018,
          2019,
          2021,
          2022
         ],
         "xaxis": "x3",
         "y": [
          0.8044280442804428,
          0.8482758620689655,
          0.8525641025641025,
          0.8328767123287671,
          0.8432601880877743,
          0.8547945205479452,
          0.8257425742574257,
          0.8359375
         ],
         "yaxis": "y3"
        },
        {
         "customdata": [
          [
           6370
          ],
          [
           6326
          ],
          [
           6411
          ],
          [
           6340
          ],
          [
           6436
          ],
          [
           6543
          ],
          [
           6678
          ],
          [
           6860
          ]
         ],
         "hovertemplate": "state=VT<br>group=SEX<br>year=%{x}<br>base_rate=%{y}<br>len=%{customdata[0]}<extra></extra>",
         "legendgroup": "VT",
         "line": {
          "color": "#FFA15A",
          "dash": "solid"
         },
         "marker": {
          "symbol": "circle"
         },
         "mode": "lines",
         "name": "VT",
         "showlegend": true,
         "type": "scattergl",
         "x": [
          2014,
          2015,
          2016,
          2017,
          2018,
          2019,
          2021,
          2022
         ],
         "xaxis": "x",
         "y": [
          0.03902139724659259,
          0.03450885099275358,
          0.02871291737974091,
          0.031044369008392025,
          0.025878532447589142,
          0.02217309444275739,
          0.02356152733770872,
          0.020360888096358998
         ],
         "yaxis": "y"
        },
        {
         "customdata": [
          [
           6370
          ],
          [
           6326
          ],
          [
           6411
          ],
          [
           6340
          ],
          [
           6436
          ],
          [
           6543
          ],
          [
           6678
          ],
          [
           6860
          ]
         ],
         "hovertemplate": "state=VT<br>group=RAC1P<br>year=%{x}<br>base_rate=%{y}<br>len=%{customdata[0]}<extra></extra>",
         "legendgroup": "VT",
         "line": {
          "color": "#FFA15A",
          "dash": "solid"
         },
         "marker": {
          "symbol": "circle"
         },
         "mode": "lines",
         "name": "VT",
         "showlegend": false,
         "type": "scattergl",
         "x": [
          2014,
          2015,
          2016,
          2017,
          2018,
          2019,
          2021,
          2022
         ],
         "xaxis": "x2",
         "y": [
          0.7604166666666666,
          0.30808047493403695,
          0.7058823529411764,
          0.3192371475953565,
          0.64,
          1,
          0.5721518987341772,
          0.48810289389067524
         ],
         "yaxis": "y2"
        },
        {
         "customdata": [
          [
           6370
          ],
          [
           6326
          ],
          [
           6411
          ],
          [
           6340
          ],
          [
           6436
          ],
          [
           6543
          ],
          [
           6678
          ],
          [
           6860
          ]
         ],
         "hovertemplate": "state=VT<br>group=AGEP<br>year=%{x}<br>base_rate=%{y}<br>len=%{customdata[0]}<extra></extra>",
         "legendgroup": "VT",
         "line": {
          "color": "#FFA15A",
          "dash": "solid"
         },
         "marker": {
          "symbol": "circle"
         },
         "mode": "lines",
         "name": "VT",
         "showlegend": false,
         "type": "scattergl",
         "x": [
          2014,
          2015,
          2016,
          2017,
          2018,
          2019,
          2021,
          2022
         ],
         "xaxis": "x3",
         "y": [
          0.8928571428571429,
          0.922077922077922,
          0.9397590361445783,
          0.9142857142857143,
          0.9130434782608695,
          0.9154929577464789,
          0.9,
          0.8783783783783784
         ],
         "yaxis": "y3"
        },
        {
         "customdata": [
          [
           83393
          ],
          [
           83472
          ],
          [
           83546
          ],
          [
           84422
          ],
          [
           84755
          ],
          [
           84938
          ],
          [
           87093
          ],
          [
           88761
          ]
         ],
         "hovertemplate": "state=VA<br>group=SEX<br>year=%{x}<br>base_rate=%{y}<br>len=%{customdata[0]}<extra></extra>",
         "legendgroup": "VA",
         "line": {
          "color": "#19d3f3",
          "dash": "solid"
         },
         "marker": {
          "symbol": "circle"
         },
         "mode": "lines",
         "name": "VA",
         "showlegend": true,
         "type": "scattergl",
         "x": [
          2014,
          2015,
          2016,
          2017,
          2018,
          2019,
          2021,
          2022
         ],
         "xaxis": "x",
         "y": [
          0.04552488982008723,
          0.046333990711244,
          0.044304879653745355,
          0.041009472204368125,
          0.048066286536412706,
          0.03573963359740889,
          0.048067913305485155,
          0.033878093130120135
         ],
         "yaxis": "y"
        },
        {
         "customdata": [
          [
           83393
          ],
          [
           83472
          ],
          [
           83546
          ],
          [
           84422
          ],
          [
           84755
          ],
          [
           84938
          ],
          [
           87093
          ],
          [
           88761
          ]
         ],
         "hovertemplate": "state=VA<br>group=RAC1P<br>year=%{x}<br>base_rate=%{y}<br>len=%{customdata[0]}<extra></extra>",
         "legendgroup": "VA",
         "line": {
          "color": "#19d3f3",
          "dash": "solid"
         },
         "marker": {
          "symbol": "circle"
         },
         "mode": "lines",
         "name": "VA",
         "showlegend": false,
         "type": "scattergl",
         "x": [
          2014,
          2015,
          2016,
          2017,
          2018,
          2019,
          2021,
          2022
         ],
         "xaxis": "x2",
         "y": [
          0.2606060606060606,
          0.36712928335964984,
          0.1874948123916706,
          0.1826672127879862,
          0.1845976512426084,
          0.17934931821220745,
          0.2741635687732342,
          0.13267478882527622
         ],
         "yaxis": "y2"
        },
        {
         "customdata": [
          [
           83393
          ],
          [
           83472
          ],
          [
           83546
          ],
          [
           84422
          ],
          [
           84755
          ],
          [
           84938
          ],
          [
           87093
          ],
          [
           88761
          ]
         ],
         "hovertemplate": "state=VA<br>group=AGEP<br>year=%{x}<br>base_rate=%{y}<br>len=%{customdata[0]}<extra></extra>",
         "legendgroup": "VA",
         "line": {
          "color": "#19d3f3",
          "dash": "solid"
         },
         "marker": {
          "symbol": "circle"
         },
         "mode": "lines",
         "name": "VA",
         "showlegend": false,
         "type": "scattergl",
         "x": [
          2014,
          2015,
          2016,
          2017,
          2018,
          2019,
          2021,
          2022
         ],
         "xaxis": "x3",
         "y": [
          0.7851662404092071,
          0.7857142857142857,
          0.7888888888888889,
          0.8126626192541196,
          0.811,
          0.8134765625,
          0.7953586497890295,
          0.8229475766567754
         ],
         "yaxis": "y3"
        },
        {
         "customdata": [
          [
           70600
          ],
          [
           71804
          ],
          [
           72383
          ],
          [
           74695
          ],
          [
           76225
          ],
          [
           77879
          ],
          [
           78528
          ],
          [
           80818
          ]
         ],
         "hovertemplate": "state=WA<br>group=SEX<br>year=%{x}<br>base_rate=%{y}<br>len=%{customdata[0]}<extra></extra>",
         "legendgroup": "WA",
         "line": {
          "color": "#FF6692",
          "dash": "solid"
         },
         "marker": {
          "symbol": "circle"
         },
         "mode": "lines",
         "name": "WA",
         "showlegend": true,
         "type": "scattergl",
         "x": [
          2014,
          2015,
          2016,
          2017,
          2018,
          2019,
          2021,
          2022
         ],
         "xaxis": "x",
         "y": [
          0.05859992173625117,
          0.06493937642303349,
          0.06705666926382003,
          0.06366032287903495,
          0.059066528331116364,
          0.0638737076450625,
          0.058633316947441116,
          0.05898862529154214
         ],
         "yaxis": "y"
        },
        {
         "customdata": [
          [
           70600
          ],
          [
           71804
          ],
          [
           72383
          ],
          [
           74695
          ],
          [
           76225
          ],
          [
           77879
          ],
          [
           78528
          ],
          [
           80818
          ]
         ],
         "hovertemplate": "state=WA<br>group=RAC1P<br>year=%{x}<br>base_rate=%{y}<br>len=%{customdata[0]}<extra></extra>",
         "legendgroup": "WA",
         "line": {
          "color": "#FF6692",
          "dash": "solid"
         },
         "marker": {
          "symbol": "circle"
         },
         "mode": "lines",
         "name": "WA",
         "showlegend": false,
         "type": "scattergl",
         "x": [
          2014,
          2015,
          2016,
          2017,
          2018,
          2019,
          2021,
          2022
         ],
         "xaxis": "x2",
         "y": [
          0.1681643254351456,
          0.2290084234102639,
          0.17730408388520974,
          0.2535532994923858,
          0.14222409794411978,
          0.18051690420248467,
          0.2172765261226205,
          0.20675605730487534
         ],
         "yaxis": "y2"
        },
        {
         "customdata": [
          [
           70600
          ],
          [
           71804
          ],
          [
           72383
          ],
          [
           74695
          ],
          [
           76225
          ],
          [
           77879
          ],
          [
           78528
          ],
          [
           80818
          ]
         ],
         "hovertemplate": "state=WA<br>group=AGEP<br>year=%{x}<br>base_rate=%{y}<br>len=%{customdata[0]}<extra></extra>",
         "legendgroup": "WA",
         "line": {
          "color": "#FF6692",
          "dash": "solid"
         },
         "marker": {
          "symbol": "circle"
         },
         "mode": "lines",
         "name": "WA",
         "showlegend": false,
         "type": "scattergl",
         "x": [
          2014,
          2015,
          2016,
          2017,
          2018,
          2019,
          2021,
          2022
         ],
         "xaxis": "x3",
         "y": [
          0.7838114754098361,
          0.7761377613776138,
          0.784,
          0.8266509433962265,
          0.7989528795811518,
          0.8263157894736842,
          0.7790339157245632,
          0.7989473684210526
         ],
         "yaxis": "y3"
        },
        {
         "customdata": [
          [
           18216
          ],
          [
           18051
          ],
          [
           17909
          ],
          [
           17758
          ],
          [
           18066
          ],
          [
           18130
          ],
          [
           17428
          ],
          [
           18135
          ]
         ],
         "hovertemplate": "state=WV<br>group=SEX<br>year=%{x}<br>base_rate=%{y}<br>len=%{customdata[0]}<extra></extra>",
         "legendgroup": "WV",
         "line": {
          "color": "#B6E880",
          "dash": "solid"
         },
         "marker": {
          "symbol": "circle"
         },
         "mode": "lines",
         "name": "WV",
         "showlegend": true,
         "type": "scattergl",
         "x": [
          2014,
          2015,
          2016,
          2017,
          2018,
          2019,
          2021,
          2022
         ],
         "xaxis": "x",
         "y": [
          0.06508917274694853,
          0.06375515999606235,
          0.04664463286389314,
          0.05053922053922055,
          0.04528490715883593,
          0.04717018447357402,
          0.046844956512238245,
          0.05482313528426441
         ],
         "yaxis": "y"
        },
        {
         "customdata": [
          [
           18216
          ],
          [
           18051
          ],
          [
           17909
          ],
          [
           17758
          ],
          [
           18066
          ],
          [
           18130
          ],
          [
           17428
          ],
          [
           18135
          ]
         ],
         "hovertemplate": "state=WV<br>group=RAC1P<br>year=%{x}<br>base_rate=%{y}<br>len=%{customdata[0]}<extra></extra>",
         "legendgroup": "WV",
         "line": {
          "color": "#B6E880",
          "dash": "solid"
         },
         "marker": {
          "symbol": "circle"
         },
         "mode": "lines",
         "name": "WV",
         "showlegend": false,
         "type": "scattergl",
         "x": [
          2014,
          2015,
          2016,
          2017,
          2018,
          2019,
          2021,
          2022
         ],
         "xaxis": "x2",
         "y": [
          0.339864158829676,
          0.2867647058823529,
          0.5,
          0.8,
          0.5050505050505051,
          0.44966442953020136,
          0.4024725274725275,
          0.6882453151618398
         ],
         "yaxis": "y2"
        },
        {
         "customdata": [
          [
           18216
          ],
          [
           18051
          ],
          [
           17909
          ],
          [
           17758
          ],
          [
           18066
          ],
          [
           18130
          ],
          [
           17428
          ],
          [
           18135
          ]
         ],
         "hovertemplate": "state=WV<br>group=AGEP<br>year=%{x}<br>base_rate=%{y}<br>len=%{customdata[0]}<extra></extra>",
         "legendgroup": "WV",
         "line": {
          "color": "#B6E880",
          "dash": "solid"
         },
         "marker": {
          "symbol": "circle"
         },
         "mode": "lines",
         "name": "WV",
         "showlegend": false,
         "type": "scattergl",
         "x": [
          2014,
          2015,
          2016,
          2017,
          2018,
          2019,
          2021,
          2022
         ],
         "xaxis": "x3",
         "y": [
          0.7614678899082569,
          0.7538461538461538,
          0.7981651376146789,
          0.7355769230769231,
          0.7635467980295566,
          0.8228571428571428,
          0.7777777777777778,
          0.7823834196891192
         ],
         "yaxis": "y3"
        },
        {
         "customdata": [
          [
           58549
          ],
          [
           58578
          ],
          [
           58569
          ],
          [
           59059
          ],
          [
           59833
          ],
          [
           59767
          ],
          [
           60281
          ],
          [
           61967
          ]
         ],
         "hovertemplate": "state=WI<br>group=SEX<br>year=%{x}<br>base_rate=%{y}<br>len=%{customdata[0]}<extra></extra>",
         "legendgroup": "WI",
         "line": {
          "color": "#FF97FF",
          "dash": "solid"
         },
         "marker": {
          "symbol": "circle"
         },
         "mode": "lines",
         "name": "WI",
         "showlegend": true,
         "type": "scattergl",
         "x": [
          2014,
          2015,
          2016,
          2017,
          2018,
          2019,
          2021,
          2022
         ],
         "xaxis": "x",
         "y": [
          0.037283698517311226,
          0.033733700369608655,
          0.04278707128636705,
          0.04295305501543162,
          0.03534463463542714,
          0.035834680982576195,
          0.04097937401674301,
          0.03365743020769818
         ],
         "yaxis": "y"
        },
        {
         "customdata": [
          [
           58549
          ],
          [
           58578
          ],
          [
           58569
          ],
          [
           59059
          ],
          [
           59833
          ],
          [
           59767
          ],
          [
           60281
          ],
          [
           61967
          ]
         ],
         "hovertemplate": "state=WI<br>group=RAC1P<br>year=%{x}<br>base_rate=%{y}<br>len=%{customdata[0]}<extra></extra>",
         "legendgroup": "WI",
         "line": {
          "color": "#FF97FF",
          "dash": "solid"
         },
         "marker": {
          "symbol": "circle"
         },
         "mode": "lines",
         "name": "WI",
         "showlegend": false,
         "type": "scattergl",
         "x": [
          2014,
          2015,
          2016,
          2017,
          2018,
          2019,
          2021,
          2022
         ],
         "xaxis": "x2",
         "y": [
          0.6207792207792208,
          0.5555555555555556,
          0.8541666666666666,
          0.7307692307692308,
          0.251925263119293,
          0.2997416020671835,
          0.34979423868312753,
          0.5304114490161002
         ],
         "yaxis": "y2"
        },
        {
         "customdata": [
          [
           58549
          ],
          [
           58578
          ],
          [
           58569
          ],
          [
           59059
          ],
          [
           59833
          ],
          [
           59767
          ],
          [
           60281
          ],
          [
           61967
          ]
         ],
         "hovertemplate": "state=WI<br>group=AGEP<br>year=%{x}<br>base_rate=%{y}<br>len=%{customdata[0]}<extra></extra>",
         "legendgroup": "WI",
         "line": {
          "color": "#FF97FF",
          "dash": "solid"
         },
         "marker": {
          "symbol": "circle"
         },
         "mode": "lines",
         "name": "WI",
         "showlegend": false,
         "type": "scattergl",
         "x": [
          2014,
          2015,
          2016,
          2017,
          2018,
          2019,
          2021,
          2022
         ],
         "xaxis": "x3",
         "y": [
          0.8364611260053619,
          0.8668555240793201,
          0.8528925619834711,
          0.8626817447495961,
          0.8686708860759493,
          0.8622222222222222,
          0.8666666666666667,
          0.8529862174578867
         ],
         "yaxis": "y3"
        },
        {
         "customdata": [
          [
           5820
          ],
          [
           5819
          ],
          [
           5800
          ],
          [
           5912
          ],
          [
           5740
          ],
          [
           5967
          ],
          [
           5861
          ],
          [
           5962
          ]
         ],
         "hovertemplate": "state=WY<br>group=SEX<br>year=%{x}<br>base_rate=%{y}<br>len=%{customdata[0]}<extra></extra>",
         "legendgroup": "WY",
         "line": {
          "color": "#FECB52",
          "dash": "solid"
         },
         "marker": {
          "symbol": "circle"
         },
         "mode": "lines",
         "name": "WY",
         "showlegend": true,
         "type": "scattergl",
         "x": [
          2014,
          2015,
          2016,
          2017,
          2018,
          2019,
          2021,
          2022
         ],
         "xaxis": "x",
         "y": [
          0.06377158096945806,
          0.06815161137652404,
          0.07713202035123445,
          0.05814768040897905,
          0.056782014587196894,
          0.04056377750430784,
          0.06384895374463445,
          0.050733456781162534
         ],
         "yaxis": "y"
        },
        {
         "customdata": [
          [
           5820
          ],
          [
           5819
          ],
          [
           5800
          ],
          [
           5912
          ],
          [
           5740
          ],
          [
           5967
          ],
          [
           5861
          ],
          [
           5962
          ]
         ],
         "hovertemplate": "state=WY<br>group=RAC1P<br>year=%{x}<br>base_rate=%{y}<br>len=%{customdata[0]}<extra></extra>",
         "legendgroup": "WY",
         "line": {
          "color": "#FECB52",
          "dash": "solid"
         },
         "marker": {
          "symbol": "circle"
         },
         "mode": "lines",
         "name": "WY",
         "showlegend": false,
         "type": "scattergl",
         "x": [
          2014,
          2015,
          2016,
          2017,
          2018,
          2019,
          2021,
          2022
         ],
         "xaxis": "x2",
         "y": [
          0.3755020080321285,
          0.18493150684931509,
          0.32868217054263565,
          0.49122807017543857,
          0.8333333333333334,
          0.35064935064935066,
          0.6652892561983471,
          0.736842105263158
         ],
         "yaxis": "y2"
        },
        {
         "customdata": [
          [
           5820
          ],
          [
           5819
          ],
          [
           5800
          ],
          [
           5912
          ],
          [
           5740
          ],
          [
           5967
          ],
          [
           5861
          ],
          [
           5962
          ]
         ],
         "hovertemplate": "state=WY<br>group=AGEP<br>year=%{x}<br>base_rate=%{y}<br>len=%{customdata[0]}<extra></extra>",
         "legendgroup": "WY",
         "line": {
          "color": "#FECB52",
          "dash": "solid"
         },
         "marker": {
          "symbol": "circle"
         },
         "mode": "lines",
         "name": "WY",
         "showlegend": false,
         "type": "scattergl",
         "x": [
          2014,
          2015,
          2016,
          2017,
          2018,
          2019,
          2021,
          2022
         ],
         "xaxis": "x3",
         "y": [
          0.896551724137931,
          0.9032258064516129,
          0.8985507246376812,
          0.8714285714285714,
          0.9069767441860465,
          0.875,
          0.8783783783783784,
          0.8857142857142857
         ],
         "yaxis": "y3"
        },
        {
         "customdata": [
          [
           31506
          ],
          [
           30767
          ],
          [
           30224
          ],
          [
           20972
          ],
          [
           28117
          ],
          [
           27820
          ],
          [
           25909
          ],
          [
           28944
          ]
         ],
         "hovertemplate": "state=PR<br>group=SEX<br>year=%{x}<br>base_rate=%{y}<br>len=%{customdata[0]}<extra></extra>",
         "legendgroup": "PR",
         "line": {
          "color": "#636efa",
          "dash": "solid"
         },
         "marker": {
          "symbol": "circle"
         },
         "mode": "lines",
         "name": "PR",
         "showlegend": true,
         "type": "scattergl",
         "x": [
          2014,
          2015,
          2016,
          2017,
          2018,
          2019,
          2021,
          2022
         ],
         "xaxis": "x",
         "y": [
          0.06216645409976582,
          0.05579352531819606,
          0.0598974999442104,
          0.0513080465536237,
          0.07120761595094155,
          0.06681369915446711,
          0.06619418614007438,
          0.060194230258840964
         ],
         "yaxis": "y"
        },
        {
         "customdata": [
          [
           31506
          ],
          [
           30767
          ],
          [
           30224
          ],
          [
           20972
          ],
          [
           28117
          ],
          [
           27820
          ],
          [
           25909
          ],
          [
           28944
          ]
         ],
         "hovertemplate": "state=PR<br>group=RAC1P<br>year=%{x}<br>base_rate=%{y}<br>len=%{customdata[0]}<extra></extra>",
         "legendgroup": "PR",
         "line": {
          "color": "#636efa",
          "dash": "solid"
         },
         "marker": {
          "symbol": "circle"
         },
         "mode": "lines",
         "name": "PR",
         "showlegend": false,
         "type": "scattergl",
         "x": [
          2014,
          2015,
          2016,
          2017,
          2018,
          2019,
          2021,
          2022
         ],
         "xaxis": "x2",
         "y": [
          0.40816326530612246,
          0.07985903838157615,
          0.7191304347826086,
          0.1752136752136752,
          0.3333333333333333,
          0.37037037037037035,
          0.18309207837739014,
          0.46774193548387094
         ],
         "yaxis": "y2"
        },
        {
         "customdata": [
          [
           31506
          ],
          [
           30767
          ],
          [
           30224
          ],
          [
           20972
          ],
          [
           28117
          ],
          [
           27820
          ],
          [
           25909
          ],
          [
           28944
          ]
         ],
         "hovertemplate": "state=PR<br>group=AGEP<br>year=%{x}<br>base_rate=%{y}<br>len=%{customdata[0]}<extra></extra>",
         "legendgroup": "PR",
         "line": {
          "color": "#636efa",
          "dash": "solid"
         },
         "marker": {
          "symbol": "circle"
         },
         "mode": "lines",
         "name": "PR",
         "showlegend": false,
         "type": "scattergl",
         "x": [
          2014,
          2015,
          2016,
          2017,
          2018,
          2019,
          2021,
          2022
         ],
         "xaxis": "x3",
         "y": [
          0.6133333333333333,
          0.639751552795031,
          0.6706586826347305,
          0.6877637130801688,
          0.6867924528301886,
          0.7024221453287197,
          0.7035573122529645,
          0.7114754098360656
         ],
         "yaxis": "y3"
        }
       ],
       "layout": {
        "annotations": [
         {
          "font": {},
          "showarrow": false,
          "text": "group=SEX",
          "x": 0.15999999999999998,
          "xanchor": "center",
          "xref": "paper",
          "y": 1,
          "yanchor": "bottom",
          "yref": "paper"
         },
         {
          "font": {},
          "showarrow": false,
          "text": "group=RAC1P",
          "x": 0.49999999999999994,
          "xanchor": "center",
          "xref": "paper",
          "y": 1,
          "yanchor": "bottom",
          "yref": "paper"
         },
         {
          "font": {},
          "showarrow": false,
          "text": "group=AGEP",
          "x": 0.8399999999999999,
          "xanchor": "center",
          "xref": "paper",
          "y": 1,
          "yanchor": "bottom",
          "yref": "paper"
         }
        ],
        "legend": {
         "title": {
          "text": "state"
         },
         "tracegroupgap": 0
        },
        "margin": {
         "t": 60
        },
        "template": {
         "data": {
          "bar": [
           {
            "error_x": {
             "color": "#2a3f5f"
            },
            "error_y": {
             "color": "#2a3f5f"
            },
            "marker": {
             "line": {
              "color": "#E5ECF6",
              "width": 0.5
             },
             "pattern": {
              "fillmode": "overlay",
              "size": 10,
              "solidity": 0.2
             }
            },
            "type": "bar"
           }
          ],
          "barpolar": [
           {
            "marker": {
             "line": {
              "color": "#E5ECF6",
              "width": 0.5
             },
             "pattern": {
              "fillmode": "overlay",
              "size": 10,
              "solidity": 0.2
             }
            },
            "type": "barpolar"
           }
          ],
          "carpet": [
           {
            "aaxis": {
             "endlinecolor": "#2a3f5f",
             "gridcolor": "white",
             "linecolor": "white",
             "minorgridcolor": "white",
             "startlinecolor": "#2a3f5f"
            },
            "baxis": {
             "endlinecolor": "#2a3f5f",
             "gridcolor": "white",
             "linecolor": "white",
             "minorgridcolor": "white",
             "startlinecolor": "#2a3f5f"
            },
            "type": "carpet"
           }
          ],
          "choropleth": [
           {
            "colorbar": {
             "outlinewidth": 0,
             "ticks": ""
            },
            "type": "choropleth"
           }
          ],
          "contour": [
           {
            "colorbar": {
             "outlinewidth": 0,
             "ticks": ""
            },
            "colorscale": [
             [
              0,
              "#0d0887"
             ],
             [
              0.1111111111111111,
              "#46039f"
             ],
             [
              0.2222222222222222,
              "#7201a8"
             ],
             [
              0.3333333333333333,
              "#9c179e"
             ],
             [
              0.4444444444444444,
              "#bd3786"
             ],
             [
              0.5555555555555556,
              "#d8576b"
             ],
             [
              0.6666666666666666,
              "#ed7953"
             ],
             [
              0.7777777777777778,
              "#fb9f3a"
             ],
             [
              0.8888888888888888,
              "#fdca26"
             ],
             [
              1,
              "#f0f921"
             ]
            ],
            "type": "contour"
           }
          ],
          "contourcarpet": [
           {
            "colorbar": {
             "outlinewidth": 0,
             "ticks": ""
            },
            "type": "contourcarpet"
           }
          ],
          "heatmap": [
           {
            "colorbar": {
             "outlinewidth": 0,
             "ticks": ""
            },
            "colorscale": [
             [
              0,
              "#0d0887"
             ],
             [
              0.1111111111111111,
              "#46039f"
             ],
             [
              0.2222222222222222,
              "#7201a8"
             ],
             [
              0.3333333333333333,
              "#9c179e"
             ],
             [
              0.4444444444444444,
              "#bd3786"
             ],
             [
              0.5555555555555556,
              "#d8576b"
             ],
             [
              0.6666666666666666,
              "#ed7953"
             ],
             [
              0.7777777777777778,
              "#fb9f3a"
             ],
             [
              0.8888888888888888,
              "#fdca26"
             ],
             [
              1,
              "#f0f921"
             ]
            ],
            "type": "heatmap"
           }
          ],
          "heatmapgl": [
           {
            "colorbar": {
             "outlinewidth": 0,
             "ticks": ""
            },
            "colorscale": [
             [
              0,
              "#0d0887"
             ],
             [
              0.1111111111111111,
              "#46039f"
             ],
             [
              0.2222222222222222,
              "#7201a8"
             ],
             [
              0.3333333333333333,
              "#9c179e"
             ],
             [
              0.4444444444444444,
              "#bd3786"
             ],
             [
              0.5555555555555556,
              "#d8576b"
             ],
             [
              0.6666666666666666,
              "#ed7953"
             ],
             [
              0.7777777777777778,
              "#fb9f3a"
             ],
             [
              0.8888888888888888,
              "#fdca26"
             ],
             [
              1,
              "#f0f921"
             ]
            ],
            "type": "heatmapgl"
           }
          ],
          "histogram": [
           {
            "marker": {
             "pattern": {
              "fillmode": "overlay",
              "size": 10,
              "solidity": 0.2
             }
            },
            "type": "histogram"
           }
          ],
          "histogram2d": [
           {
            "colorbar": {
             "outlinewidth": 0,
             "ticks": ""
            },
            "colorscale": [
             [
              0,
              "#0d0887"
             ],
             [
              0.1111111111111111,
              "#46039f"
             ],
             [
              0.2222222222222222,
              "#7201a8"
             ],
             [
              0.3333333333333333,
              "#9c179e"
             ],
             [
              0.4444444444444444,
              "#bd3786"
             ],
             [
              0.5555555555555556,
              "#d8576b"
             ],
             [
              0.6666666666666666,
              "#ed7953"
             ],
             [
              0.7777777777777778,
              "#fb9f3a"
             ],
             [
              0.8888888888888888,
              "#fdca26"
             ],
             [
              1,
              "#f0f921"
             ]
            ],
            "type": "histogram2d"
           }
          ],
          "histogram2dcontour": [
           {
            "colorbar": {
             "outlinewidth": 0,
             "ticks": ""
            },
            "colorscale": [
             [
              0,
              "#0d0887"
             ],
             [
              0.1111111111111111,
              "#46039f"
             ],
             [
              0.2222222222222222,
              "#7201a8"
             ],
             [
              0.3333333333333333,
              "#9c179e"
             ],
             [
              0.4444444444444444,
              "#bd3786"
             ],
             [
              0.5555555555555556,
              "#d8576b"
             ],
             [
              0.6666666666666666,
              "#ed7953"
             ],
             [
              0.7777777777777778,
              "#fb9f3a"
             ],
             [
              0.8888888888888888,
              "#fdca26"
             ],
             [
              1,
              "#f0f921"
             ]
            ],
            "type": "histogram2dcontour"
           }
          ],
          "mesh3d": [
           {
            "colorbar": {
             "outlinewidth": 0,
             "ticks": ""
            },
            "type": "mesh3d"
           }
          ],
          "parcoords": [
           {
            "line": {
             "colorbar": {
              "outlinewidth": 0,
              "ticks": ""
             }
            },
            "type": "parcoords"
           }
          ],
          "pie": [
           {
            "automargin": true,
            "type": "pie"
           }
          ],
          "scatter": [
           {
            "fillpattern": {
             "fillmode": "overlay",
             "size": 10,
             "solidity": 0.2
            },
            "type": "scatter"
           }
          ],
          "scatter3d": [
           {
            "line": {
             "colorbar": {
              "outlinewidth": 0,
              "ticks": ""
             }
            },
            "marker": {
             "colorbar": {
              "outlinewidth": 0,
              "ticks": ""
             }
            },
            "type": "scatter3d"
           }
          ],
          "scattercarpet": [
           {
            "marker": {
             "colorbar": {
              "outlinewidth": 0,
              "ticks": ""
             }
            },
            "type": "scattercarpet"
           }
          ],
          "scattergeo": [
           {
            "marker": {
             "colorbar": {
              "outlinewidth": 0,
              "ticks": ""
             }
            },
            "type": "scattergeo"
           }
          ],
          "scattergl": [
           {
            "marker": {
             "colorbar": {
              "outlinewidth": 0,
              "ticks": ""
             }
            },
            "type": "scattergl"
           }
          ],
          "scattermapbox": [
           {
            "marker": {
             "colorbar": {
              "outlinewidth": 0,
              "ticks": ""
             }
            },
            "type": "scattermapbox"
           }
          ],
          "scatterpolar": [
           {
            "marker": {
             "colorbar": {
              "outlinewidth": 0,
              "ticks": ""
             }
            },
            "type": "scatterpolar"
           }
          ],
          "scatterpolargl": [
           {
            "marker": {
             "colorbar": {
              "outlinewidth": 0,
              "ticks": ""
             }
            },
            "type": "scatterpolargl"
           }
          ],
          "scatterternary": [
           {
            "marker": {
             "colorbar": {
              "outlinewidth": 0,
              "ticks": ""
             }
            },
            "type": "scatterternary"
           }
          ],
          "surface": [
           {
            "colorbar": {
             "outlinewidth": 0,
             "ticks": ""
            },
            "colorscale": [
             [
              0,
              "#0d0887"
             ],
             [
              0.1111111111111111,
              "#46039f"
             ],
             [
              0.2222222222222222,
              "#7201a8"
             ],
             [
              0.3333333333333333,
              "#9c179e"
             ],
             [
              0.4444444444444444,
              "#bd3786"
             ],
             [
              0.5555555555555556,
              "#d8576b"
             ],
             [
              0.6666666666666666,
              "#ed7953"
             ],
             [
              0.7777777777777778,
              "#fb9f3a"
             ],
             [
              0.8888888888888888,
              "#fdca26"
             ],
             [
              1,
              "#f0f921"
             ]
            ],
            "type": "surface"
           }
          ],
          "table": [
           {
            "cells": {
             "fill": {
              "color": "#EBF0F8"
             },
             "line": {
              "color": "white"
             }
            },
            "header": {
             "fill": {
              "color": "#C8D4E3"
             },
             "line": {
              "color": "white"
             }
            },
            "type": "table"
           }
          ]
         },
         "layout": {
          "annotationdefaults": {
           "arrowcolor": "#2a3f5f",
           "arrowhead": 0,
           "arrowwidth": 1
          },
          "autotypenumbers": "strict",
          "coloraxis": {
           "colorbar": {
            "outlinewidth": 0,
            "ticks": ""
           }
          },
          "colorscale": {
           "diverging": [
            [
             0,
             "#8e0152"
            ],
            [
             0.1,
             "#c51b7d"
            ],
            [
             0.2,
             "#de77ae"
            ],
            [
             0.3,
             "#f1b6da"
            ],
            [
             0.4,
             "#fde0ef"
            ],
            [
             0.5,
             "#f7f7f7"
            ],
            [
             0.6,
             "#e6f5d0"
            ],
            [
             0.7,
             "#b8e186"
            ],
            [
             0.8,
             "#7fbc41"
            ],
            [
             0.9,
             "#4d9221"
            ],
            [
             1,
             "#276419"
            ]
           ],
           "sequential": [
            [
             0,
             "#0d0887"
            ],
            [
             0.1111111111111111,
             "#46039f"
            ],
            [
             0.2222222222222222,
             "#7201a8"
            ],
            [
             0.3333333333333333,
             "#9c179e"
            ],
            [
             0.4444444444444444,
             "#bd3786"
            ],
            [
             0.5555555555555556,
             "#d8576b"
            ],
            [
             0.6666666666666666,
             "#ed7953"
            ],
            [
             0.7777777777777778,
             "#fb9f3a"
            ],
            [
             0.8888888888888888,
             "#fdca26"
            ],
            [
             1,
             "#f0f921"
            ]
           ],
           "sequentialminus": [
            [
             0,
             "#0d0887"
            ],
            [
             0.1111111111111111,
             "#46039f"
            ],
            [
             0.2222222222222222,
             "#7201a8"
            ],
            [
             0.3333333333333333,
             "#9c179e"
            ],
            [
             0.4444444444444444,
             "#bd3786"
            ],
            [
             0.5555555555555556,
             "#d8576b"
            ],
            [
             0.6666666666666666,
             "#ed7953"
            ],
            [
             0.7777777777777778,
             "#fb9f3a"
            ],
            [
             0.8888888888888888,
             "#fdca26"
            ],
            [
             1,
             "#f0f921"
            ]
           ]
          },
          "colorway": [
           "#636efa",
           "#EF553B",
           "#00cc96",
           "#ab63fa",
           "#FFA15A",
           "#19d3f3",
           "#FF6692",
           "#B6E880",
           "#FF97FF",
           "#FECB52"
          ],
          "font": {
           "color": "#2a3f5f"
          },
          "geo": {
           "bgcolor": "white",
           "lakecolor": "white",
           "landcolor": "#E5ECF6",
           "showlakes": true,
           "showland": true,
           "subunitcolor": "white"
          },
          "hoverlabel": {
           "align": "left"
          },
          "hovermode": "closest",
          "mapbox": {
           "style": "light"
          },
          "paper_bgcolor": "white",
          "plot_bgcolor": "#E5ECF6",
          "polar": {
           "angularaxis": {
            "gridcolor": "white",
            "linecolor": "white",
            "ticks": ""
           },
           "bgcolor": "#E5ECF6",
           "radialaxis": {
            "gridcolor": "white",
            "linecolor": "white",
            "ticks": ""
           }
          },
          "scene": {
           "xaxis": {
            "backgroundcolor": "#E5ECF6",
            "gridcolor": "white",
            "gridwidth": 2,
            "linecolor": "white",
            "showbackground": true,
            "ticks": "",
            "zerolinecolor": "white"
           },
           "yaxis": {
            "backgroundcolor": "#E5ECF6",
            "gridcolor": "white",
            "gridwidth": 2,
            "linecolor": "white",
            "showbackground": true,
            "ticks": "",
            "zerolinecolor": "white"
           },
           "zaxis": {
            "backgroundcolor": "#E5ECF6",
            "gridcolor": "white",
            "gridwidth": 2,
            "linecolor": "white",
            "showbackground": true,
            "ticks": "",
            "zerolinecolor": "white"
           }
          },
          "shapedefaults": {
           "line": {
            "color": "#2a3f5f"
           }
          },
          "ternary": {
           "aaxis": {
            "gridcolor": "white",
            "linecolor": "white",
            "ticks": ""
           },
           "baxis": {
            "gridcolor": "white",
            "linecolor": "white",
            "ticks": ""
           },
           "bgcolor": "#E5ECF6",
           "caxis": {
            "gridcolor": "white",
            "linecolor": "white",
            "ticks": ""
           }
          },
          "title": {
           "x": 0.05
          },
          "xaxis": {
           "automargin": true,
           "gridcolor": "white",
           "linecolor": "white",
           "ticks": "",
           "title": {
            "standoff": 15
           },
           "zerolinecolor": "white",
           "zerolinewidth": 2
          },
          "yaxis": {
           "automargin": true,
           "gridcolor": "white",
           "linecolor": "white",
           "ticks": "",
           "title": {
            "standoff": 15
           },
           "zerolinecolor": "white",
           "zerolinewidth": 2
          }
         }
        },
        "xaxis": {
         "anchor": "y",
         "domain": [
          0,
          0.31999999999999995
         ],
         "title": {
          "text": "year"
         }
        },
        "xaxis2": {
         "anchor": "y2",
         "domain": [
          0.33999999999999997,
          0.6599999999999999
         ],
         "matches": "x",
         "title": {
          "text": "year"
         }
        },
        "xaxis3": {
         "anchor": "y3",
         "domain": [
          0.6799999999999999,
          0.9999999999999999
         ],
         "matches": "x",
         "title": {
          "text": "year"
         }
        },
        "yaxis": {
         "anchor": "x",
         "domain": [
          0,
          1
         ],
         "title": {
          "text": "base_rate"
         }
        },
        "yaxis2": {
         "anchor": "x2",
         "domain": [
          0,
          1
         ],
         "matches": "y",
         "showticklabels": false
        },
        "yaxis3": {
         "anchor": "x3",
         "domain": [
          0,
          1
         ],
         "matches": "y",
         "showticklabels": false
        }
       }
      }
     },
     "metadata": {},
     "output_type": "display_data"
    }
   ],
   "source": [
    "px.line(\n",
    "    base_rate,\n",
    "    x=\"year\",\n",
    "    y=\"base_rate\",\n",
    "    color=\"state\",\n",
    "    facet_col=\"group\",\n",
    "    hover_data=\"len\",\n",
    ")"
   ]
  }
 ],
 "metadata": {
  "kernelspec": {
   "display_name": "default",
   "language": "python",
   "name": "python3"
  },
  "language_info": {
   "codemirror_mode": {
    "name": "ipython",
    "version": 3
   },
   "file_extension": ".py",
   "mimetype": "text/x-python",
   "name": "python",
   "nbconvert_exporter": "python",
   "pygments_lexer": "ipython3",
   "version": "3.12.6"
  }
 },
 "nbformat": 4,
 "nbformat_minor": 2
}
