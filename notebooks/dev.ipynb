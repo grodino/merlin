{
 "cells": [
  {
   "cell_type": "code",
   "execution_count": 14,
   "metadata": {},
   "outputs": [],
   "source": [
    "from math import sqrt\n",
    "import polars as pl\n",
    "from plotly import express as px"
   ]
  },
  {
   "cell_type": "code",
   "execution_count": 15,
   "metadata": {},
   "outputs": [],
   "source": [
    "audit = (\n",
    "    # pl.read_ndjson(\"../generated/dev5_ACSEmployment_binarized.jsonl\")\n",
    "    pl.read_ndjson(\"../generated/dev5_ACSEmployment_binarized_linear.jsonl\")\n",
    "    # .select(pl.all().exclude(\"model_params\"))\n",
    "    .group_by(\n",
    "        \"dataset\",\n",
    "        \"model_name\",\n",
    "        \"model_params\",\n",
    "        \"strategy\",\n",
    "        \"strategy_params\",\n",
    "        \"audit_budget\",\n",
    "        \"detection_tpr\",\n",
    "        \"detection_tnr\",\n",
    "    )\n",
    "    .mean()\n",
    "    .with_columns(\n",
    "        strategy_json=pl.col(\"strategy_params\").struct.json_encode(),\n",
    "        model_json=pl.col(\"model_params\").struct.json_encode(),\n",
    "    )\n",
    "    .sort(\"detection_tpr\", \"detection_tnr\", descending=[True, False])\n",
    ")"
   ]
  },
  {
   "cell_type": "code",
   "execution_count": 16,
   "metadata": {},
   "outputs": [
    {
     "data": {
      "application/vnd.plotly.v1+json": {
       "config": {
        "plotlyServerURL": "https://plot.ly"
       },
       "data": [
        {
         "hovertemplate": "model_name=exponentiated_gradient<br>demographic_parity_user=%{x}<br>utility_user=%{y}<extra></extra>",
         "legendgroup": "exponentiated_gradient",
         "marker": {
          "color": "#636efa",
          "symbol": "circle"
         },
         "mode": "markers",
         "name": "exponentiated_gradient",
         "orientation": "v",
         "showlegend": true,
         "type": "scatter",
         "x": [
          0.05764348984691753,
          0.048771108175647504,
          0.06054130712002427,
          0.04642043082694299,
          0.04373905634374662,
          0.030631258113030625,
          0.007329719281993241,
          0.027327145985944122,
          0.017122769095286317,
          0.01817839231899725
         ],
         "xaxis": "x",
         "y": [
          0.8197306152165998,
          0.8199344739716053,
          0.8197306152165998,
          0.8199781579905352,
          0.8201965780851838,
          0.8202839461230432,
          0.820385875500546,
          0.8202839461230432,
          0.8204149981798325,
          0.8202839461230432
         ],
         "yaxis": "y"
        },
        {
         "hovertemplate": "model_name=unconstrained<br>demographic_parity_user=%{x}<br>utility_user=%{y}<extra></extra>",
         "legendgroup": "unconstrained",
         "marker": {
          "color": "#EF553B",
          "symbol": "circle"
         },
         "mode": "markers",
         "name": "unconstrained",
         "orientation": "v",
         "showlegend": true,
         "type": "scatter",
         "x": [
          0.0880987345101874
         ],
         "xaxis": "x",
         "y": [
          0.8202548234437568
         ],
         "yaxis": "y"
        }
       ],
       "layout": {
        "height": 600,
        "legend": {
         "title": {
          "text": "model_name"
         },
         "tracegroupgap": 0
        },
        "template": {
         "data": {
          "bar": [
           {
            "error_x": {
             "color": "#2a3f5f"
            },
            "error_y": {
             "color": "#2a3f5f"
            },
            "marker": {
             "line": {
              "color": "#E5ECF6",
              "width": 0.5
             },
             "pattern": {
              "fillmode": "overlay",
              "size": 10,
              "solidity": 0.2
             }
            },
            "type": "bar"
           }
          ],
          "barpolar": [
           {
            "marker": {
             "line": {
              "color": "#E5ECF6",
              "width": 0.5
             },
             "pattern": {
              "fillmode": "overlay",
              "size": 10,
              "solidity": 0.2
             }
            },
            "type": "barpolar"
           }
          ],
          "carpet": [
           {
            "aaxis": {
             "endlinecolor": "#2a3f5f",
             "gridcolor": "white",
             "linecolor": "white",
             "minorgridcolor": "white",
             "startlinecolor": "#2a3f5f"
            },
            "baxis": {
             "endlinecolor": "#2a3f5f",
             "gridcolor": "white",
             "linecolor": "white",
             "minorgridcolor": "white",
             "startlinecolor": "#2a3f5f"
            },
            "type": "carpet"
           }
          ],
          "choropleth": [
           {
            "colorbar": {
             "outlinewidth": 0,
             "ticks": ""
            },
            "type": "choropleth"
           }
          ],
          "contour": [
           {
            "colorbar": {
             "outlinewidth": 0,
             "ticks": ""
            },
            "colorscale": [
             [
              0,
              "#0d0887"
             ],
             [
              0.1111111111111111,
              "#46039f"
             ],
             [
              0.2222222222222222,
              "#7201a8"
             ],
             [
              0.3333333333333333,
              "#9c179e"
             ],
             [
              0.4444444444444444,
              "#bd3786"
             ],
             [
              0.5555555555555556,
              "#d8576b"
             ],
             [
              0.6666666666666666,
              "#ed7953"
             ],
             [
              0.7777777777777778,
              "#fb9f3a"
             ],
             [
              0.8888888888888888,
              "#fdca26"
             ],
             [
              1,
              "#f0f921"
             ]
            ],
            "type": "contour"
           }
          ],
          "contourcarpet": [
           {
            "colorbar": {
             "outlinewidth": 0,
             "ticks": ""
            },
            "type": "contourcarpet"
           }
          ],
          "heatmap": [
           {
            "colorbar": {
             "outlinewidth": 0,
             "ticks": ""
            },
            "colorscale": [
             [
              0,
              "#0d0887"
             ],
             [
              0.1111111111111111,
              "#46039f"
             ],
             [
              0.2222222222222222,
              "#7201a8"
             ],
             [
              0.3333333333333333,
              "#9c179e"
             ],
             [
              0.4444444444444444,
              "#bd3786"
             ],
             [
              0.5555555555555556,
              "#d8576b"
             ],
             [
              0.6666666666666666,
              "#ed7953"
             ],
             [
              0.7777777777777778,
              "#fb9f3a"
             ],
             [
              0.8888888888888888,
              "#fdca26"
             ],
             [
              1,
              "#f0f921"
             ]
            ],
            "type": "heatmap"
           }
          ],
          "heatmapgl": [
           {
            "colorbar": {
             "outlinewidth": 0,
             "ticks": ""
            },
            "colorscale": [
             [
              0,
              "#0d0887"
             ],
             [
              0.1111111111111111,
              "#46039f"
             ],
             [
              0.2222222222222222,
              "#7201a8"
             ],
             [
              0.3333333333333333,
              "#9c179e"
             ],
             [
              0.4444444444444444,
              "#bd3786"
             ],
             [
              0.5555555555555556,
              "#d8576b"
             ],
             [
              0.6666666666666666,
              "#ed7953"
             ],
             [
              0.7777777777777778,
              "#fb9f3a"
             ],
             [
              0.8888888888888888,
              "#fdca26"
             ],
             [
              1,
              "#f0f921"
             ]
            ],
            "type": "heatmapgl"
           }
          ],
          "histogram": [
           {
            "marker": {
             "pattern": {
              "fillmode": "overlay",
              "size": 10,
              "solidity": 0.2
             }
            },
            "type": "histogram"
           }
          ],
          "histogram2d": [
           {
            "colorbar": {
             "outlinewidth": 0,
             "ticks": ""
            },
            "colorscale": [
             [
              0,
              "#0d0887"
             ],
             [
              0.1111111111111111,
              "#46039f"
             ],
             [
              0.2222222222222222,
              "#7201a8"
             ],
             [
              0.3333333333333333,
              "#9c179e"
             ],
             [
              0.4444444444444444,
              "#bd3786"
             ],
             [
              0.5555555555555556,
              "#d8576b"
             ],
             [
              0.6666666666666666,
              "#ed7953"
             ],
             [
              0.7777777777777778,
              "#fb9f3a"
             ],
             [
              0.8888888888888888,
              "#fdca26"
             ],
             [
              1,
              "#f0f921"
             ]
            ],
            "type": "histogram2d"
           }
          ],
          "histogram2dcontour": [
           {
            "colorbar": {
             "outlinewidth": 0,
             "ticks": ""
            },
            "colorscale": [
             [
              0,
              "#0d0887"
             ],
             [
              0.1111111111111111,
              "#46039f"
             ],
             [
              0.2222222222222222,
              "#7201a8"
             ],
             [
              0.3333333333333333,
              "#9c179e"
             ],
             [
              0.4444444444444444,
              "#bd3786"
             ],
             [
              0.5555555555555556,
              "#d8576b"
             ],
             [
              0.6666666666666666,
              "#ed7953"
             ],
             [
              0.7777777777777778,
              "#fb9f3a"
             ],
             [
              0.8888888888888888,
              "#fdca26"
             ],
             [
              1,
              "#f0f921"
             ]
            ],
            "type": "histogram2dcontour"
           }
          ],
          "mesh3d": [
           {
            "colorbar": {
             "outlinewidth": 0,
             "ticks": ""
            },
            "type": "mesh3d"
           }
          ],
          "parcoords": [
           {
            "line": {
             "colorbar": {
              "outlinewidth": 0,
              "ticks": ""
             }
            },
            "type": "parcoords"
           }
          ],
          "pie": [
           {
            "automargin": true,
            "type": "pie"
           }
          ],
          "scatter": [
           {
            "fillpattern": {
             "fillmode": "overlay",
             "size": 10,
             "solidity": 0.2
            },
            "type": "scatter"
           }
          ],
          "scatter3d": [
           {
            "line": {
             "colorbar": {
              "outlinewidth": 0,
              "ticks": ""
             }
            },
            "marker": {
             "colorbar": {
              "outlinewidth": 0,
              "ticks": ""
             }
            },
            "type": "scatter3d"
           }
          ],
          "scattercarpet": [
           {
            "marker": {
             "colorbar": {
              "outlinewidth": 0,
              "ticks": ""
             }
            },
            "type": "scattercarpet"
           }
          ],
          "scattergeo": [
           {
            "marker": {
             "colorbar": {
              "outlinewidth": 0,
              "ticks": ""
             }
            },
            "type": "scattergeo"
           }
          ],
          "scattergl": [
           {
            "marker": {
             "colorbar": {
              "outlinewidth": 0,
              "ticks": ""
             }
            },
            "type": "scattergl"
           }
          ],
          "scattermapbox": [
           {
            "marker": {
             "colorbar": {
              "outlinewidth": 0,
              "ticks": ""
             }
            },
            "type": "scattermapbox"
           }
          ],
          "scatterpolar": [
           {
            "marker": {
             "colorbar": {
              "outlinewidth": 0,
              "ticks": ""
             }
            },
            "type": "scatterpolar"
           }
          ],
          "scatterpolargl": [
           {
            "marker": {
             "colorbar": {
              "outlinewidth": 0,
              "ticks": ""
             }
            },
            "type": "scatterpolargl"
           }
          ],
          "scatterternary": [
           {
            "marker": {
             "colorbar": {
              "outlinewidth": 0,
              "ticks": ""
             }
            },
            "type": "scatterternary"
           }
          ],
          "surface": [
           {
            "colorbar": {
             "outlinewidth": 0,
             "ticks": ""
            },
            "colorscale": [
             [
              0,
              "#0d0887"
             ],
             [
              0.1111111111111111,
              "#46039f"
             ],
             [
              0.2222222222222222,
              "#7201a8"
             ],
             [
              0.3333333333333333,
              "#9c179e"
             ],
             [
              0.4444444444444444,
              "#bd3786"
             ],
             [
              0.5555555555555556,
              "#d8576b"
             ],
             [
              0.6666666666666666,
              "#ed7953"
             ],
             [
              0.7777777777777778,
              "#fb9f3a"
             ],
             [
              0.8888888888888888,
              "#fdca26"
             ],
             [
              1,
              "#f0f921"
             ]
            ],
            "type": "surface"
           }
          ],
          "table": [
           {
            "cells": {
             "fill": {
              "color": "#EBF0F8"
             },
             "line": {
              "color": "white"
             }
            },
            "header": {
             "fill": {
              "color": "#C8D4E3"
             },
             "line": {
              "color": "white"
             }
            },
            "type": "table"
           }
          ]
         },
         "layout": {
          "annotationdefaults": {
           "arrowcolor": "#2a3f5f",
           "arrowhead": 0,
           "arrowwidth": 1
          },
          "autotypenumbers": "strict",
          "coloraxis": {
           "colorbar": {
            "outlinewidth": 0,
            "ticks": ""
           }
          },
          "colorscale": {
           "diverging": [
            [
             0,
             "#8e0152"
            ],
            [
             0.1,
             "#c51b7d"
            ],
            [
             0.2,
             "#de77ae"
            ],
            [
             0.3,
             "#f1b6da"
            ],
            [
             0.4,
             "#fde0ef"
            ],
            [
             0.5,
             "#f7f7f7"
            ],
            [
             0.6,
             "#e6f5d0"
            ],
            [
             0.7,
             "#b8e186"
            ],
            [
             0.8,
             "#7fbc41"
            ],
            [
             0.9,
             "#4d9221"
            ],
            [
             1,
             "#276419"
            ]
           ],
           "sequential": [
            [
             0,
             "#0d0887"
            ],
            [
             0.1111111111111111,
             "#46039f"
            ],
            [
             0.2222222222222222,
             "#7201a8"
            ],
            [
             0.3333333333333333,
             "#9c179e"
            ],
            [
             0.4444444444444444,
             "#bd3786"
            ],
            [
             0.5555555555555556,
             "#d8576b"
            ],
            [
             0.6666666666666666,
             "#ed7953"
            ],
            [
             0.7777777777777778,
             "#fb9f3a"
            ],
            [
             0.8888888888888888,
             "#fdca26"
            ],
            [
             1,
             "#f0f921"
            ]
           ],
           "sequentialminus": [
            [
             0,
             "#0d0887"
            ],
            [
             0.1111111111111111,
             "#46039f"
            ],
            [
             0.2222222222222222,
             "#7201a8"
            ],
            [
             0.3333333333333333,
             "#9c179e"
            ],
            [
             0.4444444444444444,
             "#bd3786"
            ],
            [
             0.5555555555555556,
             "#d8576b"
            ],
            [
             0.6666666666666666,
             "#ed7953"
            ],
            [
             0.7777777777777778,
             "#fb9f3a"
            ],
            [
             0.8888888888888888,
             "#fdca26"
            ],
            [
             1,
             "#f0f921"
            ]
           ]
          },
          "colorway": [
           "#636efa",
           "#EF553B",
           "#00cc96",
           "#ab63fa",
           "#FFA15A",
           "#19d3f3",
           "#FF6692",
           "#B6E880",
           "#FF97FF",
           "#FECB52"
          ],
          "font": {
           "color": "#2a3f5f"
          },
          "geo": {
           "bgcolor": "white",
           "lakecolor": "white",
           "landcolor": "#E5ECF6",
           "showlakes": true,
           "showland": true,
           "subunitcolor": "white"
          },
          "hoverlabel": {
           "align": "left"
          },
          "hovermode": "closest",
          "mapbox": {
           "style": "light"
          },
          "paper_bgcolor": "white",
          "plot_bgcolor": "#E5ECF6",
          "polar": {
           "angularaxis": {
            "gridcolor": "white",
            "linecolor": "white",
            "ticks": ""
           },
           "bgcolor": "#E5ECF6",
           "radialaxis": {
            "gridcolor": "white",
            "linecolor": "white",
            "ticks": ""
           }
          },
          "scene": {
           "xaxis": {
            "backgroundcolor": "#E5ECF6",
            "gridcolor": "white",
            "gridwidth": 2,
            "linecolor": "white",
            "showbackground": true,
            "ticks": "",
            "zerolinecolor": "white"
           },
           "yaxis": {
            "backgroundcolor": "#E5ECF6",
            "gridcolor": "white",
            "gridwidth": 2,
            "linecolor": "white",
            "showbackground": true,
            "ticks": "",
            "zerolinecolor": "white"
           },
           "zaxis": {
            "backgroundcolor": "#E5ECF6",
            "gridcolor": "white",
            "gridwidth": 2,
            "linecolor": "white",
            "showbackground": true,
            "ticks": "",
            "zerolinecolor": "white"
           }
          },
          "shapedefaults": {
           "line": {
            "color": "#2a3f5f"
           }
          },
          "ternary": {
           "aaxis": {
            "gridcolor": "white",
            "linecolor": "white",
            "ticks": ""
           },
           "baxis": {
            "gridcolor": "white",
            "linecolor": "white",
            "ticks": ""
           },
           "bgcolor": "#E5ECF6",
           "caxis": {
            "gridcolor": "white",
            "linecolor": "white",
            "ticks": ""
           }
          },
          "title": {
           "x": 0.05
          },
          "xaxis": {
           "automargin": true,
           "gridcolor": "white",
           "linecolor": "white",
           "ticks": "",
           "title": {
            "standoff": 15
           },
           "zerolinecolor": "white",
           "zerolinewidth": 2
          },
          "yaxis": {
           "automargin": true,
           "gridcolor": "white",
           "linecolor": "white",
           "ticks": "",
           "title": {
            "standoff": 15
           },
           "zerolinecolor": "white",
           "zerolinewidth": 2
          }
         }
        },
        "title": {
         "text": "Honest platform"
        },
        "width": 800,
        "xaxis": {
         "anchor": "y",
         "domain": [
          0,
          1
         ],
         "title": {
          "text": "demographic_parity_user"
         }
        },
        "yaxis": {
         "anchor": "x",
         "domain": [
          0,
          1
         ],
         "title": {
          "text": "utility_user"
         }
        }
       }
      }
     },
     "metadata": {},
     "output_type": "display_data"
    }
   ],
   "source": [
    "fig = px.scatter(\n",
    "    audit.filter(\n",
    "        pl.col(\"detection_tnr\") == 1.0,\n",
    "        pl.col(\"detection_tpr\") == 1.0,\n",
    "        pl.col(\"strategy\") == \"honest\",\n",
    "    ),\n",
    "    x=\"demographic_parity_user\",\n",
    "    y=\"utility_user\",\n",
    "    color=\"model_name\",\n",
    "    category_orders={\"strategy\": audit[\"strategy\"].unique().sort().to_list()},\n",
    "    height=600,\n",
    "    width=800,\n",
    "    title=\"Honest platform\",\n",
    ")\n",
    "fig.show()"
   ]
  },
  {
   "cell_type": "code",
   "execution_count": 17,
   "metadata": {},
   "outputs": [
    {
     "data": {
      "application/vnd.plotly.v1+json": {
       "config": {
        "plotlyServerURL": "https://plot.ly"
       },
       "data": [
        {
         "customdata": [
          [
           "{\"epsilon\":null,\"theta\":0.3333333333333333}",
           "{\"epsilon\":null}",
           "unconstrained"
          ],
          [
           "{\"epsilon\":null,\"theta\":0.36666666666666664}",
           "{\"epsilon\":null}",
           "unconstrained"
          ],
          [
           "{\"epsilon\":null,\"theta\":0.6}",
           "{\"epsilon\":null}",
           "unconstrained"
          ],
          [
           "{\"epsilon\":null,\"theta\":0.4666666666666667}",
           "{\"epsilon\":null}",
           "unconstrained"
          ],
          [
           "{\"epsilon\":null,\"theta\":0.4}",
           "{\"epsilon\":null}",
           "unconstrained"
          ],
          [
           "{\"epsilon\":null,\"theta\":0.5666666666666667}",
           "{\"epsilon\":null}",
           "unconstrained"
          ],
          [
           "{\"epsilon\":null,\"theta\":0.5}",
           "{\"epsilon\":null}",
           "unconstrained"
          ],
          [
           "{\"epsilon\":null,\"theta\":0.3}",
           "{\"epsilon\":null}",
           "unconstrained"
          ],
          [
           "{\"epsilon\":null,\"theta\":0.43333333333333335}",
           "{\"epsilon\":null}",
           "unconstrained"
          ],
          [
           "{\"epsilon\":null,\"theta\":0.5333333333333333}",
           "{\"epsilon\":null}",
           "unconstrained"
          ]
         ],
         "hovertemplate": "strategy=ROC_mitigation<br>is_honest=sneaky<br>demographic_parity_audit=%{x}<br>utility_user=%{y}<br>size=%{marker.size}<br>strategy_json=%{customdata[0]}<br>model_json=%{customdata[1]}<br>model_name=%{customdata[2]}<extra></extra>",
         "legendgroup": "ROC_mitigation, sneaky",
         "marker": {
          "color": "#636efa",
          "size": [
           10,
           10,
           10,
           10,
           10,
           10,
           10,
           10,
           10,
           10
          ],
          "sizemode": "area",
          "sizeref": 0.1,
          "symbol": "circle"
         },
         "mode": "markers",
         "name": "ROC_mitigation, sneaky",
         "orientation": "v",
         "showlegend": true,
         "type": "scatter",
         "x": [
          0.0810165492309857,
          0.0810165492309857,
          0.047571733177474006,
          0.0810165492309857,
          0.0810165492309857,
          0.05014557695013581,
          0.0810165492309857,
          0.0810165492309857,
          0.0810165492309857,
          0.05537552358996004
         ],
         "xaxis": "x",
         "y": [
          0.8202548234437568,
          0.8202548234437568,
          0.8127994175464144,
          0.8202548234437568,
          0.8202548234437568,
          0.8183909719694211,
          0.8202548234437568,
          0.8202548234437568,
          0.8202548234437568,
          0.8203567528212595
         ],
         "yaxis": "y"
        },
        {
         "customdata": [
          [
           "{\"epsilon\":null,\"theta\":null}",
           "{\"epsilon\":null}",
           "unconstrained"
          ]
         ],
         "hovertemplate": "strategy=always_no<br>is_honest=sneaky<br>demographic_parity_audit=%{x}<br>utility_user=%{y}<br>size=%{marker.size}<br>strategy_json=%{customdata[0]}<br>model_json=%{customdata[1]}<br>model_name=%{customdata[2]}<extra></extra>",
         "legendgroup": "always_no, sneaky",
         "marker": {
          "color": "#EF553B",
          "size": [
           10
          ],
          "sizemode": "area",
          "sizeref": 0.1,
          "symbol": "circle"
         },
         "mode": "markers",
         "name": "always_no, sneaky",
         "orientation": "v",
         "showlegend": true,
         "type": "scatter",
         "x": [
          0
         ],
         "xaxis": "x",
         "y": [
          0.5021477975973789
         ],
         "yaxis": "y"
        },
        {
         "customdata": [
          [
           "{\"epsilon\":null,\"theta\":null}",
           "{\"epsilon\":null}",
           "unconstrained"
          ]
         ],
         "hovertemplate": "strategy=always_yes<br>is_honest=sneaky<br>demographic_parity_audit=%{x}<br>utility_user=%{y}<br>size=%{marker.size}<br>strategy_json=%{customdata[0]}<br>model_json=%{customdata[1]}<br>model_name=%{customdata[2]}<extra></extra>",
         "legendgroup": "always_yes, sneaky",
         "marker": {
          "color": "#00cc96",
          "size": [
           10
          ],
          "sizemode": "area",
          "sizeref": 0.1,
          "symbol": "circle"
         },
         "mode": "markers",
         "name": "always_yes, sneaky",
         "orientation": "v",
         "showlegend": true,
         "type": "scatter",
         "x": [
          0
         ],
         "xaxis": "x",
         "y": [
          0.497852202402621
         ],
         "yaxis": "y"
        },
        {
         "customdata": [
          [
           "{\"epsilon\":null,\"theta\":null}",
           "{\"epsilon\":null}",
           "unconstrained"
          ],
          [
           "{\"epsilon\":null,\"theta\":null}",
           "{\"epsilon\":0.08900000000000001}",
           "exponentiated_gradient"
          ],
          [
           "{\"epsilon\":null,\"theta\":null}",
           "{\"epsilon\":0.045000000000000005}",
           "exponentiated_gradient"
          ],
          [
           "{\"epsilon\":null,\"theta\":null}",
           "{\"epsilon\":0.07800000000000001}",
           "exponentiated_gradient"
          ],
          [
           "{\"epsilon\":null,\"theta\":null}",
           "{\"epsilon\":0.012}",
           "exponentiated_gradient"
          ],
          [
           "{\"epsilon\":null,\"theta\":null}",
           "{\"epsilon\":0.067}",
           "exponentiated_gradient"
          ],
          [
           "{\"epsilon\":null,\"theta\":null}",
           "{\"epsilon\":0.023000000000000003}",
           "exponentiated_gradient"
          ],
          [
           "{\"epsilon\":null,\"theta\":null}",
           "{\"epsilon\":0.05600000000000001}",
           "exponentiated_gradient"
          ],
          [
           "{\"epsilon\":null,\"theta\":null}",
           "{\"epsilon\":0.001}",
           "exponentiated_gradient"
          ],
          [
           "{\"epsilon\":null,\"theta\":null}",
           "{\"epsilon\":0.034}",
           "exponentiated_gradient"
          ],
          [
           "{\"epsilon\":null,\"theta\":null}",
           "{\"epsilon\":0.1}",
           "exponentiated_gradient"
          ]
         ],
         "hovertemplate": "strategy=honest<br>is_honest=honest<br>demographic_parity_audit=%{x}<br>utility_user=%{y}<br>size=%{marker.size}<br>strategy_json=%{customdata[0]}<br>model_json=%{customdata[1]}<br>model_name=%{customdata[2]}<extra></extra>",
         "legendgroup": "honest, honest",
         "marker": {
          "color": "#ab63fa",
          "size": [
           10,
           10,
           10,
           10,
           10,
           10,
           10,
           10,
           10,
           10,
           10
          ],
          "sizemode": "area",
          "sizeref": 0.1,
          "symbol": "diamond"
         },
         "mode": "markers",
         "name": "honest, honest",
         "orientation": "v",
         "showlegend": true,
         "type": "scatter",
         "x": [
          0.0810165492309857,
          0.048124276174086184,
          0.05742713034819408,
          0.048124276174086184,
          0.039982249353291976,
          0.04166801961229985,
          0.033042179433061626,
          0.03876459828338258,
          0.04042818023400545,
          0.031749845764197794,
          0.05194499464233529
         ],
         "xaxis": "x",
         "y": [
          0.8202548234437568,
          0.818547506370586,
          0.8190571532580998,
          0.8186021113942483,
          0.8204149981798328,
          0.8185839097196943,
          0.8202693847834001,
          0.8190207499089917,
          0.8206334182744813,
          0.8204004368401894,
          0.818547506370586
         ],
         "yaxis": "y"
        },
        {
         "customdata": [
          [
           "{\"epsilon\":null,\"theta\":null}",
           "{\"epsilon\":null}",
           "unconstrained"
          ]
         ],
         "hovertemplate": "strategy=model_swap<br>is_honest=sneaky<br>demographic_parity_audit=%{x}<br>utility_user=%{y}<br>size=%{marker.size}<br>strategy_json=%{customdata[0]}<br>model_json=%{customdata[1]}<br>model_name=%{customdata[2]}<extra></extra>",
         "legendgroup": "model_swap, sneaky",
         "marker": {
          "color": "#FFA15A",
          "size": [
           10
          ],
          "sizemode": "area",
          "sizeref": 0.1,
          "symbol": "circle"
         },
         "mode": "markers",
         "name": "model_swap, sneaky",
         "orientation": "v",
         "showlegend": true,
         "type": "scatter",
         "x": [
          0.03741706443268285
         ],
         "xaxis": "x",
         "y": [
          0.8202548234437568
         ],
         "yaxis": "y"
        },
        {
         "customdata": [
          [
           "{\"epsilon\":3.0,\"theta\":null}",
           "{\"epsilon\":null}",
           "unconstrained"
          ],
          [
           "{\"epsilon\":8.0,\"theta\":null}",
           "{\"epsilon\":null}",
           "unconstrained"
          ],
          [
           "{\"epsilon\":2.0,\"theta\":null}",
           "{\"epsilon\":null}",
           "unconstrained"
          ],
          [
           "{\"epsilon\":9.0,\"theta\":null}",
           "{\"epsilon\":null}",
           "unconstrained"
          ],
          [
           "{\"epsilon\":1.0,\"theta\":null}",
           "{\"epsilon\":null}",
           "unconstrained"
          ],
          [
           "{\"epsilon\":4.0,\"theta\":null}",
           "{\"epsilon\":null}",
           "unconstrained"
          ],
          [
           "{\"epsilon\":5.0,\"theta\":null}",
           "{\"epsilon\":null}",
           "unconstrained"
          ],
          [
           "{\"epsilon\":10.0,\"theta\":null}",
           "{\"epsilon\":null}",
           "unconstrained"
          ],
          [
           "{\"epsilon\":7.0,\"theta\":null}",
           "{\"epsilon\":null}",
           "unconstrained"
          ],
          [
           "{\"epsilon\":6.0,\"theta\":null}",
           "{\"epsilon\":null}",
           "unconstrained"
          ]
         ],
         "hovertemplate": "strategy=randomized_response<br>is_honest=sneaky<br>demographic_parity_audit=%{x}<br>utility_user=%{y}<br>size=%{marker.size}<br>strategy_json=%{customdata[0]}<br>model_json=%{customdata[1]}<br>model_name=%{customdata[2]}<extra></extra>",
         "legendgroup": "randomized_response, sneaky",
         "marker": {
          "color": "#19d3f3",
          "size": [
           10,
           10,
           10,
           10,
           10,
           10,
           10,
           10,
           10,
           10
          ],
          "sizemode": "area",
          "sizeref": 0.1,
          "symbol": "circle"
         },
         "mode": "markers",
         "name": "randomized_response, sneaky",
         "orientation": "v",
         "showlegend": true,
         "type": "scatter",
         "x": [
          0.0810165492309857,
          0.0810165492309857,
          0.0810165492309857,
          0.0810165492309857,
          0.0810165492309857,
          0.0810165492309857,
          0.0810165492309857,
          0.0810165492309857,
          0.0810165492309857,
          0.0810165492309857
         ],
         "xaxis": "x",
         "y": [
          0.8202548234437568,
          0.8202548234437568,
          0.8202548234437568,
          0.8202548234437568,
          0.8202548234437568,
          0.8202548234437568,
          0.8202548234437568,
          0.8202548234437568,
          0.8202548234437568,
          0.8202548234437568
         ],
         "yaxis": "y"
        }
       ],
       "layout": {
        "height": 600,
        "legend": {
         "itemsizing": "constant",
         "title": {
          "text": "strategy, is_honest"
         },
         "tracegroupgap": 0
        },
        "template": {
         "data": {
          "bar": [
           {
            "error_x": {
             "color": "#2a3f5f"
            },
            "error_y": {
             "color": "#2a3f5f"
            },
            "marker": {
             "line": {
              "color": "#E5ECF6",
              "width": 0.5
             },
             "pattern": {
              "fillmode": "overlay",
              "size": 10,
              "solidity": 0.2
             }
            },
            "type": "bar"
           }
          ],
          "barpolar": [
           {
            "marker": {
             "line": {
              "color": "#E5ECF6",
              "width": 0.5
             },
             "pattern": {
              "fillmode": "overlay",
              "size": 10,
              "solidity": 0.2
             }
            },
            "type": "barpolar"
           }
          ],
          "carpet": [
           {
            "aaxis": {
             "endlinecolor": "#2a3f5f",
             "gridcolor": "white",
             "linecolor": "white",
             "minorgridcolor": "white",
             "startlinecolor": "#2a3f5f"
            },
            "baxis": {
             "endlinecolor": "#2a3f5f",
             "gridcolor": "white",
             "linecolor": "white",
             "minorgridcolor": "white",
             "startlinecolor": "#2a3f5f"
            },
            "type": "carpet"
           }
          ],
          "choropleth": [
           {
            "colorbar": {
             "outlinewidth": 0,
             "ticks": ""
            },
            "type": "choropleth"
           }
          ],
          "contour": [
           {
            "colorbar": {
             "outlinewidth": 0,
             "ticks": ""
            },
            "colorscale": [
             [
              0,
              "#0d0887"
             ],
             [
              0.1111111111111111,
              "#46039f"
             ],
             [
              0.2222222222222222,
              "#7201a8"
             ],
             [
              0.3333333333333333,
              "#9c179e"
             ],
             [
              0.4444444444444444,
              "#bd3786"
             ],
             [
              0.5555555555555556,
              "#d8576b"
             ],
             [
              0.6666666666666666,
              "#ed7953"
             ],
             [
              0.7777777777777778,
              "#fb9f3a"
             ],
             [
              0.8888888888888888,
              "#fdca26"
             ],
             [
              1,
              "#f0f921"
             ]
            ],
            "type": "contour"
           }
          ],
          "contourcarpet": [
           {
            "colorbar": {
             "outlinewidth": 0,
             "ticks": ""
            },
            "type": "contourcarpet"
           }
          ],
          "heatmap": [
           {
            "colorbar": {
             "outlinewidth": 0,
             "ticks": ""
            },
            "colorscale": [
             [
              0,
              "#0d0887"
             ],
             [
              0.1111111111111111,
              "#46039f"
             ],
             [
              0.2222222222222222,
              "#7201a8"
             ],
             [
              0.3333333333333333,
              "#9c179e"
             ],
             [
              0.4444444444444444,
              "#bd3786"
             ],
             [
              0.5555555555555556,
              "#d8576b"
             ],
             [
              0.6666666666666666,
              "#ed7953"
             ],
             [
              0.7777777777777778,
              "#fb9f3a"
             ],
             [
              0.8888888888888888,
              "#fdca26"
             ],
             [
              1,
              "#f0f921"
             ]
            ],
            "type": "heatmap"
           }
          ],
          "heatmapgl": [
           {
            "colorbar": {
             "outlinewidth": 0,
             "ticks": ""
            },
            "colorscale": [
             [
              0,
              "#0d0887"
             ],
             [
              0.1111111111111111,
              "#46039f"
             ],
             [
              0.2222222222222222,
              "#7201a8"
             ],
             [
              0.3333333333333333,
              "#9c179e"
             ],
             [
              0.4444444444444444,
              "#bd3786"
             ],
             [
              0.5555555555555556,
              "#d8576b"
             ],
             [
              0.6666666666666666,
              "#ed7953"
             ],
             [
              0.7777777777777778,
              "#fb9f3a"
             ],
             [
              0.8888888888888888,
              "#fdca26"
             ],
             [
              1,
              "#f0f921"
             ]
            ],
            "type": "heatmapgl"
           }
          ],
          "histogram": [
           {
            "marker": {
             "pattern": {
              "fillmode": "overlay",
              "size": 10,
              "solidity": 0.2
             }
            },
            "type": "histogram"
           }
          ],
          "histogram2d": [
           {
            "colorbar": {
             "outlinewidth": 0,
             "ticks": ""
            },
            "colorscale": [
             [
              0,
              "#0d0887"
             ],
             [
              0.1111111111111111,
              "#46039f"
             ],
             [
              0.2222222222222222,
              "#7201a8"
             ],
             [
              0.3333333333333333,
              "#9c179e"
             ],
             [
              0.4444444444444444,
              "#bd3786"
             ],
             [
              0.5555555555555556,
              "#d8576b"
             ],
             [
              0.6666666666666666,
              "#ed7953"
             ],
             [
              0.7777777777777778,
              "#fb9f3a"
             ],
             [
              0.8888888888888888,
              "#fdca26"
             ],
             [
              1,
              "#f0f921"
             ]
            ],
            "type": "histogram2d"
           }
          ],
          "histogram2dcontour": [
           {
            "colorbar": {
             "outlinewidth": 0,
             "ticks": ""
            },
            "colorscale": [
             [
              0,
              "#0d0887"
             ],
             [
              0.1111111111111111,
              "#46039f"
             ],
             [
              0.2222222222222222,
              "#7201a8"
             ],
             [
              0.3333333333333333,
              "#9c179e"
             ],
             [
              0.4444444444444444,
              "#bd3786"
             ],
             [
              0.5555555555555556,
              "#d8576b"
             ],
             [
              0.6666666666666666,
              "#ed7953"
             ],
             [
              0.7777777777777778,
              "#fb9f3a"
             ],
             [
              0.8888888888888888,
              "#fdca26"
             ],
             [
              1,
              "#f0f921"
             ]
            ],
            "type": "histogram2dcontour"
           }
          ],
          "mesh3d": [
           {
            "colorbar": {
             "outlinewidth": 0,
             "ticks": ""
            },
            "type": "mesh3d"
           }
          ],
          "parcoords": [
           {
            "line": {
             "colorbar": {
              "outlinewidth": 0,
              "ticks": ""
             }
            },
            "type": "parcoords"
           }
          ],
          "pie": [
           {
            "automargin": true,
            "type": "pie"
           }
          ],
          "scatter": [
           {
            "fillpattern": {
             "fillmode": "overlay",
             "size": 10,
             "solidity": 0.2
            },
            "type": "scatter"
           }
          ],
          "scatter3d": [
           {
            "line": {
             "colorbar": {
              "outlinewidth": 0,
              "ticks": ""
             }
            },
            "marker": {
             "colorbar": {
              "outlinewidth": 0,
              "ticks": ""
             }
            },
            "type": "scatter3d"
           }
          ],
          "scattercarpet": [
           {
            "marker": {
             "colorbar": {
              "outlinewidth": 0,
              "ticks": ""
             }
            },
            "type": "scattercarpet"
           }
          ],
          "scattergeo": [
           {
            "marker": {
             "colorbar": {
              "outlinewidth": 0,
              "ticks": ""
             }
            },
            "type": "scattergeo"
           }
          ],
          "scattergl": [
           {
            "marker": {
             "colorbar": {
              "outlinewidth": 0,
              "ticks": ""
             }
            },
            "type": "scattergl"
           }
          ],
          "scattermapbox": [
           {
            "marker": {
             "colorbar": {
              "outlinewidth": 0,
              "ticks": ""
             }
            },
            "type": "scattermapbox"
           }
          ],
          "scatterpolar": [
           {
            "marker": {
             "colorbar": {
              "outlinewidth": 0,
              "ticks": ""
             }
            },
            "type": "scatterpolar"
           }
          ],
          "scatterpolargl": [
           {
            "marker": {
             "colorbar": {
              "outlinewidth": 0,
              "ticks": ""
             }
            },
            "type": "scatterpolargl"
           }
          ],
          "scatterternary": [
           {
            "marker": {
             "colorbar": {
              "outlinewidth": 0,
              "ticks": ""
             }
            },
            "type": "scatterternary"
           }
          ],
          "surface": [
           {
            "colorbar": {
             "outlinewidth": 0,
             "ticks": ""
            },
            "colorscale": [
             [
              0,
              "#0d0887"
             ],
             [
              0.1111111111111111,
              "#46039f"
             ],
             [
              0.2222222222222222,
              "#7201a8"
             ],
             [
              0.3333333333333333,
              "#9c179e"
             ],
             [
              0.4444444444444444,
              "#bd3786"
             ],
             [
              0.5555555555555556,
              "#d8576b"
             ],
             [
              0.6666666666666666,
              "#ed7953"
             ],
             [
              0.7777777777777778,
              "#fb9f3a"
             ],
             [
              0.8888888888888888,
              "#fdca26"
             ],
             [
              1,
              "#f0f921"
             ]
            ],
            "type": "surface"
           }
          ],
          "table": [
           {
            "cells": {
             "fill": {
              "color": "#EBF0F8"
             },
             "line": {
              "color": "white"
             }
            },
            "header": {
             "fill": {
              "color": "#C8D4E3"
             },
             "line": {
              "color": "white"
             }
            },
            "type": "table"
           }
          ]
         },
         "layout": {
          "annotationdefaults": {
           "arrowcolor": "#2a3f5f",
           "arrowhead": 0,
           "arrowwidth": 1
          },
          "autotypenumbers": "strict",
          "coloraxis": {
           "colorbar": {
            "outlinewidth": 0,
            "ticks": ""
           }
          },
          "colorscale": {
           "diverging": [
            [
             0,
             "#8e0152"
            ],
            [
             0.1,
             "#c51b7d"
            ],
            [
             0.2,
             "#de77ae"
            ],
            [
             0.3,
             "#f1b6da"
            ],
            [
             0.4,
             "#fde0ef"
            ],
            [
             0.5,
             "#f7f7f7"
            ],
            [
             0.6,
             "#e6f5d0"
            ],
            [
             0.7,
             "#b8e186"
            ],
            [
             0.8,
             "#7fbc41"
            ],
            [
             0.9,
             "#4d9221"
            ],
            [
             1,
             "#276419"
            ]
           ],
           "sequential": [
            [
             0,
             "#0d0887"
            ],
            [
             0.1111111111111111,
             "#46039f"
            ],
            [
             0.2222222222222222,
             "#7201a8"
            ],
            [
             0.3333333333333333,
             "#9c179e"
            ],
            [
             0.4444444444444444,
             "#bd3786"
            ],
            [
             0.5555555555555556,
             "#d8576b"
            ],
            [
             0.6666666666666666,
             "#ed7953"
            ],
            [
             0.7777777777777778,
             "#fb9f3a"
            ],
            [
             0.8888888888888888,
             "#fdca26"
            ],
            [
             1,
             "#f0f921"
            ]
           ],
           "sequentialminus": [
            [
             0,
             "#0d0887"
            ],
            [
             0.1111111111111111,
             "#46039f"
            ],
            [
             0.2222222222222222,
             "#7201a8"
            ],
            [
             0.3333333333333333,
             "#9c179e"
            ],
            [
             0.4444444444444444,
             "#bd3786"
            ],
            [
             0.5555555555555556,
             "#d8576b"
            ],
            [
             0.6666666666666666,
             "#ed7953"
            ],
            [
             0.7777777777777778,
             "#fb9f3a"
            ],
            [
             0.8888888888888888,
             "#fdca26"
            ],
            [
             1,
             "#f0f921"
            ]
           ]
          },
          "colorway": [
           "#636efa",
           "#EF553B",
           "#00cc96",
           "#ab63fa",
           "#FFA15A",
           "#19d3f3",
           "#FF6692",
           "#B6E880",
           "#FF97FF",
           "#FECB52"
          ],
          "font": {
           "color": "#2a3f5f"
          },
          "geo": {
           "bgcolor": "white",
           "lakecolor": "white",
           "landcolor": "#E5ECF6",
           "showlakes": true,
           "showland": true,
           "subunitcolor": "white"
          },
          "hoverlabel": {
           "align": "left"
          },
          "hovermode": "closest",
          "mapbox": {
           "style": "light"
          },
          "paper_bgcolor": "white",
          "plot_bgcolor": "#E5ECF6",
          "polar": {
           "angularaxis": {
            "gridcolor": "white",
            "linecolor": "white",
            "ticks": ""
           },
           "bgcolor": "#E5ECF6",
           "radialaxis": {
            "gridcolor": "white",
            "linecolor": "white",
            "ticks": ""
           }
          },
          "scene": {
           "xaxis": {
            "backgroundcolor": "#E5ECF6",
            "gridcolor": "white",
            "gridwidth": 2,
            "linecolor": "white",
            "showbackground": true,
            "ticks": "",
            "zerolinecolor": "white"
           },
           "yaxis": {
            "backgroundcolor": "#E5ECF6",
            "gridcolor": "white",
            "gridwidth": 2,
            "linecolor": "white",
            "showbackground": true,
            "ticks": "",
            "zerolinecolor": "white"
           },
           "zaxis": {
            "backgroundcolor": "#E5ECF6",
            "gridcolor": "white",
            "gridwidth": 2,
            "linecolor": "white",
            "showbackground": true,
            "ticks": "",
            "zerolinecolor": "white"
           }
          },
          "shapedefaults": {
           "line": {
            "color": "#2a3f5f"
           }
          },
          "ternary": {
           "aaxis": {
            "gridcolor": "white",
            "linecolor": "white",
            "ticks": ""
           },
           "baxis": {
            "gridcolor": "white",
            "linecolor": "white",
            "ticks": ""
           },
           "bgcolor": "#E5ECF6",
           "caxis": {
            "gridcolor": "white",
            "linecolor": "white",
            "ticks": ""
           }
          },
          "title": {
           "x": 0.05
          },
          "xaxis": {
           "automargin": true,
           "gridcolor": "white",
           "linecolor": "white",
           "ticks": "",
           "title": {
            "standoff": 15
           },
           "zerolinecolor": "white",
           "zerolinewidth": 2
          },
          "yaxis": {
           "automargin": true,
           "gridcolor": "white",
           "linecolor": "white",
           "ticks": "",
           "title": {
            "standoff": 15
           },
           "zerolinecolor": "white",
           "zerolinewidth": 2
          }
         }
        },
        "title": {
         "text": "Sneaky platform, detection tpr=50%"
        },
        "width": 800,
        "xaxis": {
         "anchor": "y",
         "domain": [
          0,
          1
         ],
         "title": {
          "text": "demographic_parity_audit"
         }
        },
        "yaxis": {
         "anchor": "x",
         "domain": [
          0,
          1
         ],
         "title": {
          "text": "utility_user"
         }
        }
       }
      }
     },
     "metadata": {},
     "output_type": "display_data"
    }
   ],
   "source": [
    "fig = px.scatter(\n",
    "    audit.filter(\n",
    "        pl.col(\"detection_tnr\") == 1.0,\n",
    "        pl.col(\"detection_tpr\") == 0.5,\n",
    "    ).with_columns(\n",
    "        is_honest=pl.when(pl.col(\"strategy\") == \"honest\")\n",
    "        .then(\"strategy\")\n",
    "        .otherwise(pl.lit(\"sneaky\")),\n",
    "        size=10,\n",
    "    ),\n",
    "    x=\"demographic_parity_audit\",\n",
    "    y=\"utility_user\",\n",
    "    color=\"strategy\",\n",
    "    symbol=\"is_honest\",\n",
    "    size=\"size\",\n",
    "    size_max=10,\n",
    "    hover_data=[\"strategy_json\", \"model_json\", \"model_name\"],\n",
    "    category_orders={\"strategy\": audit[\"strategy\"].unique().sort().to_list()},\n",
    "    height=600,\n",
    "    width=800,\n",
    "    title=\"Sneaky platform, detection tpr=50%\",\n",
    ")\n",
    "fig.show()"
   ]
  },
  {
   "cell_type": "code",
   "execution_count": 18,
   "metadata": {},
   "outputs": [
    {
     "data": {
      "application/vnd.plotly.v1+json": {
       "config": {
        "plotlyServerURL": "https://plot.ly"
       },
       "data": [
        {
         "customdata": [
          [
           "{\"epsilon\":3.0,\"theta\":null}",
           "{\"epsilon\":null}",
           "unconstrained"
          ],
          [
           "{\"epsilon\":1.0,\"theta\":null}",
           "{\"epsilon\":null}",
           "unconstrained"
          ],
          [
           "{\"epsilon\":4.0,\"theta\":null}",
           "{\"epsilon\":null}",
           "unconstrained"
          ],
          [
           "{\"epsilon\":7.0,\"theta\":null}",
           "{\"epsilon\":null}",
           "unconstrained"
          ],
          [
           "{\"epsilon\":10.0,\"theta\":null}",
           "{\"epsilon\":null}",
           "unconstrained"
          ],
          [
           "{\"epsilon\":2.0,\"theta\":null}",
           "{\"epsilon\":null}",
           "unconstrained"
          ],
          [
           "{\"epsilon\":6.0,\"theta\":null}",
           "{\"epsilon\":null}",
           "unconstrained"
          ],
          [
           "{\"epsilon\":9.0,\"theta\":null}",
           "{\"epsilon\":null}",
           "unconstrained"
          ],
          [
           "{\"epsilon\":5.0,\"theta\":null}",
           "{\"epsilon\":null}",
           "unconstrained"
          ],
          [
           "{\"epsilon\":8.0,\"theta\":null}",
           "{\"epsilon\":null}",
           "unconstrained"
          ]
         ],
         "hovertemplate": "strategy=randomized_response<br>is_honest=sneaky<br>detection_tpr=1.0<br>detection_tnr=1.0<br>demographic_parity_audit=%{x}<br>utility_user=%{y}<br>size=%{marker.size}<br>strategy_json=%{customdata[0]}<br>model_json=%{customdata[1]}<br>model_name=%{customdata[2]}<extra></extra>",
         "legendgroup": "randomized_response, sneaky",
         "marker": {
          "color": "#636efa",
          "size": [
           10,
           10,
           10,
           10,
           10,
           10,
           10,
           10,
           10,
           10
          ],
          "sizemode": "area",
          "sizeref": 0.1,
          "symbol": "circle"
         },
         "mode": "markers",
         "name": "randomized_response, sneaky",
         "orientation": "v",
         "showlegend": true,
         "type": "scatter",
         "x": [
          0.0810165492309857,
          0.0810165492309857,
          0.0810165492309857,
          0.0810165492309857,
          0.0810165492309857,
          0.0810165492309857,
          0.0810165492309857,
          0.0810165492309857,
          0.0810165492309857,
          0.0810165492309857
         ],
         "xaxis": "x3",
         "y": [
          0.8202548234437568,
          0.8202548234437568,
          0.8202548234437568,
          0.8202548234437568,
          0.8202548234437568,
          0.8202548234437568,
          0.8202548234437568,
          0.8202548234437568,
          0.8202548234437568,
          0.8202548234437568
         ],
         "yaxis": "y3"
        },
        {
         "customdata": [
          [
           "{\"epsilon\":10.0,\"theta\":null}",
           "{\"epsilon\":null}",
           "unconstrained"
          ],
          [
           "{\"epsilon\":5.0,\"theta\":null}",
           "{\"epsilon\":null}",
           "unconstrained"
          ],
          [
           "{\"epsilon\":3.0,\"theta\":null}",
           "{\"epsilon\":null}",
           "unconstrained"
          ],
          [
           "{\"epsilon\":1.0,\"theta\":null}",
           "{\"epsilon\":null}",
           "unconstrained"
          ],
          [
           "{\"epsilon\":7.0,\"theta\":null}",
           "{\"epsilon\":null}",
           "unconstrained"
          ],
          [
           "{\"epsilon\":9.0,\"theta\":null}",
           "{\"epsilon\":null}",
           "unconstrained"
          ],
          [
           "{\"epsilon\":6.0,\"theta\":null}",
           "{\"epsilon\":null}",
           "unconstrained"
          ],
          [
           "{\"epsilon\":4.0,\"theta\":null}",
           "{\"epsilon\":null}",
           "unconstrained"
          ],
          [
           "{\"epsilon\":8.0,\"theta\":null}",
           "{\"epsilon\":null}",
           "unconstrained"
          ],
          [
           "{\"epsilon\":2.0,\"theta\":null}",
           "{\"epsilon\":null}",
           "unconstrained"
          ]
         ],
         "hovertemplate": "strategy=randomized_response<br>is_honest=sneaky<br>detection_tpr=0.95<br>detection_tnr=1.0<br>demographic_parity_audit=%{x}<br>utility_user=%{y}<br>size=%{marker.size}<br>strategy_json=%{customdata[0]}<br>model_json=%{customdata[1]}<br>model_name=%{customdata[2]}<extra></extra>",
         "legendgroup": "randomized_response, sneaky",
         "marker": {
          "color": "#636efa",
          "size": [
           10,
           10,
           10,
           10,
           10,
           10,
           10,
           10,
           10,
           10
          ],
          "sizemode": "area",
          "sizeref": 0.1,
          "symbol": "circle"
         },
         "mode": "markers",
         "name": "randomized_response, sneaky",
         "orientation": "v",
         "showlegend": false,
         "type": "scatter",
         "x": [
          0.0810165492309857,
          0.0810165492309857,
          0.0810165492309857,
          0.0810165492309857,
          0.0810165492309857,
          0.0810165492309857,
          0.0810165492309857,
          0.0810165492309857,
          0.0810165492309857,
          0.0810165492309857
         ],
         "xaxis": "x2",
         "y": [
          0.8202548234437568,
          0.8202548234437568,
          0.8202548234437568,
          0.8202548234437568,
          0.8202548234437568,
          0.8202548234437568,
          0.8202548234437568,
          0.8202548234437568,
          0.8202548234437568,
          0.8202548234437568
         ],
         "yaxis": "y2"
        },
        {
         "customdata": [
          [
           "{\"epsilon\":3.0,\"theta\":null}",
           "{\"epsilon\":null}",
           "unconstrained"
          ],
          [
           "{\"epsilon\":8.0,\"theta\":null}",
           "{\"epsilon\":null}",
           "unconstrained"
          ],
          [
           "{\"epsilon\":2.0,\"theta\":null}",
           "{\"epsilon\":null}",
           "unconstrained"
          ],
          [
           "{\"epsilon\":9.0,\"theta\":null}",
           "{\"epsilon\":null}",
           "unconstrained"
          ],
          [
           "{\"epsilon\":1.0,\"theta\":null}",
           "{\"epsilon\":null}",
           "unconstrained"
          ],
          [
           "{\"epsilon\":4.0,\"theta\":null}",
           "{\"epsilon\":null}",
           "unconstrained"
          ],
          [
           "{\"epsilon\":5.0,\"theta\":null}",
           "{\"epsilon\":null}",
           "unconstrained"
          ],
          [
           "{\"epsilon\":10.0,\"theta\":null}",
           "{\"epsilon\":null}",
           "unconstrained"
          ],
          [
           "{\"epsilon\":7.0,\"theta\":null}",
           "{\"epsilon\":null}",
           "unconstrained"
          ],
          [
           "{\"epsilon\":6.0,\"theta\":null}",
           "{\"epsilon\":null}",
           "unconstrained"
          ]
         ],
         "hovertemplate": "strategy=randomized_response<br>is_honest=sneaky<br>detection_tpr=0.5<br>detection_tnr=1.0<br>demographic_parity_audit=%{x}<br>utility_user=%{y}<br>size=%{marker.size}<br>strategy_json=%{customdata[0]}<br>model_json=%{customdata[1]}<br>model_name=%{customdata[2]}<extra></extra>",
         "legendgroup": "randomized_response, sneaky",
         "marker": {
          "color": "#636efa",
          "size": [
           10,
           10,
           10,
           10,
           10,
           10,
           10,
           10,
           10,
           10
          ],
          "sizemode": "area",
          "sizeref": 0.1,
          "symbol": "circle"
         },
         "mode": "markers",
         "name": "randomized_response, sneaky",
         "orientation": "v",
         "showlegend": false,
         "type": "scatter",
         "x": [
          0.0810165492309857,
          0.0810165492309857,
          0.0810165492309857,
          0.0810165492309857,
          0.0810165492309857,
          0.0810165492309857,
          0.0810165492309857,
          0.0810165492309857,
          0.0810165492309857,
          0.0810165492309857
         ],
         "xaxis": "x",
         "y": [
          0.8202548234437568,
          0.8202548234437568,
          0.8202548234437568,
          0.8202548234437568,
          0.8202548234437568,
          0.8202548234437568,
          0.8202548234437568,
          0.8202548234437568,
          0.8202548234437568,
          0.8202548234437568
         ],
         "yaxis": "y"
        },
        {
         "customdata": [
          [
           "{\"epsilon\":null,\"theta\":null}",
           "{\"epsilon\":null}",
           "unconstrained"
          ]
         ],
         "hovertemplate": "strategy=always_yes<br>is_honest=sneaky<br>detection_tpr=1.0<br>detection_tnr=1.0<br>demographic_parity_audit=%{x}<br>utility_user=%{y}<br>size=%{marker.size}<br>strategy_json=%{customdata[0]}<br>model_json=%{customdata[1]}<br>model_name=%{customdata[2]}<extra></extra>",
         "legendgroup": "always_yes, sneaky",
         "marker": {
          "color": "#EF553B",
          "size": [
           10
          ],
          "sizemode": "area",
          "sizeref": 0.1,
          "symbol": "circle"
         },
         "mode": "markers",
         "name": "always_yes, sneaky",
         "orientation": "v",
         "showlegend": true,
         "type": "scatter",
         "x": [
          0
         ],
         "xaxis": "x3",
         "y": [
          0.497852202402621
         ],
         "yaxis": "y3"
        },
        {
         "customdata": [
          [
           "{\"epsilon\":null,\"theta\":null}",
           "{\"epsilon\":null}",
           "unconstrained"
          ]
         ],
         "hovertemplate": "strategy=always_yes<br>is_honest=sneaky<br>detection_tpr=0.95<br>detection_tnr=1.0<br>demographic_parity_audit=%{x}<br>utility_user=%{y}<br>size=%{marker.size}<br>strategy_json=%{customdata[0]}<br>model_json=%{customdata[1]}<br>model_name=%{customdata[2]}<extra></extra>",
         "legendgroup": "always_yes, sneaky",
         "marker": {
          "color": "#EF553B",
          "size": [
           10
          ],
          "sizemode": "area",
          "sizeref": 0.1,
          "symbol": "circle"
         },
         "mode": "markers",
         "name": "always_yes, sneaky",
         "orientation": "v",
         "showlegend": false,
         "type": "scatter",
         "x": [
          0
         ],
         "xaxis": "x2",
         "y": [
          0.497852202402621
         ],
         "yaxis": "y2"
        },
        {
         "customdata": [
          [
           "{\"epsilon\":null,\"theta\":null}",
           "{\"epsilon\":null}",
           "unconstrained"
          ]
         ],
         "hovertemplate": "strategy=always_yes<br>is_honest=sneaky<br>detection_tpr=0.5<br>detection_tnr=1.0<br>demographic_parity_audit=%{x}<br>utility_user=%{y}<br>size=%{marker.size}<br>strategy_json=%{customdata[0]}<br>model_json=%{customdata[1]}<br>model_name=%{customdata[2]}<extra></extra>",
         "legendgroup": "always_yes, sneaky",
         "marker": {
          "color": "#EF553B",
          "size": [
           10
          ],
          "sizemode": "area",
          "sizeref": 0.1,
          "symbol": "circle"
         },
         "mode": "markers",
         "name": "always_yes, sneaky",
         "orientation": "v",
         "showlegend": false,
         "type": "scatter",
         "x": [
          0
         ],
         "xaxis": "x",
         "y": [
          0.497852202402621
         ],
         "yaxis": "y"
        },
        {
         "customdata": [
          [
           "{\"epsilon\":null,\"theta\":0.3}",
           "{\"epsilon\":null}",
           "unconstrained"
          ],
          [
           "{\"epsilon\":null,\"theta\":0.36666666666666664}",
           "{\"epsilon\":null}",
           "unconstrained"
          ],
          [
           "{\"epsilon\":null,\"theta\":0.4666666666666667}",
           "{\"epsilon\":null}",
           "unconstrained"
          ],
          [
           "{\"epsilon\":null,\"theta\":0.5666666666666667}",
           "{\"epsilon\":null}",
           "unconstrained"
          ],
          [
           "{\"epsilon\":null,\"theta\":0.6}",
           "{\"epsilon\":null}",
           "unconstrained"
          ],
          [
           "{\"epsilon\":null,\"theta\":0.3333333333333333}",
           "{\"epsilon\":null}",
           "unconstrained"
          ],
          [
           "{\"epsilon\":null,\"theta\":0.4}",
           "{\"epsilon\":null}",
           "unconstrained"
          ],
          [
           "{\"epsilon\":null,\"theta\":0.5333333333333333}",
           "{\"epsilon\":null}",
           "unconstrained"
          ],
          [
           "{\"epsilon\":null,\"theta\":0.5}",
           "{\"epsilon\":null}",
           "unconstrained"
          ],
          [
           "{\"epsilon\":null,\"theta\":0.43333333333333335}",
           "{\"epsilon\":null}",
           "unconstrained"
          ]
         ],
         "hovertemplate": "strategy=ROC_mitigation<br>is_honest=sneaky<br>detection_tpr=1.0<br>detection_tnr=1.0<br>demographic_parity_audit=%{x}<br>utility_user=%{y}<br>size=%{marker.size}<br>strategy_json=%{customdata[0]}<br>model_json=%{customdata[1]}<br>model_name=%{customdata[2]}<extra></extra>",
         "legendgroup": "ROC_mitigation, sneaky",
         "marker": {
          "color": "#00cc96",
          "size": [
           10,
           10,
           10,
           10,
           10,
           10,
           10,
           10,
           10,
           10
          ],
          "sizemode": "area",
          "sizeref": 0.1,
          "symbol": "circle"
         },
         "mode": "markers",
         "name": "ROC_mitigation, sneaky",
         "orientation": "v",
         "showlegend": true,
         "type": "scatter",
         "x": [
          0.0810165492309857,
          0.0810165492309857,
          0.0810165492309857,
          0.05014557695013581,
          0.047571733177474006,
          0.0810165492309857,
          0.0810165492309857,
          0.05537552358996004,
          0.0810165492309857,
          0.0810165492309857
         ],
         "xaxis": "x3",
         "y": [
          0.8202548234437568,
          0.8202548234437568,
          0.8202548234437568,
          0.8183909719694211,
          0.8127994175464144,
          0.8202548234437568,
          0.8202548234437568,
          0.8203567528212595,
          0.8202548234437568,
          0.8202548234437568
         ],
         "yaxis": "y3"
        },
        {
         "customdata": [
          [
           "{\"epsilon\":null,\"theta\":0.3333333333333333}",
           "{\"epsilon\":null}",
           "unconstrained"
          ],
          [
           "{\"epsilon\":null,\"theta\":0.43333333333333335}",
           "{\"epsilon\":null}",
           "unconstrained"
          ],
          [
           "{\"epsilon\":null,\"theta\":0.6}",
           "{\"epsilon\":null}",
           "unconstrained"
          ],
          [
           "{\"epsilon\":null,\"theta\":0.36666666666666664}",
           "{\"epsilon\":null}",
           "unconstrained"
          ],
          [
           "{\"epsilon\":null,\"theta\":0.5666666666666667}",
           "{\"epsilon\":null}",
           "unconstrained"
          ],
          [
           "{\"epsilon\":null,\"theta\":0.3}",
           "{\"epsilon\":null}",
           "unconstrained"
          ],
          [
           "{\"epsilon\":null,\"theta\":0.4}",
           "{\"epsilon\":null}",
           "unconstrained"
          ],
          [
           "{\"epsilon\":null,\"theta\":0.5}",
           "{\"epsilon\":null}",
           "unconstrained"
          ],
          [
           "{\"epsilon\":null,\"theta\":0.5333333333333333}",
           "{\"epsilon\":null}",
           "unconstrained"
          ],
          [
           "{\"epsilon\":null,\"theta\":0.4666666666666667}",
           "{\"epsilon\":null}",
           "unconstrained"
          ]
         ],
         "hovertemplate": "strategy=ROC_mitigation<br>is_honest=sneaky<br>detection_tpr=0.95<br>detection_tnr=1.0<br>demographic_parity_audit=%{x}<br>utility_user=%{y}<br>size=%{marker.size}<br>strategy_json=%{customdata[0]}<br>model_json=%{customdata[1]}<br>model_name=%{customdata[2]}<extra></extra>",
         "legendgroup": "ROC_mitigation, sneaky",
         "marker": {
          "color": "#00cc96",
          "size": [
           10,
           10,
           10,
           10,
           10,
           10,
           10,
           10,
           10,
           10
          ],
          "sizemode": "area",
          "sizeref": 0.1,
          "symbol": "circle"
         },
         "mode": "markers",
         "name": "ROC_mitigation, sneaky",
         "orientation": "v",
         "showlegend": false,
         "type": "scatter",
         "x": [
          0.0810165492309857,
          0.0810165492309857,
          0.047571733177474006,
          0.0810165492309857,
          0.05014557695013581,
          0.0810165492309857,
          0.0810165492309857,
          0.0810165492309857,
          0.05537552358996004,
          0.0810165492309857
         ],
         "xaxis": "x2",
         "y": [
          0.8202548234437568,
          0.8202548234437568,
          0.8127994175464144,
          0.8202548234437568,
          0.8183909719694211,
          0.8202548234437568,
          0.8202548234437568,
          0.8202548234437568,
          0.8203567528212595,
          0.8202548234437568
         ],
         "yaxis": "y2"
        },
        {
         "customdata": [
          [
           "{\"epsilon\":null,\"theta\":0.3333333333333333}",
           "{\"epsilon\":null}",
           "unconstrained"
          ],
          [
           "{\"epsilon\":null,\"theta\":0.36666666666666664}",
           "{\"epsilon\":null}",
           "unconstrained"
          ],
          [
           "{\"epsilon\":null,\"theta\":0.6}",
           "{\"epsilon\":null}",
           "unconstrained"
          ],
          [
           "{\"epsilon\":null,\"theta\":0.4666666666666667}",
           "{\"epsilon\":null}",
           "unconstrained"
          ],
          [
           "{\"epsilon\":null,\"theta\":0.4}",
           "{\"epsilon\":null}",
           "unconstrained"
          ],
          [
           "{\"epsilon\":null,\"theta\":0.5666666666666667}",
           "{\"epsilon\":null}",
           "unconstrained"
          ],
          [
           "{\"epsilon\":null,\"theta\":0.5}",
           "{\"epsilon\":null}",
           "unconstrained"
          ],
          [
           "{\"epsilon\":null,\"theta\":0.3}",
           "{\"epsilon\":null}",
           "unconstrained"
          ],
          [
           "{\"epsilon\":null,\"theta\":0.43333333333333335}",
           "{\"epsilon\":null}",
           "unconstrained"
          ],
          [
           "{\"epsilon\":null,\"theta\":0.5333333333333333}",
           "{\"epsilon\":null}",
           "unconstrained"
          ]
         ],
         "hovertemplate": "strategy=ROC_mitigation<br>is_honest=sneaky<br>detection_tpr=0.5<br>detection_tnr=1.0<br>demographic_parity_audit=%{x}<br>utility_user=%{y}<br>size=%{marker.size}<br>strategy_json=%{customdata[0]}<br>model_json=%{customdata[1]}<br>model_name=%{customdata[2]}<extra></extra>",
         "legendgroup": "ROC_mitigation, sneaky",
         "marker": {
          "color": "#00cc96",
          "size": [
           10,
           10,
           10,
           10,
           10,
           10,
           10,
           10,
           10,
           10
          ],
          "sizemode": "area",
          "sizeref": 0.1,
          "symbol": "circle"
         },
         "mode": "markers",
         "name": "ROC_mitigation, sneaky",
         "orientation": "v",
         "showlegend": false,
         "type": "scatter",
         "x": [
          0.0810165492309857,
          0.0810165492309857,
          0.047571733177474006,
          0.0810165492309857,
          0.0810165492309857,
          0.05014557695013581,
          0.0810165492309857,
          0.0810165492309857,
          0.0810165492309857,
          0.05537552358996004
         ],
         "xaxis": "x",
         "y": [
          0.8202548234437568,
          0.8202548234437568,
          0.8127994175464144,
          0.8202548234437568,
          0.8202548234437568,
          0.8183909719694211,
          0.8202548234437568,
          0.8202548234437568,
          0.8202548234437568,
          0.8203567528212595
         ],
         "yaxis": "y"
        },
        {
         "customdata": [
          [
           "{\"epsilon\":null,\"theta\":null}",
           "{\"epsilon\":0.08900000000000001}",
           "exponentiated_gradient"
          ],
          [
           "{\"epsilon\":null,\"theta\":null}",
           "{\"epsilon\":0.07800000000000001}",
           "exponentiated_gradient"
          ],
          [
           "{\"epsilon\":null,\"theta\":null}",
           "{\"epsilon\":0.1}",
           "exponentiated_gradient"
          ],
          [
           "{\"epsilon\":null,\"theta\":null}",
           "{\"epsilon\":0.067}",
           "exponentiated_gradient"
          ],
          [
           "{\"epsilon\":null,\"theta\":null}",
           "{\"epsilon\":0.05600000000000001}",
           "exponentiated_gradient"
          ],
          [
           "{\"epsilon\":null,\"theta\":null}",
           "{\"epsilon\":0.045000000000000005}",
           "exponentiated_gradient"
          ],
          [
           "{\"epsilon\":null,\"theta\":null}",
           "{\"epsilon\":null}",
           "unconstrained"
          ],
          [
           "{\"epsilon\":null,\"theta\":null}",
           "{\"epsilon\":0.001}",
           "exponentiated_gradient"
          ],
          [
           "{\"epsilon\":null,\"theta\":null}",
           "{\"epsilon\":0.034}",
           "exponentiated_gradient"
          ],
          [
           "{\"epsilon\":null,\"theta\":null}",
           "{\"epsilon\":0.012}",
           "exponentiated_gradient"
          ],
          [
           "{\"epsilon\":null,\"theta\":null}",
           "{\"epsilon\":0.023000000000000003}",
           "exponentiated_gradient"
          ]
         ],
         "hovertemplate": "strategy=honest<br>is_honest=honest<br>detection_tpr=1.0<br>detection_tnr=1.0<br>demographic_parity_audit=%{x}<br>utility_user=%{y}<br>size=%{marker.size}<br>strategy_json=%{customdata[0]}<br>model_json=%{customdata[1]}<br>model_name=%{customdata[2]}<extra></extra>",
         "legendgroup": "honest, honest",
         "marker": {
          "color": "#ab63fa",
          "size": [
           10,
           10,
           10,
           10,
           10,
           10,
           10,
           10,
           10,
           10,
           10
          ],
          "sizemode": "area",
          "sizeref": 0.1,
          "symbol": "diamond"
         },
         "mode": "markers",
         "name": "honest, honest",
         "orientation": "v",
         "showlegend": true,
         "type": "scatter",
         "x": [
          0.04856533645052004,
          0.04162526653028973,
          0.05162191122511932,
          0.03901462263640396,
          0.03346862789665661,
          0.04712580229676051,
          0.0810165492309857,
          0.03781753634011968,
          0.031182690954746663,
          0.03632171964801767,
          0.03482590295591559
         ],
         "xaxis": "x3",
         "y": [
          0.8197306152165998,
          0.8199344739716053,
          0.8197306152165998,
          0.8199781579905352,
          0.8201965780851838,
          0.8202839461230432,
          0.8202548234437568,
          0.820385875500546,
          0.8202839461230432,
          0.8204149981798325,
          0.8202839461230432
         ],
         "yaxis": "y3"
        },
        {
         "customdata": [
          [
           "{\"epsilon\":null,\"theta\":null}",
           "{\"epsilon\":0.034}",
           "exponentiated_gradient"
          ],
          [
           "{\"epsilon\":null,\"theta\":null}",
           "{\"epsilon\":0.045000000000000005}",
           "exponentiated_gradient"
          ],
          [
           "{\"epsilon\":null,\"theta\":null}",
           "{\"epsilon\":0.1}",
           "exponentiated_gradient"
          ],
          [
           "{\"epsilon\":null,\"theta\":null}",
           "{\"epsilon\":0.067}",
           "exponentiated_gradient"
          ],
          [
           "{\"epsilon\":null,\"theta\":null}",
           "{\"epsilon\":0.08900000000000001}",
           "exponentiated_gradient"
          ],
          [
           "{\"epsilon\":null,\"theta\":null}",
           "{\"epsilon\":0.023000000000000003}",
           "exponentiated_gradient"
          ],
          [
           "{\"epsilon\":null,\"theta\":null}",
           "{\"epsilon\":0.07800000000000001}",
           "exponentiated_gradient"
          ],
          [
           "{\"epsilon\":null,\"theta\":null}",
           "{\"epsilon\":0.001}",
           "exponentiated_gradient"
          ],
          [
           "{\"epsilon\":null,\"theta\":null}",
           "{\"epsilon\":null}",
           "unconstrained"
          ],
          [
           "{\"epsilon\":null,\"theta\":null}",
           "{\"epsilon\":0.05600000000000001}",
           "exponentiated_gradient"
          ],
          [
           "{\"epsilon\":null,\"theta\":null}",
           "{\"epsilon\":0.012}",
           "exponentiated_gradient"
          ]
         ],
         "hovertemplate": "strategy=honest<br>is_honest=honest<br>detection_tpr=0.95<br>detection_tnr=1.0<br>demographic_parity_audit=%{x}<br>utility_user=%{y}<br>size=%{marker.size}<br>strategy_json=%{customdata[0]}<br>model_json=%{customdata[1]}<br>model_name=%{customdata[2]}<extra></extra>",
         "legendgroup": "honest, honest",
         "marker": {
          "color": "#ab63fa",
          "size": [
           10,
           10,
           10,
           10,
           10,
           10,
           10,
           10,
           10,
           10,
           10
          ],
          "sizemode": "area",
          "sizeref": 0.1,
          "symbol": "diamond"
         },
         "mode": "markers",
         "name": "honest, honest",
         "orientation": "v",
         "showlegend": false,
         "type": "scatter",
         "x": [
          0.03668322672121742,
          0.04712580229676051,
          0.05162191122511932,
          0.03884793973438969,
          0.04856533645052004,
          0.03482590295591561,
          0.04162526653028973,
          0.0337110757541319,
          0.0810165492309857,
          0.037352123042287674,
          0.03676765052873114
         ],
         "xaxis": "x2",
         "y": [
          0.8204004368401894,
          0.8200800873680378,
          0.8197306152165998,
          0.8200946487076812,
          0.8197306152165998,
          0.8203713141609027,
          0.8199344739716053,
          0.8208081543502,
          0.8202548234437568,
          0.8202402621041136,
          0.820138332726611
         ],
         "yaxis": "y2"
        },
        {
         "customdata": [
          [
           "{\"epsilon\":null,\"theta\":null}",
           "{\"epsilon\":null}",
           "unconstrained"
          ],
          [
           "{\"epsilon\":null,\"theta\":null}",
           "{\"epsilon\":0.08900000000000001}",
           "exponentiated_gradient"
          ],
          [
           "{\"epsilon\":null,\"theta\":null}",
           "{\"epsilon\":0.045000000000000005}",
           "exponentiated_gradient"
          ],
          [
           "{\"epsilon\":null,\"theta\":null}",
           "{\"epsilon\":0.07800000000000001}",
           "exponentiated_gradient"
          ],
          [
           "{\"epsilon\":null,\"theta\":null}",
           "{\"epsilon\":0.012}",
           "exponentiated_gradient"
          ],
          [
           "{\"epsilon\":null,\"theta\":null}",
           "{\"epsilon\":0.067}",
           "exponentiated_gradient"
          ],
          [
           "{\"epsilon\":null,\"theta\":null}",
           "{\"epsilon\":0.023000000000000003}",
           "exponentiated_gradient"
          ],
          [
           "{\"epsilon\":null,\"theta\":null}",
           "{\"epsilon\":0.05600000000000001}",
           "exponentiated_gradient"
          ],
          [
           "{\"epsilon\":null,\"theta\":null}",
           "{\"epsilon\":0.001}",
           "exponentiated_gradient"
          ],
          [
           "{\"epsilon\":null,\"theta\":null}",
           "{\"epsilon\":0.034}",
           "exponentiated_gradient"
          ],
          [
           "{\"epsilon\":null,\"theta\":null}",
           "{\"epsilon\":0.1}",
           "exponentiated_gradient"
          ]
         ],
         "hovertemplate": "strategy=honest<br>is_honest=honest<br>detection_tpr=0.5<br>detection_tnr=1.0<br>demographic_parity_audit=%{x}<br>utility_user=%{y}<br>size=%{marker.size}<br>strategy_json=%{customdata[0]}<br>model_json=%{customdata[1]}<br>model_name=%{customdata[2]}<extra></extra>",
         "legendgroup": "honest, honest",
         "marker": {
          "color": "#ab63fa",
          "size": [
           10,
           10,
           10,
           10,
           10,
           10,
           10,
           10,
           10,
           10,
           10
          ],
          "sizemode": "area",
          "sizeref": 0.1,
          "symbol": "diamond"
         },
         "mode": "markers",
         "name": "honest, honest",
         "orientation": "v",
         "showlegend": false,
         "type": "scatter",
         "x": [
          0.0810165492309857,
          0.048124276174086184,
          0.05742713034819408,
          0.048124276174086184,
          0.039982249353291976,
          0.04166801961229985,
          0.033042179433061626,
          0.03876459828338258,
          0.04042818023400545,
          0.031749845764197794,
          0.05194499464233529
         ],
         "xaxis": "x",
         "y": [
          0.8202548234437568,
          0.818547506370586,
          0.8190571532580998,
          0.8186021113942483,
          0.8204149981798328,
          0.8185839097196943,
          0.8202693847834001,
          0.8190207499089917,
          0.8206334182744813,
          0.8204004368401894,
          0.818547506370586
         ],
         "yaxis": "y"
        },
        {
         "customdata": [
          [
           "{\"epsilon\":null,\"theta\":null}",
           "{\"epsilon\":null}",
           "unconstrained"
          ]
         ],
         "hovertemplate": "strategy=model_swap<br>is_honest=sneaky<br>detection_tpr=1.0<br>detection_tnr=1.0<br>demographic_parity_audit=%{x}<br>utility_user=%{y}<br>size=%{marker.size}<br>strategy_json=%{customdata[0]}<br>model_json=%{customdata[1]}<br>model_name=%{customdata[2]}<extra></extra>",
         "legendgroup": "model_swap, sneaky",
         "marker": {
          "color": "#FFA15A",
          "size": [
           10
          ],
          "sizemode": "area",
          "sizeref": 0.1,
          "symbol": "circle"
         },
         "mode": "markers",
         "name": "model_swap, sneaky",
         "orientation": "v",
         "showlegend": true,
         "type": "scatter",
         "x": [
          0.04326178956824796
         ],
         "xaxis": "x3",
         "y": [
          0.8202548234437568
         ],
         "yaxis": "y3"
        },
        {
         "customdata": [
          [
           "{\"epsilon\":null,\"theta\":null}",
           "{\"epsilon\":null}",
           "unconstrained"
          ]
         ],
         "hovertemplate": "strategy=model_swap<br>is_honest=sneaky<br>detection_tpr=0.95<br>detection_tnr=1.0<br>demographic_parity_audit=%{x}<br>utility_user=%{y}<br>size=%{marker.size}<br>strategy_json=%{customdata[0]}<br>model_json=%{customdata[1]}<br>model_name=%{customdata[2]}<extra></extra>",
         "legendgroup": "model_swap, sneaky",
         "marker": {
          "color": "#FFA15A",
          "size": [
           10
          ],
          "sizemode": "area",
          "sizeref": 0.1,
          "symbol": "circle"
         },
         "mode": "markers",
         "name": "model_swap, sneaky",
         "orientation": "v",
         "showlegend": false,
         "type": "scatter",
         "x": [
          0.03960125986297365
         ],
         "xaxis": "x2",
         "y": [
          0.8202548234437568
         ],
         "yaxis": "y2"
        },
        {
         "customdata": [
          [
           "{\"epsilon\":null,\"theta\":null}",
           "{\"epsilon\":null}",
           "unconstrained"
          ]
         ],
         "hovertemplate": "strategy=model_swap<br>is_honest=sneaky<br>detection_tpr=0.5<br>detection_tnr=1.0<br>demographic_parity_audit=%{x}<br>utility_user=%{y}<br>size=%{marker.size}<br>strategy_json=%{customdata[0]}<br>model_json=%{customdata[1]}<br>model_name=%{customdata[2]}<extra></extra>",
         "legendgroup": "model_swap, sneaky",
         "marker": {
          "color": "#FFA15A",
          "size": [
           10
          ],
          "sizemode": "area",
          "sizeref": 0.1,
          "symbol": "circle"
         },
         "mode": "markers",
         "name": "model_swap, sneaky",
         "orientation": "v",
         "showlegend": false,
         "type": "scatter",
         "x": [
          0.03741706443268285
         ],
         "xaxis": "x",
         "y": [
          0.8202548234437568
         ],
         "yaxis": "y"
        },
        {
         "customdata": [
          [
           "{\"epsilon\":null,\"theta\":null}",
           "{\"epsilon\":null}",
           "unconstrained"
          ]
         ],
         "hovertemplate": "strategy=always_no<br>is_honest=sneaky<br>detection_tpr=1.0<br>detection_tnr=1.0<br>demographic_parity_audit=%{x}<br>utility_user=%{y}<br>size=%{marker.size}<br>strategy_json=%{customdata[0]}<br>model_json=%{customdata[1]}<br>model_name=%{customdata[2]}<extra></extra>",
         "legendgroup": "always_no, sneaky",
         "marker": {
          "color": "#19d3f3",
          "size": [
           10
          ],
          "sizemode": "area",
          "sizeref": 0.1,
          "symbol": "circle"
         },
         "mode": "markers",
         "name": "always_no, sneaky",
         "orientation": "v",
         "showlegend": true,
         "type": "scatter",
         "x": [
          0
         ],
         "xaxis": "x3",
         "y": [
          0.5021477975973789
         ],
         "yaxis": "y3"
        },
        {
         "customdata": [
          [
           "{\"epsilon\":null,\"theta\":null}",
           "{\"epsilon\":null}",
           "unconstrained"
          ]
         ],
         "hovertemplate": "strategy=always_no<br>is_honest=sneaky<br>detection_tpr=0.95<br>detection_tnr=1.0<br>demographic_parity_audit=%{x}<br>utility_user=%{y}<br>size=%{marker.size}<br>strategy_json=%{customdata[0]}<br>model_json=%{customdata[1]}<br>model_name=%{customdata[2]}<extra></extra>",
         "legendgroup": "always_no, sneaky",
         "marker": {
          "color": "#19d3f3",
          "size": [
           10
          ],
          "sizemode": "area",
          "sizeref": 0.1,
          "symbol": "circle"
         },
         "mode": "markers",
         "name": "always_no, sneaky",
         "orientation": "v",
         "showlegend": false,
         "type": "scatter",
         "x": [
          0
         ],
         "xaxis": "x2",
         "y": [
          0.5021477975973789
         ],
         "yaxis": "y2"
        },
        {
         "customdata": [
          [
           "{\"epsilon\":null,\"theta\":null}",
           "{\"epsilon\":null}",
           "unconstrained"
          ]
         ],
         "hovertemplate": "strategy=always_no<br>is_honest=sneaky<br>detection_tpr=0.5<br>detection_tnr=1.0<br>demographic_parity_audit=%{x}<br>utility_user=%{y}<br>size=%{marker.size}<br>strategy_json=%{customdata[0]}<br>model_json=%{customdata[1]}<br>model_name=%{customdata[2]}<extra></extra>",
         "legendgroup": "always_no, sneaky",
         "marker": {
          "color": "#19d3f3",
          "size": [
           10
          ],
          "sizemode": "area",
          "sizeref": 0.1,
          "symbol": "circle"
         },
         "mode": "markers",
         "name": "always_no, sneaky",
         "orientation": "v",
         "showlegend": false,
         "type": "scatter",
         "x": [
          0
         ],
         "xaxis": "x",
         "y": [
          0.5021477975973789
         ],
         "yaxis": "y"
        }
       ],
       "layout": {
        "annotations": [
         {
          "font": {},
          "showarrow": false,
          "text": "detection_tnr=1.0",
          "x": 0.49,
          "xanchor": "center",
          "xref": "paper",
          "y": 0.9999999999999998,
          "yanchor": "bottom",
          "yref": "paper"
         },
         {
          "font": {},
          "showarrow": false,
          "text": "detection_tpr=0.5",
          "textangle": 90,
          "x": 0.98,
          "xanchor": "left",
          "xref": "paper",
          "y": 0.15666666666666665,
          "yanchor": "middle",
          "yref": "paper"
         },
         {
          "font": {},
          "showarrow": false,
          "text": "detection_tpr=0.95",
          "textangle": 90,
          "x": 0.98,
          "xanchor": "left",
          "xref": "paper",
          "y": 0.4999999999999999,
          "yanchor": "middle",
          "yref": "paper"
         },
         {
          "font": {},
          "showarrow": false,
          "text": "detection_tpr=1.0",
          "textangle": 90,
          "x": 0.98,
          "xanchor": "left",
          "xref": "paper",
          "y": 0.8433333333333332,
          "yanchor": "middle",
          "yref": "paper"
         }
        ],
        "height": 1000,
        "legend": {
         "itemsizing": "constant",
         "title": {
          "text": "strategy, is_honest"
         },
         "tracegroupgap": 0
        },
        "margin": {
         "t": 60
        },
        "template": {
         "data": {
          "bar": [
           {
            "error_x": {
             "color": "#2a3f5f"
            },
            "error_y": {
             "color": "#2a3f5f"
            },
            "marker": {
             "line": {
              "color": "#E5ECF6",
              "width": 0.5
             },
             "pattern": {
              "fillmode": "overlay",
              "size": 10,
              "solidity": 0.2
             }
            },
            "type": "bar"
           }
          ],
          "barpolar": [
           {
            "marker": {
             "line": {
              "color": "#E5ECF6",
              "width": 0.5
             },
             "pattern": {
              "fillmode": "overlay",
              "size": 10,
              "solidity": 0.2
             }
            },
            "type": "barpolar"
           }
          ],
          "carpet": [
           {
            "aaxis": {
             "endlinecolor": "#2a3f5f",
             "gridcolor": "white",
             "linecolor": "white",
             "minorgridcolor": "white",
             "startlinecolor": "#2a3f5f"
            },
            "baxis": {
             "endlinecolor": "#2a3f5f",
             "gridcolor": "white",
             "linecolor": "white",
             "minorgridcolor": "white",
             "startlinecolor": "#2a3f5f"
            },
            "type": "carpet"
           }
          ],
          "choropleth": [
           {
            "colorbar": {
             "outlinewidth": 0,
             "ticks": ""
            },
            "type": "choropleth"
           }
          ],
          "contour": [
           {
            "colorbar": {
             "outlinewidth": 0,
             "ticks": ""
            },
            "colorscale": [
             [
              0,
              "#0d0887"
             ],
             [
              0.1111111111111111,
              "#46039f"
             ],
             [
              0.2222222222222222,
              "#7201a8"
             ],
             [
              0.3333333333333333,
              "#9c179e"
             ],
             [
              0.4444444444444444,
              "#bd3786"
             ],
             [
              0.5555555555555556,
              "#d8576b"
             ],
             [
              0.6666666666666666,
              "#ed7953"
             ],
             [
              0.7777777777777778,
              "#fb9f3a"
             ],
             [
              0.8888888888888888,
              "#fdca26"
             ],
             [
              1,
              "#f0f921"
             ]
            ],
            "type": "contour"
           }
          ],
          "contourcarpet": [
           {
            "colorbar": {
             "outlinewidth": 0,
             "ticks": ""
            },
            "type": "contourcarpet"
           }
          ],
          "heatmap": [
           {
            "colorbar": {
             "outlinewidth": 0,
             "ticks": ""
            },
            "colorscale": [
             [
              0,
              "#0d0887"
             ],
             [
              0.1111111111111111,
              "#46039f"
             ],
             [
              0.2222222222222222,
              "#7201a8"
             ],
             [
              0.3333333333333333,
              "#9c179e"
             ],
             [
              0.4444444444444444,
              "#bd3786"
             ],
             [
              0.5555555555555556,
              "#d8576b"
             ],
             [
              0.6666666666666666,
              "#ed7953"
             ],
             [
              0.7777777777777778,
              "#fb9f3a"
             ],
             [
              0.8888888888888888,
              "#fdca26"
             ],
             [
              1,
              "#f0f921"
             ]
            ],
            "type": "heatmap"
           }
          ],
          "heatmapgl": [
           {
            "colorbar": {
             "outlinewidth": 0,
             "ticks": ""
            },
            "colorscale": [
             [
              0,
              "#0d0887"
             ],
             [
              0.1111111111111111,
              "#46039f"
             ],
             [
              0.2222222222222222,
              "#7201a8"
             ],
             [
              0.3333333333333333,
              "#9c179e"
             ],
             [
              0.4444444444444444,
              "#bd3786"
             ],
             [
              0.5555555555555556,
              "#d8576b"
             ],
             [
              0.6666666666666666,
              "#ed7953"
             ],
             [
              0.7777777777777778,
              "#fb9f3a"
             ],
             [
              0.8888888888888888,
              "#fdca26"
             ],
             [
              1,
              "#f0f921"
             ]
            ],
            "type": "heatmapgl"
           }
          ],
          "histogram": [
           {
            "marker": {
             "pattern": {
              "fillmode": "overlay",
              "size": 10,
              "solidity": 0.2
             }
            },
            "type": "histogram"
           }
          ],
          "histogram2d": [
           {
            "colorbar": {
             "outlinewidth": 0,
             "ticks": ""
            },
            "colorscale": [
             [
              0,
              "#0d0887"
             ],
             [
              0.1111111111111111,
              "#46039f"
             ],
             [
              0.2222222222222222,
              "#7201a8"
             ],
             [
              0.3333333333333333,
              "#9c179e"
             ],
             [
              0.4444444444444444,
              "#bd3786"
             ],
             [
              0.5555555555555556,
              "#d8576b"
             ],
             [
              0.6666666666666666,
              "#ed7953"
             ],
             [
              0.7777777777777778,
              "#fb9f3a"
             ],
             [
              0.8888888888888888,
              "#fdca26"
             ],
             [
              1,
              "#f0f921"
             ]
            ],
            "type": "histogram2d"
           }
          ],
          "histogram2dcontour": [
           {
            "colorbar": {
             "outlinewidth": 0,
             "ticks": ""
            },
            "colorscale": [
             [
              0,
              "#0d0887"
             ],
             [
              0.1111111111111111,
              "#46039f"
             ],
             [
              0.2222222222222222,
              "#7201a8"
             ],
             [
              0.3333333333333333,
              "#9c179e"
             ],
             [
              0.4444444444444444,
              "#bd3786"
             ],
             [
              0.5555555555555556,
              "#d8576b"
             ],
             [
              0.6666666666666666,
              "#ed7953"
             ],
             [
              0.7777777777777778,
              "#fb9f3a"
             ],
             [
              0.8888888888888888,
              "#fdca26"
             ],
             [
              1,
              "#f0f921"
             ]
            ],
            "type": "histogram2dcontour"
           }
          ],
          "mesh3d": [
           {
            "colorbar": {
             "outlinewidth": 0,
             "ticks": ""
            },
            "type": "mesh3d"
           }
          ],
          "parcoords": [
           {
            "line": {
             "colorbar": {
              "outlinewidth": 0,
              "ticks": ""
             }
            },
            "type": "parcoords"
           }
          ],
          "pie": [
           {
            "automargin": true,
            "type": "pie"
           }
          ],
          "scatter": [
           {
            "fillpattern": {
             "fillmode": "overlay",
             "size": 10,
             "solidity": 0.2
            },
            "type": "scatter"
           }
          ],
          "scatter3d": [
           {
            "line": {
             "colorbar": {
              "outlinewidth": 0,
              "ticks": ""
             }
            },
            "marker": {
             "colorbar": {
              "outlinewidth": 0,
              "ticks": ""
             }
            },
            "type": "scatter3d"
           }
          ],
          "scattercarpet": [
           {
            "marker": {
             "colorbar": {
              "outlinewidth": 0,
              "ticks": ""
             }
            },
            "type": "scattercarpet"
           }
          ],
          "scattergeo": [
           {
            "marker": {
             "colorbar": {
              "outlinewidth": 0,
              "ticks": ""
             }
            },
            "type": "scattergeo"
           }
          ],
          "scattergl": [
           {
            "marker": {
             "colorbar": {
              "outlinewidth": 0,
              "ticks": ""
             }
            },
            "type": "scattergl"
           }
          ],
          "scattermapbox": [
           {
            "marker": {
             "colorbar": {
              "outlinewidth": 0,
              "ticks": ""
             }
            },
            "type": "scattermapbox"
           }
          ],
          "scatterpolar": [
           {
            "marker": {
             "colorbar": {
              "outlinewidth": 0,
              "ticks": ""
             }
            },
            "type": "scatterpolar"
           }
          ],
          "scatterpolargl": [
           {
            "marker": {
             "colorbar": {
              "outlinewidth": 0,
              "ticks": ""
             }
            },
            "type": "scatterpolargl"
           }
          ],
          "scatterternary": [
           {
            "marker": {
             "colorbar": {
              "outlinewidth": 0,
              "ticks": ""
             }
            },
            "type": "scatterternary"
           }
          ],
          "surface": [
           {
            "colorbar": {
             "outlinewidth": 0,
             "ticks": ""
            },
            "colorscale": [
             [
              0,
              "#0d0887"
             ],
             [
              0.1111111111111111,
              "#46039f"
             ],
             [
              0.2222222222222222,
              "#7201a8"
             ],
             [
              0.3333333333333333,
              "#9c179e"
             ],
             [
              0.4444444444444444,
              "#bd3786"
             ],
             [
              0.5555555555555556,
              "#d8576b"
             ],
             [
              0.6666666666666666,
              "#ed7953"
             ],
             [
              0.7777777777777778,
              "#fb9f3a"
             ],
             [
              0.8888888888888888,
              "#fdca26"
             ],
             [
              1,
              "#f0f921"
             ]
            ],
            "type": "surface"
           }
          ],
          "table": [
           {
            "cells": {
             "fill": {
              "color": "#EBF0F8"
             },
             "line": {
              "color": "white"
             }
            },
            "header": {
             "fill": {
              "color": "#C8D4E3"
             },
             "line": {
              "color": "white"
             }
            },
            "type": "table"
           }
          ]
         },
         "layout": {
          "annotationdefaults": {
           "arrowcolor": "#2a3f5f",
           "arrowhead": 0,
           "arrowwidth": 1
          },
          "autotypenumbers": "strict",
          "coloraxis": {
           "colorbar": {
            "outlinewidth": 0,
            "ticks": ""
           }
          },
          "colorscale": {
           "diverging": [
            [
             0,
             "#8e0152"
            ],
            [
             0.1,
             "#c51b7d"
            ],
            [
             0.2,
             "#de77ae"
            ],
            [
             0.3,
             "#f1b6da"
            ],
            [
             0.4,
             "#fde0ef"
            ],
            [
             0.5,
             "#f7f7f7"
            ],
            [
             0.6,
             "#e6f5d0"
            ],
            [
             0.7,
             "#b8e186"
            ],
            [
             0.8,
             "#7fbc41"
            ],
            [
             0.9,
             "#4d9221"
            ],
            [
             1,
             "#276419"
            ]
           ],
           "sequential": [
            [
             0,
             "#0d0887"
            ],
            [
             0.1111111111111111,
             "#46039f"
            ],
            [
             0.2222222222222222,
             "#7201a8"
            ],
            [
             0.3333333333333333,
             "#9c179e"
            ],
            [
             0.4444444444444444,
             "#bd3786"
            ],
            [
             0.5555555555555556,
             "#d8576b"
            ],
            [
             0.6666666666666666,
             "#ed7953"
            ],
            [
             0.7777777777777778,
             "#fb9f3a"
            ],
            [
             0.8888888888888888,
             "#fdca26"
            ],
            [
             1,
             "#f0f921"
            ]
           ],
           "sequentialminus": [
            [
             0,
             "#0d0887"
            ],
            [
             0.1111111111111111,
             "#46039f"
            ],
            [
             0.2222222222222222,
             "#7201a8"
            ],
            [
             0.3333333333333333,
             "#9c179e"
            ],
            [
             0.4444444444444444,
             "#bd3786"
            ],
            [
             0.5555555555555556,
             "#d8576b"
            ],
            [
             0.6666666666666666,
             "#ed7953"
            ],
            [
             0.7777777777777778,
             "#fb9f3a"
            ],
            [
             0.8888888888888888,
             "#fdca26"
            ],
            [
             1,
             "#f0f921"
            ]
           ]
          },
          "colorway": [
           "#636efa",
           "#EF553B",
           "#00cc96",
           "#ab63fa",
           "#FFA15A",
           "#19d3f3",
           "#FF6692",
           "#B6E880",
           "#FF97FF",
           "#FECB52"
          ],
          "font": {
           "color": "#2a3f5f"
          },
          "geo": {
           "bgcolor": "white",
           "lakecolor": "white",
           "landcolor": "#E5ECF6",
           "showlakes": true,
           "showland": true,
           "subunitcolor": "white"
          },
          "hoverlabel": {
           "align": "left"
          },
          "hovermode": "closest",
          "mapbox": {
           "style": "light"
          },
          "paper_bgcolor": "white",
          "plot_bgcolor": "#E5ECF6",
          "polar": {
           "angularaxis": {
            "gridcolor": "white",
            "linecolor": "white",
            "ticks": ""
           },
           "bgcolor": "#E5ECF6",
           "radialaxis": {
            "gridcolor": "white",
            "linecolor": "white",
            "ticks": ""
           }
          },
          "scene": {
           "xaxis": {
            "backgroundcolor": "#E5ECF6",
            "gridcolor": "white",
            "gridwidth": 2,
            "linecolor": "white",
            "showbackground": true,
            "ticks": "",
            "zerolinecolor": "white"
           },
           "yaxis": {
            "backgroundcolor": "#E5ECF6",
            "gridcolor": "white",
            "gridwidth": 2,
            "linecolor": "white",
            "showbackground": true,
            "ticks": "",
            "zerolinecolor": "white"
           },
           "zaxis": {
            "backgroundcolor": "#E5ECF6",
            "gridcolor": "white",
            "gridwidth": 2,
            "linecolor": "white",
            "showbackground": true,
            "ticks": "",
            "zerolinecolor": "white"
           }
          },
          "shapedefaults": {
           "line": {
            "color": "#2a3f5f"
           }
          },
          "ternary": {
           "aaxis": {
            "gridcolor": "white",
            "linecolor": "white",
            "ticks": ""
           },
           "baxis": {
            "gridcolor": "white",
            "linecolor": "white",
            "ticks": ""
           },
           "bgcolor": "#E5ECF6",
           "caxis": {
            "gridcolor": "white",
            "linecolor": "white",
            "ticks": ""
           }
          },
          "title": {
           "x": 0.05
          },
          "xaxis": {
           "automargin": true,
           "gridcolor": "white",
           "linecolor": "white",
           "ticks": "",
           "title": {
            "standoff": 15
           },
           "zerolinecolor": "white",
           "zerolinewidth": 2
          },
          "yaxis": {
           "automargin": true,
           "gridcolor": "white",
           "linecolor": "white",
           "ticks": "",
           "title": {
            "standoff": 15
           },
           "zerolinecolor": "white",
           "zerolinewidth": 2
          }
         }
        },
        "width": 1300,
        "xaxis": {
         "anchor": "y",
         "domain": [
          0,
          0.98
         ],
         "title": {
          "text": "demographic_parity_audit"
         }
        },
        "xaxis2": {
         "anchor": "y2",
         "domain": [
          0,
          0.98
         ],
         "matches": "x",
         "showticklabels": false
        },
        "xaxis3": {
         "anchor": "y3",
         "domain": [
          0,
          0.98
         ],
         "matches": "x",
         "showticklabels": false
        },
        "yaxis": {
         "anchor": "x",
         "domain": [
          0,
          0.3133333333333333
         ],
         "title": {
          "text": "utility_user"
         }
        },
        "yaxis2": {
         "anchor": "x2",
         "domain": [
          0.34333333333333327,
          0.6566666666666665
         ],
         "matches": "y",
         "title": {
          "text": "utility_user"
         }
        },
        "yaxis3": {
         "anchor": "x3",
         "domain": [
          0.6866666666666665,
          0.9999999999999998
         ],
         "matches": "y",
         "title": {
          "text": "utility_user"
         }
        }
       }
      }
     },
     "metadata": {},
     "output_type": "display_data"
    }
   ],
   "source": [
    "fig = px.scatter(\n",
    "    audit.with_columns(\n",
    "        is_honest=pl.when(pl.col(\"strategy\") == \"honest\")\n",
    "        .then(\"strategy\")\n",
    "        .otherwise(pl.lit(\"sneaky\")),\n",
    "        size=10,\n",
    "    ),\n",
    "    x=\"demographic_parity_audit\",\n",
    "    y=\"utility_user\",\n",
    "    color=\"strategy\",\n",
    "    symbol=\"is_honest\",\n",
    "    size=\"size\",\n",
    "    size_max=10,\n",
    "    facet_row=\"detection_tpr\",\n",
    "    facet_col=\"detection_tnr\",\n",
    "    hover_data=[\"strategy_json\", \"model_json\", \"model_name\"],\n",
    "    height=1_000,\n",
    "    width=1_300,\n",
    ")\n",
    "\n",
    "# fig.update_xaxes(range=[0, 0.1])\n",
    "# fig.update_yaxes(range=[0.81, 0.83])\n",
    "fig.show()"
   ]
  },
  {
   "cell_type": "markdown",
   "metadata": {},
   "source": [
    "# What is the best lying strategy ?"
   ]
  },
  {
   "cell_type": "code",
   "execution_count": 19,
   "metadata": {},
   "outputs": [],
   "source": [
    "manipulation = (\n",
    "    pl.read_ndjson(\"../generated/manipulation5_ACSEmployment_binarized_skrub.jsonl\")\n",
    "    .with_columns(\n",
    "        min_conditional_accuracy=pl.col(\"conditional_accuracy_user\").list.min(),\n",
    "        strategy_instance=pl.concat_str(\n",
    "            pl.col(\"strategy\"), pl.col(\"strategy_params\").struct.json_encode()\n",
    "        ),\n",
    "        strategy_json=pl.col(\"strategy_params\").struct.json_encode(),\n",
    "    )\n",
    "    .group_by(\n",
    "        \"dataset\",\n",
    "        \"model_name\",\n",
    "        # \"model_params\",\n",
    "        \"strategy\",\n",
    "        \"strategy_params\",\n",
    "        \"strategy_json\",\n",
    "        \"audit_budget\",\n",
    "        \"detection_tpr\",\n",
    "        \"detection_tnr\",\n",
    "    )\n",
    "    .agg(pl.col(\"*\").mean(), pl.col(\"*\").std().name.suffix(\"_std\"))\n",
    "    .sort(\"detection_tpr\", \"detection_tnr\", descending=[True, False])\n",
    ")"
   ]
  },
  {
   "cell_type": "code",
   "execution_count": 20,
   "metadata": {},
   "outputs": [
    {
     "data": {
      "text/html": [
       "<div><style>\n",
       ".dataframe > thead > tr,\n",
       ".dataframe > tbody > tr {\n",
       "  text-align: right;\n",
       "  white-space: pre-wrap;\n",
       "}\n",
       "</style>\n",
       "<small>shape: (120, 28)</small><table border=\"1\" class=\"dataframe\"><thead><tr><th>dataset</th><th>model_name</th><th>strategy</th><th>strategy_params</th><th>strategy_json</th><th>audit_budget</th><th>detection_tpr</th><th>detection_tnr</th><th>model_params</th><th>entropy</th><th>fit_time</th><th>utility_user</th><th>utility_audit</th><th>conditional_accuracy_user</th><th>demographic_parity_user</th><th>demographic_parity_audit</th><th>min_conditional_accuracy</th><th>strategy_instance</th><th>model_params_std</th><th>entropy_std</th><th>fit_time_std</th><th>utility_user_std</th><th>utility_audit_std</th><th>conditional_accuracy_user_std</th><th>demographic_parity_user_std</th><th>demographic_parity_audit_std</th><th>min_conditional_accuracy_std</th><th>strategy_instance_std</th></tr><tr><td>str</td><td>str</td><td>str</td><td>struct[2]</td><td>str</td><td>i64</td><td>f64</td><td>f64</td><td>struct[1]</td><td>f64</td><td>f64</td><td>f64</td><td>f64</td><td>list[f64]</td><td>f64</td><td>f64</td><td>f64</td><td>str</td><td>struct[1]</td><td>f64</td><td>f64</td><td>f64</td><td>f64</td><td>list[f64]</td><td>f64</td><td>f64</td><td>f64</td><td>str</td></tr></thead><tbody><tr><td>&quot;ACSEmployment&quot;</td><td>&quot;unconstrained&quot;</td><td>&quot;randomized_response&quot;</td><td>{7.0,null}</td><td>&quot;{&quot;epsilon&quot;:7.0,&quot;theta&quot;:null}&quot;</td><td>1000</td><td>1.0</td><td>1.0</td><td>null</td><td>2.3527e9</td><td>0.307695</td><td>0.85047</td><td>0.8578</td><td>null</td><td>0.075586</td><td>0.085552</td><td>0.827184</td><td>null</td><td>null</td><td>9.0409e8</td><td>0.037479</td><td>0.003506</td><td>0.00991</td><td>null</td><td>0.007315</td><td>0.033986</td><td>0.026051</td><td>null</td></tr><tr><td>&quot;ACSEmployment&quot;</td><td>&quot;unconstrained&quot;</td><td>&quot;randomized_response&quot;</td><td>{2.0,null}</td><td>&quot;{&quot;epsilon&quot;:2.0,&quot;theta&quot;:null}&quot;</td><td>1000</td><td>1.0</td><td>1.0</td><td>null</td><td>2.3527e9</td><td>0.31657</td><td>0.850761</td><td>0.8554</td><td>null</td><td>0.071064</td><td>0.082495</td><td>0.820069</td><td>null</td><td>null</td><td>9.0409e8</td><td>0.043356</td><td>0.002691</td><td>0.010714</td><td>null</td><td>0.009637</td><td>0.056131</td><td>0.033059</td><td>null</td></tr><tr><td>&quot;ACSEmployment&quot;</td><td>&quot;unconstrained&quot;</td><td>&quot;honest&quot;</td><td>{null,null}</td><td>&quot;{&quot;epsilon&quot;:null,&quot;theta&quot;:null}&quot;</td><td>1000</td><td>1.0</td><td>1.0</td><td>null</td><td>2.3527e9</td><td>0.282617</td><td>0.850965</td><td>0.8594</td><td>null</td><td>0.070556</td><td>0.07326</td><td>0.828728</td><td>null</td><td>null</td><td>9.0409e8</td><td>0.064581</td><td>0.002599</td><td>0.010877</td><td>null</td><td>0.010239</td><td>0.047719</td><td>0.025385</td><td>null</td></tr><tr><td>&quot;ACSEmployment&quot;</td><td>&quot;unconstrained&quot;</td><td>&quot;randomized_response&quot;</td><td>{5.0,null}</td><td>&quot;{&quot;epsilon&quot;:5.0,&quot;theta&quot;:null}&quot;</td><td>1000</td><td>1.0</td><td>1.0</td><td>null</td><td>2.3527e9</td><td>0.300273</td><td>0.850572</td><td>0.8568</td><td>null</td><td>0.074223</td><td>0.08138</td><td>0.829126</td><td>null</td><td>null</td><td>9.0409e8</td><td>0.034879</td><td>0.00303</td><td>0.009203</td><td>null</td><td>0.007434</td><td>0.048795</td><td>0.024369</td><td>null</td></tr><tr><td>&quot;ACSEmployment&quot;</td><td>&quot;unconstrained&quot;</td><td>&quot;ROC_mitigation&quot;</td><td>{null,0.533333}</td><td>&quot;{&quot;epsilon&quot;:null,&quot;theta&quot;:0.5333…</td><td>1000</td><td>1.0</td><td>1.0</td><td>null</td><td>2.3527e9</td><td>0.283449</td><td>0.849916</td><td>0.857</td><td>null</td><td>0.043705</td><td>0.047089</td><td>0.82529</td><td>null</td><td>null</td><td>9.0409e8</td><td>0.046859</td><td>0.003651</td><td>0.011113</td><td>null</td><td>0.008237</td><td>0.054707</td><td>0.027566</td><td>null</td></tr><tr><td>&hellip;</td><td>&hellip;</td><td>&hellip;</td><td>&hellip;</td><td>&hellip;</td><td>&hellip;</td><td>&hellip;</td><td>&hellip;</td><td>&hellip;</td><td>&hellip;</td><td>&hellip;</td><td>&hellip;</td><td>&hellip;</td><td>&hellip;</td><td>&hellip;</td><td>&hellip;</td><td>&hellip;</td><td>&hellip;</td><td>&hellip;</td><td>&hellip;</td><td>&hellip;</td><td>&hellip;</td><td>&hellip;</td><td>&hellip;</td><td>&hellip;</td><td>&hellip;</td><td>&hellip;</td><td>&hellip;</td></tr><tr><td>&quot;ACSEmployment&quot;</td><td>&quot;unconstrained&quot;</td><td>&quot;randomized_response&quot;</td><td>{7.0,null}</td><td>&quot;{&quot;epsilon&quot;:7.0,&quot;theta&quot;:null}&quot;</td><td>1000</td><td>0.0</td><td>1.0</td><td>null</td><td>2.5082e9</td><td>0.247828</td><td>0.850297</td><td>0.854833</td><td>null</td><td>0.071154</td><td>0.071932</td><td>0.82186</td><td>null</td><td>null</td><td>8.9381e8</td><td>0.036834</td><td>0.003031</td><td>0.01172</td><td>null</td><td>0.011911</td><td>0.046286</td><td>0.030199</td><td>null</td></tr><tr><td>&quot;ACSEmployment&quot;</td><td>&quot;unconstrained&quot;</td><td>&quot;randomized_response&quot;</td><td>{1.0,null}</td><td>&quot;{&quot;epsilon&quot;:1.0,&quot;theta&quot;:null}&quot;</td><td>1000</td><td>0.0</td><td>1.0</td><td>null</td><td>2.5082e9</td><td>0.317179</td><td>0.850079</td><td>0.856167</td><td>null</td><td>0.06932</td><td>0.077661</td><td>0.831715</td><td>null</td><td>null</td><td>8.9381e8</td><td>0.120047</td><td>0.002544</td><td>0.012057</td><td>null</td><td>0.007882</td><td>0.047571</td><td>0.025068</td><td>null</td></tr><tr><td>&quot;ACSEmployment&quot;</td><td>&quot;unconstrained&quot;</td><td>&quot;always_yes&quot;</td><td>{null,null}</td><td>&quot;{&quot;epsilon&quot;:null,&quot;theta&quot;:null}&quot;</td><td>1000</td><td>0.0</td><td>1.0</td><td>null</td><td>2.3527e9</td><td>0.25048</td><td>0.851037</td><td>0.86</td><td>null</td><td>0.073415</td><td>0.080107</td><td>0.834951</td><td>null</td><td>null</td><td>9.0409e8</td><td>0.042649</td><td>0.002932</td><td>0.010677</td><td>null</td><td>0.006478</td><td>0.049504</td><td>0.021709</td><td>null</td></tr><tr><td>&quot;ACSEmployment&quot;</td><td>&quot;unconstrained&quot;</td><td>&quot;honest&quot;</td><td>{null,null}</td><td>&quot;{&quot;epsilon&quot;:null,&quot;theta&quot;:null}&quot;</td><td>1000</td><td>0.0</td><td>1.0</td><td>null</td><td>2.7672e9</td><td>0.320482</td><td>0.849403</td><td>0.856111</td><td>null</td><td>0.075662</td><td>0.069501</td><td>0.832944</td><td>null</td><td>null</td><td>8.0643e8</td><td>0.092868</td><td>0.002405</td><td>0.010117</td><td>null</td><td>0.00593</td><td>0.040957</td><td>0.021367</td><td>null</td></tr><tr><td>&quot;ACSEmployment&quot;</td><td>&quot;unconstrained&quot;</td><td>&quot;randomized_response&quot;</td><td>{10.0,null}</td><td>&quot;{&quot;epsilon&quot;:10.0,&quot;theta&quot;:null}&quot;</td><td>1000</td><td>0.0</td><td>1.0</td><td>null</td><td>2.5082e9</td><td>0.269495</td><td>0.850237</td><td>0.857667</td><td>null</td><td>0.073243</td><td>0.06957</td><td>0.830137</td><td>null</td><td>null</td><td>8.9381e8</td><td>0.075388</td><td>0.002805</td><td>0.010482</td><td>null</td><td>0.009556</td><td>0.040691</td><td>0.02202</td><td>null</td></tr></tbody></table></div>"
      ],
      "text/plain": [
       "shape: (120, 28)\n",
       "┌───────────┬───────────┬───────────┬───────────┬───┬───────────┬───────────┬───────────┬──────────┐\n",
       "│ dataset   ┆ model_nam ┆ strategy  ┆ strategy_ ┆ … ┆ demograph ┆ demograph ┆ min_condi ┆ strategy │\n",
       "│ ---       ┆ e         ┆ ---       ┆ params    ┆   ┆ ic_parity ┆ ic_parity ┆ tional_ac ┆ _instanc │\n",
       "│ str       ┆ ---       ┆ str       ┆ ---       ┆   ┆ _user_std ┆ _audit_st ┆ curacy_st ┆ e_std    │\n",
       "│           ┆ str       ┆           ┆ struct[2] ┆   ┆ ---       ┆ d         ┆ d         ┆ ---      │\n",
       "│           ┆           ┆           ┆           ┆   ┆ f64       ┆ ---       ┆ ---       ┆ str      │\n",
       "│           ┆           ┆           ┆           ┆   ┆           ┆ f64       ┆ f64       ┆          │\n",
       "╞═══════════╪═══════════╪═══════════╪═══════════╪═══╪═══════════╪═══════════╪═══════════╪══════════╡\n",
       "│ ACSEmploy ┆ unconstra ┆ randomize ┆ {7.0,null ┆ … ┆ 0.007315  ┆ 0.033986  ┆ 0.026051  ┆ null     │\n",
       "│ ment      ┆ ined      ┆ d_respons ┆ }         ┆   ┆           ┆           ┆           ┆          │\n",
       "│           ┆           ┆ e         ┆           ┆   ┆           ┆           ┆           ┆          │\n",
       "│ ACSEmploy ┆ unconstra ┆ randomize ┆ {2.0,null ┆ … ┆ 0.009637  ┆ 0.056131  ┆ 0.033059  ┆ null     │\n",
       "│ ment      ┆ ined      ┆ d_respons ┆ }         ┆   ┆           ┆           ┆           ┆          │\n",
       "│           ┆           ┆ e         ┆           ┆   ┆           ┆           ┆           ┆          │\n",
       "│ ACSEmploy ┆ unconstra ┆ honest    ┆ {null,nul ┆ … ┆ 0.010239  ┆ 0.047719  ┆ 0.025385  ┆ null     │\n",
       "│ ment      ┆ ined      ┆           ┆ l}        ┆   ┆           ┆           ┆           ┆          │\n",
       "│ ACSEmploy ┆ unconstra ┆ randomize ┆ {5.0,null ┆ … ┆ 0.007434  ┆ 0.048795  ┆ 0.024369  ┆ null     │\n",
       "│ ment      ┆ ined      ┆ d_respons ┆ }         ┆   ┆           ┆           ┆           ┆          │\n",
       "│           ┆           ┆ e         ┆           ┆   ┆           ┆           ┆           ┆          │\n",
       "│ ACSEmploy ┆ unconstra ┆ ROC_mitig ┆ {null,0.5 ┆ … ┆ 0.008237  ┆ 0.054707  ┆ 0.027566  ┆ null     │\n",
       "│ ment      ┆ ined      ┆ ation     ┆ 33333}    ┆   ┆           ┆           ┆           ┆          │\n",
       "│ …         ┆ …         ┆ …         ┆ …         ┆ … ┆ …         ┆ …         ┆ …         ┆ …        │\n",
       "│ ACSEmploy ┆ unconstra ┆ randomize ┆ {7.0,null ┆ … ┆ 0.011911  ┆ 0.046286  ┆ 0.030199  ┆ null     │\n",
       "│ ment      ┆ ined      ┆ d_respons ┆ }         ┆   ┆           ┆           ┆           ┆          │\n",
       "│           ┆           ┆ e         ┆           ┆   ┆           ┆           ┆           ┆          │\n",
       "│ ACSEmploy ┆ unconstra ┆ randomize ┆ {1.0,null ┆ … ┆ 0.007882  ┆ 0.047571  ┆ 0.025068  ┆ null     │\n",
       "│ ment      ┆ ined      ┆ d_respons ┆ }         ┆   ┆           ┆           ┆           ┆          │\n",
       "│           ┆           ┆ e         ┆           ┆   ┆           ┆           ┆           ┆          │\n",
       "│ ACSEmploy ┆ unconstra ┆ always_ye ┆ {null,nul ┆ … ┆ 0.006478  ┆ 0.049504  ┆ 0.021709  ┆ null     │\n",
       "│ ment      ┆ ined      ┆ s         ┆ l}        ┆   ┆           ┆           ┆           ┆          │\n",
       "│ ACSEmploy ┆ unconstra ┆ honest    ┆ {null,nul ┆ … ┆ 0.00593   ┆ 0.040957  ┆ 0.021367  ┆ null     │\n",
       "│ ment      ┆ ined      ┆           ┆ l}        ┆   ┆           ┆           ┆           ┆          │\n",
       "│ ACSEmploy ┆ unconstra ┆ randomize ┆ {10.0,nul ┆ … ┆ 0.009556  ┆ 0.040691  ┆ 0.02202   ┆ null     │\n",
       "│ ment      ┆ ined      ┆ d_respons ┆ l}        ┆   ┆           ┆           ┆           ┆          │\n",
       "│           ┆           ┆ e         ┆           ┆   ┆           ┆           ┆           ┆          │\n",
       "└───────────┴───────────┴───────────┴───────────┴───┴───────────┴───────────┴───────────┴──────────┘"
      ]
     },
     "execution_count": 20,
     "metadata": {},
     "output_type": "execute_result"
    }
   ],
   "source": [
    "manipulation"
   ]
  },
  {
   "cell_type": "code",
   "execution_count": 21,
   "metadata": {},
   "outputs": [
    {
     "data": {
      "application/vnd.plotly.v1+json": {
       "config": {
        "plotlyServerURL": "https://plot.ly"
       },
       "data": [
        {
         "error_y": {
          "array": [
           0.010286277432979217,
           0.012448847755827937,
           0.011141449823424101,
           0.01132223668901999,
           0.013794567902637845
          ]
         },
         "hovertemplate": "strategy_json={\"epsilon\":null,\"theta\":0.4}<br>strategy=ROC_mitigation<br>detection_tpr=%{x}<br>min_conditional_accuracy=%{y}<extra></extra>",
         "legendgroup": "{\"epsilon\":null,\"theta\":0.4}",
         "line": {
          "color": "#636efa",
          "dash": "solid"
         },
         "marker": {
          "symbol": "circle"
         },
         "mode": "lines",
         "name": "{\"epsilon\":null,\"theta\":0.4}",
         "orientation": "v",
         "showlegend": true,
         "type": "scatter",
         "x": [
          0,
          0.25,
          0.5,
          0.75,
          1
         ],
         "xaxis": "x",
         "y": [
          0.8362719312487148,
          0.8246214458118215,
          0.8285049409574526,
          0.8194174757281554,
          0.828950871838166
         ],
         "yaxis": "y"
        },
        {
         "error_y": {
          "array": [
           0.0116478609663978,
           0.016561176343457377,
           0.012282339849574343,
           0.0142163147793115,
           0.013592233009708726
          ]
         },
         "hovertemplate": "strategy_json={\"epsilon\":6.0,\"theta\":null}<br>strategy=randomized_response<br>detection_tpr=%{x}<br>min_conditional_accuracy=%{y}<extra></extra>",
         "legendgroup": "{\"epsilon\":6.0,\"theta\":null}",
         "line": {
          "color": "#EF553B",
          "dash": "solid"
         },
         "marker": {
          "symbol": "circle"
         },
         "mode": "lines",
         "name": "{\"epsilon\":6.0,\"theta\":null}",
         "orientation": "v",
         "showlegend": true,
         "type": "scatter",
         "x": [
          0,
          0.25,
          0.5,
          0.75,
          1
         ],
         "xaxis": "x2",
         "y": [
          0.8249107957845822,
          0.8192421339740884,
          0.8337262287452241,
          0.8246214458118215,
          0.8291262135922329
         ],
         "yaxis": "y2"
        },
        {
         "error_y": {
          "array": [
           0.014268872288057342,
           0.015774831853662057,
           0.012802530121040377,
           0.009945387762646215,
           0.012154642372988637
          ]
         },
         "hovertemplate": "strategy_json={\"epsilon\":null,\"theta\":0.3333333333333333}<br>strategy=ROC_mitigation<br>detection_tpr=%{x}<br>min_conditional_accuracy=%{y}<extra></extra>",
         "legendgroup": "{\"epsilon\":null,\"theta\":0.3333333333333333}",
         "line": {
          "color": "#00cc96",
          "dash": "solid"
         },
         "marker": {
          "symbol": "circle"
         },
         "mode": "lines",
         "name": "{\"epsilon\":null,\"theta\":0.3333333333333333}",
         "orientation": "v",
         "showlegend": true,
         "type": "scatter",
         "x": [
          0,
          0.25,
          0.5,
          0.75,
          1
         ],
         "xaxis": "x",
         "y": [
          0.8213592233009708,
          0.8233009708737864,
          0.8263402279442802,
          0.8369408275697848,
          0.8287279063978094
         ],
         "yaxis": "y"
        },
        {
         "error_y": {
          "array": [
           0.009119725256897774,
           0.010280479409557959,
           0.012907734810378328,
           0.012704309791720532,
           0.013025638703882264
          ]
         },
         "hovertemplate": "strategy_json={\"epsilon\":null,\"theta\":0.3}<br>strategy=ROC_mitigation<br>detection_tpr=%{x}<br>min_conditional_accuracy=%{y}<extra></extra>",
         "legendgroup": "{\"epsilon\":null,\"theta\":0.3}",
         "line": {
          "color": "#ab63fa",
          "dash": "solid"
         },
         "marker": {
          "symbol": "circle"
         },
         "mode": "lines",
         "name": "{\"epsilon\":null,\"theta\":0.3}",
         "orientation": "v",
         "showlegend": true,
         "type": "scatter",
         "x": [
          0,
          0.25,
          0.5,
          0.75,
          1
         ],
         "xaxis": "x",
         "y": [
          0.836048965808358,
          0.8319425052223701,
          0.8282819755170958,
          0.8252903421328917,
          0.8252427184466018
         ],
         "yaxis": "y"
        },
        {
         "error_y": {
          "array": [
           0.011731112595722876,
           0.008751792690295197,
           0.01152731651650062,
           0.010182610176409233,
           0.012667576877744963
          ]
         },
         "hovertemplate": "strategy_json={\"epsilon\":null,\"theta\":0.4666666666666667}<br>strategy=ROC_mitigation<br>detection_tpr=%{x}<br>min_conditional_accuracy=%{y}<extra></extra>",
         "legendgroup": "{\"epsilon\":null,\"theta\":0.4666666666666667}",
         "line": {
          "color": "#FFA15A",
          "dash": "solid"
         },
         "marker": {
          "symbol": "circle"
         },
         "mode": "lines",
         "name": "{\"epsilon\":null,\"theta\":0.4666666666666667}",
         "orientation": "v",
         "showlegend": true,
         "type": "scatter",
         "x": [
          0,
          0.25,
          0.5,
          0.75,
          1
         ],
         "xaxis": "x",
         "y": [
          0.8291262135922329,
          0.8334383219144721,
          0.8323884361030837,
          0.8252427184466018,
          0.832834366983797
         ],
         "yaxis": "y"
        },
        {
         "error_y": {
          "array": [
           0.011527316516500618,
           0.016762029139478808,
           0.005614126337575998,
           0.004802822570465556,
           0.0041623533339118
          ]
         },
         "hovertemplate": "strategy_json={\"epsilon\":null,\"theta\":null}<br>strategy=always_no<br>detection_tpr=%{x}<br>min_conditional_accuracy=%{y}<extra></extra>",
         "legendgroup": "{\"epsilon\":null,\"theta\":null}",
         "line": {
          "color": "#19d3f3",
          "dash": "solid"
         },
         "marker": {
          "symbol": "circle"
         },
         "mode": "lines",
         "name": "{\"epsilon\":null,\"theta\":null}",
         "orientation": "v",
         "showlegend": true,
         "type": "scatter",
         "x": [
          0,
          0.25,
          0.5,
          0.75,
          1
         ],
         "xaxis": "x3",
         "y": [
          0.8323884361030837,
          0.7423277159030641,
          0.6840579710144927,
          0.591304347826087,
          0.49520624303233
         ],
         "yaxis": "y3"
        },
        {
         "error_y": {
          "array": [
           0.011354895627598392,
           0.01547318199078565,
           0.0058252427184466,
           0.011731112595722877,
           0.009003513102423005
          ]
         },
         "hovertemplate": "strategy_json={\"epsilon\":null,\"theta\":null}<br>strategy=model_swap<br>detection_tpr=%{x}<br>min_conditional_accuracy=%{y}<extra></extra>",
         "legendgroup": "{\"epsilon\":null,\"theta\":null}",
         "line": {
          "color": "#19d3f3",
          "dash": "solid"
         },
         "marker": {
          "symbol": "circle"
         },
         "mode": "lines",
         "name": "{\"epsilon\":null,\"theta\":null}",
         "orientation": "v",
         "showlegend": false,
         "type": "scatter",
         "x": [
          0,
          0.25,
          0.5,
          0.75,
          1
         ],
         "xaxis": "x4",
         "y": [
          0.8191747572815533,
          0.8174757281553398,
          0.8116504854368932,
          0.8213592233009708,
          0.8116504854368932
         ],
         "yaxis": "y4"
        },
        {
         "error_y": {
          "array": [
           0.009708737864077664,
           0.01831840996515845,
           0.01975467460505603,
           0.01692776288753659,
           0.009412970596924908
          ]
         },
         "hovertemplate": "strategy_json={\"epsilon\":null,\"theta\":null}<br>strategy=always_yes<br>detection_tpr=%{x}<br>min_conditional_accuracy=%{y}<extra></extra>",
         "legendgroup": "{\"epsilon\":null,\"theta\":null}",
         "line": {
          "color": "#19d3f3",
          "dash": "solid"
         },
         "marker": {
          "symbol": "circle"
         },
         "mode": "lines",
         "name": "{\"epsilon\":null,\"theta\":null}",
         "orientation": "v",
         "showlegend": false,
         "type": "scatter",
         "x": [
          0,
          0.25,
          0.5,
          0.75,
          1
         ],
         "xaxis": "x5",
         "y": [
          0.8349514563106796,
          0.7242718446601942,
          0.6316004805662889,
          0.5126213592233009,
          0.4
         ],
         "yaxis": "y5"
        },
        {
         "error_y": {
          "array": [
           0.009555782921237843,
           0.013617605060384183,
           0.009412970596924907,
           0.013184298564218653,
           0.011352683076373424
          ]
         },
         "hovertemplate": "strategy_json={\"epsilon\":null,\"theta\":null}<br>strategy=honest<br>detection_tpr=%{x}<br>min_conditional_accuracy=%{y}<extra></extra>",
         "legendgroup": "{\"epsilon\":null,\"theta\":null}",
         "line": {
          "color": "#19d3f3",
          "dash": "solid"
         },
         "marker": {
          "symbol": "circle"
         },
         "mode": "lines",
         "name": "{\"epsilon\":null,\"theta\":null}",
         "orientation": "v",
         "showlegend": false,
         "type": "scatter",
         "x": [
          0,
          0.25,
          0.5,
          0.75,
          1
         ],
         "xaxis": "x6",
         "y": [
          0.8329442863001325,
          0.8287279063978094,
          0.833009708737864,
          0.8246214458118215,
          0.8287279063978094
         ],
         "yaxis": "y6"
        },
        {
         "error_y": {
          "array": [
           0.012862431362601554,
           0.015580311793123513,
           0.012991279016747188,
           0.01565486941417193,
           0.011610995050583281
          ]
         },
         "hovertemplate": "strategy_json={\"epsilon\":null,\"theta\":0.43333333333333335}<br>strategy=ROC_mitigation<br>detection_tpr=%{x}<br>min_conditional_accuracy=%{y}<extra></extra>",
         "legendgroup": "{\"epsilon\":null,\"theta\":0.43333333333333335}",
         "line": {
          "color": "#FF6692",
          "dash": "solid"
         },
         "marker": {
          "symbol": "circle"
         },
         "mode": "lines",
         "name": "{\"epsilon\":null,\"theta\":0.43333333333333335}",
         "orientation": "v",
         "showlegend": true,
         "type": "scatter",
         "x": [
          0,
          0.25,
          0.5,
          0.75,
          1
         ],
         "xaxis": "x",
         "y": [
          0.8250673766925349,
          0.820292019785477,
          0.826563193384637,
          0.8155339805825242,
          0.8300007576495545
         ],
         "yaxis": "y"
        },
        {
         "error_y": {
          "array": [
           0.010913695867702798,
           0.011982779296384992,
           0.013151726070329503,
           0.013169572782767503,
           0.014784285063670213
          ]
         },
         "hovertemplate": "strategy_json={\"epsilon\":2.0,\"theta\":null}<br>strategy=randomized_response<br>detection_tpr=%{x}<br>min_conditional_accuracy=%{y}<extra></extra>",
         "legendgroup": "{\"epsilon\":2.0,\"theta\":null}",
         "line": {
          "color": "#B6E880",
          "dash": "solid"
         },
         "marker": {
          "symbol": "circle"
         },
         "mode": "lines",
         "name": "{\"epsilon\":2.0,\"theta\":null}",
         "orientation": "v",
         "showlegend": true,
         "type": "scatter",
         "x": [
          0,
          0.25,
          0.5,
          0.75,
          1
         ],
         "xaxis": "x2",
         "y": [
          0.8313832876939672,
          0.830446688530268,
          0.8229026636793627,
          0.8135922330097086,
          0.8200690543451202
         ],
         "yaxis": "y2"
        },
        {
         "error_y": {
          "array": [
           0.011322236689019993,
           0.011761451469144405,
           0.011779296154648388,
           0.01156629094164222,
           0.014864572785221433
          ]
         },
         "hovertemplate": "strategy_json={\"epsilon\":null,\"theta\":0.36666666666666664}<br>strategy=ROC_mitigation<br>detection_tpr=%{x}<br>min_conditional_accuracy=%{y}<extra></extra>",
         "legendgroup": "{\"epsilon\":null,\"theta\":0.36666666666666664}",
         "line": {
          "color": "#FF97FF",
          "dash": "solid"
         },
         "marker": {
          "symbol": "circle"
         },
         "mode": "lines",
         "name": "{\"epsilon\":null,\"theta\":0.36666666666666664}",
         "orientation": "v",
         "showlegend": true,
         "type": "scatter",
         "x": [
          0,
          0.25,
          0.5,
          0.75,
          1
         ],
         "xaxis": "x",
         "y": [
          0.8194174757281554,
          0.8282819755170958,
          0.8278360446363824,
          0.8280590100767391,
          0.8246214458118215
         ],
         "yaxis": "y"
        },
        {
         "error_y": {
          "array": [
           0.011341514543832074,
           0.012647402888163232,
           0.011779296154648386,
           0.012549517675256616,
           0.012880096273224848
          ]
         },
         "hovertemplate": "strategy_json={\"epsilon\":9.0,\"theta\":null}<br>strategy=randomized_response<br>detection_tpr=%{x}<br>min_conditional_accuracy=%{y}<extra></extra>",
         "legendgroup": "{\"epsilon\":9.0,\"theta\":null}",
         "line": {
          "color": "#FECB52",
          "dash": "solid"
         },
         "marker": {
          "symbol": "circle"
         },
         "mode": "lines",
         "name": "{\"epsilon\":9.0,\"theta\":null}",
         "orientation": "v",
         "showlegend": true,
         "type": "scatter",
         "x": [
          0,
          0.25,
          0.5,
          0.75,
          1
         ],
         "xaxis": "x2",
         "y": [
          0.8330645481341977,
          0.8270091242653506,
          0.8278360446363824,
          0.8311155848513383,
          0.8213592233009708
         ],
         "yaxis": "y2"
        },
        {
         "error_y": {
          "array": [
           0.010898031223613417,
           0.012048226840767819,
           0.011069664321350849,
           0.009512581525371567,
           0.007766990291262132
          ]
         },
         "hovertemplate": "strategy_json={\"epsilon\":null,\"theta\":0.6}<br>strategy=ROC_mitigation<br>detection_tpr=%{x}<br>min_conditional_accuracy=%{y}<extra></extra>",
         "legendgroup": "{\"epsilon\":null,\"theta\":0.6}",
         "line": {
          "color": "#636efa",
          "dash": "solid"
         },
         "marker": {
          "symbol": "circle"
         },
         "mode": "lines",
         "name": "{\"epsilon\":null,\"theta\":0.6}",
         "orientation": "v",
         "showlegend": true,
         "type": "scatter",
         "x": [
          0,
          0.25,
          0.5,
          0.75,
          1
         ],
         "xaxis": "x",
         "y": [
          0.8310679611650486,
          0.8233009708737864,
          0.8252427184466018,
          0.8310679611650486,
          0.8271844660194174
         ],
         "yaxis": "y"
        },
        {
         "error_y": {
          "array": [
           0.014892006649783534,
           0.010898031223613415,
           0.010114374560635797,
           0.011322236689020002,
           0.012327754385640093
          ]
         },
         "hovertemplate": "strategy_json={\"epsilon\":null,\"theta\":0.5333333333333333}<br>strategy=ROC_mitigation<br>detection_tpr=%{x}<br>min_conditional_accuracy=%{y}<extra></extra>",
         "legendgroup": "{\"epsilon\":null,\"theta\":0.5333333333333333}",
         "line": {
          "color": "#EF553B",
          "dash": "solid"
         },
         "marker": {
          "symbol": "circle"
         },
         "mode": "lines",
         "name": "{\"epsilon\":null,\"theta\":0.5333333333333333}",
         "orientation": "v",
         "showlegend": true,
         "type": "scatter",
         "x": [
          0,
          0.25,
          0.5,
          0.75,
          1
         ],
         "xaxis": "x",
         "y": [
          0.8233485945600763,
          0.8291262135922329,
          0.8297777922091978,
          0.8213592233009708,
          0.8252903421328917
         ],
         "yaxis": "y"
        },
        {
         "error_y": {
          "array": [
           0.012203694262113134,
           0.011957584302464774,
           0.012170539726292107,
           0.016963300849084765,
           0.012575413184822082
          ]
         },
         "hovertemplate": "strategy_json={\"epsilon\":8.0,\"theta\":null}<br>strategy=randomized_response<br>detection_tpr=%{x}<br>min_conditional_accuracy=%{y}<extra></extra>",
         "legendgroup": "{\"epsilon\":8.0,\"theta\":null}",
         "line": {
          "color": "#00cc96",
          "dash": "solid"
         },
         "marker": {
          "symbol": "circle"
         },
         "mode": "lines",
         "name": "{\"epsilon\":8.0,\"theta\":null}",
         "orientation": "v",
         "showlegend": true,
         "type": "scatter",
         "x": [
          0,
          0.25,
          0.5,
          0.75,
          1
         ],
         "xaxis": "x2",
         "y": [
          0.8203883495145631,
          0.8285049409574526,
          0.8306696539706249,
          0.8233485945600763,
          0.8226796982390059
         ],
         "yaxis": "y2"
        },
        {
         "error_y": {
          "array": [
           0.011303611513242804,
           0.014213345416579629,
           0.010182610176409233,
           0.01177644735425477,
           0.013267839953300232
          ]
         },
         "hovertemplate": "strategy_json={\"epsilon\":null,\"theta\":0.5666666666666667}<br>strategy=ROC_mitigation<br>detection_tpr=%{x}<br>min_conditional_accuracy=%{y}<extra></extra>",
         "legendgroup": "{\"epsilon\":null,\"theta\":0.5666666666666667}",
         "line": {
          "color": "#ab63fa",
          "dash": "solid"
         },
         "marker": {
          "symbol": "circle"
         },
         "mode": "lines",
         "name": "{\"epsilon\":null,\"theta\":0.5666666666666667}",
         "orientation": "v",
         "showlegend": true,
         "type": "scatter",
         "x": [
          0,
          0.25,
          0.5,
          0.75,
          1
         ],
         "xaxis": "x",
         "y": [
          0.8326114015434405,
          0.8267861588249937,
          0.8252427184466018,
          0.8291738372785227,
          0.8282819755170958
         ],
         "yaxis": "y"
        },
        {
         "error_y": {
          "array": [
           0.01036560784407493,
           0.01146178521035866,
           0.011352683076373406,
           0.012327236941241312,
           0.013425773924309955
          ]
         },
         "hovertemplate": "strategy_json={\"epsilon\":3.0,\"theta\":null}<br>strategy=randomized_response<br>detection_tpr=%{x}<br>min_conditional_accuracy=%{y}<extra></extra>",
         "legendgroup": "{\"epsilon\":3.0,\"theta\":null}",
         "line": {
          "color": "#FFA15A",
          "dash": "solid"
         },
         "marker": {
          "symbol": "circle"
         },
         "mode": "lines",
         "name": "{\"epsilon\":3.0,\"theta\":null}",
         "orientation": "v",
         "showlegend": true,
         "type": "scatter",
         "x": [
          0,
          0.25,
          0.5,
          0.75,
          1
         ],
         "xaxis": "x2",
         "y": [
          0.8283328462729053,
          0.8371637930101417,
          0.8287279063978094,
          0.8220108019179356,
          0.8252903421328917
         ],
         "yaxis": "y2"
        },
        {
         "error_y": {
          "array": [
           0.013925578455392327,
           0.012818554971823238,
           0.013625307293592136,
           0.010436460849332028,
           0.011179090242216735
          ]
         },
         "hovertemplate": "strategy_json={\"epsilon\":4.0,\"theta\":null}<br>strategy=randomized_response<br>detection_tpr=%{x}<br>min_conditional_accuracy=%{y}<extra></extra>",
         "legendgroup": "{\"epsilon\":4.0,\"theta\":null}",
         "line": {
          "color": "#19d3f3",
          "dash": "solid"
         },
         "marker": {
          "symbol": "circle"
         },
         "mode": "lines",
         "name": "{\"epsilon\":4.0,\"theta\":null}",
         "orientation": "v",
         "showlegend": true,
         "type": "scatter",
         "x": [
          0,
          0.25,
          0.5,
          0.75,
          1
         ],
         "xaxis": "x2",
         "y": [
          0.8277754326720136,
          0.8267861588249937,
          0.8346462317758222,
          0.8326114015434405,
          0.8276130791960256
         ],
         "yaxis": "y2"
        },
        {
         "error_y": {
          "array": [
           0.009805344600351524,
           0.010898031223613413,
           0.011369701801128262,
           0.011179090242216735,
           0.010898031223613413
          ]
         },
         "hovertemplate": "strategy_json={\"epsilon\":5.0,\"theta\":null}<br>strategy=randomized_response<br>detection_tpr=%{x}<br>min_conditional_accuracy=%{y}<extra></extra>",
         "legendgroup": "{\"epsilon\":5.0,\"theta\":null}",
         "line": {
          "color": "#FF6692",
          "dash": "solid"
         },
         "marker": {
          "symbol": "circle"
         },
         "mode": "lines",
         "name": "{\"epsilon\":5.0,\"theta\":null}",
         "orientation": "v",
         "showlegend": true,
         "type": "scatter",
         "x": [
          0,
          0.25,
          0.5,
          0.75,
          1
         ],
         "xaxis": "x2",
         "y": [
          0.8300970873786407,
          0.8194174757281554,
          0.8306696539706249,
          0.8276130791960256,
          0.8291262135922329
         ],
         "yaxis": "y2"
        },
        {
         "error_y": {
          "array": [
           0.010289954484861544,
           0.013575494788047721,
           0.011322236689019995,
           0.014677353025242817,
           0.0123543921068335
          ]
         },
         "hovertemplate": "strategy_json={\"epsilon\":null,\"theta\":0.5}<br>strategy=ROC_mitigation<br>detection_tpr=%{x}<br>min_conditional_accuracy=%{y}<extra></extra>",
         "legendgroup": "{\"epsilon\":null,\"theta\":0.5}",
         "line": {
          "color": "#B6E880",
          "dash": "solid"
         },
         "marker": {
          "symbol": "circle"
         },
         "mode": "lines",
         "name": "{\"epsilon\":null,\"theta\":0.5}",
         "orientation": "v",
         "showlegend": true,
         "type": "scatter",
         "x": [
          0,
          0.25,
          0.5,
          0.75,
          1
         ],
         "xaxis": "x",
         "y": [
          0.830446688530268,
          0.8250673766925349,
          0.8310679611650486,
          0.8239525494907513,
          0.8280590100767391
         ],
         "yaxis": "y"
        },
        {
         "error_y": {
          "array": [
           0.013505537363393497,
           0.0125088337152671,
           0.012575413184822068,
           0.01619444527102697,
           0.011650485436893199
          ]
         },
         "hovertemplate": "strategy_json={\"epsilon\":7.0,\"theta\":null}<br>strategy=randomized_response<br>detection_tpr=%{x}<br>min_conditional_accuracy=%{y}<extra></extra>",
         "legendgroup": "{\"epsilon\":7.0,\"theta\":null}",
         "line": {
          "color": "#FF97FF",
          "dash": "solid"
         },
         "marker": {
          "symbol": "circle"
         },
         "mode": "lines",
         "name": "{\"epsilon\":7.0,\"theta\":null}",
         "orientation": "v",
         "showlegend": true,
         "type": "scatter",
         "x": [
          0,
          0.25,
          0.5,
          0.75,
          1
         ],
         "xaxis": "x2",
         "y": [
          0.8218603543635202,
          0.8291262135922329,
          0.8226796982390059,
          0.8144667770670303,
          0.8271844660194174
         ],
         "yaxis": "y2"
        },
        {
         "error_y": {
          "array": [
           0.011210684838633503,
           0.012352581400465901,
           0.009003513102423014,
           0.012053756233925184,
           0.016635767536134632
          ]
         },
         "hovertemplate": "strategy_json={\"epsilon\":1.0,\"theta\":null}<br>strategy=randomized_response<br>detection_tpr=%{x}<br>min_conditional_accuracy=%{y}<extra></extra>",
         "legendgroup": "{\"epsilon\":1.0,\"theta\":null}",
         "line": {
          "color": "#FECB52",
          "dash": "solid"
         },
         "marker": {
          "symbol": "circle"
         },
         "mode": "lines",
         "name": "{\"epsilon\":1.0,\"theta\":null}",
         "orientation": "v",
         "showlegend": true,
         "type": "scatter",
         "x": [
          0,
          0.25,
          0.5,
          0.75,
          1
         ],
         "xaxis": "x2",
         "y": [
          0.831715210355987,
          0.828950871838166,
          0.8310679611650486,
          0.8295548267688411,
          0.8216298124276173
         ],
         "yaxis": "y2"
        },
        {
         "error_y": {
          "array": [
           0.009847788144548598,
           0.013112487709935106,
           0.015270084680317398,
           0.011497374773380496,
           0.014202659066337657
          ]
         },
         "hovertemplate": "strategy_json={\"epsilon\":10.0,\"theta\":null}<br>strategy=randomized_response<br>detection_tpr=%{x}<br>min_conditional_accuracy=%{y}<extra></extra>",
         "legendgroup": "{\"epsilon\":10.0,\"theta\":null}",
         "line": {
          "color": "#636efa",
          "dash": "solid"
         },
         "marker": {
          "symbol": "circle"
         },
         "mode": "lines",
         "name": "{\"epsilon\":10.0,\"theta\":null}",
         "orientation": "v",
         "showlegend": true,
         "type": "scatter",
         "x": [
          0,
          0.25,
          0.5,
          0.75,
          1
         ],
         "xaxis": "x2",
         "y": [
          0.8301367737838823,
          0.8185732376530181,
          0.8194650994144451,
          0.832834366983797,
          0.8233009708737864
         ],
         "yaxis": "y2"
        }
       ],
       "layout": {
        "annotations": [
         {
          "font": {},
          "showarrow": false,
          "text": "strategy=ROC_mitigation",
          "x": 0.075,
          "xanchor": "center",
          "xref": "paper",
          "y": 1,
          "yanchor": "bottom",
          "yref": "paper"
         },
         {
          "font": {},
          "showarrow": false,
          "text": "strategy=randomized_response",
          "x": 0.24499999999999997,
          "xanchor": "center",
          "xref": "paper",
          "y": 1,
          "yanchor": "bottom",
          "yref": "paper"
         },
         {
          "font": {},
          "showarrow": false,
          "text": "strategy=always_no",
          "x": 0.415,
          "xanchor": "center",
          "xref": "paper",
          "y": 1,
          "yanchor": "bottom",
          "yref": "paper"
         },
         {
          "font": {},
          "showarrow": false,
          "text": "strategy=model_swap",
          "x": 0.585,
          "xanchor": "center",
          "xref": "paper",
          "y": 1,
          "yanchor": "bottom",
          "yref": "paper"
         },
         {
          "font": {},
          "showarrow": false,
          "text": "strategy=always_yes",
          "x": 0.7549999999999999,
          "xanchor": "center",
          "xref": "paper",
          "y": 1,
          "yanchor": "bottom",
          "yref": "paper"
         },
         {
          "font": {},
          "showarrow": false,
          "text": "strategy=honest",
          "x": 0.925,
          "xanchor": "center",
          "xref": "paper",
          "y": 1,
          "yanchor": "bottom",
          "yref": "paper"
         }
        ],
        "legend": {
         "title": {
          "text": "strategy_json"
         },
         "tracegroupgap": 0
        },
        "margin": {
         "t": 60
        },
        "template": {
         "data": {
          "bar": [
           {
            "error_x": {
             "color": "#2a3f5f"
            },
            "error_y": {
             "color": "#2a3f5f"
            },
            "marker": {
             "line": {
              "color": "#E5ECF6",
              "width": 0.5
             },
             "pattern": {
              "fillmode": "overlay",
              "size": 10,
              "solidity": 0.2
             }
            },
            "type": "bar"
           }
          ],
          "barpolar": [
           {
            "marker": {
             "line": {
              "color": "#E5ECF6",
              "width": 0.5
             },
             "pattern": {
              "fillmode": "overlay",
              "size": 10,
              "solidity": 0.2
             }
            },
            "type": "barpolar"
           }
          ],
          "carpet": [
           {
            "aaxis": {
             "endlinecolor": "#2a3f5f",
             "gridcolor": "white",
             "linecolor": "white",
             "minorgridcolor": "white",
             "startlinecolor": "#2a3f5f"
            },
            "baxis": {
             "endlinecolor": "#2a3f5f",
             "gridcolor": "white",
             "linecolor": "white",
             "minorgridcolor": "white",
             "startlinecolor": "#2a3f5f"
            },
            "type": "carpet"
           }
          ],
          "choropleth": [
           {
            "colorbar": {
             "outlinewidth": 0,
             "ticks": ""
            },
            "type": "choropleth"
           }
          ],
          "contour": [
           {
            "colorbar": {
             "outlinewidth": 0,
             "ticks": ""
            },
            "colorscale": [
             [
              0,
              "#0d0887"
             ],
             [
              0.1111111111111111,
              "#46039f"
             ],
             [
              0.2222222222222222,
              "#7201a8"
             ],
             [
              0.3333333333333333,
              "#9c179e"
             ],
             [
              0.4444444444444444,
              "#bd3786"
             ],
             [
              0.5555555555555556,
              "#d8576b"
             ],
             [
              0.6666666666666666,
              "#ed7953"
             ],
             [
              0.7777777777777778,
              "#fb9f3a"
             ],
             [
              0.8888888888888888,
              "#fdca26"
             ],
             [
              1,
              "#f0f921"
             ]
            ],
            "type": "contour"
           }
          ],
          "contourcarpet": [
           {
            "colorbar": {
             "outlinewidth": 0,
             "ticks": ""
            },
            "type": "contourcarpet"
           }
          ],
          "heatmap": [
           {
            "colorbar": {
             "outlinewidth": 0,
             "ticks": ""
            },
            "colorscale": [
             [
              0,
              "#0d0887"
             ],
             [
              0.1111111111111111,
              "#46039f"
             ],
             [
              0.2222222222222222,
              "#7201a8"
             ],
             [
              0.3333333333333333,
              "#9c179e"
             ],
             [
              0.4444444444444444,
              "#bd3786"
             ],
             [
              0.5555555555555556,
              "#d8576b"
             ],
             [
              0.6666666666666666,
              "#ed7953"
             ],
             [
              0.7777777777777778,
              "#fb9f3a"
             ],
             [
              0.8888888888888888,
              "#fdca26"
             ],
             [
              1,
              "#f0f921"
             ]
            ],
            "type": "heatmap"
           }
          ],
          "heatmapgl": [
           {
            "colorbar": {
             "outlinewidth": 0,
             "ticks": ""
            },
            "colorscale": [
             [
              0,
              "#0d0887"
             ],
             [
              0.1111111111111111,
              "#46039f"
             ],
             [
              0.2222222222222222,
              "#7201a8"
             ],
             [
              0.3333333333333333,
              "#9c179e"
             ],
             [
              0.4444444444444444,
              "#bd3786"
             ],
             [
              0.5555555555555556,
              "#d8576b"
             ],
             [
              0.6666666666666666,
              "#ed7953"
             ],
             [
              0.7777777777777778,
              "#fb9f3a"
             ],
             [
              0.8888888888888888,
              "#fdca26"
             ],
             [
              1,
              "#f0f921"
             ]
            ],
            "type": "heatmapgl"
           }
          ],
          "histogram": [
           {
            "marker": {
             "pattern": {
              "fillmode": "overlay",
              "size": 10,
              "solidity": 0.2
             }
            },
            "type": "histogram"
           }
          ],
          "histogram2d": [
           {
            "colorbar": {
             "outlinewidth": 0,
             "ticks": ""
            },
            "colorscale": [
             [
              0,
              "#0d0887"
             ],
             [
              0.1111111111111111,
              "#46039f"
             ],
             [
              0.2222222222222222,
              "#7201a8"
             ],
             [
              0.3333333333333333,
              "#9c179e"
             ],
             [
              0.4444444444444444,
              "#bd3786"
             ],
             [
              0.5555555555555556,
              "#d8576b"
             ],
             [
              0.6666666666666666,
              "#ed7953"
             ],
             [
              0.7777777777777778,
              "#fb9f3a"
             ],
             [
              0.8888888888888888,
              "#fdca26"
             ],
             [
              1,
              "#f0f921"
             ]
            ],
            "type": "histogram2d"
           }
          ],
          "histogram2dcontour": [
           {
            "colorbar": {
             "outlinewidth": 0,
             "ticks": ""
            },
            "colorscale": [
             [
              0,
              "#0d0887"
             ],
             [
              0.1111111111111111,
              "#46039f"
             ],
             [
              0.2222222222222222,
              "#7201a8"
             ],
             [
              0.3333333333333333,
              "#9c179e"
             ],
             [
              0.4444444444444444,
              "#bd3786"
             ],
             [
              0.5555555555555556,
              "#d8576b"
             ],
             [
              0.6666666666666666,
              "#ed7953"
             ],
             [
              0.7777777777777778,
              "#fb9f3a"
             ],
             [
              0.8888888888888888,
              "#fdca26"
             ],
             [
              1,
              "#f0f921"
             ]
            ],
            "type": "histogram2dcontour"
           }
          ],
          "mesh3d": [
           {
            "colorbar": {
             "outlinewidth": 0,
             "ticks": ""
            },
            "type": "mesh3d"
           }
          ],
          "parcoords": [
           {
            "line": {
             "colorbar": {
              "outlinewidth": 0,
              "ticks": ""
             }
            },
            "type": "parcoords"
           }
          ],
          "pie": [
           {
            "automargin": true,
            "type": "pie"
           }
          ],
          "scatter": [
           {
            "fillpattern": {
             "fillmode": "overlay",
             "size": 10,
             "solidity": 0.2
            },
            "type": "scatter"
           }
          ],
          "scatter3d": [
           {
            "line": {
             "colorbar": {
              "outlinewidth": 0,
              "ticks": ""
             }
            },
            "marker": {
             "colorbar": {
              "outlinewidth": 0,
              "ticks": ""
             }
            },
            "type": "scatter3d"
           }
          ],
          "scattercarpet": [
           {
            "marker": {
             "colorbar": {
              "outlinewidth": 0,
              "ticks": ""
             }
            },
            "type": "scattercarpet"
           }
          ],
          "scattergeo": [
           {
            "marker": {
             "colorbar": {
              "outlinewidth": 0,
              "ticks": ""
             }
            },
            "type": "scattergeo"
           }
          ],
          "scattergl": [
           {
            "marker": {
             "colorbar": {
              "outlinewidth": 0,
              "ticks": ""
             }
            },
            "type": "scattergl"
           }
          ],
          "scattermapbox": [
           {
            "marker": {
             "colorbar": {
              "outlinewidth": 0,
              "ticks": ""
             }
            },
            "type": "scattermapbox"
           }
          ],
          "scatterpolar": [
           {
            "marker": {
             "colorbar": {
              "outlinewidth": 0,
              "ticks": ""
             }
            },
            "type": "scatterpolar"
           }
          ],
          "scatterpolargl": [
           {
            "marker": {
             "colorbar": {
              "outlinewidth": 0,
              "ticks": ""
             }
            },
            "type": "scatterpolargl"
           }
          ],
          "scatterternary": [
           {
            "marker": {
             "colorbar": {
              "outlinewidth": 0,
              "ticks": ""
             }
            },
            "type": "scatterternary"
           }
          ],
          "surface": [
           {
            "colorbar": {
             "outlinewidth": 0,
             "ticks": ""
            },
            "colorscale": [
             [
              0,
              "#0d0887"
             ],
             [
              0.1111111111111111,
              "#46039f"
             ],
             [
              0.2222222222222222,
              "#7201a8"
             ],
             [
              0.3333333333333333,
              "#9c179e"
             ],
             [
              0.4444444444444444,
              "#bd3786"
             ],
             [
              0.5555555555555556,
              "#d8576b"
             ],
             [
              0.6666666666666666,
              "#ed7953"
             ],
             [
              0.7777777777777778,
              "#fb9f3a"
             ],
             [
              0.8888888888888888,
              "#fdca26"
             ],
             [
              1,
              "#f0f921"
             ]
            ],
            "type": "surface"
           }
          ],
          "table": [
           {
            "cells": {
             "fill": {
              "color": "#EBF0F8"
             },
             "line": {
              "color": "white"
             }
            },
            "header": {
             "fill": {
              "color": "#C8D4E3"
             },
             "line": {
              "color": "white"
             }
            },
            "type": "table"
           }
          ]
         },
         "layout": {
          "annotationdefaults": {
           "arrowcolor": "#2a3f5f",
           "arrowhead": 0,
           "arrowwidth": 1
          },
          "autotypenumbers": "strict",
          "coloraxis": {
           "colorbar": {
            "outlinewidth": 0,
            "ticks": ""
           }
          },
          "colorscale": {
           "diverging": [
            [
             0,
             "#8e0152"
            ],
            [
             0.1,
             "#c51b7d"
            ],
            [
             0.2,
             "#de77ae"
            ],
            [
             0.3,
             "#f1b6da"
            ],
            [
             0.4,
             "#fde0ef"
            ],
            [
             0.5,
             "#f7f7f7"
            ],
            [
             0.6,
             "#e6f5d0"
            ],
            [
             0.7,
             "#b8e186"
            ],
            [
             0.8,
             "#7fbc41"
            ],
            [
             0.9,
             "#4d9221"
            ],
            [
             1,
             "#276419"
            ]
           ],
           "sequential": [
            [
             0,
             "#0d0887"
            ],
            [
             0.1111111111111111,
             "#46039f"
            ],
            [
             0.2222222222222222,
             "#7201a8"
            ],
            [
             0.3333333333333333,
             "#9c179e"
            ],
            [
             0.4444444444444444,
             "#bd3786"
            ],
            [
             0.5555555555555556,
             "#d8576b"
            ],
            [
             0.6666666666666666,
             "#ed7953"
            ],
            [
             0.7777777777777778,
             "#fb9f3a"
            ],
            [
             0.8888888888888888,
             "#fdca26"
            ],
            [
             1,
             "#f0f921"
            ]
           ],
           "sequentialminus": [
            [
             0,
             "#0d0887"
            ],
            [
             0.1111111111111111,
             "#46039f"
            ],
            [
             0.2222222222222222,
             "#7201a8"
            ],
            [
             0.3333333333333333,
             "#9c179e"
            ],
            [
             0.4444444444444444,
             "#bd3786"
            ],
            [
             0.5555555555555556,
             "#d8576b"
            ],
            [
             0.6666666666666666,
             "#ed7953"
            ],
            [
             0.7777777777777778,
             "#fb9f3a"
            ],
            [
             0.8888888888888888,
             "#fdca26"
            ],
            [
             1,
             "#f0f921"
            ]
           ]
          },
          "colorway": [
           "#636efa",
           "#EF553B",
           "#00cc96",
           "#ab63fa",
           "#FFA15A",
           "#19d3f3",
           "#FF6692",
           "#B6E880",
           "#FF97FF",
           "#FECB52"
          ],
          "font": {
           "color": "#2a3f5f"
          },
          "geo": {
           "bgcolor": "white",
           "lakecolor": "white",
           "landcolor": "#E5ECF6",
           "showlakes": true,
           "showland": true,
           "subunitcolor": "white"
          },
          "hoverlabel": {
           "align": "left"
          },
          "hovermode": "closest",
          "mapbox": {
           "style": "light"
          },
          "paper_bgcolor": "white",
          "plot_bgcolor": "#E5ECF6",
          "polar": {
           "angularaxis": {
            "gridcolor": "white",
            "linecolor": "white",
            "ticks": ""
           },
           "bgcolor": "#E5ECF6",
           "radialaxis": {
            "gridcolor": "white",
            "linecolor": "white",
            "ticks": ""
           }
          },
          "scene": {
           "xaxis": {
            "backgroundcolor": "#E5ECF6",
            "gridcolor": "white",
            "gridwidth": 2,
            "linecolor": "white",
            "showbackground": true,
            "ticks": "",
            "zerolinecolor": "white"
           },
           "yaxis": {
            "backgroundcolor": "#E5ECF6",
            "gridcolor": "white",
            "gridwidth": 2,
            "linecolor": "white",
            "showbackground": true,
            "ticks": "",
            "zerolinecolor": "white"
           },
           "zaxis": {
            "backgroundcolor": "#E5ECF6",
            "gridcolor": "white",
            "gridwidth": 2,
            "linecolor": "white",
            "showbackground": true,
            "ticks": "",
            "zerolinecolor": "white"
           }
          },
          "shapedefaults": {
           "line": {
            "color": "#2a3f5f"
           }
          },
          "ternary": {
           "aaxis": {
            "gridcolor": "white",
            "linecolor": "white",
            "ticks": ""
           },
           "baxis": {
            "gridcolor": "white",
            "linecolor": "white",
            "ticks": ""
           },
           "bgcolor": "#E5ECF6",
           "caxis": {
            "gridcolor": "white",
            "linecolor": "white",
            "ticks": ""
           }
          },
          "title": {
           "x": 0.05
          },
          "xaxis": {
           "automargin": true,
           "gridcolor": "white",
           "linecolor": "white",
           "ticks": "",
           "title": {
            "standoff": 15
           },
           "zerolinecolor": "white",
           "zerolinewidth": 2
          },
          "yaxis": {
           "automargin": true,
           "gridcolor": "white",
           "linecolor": "white",
           "ticks": "",
           "title": {
            "standoff": 15
           },
           "zerolinecolor": "white",
           "zerolinewidth": 2
          }
         }
        },
        "xaxis": {
         "anchor": "y",
         "domain": [
          0,
          0.15
         ],
         "title": {
          "text": "detection_tpr"
         }
        },
        "xaxis2": {
         "anchor": "y2",
         "domain": [
          0.16999999999999998,
          0.31999999999999995
         ],
         "matches": "x",
         "title": {
          "text": "detection_tpr"
         }
        },
        "xaxis3": {
         "anchor": "y3",
         "domain": [
          0.33999999999999997,
          0.49
         ],
         "matches": "x",
         "title": {
          "text": "detection_tpr"
         }
        },
        "xaxis4": {
         "anchor": "y4",
         "domain": [
          0.51,
          0.66
         ],
         "matches": "x",
         "title": {
          "text": "detection_tpr"
         }
        },
        "xaxis5": {
         "anchor": "y5",
         "domain": [
          0.6799999999999999,
          0.83
         ],
         "matches": "x",
         "title": {
          "text": "detection_tpr"
         }
        },
        "xaxis6": {
         "anchor": "y6",
         "domain": [
          0.85,
          1
         ],
         "matches": "x",
         "title": {
          "text": "detection_tpr"
         }
        },
        "yaxis": {
         "anchor": "x",
         "domain": [
          0,
          1
         ],
         "title": {
          "text": "min_conditional_accuracy"
         }
        },
        "yaxis2": {
         "anchor": "x2",
         "domain": [
          0,
          1
         ],
         "matches": "y",
         "showticklabels": false
        },
        "yaxis3": {
         "anchor": "x3",
         "domain": [
          0,
          1
         ],
         "matches": "y",
         "showticklabels": false
        },
        "yaxis4": {
         "anchor": "x4",
         "domain": [
          0,
          1
         ],
         "matches": "y",
         "showticklabels": false
        },
        "yaxis5": {
         "anchor": "x5",
         "domain": [
          0,
          1
         ],
         "matches": "y",
         "showticklabels": false
        },
        "yaxis6": {
         "anchor": "x6",
         "domain": [
          0,
          1
         ],
         "matches": "y",
         "showticklabels": false
        }
       }
      }
     },
     "metadata": {},
     "output_type": "display_data"
    }
   ],
   "source": [
    "px.line(\n",
    "    manipulation.sort(\"detection_tpr\").with_columns(\n",
    "        pl.col(\"min_conditional_accuracy_std\") / sqrt(5)\n",
    "    ),\n",
    "    x=\"detection_tpr\",\n",
    "    y=\"min_conditional_accuracy\",\n",
    "    error_y=\"min_conditional_accuracy_std\",\n",
    "    facet_col=\"strategy\",\n",
    "    color=\"strategy_json\",\n",
    ")"
   ]
  },
  {
   "cell_type": "code",
   "execution_count": 22,
   "metadata": {},
   "outputs": [
    {
     "data": {
      "application/vnd.plotly.v1+json": {
       "config": {
        "plotlyServerURL": "https://plot.ly"
       },
       "data": [
        {
         "error_y": {
          "array": [
           0.0201934569164246,
           0.019580911411078723,
           0.024635814341110382,
           0.0210007670798607,
           0.024922960402938628
          ]
         },
         "hovertemplate": "strategy_json={\"epsilon\":null,\"theta\":0.4}<br>strategy=ROC_mitigation<br>detection_tpr=%{x}<br>demographic_parity_audit=%{y}<extra></extra>",
         "legendgroup": "{\"epsilon\":null,\"theta\":0.4}",
         "line": {
          "color": "#636efa",
          "dash": "solid"
         },
         "marker": {
          "symbol": "circle"
         },
         "mode": "lines",
         "name": "{\"epsilon\":null,\"theta\":0.4}",
         "orientation": "v",
         "showlegend": true,
         "type": "scatter",
         "x": [
          0,
          0.25,
          0.5,
          0.75,
          1
         ],
         "xaxis": "x",
         "y": [
          0.08727040512604041,
          0.07883451851370807,
          0.07533201285839528,
          0.07055665595133724,
          0.07383619616629326
         ],
         "yaxis": "y"
        },
        {
         "error_y": {
          "array": [
           0.024130336797302577,
           0.020100634518361898,
           0.016856494720337133,
           0.021938147301890795,
           0.02221431262762939
          ]
         },
         "hovertemplate": "strategy_json={\"epsilon\":6.0,\"theta\":null}<br>strategy=randomized_response<br>detection_tpr=%{x}<br>demographic_parity_audit=%{y}<extra></extra>",
         "legendgroup": "{\"epsilon\":6.0,\"theta\":null}",
         "line": {
          "color": "#EF553B",
          "dash": "solid"
         },
         "marker": {
          "symbol": "circle"
         },
         "mode": "lines",
         "name": "{\"epsilon\":6.0,\"theta\":null}",
         "orientation": "v",
         "showlegend": true,
         "type": "scatter",
         "x": [
          0,
          0.25,
          0.5,
          0.75,
          1
         ],
         "xaxis": "x2",
         "y": [
          0.08214364313984406,
          0.07577794373910877,
          0.08347999263997577,
          0.07959649749434468,
          0.07660486411014059
         ],
         "yaxis": "y2"
        },
        {
         "error_y": {
          "array": [
           0.017783531104963054,
           0.02811173689744748,
           0.023922466619292065,
           0.014988764045523604,
           0.019172073095683046
          ]
         },
         "hovertemplate": "strategy_json={\"epsilon\":null,\"theta\":0.3333333333333333}<br>strategy=ROC_mitigation<br>detection_tpr=%{x}<br>demographic_parity_audit=%{y}<extra></extra>",
         "legendgroup": "{\"epsilon\":null,\"theta\":0.3333333333333333}",
         "line": {
          "color": "#00cc96",
          "dash": "solid"
         },
         "marker": {
          "symbol": "circle"
         },
         "mode": "lines",
         "name": "{\"epsilon\":null,\"theta\":0.3333333333333333}",
         "orientation": "v",
         "showlegend": true,
         "type": "scatter",
         "x": [
          0,
          0.25,
          0.5,
          0.75,
          1
         ],
         "xaxis": "x",
         "y": [
          0.07526707146800007,
          0.08198417594787373,
          0.06794601205745147,
          0.08243010682858717,
          0.08414888896104597
         ],
         "yaxis": "y"
        },
        {
         "error_y": {
          "array": [
           0.02363371058209598,
           0.017752553400985915,
           0.0212543608023887,
           0.022907975766237675,
           0.02300439877445133
          ]
         },
         "hovertemplate": "strategy_json={\"epsilon\":null,\"theta\":0.3}<br>strategy=ROC_mitigation<br>detection_tpr=%{x}<br>demographic_parity_audit=%{y}<extra></extra>",
         "legendgroup": "{\"epsilon\":null,\"theta\":0.3}",
         "line": {
          "color": "#ab63fa",
          "dash": "solid"
         },
         "marker": {
          "symbol": "circle"
         },
         "mode": "lines",
         "name": "{\"epsilon\":null,\"theta\":0.3}",
         "orientation": "v",
         "showlegend": true,
         "type": "scatter",
         "x": [
          0,
          0.25,
          0.5,
          0.75,
          1
         ],
         "xaxis": "x",
         "y": [
          0.0791505666136312,
          0.08332196859001417,
          0.07705079499085407,
          0.08488272667251137,
          0.08548668160318647
         ],
         "yaxis": "y"
        },
        {
         "error_y": {
          "array": [
           0.025795375610965846,
           0.023431526867852607,
           0.020441600697057066,
           0.021576929226570573,
           0.027969192183201055
          ]
         },
         "hovertemplate": "strategy_json={\"epsilon\":null,\"theta\":0.4666666666666667}<br>strategy=ROC_mitigation<br>detection_tpr=%{x}<br>demographic_parity_audit=%{y}<extra></extra>",
         "legendgroup": "{\"epsilon\":null,\"theta\":0.4666666666666667}",
         "line": {
          "color": "#FFA15A",
          "dash": "solid"
         },
         "marker": {
          "symbol": "circle"
         },
         "mode": "lines",
         "name": "{\"epsilon\":null,\"theta\":0.4666666666666667}",
         "orientation": "v",
         "showlegend": true,
         "type": "scatter",
         "x": [
          0,
          0.25,
          0.5,
          0.75,
          1
         ],
         "xaxis": "x",
         "y": [
          0.06950677013994869,
          0.07256334491454797,
          0.07370631338550293,
          0.07472805792772023,
          0.07615893322942713
         ],
         "yaxis": "y"
        },
        {
         "error_y": {
          "array": [
           0.024420387415449205,
           0.022183398800711417,
           0.017762125742943728,
           0.01054950938678868,
           0
          ]
         },
         "hovertemplate": "strategy_json={\"epsilon\":null,\"theta\":null}<br>strategy=always_no<br>detection_tpr=%{x}<br>demographic_parity_audit=%{y}<extra></extra>",
         "legendgroup": "{\"epsilon\":null,\"theta\":null}",
         "line": {
          "color": "#19d3f3",
          "dash": "solid"
         },
         "marker": {
          "symbol": "circle"
         },
         "mode": "lines",
         "name": "{\"epsilon\":null,\"theta\":null}",
         "orientation": "v",
         "showlegend": true,
         "type": "scatter",
         "x": [
          0,
          0.25,
          0.5,
          0.75,
          1
         ],
         "xaxis": "x3",
         "y": [
          0.07854661168295614,
          0.061021095128313364,
          0.0498598348323971,
          0.042835341104653056,
          0
         ],
         "yaxis": "y3"
        },
        {
         "error_y": {
          "array": [
           0.02067943489037489,
           0.021193782087514816,
           0.01705870476082393,
           0.014076029265161782,
           0.0070735082395590905
          ]
         },
         "hovertemplate": "strategy_json={\"epsilon\":null,\"theta\":null}<br>strategy=model_swap<br>detection_tpr=%{x}<br>demographic_parity_audit=%{y}<extra></extra>",
         "legendgroup": "{\"epsilon\":null,\"theta\":null}",
         "line": {
          "color": "#19d3f3",
          "dash": "solid"
         },
         "marker": {
          "symbol": "circle"
         },
         "mode": "lines",
         "name": "{\"epsilon\":null,\"theta\":null}",
         "orientation": "v",
         "showlegend": false,
         "type": "scatter",
         "x": [
          0,
          0.25,
          0.5,
          0.75,
          1
         ],
         "xaxis": "x4",
         "y": [
          0.06604945286878591,
          0.051743135153856964,
          0.03721358140944464,
          0.04718208483510298,
          0.04345661373943348
         ],
         "yaxis": "y4"
        },
        {
         "error_y": {
          "array": [
           0.02213888981686771,
           0.02110521625172369,
           0.025019682256851094,
           0.008928105254681252,
           0
          ]
         },
         "hovertemplate": "strategy_json={\"epsilon\":null,\"theta\":null}<br>strategy=always_yes<br>detection_tpr=%{x}<br>demographic_parity_audit=%{y}<extra></extra>",
         "legendgroup": "{\"epsilon\":null,\"theta\":null}",
         "line": {
          "color": "#19d3f3",
          "dash": "solid"
         },
         "marker": {
          "symbol": "circle"
         },
         "mode": "lines",
         "name": "{\"epsilon\":null,\"theta\":null}",
         "orientation": "v",
         "showlegend": false,
         "type": "scatter",
         "x": [
          0,
          0.25,
          0.5,
          0.75,
          1
         ],
         "xaxis": "x5",
         "y": [
          0.08010736976545334,
          0.062352393631414336,
          0.0637637865160026,
          0.041718349189856216,
          0
         ],
         "yaxis": "y5"
        },
        {
         "error_y": {
          "array": [
           0.018316704447122377,
           0.02294931238695025,
           0.021179764298860107,
           0.025350740185151988,
           0.02134065984600507
          ]
         },
         "hovertemplate": "strategy_json={\"epsilon\":null,\"theta\":null}<br>strategy=honest<br>detection_tpr=%{x}<br>demographic_parity_audit=%{y}<extra></extra>",
         "legendgroup": "{\"epsilon\":null,\"theta\":null}",
         "line": {
          "color": "#19d3f3",
          "dash": "solid"
         },
         "marker": {
          "symbol": "circle"
         },
         "mode": "lines",
         "name": "{\"epsilon\":null,\"theta\":null}",
         "orientation": "v",
         "showlegend": false,
         "type": "scatter",
         "x": [
          0,
          0.25,
          0.5,
          0.75,
          1
         ],
         "xaxis": "x6",
         "y": [
          0.0695005165245773,
          0.07838858763299454,
          0.07405916160665002,
          0.08698249829528851,
          0.07326038250478943
         ],
         "yaxis": "y6"
        },
        {
         "error_y": {
          "array": [
           0.026718027826155497,
           0.020632996464022304,
           0.02420816598612286,
           0.025784511021446004,
           0.01875726742590616
          ]
         },
         "hovertemplate": "strategy_json={\"epsilon\":null,\"theta\":0.43333333333333335}<br>strategy=ROC_mitigation<br>detection_tpr=%{x}<br>demographic_parity_audit=%{y}<extra></extra>",
         "legendgroup": "{\"epsilon\":null,\"theta\":0.43333333333333335}",
         "line": {
          "color": "#FF6692",
          "dash": "solid"
         },
         "marker": {
          "symbol": "circle"
         },
         "mode": "lines",
         "name": "{\"epsilon\":null,\"theta\":0.43333333333333335}",
         "orientation": "v",
         "showlegend": true,
         "type": "scatter",
         "x": [
          0,
          0.25,
          0.5,
          0.75,
          1
         ],
         "xaxis": "x",
         "y": [
          0.07720881904081564,
          0.07638189866978384,
          0.07205247264343928,
          0.08631360197421825,
          0.08555162299358161
         ],
         "yaxis": "y"
        },
        {
         "error_y": {
          "array": [
           0.0209090413217785,
           0.01882978342639104,
           0.02502975493850253,
           0.025702313191905732,
           0.02510276603342866
          ]
         },
         "hovertemplate": "strategy_json={\"epsilon\":2.0,\"theta\":null}<br>strategy=randomized_response<br>detection_tpr=%{x}<br>demographic_parity_audit=%{y}<extra></extra>",
         "legendgroup": "{\"epsilon\":2.0,\"theta\":null}",
         "line": {
          "color": "#B6E880",
          "dash": "solid"
         },
         "marker": {
          "symbol": "circle"
         },
         "mode": "lines",
         "name": "{\"epsilon\":2.0,\"theta\":null}",
         "orientation": "v",
         "showlegend": true,
         "type": "scatter",
         "x": [
          0,
          0.25,
          0.5,
          0.75,
          1
         ],
         "xaxis": "x2",
         "y": [
          0.0677663408773582,
          0.07549003690835684,
          0.07510904741803855,
          0.08071132469612843,
          0.08249504821898236
         ],
         "yaxis": "y2"
        },
        {
         "error_y": {
          "array": [
           0.023551709648865094,
           0.021578434526694792,
           0.020740649320564457,
           0.022140495804063798,
           0.02431927361402166
          ]
         },
         "hovertemplate": "strategy_json={\"epsilon\":null,\"theta\":0.36666666666666664}<br>strategy=ROC_mitigation<br>detection_tpr=%{x}<br>demographic_parity_audit=%{y}<extra></extra>",
         "legendgroup": "{\"epsilon\":null,\"theta\":0.36666666666666664}",
         "line": {
          "color": "#FF97FF",
          "dash": "solid"
         },
         "marker": {
          "symbol": "circle"
         },
         "mode": "lines",
         "name": "{\"epsilon\":null,\"theta\":0.36666666666666664}",
         "orientation": "v",
         "showlegend": true,
         "type": "scatter",
         "x": [
          0,
          0.25,
          0.5,
          0.75,
          1
         ],
         "xaxis": "x",
         "y": [
          0.0815382450671602,
          0.08526371616282971,
          0.08182615189791213,
          0.0761589332294271,
          0.08421383035144114
         ],
         "yaxis": "y"
        },
        {
         "error_y": {
          "array": [
           0.01722395939599943,
           0.022824177171502213,
           0.021832228735953738,
           0.02473330567951969,
           0.014680736058699356
          ]
         },
         "hovertemplate": "strategy_json={\"epsilon\":9.0,\"theta\":null}<br>strategy=randomized_response<br>detection_tpr=%{x}<br>demographic_parity_audit=%{y}<extra></extra>",
         "legendgroup": "{\"epsilon\":9.0,\"theta\":null}",
         "line": {
          "color": "#FECB52",
          "dash": "solid"
         },
         "marker": {
          "symbol": "circle"
         },
         "mode": "lines",
         "name": "{\"epsilon\":9.0,\"theta\":null}",
         "orientation": "v",
         "showlegend": true,
         "type": "scatter",
         "x": [
          0,
          0.25,
          0.5,
          0.75,
          1
         ],
         "xaxis": "x2",
         "y": [
          0.07747507874143587,
          0.07017566646101896,
          0.0836098754207661,
          0.07182950720308252,
          0.07039863190137566
         ],
         "yaxis": "y2"
        },
        {
         "error_y": {
          "array": [
           0.009098299738955968,
           0.01112032448394699,
           0.012922373228524239,
           0.010007426702750982,
           0.009161370454885376
          ]
         },
         "hovertemplate": "strategy_json={\"epsilon\":null,\"theta\":0.6}<br>strategy=ROC_mitigation<br>detection_tpr=%{x}<br>demographic_parity_audit=%{y}<extra></extra>",
         "legendgroup": "{\"epsilon\":null,\"theta\":0.6}",
         "line": {
          "color": "#636efa",
          "dash": "solid"
         },
         "marker": {
          "symbol": "circle"
         },
         "mode": "lines",
         "name": "{\"epsilon\":null,\"theta\":0.6}",
         "orientation": "v",
         "showlegend": true,
         "type": "scatter",
         "x": [
          0,
          0.25,
          0.5,
          0.75,
          1
         ],
         "xaxis": "x",
         "y": [
          0.045593185483434516,
          0.04724702622549816,
          0.04508231321232588,
          0.04157980755701314,
          0.03260490740440084
         ],
         "yaxis": "y"
        },
        {
         "error_y": {
          "array": [
           0.016892131505293423,
           0.020613620638063466,
           0.023292055010940844,
           0.019762332296112725,
           0.02446559940338927
          ]
         },
         "hovertemplate": "strategy_json={\"epsilon\":null,\"theta\":0.5333333333333333}<br>strategy=ROC_mitigation<br>detection_tpr=%{x}<br>demographic_parity_audit=%{y}<extra></extra>",
         "legendgroup": "{\"epsilon\":null,\"theta\":0.5333333333333333}",
         "line": {
          "color": "#EF553B",
          "dash": "solid"
         },
         "marker": {
          "symbol": "circle"
         },
         "mode": "lines",
         "name": "{\"epsilon\":null,\"theta\":0.5333333333333333}",
         "orientation": "v",
         "showlegend": true,
         "type": "scatter",
         "x": [
          0,
          0.25,
          0.5,
          0.75,
          1
         ],
         "xaxis": "x",
         "y": [
          0.05612884371854401,
          0.04559318548343451,
          0.05237523135370331,
          0.04543516143347295,
          0.0470890021755366
         ],
         "yaxis": "y"
        },
        {
         "error_y": {
          "array": [
           0.02046362165899232,
           0.02814634425793219,
           0.026464216279996768,
           0.02265266396882756,
           0.025251560690842122
          ]
         },
         "hovertemplate": "strategy_json={\"epsilon\":8.0,\"theta\":null}<br>strategy=randomized_response<br>detection_tpr=%{x}<br>demographic_parity_audit=%{y}<extra></extra>",
         "legendgroup": "{\"epsilon\":8.0,\"theta\":null}",
         "line": {
          "color": "#00cc96",
          "dash": "solid"
         },
         "marker": {
          "symbol": "circle"
         },
         "mode": "lines",
         "name": "{\"epsilon\":8.0,\"theta\":null}",
         "orientation": "v",
         "showlegend": true,
         "type": "scatter",
         "x": [
          0,
          0.25,
          0.5,
          0.75,
          1
         ],
         "xaxis": "x2",
         "y": [
          0.07652260501564007,
          0.07405916160665,
          0.08564470565314801,
          0.07593596778907037,
          0.06966479418991027
         ],
         "yaxis": "y2"
        },
        {
         "error_y": {
          "array": [
           0.017450755445561066,
           0.01623241797266386,
           0.015702512842789212,
           0.015780175624689412,
           0.020528485342702407
          ]
         },
         "hovertemplate": "strategy_json={\"epsilon\":null,\"theta\":0.5666666666666667}<br>strategy=ROC_mitigation<br>detection_tpr=%{x}<br>demographic_parity_audit=%{y}<extra></extra>",
         "legendgroup": "{\"epsilon\":null,\"theta\":0.5666666666666667}",
         "line": {
          "color": "#ab63fa",
          "dash": "solid"
         },
         "marker": {
          "symbol": "circle"
         },
         "mode": "lines",
         "name": "{\"epsilon\":null,\"theta\":0.5666666666666667}",
         "orientation": "v",
         "showlegend": true,
         "type": "scatter",
         "x": [
          0,
          0.25,
          0.5,
          0.75,
          1
         ],
         "xaxis": "x",
         "y": [
          0.04050178047645333,
          0.04157980755701311,
          0.03276293145436243,
          0.04851987747724347,
          0.046327023194899966
         ],
         "yaxis": "y"
        },
        {
         "error_y": {
          "array": [
           0.019934475551162217,
           0.023011725337506412,
           0.024786821930747858,
           0.02422598435142931,
           0.023562368515568564
          ]
         },
         "hovertemplate": "strategy_json={\"epsilon\":3.0,\"theta\":null}<br>strategy=randomized_response<br>detection_tpr=%{x}<br>demographic_parity_audit=%{y}<extra></extra>",
         "legendgroup": "{\"epsilon\":3.0,\"theta\":null}",
         "line": {
          "color": "#FFA15A",
          "dash": "solid"
         },
         "marker": {
          "symbol": "circle"
         },
         "mode": "lines",
         "name": "{\"epsilon\":3.0,\"theta\":null}",
         "orientation": "v",
         "showlegend": true,
         "type": "scatter",
         "x": [
          0,
          0.25,
          0.5,
          0.75,
          1
         ],
         "xaxis": "x2",
         "y": [
          0.07211741403383447,
          0.08176121050751697,
          0.07698585360045891,
          0.07310235845482786,
          0.0748860819776818
         ],
         "yaxis": "y2"
        },
        {
         "error_y": {
          "array": [
           0.014696091327111045,
           0.02173083064912196,
           0.024544339686558433,
           0.019269213283900494,
           0.0257008426221642
          ]
         },
         "hovertemplate": "strategy_json={\"epsilon\":4.0,\"theta\":null}<br>strategy=randomized_response<br>detection_tpr=%{x}<br>demographic_parity_audit=%{y}<extra></extra>",
         "legendgroup": "{\"epsilon\":4.0,\"theta\":null}",
         "line": {
          "color": "#19d3f3",
          "dash": "solid"
         },
         "marker": {
          "symbol": "circle"
         },
         "mode": "lines",
         "name": "{\"epsilon\":4.0,\"theta\":null}",
         "orientation": "v",
         "showlegend": true,
         "type": "scatter",
         "x": [
          0,
          0.25,
          0.5,
          0.75,
          1
         ],
         "xaxis": "x2",
         "y": [
          0.07808661016765701,
          0.07211741403383445,
          0.07800759814267623,
          0.08392592352068924,
          0.06711909168641969
         ],
         "yaxis": "y2"
        },
        {
         "error_y": {
          "array": [
           0.013195247277693879,
           0.020966026859833252,
           0.019838106218729674,
           0.02315984494532674,
           0.02182173104791004
          ]
         },
         "hovertemplate": "strategy_json={\"epsilon\":5.0,\"theta\":null}<br>strategy=randomized_response<br>detection_tpr=%{x}<br>demographic_parity_audit=%{y}<extra></extra>",
         "legendgroup": "{\"epsilon\":5.0,\"theta\":null}",
         "line": {
          "color": "#FF6692",
          "dash": "solid"
         },
         "marker": {
          "symbol": "circle"
         },
         "mode": "lines",
         "name": "{\"epsilon\":5.0,\"theta\":null}",
         "orientation": "v",
         "showlegend": true,
         "type": "scatter",
         "x": [
          0,
          0.25,
          0.5,
          0.75,
          1
         ],
         "xaxis": "x2",
         "y": [
          0.07187749167487453,
          0.07510904741803856,
          0.0703336905109805,
          0.07915056661363118,
          0.08138022101719866
         ],
         "yaxis": "y2"
        },
        {
         "error_y": {
          "array": [
           0.017959447745837097,
           0.019719543048067036,
           0.01882518486281259,
           0.024968935948285153,
           0.024801634310795493
          ]
         },
         "hovertemplate": "strategy_json={\"epsilon\":null,\"theta\":0.5}<br>strategy=ROC_mitigation<br>detection_tpr=%{x}<br>demographic_parity_audit=%{y}<extra></extra>",
         "legendgroup": "{\"epsilon\":null,\"theta\":0.5}",
         "line": {
          "color": "#B6E880",
          "dash": "solid"
         },
         "marker": {
          "symbol": "circle"
         },
         "mode": "lines",
         "name": "{\"epsilon\":null,\"theta\":0.5}",
         "orientation": "v",
         "showlegend": true,
         "type": "scatter",
         "x": [
          0,
          0.25,
          0.5,
          0.75,
          1
         ],
         "xaxis": "x",
         "y": [
          0.07055665595133727,
          0.0787695771233129,
          0.06854996698812656,
          0.07966143888473984,
          0.0816962691171218
         ],
         "yaxis": "y"
        },
        {
         "error_y": {
          "array": [
           0.020699561167790412,
           0.023417102571875313,
           0.023508985491626735,
           0.027098223655353075,
           0.015199112553121572
          ]
         },
         "hovertemplate": "strategy_json={\"epsilon\":7.0,\"theta\":null}<br>strategy=randomized_response<br>detection_tpr=%{x}<br>demographic_parity_audit=%{y}<extra></extra>",
         "legendgroup": "{\"epsilon\":7.0,\"theta\":null}",
         "line": {
          "color": "#FF97FF",
          "dash": "solid"
         },
         "marker": {
          "symbol": "circle"
         },
         "mode": "lines",
         "name": "{\"epsilon\":7.0,\"theta\":null}",
         "orientation": "v",
         "showlegend": true,
         "type": "scatter",
         "x": [
          0,
          0.25,
          0.5,
          0.75,
          1
         ],
         "xaxis": "x2",
         "y": [
          0.07193160950020384,
          0.07749672587156757,
          0.0695067701399487,
          0.07638189866978384,
          0.08555162299358161
         ],
         "yaxis": "y2"
        },
        {
         "error_y": {
          "array": [
           0.021274462364854047,
           0.023138716125026732,
           0.018758286548019306,
           0.02374988307966826,
           0.02518758531022296
          ]
         },
         "hovertemplate": "strategy_json={\"epsilon\":1.0,\"theta\":null}<br>strategy=randomized_response<br>detection_tpr=%{x}<br>demographic_parity_audit=%{y}<extra></extra>",
         "legendgroup": "{\"epsilon\":1.0,\"theta\":null}",
         "line": {
          "color": "#FECB52",
          "dash": "solid"
         },
         "marker": {
          "symbol": "circle"
         },
         "mode": "lines",
         "name": "{\"epsilon\":1.0,\"theta\":null}",
         "orientation": "v",
         "showlegend": true,
         "type": "scatter",
         "x": [
          0,
          0.25,
          0.5,
          0.75,
          1
         ],
         "xaxis": "x2",
         "y": [
          0.07766088327506647,
          0.07600090917946552,
          0.07644684006017903,
          0.07577794373910877,
          0.09198082064270333
         ],
         "yaxis": "y2"
        },
        {
         "error_y": {
          "array": [
           0.01819766600732087,
           0.0238794543132293,
           0.02277735740749435,
           0.021316943499087904,
           0.023501835530993224
          ]
         },
         "hovertemplate": "strategy_json={\"epsilon\":10.0,\"theta\":null}<br>strategy=randomized_response<br>detection_tpr=%{x}<br>demographic_parity_audit=%{y}<extra></extra>",
         "legendgroup": "{\"epsilon\":10.0,\"theta\":null}",
         "line": {
          "color": "#636efa",
          "dash": "solid"
         },
         "marker": {
          "symbol": "circle"
         },
         "mode": "lines",
         "name": "{\"epsilon\":10.0,\"theta\":null}",
         "orientation": "v",
         "showlegend": true,
         "type": "scatter",
         "x": [
          0,
          0.25,
          0.5,
          0.75,
          1
         ],
         "xaxis": "x2",
         "y": [
          0.06957026838833509,
          0.07131863493197388,
          0.08249504821898235,
          0.07892760117327448,
          0.07354828933554136
         ],
         "yaxis": "y2"
        }
       ],
       "layout": {
        "annotations": [
         {
          "font": {},
          "showarrow": false,
          "text": "strategy=ROC_mitigation",
          "x": 0.075,
          "xanchor": "center",
          "xref": "paper",
          "y": 1,
          "yanchor": "bottom",
          "yref": "paper"
         },
         {
          "font": {},
          "showarrow": false,
          "text": "strategy=randomized_response",
          "x": 0.24499999999999997,
          "xanchor": "center",
          "xref": "paper",
          "y": 1,
          "yanchor": "bottom",
          "yref": "paper"
         },
         {
          "font": {},
          "showarrow": false,
          "text": "strategy=always_no",
          "x": 0.415,
          "xanchor": "center",
          "xref": "paper",
          "y": 1,
          "yanchor": "bottom",
          "yref": "paper"
         },
         {
          "font": {},
          "showarrow": false,
          "text": "strategy=model_swap",
          "x": 0.585,
          "xanchor": "center",
          "xref": "paper",
          "y": 1,
          "yanchor": "bottom",
          "yref": "paper"
         },
         {
          "font": {},
          "showarrow": false,
          "text": "strategy=always_yes",
          "x": 0.7549999999999999,
          "xanchor": "center",
          "xref": "paper",
          "y": 1,
          "yanchor": "bottom",
          "yref": "paper"
         },
         {
          "font": {},
          "showarrow": false,
          "text": "strategy=honest",
          "x": 0.925,
          "xanchor": "center",
          "xref": "paper",
          "y": 1,
          "yanchor": "bottom",
          "yref": "paper"
         }
        ],
        "legend": {
         "title": {
          "text": "strategy_json"
         },
         "tracegroupgap": 0
        },
        "margin": {
         "t": 60
        },
        "template": {
         "data": {
          "bar": [
           {
            "error_x": {
             "color": "#2a3f5f"
            },
            "error_y": {
             "color": "#2a3f5f"
            },
            "marker": {
             "line": {
              "color": "#E5ECF6",
              "width": 0.5
             },
             "pattern": {
              "fillmode": "overlay",
              "size": 10,
              "solidity": 0.2
             }
            },
            "type": "bar"
           }
          ],
          "barpolar": [
           {
            "marker": {
             "line": {
              "color": "#E5ECF6",
              "width": 0.5
             },
             "pattern": {
              "fillmode": "overlay",
              "size": 10,
              "solidity": 0.2
             }
            },
            "type": "barpolar"
           }
          ],
          "carpet": [
           {
            "aaxis": {
             "endlinecolor": "#2a3f5f",
             "gridcolor": "white",
             "linecolor": "white",
             "minorgridcolor": "white",
             "startlinecolor": "#2a3f5f"
            },
            "baxis": {
             "endlinecolor": "#2a3f5f",
             "gridcolor": "white",
             "linecolor": "white",
             "minorgridcolor": "white",
             "startlinecolor": "#2a3f5f"
            },
            "type": "carpet"
           }
          ],
          "choropleth": [
           {
            "colorbar": {
             "outlinewidth": 0,
             "ticks": ""
            },
            "type": "choropleth"
           }
          ],
          "contour": [
           {
            "colorbar": {
             "outlinewidth": 0,
             "ticks": ""
            },
            "colorscale": [
             [
              0,
              "#0d0887"
             ],
             [
              0.1111111111111111,
              "#46039f"
             ],
             [
              0.2222222222222222,
              "#7201a8"
             ],
             [
              0.3333333333333333,
              "#9c179e"
             ],
             [
              0.4444444444444444,
              "#bd3786"
             ],
             [
              0.5555555555555556,
              "#d8576b"
             ],
             [
              0.6666666666666666,
              "#ed7953"
             ],
             [
              0.7777777777777778,
              "#fb9f3a"
             ],
             [
              0.8888888888888888,
              "#fdca26"
             ],
             [
              1,
              "#f0f921"
             ]
            ],
            "type": "contour"
           }
          ],
          "contourcarpet": [
           {
            "colorbar": {
             "outlinewidth": 0,
             "ticks": ""
            },
            "type": "contourcarpet"
           }
          ],
          "heatmap": [
           {
            "colorbar": {
             "outlinewidth": 0,
             "ticks": ""
            },
            "colorscale": [
             [
              0,
              "#0d0887"
             ],
             [
              0.1111111111111111,
              "#46039f"
             ],
             [
              0.2222222222222222,
              "#7201a8"
             ],
             [
              0.3333333333333333,
              "#9c179e"
             ],
             [
              0.4444444444444444,
              "#bd3786"
             ],
             [
              0.5555555555555556,
              "#d8576b"
             ],
             [
              0.6666666666666666,
              "#ed7953"
             ],
             [
              0.7777777777777778,
              "#fb9f3a"
             ],
             [
              0.8888888888888888,
              "#fdca26"
             ],
             [
              1,
              "#f0f921"
             ]
            ],
            "type": "heatmap"
           }
          ],
          "heatmapgl": [
           {
            "colorbar": {
             "outlinewidth": 0,
             "ticks": ""
            },
            "colorscale": [
             [
              0,
              "#0d0887"
             ],
             [
              0.1111111111111111,
              "#46039f"
             ],
             [
              0.2222222222222222,
              "#7201a8"
             ],
             [
              0.3333333333333333,
              "#9c179e"
             ],
             [
              0.4444444444444444,
              "#bd3786"
             ],
             [
              0.5555555555555556,
              "#d8576b"
             ],
             [
              0.6666666666666666,
              "#ed7953"
             ],
             [
              0.7777777777777778,
              "#fb9f3a"
             ],
             [
              0.8888888888888888,
              "#fdca26"
             ],
             [
              1,
              "#f0f921"
             ]
            ],
            "type": "heatmapgl"
           }
          ],
          "histogram": [
           {
            "marker": {
             "pattern": {
              "fillmode": "overlay",
              "size": 10,
              "solidity": 0.2
             }
            },
            "type": "histogram"
           }
          ],
          "histogram2d": [
           {
            "colorbar": {
             "outlinewidth": 0,
             "ticks": ""
            },
            "colorscale": [
             [
              0,
              "#0d0887"
             ],
             [
              0.1111111111111111,
              "#46039f"
             ],
             [
              0.2222222222222222,
              "#7201a8"
             ],
             [
              0.3333333333333333,
              "#9c179e"
             ],
             [
              0.4444444444444444,
              "#bd3786"
             ],
             [
              0.5555555555555556,
              "#d8576b"
             ],
             [
              0.6666666666666666,
              "#ed7953"
             ],
             [
              0.7777777777777778,
              "#fb9f3a"
             ],
             [
              0.8888888888888888,
              "#fdca26"
             ],
             [
              1,
              "#f0f921"
             ]
            ],
            "type": "histogram2d"
           }
          ],
          "histogram2dcontour": [
           {
            "colorbar": {
             "outlinewidth": 0,
             "ticks": ""
            },
            "colorscale": [
             [
              0,
              "#0d0887"
             ],
             [
              0.1111111111111111,
              "#46039f"
             ],
             [
              0.2222222222222222,
              "#7201a8"
             ],
             [
              0.3333333333333333,
              "#9c179e"
             ],
             [
              0.4444444444444444,
              "#bd3786"
             ],
             [
              0.5555555555555556,
              "#d8576b"
             ],
             [
              0.6666666666666666,
              "#ed7953"
             ],
             [
              0.7777777777777778,
              "#fb9f3a"
             ],
             [
              0.8888888888888888,
              "#fdca26"
             ],
             [
              1,
              "#f0f921"
             ]
            ],
            "type": "histogram2dcontour"
           }
          ],
          "mesh3d": [
           {
            "colorbar": {
             "outlinewidth": 0,
             "ticks": ""
            },
            "type": "mesh3d"
           }
          ],
          "parcoords": [
           {
            "line": {
             "colorbar": {
              "outlinewidth": 0,
              "ticks": ""
             }
            },
            "type": "parcoords"
           }
          ],
          "pie": [
           {
            "automargin": true,
            "type": "pie"
           }
          ],
          "scatter": [
           {
            "fillpattern": {
             "fillmode": "overlay",
             "size": 10,
             "solidity": 0.2
            },
            "type": "scatter"
           }
          ],
          "scatter3d": [
           {
            "line": {
             "colorbar": {
              "outlinewidth": 0,
              "ticks": ""
             }
            },
            "marker": {
             "colorbar": {
              "outlinewidth": 0,
              "ticks": ""
             }
            },
            "type": "scatter3d"
           }
          ],
          "scattercarpet": [
           {
            "marker": {
             "colorbar": {
              "outlinewidth": 0,
              "ticks": ""
             }
            },
            "type": "scattercarpet"
           }
          ],
          "scattergeo": [
           {
            "marker": {
             "colorbar": {
              "outlinewidth": 0,
              "ticks": ""
             }
            },
            "type": "scattergeo"
           }
          ],
          "scattergl": [
           {
            "marker": {
             "colorbar": {
              "outlinewidth": 0,
              "ticks": ""
             }
            },
            "type": "scattergl"
           }
          ],
          "scattermapbox": [
           {
            "marker": {
             "colorbar": {
              "outlinewidth": 0,
              "ticks": ""
             }
            },
            "type": "scattermapbox"
           }
          ],
          "scatterpolar": [
           {
            "marker": {
             "colorbar": {
              "outlinewidth": 0,
              "ticks": ""
             }
            },
            "type": "scatterpolar"
           }
          ],
          "scatterpolargl": [
           {
            "marker": {
             "colorbar": {
              "outlinewidth": 0,
              "ticks": ""
             }
            },
            "type": "scatterpolargl"
           }
          ],
          "scatterternary": [
           {
            "marker": {
             "colorbar": {
              "outlinewidth": 0,
              "ticks": ""
             }
            },
            "type": "scatterternary"
           }
          ],
          "surface": [
           {
            "colorbar": {
             "outlinewidth": 0,
             "ticks": ""
            },
            "colorscale": [
             [
              0,
              "#0d0887"
             ],
             [
              0.1111111111111111,
              "#46039f"
             ],
             [
              0.2222222222222222,
              "#7201a8"
             ],
             [
              0.3333333333333333,
              "#9c179e"
             ],
             [
              0.4444444444444444,
              "#bd3786"
             ],
             [
              0.5555555555555556,
              "#d8576b"
             ],
             [
              0.6666666666666666,
              "#ed7953"
             ],
             [
              0.7777777777777778,
              "#fb9f3a"
             ],
             [
              0.8888888888888888,
              "#fdca26"
             ],
             [
              1,
              "#f0f921"
             ]
            ],
            "type": "surface"
           }
          ],
          "table": [
           {
            "cells": {
             "fill": {
              "color": "#EBF0F8"
             },
             "line": {
              "color": "white"
             }
            },
            "header": {
             "fill": {
              "color": "#C8D4E3"
             },
             "line": {
              "color": "white"
             }
            },
            "type": "table"
           }
          ]
         },
         "layout": {
          "annotationdefaults": {
           "arrowcolor": "#2a3f5f",
           "arrowhead": 0,
           "arrowwidth": 1
          },
          "autotypenumbers": "strict",
          "coloraxis": {
           "colorbar": {
            "outlinewidth": 0,
            "ticks": ""
           }
          },
          "colorscale": {
           "diverging": [
            [
             0,
             "#8e0152"
            ],
            [
             0.1,
             "#c51b7d"
            ],
            [
             0.2,
             "#de77ae"
            ],
            [
             0.3,
             "#f1b6da"
            ],
            [
             0.4,
             "#fde0ef"
            ],
            [
             0.5,
             "#f7f7f7"
            ],
            [
             0.6,
             "#e6f5d0"
            ],
            [
             0.7,
             "#b8e186"
            ],
            [
             0.8,
             "#7fbc41"
            ],
            [
             0.9,
             "#4d9221"
            ],
            [
             1,
             "#276419"
            ]
           ],
           "sequential": [
            [
             0,
             "#0d0887"
            ],
            [
             0.1111111111111111,
             "#46039f"
            ],
            [
             0.2222222222222222,
             "#7201a8"
            ],
            [
             0.3333333333333333,
             "#9c179e"
            ],
            [
             0.4444444444444444,
             "#bd3786"
            ],
            [
             0.5555555555555556,
             "#d8576b"
            ],
            [
             0.6666666666666666,
             "#ed7953"
            ],
            [
             0.7777777777777778,
             "#fb9f3a"
            ],
            [
             0.8888888888888888,
             "#fdca26"
            ],
            [
             1,
             "#f0f921"
            ]
           ],
           "sequentialminus": [
            [
             0,
             "#0d0887"
            ],
            [
             0.1111111111111111,
             "#46039f"
            ],
            [
             0.2222222222222222,
             "#7201a8"
            ],
            [
             0.3333333333333333,
             "#9c179e"
            ],
            [
             0.4444444444444444,
             "#bd3786"
            ],
            [
             0.5555555555555556,
             "#d8576b"
            ],
            [
             0.6666666666666666,
             "#ed7953"
            ],
            [
             0.7777777777777778,
             "#fb9f3a"
            ],
            [
             0.8888888888888888,
             "#fdca26"
            ],
            [
             1,
             "#f0f921"
            ]
           ]
          },
          "colorway": [
           "#636efa",
           "#EF553B",
           "#00cc96",
           "#ab63fa",
           "#FFA15A",
           "#19d3f3",
           "#FF6692",
           "#B6E880",
           "#FF97FF",
           "#FECB52"
          ],
          "font": {
           "color": "#2a3f5f"
          },
          "geo": {
           "bgcolor": "white",
           "lakecolor": "white",
           "landcolor": "#E5ECF6",
           "showlakes": true,
           "showland": true,
           "subunitcolor": "white"
          },
          "hoverlabel": {
           "align": "left"
          },
          "hovermode": "closest",
          "mapbox": {
           "style": "light"
          },
          "paper_bgcolor": "white",
          "plot_bgcolor": "#E5ECF6",
          "polar": {
           "angularaxis": {
            "gridcolor": "white",
            "linecolor": "white",
            "ticks": ""
           },
           "bgcolor": "#E5ECF6",
           "radialaxis": {
            "gridcolor": "white",
            "linecolor": "white",
            "ticks": ""
           }
          },
          "scene": {
           "xaxis": {
            "backgroundcolor": "#E5ECF6",
            "gridcolor": "white",
            "gridwidth": 2,
            "linecolor": "white",
            "showbackground": true,
            "ticks": "",
            "zerolinecolor": "white"
           },
           "yaxis": {
            "backgroundcolor": "#E5ECF6",
            "gridcolor": "white",
            "gridwidth": 2,
            "linecolor": "white",
            "showbackground": true,
            "ticks": "",
            "zerolinecolor": "white"
           },
           "zaxis": {
            "backgroundcolor": "#E5ECF6",
            "gridcolor": "white",
            "gridwidth": 2,
            "linecolor": "white",
            "showbackground": true,
            "ticks": "",
            "zerolinecolor": "white"
           }
          },
          "shapedefaults": {
           "line": {
            "color": "#2a3f5f"
           }
          },
          "ternary": {
           "aaxis": {
            "gridcolor": "white",
            "linecolor": "white",
            "ticks": ""
           },
           "baxis": {
            "gridcolor": "white",
            "linecolor": "white",
            "ticks": ""
           },
           "bgcolor": "#E5ECF6",
           "caxis": {
            "gridcolor": "white",
            "linecolor": "white",
            "ticks": ""
           }
          },
          "title": {
           "x": 0.05
          },
          "xaxis": {
           "automargin": true,
           "gridcolor": "white",
           "linecolor": "white",
           "ticks": "",
           "title": {
            "standoff": 15
           },
           "zerolinecolor": "white",
           "zerolinewidth": 2
          },
          "yaxis": {
           "automargin": true,
           "gridcolor": "white",
           "linecolor": "white",
           "ticks": "",
           "title": {
            "standoff": 15
           },
           "zerolinecolor": "white",
           "zerolinewidth": 2
          }
         }
        },
        "xaxis": {
         "anchor": "y",
         "domain": [
          0,
          0.15
         ],
         "title": {
          "text": "detection_tpr"
         }
        },
        "xaxis2": {
         "anchor": "y2",
         "domain": [
          0.16999999999999998,
          0.31999999999999995
         ],
         "matches": "x",
         "title": {
          "text": "detection_tpr"
         }
        },
        "xaxis3": {
         "anchor": "y3",
         "domain": [
          0.33999999999999997,
          0.49
         ],
         "matches": "x",
         "title": {
          "text": "detection_tpr"
         }
        },
        "xaxis4": {
         "anchor": "y4",
         "domain": [
          0.51,
          0.66
         ],
         "matches": "x",
         "title": {
          "text": "detection_tpr"
         }
        },
        "xaxis5": {
         "anchor": "y5",
         "domain": [
          0.6799999999999999,
          0.83
         ],
         "matches": "x",
         "title": {
          "text": "detection_tpr"
         }
        },
        "xaxis6": {
         "anchor": "y6",
         "domain": [
          0.85,
          1
         ],
         "matches": "x",
         "title": {
          "text": "detection_tpr"
         }
        },
        "yaxis": {
         "anchor": "x",
         "domain": [
          0,
          1
         ],
         "title": {
          "text": "demographic_parity_audit"
         }
        },
        "yaxis2": {
         "anchor": "x2",
         "domain": [
          0,
          1
         ],
         "matches": "y",
         "showticklabels": false
        },
        "yaxis3": {
         "anchor": "x3",
         "domain": [
          0,
          1
         ],
         "matches": "y",
         "showticklabels": false
        },
        "yaxis4": {
         "anchor": "x4",
         "domain": [
          0,
          1
         ],
         "matches": "y",
         "showticklabels": false
        },
        "yaxis5": {
         "anchor": "x5",
         "domain": [
          0,
          1
         ],
         "matches": "y",
         "showticklabels": false
        },
        "yaxis6": {
         "anchor": "x6",
         "domain": [
          0,
          1
         ],
         "matches": "y",
         "showticklabels": false
        }
       }
      }
     },
     "metadata": {},
     "output_type": "display_data"
    }
   ],
   "source": [
    "px.line(\n",
    "    manipulation.sort(\"detection_tpr\").with_columns(\n",
    "        pl.col(\"demographic_parity_audit_std\") / sqrt(5)\n",
    "    ),\n",
    "    x=\"detection_tpr\",\n",
    "    y=\"demographic_parity_audit\",\n",
    "    error_y=\"demographic_parity_audit_std\",\n",
    "    facet_col=\"strategy\",\n",
    "    color=\"strategy_json\",\n",
    ")"
   ]
  },
  {
   "cell_type": "code",
   "execution_count": 23,
   "metadata": {},
   "outputs": [
    {
     "data": {
      "application/vnd.plotly.v1+json": {
       "config": {
        "plotlyServerURL": "https://plot.ly"
       },
       "data": [
        {
         "error_y": {
          "array": [
           0.003680608450163309,
           0.0036297799474098113,
           0.004552915863950813,
           0.0033928215780435695,
           0.002500667704512768
          ]
         },
         "hovertemplate": "strategy_json={\"epsilon\":null,\"theta\":0.4}<br>strategy=ROC_mitigation<br>detection_tpr=%{x}<br>demographic_parity_user=%{y}<extra></extra>",
         "legendgroup": "{\"epsilon\":null,\"theta\":0.4}",
         "line": {
          "color": "#636efa",
          "dash": "solid"
         },
         "marker": {
          "symbol": "circle"
         },
         "mode": "lines",
         "name": "{\"epsilon\":null,\"theta\":0.4}",
         "orientation": "v",
         "showlegend": true,
         "type": "scatter",
         "x": [
          0,
          0.25,
          0.5,
          0.75,
          1
         ],
         "xaxis": "x",
         "y": [
          0.07434109325053039,
          0.07774264752134405,
          0.07256443247385246,
          0.06923201409022549,
          0.0692662103355006
         ],
         "yaxis": "y"
        },
        {
         "error_y": {
          "array": [
           0.0034343269015413625,
           0.0034196039695327954,
           0.004132726383481191,
           0.002340471449120295,
           0.004466005079114971
          ]
         },
         "hovertemplate": "strategy_json={\"epsilon\":6.0,\"theta\":null}<br>strategy=randomized_response<br>detection_tpr=%{x}<br>demographic_parity_user=%{y}<extra></extra>",
         "legendgroup": "{\"epsilon\":6.0,\"theta\":null}",
         "line": {
          "color": "#EF553B",
          "dash": "solid"
         },
         "marker": {
          "symbol": "circle"
         },
         "mode": "lines",
         "name": "{\"epsilon\":6.0,\"theta\":null}",
         "orientation": "v",
         "showlegend": true,
         "type": "scatter",
         "x": [
          0,
          0.25,
          0.5,
          0.75,
          1
         ],
         "xaxis": "x2",
         "y": [
          0.07329776466349865,
          0.07573919358620257,
          0.07308052129259521,
          0.06519794365053498,
          0.07665454358305744
         ],
         "yaxis": "y2"
        },
        {
         "error_y": {
          "array": [
           0.004218589074933865,
           0.004884995893813059,
           0.0038916083501317968,
           0.004118785708198423,
           0.002930587331453381
          ]
         },
         "hovertemplate": "strategy_json={\"epsilon\":null,\"theta\":0.3333333333333333}<br>strategy=ROC_mitigation<br>detection_tpr=%{x}<br>demographic_parity_user=%{y}<extra></extra>",
         "legendgroup": "{\"epsilon\":null,\"theta\":0.3333333333333333}",
         "line": {
          "color": "#00cc96",
          "dash": "solid"
         },
         "marker": {
          "symbol": "circle"
         },
         "mode": "lines",
         "name": "{\"epsilon\":null,\"theta\":0.3333333333333333}",
         "orientation": "v",
         "showlegend": true,
         "type": "scatter",
         "x": [
          0,
          0.25,
          0.5,
          0.75,
          1
         ],
         "xaxis": "x",
         "y": [
          0.07287917517283969,
          0.07365310825570558,
          0.0747367518141737,
          0.07616590325550542,
          0.07157823105911151
         ],
         "yaxis": "y"
        },
        {
         "error_y": {
          "array": [
           0.004262390070336224,
           0.004463296744716422,
           0.001990240674915616,
           0.0051199113802791905,
           0.0029273350929532433
          ]
         },
         "hovertemplate": "strategy_json={\"epsilon\":null,\"theta\":0.3}<br>strategy=ROC_mitigation<br>detection_tpr=%{x}<br>demographic_parity_user=%{y}<extra></extra>",
         "legendgroup": "{\"epsilon\":null,\"theta\":0.3}",
         "line": {
          "color": "#ab63fa",
          "dash": "solid"
         },
         "marker": {
          "symbol": "circle"
         },
         "mode": "lines",
         "name": "{\"epsilon\":null,\"theta\":0.3}",
         "orientation": "v",
         "showlegend": true,
         "type": "scatter",
         "x": [
          0,
          0.25,
          0.5,
          0.75,
          1
         ],
         "xaxis": "x",
         "y": [
          0.07530013209586382,
          0.07130300275056754,
          0.06984022690752717,
          0.07476866068518294,
          0.07467653668662401
         ],
         "yaxis": "y"
        },
        {
         "error_y": {
          "array": [
           0.004342719756930131,
           0.002507292458654759,
           0.0020865745446364673,
           0.005035181579801064,
           0.0030638207441479807
          ]
         },
         "hovertemplate": "strategy_json={\"epsilon\":null,\"theta\":0.4666666666666667}<br>strategy=ROC_mitigation<br>detection_tpr=%{x}<br>demographic_parity_user=%{y}<extra></extra>",
         "legendgroup": "{\"epsilon\":null,\"theta\":0.4666666666666667}",
         "line": {
          "color": "#FFA15A",
          "dash": "solid"
         },
         "marker": {
          "symbol": "circle"
         },
         "mode": "lines",
         "name": "{\"epsilon\":null,\"theta\":0.4666666666666667}",
         "orientation": "v",
         "showlegend": true,
         "type": "scatter",
         "x": [
          0,
          0.25,
          0.5,
          0.75,
          1
         ],
         "xaxis": "x",
         "y": [
          0.06930343735167807,
          0.06975902512108788,
          0.07200248180107847,
          0.07531048246441704,
          0.07247877030759467
         ],
         "yaxis": "y"
        },
        {
         "error_y": {
          "array": [
           0.005064370188791607,
           0.0041740938339428655,
           0.003685468130180201,
           0.005377664456818535,
           0.0022396822835888818
          ]
         },
         "hovertemplate": "strategy_json={\"epsilon\":null,\"theta\":null}<br>strategy=always_no<br>detection_tpr=%{x}<br>demographic_parity_user=%{y}<extra></extra>",
         "legendgroup": "{\"epsilon\":null,\"theta\":null}",
         "line": {
          "color": "#19d3f3",
          "dash": "solid"
         },
         "marker": {
          "symbol": "circle"
         },
         "mode": "lines",
         "name": "{\"epsilon\":null,\"theta\":null}",
         "orientation": "v",
         "showlegend": true,
         "type": "scatter",
         "x": [
          0,
          0.25,
          0.5,
          0.75,
          1
         ],
         "xaxis": "x3",
         "y": [
          0.07370211524935241,
          0.07334396962366972,
          0.07398409131198071,
          0.07300435172954084,
          0.07249889920113456
         ],
         "yaxis": "y3"
        },
        {
         "error_y": {
          "array": [
           0.004672658507135835,
           0.003034573136026421,
           0.0019127000184934102,
           0.0035472996346261974,
           0.0027754762128670393
          ]
         },
         "hovertemplate": "strategy_json={\"epsilon\":null,\"theta\":null}<br>strategy=model_swap<br>detection_tpr=%{x}<br>demographic_parity_user=%{y}<extra></extra>",
         "legendgroup": "{\"epsilon\":null,\"theta\":null}",
         "line": {
          "color": "#19d3f3",
          "dash": "solid"
         },
         "marker": {
          "symbol": "circle"
         },
         "mode": "lines",
         "name": "{\"epsilon\":null,\"theta\":null}",
         "orientation": "v",
         "showlegend": false,
         "type": "scatter",
         "x": [
          0,
          0.25,
          0.5,
          0.75,
          1
         ],
         "xaxis": "x4",
         "y": [
          0.07541898263311089,
          0.07307880576189575,
          0.07259102319969349,
          0.07253755582622817,
          0.07316589753706976
         ],
         "yaxis": "y4"
        },
        {
         "error_y": {
          "array": [
           0.002897038136026992,
           0.0016011065112343686,
           0.004763541022020778,
           0.0038532651537506162,
           0.002895512906956637
          ]
         },
         "hovertemplate": "strategy_json={\"epsilon\":null,\"theta\":null}<br>strategy=always_yes<br>detection_tpr=%{x}<br>demographic_parity_user=%{y}<extra></extra>",
         "legendgroup": "{\"epsilon\":null,\"theta\":null}",
         "line": {
          "color": "#19d3f3",
          "dash": "solid"
         },
         "marker": {
          "symbol": "circle"
         },
         "mode": "lines",
         "name": "{\"epsilon\":null,\"theta\":null}",
         "orientation": "v",
         "showlegend": false,
         "type": "scatter",
         "x": [
          0,
          0.25,
          0.5,
          0.75,
          1
         ],
         "xaxis": "x5",
         "y": [
          0.07341482104155586,
          0.07301384433274435,
          0.07271116753300967,
          0.0709882600515803,
          0.07414003305255813
         ],
         "yaxis": "y5"
        },
        {
         "error_y": {
          "array": [
           0.002651835201547195,
           0.003397255783861803,
           0.0037582928838686865,
           0.0023962553364579105,
           0.004578829034028718
          ]
         },
         "hovertemplate": "strategy_json={\"epsilon\":null,\"theta\":null}<br>strategy=honest<br>detection_tpr=%{x}<br>demographic_parity_user=%{y}<extra></extra>",
         "legendgroup": "{\"epsilon\":null,\"theta\":null}",
         "line": {
          "color": "#19d3f3",
          "dash": "solid"
         },
         "marker": {
          "symbol": "circle"
         },
         "mode": "lines",
         "name": "{\"epsilon\":null,\"theta\":null}",
         "orientation": "v",
         "showlegend": false,
         "type": "scatter",
         "x": [
          0,
          0.25,
          0.5,
          0.75,
          1
         ],
         "xaxis": "x6",
         "y": [
          0.07566240134904254,
          0.07131363904090399,
          0.07319780640807899,
          0.07072841433497451,
          0.07055623223710919
         ],
         "yaxis": "y6"
        },
        {
         "error_y": {
          "array": [
           0.003444140834265809,
           0.0038131760814637664,
           0.0031460584191950556,
           0.005014545998704437,
           0.0019070731033292404
          ]
         },
         "hovertemplate": "strategy_json={\"epsilon\":null,\"theta\":0.43333333333333335}<br>strategy=ROC_mitigation<br>detection_tpr=%{x}<br>demographic_parity_user=%{y}<extra></extra>",
         "legendgroup": "{\"epsilon\":null,\"theta\":0.43333333333333335}",
         "line": {
          "color": "#FF6692",
          "dash": "solid"
         },
         "marker": {
          "symbol": "circle"
         },
         "mode": "lines",
         "name": "{\"epsilon\":null,\"theta\":0.43333333333333335}",
         "orientation": "v",
         "showlegend": true,
         "type": "scatter",
         "x": [
          0,
          0.25,
          0.5,
          0.75,
          1
         ],
         "xaxis": "x",
         "y": [
          0.07192013632750624,
          0.07309001389579867,
          0.06612924808289446,
          0.07447101610883325,
          0.06881565478947581
         ],
         "yaxis": "y"
        },
        {
         "error_y": {
          "array": [
           0.0037275516481669432,
           0.00435300086980835,
           0.0025855165287856237,
           0.003515191770674352,
           0.0043098824123104775
          ]
         },
         "hovertemplate": "strategy_json={\"epsilon\":2.0,\"theta\":null}<br>strategy=randomized_response<br>detection_tpr=%{x}<br>demographic_parity_user=%{y}<extra></extra>",
         "legendgroup": "{\"epsilon\":2.0,\"theta\":null}",
         "line": {
          "color": "#B6E880",
          "dash": "solid"
         },
         "marker": {
          "symbol": "circle"
         },
         "mode": "lines",
         "name": "{\"epsilon\":2.0,\"theta\":null}",
         "orientation": "v",
         "showlegend": true,
         "type": "scatter",
         "x": [
          0,
          0.25,
          0.5,
          0.75,
          1
         ],
         "xaxis": "x2",
         "y": [
          0.07528863804017773,
          0.07756960765812906,
          0.07583634980814649,
          0.07078777169717453,
          0.0710635718492849
         ],
         "yaxis": "y2"
        },
        {
         "error_y": {
          "array": [
           0.005971845225712964,
           0.00311072692218773,
           0.0041301054981439204,
           0.004275261894306722,
           0.0029765169505778094
          ]
         },
         "hovertemplate": "strategy_json={\"epsilon\":null,\"theta\":0.36666666666666664}<br>strategy=ROC_mitigation<br>detection_tpr=%{x}<br>demographic_parity_user=%{y}<extra></extra>",
         "legendgroup": "{\"epsilon\":null,\"theta\":0.36666666666666664}",
         "line": {
          "color": "#FF97FF",
          "dash": "solid"
         },
         "marker": {
          "symbol": "circle"
         },
         "mode": "lines",
         "name": "{\"epsilon\":null,\"theta\":0.36666666666666664}",
         "orientation": "v",
         "showlegend": true,
         "type": "scatter",
         "x": [
          0,
          0.25,
          0.5,
          0.75,
          1
         ],
         "xaxis": "x",
         "y": [
          0.0753275805870546,
          0.07472051145688584,
          0.07175212868767619,
          0.06742373036432156,
          0.07195793518725019
         ],
         "yaxis": "y"
        },
        {
         "error_y": {
          "array": [
           0.00286033220655833,
           0.003382886756094475,
           0.004866553653539879,
           0.004897825292080287,
           0.0049351256757458155
          ]
         },
         "hovertemplate": "strategy_json={\"epsilon\":9.0,\"theta\":null}<br>strategy=randomized_response<br>detection_tpr=%{x}<br>demographic_parity_user=%{y}<extra></extra>",
         "legendgroup": "{\"epsilon\":9.0,\"theta\":null}",
         "line": {
          "color": "#FECB52",
          "dash": "solid"
         },
         "marker": {
          "symbol": "circle"
         },
         "mode": "lines",
         "name": "{\"epsilon\":9.0,\"theta\":null}",
         "orientation": "v",
         "showlegend": true,
         "type": "scatter",
         "x": [
          0,
          0.25,
          0.5,
          0.75,
          1
         ],
         "xaxis": "x2",
         "y": [
          0.07351010924118266,
          0.06926060626854916,
          0.07664190584023836,
          0.07318185197257435,
          0.07562350963270487
         ],
         "yaxis": "y2"
        },
        {
         "error_y": {
          "array": [
           0.0018399544912056586,
           0.0023422651483487144,
           0.00143738360278251,
           0.0009851303016960614,
           0.001864548097243988
          ]
         },
         "hovertemplate": "strategy_json={\"epsilon\":null,\"theta\":0.6}<br>strategy=ROC_mitigation<br>detection_tpr=%{x}<br>demographic_parity_user=%{y}<extra></extra>",
         "legendgroup": "{\"epsilon\":null,\"theta\":0.6}",
         "line": {
          "color": "#636efa",
          "dash": "solid"
         },
         "marker": {
          "symbol": "circle"
         },
         "mode": "lines",
         "name": "{\"epsilon\":null,\"theta\":0.6}",
         "orientation": "v",
         "showlegend": true,
         "type": "scatter",
         "x": [
          0,
          0.25,
          0.5,
          0.75,
          1
         ],
         "xaxis": "x",
         "y": [
          0.005339532117593926,
          0.006166932573925055,
          0.003143080978767432,
          0.007375180845527895,
          0.005527954572747062
         ],
         "yaxis": "y"
        },
        {
         "error_y": {
          "array": [
           0.003316593324515559,
           0.00253954805367658,
           0.0021962206559853746,
           0.002000965250621267,
           0.0036835091399254134
          ]
         },
         "hovertemplate": "strategy_json={\"epsilon\":null,\"theta\":0.5333333333333333}<br>strategy=ROC_mitigation<br>detection_tpr=%{x}<br>demographic_parity_user=%{y}<extra></extra>",
         "legendgroup": "{\"epsilon\":null,\"theta\":0.5333333333333333}",
         "line": {
          "color": "#EF553B",
          "dash": "solid"
         },
         "marker": {
          "symbol": "circle"
         },
         "mode": "lines",
         "name": "{\"epsilon\":null,\"theta\":0.5333333333333333}",
         "orientation": "v",
         "showlegend": true,
         "type": "scatter",
         "x": [
          0,
          0.25,
          0.5,
          0.75,
          1
         ],
         "xaxis": "x",
         "y": [
          0.04986893345456417,
          0.045822797115621074,
          0.048314319534748074,
          0.047999862757544046,
          0.04370451699233158
         ],
         "yaxis": "y"
        },
        {
         "error_y": {
          "array": [
           0.004915616240316664,
           0.005330724668035663,
           0.0037580245844133883,
           0.0021363616506772515,
           0.0038769235400806447
          ]
         },
         "hovertemplate": "strategy_json={\"epsilon\":8.0,\"theta\":null}<br>strategy=randomized_response<br>detection_tpr=%{x}<br>demographic_parity_user=%{y}<extra></extra>",
         "legendgroup": "{\"epsilon\":8.0,\"theta\":null}",
         "line": {
          "color": "#00cc96",
          "dash": "solid"
         },
         "marker": {
          "symbol": "circle"
         },
         "mode": "lines",
         "name": "{\"epsilon\":8.0,\"theta\":null}",
         "orientation": "v",
         "showlegend": true,
         "type": "scatter",
         "x": [
          0,
          0.25,
          0.5,
          0.75,
          1
         ],
         "xaxis": "x2",
         "y": [
          0.07685363092072532,
          0.07372927781875992,
          0.07073373248014272,
          0.07022410549370114,
          0.07198509775665768
         ],
         "yaxis": "y2"
        },
        {
         "error_y": {
          "array": [
           0.002510884780215975,
           0.002127285661246361,
           0.0027995583138668385,
           0.0007481859627312497,
           0.002480085175973922
          ]
         },
         "hovertemplate": "strategy_json={\"epsilon\":null,\"theta\":0.5666666666666667}<br>strategy=ROC_mitigation<br>detection_tpr=%{x}<br>demographic_parity_user=%{y}<extra></extra>",
         "legendgroup": "{\"epsilon\":null,\"theta\":0.5666666666666667}",
         "line": {
          "color": "#ab63fa",
          "dash": "solid"
         },
         "marker": {
          "symbol": "circle"
         },
         "mode": "lines",
         "name": "{\"epsilon\":null,\"theta\":0.5666666666666667}",
         "orientation": "v",
         "showlegend": true,
         "type": "scatter",
         "x": [
          0,
          0.25,
          0.5,
          0.75,
          1
         ],
         "xaxis": "x",
         "y": [
          0.02326757132318883,
          0.019557450263905797,
          0.021491768311860605,
          0.02394492002767721,
          0.02656076123815566
         ],
         "yaxis": "y"
        },
        {
         "error_y": {
          "array": [
           0.002353455271792876,
           0.0047346183970278935,
           0.004087027412106469,
           0.003364848796088394,
           0.0038279246510348397
          ]
         },
         "hovertemplate": "strategy_json={\"epsilon\":3.0,\"theta\":null}<br>strategy=randomized_response<br>detection_tpr=%{x}<br>demographic_parity_user=%{y}<extra></extra>",
         "legendgroup": "{\"epsilon\":3.0,\"theta\":null}",
         "line": {
          "color": "#FFA15A",
          "dash": "solid"
         },
         "marker": {
          "symbol": "circle"
         },
         "mode": "lines",
         "name": "{\"epsilon\":3.0,\"theta\":null}",
         "orientation": "v",
         "showlegend": true,
         "type": "scatter",
         "x": [
          0,
          0.25,
          0.5,
          0.75,
          1
         ],
         "xaxis": "x2",
         "y": [
          0.07673721310131736,
          0.06884338920244978,
          0.07241798333647845,
          0.0722287031159756,
          0.0722505475402149
         ],
         "yaxis": "y2"
        },
        {
         "error_y": {
          "array": [
           0.004595542870071385,
           0.002356083160926475,
           0.004451492264765735,
           0.0057876429768426085,
           0.0029623352715000204
          ]
         },
         "hovertemplate": "strategy_json={\"epsilon\":4.0,\"theta\":null}<br>strategy=randomized_response<br>detection_tpr=%{x}<br>demographic_parity_user=%{y}<extra></extra>",
         "legendgroup": "{\"epsilon\":4.0,\"theta\":null}",
         "line": {
          "color": "#19d3f3",
          "dash": "solid"
         },
         "marker": {
          "symbol": "circle"
         },
         "mode": "lines",
         "name": "{\"epsilon\":4.0,\"theta\":null}",
         "orientation": "v",
         "showlegend": true,
         "type": "scatter",
         "x": [
          0,
          0.25,
          0.5,
          0.75,
          1
         ],
         "xaxis": "x2",
         "y": [
          0.0738118043761282,
          0.07296569510444725,
          0.07338765847214837,
          0.0732961063171559,
          0.07363154975324954
         ],
         "yaxis": "y2"
        },
        {
         "error_y": {
          "array": [
           0.003101705174854811,
           0.004360057866252817,
           0.004199674239264605,
           0.0030678598401180078,
           0.0033245906957116993
          ]
         },
         "hovertemplate": "strategy_json={\"epsilon\":5.0,\"theta\":null}<br>strategy=randomized_response<br>detection_tpr=%{x}<br>demographic_parity_user=%{y}<extra></extra>",
         "legendgroup": "{\"epsilon\":5.0,\"theta\":null}",
         "line": {
          "color": "#FF6692",
          "dash": "solid"
         },
         "marker": {
          "symbol": "circle"
         },
         "mode": "lines",
         "name": "{\"epsilon\":5.0,\"theta\":null}",
         "orientation": "v",
         "showlegend": true,
         "type": "scatter",
         "x": [
          0,
          0.25,
          0.5,
          0.75,
          1
         ],
         "xaxis": "x2",
         "y": [
          0.0715145658087107,
          0.0743139306811229,
          0.0712867623932797,
          0.0743803217191905,
          0.07422266444791362
         ],
         "yaxis": "y2"
        },
        {
         "error_y": {
          "array": [
           0.0025885284170869363,
           0.0031617402430861325,
           0.0043305627427502845,
           0.0036202269694898402,
           0.00494293797849659
          ]
         },
         "hovertemplate": "strategy_json={\"epsilon\":null,\"theta\":0.5}<br>strategy=ROC_mitigation<br>detection_tpr=%{x}<br>demographic_parity_user=%{y}<extra></extra>",
         "legendgroup": "{\"epsilon\":null,\"theta\":0.5}",
         "line": {
          "color": "#B6E880",
          "dash": "solid"
         },
         "marker": {
          "symbol": "circle"
         },
         "mode": "lines",
         "name": "{\"epsilon\":null,\"theta\":0.5}",
         "orientation": "v",
         "showlegend": true,
         "type": "scatter",
         "x": [
          0,
          0.25,
          0.5,
          0.75,
          1
         ],
         "xaxis": "x",
         "y": [
          0.06912507934329484,
          0.07557536040440774,
          0.07161660176242188,
          0.07589038902517825,
          0.07267336867326576
         ],
         "yaxis": "y"
        },
        {
         "error_y": {
          "array": [
           0.005326550249484494,
           0.002962412055839599,
           0.005200007098589142,
           0.005340654944678514,
           0.0032715719824497036
          ]
         },
         "hovertemplate": "strategy_json={\"epsilon\":7.0,\"theta\":null}<br>strategy=randomized_response<br>detection_tpr=%{x}<br>demographic_parity_user=%{y}<extra></extra>",
         "legendgroup": "{\"epsilon\":7.0,\"theta\":null}",
         "line": {
          "color": "#FF97FF",
          "dash": "solid"
         },
         "marker": {
          "symbol": "circle"
         },
         "mode": "lines",
         "name": "{\"epsilon\":7.0,\"theta\":null}",
         "orientation": "v",
         "showlegend": true,
         "type": "scatter",
         "x": [
          0,
          0.25,
          0.5,
          0.75,
          1
         ],
         "xaxis": "x2",
         "y": [
          0.07115358955737401,
          0.07072252434623984,
          0.07347532209088882,
          0.0729429929148582,
          0.07558599669474418
         ],
         "yaxis": "y2"
        },
        {
         "error_y": {
          "array": [
           0.003525045512054654,
           0.0039174300150862104,
           0.003460550908545614,
           0.002199499869435713,
           0.004033916454628045
          ]
         },
         "hovertemplate": "strategy_json={\"epsilon\":1.0,\"theta\":null}<br>strategy=randomized_response<br>detection_tpr=%{x}<br>demographic_parity_user=%{y}<extra></extra>",
         "legendgroup": "{\"epsilon\":1.0,\"theta\":null}",
         "line": {
          "color": "#FECB52",
          "dash": "solid"
         },
         "marker": {
          "symbol": "circle"
         },
         "mode": "lines",
         "name": "{\"epsilon\":1.0,\"theta\":null}",
         "orientation": "v",
         "showlegend": true,
         "type": "scatter",
         "x": [
          0,
          0.25,
          0.5,
          0.75,
          1
         ],
         "xaxis": "x2",
         "y": [
          0.06932044969778069,
          0.07068501140827918,
          0.07374997855586626,
          0.07478015474086909,
          0.07230961898063168
         ],
         "yaxis": "y2"
        },
        {
         "error_y": {
          "array": [
           0.00427363830853236,
           0.0021726240196905874,
           0.004438827354528804,
           0.004183202706935282,
           0.0037815099845856332
          ]
         },
         "hovertemplate": "strategy_json={\"epsilon\":10.0,\"theta\":null}<br>strategy=randomized_response<br>detection_tpr=%{x}<br>demographic_parity_user=%{y}<extra></extra>",
         "legendgroup": "{\"epsilon\":10.0,\"theta\":null}",
         "line": {
          "color": "#636efa",
          "dash": "solid"
         },
         "marker": {
          "symbol": "circle"
         },
         "mode": "lines",
         "name": "{\"epsilon\":10.0,\"theta\":null}",
         "orientation": "v",
         "showlegend": true,
         "type": "scatter",
         "x": [
          0,
          0.25,
          0.5,
          0.75,
          1
         ],
         "xaxis": "x2",
         "y": [
          0.07324291533474771,
          0.07076146689311671,
          0.07582988797584535,
          0.0726837190418189,
          0.07477455067391764
         ],
         "yaxis": "y2"
        }
       ],
       "layout": {
        "annotations": [
         {
          "font": {},
          "showarrow": false,
          "text": "strategy=ROC_mitigation",
          "x": 0.075,
          "xanchor": "center",
          "xref": "paper",
          "y": 1,
          "yanchor": "bottom",
          "yref": "paper"
         },
         {
          "font": {},
          "showarrow": false,
          "text": "strategy=randomized_response",
          "x": 0.24499999999999997,
          "xanchor": "center",
          "xref": "paper",
          "y": 1,
          "yanchor": "bottom",
          "yref": "paper"
         },
         {
          "font": {},
          "showarrow": false,
          "text": "strategy=always_no",
          "x": 0.415,
          "xanchor": "center",
          "xref": "paper",
          "y": 1,
          "yanchor": "bottom",
          "yref": "paper"
         },
         {
          "font": {},
          "showarrow": false,
          "text": "strategy=model_swap",
          "x": 0.585,
          "xanchor": "center",
          "xref": "paper",
          "y": 1,
          "yanchor": "bottom",
          "yref": "paper"
         },
         {
          "font": {},
          "showarrow": false,
          "text": "strategy=always_yes",
          "x": 0.7549999999999999,
          "xanchor": "center",
          "xref": "paper",
          "y": 1,
          "yanchor": "bottom",
          "yref": "paper"
         },
         {
          "font": {},
          "showarrow": false,
          "text": "strategy=honest",
          "x": 0.925,
          "xanchor": "center",
          "xref": "paper",
          "y": 1,
          "yanchor": "bottom",
          "yref": "paper"
         }
        ],
        "legend": {
         "title": {
          "text": "strategy_json"
         },
         "tracegroupgap": 0
        },
        "margin": {
         "t": 60
        },
        "template": {
         "data": {
          "bar": [
           {
            "error_x": {
             "color": "#2a3f5f"
            },
            "error_y": {
             "color": "#2a3f5f"
            },
            "marker": {
             "line": {
              "color": "#E5ECF6",
              "width": 0.5
             },
             "pattern": {
              "fillmode": "overlay",
              "size": 10,
              "solidity": 0.2
             }
            },
            "type": "bar"
           }
          ],
          "barpolar": [
           {
            "marker": {
             "line": {
              "color": "#E5ECF6",
              "width": 0.5
             },
             "pattern": {
              "fillmode": "overlay",
              "size": 10,
              "solidity": 0.2
             }
            },
            "type": "barpolar"
           }
          ],
          "carpet": [
           {
            "aaxis": {
             "endlinecolor": "#2a3f5f",
             "gridcolor": "white",
             "linecolor": "white",
             "minorgridcolor": "white",
             "startlinecolor": "#2a3f5f"
            },
            "baxis": {
             "endlinecolor": "#2a3f5f",
             "gridcolor": "white",
             "linecolor": "white",
             "minorgridcolor": "white",
             "startlinecolor": "#2a3f5f"
            },
            "type": "carpet"
           }
          ],
          "choropleth": [
           {
            "colorbar": {
             "outlinewidth": 0,
             "ticks": ""
            },
            "type": "choropleth"
           }
          ],
          "contour": [
           {
            "colorbar": {
             "outlinewidth": 0,
             "ticks": ""
            },
            "colorscale": [
             [
              0,
              "#0d0887"
             ],
             [
              0.1111111111111111,
              "#46039f"
             ],
             [
              0.2222222222222222,
              "#7201a8"
             ],
             [
              0.3333333333333333,
              "#9c179e"
             ],
             [
              0.4444444444444444,
              "#bd3786"
             ],
             [
              0.5555555555555556,
              "#d8576b"
             ],
             [
              0.6666666666666666,
              "#ed7953"
             ],
             [
              0.7777777777777778,
              "#fb9f3a"
             ],
             [
              0.8888888888888888,
              "#fdca26"
             ],
             [
              1,
              "#f0f921"
             ]
            ],
            "type": "contour"
           }
          ],
          "contourcarpet": [
           {
            "colorbar": {
             "outlinewidth": 0,
             "ticks": ""
            },
            "type": "contourcarpet"
           }
          ],
          "heatmap": [
           {
            "colorbar": {
             "outlinewidth": 0,
             "ticks": ""
            },
            "colorscale": [
             [
              0,
              "#0d0887"
             ],
             [
              0.1111111111111111,
              "#46039f"
             ],
             [
              0.2222222222222222,
              "#7201a8"
             ],
             [
              0.3333333333333333,
              "#9c179e"
             ],
             [
              0.4444444444444444,
              "#bd3786"
             ],
             [
              0.5555555555555556,
              "#d8576b"
             ],
             [
              0.6666666666666666,
              "#ed7953"
             ],
             [
              0.7777777777777778,
              "#fb9f3a"
             ],
             [
              0.8888888888888888,
              "#fdca26"
             ],
             [
              1,
              "#f0f921"
             ]
            ],
            "type": "heatmap"
           }
          ],
          "heatmapgl": [
           {
            "colorbar": {
             "outlinewidth": 0,
             "ticks": ""
            },
            "colorscale": [
             [
              0,
              "#0d0887"
             ],
             [
              0.1111111111111111,
              "#46039f"
             ],
             [
              0.2222222222222222,
              "#7201a8"
             ],
             [
              0.3333333333333333,
              "#9c179e"
             ],
             [
              0.4444444444444444,
              "#bd3786"
             ],
             [
              0.5555555555555556,
              "#d8576b"
             ],
             [
              0.6666666666666666,
              "#ed7953"
             ],
             [
              0.7777777777777778,
              "#fb9f3a"
             ],
             [
              0.8888888888888888,
              "#fdca26"
             ],
             [
              1,
              "#f0f921"
             ]
            ],
            "type": "heatmapgl"
           }
          ],
          "histogram": [
           {
            "marker": {
             "pattern": {
              "fillmode": "overlay",
              "size": 10,
              "solidity": 0.2
             }
            },
            "type": "histogram"
           }
          ],
          "histogram2d": [
           {
            "colorbar": {
             "outlinewidth": 0,
             "ticks": ""
            },
            "colorscale": [
             [
              0,
              "#0d0887"
             ],
             [
              0.1111111111111111,
              "#46039f"
             ],
             [
              0.2222222222222222,
              "#7201a8"
             ],
             [
              0.3333333333333333,
              "#9c179e"
             ],
             [
              0.4444444444444444,
              "#bd3786"
             ],
             [
              0.5555555555555556,
              "#d8576b"
             ],
             [
              0.6666666666666666,
              "#ed7953"
             ],
             [
              0.7777777777777778,
              "#fb9f3a"
             ],
             [
              0.8888888888888888,
              "#fdca26"
             ],
             [
              1,
              "#f0f921"
             ]
            ],
            "type": "histogram2d"
           }
          ],
          "histogram2dcontour": [
           {
            "colorbar": {
             "outlinewidth": 0,
             "ticks": ""
            },
            "colorscale": [
             [
              0,
              "#0d0887"
             ],
             [
              0.1111111111111111,
              "#46039f"
             ],
             [
              0.2222222222222222,
              "#7201a8"
             ],
             [
              0.3333333333333333,
              "#9c179e"
             ],
             [
              0.4444444444444444,
              "#bd3786"
             ],
             [
              0.5555555555555556,
              "#d8576b"
             ],
             [
              0.6666666666666666,
              "#ed7953"
             ],
             [
              0.7777777777777778,
              "#fb9f3a"
             ],
             [
              0.8888888888888888,
              "#fdca26"
             ],
             [
              1,
              "#f0f921"
             ]
            ],
            "type": "histogram2dcontour"
           }
          ],
          "mesh3d": [
           {
            "colorbar": {
             "outlinewidth": 0,
             "ticks": ""
            },
            "type": "mesh3d"
           }
          ],
          "parcoords": [
           {
            "line": {
             "colorbar": {
              "outlinewidth": 0,
              "ticks": ""
             }
            },
            "type": "parcoords"
           }
          ],
          "pie": [
           {
            "automargin": true,
            "type": "pie"
           }
          ],
          "scatter": [
           {
            "fillpattern": {
             "fillmode": "overlay",
             "size": 10,
             "solidity": 0.2
            },
            "type": "scatter"
           }
          ],
          "scatter3d": [
           {
            "line": {
             "colorbar": {
              "outlinewidth": 0,
              "ticks": ""
             }
            },
            "marker": {
             "colorbar": {
              "outlinewidth": 0,
              "ticks": ""
             }
            },
            "type": "scatter3d"
           }
          ],
          "scattercarpet": [
           {
            "marker": {
             "colorbar": {
              "outlinewidth": 0,
              "ticks": ""
             }
            },
            "type": "scattercarpet"
           }
          ],
          "scattergeo": [
           {
            "marker": {
             "colorbar": {
              "outlinewidth": 0,
              "ticks": ""
             }
            },
            "type": "scattergeo"
           }
          ],
          "scattergl": [
           {
            "marker": {
             "colorbar": {
              "outlinewidth": 0,
              "ticks": ""
             }
            },
            "type": "scattergl"
           }
          ],
          "scattermapbox": [
           {
            "marker": {
             "colorbar": {
              "outlinewidth": 0,
              "ticks": ""
             }
            },
            "type": "scattermapbox"
           }
          ],
          "scatterpolar": [
           {
            "marker": {
             "colorbar": {
              "outlinewidth": 0,
              "ticks": ""
             }
            },
            "type": "scatterpolar"
           }
          ],
          "scatterpolargl": [
           {
            "marker": {
             "colorbar": {
              "outlinewidth": 0,
              "ticks": ""
             }
            },
            "type": "scatterpolargl"
           }
          ],
          "scatterternary": [
           {
            "marker": {
             "colorbar": {
              "outlinewidth": 0,
              "ticks": ""
             }
            },
            "type": "scatterternary"
           }
          ],
          "surface": [
           {
            "colorbar": {
             "outlinewidth": 0,
             "ticks": ""
            },
            "colorscale": [
             [
              0,
              "#0d0887"
             ],
             [
              0.1111111111111111,
              "#46039f"
             ],
             [
              0.2222222222222222,
              "#7201a8"
             ],
             [
              0.3333333333333333,
              "#9c179e"
             ],
             [
              0.4444444444444444,
              "#bd3786"
             ],
             [
              0.5555555555555556,
              "#d8576b"
             ],
             [
              0.6666666666666666,
              "#ed7953"
             ],
             [
              0.7777777777777778,
              "#fb9f3a"
             ],
             [
              0.8888888888888888,
              "#fdca26"
             ],
             [
              1,
              "#f0f921"
             ]
            ],
            "type": "surface"
           }
          ],
          "table": [
           {
            "cells": {
             "fill": {
              "color": "#EBF0F8"
             },
             "line": {
              "color": "white"
             }
            },
            "header": {
             "fill": {
              "color": "#C8D4E3"
             },
             "line": {
              "color": "white"
             }
            },
            "type": "table"
           }
          ]
         },
         "layout": {
          "annotationdefaults": {
           "arrowcolor": "#2a3f5f",
           "arrowhead": 0,
           "arrowwidth": 1
          },
          "autotypenumbers": "strict",
          "coloraxis": {
           "colorbar": {
            "outlinewidth": 0,
            "ticks": ""
           }
          },
          "colorscale": {
           "diverging": [
            [
             0,
             "#8e0152"
            ],
            [
             0.1,
             "#c51b7d"
            ],
            [
             0.2,
             "#de77ae"
            ],
            [
             0.3,
             "#f1b6da"
            ],
            [
             0.4,
             "#fde0ef"
            ],
            [
             0.5,
             "#f7f7f7"
            ],
            [
             0.6,
             "#e6f5d0"
            ],
            [
             0.7,
             "#b8e186"
            ],
            [
             0.8,
             "#7fbc41"
            ],
            [
             0.9,
             "#4d9221"
            ],
            [
             1,
             "#276419"
            ]
           ],
           "sequential": [
            [
             0,
             "#0d0887"
            ],
            [
             0.1111111111111111,
             "#46039f"
            ],
            [
             0.2222222222222222,
             "#7201a8"
            ],
            [
             0.3333333333333333,
             "#9c179e"
            ],
            [
             0.4444444444444444,
             "#bd3786"
            ],
            [
             0.5555555555555556,
             "#d8576b"
            ],
            [
             0.6666666666666666,
             "#ed7953"
            ],
            [
             0.7777777777777778,
             "#fb9f3a"
            ],
            [
             0.8888888888888888,
             "#fdca26"
            ],
            [
             1,
             "#f0f921"
            ]
           ],
           "sequentialminus": [
            [
             0,
             "#0d0887"
            ],
            [
             0.1111111111111111,
             "#46039f"
            ],
            [
             0.2222222222222222,
             "#7201a8"
            ],
            [
             0.3333333333333333,
             "#9c179e"
            ],
            [
             0.4444444444444444,
             "#bd3786"
            ],
            [
             0.5555555555555556,
             "#d8576b"
            ],
            [
             0.6666666666666666,
             "#ed7953"
            ],
            [
             0.7777777777777778,
             "#fb9f3a"
            ],
            [
             0.8888888888888888,
             "#fdca26"
            ],
            [
             1,
             "#f0f921"
            ]
           ]
          },
          "colorway": [
           "#636efa",
           "#EF553B",
           "#00cc96",
           "#ab63fa",
           "#FFA15A",
           "#19d3f3",
           "#FF6692",
           "#B6E880",
           "#FF97FF",
           "#FECB52"
          ],
          "font": {
           "color": "#2a3f5f"
          },
          "geo": {
           "bgcolor": "white",
           "lakecolor": "white",
           "landcolor": "#E5ECF6",
           "showlakes": true,
           "showland": true,
           "subunitcolor": "white"
          },
          "hoverlabel": {
           "align": "left"
          },
          "hovermode": "closest",
          "mapbox": {
           "style": "light"
          },
          "paper_bgcolor": "white",
          "plot_bgcolor": "#E5ECF6",
          "polar": {
           "angularaxis": {
            "gridcolor": "white",
            "linecolor": "white",
            "ticks": ""
           },
           "bgcolor": "#E5ECF6",
           "radialaxis": {
            "gridcolor": "white",
            "linecolor": "white",
            "ticks": ""
           }
          },
          "scene": {
           "xaxis": {
            "backgroundcolor": "#E5ECF6",
            "gridcolor": "white",
            "gridwidth": 2,
            "linecolor": "white",
            "showbackground": true,
            "ticks": "",
            "zerolinecolor": "white"
           },
           "yaxis": {
            "backgroundcolor": "#E5ECF6",
            "gridcolor": "white",
            "gridwidth": 2,
            "linecolor": "white",
            "showbackground": true,
            "ticks": "",
            "zerolinecolor": "white"
           },
           "zaxis": {
            "backgroundcolor": "#E5ECF6",
            "gridcolor": "white",
            "gridwidth": 2,
            "linecolor": "white",
            "showbackground": true,
            "ticks": "",
            "zerolinecolor": "white"
           }
          },
          "shapedefaults": {
           "line": {
            "color": "#2a3f5f"
           }
          },
          "ternary": {
           "aaxis": {
            "gridcolor": "white",
            "linecolor": "white",
            "ticks": ""
           },
           "baxis": {
            "gridcolor": "white",
            "linecolor": "white",
            "ticks": ""
           },
           "bgcolor": "#E5ECF6",
           "caxis": {
            "gridcolor": "white",
            "linecolor": "white",
            "ticks": ""
           }
          },
          "title": {
           "x": 0.05
          },
          "xaxis": {
           "automargin": true,
           "gridcolor": "white",
           "linecolor": "white",
           "ticks": "",
           "title": {
            "standoff": 15
           },
           "zerolinecolor": "white",
           "zerolinewidth": 2
          },
          "yaxis": {
           "automargin": true,
           "gridcolor": "white",
           "linecolor": "white",
           "ticks": "",
           "title": {
            "standoff": 15
           },
           "zerolinecolor": "white",
           "zerolinewidth": 2
          }
         }
        },
        "xaxis": {
         "anchor": "y",
         "domain": [
          0,
          0.15
         ],
         "title": {
          "text": "detection_tpr"
         }
        },
        "xaxis2": {
         "anchor": "y2",
         "domain": [
          0.16999999999999998,
          0.31999999999999995
         ],
         "matches": "x",
         "title": {
          "text": "detection_tpr"
         }
        },
        "xaxis3": {
         "anchor": "y3",
         "domain": [
          0.33999999999999997,
          0.49
         ],
         "matches": "x",
         "title": {
          "text": "detection_tpr"
         }
        },
        "xaxis4": {
         "anchor": "y4",
         "domain": [
          0.51,
          0.66
         ],
         "matches": "x",
         "title": {
          "text": "detection_tpr"
         }
        },
        "xaxis5": {
         "anchor": "y5",
         "domain": [
          0.6799999999999999,
          0.83
         ],
         "matches": "x",
         "title": {
          "text": "detection_tpr"
         }
        },
        "xaxis6": {
         "anchor": "y6",
         "domain": [
          0.85,
          1
         ],
         "matches": "x",
         "title": {
          "text": "detection_tpr"
         }
        },
        "yaxis": {
         "anchor": "x",
         "domain": [
          0,
          1
         ],
         "title": {
          "text": "demographic_parity_user"
         }
        },
        "yaxis2": {
         "anchor": "x2",
         "domain": [
          0,
          1
         ],
         "matches": "y",
         "showticklabels": false
        },
        "yaxis3": {
         "anchor": "x3",
         "domain": [
          0,
          1
         ],
         "matches": "y",
         "showticklabels": false
        },
        "yaxis4": {
         "anchor": "x4",
         "domain": [
          0,
          1
         ],
         "matches": "y",
         "showticklabels": false
        },
        "yaxis5": {
         "anchor": "x5",
         "domain": [
          0,
          1
         ],
         "matches": "y",
         "showticklabels": false
        },
        "yaxis6": {
         "anchor": "x6",
         "domain": [
          0,
          1
         ],
         "matches": "y",
         "showticklabels": false
        }
       }
      }
     },
     "metadata": {},
     "output_type": "display_data"
    }
   ],
   "source": [
    "px.line(\n",
    "    manipulation.sort(\"detection_tpr\").with_columns(\n",
    "        pl.col(\"demographic_parity_user_std\") / sqrt(5)\n",
    "    ),\n",
    "    x=\"detection_tpr\",\n",
    "    y=\"demographic_parity_user\",\n",
    "    error_y=\"demographic_parity_user_std\",\n",
    "    facet_col=\"strategy\",\n",
    "    color=\"strategy_json\",\n",
    ")"
   ]
  },
  {
   "cell_type": "code",
   "execution_count": 24,
   "metadata": {},
   "outputs": [
    {
     "data": {
      "application/vnd.plotly.v1+json": {
       "config": {
        "plotlyServerURL": "https://plot.ly"
       },
       "data": [
        {
         "error_y": {
          "array": [
           0.0013650042416638206,
           0.0014029984873172412,
           0.0011219320845581341,
           0.001663437882605889,
           0.0016024752623447485
          ]
         },
         "hovertemplate": "strategy_json={\"epsilon\":null,\"theta\":0.4}<br>strategy=ROC_mitigation<br>detection_tpr=%{x}<br>utility_user=%{y}<extra></extra>",
         "legendgroup": "{\"epsilon\":null,\"theta\":0.4}",
         "line": {
          "color": "#636efa",
          "dash": "solid"
         },
         "marker": {
          "symbol": "circle"
         },
         "mode": "lines",
         "name": "{\"epsilon\":null,\"theta\":0.4}",
         "orientation": "v",
         "showlegend": true,
         "type": "scatter",
         "x": [
          0,
          0.25,
          0.5,
          0.75,
          1
         ],
         "xaxis": "x",
         "y": [
          0.8508190753549327,
          0.8507608299963596,
          0.8507171459774299,
          0.8507462686567164,
          0.8500764470331271
         ],
         "yaxis": "y"
        },
        {
         "error_y": {
          "array": [
           0.0009980096171068051,
           0.001232778872298901,
           0.001468567232050816,
           0.0013954216187926295,
           0.0013600244455814375
          ]
         },
         "hovertemplate": "strategy_json={\"epsilon\":6.0,\"theta\":null}<br>strategy=randomized_response<br>detection_tpr=%{x}<br>utility_user=%{y}<extra></extra>",
         "legendgroup": "{\"epsilon\":6.0,\"theta\":null}",
         "line": {
          "color": "#EF553B",
          "dash": "solid"
         },
         "marker": {
          "symbol": "circle"
         },
         "mode": "lines",
         "name": "{\"epsilon\":6.0,\"theta\":null}",
         "orientation": "v",
         "showlegend": true,
         "type": "scatter",
         "x": [
          0,
          0.25,
          0.5,
          0.75,
          1
         ],
         "xaxis": "x2",
         "y": [
          0.8510010921004731,
          0.8507462686567164,
          0.8512995995631598,
          0.8509501274117218,
          0.8510957408081543
         ],
         "yaxis": "y2"
        },
        {
         "error_y": {
          "array": [
           0.0015425057399794798,
           0.0012529522978841807,
           0.001266292474039029,
           0.0016316824124702342,
           0.0012983294139153505
          ]
         },
         "hovertemplate": "strategy_json={\"epsilon\":null,\"theta\":0.3333333333333333}<br>strategy=ROC_mitigation<br>detection_tpr=%{x}<br>utility_user=%{y}<extra></extra>",
         "legendgroup": "{\"epsilon\":null,\"theta\":0.3333333333333333}",
         "line": {
          "color": "#00cc96",
          "dash": "solid"
         },
         "marker": {
          "symbol": "circle"
         },
         "mode": "lines",
         "name": "{\"epsilon\":null,\"theta\":0.3333333333333333}",
         "orientation": "v",
         "showlegend": true,
         "type": "scatter",
         "x": [
          0,
          0.25,
          0.5,
          0.75,
          1
         ],
         "xaxis": "x",
         "y": [
          0.8506297779395705,
          0.850789952675646,
          0.8514015289406626,
          0.8509355660720785,
          0.8508918820531489
         ],
         "yaxis": "y"
        },
        {
         "error_y": {
          "array": [
           0.0012683002059846885,
           0.001299227318744485,
           0.0015500475944990732,
           0.0010165859294186926,
           0.0012554459059765592
          ]
         },
         "hovertemplate": "strategy_json={\"epsilon\":null,\"theta\":0.3}<br>strategy=ROC_mitigation<br>detection_tpr=%{x}<br>utility_user=%{y}<extra></extra>",
         "legendgroup": "{\"epsilon\":null,\"theta\":0.3}",
         "line": {
          "color": "#ab63fa",
          "dash": "solid"
         },
         "marker": {
          "symbol": "circle"
         },
         "mode": "lines",
         "name": "{\"epsilon\":null,\"theta\":0.3}",
         "orientation": "v",
         "showlegend": true,
         "type": "scatter",
         "x": [
          0,
          0.25,
          0.5,
          0.75,
          1
         ],
         "xaxis": "x",
         "y": [
          0.8510811794685111,
          0.8506880232981435,
          0.850425919184565,
          0.8515762650163815,
          0.8504404805242082
         ],
         "yaxis": "y"
        },
        {
         "error_y": {
          "array": [
           0.0016776533892382279,
           0.0012828036105853292,
           0.0013945096280941814,
           0.0013232805174653141,
           0.0015242530460023022
          ]
         },
         "hovertemplate": "strategy_json={\"epsilon\":null,\"theta\":0.4666666666666667}<br>strategy=ROC_mitigation<br>detection_tpr=%{x}<br>utility_user=%{y}<extra></extra>",
         "legendgroup": "{\"epsilon\":null,\"theta\":0.4666666666666667}",
         "line": {
          "color": "#FFA15A",
          "dash": "solid"
         },
         "marker": {
          "symbol": "circle"
         },
         "mode": "lines",
         "name": "{\"epsilon\":null,\"theta\":0.4666666666666667}",
         "orientation": "v",
         "showlegend": true,
         "type": "scatter",
         "x": [
          0,
          0.25,
          0.5,
          0.75,
          1
         ],
         "xaxis": "x",
         "y": [
          0.8501346923917001,
          0.8508773207135057,
          0.8512850382235164,
          0.8505424099017109,
          0.8506006552602839
         ],
         "yaxis": "y"
        },
        {
         "error_y": {
          "array": [
           0.0009130203803245173,
           0.001536997511023761,
           0.0015400638948226439,
           0.001335561436319172,
           0.0013010620121833712
          ]
         },
         "hovertemplate": "strategy_json={\"epsilon\":null,\"theta\":null}<br>strategy=always_no<br>detection_tpr=%{x}<br>utility_user=%{y}<extra></extra>",
         "legendgroup": "{\"epsilon\":null,\"theta\":null}",
         "line": {
          "color": "#19d3f3",
          "dash": "solid"
         },
         "marker": {
          "symbol": "circle"
         },
         "mode": "lines",
         "name": "{\"epsilon\":null,\"theta\":null}",
         "orientation": "v",
         "showlegend": true,
         "type": "scatter",
         "x": [
          0,
          0.25,
          0.5,
          0.75,
          1
         ],
         "xaxis": "x3",
         "y": [
          0.8509938114306517,
          0.8503385511467055,
          0.8510957408081543,
          0.8507462686567164,
          0.8512413542045867
         ],
         "yaxis": "y3"
        },
        {
         "error_y": {
          "array": [
           0.001340202747043748,
           0.0015139592259855944,
           0.0014551507419491689,
           0.001313469965097835,
           0.0014635051869395141
          ]
         },
         "hovertemplate": "strategy_json={\"epsilon\":null,\"theta\":null}<br>strategy=model_swap<br>detection_tpr=%{x}<br>utility_user=%{y}<extra></extra>",
         "legendgroup": "{\"epsilon\":null,\"theta\":null}",
         "line": {
          "color": "#19d3f3",
          "dash": "solid"
         },
         "marker": {
          "symbol": "circle"
         },
         "mode": "lines",
         "name": "{\"epsilon\":null,\"theta\":null}",
         "orientation": "v",
         "showlegend": false,
         "type": "scatter",
         "x": [
          0,
          0.25,
          0.5,
          0.75,
          1
         ],
         "xaxis": "x4",
         "y": [
          0.8501092100473243,
          0.8504550418638515,
          0.8512995995631598,
          0.8508481980342193,
          0.8512267928649436
         ],
         "yaxis": "y4"
        },
        {
         "error_y": {
          "array": [
           0.0013111271499973562,
           0.0012605024314001278,
           0.0011837751197205986,
           0.0014643018100559757,
           0.0015280042896885185
          ]
         },
         "hovertemplate": "strategy_json={\"epsilon\":null,\"theta\":null}<br>strategy=always_yes<br>detection_tpr=%{x}<br>utility_user=%{y}<extra></extra>",
         "legendgroup": "{\"epsilon\":null,\"theta\":null}",
         "line": {
          "color": "#19d3f3",
          "dash": "solid"
         },
         "marker": {
          "symbol": "circle"
         },
         "mode": "lines",
         "name": "{\"epsilon\":null,\"theta\":null}",
         "orientation": "v",
         "showlegend": false,
         "type": "scatter",
         "x": [
          0,
          0.25,
          0.5,
          0.75,
          1
         ],
         "xaxis": "x5",
         "y": [
          0.8510374954495814,
          0.8512704768838735,
          0.8504987258827812,
          0.8513287222424463,
          0.8510666181288679
         ],
         "yaxis": "y5"
        },
        {
         "error_y": {
          "array": [
           0.0010757311142140348,
           0.0014285705766544498,
           0.0013262015375683812,
           0.0015890551843033408,
           0.001162173713242663
          ]
         },
         "hovertemplate": "strategy_json={\"epsilon\":null,\"theta\":null}<br>strategy=honest<br>detection_tpr=%{x}<br>utility_user=%{y}<extra></extra>",
         "legendgroup": "{\"epsilon\":null,\"theta\":null}",
         "line": {
          "color": "#19d3f3",
          "dash": "solid"
         },
         "marker": {
          "symbol": "circle"
         },
         "mode": "lines",
         "name": "{\"epsilon\":null,\"theta\":null}",
         "orientation": "v",
         "showlegend": false,
         "type": "scatter",
         "x": [
          0,
          0.25,
          0.5,
          0.75,
          1
         ],
         "xaxis": "x6",
         "y": [
          0.8494033895562836,
          0.8513287222424463,
          0.8509646887513652,
          0.8507753913360029,
          0.850964688751365
         ],
         "yaxis": "y6"
        },
        {
         "error_y": {
          "array": [
           0.0015231397921569522,
           0.001426528301733667,
           0.0012422879569332415,
           0.0013086181232436652,
           0.001477922174757549
          ]
         },
         "hovertemplate": "strategy_json={\"epsilon\":null,\"theta\":0.43333333333333335}<br>strategy=ROC_mitigation<br>detection_tpr=%{x}<br>utility_user=%{y}<extra></extra>",
         "legendgroup": "{\"epsilon\":null,\"theta\":0.43333333333333335}",
         "line": {
          "color": "#FF6692",
          "dash": "solid"
         },
         "marker": {
          "symbol": "circle"
         },
         "mode": "lines",
         "name": "{\"epsilon\":null,\"theta\":0.43333333333333335}",
         "orientation": "v",
         "showlegend": true,
         "type": "scatter",
         "x": [
          0,
          0.25,
          0.5,
          0.75,
          1
         ],
         "xaxis": "x",
         "y": [
          0.850484164543138,
          0.8503094284674189,
          0.8508336366945759,
          0.8509938114306517,
          0.8512122315253002
         ],
         "yaxis": "y"
        },
        {
         "error_y": {
          "array": [
           0.001416073123524892,
           0.0013089826351929594,
           0.0012429704859082784,
           0.0013043173172333866,
           0.0012032724930158914
          ]
         },
         "hovertemplate": "strategy_json={\"epsilon\":2.0,\"theta\":null}<br>strategy=randomized_response<br>detection_tpr=%{x}<br>utility_user=%{y}<extra></extra>",
         "legendgroup": "{\"epsilon\":2.0,\"theta\":null}",
         "line": {
          "color": "#B6E880",
          "dash": "solid"
         },
         "marker": {
          "symbol": "circle"
         },
         "mode": "lines",
         "name": "{\"epsilon\":2.0,\"theta\":null}",
         "orientation": "v",
         "showlegend": true,
         "type": "scatter",
         "x": [
          0,
          0.25,
          0.5,
          0.75,
          1
         ],
         "xaxis": "x2",
         "y": [
          0.8507705375561218,
          0.8506152165999273,
          0.8507025846377866,
          0.8505860939206407,
          0.8507608299963596
         ],
         "yaxis": "y2"
        },
        {
         "error_y": {
          "array": [
           0.0013328995677372051,
           0.0012048573689314311,
           0.0011990801238319815,
           0.0012080208828939155,
           0.0012893981977291807
          ]
         },
         "hovertemplate": "strategy_json={\"epsilon\":null,\"theta\":0.36666666666666664}<br>strategy=ROC_mitigation<br>detection_tpr=%{x}<br>utility_user=%{y}<extra></extra>",
         "legendgroup": "{\"epsilon\":null,\"theta\":0.36666666666666664}",
         "line": {
          "color": "#FF97FF",
          "dash": "solid"
         },
         "marker": {
          "symbol": "circle"
         },
         "mode": "lines",
         "name": "{\"epsilon\":null,\"theta\":0.36666666666666664}",
         "orientation": "v",
         "showlegend": true,
         "type": "scatter",
         "x": [
          0,
          0.25,
          0.5,
          0.75,
          1
         ],
         "xaxis": "x",
         "y": [
          0.8510083727702948,
          0.85071714597743,
          0.851022934109938,
          0.8500182016745541,
          0.8508336366945759
         ],
         "yaxis": "y"
        },
        {
         "error_y": {
          "array": [
           0.0012034046457310126,
           0.001409030647072983,
           0.0017349700225602167,
           0.0012260959263208466,
           0.0013827523569199314
          ]
         },
         "hovertemplate": "strategy_json={\"epsilon\":9.0,\"theta\":null}<br>strategy=randomized_response<br>detection_tpr=%{x}<br>utility_user=%{y}<extra></extra>",
         "legendgroup": "{\"epsilon\":9.0,\"theta\":null}",
         "line": {
          "color": "#FECB52",
          "dash": "solid"
         },
         "marker": {
          "symbol": "circle"
         },
         "mode": "lines",
         "name": "{\"epsilon\":9.0,\"theta\":null}",
         "orientation": "v",
         "showlegend": true,
         "type": "scatter",
         "x": [
          0,
          0.25,
          0.5,
          0.75,
          1
         ],
         "xaxis": "x2",
         "y": [
          0.8499453949763378,
          0.8504696032034946,
          0.8509355660720785,
          0.8512559155442301,
          0.8510374954495813
         ],
         "yaxis": "y2"
        },
        {
         "error_y": {
          "array": [
           0.0014287560932549981,
           0.0014011459440098912,
           0.0010417720122831318,
           0.0012852805459108642,
           0.001312420254817577
          ]
         },
         "hovertemplate": "strategy_json={\"epsilon\":null,\"theta\":0.6}<br>strategy=ROC_mitigation<br>detection_tpr=%{x}<br>utility_user=%{y}<extra></extra>",
         "legendgroup": "{\"epsilon\":null,\"theta\":0.6}",
         "line": {
          "color": "#636efa",
          "dash": "solid"
         },
         "marker": {
          "symbol": "circle"
         },
         "mode": "lines",
         "name": "{\"epsilon\":null,\"theta\":0.6}",
         "orientation": "v",
         "showlegend": true,
         "type": "scatter",
         "x": [
          0,
          0.25,
          0.5,
          0.75,
          1
         ],
         "xaxis": "x",
         "y": [
          0.846596286858391,
          0.8474408445576993,
          0.8462468147069531,
          0.8466836548962504,
          0.8470185657080451
         ],
         "yaxis": "y"
        },
        {
         "error_y": {
          "array": [
           0.0015090494541572944,
           0.0014696496875910429,
           0.0013778367078091608,
           0.0014592976189561273,
           0.0016329813677469682
          ]
         },
         "hovertemplate": "strategy_json={\"epsilon\":null,\"theta\":0.5333333333333333}<br>strategy=ROC_mitigation<br>detection_tpr=%{x}<br>utility_user=%{y}<extra></extra>",
         "legendgroup": "{\"epsilon\":null,\"theta\":0.5333333333333333}",
         "line": {
          "color": "#EF553B",
          "dash": "solid"
         },
         "marker": {
          "symbol": "circle"
         },
         "mode": "lines",
         "name": "{\"epsilon\":null,\"theta\":0.5333333333333333}",
         "orientation": "v",
         "showlegend": true,
         "type": "scatter",
         "x": [
          0,
          0.25,
          0.5,
          0.75,
          1
         ],
         "xaxis": "x",
         "y": [
          0.8498725882781215,
          0.8498289042591919,
          0.8501492537313433,
          0.850542409901711,
          0.8499162722970514
         ],
         "yaxis": "y"
        },
        {
         "error_y": {
          "array": [
           0.001627616495646903,
           0.0012456968621737822,
           0.0014379276817444253,
           0.0011895821341390697,
           0.0015514149017772144
          ]
         },
         "hovertemplate": "strategy_json={\"epsilon\":8.0,\"theta\":null}<br>strategy=randomized_response<br>detection_tpr=%{x}<br>utility_user=%{y}<extra></extra>",
         "legendgroup": "{\"epsilon\":8.0,\"theta\":null}",
         "line": {
          "color": "#00cc96",
          "dash": "solid"
         },
         "marker": {
          "symbol": "circle"
         },
         "mode": "lines",
         "name": "{\"epsilon\":8.0,\"theta\":null}",
         "orientation": "v",
         "showlegend": true,
         "type": "scatter",
         "x": [
          0,
          0.25,
          0.5,
          0.75,
          1
         ],
         "xaxis": "x2",
         "y": [
          0.8499453949763377,
          0.851022934109938,
          0.8508627593738624,
          0.8508627593738624,
          0.8512995995631598
         ],
         "yaxis": "y2"
        },
        {
         "error_y": {
          "array": [
           0.001623050576552472,
           0.0010904975495421272,
           0.0012233691974445078,
           0.0014791411389883057,
           0.0015950483735171802
          ]
         },
         "hovertemplate": "strategy_json={\"epsilon\":null,\"theta\":0.5666666666666667}<br>strategy=ROC_mitigation<br>detection_tpr=%{x}<br>utility_user=%{y}<extra></extra>",
         "legendgroup": "{\"epsilon\":null,\"theta\":0.5666666666666667}",
         "line": {
          "color": "#ab63fa",
          "dash": "solid"
         },
         "marker": {
          "symbol": "circle"
         },
         "mode": "lines",
         "name": "{\"epsilon\":null,\"theta\":0.5666666666666667}",
         "orientation": "v",
         "showlegend": true,
         "type": "scatter",
         "x": [
          0,
          0.25,
          0.5,
          0.75,
          1
         ],
         "xaxis": "x",
         "y": [
          0.8486785584273754,
          0.848722242446305,
          0.8480378594830723,
          0.8485038223516564,
          0.848663997087732
         ],
         "yaxis": "y"
        },
        {
         "error_y": {
          "array": [
           0.0013482285583955567,
           0.0016323320193167767,
           0.0012902201511483823,
           0.0016895233179282571,
           0.0013366722884663282
          ]
         },
         "hovertemplate": "strategy_json={\"epsilon\":3.0,\"theta\":null}<br>strategy=randomized_response<br>detection_tpr=%{x}<br>utility_user=%{y}<extra></extra>",
         "legendgroup": "{\"epsilon\":3.0,\"theta\":null}",
         "line": {
          "color": "#FFA15A",
          "dash": "solid"
         },
         "marker": {
          "symbol": "circle"
         },
         "mode": "lines",
         "name": "{\"epsilon\":3.0,\"theta\":null}",
         "orientation": "v",
         "showlegend": true,
         "type": "scatter",
         "x": [
          0,
          0.25,
          0.5,
          0.75,
          1
         ],
         "xaxis": "x2",
         "y": [
          0.8505885208105813,
          0.850484164543138,
          0.8506880232981434,
          0.8506734619585,
          0.8507899526756463
         ],
         "yaxis": "y2"
        },
        {
         "error_y": {
          "array": [
           0.0013503107456792301,
           0.0012566275818253379,
           0.0017301359492300878,
           0.0012204626584812696,
           0.0012666273170340058
          ]
         },
         "hovertemplate": "strategy_json={\"epsilon\":4.0,\"theta\":null}<br>strategy=randomized_response<br>detection_tpr=%{x}<br>utility_user=%{y}<extra></extra>",
         "legendgroup": "{\"epsilon\":4.0,\"theta\":null}",
         "line": {
          "color": "#19d3f3",
          "dash": "solid"
         },
         "marker": {
          "symbol": "circle"
         },
         "mode": "lines",
         "name": "{\"epsilon\":4.0,\"theta\":null}",
         "orientation": "v",
         "showlegend": true,
         "type": "scatter",
         "x": [
          0,
          0.25,
          0.5,
          0.75,
          1
         ],
         "xaxis": "x2",
         "y": [
          0.8504793107632569,
          0.8509646887513652,
          0.8506006552602839,
          0.8504550418638515,
          0.85071714597743
         ],
         "yaxis": "y2"
        },
        {
         "error_y": {
          "array": [
           0.0013103048265840358,
           0.001460023926794716,
           0.001332501817864824,
           0.001271639381660185,
           0.0013551828181548994
          ]
         },
         "hovertemplate": "strategy_json={\"epsilon\":5.0,\"theta\":null}<br>strategy=randomized_response<br>detection_tpr=%{x}<br>utility_user=%{y}<extra></extra>",
         "legendgroup": "{\"epsilon\":5.0,\"theta\":null}",
         "line": {
          "color": "#FF6692",
          "dash": "solid"
         },
         "marker": {
          "symbol": "circle"
         },
         "mode": "lines",
         "name": "{\"epsilon\":5.0,\"theta\":null}",
         "orientation": "v",
         "showlegend": true,
         "type": "scatter",
         "x": [
          0,
          0.25,
          0.5,
          0.75,
          1
         ],
         "xaxis": "x2",
         "y": [
          0.8499211260769323,
          0.8507317073170733,
          0.8507899526756463,
          0.850484164543138,
          0.8505715325809975
         ],
         "yaxis": "y2"
        },
        {
         "error_y": {
          "array": [
           0.0011677704163931021,
           0.0015602731930797133,
           0.0013195900225985925,
           0.0013045205040800856,
           0.0016220378135414174
          ]
         },
         "hovertemplate": "strategy_json={\"epsilon\":null,\"theta\":0.5}<br>strategy=ROC_mitigation<br>detection_tpr=%{x}<br>utility_user=%{y}<extra></extra>",
         "legendgroup": "{\"epsilon\":null,\"theta\":0.5}",
         "line": {
          "color": "#B6E880",
          "dash": "solid"
         },
         "marker": {
          "symbol": "circle"
         },
         "mode": "lines",
         "name": "{\"epsilon\":null,\"theta\":0.5}",
         "orientation": "v",
         "showlegend": true,
         "type": "scatter",
         "x": [
          0,
          0.25,
          0.5,
          0.75,
          1
         ],
         "xaxis": "x",
         "y": [
          0.8509210047324354,
          0.850789952675646,
          0.8506006552602839,
          0.8510957408081543,
          0.8501783764106298
         ],
         "yaxis": "y"
        },
        {
         "error_y": {
          "array": [
           0.0013552871211562046,
           0.0015798550232799715,
           0.0014366368529357717,
           0.0011933193300937726,
           0.0015678648186659143
          ]
         },
         "hovertemplate": "strategy_json={\"epsilon\":7.0,\"theta\":null}<br>strategy=randomized_response<br>detection_tpr=%{x}<br>utility_user=%{y}<extra></extra>",
         "legendgroup": "{\"epsilon\":7.0,\"theta\":null}",
         "line": {
          "color": "#FF97FF",
          "dash": "solid"
         },
         "marker": {
          "symbol": "circle"
         },
         "mode": "lines",
         "name": "{\"epsilon\":7.0,\"theta\":null}",
         "orientation": "v",
         "showlegend": true,
         "type": "scatter",
         "x": [
          0,
          0.25,
          0.5,
          0.75,
          1
         ],
         "xaxis": "x2",
         "y": [
          0.8502972940177163,
          0.8507753913360029,
          0.850789952675646,
          0.850658900618857,
          0.8504696032034946
         ],
         "yaxis": "y2"
        },
        {
         "error_y": {
          "array": [
           0.0011375410733351712,
           0.0014272712852745075,
           0.001167770416393086,
           0.0013981161081709458,
           0.0013976989921152558
          ]
         },
         "hovertemplate": "strategy_json={\"epsilon\":1.0,\"theta\":null}<br>strategy=randomized_response<br>detection_tpr=%{x}<br>utility_user=%{y}<extra></extra>",
         "legendgroup": "{\"epsilon\":1.0,\"theta\":null}",
         "line": {
          "color": "#FECB52",
          "dash": "solid"
         },
         "marker": {
          "symbol": "circle"
         },
         "mode": "lines",
         "name": "{\"epsilon\":1.0,\"theta\":null}",
         "orientation": "v",
         "showlegend": true,
         "type": "scatter",
         "x": [
          0,
          0.25,
          0.5,
          0.75,
          1
         ],
         "xaxis": "x2",
         "y": [
          0.8500788739230676,
          0.8512559155442301,
          0.8509355660720785,
          0.8507171459774299,
          0.8511976701856572
         ],
         "yaxis": "y2"
        },
        {
         "error_y": {
          "array": [
           0.001254474410975748,
           0.001318665785065125,
           0.0013402366486196158,
           0.0010128769886608676,
           0.0013045611376518455
          ]
         },
         "hovertemplate": "strategy_json={\"epsilon\":10.0,\"theta\":null}<br>strategy=randomized_response<br>detection_tpr=%{x}<br>utility_user=%{y}<extra></extra>",
         "legendgroup": "{\"epsilon\":10.0,\"theta\":null}",
         "line": {
          "color": "#636efa",
          "dash": "solid"
         },
         "marker": {
          "symbol": "circle"
         },
         "mode": "lines",
         "name": "{\"epsilon\":10.0,\"theta\":null}",
         "orientation": "v",
         "showlegend": true,
         "type": "scatter",
         "x": [
          0,
          0.25,
          0.5,
          0.75,
          1
         ],
         "xaxis": "x2",
         "y": [
          0.8502366217692029,
          0.8509792500910084,
          0.8506443392792138,
          0.850658900618857,
          0.8510811794685111
         ],
         "yaxis": "y2"
        }
       ],
       "layout": {
        "annotations": [
         {
          "font": {},
          "showarrow": false,
          "text": "strategy=ROC_mitigation",
          "x": 0.075,
          "xanchor": "center",
          "xref": "paper",
          "y": 1,
          "yanchor": "bottom",
          "yref": "paper"
         },
         {
          "font": {},
          "showarrow": false,
          "text": "strategy=randomized_response",
          "x": 0.24499999999999997,
          "xanchor": "center",
          "xref": "paper",
          "y": 1,
          "yanchor": "bottom",
          "yref": "paper"
         },
         {
          "font": {},
          "showarrow": false,
          "text": "strategy=always_no",
          "x": 0.415,
          "xanchor": "center",
          "xref": "paper",
          "y": 1,
          "yanchor": "bottom",
          "yref": "paper"
         },
         {
          "font": {},
          "showarrow": false,
          "text": "strategy=model_swap",
          "x": 0.585,
          "xanchor": "center",
          "xref": "paper",
          "y": 1,
          "yanchor": "bottom",
          "yref": "paper"
         },
         {
          "font": {},
          "showarrow": false,
          "text": "strategy=always_yes",
          "x": 0.7549999999999999,
          "xanchor": "center",
          "xref": "paper",
          "y": 1,
          "yanchor": "bottom",
          "yref": "paper"
         },
         {
          "font": {},
          "showarrow": false,
          "text": "strategy=honest",
          "x": 0.925,
          "xanchor": "center",
          "xref": "paper",
          "y": 1,
          "yanchor": "bottom",
          "yref": "paper"
         }
        ],
        "legend": {
         "title": {
          "text": "strategy_json"
         },
         "tracegroupgap": 0
        },
        "margin": {
         "t": 60
        },
        "template": {
         "data": {
          "bar": [
           {
            "error_x": {
             "color": "#2a3f5f"
            },
            "error_y": {
             "color": "#2a3f5f"
            },
            "marker": {
             "line": {
              "color": "#E5ECF6",
              "width": 0.5
             },
             "pattern": {
              "fillmode": "overlay",
              "size": 10,
              "solidity": 0.2
             }
            },
            "type": "bar"
           }
          ],
          "barpolar": [
           {
            "marker": {
             "line": {
              "color": "#E5ECF6",
              "width": 0.5
             },
             "pattern": {
              "fillmode": "overlay",
              "size": 10,
              "solidity": 0.2
             }
            },
            "type": "barpolar"
           }
          ],
          "carpet": [
           {
            "aaxis": {
             "endlinecolor": "#2a3f5f",
             "gridcolor": "white",
             "linecolor": "white",
             "minorgridcolor": "white",
             "startlinecolor": "#2a3f5f"
            },
            "baxis": {
             "endlinecolor": "#2a3f5f",
             "gridcolor": "white",
             "linecolor": "white",
             "minorgridcolor": "white",
             "startlinecolor": "#2a3f5f"
            },
            "type": "carpet"
           }
          ],
          "choropleth": [
           {
            "colorbar": {
             "outlinewidth": 0,
             "ticks": ""
            },
            "type": "choropleth"
           }
          ],
          "contour": [
           {
            "colorbar": {
             "outlinewidth": 0,
             "ticks": ""
            },
            "colorscale": [
             [
              0,
              "#0d0887"
             ],
             [
              0.1111111111111111,
              "#46039f"
             ],
             [
              0.2222222222222222,
              "#7201a8"
             ],
             [
              0.3333333333333333,
              "#9c179e"
             ],
             [
              0.4444444444444444,
              "#bd3786"
             ],
             [
              0.5555555555555556,
              "#d8576b"
             ],
             [
              0.6666666666666666,
              "#ed7953"
             ],
             [
              0.7777777777777778,
              "#fb9f3a"
             ],
             [
              0.8888888888888888,
              "#fdca26"
             ],
             [
              1,
              "#f0f921"
             ]
            ],
            "type": "contour"
           }
          ],
          "contourcarpet": [
           {
            "colorbar": {
             "outlinewidth": 0,
             "ticks": ""
            },
            "type": "contourcarpet"
           }
          ],
          "heatmap": [
           {
            "colorbar": {
             "outlinewidth": 0,
             "ticks": ""
            },
            "colorscale": [
             [
              0,
              "#0d0887"
             ],
             [
              0.1111111111111111,
              "#46039f"
             ],
             [
              0.2222222222222222,
              "#7201a8"
             ],
             [
              0.3333333333333333,
              "#9c179e"
             ],
             [
              0.4444444444444444,
              "#bd3786"
             ],
             [
              0.5555555555555556,
              "#d8576b"
             ],
             [
              0.6666666666666666,
              "#ed7953"
             ],
             [
              0.7777777777777778,
              "#fb9f3a"
             ],
             [
              0.8888888888888888,
              "#fdca26"
             ],
             [
              1,
              "#f0f921"
             ]
            ],
            "type": "heatmap"
           }
          ],
          "heatmapgl": [
           {
            "colorbar": {
             "outlinewidth": 0,
             "ticks": ""
            },
            "colorscale": [
             [
              0,
              "#0d0887"
             ],
             [
              0.1111111111111111,
              "#46039f"
             ],
             [
              0.2222222222222222,
              "#7201a8"
             ],
             [
              0.3333333333333333,
              "#9c179e"
             ],
             [
              0.4444444444444444,
              "#bd3786"
             ],
             [
              0.5555555555555556,
              "#d8576b"
             ],
             [
              0.6666666666666666,
              "#ed7953"
             ],
             [
              0.7777777777777778,
              "#fb9f3a"
             ],
             [
              0.8888888888888888,
              "#fdca26"
             ],
             [
              1,
              "#f0f921"
             ]
            ],
            "type": "heatmapgl"
           }
          ],
          "histogram": [
           {
            "marker": {
             "pattern": {
              "fillmode": "overlay",
              "size": 10,
              "solidity": 0.2
             }
            },
            "type": "histogram"
           }
          ],
          "histogram2d": [
           {
            "colorbar": {
             "outlinewidth": 0,
             "ticks": ""
            },
            "colorscale": [
             [
              0,
              "#0d0887"
             ],
             [
              0.1111111111111111,
              "#46039f"
             ],
             [
              0.2222222222222222,
              "#7201a8"
             ],
             [
              0.3333333333333333,
              "#9c179e"
             ],
             [
              0.4444444444444444,
              "#bd3786"
             ],
             [
              0.5555555555555556,
              "#d8576b"
             ],
             [
              0.6666666666666666,
              "#ed7953"
             ],
             [
              0.7777777777777778,
              "#fb9f3a"
             ],
             [
              0.8888888888888888,
              "#fdca26"
             ],
             [
              1,
              "#f0f921"
             ]
            ],
            "type": "histogram2d"
           }
          ],
          "histogram2dcontour": [
           {
            "colorbar": {
             "outlinewidth": 0,
             "ticks": ""
            },
            "colorscale": [
             [
              0,
              "#0d0887"
             ],
             [
              0.1111111111111111,
              "#46039f"
             ],
             [
              0.2222222222222222,
              "#7201a8"
             ],
             [
              0.3333333333333333,
              "#9c179e"
             ],
             [
              0.4444444444444444,
              "#bd3786"
             ],
             [
              0.5555555555555556,
              "#d8576b"
             ],
             [
              0.6666666666666666,
              "#ed7953"
             ],
             [
              0.7777777777777778,
              "#fb9f3a"
             ],
             [
              0.8888888888888888,
              "#fdca26"
             ],
             [
              1,
              "#f0f921"
             ]
            ],
            "type": "histogram2dcontour"
           }
          ],
          "mesh3d": [
           {
            "colorbar": {
             "outlinewidth": 0,
             "ticks": ""
            },
            "type": "mesh3d"
           }
          ],
          "parcoords": [
           {
            "line": {
             "colorbar": {
              "outlinewidth": 0,
              "ticks": ""
             }
            },
            "type": "parcoords"
           }
          ],
          "pie": [
           {
            "automargin": true,
            "type": "pie"
           }
          ],
          "scatter": [
           {
            "fillpattern": {
             "fillmode": "overlay",
             "size": 10,
             "solidity": 0.2
            },
            "type": "scatter"
           }
          ],
          "scatter3d": [
           {
            "line": {
             "colorbar": {
              "outlinewidth": 0,
              "ticks": ""
             }
            },
            "marker": {
             "colorbar": {
              "outlinewidth": 0,
              "ticks": ""
             }
            },
            "type": "scatter3d"
           }
          ],
          "scattercarpet": [
           {
            "marker": {
             "colorbar": {
              "outlinewidth": 0,
              "ticks": ""
             }
            },
            "type": "scattercarpet"
           }
          ],
          "scattergeo": [
           {
            "marker": {
             "colorbar": {
              "outlinewidth": 0,
              "ticks": ""
             }
            },
            "type": "scattergeo"
           }
          ],
          "scattergl": [
           {
            "marker": {
             "colorbar": {
              "outlinewidth": 0,
              "ticks": ""
             }
            },
            "type": "scattergl"
           }
          ],
          "scattermapbox": [
           {
            "marker": {
             "colorbar": {
              "outlinewidth": 0,
              "ticks": ""
             }
            },
            "type": "scattermapbox"
           }
          ],
          "scatterpolar": [
           {
            "marker": {
             "colorbar": {
              "outlinewidth": 0,
              "ticks": ""
             }
            },
            "type": "scatterpolar"
           }
          ],
          "scatterpolargl": [
           {
            "marker": {
             "colorbar": {
              "outlinewidth": 0,
              "ticks": ""
             }
            },
            "type": "scatterpolargl"
           }
          ],
          "scatterternary": [
           {
            "marker": {
             "colorbar": {
              "outlinewidth": 0,
              "ticks": ""
             }
            },
            "type": "scatterternary"
           }
          ],
          "surface": [
           {
            "colorbar": {
             "outlinewidth": 0,
             "ticks": ""
            },
            "colorscale": [
             [
              0,
              "#0d0887"
             ],
             [
              0.1111111111111111,
              "#46039f"
             ],
             [
              0.2222222222222222,
              "#7201a8"
             ],
             [
              0.3333333333333333,
              "#9c179e"
             ],
             [
              0.4444444444444444,
              "#bd3786"
             ],
             [
              0.5555555555555556,
              "#d8576b"
             ],
             [
              0.6666666666666666,
              "#ed7953"
             ],
             [
              0.7777777777777778,
              "#fb9f3a"
             ],
             [
              0.8888888888888888,
              "#fdca26"
             ],
             [
              1,
              "#f0f921"
             ]
            ],
            "type": "surface"
           }
          ],
          "table": [
           {
            "cells": {
             "fill": {
              "color": "#EBF0F8"
             },
             "line": {
              "color": "white"
             }
            },
            "header": {
             "fill": {
              "color": "#C8D4E3"
             },
             "line": {
              "color": "white"
             }
            },
            "type": "table"
           }
          ]
         },
         "layout": {
          "annotationdefaults": {
           "arrowcolor": "#2a3f5f",
           "arrowhead": 0,
           "arrowwidth": 1
          },
          "autotypenumbers": "strict",
          "coloraxis": {
           "colorbar": {
            "outlinewidth": 0,
            "ticks": ""
           }
          },
          "colorscale": {
           "diverging": [
            [
             0,
             "#8e0152"
            ],
            [
             0.1,
             "#c51b7d"
            ],
            [
             0.2,
             "#de77ae"
            ],
            [
             0.3,
             "#f1b6da"
            ],
            [
             0.4,
             "#fde0ef"
            ],
            [
             0.5,
             "#f7f7f7"
            ],
            [
             0.6,
             "#e6f5d0"
            ],
            [
             0.7,
             "#b8e186"
            ],
            [
             0.8,
             "#7fbc41"
            ],
            [
             0.9,
             "#4d9221"
            ],
            [
             1,
             "#276419"
            ]
           ],
           "sequential": [
            [
             0,
             "#0d0887"
            ],
            [
             0.1111111111111111,
             "#46039f"
            ],
            [
             0.2222222222222222,
             "#7201a8"
            ],
            [
             0.3333333333333333,
             "#9c179e"
            ],
            [
             0.4444444444444444,
             "#bd3786"
            ],
            [
             0.5555555555555556,
             "#d8576b"
            ],
            [
             0.6666666666666666,
             "#ed7953"
            ],
            [
             0.7777777777777778,
             "#fb9f3a"
            ],
            [
             0.8888888888888888,
             "#fdca26"
            ],
            [
             1,
             "#f0f921"
            ]
           ],
           "sequentialminus": [
            [
             0,
             "#0d0887"
            ],
            [
             0.1111111111111111,
             "#46039f"
            ],
            [
             0.2222222222222222,
             "#7201a8"
            ],
            [
             0.3333333333333333,
             "#9c179e"
            ],
            [
             0.4444444444444444,
             "#bd3786"
            ],
            [
             0.5555555555555556,
             "#d8576b"
            ],
            [
             0.6666666666666666,
             "#ed7953"
            ],
            [
             0.7777777777777778,
             "#fb9f3a"
            ],
            [
             0.8888888888888888,
             "#fdca26"
            ],
            [
             1,
             "#f0f921"
            ]
           ]
          },
          "colorway": [
           "#636efa",
           "#EF553B",
           "#00cc96",
           "#ab63fa",
           "#FFA15A",
           "#19d3f3",
           "#FF6692",
           "#B6E880",
           "#FF97FF",
           "#FECB52"
          ],
          "font": {
           "color": "#2a3f5f"
          },
          "geo": {
           "bgcolor": "white",
           "lakecolor": "white",
           "landcolor": "#E5ECF6",
           "showlakes": true,
           "showland": true,
           "subunitcolor": "white"
          },
          "hoverlabel": {
           "align": "left"
          },
          "hovermode": "closest",
          "mapbox": {
           "style": "light"
          },
          "paper_bgcolor": "white",
          "plot_bgcolor": "#E5ECF6",
          "polar": {
           "angularaxis": {
            "gridcolor": "white",
            "linecolor": "white",
            "ticks": ""
           },
           "bgcolor": "#E5ECF6",
           "radialaxis": {
            "gridcolor": "white",
            "linecolor": "white",
            "ticks": ""
           }
          },
          "scene": {
           "xaxis": {
            "backgroundcolor": "#E5ECF6",
            "gridcolor": "white",
            "gridwidth": 2,
            "linecolor": "white",
            "showbackground": true,
            "ticks": "",
            "zerolinecolor": "white"
           },
           "yaxis": {
            "backgroundcolor": "#E5ECF6",
            "gridcolor": "white",
            "gridwidth": 2,
            "linecolor": "white",
            "showbackground": true,
            "ticks": "",
            "zerolinecolor": "white"
           },
           "zaxis": {
            "backgroundcolor": "#E5ECF6",
            "gridcolor": "white",
            "gridwidth": 2,
            "linecolor": "white",
            "showbackground": true,
            "ticks": "",
            "zerolinecolor": "white"
           }
          },
          "shapedefaults": {
           "line": {
            "color": "#2a3f5f"
           }
          },
          "ternary": {
           "aaxis": {
            "gridcolor": "white",
            "linecolor": "white",
            "ticks": ""
           },
           "baxis": {
            "gridcolor": "white",
            "linecolor": "white",
            "ticks": ""
           },
           "bgcolor": "#E5ECF6",
           "caxis": {
            "gridcolor": "white",
            "linecolor": "white",
            "ticks": ""
           }
          },
          "title": {
           "x": 0.05
          },
          "xaxis": {
           "automargin": true,
           "gridcolor": "white",
           "linecolor": "white",
           "ticks": "",
           "title": {
            "standoff": 15
           },
           "zerolinecolor": "white",
           "zerolinewidth": 2
          },
          "yaxis": {
           "automargin": true,
           "gridcolor": "white",
           "linecolor": "white",
           "ticks": "",
           "title": {
            "standoff": 15
           },
           "zerolinecolor": "white",
           "zerolinewidth": 2
          }
         }
        },
        "xaxis": {
         "anchor": "y",
         "domain": [
          0,
          0.15
         ],
         "title": {
          "text": "detection_tpr"
         }
        },
        "xaxis2": {
         "anchor": "y2",
         "domain": [
          0.16999999999999998,
          0.31999999999999995
         ],
         "matches": "x",
         "title": {
          "text": "detection_tpr"
         }
        },
        "xaxis3": {
         "anchor": "y3",
         "domain": [
          0.33999999999999997,
          0.49
         ],
         "matches": "x",
         "title": {
          "text": "detection_tpr"
         }
        },
        "xaxis4": {
         "anchor": "y4",
         "domain": [
          0.51,
          0.66
         ],
         "matches": "x",
         "title": {
          "text": "detection_tpr"
         }
        },
        "xaxis5": {
         "anchor": "y5",
         "domain": [
          0.6799999999999999,
          0.83
         ],
         "matches": "x",
         "title": {
          "text": "detection_tpr"
         }
        },
        "xaxis6": {
         "anchor": "y6",
         "domain": [
          0.85,
          1
         ],
         "matches": "x",
         "title": {
          "text": "detection_tpr"
         }
        },
        "yaxis": {
         "anchor": "x",
         "domain": [
          0,
          1
         ],
         "title": {
          "text": "utility_user"
         }
        },
        "yaxis2": {
         "anchor": "x2",
         "domain": [
          0,
          1
         ],
         "matches": "y",
         "showticklabels": false
        },
        "yaxis3": {
         "anchor": "x3",
         "domain": [
          0,
          1
         ],
         "matches": "y",
         "showticklabels": false
        },
        "yaxis4": {
         "anchor": "x4",
         "domain": [
          0,
          1
         ],
         "matches": "y",
         "showticklabels": false
        },
        "yaxis5": {
         "anchor": "x5",
         "domain": [
          0,
          1
         ],
         "matches": "y",
         "showticklabels": false
        },
        "yaxis6": {
         "anchor": "x6",
         "domain": [
          0,
          1
         ],
         "matches": "y",
         "showticklabels": false
        }
       }
      }
     },
     "metadata": {},
     "output_type": "display_data"
    }
   ],
   "source": [
    "px.line(\n",
    "    manipulation.sort(\"detection_tpr\").with_columns(\n",
    "        pl.col(\"utility_user_std\") / sqrt(5)\n",
    "    ),\n",
    "    x=\"detection_tpr\",\n",
    "    y=\"utility_user\",\n",
    "    error_y=\"utility_user_std\",\n",
    "    facet_col=\"strategy\",\n",
    "    color=\"strategy_json\",\n",
    ")"
   ]
  },
  {
   "cell_type": "markdown",
   "metadata": {},
   "source": [
    "# Finding datasets with the largest base rate difference"
   ]
  },
  {
   "cell_type": "code",
   "execution_count": 25,
   "metadata": {},
   "outputs": [],
   "source": [
    "base_rate = pl.read_ndjson(\"../generated/disparities.jsonl\")"
   ]
  },
  {
   "cell_type": "code",
   "execution_count": 26,
   "metadata": {},
   "outputs": [
    {
     "data": {
      "application/vnd.plotly.v1+json": {
       "config": {
        "plotlyServerURL": "https://plot.ly"
       },
       "data": [
        {
         "customdata": [
          [
           47793
          ],
          [
           47476
          ],
          [
           47659
          ],
          [
           47645
          ],
          [
           47777
          ],
          [
           48928
          ],
          [
           49647
          ],
          [
           51580
          ]
         ],
         "hovertemplate": "state=AL<br>group=SEX<br>year=%{x}<br>base_rate=%{y}<br>len=%{customdata[0]}<extra></extra>",
         "legendgroup": "AL",
         "line": {
          "color": "#636efa",
          "dash": "solid"
         },
         "marker": {
          "symbol": "circle"
         },
         "mode": "lines",
         "name": "AL",
         "showlegend": true,
         "type": "scattergl",
         "x": [
          2014,
          2015,
          2016,
          2017,
          2018,
          2019,
          2021,
          2022
         ],
         "xaxis": "x",
         "y": [
          0.06609529720683693,
          0.06524492383775216,
          0.05423545423592835,
          0.06300935407615921,
          0.07051463367952776,
          0.0652161339221346,
          0.058624471930481425,
          0.057314617758041475
         ],
         "yaxis": "y"
        },
        {
         "customdata": [
          [
           47793
          ],
          [
           47476
          ],
          [
           47659
          ],
          [
           47645
          ],
          [
           47777
          ],
          [
           48928
          ],
          [
           49647
          ],
          [
           51580
          ]
         ],
         "hovertemplate": "state=AL<br>group=RAC1P<br>year=%{x}<br>base_rate=%{y}<br>len=%{customdata[0]}<extra></extra>",
         "legendgroup": "AL",
         "line": {
          "color": "#636efa",
          "dash": "solid"
         },
         "marker": {
          "symbol": "circle"
         },
         "mode": "lines",
         "name": "AL",
         "showlegend": false,
         "type": "scattergl",
         "x": [
          2014,
          2015,
          2016,
          2017,
          2018,
          2019,
          2021,
          2022
         ],
         "xaxis": "x2",
         "y": [
          0.21330589849108367,
          0.19531425996846136,
          0.2559607293127629,
          0.22472594397076734,
          0.7692307692307692,
          0.2608695652173913,
          0.5625,
          0.2272019634059232
         ],
         "yaxis": "y2"
        },
        {
         "customdata": [
          [
           47793
          ],
          [
           47476
          ],
          [
           47659
          ],
          [
           47645
          ],
          [
           47777
          ],
          [
           48928
          ],
          [
           49647
          ],
          [
           51580
          ]
         ],
         "hovertemplate": "state=AL<br>group=AGEP<br>year=%{x}<br>base_rate=%{y}<br>len=%{customdata[0]}<extra></extra>",
         "legendgroup": "AL",
         "line": {
          "color": "#636efa",
          "dash": "solid"
         },
         "marker": {
          "symbol": "circle"
         },
         "mode": "lines",
         "name": "AL",
         "showlegend": false,
         "type": "scattergl",
         "x": [
          2014,
          2015,
          2016,
          2017,
          2018,
          2019,
          2021,
          2022
         ],
         "xaxis": "x3",
         "y": [
          0.7403314917127072,
          0.7236421725239617,
          0.79,
          0.7649325626204239,
          0.7548262548262549,
          0.7766990291262136,
          0.7560581583198708,
          0.8080438756855576
         ],
         "yaxis": "y3"
        },
        {
         "customdata": [
          [
           6787
          ],
          [
           6619
          ],
          [
           6815
          ],
          [
           6746
          ],
          [
           6711
          ],
          [
           6663
          ],
          [
           6411
          ],
          [
           6972
          ]
         ],
         "hovertemplate": "state=AK<br>group=SEX<br>year=%{x}<br>base_rate=%{y}<br>len=%{customdata[0]}<extra></extra>",
         "legendgroup": "AK",
         "line": {
          "color": "#EF553B",
          "dash": "solid"
         },
         "marker": {
          "symbol": "circle"
         },
         "mode": "lines",
         "name": "AK",
         "showlegend": true,
         "type": "scattergl",
         "x": [
          2014,
          2015,
          2016,
          2017,
          2018,
          2019,
          2021,
          2022
         ],
         "xaxis": "x",
         "y": [
          0.008411813151290082,
          0.011945988167284316,
          0.011906918315522541,
          0.001297383054219281,
          0.014967923970144237,
          0.03202625597589048,
          0.0034907653699663976,
          0.01221965148079418
         ],
         "yaxis": "y"
        },
        {
         "customdata": [
          [
           6787
          ],
          [
           6619
          ],
          [
           6815
          ],
          [
           6746
          ],
          [
           6711
          ],
          [
           6663
          ],
          [
           6411
          ],
          [
           6972
          ]
         ],
         "hovertemplate": "state=AK<br>group=RAC1P<br>year=%{x}<br>base_rate=%{y}<br>len=%{customdata[0]}<extra></extra>",
         "legendgroup": "AK",
         "line": {
          "color": "#EF553B",
          "dash": "solid"
         },
         "marker": {
          "symbol": "circle"
         },
         "mode": "lines",
         "name": "AK",
         "showlegend": false,
         "type": "scattergl",
         "x": [
          2014,
          2015,
          2016,
          2017,
          2018,
          2019,
          2021,
          2022
         ],
         "xaxis": "x2",
         "y": [
          0.3136727816940008,
          0.3086655526378611,
          0.364407421431276,
          0.3067552602436323,
          0.3891072431218417,
          0.3398755268058414,
          0.24812646370023422,
          0.3160377358490566
         ],
         "yaxis": "y2"
        },
        {
         "customdata": [
          [
           6787
          ],
          [
           6619
          ],
          [
           6815
          ],
          [
           6746
          ],
          [
           6711
          ],
          [
           6663
          ],
          [
           6411
          ],
          [
           6972
          ]
         ],
         "hovertemplate": "state=AK<br>group=AGEP<br>year=%{x}<br>base_rate=%{y}<br>len=%{customdata[0]}<extra></extra>",
         "legendgroup": "AK",
         "line": {
          "color": "#EF553B",
          "dash": "solid"
         },
         "marker": {
          "symbol": "circle"
         },
         "mode": "lines",
         "name": "AK",
         "showlegend": false,
         "type": "scattergl",
         "x": [
          2014,
          2015,
          2016,
          2017,
          2018,
          2019,
          2021,
          2022
         ],
         "xaxis": "x3",
         "y": [
          0.7808219178082192,
          0.8076923076923077,
          0.8072289156626506,
          0.8076923076923077,
          0.8846153846153846,
          0.8378378378378378,
          0.8245614035087719,
          0.7808219178082192
         ],
         "yaxis": "y3"
        },
        {
         "customdata": [
          [
           66177
          ],
          [
           67014
          ],
          [
           68398
          ],
          [
           68863
          ],
          [
           69990
          ],
          [
           70872
          ],
          [
           73025
          ],
          [
           74153
          ]
         ],
         "hovertemplate": "state=AZ<br>group=SEX<br>year=%{x}<br>base_rate=%{y}<br>len=%{customdata[0]}<extra></extra>",
         "legendgroup": "AZ",
         "line": {
          "color": "#00cc96",
          "dash": "solid"
         },
         "marker": {
          "symbol": "circle"
         },
         "mode": "lines",
         "name": "AZ",
         "showlegend": true,
         "type": "scattergl",
         "x": [
          2014,
          2015,
          2016,
          2017,
          2018,
          2019,
          2021,
          2022
         ],
         "xaxis": "x",
         "y": [
          0.05517079245282397,
          0.05134938044854637,
          0.0490898901738786,
          0.05493471714432674,
          0.0489853638788863,
          0.048046044615747074,
          0.05316512842413734,
          0.05599270946409113
         ],
         "yaxis": "y"
        },
        {
         "customdata": [
          [
           66177
          ],
          [
           67014
          ],
          [
           68398
          ],
          [
           68863
          ],
          [
           69990
          ],
          [
           70872
          ],
          [
           73025
          ],
          [
           74153
          ]
         ],
         "hovertemplate": "state=AZ<br>group=RAC1P<br>year=%{x}<br>base_rate=%{y}<br>len=%{customdata[0]}<extra></extra>",
         "legendgroup": "AZ",
         "line": {
          "color": "#00cc96",
          "dash": "solid"
         },
         "marker": {
          "symbol": "circle"
         },
         "mode": "lines",
         "name": "AZ",
         "showlegend": false,
         "type": "scattergl",
         "x": [
          2014,
          2015,
          2016,
          2017,
          2018,
          2019,
          2021,
          2022
         ],
         "xaxis": "x2",
         "y": [
          0.20829876667802938,
          0.2868398106626806,
          0.35459377372817014,
          0.28633651045054725,
          0.22320665492278724,
          0.27261369979532707,
          0.2738658777120315,
          0.33589688041594457
         ],
         "yaxis": "y2"
        },
        {
         "customdata": [
          [
           66177
          ],
          [
           67014
          ],
          [
           68398
          ],
          [
           68863
          ],
          [
           69990
          ],
          [
           70872
          ],
          [
           73025
          ],
          [
           74153
          ]
         ],
         "hovertemplate": "state=AZ<br>group=AGEP<br>year=%{x}<br>base_rate=%{y}<br>len=%{customdata[0]}<extra></extra>",
         "legendgroup": "AZ",
         "line": {
          "color": "#00cc96",
          "dash": "solid"
         },
         "marker": {
          "symbol": "circle"
         },
         "mode": "lines",
         "name": "AZ",
         "showlegend": false,
         "type": "scattergl",
         "x": [
          2014,
          2015,
          2016,
          2017,
          2018,
          2019,
          2021,
          2022
         ],
         "xaxis": "x3",
         "y": [
          0.7471910112359551,
          0.7512886597938144,
          0.7557436517533253,
          0.7523553162853297,
          0.7762982689747004,
          0.7779141104294478,
          0.7571265678449259,
          0.7736720554272517
         ],
         "yaxis": "y3"
        },
        {
         "customdata": [
          [
           29369
          ],
          [
           29605
          ],
          [
           29599
          ],
          [
           30021
          ],
          [
           30503
          ],
          [
           30403
          ],
          [
           30050
          ],
          [
           31288
          ]
         ],
         "hovertemplate": "state=AR<br>group=SEX<br>year=%{x}<br>base_rate=%{y}<br>len=%{customdata[0]}<extra></extra>",
         "legendgroup": "AR",
         "line": {
          "color": "#ab63fa",
          "dash": "solid"
         },
         "marker": {
          "symbol": "circle"
         },
         "mode": "lines",
         "name": "AR",
         "showlegend": true,
         "type": "scattergl",
         "x": [
          2014,
          2015,
          2016,
          2017,
          2018,
          2019,
          2021,
          2022
         ],
         "xaxis": "x",
         "y": [
          0.0648871264324497,
          0.0518633245071663,
          0.047762658732816266,
          0.04166889161373749,
          0.05568380429160352,
          0.04358986527497577,
          0.047000883967460494,
          0.04398193513354243
         ],
         "yaxis": "y"
        },
        {
         "customdata": [
          [
           29369
          ],
          [
           29605
          ],
          [
           29599
          ],
          [
           30021
          ],
          [
           30503
          ],
          [
           30403
          ],
          [
           30050
          ],
          [
           31288
          ]
         ],
         "hovertemplate": "state=AR<br>group=RAC1P<br>year=%{x}<br>base_rate=%{y}<br>len=%{customdata[0]}<extra></extra>",
         "legendgroup": "AR",
         "line": {
          "color": "#ab63fa",
          "dash": "solid"
         },
         "marker": {
          "symbol": "circle"
         },
         "mode": "lines",
         "name": "AR",
         "showlegend": false,
         "type": "scattergl",
         "x": [
          2014,
          2015,
          2016,
          2017,
          2018,
          2019,
          2021,
          2022
         ],
         "xaxis": "x2",
         "y": [
          0.19323835368611486,
          0.49710982658959535,
          0.4728434504792332,
          0.20527213301122638,
          0.24818169342665014,
          0.8378378378378378,
          0.7317073170731707,
          0.37053571428571425
         ],
         "yaxis": "y2"
        },
        {
         "customdata": [
          [
           29369
          ],
          [
           29605
          ],
          [
           29599
          ],
          [
           30021
          ],
          [
           30503
          ],
          [
           30403
          ],
          [
           30050
          ],
          [
           31288
          ]
         ],
         "hovertemplate": "state=AR<br>group=AGEP<br>year=%{x}<br>base_rate=%{y}<br>len=%{customdata[0]}<extra></extra>",
         "legendgroup": "AR",
         "line": {
          "color": "#ab63fa",
          "dash": "solid"
         },
         "marker": {
          "symbol": "circle"
         },
         "mode": "lines",
         "name": "AR",
         "showlegend": false,
         "type": "scattergl",
         "x": [
          2014,
          2015,
          2016,
          2017,
          2018,
          2019,
          2021,
          2022
         ],
         "xaxis": "x3",
         "y": [
          0.7755775577557755,
          0.7617728531855956,
          0.7728706624605678,
          0.760989010989011,
          0.7987616099071208,
          0.7801204819277109,
          0.7628205128205128,
          0.775
         ],
         "yaxis": "y3"
        },
        {
         "customdata": [
          [
           372553
          ],
          [
           374943
          ],
          [
           376035
          ],
          [
           377575
          ],
          [
           378817
          ],
          [
           380091
          ],
          [
           386061
          ],
          [
           391171
          ]
         ],
         "hovertemplate": "state=CA<br>group=SEX<br>year=%{x}<br>base_rate=%{y}<br>len=%{customdata[0]}<extra></extra>",
         "legendgroup": "CA",
         "line": {
          "color": "#FFA15A",
          "dash": "solid"
         },
         "marker": {
          "symbol": "circle"
         },
         "mode": "lines",
         "name": "CA",
         "showlegend": true,
         "type": "scattergl",
         "x": [
          2014,
          2015,
          2016,
          2017,
          2018,
          2019,
          2021,
          2022
         ],
         "xaxis": "x",
         "y": [
          0.07389911412493577,
          0.07191872341420652,
          0.07137077570502254,
          0.07058668402751828,
          0.06826366074613516,
          0.07037769542516437,
          0.06683018902538901,
          0.06265312710231852
         ],
         "yaxis": "y"
        },
        {
         "customdata": [
          [
           372553
          ],
          [
           374943
          ],
          [
           376035
          ],
          [
           377575
          ],
          [
           378817
          ],
          [
           380091
          ],
          [
           386061
          ],
          [
           391171
          ]
         ],
         "hovertemplate": "state=CA<br>group=RAC1P<br>year=%{x}<br>base_rate=%{y}<br>len=%{customdata[0]}<extra></extra>",
         "legendgroup": "CA",
         "line": {
          "color": "#FFA15A",
          "dash": "solid"
         },
         "marker": {
          "symbol": "circle"
         },
         "mode": "lines",
         "name": "CA",
         "showlegend": false,
         "type": "scattergl",
         "x": [
          2014,
          2015,
          2016,
          2017,
          2018,
          2019,
          2021,
          2022
         ],
         "xaxis": "x2",
         "y": [
          0.19095602172486698,
          0.13540775622660606,
          0.1262962463324055,
          0.1328177073461369,
          0.17397796671057358,
          0.1487516054397699,
          0.13494505494505493,
          0.2690646823870896
         ],
         "yaxis": "y2"
        },
        {
         "customdata": [
          [
           372553
          ],
          [
           374943
          ],
          [
           376035
          ],
          [
           377575
          ],
          [
           378817
          ],
          [
           380091
          ],
          [
           386061
          ],
          [
           391171
          ]
         ],
         "hovertemplate": "state=CA<br>group=AGEP<br>year=%{x}<br>base_rate=%{y}<br>len=%{customdata[0]}<extra></extra>",
         "legendgroup": "CA",
         "line": {
          "color": "#FFA15A",
          "dash": "solid"
         },
         "marker": {
          "symbol": "circle"
         },
         "mode": "lines",
         "name": "CA",
         "showlegend": false,
         "type": "scattergl",
         "x": [
          2014,
          2015,
          2016,
          2017,
          2018,
          2019,
          2021,
          2022
         ],
         "xaxis": "x3",
         "y": [
          0.7345431525638321,
          0.7435691318327974,
          0.7589732434196215,
          0.7659714599341383,
          0.7623235362184679,
          0.7838654012079379,
          0.7441453272050776,
          0.7623231890270039
         ],
         "yaxis": "y3"
        },
        {
         "customdata": [
          [
           52929
          ],
          [
           53570
          ],
          [
           54571
          ],
          [
           55600
          ],
          [
           55928
          ],
          [
           57142
          ],
          [
           58131
          ],
          [
           59841
          ]
         ],
         "hovertemplate": "state=CO<br>group=SEX<br>year=%{x}<br>base_rate=%{y}<br>len=%{customdata[0]}<extra></extra>",
         "legendgroup": "CO",
         "line": {
          "color": "#19d3f3",
          "dash": "solid"
         },
         "marker": {
          "symbol": "circle"
         },
         "mode": "lines",
         "name": "CO",
         "showlegend": true,
         "type": "scattergl",
         "x": [
          2014,
          2015,
          2016,
          2017,
          2018,
          2019,
          2021,
          2022
         ],
         "xaxis": "x",
         "y": [
          0.05568378360573101,
          0.0645251127995618,
          0.06224895759767357,
          0.06369267231201953,
          0.062208085033574556,
          0.05794887239482105,
          0.050927212827247215,
          0.045073254096568094
         ],
         "yaxis": "y"
        },
        {
         "customdata": [
          [
           52929
          ],
          [
           53570
          ],
          [
           54571
          ],
          [
           55600
          ],
          [
           55928
          ],
          [
           57142
          ],
          [
           58131
          ],
          [
           59841
          ]
         ],
         "hovertemplate": "state=CO<br>group=RAC1P<br>year=%{x}<br>base_rate=%{y}<br>len=%{customdata[0]}<extra></extra>",
         "legendgroup": "CO",
         "line": {
          "color": "#19d3f3",
          "dash": "solid"
         },
         "marker": {
          "symbol": "circle"
         },
         "mode": "lines",
         "name": "CO",
         "showlegend": false,
         "type": "scattergl",
         "x": [
          2014,
          2015,
          2016,
          2017,
          2018,
          2019,
          2021,
          2022
         ],
         "xaxis": "x2",
         "y": [
          0.5301974448315911,
          0.1509376890502117,
          0.26074600355239785,
          0.2637087491110117,
          0.1489656812237457,
          0.3136363636363636,
          0.1709319975713418,
          0.5463008329250367
         ],
         "yaxis": "y2"
        },
        {
         "customdata": [
          [
           52929
          ],
          [
           53570
          ],
          [
           54571
          ],
          [
           55600
          ],
          [
           55928
          ],
          [
           57142
          ],
          [
           58131
          ],
          [
           59841
          ]
         ],
         "hovertemplate": "state=CO<br>group=AGEP<br>year=%{x}<br>base_rate=%{y}<br>len=%{customdata[0]}<extra></extra>",
         "legendgroup": "CO",
         "line": {
          "color": "#19d3f3",
          "dash": "solid"
         },
         "marker": {
          "symbol": "circle"
         },
         "mode": "lines",
         "name": "CO",
         "showlegend": false,
         "type": "scattergl",
         "x": [
          2014,
          2015,
          2016,
          2017,
          2018,
          2019,
          2021,
          2022
         ],
         "xaxis": "x3",
         "y": [
          0.8269794721407625,
          0.8336025848142165,
          0.8286479250334672,
          0.8340026773761714,
          0.8358620689655173,
          0.8470948012232415,
          0.8067700987306065,
          0.8231780167264038
         ],
         "yaxis": "y3"
        },
        {
         "customdata": [
          [
           35985
          ],
          [
           35787
          ],
          [
           35657
          ],
          [
           35978
          ],
          [
           36287
          ],
          [
           35578
          ],
          [
           36665
          ],
          [
           37369
          ]
         ],
         "hovertemplate": "state=CT<br>group=SEX<br>year=%{x}<br>base_rate=%{y}<br>len=%{customdata[0]}<extra></extra>",
         "legendgroup": "CT",
         "line": {
          "color": "#FF6692",
          "dash": "solid"
         },
         "marker": {
          "symbol": "circle"
         },
         "mode": "lines",
         "name": "CT",
         "showlegend": true,
         "type": "scattergl",
         "x": [
          2014,
          2015,
          2016,
          2017,
          2018,
          2019,
          2021,
          2022
         ],
         "xaxis": "x",
         "y": [
          0.0524983064888811,
          0.05156245255654679,
          0.0547105729572,
          0.03783120817204533,
          0.05352360396961481,
          0.05292468385121407,
          0.04905661021711283,
          0.05207654035432768
         ],
         "yaxis": "y"
        },
        {
         "customdata": [
          [
           35985
          ],
          [
           35787
          ],
          [
           35657
          ],
          [
           35978
          ],
          [
           36287
          ],
          [
           35578
          ],
          [
           36665
          ],
          [
           37369
          ]
         ],
         "hovertemplate": "state=CT<br>group=RAC1P<br>year=%{x}<br>base_rate=%{y}<br>len=%{customdata[0]}<extra></extra>",
         "legendgroup": "CT",
         "line": {
          "color": "#FF6692",
          "dash": "solid"
         },
         "marker": {
          "symbol": "circle"
         },
         "mode": "lines",
         "name": "CT",
         "showlegend": false,
         "type": "scattergl",
         "x": [
          2014,
          2015,
          2016,
          2017,
          2018,
          2019,
          2021,
          2022
         ],
         "xaxis": "x2",
         "y": [
          0.3641304347826087,
          0.6907962771458118,
          0.3254901960784313,
          0.75,
          0.21769128704113228,
          0.26211180124223604,
          0.1822319315492445,
          0.27284011916583917
         ],
         "yaxis": "y2"
        },
        {
         "customdata": [
          [
           35985
          ],
          [
           35787
          ],
          [
           35657
          ],
          [
           35978
          ],
          [
           36287
          ],
          [
           35578
          ],
          [
           36665
          ],
          [
           37369
          ]
         ],
         "hovertemplate": "state=CT<br>group=AGEP<br>year=%{x}<br>base_rate=%{y}<br>len=%{customdata[0]}<extra></extra>",
         "legendgroup": "CT",
         "line": {
          "color": "#FF6692",
          "dash": "solid"
         },
         "marker": {
          "symbol": "circle"
         },
         "mode": "lines",
         "name": "CT",
         "showlegend": false,
         "type": "scattergl",
         "x": [
          2014,
          2015,
          2016,
          2017,
          2018,
          2019,
          2021,
          2022
         ],
         "xaxis": "x3",
         "y": [
          0.8243801652892562,
          0.846820809248555,
          0.8246575342465754,
          0.8266033254156769,
          0.8459657701711492,
          0.8673740053050398,
          0.8388746803069054,
          0.8592592592592593
         ],
         "yaxis": "y3"
        },
        {
         "customdata": [
          [
           9014
          ],
          [
           9017
          ],
          [
           8873
          ],
          [
           8943
          ],
          [
           9123
          ],
          [
           9261
          ],
          [
           9424
          ],
          [
           9641
          ]
         ],
         "hovertemplate": "state=DE<br>group=SEX<br>year=%{x}<br>base_rate=%{y}<br>len=%{customdata[0]}<extra></extra>",
         "legendgroup": "DE",
         "line": {
          "color": "#B6E880",
          "dash": "solid"
         },
         "marker": {
          "symbol": "circle"
         },
         "mode": "lines",
         "name": "DE",
         "showlegend": true,
         "type": "scattergl",
         "x": [
          2014,
          2015,
          2016,
          2017,
          2018,
          2019,
          2021,
          2022
         ],
         "xaxis": "x",
         "y": [
          0.035504528241802724,
          0.04197827914560487,
          0.048142426161168816,
          0.0313816471150124,
          0.04589158154004258,
          0.05562316154399588,
          0.044503000469940046,
          0.058290907184401164
         ],
         "yaxis": "y"
        },
        {
         "customdata": [
          [
           9014
          ],
          [
           9017
          ],
          [
           8873
          ],
          [
           8943
          ],
          [
           9123
          ],
          [
           9261
          ],
          [
           9424
          ],
          [
           9641
          ]
         ],
         "hovertemplate": "state=DE<br>group=RAC1P<br>year=%{x}<br>base_rate=%{y}<br>len=%{customdata[0]}<extra></extra>",
         "legendgroup": "DE",
         "line": {
          "color": "#B6E880",
          "dash": "solid"
         },
         "marker": {
          "symbol": "circle"
         },
         "mode": "lines",
         "name": "DE",
         "showlegend": false,
         "type": "scattergl",
         "x": [
          2014,
          2015,
          2016,
          2017,
          2018,
          2019,
          2021,
          2022
         ],
         "xaxis": "x2",
         "y": [
          0.4433656957928802,
          0.3142857142857143,
          0.39542483660130723,
          0.5555555555555556,
          0.3253205128205128,
          0.7142857142857143,
          0.25183150183150177,
          0.24725274725274726
         ],
         "yaxis": "y2"
        },
        {
         "customdata": [
          [
           9014
          ],
          [
           9017
          ],
          [
           8873
          ],
          [
           8943
          ],
          [
           9123
          ],
          [
           9261
          ],
          [
           9424
          ],
          [
           9641
          ]
         ],
         "hovertemplate": "state=DE<br>group=AGEP<br>year=%{x}<br>base_rate=%{y}<br>len=%{customdata[0]}<extra></extra>",
         "legendgroup": "DE",
         "line": {
          "color": "#B6E880",
          "dash": "solid"
         },
         "marker": {
          "symbol": "circle"
         },
         "mode": "lines",
         "name": "DE",
         "showlegend": false,
         "type": "scattergl",
         "x": [
          2014,
          2015,
          2016,
          2017,
          2018,
          2019,
          2021,
          2022
         ],
         "xaxis": "x3",
         "y": [
          0.8705882352941177,
          0.8305084745762712,
          0.8543689320388349,
          0.8640776699029126,
          0.8636363636363636,
          0.9024390243902439,
          0.8315789473684211,
          0.8518518518518519
         ],
         "yaxis": "y3"
        },
        {
         "customdata": [
          [
           192673
          ],
          [
           194548
          ],
          [
           196828
          ],
          [
           199644
          ],
          [
           202160
          ],
          [
           205294
          ],
          [
           202883
          ],
          [
           217799
          ]
         ],
         "hovertemplate": "state=FL<br>group=SEX<br>year=%{x}<br>base_rate=%{y}<br>len=%{customdata[0]}<extra></extra>",
         "legendgroup": "FL",
         "line": {
          "color": "#FF97FF",
          "dash": "solid"
         },
         "marker": {
          "symbol": "circle"
         },
         "mode": "lines",
         "name": "FL",
         "showlegend": true,
         "type": "scattergl",
         "x": [
          2014,
          2015,
          2016,
          2017,
          2018,
          2019,
          2021,
          2022
         ],
         "xaxis": "x",
         "y": [
          0.04682254226002147,
          0.04405678632965149,
          0.05139860658981882,
          0.05432866787091589,
          0.050039864383859434,
          0.049848761055589996,
          0.054290483432358594,
          0.04873411482048301
         ],
         "yaxis": "y"
        },
        {
         "customdata": [
          [
           192673
          ],
          [
           194548
          ],
          [
           196828
          ],
          [
           199644
          ],
          [
           202160
          ],
          [
           205294
          ],
          [
           202883
          ],
          [
           217799
          ]
         ],
         "hovertemplate": "state=FL<br>group=RAC1P<br>year=%{x}<br>base_rate=%{y}<br>len=%{customdata[0]}<extra></extra>",
         "legendgroup": "FL",
         "line": {
          "color": "#FF97FF",
          "dash": "solid"
         },
         "marker": {
          "symbol": "circle"
         },
         "mode": "lines",
         "name": "FL",
         "showlegend": false,
         "type": "scattergl",
         "x": [
          2014,
          2015,
          2016,
          2017,
          2018,
          2019,
          2021,
          2022
         ],
         "xaxis": "x2",
         "y": [
          0.2692307692307692,
          0.20570124530306305,
          0.24264705882352944,
          0.3198051948051948,
          0.18084166723916262,
          0.5036174342685724,
          0.14965592743196748,
          0.19656613577318427
         ],
         "yaxis": "y2"
        },
        {
         "customdata": [
          [
           192673
          ],
          [
           194548
          ],
          [
           196828
          ],
          [
           199644
          ],
          [
           202160
          ],
          [
           205294
          ],
          [
           202883
          ],
          [
           217799
          ]
         ],
         "hovertemplate": "state=FL<br>group=AGEP<br>year=%{x}<br>base_rate=%{y}<br>len=%{customdata[0]}<extra></extra>",
         "legendgroup": "FL",
         "line": {
          "color": "#FF97FF",
          "dash": "solid"
         },
         "marker": {
          "symbol": "circle"
         },
         "mode": "lines",
         "name": "FL",
         "showlegend": false,
         "type": "scattergl",
         "x": [
          2014,
          2015,
          2016,
          2017,
          2018,
          2019,
          2021,
          2022
         ],
         "xaxis": "x3",
         "y": [
          0.7590004235493435,
          0.7593488781346238,
          0.7789473684210526,
          0.7706175680859225,
          0.7905604719764012,
          0.7912240184757505,
          0.7698339483394834,
          0.7837384744341995
         ],
         "yaxis": "y3"
        },
        {
         "customdata": [
          [
           97519
          ],
          [
           97854
          ],
          [
           98064
          ],
          [
           99799
          ],
          [
           100855
          ],
          [
           101652
          ],
          [
           97104
          ],
          [
           109349
          ]
         ],
         "hovertemplate": "state=GA<br>group=SEX<br>year=%{x}<br>base_rate=%{y}<br>len=%{customdata[0]}<extra></extra>",
         "legendgroup": "GA",
         "line": {
          "color": "#FECB52",
          "dash": "solid"
         },
         "marker": {
          "symbol": "circle"
         },
         "mode": "lines",
         "name": "GA",
         "showlegend": true,
         "type": "scattergl",
         "x": [
          2014,
          2015,
          2016,
          2017,
          2018,
          2019,
          2021,
          2022
         ],
         "xaxis": "x",
         "y": [
          0.04995993154402739,
          0.05256633509444747,
          0.0571642789894356,
          0.05529861298734656,
          0.057391078341319124,
          0.05304515094843709,
          0.04330498056480342,
          0.04967074574957314
         ],
         "yaxis": "y"
        },
        {
         "customdata": [
          [
           97519
          ],
          [
           97854
          ],
          [
           98064
          ],
          [
           99799
          ],
          [
           100855
          ],
          [
           101652
          ],
          [
           97104
          ],
          [
           109349
          ]
         ],
         "hovertemplate": "state=GA<br>group=RAC1P<br>year=%{x}<br>base_rate=%{y}<br>len=%{customdata[0]}<extra></extra>",
         "legendgroup": "GA",
         "line": {
          "color": "#FECB52",
          "dash": "solid"
         },
         "marker": {
          "symbol": "circle"
         },
         "mode": "lines",
         "name": "GA",
         "showlegend": false,
         "type": "scattergl",
         "x": [
          2014,
          2015,
          2016,
          2017,
          2018,
          2019,
          2021,
          2022
         ],
         "xaxis": "x2",
         "y": [
          0.46706766917293235,
          0.6982002768804799,
          0.18810785765377697,
          0.48611111111111105,
          0.4883091311838543,
          0.4863974911799295,
          0.24659565121897647,
          0.5853658536585366
         ],
         "yaxis": "y2"
        },
        {
         "customdata": [
          [
           97519
          ],
          [
           97854
          ],
          [
           98064
          ],
          [
           99799
          ],
          [
           100855
          ],
          [
           101652
          ],
          [
           97104
          ],
          [
           109349
          ]
         ],
         "hovertemplate": "state=GA<br>group=AGEP<br>year=%{x}<br>base_rate=%{y}<br>len=%{customdata[0]}<extra></extra>",
         "legendgroup": "GA",
         "line": {
          "color": "#FECB52",
          "dash": "solid"
         },
         "marker": {
          "symbol": "circle"
         },
         "mode": "lines",
         "name": "GA",
         "showlegend": false,
         "type": "scattergl",
         "x": [
          2014,
          2015,
          2016,
          2017,
          2018,
          2019,
          2021,
          2022
         ],
         "xaxis": "x3",
         "y": [
          0.7548005908419497,
          0.7639639639639639,
          0.774074074074074,
          0.78839590443686,
          0.7873563218390804,
          0.7829457364341085,
          0.7627494456762749,
          0.7856573705179283
         ],
         "yaxis": "y3"
        },
        {
         "customdata": [
          [
           14322
          ],
          [
           14124
          ],
          [
           14247
          ],
          [
           14433
          ],
          [
           14400
          ],
          [
           14228
          ],
          [
           14959
          ],
          [
           14995
          ]
         ],
         "hovertemplate": "state=HI<br>group=SEX<br>year=%{x}<br>base_rate=%{y}<br>len=%{customdata[0]}<extra></extra>",
         "legendgroup": "HI",
         "line": {
          "color": "#636efa",
          "dash": "solid"
         },
         "marker": {
          "symbol": "circle"
         },
         "mode": "lines",
         "name": "HI",
         "showlegend": true,
         "type": "scattergl",
         "x": [
          2014,
          2015,
          2016,
          2017,
          2018,
          2019,
          2021,
          2022
         ],
         "xaxis": "x",
         "y": [
          0.02111004728142757,
          0.03552368902619302,
          0.01218417652904541,
          0.028644199887994215,
          0.0148352249101254,
          0.0064377662046918305,
          0.0035985844834807157,
          0.005587623985347179
         ],
         "yaxis": "y"
        },
        {
         "customdata": [
          [
           14322
          ],
          [
           14124
          ],
          [
           14247
          ],
          [
           14433
          ],
          [
           14400
          ],
          [
           14228
          ],
          [
           14959
          ],
          [
           14995
          ]
         ],
         "hovertemplate": "state=HI<br>group=RAC1P<br>year=%{x}<br>base_rate=%{y}<br>len=%{customdata[0]}<extra></extra>",
         "legendgroup": "HI",
         "line": {
          "color": "#636efa",
          "dash": "solid"
         },
         "marker": {
          "symbol": "circle"
         },
         "mode": "lines",
         "name": "HI",
         "showlegend": false,
         "type": "scattergl",
         "x": [
          2014,
          2015,
          2016,
          2017,
          2018,
          2019,
          2021,
          2022
         ],
         "xaxis": "x2",
         "y": [
          0.4920664903664526,
          0.1980186021147029,
          0.515906477577616,
          0.49500192233756246,
          0.33333333333333337,
          0.4172413793103449,
          0.22708370199964606,
          0.22444444444444445
         ],
         "yaxis": "y2"
        },
        {
         "customdata": [
          [
           14322
          ],
          [
           14124
          ],
          [
           14247
          ],
          [
           14433
          ],
          [
           14400
          ],
          [
           14228
          ],
          [
           14959
          ],
          [
           14995
          ]
         ],
         "hovertemplate": "state=HI<br>group=AGEP<br>year=%{x}<br>base_rate=%{y}<br>len=%{customdata[0]}<extra></extra>",
         "legendgroup": "HI",
         "line": {
          "color": "#636efa",
          "dash": "solid"
         },
         "marker": {
          "symbol": "circle"
         },
         "mode": "lines",
         "name": "HI",
         "showlegend": false,
         "type": "scattergl",
         "x": [
          2014,
          2015,
          2016,
          2017,
          2018,
          2019,
          2021,
          2022
         ],
         "xaxis": "x3",
         "y": [
          0.7857142857142857,
          0.8383838383838383,
          0.8395061728395061,
          0.8146067415730337,
          0.875,
          0.8353658536585366,
          0.8430232558139535,
          0.8502673796791443
         ],
         "yaxis": "y3"
        },
        {
         "customdata": [
          [
           15602
          ],
          [
           15725
          ],
          [
           15955
          ],
          [
           16536
          ],
          [
           16711
          ],
          [
           17360
          ],
          [
           17936
          ],
          [
           19884
          ]
         ],
         "hovertemplate": "state=ID<br>group=SEX<br>year=%{x}<br>base_rate=%{y}<br>len=%{customdata[0]}<extra></extra>",
         "legendgroup": "ID",
         "line": {
          "color": "#EF553B",
          "dash": "solid"
         },
         "marker": {
          "symbol": "circle"
         },
         "mode": "lines",
         "name": "ID",
         "showlegend": true,
         "type": "scattergl",
         "x": [
          2014,
          2015,
          2016,
          2017,
          2018,
          2019,
          2021,
          2022
         ],
         "xaxis": "x",
         "y": [
          0.0720371546414948,
          0.06263315404214015,
          0.08685302761232733,
          0.06778030338437868,
          0.08365887657551685,
          0.07272550769423364,
          0.05861672438441684,
          0.05859763115339228
         ],
         "yaxis": "y"
        },
        {
         "customdata": [
          [
           15602
          ],
          [
           15725
          ],
          [
           15955
          ],
          [
           16536
          ],
          [
           16711
          ],
          [
           17360
          ],
          [
           17936
          ],
          [
           19884
          ]
         ],
         "hovertemplate": "state=ID<br>group=RAC1P<br>year=%{x}<br>base_rate=%{y}<br>len=%{customdata[0]}<extra></extra>",
         "legendgroup": "ID",
         "line": {
          "color": "#EF553B",
          "dash": "solid"
         },
         "marker": {
          "symbol": "circle"
         },
         "mode": "lines",
         "name": "ID",
         "showlegend": false,
         "type": "scattergl",
         "x": [
          2014,
          2015,
          2016,
          2017,
          2018,
          2019,
          2021,
          2022
         ],
         "xaxis": "x2",
         "y": [
          0.4463087248322148,
          0.5514705882352942,
          0.18572093219980546,
          0.26708074534161486,
          0.18282485875706217,
          0.2722462722462723,
          0.3670886075949367,
          0.16296296296296303
         ],
         "yaxis": "y2"
        },
        {
         "customdata": [
          [
           15602
          ],
          [
           15725
          ],
          [
           15955
          ],
          [
           16536
          ],
          [
           16711
          ],
          [
           17360
          ],
          [
           17936
          ],
          [
           19884
          ]
         ],
         "hovertemplate": "state=ID<br>group=AGEP<br>year=%{x}<br>base_rate=%{y}<br>len=%{customdata[0]}<extra></extra>",
         "legendgroup": "ID",
         "line": {
          "color": "#EF553B",
          "dash": "solid"
         },
         "marker": {
          "symbol": "circle"
         },
         "mode": "lines",
         "name": "ID",
         "showlegend": false,
         "type": "scattergl",
         "x": [
          2014,
          2015,
          2016,
          2017,
          2018,
          2019,
          2021,
          2022
         ],
         "xaxis": "x3",
         "y": [
          0.8244274809160306,
          0.8113207547169812,
          0.8378378378378378,
          0.8591549295774648,
          0.8275862068965517,
          0.8571428571428571,
          0.8287292817679558,
          0.8189300411522634
         ],
         "yaxis": "y3"
        },
        {
         "customdata": [
          [
           126650
          ],
          [
           126642
          ],
          [
           126334
          ],
          [
           126482
          ],
          [
           126456
          ],
          [
           125007
          ],
          [
           126623
          ],
          [
           128046
          ]
         ],
         "hovertemplate": "state=IL<br>group=SEX<br>year=%{x}<br>base_rate=%{y}<br>len=%{customdata[0]}<extra></extra>",
         "legendgroup": "IL",
         "line": {
          "color": "#00cc96",
          "dash": "solid"
         },
         "marker": {
          "symbol": "circle"
         },
         "mode": "lines",
         "name": "IL",
         "showlegend": true,
         "type": "scattergl",
         "x": [
          2014,
          2015,
          2016,
          2017,
          2018,
          2019,
          2021,
          2022
         ],
         "xaxis": "x",
         "y": [
          0.05620552345081814,
          0.05756205299056877,
          0.05369305225464621,
          0.05840053851951493,
          0.055427389866144705,
          0.05163035625894691,
          0.05243989319392256,
          0.05321077613798175
         ],
         "yaxis": "y"
        },
        {
         "customdata": [
          [
           126650
          ],
          [
           126642
          ],
          [
           126334
          ],
          [
           126482
          ],
          [
           126456
          ],
          [
           125007
          ],
          [
           126623
          ],
          [
           128046
          ]
         ],
         "hovertemplate": "state=IL<br>group=RAC1P<br>year=%{x}<br>base_rate=%{y}<br>len=%{customdata[0]}<extra></extra>",
         "legendgroup": "IL",
         "line": {
          "color": "#00cc96",
          "dash": "solid"
         },
         "marker": {
          "symbol": "circle"
         },
         "mode": "lines",
         "name": "IL",
         "showlegend": false,
         "type": "scattergl",
         "x": [
          2014,
          2015,
          2016,
          2017,
          2018,
          2019,
          2021,
          2022
         ],
         "xaxis": "x2",
         "y": [
          0.2418069678279713,
          0.5909090909090909,
          0.23426130295478825,
          0.22349122100324625,
          0.4888888888888889,
          0.16834836824746613,
          0.1851092896174863,
          0.36538461538461536
         ],
         "yaxis": "y2"
        },
        {
         "customdata": [
          [
           126650
          ],
          [
           126642
          ],
          [
           126334
          ],
          [
           126482
          ],
          [
           126456
          ],
          [
           125007
          ],
          [
           126623
          ],
          [
           128046
          ]
         ],
         "hovertemplate": "state=IL<br>group=AGEP<br>year=%{x}<br>base_rate=%{y}<br>len=%{customdata[0]}<extra></extra>",
         "legendgroup": "IL",
         "line": {
          "color": "#00cc96",
          "dash": "solid"
         },
         "marker": {
          "symbol": "circle"
         },
         "mode": "lines",
         "name": "IL",
         "showlegend": false,
         "type": "scattergl",
         "x": [
          2014,
          2015,
          2016,
          2017,
          2018,
          2019,
          2021,
          2022
         ],
         "xaxis": "x3",
         "y": [
          0.7985125084516566,
          0.7864680322780881,
          0.8096430807764559,
          0.8031446540880504,
          0.8206850235057085,
          0.8192934782608695,
          0.7972465581977471,
          0.8184319119669876
         ],
         "yaxis": "y3"
        },
        {
         "customdata": [
          [
           66555
          ],
          [
           66045
          ],
          [
           66262
          ],
          [
           67004
          ],
          [
           67680
          ],
          [
           67445
          ],
          [
           68122
          ],
          [
           69843
          ]
         ],
         "hovertemplate": "state=IN<br>group=SEX<br>year=%{x}<br>base_rate=%{y}<br>len=%{customdata[0]}<extra></extra>",
         "legendgroup": "IN",
         "line": {
          "color": "#ab63fa",
          "dash": "solid"
         },
         "marker": {
          "symbol": "circle"
         },
         "mode": "lines",
         "name": "IN",
         "showlegend": true,
         "type": "scattergl",
         "x": [
          2014,
          2015,
          2016,
          2017,
          2018,
          2019,
          2021,
          2022
         ],
         "xaxis": "x",
         "y": [
          0.05927672806504547,
          0.06927652827899322,
          0.061267106464718446,
          0.056668620804840864,
          0.06366703500860832,
          0.05920952529039464,
          0.06569493844075786,
          0.05797458133616851
         ],
         "yaxis": "y"
        },
        {
         "customdata": [
          [
           66555
          ],
          [
           66045
          ],
          [
           66262
          ],
          [
           67004
          ],
          [
           67680
          ],
          [
           67445
          ],
          [
           68122
          ],
          [
           69843
          ]
         ],
         "hovertemplate": "state=IN<br>group=RAC1P<br>year=%{x}<br>base_rate=%{y}<br>len=%{customdata[0]}<extra></extra>",
         "legendgroup": "IN",
         "line": {
          "color": "#ab63fa",
          "dash": "solid"
         },
         "marker": {
          "symbol": "circle"
         },
         "mode": "lines",
         "name": "IN",
         "showlegend": false,
         "type": "scattergl",
         "x": [
          2014,
          2015,
          2016,
          2017,
          2018,
          2019,
          2021,
          2022
         ],
         "xaxis": "x2",
         "y": [
          0.7104642014162077,
          0.1779750474826134,
          0.7167414050822123,
          0.3708200212992545,
          0.262862437322869,
          0.25702380952380954,
          0.49194167306216424,
          0.22881094952951236
         ],
         "yaxis": "y2"
        },
        {
         "customdata": [
          [
           66555
          ],
          [
           66045
          ],
          [
           66262
          ],
          [
           67004
          ],
          [
           67680
          ],
          [
           67445
          ],
          [
           68122
          ],
          [
           69843
          ]
         ],
         "hovertemplate": "state=IN<br>group=AGEP<br>year=%{x}<br>base_rate=%{y}<br>len=%{customdata[0]}<extra></extra>",
         "legendgroup": "IN",
         "line": {
          "color": "#ab63fa",
          "dash": "solid"
         },
         "marker": {
          "symbol": "circle"
         },
         "mode": "lines",
         "name": "IN",
         "showlegend": false,
         "type": "scattergl",
         "x": [
          2014,
          2015,
          2016,
          2017,
          2018,
          2019,
          2021,
          2022
         ],
         "xaxis": "x3",
         "y": [
          0.7839335180055401,
          0.7888127853881278,
          0.7969151670951157,
          0.8119402985074626,
          0.8175675675675675,
          0.815365551425031,
          0.8068783068783069,
          0.8144458281444583
         ],
         "yaxis": "y3"
        },
        {
         "customdata": [
          [
           31819
          ],
          [
           31900
          ],
          [
           32106
          ],
          [
           32456
          ],
          [
           32362
          ],
          [
           32721
          ],
          [
           32572
          ],
          [
           33586
          ]
         ],
         "hovertemplate": "state=IA<br>group=SEX<br>year=%{x}<br>base_rate=%{y}<br>len=%{customdata[0]}<extra></extra>",
         "legendgroup": "IA",
         "line": {
          "color": "#FFA15A",
          "dash": "solid"
         },
         "marker": {
          "symbol": "circle"
         },
         "mode": "lines",
         "name": "IA",
         "showlegend": true,
         "type": "scattergl",
         "x": [
          2014,
          2015,
          2016,
          2017,
          2018,
          2019,
          2021,
          2022
         ],
         "xaxis": "x",
         "y": [
          0.04809808458264908,
          0.053436001115065246,
          0.04449612404845593,
          0.04877135458616405,
          0.056760489285571314,
          0.041240794055819985,
          0.05052057345913491,
          0.041563669344958754
         ],
         "yaxis": "y"
        },
        {
         "customdata": [
          [
           31819
          ],
          [
           31900
          ],
          [
           32106
          ],
          [
           32456
          ],
          [
           32362
          ],
          [
           32721
          ],
          [
           32572
          ],
          [
           33586
          ]
         ],
         "hovertemplate": "state=IA<br>group=RAC1P<br>year=%{x}<br>base_rate=%{y}<br>len=%{customdata[0]}<extra></extra>",
         "legendgroup": "IA",
         "line": {
          "color": "#FFA15A",
          "dash": "solid"
         },
         "marker": {
          "symbol": "circle"
         },
         "mode": "lines",
         "name": "IA",
         "showlegend": false,
         "type": "scattergl",
         "x": [
          2014,
          2015,
          2016,
          2017,
          2018,
          2019,
          2021,
          2022
         ],
         "xaxis": "x2",
         "y": [
          0.4234234234234234,
          0.24360144482611756,
          0.5,
          0.24325259515570935,
          0.3042542655201909,
          0.8,
          0.27459016393442626,
          0.25142857142857145
         ],
         "yaxis": "y2"
        },
        {
         "customdata": [
          [
           31819
          ],
          [
           31900
          ],
          [
           32106
          ],
          [
           32456
          ],
          [
           32362
          ],
          [
           32721
          ],
          [
           32572
          ],
          [
           33586
          ]
         ],
         "hovertemplate": "state=IA<br>group=AGEP<br>year=%{x}<br>base_rate=%{y}<br>len=%{customdata[0]}<extra></extra>",
         "legendgroup": "IA",
         "line": {
          "color": "#FFA15A",
          "dash": "solid"
         },
         "marker": {
          "symbol": "circle"
         },
         "mode": "lines",
         "name": "IA",
         "showlegend": false,
         "type": "scattergl",
         "x": [
          2014,
          2015,
          2016,
          2017,
          2018,
          2019,
          2021,
          2022
         ],
         "xaxis": "x3",
         "y": [
          0.8526011560693642,
          0.8854166666666666,
          0.8957654723127035,
          0.8895184135977338,
          0.8735632183908046,
          0.8712871287128713,
          0.8636363636363636,
          0.8957219251336899
         ],
         "yaxis": "y3"
        },
        {
         "customdata": [
          [
           28802
          ],
          [
           28774
          ],
          [
           28590
          ],
          [
           29374
          ],
          [
           29567
          ],
          [
           29697
          ],
          [
           28957
          ],
          [
           29940
          ]
         ],
         "hovertemplate": "state=KS<br>group=SEX<br>year=%{x}<br>base_rate=%{y}<br>len=%{customdata[0]}<extra></extra>",
         "legendgroup": "KS",
         "line": {
          "color": "#19d3f3",
          "dash": "solid"
         },
         "marker": {
          "symbol": "circle"
         },
         "mode": "lines",
         "name": "KS",
         "showlegend": true,
         "type": "scattergl",
         "x": [
          2014,
          2015,
          2016,
          2017,
          2018,
          2019,
          2021,
          2022
         ],
         "xaxis": "x",
         "y": [
          0.06039626005420129,
          0.05709631217894007,
          0.05313194763970269,
          0.06365567221865609,
          0.059791587335280005,
          0.060329154388640394,
          0.05002314370854671,
          0.048557837088263
         ],
         "yaxis": "y"
        },
        {
         "customdata": [
          [
           28802
          ],
          [
           28774
          ],
          [
           28590
          ],
          [
           29374
          ],
          [
           29567
          ],
          [
           29697
          ],
          [
           28957
          ],
          [
           29940
          ]
         ],
         "hovertemplate": "state=KS<br>group=RAC1P<br>year=%{x}<br>base_rate=%{y}<br>len=%{customdata[0]}<extra></extra>",
         "legendgroup": "KS",
         "line": {
          "color": "#19d3f3",
          "dash": "solid"
         },
         "marker": {
          "symbol": "circle"
         },
         "mode": "lines",
         "name": "KS",
         "showlegend": false,
         "type": "scattergl",
         "x": [
          2014,
          2015,
          2016,
          2017,
          2018,
          2019,
          2021,
          2022
         ],
         "xaxis": "x2",
         "y": [
          0.5833333333333334,
          0.1974169741697417,
          0.6678966789667897,
          0.18555194805194808,
          0.507223113964687,
          0.29047661951527165,
          0.3779940119760479,
          0.6201117318435754
         ],
         "yaxis": "y2"
        },
        {
         "customdata": [
          [
           28802
          ],
          [
           28774
          ],
          [
           28590
          ],
          [
           29374
          ],
          [
           29567
          ],
          [
           29697
          ],
          [
           28957
          ],
          [
           29940
          ]
         ],
         "hovertemplate": "state=KS<br>group=AGEP<br>year=%{x}<br>base_rate=%{y}<br>len=%{customdata[0]}<extra></extra>",
         "legendgroup": "KS",
         "line": {
          "color": "#19d3f3",
          "dash": "solid"
         },
         "marker": {
          "symbol": "circle"
         },
         "mode": "lines",
         "name": "KS",
         "showlegend": false,
         "type": "scattergl",
         "x": [
          2014,
          2015,
          2016,
          2017,
          2018,
          2019,
          2021,
          2022
         ],
         "xaxis": "x3",
         "y": [
          0.8208092485549133,
          0.8433333333333334,
          0.8434504792332268,
          0.84765625,
          0.830945558739255,
          0.8571428571428571,
          0.8436482084690554,
          0.8686131386861314
         ],
         "yaxis": "y3"
        },
        {
         "customdata": [
          [
           44868
          ],
          [
           44749
          ],
          [
           44739
          ],
          [
           45209
          ],
          [
           45475
          ],
          [
           45649
          ],
          [
           45892
          ],
          [
           46605
          ]
         ],
         "hovertemplate": "state=KY<br>group=SEX<br>year=%{x}<br>base_rate=%{y}<br>len=%{customdata[0]}<extra></extra>",
         "legendgroup": "KY",
         "line": {
          "color": "#FF6692",
          "dash": "solid"
         },
         "marker": {
          "symbol": "circle"
         },
         "mode": "lines",
         "name": "KY",
         "showlegend": true,
         "type": "scattergl",
         "x": [
          2014,
          2015,
          2016,
          2017,
          2018,
          2019,
          2021,
          2022
         ],
         "xaxis": "x",
         "y": [
          0.0506769770842358,
          0.05378980113057946,
          0.04708504775973238,
          0.05107864904954529,
          0.04950666360705297,
          0.04578271449848659,
          0.04723834564775775,
          0.05525771195289342
         ],
         "yaxis": "y"
        },
        {
         "customdata": [
          [
           44868
          ],
          [
           44749
          ],
          [
           44739
          ],
          [
           45209
          ],
          [
           45475
          ],
          [
           45649
          ],
          [
           45892
          ],
          [
           46605
          ]
         ],
         "hovertemplate": "state=KY<br>group=RAC1P<br>year=%{x}<br>base_rate=%{y}<br>len=%{customdata[0]}<extra></extra>",
         "legendgroup": "KY",
         "line": {
          "color": "#FF6692",
          "dash": "solid"
         },
         "marker": {
          "symbol": "circle"
         },
         "mode": "lines",
         "name": "KY",
         "showlegend": false,
         "type": "scattergl",
         "x": [
          2014,
          2015,
          2016,
          2017,
          2018,
          2019,
          2021,
          2022
         ],
         "xaxis": "x2",
         "y": [
          0.33128078817733986,
          0.45238095238095233,
          0.5,
          0.4144736842105263,
          0.2290748898678414,
          0.25112309074573225,
          0.4720965309200603,
          0.18556755057121888
         ],
         "yaxis": "y2"
        },
        {
         "customdata": [
          [
           44868
          ],
          [
           44749
          ],
          [
           44739
          ],
          [
           45209
          ],
          [
           45475
          ],
          [
           45649
          ],
          [
           45892
          ],
          [
           46605
          ]
         ],
         "hovertemplate": "state=KY<br>group=AGEP<br>year=%{x}<br>base_rate=%{y}<br>len=%{customdata[0]}<extra></extra>",
         "legendgroup": "KY",
         "line": {
          "color": "#FF6692",
          "dash": "solid"
         },
         "marker": {
          "symbol": "circle"
         },
         "mode": "lines",
         "name": "KY",
         "showlegend": false,
         "type": "scattergl",
         "x": [
          2014,
          2015,
          2016,
          2017,
          2018,
          2019,
          2021,
          2022
         ],
         "xaxis": "x3",
         "y": [
          0.7454873646209387,
          0.7427536231884058,
          0.760593220338983,
          0.7627450980392156,
          0.7673076923076924,
          0.7933884297520661,
          0.764344262295082,
          0.7798507462686567
         ],
         "yaxis": "y3"
        },
        {
         "customdata": [
          [
           43908
          ],
          [
           43892
          ],
          [
           43598
          ],
          [
           44024
          ],
          [
           43589
          ],
          [
           43896
          ],
          [
           43663
          ],
          [
           45040
          ]
         ],
         "hovertemplate": "state=LA<br>group=SEX<br>year=%{x}<br>base_rate=%{y}<br>len=%{customdata[0]}<extra></extra>",
         "legendgroup": "LA",
         "line": {
          "color": "#B6E880",
          "dash": "solid"
         },
         "marker": {
          "symbol": "circle"
         },
         "mode": "lines",
         "name": "LA",
         "showlegend": true,
         "type": "scattergl",
         "x": [
          2014,
          2015,
          2016,
          2017,
          2018,
          2019,
          2021,
          2022
         ],
         "xaxis": "x",
         "y": [
          0.049054181740023683,
          0.048318222818648005,
          0.03473990136242883,
          0.04238767804936289,
          0.0303694718729417,
          0.04128247901703075,
          0.03304035223996232,
          0.036573035172235646
         ],
         "yaxis": "y"
        },
        {
         "customdata": [
          [
           43908
          ],
          [
           43892
          ],
          [
           43598
          ],
          [
           44024
          ],
          [
           43589
          ],
          [
           43896
          ],
          [
           43663
          ],
          [
           45040
          ]
         ],
         "hovertemplate": "state=LA<br>group=RAC1P<br>year=%{x}<br>base_rate=%{y}<br>len=%{customdata[0]}<extra></extra>",
         "legendgroup": "LA",
         "line": {
          "color": "#B6E880",
          "dash": "solid"
         },
         "marker": {
          "symbol": "circle"
         },
         "mode": "lines",
         "name": "LA",
         "showlegend": false,
         "type": "scattergl",
         "x": [
          2014,
          2015,
          2016,
          2017,
          2018,
          2019,
          2021,
          2022
         ],
         "xaxis": "x2",
         "y": [
          0.48413793103448277,
          0.4702549575070821,
          0.3508667065152421,
          0.2362966374942423,
          0.6776447105788423,
          0.22754137115839246,
          0.4697674418604651,
          0.5028968713789108
         ],
         "yaxis": "y2"
        },
        {
         "customdata": [
          [
           43908
          ],
          [
           43892
          ],
          [
           43598
          ],
          [
           44024
          ],
          [
           43589
          ],
          [
           43896
          ],
          [
           43663
          ],
          [
           45040
          ]
         ],
         "hovertemplate": "state=LA<br>group=AGEP<br>year=%{x}<br>base_rate=%{y}<br>len=%{customdata[0]}<extra></extra>",
         "legendgroup": "LA",
         "line": {
          "color": "#B6E880",
          "dash": "solid"
         },
         "marker": {
          "symbol": "circle"
         },
         "mode": "lines",
         "name": "LA",
         "showlegend": false,
         "type": "scattergl",
         "x": [
          2014,
          2015,
          2016,
          2017,
          2018,
          2019,
          2021,
          2022
         ],
         "xaxis": "x3",
         "y": [
          0.743421052631579,
          0.7670588235294118,
          0.7573839662447257,
          0.7527675276752768,
          0.7468123861566485,
          0.7653631284916201,
          0.7658227848101266,
          0.7593984962406015
         ],
         "yaxis": "y3"
        },
        {
         "customdata": [
          [
           12962
          ],
          [
           13059
          ],
          [
           12460
          ],
          [
           12583
          ],
          [
           13275
          ],
          [
           13493
          ],
          [
           13883
          ],
          [
           14523
          ]
         ],
         "hovertemplate": "state=ME<br>group=SEX<br>year=%{x}<br>base_rate=%{y}<br>len=%{customdata[0]}<extra></extra>",
         "legendgroup": "ME",
         "line": {
          "color": "#FF97FF",
          "dash": "solid"
         },
         "marker": {
          "symbol": "circle"
         },
         "mode": "lines",
         "name": "ME",
         "showlegend": true,
         "type": "scattergl",
         "x": [
          2014,
          2015,
          2016,
          2017,
          2018,
          2019,
          2021,
          2022
         ],
         "xaxis": "x",
         "y": [
          0.029361387953904028,
          0.03481975862723374,
          0.036787288297738974,
          0.022079338301850937,
          0.02223203534467827,
          0.03495712244710936,
          0.011274777968378058,
          0.017649330088353454
         ],
         "yaxis": "y"
        },
        {
         "customdata": [
          [
           12962
          ],
          [
           13059
          ],
          [
           12460
          ],
          [
           12583
          ],
          [
           13275
          ],
          [
           13493
          ],
          [
           13883
          ],
          [
           14523
          ]
         ],
         "hovertemplate": "state=ME<br>group=RAC1P<br>year=%{x}<br>base_rate=%{y}<br>len=%{customdata[0]}<extra></extra>",
         "legendgroup": "ME",
         "line": {
          "color": "#FF97FF",
          "dash": "solid"
         },
         "marker": {
          "symbol": "circle"
         },
         "mode": "lines",
         "name": "ME",
         "showlegend": false,
         "type": "scattergl",
         "x": [
          2014,
          2015,
          2016,
          2017,
          2018,
          2019,
          2021,
          2022
         ],
         "xaxis": "x2",
         "y": [
          0.7625,
          0.2847222222222222,
          1,
          0.46511627906976744,
          0.2849326599326599,
          0.24997101449275366,
          0.6666666666666666,
          0.6818181818181819
         ],
         "yaxis": "y2"
        },
        {
         "customdata": [
          [
           12962
          ],
          [
           13059
          ],
          [
           12460
          ],
          [
           12583
          ],
          [
           13275
          ],
          [
           13493
          ],
          [
           13883
          ],
          [
           14523
          ]
         ],
         "hovertemplate": "state=ME<br>group=AGEP<br>year=%{x}<br>base_rate=%{y}<br>len=%{customdata[0]}<extra></extra>",
         "legendgroup": "ME",
         "line": {
          "color": "#FF97FF",
          "dash": "solid"
         },
         "marker": {
          "symbol": "circle"
         },
         "mode": "lines",
         "name": "ME",
         "showlegend": false,
         "type": "scattergl",
         "x": [
          2014,
          2015,
          2016,
          2017,
          2018,
          2019,
          2021,
          2022
         ],
         "xaxis": "x3",
         "y": [
          0.8248175182481752,
          0.8741258741258742,
          0.8271604938271605,
          0.831858407079646,
          0.8552631578947368,
          0.8496732026143791,
          0.8620689655172413,
          0.8333333333333334
         ],
         "yaxis": "y3"
        },
        {
         "customdata": [
          [
           58876
          ],
          [
           59332
          ],
          [
           59408
          ],
          [
           59463
          ],
          [
           59840
          ],
          [
           60237
          ],
          [
           62853
          ],
          [
           62442
          ]
         ],
         "hovertemplate": "state=MD<br>group=SEX<br>year=%{x}<br>base_rate=%{y}<br>len=%{customdata[0]}<extra></extra>",
         "legendgroup": "MD",
         "line": {
          "color": "#FECB52",
          "dash": "solid"
         },
         "marker": {
          "symbol": "circle"
         },
         "mode": "lines",
         "name": "MD",
         "showlegend": true,
         "type": "scattergl",
         "x": [
          2014,
          2015,
          2016,
          2017,
          2018,
          2019,
          2021,
          2022
         ],
         "xaxis": "x",
         "y": [
          0.04778073600462007,
          0.04538369417587629,
          0.03906318033893952,
          0.04898998876406996,
          0.04624984803942972,
          0.04162874692397839,
          0.03485825879875831,
          0.04563628519966578
         ],
         "yaxis": "y"
        },
        {
         "customdata": [
          [
           58876
          ],
          [
           59332
          ],
          [
           59408
          ],
          [
           59463
          ],
          [
           59840
          ],
          [
           60237
          ],
          [
           62853
          ],
          [
           62442
          ]
         ],
         "hovertemplate": "state=MD<br>group=RAC1P<br>year=%{x}<br>base_rate=%{y}<br>len=%{customdata[0]}<extra></extra>",
         "legendgroup": "MD",
         "line": {
          "color": "#FECB52",
          "dash": "solid"
         },
         "marker": {
          "symbol": "circle"
         },
         "mode": "lines",
         "name": "MD",
         "showlegend": false,
         "type": "scattergl",
         "x": [
          2014,
          2015,
          2016,
          2017,
          2018,
          2019,
          2021,
          2022
         ],
         "xaxis": "x2",
         "y": [
          0.21848739495798314,
          0.453119633657699,
          0.2781649245063879,
          0.2121212121212121,
          0.6474677259185699,
          0.16465061857976154,
          0.5819209039548022,
          0.6091954022988506
         ],
         "yaxis": "y2"
        },
        {
         "customdata": [
          [
           58876
          ],
          [
           59332
          ],
          [
           59408
          ],
          [
           59463
          ],
          [
           59840
          ],
          [
           60237
          ],
          [
           62853
          ],
          [
           62442
          ]
         ],
         "hovertemplate": "state=MD<br>group=AGEP<br>year=%{x}<br>base_rate=%{y}<br>len=%{customdata[0]}<extra></extra>",
         "legendgroup": "MD",
         "line": {
          "color": "#FECB52",
          "dash": "solid"
         },
         "marker": {
          "symbol": "circle"
         },
         "mode": "lines",
         "name": "MD",
         "showlegend": false,
         "type": "scattergl",
         "x": [
          2014,
          2015,
          2016,
          2017,
          2018,
          2019,
          2021,
          2022
         ],
         "xaxis": "x3",
         "y": [
          0.8193069306930693,
          0.8204182041820418,
          0.8421052631578947,
          0.8302354399008675,
          0.8529014844804319,
          0.8414634146341463,
          0.8156808803301238,
          0.8485237483953787
         ],
         "yaxis": "y3"
        },
        {
         "customdata": [
          [
           68544
          ],
          [
           68785
          ],
          [
           69126
          ],
          [
           69635
          ],
          [
           70131
          ],
          [
           70579
          ],
          [
           73108
          ],
          [
           73077
          ]
         ],
         "hovertemplate": "state=MA<br>group=SEX<br>year=%{x}<br>base_rate=%{y}<br>len=%{customdata[0]}<extra></extra>",
         "legendgroup": "MA",
         "line": {
          "color": "#636efa",
          "dash": "solid"
         },
         "marker": {
          "symbol": "circle"
         },
         "mode": "lines",
         "name": "MA",
         "showlegend": true,
         "type": "scattergl",
         "x": [
          2014,
          2015,
          2016,
          2017,
          2018,
          2019,
          2021,
          2022
         ],
         "xaxis": "x",
         "y": [
          0.0383351601510169,
          0.03685367046175775,
          0.03482795644730974,
          0.04420163048122927,
          0.036303707226641,
          0.043575604547748725,
          0.03908645844910441,
          0.03858510607690602
         ],
         "yaxis": "y"
        },
        {
         "customdata": [
          [
           68544
          ],
          [
           68785
          ],
          [
           69126
          ],
          [
           69635
          ],
          [
           70131
          ],
          [
           70579
          ],
          [
           73108
          ],
          [
           73077
          ]
         ],
         "hovertemplate": "state=MA<br>group=RAC1P<br>year=%{x}<br>base_rate=%{y}<br>len=%{customdata[0]}<extra></extra>",
         "legendgroup": "MA",
         "line": {
          "color": "#636efa",
          "dash": "solid"
         },
         "marker": {
          "symbol": "circle"
         },
         "mode": "lines",
         "name": "MA",
         "showlegend": false,
         "type": "scattergl",
         "x": [
          2014,
          2015,
          2016,
          2017,
          2018,
          2019,
          2021,
          2022
         ],
         "xaxis": "x2",
         "y": [
          0.2749590834697218,
          0.6491228070175439,
          0.2617242844998583,
          0.2238095238095238,
          0.6167846309403437,
          0.3287890938251804,
          0.478494623655914,
          0.174468085106383
         ],
         "yaxis": "y2"
        },
        {
         "customdata": [
          [
           68544
          ],
          [
           68785
          ],
          [
           69126
          ],
          [
           69635
          ],
          [
           70131
          ],
          [
           70579
          ],
          [
           73108
          ],
          [
           73077
          ]
         ],
         "hovertemplate": "state=MA<br>group=AGEP<br>year=%{x}<br>base_rate=%{y}<br>len=%{customdata[0]}<extra></extra>",
         "legendgroup": "MA",
         "line": {
          "color": "#636efa",
          "dash": "solid"
         },
         "marker": {
          "symbol": "circle"
         },
         "mode": "lines",
         "name": "MA",
         "showlegend": false,
         "type": "scattergl",
         "x": [
          2014,
          2015,
          2016,
          2017,
          2018,
          2019,
          2021,
          2022
         ],
         "xaxis": "x3",
         "y": [
          0.8083333333333333,
          0.8331053351573188,
          0.841248303934871,
          0.8344671201814059,
          0.862116991643454,
          0.8480565371024735,
          0.8220338983050848,
          0.8533916849015317
         ],
         "yaxis": "y3"
        },
        {
         "customdata": [
          [
           98180
          ],
          [
           98008
          ],
          [
           98145
          ],
          [
           99459
          ],
          [
           99419
          ],
          [
           100078
          ],
          [
           99040
          ],
          [
           101512
          ]
         ],
         "hovertemplate": "state=MI<br>group=SEX<br>year=%{x}<br>base_rate=%{y}<br>len=%{customdata[0]}<extra></extra>",
         "legendgroup": "MI",
         "line": {
          "color": "#EF553B",
          "dash": "solid"
         },
         "marker": {
          "symbol": "circle"
         },
         "mode": "lines",
         "name": "MI",
         "showlegend": true,
         "type": "scattergl",
         "x": [
          2014,
          2015,
          2016,
          2017,
          2018,
          2019,
          2021,
          2022
         ],
         "xaxis": "x",
         "y": [
          0.046231255251509784,
          0.05130551688413898,
          0.04415711603103767,
          0.04846007025430338,
          0.052683169485923054,
          0.05765325930478432,
          0.05465341772660043,
          0.05210540011849535
         ],
         "yaxis": "y"
        },
        {
         "customdata": [
          [
           98180
          ],
          [
           98008
          ],
          [
           98145
          ],
          [
           99459
          ],
          [
           99419
          ],
          [
           100078
          ],
          [
           99040
          ],
          [
           101512
          ]
         ],
         "hovertemplate": "state=MI<br>group=RAC1P<br>year=%{x}<br>base_rate=%{y}<br>len=%{customdata[0]}<extra></extra>",
         "legendgroup": "MI",
         "line": {
          "color": "#EF553B",
          "dash": "solid"
         },
         "marker": {
          "symbol": "circle"
         },
         "mode": "lines",
         "name": "MI",
         "showlegend": false,
         "type": "scattergl",
         "x": [
          2014,
          2015,
          2016,
          2017,
          2018,
          2019,
          2021,
          2022
         ],
         "xaxis": "x2",
         "y": [
          0.47152466367713003,
          0.19395932104457547,
          0.31999999999999995,
          0.6912193091968373,
          0.1607452191064231,
          0.2542804728903384,
          0.28940269749518305,
          0.6385356454720617
         ],
         "yaxis": "y2"
        },
        {
         "customdata": [
          [
           98180
          ],
          [
           98008
          ],
          [
           98145
          ],
          [
           99459
          ],
          [
           99419
          ],
          [
           100078
          ],
          [
           99040
          ],
          [
           101512
          ]
         ],
         "hovertemplate": "state=MI<br>group=AGEP<br>year=%{x}<br>base_rate=%{y}<br>len=%{customdata[0]}<extra></extra>",
         "legendgroup": "MI",
         "line": {
          "color": "#EF553B",
          "dash": "solid"
         },
         "marker": {
          "symbol": "circle"
         },
         "mode": "lines",
         "name": "MI",
         "showlegend": false,
         "type": "scattergl",
         "x": [
          2014,
          2015,
          2016,
          2017,
          2018,
          2019,
          2021,
          2022
         ],
         "xaxis": "x3",
         "y": [
          0.7768281101614435,
          0.7806244995996797,
          0.7922178988326848,
          0.8151340996168582,
          0.7838589981447124,
          0.8016997167138811,
          0.7813411078717201,
          0.7893789378937894
         ],
         "yaxis": "y3"
        },
        {
         "customdata": [
          [
           54297
          ],
          [
           54811
          ],
          [
           54115
          ],
          [
           55161
          ],
          [
           55783
          ],
          [
           56670
          ],
          [
           56636
          ],
          [
           58984
          ]
         ],
         "hovertemplate": "state=MN<br>group=SEX<br>year=%{x}<br>base_rate=%{y}<br>len=%{customdata[0]}<extra></extra>",
         "legendgroup": "MN",
         "line": {
          "color": "#00cc96",
          "dash": "solid"
         },
         "marker": {
          "symbol": "circle"
         },
         "mode": "lines",
         "name": "MN",
         "showlegend": true,
         "type": "scattergl",
         "x": [
          2014,
          2015,
          2016,
          2017,
          2018,
          2019,
          2021,
          2022
         ],
         "xaxis": "x",
         "y": [
          0.04030928915095633,
          0.03895757209084405,
          0.04501321547456061,
          0.04519210325834827,
          0.04257223491093037,
          0.04041514575711269,
          0.03958624967055707,
          0.03877221682660453
         ],
         "yaxis": "y"
        },
        {
         "customdata": [
          [
           54297
          ],
          [
           54811
          ],
          [
           54115
          ],
          [
           55161
          ],
          [
           55783
          ],
          [
           56670
          ],
          [
           56636
          ],
          [
           58984
          ]
         ],
         "hovertemplate": "state=MN<br>group=RAC1P<br>year=%{x}<br>base_rate=%{y}<br>len=%{customdata[0]}<extra></extra>",
         "legendgroup": "MN",
         "line": {
          "color": "#00cc96",
          "dash": "solid"
         },
         "marker": {
          "symbol": "circle"
         },
         "mode": "lines",
         "name": "MN",
         "showlegend": false,
         "type": "scattergl",
         "x": [
          2014,
          2015,
          2016,
          2017,
          2018,
          2019,
          2021,
          2022
         ],
         "xaxis": "x2",
         "y": [
          0.5073217295935983,
          0.22293225082259976,
          0.26781389134245903,
          0.22666363419222785,
          0.7777777777777778,
          0.2447330447330448,
          0.3076066790352505,
          0.5324751316559392
         ],
         "yaxis": "y2"
        },
        {
         "customdata": [
          [
           54297
          ],
          [
           54811
          ],
          [
           54115
          ],
          [
           55161
          ],
          [
           55783
          ],
          [
           56670
          ],
          [
           56636
          ],
          [
           58984
          ]
         ],
         "hovertemplate": "state=MN<br>group=AGEP<br>year=%{x}<br>base_rate=%{y}<br>len=%{customdata[0]}<extra></extra>",
         "legendgroup": "MN",
         "line": {
          "color": "#00cc96",
          "dash": "solid"
         },
         "marker": {
          "symbol": "circle"
         },
         "mode": "lines",
         "name": "MN",
         "showlegend": false,
         "type": "scattergl",
         "x": [
          2014,
          2015,
          2016,
          2017,
          2018,
          2019,
          2021,
          2022
         ],
         "xaxis": "x3",
         "y": [
          0.8592814371257484,
          0.874113475177305,
          0.8669527896995708,
          0.8756302521008403,
          0.8806509945750453,
          0.8778979907264297,
          0.8678955453149002,
          0.8705501618122977
         ],
         "yaxis": "y3"
        },
        {
         "customdata": [
          [
           29255
          ],
          [
           29600
          ],
          [
           28986
          ],
          [
           29096
          ],
          [
           29124
          ],
          [
           29217
          ],
          [
           28572
          ],
          [
           29796
          ]
         ],
         "hovertemplate": "state=MS<br>group=SEX<br>year=%{x}<br>base_rate=%{y}<br>len=%{customdata[0]}<extra></extra>",
         "legendgroup": "MS",
         "line": {
          "color": "#ab63fa",
          "dash": "solid"
         },
         "marker": {
          "symbol": "circle"
         },
         "mode": "lines",
         "name": "MS",
         "showlegend": true,
         "type": "scattergl",
         "x": [
          2014,
          2015,
          2016,
          2017,
          2018,
          2019,
          2021,
          2022
         ],
         "xaxis": "x",
         "y": [
          0.0414768892005119,
          0.04272514658409643,
          0.04049551216836844,
          0.037401463815281255,
          0.043712696761336656,
          0.03727461569249296,
          0.03278064776995948,
          0.028923981618843686
         ],
         "yaxis": "y"
        },
        {
         "customdata": [
          [
           29255
          ],
          [
           29600
          ],
          [
           28986
          ],
          [
           29096
          ],
          [
           29124
          ],
          [
           29217
          ],
          [
           28572
          ],
          [
           29796
          ]
         ],
         "hovertemplate": "state=MS<br>group=RAC1P<br>year=%{x}<br>base_rate=%{y}<br>len=%{customdata[0]}<extra></extra>",
         "legendgroup": "MS",
         "line": {
          "color": "#ab63fa",
          "dash": "solid"
         },
         "marker": {
          "symbol": "circle"
         },
         "mode": "lines",
         "name": "MS",
         "showlegend": false,
         "type": "scattergl",
         "x": [
          2014,
          2015,
          2016,
          2017,
          2018,
          2019,
          2021,
          2022
         ],
         "xaxis": "x2",
         "y": [
          0.35328614762386246,
          0.34777448071216616,
          0.48868778280542985,
          0.35555555555555557,
          0.20769787497493042,
          0.6666666666666666,
          0.49,
          0.49122807017543857
         ],
         "yaxis": "y2"
        },
        {
         "customdata": [
          [
           29255
          ],
          [
           29600
          ],
          [
           28986
          ],
          [
           29096
          ],
          [
           29124
          ],
          [
           29217
          ],
          [
           28572
          ],
          [
           29796
          ]
         ],
         "hovertemplate": "state=MS<br>group=AGEP<br>year=%{x}<br>base_rate=%{y}<br>len=%{customdata[0]}<extra></extra>",
         "legendgroup": "MS",
         "line": {
          "color": "#ab63fa",
          "dash": "solid"
         },
         "marker": {
          "symbol": "circle"
         },
         "mode": "lines",
         "name": "MS",
         "showlegend": false,
         "type": "scattergl",
         "x": [
          2014,
          2015,
          2016,
          2017,
          2018,
          2019,
          2021,
          2022
         ],
         "xaxis": "x3",
         "y": [
          0.74,
          0.7598784194528876,
          0.743421052631579,
          0.7596153846153846,
          0.7620578778135049,
          0.7727272727272727,
          0.7550335570469798,
          0.7597402597402597
         ],
         "yaxis": "y3"
        },
        {
         "customdata": [
          [
           61394
          ],
          [
           61586
          ],
          [
           61923
          ],
          [
           62073
          ],
          [
           62416
          ],
          [
           63174
          ],
          [
           62254
          ],
          [
           64551
          ]
         ],
         "hovertemplate": "state=MO<br>group=SEX<br>year=%{x}<br>base_rate=%{y}<br>len=%{customdata[0]}<extra></extra>",
         "legendgroup": "MO",
         "line": {
          "color": "#FFA15A",
          "dash": "solid"
         },
         "marker": {
          "symbol": "circle"
         },
         "mode": "lines",
         "name": "MO",
         "showlegend": true,
         "type": "scattergl",
         "x": [
          2014,
          2015,
          2016,
          2017,
          2018,
          2019,
          2021,
          2022
         ],
         "xaxis": "x",
         "y": [
          0.039646683002450556,
          0.04491590951675545,
          0.04887073558779187,
          0.044759537928009685,
          0.04880727826927839,
          0.04715886791463064,
          0.04122298765011018,
          0.04522197131502054
         ],
         "yaxis": "y"
        },
        {
         "customdata": [
          [
           61394
          ],
          [
           61586
          ],
          [
           61923
          ],
          [
           62073
          ],
          [
           62416
          ],
          [
           63174
          ],
          [
           62254
          ],
          [
           64551
          ]
         ],
         "hovertemplate": "state=MO<br>group=RAC1P<br>year=%{x}<br>base_rate=%{y}<br>len=%{customdata[0]}<extra></extra>",
         "legendgroup": "MO",
         "line": {
          "color": "#FFA15A",
          "dash": "solid"
         },
         "marker": {
          "symbol": "circle"
         },
         "mode": "lines",
         "name": "MO",
         "showlegend": false,
         "type": "scattergl",
         "x": [
          2014,
          2015,
          2016,
          2017,
          2018,
          2019,
          2021,
          2022
         ],
         "xaxis": "x2",
         "y": [
          0.4888888888888889,
          0.3166666666666667,
          0.2236579821647141,
          0.49530956848030017,
          0.2952029520295203,
          0.24793388429752067,
          0.25457648153893886,
          0.5163727959697733
         ],
         "yaxis": "y2"
        },
        {
         "customdata": [
          [
           61394
          ],
          [
           61586
          ],
          [
           61923
          ],
          [
           62073
          ],
          [
           62416
          ],
          [
           63174
          ],
          [
           62254
          ],
          [
           64551
          ]
         ],
         "hovertemplate": "state=MO<br>group=AGEP<br>year=%{x}<br>base_rate=%{y}<br>len=%{customdata[0]}<extra></extra>",
         "legendgroup": "MO",
         "line": {
          "color": "#FFA15A",
          "dash": "solid"
         },
         "marker": {
          "symbol": "circle"
         },
         "mode": "lines",
         "name": "MO",
         "showlegend": false,
         "type": "scattergl",
         "x": [
          2014,
          2015,
          2016,
          2017,
          2018,
          2019,
          2021,
          2022
         ],
         "xaxis": "x3",
         "y": [
          0.7967479674796748,
          0.796969696969697,
          0.8204334365325078,
          0.81089258698941,
          0.8128834355828221,
          0.8009188361408882,
          0.816923076923077,
          0.8185053380782918
         ],
         "yaxis": "y3"
        },
        {
         "customdata": [
          [
           9878
          ],
          [
           9841
          ],
          [
           10161
          ],
          [
           10221
          ],
          [
           10336
          ],
          [
           10649
          ],
          [
           10615
          ],
          [
           11116
          ]
         ],
         "hovertemplate": "state=MT<br>group=SEX<br>year=%{x}<br>base_rate=%{y}<br>len=%{customdata[0]}<extra></extra>",
         "legendgroup": "MT",
         "line": {
          "color": "#19d3f3",
          "dash": "solid"
         },
         "marker": {
          "symbol": "circle"
         },
         "mode": "lines",
         "name": "MT",
         "showlegend": true,
         "type": "scattergl",
         "x": [
          2014,
          2015,
          2016,
          2017,
          2018,
          2019,
          2021,
          2022
         ],
         "xaxis": "x",
         "y": [
          0.03687049062049064,
          0.05074682651091805,
          0.040151395972228554,
          0.042915192315482686,
          0.03834952043485895,
          0.046523124647748715,
          0.05498835507221217,
          0.044555830675878205
         ],
         "yaxis": "y"
        },
        {
         "customdata": [
          [
           9878
          ],
          [
           9841
          ],
          [
           10161
          ],
          [
           10221
          ],
          [
           10336
          ],
          [
           10649
          ],
          [
           10615
          ],
          [
           11116
          ]
         ],
         "hovertemplate": "state=MT<br>group=RAC1P<br>year=%{x}<br>base_rate=%{y}<br>len=%{customdata[0]}<extra></extra>",
         "legendgroup": "MT",
         "line": {
          "color": "#19d3f3",
          "dash": "solid"
         },
         "marker": {
          "symbol": "circle"
         },
         "mode": "lines",
         "name": "MT",
         "showlegend": false,
         "type": "scattergl",
         "x": [
          2014,
          2015,
          2016,
          2017,
          2018,
          2019,
          2021,
          2022
         ],
         "xaxis": "x2",
         "y": [
          1,
          0.5714285714285714,
          0.5652173913043478,
          0.4718381112984823,
          0.5,
          0.37228796844181455,
          0.35639599555061174,
          0.48863636363636365
         ],
         "yaxis": "y2"
        },
        {
         "customdata": [
          [
           9878
          ],
          [
           9841
          ],
          [
           10161
          ],
          [
           10221
          ],
          [
           10336
          ],
          [
           10649
          ],
          [
           10615
          ],
          [
           11116
          ]
         ],
         "hovertemplate": "state=MT<br>group=AGEP<br>year=%{x}<br>base_rate=%{y}<br>len=%{customdata[0]}<extra></extra>",
         "legendgroup": "MT",
         "line": {
          "color": "#19d3f3",
          "dash": "solid"
         },
         "marker": {
          "symbol": "circle"
         },
         "mode": "lines",
         "name": "MT",
         "showlegend": false,
         "type": "scattergl",
         "x": [
          2014,
          2015,
          2016,
          2017,
          2018,
          2019,
          2021,
          2022
         ],
         "xaxis": "x3",
         "y": [
          0.8333333333333334,
          0.8658536585365854,
          0.8404255319148937,
          0.8541666666666666,
          0.868421052631579,
          0.9010989010989011,
          0.8518518518518519,
          0.8514851485148515
         ],
         "yaxis": "y3"
        },
        {
         "customdata": [
          [
           19181
          ],
          [
           19089
          ],
          [
           19017
          ],
          [
           19545
          ],
          [
           19451
          ],
          [
           19766
          ],
          [
           19436
          ],
          [
           19989
          ]
         ],
         "hovertemplate": "state=NE<br>group=SEX<br>year=%{x}<br>base_rate=%{y}<br>len=%{customdata[0]}<extra></extra>",
         "legendgroup": "NE",
         "line": {
          "color": "#FF6692",
          "dash": "solid"
         },
         "marker": {
          "symbol": "circle"
         },
         "mode": "lines",
         "name": "NE",
         "showlegend": true,
         "type": "scattergl",
         "x": [
          2014,
          2015,
          2016,
          2017,
          2018,
          2019,
          2021,
          2022
         ],
         "xaxis": "x",
         "y": [
          0.0494775982239814,
          0.05782502113271348,
          0.05393972764053401,
          0.0545826765162335,
          0.057230571698289434,
          0.047900098997125495,
          0.05033178361365909,
          0.053414234449372766
         ],
         "yaxis": "y"
        },
        {
         "customdata": [
          [
           19181
          ],
          [
           19089
          ],
          [
           19017
          ],
          [
           19545
          ],
          [
           19451
          ],
          [
           19766
          ],
          [
           19436
          ],
          [
           19989
          ]
         ],
         "hovertemplate": "state=NE<br>group=RAC1P<br>year=%{x}<br>base_rate=%{y}<br>len=%{customdata[0]}<extra></extra>",
         "legendgroup": "NE",
         "line": {
          "color": "#FF6692",
          "dash": "solid"
         },
         "marker": {
          "symbol": "circle"
         },
         "mode": "lines",
         "name": "NE",
         "showlegend": false,
         "type": "scattergl",
         "x": [
          2014,
          2015,
          2016,
          2017,
          2018,
          2019,
          2021,
          2022
         ],
         "xaxis": "x2",
         "y": [
          0.22026891529825599,
          0.3714285714285714,
          0.5053475935828877,
          0.6937354988399071,
          0.2538875598086125,
          0.2525252525252526,
          0.5638888888888889,
          0.20197782439316747
         ],
         "yaxis": "y2"
        },
        {
         "customdata": [
          [
           19181
          ],
          [
           19089
          ],
          [
           19017
          ],
          [
           19545
          ],
          [
           19451
          ],
          [
           19766
          ],
          [
           19436
          ],
          [
           19989
          ]
         ],
         "hovertemplate": "state=NE<br>group=AGEP<br>year=%{x}<br>base_rate=%{y}<br>len=%{customdata[0]}<extra></extra>",
         "legendgroup": "NE",
         "line": {
          "color": "#FF6692",
          "dash": "solid"
         },
         "marker": {
          "symbol": "circle"
         },
         "mode": "lines",
         "name": "NE",
         "showlegend": false,
         "type": "scattergl",
         "x": [
          2014,
          2015,
          2016,
          2017,
          2018,
          2019,
          2021,
          2022
         ],
         "xaxis": "x3",
         "y": [
          0.8678414096916299,
          0.9033613445378151,
          0.8838174273858921,
          0.8646288209606987,
          0.8809523809523809,
          0.9054054054054054,
          0.8862559241706162,
          0.9128205128205128
         ],
         "yaxis": "y3"
        },
        {
         "customdata": [
          [
           26812
          ],
          [
           26988
          ],
          [
           27285
          ],
          [
           28413
          ],
          [
           28927
          ],
          [
           29347
          ],
          [
           30080
          ],
          [
           30749
          ]
         ],
         "hovertemplate": "state=NV<br>group=SEX<br>year=%{x}<br>base_rate=%{y}<br>len=%{customdata[0]}<extra></extra>",
         "legendgroup": "NV",
         "line": {
          "color": "#B6E880",
          "dash": "solid"
         },
         "marker": {
          "symbol": "circle"
         },
         "mode": "lines",
         "name": "NV",
         "showlegend": true,
         "type": "scattergl",
         "x": [
          2014,
          2015,
          2016,
          2017,
          2018,
          2019,
          2021,
          2022
         ],
         "xaxis": "x",
         "y": [
          0.06305286192587845,
          0.06372996028827771,
          0.0591188766440498,
          0.06684815996883336,
          0.057783118605479855,
          0.05825897153499099,
          0.04840873203129603,
          0.05748568680782007
         ],
         "yaxis": "y"
        },
        {
         "customdata": [
          [
           26812
          ],
          [
           26988
          ],
          [
           27285
          ],
          [
           28413
          ],
          [
           28927
          ],
          [
           29347
          ],
          [
           30080
          ],
          [
           30749
          ]
         ],
         "hovertemplate": "state=NV<br>group=RAC1P<br>year=%{x}<br>base_rate=%{y}<br>len=%{customdata[0]}<extra></extra>",
         "legendgroup": "NV",
         "line": {
          "color": "#B6E880",
          "dash": "solid"
         },
         "marker": {
          "symbol": "circle"
         },
         "mode": "lines",
         "name": "NV",
         "showlegend": false,
         "type": "scattergl",
         "x": [
          2014,
          2015,
          2016,
          2017,
          2018,
          2019,
          2021,
          2022
         ],
         "xaxis": "x2",
         "y": [
          0.203318335208099,
          0.4847202632816173,
          0.6431297709923665,
          0.1446608735313617,
          0.5309106098579783,
          0.1878274889157598,
          0.20622408762860217,
          0.25954134583193844
         ],
         "yaxis": "y2"
        },
        {
         "customdata": [
          [
           26812
          ],
          [
           26988
          ],
          [
           27285
          ],
          [
           28413
          ],
          [
           28927
          ],
          [
           29347
          ],
          [
           30080
          ],
          [
           30749
          ]
         ],
         "hovertemplate": "state=NV<br>group=AGEP<br>year=%{x}<br>base_rate=%{y}<br>len=%{customdata[0]}<extra></extra>",
         "legendgroup": "NV",
         "line": {
          "color": "#B6E880",
          "dash": "solid"
         },
         "marker": {
          "symbol": "circle"
         },
         "mode": "lines",
         "name": "NV",
         "showlegend": false,
         "type": "scattergl",
         "x": [
          2014,
          2015,
          2016,
          2017,
          2018,
          2019,
          2021,
          2022
         ],
         "xaxis": "x3",
         "y": [
          0.7855153203342619,
          0.7865168539325843,
          0.8095238095238095,
          0.7953795379537953,
          0.8017492711370262,
          0.8285714285714286,
          0.7657657657657657,
          0.800531914893617
         ],
         "yaxis": "y3"
        },
        {
         "customdata": [
          [
           13426
          ],
          [
           13378
          ],
          [
           13428
          ],
          [
           13708
          ],
          [
           13780
          ],
          [
           13896
          ],
          [
           13606
          ],
          [
           14077
          ]
         ],
         "hovertemplate": "state=NH<br>group=SEX<br>year=%{x}<br>base_rate=%{y}<br>len=%{customdata[0]}<extra></extra>",
         "legendgroup": "NH",
         "line": {
          "color": "#FF97FF",
          "dash": "solid"
         },
         "marker": {
          "symbol": "circle"
         },
         "mode": "lines",
         "name": "NH",
         "showlegend": true,
         "type": "scattergl",
         "x": [
          2014,
          2015,
          2016,
          2017,
          2018,
          2019,
          2021,
          2022
         ],
         "xaxis": "x",
         "y": [
          0.05083005961975662,
          0.059936691254931784,
          0.039510565253806695,
          0.036083392306933415,
          0.05536814494942649,
          0.047243081168572676,
          0.06122957556269998,
          0.056707921021954766
         ],
         "yaxis": "y"
        },
        {
         "customdata": [
          [
           13426
          ],
          [
           13378
          ],
          [
           13428
          ],
          [
           13708
          ],
          [
           13780
          ],
          [
           13896
          ],
          [
           13606
          ],
          [
           14077
          ]
         ],
         "hovertemplate": "state=NH<br>group=RAC1P<br>year=%{x}<br>base_rate=%{y}<br>len=%{customdata[0]}<extra></extra>",
         "legendgroup": "NH",
         "line": {
          "color": "#FF97FF",
          "dash": "solid"
         },
         "marker": {
          "symbol": "circle"
         },
         "mode": "lines",
         "name": "NH",
         "showlegend": false,
         "type": "scattergl",
         "x": [
          2014,
          2015,
          2016,
          2017,
          2018,
          2019,
          2021,
          2022
         ],
         "xaxis": "x2",
         "y": [
          0.2814542107685228,
          0.5454545454545454,
          0.667953667953668,
          0.5714285714285714,
          0.6666666666666667,
          0.4206827309236948,
          0.5255474452554745,
          0.3681818181818182
         ],
         "yaxis": "y2"
        },
        {
         "customdata": [
          [
           13426
          ],
          [
           13378
          ],
          [
           13428
          ],
          [
           13708
          ],
          [
           13780
          ],
          [
           13896
          ],
          [
           13606
          ],
          [
           14077
          ]
         ],
         "hovertemplate": "state=NH<br>group=AGEP<br>year=%{x}<br>base_rate=%{y}<br>len=%{customdata[0]}<extra></extra>",
         "legendgroup": "NH",
         "line": {
          "color": "#FF97FF",
          "dash": "solid"
         },
         "marker": {
          "symbol": "circle"
         },
         "mode": "lines",
         "name": "NH",
         "showlegend": false,
         "type": "scattergl",
         "x": [
          2014,
          2015,
          2016,
          2017,
          2018,
          2019,
          2021,
          2022
         ],
         "xaxis": "x3",
         "y": [
          0.852760736196319,
          0.8918918918918919,
          0.8808510638297873,
          0.8791208791208791,
          0.8670520231213873,
          0.896969696969697,
          0.8541666666666666,
          0.9030303030303031
         ],
         "yaxis": "y3"
        },
        {
         "customdata": [
          [
           88152
          ],
          [
           87815
          ],
          [
           87279
          ],
          [
           88114
          ],
          [
           88586
          ],
          [
           88459
          ],
          [
           93154
          ],
          [
           93166
          ]
         ],
         "hovertemplate": "state=NJ<br>group=SEX<br>year=%{x}<br>base_rate=%{y}<br>len=%{customdata[0]}<extra></extra>",
         "legendgroup": "NJ",
         "line": {
          "color": "#FECB52",
          "dash": "solid"
         },
         "marker": {
          "symbol": "circle"
         },
         "mode": "lines",
         "name": "NJ",
         "showlegend": true,
         "type": "scattergl",
         "x": [
          2014,
          2015,
          2016,
          2017,
          2018,
          2019,
          2021,
          2022
         ],
         "xaxis": "x",
         "y": [
          0.06240607901970946,
          0.06628318650400838,
          0.07111411879967378,
          0.06603451830177598,
          0.07135607328412852,
          0.06264796308384468,
          0.06657474287131065,
          0.06832579362189212
         ],
         "yaxis": "y"
        },
        {
         "customdata": [
          [
           88152
          ],
          [
           87815
          ],
          [
           87279
          ],
          [
           88114
          ],
          [
           88586
          ],
          [
           88459
          ],
          [
           93154
          ],
          [
           93166
          ]
         ],
         "hovertemplate": "state=NJ<br>group=RAC1P<br>year=%{x}<br>base_rate=%{y}<br>len=%{customdata[0]}<extra></extra>",
         "legendgroup": "NJ",
         "line": {
          "color": "#FECB52",
          "dash": "solid"
         },
         "marker": {
          "symbol": "circle"
         },
         "mode": "lines",
         "name": "NJ",
         "showlegend": false,
         "type": "scattergl",
         "x": [
          2014,
          2015,
          2016,
          2017,
          2018,
          2019,
          2021,
          2022
         ],
         "xaxis": "x2",
         "y": [
          0.2165567210987347,
          0.34324324324324323,
          0.16365403250671717,
          0.1333397540109973,
          0.5357142857142857,
          0.6538461538461539,
          0.10876678315075428,
          0.53220696937698
         ],
         "yaxis": "y2"
        },
        {
         "customdata": [
          [
           88152
          ],
          [
           87815
          ],
          [
           87279
          ],
          [
           88114
          ],
          [
           88586
          ],
          [
           88459
          ],
          [
           93154
          ],
          [
           93166
          ]
         ],
         "hovertemplate": "state=NJ<br>group=AGEP<br>year=%{x}<br>base_rate=%{y}<br>len=%{customdata[0]}<extra></extra>",
         "legendgroup": "NJ",
         "line": {
          "color": "#FECB52",
          "dash": "solid"
         },
         "marker": {
          "symbol": "circle"
         },
         "mode": "lines",
         "name": "NJ",
         "showlegend": false,
         "type": "scattergl",
         "x": [
          2014,
          2015,
          2016,
          2017,
          2018,
          2019,
          2021,
          2022
         ],
         "xaxis": "x3",
         "y": [
          0.7927241962774958,
          0.8008583690987124,
          0.8135593220338984,
          0.8141509433962264,
          0.8326771653543307,
          0.8255924170616113,
          0.8073148974130241,
          0.8287292817679558
         ],
         "yaxis": "y3"
        },
        {
         "customdata": [
          [
           19283
          ],
          [
           19072
          ],
          [
           19060
          ],
          [
           19021
          ],
          [
           19247
          ],
          [
           19281
          ],
          [
           19533
          ],
          [
           20243
          ]
         ],
         "hovertemplate": "state=NM<br>group=SEX<br>year=%{x}<br>base_rate=%{y}<br>len=%{customdata[0]}<extra></extra>",
         "legendgroup": "NM",
         "line": {
          "color": "#636efa",
          "dash": "solid"
         },
         "marker": {
          "symbol": "circle"
         },
         "mode": "lines",
         "name": "NM",
         "showlegend": true,
         "type": "scattergl",
         "x": [
          2014,
          2015,
          2016,
          2017,
          2018,
          2019,
          2021,
          2022
         ],
         "xaxis": "x",
         "y": [
          0.03767561843547218,
          0.036682940919530505,
          0.02108294241055425,
          0.022381001025315095,
          0.03187246197673266,
          0.04018801699052582,
          0.02835327947246552,
          0.013607099793980504
         ],
         "yaxis": "y"
        },
        {
         "customdata": [
          [
           19283
          ],
          [
           19072
          ],
          [
           19060
          ],
          [
           19021
          ],
          [
           19247
          ],
          [
           19281
          ],
          [
           19533
          ],
          [
           20243
          ]
         ],
         "hovertemplate": "state=NM<br>group=RAC1P<br>year=%{x}<br>base_rate=%{y}<br>len=%{customdata[0]}<extra></extra>",
         "legendgroup": "NM",
         "line": {
          "color": "#636efa",
          "dash": "solid"
         },
         "marker": {
          "symbol": "circle"
         },
         "mode": "lines",
         "name": "NM",
         "showlegend": false,
         "type": "scattergl",
         "x": [
          2014,
          2015,
          2016,
          2017,
          2018,
          2019,
          2021,
          2022
         ],
         "xaxis": "x2",
         "y": [
          0.698680146026397,
          0.6982456140350877,
          0.346031746031746,
          0.4444444444444444,
          0.6869565217391305,
          0.5229885057471264,
          0.2368421052631579,
          0.24528301886792453
         ],
         "yaxis": "y2"
        },
        {
         "customdata": [
          [
           19283
          ],
          [
           19072
          ],
          [
           19060
          ],
          [
           19021
          ],
          [
           19247
          ],
          [
           19281
          ],
          [
           19533
          ],
          [
           20243
          ]
         ],
         "hovertemplate": "state=NM<br>group=AGEP<br>year=%{x}<br>base_rate=%{y}<br>len=%{customdata[0]}<extra></extra>",
         "legendgroup": "NM",
         "line": {
          "color": "#636efa",
          "dash": "solid"
         },
         "marker": {
          "symbol": "circle"
         },
         "mode": "lines",
         "name": "NM",
         "showlegend": false,
         "type": "scattergl",
         "x": [
          2014,
          2015,
          2016,
          2017,
          2018,
          2019,
          2021,
          2022
         ],
         "xaxis": "x3",
         "y": [
          0.7318435754189944,
          0.7461928934010152,
          0.7489878542510121,
          0.7405660377358491,
          0.7488151658767772,
          0.8349056603773585,
          0.7736842105263158,
          0.7647058823529411
         ],
         "yaxis": "y3"
        },
        {
         "customdata": [
          [
           196276
          ],
          [
           195742
          ],
          [
           196104
          ],
          [
           196585
          ],
          [
           196967
          ],
          [
           198788
          ],
          [
           200067
          ],
          [
           203891
          ]
         ],
         "hovertemplate": "state=NY<br>group=SEX<br>year=%{x}<br>base_rate=%{y}<br>len=%{customdata[0]}<extra></extra>",
         "legendgroup": "NY",
         "line": {
          "color": "#EF553B",
          "dash": "solid"
         },
         "marker": {
          "symbol": "circle"
         },
         "mode": "lines",
         "name": "NY",
         "showlegend": true,
         "type": "scattergl",
         "x": [
          2014,
          2015,
          2016,
          2017,
          2018,
          2019,
          2021,
          2022
         ],
         "xaxis": "x",
         "y": [
          0.04651483280017327,
          0.04978572340850679,
          0.05184633815170492,
          0.044765494583386856,
          0.043751764643890356,
          0.04290554539353181,
          0.036968919774660214,
          0.0340339904790799
         ],
         "yaxis": "y"
        },
        {
         "customdata": [
          [
           196276
          ],
          [
           195742
          ],
          [
           196104
          ],
          [
           196585
          ],
          [
           196967
          ],
          [
           198788
          ],
          [
           200067
          ],
          [
           203891
          ]
         ],
         "hovertemplate": "state=NY<br>group=RAC1P<br>year=%{x}<br>base_rate=%{y}<br>len=%{customdata[0]}<extra></extra>",
         "legendgroup": "NY",
         "line": {
          "color": "#EF553B",
          "dash": "solid"
         },
         "marker": {
          "symbol": "circle"
         },
         "mode": "lines",
         "name": "NY",
         "showlegend": false,
         "type": "scattergl",
         "x": [
          2014,
          2015,
          2016,
          2017,
          2018,
          2019,
          2021,
          2022
         ],
         "xaxis": "x2",
         "y": [
          0.6658153241650295,
          0.4755417564313775,
          0.6493100275988961,
          0.37336465819052883,
          0.25573770491803277,
          0.11016376836062808,
          0.4131386861313869,
          0.3470679280217555
         ],
         "yaxis": "y2"
        },
        {
         "customdata": [
          [
           196276
          ],
          [
           195742
          ],
          [
           196104
          ],
          [
           196585
          ],
          [
           196967
          ],
          [
           198788
          ],
          [
           200067
          ],
          [
           203891
          ]
         ],
         "hovertemplate": "state=NY<br>group=AGEP<br>year=%{x}<br>base_rate=%{y}<br>len=%{customdata[0]}<extra></extra>",
         "legendgroup": "NY",
         "line": {
          "color": "#EF553B",
          "dash": "solid"
         },
         "marker": {
          "symbol": "circle"
         },
         "mode": "lines",
         "name": "NY",
         "showlegend": false,
         "type": "scattergl",
         "x": [
          2014,
          2015,
          2016,
          2017,
          2018,
          2019,
          2021,
          2022
         ],
         "xaxis": "x3",
         "y": [
          0.7641860465116279,
          0.7774925117672229,
          0.7944700460829494,
          0.781594011448701,
          0.7927170868347339,
          0.8047097036134795,
          0.7617135207496654,
          0.8025177025963808
         ],
         "yaxis": "y3"
        },
        {
         "customdata": [
          [
           97830
          ],
          [
           98184
          ],
          [
           99596
          ],
          [
           101233
          ],
          [
           102523
          ],
          [
           103516
          ],
          [
           104337
          ],
          [
           109230
          ]
         ],
         "hovertemplate": "state=NC<br>group=SEX<br>year=%{x}<br>base_rate=%{y}<br>len=%{customdata[0]}<extra></extra>",
         "legendgroup": "NC",
         "line": {
          "color": "#00cc96",
          "dash": "solid"
         },
         "marker": {
          "symbol": "circle"
         },
         "mode": "lines",
         "name": "NC",
         "showlegend": true,
         "type": "scattergl",
         "x": [
          2014,
          2015,
          2016,
          2017,
          2018,
          2019,
          2021,
          2022
         ],
         "xaxis": "x",
         "y": [
          0.05073485877923034,
          0.05459542255765537,
          0.050700186422648064,
          0.04974647827547868,
          0.04943741949463537,
          0.05149499790657602,
          0.049821858966500654,
          0.03847345394784302
         ],
         "yaxis": "y"
        },
        {
         "customdata": [
          [
           97830
          ],
          [
           98184
          ],
          [
           99596
          ],
          [
           101233
          ],
          [
           102523
          ],
          [
           103516
          ],
          [
           104337
          ],
          [
           109230
          ]
         ],
         "hovertemplate": "state=NC<br>group=RAC1P<br>year=%{x}<br>base_rate=%{y}<br>len=%{customdata[0]}<extra></extra>",
         "legendgroup": "NC",
         "line": {
          "color": "#00cc96",
          "dash": "solid"
         },
         "marker": {
          "symbol": "circle"
         },
         "mode": "lines",
         "name": "NC",
         "showlegend": false,
         "type": "scattergl",
         "x": [
          2014,
          2015,
          2016,
          2017,
          2018,
          2019,
          2021,
          2022
         ],
         "xaxis": "x2",
         "y": [
          0.31720430107526887,
          0.15772211957888294,
          0.1955009461698129,
          0.21918561995597946,
          0.16606475249010078,
          0.19054221341916316,
          0.1572720946416145,
          0.20823995823995822
         ],
         "yaxis": "y2"
        },
        {
         "customdata": [
          [
           97830
          ],
          [
           98184
          ],
          [
           99596
          ],
          [
           101233
          ],
          [
           102523
          ],
          [
           103516
          ],
          [
           104337
          ],
          [
           109230
          ]
         ],
         "hovertemplate": "state=NC<br>group=AGEP<br>year=%{x}<br>base_rate=%{y}<br>len=%{customdata[0]}<extra></extra>",
         "legendgroup": "NC",
         "line": {
          "color": "#00cc96",
          "dash": "solid"
         },
         "marker": {
          "symbol": "circle"
         },
         "mode": "lines",
         "name": "NC",
         "showlegend": false,
         "type": "scattergl",
         "x": [
          2014,
          2015,
          2016,
          2017,
          2018,
          2019,
          2021,
          2022
         ],
         "xaxis": "x3",
         "y": [
          0.7587382779198636,
          0.7848101265822784,
          0.7959558823529411,
          0.7870065789473685,
          0.799645390070922,
          0.7909300538047656,
          0.7585910652920962,
          0.7839453458582408
         ],
         "yaxis": "y3"
        },
        {
         "customdata": [
          [
           7625
          ],
          [
           7869
          ],
          [
           7864
          ],
          [
           7892
          ],
          [
           7876
          ],
          [
           7960
          ],
          [
           7691
          ],
          [
           8107
          ]
         ],
         "hovertemplate": "state=ND<br>group=SEX<br>year=%{x}<br>base_rate=%{y}<br>len=%{customdata[0]}<extra></extra>",
         "legendgroup": "ND",
         "line": {
          "color": "#ab63fa",
          "dash": "solid"
         },
         "marker": {
          "symbol": "circle"
         },
         "mode": "lines",
         "name": "ND",
         "showlegend": true,
         "type": "scattergl",
         "x": [
          2014,
          2015,
          2016,
          2017,
          2018,
          2019,
          2021,
          2022
         ],
         "xaxis": "x",
         "y": [
          0.07240347742395764,
          0.05676199938495019,
          0.04989380269210092,
          0.06942421268155835,
          0.06927252471568718,
          0.059493921082889145,
          0.051854128823414336,
          0.05043868622596859
         ],
         "yaxis": "y"
        },
        {
         "customdata": [
          [
           7625
          ],
          [
           7869
          ],
          [
           7864
          ],
          [
           7892
          ],
          [
           7876
          ],
          [
           7960
          ],
          [
           7691
          ],
          [
           8107
          ]
         ],
         "hovertemplate": "state=ND<br>group=RAC1P<br>year=%{x}<br>base_rate=%{y}<br>len=%{customdata[0]}<extra></extra>",
         "legendgroup": "ND",
         "line": {
          "color": "#ab63fa",
          "dash": "solid"
         },
         "marker": {
          "symbol": "circle"
         },
         "mode": "lines",
         "name": "ND",
         "showlegend": false,
         "type": "scattergl",
         "x": [
          2014,
          2015,
          2016,
          2017,
          2018,
          2019,
          2021,
          2022
         ],
         "xaxis": "x2",
         "y": [
          0.7878787878787878,
          0.3392774530007991,
          0.75,
          0.28558585555888527,
          0.5263157894736842,
          0.5873015873015873,
          0.5933544303797469,
          0.4809027777777778
         ],
         "yaxis": "y2"
        },
        {
         "customdata": [
          [
           7625
          ],
          [
           7869
          ],
          [
           7864
          ],
          [
           7892
          ],
          [
           7876
          ],
          [
           7960
          ],
          [
           7691
          ],
          [
           8107
          ]
         ],
         "hovertemplate": "state=ND<br>group=AGEP<br>year=%{x}<br>base_rate=%{y}<br>len=%{customdata[0]}<extra></extra>",
         "legendgroup": "ND",
         "line": {
          "color": "#ab63fa",
          "dash": "solid"
         },
         "marker": {
          "symbol": "circle"
         },
         "mode": "lines",
         "name": "ND",
         "showlegend": false,
         "type": "scattergl",
         "x": [
          2014,
          2015,
          2016,
          2017,
          2018,
          2019,
          2021,
          2022
         ],
         "xaxis": "x3",
         "y": [
          0.8676470588235294,
          0.8783783783783784,
          0.8947368421052632,
          0.8904109589041096,
          0.8840579710144928,
          0.935064935064935,
          0.8846153846153846,
          0.9333333333333333
         ],
         "yaxis": "y3"
        },
        {
         "customdata": [
          [
           117468
          ],
          [
           118123
          ],
          [
           117426
          ],
          [
           118842
          ],
          [
           119086
          ],
          [
           119589
          ],
          [
           119869
          ],
          [
           120666
          ]
         ],
         "hovertemplate": "state=OH<br>group=SEX<br>year=%{x}<br>base_rate=%{y}<br>len=%{customdata[0]}<extra></extra>",
         "legendgroup": "OH",
         "line": {
          "color": "#FFA15A",
          "dash": "solid"
         },
         "marker": {
          "symbol": "circle"
         },
         "mode": "lines",
         "name": "OH",
         "showlegend": true,
         "type": "scattergl",
         "x": [
          2014,
          2015,
          2016,
          2017,
          2018,
          2019,
          2021,
          2022
         ],
         "xaxis": "x",
         "y": [
          0.05751071771864846,
          0.05610483774064928,
          0.05319122397850745,
          0.050714963976026206,
          0.051646240932860854,
          0.05696530786339654,
          0.05022367385553106,
          0.05251399166493176
         ],
         "yaxis": "y"
        },
        {
         "customdata": [
          [
           117468
          ],
          [
           118123
          ],
          [
           117426
          ],
          [
           118842
          ],
          [
           119086
          ],
          [
           119589
          ],
          [
           119869
          ],
          [
           120666
          ]
         ],
         "hovertemplate": "state=OH<br>group=RAC1P<br>year=%{x}<br>base_rate=%{y}<br>len=%{customdata[0]}<extra></extra>",
         "legendgroup": "OH",
         "line": {
          "color": "#FFA15A",
          "dash": "solid"
         },
         "marker": {
          "symbol": "circle"
         },
         "mode": "lines",
         "name": "OH",
         "showlegend": false,
         "type": "scattergl",
         "x": [
          2014,
          2015,
          2016,
          2017,
          2018,
          2019,
          2021,
          2022
         ],
         "xaxis": "x2",
         "y": [
          0.47734294541709577,
          0.6,
          0.20736022646850671,
          0.6862044317369549,
          0.6296296296296297,
          0.19249098282531912,
          0.1898296645398858,
          0.19132255912224777
         ],
         "yaxis": "y2"
        },
        {
         "customdata": [
          [
           117468
          ],
          [
           118123
          ],
          [
           117426
          ],
          [
           118842
          ],
          [
           119086
          ],
          [
           119589
          ],
          [
           119869
          ],
          [
           120666
          ]
         ],
         "hovertemplate": "state=OH<br>group=AGEP<br>year=%{x}<br>base_rate=%{y}<br>len=%{customdata[0]}<extra></extra>",
         "legendgroup": "OH",
         "line": {
          "color": "#FFA15A",
          "dash": "solid"
         },
         "marker": {
          "symbol": "circle"
         },
         "mode": "lines",
         "name": "OH",
         "showlegend": false,
         "type": "scattergl",
         "x": [
          2014,
          2015,
          2016,
          2017,
          2018,
          2019,
          2021,
          2022
         ],
         "xaxis": "x3",
         "y": [
          0.7829949238578681,
          0.7818419333768779,
          0.7954545454545454,
          0.8129496402877698,
          0.8133524766690596,
          0.8248,
          0.7886309047237791,
          0.8076923076923077
         ],
         "yaxis": "y3"
        },
        {
         "customdata": [
          [
           37293
          ],
          [
           37251
          ],
          [
           37022
          ],
          [
           37105
          ],
          [
           37648
          ],
          [
           37792
          ],
          [
           37780
          ],
          [
           39445
          ]
         ],
         "hovertemplate": "state=OK<br>group=SEX<br>year=%{x}<br>base_rate=%{y}<br>len=%{customdata[0]}<extra></extra>",
         "legendgroup": "OK",
         "line": {
          "color": "#19d3f3",
          "dash": "solid"
         },
         "marker": {
          "symbol": "circle"
         },
         "mode": "lines",
         "name": "OK",
         "showlegend": true,
         "type": "scattergl",
         "x": [
          2014,
          2015,
          2016,
          2017,
          2018,
          2019,
          2021,
          2022
         ],
         "xaxis": "x",
         "y": [
          0.06658245610765146,
          0.07427177346503722,
          0.05695981531010086,
          0.05113307561000019,
          0.05683341198758529,
          0.058233032935716855,
          0.03951336024451624,
          0.05446516573819643
         ],
         "yaxis": "y"
        },
        {
         "customdata": [
          [
           37293
          ],
          [
           37251
          ],
          [
           37022
          ],
          [
           37105
          ],
          [
           37648
          ],
          [
           37792
          ],
          [
           37780
          ],
          [
           39445
          ]
         ],
         "hovertemplate": "state=OK<br>group=RAC1P<br>year=%{x}<br>base_rate=%{y}<br>len=%{customdata[0]}<extra></extra>",
         "legendgroup": "OK",
         "line": {
          "color": "#19d3f3",
          "dash": "solid"
         },
         "marker": {
          "symbol": "circle"
         },
         "mode": "lines",
         "name": "OK",
         "showlegend": false,
         "type": "scattergl",
         "x": [
          2014,
          2015,
          2016,
          2017,
          2018,
          2019,
          2021,
          2022
         ],
         "xaxis": "x2",
         "y": [
          0.6889952153110048,
          0.29409780775716693,
          0.24961597542242708,
          0.2322069377990431,
          0.2,
          0.2033018867924528,
          0.15477338476374158,
          0.16153846153846152
         ],
         "yaxis": "y2"
        },
        {
         "customdata": [
          [
           37293
          ],
          [
           37251
          ],
          [
           37022
          ],
          [
           37105
          ],
          [
           37648
          ],
          [
           37792
          ],
          [
           37780
          ],
          [
           39445
          ]
         ],
         "hovertemplate": "state=OK<br>group=AGEP<br>year=%{x}<br>base_rate=%{y}<br>len=%{customdata[0]}<extra></extra>",
         "legendgroup": "OK",
         "line": {
          "color": "#19d3f3",
          "dash": "solid"
         },
         "marker": {
          "symbol": "circle"
         },
         "mode": "lines",
         "name": "OK",
         "showlegend": false,
         "type": "scattergl",
         "x": [
          2014,
          2015,
          2016,
          2017,
          2018,
          2019,
          2021,
          2022
         ],
         "xaxis": "x3",
         "y": [
          0.7480916030534351,
          0.7703703703703704,
          0.745920745920746,
          0.755056179775281,
          0.7535211267605634,
          0.7414965986394558,
          0.7214912280701754,
          0.7544303797468355
         ],
         "yaxis": "y3"
        },
        {
         "customdata": [
          [
           39336
          ],
          [
           39992
          ],
          [
           40269
          ],
          [
           41219
          ],
          [
           42117
          ],
          [
           42080
          ],
          [
           42752
          ],
          [
           43708
          ]
         ],
         "hovertemplate": "state=OR<br>group=SEX<br>year=%{x}<br>base_rate=%{y}<br>len=%{customdata[0]}<extra></extra>",
         "legendgroup": "OR",
         "line": {
          "color": "#FF6692",
          "dash": "solid"
         },
         "marker": {
          "symbol": "circle"
         },
         "mode": "lines",
         "name": "OR",
         "showlegend": true,
         "type": "scattergl",
         "x": [
          2014,
          2015,
          2016,
          2017,
          2018,
          2019,
          2021,
          2022
         ],
         "xaxis": "x",
         "y": [
          0.05057831278937619,
          0.04742423099433751,
          0.056900274698095776,
          0.05021205762300668,
          0.05000917408475314,
          0.040966835046287786,
          0.04994300045599637,
          0.03519872222749021
         ],
         "yaxis": "y"
        },
        {
         "customdata": [
          [
           39336
          ],
          [
           39992
          ],
          [
           40269
          ],
          [
           41219
          ],
          [
           42117
          ],
          [
           42080
          ],
          [
           42752
          ],
          [
           43708
          ]
         ],
         "hovertemplate": "state=OR<br>group=RAC1P<br>year=%{x}<br>base_rate=%{y}<br>len=%{customdata[0]}<extra></extra>",
         "legendgroup": "OR",
         "line": {
          "color": "#FF6692",
          "dash": "solid"
         },
         "marker": {
          "symbol": "circle"
         },
         "mode": "lines",
         "name": "OR",
         "showlegend": false,
         "type": "scattergl",
         "x": [
          2014,
          2015,
          2016,
          2017,
          2018,
          2019,
          2021,
          2022
         ],
         "xaxis": "x2",
         "y": [
          0.24456793206793206,
          0.2309081527347781,
          0.20149253731343286,
          0.17559523809523814,
          0.2549813200498133,
          0.16000855588252277,
          0.13528382095523883,
          0.26441102756892226
         ],
         "yaxis": "y2"
        },
        {
         "customdata": [
          [
           39336
          ],
          [
           39992
          ],
          [
           40269
          ],
          [
           41219
          ],
          [
           42117
          ],
          [
           42080
          ],
          [
           42752
          ],
          [
           43708
          ]
         ],
         "hovertemplate": "state=OR<br>group=AGEP<br>year=%{x}<br>base_rate=%{y}<br>len=%{customdata[0]}<extra></extra>",
         "legendgroup": "OR",
         "line": {
          "color": "#FF6692",
          "dash": "solid"
         },
         "marker": {
          "symbol": "circle"
         },
         "mode": "lines",
         "name": "OR",
         "showlegend": false,
         "type": "scattergl",
         "x": [
          2014,
          2015,
          2016,
          2017,
          2018,
          2019,
          2021,
          2022
         ],
         "xaxis": "x3",
         "y": [
          0.7748344370860927,
          0.8008130081300813,
          0.7933333333333333,
          0.8180076628352491,
          0.8351063829787234,
          0.8224956063268892,
          0.7981481481481482,
          0.8072916666666666
         ],
         "yaxis": "y3"
        },
        {
         "customdata": [
          [
           127859
          ],
          [
           128145
          ],
          [
           127270
          ],
          [
           127433
          ],
          [
           129066
          ],
          [
           129194
          ],
          [
           129787
          ],
          [
           132605
          ]
         ],
         "hovertemplate": "state=PA<br>group=SEX<br>year=%{x}<br>base_rate=%{y}<br>len=%{customdata[0]}<extra></extra>",
         "legendgroup": "PA",
         "line": {
          "color": "#B6E880",
          "dash": "solid"
         },
         "marker": {
          "symbol": "circle"
         },
         "mode": "lines",
         "name": "PA",
         "showlegend": true,
         "type": "scattergl",
         "x": [
          2014,
          2015,
          2016,
          2017,
          2018,
          2019,
          2021,
          2022
         ],
         "xaxis": "x",
         "y": [
          0.057113258100389475,
          0.0533326363872359,
          0.05290768777066779,
          0.058486669849633355,
          0.051129898602672474,
          0.054090199075142564,
          0.04908773581469711,
          0.05246911922847103
         ],
         "yaxis": "y"
        },
        {
         "customdata": [
          [
           127859
          ],
          [
           128145
          ],
          [
           127270
          ],
          [
           127433
          ],
          [
           129066
          ],
          [
           129194
          ],
          [
           129787
          ],
          [
           132605
          ]
         ],
         "hovertemplate": "state=PA<br>group=RAC1P<br>year=%{x}<br>base_rate=%{y}<br>len=%{customdata[0]}<extra></extra>",
         "legendgroup": "PA",
         "line": {
          "color": "#B6E880",
          "dash": "solid"
         },
         "marker": {
          "symbol": "circle"
         },
         "mode": "lines",
         "name": "PA",
         "showlegend": false,
         "type": "scattergl",
         "x": [
          2014,
          2015,
          2016,
          2017,
          2018,
          2019,
          2021,
          2022
         ],
         "xaxis": "x2",
         "y": [
          0.46998112920680063,
          0.37664543524416133,
          0.5365853658536586,
          0.5151515151515151,
          0.3878787878787878,
          0.22459920482236756,
          0.5119516679800368,
          0.17324246771879476
         ],
         "yaxis": "y2"
        },
        {
         "customdata": [
          [
           127859
          ],
          [
           128145
          ],
          [
           127270
          ],
          [
           127433
          ],
          [
           129066
          ],
          [
           129194
          ],
          [
           129787
          ],
          [
           132605
          ]
         ],
         "hovertemplate": "state=PA<br>group=AGEP<br>year=%{x}<br>base_rate=%{y}<br>len=%{customdata[0]}<extra></extra>",
         "legendgroup": "PA",
         "line": {
          "color": "#B6E880",
          "dash": "solid"
         },
         "marker": {
          "symbol": "circle"
         },
         "mode": "lines",
         "name": "PA",
         "showlegend": false,
         "type": "scattergl",
         "x": [
          2014,
          2015,
          2016,
          2017,
          2018,
          2019,
          2021,
          2022
         ],
         "xaxis": "x3",
         "y": [
          0.7946484131922837,
          0.7874924104432302,
          0.7912167026637869,
          0.8075766686710764,
          0.8126944617299315,
          0.817925194071983,
          0.7990867579908676,
          0.8200743494423792
         ],
         "yaxis": "y3"
        },
        {
         "customdata": [
          [
           10803
          ],
          [
           10563
          ],
          [
           10338
          ],
          [
           10516
          ],
          [
           10489
          ],
          [
           10447
          ],
          [
           10957
          ],
          [
           10401
          ]
         ],
         "hovertemplate": "state=RI<br>group=SEX<br>year=%{x}<br>base_rate=%{y}<br>len=%{customdata[0]}<extra></extra>",
         "legendgroup": "RI",
         "line": {
          "color": "#FF97FF",
          "dash": "solid"
         },
         "marker": {
          "symbol": "circle"
         },
         "mode": "lines",
         "name": "RI",
         "showlegend": true,
         "type": "scattergl",
         "x": [
          2014,
          2015,
          2016,
          2017,
          2018,
          2019,
          2021,
          2022
         ],
         "xaxis": "x",
         "y": [
          0.0515738508274603,
          0.04889961749711047,
          0.06739763651215985,
          0.056257868823313795,
          0.03737297003110829,
          0.044863062702114875,
          0.05181222133122482,
          0.03636004503716067
         ],
         "yaxis": "y"
        },
        {
         "customdata": [
          [
           10803
          ],
          [
           10563
          ],
          [
           10338
          ],
          [
           10516
          ],
          [
           10489
          ],
          [
           10447
          ],
          [
           10957
          ],
          [
           10401
          ]
         ],
         "hovertemplate": "state=RI<br>group=RAC1P<br>year=%{x}<br>base_rate=%{y}<br>len=%{customdata[0]}<extra></extra>",
         "legendgroup": "RI",
         "line": {
          "color": "#FF97FF",
          "dash": "solid"
         },
         "marker": {
          "symbol": "circle"
         },
         "mode": "lines",
         "name": "RI",
         "showlegend": false,
         "type": "scattergl",
         "x": [
          2014,
          2015,
          2016,
          2017,
          2018,
          2019,
          2021,
          2022
         ],
         "xaxis": "x2",
         "y": [
          0.20588235294117646,
          0.5,
          0.393939393939394,
          0.5228571428571429,
          0.20508463708643243,
          0.7,
          0.5,
          0.6666666666666666
         ],
         "yaxis": "y2"
        },
        {
         "customdata": [
          [
           10803
          ],
          [
           10563
          ],
          [
           10338
          ],
          [
           10516
          ],
          [
           10489
          ],
          [
           10447
          ],
          [
           10957
          ],
          [
           10401
          ]
         ],
         "hovertemplate": "state=RI<br>group=AGEP<br>year=%{x}<br>base_rate=%{y}<br>len=%{customdata[0]}<extra></extra>",
         "legendgroup": "RI",
         "line": {
          "color": "#FF97FF",
          "dash": "solid"
         },
         "marker": {
          "symbol": "circle"
         },
         "mode": "lines",
         "name": "RI",
         "showlegend": false,
         "type": "scattergl",
         "x": [
          2014,
          2015,
          2016,
          2017,
          2018,
          2019,
          2021,
          2022
         ],
         "xaxis": "x3",
         "y": [
          0.8547008547008547,
          0.8367346938775511,
          0.8955223880597015,
          0.8739495798319328,
          0.8953488372093024,
          0.873015873015873,
          0.8411214953271028,
          0.8857142857142857
         ],
         "yaxis": "y3"
        },
        {
         "customdata": [
          [
           47361
          ],
          [
           48023
          ],
          [
           48405
          ],
          [
           49438
          ],
          [
           49818
          ],
          [
           50893
          ],
          [
           51580
          ],
          [
           54651
          ]
         ],
         "hovertemplate": "state=SC<br>group=SEX<br>year=%{x}<br>base_rate=%{y}<br>len=%{customdata[0]}<extra></extra>",
         "legendgroup": "SC",
         "line": {
          "color": "#FECB52",
          "dash": "solid"
         },
         "marker": {
          "symbol": "circle"
         },
         "mode": "lines",
         "name": "SC",
         "showlegend": true,
         "type": "scattergl",
         "x": [
          2014,
          2015,
          2016,
          2017,
          2018,
          2019,
          2021,
          2022
         ],
         "xaxis": "x",
         "y": [
          0.052134811521640456,
          0.045453495684735556,
          0.049077563196734175,
          0.04293219706021456,
          0.040806625518603645,
          0.049224023990186494,
          0.05344057082288939,
          0.041922449281136975
         ],
         "yaxis": "y"
        },
        {
         "customdata": [
          [
           47361
          ],
          [
           48023
          ],
          [
           48405
          ],
          [
           49438
          ],
          [
           49818
          ],
          [
           50893
          ],
          [
           51580
          ],
          [
           54651
          ]
         ],
         "hovertemplate": "state=SC<br>group=RAC1P<br>year=%{x}<br>base_rate=%{y}<br>len=%{customdata[0]}<extra></extra>",
         "legendgroup": "SC",
         "line": {
          "color": "#FECB52",
          "dash": "solid"
         },
         "marker": {
          "symbol": "circle"
         },
         "mode": "lines",
         "name": "SC",
         "showlegend": false,
         "type": "scattergl",
         "x": [
          2014,
          2015,
          2016,
          2017,
          2018,
          2019,
          2021,
          2022
         ],
         "xaxis": "x2",
         "y": [
          0.3382352941176471,
          0.25785610520682006,
          0.18033884088611085,
          0.2936725375081539,
          0.696588868940754,
          0.49236641221374045,
          0.42105263157894735,
          0.2050962627406569
         ],
         "yaxis": "y2"
        },
        {
         "customdata": [
          [
           47361
          ],
          [
           48023
          ],
          [
           48405
          ],
          [
           49438
          ],
          [
           49818
          ],
          [
           50893
          ],
          [
           51580
          ],
          [
           54651
          ]
         ],
         "hovertemplate": "state=SC<br>group=AGEP<br>year=%{x}<br>base_rate=%{y}<br>len=%{customdata[0]}<extra></extra>",
         "legendgroup": "SC",
         "line": {
          "color": "#FECB52",
          "dash": "solid"
         },
         "marker": {
          "symbol": "circle"
         },
         "mode": "lines",
         "name": "SC",
         "showlegend": false,
         "type": "scattergl",
         "x": [
          2014,
          2015,
          2016,
          2017,
          2018,
          2019,
          2021,
          2022
         ],
         "xaxis": "x3",
         "y": [
          0.7882562277580071,
          0.7835820895522388,
          0.7650273224043715,
          0.7810457516339869,
          0.8155339805825242,
          0.7965811965811965,
          0.770949720670391,
          0.7891373801916933
         ],
         "yaxis": "y3"
        },
        {
         "customdata": [
          [
           8626
          ],
          [
           8742
          ],
          [
           8725
          ],
          [
           8881
          ],
          [
           8986
          ],
          [
           9128
          ],
          [
           8823
          ],
          [
           9296
          ]
         ],
         "hovertemplate": "state=SD<br>group=SEX<br>year=%{x}<br>base_rate=%{y}<br>len=%{customdata[0]}<extra></extra>",
         "legendgroup": "SD",
         "line": {
          "color": "#636efa",
          "dash": "solid"
         },
         "marker": {
          "symbol": "circle"
         },
         "mode": "lines",
         "name": "SD",
         "showlegend": true,
         "type": "scattergl",
         "x": [
          2014,
          2015,
          2016,
          2017,
          2018,
          2019,
          2021,
          2022
         ],
         "xaxis": "x",
         "y": [
          0.05413060614363846,
          0.06897583971455695,
          0.041007057098572275,
          0.07483966442878137,
          0.026338354321614244,
          0.031086394159198893,
          0.03211807393626043,
          0.05185305338846907
         ],
         "yaxis": "y"
        },
        {
         "customdata": [
          [
           8626
          ],
          [
           8742
          ],
          [
           8725
          ],
          [
           8881
          ],
          [
           8986
          ],
          [
           9128
          ],
          [
           8823
          ],
          [
           9296
          ]
         ],
         "hovertemplate": "state=SD<br>group=RAC1P<br>year=%{x}<br>base_rate=%{y}<br>len=%{customdata[0]}<extra></extra>",
         "legendgroup": "SD",
         "line": {
          "color": "#636efa",
          "dash": "solid"
         },
         "marker": {
          "symbol": "circle"
         },
         "mode": "lines",
         "name": "SD",
         "showlegend": false,
         "type": "scattergl",
         "x": [
          2014,
          2015,
          2016,
          2017,
          2018,
          2019,
          2021,
          2022
         ],
         "xaxis": "x2",
         "y": [
          0.8095238095238095,
          0.5078645694481472,
          0.5869565217391305,
          0.5333333333333333,
          0.6323529411764706,
          0.3762289325842697,
          0.353014553014553,
          0.3132678132678133
         ],
         "yaxis": "y2"
        },
        {
         "customdata": [
          [
           8626
          ],
          [
           8742
          ],
          [
           8725
          ],
          [
           8881
          ],
          [
           8986
          ],
          [
           9128
          ],
          [
           8823
          ],
          [
           9296
          ]
         ],
         "hovertemplate": "state=SD<br>group=AGEP<br>year=%{x}<br>base_rate=%{y}<br>len=%{customdata[0]}<extra></extra>",
         "legendgroup": "SD",
         "line": {
          "color": "#636efa",
          "dash": "solid"
         },
         "marker": {
          "symbol": "circle"
         },
         "mode": "lines",
         "name": "SD",
         "showlegend": false,
         "type": "scattergl",
         "x": [
          2014,
          2015,
          2016,
          2017,
          2018,
          2019,
          2021,
          2022
         ],
         "xaxis": "x3",
         "y": [
          0.9078947368421053,
          0.8761904761904762,
          0.8877551020408163,
          0.9107142857142857,
          0.9,
          0.9523809523809523,
          0.9,
          0.8902439024390244
         ],
         "yaxis": "y3"
        },
        {
         "customdata": [
          [
           65554
          ],
          [
           65549
          ],
          [
           65757
          ],
          [
           66575
          ],
          [
           67950
          ],
          [
           68415
          ],
          [
           69853
          ],
          [
           72374
          ]
         ],
         "hovertemplate": "state=TN<br>group=SEX<br>year=%{x}<br>base_rate=%{y}<br>len=%{customdata[0]}<extra></extra>",
         "legendgroup": "TN",
         "line": {
          "color": "#EF553B",
          "dash": "solid"
         },
         "marker": {
          "symbol": "circle"
         },
         "mode": "lines",
         "name": "TN",
         "showlegend": true,
         "type": "scattergl",
         "x": [
          2014,
          2015,
          2016,
          2017,
          2018,
          2019,
          2021,
          2022
         ],
         "xaxis": "x",
         "y": [
          0.055351734884414416,
          0.06247789912753282,
          0.057643140276163185,
          0.06368392190358613,
          0.05932233982355434,
          0.06077368110777054,
          0.060543078460701505,
          0.06658831675152505
         ],
         "yaxis": "y"
        },
        {
         "customdata": [
          [
           65554
          ],
          [
           65549
          ],
          [
           65757
          ],
          [
           66575
          ],
          [
           67950
          ],
          [
           68415
          ],
          [
           69853
          ],
          [
           72374
          ]
         ],
         "hovertemplate": "state=TN<br>group=RAC1P<br>year=%{x}<br>base_rate=%{y}<br>len=%{customdata[0]}<extra></extra>",
         "legendgroup": "TN",
         "line": {
          "color": "#EF553B",
          "dash": "solid"
         },
         "marker": {
          "symbol": "circle"
         },
         "mode": "lines",
         "name": "TN",
         "showlegend": false,
         "type": "scattergl",
         "x": [
          2014,
          2015,
          2016,
          2017,
          2018,
          2019,
          2021,
          2022
         ],
         "xaxis": "x2",
         "y": [
          0.4782608695652174,
          0.2142857142857143,
          0.48,
          0.2523278420137113,
          0.696521095484826,
          0.5174311926605505,
          0.32121212121212117,
          0.20673886883273168
         ],
         "yaxis": "y2"
        },
        {
         "customdata": [
          [
           65554
          ],
          [
           65549
          ],
          [
           65757
          ],
          [
           66575
          ],
          [
           67950
          ],
          [
           68415
          ],
          [
           69853
          ],
          [
           72374
          ]
         ],
         "hovertemplate": "state=TN<br>group=AGEP<br>year=%{x}<br>base_rate=%{y}<br>len=%{customdata[0]}<extra></extra>",
         "legendgroup": "TN",
         "line": {
          "color": "#EF553B",
          "dash": "solid"
         },
         "marker": {
          "symbol": "circle"
         },
         "mode": "lines",
         "name": "TN",
         "showlegend": false,
         "type": "scattergl",
         "x": [
          2014,
          2015,
          2016,
          2017,
          2018,
          2019,
          2021,
          2022
         ],
         "xaxis": "x3",
         "y": [
          0.7613504074505238,
          0.767277856135402,
          0.7686781609195402,
          0.7727873183619551,
          0.7807551766138855,
          0.7943805874840357,
          0.7728426395939086,
          0.7972350230414746
         ],
         "yaxis": "y3"
        },
        {
         "customdata": [
          [
           254883
          ],
          [
           259224
          ],
          [
           261896
          ],
          [
           265842
          ],
          [
           268100
          ],
          [
           272776
          ],
          [
           261446
          ],
          [
           292919
          ]
         ],
         "hovertemplate": "state=TX<br>group=SEX<br>year=%{x}<br>base_rate=%{y}<br>len=%{customdata[0]}<extra></extra>",
         "legendgroup": "TX",
         "line": {
          "color": "#00cc96",
          "dash": "solid"
         },
         "marker": {
          "symbol": "circle"
         },
         "mode": "lines",
         "name": "TX",
         "showlegend": true,
         "type": "scattergl",
         "x": [
          2014,
          2015,
          2016,
          2017,
          2018,
          2019,
          2021,
          2022
         ],
         "xaxis": "x",
         "y": [
          0.08245431035931905,
          0.08203124424986374,
          0.07809857031450962,
          0.07935874504463314,
          0.07871245821668682,
          0.07609359463686471,
          0.06798574287414388,
          0.06843675645288899
         ],
         "yaxis": "y"
        },
        {
         "customdata": [
          [
           254883
          ],
          [
           259224
          ],
          [
           261896
          ],
          [
           265842
          ],
          [
           268100
          ],
          [
           272776
          ],
          [
           261446
          ],
          [
           292919
          ]
         ],
         "hovertemplate": "state=TX<br>group=RAC1P<br>year=%{x}<br>base_rate=%{y}<br>len=%{customdata[0]}<extra></extra>",
         "legendgroup": "TX",
         "line": {
          "color": "#00cc96",
          "dash": "solid"
         },
         "marker": {
          "symbol": "circle"
         },
         "mode": "lines",
         "name": "TX",
         "showlegend": false,
         "type": "scattergl",
         "x": [
          2014,
          2015,
          2016,
          2017,
          2018,
          2019,
          2021,
          2022
         ],
         "xaxis": "x2",
         "y": [
          0.15955411900086003,
          0.1563118623420131,
          0.15599627395249105,
          0.23287686787482403,
          0.14531671647854222,
          0.1807306652716017,
          0.19828347229033844,
          0.2813214643457882
         ],
         "yaxis": "y2"
        },
        {
         "customdata": [
          [
           254883
          ],
          [
           259224
          ],
          [
           261896
          ],
          [
           265842
          ],
          [
           268100
          ],
          [
           272776
          ],
          [
           261446
          ],
          [
           292919
          ]
         ],
         "hovertemplate": "state=TX<br>group=AGEP<br>year=%{x}<br>base_rate=%{y}<br>len=%{customdata[0]}<extra></extra>",
         "legendgroup": "TX",
         "line": {
          "color": "#00cc96",
          "dash": "solid"
         },
         "marker": {
          "symbol": "circle"
         },
         "mode": "lines",
         "name": "TX",
         "showlegend": false,
         "type": "scattergl",
         "x": [
          2014,
          2015,
          2016,
          2017,
          2018,
          2019,
          2021,
          2022
         ],
         "xaxis": "x3",
         "y": [
          0.7538265306122449,
          0.7610373572090151,
          0.7619788425637835,
          0.7773302646720368,
          0.7804950790337012,
          0.77875,
          0.7464561855670103,
          0.773510307822649
         ],
         "yaxis": "y3"
        },
        {
         "customdata": [
          [
           28666
          ],
          [
           29290
          ],
          [
           29828
          ],
          [
           30904
          ],
          [
           31603
          ],
          [
           32371
          ],
          [
           33731
          ],
          [
           35537
          ]
         ],
         "hovertemplate": "state=UT<br>group=SEX<br>year=%{x}<br>base_rate=%{y}<br>len=%{customdata[0]}<extra></extra>",
         "legendgroup": "UT",
         "line": {
          "color": "#ab63fa",
          "dash": "solid"
         },
         "marker": {
          "symbol": "circle"
         },
         "mode": "lines",
         "name": "UT",
         "showlegend": true,
         "type": "scattergl",
         "x": [
          2014,
          2015,
          2016,
          2017,
          2018,
          2019,
          2021,
          2022
         ],
         "xaxis": "x",
         "y": [
          0.11245302538642543,
          0.10870223123001377,
          0.09878659463058592,
          0.09395903901747893,
          0.09974372560242195,
          0.10205991647218243,
          0.09775912428020606,
          0.09516715476982396
         ],
         "yaxis": "y"
        },
        {
         "customdata": [
          [
           28666
          ],
          [
           29290
          ],
          [
           29828
          ],
          [
           30904
          ],
          [
           31603
          ],
          [
           32371
          ],
          [
           33731
          ],
          [
           35537
          ]
         ],
         "hovertemplate": "state=UT<br>group=RAC1P<br>year=%{x}<br>base_rate=%{y}<br>len=%{customdata[0]}<extra></extra>",
         "legendgroup": "UT",
         "line": {
          "color": "#ab63fa",
          "dash": "solid"
         },
         "marker": {
          "symbol": "circle"
         },
         "mode": "lines",
         "name": "UT",
         "showlegend": false,
         "type": "scattergl",
         "x": [
          2014,
          2015,
          2016,
          2017,
          2018,
          2019,
          2021,
          2022
         ],
         "xaxis": "x2",
         "y": [
          0.24322943522254753,
          0.6858407079646018,
          0.2040135457167942,
          0.22955523672883787,
          0.41889063317634745,
          0.2861098292570374,
          0.4538461538461539,
          0.5793939393939394
         ],
         "yaxis": "y2"
        },
        {
         "customdata": [
          [
           28666
          ],
          [
           29290
          ],
          [
           29828
          ],
          [
           30904
          ],
          [
           31603
          ],
          [
           32371
          ],
          [
           33731
          ],
          [
           35537
          ]
         ],
         "hovertemplate": "state=UT<br>group=AGEP<br>year=%{x}<br>base_rate=%{y}<br>len=%{customdata[0]}<extra></extra>",
         "legendgroup": "UT",
         "line": {
          "color": "#ab63fa",
          "dash": "solid"
         },
         "marker": {
          "symbol": "circle"
         },
         "mode": "lines",
         "name": "UT",
         "showlegend": false,
         "type": "scattergl",
         "x": [
          2014,
          2015,
          2016,
          2017,
          2018,
          2019,
          2021,
          2022
         ],
         "xaxis": "x3",
         "y": [
          0.8044280442804428,
          0.8482758620689655,
          0.8525641025641025,
          0.8328767123287671,
          0.8432601880877743,
          0.8547945205479452,
          0.8257425742574257,
          0.8359375
         ],
         "yaxis": "y3"
        },
        {
         "customdata": [
          [
           6370
          ],
          [
           6326
          ],
          [
           6411
          ],
          [
           6340
          ],
          [
           6436
          ],
          [
           6543
          ],
          [
           6678
          ],
          [
           6860
          ]
         ],
         "hovertemplate": "state=VT<br>group=SEX<br>year=%{x}<br>base_rate=%{y}<br>len=%{customdata[0]}<extra></extra>",
         "legendgroup": "VT",
         "line": {
          "color": "#FFA15A",
          "dash": "solid"
         },
         "marker": {
          "symbol": "circle"
         },
         "mode": "lines",
         "name": "VT",
         "showlegend": true,
         "type": "scattergl",
         "x": [
          2014,
          2015,
          2016,
          2017,
          2018,
          2019,
          2021,
          2022
         ],
         "xaxis": "x",
         "y": [
          0.03902139724659259,
          0.03450885099275358,
          0.02871291737974091,
          0.031044369008392025,
          0.025878532447589142,
          0.02217309444275739,
          0.02356152733770872,
          0.020360888096358998
         ],
         "yaxis": "y"
        },
        {
         "customdata": [
          [
           6370
          ],
          [
           6326
          ],
          [
           6411
          ],
          [
           6340
          ],
          [
           6436
          ],
          [
           6543
          ],
          [
           6678
          ],
          [
           6860
          ]
         ],
         "hovertemplate": "state=VT<br>group=RAC1P<br>year=%{x}<br>base_rate=%{y}<br>len=%{customdata[0]}<extra></extra>",
         "legendgroup": "VT",
         "line": {
          "color": "#FFA15A",
          "dash": "solid"
         },
         "marker": {
          "symbol": "circle"
         },
         "mode": "lines",
         "name": "VT",
         "showlegend": false,
         "type": "scattergl",
         "x": [
          2014,
          2015,
          2016,
          2017,
          2018,
          2019,
          2021,
          2022
         ],
         "xaxis": "x2",
         "y": [
          0.7604166666666666,
          0.30808047493403695,
          0.7058823529411764,
          0.3192371475953565,
          0.64,
          1,
          0.5721518987341772,
          0.48810289389067524
         ],
         "yaxis": "y2"
        },
        {
         "customdata": [
          [
           6370
          ],
          [
           6326
          ],
          [
           6411
          ],
          [
           6340
          ],
          [
           6436
          ],
          [
           6543
          ],
          [
           6678
          ],
          [
           6860
          ]
         ],
         "hovertemplate": "state=VT<br>group=AGEP<br>year=%{x}<br>base_rate=%{y}<br>len=%{customdata[0]}<extra></extra>",
         "legendgroup": "VT",
         "line": {
          "color": "#FFA15A",
          "dash": "solid"
         },
         "marker": {
          "symbol": "circle"
         },
         "mode": "lines",
         "name": "VT",
         "showlegend": false,
         "type": "scattergl",
         "x": [
          2014,
          2015,
          2016,
          2017,
          2018,
          2019,
          2021,
          2022
         ],
         "xaxis": "x3",
         "y": [
          0.8928571428571429,
          0.922077922077922,
          0.9397590361445783,
          0.9142857142857143,
          0.9130434782608695,
          0.9154929577464789,
          0.9,
          0.8783783783783784
         ],
         "yaxis": "y3"
        },
        {
         "customdata": [
          [
           83393
          ],
          [
           83472
          ],
          [
           83546
          ],
          [
           84422
          ],
          [
           84755
          ],
          [
           84938
          ],
          [
           87093
          ],
          [
           88761
          ]
         ],
         "hovertemplate": "state=VA<br>group=SEX<br>year=%{x}<br>base_rate=%{y}<br>len=%{customdata[0]}<extra></extra>",
         "legendgroup": "VA",
         "line": {
          "color": "#19d3f3",
          "dash": "solid"
         },
         "marker": {
          "symbol": "circle"
         },
         "mode": "lines",
         "name": "VA",
         "showlegend": true,
         "type": "scattergl",
         "x": [
          2014,
          2015,
          2016,
          2017,
          2018,
          2019,
          2021,
          2022
         ],
         "xaxis": "x",
         "y": [
          0.04552488982008723,
          0.046333990711244,
          0.044304879653745355,
          0.041009472204368125,
          0.048066286536412706,
          0.03573963359740889,
          0.048067913305485155,
          0.033878093130120135
         ],
         "yaxis": "y"
        },
        {
         "customdata": [
          [
           83393
          ],
          [
           83472
          ],
          [
           83546
          ],
          [
           84422
          ],
          [
           84755
          ],
          [
           84938
          ],
          [
           87093
          ],
          [
           88761
          ]
         ],
         "hovertemplate": "state=VA<br>group=RAC1P<br>year=%{x}<br>base_rate=%{y}<br>len=%{customdata[0]}<extra></extra>",
         "legendgroup": "VA",
         "line": {
          "color": "#19d3f3",
          "dash": "solid"
         },
         "marker": {
          "symbol": "circle"
         },
         "mode": "lines",
         "name": "VA",
         "showlegend": false,
         "type": "scattergl",
         "x": [
          2014,
          2015,
          2016,
          2017,
          2018,
          2019,
          2021,
          2022
         ],
         "xaxis": "x2",
         "y": [
          0.2606060606060606,
          0.36712928335964984,
          0.1874948123916706,
          0.1826672127879862,
          0.1845976512426084,
          0.17934931821220745,
          0.2741635687732342,
          0.13267478882527622
         ],
         "yaxis": "y2"
        },
        {
         "customdata": [
          [
           83393
          ],
          [
           83472
          ],
          [
           83546
          ],
          [
           84422
          ],
          [
           84755
          ],
          [
           84938
          ],
          [
           87093
          ],
          [
           88761
          ]
         ],
         "hovertemplate": "state=VA<br>group=AGEP<br>year=%{x}<br>base_rate=%{y}<br>len=%{customdata[0]}<extra></extra>",
         "legendgroup": "VA",
         "line": {
          "color": "#19d3f3",
          "dash": "solid"
         },
         "marker": {
          "symbol": "circle"
         },
         "mode": "lines",
         "name": "VA",
         "showlegend": false,
         "type": "scattergl",
         "x": [
          2014,
          2015,
          2016,
          2017,
          2018,
          2019,
          2021,
          2022
         ],
         "xaxis": "x3",
         "y": [
          0.7851662404092071,
          0.7857142857142857,
          0.7888888888888889,
          0.8126626192541196,
          0.811,
          0.8134765625,
          0.7953586497890295,
          0.8229475766567754
         ],
         "yaxis": "y3"
        },
        {
         "customdata": [
          [
           70600
          ],
          [
           71804
          ],
          [
           72383
          ],
          [
           74695
          ],
          [
           76225
          ],
          [
           77879
          ],
          [
           78528
          ],
          [
           80818
          ]
         ],
         "hovertemplate": "state=WA<br>group=SEX<br>year=%{x}<br>base_rate=%{y}<br>len=%{customdata[0]}<extra></extra>",
         "legendgroup": "WA",
         "line": {
          "color": "#FF6692",
          "dash": "solid"
         },
         "marker": {
          "symbol": "circle"
         },
         "mode": "lines",
         "name": "WA",
         "showlegend": true,
         "type": "scattergl",
         "x": [
          2014,
          2015,
          2016,
          2017,
          2018,
          2019,
          2021,
          2022
         ],
         "xaxis": "x",
         "y": [
          0.05859992173625117,
          0.06493937642303349,
          0.06705666926382003,
          0.06366032287903495,
          0.059066528331116364,
          0.0638737076450625,
          0.058633316947441116,
          0.05898862529154214
         ],
         "yaxis": "y"
        },
        {
         "customdata": [
          [
           70600
          ],
          [
           71804
          ],
          [
           72383
          ],
          [
           74695
          ],
          [
           76225
          ],
          [
           77879
          ],
          [
           78528
          ],
          [
           80818
          ]
         ],
         "hovertemplate": "state=WA<br>group=RAC1P<br>year=%{x}<br>base_rate=%{y}<br>len=%{customdata[0]}<extra></extra>",
         "legendgroup": "WA",
         "line": {
          "color": "#FF6692",
          "dash": "solid"
         },
         "marker": {
          "symbol": "circle"
         },
         "mode": "lines",
         "name": "WA",
         "showlegend": false,
         "type": "scattergl",
         "x": [
          2014,
          2015,
          2016,
          2017,
          2018,
          2019,
          2021,
          2022
         ],
         "xaxis": "x2",
         "y": [
          0.1681643254351456,
          0.2290084234102639,
          0.17730408388520974,
          0.2535532994923858,
          0.14222409794411978,
          0.18051690420248467,
          0.2172765261226205,
          0.20675605730487534
         ],
         "yaxis": "y2"
        },
        {
         "customdata": [
          [
           70600
          ],
          [
           71804
          ],
          [
           72383
          ],
          [
           74695
          ],
          [
           76225
          ],
          [
           77879
          ],
          [
           78528
          ],
          [
           80818
          ]
         ],
         "hovertemplate": "state=WA<br>group=AGEP<br>year=%{x}<br>base_rate=%{y}<br>len=%{customdata[0]}<extra></extra>",
         "legendgroup": "WA",
         "line": {
          "color": "#FF6692",
          "dash": "solid"
         },
         "marker": {
          "symbol": "circle"
         },
         "mode": "lines",
         "name": "WA",
         "showlegend": false,
         "type": "scattergl",
         "x": [
          2014,
          2015,
          2016,
          2017,
          2018,
          2019,
          2021,
          2022
         ],
         "xaxis": "x3",
         "y": [
          0.7838114754098361,
          0.7761377613776138,
          0.784,
          0.8266509433962265,
          0.7989528795811518,
          0.8263157894736842,
          0.7790339157245632,
          0.7989473684210526
         ],
         "yaxis": "y3"
        },
        {
         "customdata": [
          [
           18216
          ],
          [
           18051
          ],
          [
           17909
          ],
          [
           17758
          ],
          [
           18066
          ],
          [
           18130
          ],
          [
           17428
          ],
          [
           18135
          ]
         ],
         "hovertemplate": "state=WV<br>group=SEX<br>year=%{x}<br>base_rate=%{y}<br>len=%{customdata[0]}<extra></extra>",
         "legendgroup": "WV",
         "line": {
          "color": "#B6E880",
          "dash": "solid"
         },
         "marker": {
          "symbol": "circle"
         },
         "mode": "lines",
         "name": "WV",
         "showlegend": true,
         "type": "scattergl",
         "x": [
          2014,
          2015,
          2016,
          2017,
          2018,
          2019,
          2021,
          2022
         ],
         "xaxis": "x",
         "y": [
          0.06508917274694853,
          0.06375515999606235,
          0.04664463286389314,
          0.05053922053922055,
          0.04528490715883593,
          0.04717018447357402,
          0.046844956512238245,
          0.05482313528426441
         ],
         "yaxis": "y"
        },
        {
         "customdata": [
          [
           18216
          ],
          [
           18051
          ],
          [
           17909
          ],
          [
           17758
          ],
          [
           18066
          ],
          [
           18130
          ],
          [
           17428
          ],
          [
           18135
          ]
         ],
         "hovertemplate": "state=WV<br>group=RAC1P<br>year=%{x}<br>base_rate=%{y}<br>len=%{customdata[0]}<extra></extra>",
         "legendgroup": "WV",
         "line": {
          "color": "#B6E880",
          "dash": "solid"
         },
         "marker": {
          "symbol": "circle"
         },
         "mode": "lines",
         "name": "WV",
         "showlegend": false,
         "type": "scattergl",
         "x": [
          2014,
          2015,
          2016,
          2017,
          2018,
          2019,
          2021,
          2022
         ],
         "xaxis": "x2",
         "y": [
          0.339864158829676,
          0.2867647058823529,
          0.5,
          0.8,
          0.5050505050505051,
          0.44966442953020136,
          0.4024725274725275,
          0.6882453151618398
         ],
         "yaxis": "y2"
        },
        {
         "customdata": [
          [
           18216
          ],
          [
           18051
          ],
          [
           17909
          ],
          [
           17758
          ],
          [
           18066
          ],
          [
           18130
          ],
          [
           17428
          ],
          [
           18135
          ]
         ],
         "hovertemplate": "state=WV<br>group=AGEP<br>year=%{x}<br>base_rate=%{y}<br>len=%{customdata[0]}<extra></extra>",
         "legendgroup": "WV",
         "line": {
          "color": "#B6E880",
          "dash": "solid"
         },
         "marker": {
          "symbol": "circle"
         },
         "mode": "lines",
         "name": "WV",
         "showlegend": false,
         "type": "scattergl",
         "x": [
          2014,
          2015,
          2016,
          2017,
          2018,
          2019,
          2021,
          2022
         ],
         "xaxis": "x3",
         "y": [
          0.7614678899082569,
          0.7538461538461538,
          0.7981651376146789,
          0.7355769230769231,
          0.7635467980295566,
          0.8228571428571428,
          0.7777777777777778,
          0.7823834196891192
         ],
         "yaxis": "y3"
        },
        {
         "customdata": [
          [
           58549
          ],
          [
           58578
          ],
          [
           58569
          ],
          [
           59059
          ],
          [
           59833
          ],
          [
           59767
          ],
          [
           60281
          ],
          [
           61967
          ]
         ],
         "hovertemplate": "state=WI<br>group=SEX<br>year=%{x}<br>base_rate=%{y}<br>len=%{customdata[0]}<extra></extra>",
         "legendgroup": "WI",
         "line": {
          "color": "#FF97FF",
          "dash": "solid"
         },
         "marker": {
          "symbol": "circle"
         },
         "mode": "lines",
         "name": "WI",
         "showlegend": true,
         "type": "scattergl",
         "x": [
          2014,
          2015,
          2016,
          2017,
          2018,
          2019,
          2021,
          2022
         ],
         "xaxis": "x",
         "y": [
          0.037283698517311226,
          0.033733700369608655,
          0.04278707128636705,
          0.04295305501543162,
          0.03534463463542714,
          0.035834680982576195,
          0.04097937401674301,
          0.03365743020769818
         ],
         "yaxis": "y"
        },
        {
         "customdata": [
          [
           58549
          ],
          [
           58578
          ],
          [
           58569
          ],
          [
           59059
          ],
          [
           59833
          ],
          [
           59767
          ],
          [
           60281
          ],
          [
           61967
          ]
         ],
         "hovertemplate": "state=WI<br>group=RAC1P<br>year=%{x}<br>base_rate=%{y}<br>len=%{customdata[0]}<extra></extra>",
         "legendgroup": "WI",
         "line": {
          "color": "#FF97FF",
          "dash": "solid"
         },
         "marker": {
          "symbol": "circle"
         },
         "mode": "lines",
         "name": "WI",
         "showlegend": false,
         "type": "scattergl",
         "x": [
          2014,
          2015,
          2016,
          2017,
          2018,
          2019,
          2021,
          2022
         ],
         "xaxis": "x2",
         "y": [
          0.6207792207792208,
          0.5555555555555556,
          0.8541666666666666,
          0.7307692307692308,
          0.251925263119293,
          0.2997416020671835,
          0.34979423868312753,
          0.5304114490161002
         ],
         "yaxis": "y2"
        },
        {
         "customdata": [
          [
           58549
          ],
          [
           58578
          ],
          [
           58569
          ],
          [
           59059
          ],
          [
           59833
          ],
          [
           59767
          ],
          [
           60281
          ],
          [
           61967
          ]
         ],
         "hovertemplate": "state=WI<br>group=AGEP<br>year=%{x}<br>base_rate=%{y}<br>len=%{customdata[0]}<extra></extra>",
         "legendgroup": "WI",
         "line": {
          "color": "#FF97FF",
          "dash": "solid"
         },
         "marker": {
          "symbol": "circle"
         },
         "mode": "lines",
         "name": "WI",
         "showlegend": false,
         "type": "scattergl",
         "x": [
          2014,
          2015,
          2016,
          2017,
          2018,
          2019,
          2021,
          2022
         ],
         "xaxis": "x3",
         "y": [
          0.8364611260053619,
          0.8668555240793201,
          0.8528925619834711,
          0.8626817447495961,
          0.8686708860759493,
          0.8622222222222222,
          0.8666666666666667,
          0.8529862174578867
         ],
         "yaxis": "y3"
        },
        {
         "customdata": [
          [
           5820
          ],
          [
           5819
          ],
          [
           5800
          ],
          [
           5912
          ],
          [
           5740
          ],
          [
           5967
          ],
          [
           5861
          ],
          [
           5962
          ]
         ],
         "hovertemplate": "state=WY<br>group=SEX<br>year=%{x}<br>base_rate=%{y}<br>len=%{customdata[0]}<extra></extra>",
         "legendgroup": "WY",
         "line": {
          "color": "#FECB52",
          "dash": "solid"
         },
         "marker": {
          "symbol": "circle"
         },
         "mode": "lines",
         "name": "WY",
         "showlegend": true,
         "type": "scattergl",
         "x": [
          2014,
          2015,
          2016,
          2017,
          2018,
          2019,
          2021,
          2022
         ],
         "xaxis": "x",
         "y": [
          0.06377158096945806,
          0.06815161137652404,
          0.07713202035123445,
          0.05814768040897905,
          0.056782014587196894,
          0.04056377750430784,
          0.06384895374463445,
          0.050733456781162534
         ],
         "yaxis": "y"
        },
        {
         "customdata": [
          [
           5820
          ],
          [
           5819
          ],
          [
           5800
          ],
          [
           5912
          ],
          [
           5740
          ],
          [
           5967
          ],
          [
           5861
          ],
          [
           5962
          ]
         ],
         "hovertemplate": "state=WY<br>group=RAC1P<br>year=%{x}<br>base_rate=%{y}<br>len=%{customdata[0]}<extra></extra>",
         "legendgroup": "WY",
         "line": {
          "color": "#FECB52",
          "dash": "solid"
         },
         "marker": {
          "symbol": "circle"
         },
         "mode": "lines",
         "name": "WY",
         "showlegend": false,
         "type": "scattergl",
         "x": [
          2014,
          2015,
          2016,
          2017,
          2018,
          2019,
          2021,
          2022
         ],
         "xaxis": "x2",
         "y": [
          0.3755020080321285,
          0.18493150684931509,
          0.32868217054263565,
          0.49122807017543857,
          0.8333333333333334,
          0.35064935064935066,
          0.6652892561983471,
          0.736842105263158
         ],
         "yaxis": "y2"
        },
        {
         "customdata": [
          [
           5820
          ],
          [
           5819
          ],
          [
           5800
          ],
          [
           5912
          ],
          [
           5740
          ],
          [
           5967
          ],
          [
           5861
          ],
          [
           5962
          ]
         ],
         "hovertemplate": "state=WY<br>group=AGEP<br>year=%{x}<br>base_rate=%{y}<br>len=%{customdata[0]}<extra></extra>",
         "legendgroup": "WY",
         "line": {
          "color": "#FECB52",
          "dash": "solid"
         },
         "marker": {
          "symbol": "circle"
         },
         "mode": "lines",
         "name": "WY",
         "showlegend": false,
         "type": "scattergl",
         "x": [
          2014,
          2015,
          2016,
          2017,
          2018,
          2019,
          2021,
          2022
         ],
         "xaxis": "x3",
         "y": [
          0.896551724137931,
          0.9032258064516129,
          0.8985507246376812,
          0.8714285714285714,
          0.9069767441860465,
          0.875,
          0.8783783783783784,
          0.8857142857142857
         ],
         "yaxis": "y3"
        },
        {
         "customdata": [
          [
           31506
          ],
          [
           30767
          ],
          [
           30224
          ],
          [
           20972
          ],
          [
           28117
          ],
          [
           27820
          ],
          [
           25909
          ],
          [
           28944
          ]
         ],
         "hovertemplate": "state=PR<br>group=SEX<br>year=%{x}<br>base_rate=%{y}<br>len=%{customdata[0]}<extra></extra>",
         "legendgroup": "PR",
         "line": {
          "color": "#636efa",
          "dash": "solid"
         },
         "marker": {
          "symbol": "circle"
         },
         "mode": "lines",
         "name": "PR",
         "showlegend": true,
         "type": "scattergl",
         "x": [
          2014,
          2015,
          2016,
          2017,
          2018,
          2019,
          2021,
          2022
         ],
         "xaxis": "x",
         "y": [
          0.06216645409976582,
          0.05579352531819606,
          0.0598974999442104,
          0.0513080465536237,
          0.07120761595094155,
          0.06681369915446711,
          0.06619418614007438,
          0.060194230258840964
         ],
         "yaxis": "y"
        },
        {
         "customdata": [
          [
           31506
          ],
          [
           30767
          ],
          [
           30224
          ],
          [
           20972
          ],
          [
           28117
          ],
          [
           27820
          ],
          [
           25909
          ],
          [
           28944
          ]
         ],
         "hovertemplate": "state=PR<br>group=RAC1P<br>year=%{x}<br>base_rate=%{y}<br>len=%{customdata[0]}<extra></extra>",
         "legendgroup": "PR",
         "line": {
          "color": "#636efa",
          "dash": "solid"
         },
         "marker": {
          "symbol": "circle"
         },
         "mode": "lines",
         "name": "PR",
         "showlegend": false,
         "type": "scattergl",
         "x": [
          2014,
          2015,
          2016,
          2017,
          2018,
          2019,
          2021,
          2022
         ],
         "xaxis": "x2",
         "y": [
          0.40816326530612246,
          0.07985903838157615,
          0.7191304347826086,
          0.1752136752136752,
          0.3333333333333333,
          0.37037037037037035,
          0.18309207837739014,
          0.46774193548387094
         ],
         "yaxis": "y2"
        },
        {
         "customdata": [
          [
           31506
          ],
          [
           30767
          ],
          [
           30224
          ],
          [
           20972
          ],
          [
           28117
          ],
          [
           27820
          ],
          [
           25909
          ],
          [
           28944
          ]
         ],
         "hovertemplate": "state=PR<br>group=AGEP<br>year=%{x}<br>base_rate=%{y}<br>len=%{customdata[0]}<extra></extra>",
         "legendgroup": "PR",
         "line": {
          "color": "#636efa",
          "dash": "solid"
         },
         "marker": {
          "symbol": "circle"
         },
         "mode": "lines",
         "name": "PR",
         "showlegend": false,
         "type": "scattergl",
         "x": [
          2014,
          2015,
          2016,
          2017,
          2018,
          2019,
          2021,
          2022
         ],
         "xaxis": "x3",
         "y": [
          0.6133333333333333,
          0.639751552795031,
          0.6706586826347305,
          0.6877637130801688,
          0.6867924528301886,
          0.7024221453287197,
          0.7035573122529645,
          0.7114754098360656
         ],
         "yaxis": "y3"
        }
       ],
       "layout": {
        "annotations": [
         {
          "font": {},
          "showarrow": false,
          "text": "group=SEX",
          "x": 0.15999999999999998,
          "xanchor": "center",
          "xref": "paper",
          "y": 1,
          "yanchor": "bottom",
          "yref": "paper"
         },
         {
          "font": {},
          "showarrow": false,
          "text": "group=RAC1P",
          "x": 0.49999999999999994,
          "xanchor": "center",
          "xref": "paper",
          "y": 1,
          "yanchor": "bottom",
          "yref": "paper"
         },
         {
          "font": {},
          "showarrow": false,
          "text": "group=AGEP",
          "x": 0.8399999999999999,
          "xanchor": "center",
          "xref": "paper",
          "y": 1,
          "yanchor": "bottom",
          "yref": "paper"
         }
        ],
        "legend": {
         "title": {
          "text": "state"
         },
         "tracegroupgap": 0
        },
        "margin": {
         "t": 60
        },
        "template": {
         "data": {
          "bar": [
           {
            "error_x": {
             "color": "#2a3f5f"
            },
            "error_y": {
             "color": "#2a3f5f"
            },
            "marker": {
             "line": {
              "color": "#E5ECF6",
              "width": 0.5
             },
             "pattern": {
              "fillmode": "overlay",
              "size": 10,
              "solidity": 0.2
             }
            },
            "type": "bar"
           }
          ],
          "barpolar": [
           {
            "marker": {
             "line": {
              "color": "#E5ECF6",
              "width": 0.5
             },
             "pattern": {
              "fillmode": "overlay",
              "size": 10,
              "solidity": 0.2
             }
            },
            "type": "barpolar"
           }
          ],
          "carpet": [
           {
            "aaxis": {
             "endlinecolor": "#2a3f5f",
             "gridcolor": "white",
             "linecolor": "white",
             "minorgridcolor": "white",
             "startlinecolor": "#2a3f5f"
            },
            "baxis": {
             "endlinecolor": "#2a3f5f",
             "gridcolor": "white",
             "linecolor": "white",
             "minorgridcolor": "white",
             "startlinecolor": "#2a3f5f"
            },
            "type": "carpet"
           }
          ],
          "choropleth": [
           {
            "colorbar": {
             "outlinewidth": 0,
             "ticks": ""
            },
            "type": "choropleth"
           }
          ],
          "contour": [
           {
            "colorbar": {
             "outlinewidth": 0,
             "ticks": ""
            },
            "colorscale": [
             [
              0,
              "#0d0887"
             ],
             [
              0.1111111111111111,
              "#46039f"
             ],
             [
              0.2222222222222222,
              "#7201a8"
             ],
             [
              0.3333333333333333,
              "#9c179e"
             ],
             [
              0.4444444444444444,
              "#bd3786"
             ],
             [
              0.5555555555555556,
              "#d8576b"
             ],
             [
              0.6666666666666666,
              "#ed7953"
             ],
             [
              0.7777777777777778,
              "#fb9f3a"
             ],
             [
              0.8888888888888888,
              "#fdca26"
             ],
             [
              1,
              "#f0f921"
             ]
            ],
            "type": "contour"
           }
          ],
          "contourcarpet": [
           {
            "colorbar": {
             "outlinewidth": 0,
             "ticks": ""
            },
            "type": "contourcarpet"
           }
          ],
          "heatmap": [
           {
            "colorbar": {
             "outlinewidth": 0,
             "ticks": ""
            },
            "colorscale": [
             [
              0,
              "#0d0887"
             ],
             [
              0.1111111111111111,
              "#46039f"
             ],
             [
              0.2222222222222222,
              "#7201a8"
             ],
             [
              0.3333333333333333,
              "#9c179e"
             ],
             [
              0.4444444444444444,
              "#bd3786"
             ],
             [
              0.5555555555555556,
              "#d8576b"
             ],
             [
              0.6666666666666666,
              "#ed7953"
             ],
             [
              0.7777777777777778,
              "#fb9f3a"
             ],
             [
              0.8888888888888888,
              "#fdca26"
             ],
             [
              1,
              "#f0f921"
             ]
            ],
            "type": "heatmap"
           }
          ],
          "heatmapgl": [
           {
            "colorbar": {
             "outlinewidth": 0,
             "ticks": ""
            },
            "colorscale": [
             [
              0,
              "#0d0887"
             ],
             [
              0.1111111111111111,
              "#46039f"
             ],
             [
              0.2222222222222222,
              "#7201a8"
             ],
             [
              0.3333333333333333,
              "#9c179e"
             ],
             [
              0.4444444444444444,
              "#bd3786"
             ],
             [
              0.5555555555555556,
              "#d8576b"
             ],
             [
              0.6666666666666666,
              "#ed7953"
             ],
             [
              0.7777777777777778,
              "#fb9f3a"
             ],
             [
              0.8888888888888888,
              "#fdca26"
             ],
             [
              1,
              "#f0f921"
             ]
            ],
            "type": "heatmapgl"
           }
          ],
          "histogram": [
           {
            "marker": {
             "pattern": {
              "fillmode": "overlay",
              "size": 10,
              "solidity": 0.2
             }
            },
            "type": "histogram"
           }
          ],
          "histogram2d": [
           {
            "colorbar": {
             "outlinewidth": 0,
             "ticks": ""
            },
            "colorscale": [
             [
              0,
              "#0d0887"
             ],
             [
              0.1111111111111111,
              "#46039f"
             ],
             [
              0.2222222222222222,
              "#7201a8"
             ],
             [
              0.3333333333333333,
              "#9c179e"
             ],
             [
              0.4444444444444444,
              "#bd3786"
             ],
             [
              0.5555555555555556,
              "#d8576b"
             ],
             [
              0.6666666666666666,
              "#ed7953"
             ],
             [
              0.7777777777777778,
              "#fb9f3a"
             ],
             [
              0.8888888888888888,
              "#fdca26"
             ],
             [
              1,
              "#f0f921"
             ]
            ],
            "type": "histogram2d"
           }
          ],
          "histogram2dcontour": [
           {
            "colorbar": {
             "outlinewidth": 0,
             "ticks": ""
            },
            "colorscale": [
             [
              0,
              "#0d0887"
             ],
             [
              0.1111111111111111,
              "#46039f"
             ],
             [
              0.2222222222222222,
              "#7201a8"
             ],
             [
              0.3333333333333333,
              "#9c179e"
             ],
             [
              0.4444444444444444,
              "#bd3786"
             ],
             [
              0.5555555555555556,
              "#d8576b"
             ],
             [
              0.6666666666666666,
              "#ed7953"
             ],
             [
              0.7777777777777778,
              "#fb9f3a"
             ],
             [
              0.8888888888888888,
              "#fdca26"
             ],
             [
              1,
              "#f0f921"
             ]
            ],
            "type": "histogram2dcontour"
           }
          ],
          "mesh3d": [
           {
            "colorbar": {
             "outlinewidth": 0,
             "ticks": ""
            },
            "type": "mesh3d"
           }
          ],
          "parcoords": [
           {
            "line": {
             "colorbar": {
              "outlinewidth": 0,
              "ticks": ""
             }
            },
            "type": "parcoords"
           }
          ],
          "pie": [
           {
            "automargin": true,
            "type": "pie"
           }
          ],
          "scatter": [
           {
            "fillpattern": {
             "fillmode": "overlay",
             "size": 10,
             "solidity": 0.2
            },
            "type": "scatter"
           }
          ],
          "scatter3d": [
           {
            "line": {
             "colorbar": {
              "outlinewidth": 0,
              "ticks": ""
             }
            },
            "marker": {
             "colorbar": {
              "outlinewidth": 0,
              "ticks": ""
             }
            },
            "type": "scatter3d"
           }
          ],
          "scattercarpet": [
           {
            "marker": {
             "colorbar": {
              "outlinewidth": 0,
              "ticks": ""
             }
            },
            "type": "scattercarpet"
           }
          ],
          "scattergeo": [
           {
            "marker": {
             "colorbar": {
              "outlinewidth": 0,
              "ticks": ""
             }
            },
            "type": "scattergeo"
           }
          ],
          "scattergl": [
           {
            "marker": {
             "colorbar": {
              "outlinewidth": 0,
              "ticks": ""
             }
            },
            "type": "scattergl"
           }
          ],
          "scattermapbox": [
           {
            "marker": {
             "colorbar": {
              "outlinewidth": 0,
              "ticks": ""
             }
            },
            "type": "scattermapbox"
           }
          ],
          "scatterpolar": [
           {
            "marker": {
             "colorbar": {
              "outlinewidth": 0,
              "ticks": ""
             }
            },
            "type": "scatterpolar"
           }
          ],
          "scatterpolargl": [
           {
            "marker": {
             "colorbar": {
              "outlinewidth": 0,
              "ticks": ""
             }
            },
            "type": "scatterpolargl"
           }
          ],
          "scatterternary": [
           {
            "marker": {
             "colorbar": {
              "outlinewidth": 0,
              "ticks": ""
             }
            },
            "type": "scatterternary"
           }
          ],
          "surface": [
           {
            "colorbar": {
             "outlinewidth": 0,
             "ticks": ""
            },
            "colorscale": [
             [
              0,
              "#0d0887"
             ],
             [
              0.1111111111111111,
              "#46039f"
             ],
             [
              0.2222222222222222,
              "#7201a8"
             ],
             [
              0.3333333333333333,
              "#9c179e"
             ],
             [
              0.4444444444444444,
              "#bd3786"
             ],
             [
              0.5555555555555556,
              "#d8576b"
             ],
             [
              0.6666666666666666,
              "#ed7953"
             ],
             [
              0.7777777777777778,
              "#fb9f3a"
             ],
             [
              0.8888888888888888,
              "#fdca26"
             ],
             [
              1,
              "#f0f921"
             ]
            ],
            "type": "surface"
           }
          ],
          "table": [
           {
            "cells": {
             "fill": {
              "color": "#EBF0F8"
             },
             "line": {
              "color": "white"
             }
            },
            "header": {
             "fill": {
              "color": "#C8D4E3"
             },
             "line": {
              "color": "white"
             }
            },
            "type": "table"
           }
          ]
         },
         "layout": {
          "annotationdefaults": {
           "arrowcolor": "#2a3f5f",
           "arrowhead": 0,
           "arrowwidth": 1
          },
          "autotypenumbers": "strict",
          "coloraxis": {
           "colorbar": {
            "outlinewidth": 0,
            "ticks": ""
           }
          },
          "colorscale": {
           "diverging": [
            [
             0,
             "#8e0152"
            ],
            [
             0.1,
             "#c51b7d"
            ],
            [
             0.2,
             "#de77ae"
            ],
            [
             0.3,
             "#f1b6da"
            ],
            [
             0.4,
             "#fde0ef"
            ],
            [
             0.5,
             "#f7f7f7"
            ],
            [
             0.6,
             "#e6f5d0"
            ],
            [
             0.7,
             "#b8e186"
            ],
            [
             0.8,
             "#7fbc41"
            ],
            [
             0.9,
             "#4d9221"
            ],
            [
             1,
             "#276419"
            ]
           ],
           "sequential": [
            [
             0,
             "#0d0887"
            ],
            [
             0.1111111111111111,
             "#46039f"
            ],
            [
             0.2222222222222222,
             "#7201a8"
            ],
            [
             0.3333333333333333,
             "#9c179e"
            ],
            [
             0.4444444444444444,
             "#bd3786"
            ],
            [
             0.5555555555555556,
             "#d8576b"
            ],
            [
             0.6666666666666666,
             "#ed7953"
            ],
            [
             0.7777777777777778,
             "#fb9f3a"
            ],
            [
             0.8888888888888888,
             "#fdca26"
            ],
            [
             1,
             "#f0f921"
            ]
           ],
           "sequentialminus": [
            [
             0,
             "#0d0887"
            ],
            [
             0.1111111111111111,
             "#46039f"
            ],
            [
             0.2222222222222222,
             "#7201a8"
            ],
            [
             0.3333333333333333,
             "#9c179e"
            ],
            [
             0.4444444444444444,
             "#bd3786"
            ],
            [
             0.5555555555555556,
             "#d8576b"
            ],
            [
             0.6666666666666666,
             "#ed7953"
            ],
            [
             0.7777777777777778,
             "#fb9f3a"
            ],
            [
             0.8888888888888888,
             "#fdca26"
            ],
            [
             1,
             "#f0f921"
            ]
           ]
          },
          "colorway": [
           "#636efa",
           "#EF553B",
           "#00cc96",
           "#ab63fa",
           "#FFA15A",
           "#19d3f3",
           "#FF6692",
           "#B6E880",
           "#FF97FF",
           "#FECB52"
          ],
          "font": {
           "color": "#2a3f5f"
          },
          "geo": {
           "bgcolor": "white",
           "lakecolor": "white",
           "landcolor": "#E5ECF6",
           "showlakes": true,
           "showland": true,
           "subunitcolor": "white"
          },
          "hoverlabel": {
           "align": "left"
          },
          "hovermode": "closest",
          "mapbox": {
           "style": "light"
          },
          "paper_bgcolor": "white",
          "plot_bgcolor": "#E5ECF6",
          "polar": {
           "angularaxis": {
            "gridcolor": "white",
            "linecolor": "white",
            "ticks": ""
           },
           "bgcolor": "#E5ECF6",
           "radialaxis": {
            "gridcolor": "white",
            "linecolor": "white",
            "ticks": ""
           }
          },
          "scene": {
           "xaxis": {
            "backgroundcolor": "#E5ECF6",
            "gridcolor": "white",
            "gridwidth": 2,
            "linecolor": "white",
            "showbackground": true,
            "ticks": "",
            "zerolinecolor": "white"
           },
           "yaxis": {
            "backgroundcolor": "#E5ECF6",
            "gridcolor": "white",
            "gridwidth": 2,
            "linecolor": "white",
            "showbackground": true,
            "ticks": "",
            "zerolinecolor": "white"
           },
           "zaxis": {
            "backgroundcolor": "#E5ECF6",
            "gridcolor": "white",
            "gridwidth": 2,
            "linecolor": "white",
            "showbackground": true,
            "ticks": "",
            "zerolinecolor": "white"
           }
          },
          "shapedefaults": {
           "line": {
            "color": "#2a3f5f"
           }
          },
          "ternary": {
           "aaxis": {
            "gridcolor": "white",
            "linecolor": "white",
            "ticks": ""
           },
           "baxis": {
            "gridcolor": "white",
            "linecolor": "white",
            "ticks": ""
           },
           "bgcolor": "#E5ECF6",
           "caxis": {
            "gridcolor": "white",
            "linecolor": "white",
            "ticks": ""
           }
          },
          "title": {
           "x": 0.05
          },
          "xaxis": {
           "automargin": true,
           "gridcolor": "white",
           "linecolor": "white",
           "ticks": "",
           "title": {
            "standoff": 15
           },
           "zerolinecolor": "white",
           "zerolinewidth": 2
          },
          "yaxis": {
           "automargin": true,
           "gridcolor": "white",
           "linecolor": "white",
           "ticks": "",
           "title": {
            "standoff": 15
           },
           "zerolinecolor": "white",
           "zerolinewidth": 2
          }
         }
        },
        "xaxis": {
         "anchor": "y",
         "domain": [
          0,
          0.31999999999999995
         ],
         "title": {
          "text": "year"
         }
        },
        "xaxis2": {
         "anchor": "y2",
         "domain": [
          0.33999999999999997,
          0.6599999999999999
         ],
         "matches": "x",
         "title": {
          "text": "year"
         }
        },
        "xaxis3": {
         "anchor": "y3",
         "domain": [
          0.6799999999999999,
          0.9999999999999999
         ],
         "matches": "x",
         "title": {
          "text": "year"
         }
        },
        "yaxis": {
         "anchor": "x",
         "domain": [
          0,
          1
         ],
         "title": {
          "text": "base_rate"
         }
        },
        "yaxis2": {
         "anchor": "x2",
         "domain": [
          0,
          1
         ],
         "matches": "y",
         "showticklabels": false
        },
        "yaxis3": {
         "anchor": "x3",
         "domain": [
          0,
          1
         ],
         "matches": "y",
         "showticklabels": false
        }
       }
      }
     },
     "metadata": {},
     "output_type": "display_data"
    }
   ],
   "source": [
    "px.line(\n",
    "    base_rate,\n",
    "    x=\"year\",\n",
    "    y=\"base_rate\",\n",
    "    color=\"state\",\n",
    "    facet_col=\"group\",\n",
    "    hover_data=\"len\",\n",
    ")"
   ]
  }
 ],
 "metadata": {
  "kernelspec": {
   "display_name": "default",
   "language": "python",
   "name": "python3"
  },
  "language_info": {
   "codemirror_mode": {
    "name": "ipython",
    "version": 3
   },
   "file_extension": ".py",
   "mimetype": "text/x-python",
   "name": "python",
   "nbconvert_exporter": "python",
   "pygments_lexer": "ipython3",
   "version": "3.12.6"
  }
 },
 "nbformat": 4,
 "nbformat_minor": 2
}
