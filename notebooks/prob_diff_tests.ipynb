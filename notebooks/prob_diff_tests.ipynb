{
 "cells": [
  {
   "cell_type": "code",
   "execution_count": 1,
   "metadata": {},
   "outputs": [
    {
     "name": "stderr",
     "output_type": "stream",
     "text": [
      "/mnt/nfs/home/vujasino/jupyter_workspace/Audits/merlin/.pixi/envs/default/lib/python3.12/site-packages/tqdm/auto.py:21: TqdmWarning: IProgress not found. Please update jupyter and ipywidgets. See https://ipywidgets.readthedocs.io/en/stable/user_install.html\n",
      "  from .autonotebook import tqdm as notebook_tqdm\n"
     ]
    }
   ],
   "source": [
    "import os\n",
    "import kagglehub\n",
    "\n",
    "import numpy as np\n",
    "import scipy as sp\n",
    "import pandas as pd\n",
    "import seaborn as sns\n",
    "import matplotlib.pyplot as plt\n",
    "\n",
    "from sklearn.preprocessing import LabelEncoder, StandardScaler, OneHotEncoder\n",
    "from sklearn.impute import SimpleImputer\n",
    "\n",
    "from typing import List, Tuple"
   ]
  },
  {
   "cell_type": "markdown",
   "metadata": {},
   "source": [
    "## Downloading data"
   ]
  },
  {
   "cell_type": "code",
   "execution_count": 2,
   "metadata": {},
   "outputs": [
    {
     "name": "stdout",
     "output_type": "stream",
     "text": [
      "Downloading from https://www.kaggle.com/api/v1/datasets/download/uciml/adult-census-income?dataset_version_number=3...\n"
     ]
    },
    {
     "name": "stderr",
     "output_type": "stream",
     "text": [
      "100%|██████████| 450k/450k [00:00<00:00, 1.53MB/s]"
     ]
    },
    {
     "name": "stdout",
     "output_type": "stream",
     "text": [
      "Extracting files...\n"
     ]
    },
    {
     "name": "stderr",
     "output_type": "stream",
     "text": [
      "\n"
     ]
    }
   ],
   "source": [
    "path = kagglehub.dataset_download(\"uciml/adult-census-income\")\n",
    "out_path = \"../data/adult-census-income\"\n",
    "%rm -r $out_path\n",
    "%mv $path $out_path"
   ]
  },
  {
   "cell_type": "markdown",
   "metadata": {},
   "source": [
    "## Data Loading and Analysis\n",
    "\n",
    "Excerpt from a reference paper \"We use age, years of education, capital gain, capital loss, hours-per-week, etc., as continuous features, and education level, gender, etc., as categorical features.\""
   ]
  },
  {
   "cell_type": "code",
   "execution_count": 3,
   "metadata": {},
   "outputs": [
    {
     "data": {
      "text/html": [
       "<div>\n",
       "<style scoped>\n",
       "    .dataframe tbody tr th:only-of-type {\n",
       "        vertical-align: middle;\n",
       "    }\n",
       "\n",
       "    .dataframe tbody tr th {\n",
       "        vertical-align: top;\n",
       "    }\n",
       "\n",
       "    .dataframe thead th {\n",
       "        text-align: right;\n",
       "    }\n",
       "</style>\n",
       "<table border=\"1\" class=\"dataframe\">\n",
       "  <thead>\n",
       "    <tr style=\"text-align: right;\">\n",
       "      <th></th>\n",
       "      <th>age</th>\n",
       "      <th>workclass</th>\n",
       "      <th>fnlwgt</th>\n",
       "      <th>education</th>\n",
       "      <th>education.num</th>\n",
       "      <th>marital.status</th>\n",
       "      <th>occupation</th>\n",
       "      <th>relationship</th>\n",
       "      <th>race</th>\n",
       "      <th>sex</th>\n",
       "      <th>capital.gain</th>\n",
       "      <th>capital.loss</th>\n",
       "      <th>hours.per.week</th>\n",
       "      <th>native.country</th>\n",
       "      <th>income</th>\n",
       "    </tr>\n",
       "  </thead>\n",
       "  <tbody>\n",
       "    <tr>\n",
       "      <th>0</th>\n",
       "      <td>90</td>\n",
       "      <td>?</td>\n",
       "      <td>77053</td>\n",
       "      <td>HS-grad</td>\n",
       "      <td>9</td>\n",
       "      <td>Widowed</td>\n",
       "      <td>?</td>\n",
       "      <td>Not-in-family</td>\n",
       "      <td>White</td>\n",
       "      <td>Female</td>\n",
       "      <td>0</td>\n",
       "      <td>4356</td>\n",
       "      <td>40</td>\n",
       "      <td>United-States</td>\n",
       "      <td>&lt;=50K</td>\n",
       "    </tr>\n",
       "    <tr>\n",
       "      <th>1</th>\n",
       "      <td>82</td>\n",
       "      <td>Private</td>\n",
       "      <td>132870</td>\n",
       "      <td>HS-grad</td>\n",
       "      <td>9</td>\n",
       "      <td>Widowed</td>\n",
       "      <td>Exec-managerial</td>\n",
       "      <td>Not-in-family</td>\n",
       "      <td>White</td>\n",
       "      <td>Female</td>\n",
       "      <td>0</td>\n",
       "      <td>4356</td>\n",
       "      <td>18</td>\n",
       "      <td>United-States</td>\n",
       "      <td>&lt;=50K</td>\n",
       "    </tr>\n",
       "    <tr>\n",
       "      <th>2</th>\n",
       "      <td>66</td>\n",
       "      <td>?</td>\n",
       "      <td>186061</td>\n",
       "      <td>Some-college</td>\n",
       "      <td>10</td>\n",
       "      <td>Widowed</td>\n",
       "      <td>?</td>\n",
       "      <td>Unmarried</td>\n",
       "      <td>Black</td>\n",
       "      <td>Female</td>\n",
       "      <td>0</td>\n",
       "      <td>4356</td>\n",
       "      <td>40</td>\n",
       "      <td>United-States</td>\n",
       "      <td>&lt;=50K</td>\n",
       "    </tr>\n",
       "    <tr>\n",
       "      <th>3</th>\n",
       "      <td>54</td>\n",
       "      <td>Private</td>\n",
       "      <td>140359</td>\n",
       "      <td>7th-8th</td>\n",
       "      <td>4</td>\n",
       "      <td>Divorced</td>\n",
       "      <td>Machine-op-inspct</td>\n",
       "      <td>Unmarried</td>\n",
       "      <td>White</td>\n",
       "      <td>Female</td>\n",
       "      <td>0</td>\n",
       "      <td>3900</td>\n",
       "      <td>40</td>\n",
       "      <td>United-States</td>\n",
       "      <td>&lt;=50K</td>\n",
       "    </tr>\n",
       "    <tr>\n",
       "      <th>4</th>\n",
       "      <td>41</td>\n",
       "      <td>Private</td>\n",
       "      <td>264663</td>\n",
       "      <td>Some-college</td>\n",
       "      <td>10</td>\n",
       "      <td>Separated</td>\n",
       "      <td>Prof-specialty</td>\n",
       "      <td>Own-child</td>\n",
       "      <td>White</td>\n",
       "      <td>Female</td>\n",
       "      <td>0</td>\n",
       "      <td>3900</td>\n",
       "      <td>40</td>\n",
       "      <td>United-States</td>\n",
       "      <td>&lt;=50K</td>\n",
       "    </tr>\n",
       "  </tbody>\n",
       "</table>\n",
       "</div>"
      ],
      "text/plain": [
       "   age workclass  fnlwgt     education  education.num marital.status  \\\n",
       "0   90         ?   77053       HS-grad              9        Widowed   \n",
       "1   82   Private  132870       HS-grad              9        Widowed   \n",
       "2   66         ?  186061  Some-college             10        Widowed   \n",
       "3   54   Private  140359       7th-8th              4       Divorced   \n",
       "4   41   Private  264663  Some-college             10      Separated   \n",
       "\n",
       "          occupation   relationship   race     sex  capital.gain  \\\n",
       "0                  ?  Not-in-family  White  Female             0   \n",
       "1    Exec-managerial  Not-in-family  White  Female             0   \n",
       "2                  ?      Unmarried  Black  Female             0   \n",
       "3  Machine-op-inspct      Unmarried  White  Female             0   \n",
       "4     Prof-specialty      Own-child  White  Female             0   \n",
       "\n",
       "   capital.loss  hours.per.week native.country income  \n",
       "0          4356              40  United-States  <=50K  \n",
       "1          4356              18  United-States  <=50K  \n",
       "2          4356              40  United-States  <=50K  \n",
       "3          3900              40  United-States  <=50K  \n",
       "4          3900              40  United-States  <=50K  "
      ]
     },
     "execution_count": 3,
     "metadata": {},
     "output_type": "execute_result"
    }
   ],
   "source": [
    "data_path = os.path.join(out_path, \"adult.csv\")\n",
    "adult_df = pd.read_csv(data_path)\n",
    "adult_df.head()"
   ]
  },
  {
   "cell_type": "code",
   "execution_count": 4,
   "metadata": {},
   "outputs": [],
   "source": [
    "continuous_cols = [\"age\", \"education.num\", \"capital.gain\", \"capital.loss\", \"hours.per.week\"]\n",
    "categorical_cols = [\"education\", \"sex\"]"
   ]
  },
  {
   "cell_type": "markdown",
   "metadata": {},
   "source": [
    "### Data Analysis"
   ]
  },
  {
   "cell_type": "markdown",
   "metadata": {},
   "source": [
    "#### NaN presence analysis"
   ]
  },
  {
   "cell_type": "code",
   "execution_count": 5,
   "metadata": {},
   "outputs": [
    {
     "name": "stdout",
     "output_type": "stream",
     "text": [
      "NaNs per continuous column:\n"
     ]
    },
    {
     "data": {
      "text/plain": [
       "{'age': 0,\n",
       " 'education.num': 0,\n",
       " 'capital.gain': 0,\n",
       " 'capital.loss': 0,\n",
       " 'hours.per.week': 0}"
      ]
     },
     "execution_count": 5,
     "metadata": {},
     "output_type": "execute_result"
    }
   ],
   "source": [
    "print(\"NaNs per continuous column:\")\n",
    "dict(zip(continuous_cols, adult_df[continuous_cols].isna().sum(axis=0)))"
   ]
  },
  {
   "cell_type": "code",
   "execution_count": 6,
   "metadata": {},
   "outputs": [
    {
     "name": "stdout",
     "output_type": "stream",
     "text": [
      "education values: ['HS-grad' 'Some-college' '7th-8th' '10th' 'Doctorate' 'Prof-school'\n",
      " 'Bachelors' 'Masters' '11th' 'Assoc-acdm' 'Assoc-voc' '1st-4th' '5th-6th'\n",
      " '12th' '9th' 'Preschool']\n",
      "sex values: ['Female' 'Male']\n"
     ]
    }
   ],
   "source": [
    "for col in categorical_cols:\n",
    "    print(f\"{col} values:\", adult_df[col].unique())"
   ]
  },
  {
   "cell_type": "markdown",
   "metadata": {},
   "source": [
    "#### Distributions"
   ]
  },
  {
   "cell_type": "code",
   "execution_count": 7,
   "metadata": {},
   "outputs": [],
   "source": [
    "def get_approx_subplots_square(n: int) -> Tuple[int, int]:\n",
    "    \"\"\"\n",
    "    Calculate the approximate number of rows and columns for subplots to form close to a square layout.\n",
    "\n",
    "    Args:\n",
    "        n (int): The total number of subplots.\n",
    "\n",
    "    Returns:\n",
    "        Tuple[int, int]: A tuple containing the number of rows and columns.\n",
    "    \"\"\"\n",
    "    nrows = np.floor(np.sqrt(n)).astype(int)\n",
    "    ncols = np.ceil(n / nrows).astype(int)\n",
    "    return nrows, ncols\n",
    "\n",
    "def square_subplots_prep(n: int, *args, **kwargs) -> Tuple[plt.Figure, np.ndarray]:\n",
    "    \"\"\"\n",
    "    Prepare a square grid of subplots and return the figure and axes.\n",
    "\n",
    "    This function creates a grid of subplots that is as close to square as possible,\n",
    "    given the number of subplots `n`. It removes any unused subplots and flattens\n",
    "    the axes array to return only the used subplots.\n",
    "\n",
    "    Parameters:\n",
    "    -----------\n",
    "    n : int\n",
    "        The number of subplots to create.\n",
    "    *args : tuple\n",
    "        Additional positional arguments to pass to `plt.subplots`.\n",
    "    **kwargs : dict\n",
    "        Additional keyword arguments to pass to `plt.subplots`.\n",
    "\n",
    "    Returns:\n",
    "    --------\n",
    "    Tuple[plt.Figure, np.ndarray]\n",
    "        A tuple containing the figure and an array of the used axes.\n",
    "    \"\"\"\n",
    "    nrows, ncols = get_approx_subplots_square(n)\n",
    "    fig, axs = plt.subplots(nrows, ncols, *args, **kwargs)\n",
    "    # Remove unused subplots and flatten the axes array\n",
    "    for ax in axs.reshape(-1)[n:]:\n",
    "        fig.delaxes(ax)\n",
    "    axs = axs.reshape(-1)[:n]\n",
    "    return fig, axs"
   ]
  },
  {
   "cell_type": "code",
   "execution_count": 8,
   "metadata": {},
   "outputs": [
    {
     "data": {
      "image/png": "[encoded data removed]",
      "text/plain": [
       "<Figure size 1500x800 with 5 Axes>"
      ]
     },
     "metadata": {},
     "output_type": "display_data"
    }
   ],
   "source": [
    "cols_to_plot = continuous_cols\n",
    "fig, axs = square_subplots_prep(len(cols_to_plot), figsize=(15, 8))\n",
    "\n",
    "for ax, col in zip(axs, cols_to_plot):\n",
    "    sns.histplot(adult_df[col], kde=True, ax=ax)\n",
    "\n",
    "fig.suptitle(\"Continuous columns distribution\")\n",
    "plt.tight_layout()\n",
    "plt.show()"
   ]
  },
  {
   "cell_type": "code",
   "execution_count": 9,
   "metadata": {},
   "outputs": [
    {
     "data": {
      "image/png": "[encoded data removed]",
      "text/plain": [
       "<Figure size 1500x600 with 2 Axes>"
      ]
     },
     "metadata": {},
     "output_type": "display_data"
    }
   ],
   "source": [
    "cols_to_plot = categorical_cols\n",
    "fig, axs = square_subplots_prep(len(cols_to_plot), figsize=(15, 6))\n",
    "\n",
    "for ax, col in zip(axs, cols_to_plot):\n",
    "    sns.countplot(adult_df[col], ax=ax)\n",
    "\n",
    "fig.suptitle(\"Categorical columns distribution\")\n",
    "plt.tight_layout()\n",
    "plt.show()"
   ]
  },
  {
   "cell_type": "markdown",
   "metadata": {},
   "source": [
    "### Processing Data"
   ]
  },
  {
   "cell_type": "code",
   "execution_count": 10,
   "metadata": {},
   "outputs": [],
   "source": [
    "from sklearn.model_selection import train_test_split"
   ]
  },
  {
   "cell_type": "code",
   "execution_count": 11,
   "metadata": {},
   "outputs": [],
   "source": [
    "adult_df_X = adult_df[continuous_cols + categorical_cols]\n",
    "adult_df_y = adult_df[\"income\"]"
   ]
  },
  {
   "cell_type": "code",
   "execution_count": 12,
   "metadata": {},
   "outputs": [
    {
     "data": {
      "text/plain": [
       "(array([[-1.43207985, -0.03434848, -0.14725877, ...,  0.        ,\n",
       "          1.        ,  0.        ],\n",
       "        [-0.62747303, -0.42250869, -0.14725877, ...,  0.        ,\n",
       "          0.        ,  1.        ],\n",
       "        [-0.33488872, -0.42250869, -0.14725877, ...,  0.        ,\n",
       "          0.        ,  1.        ],\n",
       "        ...,\n",
       "        [-0.55432695, -0.42250869, -0.14725877, ...,  0.        ,\n",
       "          0.        ,  1.        ],\n",
       "        [-1.06634948,  1.13013214, -0.14725877, ...,  0.        ,\n",
       "          0.        ,  1.        ],\n",
       "        [-1.13949555, -0.42250869, -0.14725877, ...,  0.        ,\n",
       "          0.        ,  0.        ]]),\n",
       " array([0., 1., 0., ..., 0., 0., 0.]),\n",
       " 30125     True\n",
       " 27726    False\n",
       " 17488    False\n",
       " 18353    False\n",
       " 2951     False\n",
       "          ...  \n",
       " 1647     False\n",
       " 14550    False\n",
       " 20233    False\n",
       " 12612    False\n",
       " 22520     True\n",
       " Name: sex, Length: 26048, dtype: bool)"
      ]
     },
     "execution_count": 12,
     "metadata": {},
     "output_type": "execute_result"
    }
   ],
   "source": [
    "fairly_normal_continuous_cols = [\"age\", \"education.num\", \"hours.per.week\"]\n",
    "\n",
    "def create_pipeline(train_X_df: pd.DataFrame, train_y_series: pd.Series) -> dict:\n",
    "    global continuous_cols, categorical_cols, fairly_normal_continuous_cols\n",
    "    categorical_encoder = OneHotEncoder(drop=\"if_binary\", sparse_output=False).fit(train_X_df[categorical_cols])\n",
    "    y_encoder = OneHotEncoder(drop=\"if_binary\", sparse_output=False).fit(train_y_series.to_frame())\n",
    "    normal_dist_scaler = StandardScaler().fit(train_X_df[continuous_cols])\n",
    "    return {\n",
    "        \"categorical_encoder\": categorical_encoder,\n",
    "        \"y_encoder\": y_encoder,\n",
    "        \"normal_dist_scaler\": normal_dist_scaler\n",
    "    }\n",
    "    \n",
    "def process_data(X_df: pd.DataFrame, y_series: pd.Series, pipeline: dict):\n",
    "    global continuous_cols, categorical_cols, fairly_normal_continuous_cols\n",
    "    X_df = X_df.copy()\n",
    "    categorical_cols_encodings = pipeline[\"categorical_encoder\"].transform(X_df[categorical_cols])\n",
    "    X = np.concatenate([\n",
    "        pipeline[\"normal_dist_scaler\"].transform(X_df[continuous_cols]),\n",
    "        categorical_cols_encodings\n",
    "    ], axis=1)\n",
    "    y = pipeline[\"y_encoder\"].transform(y_series.to_frame()).reshape((-1,))\n",
    "    sensitive_col = X_df[\"sex\"] == \"Female\"\n",
    "    return X, y, sensitive_col\n",
    "\n",
    "adult_df_X_train_df, adult_df_X_test_df, adult_df_y_train_df, adult_df_y_test_df = train_test_split(\n",
    "    adult_df_X, adult_df_y, test_size=0.2, random_state=42, stratify=adult_df_X[\"sex\"])\n",
    "pipeline = create_pipeline(adult_df_X_train_df, adult_df_y_train_df)\n",
    "adult_X_train, adult_y_train, sensitive_col_train = process_data(adult_df_X_train_df, adult_df_y_train_df, pipeline)\n",
    "adult_X_test, adult_y_test, sensitive_col_test = process_data(adult_df_X_test_df, adult_df_y_test_df, pipeline)\n",
    "adult_X_train, adult_y_train, sensitive_col_train"
   ]
  },
  {
   "cell_type": "code",
   "execution_count": 13,
   "metadata": {},
   "outputs": [],
   "source": [
    "from sklearn.linear_model import LogisticRegression\n",
    "\n",
    "logistic_regression = LogisticRegression(max_iter=1000).fit(adult_X_train, adult_y_train)"
   ]
  },
  {
   "cell_type": "code",
   "execution_count": 14,
   "metadata": {},
   "outputs": [
    {
     "name": "stdout",
     "output_type": "stream",
     "text": [
      "Accuracy: 0.8203592814371258\n"
     ]
    }
   ],
   "source": [
    "print(\"Accuracy:\", logistic_regression.score(adult_X_test, adult_y_test))"
   ]
  },
  {
   "cell_type": "code",
   "execution_count": 15,
   "metadata": {},
   "outputs": [],
   "source": [
    "senstive_test_X, sensitive_test_y = adult_X_test[sensitive_col_test], adult_y_test[sensitive_col_test]\n",
    "non_senstive_test_X, non_sensitive_test_y = adult_X_test[~sensitive_col_test], adult_y_test[~sensitive_col_test]"
   ]
  },
  {
   "cell_type": "code",
   "execution_count": 16,
   "metadata": {},
   "outputs": [
    {
     "data": {
      "text/html": [
       "<style>#sk-container-id-1 {\n",
       "  /* Definition of color scheme common for light and dark mode */\n",
       "  --sklearn-color-text: black;\n",
       "  --sklearn-color-line: gray;\n",
       "  /* Definition of color scheme for unfitted estimators */\n",
       "  --sklearn-color-unfitted-level-0: #fff5e6;\n",
       "  --sklearn-color-unfitted-level-1: #f6e4d2;\n",
       "  --sklearn-color-unfitted-level-2: #ffe0b3;\n",
       "  --sklearn-color-unfitted-level-3: chocolate;\n",
       "  /* Definition of color scheme for fitted estimators */\n",
       "  --sklearn-color-fitted-level-0: #f0f8ff;\n",
       "  --sklearn-color-fitted-level-1: #d4ebff;\n",
       "  --sklearn-color-fitted-level-2: #b3dbfd;\n",
       "  --sklearn-color-fitted-level-3: cornflowerblue;\n",
       "\n",
       "  /* Specific color for light theme */\n",
       "  --sklearn-color-text-on-default-background: var(--sg-text-color, var(--theme-code-foreground, var(--jp-content-font-color1, black)));\n",
       "  --sklearn-color-background: var(--sg-background-color, var(--theme-background, var(--jp-layout-color0, white)));\n",
       "  --sklearn-color-border-box: var(--sg-text-color, var(--theme-code-foreground, var(--jp-content-font-color1, black)));\n",
       "  --sklearn-color-icon: #696969;\n",
       "\n",
       "  @media (prefers-color-scheme: dark) {\n",
       "    /* Redefinition of color scheme for dark theme */\n",
       "    --sklearn-color-text-on-default-background: var(--sg-text-color, var(--theme-code-foreground, var(--jp-content-font-color1, white)));\n",
       "    --sklearn-color-background: var(--sg-background-color, var(--theme-background, var(--jp-layout-color0, #111)));\n",
       "    --sklearn-color-border-box: var(--sg-text-color, var(--theme-code-foreground, var(--jp-content-font-color1, white)));\n",
       "    --sklearn-color-icon: #878787;\n",
       "  }\n",
       "}\n",
       "\n",
       "#sk-container-id-1 {\n",
       "  color: var(--sklearn-color-text);\n",
       "}\n",
       "\n",
       "#sk-container-id-1 pre {\n",
       "  padding: 0;\n",
       "}\n",
       "\n",
       "#sk-container-id-1 input.sk-hidden--visually {\n",
       "  border: 0;\n",
       "  clip: rect(1px 1px 1px 1px);\n",
       "  clip: rect(1px, 1px, 1px, 1px);\n",
       "  height: 1px;\n",
       "  margin: -1px;\n",
       "  overflow: hidden;\n",
       "  padding: 0;\n",
       "  position: absolute;\n",
       "  width: 1px;\n",
       "}\n",
       "\n",
       "#sk-container-id-1 div.sk-dashed-wrapped {\n",
       "  border: 1px dashed var(--sklearn-color-line);\n",
       "  margin: 0 0.4em 0.5em 0.4em;\n",
       "  box-sizing: border-box;\n",
       "  padding-bottom: 0.4em;\n",
       "  background-color: var(--sklearn-color-background);\n",
       "}\n",
       "\n",
       "#sk-container-id-1 div.sk-container {\n",
       "  /* jupyter's `normalize.less` sets `[hidden] { display: none; }`\n",
       "     but bootstrap.min.css set `[hidden] { display: none !important; }`\n",
       "     so we also need the `!important` here to be able to override the\n",
       "     default hidden behavior on the sphinx rendered scikit-learn.org.\n",
       "     See: https://github.com/scikit-learn/scikit-learn/issues/21755 */\n",
       "  display: inline-block !important;\n",
       "  position: relative;\n",
       "}\n",
       "\n",
       "#sk-container-id-1 div.sk-text-repr-fallback {\n",
       "  display: none;\n",
       "}\n",
       "\n",
       "div.sk-parallel-item,\n",
       "div.sk-serial,\n",
       "div.sk-item {\n",
       "  /* draw centered vertical line to link estimators */\n",
       "  background-image: linear-gradient(var(--sklearn-color-text-on-default-background), var(--sklearn-color-text-on-default-background));\n",
       "  background-size: 2px 100%;\n",
       "  background-repeat: no-repeat;\n",
       "  background-position: center center;\n",
       "}\n",
       "\n",
       "/* Parallel-specific style estimator block */\n",
       "\n",
       "#sk-container-id-1 div.sk-parallel-item::after {\n",
       "  content: \"\";\n",
       "  width: 100%;\n",
       "  border-bottom: 2px solid var(--sklearn-color-text-on-default-background);\n",
       "  flex-grow: 1;\n",
       "}\n",
       "\n",
       "#sk-container-id-1 div.sk-parallel {\n",
       "  display: flex;\n",
       "  align-items: stretch;\n",
       "  justify-content: center;\n",
       "  background-color: var(--sklearn-color-background);\n",
       "  position: relative;\n",
       "}\n",
       "\n",
       "#sk-container-id-1 div.sk-parallel-item {\n",
       "  display: flex;\n",
       "  flex-direction: column;\n",
       "}\n",
       "\n",
       "#sk-container-id-1 div.sk-parallel-item:first-child::after {\n",
       "  align-self: flex-end;\n",
       "  width: 50%;\n",
       "}\n",
       "\n",
       "#sk-container-id-1 div.sk-parallel-item:last-child::after {\n",
       "  align-self: flex-start;\n",
       "  width: 50%;\n",
       "}\n",
       "\n",
       "#sk-container-id-1 div.sk-parallel-item:only-child::after {\n",
       "  width: 0;\n",
       "}\n",
       "\n",
       "/* Serial-specific style estimator block */\n",
       "\n",
       "#sk-container-id-1 div.sk-serial {\n",
       "  display: flex;\n",
       "  flex-direction: column;\n",
       "  align-items: center;\n",
       "  background-color: var(--sklearn-color-background);\n",
       "  padding-right: 1em;\n",
       "  padding-left: 1em;\n",
       "}\n",
       "\n",
       "\n",
       "/* Toggleable style: style used for estimator/Pipeline/ColumnTransformer box that is\n",
       "clickable and can be expanded/collapsed.\n",
       "- Pipeline and ColumnTransformer use this feature and define the default style\n",
       "- Estimators will overwrite some part of the style using the `sk-estimator` class\n",
       "*/\n",
       "\n",
       "/* Pipeline and ColumnTransformer style (default) */\n",
       "\n",
       "#sk-container-id-1 div.sk-toggleable {\n",
       "  /* Default theme specific background. It is overwritten whether we have a\n",
       "  specific estimator or a Pipeline/ColumnTransformer */\n",
       "  background-color: var(--sklearn-color-background);\n",
       "}\n",
       "\n",
       "/* Toggleable label */\n",
       "#sk-container-id-1 label.sk-toggleable__label {\n",
       "  cursor: pointer;\n",
       "  display: block;\n",
       "  width: 100%;\n",
       "  margin-bottom: 0;\n",
       "  padding: 0.5em;\n",
       "  box-sizing: border-box;\n",
       "  text-align: center;\n",
       "}\n",
       "\n",
       "#sk-container-id-1 label.sk-toggleable__label-arrow:before {\n",
       "  /* Arrow on the left of the label */\n",
       "  content: \"▸\";\n",
       "  float: left;\n",
       "  margin-right: 0.25em;\n",
       "  color: var(--sklearn-color-icon);\n",
       "}\n",
       "\n",
       "#sk-container-id-1 label.sk-toggleable__label-arrow:hover:before {\n",
       "  color: var(--sklearn-color-text);\n",
       "}\n",
       "\n",
       "/* Toggleable content - dropdown */\n",
       "\n",
       "#sk-container-id-1 div.sk-toggleable__content {\n",
       "  max-height: 0;\n",
       "  max-width: 0;\n",
       "  overflow: hidden;\n",
       "  text-align: left;\n",
       "  /* unfitted */\n",
       "  background-color: var(--sklearn-color-unfitted-level-0);\n",
       "}\n",
       "\n",
       "#sk-container-id-1 div.sk-toggleable__content.fitted {\n",
       "  /* fitted */\n",
       "  background-color: var(--sklearn-color-fitted-level-0);\n",
       "}\n",
       "\n",
       "#sk-container-id-1 div.sk-toggleable__content pre {\n",
       "  margin: 0.2em;\n",
       "  border-radius: 0.25em;\n",
       "  color: var(--sklearn-color-text);\n",
       "  /* unfitted */\n",
       "  background-color: var(--sklearn-color-unfitted-level-0);\n",
       "}\n",
       "\n",
       "#sk-container-id-1 div.sk-toggleable__content.fitted pre {\n",
       "  /* unfitted */\n",
       "  background-color: var(--sklearn-color-fitted-level-0);\n",
       "}\n",
       "\n",
       "#sk-container-id-1 input.sk-toggleable__control:checked~div.sk-toggleable__content {\n",
       "  /* Expand drop-down */\n",
       "  max-height: 200px;\n",
       "  max-width: 100%;\n",
       "  overflow: auto;\n",
       "}\n",
       "\n",
       "#sk-container-id-1 input.sk-toggleable__control:checked~label.sk-toggleable__label-arrow:before {\n",
       "  content: \"▾\";\n",
       "}\n",
       "\n",
       "/* Pipeline/ColumnTransformer-specific style */\n",
       "\n",
       "#sk-container-id-1 div.sk-label input.sk-toggleable__control:checked~label.sk-toggleable__label {\n",
       "  color: var(--sklearn-color-text);\n",
       "  background-color: var(--sklearn-color-unfitted-level-2);\n",
       "}\n",
       "\n",
       "#sk-container-id-1 div.sk-label.fitted input.sk-toggleable__control:checked~label.sk-toggleable__label {\n",
       "  background-color: var(--sklearn-color-fitted-level-2);\n",
       "}\n",
       "\n",
       "/* Estimator-specific style */\n",
       "\n",
       "/* Colorize estimator box */\n",
       "#sk-container-id-1 div.sk-estimator input.sk-toggleable__control:checked~label.sk-toggleable__label {\n",
       "  /* unfitted */\n",
       "  background-color: var(--sklearn-color-unfitted-level-2);\n",
       "}\n",
       "\n",
       "#sk-container-id-1 div.sk-estimator.fitted input.sk-toggleable__control:checked~label.sk-toggleable__label {\n",
       "  /* fitted */\n",
       "  background-color: var(--sklearn-color-fitted-level-2);\n",
       "}\n",
       "\n",
       "#sk-container-id-1 div.sk-label label.sk-toggleable__label,\n",
       "#sk-container-id-1 div.sk-label label {\n",
       "  /* The background is the default theme color */\n",
       "  color: var(--sklearn-color-text-on-default-background);\n",
       "}\n",
       "\n",
       "/* On hover, darken the color of the background */\n",
       "#sk-container-id-1 div.sk-label:hover label.sk-toggleable__label {\n",
       "  color: var(--sklearn-color-text);\n",
       "  background-color: var(--sklearn-color-unfitted-level-2);\n",
       "}\n",
       "\n",
       "/* Label box, darken color on hover, fitted */\n",
       "#sk-container-id-1 div.sk-label.fitted:hover label.sk-toggleable__label.fitted {\n",
       "  color: var(--sklearn-color-text);\n",
       "  background-color: var(--sklearn-color-fitted-level-2);\n",
       "}\n",
       "\n",
       "/* Estimator label */\n",
       "\n",
       "#sk-container-id-1 div.sk-label label {\n",
       "  font-family: monospace;\n",
       "  font-weight: bold;\n",
       "  display: inline-block;\n",
       "  line-height: 1.2em;\n",
       "}\n",
       "\n",
       "#sk-container-id-1 div.sk-label-container {\n",
       "  text-align: center;\n",
       "}\n",
       "\n",
       "/* Estimator-specific */\n",
       "#sk-container-id-1 div.sk-estimator {\n",
       "  font-family: monospace;\n",
       "  border: 1px dotted var(--sklearn-color-border-box);\n",
       "  border-radius: 0.25em;\n",
       "  box-sizing: border-box;\n",
       "  margin-bottom: 0.5em;\n",
       "  /* unfitted */\n",
       "  background-color: var(--sklearn-color-unfitted-level-0);\n",
       "}\n",
       "\n",
       "#sk-container-id-1 div.sk-estimator.fitted {\n",
       "  /* fitted */\n",
       "  background-color: var(--sklearn-color-fitted-level-0);\n",
       "}\n",
       "\n",
       "/* on hover */\n",
       "#sk-container-id-1 div.sk-estimator:hover {\n",
       "  /* unfitted */\n",
       "  background-color: var(--sklearn-color-unfitted-level-2);\n",
       "}\n",
       "\n",
       "#sk-container-id-1 div.sk-estimator.fitted:hover {\n",
       "  /* fitted */\n",
       "  background-color: var(--sklearn-color-fitted-level-2);\n",
       "}\n",
       "\n",
       "/* Specification for estimator info (e.g. \"i\" and \"?\") */\n",
       "\n",
       "/* Common style for \"i\" and \"?\" */\n",
       "\n",
       ".sk-estimator-doc-link,\n",
       "a:link.sk-estimator-doc-link,\n",
       "a:visited.sk-estimator-doc-link {\n",
       "  float: right;\n",
       "  font-size: smaller;\n",
       "  line-height: 1em;\n",
       "  font-family: monospace;\n",
       "  background-color: var(--sklearn-color-background);\n",
       "  border-radius: 1em;\n",
       "  height: 1em;\n",
       "  width: 1em;\n",
       "  text-decoration: none !important;\n",
       "  margin-left: 1ex;\n",
       "  /* unfitted */\n",
       "  border: var(--sklearn-color-unfitted-level-1) 1pt solid;\n",
       "  color: var(--sklearn-color-unfitted-level-1);\n",
       "}\n",
       "\n",
       ".sk-estimator-doc-link.fitted,\n",
       "a:link.sk-estimator-doc-link.fitted,\n",
       "a:visited.sk-estimator-doc-link.fitted {\n",
       "  /* fitted */\n",
       "  border: var(--sklearn-color-fitted-level-1) 1pt solid;\n",
       "  color: var(--sklearn-color-fitted-level-1);\n",
       "}\n",
       "\n",
       "/* On hover */\n",
       "div.sk-estimator:hover .sk-estimator-doc-link:hover,\n",
       ".sk-estimator-doc-link:hover,\n",
       "div.sk-label-container:hover .sk-estimator-doc-link:hover,\n",
       ".sk-estimator-doc-link:hover {\n",
       "  /* unfitted */\n",
       "  background-color: var(--sklearn-color-unfitted-level-3);\n",
       "  color: var(--sklearn-color-background);\n",
       "  text-decoration: none;\n",
       "}\n",
       "\n",
       "div.sk-estimator.fitted:hover .sk-estimator-doc-link.fitted:hover,\n",
       ".sk-estimator-doc-link.fitted:hover,\n",
       "div.sk-label-container:hover .sk-estimator-doc-link.fitted:hover,\n",
       ".sk-estimator-doc-link.fitted:hover {\n",
       "  /* fitted */\n",
       "  background-color: var(--sklearn-color-fitted-level-3);\n",
       "  color: var(--sklearn-color-background);\n",
       "  text-decoration: none;\n",
       "}\n",
       "\n",
       "/* Span, style for the box shown on hovering the info icon */\n",
       ".sk-estimator-doc-link span {\n",
       "  display: none;\n",
       "  z-index: 9999;\n",
       "  position: relative;\n",
       "  font-weight: normal;\n",
       "  right: .2ex;\n",
       "  padding: .5ex;\n",
       "  margin: .5ex;\n",
       "  width: min-content;\n",
       "  min-width: 20ex;\n",
       "  max-width: 50ex;\n",
       "  color: var(--sklearn-color-text);\n",
       "  box-shadow: 2pt 2pt 4pt #999;\n",
       "  /* unfitted */\n",
       "  background: var(--sklearn-color-unfitted-level-0);\n",
       "  border: .5pt solid var(--sklearn-color-unfitted-level-3);\n",
       "}\n",
       "\n",
       ".sk-estimator-doc-link.fitted span {\n",
       "  /* fitted */\n",
       "  background: var(--sklearn-color-fitted-level-0);\n",
       "  border: var(--sklearn-color-fitted-level-3);\n",
       "}\n",
       "\n",
       ".sk-estimator-doc-link:hover span {\n",
       "  display: block;\n",
       "}\n",
       "\n",
       "/* \"?\"-specific style due to the `<a>` HTML tag */\n",
       "\n",
       "#sk-container-id-1 a.estimator_doc_link {\n",
       "  float: right;\n",
       "  font-size: 1rem;\n",
       "  line-height: 1em;\n",
       "  font-family: monospace;\n",
       "  background-color: var(--sklearn-color-background);\n",
       "  border-radius: 1rem;\n",
       "  height: 1rem;\n",
       "  width: 1rem;\n",
       "  text-decoration: none;\n",
       "  /* unfitted */\n",
       "  color: var(--sklearn-color-unfitted-level-1);\n",
       "  border: var(--sklearn-color-unfitted-level-1) 1pt solid;\n",
       "}\n",
       "\n",
       "#sk-container-id-1 a.estimator_doc_link.fitted {\n",
       "  /* fitted */\n",
       "  border: var(--sklearn-color-fitted-level-1) 1pt solid;\n",
       "  color: var(--sklearn-color-fitted-level-1);\n",
       "}\n",
       "\n",
       "/* On hover */\n",
       "#sk-container-id-1 a.estimator_doc_link:hover {\n",
       "  /* unfitted */\n",
       "  background-color: var(--sklearn-color-unfitted-level-3);\n",
       "  color: var(--sklearn-color-background);\n",
       "  text-decoration: none;\n",
       "}\n",
       "\n",
       "#sk-container-id-1 a.estimator_doc_link.fitted:hover {\n",
       "  /* fitted */\n",
       "  background-color: var(--sklearn-color-fitted-level-3);\n",
       "}\n",
       "</style><div id=\"sk-container-id-1\" class=\"sk-top-container\"><div class=\"sk-text-repr-fallback\"><pre>ThresholdOptimizer(constraints=&#x27;equalized_odds&#x27;,\n",
       "                   estimator=LogisticRegressionAsRegression(logistic_regression_estimator=LogisticRegression(max_iter=1000)),\n",
       "                   prefit=True)</pre><b>In a Jupyter environment, please rerun this cell to show the HTML representation or trust the notebook. <br />On GitHub, the HTML representation is unable to render, please try loading this page with nbviewer.org.</b></div><div class=\"sk-container\" hidden><div class=\"sk-item sk-dashed-wrapped\"><div class=\"sk-label-container\"><div class=\"sk-label fitted sk-toggleable\"><input class=\"sk-toggleable__control sk-hidden--visually\" id=\"sk-estimator-id-1\" type=\"checkbox\" ><label for=\"sk-estimator-id-1\" class=\"sk-toggleable__label fitted sk-toggleable__label-arrow fitted\">&nbsp;ThresholdOptimizer<span class=\"sk-estimator-doc-link fitted\">i<span>Fitted</span></span></label><div class=\"sk-toggleable__content fitted\"><pre>ThresholdOptimizer(constraints=&#x27;equalized_odds&#x27;,\n",
       "                   estimator=LogisticRegressionAsRegression(logistic_regression_estimator=LogisticRegression(max_iter=1000)),\n",
       "                   prefit=True)</pre></div> </div></div><div class=\"sk-parallel\"><div class=\"sk-parallel-item\"><div class=\"sk-item\"><div class=\"sk-label-container\"><div class=\"sk-label fitted sk-toggleable\"><input class=\"sk-toggleable__control sk-hidden--visually\" id=\"sk-estimator-id-2\" type=\"checkbox\" ><label for=\"sk-estimator-id-2\" class=\"sk-toggleable__label fitted sk-toggleable__label-arrow fitted\">estimator: LogisticRegressionAsRegression</label><div class=\"sk-toggleable__content fitted\"><pre>LogisticRegressionAsRegression(logistic_regression_estimator=LogisticRegression(max_iter=1000))</pre></div> </div></div><div class=\"sk-serial\"><div class=\"sk-item sk-dashed-wrapped\"><div class=\"sk-parallel\"><div class=\"sk-parallel-item\"><div class=\"sk-item\"><div class=\"sk-label-container\"><div class=\"sk-label fitted sk-toggleable\"><input class=\"sk-toggleable__control sk-hidden--visually\" id=\"sk-estimator-id-3\" type=\"checkbox\" ><label for=\"sk-estimator-id-3\" class=\"sk-toggleable__label fitted sk-toggleable__label-arrow fitted\">logistic_regression_estimator: LogisticRegression</label><div class=\"sk-toggleable__content fitted\"><pre>LogisticRegression(max_iter=1000)</pre></div> </div></div><div class=\"sk-serial\"><div class=\"sk-item\"><div class=\"sk-estimator fitted sk-toggleable\"><input class=\"sk-toggleable__control sk-hidden--visually\" id=\"sk-estimator-id-4\" type=\"checkbox\" ><label for=\"sk-estimator-id-4\" class=\"sk-toggleable__label fitted sk-toggleable__label-arrow fitted\">&nbsp;LogisticRegression<a class=\"sk-estimator-doc-link fitted\" rel=\"noreferrer\" target=\"_blank\" href=\"https://scikit-learn.org/1.5/modules/generated/sklearn.linear_model.LogisticRegression.html\">?<span>Documentation for LogisticRegression</span></a></label><div class=\"sk-toggleable__content fitted\"><pre>LogisticRegression(max_iter=1000)</pre></div> </div></div></div></div></div></div></div></div></div></div></div></div></div></div>"
      ],
      "text/plain": [
       "ThresholdOptimizer(constraints='equalized_odds',\n",
       "                   estimator=LogisticRegressionAsRegression(logistic_regression_estimator=LogisticRegression(max_iter=1000)),\n",
       "                   prefit=True)"
      ]
     },
     "execution_count": 16,
     "metadata": {},
     "output_type": "execute_result"
    }
   ],
   "source": [
    "from sklearn import clone\n",
    "from sklearn.base import BaseEstimator, ClassifierMixin\n",
    "from sklearn.utils.validation import check_is_fitted\n",
    "from sklearn.exceptions import NotFittedError\n",
    "from fairlearn.postprocessing import ThresholdOptimizer\n",
    "\n",
    "class LogisticRegressionAsRegression(BaseEstimator, ClassifierMixin):\n",
    "    def __init__(self, logistic_regression_estimator):\n",
    "        self.logistic_regression_estimator = logistic_regression_estimator\n",
    "\n",
    "    def fit(self, X, y):\n",
    "        try:\n",
    "            check_is_fitted(self.logistic_regression_estimator)\n",
    "            self.logistic_regression_estimator_ = self.logistic_regression_estimator\n",
    "        except NotFittedError:\n",
    "            self.logistic_regression_estimator_ = clone(\n",
    "                self.logistic_regression_estimator\n",
    "            ).fit(X, y)\n",
    "        return self\n",
    "\n",
    "    def predict(self, X):\n",
    "        # use predict_proba to get real values instead of 0/1, select only prob for 1\n",
    "        scores = self.logistic_regression_estimator_.predict_proba(X)[:, 1]\n",
    "        return scores\n",
    "\n",
    "estimator_wrapper = LogisticRegressionAsRegression(logistic_regression).fit(adult_X_train, adult_y_train)\n",
    "postprocessed_predictor_EO = ThresholdOptimizer(\n",
    "    estimator=estimator_wrapper, constraints=\"equalized_odds\", prefit=True\n",
    ")\n",
    "postprocessed_predictor_EO.fit(adult_X_train, adult_y_train, sensitive_features=sensitive_col_train)"
   ]
  },
  {
   "cell_type": "code",
   "execution_count": 17,
   "metadata": {},
   "outputs": [
    {
     "name": "stdout",
     "output_type": "stream",
     "text": [
      "BASE ESTIMATOR:\n",
      "Accuracy on sensitive data: 0.9080779944289693\n",
      "Accuracy on non-sensitive data: 0.7770130763936682\n",
      "================================================================================\n",
      "P(income>50K | female) = 0.03714020427112349\n",
      "P(income>50K | male) = 0.19385180087175957\n"
     ]
    }
   ],
   "source": [
    "print(\"BASE ESTIMATOR:\")\n",
    "\n",
    "print(\"Accuracy on sensitive data:\", \n",
    "      estimator_wrapper.logistic_regression_estimator_.score(adult_X_test[sensitive_col_test], adult_y_test[sensitive_col_test]))\n",
    "print(\"Accuracy on non-sensitive data:\",\n",
    "      estimator_wrapper.logistic_regression_estimator_.score(adult_X_test[~sensitive_col_test], adult_y_test[~sensitive_col_test]))\n",
    "\n",
    "print(\"=\" * 80)\n",
    "\n",
    "y_col_to_show = 1\n",
    "y_col_val = pipeline[\"y_encoder\"].categories_[0][y_col_to_show]\n",
    "\n",
    "\n",
    "print(f\"P(income{y_col_val} | female) =\",\n",
    "      (estimator_wrapper.logistic_regression_estimator_.predict(adult_X_test[sensitive_col_test]) == y_col_to_show).mean())\n",
    "print(f\"P(income{y_col_val} | male) =\",\n",
    "      (estimator_wrapper.logistic_regression_estimator_.predict(adult_X_test[~sensitive_col_test]) == y_col_to_show).mean())"
   ]
  },
  {
   "cell_type": "code",
   "execution_count": 18,
   "metadata": {},
   "outputs": [
    {
     "name": "stdout",
     "output_type": "stream",
     "text": [
      "Fair model accuracy: 0.8060801473975127\n"
     ]
    }
   ],
   "source": [
    "fair_y_test_predictions = postprocessed_predictor_EO.predict(adult_X_test, sensitive_features=sensitive_col_test)\n",
    "\n",
    "correct_prediction = (fair_y_test_predictions == adult_y_test)\n",
    "print(\"Fair model accuracy:\", correct_prediction.mean())"
   ]
  },
  {
   "cell_type": "code",
   "execution_count": 19,
   "metadata": {},
   "outputs": [
    {
     "name": "stdout",
     "output_type": "stream",
     "text": [
      "Fair model accuracy on sensitive data: 0.8890436397400185\n",
      "Fair model accuracy on non-sensitive data: 0.76508373480156\n"
     ]
    }
   ],
   "source": [
    "print(\"Fair model accuracy on sensitive data:\",\n",
    "      correct_prediction[sensitive_col_test].mean())\n",
    "print(\"Fair model accuracy on non-sensitive data:\",\n",
    "      correct_prediction[~sensitive_col_test].mean())"
   ]
  },
  {
   "cell_type": "code",
   "execution_count": 20,
   "metadata": {},
   "outputs": [
    {
     "data": {
      "text/plain": [
       "(np.float64(0.07474466109563603), np.float64(0.12869924294562973))"
      ]
     },
     "execution_count": 20,
     "metadata": {},
     "output_type": "execute_result"
    }
   ],
   "source": [
    "fair_y_test_predictions[sensitive_col_test].mean(), fair_y_test_predictions[~sensitive_col_test].mean()"
   ]
  },
  {
   "cell_type": "code",
   "execution_count": 21,
   "metadata": {},
   "outputs": [
    {
     "data": {
      "image/png": "[encoded data removed]",
      "text/plain": [
       "<Figure size 600.25x500 with 1 Axes>"
      ]
     },
     "metadata": {},
     "output_type": "display_data"
    }
   ],
   "source": [
    "result_list = []\n",
    "\n",
    "for i, y_col_val in enumerate(pipeline[\"y_encoder\"].categories_[0]):\n",
    "    for model_name, model in zip([\"Base estimator\", \"Fair estimator\", \"Test data\"], [estimator_wrapper.logistic_regression_estimator_, postprocessed_predictor_EO, None]):\n",
    "        for gender_name, mask in zip([\"Male\", \"Female\", \"Total\"], [~sensitive_col_test, sensitive_col_test, np.ones_like(sensitive_col_test)]):\n",
    "            y_col_name = f\"income{y_col_val}\"\n",
    "            if model is None:\n",
    "                predictions = adult_y_test\n",
    "            elif isinstance(model, ThresholdOptimizer):\n",
    "                predictions = model.predict(adult_X_test, sensitive_features=sensitive_col_test)\n",
    "            else:\n",
    "                predictions = model.predict(adult_X_test)\n",
    "            result_list.append({\n",
    "                \"model\": model_name,\n",
    "                \"target_col\": y_col_name,\n",
    "                \"gender\": gender_name,\n",
    "                \"mean_proba\": (predictions[mask] == i).mean()\n",
    "            })\n",
    "    \n",
    "result_df = pd.DataFrame(result_list)\n",
    "# print(result_df)\n",
    "\n",
    "val_to_show = \"income>50K\"\n",
    "sns.catplot(data=result_df[result_df[\"target_col\"] == val_to_show], x=\"model\", y=\"mean_proba\", hue=\"gender\", kind=\"bar\")\n",
    "plt.xlabel(\"Model\")\n",
    "plt.ylabel(f\"P({val_to_show}|gender)\")\n",
    "plt.show()"
   ]
  },
  {
   "cell_type": "markdown",
   "metadata": {},
   "source": [
    "# CelebA"
   ]
  },
  {
   "cell_type": "code",
   "execution_count": 22,
   "metadata": {},
   "outputs": [],
   "source": [
    "# celeba_path = \"../data/celeba-dataset\"\n",
    "# if not os.path.exists(celeba_path):\n",
    "path = kagglehub.dataset_download(\"jessicali9530/celeba-dataset\")\n",
    "# %mv $path $celeba_path"
   ]
  },
  {
   "cell_type": "code",
   "execution_count": 23,
   "metadata": {},
   "outputs": [],
   "source": [
    "celeba_path = path"
   ]
  },
  {
   "cell_type": "code",
   "execution_count": 24,
   "metadata": {},
   "outputs": [],
   "source": [
    "import torch\n",
    "import wandb\n",
    "import torchvision\n",
    "import sklearn.model_selection\n",
    "import torchvision.transforms as transforms\n",
    "\n",
    "from torchvision.datasets.folder import default_loader\n",
    "from torch.utils.data import Dataset\n",
    "\n",
    "from typing import Optional, Callable, Any"
   ]
  },
  {
   "cell_type": "code",
   "execution_count": 25,
   "metadata": {},
   "outputs": [
    {
     "name": "stdout",
     "output_type": "stream",
     "text": [
      "Strata ratios: strata_id\n",
      "0    0.443887\n",
      "1    0.408121\n",
      "2    0.139359\n",
      "3    0.008633\n",
      "Name: proportion, dtype: float64\n"
     ]
    },
    {
     "data": {
      "text/html": [
       "<div>\n",
       "<style scoped>\n",
       "    .dataframe tbody tr th:only-of-type {\n",
       "        vertical-align: middle;\n",
       "    }\n",
       "\n",
       "    .dataframe tbody tr th {\n",
       "        vertical-align: top;\n",
       "    }\n",
       "\n",
       "    .dataframe thead th {\n",
       "        text-align: right;\n",
       "    }\n",
       "</style>\n",
       "<table border=\"1\" class=\"dataframe\">\n",
       "  <thead>\n",
       "    <tr style=\"text-align: right;\">\n",
       "      <th></th>\n",
       "      <th>image_id</th>\n",
       "      <th>5_o_Clock_Shadow</th>\n",
       "      <th>Arched_Eyebrows</th>\n",
       "      <th>Attractive</th>\n",
       "      <th>Bags_Under_Eyes</th>\n",
       "      <th>Bald</th>\n",
       "      <th>Bangs</th>\n",
       "      <th>Big_Lips</th>\n",
       "      <th>Big_Nose</th>\n",
       "      <th>Black_Hair</th>\n",
       "      <th>...</th>\n",
       "      <th>Smiling</th>\n",
       "      <th>Straight_Hair</th>\n",
       "      <th>Wavy_Hair</th>\n",
       "      <th>Wearing_Earrings</th>\n",
       "      <th>Wearing_Hat</th>\n",
       "      <th>Wearing_Lipstick</th>\n",
       "      <th>Wearing_Necklace</th>\n",
       "      <th>Wearing_Necktie</th>\n",
       "      <th>Young</th>\n",
       "      <th>strata_id</th>\n",
       "    </tr>\n",
       "  </thead>\n",
       "  <tbody>\n",
       "    <tr>\n",
       "      <th>0</th>\n",
       "      <td>000001.jpg</td>\n",
       "      <td>0</td>\n",
       "      <td>1</td>\n",
       "      <td>1</td>\n",
       "      <td>0</td>\n",
       "      <td>0</td>\n",
       "      <td>0</td>\n",
       "      <td>0</td>\n",
       "      <td>0</td>\n",
       "      <td>0</td>\n",
       "      <td>...</td>\n",
       "      <td>1</td>\n",
       "      <td>1</td>\n",
       "      <td>0</td>\n",
       "      <td>1</td>\n",
       "      <td>0</td>\n",
       "      <td>1</td>\n",
       "      <td>0</td>\n",
       "      <td>0</td>\n",
       "      <td>1</td>\n",
       "      <td>0</td>\n",
       "    </tr>\n",
       "    <tr>\n",
       "      <th>1</th>\n",
       "      <td>000002.jpg</td>\n",
       "      <td>0</td>\n",
       "      <td>0</td>\n",
       "      <td>0</td>\n",
       "      <td>1</td>\n",
       "      <td>0</td>\n",
       "      <td>0</td>\n",
       "      <td>0</td>\n",
       "      <td>1</td>\n",
       "      <td>0</td>\n",
       "      <td>...</td>\n",
       "      <td>1</td>\n",
       "      <td>0</td>\n",
       "      <td>0</td>\n",
       "      <td>0</td>\n",
       "      <td>0</td>\n",
       "      <td>0</td>\n",
       "      <td>0</td>\n",
       "      <td>0</td>\n",
       "      <td>1</td>\n",
       "      <td>0</td>\n",
       "    </tr>\n",
       "    <tr>\n",
       "      <th>2</th>\n",
       "      <td>000003.jpg</td>\n",
       "      <td>0</td>\n",
       "      <td>0</td>\n",
       "      <td>0</td>\n",
       "      <td>0</td>\n",
       "      <td>0</td>\n",
       "      <td>0</td>\n",
       "      <td>1</td>\n",
       "      <td>0</td>\n",
       "      <td>0</td>\n",
       "      <td>...</td>\n",
       "      <td>0</td>\n",
       "      <td>0</td>\n",
       "      <td>1</td>\n",
       "      <td>0</td>\n",
       "      <td>0</td>\n",
       "      <td>0</td>\n",
       "      <td>0</td>\n",
       "      <td>0</td>\n",
       "      <td>1</td>\n",
       "      <td>1</td>\n",
       "    </tr>\n",
       "    <tr>\n",
       "      <th>3</th>\n",
       "      <td>000004.jpg</td>\n",
       "      <td>0</td>\n",
       "      <td>0</td>\n",
       "      <td>1</td>\n",
       "      <td>0</td>\n",
       "      <td>0</td>\n",
       "      <td>0</td>\n",
       "      <td>0</td>\n",
       "      <td>0</td>\n",
       "      <td>0</td>\n",
       "      <td>...</td>\n",
       "      <td>0</td>\n",
       "      <td>1</td>\n",
       "      <td>0</td>\n",
       "      <td>1</td>\n",
       "      <td>0</td>\n",
       "      <td>1</td>\n",
       "      <td>1</td>\n",
       "      <td>0</td>\n",
       "      <td>1</td>\n",
       "      <td>0</td>\n",
       "    </tr>\n",
       "    <tr>\n",
       "      <th>4</th>\n",
       "      <td>000005.jpg</td>\n",
       "      <td>0</td>\n",
       "      <td>1</td>\n",
       "      <td>1</td>\n",
       "      <td>0</td>\n",
       "      <td>0</td>\n",
       "      <td>0</td>\n",
       "      <td>1</td>\n",
       "      <td>0</td>\n",
       "      <td>0</td>\n",
       "      <td>...</td>\n",
       "      <td>0</td>\n",
       "      <td>0</td>\n",
       "      <td>0</td>\n",
       "      <td>0</td>\n",
       "      <td>0</td>\n",
       "      <td>1</td>\n",
       "      <td>0</td>\n",
       "      <td>0</td>\n",
       "      <td>1</td>\n",
       "      <td>0</td>\n",
       "    </tr>\n",
       "  </tbody>\n",
       "</table>\n",
       "<p>5 rows × 42 columns</p>\n",
       "</div>"
      ],
      "text/plain": [
       "     image_id  5_o_Clock_Shadow  Arched_Eyebrows  Attractive  Bags_Under_Eyes  \\\n",
       "0  000001.jpg                 0                1           1                0   \n",
       "1  000002.jpg                 0                0           0                1   \n",
       "2  000003.jpg                 0                0           0                0   \n",
       "3  000004.jpg                 0                0           1                0   \n",
       "4  000005.jpg                 0                1           1                0   \n",
       "\n",
       "   Bald  Bangs  Big_Lips  Big_Nose  Black_Hair  ...  Smiling  Straight_Hair  \\\n",
       "0     0      0         0         0           0  ...        1              1   \n",
       "1     0      0         0         1           0  ...        1              0   \n",
       "2     0      0         1         0           0  ...        0              0   \n",
       "3     0      0         0         0           0  ...        0              1   \n",
       "4     0      0         1         0           0  ...        0              0   \n",
       "\n",
       "   Wavy_Hair  Wearing_Earrings  Wearing_Hat  Wearing_Lipstick  \\\n",
       "0          0                 1            0                 1   \n",
       "1          0                 0            0                 0   \n",
       "2          1                 0            0                 0   \n",
       "3          0                 1            0                 1   \n",
       "4          0                 0            0                 1   \n",
       "\n",
       "   Wearing_Necklace  Wearing_Necktie  Young  strata_id  \n",
       "0                 0                0      1          0  \n",
       "1                 0                0      1          0  \n",
       "2                 0                0      1          1  \n",
       "3                 1                0      1          0  \n",
       "4                 0                0      1          0  \n",
       "\n",
       "[5 rows x 42 columns]"
      ]
     },
     "execution_count": 25,
     "metadata": {},
     "output_type": "execute_result"
    }
   ],
   "source": [
    "celeba_df = pd.read_csv(os.path.join(celeba_path, \"list_attr_celeba.csv\"))\n",
    "for column in celeba_df.columns:\n",
    "    if set(celeba_df[column].unique()) == {1, -1}:\n",
    "        celeba_df[column] = celeba_df[column].replace(-1, 0)\n",
    "celeba_sensitive_col = \"Male\"\n",
    "celeba_outcome_col = \"Blond_Hair\"\n",
    "celeba_strata_idx = 2 * celeba_df[celeba_outcome_col] + celeba_df[celeba_sensitive_col]\n",
    "celeba_df[\"strata_id\"] = celeba_strata_idx\n",
    "print(\"Strata ratios:\", celeba_df[\"strata_id\"].value_counts(normalize=True))\n",
    "celeba_df.head()"
   ]
  },
  {
   "cell_type": "code",
   "execution_count": 26,
   "metadata": {},
   "outputs": [
    {
     "name": "stdout",
     "output_type": "stream",
     "text": [
      "Train strata ratios: strata_id\n",
      "0    0.443882\n",
      "1    0.408118\n",
      "2    0.139365\n",
      "3    0.008635\n",
      "Name: proportion, dtype: float64\n",
      "Validation strata ratios: strata_id\n",
      "0    0.443867\n",
      "1    0.408133\n",
      "2    0.139333\n",
      "3    0.008667\n",
      "Name: proportion, dtype: float64\n",
      "Test strata ratios: strata_id\n",
      "0    0.443933\n",
      "1    0.408133\n",
      "2    0.139333\n",
      "3    0.008600\n",
      "Name: proportion, dtype: float64\n",
      "Train, validation, test shapes: (85000, 42) (15000, 42) (15000, 42)\n"
     ]
    }
   ],
   "source": [
    "\n",
    "\n",
    "train_size = 85000\n",
    "test_size = 15000\n",
    "val_size = 15000\n",
    "\n",
    "celeba_train_df, celeba_testval_df = sklearn.model_selection.train_test_split(\n",
    "    celeba_df, test_size=test_size+val_size, train_size=train_size, stratify=celeba_df[\"strata_id\"], random_state=42\n",
    ")\n",
    "celeba_val_df, celeba_test_df = sklearn.model_selection.train_test_split(\n",
    "    celeba_testval_df, test_size=test_size, train_size=val_size, stratify=celeba_testval_df[\"strata_id\"], random_state=42\n",
    ")\n",
    "\n",
    "print(\"Train strata ratios:\", celeba_train_df[\"strata_id\"].value_counts(normalize=True))\n",
    "print(\"Validation strata ratios:\", celeba_val_df[\"strata_id\"].value_counts(normalize=True))\n",
    "print(\"Test strata ratios:\", celeba_test_df[\"strata_id\"].value_counts(normalize=True))\n",
    "print(\"Train, validation, test shapes:\", celeba_train_df.shape, celeba_val_df.shape, celeba_test_df.shape)"
   ]
  },
  {
   "cell_type": "code",
   "execution_count": 27,
   "metadata": {},
   "outputs": [],
   "source": [
    "class CelebAImageDataset(Dataset):\n",
    "    \"\"\"\n",
    "    A custom Dataset class for loading images and their attributes from the CelebA dataset.\n",
    "    Args:\n",
    "        attr_df (pd.DataFrame): DataFrame containing image attributes and metadata.\n",
    "        image_folder_path (str): Path to the folder containing the images.\n",
    "        target_column (str): The column name in attr_df that contains the target labels.\n",
    "        additional_attributes_to_provide (Optional[List[str] | str], optional): Additional attributes to provide along with the image and target. Defaults to None.\n",
    "        transform (Optional[Callable], optional): A function/transform to apply to the images. Defaults to None.\n",
    "        target_transform (Optional[Callable], optional): A function/transform to apply to the target labels. Defaults to None.\n",
    "        additional_attributes_transform (Optional[Callable], optional): A function/transform to apply to the additional attributes. Defaults to None.\n",
    "        loader (Callable[[str], Any], optional): A function to load an image given its path. Defaults to default_loader.\n",
    "        enable_caching (bool, optional): Whether to cache the loaded samples. Defaults to False.\n",
    "    Raises:\n",
    "        ValueError: If the target column or additional attributes are not found in the DataFrame.\n",
    "    Methods:\n",
    "        __len__(): Returns the number of samples in the dataset.\n",
    "        __getitem__(idx: int): Returns a tuple containing the image, target, and optionally additional attributes for the given index.\n",
    "    \"\"\"\n",
    "    def __init__(self, \n",
    "                 attr_df, \n",
    "                 image_folder_path,\n",
    "                 target_column, \n",
    "                 additional_attributes_to_provide: Optional[List[str] | str] = None,\n",
    "                 transform: Optional[Callable] = None,\n",
    "                 target_transform: Optional[Callable] = None,\n",
    "                 additional_attributes_transform: Optional[Callable] = None,\n",
    "                 loader: Callable[[str], Any] = default_loader,\n",
    "                 enable_caching: bool = False):\n",
    "        if target_column not in attr_df.columns:\n",
    "            raise ValueError(f\"Target column '{target_column}' not found in the DataFrame.\")\n",
    "        if additional_attributes_to_provide is not None:\n",
    "            to_check_attributes = additional_attributes_to_provide\n",
    "            if isinstance(additional_attributes_to_provide, str):\n",
    "                to_check_attributes = [additional_attributes_to_provide]\n",
    "            for attr in to_check_attributes:\n",
    "                if attr not in attr_df.columns:\n",
    "                    raise ValueError(f\"Attribute '{attr}' not found in the DataFrame.\")\n",
    "        self.attr_df = attr_df\n",
    "        self.image_folder_path = image_folder_path\n",
    "        self.target_column = target_column\n",
    "        self.additional_attributes_to_provide = additional_attributes_to_provide\n",
    "        self.transform = transform\n",
    "        self.target_transform = target_transform\n",
    "        self.additional_attributes_transform = additional_attributes_transform\n",
    "        self.loader = loader\n",
    "        self.enable_caching = enable_caching\n",
    "        self.__cache = {}\n",
    "        \n",
    "    def __len__(self) -> int:\n",
    "        return len(self.attr_df)\n",
    "    \n",
    "    def __getitem__(self, idx: int):\n",
    "        # Cache Lookup if enabled\n",
    "        if self.enable_caching and idx in self.__cache:\n",
    "            return self.__cache[idx]\n",
    "        # Sample Loading\n",
    "        entry = self.attr_df.iloc[idx]\n",
    "        img_path = os.path.join(self.image_folder_path, entry[\"image_id\"])\n",
    "        img = self.loader(img_path)\n",
    "        if self.transform is not None:\n",
    "            img = self.transform(img)\n",
    "        target = entry[self.target_column]\n",
    "        if self.target_transform is not None:\n",
    "            target = self.target_transform(target)\n",
    "        # Preparing the result tuple\n",
    "        if self.additional_attributes_to_provide is not None:\n",
    "            additional_attributes = entry[self.additional_attributes_to_provide]\n",
    "            if self.additional_attributes_transform is not None:\n",
    "                additional_attributes = self.additional_attributes_transform(additional_attributes)\n",
    "            if isinstance(additional_attributes, pd.Series):\n",
    "                additional_attributes = additional_attributes.to_dict()\n",
    "            result = (img, target, additional_attributes)\n",
    "        else:\n",
    "            result = (img, target)\n",
    "        # Caching the result if enabled\n",
    "        if self.enable_caching:\n",
    "            self.__cache[idx] = result\n",
    "        return result"
   ]
  },
  {
   "cell_type": "code",
   "execution_count": 28,
   "metadata": {},
   "outputs": [],
   "source": [
    "def make_resnet18(num_classes: int, freeze_embeddings: bool = True, \n",
    "                  pretrained: bool = True) -> Tuple[torch.nn.Module, Callable]:\n",
    "    \"\"\"\n",
    "    Creates a ResNet-18 model with the specified number of output classes and an input transformation pipeline.\n",
    "\n",
    "    Args:\n",
    "        num_classes (int): The number of output classes for the final fully connected layer.\n",
    "        freeze_embeddings (bool, optional): If True, freezes the parameters of the model except for the final fully connected layer. Defaults to True.\n",
    "        pretrained (bool, optional): If True, loads the model with pretrained weights on ImageNet. Defaults to True.\n",
    "\n",
    "    Returns:\n",
    "        Tuple[torch.nn.Module, Callable]: A tuple containing the ResNet-18 model and the input transformation pipeline.\n",
    "    \"\"\"\n",
    "    # Create model\n",
    "    weights = torchvision.models.ResNet18_Weights.IMAGENET1K_V1 if pretrained else None\n",
    "    model = torchvision.models.resnet18(weights=weights)\n",
    "    for p in model.parameters():\n",
    "        p.requires_grad = not freeze_embeddings\n",
    "    model.fc = torch.nn.Linear(model.fc.in_features, num_classes)\n",
    "    # Prepare input transform\n",
    "    normalize = transforms.Normalize(mean=[0.485, 0.456, 0.406],\n",
    "                                     std=[0.229, 0.224, 0.225])\n",
    "    input_transform = transforms.Compose([\n",
    "        transforms.Resize(256),\n",
    "        transforms.CenterCrop(224),\n",
    "        transforms.ToTensor(),\n",
    "        normalize,\n",
    "    ])\n",
    "    return model, input_transform\n",
    "\n"
   ]
  },
  {
   "cell_type": "code",
   "execution_count": 29,
   "metadata": {},
   "outputs": [],
   "source": [
    "def optimal_device() -> torch.device:\n",
    "    \"\"\"\n",
    "    Determines the optimal device for PyTorch operations.\n",
    "\n",
    "    Returns:\n",
    "        torch.device: The optimal device for computation. It returns a CUDA device if available,\n",
    "                      otherwise it checks for an MPS (Metal Performance Shaders) device, and if neither\n",
    "                      are available, it defaults to the CPU.\n",
    "    \"\"\"\n",
    "    if torch.cuda.is_available():\n",
    "        return torch.device(\"cuda\")\n",
    "    elif torch.backends.mps.is_available():\n",
    "        return torch.device(\"mps\")\n",
    "    else:\n",
    "        return torch.device(\"cpu\")"
   ]
  },
  {
   "cell_type": "code",
   "execution_count": 35,
   "metadata": {},
   "outputs": [
    {
     "data": {
      "text/html": [
       "Tracking run with wandb version 0.18.5"
      ],
      "text/plain": [
       "<IPython.core.display.HTML object>"
      ]
     },
     "metadata": {},
     "output_type": "display_data"
    },
    {
     "data": {
      "text/html": [
       "Run data is saved locally in <code>/mnt/nfs/home/vujasino/jupyter_workspace/Audits/merlin/notebooks/wandb/run-20241106_152223-ep9yz8do</code>"
      ],
      "text/plain": [
       "<IPython.core.display.HTML object>"
      ]
     },
     "metadata": {},
     "output_type": "display_data"
    },
    {
     "data": {
      "text/html": [
       "Syncing run <strong><a href='https://wandb.ai/mvujas-epfl/Audits%20CelebA%20ResNet18/runs/ep9yz8do' target=\"_blank\">glad-frog-1</a></strong> to <a href='https://wandb.ai/mvujas-epfl/Audits%20CelebA%20ResNet18' target=\"_blank\">Weights & Biases</a> (<a href='https://wandb.me/run' target=\"_blank\">docs</a>)<br/>"
      ],
      "text/plain": [
       "<IPython.core.display.HTML object>"
      ]
     },
     "metadata": {},
     "output_type": "display_data"
    },
    {
     "data": {
      "text/html": [
       " View project at <a href='https://wandb.ai/mvujas-epfl/Audits%20CelebA%20ResNet18' target=\"_blank\">https://wandb.ai/mvujas-epfl/Audits%20CelebA%20ResNet18</a>"
      ],
      "text/plain": [
       "<IPython.core.display.HTML object>"
      ]
     },
     "metadata": {},
     "output_type": "display_data"
    },
    {
     "data": {
      "text/html": [
       " View run at <a href='https://wandb.ai/mvujas-epfl/Audits%20CelebA%20ResNet18/runs/ep9yz8do' target=\"_blank\">https://wandb.ai/mvujas-epfl/Audits%20CelebA%20ResNet18/runs/ep9yz8do</a>"
      ],
      "text/plain": [
       "<IPython.core.display.HTML object>"
      ]
     },
     "metadata": {},
     "output_type": "display_data"
    },
    {
     "data": {
      "text/html": [
       "<button onClick=\"this.nextSibling.style.display='block';this.style.display='none';\">Display W&B run</button><iframe src='https://wandb.ai/mvujas-epfl/Audits%20CelebA%20ResNet18/runs/ep9yz8do?jupyter=true' style='border:none;width:100%;height:420px;display:none;'></iframe>"
      ],
      "text/plain": [
       "<wandb.sdk.wandb_run.Run at 0x702be49b8fe0>"
      ]
     },
     "execution_count": 35,
     "metadata": {},
     "output_type": "execute_result"
    }
   ],
   "source": [
    "wandb.init(project=\"Audits CelebA ResNet18\", config={\n",
    "    \"pretrained\": True,\n",
    "    \"freeze_embeddings\": False,\n",
    "    \"num_classes\": len(celeba_df[celeba_sensitive_col].unique()),\n",
    "    \"batch_size\": 1000,\n",
    "    \"learning_rate\": 0.1,\n",
    "    \"momentum\": 0.9,\n",
    "    \"optimizer\": \"SGD\",\n",
    "    \"outcome_col\": \"Blond_Hair\",\n",
    "    \"epochs\": 20\n",
    "})"
   ]
  },
  {
   "cell_type": "code",
   "execution_count": 36,
   "metadata": {},
   "outputs": [],
   "source": [
    "IMAGE_DIR = os.path.join(celeba_path, \"img_align_celeba\", \"img_align_celeba\")\n",
    "\n",
    "FREEZE_EMBEDDINGS = False\n",
    "model, image_pre_transform = make_resnet18(\n",
    "    num_classes=wandb.config[\"num_classes\"], \n",
    "    freeze_embeddings=wandb.config[\"freeze_embeddings\"], pretrained=wandb.config[\"pretrained\"])\n",
    "\n",
    "train_loader = torch.utils.data.DataLoader(\n",
    "    CelebAImageDataset(celeba_train_df, \n",
    "                        IMAGE_DIR, \n",
    "                        wandb.config[\"outcome_col\"],\n",
    "                        additional_attributes_to_provide=celeba_sensitive_col,\n",
    "                        transform=image_pre_transform,\n",
    "                        enable_caching=True),\n",
    "    batch_size=wandb.config[\"batch_size\"], shuffle=True)\n",
    "\n",
    "validation_loader = torch.utils.data.DataLoader(\n",
    "    CelebAImageDataset(celeba_val_df, \n",
    "                        IMAGE_DIR, \n",
    "                        wandb.config[\"outcome_col\"],\n",
    "                        additional_attributes_to_provide=celeba_sensitive_col,\n",
    "                        transform=image_pre_transform,\n",
    "                        enable_caching=True),\n",
    "    batch_size=wandb.config[\"batch_size\"], shuffle=True)\n",
    "\n",
    "device = optimal_device()"
   ]
  },
  {
   "cell_type": "code",
   "execution_count": 37,
   "metadata": {},
   "outputs": [
    {
     "name": "stderr",
     "output_type": "stream",
     "text": [
      "                                                           \r"
     ]
    },
    {
     "name": "stdout",
     "output_type": "stream",
     "text": [
      "Validation Accuracy: 0.8864666666666666, Validation Loss: 0.2704424947500229\n"
     ]
    },
    {
     "name": "stderr",
     "output_type": "stream",
     "text": [
      "                                                           \r"
     ]
    },
    {
     "name": "stdout",
     "output_type": "stream",
     "text": [
      "Validation Accuracy: 0.8971333333333333, Validation Loss: 0.22592338522275288\n"
     ]
    },
    {
     "name": "stderr",
     "output_type": "stream",
     "text": [
      "                                                           \r"
     ]
    },
    {
     "name": "stdout",
     "output_type": "stream",
     "text": [
      "Validation Accuracy: 0.8642, Validation Loss: 0.6421109875043233\n"
     ]
    },
    {
     "name": "stderr",
     "output_type": "stream",
     "text": [
      "                                                           \r"
     ]
    },
    {
     "name": "stdout",
     "output_type": "stream",
     "text": [
      "Validation Accuracy: 0.8328666666666666, Validation Loss: 0.3633892059326172\n"
     ]
    },
    {
     "name": "stderr",
     "output_type": "stream",
     "text": [
      "                                                           \r"
     ]
    },
    {
     "name": "stdout",
     "output_type": "stream",
     "text": [
      "Validation Accuracy: 0.9174, Validation Loss: 0.18433991968631744\n"
     ]
    },
    {
     "name": "stderr",
     "output_type": "stream",
     "text": [
      "                                                           \r"
     ]
    },
    {
     "name": "stdout",
     "output_type": "stream",
     "text": [
      "Validation Accuracy: 0.9311333333333334, Validation Loss: 0.16323777437210082\n"
     ]
    },
    {
     "name": "stderr",
     "output_type": "stream",
     "text": [
      "                                                           \r"
     ]
    },
    {
     "name": "stdout",
     "output_type": "stream",
     "text": [
      "Validation Accuracy: 0.9336, Validation Loss: 0.15933054784933726\n"
     ]
    },
    {
     "name": "stderr",
     "output_type": "stream",
     "text": [
      "                                                           \r"
     ]
    },
    {
     "name": "stdout",
     "output_type": "stream",
     "text": [
      "Validation Accuracy: 0.9401333333333334, Validation Loss: 0.1450449099143346\n"
     ]
    },
    {
     "name": "stderr",
     "output_type": "stream",
     "text": [
      "                                                           \r"
     ]
    },
    {
     "name": "stdout",
     "output_type": "stream",
     "text": [
      "Validation Accuracy: 0.9391333333333334, Validation Loss: 0.14538666754961013\n"
     ]
    },
    {
     "name": "stderr",
     "output_type": "stream",
     "text": [
      "                                                           \r"
     ]
    },
    {
     "name": "stdout",
     "output_type": "stream",
     "text": [
      "Validation Accuracy: 0.9463333333333334, Validation Loss: 0.13204649140437444\n"
     ]
    },
    {
     "name": "stderr",
     "output_type": "stream",
     "text": [
      "                                                           \r"
     ]
    },
    {
     "name": "stdout",
     "output_type": "stream",
     "text": [
      "Validation Accuracy: 0.9446, Validation Loss: 0.13263610402743023\n"
     ]
    },
    {
     "name": "stderr",
     "output_type": "stream",
     "text": [
      "                                                           \r"
     ]
    },
    {
     "name": "stdout",
     "output_type": "stream",
     "text": [
      "Validation Accuracy: 0.9385333333333333, Validation Loss: 0.15019041200478872\n"
     ]
    },
    {
     "name": "stderr",
     "output_type": "stream",
     "text": [
      "                                                           \r"
     ]
    },
    {
     "name": "stdout",
     "output_type": "stream",
     "text": [
      "Validation Accuracy: 0.9462, Validation Loss: 0.1298342784245809\n"
     ]
    },
    {
     "name": "stderr",
     "output_type": "stream",
     "text": [
      "                                                           \r"
     ]
    },
    {
     "name": "stdout",
     "output_type": "stream",
     "text": [
      "Validation Accuracy: 0.9492, Validation Loss: 0.12501581013202667\n"
     ]
    },
    {
     "name": "stderr",
     "output_type": "stream",
     "text": [
      "                                                           \r"
     ]
    },
    {
     "name": "stdout",
     "output_type": "stream",
     "text": [
      "Validation Accuracy: 0.9432666666666667, Validation Loss: 0.13861495504776636\n"
     ]
    },
    {
     "name": "stderr",
     "output_type": "stream",
     "text": [
      "                                                           \r"
     ]
    },
    {
     "name": "stdout",
     "output_type": "stream",
     "text": [
      "Validation Accuracy: 0.9506, Validation Loss: 0.12507618069648743\n"
     ]
    },
    {
     "name": "stderr",
     "output_type": "stream",
     "text": [
      "                                                           \r"
     ]
    },
    {
     "name": "stdout",
     "output_type": "stream",
     "text": [
      "Validation Accuracy: 0.9492666666666667, Validation Loss: 0.12332254896561305\n"
     ]
    },
    {
     "name": "stderr",
     "output_type": "stream",
     "text": [
      "                                                           \r"
     ]
    },
    {
     "name": "stdout",
     "output_type": "stream",
     "text": [
      "Validation Accuracy: 0.9502, Validation Loss: 0.12380026479562124\n"
     ]
    },
    {
     "name": "stderr",
     "output_type": "stream",
     "text": [
      "                                                           \r"
     ]
    },
    {
     "name": "stdout",
     "output_type": "stream",
     "text": [
      "Validation Accuracy: 0.9486666666666667, Validation Loss: 0.12898386269807816\n"
     ]
    },
    {
     "name": "stderr",
     "output_type": "stream",
     "text": [
      "                                                           \r"
     ]
    },
    {
     "name": "stdout",
     "output_type": "stream",
     "text": [
      "Validation Accuracy: 0.9507333333333333, Validation Loss: 0.12288892368475596\n"
     ]
    },
    {
     "data": {
      "text/html": [
       "<style>\n",
       "    table.wandb td:nth-child(1) { padding: 0 10px; text-align: left ; width: auto;} td:nth-child(2) {text-align: left ; width: 100%}\n",
       "    .wandb-row { display: flex; flex-direction: row; flex-wrap: wrap; justify-content: flex-start; width: 100% }\n",
       "    .wandb-col { display: flex; flex-direction: column; flex-basis: 100%; flex: 1; padding: 10px; }\n",
       "    </style>\n",
       "<div class=\"wandb-row\"><div class=\"wandb-col\"><h3>Run history:</h3><br/><table class=\"wandb\"><tr><td>Training Loss</td><td>█▄▂▂▂▂▂▂▂▂▂▂▂▂▂▁▁▁▁▁▁▁▁▁▁▁▁▁▁▁▁▁▁▁▁▁▁▁▁▁</td></tr><tr><td>Validation Accuracy</td><td>▄▅▃▁▆▇▇▇▇██▇████████</td></tr><tr><td>Validation Loss</td><td>▃▂█▄▂▂▁▁▁▁▁▁▁▁▁▁▁▁▁▁</td></tr></table><br/></div><div class=\"wandb-col\"><h3>Run summary:</h3><br/><table class=\"wandb\"><tr><td>Training Loss</td><td>0.10945</td></tr><tr><td>Validation Accuracy</td><td>0.95073</td></tr><tr><td>Validation Loss</td><td>0.12289</td></tr></table><br/></div></div>"
      ],
      "text/plain": [
       "<IPython.core.display.HTML object>"
      ]
     },
     "metadata": {},
     "output_type": "display_data"
    },
    {
     "data": {
      "text/html": [
       " View run <strong style=\"color:#cdcd00\">glad-frog-1</strong> at: <a href='https://wandb.ai/mvujas-epfl/Audits%20CelebA%20ResNet18/runs/ep9yz8do' target=\"_blank\">https://wandb.ai/mvujas-epfl/Audits%20CelebA%20ResNet18/runs/ep9yz8do</a><br/> View project at: <a href='https://wandb.ai/mvujas-epfl/Audits%20CelebA%20ResNet18' target=\"_blank\">https://wandb.ai/mvujas-epfl/Audits%20CelebA%20ResNet18</a><br/>Synced 4 W&B file(s), 0 media file(s), 3 artifact file(s) and 0 other file(s)"
      ],
      "text/plain": [
       "<IPython.core.display.HTML object>"
      ]
     },
     "metadata": {},
     "output_type": "display_data"
    },
    {
     "data": {
      "text/html": [
       "Find logs at: <code>./wandb/run-20241106_152223-ep9yz8do/logs</code>"
      ],
      "text/plain": [
       "<IPython.core.display.HTML object>"
      ]
     },
     "metadata": {},
     "output_type": "display_data"
    }
   ],
   "source": [
    "from tqdm import tqdm\n",
    "\n",
    "model = model.to(device)\n",
    "match wandb.config[\"optimizer\"].lower():\n",
    "    case \"adam\":\n",
    "        if \"momentum\" in wandb.config:\n",
    "            raise ValueError(\"Momentum should not be specified for the Adam optimizer.\")\n",
    "        optimizer = torch.optim.Adam(model.parameters(), lr=wandb.config[\"learning_rate\"])\n",
    "    case \"sgd\":\n",
    "        optimizer = torch.optim.SGD(model.parameters(), lr=wandb.config[\"learning_rate\"], momentum=wandb.config[\"momentum\"])\n",
    "    case _:\n",
    "        raise ValueError(\"Invalid optimizer specified in the configuration.\")\n",
    "criterion = torch.nn.CrossEntropyLoss()\n",
    "\n",
    "\n",
    "def eval_accuracy(model, eval_loader, criterion):\n",
    "    correct, total = 0, 0\n",
    "    eval_loss = 0\n",
    "    model.eval()\n",
    "    with torch.no_grad():\n",
    "        for x, y, _ in tqdm(eval_loader, desc=\"Evaluating\", leave=False):\n",
    "            x = x.to(device)\n",
    "            y = y.to(device)\n",
    "            pred = model(x.to(device)).argmax(dim=1)\n",
    "            correct += (pred == y.to(device)).sum().item()\n",
    "            total += y.size(0)\n",
    "            \n",
    "            loss = criterion(model(x), y).item()\n",
    "            eval_loss += loss * x.size(0)\n",
    "    eval_loss = eval_loss / total\n",
    "    accuracy = correct / total\n",
    "    return accuracy, eval_loss\n",
    "\n",
    "def train_model(model, optimizer, criterion, train_loader, validation_loader, num_epochs=10):\n",
    "    for epoch in range(num_epochs):\n",
    "        model.train()\n",
    "        for x, y, _ in tqdm(train_loader, desc=f\"Epoch {epoch+1}\", leave=False):    \n",
    "            x = x.to(device)\n",
    "            y = y.to(device)\n",
    "            optimizer.zero_grad()\n",
    "            out = model(x)\n",
    "            loss = criterion(out, y)\n",
    "            loss.backward()\n",
    "            optimizer.step()\n",
    "            wandb.log({\"Training Loss\": loss.item()})\n",
    "        val_acc, val_loss = eval_accuracy(model, validation_loader, criterion)\n",
    "        wandb.log({\"Validation Accuracy\": val_acc, \"Validation Loss\": val_loss})\n",
    "        print(f\"Epoch {epoch}: Validation Accuracy: {val_acc}, Validation Loss: {val_loss}\")\n",
    "\n",
    "train_model(model, optimizer, criterion, train_loader, validation_loader, num_epochs=wandb.config[\"epochs\"])\n",
    "\n",
    "torch.save(model.state_dict(), f\"../data/models/celeba_resnet18_freezing={wandb.config[\"freeze_embeddings\"]}_outcomecol={wandb.config[\"outcome_col\"]}.pth\")\n",
    "wandb.finish()"
   ]
  },
  {
   "cell_type": "markdown",
   "metadata": {},
   "source": [
    "### Analyzing the resulting model"
   ]
  },
  {
   "cell_type": "code",
   "execution_count": 38,
   "metadata": {},
   "outputs": [],
   "source": [
    "test_loader = torch.utils.data.DataLoader(\n",
    "    CelebAImageDataset(celeba_test_df, \n",
    "                        IMAGE_DIR, \n",
    "                        \"Blond_Hair\",\n",
    "                        additional_attributes_to_provide=celeba_sensitive_col,\n",
    "                        transform=image_pre_transform,\n",
    "                        enable_caching=True),\n",
    "    batch_size=1000)"
   ]
  },
  {
   "cell_type": "code",
   "execution_count": 41,
   "metadata": {},
   "outputs": [
    {
     "name": "stderr",
     "output_type": "stream",
     "text": [
      "Collecting predictions: 100%|██████████| 15/15 [00:05<00:00,  2.94it/s]\n"
     ]
    }
   ],
   "source": [
    "test_predictions = {\n",
    "    \"true\": [],\n",
    "    \"predicted\": [],\n",
    "    \"sensitive\": []\n",
    "}\n",
    "for x, y, sensitive_feature in tqdm(test_loader, desc=\"Collecting predictions\"):\n",
    "    x = x.to(device)\n",
    "    y = y.to(device)\n",
    "    pred = model(x).argmax(dim=1)\n",
    "    test_predictions[\"true\"].append(y.cpu().numpy())\n",
    "    test_predictions[\"predicted\"].append(pred.cpu().numpy())\n",
    "    test_predictions[\"sensitive\"].append(sensitive_feature.numpy())\n",
    "for key in test_predictions:\n",
    "    test_predictions[key] = np.concatenate(test_predictions[key])"
   ]
  },
  {
   "cell_type": "code",
   "execution_count": 54,
   "metadata": {},
   "outputs": [
    {
     "name": "stdout",
     "output_type": "stream",
     "text": [
      "Test Accuracy: 94.93%\n",
      "Test Accuracy on Women: 92.89%\n",
      "Test Accuracy on Men: 97.79%\n"
     ]
    }
   ],
   "source": [
    "print(\"Test Accuracy: {:.2%}\".format((test_predictions[\"true\"] == test_predictions[\"predicted\"]).mean()))\n",
    "\n",
    "for sensitive_val in np.unique(test_predictions[\"sensitive\"]):\n",
    "    sensitive_col_name = [\"Women\", \"Men\"][sensitive_val]\n",
    "    senstitivity_mask = test_predictions[\"sensitive\"] == sensitive_val\n",
    "    \n",
    "    senstiive_col_predictions = {\n",
    "        key: test_predictions[key][senstitivity_mask]\n",
    "        for key in test_predictions\n",
    "    }\n",
    "    print(\"Test Accuracy on {}: {:.2%}\".format(sensitive_col_name, (senstiive_col_predictions[\"true\"] == senstiive_col_predictions[\"predicted\"]).mean()))"
   ]
  },
  {
   "cell_type": "code",
   "execution_count": 69,
   "metadata": {},
   "outputs": [
    {
     "name": "stdout",
     "output_type": "stream",
     "text": [
      "P(Blond Hair) = 14.79%\n",
      "P_model(Blond Hair) = 14.38%\n",
      "\n",
      "\n",
      "P(Blond Hair | Woman) = 23.89%\n",
      "P_model(Blond Hair | Woman) = 23.50%\n",
      "Difference: 0.39%\n",
      "\n",
      "P(Blond Hair | Man) = 2.06%\n",
      "P_model(Blond Hair | Man) = 1.62%\n",
      "Difference: 0.45%\n"
     ]
    }
   ],
   "source": [
    "outcome_val = 1\n",
    "outcome_name = [\"Dark Hair\", \"Blond Hair\"][outcome_val]\n",
    "print(\"P({}) = {:.2%}\".format(outcome_name, (test_predictions[\"true\"] == outcome_val).mean()))\n",
    "print(\"P_model({}) = {:.2%}\".format(outcome_name, (test_predictions[\"predicted\"] == outcome_val).mean()))\n",
    "\n",
    "print()\n",
    "\n",
    "for sensitive_val in np.unique(test_predictions[\"sensitive\"]):\n",
    "    sensitive_col_name = [\"Woman\", \"Man\"][sensitive_val]\n",
    "    senstitivity_mask = test_predictions[\"sensitive\"] == sensitive_val\n",
    "    \n",
    "    senstiive_col_predictions = {\n",
    "        key: test_predictions[key][senstitivity_mask]\n",
    "        for key in test_predictions\n",
    "    }\n",
    "    gt_prob = (senstiive_col_predictions[\"true\"] == outcome_val).mean()\n",
    "    pred_prob = (senstiive_col_predictions[\"predicted\"] == outcome_val).mean()\n",
    "    print()\n",
    "    print(\"P({} | {}) = {:.2%}\".format(outcome_name, sensitive_col_name, gt_prob))\n",
    "    print(\"P_model({} | {}) = {:.2%}\".format(outcome_name, sensitive_col_name, pred_prob))\n",
    "    print(\"Difference: {:.2%}\".format(gt_prob - pred_prob))\n",
    "    "
   ]
  },
  {
   "cell_type": "code",
   "execution_count": null,
   "metadata": {},
   "outputs": [],
   "source": []
  }
 ],
 "metadata": {
  "kernelspec": {
   "display_name": "default",
   "language": "python",
   "name": "python3"
  },
  "language_info": {
   "codemirror_mode": {
    "name": "ipython",
    "version": 3
   },
   "file_extension": ".py",
   "mimetype": "text/x-python",
   "name": "python",
   "nbconvert_exporter": "python",
   "pygments_lexer": "ipython3",
   "version": "3.12.6"
  }
 },
 "nbformat": 4,
 "nbformat_minor": 2
}
